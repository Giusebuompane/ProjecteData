{
 "cells": [
  {
   "cell_type": "markdown",
   "metadata": {},
   "source": [
    "# Importación librerías"
   ]
  },
  {
   "cell_type": "code",
   "execution_count": 2,
   "metadata": {},
   "outputs": [],
   "source": [
    "import mysql.connector\n",
    "import pandas as pd\n",
    "import matplotlib.pyplot as plt\n",
    "import numpy as np\n",
    "import seaborn as sns"
   ]
  },
  {
   "cell_type": "markdown",
   "metadata": {},
   "source": [
    "# Conexión MySQL"
   ]
  },
  {
   "cell_type": "code",
   "execution_count": 3,
   "metadata": {},
   "outputs": [
    {
     "name": "stdout",
     "output_type": "stream",
     "text": [
      "Se conectó a la base de datos \"Equip_E\" en MySQL\n",
      "Tablas encontradas: ['Tourist_Accommodation', 'Tourist_Accommodation10032025'].\n"
     ]
    },
    {
     "name": "stderr",
     "output_type": "stream",
     "text": [
      "C:\\Users\\crist\\AppData\\Local\\Temp\\ipykernel_1848\\2366138512.py:24: UserWarning: pandas only supports SQLAlchemy connectable (engine/connection) or database string URI or sqlite3 DBAPI2 connection. Other DBAPI2 objects are not tested. Please consider using SQLAlchemy.\n",
      "  db[table] = pd.read_sql(query, con = cnx)\n"
     ]
    },
    {
     "name": "stdout",
     "output_type": "stream",
     "text": [
      "Conexión a MySQL cerrada.\n",
      "Se creó el dataframe \"Tourist_Accommodation\"\n",
      "Se creó el dataframe \"Tourist_Accommodation10032025\"\n"
     ]
    }
   ],
   "source": [
    "def get_database(host, user, password, database):\n",
    "    try:\n",
    "        cnx = mysql.connector.connect(\n",
    "            host = host,\n",
    "            user = user,\n",
    "            password = password,\n",
    "            database = database\n",
    "        )\n",
    "\n",
    "        if cnx.is_connected():\n",
    "            print(f'Se conectó a la base de datos \"{database}\" en MySQL')\n",
    "\n",
    "        cursor = cnx.cursor()\n",
    "        cursor.execute('SHOW TABLES;')\n",
    "        tables = cursor.fetchall()\n",
    "        table_names = [table[0] for table in tables]\n",
    "\n",
    "        print(f'Tablas encontradas: {table_names}.')\n",
    "\n",
    "        db = {}\n",
    "\n",
    "        for table in table_names:\n",
    "            query = f'SELECT * FROM {table};'\n",
    "            db[table] = pd.read_sql(query, con = cnx) \n",
    "        return db\n",
    "\n",
    "    except mysql.connector.Error as error:\n",
    "        print(f'Error: {error}')\n",
    "        return None\n",
    "\n",
    "    finally:\n",
    "        if cnx.is_connected():\n",
    "            cnx.close()\n",
    "            print('Conexión a MySQL cerrada.')\n",
    "\n",
    "\n",
    "def rename_dfs():\n",
    "    for table, df in db.items():\n",
    "        globals()[table] = df\n",
    "        print(f'Se creó el dataframe \"{table}\"')\n",
    "\n",
    "if __name__ == '__main__':\n",
    "    host = '212.227.90.6'\n",
    "    user = 'EquipoE'\n",
    "    password = 'E1q2u3i4p5oE'\n",
    "    database = 'Equip_E'\n",
    "\n",
    "    db = get_database(host, user, password, database)\n",
    "    rename_dfs()"
   ]
  },
  {
   "cell_type": "markdown",
   "metadata": {},
   "source": [
    "# Desafío\n",
    "Analista de Marketing y Estrategia Comercial: Qué características de los alojamientos\n",
    "(comodidades, capacidad y puntuación de la zona) están más relacionadas con los precios en cada\n",
    "ciudad?"
   ]
  },
  {
   "cell_type": "markdown",
   "metadata": {},
   "source": [
    "Cristina"
   ]
  },
  {
   "cell_type": "markdown",
   "metadata": {},
   "source": [
    "Sara"
   ]
  },
  {
   "cell_type": "markdown",
   "metadata": {},
   "source": []
  }
 ],
 "metadata": {
  "kernelspec": {
   "display_name": "Python 3",
   "language": "python",
   "name": "python3"
  },
  "language_info": {
   "codemirror_mode": {
    "name": "ipython",
    "version": 3
   },
   "file_extension": ".py",
   "mimetype": "text/x-python",
   "name": "python",
   "nbconvert_exporter": "python",
   "pygments_lexer": "ipython3",
   "version": "3.13.0"
  }
 },
 "nbformat": 4,
 "nbformat_minor": 2
}
