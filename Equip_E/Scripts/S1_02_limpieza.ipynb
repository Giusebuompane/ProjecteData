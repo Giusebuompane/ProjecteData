{
 "cells": [
  {
   "cell_type": "markdown",
   "metadata": {},
   "source": [
    "## Carga de base de datos\n",
    "Anuncios de inmuebles de alquiler turístico en las principales plataformas."
   ]
  },
  {
   "cell_type": "markdown",
   "metadata": {},
   "source": [
    "#### Importación de bibliotecas"
   ]
  },
  {
   "cell_type": "code",
<<<<<<< HEAD
   "execution_count": 3,
=======
   "execution_count": 1,
>>>>>>> d5d67d6 (Actualización de archivos de análisis y limpieza)
   "metadata": {},
   "outputs": [],
   "source": [
    "import mysql.connector\n",
    "import pandas as pd\n",
    "import matplotlib.pyplot as plt\n",
    "import numpy as np\n",
    "import seaborn as sns"
   ]
  },
  {
   "cell_type": "code",
<<<<<<< HEAD
   "execution_count": 4,
=======
   "execution_count": 2,
>>>>>>> d5d67d6 (Actualización de archivos de análisis y limpieza)
   "metadata": {},
   "outputs": [],
   "source": [
    "# Definir la paleta institucional (colocarla en una celda anterior si es necesario)\n",
    "paleta = [\n",
    "    \"#1B3C59\", \"#3A5A40\", \"#8BAAAD\", \"#D9D9D9\", \n",
    "    \"#E8F1F2\", \"#A67C52\", \"#F4A261\", \"#264653\", \n",
    "    \"#A8DADC\", \"#457B9D\", \"#E63946\", \"#F4E285\", \n",
    "    \"#2A9D8F\", \"#6D597A\", \"#B5838D\"\n",
    "]\n"
   ]
  },
  {
   "cell_type": "markdown",
   "metadata": {},
   "source": [
    "#### Conexión a MySQL"
   ]
  },
  {
   "cell_type": "code",
<<<<<<< HEAD
   "execution_count": 5,
=======
   "execution_count": 3,
>>>>>>> d5d67d6 (Actualización de archivos de análisis y limpieza)
   "metadata": {},
   "outputs": [
    {
     "name": "stdout",
     "output_type": "stream",
     "text": [
      "Se conectó a la base de datos \"Equip_E\" en MySQL\n",
      "Tablas encontradas: ['Tourist_Accommodation', 'Tourist_Accommodation10032025', 'Tourist_Accommodation17032025'].\n"
     ]
    },
    {
     "name": "stderr",
     "output_type": "stream",
     "text": [
<<<<<<< HEAD
      "C:\\Users\\Evelyn\\AppData\\Local\\Temp\\ipykernel_15948\\1596814766.py:25: UserWarning: pandas only supports SQLAlchemy connectable (engine/connection) or database string URI or sqlite3 DBAPI2 connection. Other DBAPI2 objects are not tested. Please consider using SQLAlchemy.\n",
=======
      "C:\\Users\\oswal\\AppData\\Local\\Temp\\ipykernel_31900\\1596814766.py:25: UserWarning: pandas only supports SQLAlchemy connectable (engine/connection) or database string URI or sqlite3 DBAPI2 connection. Other DBAPI2 objects are not tested. Please consider using SQLAlchemy.\n",
>>>>>>> d5d67d6 (Actualización de archivos de análisis y limpieza)
      "  db[table] = pd.read_sql(query, con = cnx)\n"
     ]
    },
    {
     "name": "stdout",
     "output_type": "stream",
     "text": [
      "Conexión a MySQL cerrada.\n",
      "Se creó el dataframe \"Tourist_Accommodation\"\n",
      "Se creó el dataframe \"Tourist_Accommodation10032025\"\n",
      "Se creó el dataframe \"Tourist_Accommodation17032025\"\n"
     ]
    }
   ],
   "source": [
    "def get_database(host, user, password, database):\n",
    "    try:\n",
    "        cnx = mysql.connector.connect(\n",
    "            host = host,\n",
    "            user = user,\n",
    "            password = password,\n",
    "            database = database\n",
    "        )\n",
    "\n",
    "        if cnx.is_connected():\n",
    "            print(f'Se conectó a la base de datos \"{database}\" en MySQL')\n",
    "\n",
    "        cursor = cnx.cursor()\n",
    "        cursor.execute('SHOW TABLES;')\n",
    "        \n",
    "        tables = cursor.fetchall()\n",
    "        table_names = [table[0] for table in tables]\n",
    "\n",
    "        print(f'Tablas encontradas: {table_names}.')\n",
    "\n",
    "        db = {}\n",
    "\n",
    "        for table in table_names:\n",
    "            query = f'SELECT * FROM {table};'\n",
    "            db[table] = pd.read_sql(query, con = cnx) \n",
    "        return db\n",
    "\n",
    "    except mysql.connector.Error as error:\n",
    "        print(f'Error: {error}')\n",
    "        return None\n",
    "\n",
    "    finally:\n",
    "        if cnx.is_connected():\n",
    "            cnx.close()\n",
    "            print('Conexión a MySQL cerrada.')\n",
    "\n",
    "\n",
    "def rename_dfs():\n",
    "    for table, df in db.items():\n",
    "        globals()[table] = df\n",
    "        print(f'Se creó el dataframe \"{table}\"')\n",
    "\n",
    "if __name__ == '__main__':\n",
    "    host = '212.227.90.6'\n",
    "    user = 'EquipoE'\n",
    "    password = 'E1q2u3i4p5oE'\n",
    "    database = 'Equip_E'\n",
    "\n",
    "    db = get_database(host, user, password, database)\n",
    "    rename_dfs()\n"
   ]
  },
  {
   "cell_type": "markdown",
   "metadata": {},
   "source": [
    "## Exploración inicial"
   ]
  },
  {
   "cell_type": "code",
<<<<<<< HEAD
   "execution_count": 6,
=======
   "execution_count": 4,
>>>>>>> d5d67d6 (Actualización de archivos de análisis y limpieza)
   "metadata": {},
   "outputs": [
    {
     "data": {
      "text/html": [
       "<div>\n",
       "<style scoped>\n",
       "    .dataframe tbody tr th:only-of-type {\n",
       "        vertical-align: middle;\n",
       "    }\n",
       "\n",
       "    .dataframe tbody tr th {\n",
       "        vertical-align: top;\n",
       "    }\n",
       "\n",
       "    .dataframe thead th {\n",
       "        text-align: right;\n",
       "    }\n",
       "</style>\n",
       "<table border=\"1\" class=\"dataframe\">\n",
       "  <thead>\n",
       "    <tr style=\"text-align: right;\">\n",
       "      <th></th>\n",
       "      <th>apartment_id</th>\n",
       "      <th>name</th>\n",
       "      <th>description</th>\n",
       "      <th>host_id</th>\n",
       "      <th>neighbourhood_name</th>\n",
       "      <th>neighbourhood_district</th>\n",
       "      <th>room_type</th>\n",
       "      <th>accommodates</th>\n",
       "      <th>bathrooms</th>\n",
       "      <th>bedrooms</th>\n",
       "      <th>beds</th>\n",
       "      <th>amenities_list</th>\n",
       "      <th>price</th>\n",
       "      <th>minimum_nights</th>\n",
       "      <th>maximum_nights</th>\n",
       "      <th>has_availability</th>\n",
       "      <th>availability_30</th>\n",
       "      <th>availability_60</th>\n",
       "      <th>availability_90</th>\n",
       "      <th>availability_365</th>\n",
       "      <th>number_of_reviews</th>\n",
       "      <th>first_review_date</th>\n",
       "      <th>last_review_date</th>\n",
       "      <th>review_scores_rating</th>\n",
       "      <th>review_scores_accuracy</th>\n",
       "      <th>review_scores_cleanliness</th>\n",
       "      <th>review_scores_checkin</th>\n",
       "      <th>review_scores_communication</th>\n",
       "      <th>review_scores_location</th>\n",
       "      <th>review_scores_value</th>\n",
       "      <th>is_instant_bookable</th>\n",
       "      <th>reviews_per_month</th>\n",
       "      <th>country</th>\n",
       "      <th>city</th>\n",
       "      <th>insert_date</th>\n",
       "    </tr>\n",
       "  </thead>\n",
       "  <tbody>\n",
       "    <tr>\n",
       "      <th>0</th>\n",
       "      <td>11964</td>\n",
       "      <td>A ROOM WITH A VIEW</td>\n",
       "      <td>Private bedroom in our attic apartment. Right ...</td>\n",
       "      <td>45553</td>\n",
       "      <td>Centro</td>\n",
       "      <td>None</td>\n",
       "      <td>Private room</td>\n",
       "      <td>2</td>\n",
       "      <td>2</td>\n",
       "      <td>1</td>\n",
       "      <td>1.0</td>\n",
       "      <td>TV,Internet,Wifi,Air conditioning,Elevator,Buz...</td>\n",
       "      <td>400.0</td>\n",
       "      <td>3</td>\n",
       "      <td>365</td>\n",
       "      <td>VERDADERO</td>\n",
       "      <td>7</td>\n",
       "      <td>20</td>\n",
       "      <td>40</td>\n",
       "      <td>130</td>\n",
       "      <td>78</td>\n",
       "      <td>02/01/2010</td>\n",
       "      <td>05/09/2017</td>\n",
       "      <td>970.0</td>\n",
       "      <td>100.0</td>\n",
       "      <td>100.0</td>\n",
       "      <td>100.0</td>\n",
       "      <td>100.0</td>\n",
       "      <td>100.0</td>\n",
       "      <td>100.0</td>\n",
       "      <td>FALSO</td>\n",
       "      <td>75.0</td>\n",
       "      <td>spain</td>\n",
       "      <td>malaga</td>\n",
       "      <td>31/07/2018</td>\n",
       "    </tr>\n",
       "    <tr>\n",
       "      <th>1</th>\n",
       "      <td>21853</td>\n",
       "      <td>Bright and airy room</td>\n",
       "      <td>We have a quiet and sunny room with a good vie...</td>\n",
       "      <td>83531</td>\n",
       "      <td>C�rmenes</td>\n",
       "      <td>Latina</td>\n",
       "      <td>Private room</td>\n",
       "      <td>1</td>\n",
       "      <td>1</td>\n",
       "      <td>1</td>\n",
       "      <td>1.0</td>\n",
       "      <td>TV,Internet,Wifi,Air conditioning,Kitchen,Free...</td>\n",
       "      <td>170.0</td>\n",
       "      <td>4</td>\n",
       "      <td>40</td>\n",
       "      <td>VERDADERO</td>\n",
       "      <td>0</td>\n",
       "      <td>0</td>\n",
       "      <td>0</td>\n",
       "      <td>162</td>\n",
       "      <td>33</td>\n",
       "      <td>10/10/2014</td>\n",
       "      <td>15/07/2018</td>\n",
       "      <td>920.0</td>\n",
       "      <td>90.0</td>\n",
       "      <td>90.0</td>\n",
       "      <td>100.0</td>\n",
       "      <td>100.0</td>\n",
       "      <td>80.0</td>\n",
       "      <td>90.0</td>\n",
       "      <td>FALSO</td>\n",
       "      <td>52.0</td>\n",
       "      <td>spain</td>\n",
       "      <td>madrid</td>\n",
       "      <td>10/01/2020</td>\n",
       "    </tr>\n",
       "    <tr>\n",
       "      <th>2</th>\n",
       "      <td>32347</td>\n",
       "      <td>Explore Cultural Sights from a Family-Friendly...</td>\n",
       "      <td>Open French doors and step onto a plant-filled...</td>\n",
       "      <td>139939</td>\n",
       "      <td>San Vicente</td>\n",
       "      <td>Casco Antiguo</td>\n",
       "      <td>Entire home/apt</td>\n",
       "      <td>4</td>\n",
       "      <td>1</td>\n",
       "      <td>2</td>\n",
       "      <td>2.0</td>\n",
       "      <td>TV,Internet,Wifi,Air conditioning,Wheelchair a...</td>\n",
       "      <td>990.0</td>\n",
       "      <td>2</td>\n",
       "      <td>120</td>\n",
       "      <td>VERDADERO</td>\n",
       "      <td>26</td>\n",
       "      <td>31</td>\n",
       "      <td>31</td>\n",
       "      <td>270</td>\n",
       "      <td>148</td>\n",
       "      <td>05/01/2011</td>\n",
       "      <td>22/07/2019</td>\n",
       "      <td>980.0</td>\n",
       "      <td>100.0</td>\n",
       "      <td>100.0</td>\n",
       "      <td>100.0</td>\n",
       "      <td>100.0</td>\n",
       "      <td>100.0</td>\n",
       "      <td>100.0</td>\n",
       "      <td>VERDADERO</td>\n",
       "      <td>142.0</td>\n",
       "      <td>spain</td>\n",
       "      <td>sevilla</td>\n",
       "      <td>29/07/2019</td>\n",
       "    </tr>\n",
       "    <tr>\n",
       "      <th>3</th>\n",
       "      <td>35379</td>\n",
       "      <td>Double 02 CasanovaRooms Barcelona</td>\n",
       "      <td>Room at a my apartment. Kitchen and 2 bathroom...</td>\n",
       "      <td>152232</td>\n",
       "      <td>l'Antiga Esquerra de l'Eixample</td>\n",
       "      <td>Eixample</td>\n",
       "      <td>Private room</td>\n",
       "      <td>2</td>\n",
       "      <td>2</td>\n",
       "      <td>1</td>\n",
       "      <td>1.0</td>\n",
       "      <td>TV,Internet,Wifi,Kitchen,Breakfast,Elevator,Bu...</td>\n",
       "      <td>400.0</td>\n",
       "      <td>2</td>\n",
       "      <td>730</td>\n",
       "      <td>VERDADERO</td>\n",
       "      <td>9</td>\n",
       "      <td>23</td>\n",
       "      <td>49</td>\n",
       "      <td>300</td>\n",
       "      <td>292</td>\n",
       "      <td>13/03/2012</td>\n",
       "      <td>04/01/2020</td>\n",
       "      <td>940.0</td>\n",
       "      <td>100.0</td>\n",
       "      <td>90.0</td>\n",
       "      <td>100.0</td>\n",
       "      <td>100.0</td>\n",
       "      <td>100.0</td>\n",
       "      <td>90.0</td>\n",
       "      <td>VERDADERO</td>\n",
       "      <td>306.0</td>\n",
       "      <td>spain</td>\n",
       "      <td>barcelona</td>\n",
       "      <td>10/01/2020</td>\n",
       "    </tr>\n",
       "    <tr>\n",
       "      <th>4</th>\n",
       "      <td>35801</td>\n",
       "      <td>Can Torras Farmhouse Studio Suite</td>\n",
       "      <td>Lay in bed &amp; watch sunlight change the mood of...</td>\n",
       "      <td>153805</td>\n",
       "      <td>Quart</td>\n",
       "      <td>None</td>\n",
       "      <td>Private room</td>\n",
       "      <td>5</td>\n",
       "      <td>1</td>\n",
       "      <td>2</td>\n",
       "      <td>5.0</td>\n",
       "      <td>Wifi,Pool,Free parking on premises,Breakfast,P...</td>\n",
       "      <td>900.0</td>\n",
       "      <td>1</td>\n",
       "      <td>180</td>\n",
       "      <td>VERDADERO</td>\n",
       "      <td>0</td>\n",
       "      <td>19</td>\n",
       "      <td>49</td>\n",
       "      <td>312</td>\n",
       "      <td>36</td>\n",
       "      <td>08/07/2011</td>\n",
       "      <td>08/08/2018</td>\n",
       "      <td>970.0</td>\n",
       "      <td>100.0</td>\n",
       "      <td>100.0</td>\n",
       "      <td>100.0</td>\n",
       "      <td>100.0</td>\n",
       "      <td>100.0</td>\n",
       "      <td>100.0</td>\n",
       "      <td>FALSO</td>\n",
       "      <td>39.0</td>\n",
       "      <td>spain</td>\n",
       "      <td>girona</td>\n",
       "      <td>19/02/2019</td>\n",
       "    </tr>\n",
       "  </tbody>\n",
       "</table>\n",
       "</div>"
      ],
      "text/plain": [
       "   apartment_id                                               name  \\\n",
       "0         11964                                 A ROOM WITH A VIEW   \n",
       "1         21853                               Bright and airy room   \n",
       "2         32347  Explore Cultural Sights from a Family-Friendly...   \n",
       "3         35379                  Double 02 CasanovaRooms Barcelona   \n",
       "4         35801                  Can Torras Farmhouse Studio Suite   \n",
       "\n",
       "                                         description  host_id  \\\n",
       "0  Private bedroom in our attic apartment. Right ...    45553   \n",
       "1  We have a quiet and sunny room with a good vie...    83531   \n",
       "2  Open French doors and step onto a plant-filled...   139939   \n",
       "3  Room at a my apartment. Kitchen and 2 bathroom...   152232   \n",
       "4  Lay in bed & watch sunlight change the mood of...   153805   \n",
       "\n",
       "                neighbourhood_name neighbourhood_district        room_type  \\\n",
       "0                           Centro                   None     Private room   \n",
       "1                         C�rmenes                 Latina     Private room   \n",
       "2                      San Vicente          Casco Antiguo  Entire home/apt   \n",
       "3  l'Antiga Esquerra de l'Eixample               Eixample     Private room   \n",
       "4                            Quart                   None     Private room   \n",
       "\n",
       "   accommodates bathrooms bedrooms  beds  \\\n",
       "0             2         2        1   1.0   \n",
       "1             1         1        1   1.0   \n",
       "2             4         1        2   2.0   \n",
       "3             2         2        1   1.0   \n",
       "4             5         1        2   5.0   \n",
       "\n",
       "                                      amenities_list  price  minimum_nights  \\\n",
       "0  TV,Internet,Wifi,Air conditioning,Elevator,Buz...  400.0               3   \n",
       "1  TV,Internet,Wifi,Air conditioning,Kitchen,Free...  170.0               4   \n",
       "2  TV,Internet,Wifi,Air conditioning,Wheelchair a...  990.0               2   \n",
       "3  TV,Internet,Wifi,Kitchen,Breakfast,Elevator,Bu...  400.0               2   \n",
       "4  Wifi,Pool,Free parking on premises,Breakfast,P...  900.0               1   \n",
       "\n",
       "   maximum_nights has_availability  availability_30  availability_60  \\\n",
       "0             365        VERDADERO                7               20   \n",
       "1              40        VERDADERO                0                0   \n",
       "2             120        VERDADERO               26               31   \n",
       "3             730        VERDADERO                9               23   \n",
       "4             180        VERDADERO                0               19   \n",
       "\n",
       "   availability_90  availability_365  number_of_reviews first_review_date  \\\n",
       "0               40               130                 78        02/01/2010   \n",
       "1                0               162                 33        10/10/2014   \n",
       "2               31               270                148        05/01/2011   \n",
       "3               49               300                292        13/03/2012   \n",
       "4               49               312                 36        08/07/2011   \n",
       "\n",
       "  last_review_date  review_scores_rating  review_scores_accuracy  \\\n",
       "0       05/09/2017                 970.0                   100.0   \n",
       "1       15/07/2018                 920.0                    90.0   \n",
       "2       22/07/2019                 980.0                   100.0   \n",
       "3       04/01/2020                 940.0                   100.0   \n",
       "4       08/08/2018                 970.0                   100.0   \n",
       "\n",
       "   review_scores_cleanliness  review_scores_checkin  \\\n",
       "0                      100.0                  100.0   \n",
       "1                       90.0                  100.0   \n",
       "2                      100.0                  100.0   \n",
       "3                       90.0                  100.0   \n",
       "4                      100.0                  100.0   \n",
       "\n",
       "   review_scores_communication  review_scores_location  review_scores_value  \\\n",
       "0                        100.0                   100.0                100.0   \n",
       "1                        100.0                    80.0                 90.0   \n",
       "2                        100.0                   100.0                100.0   \n",
       "3                        100.0                   100.0                 90.0   \n",
       "4                        100.0                   100.0                100.0   \n",
       "\n",
       "  is_instant_bookable  reviews_per_month country       city insert_date  \n",
       "0               FALSO               75.0   spain     malaga  31/07/2018  \n",
       "1               FALSO               52.0   spain     madrid  10/01/2020  \n",
       "2           VERDADERO              142.0   spain    sevilla  29/07/2019  \n",
       "3           VERDADERO              306.0   spain  barcelona  10/01/2020  \n",
       "4               FALSO               39.0   spain     girona  19/02/2019  "
      ]
     },
<<<<<<< HEAD
     "execution_count": 6,
=======
     "execution_count": 4,
>>>>>>> d5d67d6 (Actualización de archivos de análisis y limpieza)
     "metadata": {},
     "output_type": "execute_result"
    }
   ],
   "source": [
    "# se carga como df la TABLA MÁS RECIENTE\n",
    "df = Tourist_Accommodation17032025\n",
    "pd.set_option('display.max_columns', None) # ver todas las columnas\n",
    "df.head()"
   ]
  },
  {
   "cell_type": "markdown",
   "metadata": {},
   "source": [
    "### Tamaño"
   ]
  },
  {
   "cell_type": "code",
<<<<<<< HEAD
   "execution_count": 7,
=======
   "execution_count": 5,
>>>>>>> d5d67d6 (Actualización de archivos de análisis y limpieza)
   "metadata": {},
   "outputs": [
    {
     "data": {
      "text/plain": [
       "(18000, 35)"
      ]
     },
<<<<<<< HEAD
     "execution_count": 7,
=======
     "execution_count": 5,
>>>>>>> d5d67d6 (Actualización de archivos de análisis y limpieza)
     "metadata": {},
     "output_type": "execute_result"
    }
   ],
   "source": [
    "df.shape"
   ]
  },
  {
   "cell_type": "markdown",
   "metadata": {},
   "source": [
    "### Tipos de datos"
   ]
  },
  {
   "cell_type": "code",
<<<<<<< HEAD
   "execution_count": 8,
=======
   "execution_count": 6,
>>>>>>> d5d67d6 (Actualización de archivos de análisis y limpieza)
   "metadata": {},
   "outputs": [
    {
     "name": "stdout",
     "output_type": "stream",
     "text": [
      "<class 'pandas.core.frame.DataFrame'>\n",
      "RangeIndex: 18000 entries, 0 to 17999\n",
      "Data columns (total 35 columns):\n",
      " #   Column                       Non-Null Count  Dtype  \n",
      "---  ------                       --------------  -----  \n",
      " 0   apartment_id                 18000 non-null  int64  \n",
      " 1   name                         17996 non-null  object \n",
      " 2   description                  17743 non-null  object \n",
      " 3   host_id                      18000 non-null  int64  \n",
      " 4   neighbourhood_name           18000 non-null  object \n",
      " 5   neighbourhood_district       10941 non-null  object \n",
      " 6   room_type                    18000 non-null  object \n",
      " 7   accommodates                 18000 non-null  int64  \n",
      " 8   bathrooms                    17866 non-null  object \n",
      " 9   bedrooms                     17872 non-null  object \n",
      " 10  beds                         17929 non-null  float64\n",
      " 11  amenities_list               17968 non-null  object \n",
      " 12  price                        17552 non-null  float64\n",
      " 13  minimum_nights               18000 non-null  int64  \n",
      " 14  maximum_nights               18000 non-null  int64  \n",
      " 15  has_availability             17014 non-null  object \n",
      " 16  availability_30              18000 non-null  int64  \n",
      " 17  availability_60              18000 non-null  int64  \n",
      " 18  availability_90              18000 non-null  int64  \n",
      " 19  availability_365             18000 non-null  int64  \n",
      " 20  number_of_reviews            18000 non-null  int64  \n",
      " 21  first_review_date            13350 non-null  object \n",
      " 22  last_review_date             13347 non-null  object \n",
      " 23  review_scores_rating         13156 non-null  float64\n",
      " 24  review_scores_accuracy       13139 non-null  float64\n",
      " 25  review_scores_cleanliness    13150 non-null  float64\n",
      " 26  review_scores_checkin        13127 non-null  float64\n",
      " 27  review_scores_communication  13145 non-null  float64\n",
      " 28  review_scores_location       13128 non-null  float64\n",
      " 29  review_scores_value          13126 non-null  float64\n",
      " 30  is_instant_bookable          18000 non-null  object \n",
      " 31  reviews_per_month            13350 non-null  float64\n",
      " 32  country                      18000 non-null  object \n",
      " 33  city                         18000 non-null  object \n",
      " 34  insert_date                  18000 non-null  object \n",
      "dtypes: float64(10), int64(10), object(15)\n",
      "memory usage: 4.8+ MB\n"
     ]
    }
   ],
   "source": [
    "df.info()"
   ]
  },
  {
   "cell_type": "markdown",
   "metadata": {},
   "source": [
    "#### Corrección de tipos de datos"
   ]
  },
  {
   "cell_type": "code",
<<<<<<< HEAD
   "execution_count": 9,
=======
   "execution_count": 7,
>>>>>>> d5d67d6 (Actualización de archivos de análisis y limpieza)
   "metadata": {},
   "outputs": [
    {
     "name": "stdout",
     "output_type": "stream",
     "text": [
      "<class 'pandas.core.frame.DataFrame'>\n",
      "RangeIndex: 18000 entries, 0 to 17999\n",
      "Data columns (total 35 columns):\n",
      " #   Column                       Non-Null Count  Dtype         \n",
      "---  ------                       --------------  -----         \n",
      " 0   apartment_id                 18000 non-null  int64         \n",
      " 1   name                         17996 non-null  object        \n",
      " 2   description                  17743 non-null  object        \n",
      " 3   host_id                      18000 non-null  int64         \n",
      " 4   neighbourhood_name           18000 non-null  object        \n",
      " 5   neighbourhood_district       10941 non-null  object        \n",
      " 6   room_type                    18000 non-null  object        \n",
      " 7   accommodates                 18000 non-null  int64         \n",
      " 8   bathrooms                    17866 non-null  float64       \n",
      " 9   bedrooms                     17872 non-null  float64       \n",
      " 10  beds                         17929 non-null  float64       \n",
      " 11  amenities_list               17968 non-null  object        \n",
      " 12  price                        17552 non-null  float64       \n",
      " 13  minimum_nights               18000 non-null  int64         \n",
      " 14  maximum_nights               18000 non-null  int64         \n",
      " 15  has_availability             18000 non-null  bool          \n",
      " 16  availability_30              18000 non-null  int64         \n",
      " 17  availability_60              18000 non-null  int64         \n",
      " 18  availability_90              18000 non-null  int64         \n",
      " 19  availability_365             18000 non-null  int64         \n",
      " 20  number_of_reviews            18000 non-null  int64         \n",
      " 21  first_review_date            5574 non-null   datetime64[ns]\n",
      " 22  last_review_date             5501 non-null   datetime64[ns]\n",
      " 23  review_scores_rating         13156 non-null  float64       \n",
      " 24  review_scores_accuracy       13139 non-null  float64       \n",
      " 25  review_scores_cleanliness    13150 non-null  float64       \n",
      " 26  review_scores_checkin        13127 non-null  float64       \n",
      " 27  review_scores_communication  13145 non-null  float64       \n",
      " 28  review_scores_location       13128 non-null  float64       \n",
      " 29  review_scores_value          13126 non-null  float64       \n",
      " 30  is_instant_bookable          18000 non-null  bool          \n",
      " 31  reviews_per_month            13350 non-null  float64       \n",
      " 32  country                      18000 non-null  object        \n",
      " 33  city                         18000 non-null  object        \n",
      " 34  insert_date                  18000 non-null  datetime64[ns]\n",
      "dtypes: bool(2), datetime64[ns](3), float64(12), int64(10), object(8)\n",
      "memory usage: 4.6+ MB\n"
     ]
    },
    {
     "name": "stderr",
     "output_type": "stream",
     "text": [
<<<<<<< HEAD
      "C:\\Users\\Evelyn\\AppData\\Local\\Temp\\ipykernel_15948\\3580156214.py:6: FutureWarning: Downcasting object dtype arrays on .fillna, .ffill, .bfill is deprecated and will change in a future version. Call result.infer_objects(copy=False) instead. To opt-in to the future behavior, set `pd.set_option('future.no_silent_downcasting', True)`\n",
      "  df['has_availability'] = df['has_availability'].replace({'VERDADERO': True}).fillna(False)\n",
      "C:\\Users\\Evelyn\\AppData\\Local\\Temp\\ipykernel_15948\\3580156214.py:9: FutureWarning: Downcasting behavior in `replace` is deprecated and will be removed in a future version. To retain the old behavior, explicitly call `result.infer_objects(copy=False)`. To opt-in to the future behavior, set `pd.set_option('future.no_silent_downcasting', True)`\n",
      "  df['is_instant_bookable'] = df['is_instant_bookable'].replace({'VERDADERO': True, 'FALSO': False})\n",
      "C:\\Users\\Evelyn\\AppData\\Local\\Temp\\ipykernel_15948\\3580156214.py:15: UserWarning: Parsing dates in %d/%m/%Y format when dayfirst=False (the default) was specified. Pass `dayfirst=True` or specify a format to silence this warning.\n",
=======
      "C:\\Users\\oswal\\AppData\\Local\\Temp\\ipykernel_31900\\3580156214.py:6: FutureWarning: Downcasting object dtype arrays on .fillna, .ffill, .bfill is deprecated and will change in a future version. Call result.infer_objects(copy=False) instead. To opt-in to the future behavior, set `pd.set_option('future.no_silent_downcasting', True)`\n",
      "  df['has_availability'] = df['has_availability'].replace({'VERDADERO': True}).fillna(False)\n",
      "C:\\Users\\oswal\\AppData\\Local\\Temp\\ipykernel_31900\\3580156214.py:9: FutureWarning: Downcasting behavior in `replace` is deprecated and will be removed in a future version. To retain the old behavior, explicitly call `result.infer_objects(copy=False)`. To opt-in to the future behavior, set `pd.set_option('future.no_silent_downcasting', True)`\n",
      "  df['is_instant_bookable'] = df['is_instant_bookable'].replace({'VERDADERO': True, 'FALSO': False})\n",
      "C:\\Users\\oswal\\AppData\\Local\\Temp\\ipykernel_31900\\3580156214.py:15: UserWarning: Parsing dates in %d/%m/%Y format when dayfirst=False (the default) was specified. Pass `dayfirst=True` or specify a format to silence this warning.\n",
>>>>>>> d5d67d6 (Actualización de archivos de análisis y limpieza)
      "  df[\"insert_date\"] = pd.to_datetime(df[\"insert_date\"], errors=\"coerce\")\n"
     ]
    }
   ],
   "source": [
    "# conversión a numérico\n",
    "df['bathrooms'] = pd.to_numeric(df['bathrooms'], errors='coerce')\n",
    "df[\"bedrooms\"] = pd.to_numeric(df[\"bedrooms\"], errors='coerce')\n",
    "\n",
    "# conversión a booleano\n",
    "df['has_availability'] = df['has_availability'].replace({'VERDADERO': True}).fillna(False)\n",
    "df['has_availability'] = df['has_availability'].astype(bool)\n",
    "\n",
    "df['is_instant_bookable'] = df['is_instant_bookable'].replace({'VERDADERO': True, 'FALSO': False})\n",
    "df['is_instant_bookable'] = df['is_instant_bookable'].astype(bool)\n",
    "\n",
    "# conversión a fechas\n",
    "df[\"first_review_date\"] = pd.to_datetime(df[\"first_review_date\"], errors=\"coerce\")\n",
    "df[\"last_review_date\"] = pd.to_datetime(df[\"last_review_date\"], errors=\"coerce\")\n",
    "df[\"insert_date\"] = pd.to_datetime(df[\"insert_date\"], errors=\"coerce\")\n",
    "\n",
    "df.info()"
   ]
  },
  {
   "cell_type": "markdown",
   "metadata": {},
   "source": [
    "### Duplicados"
   ]
  },
  {
   "cell_type": "code",
<<<<<<< HEAD
   "execution_count": 10,
=======
   "execution_count": 8,
>>>>>>> d5d67d6 (Actualización de archivos de análisis y limpieza)
   "metadata": {},
   "outputs": [
    {
     "data": {
      "text/plain": [
       "np.int64(8000)"
      ]
     },
<<<<<<< HEAD
     "execution_count": 10,
=======
     "execution_count": 8,
>>>>>>> d5d67d6 (Actualización de archivos de análisis y limpieza)
     "metadata": {},
     "output_type": "execute_result"
    }
   ],
   "source": [
    "df.duplicated().sum()"
   ]
  },
  {
   "cell_type": "code",
<<<<<<< HEAD
   "execution_count": 11,
=======
   "execution_count": 9,
>>>>>>> d5d67d6 (Actualización de archivos de análisis y limpieza)
   "metadata": {},
   "outputs": [
    {
     "name": "stdout",
     "output_type": "stream",
     "text": [
      "Total de registros del dataset: 18000\n",
      "Total de duplicados exactos: 8000\n",
      "El número de apartment_id duplicados es: 8350\n"
     ]
    }
   ],
   "source": [
    "registros_totales = len(df)\n",
    "\n",
    "duplicados = df['apartment_id'].duplicated().sum()\n",
    "\n",
    "print(f'Total de registros del dataset: {registros_totales}')\n",
    "print(f'Total de duplicados exactos: {df.duplicated().sum()}')\n",
    "print(f\"El número de apartment_id duplicados es: {duplicados}\")"
   ]
  },
  {
   "cell_type": "markdown",
   "metadata": {},
   "source": [
    "### Análisis estadísticos y outliers"
   ]
  },
  {
   "cell_type": "code",
<<<<<<< HEAD
   "execution_count": 12,
=======
   "execution_count": 10,
>>>>>>> d5d67d6 (Actualización de archivos de análisis y limpieza)
   "metadata": {},
   "outputs": [
    {
     "name": "stdout",
     "output_type": "stream",
     "text": [
      "\n",
      " Distribución Variables Numéricas:\n",
      "\n",
      "                               Media  Desviación estándar  Mínimo  Q1 (25%)  Mediana  Q3 (75%)   Máximo\n",
      "accommodates                    4.28                 2.58     1.0       2.0      4.0      6.00     29.0\n",
      "bathrooms                       1.60                 1.00     0.0       1.0      1.0      2.00     13.0\n",
      "bedrooms                        1.94                 1.33     0.0       1.0      2.0      3.00     50.0\n",
      "beds                            2.93                 2.27     0.0       1.0      2.0      4.00     30.0\n",
      "price                        1025.74              1009.88    60.0     450.0    750.0   1240.00  28571.0\n",
      "minimum_nights                  4.96                19.36     1.0       1.0      2.0      4.00   1125.0\n",
      "maximum_nights                758.94               498.58     1.0      61.0   1125.0   1125.00   1125.0\n",
      "availability_30                12.93                11.81     0.0       0.0     11.0     26.00     30.0\n",
      "availability_60                28.67                22.92     0.0       2.0     29.0     52.00     60.0\n",
      "availability_90                46.07                33.68     0.0      10.0     49.0     79.25     90.0\n",
      "availability_365              187.68               130.36     0.0      67.0    183.0    317.00    365.0\n",
      "number_of_reviews              25.92                51.65     0.0       0.0      5.0     27.00    588.0\n",
      "review_scores_rating          918.63                93.57   200.0     890.0    940.0    980.00   1000.0\n",
      "review_scores_accuracy         94.45                 9.51    20.0      90.0    100.0    100.00    100.0\n",
      "review_scores_cleanliness      93.07                10.27    20.0      90.0    100.0    100.00    100.0\n",
      "review_scores_checkin          96.26                 8.14    20.0      90.0    100.0    100.00    100.0\n",
      "review_scores_communication    96.20                 8.30    20.0      90.0    100.0    100.00    100.0\n",
      "review_scores_location         95.51                 7.67    20.0      90.0    100.0    100.00    100.0\n",
      "review_scores_value            91.34                10.04    20.0      90.0     90.0    100.00    100.0\n",
      "reviews_per_month             124.35               153.30     1.0      18.0     59.0    178.00   1291.0\n"
     ]
    },
    {
     "data": {
      "image/png": "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",
      "text/plain": [
       "<Figure size 1200x600 with 1 Axes>"
      ]
     },
     "metadata": {},
     "output_type": "display_data"
    }
   ],
   "source": [
    "# Filtrar solo variables numéricas\n",
    "df_numericas = df.select_dtypes(include=[np.number]).drop(columns=['apartment_id', 'host_id'],errors = 'ignore')\n",
    "\n",
    "# Calcular estadísticas básicas\n",
    "estadisticas = df_numericas.describe().T[['mean', 'std', 'min', '25%', '50%', '75%', 'max']]\n",
    "estadisticas.columns = ['Media', 'Desviación estándar', 'Mínimo', 'Q1 (25%)', 'Mediana', 'Q3 (75%)', 'Máximo']\n",
    "\n",
    "# Redondear a dos decimales\n",
    "estadisticas = estadisticas.round(2)\n",
    "\n",
    "# Mostrar estadísticas\n",
    "print(\"\\n Distribución Variables Numéricas:\\n\")\n",
    "print(estadisticas.to_string())\n",
    "\n",
    "# Crear boxplots de todas las variables numéricas\n",
    "plt.figure(figsize=(12, 6))\n",
    "df_numericas.boxplot(rot=90, patch_artist=True, boxprops=dict(facecolor=\"lightblue\"))\n",
    "plt.title(\"Boxplots de Variables Numéricas\")\n",
    "plt.xlabel(\"Variables\")\n",
    "plt.ylabel(\"Valores\")\n",
    "plt.grid(True)\n",
    "plt.show()"
   ]
  },
  {
   "cell_type": "code",
<<<<<<< HEAD
   "execution_count": 13,
=======
   "execution_count": 11,
>>>>>>> d5d67d6 (Actualización de archivos de análisis y limpieza)
   "metadata": {},
   "outputs": [
    {
     "data": {
      "image/png": "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",
      "text/plain": [
       "<Figure size 1200x600 with 1 Axes>"
      ]
     },
     "metadata": {},
     "output_type": "display_data"
    }
   ],
   "source": [
    "# nuevo gráfico sin precio vara visualizar mejor las demás variables\n",
    "\n",
    "df_no_price = df_numericas.drop('price', axis=1)\n",
    "plt.figure(figsize=(12, 6))\n",
    "df_no_price.boxplot(rot=90, patch_artist=True, boxprops=dict(facecolor=\"violet\"))\n",
    "plt.title(\"Distribución de variables numéricas (excepto precio)\")\n",
    "plt.xlabel(\"Variables\")\n",
    "plt.ylabel(\"Valores\")\n",
    "plt.grid(True)\n",
    "plt.show()"
   ]
  },
  {
   "cell_type": "markdown",
   "metadata": {},
   "source": [
    "## Limpieza de datos (Data Cleaning)"
   ]
  },
  {
   "cell_type": "markdown",
   "metadata": {},
   "source": [
    "### Tratamiento de duplicados"
   ]
  },
  {
   "cell_type": "code",
<<<<<<< HEAD
   "execution_count": 14,
=======
   "execution_count": 12,
>>>>>>> d5d67d6 (Actualización de archivos de análisis y limpieza)
   "metadata": {},
   "outputs": [
    {
     "name": "stdout",
     "output_type": "stream",
     "text": [
      "Total de registros del dataset: 18000\n",
      "Total de duplicados exactos: 8000\n",
      "El número de apartment_id duplicados es: 8350\n"
     ]
    }
   ],
   "source": [
    "registros_totales = len(df)\n",
    "\n",
    "duplicados = df['apartment_id'].duplicated().sum()\n",
    "\n",
    "print(f'Total de registros del dataset: {registros_totales}')\n",
    "print(f'Total de duplicados exactos: {df.duplicated().sum()}')\n",
    "print(f\"El número de apartment_id duplicados es: {duplicados}\")"
   ]
  },
  {
   "cell_type": "code",
<<<<<<< HEAD
   "execution_count": 15,
=======
   "execution_count": 13,
>>>>>>> d5d67d6 (Actualización de archivos de análisis y limpieza)
   "metadata": {},
   "outputs": [
    {
     "data": {
      "text/html": [
       "<div>\n",
       "<style scoped>\n",
       "    .dataframe tbody tr th:only-of-type {\n",
       "        vertical-align: middle;\n",
       "    }\n",
       "\n",
       "    .dataframe tbody tr th {\n",
       "        vertical-align: top;\n",
       "    }\n",
       "\n",
       "    .dataframe thead th {\n",
       "        text-align: right;\n",
       "    }\n",
       "</style>\n",
       "<table border=\"1\" class=\"dataframe\">\n",
       "  <thead>\n",
       "    <tr style=\"text-align: right;\">\n",
       "      <th></th>\n",
       "      <th>apartment_id</th>\n",
       "      <th>name</th>\n",
       "      <th>description</th>\n",
       "      <th>host_id</th>\n",
       "      <th>neighbourhood_name</th>\n",
       "      <th>neighbourhood_district</th>\n",
       "      <th>room_type</th>\n",
       "      <th>accommodates</th>\n",
       "      <th>bathrooms</th>\n",
       "      <th>bedrooms</th>\n",
       "      <th>beds</th>\n",
       "      <th>amenities_list</th>\n",
       "      <th>price</th>\n",
       "      <th>minimum_nights</th>\n",
       "      <th>maximum_nights</th>\n",
       "      <th>has_availability</th>\n",
       "      <th>availability_30</th>\n",
       "      <th>availability_60</th>\n",
       "      <th>availability_90</th>\n",
       "      <th>availability_365</th>\n",
       "      <th>number_of_reviews</th>\n",
       "      <th>first_review_date</th>\n",
       "      <th>last_review_date</th>\n",
       "      <th>review_scores_rating</th>\n",
       "      <th>review_scores_accuracy</th>\n",
       "      <th>review_scores_cleanliness</th>\n",
       "      <th>review_scores_checkin</th>\n",
       "      <th>review_scores_communication</th>\n",
       "      <th>review_scores_location</th>\n",
       "      <th>review_scores_value</th>\n",
       "      <th>is_instant_bookable</th>\n",
       "      <th>reviews_per_month</th>\n",
       "      <th>country</th>\n",
       "      <th>city</th>\n",
       "      <th>insert_date</th>\n",
       "    </tr>\n",
       "  </thead>\n",
       "  <tbody>\n",
       "    <tr>\n",
       "      <th>0</th>\n",
       "      <td>11964</td>\n",
       "      <td>A ROOM WITH A VIEW</td>\n",
       "      <td>Private bedroom in our attic apartment. Right ...</td>\n",
       "      <td>45553</td>\n",
       "      <td>Centro</td>\n",
       "      <td>None</td>\n",
       "      <td>Private room</td>\n",
       "      <td>2</td>\n",
       "      <td>2.0</td>\n",
       "      <td>1.0</td>\n",
       "      <td>1.0</td>\n",
       "      <td>TV,Internet,Wifi,Air conditioning,Elevator,Buz...</td>\n",
       "      <td>400.0</td>\n",
       "      <td>3</td>\n",
       "      <td>365</td>\n",
       "      <td>True</td>\n",
       "      <td>7</td>\n",
       "      <td>20</td>\n",
       "      <td>40</td>\n",
       "      <td>130</td>\n",
       "      <td>78</td>\n",
       "      <td>2010-02-01</td>\n",
       "      <td>2017-05-09</td>\n",
       "      <td>970.0</td>\n",
       "      <td>100.0</td>\n",
       "      <td>100.0</td>\n",
       "      <td>100.0</td>\n",
       "      <td>100.0</td>\n",
       "      <td>100.0</td>\n",
       "      <td>100.0</td>\n",
       "      <td>False</td>\n",
       "      <td>75.0</td>\n",
       "      <td>spain</td>\n",
       "      <td>malaga</td>\n",
       "      <td>2018-07-31</td>\n",
       "    </tr>\n",
       "    <tr>\n",
       "      <th>1</th>\n",
       "      <td>21853</td>\n",
       "      <td>Bright and airy room</td>\n",
       "      <td>We have a quiet and sunny room with a good vie...</td>\n",
       "      <td>83531</td>\n",
       "      <td>C�rmenes</td>\n",
       "      <td>Latina</td>\n",
       "      <td>Private room</td>\n",
       "      <td>1</td>\n",
       "      <td>1.0</td>\n",
       "      <td>1.0</td>\n",
       "      <td>1.0</td>\n",
       "      <td>TV,Internet,Wifi,Air conditioning,Kitchen,Free...</td>\n",
       "      <td>170.0</td>\n",
       "      <td>4</td>\n",
       "      <td>40</td>\n",
       "      <td>True</td>\n",
       "      <td>0</td>\n",
       "      <td>0</td>\n",
       "      <td>0</td>\n",
       "      <td>162</td>\n",
       "      <td>33</td>\n",
       "      <td>2014-10-10</td>\n",
       "      <td>NaT</td>\n",
       "      <td>920.0</td>\n",
       "      <td>90.0</td>\n",
       "      <td>90.0</td>\n",
       "      <td>100.0</td>\n",
       "      <td>100.0</td>\n",
       "      <td>80.0</td>\n",
       "      <td>90.0</td>\n",
       "      <td>False</td>\n",
       "      <td>52.0</td>\n",
       "      <td>spain</td>\n",
       "      <td>madrid</td>\n",
       "      <td>2020-01-10</td>\n",
       "    </tr>\n",
       "    <tr>\n",
       "      <th>2</th>\n",
       "      <td>32347</td>\n",
       "      <td>Explore Cultural Sights from a Family-Friendly...</td>\n",
       "      <td>Open French doors and step onto a plant-filled...</td>\n",
       "      <td>139939</td>\n",
       "      <td>San Vicente</td>\n",
       "      <td>Casco Antiguo</td>\n",
       "      <td>Entire home/apt</td>\n",
       "      <td>4</td>\n",
       "      <td>1.0</td>\n",
       "      <td>2.0</td>\n",
       "      <td>2.0</td>\n",
       "      <td>TV,Internet,Wifi,Air conditioning,Wheelchair a...</td>\n",
       "      <td>990.0</td>\n",
       "      <td>2</td>\n",
       "      <td>120</td>\n",
       "      <td>True</td>\n",
       "      <td>26</td>\n",
       "      <td>31</td>\n",
       "      <td>31</td>\n",
       "      <td>270</td>\n",
       "      <td>148</td>\n",
       "      <td>2011-05-01</td>\n",
       "      <td>NaT</td>\n",
       "      <td>980.0</td>\n",
       "      <td>100.0</td>\n",
       "      <td>100.0</td>\n",
       "      <td>100.0</td>\n",
       "      <td>100.0</td>\n",
       "      <td>100.0</td>\n",
       "      <td>100.0</td>\n",
       "      <td>True</td>\n",
       "      <td>142.0</td>\n",
       "      <td>spain</td>\n",
       "      <td>sevilla</td>\n",
       "      <td>2019-07-29</td>\n",
       "    </tr>\n",
       "    <tr>\n",
       "      <th>3</th>\n",
       "      <td>35379</td>\n",
       "      <td>Double 02 CasanovaRooms Barcelona</td>\n",
       "      <td>Room at a my apartment. Kitchen and 2 bathroom...</td>\n",
       "      <td>152232</td>\n",
       "      <td>l'Antiga Esquerra de l'Eixample</td>\n",
       "      <td>Eixample</td>\n",
       "      <td>Private room</td>\n",
       "      <td>2</td>\n",
       "      <td>2.0</td>\n",
       "      <td>1.0</td>\n",
       "      <td>1.0</td>\n",
       "      <td>TV,Internet,Wifi,Kitchen,Breakfast,Elevator,Bu...</td>\n",
       "      <td>400.0</td>\n",
       "      <td>2</td>\n",
       "      <td>730</td>\n",
       "      <td>True</td>\n",
       "      <td>9</td>\n",
       "      <td>23</td>\n",
       "      <td>49</td>\n",
       "      <td>300</td>\n",
       "      <td>292</td>\n",
       "      <td>NaT</td>\n",
       "      <td>2020-04-01</td>\n",
       "      <td>940.0</td>\n",
       "      <td>100.0</td>\n",
       "      <td>90.0</td>\n",
       "      <td>100.0</td>\n",
       "      <td>100.0</td>\n",
       "      <td>100.0</td>\n",
       "      <td>90.0</td>\n",
       "      <td>True</td>\n",
       "      <td>306.0</td>\n",
       "      <td>spain</td>\n",
       "      <td>barcelona</td>\n",
       "      <td>2020-01-10</td>\n",
       "    </tr>\n",
       "    <tr>\n",
       "      <th>9</th>\n",
       "      <td>73683</td>\n",
       "      <td>Sagrada Familia area for 12 people</td>\n",
       "      <td>An ideal location for a big group, two apartme...</td>\n",
       "      <td>135703</td>\n",
       "      <td>el Camp d'en Grassot i Gr�cia Nova</td>\n",
       "      <td>Gr�cia</td>\n",
       "      <td>Entire home/apt</td>\n",
       "      <td>12</td>\n",
       "      <td>2.0</td>\n",
       "      <td>4.0</td>\n",
       "      <td>14.0</td>\n",
       "      <td>TV,Cable TV,Internet,Wifi,Air conditioning,Kit...</td>\n",
       "      <td>3000.0</td>\n",
       "      <td>2</td>\n",
       "      <td>60</td>\n",
       "      <td>True</td>\n",
       "      <td>8</td>\n",
       "      <td>12</td>\n",
       "      <td>23</td>\n",
       "      <td>296</td>\n",
       "      <td>120</td>\n",
       "      <td>2011-04-06</td>\n",
       "      <td>NaT</td>\n",
       "      <td>920.0</td>\n",
       "      <td>90.0</td>\n",
       "      <td>90.0</td>\n",
       "      <td>100.0</td>\n",
       "      <td>100.0</td>\n",
       "      <td>90.0</td>\n",
       "      <td>90.0</td>\n",
       "      <td>True</td>\n",
       "      <td>14.0</td>\n",
       "      <td>spain</td>\n",
       "      <td>barcelona</td>\n",
       "      <td>2018-06-09</td>\n",
       "    </tr>\n",
       "    <tr>\n",
       "      <th>11</th>\n",
       "      <td>79755</td>\n",
       "      <td>3Br-2bath-AC Full 5 stars reviews!</td>\n",
       "      <td>90 m2 apartment, 2 baths, 3 bedrooms. Fully eq...</td>\n",
       "      <td>429939</td>\n",
       "      <td>l'Antiga Esquerra de l'Eixample</td>\n",
       "      <td>Eixample</td>\n",
       "      <td>Entire home/apt</td>\n",
       "      <td>5</td>\n",
       "      <td>2.0</td>\n",
       "      <td>3.0</td>\n",
       "      <td>4.0</td>\n",
       "      <td>TV,Internet,Wireless Internet,Air conditioning...</td>\n",
       "      <td>1100.0</td>\n",
       "      <td>3</td>\n",
       "      <td>365</td>\n",
       "      <td>True</td>\n",
       "      <td>9</td>\n",
       "      <td>10</td>\n",
       "      <td>10</td>\n",
       "      <td>10</td>\n",
       "      <td>189</td>\n",
       "      <td>NaT</td>\n",
       "      <td>2016-01-10</td>\n",
       "      <td>980.0</td>\n",
       "      <td>100.0</td>\n",
       "      <td>100.0</td>\n",
       "      <td>100.0</td>\n",
       "      <td>100.0</td>\n",
       "      <td>100.0</td>\n",
       "      <td>100.0</td>\n",
       "      <td>True</td>\n",
       "      <td>234.0</td>\n",
       "      <td>spain</td>\n",
       "      <td>barcelona</td>\n",
       "      <td>2017-12-09</td>\n",
       "    </tr>\n",
       "    <tr>\n",
       "      <th>13</th>\n",
       "      <td>89776</td>\n",
       "      <td>Modernist flat Downtown Casa Estap� | Barcelona</td>\n",
       "      <td>Unique and rare ! Stay in the Casa Estap�, jew...</td>\n",
       "      <td>488151</td>\n",
       "      <td>el Fort Pienc</td>\n",
       "      <td>Eixample</td>\n",
       "      <td>Entire home/apt</td>\n",
       "      <td>4</td>\n",
       "      <td>1.0</td>\n",
       "      <td>1.0</td>\n",
       "      <td>2.0</td>\n",
       "      <td>TV,Internet,Wifi,Air conditioning,Kitchen,Elev...</td>\n",
       "      <td>650.0</td>\n",
       "      <td>3</td>\n",
       "      <td>365</td>\n",
       "      <td>True</td>\n",
       "      <td>7</td>\n",
       "      <td>18</td>\n",
       "      <td>41</td>\n",
       "      <td>224</td>\n",
       "      <td>322</td>\n",
       "      <td>2011-10-11</td>\n",
       "      <td>2019-01-12</td>\n",
       "      <td>960.0</td>\n",
       "      <td>100.0</td>\n",
       "      <td>100.0</td>\n",
       "      <td>100.0</td>\n",
       "      <td>100.0</td>\n",
       "      <td>100.0</td>\n",
       "      <td>100.0</td>\n",
       "      <td>True</td>\n",
       "      <td>327.0</td>\n",
       "      <td>spain</td>\n",
       "      <td>barcelona</td>\n",
       "      <td>2019-12-10</td>\n",
       "    </tr>\n",
       "    <tr>\n",
       "      <th>14</th>\n",
       "      <td>89954</td>\n",
       "      <td>Amazing apt in the historic center</td>\n",
       "      <td>Beautiful, new, central and cosy apartment per...</td>\n",
       "      <td>487095</td>\n",
       "      <td>Palacio</td>\n",
       "      <td>Centro</td>\n",
       "      <td>Entire home/apt</td>\n",
       "      <td>6</td>\n",
       "      <td>1.0</td>\n",
       "      <td>2.0</td>\n",
       "      <td>3.0</td>\n",
       "      <td>TV,Cable TV,Wifi,Air conditioning,Kitchen,Elev...</td>\n",
       "      <td>1030.0</td>\n",
       "      <td>2</td>\n",
       "      <td>20</td>\n",
       "      <td>True</td>\n",
       "      <td>27</td>\n",
       "      <td>48</td>\n",
       "      <td>49</td>\n",
       "      <td>61</td>\n",
       "      <td>181</td>\n",
       "      <td>2011-01-07</td>\n",
       "      <td>2018-01-11</td>\n",
       "      <td>970.0</td>\n",
       "      <td>100.0</td>\n",
       "      <td>100.0</td>\n",
       "      <td>100.0</td>\n",
       "      <td>100.0</td>\n",
       "      <td>100.0</td>\n",
       "      <td>100.0</td>\n",
       "      <td>False</td>\n",
       "      <td>202.0</td>\n",
       "      <td>spain</td>\n",
       "      <td>madrid</td>\n",
       "      <td>2018-11-07</td>\n",
       "    </tr>\n",
       "    <tr>\n",
       "      <th>17</th>\n",
       "      <td>103386</td>\n",
       "      <td>Central 2 Bedrooms, 3/5 pers. Wi-Fi</td>\n",
       "      <td>This is Edificio Palomar Apartments, I will tr...</td>\n",
       "      <td>508042</td>\n",
       "      <td>EL PILAR</td>\n",
       "      <td>CIUTAT VELLA</td>\n",
       "      <td>Entire home/apt</td>\n",
       "      <td>5</td>\n",
       "      <td>1.0</td>\n",
       "      <td>2.0</td>\n",
       "      <td>3.0</td>\n",
       "      <td>TV,Wifi,Air conditioning,Kitchen,Paid parking ...</td>\n",
       "      <td>840.0</td>\n",
       "      <td>1</td>\n",
       "      <td>14</td>\n",
       "      <td>True</td>\n",
       "      <td>17</td>\n",
       "      <td>38</td>\n",
       "      <td>64</td>\n",
       "      <td>229</td>\n",
       "      <td>13</td>\n",
       "      <td>2011-01-11</td>\n",
       "      <td>NaT</td>\n",
       "      <td>930.0</td>\n",
       "      <td>100.0</td>\n",
       "      <td>100.0</td>\n",
       "      <td>100.0</td>\n",
       "      <td>90.0</td>\n",
       "      <td>90.0</td>\n",
       "      <td>100.0</td>\n",
       "      <td>False</td>\n",
       "      <td>13.0</td>\n",
       "      <td>spain</td>\n",
       "      <td>valencia</td>\n",
       "      <td>2019-10-31</td>\n",
       "    </tr>\n",
       "    <tr>\n",
       "      <th>18</th>\n",
       "      <td>107437</td>\n",
       "      <td>A beautiful  villa in Barcelona</td>\n",
       "      <td>A conserved, period villa situated in the mids...</td>\n",
       "      <td>556626</td>\n",
       "      <td>Vallvidrera, el Tibidabo i les Planes</td>\n",
       "      <td>Sarri�-Sant Gervasi</td>\n",
       "      <td>Entire home/apt</td>\n",
       "      <td>8</td>\n",
       "      <td>2.0</td>\n",
       "      <td>5.0</td>\n",
       "      <td>6.0</td>\n",
       "      <td>TV,Wifi,Kitchen,Free parking on premises,Smoki...</td>\n",
       "      <td>2200.0</td>\n",
       "      <td>3</td>\n",
       "      <td>120</td>\n",
       "      <td>True</td>\n",
       "      <td>12</td>\n",
       "      <td>41</td>\n",
       "      <td>59</td>\n",
       "      <td>250</td>\n",
       "      <td>34</td>\n",
       "      <td>2011-08-07</td>\n",
       "      <td>NaT</td>\n",
       "      <td>930.0</td>\n",
       "      <td>100.0</td>\n",
       "      <td>100.0</td>\n",
       "      <td>100.0</td>\n",
       "      <td>100.0</td>\n",
       "      <td>100.0</td>\n",
       "      <td>90.0</td>\n",
       "      <td>True</td>\n",
       "      <td>38.0</td>\n",
       "      <td>spain</td>\n",
       "      <td>barcelona</td>\n",
       "      <td>2018-10-10</td>\n",
       "    </tr>\n",
       "  </tbody>\n",
       "</table>\n",
       "</div>"
      ],
      "text/plain": [
       "    apartment_id                                               name  \\\n",
       "0          11964                                 A ROOM WITH A VIEW   \n",
       "1          21853                               Bright and airy room   \n",
       "2          32347  Explore Cultural Sights from a Family-Friendly...   \n",
       "3          35379                  Double 02 CasanovaRooms Barcelona   \n",
       "9          73683                 Sagrada Familia area for 12 people   \n",
       "11         79755                 3Br-2bath-AC Full 5 stars reviews!   \n",
       "13         89776    Modernist flat Downtown Casa Estap� | Barcelona   \n",
       "14         89954                 Amazing apt in the historic center   \n",
       "17        103386                Central 2 Bedrooms, 3/5 pers. Wi-Fi   \n",
       "18        107437                    A beautiful  villa in Barcelona   \n",
       "\n",
       "                                          description  host_id  \\\n",
       "0   Private bedroom in our attic apartment. Right ...    45553   \n",
       "1   We have a quiet and sunny room with a good vie...    83531   \n",
       "2   Open French doors and step onto a plant-filled...   139939   \n",
       "3   Room at a my apartment. Kitchen and 2 bathroom...   152232   \n",
       "9   An ideal location for a big group, two apartme...   135703   \n",
       "11  90 m2 apartment, 2 baths, 3 bedrooms. Fully eq...   429939   \n",
       "13  Unique and rare ! Stay in the Casa Estap�, jew...   488151   \n",
       "14  Beautiful, new, central and cosy apartment per...   487095   \n",
       "17  This is Edificio Palomar Apartments, I will tr...   508042   \n",
       "18  A conserved, period villa situated in the mids...   556626   \n",
       "\n",
       "                       neighbourhood_name neighbourhood_district  \\\n",
       "0                                  Centro                   None   \n",
       "1                                C�rmenes                 Latina   \n",
       "2                             San Vicente          Casco Antiguo   \n",
       "3         l'Antiga Esquerra de l'Eixample               Eixample   \n",
       "9      el Camp d'en Grassot i Gr�cia Nova                 Gr�cia   \n",
       "11        l'Antiga Esquerra de l'Eixample               Eixample   \n",
       "13                          el Fort Pienc               Eixample   \n",
       "14                                Palacio                 Centro   \n",
       "17                               EL PILAR           CIUTAT VELLA   \n",
       "18  Vallvidrera, el Tibidabo i les Planes    Sarri�-Sant Gervasi   \n",
       "\n",
       "          room_type  accommodates  bathrooms  bedrooms  beds  \\\n",
       "0      Private room             2        2.0       1.0   1.0   \n",
       "1      Private room             1        1.0       1.0   1.0   \n",
       "2   Entire home/apt             4        1.0       2.0   2.0   \n",
       "3      Private room             2        2.0       1.0   1.0   \n",
       "9   Entire home/apt            12        2.0       4.0  14.0   \n",
       "11  Entire home/apt             5        2.0       3.0   4.0   \n",
       "13  Entire home/apt             4        1.0       1.0   2.0   \n",
       "14  Entire home/apt             6        1.0       2.0   3.0   \n",
       "17  Entire home/apt             5        1.0       2.0   3.0   \n",
       "18  Entire home/apt             8        2.0       5.0   6.0   \n",
       "\n",
       "                                       amenities_list   price  minimum_nights  \\\n",
       "0   TV,Internet,Wifi,Air conditioning,Elevator,Buz...   400.0               3   \n",
       "1   TV,Internet,Wifi,Air conditioning,Kitchen,Free...   170.0               4   \n",
       "2   TV,Internet,Wifi,Air conditioning,Wheelchair a...   990.0               2   \n",
       "3   TV,Internet,Wifi,Kitchen,Breakfast,Elevator,Bu...   400.0               2   \n",
       "9   TV,Cable TV,Internet,Wifi,Air conditioning,Kit...  3000.0               2   \n",
       "11  TV,Internet,Wireless Internet,Air conditioning...  1100.0               3   \n",
       "13  TV,Internet,Wifi,Air conditioning,Kitchen,Elev...   650.0               3   \n",
       "14  TV,Cable TV,Wifi,Air conditioning,Kitchen,Elev...  1030.0               2   \n",
       "17  TV,Wifi,Air conditioning,Kitchen,Paid parking ...   840.0               1   \n",
       "18  TV,Wifi,Kitchen,Free parking on premises,Smoki...  2200.0               3   \n",
       "\n",
       "    maximum_nights  has_availability  availability_30  availability_60  \\\n",
       "0              365              True                7               20   \n",
       "1               40              True                0                0   \n",
       "2              120              True               26               31   \n",
       "3              730              True                9               23   \n",
       "9               60              True                8               12   \n",
       "11             365              True                9               10   \n",
       "13             365              True                7               18   \n",
       "14              20              True               27               48   \n",
       "17              14              True               17               38   \n",
       "18             120              True               12               41   \n",
       "\n",
       "    availability_90  availability_365  number_of_reviews first_review_date  \\\n",
       "0                40               130                 78        2010-02-01   \n",
       "1                 0               162                 33        2014-10-10   \n",
       "2                31               270                148        2011-05-01   \n",
       "3                49               300                292               NaT   \n",
       "9                23               296                120        2011-04-06   \n",
       "11               10                10                189               NaT   \n",
       "13               41               224                322        2011-10-11   \n",
       "14               49                61                181        2011-01-07   \n",
       "17               64               229                 13        2011-01-11   \n",
       "18               59               250                 34        2011-08-07   \n",
       "\n",
       "   last_review_date  review_scores_rating  review_scores_accuracy  \\\n",
       "0        2017-05-09                 970.0                   100.0   \n",
       "1               NaT                 920.0                    90.0   \n",
       "2               NaT                 980.0                   100.0   \n",
       "3        2020-04-01                 940.0                   100.0   \n",
       "9               NaT                 920.0                    90.0   \n",
       "11       2016-01-10                 980.0                   100.0   \n",
       "13       2019-01-12                 960.0                   100.0   \n",
       "14       2018-01-11                 970.0                   100.0   \n",
       "17              NaT                 930.0                   100.0   \n",
       "18              NaT                 930.0                   100.0   \n",
       "\n",
       "    review_scores_cleanliness  review_scores_checkin  \\\n",
       "0                       100.0                  100.0   \n",
       "1                        90.0                  100.0   \n",
       "2                       100.0                  100.0   \n",
       "3                        90.0                  100.0   \n",
       "9                        90.0                  100.0   \n",
       "11                      100.0                  100.0   \n",
       "13                      100.0                  100.0   \n",
       "14                      100.0                  100.0   \n",
       "17                      100.0                  100.0   \n",
       "18                      100.0                  100.0   \n",
       "\n",
       "    review_scores_communication  review_scores_location  review_scores_value  \\\n",
       "0                         100.0                   100.0                100.0   \n",
       "1                         100.0                    80.0                 90.0   \n",
       "2                         100.0                   100.0                100.0   \n",
       "3                         100.0                   100.0                 90.0   \n",
       "9                         100.0                    90.0                 90.0   \n",
       "11                        100.0                   100.0                100.0   \n",
       "13                        100.0                   100.0                100.0   \n",
       "14                        100.0                   100.0                100.0   \n",
       "17                         90.0                    90.0                100.0   \n",
       "18                        100.0                   100.0                 90.0   \n",
       "\n",
       "    is_instant_bookable  reviews_per_month country       city insert_date  \n",
       "0                 False               75.0   spain     malaga  2018-07-31  \n",
       "1                 False               52.0   spain     madrid  2020-01-10  \n",
       "2                  True              142.0   spain    sevilla  2019-07-29  \n",
       "3                  True              306.0   spain  barcelona  2020-01-10  \n",
       "9                  True               14.0   spain  barcelona  2018-06-09  \n",
       "11                 True              234.0   spain  barcelona  2017-12-09  \n",
       "13                 True              327.0   spain  barcelona  2019-12-10  \n",
       "14                False              202.0   spain     madrid  2018-11-07  \n",
       "17                False               13.0   spain   valencia  2019-10-31  \n",
       "18                 True               38.0   spain  barcelona  2018-10-10  "
      ]
     },
<<<<<<< HEAD
     "execution_count": 15,
=======
     "execution_count": 13,
>>>>>>> d5d67d6 (Actualización de archivos de análisis y limpieza)
     "metadata": {},
     "output_type": "execute_result"
    }
   ],
   "source": [
    "# Filtar las filas con apartment_id duplicados\n",
    "duplicados_filas = df[df['apartment_id'].duplicated(keep=False)]\n",
    "\n",
    "# Mostrar las filas duplicadas\n",
    "duplicados_filas.head(10)"
   ]
  },
  {
   "cell_type": "markdown",
   "metadata": {},
   "source": [
    "Se decidió borrar solo los duplicados exactos y mantener los parciales (que son duplicados de la columna apartment_id) para que cada perfil decida cómo los tratará en su análisis."
   ]
  },
  {
   "cell_type": "code",
<<<<<<< HEAD
   "execution_count": 16,
=======
   "execution_count": 14,
>>>>>>> d5d67d6 (Actualización de archivos de análisis y limpieza)
   "metadata": {},
   "outputs": [],
   "source": [
    "df = df.drop_duplicates()"
   ]
  },
  {
   "cell_type": "markdown",
   "metadata": {},
   "source": [
    "### Valores nulos"
   ]
  },
  {
   "cell_type": "code",
<<<<<<< HEAD
   "execution_count": 17,
=======
   "execution_count": 15,
>>>>>>> d5d67d6 (Actualización de archivos de análisis y limpieza)
   "metadata": {},
   "outputs": [
    {
     "data": {
      "text/plain": [
       "apartment_id                      0\n",
       "name                              3\n",
       "description                     138\n",
       "host_id                           0\n",
       "neighbourhood_name                0\n",
       "neighbourhood_district         3921\n",
       "room_type                         0\n",
       "accommodates                      0\n",
       "bathrooms                        74\n",
       "bedrooms                         70\n",
       "beds                             45\n",
       "amenities_list                   17\n",
       "price                           254\n",
       "minimum_nights                    0\n",
       "maximum_nights                    0\n",
       "has_availability                  0\n",
       "availability_30                   0\n",
       "availability_60                   0\n",
       "availability_90                   0\n",
       "availability_365                  0\n",
       "number_of_reviews                 0\n",
       "first_review_date              6897\n",
       "last_review_date               6944\n",
       "review_scores_rating           2709\n",
       "review_scores_accuracy         2718\n",
       "review_scores_cleanliness      2712\n",
       "review_scores_checkin          2723\n",
       "review_scores_communication    2714\n",
       "review_scores_location         2724\n",
       "review_scores_value            2724\n",
       "is_instant_bookable               0\n",
       "reviews_per_month              2604\n",
       "country                           0\n",
       "city                              0\n",
       "insert_date                       0\n",
       "dtype: int64"
      ]
     },
<<<<<<< HEAD
     "execution_count": 17,
=======
     "execution_count": 15,
>>>>>>> d5d67d6 (Actualización de archivos de análisis y limpieza)
     "metadata": {},
     "output_type": "execute_result"
    }
   ],
   "source": [
    "df.isnull().sum()"
   ]
  },
  {
   "cell_type": "markdown",
   "metadata": {},
   "source": [
    "#### Eliminación de columnas irrelevantes"
   ]
  },
  {
   "cell_type": "code",
<<<<<<< HEAD
   "execution_count": 18,
=======
   "execution_count": 16,
>>>>>>> d5d67d6 (Actualización de archivos de análisis y limpieza)
   "metadata": {},
   "outputs": [],
   "source": [
    "df = df.drop(columns=['description', 'country'])"
   ]
  },
  {
   "cell_type": "markdown",
   "metadata": {},
   "source": [
    "#### Función de imputación de nulos"
   ]
  },
  {
   "cell_type": "code",
<<<<<<< HEAD
   "execution_count": 19,
=======
   "execution_count": 17,
>>>>>>> d5d67d6 (Actualización de archivos de análisis y limpieza)
   "metadata": {},
   "outputs": [],
   "source": [
    "def imputación_desde_duplicados(df, id_col, date_col):\n",
    "    \"\"\"\n",
    "    Conserva el duplicado más antiguo y completa sus valores faltantes \n",
    "    con los del más reciente SIN eliminar registros.\n",
    "    Devuelve el df con valores actualizados y un resumen de los cambios.\n",
    "    \"\"\"\n",
    "\n",
    "    df = df.copy()  # no modifica el df original\n",
    "    resumen = []\n",
    "\n",
    "    # filtra solo duplicadas por id_col\n",
    "    grupos_duplicados = df[df.duplicated(subset=[id_col], keep=False)]\n",
    "\n",
    "    for value, group in grupos_duplicados.groupby(id_col):\n",
    "        if len(group) > 1:\n",
    "            # ordena (más antiguo primero)\n",
    "            group = group.sort_values(by=date_col, ascending=True)\n",
    "            earliest_index = group.index[0]\n",
    "            latest_index = group.index[1]\n",
    "\n",
    "            # completa valores faltantes en el registro antiguo\n",
    "            actualizacion = {}\n",
    "            for col in df.columns:\n",
    "                if pd.isna(df.at[earliest_index, col]) and not pd.isna(df.at[latest_index, col]):\n",
    "                    df.at[earliest_index, col] = df.at[latest_index, col]\n",
    "                    actualizacion[col] = df.at[latest_index, col]\n",
    "\n",
    "            # si hubo cambios, se guarda en el resumen\n",
    "            if actualizacion:\n",
    "                resumen.append({\n",
    "                    \"ID\": value,\n",
    "                    \"índice del registro antiguo\": earliest_index,\n",
    "                    \"índice del registro reciente\": latest_index,\n",
    "                    \"columnas actualizadas\": actualizacion\n",
    "                })\n",
    "\n",
    "    # convierte el resumen en df\n",
    "    resumen_df = pd.DataFrame(resumen)\n",
    "\n",
    "    return df, resumen_df\n",
    "\n",
    "df, resumen_cambios = imputación_desde_duplicados(df, id_col='apartment_id', date_col='insert_date')"
   ]
  },
  {
   "cell_type": "markdown",
   "metadata": {},
   "source": [
    "#### Reviews_per_month"
   ]
  },
  {
   "cell_type": "code",
<<<<<<< HEAD
   "execution_count": 20,
=======
   "execution_count": 18,
>>>>>>> d5d67d6 (Actualización de archivos de análisis y limpieza)
   "metadata": {},
   "outputs": [
    {
     "data": {
      "text/html": [
       "<div>\n",
       "<style scoped>\n",
       "    .dataframe tbody tr th:only-of-type {\n",
       "        vertical-align: middle;\n",
       "    }\n",
       "\n",
       "    .dataframe tbody tr th {\n",
       "        vertical-align: top;\n",
       "    }\n",
       "\n",
       "    .dataframe thead th {\n",
       "        text-align: right;\n",
       "    }\n",
       "</style>\n",
       "<table border=\"1\" class=\"dataframe\">\n",
       "  <thead>\n",
       "    <tr style=\"text-align: right;\">\n",
       "      <th></th>\n",
       "      <th>reviews_per_month</th>\n",
       "      <th>number_of_reviews</th>\n",
       "    </tr>\n",
       "  </thead>\n",
       "  <tbody>\n",
       "    <tr>\n",
       "      <th>9988</th>\n",
       "      <td>NaN</td>\n",
       "      <td>0</td>\n",
       "    </tr>\n",
       "    <tr>\n",
       "      <th>9990</th>\n",
       "      <td>NaN</td>\n",
       "      <td>0</td>\n",
       "    </tr>\n",
       "    <tr>\n",
       "      <th>9991</th>\n",
       "      <td>NaN</td>\n",
       "      <td>0</td>\n",
       "    </tr>\n",
       "    <tr>\n",
       "      <th>9992</th>\n",
       "      <td>NaN</td>\n",
       "      <td>0</td>\n",
       "    </tr>\n",
       "    <tr>\n",
       "      <th>9994</th>\n",
       "      <td>NaN</td>\n",
       "      <td>0</td>\n",
       "    </tr>\n",
       "    <tr>\n",
       "      <th>9995</th>\n",
       "      <td>NaN</td>\n",
       "      <td>0</td>\n",
       "    </tr>\n",
       "    <tr>\n",
       "      <th>9996</th>\n",
       "      <td>NaN</td>\n",
       "      <td>0</td>\n",
       "    </tr>\n",
       "    <tr>\n",
       "      <th>9997</th>\n",
       "      <td>NaN</td>\n",
       "      <td>0</td>\n",
       "    </tr>\n",
       "    <tr>\n",
       "      <th>9998</th>\n",
       "      <td>NaN</td>\n",
       "      <td>0</td>\n",
       "    </tr>\n",
       "    <tr>\n",
       "      <th>9999</th>\n",
       "      <td>NaN</td>\n",
       "      <td>0</td>\n",
       "    </tr>\n",
       "  </tbody>\n",
       "</table>\n",
       "</div>"
      ],
      "text/plain": [
       "      reviews_per_month  number_of_reviews\n",
       "9988                NaN                  0\n",
       "9990                NaN                  0\n",
       "9991                NaN                  0\n",
       "9992                NaN                  0\n",
       "9994                NaN                  0\n",
       "9995                NaN                  0\n",
       "9996                NaN                  0\n",
       "9997                NaN                  0\n",
       "9998                NaN                  0\n",
       "9999                NaN                  0"
      ]
     },
<<<<<<< HEAD
     "execution_count": 20,
=======
     "execution_count": 18,
>>>>>>> d5d67d6 (Actualización de archivos de análisis y limpieza)
     "metadata": {},
     "output_type": "execute_result"
    }
   ],
   "source": [
    "df_nulos = df[df['reviews_per_month'].isna()]\n",
    "df_nulos[['reviews_per_month','number_of_reviews']].tail(10)"
   ]
  },
  {
   "cell_type": "markdown",
   "metadata": {},
   "source": [
    "Se observa que la mayoría de los valores nulos en reviews_per_month están justificados, ya que corresponden a alojamientos que no han recibido ninguna reseña."
   ]
  },
  {
   "cell_type": "markdown",
   "metadata": {},
   "source": [
    "#### Reviews"
   ]
  },
  {
   "cell_type": "code",
<<<<<<< HEAD
   "execution_count": 21,
=======
   "execution_count": 19,
>>>>>>> d5d67d6 (Actualización de archivos de análisis y limpieza)
   "metadata": {},
   "outputs": [
    {
     "name": "stdout",
     "output_type": "stream",
     "text": [
      "True\n"
     ]
    }
   ],
   "source": [
    "# Averiguar si hay algún valor nulo con reseña\n",
    "print((df_nulos['number_of_reviews'] > 0).any())"
   ]
  },
  {
   "cell_type": "code",
<<<<<<< HEAD
   "execution_count": 22,
=======
   "execution_count": 20,
>>>>>>> d5d67d6 (Actualización de archivos de análisis y limpieza)
   "metadata": {},
   "outputs": [
    {
     "data": {
      "text/html": [
       "<div>\n",
       "<style scoped>\n",
       "    .dataframe tbody tr th:only-of-type {\n",
       "        vertical-align: middle;\n",
       "    }\n",
       "\n",
       "    .dataframe tbody tr th {\n",
       "        vertical-align: top;\n",
       "    }\n",
       "\n",
       "    .dataframe thead th {\n",
       "        text-align: right;\n",
       "    }\n",
       "</style>\n",
       "<table border=\"1\" class=\"dataframe\">\n",
       "  <thead>\n",
       "    <tr style=\"text-align: right;\">\n",
       "      <th></th>\n",
       "      <th>name</th>\n",
       "      <th>number_of_reviews</th>\n",
       "      <th>reviews_per_month</th>\n",
       "    </tr>\n",
       "  </thead>\n",
       "  <tbody>\n",
       "    <tr>\n",
       "      <th>4985</th>\n",
       "      <td>Club Villamar - Gomez</td>\n",
       "      <td>1</td>\n",
       "      <td>NaN</td>\n",
       "    </tr>\n",
       "    <tr>\n",
       "      <th>5213</th>\n",
       "      <td>Single room luminous Sagrada Familia WIFI new ...</td>\n",
       "      <td>1</td>\n",
       "      <td>NaN</td>\n",
       "    </tr>\n",
       "    <tr>\n",
       "      <th>6393</th>\n",
       "      <td>Habitacion para disfrutar un descanso conforta...</td>\n",
       "      <td>1</td>\n",
       "      <td>NaN</td>\n",
       "    </tr>\n",
       "  </tbody>\n",
       "</table>\n",
       "</div>"
      ],
      "text/plain": [
       "                                                   name  number_of_reviews  \\\n",
       "4985                              Club Villamar - Gomez                  1   \n",
       "5213  Single room luminous Sagrada Familia WIFI new ...                  1   \n",
       "6393  Habitacion para disfrutar un descanso conforta...                  1   \n",
       "\n",
       "      reviews_per_month  \n",
       "4985                NaN  \n",
       "5213                NaN  \n",
       "6393                NaN  "
      ]
     },
<<<<<<< HEAD
     "execution_count": 22,
=======
     "execution_count": 20,
>>>>>>> d5d67d6 (Actualización de archivos de análisis y limpieza)
     "metadata": {},
     "output_type": "execute_result"
    }
   ],
   "source": [
    "# Crear tabla de aquellos nulos con reseñas\n",
    "df_nulos_filtrados = df_nulos[df_nulos['number_of_reviews'] > 0]\n",
    "df_nulos_filtrados[['name', 'number_of_reviews', 'reviews_per_month']]"
   ]
  },
  {
   "cell_type": "markdown",
   "metadata": {},
   "source": [
    "Existen 3 alojamientos que tienen 1 review, pero presentan valores nulos en reviews_per_month."
   ]
  },
  {
   "cell_type": "code",
<<<<<<< HEAD
   "execution_count": 23,
=======
   "execution_count": 21,
>>>>>>> d5d67d6 (Actualización de archivos de análisis y limpieza)
   "metadata": {},
   "outputs": [
    {
     "name": "stdout",
     "output_type": "stream",
     "text": [
      "Filas con nulos en TODAS las columnas: 2637\n",
      "Filas con nulos en ALGUNAS columnas, pero no en todas: 5897\n"
     ]
    }
   ],
   "source": [
    "# Analisis del resto de columnas de reviews\n",
    "\n",
    "# Seleccionar solo las columnas de interés\n",
    "cols_reviews = [\n",
    "    'first_review_date', 'last_review_date', 'review_scores_rating',\n",
    "    'review_scores_accuracy', 'review_scores_cleanliness', 'review_scores_checkin',\n",
    "    'review_scores_communication', 'review_scores_location', 'review_scores_value'\n",
    "]\n",
    "\n",
    "# Filtrar filas donde TODAS las columnas están nulas\n",
    "df_todas_nulas = df[df[cols_reviews].isnull().all(axis=1)]\n",
    "\n",
    "# Filtrar filas donde ALGUNA columna está nula, pero no todas\n",
    "df_parcialmente_nulas = df[df[cols_reviews].isnull().any(axis=1) & ~df[cols_reviews].isnull().all(axis=1)]\n",
    "\n",
    "# Mostrar el número de filas en cada caso\n",
    "print(f\"Filas con nulos en TODAS las columnas: {len(df_todas_nulas)}\")\n",
    "print(f\"Filas con nulos en ALGUNAS columnas, pero no en todas: {len(df_parcialmente_nulas)}\")"
   ]
  },
  {
   "cell_type": "code",
<<<<<<< HEAD
   "execution_count": 24,
=======
   "execution_count": 22,
>>>>>>> d5d67d6 (Actualización de archivos de análisis y limpieza)
   "metadata": {},
   "outputs": [
    {
     "name": "stdout",
     "output_type": "stream",
     "text": [
      "¿Todas las filas con valores nulos en 'cols_reviews' tienen 'number_of_reviews' igual a 0?: False\n"
     ]
    }
   ],
   "source": [
    "# Verificar si todas las filas en df_todas_nulas tienen number_of_reviews == 0\n",
    "todas_nulas_son_cero = (df_todas_nulas['number_of_reviews'] == 0).all()\n",
    "\n",
    "print(f\"¿Todas las filas con valores nulos en 'cols_reviews' tienen 'number_of_reviews' igual a 0?: {todas_nulas_son_cero}\")"
   ]
  },
  {
   "cell_type": "markdown",
   "metadata": {},
   "source": [
    "#### Neighbourhood_district"
   ]
  },
  {
   "cell_type": "code",
<<<<<<< HEAD
   "execution_count": 25,
=======
   "execution_count": 23,
>>>>>>> d5d67d6 (Actualización de archivos de análisis y limpieza)
   "metadata": {},
   "outputs": [],
   "source": [
    "# Imputación de valores nulos en 'neighbourhood_district' utilizando la moda de 'neighbourhood_name' filtrando por 'city'.\n",
    "\n",
    "df['neighbourhood_district'] = df.groupby(['city', 'neighbourhood_name'])['neighbourhood_district'].transform(\n",
    "    lambda x: x.fillna(x.mode()[0] if not x.mode().empty else \"Desconocido\")\n",
    ")"
   ]
  },
  {
   "cell_type": "markdown",
   "metadata": {},
   "source": [
    "#### Características numéricas del alojamiento\n",
    "Se sustituyen los nulos por 1, bajo el entendido de que en todos los alojamientos por defecto hay 1 cama, 1 baño y aloja a al menos a 1 persona."
   ]
  },
  {
   "cell_type": "code",
<<<<<<< HEAD
   "execution_count": 26,
=======
   "execution_count": 24,
>>>>>>> d5d67d6 (Actualización de archivos de análisis y limpieza)
   "metadata": {},
   "outputs": [],
   "source": [
    "df[['beds', 'bathrooms', 'bedrooms']] = df[['accommodates', 'bathrooms', 'bedrooms']].fillna(1)"
   ]
  },
  {
   "cell_type": "markdown",
   "metadata": {},
   "source": [
    "#### Precio"
   ]
  },
  {
   "cell_type": "code",
<<<<<<< HEAD
   "execution_count": 27,
=======
   "execution_count": 25,
>>>>>>> d5d67d6 (Actualización de archivos de análisis y limpieza)
   "metadata": {},
   "outputs": [],
   "source": [
    "# Reemplazar los nulos en 'price' con la mediana del 'price' según 'room_type'\n",
    "df['price'] = df.groupby('room_type')['price'].transform(lambda x: x.fillna(x.median()))"
   ]
  },
  {
   "cell_type": "markdown",
   "metadata": {},
   "source": [
    "#### Columnas de texto"
   ]
  },
  {
   "cell_type": "code",
<<<<<<< HEAD
   "execution_count": 28,
=======
   "execution_count": 26,
>>>>>>> d5d67d6 (Actualización de archivos de análisis y limpieza)
   "metadata": {},
   "outputs": [
    {
     "name": "stderr",
     "output_type": "stream",
     "text": [
<<<<<<< HEAD
      "C:\\Users\\Evelyn\\AppData\\Local\\Temp\\ipykernel_15948\\1815731930.py:1: FutureWarning: A value is trying to be set on a copy of a DataFrame or Series through chained assignment using an inplace method.\n",
=======
      "C:\\Users\\oswal\\AppData\\Local\\Temp\\ipykernel_31900\\1815731930.py:1: FutureWarning: A value is trying to be set on a copy of a DataFrame or Series through chained assignment using an inplace method.\n",
>>>>>>> d5d67d6 (Actualización de archivos de análisis y limpieza)
      "The behavior will change in pandas 3.0. This inplace method will never work because the intermediate object on which we are setting values always behaves as a copy.\n",
      "\n",
      "For example, when doing 'df[col].method(value, inplace=True)', try using 'df.method({col: value}, inplace=True)' or df[col] = df[col].method(value) instead, to perform the operation inplace on the original object.\n",
      "\n",
      "\n",
      "  df[\"name\"].fillna(\"Desconocido\", inplace=True)\n"
     ]
    }
   ],
   "source": [
    "df[\"name\"].fillna(\"Desconocido\", inplace=True)\n",
    "df['amenities_list'] = df['amenities_list'].fillna(\"Sin información\")"
   ]
  },
  {
   "cell_type": "markdown",
   "metadata": {},
   "source": [
    "#### Verificación"
   ]
  },
  {
   "cell_type": "code",
   "execution_count": 29,
   "metadata": {},
   "outputs": [
    {
     "data": {
      "text/plain": [
       "apartment_id                      0\n",
       "name                              0\n",
       "host_id                           0\n",
       "neighbourhood_name                0\n",
       "neighbourhood_district            0\n",
       "room_type                         0\n",
       "accommodates                      0\n",
       "bathrooms                         0\n",
       "bedrooms                          0\n",
       "beds                              0\n",
       "amenities_list                    0\n",
       "price                             0\n",
       "minimum_nights                    0\n",
       "maximum_nights                    0\n",
       "has_availability                  0\n",
       "availability_30                   0\n",
       "availability_60                   0\n",
       "availability_90                   0\n",
       "availability_365                  0\n",
       "number_of_reviews                 0\n",
       "first_review_date              6883\n",
       "last_review_date               6901\n",
       "review_scores_rating           2685\n",
       "review_scores_accuracy         2694\n",
       "review_scores_cleanliness      2688\n",
       "review_scores_checkin          2699\n",
       "review_scores_communication    2690\n",
       "review_scores_location         2700\n",
       "review_scores_value            2700\n",
       "is_instant_bookable               0\n",
       "reviews_per_month              2579\n",
       "city                              0\n",
       "insert_date                       0\n",
       "dtype: int64"
      ]
     },
     "execution_count": 29,
     "metadata": {},
     "output_type": "execute_result"
    }
   ],
   "source": [
    "df.isnull().sum()"
   ]
  },
  {
   "cell_type": "markdown",
   "metadata": {},
   "source": [
    "El df resultante tiene únicamente nulos en las variables relativas a las reseñas, lo cual es esperable, ya que no todos los avisos tendrán reseñas."
   ]
  },
  {
   "cell_type": "markdown",
   "metadata": {},
   "source": [
    "# Análisis de la variable precio"
   ]
  },
  {
   "cell_type": "markdown",
   "metadata": {},
   "source": [
    "### Histograma con KDE: Para ver la distribución general de los precios.\n",
    "### Boxplot: Para visualizar la dispersión y los posibles outliers."
   ]
  },
  {
   "cell_type": "code",
<<<<<<< HEAD
   "execution_count": 30,
=======
   "execution_count": 28,
>>>>>>> d5d67d6 (Actualización de archivos de análisis y limpieza)
   "metadata": {},
   "outputs": [
    {
     "data": {
      "image/png": "iVBORw0KGgoAAAANSUhEUgAAA/YAAAIjCAYAAACpnIB8AAAAOXRFWHRTb2Z0d2FyZQBNYXRwbG90bGliIHZlcnNpb24zLjkuMywgaHR0cHM6Ly9tYXRwbG90bGliLm9yZy/GU6VOAAAACXBIWXMAAA9hAAAPYQGoP6dpAABihklEQVR4nO3deXhU5f3+8XsmyUw2kgAhGxBAQHZEQTFVEQGJFK1W/FatC1oVF1zxJxZXRC2VVsUdW6vUilW0VltRBFkVARFB2QuIBIUkhCUhIfs8vz/CDAwJ22QyZ5b367rmMjnnmTOfYY6QO89mM8YYAQAAAACAkGS3ugAAAAAAAOA7gj0AAAAAACGMYA8AAAAAQAgj2AMAAAAAEMII9gAAAAAAhDCCPQAAAAAAIYxgDwAAAABACCPYAwAAAAAQwgj2AADghFVWVuoPf/iDPvvsM6tLAQAg4hHsAQA4ivHjx8tmswXktQYOHKiBAwd6vp8/f75sNpvef//9gLz+oWw2m8aPH3/E82PGjNG0adPUv3//gNRz3XXXqX379gF5LSsc/tkDAHAiCPYAgIgxdepU2Ww2zyM2NlZZWVnKzc3V888/r3379vnldbZv367x48dr5cqVfrlesJk+fbo+/PBDffrpp0pJSbG6HJ+4f2HjfsTHx6t79+566KGHVFJSYnV5AACckGirCwAAINAmTJigDh06qLq6Wvn5+Zo/f77uvvtuPfPMM/rPf/6j3r17e9o+9NBD+v3vf39C19++fbsee+wxtW/fXn369Dnu582aNeuEXqcplZeXKzq6/o8Jxhj99NNP+vTTT5WdnW1BZf71yiuvKDExUaWlpZo1a5aefPJJzZ07V4sWLQrYSA0puD57AEDoIdgDACLOsGHD1K9fP8/348aN09y5c3XhhRfqV7/6ldatW6e4uDhJUnR0dIMB15/279+v+Ph4ORyOJn2dExEbG9vgcZvNpjFjxgS4mqZz2WWXKTU1VZJ0yy23aMSIEfrggw+0ZMkS5eTkNPgc9+flT8H02QMAQg9D8QEAkDRo0CA9/PDD2rp1q9566y3P8Ybm2M+ePVtnn322UlJSlJiYqC5duuiBBx6QVDcv/vTTT5ckXX/99Z6h3lOnTpVUN5e6Z8+eWr58uQYMGKD4+HjPc480z7q2tlYPPPCAMjIylJCQoF/96lfatm2bV5v27dvruuuuq/fchq5ZUVGh8ePH6+STT1ZsbKwyMzN16aWXavPmzZ42Dc2xX7FihYYNG6akpCQlJiZq8ODBWrJkiVcb93SHRYsWacyYMWrVqpUSEhL061//Wjt37qxXX0M+/PBD9ezZU7GxserZs6f+/e9/N9jO5XJp8uTJ6tGjh2JjY5Wenq6bb75Ze/bsOa7XacigQYMkSVu2bJF09M+rsrJSjz76qDp16iSn06m2bdtq7NixqqysrHfdt956S2eccYbi4+PVvHlzDRgwwKuXvqHPqbCwUDfccIPS09MVGxurU045RX//+9/rXfudd95R37591axZMyUlJalXr1567rnnfP4zAACEHnrsAQA44JprrtEDDzygWbNm6aabbmqwzZo1a3ThhReqd+/emjBhgpxOpzZt2qRFixZJkrp166YJEybokUce0ahRo3TOOedIkn7xi194rrFr1y4NGzZMV1xxha6++mqlp6cfta4nn3xSNptN999/vwoLCzV58mQNGTJEK1eu9IwsOF61tbW68MILNWfOHF1xxRW66667tG/fPs2ePVurV69Wx44dj/i+zznnHCUlJWns2LGKiYnRq6++qoEDB2rBggX1FtG744471Lx5cz366KP68ccfNXnyZN1+++169913j1rfrFmzNGLECHXv3l0TJ07Url27dP3116tNmzb12t58882aOnWqrr/+et15553asmWLXnzxRa1YsUKLFi1STEzMCf3ZSPL8cqNly5aeYw19Xi6XS7/61a/05ZdfatSoUerWrZtWrVqlZ599Vv/73//04Ycfep7/2GOPafz48frFL36hCRMmyOFwaOnSpZo7d66GDh3aYB3l5eUaOHCgNm3apNtvv10dOnTQe++9p+uuu0579+7VXXfdJanul0xXXnmlBg8erKeeekqStG7dOi1atMjTBgAQAQwAABHijTfeMJLMsmXLjtgmOTnZnHrqqZ7vH330UXPoP5fPPvuskWR27tx5xGssW7bMSDJvvPFGvXPnnnuukWSmTJnS4Llzzz3X8/28efOMJNO6dWtTUlLiOT59+nQjyTz33HOeY+3atTMjR4485jVff/11I8k888wz9dq6XC7P15LMo48+6vn+kksuMQ6Hw2zevNlzbPv27aZZs2ZmwIABnmPuP+MhQ4Z4Xe+ee+4xUVFRZu/evfVe91B9+vQxmZmZXu1mzZplJJl27dp5jn3xxRdGkpk2bZrX82fOnNng8cO5P9cNGzaYnTt3mi1btphXX33VOJ1Ok56ebsrKyowxR/68/vGPfxi73W6++OILr+NTpkwxksyiRYuMMcZs3LjR2O128+tf/9rU1tZ6tT30z+fwz2ny5MlGknnrrbc8x6qqqkxOTo5JTEz03A933XWXSUpKMjU1NUd9vwCA8MZQfAAADpGYmHjU1fHdq8B/9NFHcrlcPr2G0+nU9ddff9ztr732WjVr1szz/WWXXabMzEx98sknJ/za//rXv5Samqo77rij3rkjLRZXW1urWbNm6ZJLLtFJJ53kOZ6Zmanf/va3+vLLL+utJD9q1Civ651zzjmqra3V1q1bj1jbjh07tHLlSo0cOVLJycme4+eff766d+/u1fa9995TcnKyzj//fBUVFXkeffv2VWJioubNm3f0P4gDunTpolatWqlDhw66+eab1alTJ82YMcNrDn1Dn9d7772nbt26qWvXrl6v7x7K7379Dz/8UC6XS4888ojsdu8fu462ON8nn3yijIwMXXnllZ5jMTExuvPOO1VaWqoFCxZIqrsfy8rKNHv27ON6vwCA8ESwBwDgEKWlpV4h+nCXX365zjrrLN14441KT0/XFVdcoenTp59QyG/duvUJLZbWuXNnr+9tNps6deqkH3/88biv4bZ582Z16dLlhBYE3Llzp/bv368uXbrUO9etWze5XK56c/4PXzG/efPmknTU+e/u0H/4+5VU77U3btyo4uJipaWlqVWrVl6P0tJSFRYWHtd7+9e//qXZs2dr/vz52rRpk1avXq2+fft6tWno89q4caPWrFlT77VPPvlkSfK8/ubNm2W32+v9YuJYtm7dqs6dO9f7ZUC3bt085yXptttu08knn6xhw4apTZs2+t3vfqeZM2ee0GsBAEIfc+wBADjgp59+UnFxsTp16nTENnFxcVq4cKHmzZunGTNmaObMmXr33Xc1aNAgzZo1S1FRUcd8nROdF388jtbbfjw1+duRXtMY45fru1wupaWladq0aQ2eb9Wq1XFdZ8CAAZ5V8Y+koc/L5XKpV69eeuaZZxp8Ttu2bY/r9RsrLS1NK1eu1GeffaZPP/1Un376qd544w1de+21DS60BwAITwR7AAAO+Mc//iFJys3NPWo7u92uwYMHa/DgwXrmmWf0hz/8QQ8++KDmzZunIUOG+H3/840bN3p9b4zRpk2b1Lt3b8+x5s2ba+/evfWeu3XrVq/h8x07dtTSpUtVXV193IvLtWrVSvHx8dqwYUO9c+vXr5fdbvdLkG3Xrp2k+u9XUr3X7tixoz7//HOdddZZTfKLkmPp2LGjvvvuOw0ePPion3fHjh3lcrm0du1a9enT57iv365dO33//fdyuVxevfbr16/3nHdzOBy66KKLdNFFF8nlcum2227Tq6++qocffviov6QCAIQPhuIDACBp7ty5evzxx9WhQwddddVVR2y3e/fuesfcgc29zVlCQoIkNRi0ffHmm296zft///33tWPHDg0bNsxzrGPHjlqyZImqqqo8xz7++ON6Q+RHjBihoqIivfjii/Ve50i96VFRURo6dKg++ugjr+H/BQUFevvtt3X22WcrKSnJ17fnkZmZqT59+ujvf/+7iouLPcdnz56ttWvXerX9zW9+o9raWj3++OP1rlNTU+O3P/sj+c1vfqOff/5Zf/3rX+udKy8vV1lZmSTpkksukd1u14QJE+pN1zja6IVf/vKXys/P99pFoKamRi+88IISExN17rnnSqpbsf9Qdrvd8wufhrbdAwCEJ3rsAQAR59NPP9X69etVU1OjgoICzZ07V7Nnz1a7du30n//8R7GxsUd87oQJE7Rw4UINHz5c7dq1U2FhoV5++WW1adNGZ599tqS6kJ2SkqIpU6aoWbNmSkhIUP/+/dWhQwef6m3RooXOPvtsXX/99SooKNDkyZPVqVMnry35brzxRr3//vu64IIL9Jvf/EabN2/WW2+9VW/7umuvvVZvvvmmxowZo6+//lrnnHOOysrK9Pnnn+u2227TxRdf3GANTzzxhGbPnq2zzz5bt912m6Kjo/Xqq6+qsrJSkyZN8ul9NWTixIkaPny4zj77bP3ud7/T7t279cILL6hHjx4qLS31tDv33HN18803a+LEiVq5cqWGDh2qmJgYbdy4Ue+9956ee+45XXbZZX6r63DXXHONpk+frltuuUXz5s3TWWedpdraWq1fv17Tp0/XZ599pn79+qlTp0568MEH9fjjj+ucc87RpZdeKqfTqWXLlikrK0sTJ05s8PqjRo3Sq6++quuuu07Lly9X+/bt9f7772vRokWaPHmyZx2IG2+8Ubt379agQYPUpk0bbd26VS+88IL69OnjmY8PAIgA1i7KDwBA4Li3YnM/HA6HycjIMOeff7557rnnvLaUczt8u7s5c+aYiy++2GRlZRmHw2GysrLMlVdeaf73v/95Pe+jjz4y3bt3N9HR0V5b35177rmmR48eDdZ3pO3u/vnPf5px48aZtLQ0ExcXZ4YPH262bt1a7/lPP/20ad26tXE6neass84y33zzTb1rGmPM/v37zYMPPmg6dOhgYmJiTEZGhrnsssu8trLTYdvdGWPMt99+a3Jzc01iYqKJj4835513nvnqq68a/DM+fEtB93uZN29eg+/9UP/6179Mt27djNPpNN27dzcffPCBGTlypNd2d25/+ctfTN++fU1cXJxp1qyZ6dWrlxk7dqzZvn37UV/D/bkebdtCY47+eVVVVZmnnnrK9OjRwzidTtO8eXPTt29f89hjj5ni4mKvtq+//ro59dRTPe3OPfdcM3v2bK/XOfxzKigoMNdff71JTU01DofD9OrVq94Wiu+//74ZOnSoSUtLMw6Hw2RnZ5ubb77Z7Nix46jvCwAQXmzG+GkVGwAAAAAAEHDMsQcAAAAAIIQR7AEAAAAACGEEewAAAAAAQhjBHgAAAACAEEawBwAAAAAghBHsAQAAAAAIYdFWFxAKXC6Xtm/frmbNmslms1ldDgAAAAAgzBljtG/fPmVlZcluP3qfPMH+OGzfvl1t27a1ugwAAAAAQITZtm2b2rRpc9Q2BPvj0KxZM0l1f6BJSUkWVwMAAAAACHclJSVq27atJ48eDcH+OLiH3yclJRHsAQAAAAABczzTwVk8DwAAAACAEEawBwAAAAAghBHsAQAAAAAIYQR7AAAAAABCGMEeAAAAAIAQRrAHAAAAACCEEewBAAAAAAhhBHsAAAAAAEIYwR4AAAAAgBBGsAcAAAAAIIQR7AEAAAAACGEEewAAAAAAQhjBHgAAAACAEEawBwAAAAAghBHsAQAAAAAIYQR7AAAAAABCGMEeAAAAAIAQRrCPcBXVtVq+dbdqXcbqUgAAAAAAPiDYR7jJn2/UiFcW6/3l26wuBQAAAADgA4J9hFufXyJJ+mJjkcWVAAAAAAB8QbCPcPnFFZKkFXl7rS0EAAAAAOATgn2E23Eg2P+8t1yFJRUWVwMAAAAAOFEE+wi2v6pGxeXVnu+/pdceAAAAAEIOwT6CuYfhu63YtseiSgAAAAAAviLYR7B6wZ4eewAAAAAIOQT7COaeX5+ZHCtJ+v6nvaqpdVlZEgAAAADgBBHsI1j+gcXyftExVc1io1VR7dL6/H0WVwUAAAAAOBEE+wi2o7hcktQ6JVZ92qZIklbkMc8eAAAAAEIJwT6CuefYZyTH6dTs5pKYZw8AAAAAoSba6gJgnUPn2Gel1M2zX7Ftr4UVAQAAAABOFME+ghWUuHvsYz0L6G0pKtOesio1T3BYWRoAAAAA4DgxFD9CVdbUqqi0SpKUkRSrlHiHTmqVIIn97AEAAAAglBDsI1RhSaUkyRltV0p8jCTpNObZAwAAAEDIIdhHqEPn19tsNknSqdkpkgj2AAAAABBKCPYRyr3VXcaBufWSdGrbuh77ldv2qtZlLKkLAAAAAHBiCPYRKt/TYx/nOXZyeqLiHVEqrazRpsJSq0oDAAAAAJwAgn2E2lF8cEV8t+gou05pkyJJWpHHAnoAAAAAEAoI9hEq/5A59odyz7P/lmAPAAAAACGBYB+hdrj3sE/yDvbdMpMkST8W7Q94TQAAAACAE0ewj1D5BxbPO3SOvXRwaH7+geAPAAAAAAhuBPsIVFPr0s59dfvYZxw2FD+9Wd33BSUVMoaV8QEAAAAg2BHsI9DO0kq5jBQTZVPLBIfXubQkpySpssalkvIaK8oDAAAAAJwAgn0Ecq+In9YsVna7zetcbEyUUuJjJEkF+xiODwAAAADBjmAfgY60Ir7bocPxAQAAAADBjWAfgRraw/5Q7uH4BSWVAasJAAAAAOAbgn0EOrgi/hF67JPosQcAAACAUEGwj0AHe+zjGjyffqDHvpBgDwAAAABBj2AfgY45x97TY89QfAAAAAAIdgT7CHTMOfYHFs/Lp8ceAAAAAIIewT7CuFzGM3f+yD32DMUHAAAAgFBBsI8wRWWVqnEZ2W1Sq0Rng23cQ/EL91XK5TKBLA8AAAAAcIII9hHGPb++VTOnoqMa/vhbNasL/DUuo937qwJWGwAAAADgxBHsI0z+MVbEl6SYKLtSEx2S2PIOAAAAAIIdwT7CuBfEy0xqeH69m2c4PivjAwAAAEBQI9hHmGOtiO92cMs7euwBAAAAIJgR7CPMsfawd3OvjM9e9gAAAAAQ3Aj2EWZHcbmkY/fYu/eyL9hHjz0AAAAABDOCfYRx98BnHPcce4I9AAAAAAQzgn2EKauskSQlxkYftZ17KH4+wR4AAAAAghrBPsJUVNdKkmJjoo7a7uDiecyxBwAAAIBgRrCPMBU1LknHDvZpB3rsi0orVVPravK6AAAAAAC+IdhHEGOMqg4Ee2f00T/6lglORdltMkYqKq0KRHkAAAAAAB8Q7CNIZc3Bnvdj9dhH2W1qleje8o559gAAAAAQrAj2EcQ9v16SYo/RYy8dupc9wR4AAAAAghXBPoK4e+yj7DZFRx1PsHfvZc8CegAAAAAQrAj2EcSzIv5x9NZL7GUPAAAAAKGAYB9B3D32zmPMr3djKD4AAAAABD+CfQQ50R77tAM99vnsZQ8AAAAAQYtgH0Eqqo9vD3s3huIDAAAAQPAj2EeQypq6HnvHcc+xZyg+AAAAAAQ7gn0EOeEe+2Z1PfZ79ld7fikAAAAAAAguBPsI4pljH3N8H3tKfIwcB7bFK2SePQAAAAAEJYJ9BPGsih99fD32NptNaQeG4xfuYzg+AAAAAAQjgn0EOdEee+ngAnoF9NgDAAAAQFAi2EeQE+2xl1hADwAAAACCHcE+gvjSY5/WjB57AAAAAAhmBPsIUukJ9sffY5+R7A729NgDAAAAQDAi2EeQg0PxT2SOPUPxAQAAACCYEewjSIUPPfbpzeixBwAAAIBgFm11AfC/vLw8FRUV1Tv+U/5eSdKuwgJ9+23ZUa+Rmpqq7OxspR1YFZ997AEAAAAgOAVNj/0f//hH2Ww23X333Z5jFRUVGj16tFq2bKnExESNGDFCBQUFXs/Ly8vT8OHDFR8fr7S0NN13332qqanxajN//nyddtppcjqd6tSpk6ZOnRqAd2SNvLw8de3WTX379q33+OjjTyRJLz7/bIPnD3107dZNeXl5apVYNxR/X2WNp8cfAAAAABA8gqLHftmyZXr11VfVu3dvr+P33HOPZsyYoffee0/Jycm6/fbbdemll2rRokWSpNraWg0fPlwZGRn66quvtGPHDl177bWKiYnRH/7wB0nSli1bNHz4cN1yyy2aNm2a5syZoxtvvFGZmZnKzc0N+HttakVFRSrfv19X3f8npWd39Dq3eGe0tpdLg0Zcp47XXXvEaxTkbda0p+5TUVGR2rZtq2i7TTUuo91lVcpKiWvqtwAAAAAAOAGWB/vS0lJdddVV+utf/6onnnjCc7y4uFh/+9vf9Pbbb2vQoEGSpDfeeEPdunXTkiVLdOaZZ2rWrFlau3atPv/8c6Wnp6tPnz56/PHHdf/992v8+PFyOByaMmWKOnTooKefflqS1K1bN3355Zd69tlnwzLYu6Vnd1Sbzj28jjnKfpbK96tVRmu1yUo6ruvYbDY1T3Bo575Kgj0AAAAABCHLh+KPHj1aw4cP15AhQ7yOL1++XNXV1V7Hu3btquzsbC1evFiStHjxYvXq1Uvp6emeNrm5uSopKdGaNWs8bQ6/dm5urucaDamsrFRJSYnXIxzUuIwkKcpuO6HntUxwSJJ2lVX5vSYAAAAAQONY2mP/zjvv6Ntvv9WyZcvqncvPz5fD4VBKSorX8fT0dOXn53vaHBrq3efd547WpqSkROXl5YqLq98DPXHiRD322GM+v69gVVNbF+yjo04w2CceCPalLKAHAAAAAMHGsh77bdu26a677tK0adMUGxtrVRkNGjdunIqLiz2Pbdu2WV2SX9Qe6LGPPuEe+7oF9HbTYw8AAAAAQceyYL98+XIVFhbqtNNOU3R0tKKjo7VgwQI9//zzio6OVnp6uqqqqrR3716v5xUUFCgjI0OSlJGRUW+VfPf3x2qTlJTUYG+9JDmdTiUlJXk9wkGNyyVJiraf2Mfe4sBQ/KJSgj0AAAAABBvLgv3gwYO1atUqrVy50vPo16+frrrqKs/XMTExmjNnjuc5GzZsUF5ennJyciRJOTk5WrVqlQoLCz1tZs+eraSkJHXv3t3T5tBruNu4rxFJPHPsT3Qo/oFgv7uMofgAAAAAEGwsm2PfrFkz9ezZ0+tYQkKCWrZs6Tl+ww03aMyYMWrRooWSkpJ0xx13KCcnR2eeeaYkaejQoerevbuuueYaTZo0Sfn5+XrooYc0evRoOZ11w8dvueUWvfjiixo7dqx+97vfae7cuZo+fbpmzJgR2DccBDxz7E90KH4iQ/EBAAAAIFhZvt3d0Tz77LOy2+0aMWKEKisrlZubq5dfftlzPioqSh9//LFuvfVW5eTkKCEhQSNHjtSECRM8bTp06KAZM2bonnvu0XPPPac2bdrotddeC+ut7o7E1zn2DMUHAAAAgOAVVMF+/vz5Xt/HxsbqpZde0ksvvXTE57Rr106ffPLJUa87cOBArVixwh8lhjRf59inJrqH4hPsAQAAACDYWL6PPQLD5TI60GF/wnPs3T32bHcHAAAAAMGHYB8h3AvnSb7PsS+rqlVFda1f6wIAAAAANA7BPkLUNiLYJ8VGK+ZALz/D8QEAAAAguBDsI4R7fn2UzSab7cSCvc1mU/N493B8gj0AAAAABBOCfYTwdQ97N/dw/F3sZQ8AAAAAQYVgHyF83cPerWUCPfYAAAAAEIwI9hHC1z3s3Vqy5R0AAAAABCWCfYTwdQ97N8+WdwR7AAAAAAgqBPsI0dg59qnuOfbsZQ8AAAAAQYVgHyEaO8fe3WPPUHwAAAAACC4E+wjhnmMf1chgX0SwBwAAAICgQrCPEAfn2Ps6FN/dY89QfAAAAAAIJgT7COEZih/l6+J5dXPsd7PdHQAAAAAEFYJ9hPDXdndlVbWqqK71W10AAAAAgMYh2EeImkYG+2bOaMUcWFGfLe8AAAAAIHgQ7CNEY/ext9lsB/eyZ8s7AAAAAAgaBPsI0dh97CWp5YF59vTYAwAAAEDwINhHiMbuYy8dnGfPAnoAAAAAEDwI9hGisfvYS1JL91B8trwDAAAAgKBBsI8Qjd3HXjq45R1D8QEAAAAgeBDsI0Rj97GXDg7F38VQfAAAAAAIGgT7CNHYfeylg0Pxd9NjDwAAAABBg2AfIRq7j72kg9vdEewBAAAAIGgQ7COEe459o7a7Szwwx5597AEAAAAgaBDsI8TBHvtGzLFnKD4AAAAABB2CfYTw5z72+6tqVV5V65e6AAAAAACNQ7CPEP7Yxz7RGS3HgVX12cseAAAAAIIDwT5C+GMfe5vN5llAj+H4AAAAABAcCPYRwh/72EvsZQ8AAAAAwYZgHwGMMX7Zx15iyzsAAAAACDYE+wjgMpI58HVjg30qW94BAAAAQFAh2EcA9/x6qXH72Etijj0AAAAABBmCfQRwz6+XpChb44K9Z449wR4AAAAAggLBPgIcOr/e1thg755jz1B8AAAAAAgKBPsIUOOHPezdWiTUzbFnKD4AAAAABAeCfQTw7GHfyPn10sGh+EVsdwcAAAAAQYFgHwE8e9jbG/9xt2TxPAAAAAAIKgT7COCvPewlqeWB7e7Kq2u1v6qm0dcDAAAAADQOwT4C+HOOfYIjSo7outtmF8PxAQAAAMByBPsIUFPrvzn2NpuN4fgAAAAAEEQI9hHg4FB8/3zcSbExkqR9FQzFBwAAAACrRVtdAJpejY9z7NetW9fgcVtthSRp5doNit+X12Cb1NRUZWdnn9DrAQAAAABOHME+ApxosC/ZvVOSdPXVVzd4vtVljyq+4+ka98hjKv1+doNt4uLjtX7dOsI9AAAAADQxgn0EcO9jH3Wcc+zLS0skScNvflBdevetd/7roiht2y8NvHK0Tr751nrnC/I2a9pT96moqIhgDwAAAABNjGAfAXzdx75lVju16dyj3vH/1RZq2/5ixTVPU5uTWvqlRgAAAACAb1g8LwLU+nG7O0lyHtjurqrG5ZfrAQAAAAB8R7CPAL4unnck7n3sK2tq/XI9AAAAAIDvCPYRwJ/72Ev02AMAAABAMCHYRwB/72N/sMeeYA8AAAAAViPYRwB/D8V3RkdJosceAAAAAIIBwT4CuIP98W53dyz02AMAAABA8CDYRwD3Pvb+67Fnjj0AAAAABAuCfQTwdR/7I3Eesiq+McYv1wQAAAAA+IZgHwH8vY+9eyi+yxy8NgAAAADAGgT7COD3feyjDt42zLMHAAAAAGsR7COAv/ext9lsnl575tkDAAAAgLUI9hHA3/vYS4fOsyfYAwAAAICVCPYRwN9D8aVDt7yr9ds1AQAAAAAnjmAfAfy9j70kOaMYig8AAAAAwYBgH+aMMYcMxW+CHvtagj0AAAAAWIlgH+YO3Y7Ov3PsoyRJVdUEewAAAACwEsE+zNUcEuz9tY+9xOJ5AAAAABAsCPZhzh3sbTb/Bnu2uwMAAACA4ECwD3OePez9GOqlQ3rsa1kVHwAAAACsRLAPc02xh71Ejz0AAAAABAuCfZjzbHXn9x77usXzmGMPAAAAANYi2Ie5mtoDPfZ+3MNeosceAAAAAIIFwT7M1biaeI49wR4AAAAALEWwD3PMsQcAAACA8EawD3NNN8fe3WNfK2OMX68NAAAAADh+BPsw5w72/p5j7148z2UOvgYAAAAAIPAI9mGuqfaxj4myyX1FhuMDAAAAgHUI9mGutomG4ttsNs88exbQAwAAAADrEOzDXE0TLZ4nsYAeAAAAAAQDgn2Ya6p97CXvBfQAAAAAANYg2Ie5g9vd+T/Y02MPAAAAANYj2Ie5Gpd78Tz/f9TulfGZYw8AAAAA1iHYh7mm2sdeosceAAAAAIIBwT7MNdU+9pLkjGJVfAAAAACwGsE+zDXVPvaSDtnujsXzAAAAAMAqBPsw15RD8Z0xDMUHAAAAAKsR7MNcbRPuY++MYvE8AAAAALAawT7MNeU+9iyeBwAAAADWszTYv/LKK+rdu7eSkpKUlJSknJwcffrpp57zFRUVGj16tFq2bKnExESNGDFCBQUFXtfIy8vT8OHDFR8fr7S0NN13332qqanxajN//nyddtppcjqd6tSpk6ZOnRqItxcUmnIfe6d7jn0twR4AAAAArGJpsG/Tpo3++Mc/avny5frmm280aNAgXXzxxVqzZo0k6Z577tF///tfvffee1qwYIG2b9+uSy+91PP82tpaDR8+XFVVVfrqq6/097//XVOnTtUjjzziabNlyxYNHz5c5513nlauXKm7775bN954oz777LOAv18rNOU+9vTYAwAAAID1oq188Ysuusjr+yeffFKvvPKKlixZojZt2uhvf/ub3n77bQ0aNEiS9MYbb6hbt25asmSJzjzzTM2aNUtr167V559/rvT0dPXp00ePP/647r//fo0fP14Oh0NTpkxRhw4d9PTTT0uSunXrpi+//FLPPvuscnNzA/6eA82zeF5TbHfHqvgAAAAAYLmgmWNfW1urd955R2VlZcrJydHy5ctVXV2tIUOGeNp07dpV2dnZWrx4sSRp8eLF6tWrl9LT0z1tcnNzVVJS4un1X7x4sdc13G3c12hIZWWlSkpKvB6hyjPHvgm3u6uqcckY4/frAwAAAACOzfJgv2rVKiUmJsrpdOqWW27Rv//9b3Xv3l35+flyOBxKSUnxap+enq78/HxJUn5+vleod593nztam5KSEpWXlzdY08SJE5WcnOx5tG3b1h9v1RJNO8e+blV8lzk4MgAAAAAAEFiWB/suXbpo5cqVWrp0qW699VaNHDlSa9eutbSmcePGqbi42PPYtm2bpfU0hnuOfVPsYx8TZZP7qmx5BwAAAADWsHSOvSQ5HA516tRJktS3b18tW7ZMzz33nC6//HJVVVVp7969Xr32BQUFysjIkCRlZGTo66+/9rqee9X8Q9scvpJ+QUGBkpKSFBcX12BNTqdTTqfTL+/PSi6XkbsjPTrK/7/DsdlsckTbVVnjqltAL/T/yAAAAAAg5FjeY384l8ulyspK9e3bVzExMZozZ47n3IYNG5SXl6ecnBxJUk5OjlatWqXCwkJPm9mzZyspKUndu3f3tDn0Gu427muEs0OHxzfFUHyJBfQAAAAAwGqW9tiPGzdOw4YNU3Z2tvbt26e3335b8+fP12effabk5GTdcMMNGjNmjFq0aKGkpCTdcccdysnJ0ZlnnilJGjp0qLp3765rrrlGkyZNUn5+vh566CGNHj3a0+N+yy236MUXX9TYsWP1u9/9TnPnztX06dM1Y8YMK996QNQGINiz5R0AAAAAWMvSYF9YWKhrr71WO3bsUHJysnr37q3PPvtM559/viTp2Wefld1u14gRI1RZWanc3Fy9/PLLnudHRUXp448/1q233qqcnBwlJCRo5MiRmjBhgqdNhw4dNGPGDN1zzz167rnn1KZNG7322msRstVdXdi22+qGzTcF9wJ6zLEHAAAAAGtYGuz/9re/HfV8bGysXnrpJb300ktHbNOuXTt98sknR73OwIEDtWLFCp9qDGU1nhXxm27GBT32AAAAAGCtoJtjD/9xD8VvihXx3Q7OsSfYAwAAAIAVCPZhzBWAYE+PPQAAAABYi2AfxmpNIHvsWRUfAAAAAKxAsA9jnqH4TbRwnnSwx56h+AAAAABgDYJ9GAvMHPu6VfEZig8AAAAA1iDYhzEWzwMAAACA8EewD2OBCPYsngcAAAAA1iLYh7HA9tizeB4AAAAAWIFgH8ZqArAqviOKHnsAAAAAsBLBPowFYlV89+J5lbUumQO/SAAAAAAABE60r08sKyvTggULlJeXp6qqKq9zd955Z6MLQ+MFco69MVKNyygmquleCwAAAABQn0/BfsWKFfrlL3+p/fv3q6ysTC1atFBRUZHi4+OVlpZGsA8SgQj2MVE22Wx1wb6y2qWYKAaBAAAAAEAg+ZTC7rnnHl100UXas2eP4uLitGTJEm3dulV9+/bVn//8Z3/XCB8FItjbbDbPPHsW0AMAAACAwPMp2K9cuVL33nuv7Ha7oqKiVFlZqbZt22rSpEl64IEH/F0jfBSIYC8dXBm/qpYF9AAAAAAg0HwK9jExMbLb656alpamvLw8SVJycrK2bdvmv+rQKLUBWBVfOmQBPVbGBwAAAICA82mO/amnnqply5apc+fOOvfcc/XII4+oqKhI//jHP9SzZ09/1wgfBWJVfOngAnpseQcAAAAAgedTj/0f/vAHZWZmSpKefPJJNW/eXLfeeqt27typv/zlL34tEL4L9FB8euwBAAAAIPB86rHv16+f5+u0tDTNnDnTbwXBfwIV7OmxBwAAAADrsDdZGAt8jz2r4gMAAABAoB13j/1pp52mOXPmqHnz5jr11FNlO8q87W+//dYvxaFx6LEHAAAAgPB33MH+4osvltPplCRdcsklTVUP/IhV8QEAAAAg/B13sH/00Ucb/BrBK9Cr4hPsAQAAACDwfJpjv2zZMi1durTe8aVLl+qbb75pdFHwj0DPsWcoPgAAAAAEnk/BfvTo0dq2bVu94z///LNGjx7d6KLgHyyeBwAAAADhz6dgv3btWp122mn1jp966qlau3Zto4uCf7B4HgAAAACEP5+CvdPpVEFBQb3jO3bsUHT0cU/bRxML1Bx7Fs8DAAAAAOv4FOyHDh2qcePGqbi42HNs7969euCBB3T++ef7rTg0TqBWxff02Ne6ZA68JgAAAAAgMHzqXv/zn/+sAQMGqF27djr11FMlSStXrlR6err+8Y9/+LVA+C7Qc+yNkaprCfYAAAAAEEg+BfvWrVvr+++/17Rp0/Tdd98pLi5O119/va688krFxMT4u0b4KFDBPtpuk81WF+yZZw8AAAAAgeXzhPiEhASNGjXKn7XAzwIV7G02m5xRdlXUuFgZHwAAAAACzOdgv3HjRs2bN0+FhYVyubx7aR955JFGF4bGC1Swl+rm2dcFe3rsAQAAACCQfAr2f/3rX3XrrbcqNTVVGRkZsh2y6rrNZiPYBwGXkdyz3QMR7OtWxq9RVY3L998WAQAAAABOmE8Z7IknntCTTz6p+++/39/1wE9ch6xh19Tb3UkHF9CrJNgDAAAAQED5tN3dnj179H//93/+rgV+5BXsAzQUX2LxPAAAAAAINJ+C/f/93/9p1qxZ/q4FfnToEnYByPUHe+xrWTwPAAAAAALJp1HTnTp10sMPP6wlS5aoV69e9ba4u/POO/1SHHzn7rGPstu81kBoKvTYAwAAAIA1fAr2f/nLX5SYmKgFCxZowYIFXudsNhvBPggcGuwDoW7xvLo59r6NAwEAAAAA+MKnYL9lyxZ/1wE/c5m6QB+IhfOkw3rsHQF5SQAAAACAGtm3WlVVpQ0bNqimpsZf9cBPagPeY39wVXwAAAAAQOD4FOz379+vG264QfHx8erRo4fy8vIkSXfccYf++Mc/+rVA+CbQQ/EdnmDP4nkAAAAAEEg+Bftx48bpu+++0/z58xUbG+s5PmTIEL377rt+Kw6+c/ebRwe4x57F8wAAAAAgsHyaY//hhx/q3Xff1Zlnnum14nqPHj20efNmvxUH31m6eB4AAAAAIGB86rHfuXOn0tLS6h0vKysLyNZqOLZAz7FnuzsAAAAAsIZPwb5fv36aMWOG53t3mH/ttdeUk5Pjn8rQKIFeFf/QofjGBOQlAQAAAADycSj+H/7wBw0bNkxr165VTU2NnnvuOa1du1ZfffVVvX3tYQ2rFs8zkmoI9gAAAAAQMD712J999tlauXKlampq1KtXL82aNUtpaWlavHix+vbt6+8a4QP3gPhABftou03ul6pmND4AAAAABIxPPfaS1LFjR/31r3/1Zy3wo0DPsbfZbHJE21VR7VKNi3UWAAAAACBQfAr27n3rjyQ7O9unYuA/gR6KL9WtjF9R7VI1Q/EBAAAAIGB8Cvbt27c/6ur3tbW1PhcE/7Ai2HtWxmcoPgAAAAAEjE/BfsWKFV7fV1dXa8WKFXrmmWf05JNP+qUwNE6gV8WXJGdUXbBnKD4AAAAABI5Pwf6UU06pd6xfv37KysrSn/70J1166aWNLgyN4x4zEdCh+DF1wZ7F8wAAAAAgcHxaFf9IunTpomXLlvnzkvCRlUPxmWMPAAAAAIHjU499SUmJ1/fGGO3YsUPjx49X586d/VIYGseSxfOioiRJ1QzFBwAAAICA8SnYp6Sk1Fs8zxijtm3b6p133vFLYWgcS3vsGYoPAAAAAAHjU7CfO3euV7C32+1q1aqVOnXqpOhony4JPwv0PvaS5CTYAwAAAEDA+ZTCBw4c6Ocy4G9WrIp/sMeeofgAAAAAECg+LZ43ceJEvf766/WOv/7663rqqacaXRQaz91pbkWPfQ2L5wEAAABAwPgU7F999VV17dq13vEePXpoypQpjS4KjWfFUHx3j30VQ/EBAAAAIGB8Cvb5+fnKzMysd7xVq1basWNHo4tC41myKn503ar4NQzFBwAAAICA8SnYt23bVosWLap3fNGiRcrKymp0UWg8a4I9i+cBAAAAQKD5tHjeTTfdpLvvvlvV1dUaNGiQJGnOnDkaO3as7r33Xr8WCN9Yut2dkSR67QEAAAAgEHwK9vfdd5927dql2267TVVVVZKk2NhY3X///Ro3bpxfC4Rvag/8N5Cr4rt77CWbbI7YgL0uAAAAAEQyn4K9zWbTU089pYcffljr1q1TXFycOnfuLKfT6e/64CPPdncB7LGPsttkt9WNFrA7EwL2ugAAAAAQyXyaY++Wn5+v3bt3q2PHjnI6nTKGfc6ChRVD8W02m2cBPYI9AAAAAASGT8F+165dGjx4sE4++WT98pe/9KyEf8MNNzDHPkhYEeylg/Ps7c74gL4uAAAAAEQqn4L9Pffco5iYGOXl5Sk+/mCAu/zyyzVz5ky/FQffWbGPvXRwnr2NHnsAAAAACAif5tjPmjVLn332mdq0aeN1vHPnztq6datfCkPjeHrsA7h4nnRojz3BHgAAAAACwace+7KyMq+eerfdu3ezgF6QcCnwi+dJB3vsGYoPAAAAAIHhU7A/55xz9Oabb3q+t9lscrlcmjRpks477zy/FQcf2Q8OxLBujj099gAAAAAQCD4NxZ80aZIGDx6sb775RlVVVRo7dqzWrFmj3bt3a9GiRf6uESfIFh3j+TrwPfasig8AAAAAgeRTj33Pnj31v//9T2effbYuvvhilZWV6dJLL9WKFSvUsWNHf9eIE2SLsi7Ysyo+AAAAAATWCffYV1dX64ILLtCUKVP04IMPNkVNaCR3sLfZJHuAF89zMhQfAAAAAALqhHvsY2Ji9P333zdFLfATW1Td72sCvSK+dLDH3kaPPQAAAAAEhE9D8a+++mr97W9/83ct8JcDc+wDPQxfkpxR9NgDAAAAQCD5tHheTU2NXn/9dX3++efq27evEhK8Q9wzzzzjl+LgG/dQfCuCPXPsAQAAACCwTijY//DDD2rfvr1Wr16t0047TZL0v//9z6uNzYLh3/BmZbD3rIofS489AAAAAATCCQX7zp07a8eOHZo3b54k6fLLL9fzzz+v9PT0JikOvrE22DMUHwAAAAAC6YTm2BtjvL7/9NNPVVZW5teC0Hg2C+fYexbPc8TJddj9AgAAAADwP58Wz3M7POgjOHh67C2YFuHusbfZ7Cqv5v4AAAAAgKZ2QsHeZrPVm0PPnPrgY+VQ/Ogou+yqC/T7CfYAAAAA0OROaI69MUbXXXednE6nJKmiokK33HJLvVXxP/jgA/9ViBPn3sfegmAvSTF2qdIl7a92WfL6AAAAABBJTijYjxw50uv7q6++2q/FwD+s7LGXpGhPsKfHHgAAAACa2gkF+zfeeMOvLz5x4kR98MEHWr9+veLi4vSLX/xCTz31lLp06eJpU1FRoXvvvVfvvPOOKisrlZubq5dfftlrJf68vDzdeuutmjdvnhITEzVy5EhNnDhR0dEH3978+fM1ZswYrVmzRm3bttVDDz2k6667zq/vJ1i4g320ZT32RpJNZfTYAwAAAECTa9TieY21YMECjR49WkuWLNHs2bNVXV2toUOHeq20f8899+i///2v3nvvPS1YsEDbt2/XpZde6jlfW1ur4cOHq6qqSl999ZX+/ve/a+rUqXrkkUc8bbZs2aLhw4frvPPO08qVK3X33Xfrxhtv1GeffRbQ9xsonlXxLVr/IObAy9JjDwAAAABN74R67P1t5syZXt9PnTpVaWlpWr58uQYMGKDi4mL97W9/09tvv61BgwZJqhs10K1bNy1ZskRnnnmmZs2apbVr1+rzzz9Xenq6+vTpo8cff1z333+/xo8fL4fDoSlTpqhDhw56+umnJUndunXTl19+qWeffVa5ubkBf99Nzeqh+DEHfl1Ejz0AAAAAND1Le+wPV1xcLElq0aKFJGn58uWqrq7WkCFDPG26du2q7OxsLV68WJK0ePFi9erVy2tofm5urkpKSrRmzRpPm0Ov4W7jvsbhKisrVVJS4vUIJdYHe1bFBwAAAIBACZpg73K5dPfdd+uss85Sz549JUn5+flyOBxKSUnxapuenq78/HxPm0NDvfu8+9zR2pSUlKi8vLxeLRMnTlRycrLn0bZtW7+8x4CJtjrY1/2XVfEBAAAAoOkFTbAfPXq0Vq9erXfeecfqUjRu3DgVFxd7Htu2bbO6pBNieY89c+wBAAAAIGAsnWPvdvvtt+vjjz/WwoUL1aZNG8/xjIwMVVVVae/evV699gUFBcrIyPC0+frrr72uV1BQ4Dnn/q/72KFtkpKSFBcXV68ep9Mpp9Ppl/dmBcuDvWcoPj32AAAAANDULO2xN8bo9ttv17///W/NnTtXHTp08Drft29fxcTEaM6cOZ5jGzZsUF5ennJyciRJOTk5WrVqlQoLCz1tZs+eraSkJHXv3t3T5tBruNu4rxFuPMHeqlXxD9xVpVX02AMAAABAU7O0x3706NF6++239dFHH6lZs2aeOfHJycmKi4tTcnKybrjhBo0ZM0YtWrRQUlKS7rjjDuXk5OjMM8+UJA0dOlTdu3fXNddco0mTJik/P18PPfSQRo8e7el1v+WWW/Tiiy9q7Nix+t3vfqe5c+dq+vTpmjFjhmXvvSnZous+Vqt67J1RdYG+uLLWktcHAAAAgEhiaY/9K6+8ouLiYg0cOFCZmZmex7vvvutp8+yzz+rCCy/UiBEjNGDAAGVkZOiDDz7wnI+KitLHH3+sqKgo5eTk6Oqrr9a1116rCRMmeNp06NBBM2bM0OzZs3XKKafo6aef1muvvRaWW91J1g/Fj42q++/eCobiAwAAAEBTs7TH3phjD9WOjY3VSy+9pJdeeumIbdq1a6dPPvnkqNcZOHCgVqxYccI1hiSrg/2BOfZ7K1xyuYzsFtUBAAAAAJEgaFbFh/9Y3WPvPNBj7zLSnv1VltQAAAAAAJGCYB+GbBbvY2+3SbX7iyVJO0srLakBAAAAACIFwT4MWb0qviTVlu2RJO3cR7AHAAAAgKZEsA9DVg/Flwj2AAAAABAoBPswFBTBvpRgDwAAAACBQLAPQ1bPsZfosQcAAACAQCHYh6Ng6LEv2ytJKmLxPAAAAABoUgT7MBQMQ/Fd7h57gj0AAAAANCmCfRiyRUVLYlV8AAAAAIgEBPswFAw99u6h+AR7AAAAAGhaBPswFEyL5+3ZX62qGpdldQAAAABAuCPYhxmXMUHRY+8q36eoAy+/q4xeewAAAABoKgT7MHNo57iVwV4ySo6tu70Yjg8AAAAATYdgH2aqa43naysXz5Ok5rFRkgj2AAAAANCUCPZhptp1SLC3tMdeSqHHHgAAAACaHME+zLiH4ttkZLO4x55gDwAAAABNj2AfZtxD8aOszfSSDhmKX0qwBwAAAICmQrAPM+6h+BaPwpdEjz0AAAAABALBPsxUHxiKH0zBvogeewAAAABoMgT7MFNzYCh+MHywrIoPAAAAAE0vGPIf/Mg9FD8Y5tgzFB8AAAAAmh7BPswcHIpvjt4wANzBvqyqVmWVNRZXAwAAAADhiWAfZtyr4gfDHPu4GLviHXXD8ZlnDwAAAABNg2AfZmqCaCi+JKUmOiUxHB8AAAAAmgrBPswE03Z3ktSqGcEeAAAAAJoSwT7MVNfW/TdYPthW7h57huIDAAAAQJMIlvwHP6mhxx4AAAAAIgrBPsy4V8WPCoJV8SWCPQAAAAA0NYJ9mAmmVfElgj0AAAAANDWCfZgJuqH4zLEHAAAAgCZFsA8znlXxLa7DjR57AAAAAGhawZL/4CfuVfGDZR97d7AvKq2UMcEx7x8AAAAAwgnBPswE2z72LRMdkurm/heXV1tcDQAAAACEH4J9mDk4xz44esed0VFKiY+RxHB8AAAAAGgKBPsw4x6KHyw99tIhC+gR7AEAAADA7wj2YcY9FD9Y5thLhyygx8r4AAAAAOB3BPswE2yr4kusjA8AAAAATSmY8h/8oCYIh+KnMhQfAAAAAJoMwT7MBPVQfII9AAAAAPgdwT7MVAfZqvjSIYvnMcceAAAAAPyOYB9mgnJVfHrsAQAAAKDJEOzDzMF97C0u5BDuYF9IsAcAAAAAvyPYhxnPHHuL6zhU6+ZxkqTdZVXaV1FtcTUAAAAAEF4I9mEmGIfiJ8XGKO1Ar/2mwlKLqwEAAACA8EKwDzPVQTgUX5I6pydKItgDAAAAgL8R7MNMTRCuii9JnVoR7AEAAACgKRDsw4x7KH4w7WMvSZ3Sm0ki2AMAAACAvxHsw4xnKL7FdRzO3WO/kWAPAAAAAH4VbPkPjVDrMjqQ64N2jv22PftV4R5WAAAAAABoNIJ9GKmqcXm+Drah+C0THEqJj5Ex0uad9NoDAAAAgL8Q7MPIocE+2HrsbTabOqexgB4AAAAA+BvBPoxU1h4c4h5kuV6S1IlgDwAAAAB+R7API+4ee1NTJVsQJvuObHkHAAAAAH5HsA8jnmBfW21xJQ3rfGDLO1bGBwAAAAD/IdiHkapad499cAZ791D8H4vKVF3rOkZrAAAAAMDxINiHkWDvsc9KjlWCI0o1LqOtu8qsLgcAAAAAwgLBPowEe7C32WzqyAJ6AAAAAOBXBPswEuzBXjo4HH9jAcEeAAAAAPyBYB9GKoN8jr10yJZ3Own2AAAAAOAPBPsw4u6xV22NtYUcRee0upXxGYoPAAAAAP5BsA8joTQUf/POUrlcxuJqAAAAACD0EezDSCgE+7bN4+SItqui2qWf95ZbXQ4AAAAAhDyCfRhJbebUKekOVeVvtrqUI4qOsuuk1ARJ0sbCfRZXAwAAAAChj2AfRs49uZUePbel9i78u9WlHBVb3gEAAACA/xDsEXCd2fIOAAAAAPyGYI+AY8s7AAAAAPAfgj0CzrPlXUGpjGFlfAAAAABoDII9Aq59arzsNmlfZY0K91VaXQ4AAAAAhDSCPQLOGR2l9gdWxl+7o8TiagAAAAAgtBHsYYmeWcmSpDU/F1tcCQAAAACENoI9LNGrdV2wX0WwBwAAAIBGIdjDEj0PBPvVPzMUHwAAAAAag2APS/RonSRJ+nlvuXaXVVlcDQAAAACELoI9LJEUG6MOBxbQW81wfAAAAADwGcEelumRVddrzzx7AAAAAPAdwR6W6eWZZ0+wBwAAAABfRVtdAMLXunXrjno+dn+lJGn5lp369ttv651PTU1VdnZ2k9QGAAAAAOGCYA+/K9m9U5J09dVXH7WdzZmg7LvfVWFZrU4/61y5Kkq9zsfFx2v9unWEewAAAAA4CoI9/K68tG4Lu+E3P6guvfsete3M7UZlNTZd+eQ/lB5rPMcL8jZr2lP3qaioiGAPAAAAAEdBsEeTaZnVTm069zhqm6yKHdpYWCrTLENt2rcIUGUAAAAAED5YPA+WSmvmlCQV7qu0uBIAAAAACE0Ee1gqLSlWEsEeAAAAAHxFsIel3D32xeXVqqiutbgaAAAAAAg9lgb7hQsX6qKLLlJWVpZsNps+/PBDr/PGGD3yyCPKzMxUXFychgwZoo0bN3q12b17t6666iolJSUpJSVFN9xwg0pLvVdX//7773XOOecoNjZWbdu21aRJk5r6reE4xcZEKSm2bqmHnfTaAwAAAMAJszTYl5WV6ZRTTtFLL73U4PlJkybp+eef15QpU7R06VIlJCQoNzdXFRUVnjZXXXWV1qxZo9mzZ+vjjz/WwoULNWrUKM/5kpISDR06VO3atdPy5cv1pz/9SePHj9df/vKXJn9/OD5pzRiODwAAAAC+snRV/GHDhmnYsGENnjPGaPLkyXrooYd08cUXS5LefPNNpaen68MPP9QVV1yhdevWaebMmVq2bJn69esnSXrhhRf0y1/+Un/+85+VlZWladOmqaqqSq+//rocDod69OihlStX6plnnvH6BQCsk5bk1KadpSosqTh2YwAAAACAl6CdY79lyxbl5+dryJAhnmPJycnq37+/Fi9eLElavHixUlJSPKFekoYMGSK73a6lS5d62gwYMEAOh8PTJjc3Vxs2bNCePXsafO3KykqVlJR4PdB0WBkfAAAAAHwXtME+Pz9fkpSenu51PD093XMuPz9faWlpXuejo6PVokULrzYNXePQ1zjcxIkTlZyc7Hm0bdu28W8IR+Qeir+3vFqVNSygBwAAAAAnImiDvZXGjRun4uJiz2Pbtm1WlxTW4hxRasYCegAAAADgk6AN9hkZGZKkgoICr+MFBQWecxkZGSosLPQ6X1NTo927d3u1aegah77G4ZxOp5KSkrweaFru4fg7iplnDwAAAAAnImiDfYcOHZSRkaE5c+Z4jpWUlGjp0qXKycmRJOXk5Gjv3r1avny5p83cuXPlcrnUv39/T5uFCxequrra02b27Nnq0qWLmjdvHqB3g2Np2zxekrR1136LKwEAAACA0GJpsC8tLdXKlSu1cuVKSXUL5q1cuVJ5eXmy2Wy6++679cQTT+g///mPVq1apWuvvVZZWVm65JJLJEndunXTBRdcoJtuuklff/21Fi1apNtvv11XXHGFsrKyJEm//e1v5XA4dMMNN2jNmjV699139dxzz2nMmDEWvWs0pENqgiRpe3G5KqqZZw8AAAAAx8vS7e6++eYbnXfeeZ7v3WF75MiRmjp1qsaOHauysjKNGjVKe/fu1dlnn62ZM2cqNjbW85xp06bp9ttv1+DBg2W32zVixAg9//zznvPJycmaNWuWRo8erb59+yo1NVWPPPIIW90FmaS4GLVMcGhXWZW27tqvBKsLAgAAAIAQYWmwHzhwoIwxRzxvs9k0YcIETZgw4YhtWrRoobfffvuor9O7d2998cUXPteJwGifmqBdZVXasqtMPR3Hbg8AAAAACOI59og8HVrW9dNv3VWmo/y+BwAAAABwCII9gkZmcqyc0XZVVLu0u8pmdTkAAAAAEBII9ggadrtN7VrWrY6/o5xbEwAAAACOB+kJQcW9On5+OT32AAAAAHA8CPYIKu1aJsgmqbjarqhmqVaXAwAAAABBj2CPoBIXE6WM5LrtDOM6nm5xNQAAAAAQ/Aj2CDru4fgEewAAAAA4NoI9go472Me2663KGva9AwAAAICjIdgj6LRMcCguysgeE6vVOyutLgcAAAAAghrBHkHHZrMpI84lSfr6Z4I9AAAAABwNwR5BqU18XbBfsHW/CvdVWFwNAAAAAAQvgj2CUiunUeXP61VVK/1lwQ9WlwMAAAAAQYtgj6Bks0l7F70tSXpr6VZ67QEAAADgCAj2CFoVW75Vl5Yxqqh26VV67QEAAACgQQR7BLXLezSTJL21ZKsKS+i1BwAAAIDDEewR1E5Jd+i07BRV1rg0hV57AAAAAKiHYI+gZrPZdM/5J0uSpi2l1x4AAAAADkewR9A7u1Oq+rZrrsoal15ZsNnqcgAAAAAgqBDsEfRsNpvuGVLXa//Pr/O0v6rG4ooAAAAAIHgQ7BESzurUUtkt4lVR7dLc9YVWlwMAAAAAQYNgj5Bgs9n0y16ZkqRPVu2wuBoAAAAACB4Ee4SM4QeC/dz1hQzHBwAAAIADCPYIGT1bJzEcHwAAAAAOQ7BHyGA4PgAAAADUR7BHSLmwN8PxAQAAAOBQBHuElB5ZDMcHAAAAgEMR7BFSGI4PAAAAAN4I9gg5DMcHAAAAgIMI9gg5DMcHAAAAgIMI9gg5NptNw3szHB8AAAAAJCna6gKAo1m3bl2Dx0+KqZYkfb42X199/Y1ioxv+HVVqaqqys7ObrD4AAAAAsBrBHkGpZPdOSdLVV199xDZZo/4qNc/UkGvuVPn/FjfYJi4+XuvXrSPcAwAAAAhbBHsEpfLSEknS8JsfVJfefRts8/2eKG3cJ/W7+vc6vWVtvfMFeZs17an7VFRURLAHAAAAELYI9ghqLbPaqU3nHg2es+0p18Zvf1JhZYyyOnaR3W4LcHUAAAAAYD0Wz0PIykyJVVxMlCpqXNpeXG51OQAAAABgCYI9QpbdZlP71HhJ0uadZRZXAwAAAADWINgjpHVslShJ+mFnqYwxFlcDAAAAAIFHsEdIy24Rr2i7TSUVNSoqrbK6HAAAAAAIOII9QlpMlF3ZLeqG4/+ws9TiagAAAAAg8Aj2CHkntUqQJP1QxDx7AAAAAJGHYI+Q1yE1QTZJhfsqta+i2upyAAAAACCgCPYIefGOaGUmx0qSfmB1fAAAAAARhmCPsHDSgdXxNxcxzx4AAABAZCHYIyy459n/vKdcldW1FlcDAAAAAIFDsEdYaB7vUIsEh1xGWl+wz+pyAAAAACBgCPYIGz2ykiRJX24s0q7SSourAQAAAIDAINgjbPRpm6K2LeJU4zL6ZHW+alxWVwQAAAAATY9gj7Bht9mU2z1DCY4o7S6r0ordUVaXBAAAAABNjmCPsJLgjNYFPTNkk5S3P0qJvc+3uiQAAAAAaFIEe4SdNs3jldOxpSSp+ZBbtHlPtcUVAQAAAEDTIdgjLPVr11zpsS7ZY5x6cG6RXv9yi1wuY3VZAAAAAOB3BHuEJZvNpjNa1qj8x5WqqpUmfLxWV/51ibbt3m91aQAAAADgVwR7hC1HlFT47kMadVqS4h1RWrplt3InL9QH3/5kdWkAAAAA4DcEe4S9CzolaOZdA3RGhxbaX1Wr+97/Xmu3l1hdFgAAAAD4BcEeESG7ZbzeuelMXdAjQ7Uuo3EffK9a5twDAAAACAMEe0QMu92mCRf3ULPYaH33U7HeXPyj1SUBAAAAQKMR7BFR0pJi9fthXSVJf/psg37eW25xRQAAAADQOAR7RJwrT89Wv3bNtb+qVo9+tFrGMCQfAAAAQOiKtroAoKmtW7eu3rFrukZp5Tbp83WFevm/XymnTdwRn5+amqrs7OymLBEAAAAAfEawR9gq2b1TknT11Vc3eD757N8q5azfauKsH1Q4/VFV79zSYLu4hEStX7uGcA8AAAAgKBHsEbbKS+u2tBt+84Pq0rtvvfO1RpqT79K+xBZq87vn1TOlVp2auWSz1Z3fXyN9u71M+bWJuu29DRo/IlH92rcI5FsAAAAAgGMi2CPstcxqpzadezR47or2NZqzrlA/FJXp+73R2mOP0zmdWmntjhKt2lGsWjlki5JW76zSZVMWa2CXVvp/Q7uoZ+vkAL8LAAAAAGgYi+chosU7onVh70wN6pKmaLtN23aX6+2v87Ry217VGqNUp0uF7z+m80+KU5TdpvkbdurCF77UQx+uYtE9AAAAAEGBYI+IZ7PZ1KtNsq48I1utmjklSelJTv361NYakFaj8s3LdGu/FM0Zc64u6ZMlm016a0mepn+zzeLKAQAAAICh+IBHiwSHLu/XVsXl1WoeHyObzaafdh083z41QZOvOFVdM5P0x0/X67H/rlX/Di3VPjXBuqIBAAAARDx67IFDRNltapHgkM29gl4DbjrnJPXv0EL7q2p197srVV3rCmCFAAAAAOCNYA+coCi7Tc9c3kfNYqO1cttevTh3k9UlAQAAAIhgDMUHjsO6devqHbupT6KeWbJXL8zdqAyzW11SHUd8fmpqqrKzs5uyRAAAAAARimAPHEXJ7p2SpKuvvrrB8y0vvFeJPc7TfR+s0c6PnlJV/sYG28XFx2v9unWEewAAAAB+R7AHjqK8tESSNPzmB9Wld99656td0uc7jPanZChz5LNql1Crnim1io062KYgb7OmPXWfioqKCPYAAAAA/I5gDxyHllnt1KZzjwbP/bZ9jb7cVKT1+fu0tSxKOypi1K99c2UlxynBGaUa1tYDAAAA0IQI9kAjJTijldsjQ73bJGv+hp0q3FeprzYfsk+eHGpz5z81ac6PurXSpWZO39asZJ4+AAAAgIYQ7AE/yUyO0xWnt9XaHSVav2OfSitrVFpZoxqXUVRcMy3ZJS16Z6P2LvyHSr/7TDIn1pXPPH0AAAAADSHYA35ks9nUIytZPbKSJUnGGH09d4Y+mj5N2SN+r8q4JLXMHa2TLrxVPVJqlRFrZLMd+7rM0wcAAABwJAR7oAnZbDZFy6WKLd+qf+Je2du20+Ifdqm4Wvpqp12Jzmh1zWim7plJap7gUE2tSyUVNSour1ZlTa3apMQrMZb/TQEAAAAcGYkBCBCbTTqlbYpOTm+mZT/u1rodJSqtrNE3W/fom617FBcTpfLq2nrPS09yKtVmV0zLthZUDQAAACDYEeyBAItzRGnAya30i04ttWVnmdbuKNHW3fs9od4RZVdSXLTsNpsK91WqoKRSBYpW1o2v6PGFu/V8+/1q2yLe73Xtq6jWY/9dq807SzW4a5ou6JmpTmmJfn8dAAAAAP5FsAcsEm23q3N6M3VOb6ayAwvtJcXFKDbaLtuBifdllTXaUlSmNT/ma0dZrVbkS0OfXah7h56s68/qoCj7cUzQPw7rdpTotmnfaktRmSRpRd5e/XnW/9QpLVEX9s7UqAEnKd7BXxcAAABAMOIndSAIJDijleCs/79jgjNaPVsnK2X/T3r+4Tt0/gNvaO3OKj0xY53++912PXxhd/Vt19zzi4BjycvLU1FRkdexuVv26y/fFquqVmoZZ9dFJyfo+4IqfV9YqU2FpZr8+UZ9uTZP9/+iuaLsNrbdAwAAAIIMwR4IETW7f9aEgS20sbaV/vDJOn33U7Eum7JYrVPidGHvTF3YO0s9WycdMeTn5eWpa7duKt+/X5IUnZKh5LN+q8SegyRJ5T8s18qPn9a35SWSJJsjXvFdfqGWQ2/TN9ul3LGvaM+8v7HtHgAAABBkCPZACLHbbLryjGwN7pqmSZ9t0CerdujnveV6deEPenXhD8pMjlWPrCR1y6x7nJyeqLSkWDVzRquoqEjl+/dr+P0vqSi2rfIrbJJskoy6J9eq67m9ZBs4td5rbiuz6+tdUtIZv9apZ5ypuU/dxLZ7AAAAQBAh2AMhZN26dZ6vf9tRGtGulZbvqNBX2yr0zY4K7Siue3y+rtDredF2Kd7uUutbX9dqpUkVdcfbt4zX6e1bKCsl7oiv2UaSfcsuLflht35QhmLb92mCdwYAAADAVwR7IASU7N4pSbr66quP2MYW45QjvZMcaR0Uk9ah7r8t2sjujFeNSypx2RWdlKYoGfVsk6JT2qaoebzjuF7/jPYttHd/tdbn71Ori3+vLXurdZpf3hkAAACAxoqoYP/SSy/pT3/6k/Lz83XKKafohRde0BlnnGF1WcAxlZfWzXsffvOD6tK77wk9t9ZVpUqXtP77b7Xk8//q0utvV78uJ5/QNWw2mwZ3S9POPcXapUTd/3mRttZs0G3ndVJsTNQJXQsAAACAf0VMsH/33Xc1ZswYTZkyRf3799fkyZOVm5urDRs2KC0tzerygOPSMqud2nTu4dNz923frIqt3ynaZnx6frTdrpzUGk1f+J3iO56u5+du0n+/36EnLumpszql+nRNAAAAAI0XMcH+mWee0U033aTrr79ekjRlyhTNmDFDr7/+un7/+99bXB0QGpxR0s73H9MLH36pN1eXa0tRma56bal6t0lW2+bxykyOVWZKnFokxMimutX5j7QTn8sY1bqkWpfL898al1HtgYeRZLfVLRhY95Dsdpts7q8P/NdmsynKZpPdXnfs0PO2o7x+MDO+/e7l+K/ftJcPQP1N+wKh/+ff1K/QdLh3LL5+016+ye/NJr069+bRr9+0lw+bvxvMYQeO9KpeP7oc6QeZhv5QGvgZyaYD3x/h56TD6zj0su4/F+9j7nYNV3/wvZr6xxq4zqHX8rri0a7jQ70yRi4j1brMgZ9BjWqN0RWnZ6tFwvFNTQ12ERHsq6qqtHz5co0bN85zzG63a8iQIVq8eHG99pWVlaqsrPR8X1xcLEkqKSlp+mIbqbS0VJL008Y1qizf79M1CvI2S5Lyf/yfNifEB/z5XCN4r7Hzpy2SJGfhWk04s7PeW1uhz38o18rN+7XSpysCAAAA1ujfOk7R6c2sLuOI3PnzeH4xajOh/Kv947R9+3a1bt1aX331lXJycjzHx44dqwULFmjp0qVe7cePH6/HHnss0GUCAAAAAOBl27ZtatOmzVHbRESP/YkaN26cxowZ4/ne5XJp9+7datmypWxBOq63pKREbdu21bZt25SUlGR1OQhx3E/wJ+4n+Bv3FPyJ+wn+xP0EfzLGaN++fcrKyjpm24gI9qmpqYqKilJBQYHX8YKCAmVkZNRr73Q65XQ6vY6lpKQ0ZYl+k5SUxF8i8BvuJ/gT9xP8jXsK/sT9BH/ifoK/JCcnH1c7exPXERQcDof69u2rOXPmeI65XC7NmTPHa2g+AAAAAAChJiJ67CVpzJgxGjlypPr166czzjhDkydPVllZmWeVfAAAAAAAQlHEBPvLL79cO3fu1COPPKL8/Hz16dNHM2fOVHp6utWl+YXT6dSjjz5abwoB4AvuJ/gT9xP8jXsK/sT9BH/ifoJVImJVfAAAAAAAwlVEzLEHAAAAACBcEewBAAAAAAhhBHsAAAAAAEIYwR4AAAAAgBBGsA8DL730ktq3b6/Y2Fj1799fX3/9tdUlIQiMHz9eNpvN69G1a1fP+YqKCo0ePVotW7ZUYmKiRowYoYKCAq9r5OXlafjw4YqPj1daWpruu+8+1dTUeLWZP3++TjvtNDmdTnXq1ElTp04NxNtDE1u4cKEuuugiZWVlyWaz6cMPP/Q6b4zRI488oszMTMXFxWnIkCHauHGjV5vdu3frqquuUlJSklJSUnTDDTeotLTUq83333+vc845R7GxsWrbtq0mTZpUr5b33ntPXbt2VWxsrHr16qVPPvnE7+8XTetY99N1111X7++rCy64wKsN9xPcJk6cqNNPP13NmjVTWlqaLrnkEm3YsMGrTSD/jePnsNB2PPfTwIED6/0ddcstt3i14X6C5QxC2jvvvGMcDod5/fXXzZo1a8xNN91kUlJSTEFBgdWlwWKPPvqo6dGjh9mxY4fnsXPnTs/5W265xbRt29bMmTPHfPPNN+bMM880v/jFLzzna2pqTM+ePc2QIUPMihUrzCeffGJSU1PNuHHjPG1++OEHEx8fb8aMGWPWrl1rXnjhBRMVFWVmzpwZ0PcK//vkk0/Mgw8+aD744AMjyfz73//2Ov/HP/7RJCcnmw8//NB899135le/+pXp0KGDKS8v97S54IILzCmnnGKWLFlivvjiC9OpUydz5ZVXes4XFxeb9PR0c9VVV5nVq1ebf/7znyYuLs68+uqrnjaLFi0yUVFRZtKkSWbt2rXmoYceMjExMWbVqlVN/mcA/znW/TRy5EhzwQUXeP19tXv3bq823E9wy83NNW+88YZZvXq1WblypfnlL39psrOzTWlpqadNoP6N4+ew0Hc899O5555rbrrpJq+/o4qLiz3nuZ8QDAj2Ie6MM84wo0eP9nxfW1trsrKyzMSJEy2sCsHg0UcfNaecckqD5/bu3WtiYmLMe++95zm2bt06I8ksXrzYGFP3g7jdbjf5+fmeNq+88opJSkoylZWVxhhjxo4da3r06OF17csvv9zk5ub6+d3ASocHMZfLZTIyMsyf/vQnz7G9e/cap9Np/vnPfxpjjFm7dq2RZJYtW+Zp8+mnnxqbzWZ+/vlnY4wxL7/8smnevLnnfjLGmPvvv9906dLF8/1vfvMbM3z4cK96+vfvb26++Wa/vkcEzpGC/cUXX3zE53A/4WgKCwuNJLNgwQJjTGD/jePnsPBz+P1kTF2wv+uuu474HO4nBAOG4oewqqoqLV++XEOGDPEcs9vtGjJkiBYvXmxhZQgWGzduVFZWlk466SRdddVVysvLkyQtX75c1dXVXvdO165dlZ2d7bl3Fi9erF69eik9Pd3TJjc3VyUlJVqzZo2nzaHXcLfh/gtvW7ZsUX5+vtdnn5ycrP79+3vdPykpKerXr5+nzZAhQ2S327V06VJPmwEDBsjhcHja5ObmasOGDdqzZ4+nDfdYZJg/f77S0tLUpUsX3Xrrrdq1a5fnHPcTjqa4uFiS1KJFC0mB+zeOn8PC0+H3k9u0adOUmpqqnj17aty4cdq/f7/nHPcTgkG01QXAd0VFRaqtrfX6S0SS0tPTtX79eouqQrDo37+/pk6dqi5dumjHjh167LHHdM4552j16tXKz8+Xw+FQSkqK13PS09OVn58vScrPz2/w3nKfO1qbkpISlZeXKy4uroneHazk/vwb+uwPvTfS0tK8zkdHR6tFixZebTp06FDvGu5zzZs3P+I95r4GwsMFF1ygSy+9VB06dNDmzZv1wAMPaNiwYVq8eLGioqK4n3BELpdLd999t8466yz17NlTkgL2b9yePXv4OSzMNHQ/SdJvf/tbtWvXTllZWfr+++91//33a8OGDfrggw8kcT8hOBDsgTA1bNgwz9e9e/dW//791a5dO02fPp3ADSCoXHHFFZ6ve/Xqpd69e6tjx46aP3++Bg8ebGFlCHajR4/W6tWr9eWXX1pdCsLAke6nUaNGeb7u1auXMjMzNXjwYG3evFkdO3YMdJlAgxiKH8JSU1MVFRVVb5XXgoICZWRkWFQVglVKSopOPvlkbdq0SRkZGaqqqtLevXu92hx672RkZDR4b7nPHa1NUlISvzwIY+7P/2h/92RkZKiwsNDrfE1NjXbv3u2Xe4y/48LbSSedpNTUVG3atEkS9xMadvvtt+vjjz/WvHnz1KZNG8/xQP0bx89h4eVI91ND+vfvL0lef0dxP8FqBPsQ5nA41LdvX82ZM8dzzOVyac6cOcrJybGwMgSj0tJSbd68WZmZmerbt69iYmK87p0NGzYoLy/Pc+/k5ORo1apVXj9Mz549W0lJSerevbunzaHXcLfh/gtvHTp0UEZGhtdnX1JSoqVLl3rdP3v37tXy5cs9bebOnSuXy+X5gSgnJ0cLFy5UdXW1p83s2bPVpUsXNW/e3NOGeyzy/PTTT9q1a5cyMzMlcT/BmzFGt99+u/79739r7ty59aZgBOrfOH4OCw/Hup8asnLlSkny+juK+wmWs3r1PjTOO++8Y5xOp5k6dapZu3atGTVqlElJSfFalROR6d577zXz5883W7ZsMYsWLTJDhgwxqampprCw0BhTtxVQdna2mTt3rvnmm29MTk6OycnJ8TzfvXXL0KFDzcqVK83MmTNNq1atGty65b777jPr1q0zL730EtvdhYl9+/aZFStWmBUrVhhJ5plnnjErVqwwW7duNcbUbXeXkpJiPvroI/P999+biy++uMHt7k499VSzdOlS8+WXX5rOnTt7bU+2d+9ek56ebq655hqzevVq884775j4+Ph625NFR0ebP//5z2bdunXm0UcfZXuyEHS0+2nfvn3m//2//2cWL15stmzZYj7//HNz2mmnmc6dO5uKigrPNbif4Hbrrbea5ORkM3/+fK/tx/bv3+9pE6h/4/g5LPQd637atGmTmTBhgvnmm2/Mli1bzEcffWROOukkM2DAAM81uJ8QDAj2YeCFF14w2dnZxuFwmDPOOMMsWbLE6pIQBC6//HKTmZlpHA6Had26tbn88svNpk2bPOfLy8vNbbfdZpo3b27i4+PNr3/9a7Njxw6va/z4449m2LBhJi4uzqSmppp7773XVFdXe7WZN2+e6dOnj3E4HOakk04yb7zxRiDeHprYvHnzjKR6j5EjRxpj6ra8e/jhh016erpxOp1m8ODBZsOGDV7X2LVrl7nyyitNYmKiSUpKMtdff73Zt2+fV5vvvvvOnH322cbpdJrWrVubP/7xj/VqmT59ujn55JONw+EwPXr0MDNmzGiy942mcbT7af/+/Wbo0KGmVatWJiYmxrRr187cdNNN9X6Q5X6CW0P3kiSvf38C+W8cP4eFtmPdT3l5eWbAgAGmRYsWxul0mk6dOpn77rvPax97Y7ifYD2bMcYEbnwAAAAAAADwJ+bYAwAAAAAQwgj2AAAAAACEMII9AAAAAAAhjGAPAAAAAEAII9gDAAAAABDCCPYAAAAAAIQwgj0AAAAAACGMYA8AAAAAQAgj2AMAgKBgs9n04YcfWl0GAAAhh2APAADque6662Sz2WSz2eRwONSpUydNmDBBNTU1TfaaO3bs0LBhw5rs+gAAhKtoqwsAAADB6YILLtAbb7yhyspKffLJJxo9erRiYmI0btw4r3ZVVVVyOByNfr2MjIxGXwMAgEhEjz0AAGiQ0+lURkaG2rVrp1tvvVVDhgzRf/7zH1133XW65JJL9OSTTyorK0tdunSRJG3btk2/+c1vlJKSohYtWujiiy/Wjz/+6HXN119/XT169JDT6VRmZqZuv/12z7nDh+KvWrVKgwYNUlxcnFq2bKlRo0aptLQ0EG8dAICQQrAHAADHJS4uTlVVVZKkOXPmaMOGDZo9e7Y+/vhjVVdXKzc3V82aNdMXX3yhRYsWKTExURdccIHnOa+88opGjx6tUaNGadWqVfrPf/6jTp06NfhaZWVlys3NVfPmzbVs2TK99957+vzzz71+EQAAAOowFB8AAByVMUZz5szRZ599pjvuuEM7d+5UQkKCXnvtNc8Q/Lfeeksul0uvvfaabDabJOmNN95QSkqK5s+fr6FDh+qJJ57Qvffeq7vuustz7dNPP73B13z77bdVUVGhN998UwkJCZKkF198URdddJGeeuoppaenN/G7BgAgdNBjDwAAGvTxxx8rMTFRsbGxGjZsmC6//HKNHz9ektSrVy+vefXfffedNm3apGbNmikxMVGJiYlq0aKFKioqtHnzZhUWFmr79u0aPHjwcb32unXrdMopp3hCvSSdddZZcrlc2rBhg1/fJwAAoY4eewAA0KDzzjtPr7zyihwOh7KyshQdffDHhkMDtySVlpaqb9++mjZtWr3rtGrVSnY7fQkAADQVgj0AAGhQQkLCEefAH+60007Tu+++q7S0NCUlJTXYpn379pozZ47OO++8Y16vW7dumjp1qsrKyjy/RFi0aJHsdrtnsT4AAFCHX58DAIBGu+qqq5SamqqLL75YX3zxhbZs2aL58+frzjvv1E8//SRJGj9+vJ5++mk9//zz2rhxo7799lu98MILR7xebGysRo4cqdWrV2vevHm64447dM011zC/HgCAwxDsAQBAo8XHx2vhwoXKzs7WpZdeqm7duumGG25QRUWFpwd/5MiRmjx5sl5++WX16NFDF154oTZu3HjE63322WfavXu3Tj/9dF122WUaPHiwXnzxxUC+LQAAQoLNGGOsLgIAAAAAAPiGHnsAAAAAAEIYwR4AAAAAgBBGsAcAAAAAIIQR7AEAAAAACGEEewAAAAAAQhjBHgAAAACAEEawBwAAAAAghBHsAQAAAAAIYQR7AAAAAABCGMEeAAAAAIAQRrAHAAAAACCE/X/I5vR4aetbIwAAAABJRU5ErkJggg==",
      "text/plain": [
       "<Figure size 1200x600 with 1 Axes>"
      ]
     },
     "metadata": {},
     "output_type": "display_data"
    },
    {
     "data": {
      "image/png": "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",
      "text/plain": [
       "<Figure size 1200x600 with 1 Axes>"
      ]
     },
     "metadata": {},
     "output_type": "display_data"
    }
   ],
   "source": [
    "# Histograma con KDE para ver la distribución de precios\n",
    "plt.figure(figsize=(12, 6))\n",
    "sns.histplot(df[\"price\"], bins=50, kde=True)\n",
    "plt.title(\"Distribución de Precios\")\n",
    "plt.xlabel(\"Precio\")\n",
    "plt.ylabel(\"Frecuencia\")\n",
    "plt.show()\n",
    "\n",
    "# Boxplot para ver outliers y dispersión\n",
    "plt.figure(figsize=(12, 6))\n",
    "sns.boxplot(x=df[\"price\"])\n",
    "plt.title(\"Boxplot de Precios\")\n",
    "plt.xlabel(\"Precio\")\n",
    "plt.show()"
   ]
  },
  {
   "cell_type": "code",
<<<<<<< HEAD
   "execution_count": 31,
=======
   "execution_count": 29,
>>>>>>> d5d67d6 (Actualización de archivos de análisis y limpieza)
   "metadata": {},
   "outputs": [
    {
     "data": {
      "text/plain": [
       "count    10000.000000\n",
       "mean      1017.334800\n",
       "std        963.365922\n",
       "min         60.000000\n",
       "25%        450.000000\n",
       "50%        750.000000\n",
       "75%       1200.000000\n",
       "max      28571.000000\n",
       "Name: price, dtype: float64"
      ]
     },
<<<<<<< HEAD
     "execution_count": 31,
=======
     "execution_count": 29,
>>>>>>> d5d67d6 (Actualización de archivos de análisis y limpieza)
     "metadata": {},
     "output_type": "execute_result"
    }
   ],
   "source": [
    "df[\"price\"].describe()\n"
   ]
  },
  {
   "cell_type": "markdown",
   "metadata": {},
   "source": [
    "Intervalos fijos"
   ]
  },
  {
   "cell_type": "code",
<<<<<<< HEAD
   "execution_count": 32,
=======
   "execution_count": 30,
>>>>>>> d5d67d6 (Actualización de archivos de análisis y limpieza)
   "metadata": {},
   "outputs": [
    {
     "data": {
      "text/plain": [
       "(31.488, 2911.1]      9505\n",
       "(2911.1, 5762.2]       490\n",
       "(5762.2, 8613.3]         2\n",
       "(8613.3, 11464.4]        0\n",
       "(11464.4, 14315.5]       0\n",
       "(14315.5, 17166.6]       0\n",
       "(17166.6, 20017.7]       0\n",
       "(20017.7, 22868.8]       0\n",
       "(22868.8, 25719.9]       1\n",
       "(25719.9, 28571.0]       2\n",
       "Name: count, dtype: int64"
      ]
     },
<<<<<<< HEAD
     "execution_count": 32,
=======
     "execution_count": 30,
>>>>>>> d5d67d6 (Actualización de archivos de análisis y limpieza)
     "metadata": {},
     "output_type": "execute_result"
    }
   ],
   "source": [
    "df[\"price\"].value_counts(bins=10).sort_index()\n"
   ]
  },
  {
   "cell_type": "markdown",
   "metadata": {},
   "source": [
    "Análisis de la distribución\n",
    "Concentración en precios bajos:\n",
    "\n",
    "El 75% de los precios está por debajo de 1200.\n",
    "La media está en 1017, pero la mediana es 750, lo que confirma una asimetría positiva (cola a la derecha).\n",
    "Hay valores extremos muy altos (máximo de 28,571).\n",
    "El 95% de los datos (9,505 de 10,000) están en el primer intervalo (31.5 - 2911.1), lo que significa que la mayoría de los valores están en el rango bajo."
   ]
  },
  {
   "cell_type": "markdown",
   "metadata": {},
   "source": [
    "## Cómo armar categorías correctamente (enfoque experto)\n",
    "\n",
    "Cuando definimos categorías para una variable numérica como el precio, debemos considerar los cuatro criterios clave (exclusividad, exhaustividad, relevancia y equilibrio) y aplicar un enfoque estructurado.\n",
    "\n",
    "1️⃣ Analizar la distribución de los datos\n",
    "Antes de categorizar, debemos entender cómo están distribuidos los precios. Como mencionaste antes, los datos están concentrados en precios bajos y tienen una cola larga hacia precios altos, lo que indica que la distribución es sesgada a la derecha.\n",
    "\n",
    "2️⃣ Elegir un método de categorización\n",
    "Hay varios métodos para definir categorías:\n",
    "\n",
    "✅ Cuartiles: Divide en partes iguales según la cantidad de datos.\n",
    "\n",
    "✅ Intervalos fijos: Usa cortes predefinidos (ej. \"0-1000\", \"1001-5000\").\n",
    "\n",
    "✅ Logaritmo / percentiles ajustados: Separa mejor los valores extremos.\n",
    "\n",
    "Dado que los precios altos son muy raros, los cuartiles ayudaron bastante, pero no son suficientes. Para mejorar aún más, usaremos percentiles ajustados, asegurando que haya suficientes datos en cada grupo.\n",
    "\n",
    "3️⃣ Definir cortes basados en percentiles\n",
    "En lugar de usar cuartiles simples, vamos a revisar los percentiles más altos para mejorar la distribución. Usaremos:\n",
    "📌 P20 (20% de los datos más baratos)\n",
    "📌 P40, P60, P80 (segmentación equilibrada)\n",
    "📌 P99 (para capturar valores muy altos sin que haya categorías con casi cero datos)"
   ]
  },
  {
   "cell_type": "code",
<<<<<<< HEAD
   "execution_count": 33,
=======
   "execution_count": 31,
>>>>>>> d5d67d6 (Actualización de archivos de análisis y limpieza)
   "metadata": {},
   "outputs": [
    {
     "name": "stdout",
     "output_type": "stream",
     "text": [
      "price_category\n",
      "Económico    2198\n",
      "Medio        2002\n",
      "Alto         2001\n",
      "Premium      1901\n",
      "Accesible    1807\n",
      "Exclusivo      90\n",
      "Name: count, dtype: int64\n"
     ]
    }
   ],
   "source": [
    "import numpy as np\n",
    "\n",
    "# Calculamos los percentiles clave\n",
    "percentiles = np.percentile(df[\"price\"], [20, 40, 60, 80, 99])\n",
    "bins = [df[\"price\"].min()] + list(percentiles) + [df[\"price\"].max()]\n",
    "\n",
    "# Definimos etiquetas\n",
    "labels = [\"Económico\", \"Accesible\", \"Medio\", \"Alto\", \"Premium\", \"Exclusivo\"]\n",
    "\n",
    "# Aplicamos la categorización\n",
    "df[\"price_category\"] = pd.cut(df[\"price\"], bins=bins, labels=labels, right=True)\n",
    "\n",
    "# Revisamos la nueva distribución\n",
    "print(df[\"price_category\"].value_counts())\n"
   ]
  },
  {
   "cell_type": "markdown",
   "metadata": {},
   "source": [
    "Explicación criterio utilizado\n",
    "\n",
    "1️⃣ ¿Por qué usamos percentiles y no valores fijos?\n",
    "→ Porque los datos no están distribuidos uniformemente, y así logramos que cada categoría tenga una cantidad razonable de datos.\n",
    "\n",
    "2️⃣ ¿Por qué incluimos el percentil 99 en lugar de solo el 100?\n",
    "→ Para evitar que la última categoría tenga casi ningún dato, ya que el máximo suele ser un outlier extremo.\n",
    "\n",
    "3️⃣ ¿Qué mejora logramos con este método?\n",
    "\n",
    "✅ Equilibrio: Cada categoría tendrá un número más parejo de datos.\n",
    "\n",
    "✅ Relevancia: Evitamos categorías inútiles con muy pocos registros.\n",
    "\n",
    "✅ Exclusividad y exhaustividad: Cada dato cae en una sola categoría sin quedar fuera."
   ]
  },
  {
   "cell_type": "markdown",
   "metadata": {},
   "source": [
    "Agregar la categoría al df original"
   ]
  },
  {
   "cell_type": "code",
<<<<<<< HEAD
   "execution_count": 34,
=======
   "execution_count": 32,
>>>>>>> d5d67d6 (Actualización de archivos de análisis y limpieza)
   "metadata": {},
   "outputs": [],
   "source": [
    "df[\"price_category\"] = pd.cut(df[\"price\"], bins=bins, labels=labels, right=True)\n"
   ]
  },
  {
   "cell_type": "code",
<<<<<<< HEAD
   "execution_count": 35,
=======
   "execution_count": 33,
>>>>>>> d5d67d6 (Actualización de archivos de análisis y limpieza)
   "metadata": {},
   "outputs": [
    {
     "name": "stderr",
     "output_type": "stream",
     "text": [
<<<<<<< HEAD
      "C:\\Users\\Evelyn\\AppData\\Local\\Temp\\ipykernel_15948\\3865989673.py:1: FutureWarning: The default of observed=False is deprecated and will be changed to True in a future version of pandas. Pass observed=False to retain current behavior or observed=True to adopt the future default and silence this warning.\n",
=======
      "C:\\Users\\oswal\\AppData\\Local\\Temp\\ipykernel_31900\\3865989673.py:1: FutureWarning: The default of observed=False is deprecated and will be changed to True in a future version of pandas. Pass observed=False to retain current behavior or observed=True to adopt the future default and silence this warning.\n",
>>>>>>> d5d67d6 (Actualización de archivos de análisis y limpieza)
      "  df.groupby(\"price_category\")[\"price\"].describe()\n"
     ]
    },
    {
     "data": {
      "text/html": [
       "<div>\n",
       "<style scoped>\n",
       "    .dataframe tbody tr th:only-of-type {\n",
       "        vertical-align: middle;\n",
       "    }\n",
       "\n",
       "    .dataframe tbody tr th {\n",
       "        vertical-align: top;\n",
       "    }\n",
       "\n",
       "    .dataframe thead th {\n",
       "        text-align: right;\n",
       "    }\n",
       "</style>\n",
       "<table border=\"1\" class=\"dataframe\">\n",
       "  <thead>\n",
       "    <tr style=\"text-align: right;\">\n",
       "      <th></th>\n",
       "      <th>count</th>\n",
       "      <th>mean</th>\n",
       "      <th>std</th>\n",
       "      <th>min</th>\n",
       "      <th>25%</th>\n",
       "      <th>50%</th>\n",
       "      <th>75%</th>\n",
       "      <th>max</th>\n",
       "    </tr>\n",
       "    <tr>\n",
       "      <th>price_category</th>\n",
       "      <th></th>\n",
       "      <th></th>\n",
       "      <th></th>\n",
       "      <th></th>\n",
       "      <th></th>\n",
       "      <th></th>\n",
       "      <th></th>\n",
       "      <th></th>\n",
       "    </tr>\n",
       "  </thead>\n",
       "  <tbody>\n",
       "    <tr>\n",
       "      <th>Económico</th>\n",
       "      <td>2198.0</td>\n",
       "      <td>286.842584</td>\n",
       "      <td>80.889140</td>\n",
       "      <td>80.0</td>\n",
       "      <td>230.0</td>\n",
       "      <td>300.0</td>\n",
       "      <td>350.0</td>\n",
       "      <td>400.0</td>\n",
       "    </tr>\n",
       "    <tr>\n",
       "      <th>Accesible</th>\n",
       "      <td>1807.0</td>\n",
       "      <td>523.265080</td>\n",
       "      <td>60.516126</td>\n",
       "      <td>410.0</td>\n",
       "      <td>480.0</td>\n",
       "      <td>510.0</td>\n",
       "      <td>590.0</td>\n",
       "      <td>620.0</td>\n",
       "    </tr>\n",
       "    <tr>\n",
       "      <th>Medio</th>\n",
       "      <td>2002.0</td>\n",
       "      <td>765.329670</td>\n",
       "      <td>83.886815</td>\n",
       "      <td>630.0</td>\n",
       "      <td>700.0</td>\n",
       "      <td>750.0</td>\n",
       "      <td>840.0</td>\n",
       "      <td>910.0</td>\n",
       "    </tr>\n",
       "    <tr>\n",
       "      <th>Alto</th>\n",
       "      <td>2001.0</td>\n",
       "      <td>1110.634683</td>\n",
       "      <td>146.000846</td>\n",
       "      <td>920.0</td>\n",
       "      <td>990.0</td>\n",
       "      <td>1090.0</td>\n",
       "      <td>1200.0</td>\n",
       "      <td>1430.0</td>\n",
       "    </tr>\n",
       "    <tr>\n",
       "      <th>Premium</th>\n",
       "      <td>1901.0</td>\n",
       "      <td>2278.152025</td>\n",
       "      <td>757.493699</td>\n",
       "      <td>1440.0</td>\n",
       "      <td>1680.0</td>\n",
       "      <td>2000.0</td>\n",
       "      <td>2750.0</td>\n",
       "      <td>4500.0</td>\n",
       "    </tr>\n",
       "    <tr>\n",
       "      <th>Exclusivo</th>\n",
       "      <td>90.0</td>\n",
       "      <td>5688.122222</td>\n",
       "      <td>3919.156249</td>\n",
       "      <td>4510.0</td>\n",
       "      <td>4907.5</td>\n",
       "      <td>5000.0</td>\n",
       "      <td>5000.0</td>\n",
       "      <td>28571.0</td>\n",
       "    </tr>\n",
       "  </tbody>\n",
       "</table>\n",
       "</div>"
      ],
      "text/plain": [
       "                 count         mean          std     min     25%     50%  \\\n",
       "price_category                                                             \n",
       "Económico       2198.0   286.842584    80.889140    80.0   230.0   300.0   \n",
       "Accesible       1807.0   523.265080    60.516126   410.0   480.0   510.0   \n",
       "Medio           2002.0   765.329670    83.886815   630.0   700.0   750.0   \n",
       "Alto            2001.0  1110.634683   146.000846   920.0   990.0  1090.0   \n",
       "Premium         1901.0  2278.152025   757.493699  1440.0  1680.0  2000.0   \n",
       "Exclusivo         90.0  5688.122222  3919.156249  4510.0  4907.5  5000.0   \n",
       "\n",
       "                   75%      max  \n",
       "price_category                   \n",
       "Económico        350.0    400.0  \n",
       "Accesible        590.0    620.0  \n",
       "Medio            840.0    910.0  \n",
       "Alto            1200.0   1430.0  \n",
       "Premium         2750.0   4500.0  \n",
       "Exclusivo       5000.0  28571.0  "
      ]
     },
<<<<<<< HEAD
     "execution_count": 35,
=======
     "execution_count": 33,
>>>>>>> d5d67d6 (Actualización de archivos de análisis y limpieza)
     "metadata": {},
     "output_type": "execute_result"
    }
   ],
   "source": [
    "df.groupby(\"price_category\")[\"price\"].describe()\n"
   ]
  },
  {
   "cell_type": "markdown",
   "metadata": {},
   "source": [
    "## Transformación de Datos (Data Transformation)"
   ]
  },
  {
   "cell_type": "markdown",
   "metadata": {},
   "source": [
    "## Reducción de Datos (Data Reduction)"
   ]
  },
  {
   "cell_type": "markdown",
   "metadata": {},
   "source": [
    "## Exportación del dataset limpio"
   ]
  },
  {
   "cell_type": "code",
<<<<<<< HEAD
   "execution_count": 36,
=======
   "execution_count": 34,
>>>>>>> d5d67d6 (Actualización de archivos de análisis y limpieza)
   "metadata": {},
   "outputs": [
    {
     "name": "stdout",
     "output_type": "stream",
     "text": [
      "Total de registros del dataset: 18000\n",
      "Total de duplicados exactos: 0\n",
      "El número de apartment_id duplicados es: 8350\n"
     ]
    }
   ],
   "source": [
    "print(f'Total de registros del dataset: {registros_totales}')\n",
    "print(f'Total de duplicados exactos: {df.duplicated().sum()}')\n",
    "print(f\"El número de apartment_id duplicados es: {duplicados}\")"
   ]
  },
  {
   "cell_type": "code",
<<<<<<< HEAD
   "execution_count": 37,
=======
   "execution_count": 35,
>>>>>>> d5d67d6 (Actualización de archivos de análisis y limpieza)
   "metadata": {},
   "outputs": [],
   "source": [
    "df.to_csv(\"../Data/tourist_accommodation_clean.csv\", index=False)"
   ]
  }
 ],
 "metadata": {
  "kernelspec": {
   "display_name": "Python 3",
   "language": "python",
   "name": "python3"
  },
  "language_info": {
   "codemirror_mode": {
    "name": "ipython",
    "version": 3
   },
   "file_extension": ".py",
   "mimetype": "text/x-python",
   "name": "python",
   "nbconvert_exporter": "python",
   "pygments_lexer": "ipython3",
<<<<<<< HEAD
   "version": "3.13.1"
=======
   "version": "3.12.1"
>>>>>>> d5d67d6 (Actualización de archivos de análisis y limpieza)
  }
 },
 "nbformat": 4,
 "nbformat_minor": 2
}
