{
 "cells": [
  {
   "cell_type": "markdown",
   "metadata": {},
   "source": [
    "### Importación de bibliotecas"
   ]
  },
  {
   "cell_type": "code",
   "execution_count": 1,
   "metadata": {},
   "outputs": [],
   "source": [
    "import pandas as pd \n",
    "import numpy as np\n",
    "import matplotlib.pyplot as plt\n",
    "import seaborn as sns"
   ]
  },
  {
   "cell_type": "markdown",
   "metadata": {},
   "source": [
    "### Estilos"
   ]
  },
  {
   "cell_type": "code",
   "execution_count": 2,
   "metadata": {},
   "outputs": [],
   "source": [
    "estilo_corporativo = {\n",
    "    'axes.facecolor': '#253837',  # color de fondo de los ejes\n",
    "    'figure.facecolor': '#253837',  # color de fondo de la figura\n",
    "    'axes.edgecolor': 'white',  # color del borde de los ejes\n",
    "    'axes.labelcolor': 'white',  # color de las etiquetas\n",
    "    'xtick.color': 'white',  # color del tick del eje x\n",
    "    'ytick.color': 'white',  # color del tick del eje y\n",
    "    'grid.color': 'gray',  # color de la cuadrícula\n",
    "    'grid.linestyle': '--',  # línea de la cuadrícula\n",
    "    'grid.linewidth': 0.5,  # grosor cuadrícula\n",
    "    'axes.titlecolor': 'white'  # color del título\n",
    "}\n",
    "\n",
    "\n",
    "# EJEMPLO DE APLICACIÓN: (conservar primera línea y luego el código del gráfico pero con indentación)\n",
    "\n",
    "# with plt.style.context(estilo_corporativo):\n",
    "    # fig, ax = plt.subplots()\n",
    "    # ax.plot(x='price', y='city', color='blue')\n",
    "    # ax.set_title(\"Styled Graph\")\n",
    "    # plt.show()"
   ]
  },
  {
   "cell_type": "code",
   "execution_count": 3,
   "metadata": {},
   "outputs": [],
   "source": [
    "# Definir la paleta institucional\n",
    "paleta = [\n",
    "    \"#1B3C59\",  # Azul profundo\n",
    "    \"#3A5A40\",  # Verde bosque\n",
    "    \"#8BAAAD\",  # Azul grisáceo\n",
    "    \"#D9D9D9\",  # Gris claro\n",
    "    \"#E8F1F2\",  # Azul hielo\n",
    "    \"#A67C52\",  # Marrón tostado\n",
    "    \"#F4A261\",  # Naranja suave\n",
    "    \"#264653\",  # Azul petróleo\n",
    "    \"#A8DADC\",  # Turquesa claro\n",
    "    \"#457B9D\",  # Azul medio\n",
    "    \"#E63946\",  # Rojo coral\n",
    "    \"#F4E285\",  # Amarillo pastel\n",
    "    \"#2A9D8F\",  # Verde esmeralda\n",
    "    \"#6D597A\",  # Morado apagado\n",
    "    \"#B5838D\"   # Rosa viejo\n",
    "]"
   ]
  },
  {
   "cell_type": "markdown",
   "metadata": {},
   "source": [
    "# Pregunta de negoci:\n",
    "Necessitem ajustar la nostra estratègia de negoci per alinear-nos amb les tendències nacionals i maximitzar les oportunitats de mercat.\n",
    "\n",
    "És necessari ajustar les nostres ofertes al perfil del viatger ia la demanda de pernoctacions a les ciutats on estem presents, considerant les xifres oficials sobre procedència, mesos de visita i mitjana de pernoctacions per ciutat autònoma?\n",
    "\n",
    "## Fonts de dades externes a consultar:\n",
    "\n",
    "Enquesta d'ocupació hotelera de l'Institut Nacional d'Estadística"
   ]
  },
  {
   "cell_type": "markdown",
   "metadata": {},
   "source": [
    "### Links de referencia de la base de datos externa:\n",
    "\n",
    "[Dataset 2: Estancia media por tipo de alojamiento](https://www.ine.es/jaxiT3/Datos.htm?t=2940)\n",
    "\n",
    "[Metodología de la Encuesta Hotelera del INE](https://www.ine.es/daco/daco42/ocuphotel/meto_eoh.pdf)\n",
    "\n",
    "[Formulario de encuesta](https://www.ine.es/daco/daco42/ocuphotel/eoh1_20.pdf)"
   ]
  },
  {
   "cell_type": "markdown",
   "metadata": {},
   "source": [
    "# Carga de datos del INE\n",
    "\n",
    "Se cargarán dos datasets que contienen los datos que permiten contestar a la pregunta de negocio.<br>\n",
    "De las cifras oficiales se analizará:\n",
    "- Procedencia de los viajeros\n",
    "- Meses de visita\n",
    "- Media de pernoctaciones\n",
    "\n",
    "#### 1. Pernoctaciones por alojamiento\n",
    "\n",
    "Este dataframe, [2941_INE_Encuesta_de_ocupación_hotelera.csv](../Data/2941_INE_Encuesta_de_ocupación_hotelera.csv) muestra pernoctaciones por tipo de alojamiento por Comunidades y Ciudades Autónomas\n",
    "\n",
    "Son de interés las siguientes variables:<br>\n",
    "Comunidades Autónomas: Andalucía, Cataluña, Valencia, Madrid, Islas Baleares<br>\n",
    "Residencia: Residentes en España y residentes en el extranjero<br>\n",
    "pernoctaciones<br>\n",
    "Periodo: Fechas 2023 y 2024<br>\n",
    "\n",
    "#### 2. Estancia media\n",
    "\n",
    "Este dataframe, [2940_Estancia media.csv](<../Data/2940_Estancia media.csv>) muestra la estancia media, por tipo de alojamiento por Comunidad y Ciudades Autónomas.<br>\n",
    "Son de interés las siguientes variables:<br>\n",
    "Comunidades Autónomas: Andalucía, Cataluña, Valencia, Madrid, Islas Baleares<br>\n",
    "Periodo: Fechas 2023 y 2024<br>"
   ]
  },
  {
   "cell_type": "markdown",
   "metadata": {},
   "source": [
    "# Pernoctaciones: carga y limpieza"
   ]
  },
  {
   "cell_type": "code",
   "execution_count": 4,
   "metadata": {},
   "outputs": [
    {
     "data": {
      "application/vnd.microsoft.datawrangler.viewer.v0+json": {
       "columns": [
        {
         "name": "index",
         "rawType": "int64",
         "type": "integer"
        },
        {
         "name": "Tipo de alojamiento",
         "rawType": "object",
         "type": "string"
        },
        {
         "name": "Viajeros y pernoctaciones",
         "rawType": "object",
         "type": "string"
        },
        {
         "name": "Total Nacional",
         "rawType": "object",
         "type": "string"
        },
        {
         "name": "Comunidades y Ciudades Autónomas",
         "rawType": "object",
         "type": "string"
        },
        {
         "name": "Residencia: Nivel 1",
         "rawType": "object",
         "type": "string"
        },
        {
         "name": "Residencia: Nivel 2",
         "rawType": "object",
         "type": "string"
        },
        {
         "name": "Periodo",
         "rawType": "object",
         "type": "string"
        },
        {
         "name": "Total",
         "rawType": "object",
         "type": "string"
        }
       ],
       "conversionMethod": "pd.DataFrame",
       "ref": "58cd594f-3e3f-4a6a-b8c0-33f4a98ca5c3",
       "rows": [
        [
         "0",
         "Encuesta de Ocupación Hotelera",
         "Pernoctaciones",
         "Total Nacional",
         "01 Andalucía",
         "Total",
         "Residentes en España",
         "2024M12",
         "1.254.332"
        ],
        [
         "1",
         "Encuesta de Ocupación Hotelera",
         "Pernoctaciones",
         "Total Nacional",
         "01 Andalucía",
         "Total",
         "Residentes en España",
         "2024M11",
         "1.310.963"
        ],
        [
         "2",
         "Encuesta de Ocupación Hotelera",
         "Pernoctaciones",
         "Total Nacional",
         "01 Andalucía",
         "Total",
         "Residentes en España",
         "2024M10",
         "1.661.890"
        ],
        [
         "3",
         "Encuesta de Ocupación Hotelera",
         "Pernoctaciones",
         "Total Nacional",
         "01 Andalucía",
         "Total",
         "Residentes en España",
         "2024M09",
         "2.493.093"
        ],
        [
         "4",
         "Encuesta de Ocupación Hotelera",
         "Pernoctaciones",
         "Total Nacional",
         "01 Andalucía",
         "Total",
         "Residentes en España",
         "2024M08",
         "3.999.441"
        ]
       ],
       "shape": {
        "columns": 8,
        "rows": 5
       }
      },
      "text/html": [
       "<div>\n",
       "<style scoped>\n",
       "    .dataframe tbody tr th:only-of-type {\n",
       "        vertical-align: middle;\n",
       "    }\n",
       "\n",
       "    .dataframe tbody tr th {\n",
       "        vertical-align: top;\n",
       "    }\n",
       "\n",
       "    .dataframe thead th {\n",
       "        text-align: right;\n",
       "    }\n",
       "</style>\n",
       "<table border=\"1\" class=\"dataframe\">\n",
       "  <thead>\n",
       "    <tr style=\"text-align: right;\">\n",
       "      <th></th>\n",
       "      <th>Tipo de alojamiento</th>\n",
       "      <th>Viajeros y pernoctaciones</th>\n",
       "      <th>Total Nacional</th>\n",
       "      <th>Comunidades y Ciudades Autónomas</th>\n",
       "      <th>Residencia: Nivel 1</th>\n",
       "      <th>Residencia: Nivel 2</th>\n",
       "      <th>Periodo</th>\n",
       "      <th>Total</th>\n",
       "    </tr>\n",
       "  </thead>\n",
       "  <tbody>\n",
       "    <tr>\n",
       "      <th>0</th>\n",
       "      <td>Encuesta de Ocupación Hotelera</td>\n",
       "      <td>Pernoctaciones</td>\n",
       "      <td>Total Nacional</td>\n",
       "      <td>01 Andalucía</td>\n",
       "      <td>Total</td>\n",
       "      <td>Residentes en España</td>\n",
       "      <td>2024M12</td>\n",
       "      <td>1.254.332</td>\n",
       "    </tr>\n",
       "    <tr>\n",
       "      <th>1</th>\n",
       "      <td>Encuesta de Ocupación Hotelera</td>\n",
       "      <td>Pernoctaciones</td>\n",
       "      <td>Total Nacional</td>\n",
       "      <td>01 Andalucía</td>\n",
       "      <td>Total</td>\n",
       "      <td>Residentes en España</td>\n",
       "      <td>2024M11</td>\n",
       "      <td>1.310.963</td>\n",
       "    </tr>\n",
       "    <tr>\n",
       "      <th>2</th>\n",
       "      <td>Encuesta de Ocupación Hotelera</td>\n",
       "      <td>Pernoctaciones</td>\n",
       "      <td>Total Nacional</td>\n",
       "      <td>01 Andalucía</td>\n",
       "      <td>Total</td>\n",
       "      <td>Residentes en España</td>\n",
       "      <td>2024M10</td>\n",
       "      <td>1.661.890</td>\n",
       "    </tr>\n",
       "    <tr>\n",
       "      <th>3</th>\n",
       "      <td>Encuesta de Ocupación Hotelera</td>\n",
       "      <td>Pernoctaciones</td>\n",
       "      <td>Total Nacional</td>\n",
       "      <td>01 Andalucía</td>\n",
       "      <td>Total</td>\n",
       "      <td>Residentes en España</td>\n",
       "      <td>2024M09</td>\n",
       "      <td>2.493.093</td>\n",
       "    </tr>\n",
       "    <tr>\n",
       "      <th>4</th>\n",
       "      <td>Encuesta de Ocupación Hotelera</td>\n",
       "      <td>Pernoctaciones</td>\n",
       "      <td>Total Nacional</td>\n",
       "      <td>01 Andalucía</td>\n",
       "      <td>Total</td>\n",
       "      <td>Residentes en España</td>\n",
       "      <td>2024M08</td>\n",
       "      <td>3.999.441</td>\n",
       "    </tr>\n",
       "  </tbody>\n",
       "</table>\n",
       "</div>"
      ],
      "text/plain": [
       "              Tipo de alojamiento Viajeros y pernoctaciones  Total Nacional  \\\n",
       "0  Encuesta de Ocupación Hotelera            Pernoctaciones  Total Nacional   \n",
       "1  Encuesta de Ocupación Hotelera            Pernoctaciones  Total Nacional   \n",
       "2  Encuesta de Ocupación Hotelera            Pernoctaciones  Total Nacional   \n",
       "3  Encuesta de Ocupación Hotelera            Pernoctaciones  Total Nacional   \n",
       "4  Encuesta de Ocupación Hotelera            Pernoctaciones  Total Nacional   \n",
       "\n",
       "  Comunidades y Ciudades Autónomas Residencia: Nivel 1   Residencia: Nivel 2  \\\n",
       "0                     01 Andalucía               Total  Residentes en España   \n",
       "1                     01 Andalucía               Total  Residentes en España   \n",
       "2                     01 Andalucía               Total  Residentes en España   \n",
       "3                     01 Andalucía               Total  Residentes en España   \n",
       "4                     01 Andalucía               Total  Residentes en España   \n",
       "\n",
       "   Periodo      Total  \n",
       "0  2024M12  1.254.332  \n",
       "1  2024M11  1.310.963  \n",
       "2  2024M10  1.661.890  \n",
       "3  2024M09  2.493.093  \n",
       "4  2024M08  3.999.441  "
      ]
     },
     "execution_count": 4,
     "metadata": {},
     "output_type": "execute_result"
    }
   ],
   "source": [
    "ruta = r\"../Data/2941_INE_Encuesta_de_ocupación_hotelera.csv\"\n",
    "\n",
    "# Cargar el archivo con separador y codificación adecuados\n",
    "df_pernoct = pd.read_csv(ruta, sep=\";\", encoding=\"latin1\")\n",
    "df_pernoct.head()"
   ]
  },
  {
   "cell_type": "code",
   "execution_count": 5,
   "metadata": {},
   "outputs": [
    {
     "data": {
      "text/plain": [
       "(1200, 8)"
      ]
     },
     "execution_count": 5,
     "metadata": {},
     "output_type": "execute_result"
    }
   ],
   "source": [
    "df_pernoct.shape"
   ]
  },
  {
   "cell_type": "code",
   "execution_count": 6,
   "metadata": {},
   "outputs": [],
   "source": [
    "df_pernoct = df_pernoct.drop(columns=['Viajeros y pernoctaciones', 'Residencia: Nivel 1', 'Total Nacional'])"
   ]
  },
  {
   "cell_type": "code",
   "execution_count": 7,
   "metadata": {},
   "outputs": [],
   "source": [
    "# Se renombran las columnas\n",
    "df_pernoct = df_pernoct.rename(columns={'Tipo de alojamiento': 'alojamiento',\n",
    "                                        'Comunidades y Ciudades Autónomas': 'comunidad',\n",
    "                                        'Residencia: Nivel 2': 'procedencia',\n",
    "                                        'Periodo': 'periodo',\n",
    "                                        'Total': 'pernoctaciones'})"
   ]
  },
  {
   "cell_type": "code",
   "execution_count": 8,
   "metadata": {},
   "outputs": [
    {
     "name": "stdout",
     "output_type": "stream",
     "text": [
      "<class 'pandas.core.frame.DataFrame'>\n",
      "RangeIndex: 1200 entries, 0 to 1199\n",
      "Data columns (total 5 columns):\n",
      " #   Column          Non-Null Count  Dtype \n",
      "---  ------          --------------  ----- \n",
      " 0   alojamiento     1200 non-null   object\n",
      " 1   comunidad       1200 non-null   object\n",
      " 2   procedencia     1200 non-null   object\n",
      " 3   periodo         1200 non-null   object\n",
      " 4   pernoctaciones  1200 non-null   object\n",
      "dtypes: object(5)\n",
      "memory usage: 47.0+ KB\n"
     ]
    }
   ],
   "source": [
    "df_pernoct.info()"
   ]
  },
  {
   "cell_type": "markdown",
   "metadata": {},
   "source": [
    "## Limpieza de datos\n",
    "\n",
    "Se transforman a enteros, float y datatime las columnas de interés"
   ]
  },
  {
   "cell_type": "code",
   "execution_count": 9,
   "metadata": {},
   "outputs": [],
   "source": [
    "#Convertir en el df_pernoct \"pernoctaciones\" a número (int)\n",
    "df_pernoct[\"pernoctaciones\"] = (\n",
    "    df_pernoct[\"pernoctaciones\"]\n",
    "    .str.replace(\".\", \"\", regex=False)   # Quitar puntos de miles\n",
    "    #.str.strip()                         # Eliminar espacios\n",
    "    #.replace(\"\", pd.NA)                  # Vacíos a NA\n",
    "    .pipe(pd.to_numeric, errors=\"coerce\")  # Convertir a número, errores → NaN\n",
    "    .astype(\"Int64\")                     # Entero que acepta nulos\n",
    ")\n",
    "# Convertir \"periodo\" a fecha real\n",
    "df_pernoct[\"periodo_dt\"] = (\n",
    "    df_pernoct[\"periodo\"]\n",
    "    .str.replace(\"M\", \"-\", regex=False)    # De \"2023M08\" a \"2023-08\"\n",
    "    .pipe(pd.to_datetime, format=\"%Y-%m\", errors=\"coerce\")  # Convertir a fecha\n",
    ")"
   ]
  },
  {
   "cell_type": "code",
   "execution_count": 10,
   "metadata": {},
   "outputs": [],
   "source": [
    "df_pernoct[\"pernoctaciones\"] = df_pernoct[\"pernoctaciones\"].fillna(0)"
   ]
  },
  {
   "cell_type": "code",
   "execution_count": 11,
   "metadata": {},
   "outputs": [
    {
     "name": "stdout",
     "output_type": "stream",
     "text": [
      "<class 'pandas.core.frame.DataFrame'>\n",
      "RangeIndex: 1200 entries, 0 to 1199\n",
      "Data columns (total 6 columns):\n",
      " #   Column          Non-Null Count  Dtype         \n",
      "---  ------          --------------  -----         \n",
      " 0   alojamiento     1200 non-null   object        \n",
      " 1   comunidad       1200 non-null   object        \n",
      " 2   procedencia     1200 non-null   object        \n",
      " 3   periodo         1200 non-null   object        \n",
      " 4   pernoctaciones  1200 non-null   Int64         \n",
      " 5   periodo_dt      1200 non-null   datetime64[ns]\n",
      "dtypes: Int64(1), datetime64[ns](1), object(4)\n",
      "memory usage: 57.6+ KB\n"
     ]
    }
   ],
   "source": [
    "df_pernoct.info()"
   ]
  },
  {
   "cell_type": "code",
   "execution_count": 13,
   "metadata": {},
   "outputs": [
    {
     "data": {
      "text/plain": [
       "alojamiento       0\n",
       "comunidad         0\n",
       "procedencia       0\n",
       "periodo           0\n",
       "pernoctaciones    0\n",
       "periodo_dt        0\n",
       "dtype: int64"
      ]
     },
     "execution_count": 13,
     "metadata": {},
     "output_type": "execute_result"
    }
   ],
   "source": [
    "df_pernoct.isnull().sum()"
   ]
  },
  {
   "cell_type": "code",
   "execution_count": 15,
   "metadata": {},
   "outputs": [
    {
     "data": {
      "application/vnd.microsoft.datawrangler.viewer.v0+json": {
       "columns": [
        {
         "name": "index",
         "rawType": "int64",
         "type": "integer"
        },
        {
         "name": "alojamiento",
         "rawType": "object",
         "type": "string"
        },
        {
         "name": "comunidad",
         "rawType": "object",
         "type": "string"
        },
        {
         "name": "procedencia",
         "rawType": "object",
         "type": "string"
        },
        {
         "name": "periodo",
         "rawType": "object",
         "type": "string"
        },
        {
         "name": "pernoctaciones",
         "rawType": "Int64",
         "type": "integer"
        },
        {
         "name": "periodo_dt",
         "rawType": "datetime64[ns]",
         "type": "datetime"
        }
       ],
       "conversionMethod": "pd.DataFrame",
       "ref": "e0798ad7-1bb2-4471-9a18-2db7334c63c4",
       "rows": [],
       "shape": {
        "columns": 6,
        "rows": 0
       }
      },
      "text/html": [
       "<div>\n",
       "<style scoped>\n",
       "    .dataframe tbody tr th:only-of-type {\n",
       "        vertical-align: middle;\n",
       "    }\n",
       "\n",
       "    .dataframe tbody tr th {\n",
       "        vertical-align: top;\n",
       "    }\n",
       "\n",
       "    .dataframe thead th {\n",
       "        text-align: right;\n",
       "    }\n",
       "</style>\n",
       "<table border=\"1\" class=\"dataframe\">\n",
       "  <thead>\n",
       "    <tr style=\"text-align: right;\">\n",
       "      <th></th>\n",
       "      <th>alojamiento</th>\n",
       "      <th>comunidad</th>\n",
       "      <th>procedencia</th>\n",
       "      <th>periodo</th>\n",
       "      <th>pernoctaciones</th>\n",
       "      <th>periodo_dt</th>\n",
       "    </tr>\n",
       "  </thead>\n",
       "  <tbody>\n",
       "  </tbody>\n",
       "</table>\n",
       "</div>"
      ],
      "text/plain": [
       "Empty DataFrame\n",
       "Columns: [alojamiento, comunidad, procedencia, periodo, pernoctaciones, periodo_dt]\n",
       "Index: []"
      ]
     },
     "execution_count": 15,
     "metadata": {},
     "output_type": "execute_result"
    }
   ],
   "source": [
    "df_pernoct[df_pernoct[\"pernoctaciones\"].isnull()]"
   ]
  },
  {
   "cell_type": "code",
   "execution_count": 17,
   "metadata": {},
   "outputs": [
    {
     "data": {
      "application/vnd.microsoft.datawrangler.viewer.v0+json": {
       "columns": [
        {
         "name": "index",
         "rawType": "int64",
         "type": "integer"
        },
        {
         "name": "comunidad",
         "rawType": "object",
         "type": "string"
        },
        {
         "name": "procedencia",
         "rawType": "object",
         "type": "string"
        },
        {
         "name": "periodo",
         "rawType": "object",
         "type": "string"
        },
        {
         "name": "pernoctaciones",
         "rawType": "Int64",
         "type": "integer"
        },
        {
         "name": "alojamiento",
         "rawType": "object",
         "type": "string"
        }
       ],
       "conversionMethod": "pd.DataFrame",
       "ref": "54f4b75e-25df-4607-afe6-07ac27ed9959",
       "rows": [
        [
         "0",
         "01 Andalucía",
         "Residentes en España",
         "2023M01",
         "1416930",
         "todos_alojamientos"
        ],
        [
         "1",
         "01 Andalucía",
         "Residentes en España",
         "2023M02",
         "1780710",
         "todos_alojamientos"
        ],
        [
         "2",
         "01 Andalucía",
         "Residentes en España",
         "2023M03",
         "2052426",
         "todos_alojamientos"
        ],
        [
         "3",
         "01 Andalucía",
         "Residentes en España",
         "2023M04",
         "2973442",
         "todos_alojamientos"
        ],
        [
         "4",
         "01 Andalucía",
         "Residentes en España",
         "2023M05",
         "2605608",
         "todos_alojamientos"
        ]
       ],
       "shape": {
        "columns": 5,
        "rows": 5
       }
      },
      "text/html": [
       "<div>\n",
       "<style scoped>\n",
       "    .dataframe tbody tr th:only-of-type {\n",
       "        vertical-align: middle;\n",
       "    }\n",
       "\n",
       "    .dataframe tbody tr th {\n",
       "        vertical-align: top;\n",
       "    }\n",
       "\n",
       "    .dataframe thead th {\n",
       "        text-align: right;\n",
       "    }\n",
       "</style>\n",
       "<table border=\"1\" class=\"dataframe\">\n",
       "  <thead>\n",
       "    <tr style=\"text-align: right;\">\n",
       "      <th></th>\n",
       "      <th>comunidad</th>\n",
       "      <th>procedencia</th>\n",
       "      <th>periodo</th>\n",
       "      <th>pernoctaciones</th>\n",
       "      <th>alojamiento</th>\n",
       "    </tr>\n",
       "  </thead>\n",
       "  <tbody>\n",
       "    <tr>\n",
       "      <th>0</th>\n",
       "      <td>01 Andalucía</td>\n",
       "      <td>Residentes en España</td>\n",
       "      <td>2023M01</td>\n",
       "      <td>1416930</td>\n",
       "      <td>todos_alojamientos</td>\n",
       "    </tr>\n",
       "    <tr>\n",
       "      <th>1</th>\n",
       "      <td>01 Andalucía</td>\n",
       "      <td>Residentes en España</td>\n",
       "      <td>2023M02</td>\n",
       "      <td>1780710</td>\n",
       "      <td>todos_alojamientos</td>\n",
       "    </tr>\n",
       "    <tr>\n",
       "      <th>2</th>\n",
       "      <td>01 Andalucía</td>\n",
       "      <td>Residentes en España</td>\n",
       "      <td>2023M03</td>\n",
       "      <td>2052426</td>\n",
       "      <td>todos_alojamientos</td>\n",
       "    </tr>\n",
       "    <tr>\n",
       "      <th>3</th>\n",
       "      <td>01 Andalucía</td>\n",
       "      <td>Residentes en España</td>\n",
       "      <td>2023M04</td>\n",
       "      <td>2973442</td>\n",
       "      <td>todos_alojamientos</td>\n",
       "    </tr>\n",
       "    <tr>\n",
       "      <th>4</th>\n",
       "      <td>01 Andalucía</td>\n",
       "      <td>Residentes en España</td>\n",
       "      <td>2023M05</td>\n",
       "      <td>2605608</td>\n",
       "      <td>todos_alojamientos</td>\n",
       "    </tr>\n",
       "  </tbody>\n",
       "</table>\n",
       "</div>"
      ],
      "text/plain": [
       "      comunidad           procedencia  periodo  pernoctaciones  \\\n",
       "0  01 Andalucía  Residentes en España  2023M01         1416930   \n",
       "1  01 Andalucía  Residentes en España  2023M02         1780710   \n",
       "2  01 Andalucía  Residentes en España  2023M03         2052426   \n",
       "3  01 Andalucía  Residentes en España  2023M04         2973442   \n",
       "4  01 Andalucía  Residentes en España  2023M05         2605608   \n",
       "\n",
       "          alojamiento  \n",
       "0  todos_alojamientos  \n",
       "1  todos_alojamientos  \n",
       "2  todos_alojamientos  \n",
       "3  todos_alojamientos  \n",
       "4  todos_alojamientos  "
      ]
     },
     "execution_count": 17,
     "metadata": {},
     "output_type": "execute_result"
    }
   ],
   "source": [
    "# Agrupar sumando la columna 'pernoctaciones' para cada combinación de comunidad, residencia y periodo\n",
    "df_agrupado = df_pernoct.groupby([\"comunidad\", \"procedencia\", \"periodo\"], as_index=False)[\"pernoctaciones\"].sum()\n",
    "\n",
    "# Agregar la nueva categoría \"todos_alojamientos\" (aunque ya no es necesaria después de agrupar)\n",
    "df_agrupado[\"alojamiento\"] = \"todos_alojamientos\"\n",
    "\n",
    "df_agrupado.head()"
   ]
  },
  {
   "cell_type": "code",
   "execution_count": 18,
   "metadata": {},
   "outputs": [],
   "source": [
    "df_agrupado = df_agrupado.drop(columns=['alojamiento'])"
   ]
  },
  {
   "cell_type": "code",
   "execution_count": 19,
   "metadata": {},
   "outputs": [
    {
     "name": "stdout",
     "output_type": "stream",
     "text": [
      "<class 'pandas.core.frame.DataFrame'>\n",
      "RangeIndex: 240 entries, 0 to 239\n",
      "Data columns (total 4 columns):\n",
      " #   Column          Non-Null Count  Dtype \n",
      "---  ------          --------------  ----- \n",
      " 0   comunidad       240 non-null    object\n",
      " 1   procedencia     240 non-null    object\n",
      " 2   periodo         240 non-null    object\n",
      " 3   pernoctaciones  240 non-null    Int64 \n",
      "dtypes: Int64(1), object(3)\n",
      "memory usage: 7.9+ KB\n"
     ]
    }
   ],
   "source": [
    "df_agrupado.info()"
   ]
  },
  {
   "cell_type": "code",
   "execution_count": 20,
   "metadata": {},
   "outputs": [
    {
     "data": {
      "application/vnd.microsoft.datawrangler.viewer.v0+json": {
       "columns": [
        {
         "name": "index",
         "rawType": "int64",
         "type": "integer"
        },
        {
         "name": "comunidad",
         "rawType": "object",
         "type": "string"
        },
        {
         "name": "procedencia",
         "rawType": "object",
         "type": "string"
        },
        {
         "name": "periodo",
         "rawType": "object",
         "type": "string"
        },
        {
         "name": "pernoctaciones",
         "rawType": "Int64",
         "type": "integer"
        }
       ],
       "conversionMethod": "pd.DataFrame",
       "ref": "667e588b-a153-4de4-8745-7e44296a7e3f",
       "rows": [
        [
         "0",
         "01 Andalucía",
         "Residentes en España",
         "2023M01",
         "1416930"
        ],
        [
         "1",
         "01 Andalucía",
         "Residentes en España",
         "2023M02",
         "1780710"
        ],
        [
         "2",
         "01 Andalucía",
         "Residentes en España",
         "2023M03",
         "2052426"
        ],
        [
         "3",
         "01 Andalucía",
         "Residentes en España",
         "2023M04",
         "2973442"
        ],
        [
         "4",
         "01 Andalucía",
         "Residentes en España",
         "2023M05",
         "2605608"
        ],
        [
         "5",
         "01 Andalucía",
         "Residentes en España",
         "2023M06",
         "3598662"
        ],
        [
         "6",
         "01 Andalucía",
         "Residentes en España",
         "2023M07",
         "5314541"
        ],
        [
         "7",
         "01 Andalucía",
         "Residentes en España",
         "2023M08",
         "6283970"
        ],
        [
         "8",
         "01 Andalucía",
         "Residentes en España",
         "2023M09",
         "3552640"
        ],
        [
         "9",
         "01 Andalucía",
         "Residentes en España",
         "2023M10",
         "2394920"
        ],
        [
         "10",
         "01 Andalucía",
         "Residentes en España",
         "2023M11",
         "1673385"
        ],
        [
         "11",
         "01 Andalucía",
         "Residentes en España",
         "2023M12",
         "1907935"
        ],
        [
         "12",
         "01 Andalucía",
         "Residentes en España",
         "2024M01",
         "1407292"
        ],
        [
         "13",
         "01 Andalucía",
         "Residentes en España",
         "2024M02",
         "1836953"
        ],
        [
         "14",
         "01 Andalucía",
         "Residentes en España",
         "2024M03",
         "2565952"
        ],
        [
         "15",
         "01 Andalucía",
         "Residentes en España",
         "2024M04",
         "2519390"
        ],
        [
         "16",
         "01 Andalucía",
         "Residentes en España",
         "2024M05",
         "2990301"
        ],
        [
         "17",
         "01 Andalucía",
         "Residentes en España",
         "2024M06",
         "3631081"
        ],
        [
         "18",
         "01 Andalucía",
         "Residentes en España",
         "2024M07",
         "5086932"
        ],
        [
         "19",
         "01 Andalucía",
         "Residentes en España",
         "2024M08",
         "6219456"
        ],
        [
         "20",
         "01 Andalucía",
         "Residentes en España",
         "2024M09",
         "3509122"
        ],
        [
         "21",
         "01 Andalucía",
         "Residentes en España",
         "2024M10",
         "2180169"
        ],
        [
         "22",
         "01 Andalucía",
         "Residentes en España",
         "2024M11",
         "1705252"
        ],
        [
         "23",
         "01 Andalucía",
         "Residentes en España",
         "2024M12",
         "1751877"
        ],
        [
         "24",
         "01 Andalucía",
         "Residentes en el Extranjero",
         "2023M01",
         "1715217"
        ],
        [
         "25",
         "01 Andalucía",
         "Residentes en el Extranjero",
         "2023M02",
         "1967179"
        ],
        [
         "26",
         "01 Andalucía",
         "Residentes en el Extranjero",
         "2023M03",
         "2525540"
        ],
        [
         "27",
         "01 Andalucía",
         "Residentes en el Extranjero",
         "2023M04",
         "3474986"
        ],
        [
         "28",
         "01 Andalucía",
         "Residentes en el Extranjero",
         "2023M05",
         "3983115"
        ],
        [
         "29",
         "01 Andalucía",
         "Residentes en el Extranjero",
         "2023M06",
         "3700464"
        ],
        [
         "30",
         "01 Andalucía",
         "Residentes en el Extranjero",
         "2023M07",
         "3941725"
        ],
        [
         "31",
         "01 Andalucía",
         "Residentes en el Extranjero",
         "2023M08",
         "4256638"
        ],
        [
         "32",
         "01 Andalucía",
         "Residentes en el Extranjero",
         "2023M09",
         "4303115"
        ],
        [
         "33",
         "01 Andalucía",
         "Residentes en el Extranjero",
         "2023M10",
         "4216793"
        ],
        [
         "34",
         "01 Andalucía",
         "Residentes en el Extranjero",
         "2023M11",
         "2352035"
        ],
        [
         "35",
         "01 Andalucía",
         "Residentes en el Extranjero",
         "2023M12",
         "1910476"
        ],
        [
         "36",
         "01 Andalucía",
         "Residentes en el Extranjero",
         "2024M01",
         "2059878"
        ],
        [
         "37",
         "01 Andalucía",
         "Residentes en el Extranjero",
         "2024M02",
         "2434233"
        ],
        [
         "38",
         "01 Andalucía",
         "Residentes en el Extranjero",
         "2024M03",
         "3124925"
        ],
        [
         "39",
         "01 Andalucía",
         "Residentes en el Extranjero",
         "2024M04",
         "3838917"
        ],
        [
         "40",
         "01 Andalucía",
         "Residentes en el Extranjero",
         "2024M05",
         "4419795"
        ],
        [
         "41",
         "01 Andalucía",
         "Residentes en el Extranjero",
         "2024M06",
         "4084895"
        ],
        [
         "42",
         "01 Andalucía",
         "Residentes en el Extranjero",
         "2024M07",
         "4090038"
        ],
        [
         "43",
         "01 Andalucía",
         "Residentes en el Extranjero",
         "2024M08",
         "4602802"
        ],
        [
         "44",
         "01 Andalucía",
         "Residentes en el Extranjero",
         "2024M09",
         "4521079"
        ],
        [
         "45",
         "01 Andalucía",
         "Residentes en el Extranjero",
         "2024M10",
         "4468822"
        ],
        [
         "46",
         "01 Andalucía",
         "Residentes en el Extranjero",
         "2024M11",
         "2504280"
        ],
        [
         "47",
         "01 Andalucía",
         "Residentes en el Extranjero",
         "2024M12",
         "1890691"
        ],
        [
         "48",
         "04 Balears, Illes",
         "Residentes en España",
         "2023M01",
         "99481"
        ],
        [
         "49",
         "04 Balears, Illes",
         "Residentes en España",
         "2023M02",
         "156927"
        ]
       ],
       "shape": {
        "columns": 4,
        "rows": 240
       }
      },
      "text/html": [
       "<div>\n",
       "<style scoped>\n",
       "    .dataframe tbody tr th:only-of-type {\n",
       "        vertical-align: middle;\n",
       "    }\n",
       "\n",
       "    .dataframe tbody tr th {\n",
       "        vertical-align: top;\n",
       "    }\n",
       "\n",
       "    .dataframe thead th {\n",
       "        text-align: right;\n",
       "    }\n",
       "</style>\n",
       "<table border=\"1\" class=\"dataframe\">\n",
       "  <thead>\n",
       "    <tr style=\"text-align: right;\">\n",
       "      <th></th>\n",
       "      <th>comunidad</th>\n",
       "      <th>procedencia</th>\n",
       "      <th>periodo</th>\n",
       "      <th>pernoctaciones</th>\n",
       "    </tr>\n",
       "  </thead>\n",
       "  <tbody>\n",
       "    <tr>\n",
       "      <th>0</th>\n",
       "      <td>01 Andalucía</td>\n",
       "      <td>Residentes en España</td>\n",
       "      <td>2023M01</td>\n",
       "      <td>1416930</td>\n",
       "    </tr>\n",
       "    <tr>\n",
       "      <th>1</th>\n",
       "      <td>01 Andalucía</td>\n",
       "      <td>Residentes en España</td>\n",
       "      <td>2023M02</td>\n",
       "      <td>1780710</td>\n",
       "    </tr>\n",
       "    <tr>\n",
       "      <th>2</th>\n",
       "      <td>01 Andalucía</td>\n",
       "      <td>Residentes en España</td>\n",
       "      <td>2023M03</td>\n",
       "      <td>2052426</td>\n",
       "    </tr>\n",
       "    <tr>\n",
       "      <th>3</th>\n",
       "      <td>01 Andalucía</td>\n",
       "      <td>Residentes en España</td>\n",
       "      <td>2023M04</td>\n",
       "      <td>2973442</td>\n",
       "    </tr>\n",
       "    <tr>\n",
       "      <th>4</th>\n",
       "      <td>01 Andalucía</td>\n",
       "      <td>Residentes en España</td>\n",
       "      <td>2023M05</td>\n",
       "      <td>2605608</td>\n",
       "    </tr>\n",
       "    <tr>\n",
       "      <th>...</th>\n",
       "      <td>...</td>\n",
       "      <td>...</td>\n",
       "      <td>...</td>\n",
       "      <td>...</td>\n",
       "    </tr>\n",
       "    <tr>\n",
       "      <th>235</th>\n",
       "      <td>13 Madrid, Comunidad de</td>\n",
       "      <td>Residentes en el Extranjero</td>\n",
       "      <td>2024M08</td>\n",
       "      <td>1459104</td>\n",
       "    </tr>\n",
       "    <tr>\n",
       "      <th>236</th>\n",
       "      <td>13 Madrid, Comunidad de</td>\n",
       "      <td>Residentes en el Extranjero</td>\n",
       "      <td>2024M09</td>\n",
       "      <td>1692217</td>\n",
       "    </tr>\n",
       "    <tr>\n",
       "      <th>237</th>\n",
       "      <td>13 Madrid, Comunidad de</td>\n",
       "      <td>Residentes en el Extranjero</td>\n",
       "      <td>2024M10</td>\n",
       "      <td>1799431</td>\n",
       "    </tr>\n",
       "    <tr>\n",
       "      <th>238</th>\n",
       "      <td>13 Madrid, Comunidad de</td>\n",
       "      <td>Residentes en el Extranjero</td>\n",
       "      <td>2024M11</td>\n",
       "      <td>1435933</td>\n",
       "    </tr>\n",
       "    <tr>\n",
       "      <th>239</th>\n",
       "      <td>13 Madrid, Comunidad de</td>\n",
       "      <td>Residentes en el Extranjero</td>\n",
       "      <td>2024M12</td>\n",
       "      <td>1227783</td>\n",
       "    </tr>\n",
       "  </tbody>\n",
       "</table>\n",
       "<p>240 rows × 4 columns</p>\n",
       "</div>"
      ],
      "text/plain": [
       "                   comunidad                  procedencia  periodo  \\\n",
       "0               01 Andalucía         Residentes en España  2023M01   \n",
       "1               01 Andalucía         Residentes en España  2023M02   \n",
       "2               01 Andalucía         Residentes en España  2023M03   \n",
       "3               01 Andalucía         Residentes en España  2023M04   \n",
       "4               01 Andalucía         Residentes en España  2023M05   \n",
       "..                       ...                          ...      ...   \n",
       "235  13 Madrid, Comunidad de  Residentes en el Extranjero  2024M08   \n",
       "236  13 Madrid, Comunidad de  Residentes en el Extranjero  2024M09   \n",
       "237  13 Madrid, Comunidad de  Residentes en el Extranjero  2024M10   \n",
       "238  13 Madrid, Comunidad de  Residentes en el Extranjero  2024M11   \n",
       "239  13 Madrid, Comunidad de  Residentes en el Extranjero  2024M12   \n",
       "\n",
       "     pernoctaciones  \n",
       "0           1416930  \n",
       "1           1780710  \n",
       "2           2052426  \n",
       "3           2973442  \n",
       "4           2605608  \n",
       "..              ...  \n",
       "235         1459104  \n",
       "236         1692217  \n",
       "237         1799431  \n",
       "238         1435933  \n",
       "239         1227783  \n",
       "\n",
       "[240 rows x 4 columns]"
      ]
     },
     "execution_count": 20,
     "metadata": {},
     "output_type": "execute_result"
    }
   ],
   "source": [
    "df_agrupado"
   ]
  },
  {
   "cell_type": "markdown",
   "metadata": {},
   "source": [
    "# Estancia media: carga y limpieza"
   ]
  },
  {
   "cell_type": "code",
   "execution_count": 21,
   "metadata": {},
   "outputs": [
    {
     "data": {
      "application/vnd.microsoft.datawrangler.viewer.v0+json": {
       "columns": [
        {
         "name": "index",
         "rawType": "int64",
         "type": "integer"
        },
        {
         "name": "Tipo de alojamiento",
         "rawType": "object",
         "type": "string"
        },
        {
         "name": "Total Nacional",
         "rawType": "object",
         "type": "string"
        },
        {
         "name": "Comunidades y Ciudades Autónomas",
         "rawType": "object",
         "type": "string"
        },
        {
         "name": "Periodo",
         "rawType": "object",
         "type": "string"
        },
        {
         "name": "Total",
         "rawType": "object",
         "type": "string"
        }
       ],
       "conversionMethod": "pd.DataFrame",
       "ref": "90250ce6-120f-4813-9466-33cf627f3ee9",
       "rows": [
        [
         "0",
         "Encuesta de Ocupación Hotelera",
         "Total Nacional",
         "01 Andalucía",
         "2024M12",
         "2,27"
        ],
        [
         "1",
         "Encuesta de Ocupación Hotelera",
         "Total Nacional",
         "01 Andalucía",
         "2024M11",
         "2,43"
        ],
        [
         "2",
         "Encuesta de Ocupación Hotelera",
         "Total Nacional",
         "01 Andalucía",
         "2024M10",
         "2,79"
        ],
        [
         "3",
         "Encuesta de Ocupación Hotelera",
         "Total Nacional",
         "01 Andalucía",
         "2024M09",
         "3,00"
        ],
        [
         "4",
         "Encuesta de Ocupación Hotelera",
         "Total Nacional",
         "01 Andalucía",
         "2024M08",
         "3,34"
        ]
       ],
       "shape": {
        "columns": 5,
        "rows": 5
       }
      },
      "text/html": [
       "<div>\n",
       "<style scoped>\n",
       "    .dataframe tbody tr th:only-of-type {\n",
       "        vertical-align: middle;\n",
       "    }\n",
       "\n",
       "    .dataframe tbody tr th {\n",
       "        vertical-align: top;\n",
       "    }\n",
       "\n",
       "    .dataframe thead th {\n",
       "        text-align: right;\n",
       "    }\n",
       "</style>\n",
       "<table border=\"1\" class=\"dataframe\">\n",
       "  <thead>\n",
       "    <tr style=\"text-align: right;\">\n",
       "      <th></th>\n",
       "      <th>Tipo de alojamiento</th>\n",
       "      <th>Total Nacional</th>\n",
       "      <th>Comunidades y Ciudades Autónomas</th>\n",
       "      <th>Periodo</th>\n",
       "      <th>Total</th>\n",
       "    </tr>\n",
       "  </thead>\n",
       "  <tbody>\n",
       "    <tr>\n",
       "      <th>0</th>\n",
       "      <td>Encuesta de Ocupación Hotelera</td>\n",
       "      <td>Total Nacional</td>\n",
       "      <td>01 Andalucía</td>\n",
       "      <td>2024M12</td>\n",
       "      <td>2,27</td>\n",
       "    </tr>\n",
       "    <tr>\n",
       "      <th>1</th>\n",
       "      <td>Encuesta de Ocupación Hotelera</td>\n",
       "      <td>Total Nacional</td>\n",
       "      <td>01 Andalucía</td>\n",
       "      <td>2024M11</td>\n",
       "      <td>2,43</td>\n",
       "    </tr>\n",
       "    <tr>\n",
       "      <th>2</th>\n",
       "      <td>Encuesta de Ocupación Hotelera</td>\n",
       "      <td>Total Nacional</td>\n",
       "      <td>01 Andalucía</td>\n",
       "      <td>2024M10</td>\n",
       "      <td>2,79</td>\n",
       "    </tr>\n",
       "    <tr>\n",
       "      <th>3</th>\n",
       "      <td>Encuesta de Ocupación Hotelera</td>\n",
       "      <td>Total Nacional</td>\n",
       "      <td>01 Andalucía</td>\n",
       "      <td>2024M09</td>\n",
       "      <td>3,00</td>\n",
       "    </tr>\n",
       "    <tr>\n",
       "      <th>4</th>\n",
       "      <td>Encuesta de Ocupación Hotelera</td>\n",
       "      <td>Total Nacional</td>\n",
       "      <td>01 Andalucía</td>\n",
       "      <td>2024M08</td>\n",
       "      <td>3,34</td>\n",
       "    </tr>\n",
       "  </tbody>\n",
       "</table>\n",
       "</div>"
      ],
      "text/plain": [
       "              Tipo de alojamiento  Total Nacional  \\\n",
       "0  Encuesta de Ocupación Hotelera  Total Nacional   \n",
       "1  Encuesta de Ocupación Hotelera  Total Nacional   \n",
       "2  Encuesta de Ocupación Hotelera  Total Nacional   \n",
       "3  Encuesta de Ocupación Hotelera  Total Nacional   \n",
       "4  Encuesta de Ocupación Hotelera  Total Nacional   \n",
       "\n",
       "  Comunidades y Ciudades Autónomas  Periodo Total  \n",
       "0                     01 Andalucía  2024M12  2,27  \n",
       "1                     01 Andalucía  2024M11  2,43  \n",
       "2                     01 Andalucía  2024M10  2,79  \n",
       "3                     01 Andalucía  2024M09  3,00  \n",
       "4                     01 Andalucía  2024M08  3,34  "
      ]
     },
     "execution_count": 21,
     "metadata": {},
     "output_type": "execute_result"
    }
   ],
   "source": [
    "ruta2 = r\"../Data/2940_Estancia media.csv\"\n",
    "\n",
    "# Cargar el archivo con separador y codificación adecuados\n",
    "df_estancia = pd.read_csv(ruta2, sep=\";\", encoding=\"latin1\")\n",
    "df_estancia.head()"
   ]
  },
  {
   "cell_type": "code",
   "execution_count": 22,
   "metadata": {},
   "outputs": [
    {
     "data": {
      "text/plain": [
       "(600, 5)"
      ]
     },
     "execution_count": 22,
     "metadata": {},
     "output_type": "execute_result"
    }
   ],
   "source": [
    "df_estancia.shape"
   ]
  },
  {
   "cell_type": "code",
   "execution_count": 23,
   "metadata": {},
   "outputs": [
    {
     "name": "stdout",
     "output_type": "stream",
     "text": [
      "<class 'pandas.core.frame.DataFrame'>\n",
      "RangeIndex: 600 entries, 0 to 599\n",
      "Data columns (total 5 columns):\n",
      " #   Column                            Non-Null Count  Dtype \n",
      "---  ------                            --------------  ----- \n",
      " 0   Tipo de alojamiento               600 non-null    object\n",
      " 1   Total Nacional                    600 non-null    object\n",
      " 2   Comunidades y Ciudades Autónomas  600 non-null    object\n",
      " 3   Periodo                           600 non-null    object\n",
      " 4   Total                             600 non-null    object\n",
      "dtypes: object(5)\n",
      "memory usage: 23.6+ KB\n"
     ]
    }
   ],
   "source": [
    "df_estancia.info()"
   ]
  },
  {
   "cell_type": "code",
   "execution_count": 24,
   "metadata": {},
   "outputs": [],
   "source": [
    "# Se renombran las columnas\n",
    "df_estancia = df_estancia.rename(columns={'Tipo de alojamiento': 'alojamiento',\n",
    "                                        'Total Nacional': 'total_nacional',\n",
    "                                        'Comunidades y Ciudades Autónomas': 'comunidad',\n",
    "                                        'Periodo': 'periodo',\n",
    "                                        'Total': 'estancia_media'})"
   ]
  },
  {
   "cell_type": "markdown",
   "metadata": {},
   "source": [
    "## Limpieza de datos\n",
    "\n",
    "Se transforman a enteros, float y datatime las columnas de interés"
   ]
  },
  {
   "cell_type": "code",
   "execution_count": 25,
   "metadata": {},
   "outputs": [],
   "source": [
    "#  Limpiar en df_estancia la columna \"estancia_media\" → convertir a float\n",
    "df_estancia[\"estancia_media\"] = (\n",
    "    df_estancia[\"estancia_media\"]\n",
    "    .str.replace(\",\", \".\", regex=False)   # Cambiar coma decimal por punto\n",
    "    .str.strip()\n",
    "    .replace(\"\", pd.NA)\n",
    "    .pipe(pd.to_numeric, errors=\"coerce\")  # Convertir a número (float)\n",
    ")\n",
    "# Convertir la columna \"Periodo\" a fecha real (datetime)\n",
    "df_estancia[\"periodo_dt\"] = (\n",
    "    df_estancia[\"periodo\"]\n",
    "    .str.replace(\"M\", \"-\", regex=False)\n",
    "    .pipe(pd.to_datetime, format=\"%Y-%m\", errors=\"coerce\")\n",
    ")\n",
    "\n",
    "# Eliminar filas con fechas inválidas\n",
    "df_estancia = df_estancia.dropna(subset=[\"periodo_dt\"])\n"
   ]
  },
  {
   "cell_type": "code",
   "execution_count": 26,
   "metadata": {},
   "outputs": [
    {
     "name": "stdout",
     "output_type": "stream",
     "text": [
      "<class 'pandas.core.frame.DataFrame'>\n",
      "RangeIndex: 600 entries, 0 to 599\n",
      "Data columns (total 6 columns):\n",
      " #   Column          Non-Null Count  Dtype         \n",
      "---  ------          --------------  -----         \n",
      " 0   alojamiento     600 non-null    object        \n",
      " 1   total_nacional  600 non-null    object        \n",
      " 2   comunidad       600 non-null    object        \n",
      " 3   periodo         600 non-null    object        \n",
      " 4   estancia_media  571 non-null    float64       \n",
      " 5   periodo_dt      600 non-null    datetime64[ns]\n",
      "dtypes: datetime64[ns](1), float64(1), object(4)\n",
      "memory usage: 28.3+ KB\n"
     ]
    }
   ],
   "source": [
    "df_estancia.info()"
   ]
  },
  {
   "cell_type": "markdown",
   "metadata": {},
   "source": [
    "# Desafío: \n",
    "¿Es necesario ajustar nuestras ofertas al perfil del viajero y a la demanda de pernoctaciones en las ciudades donde estamos presentes, considerando las cifras oficiales sobre procedencia, meses de visita y media de pernoctaciones por ciudad autónoma?"
   ]
  },
  {
   "cell_type": "code",
   "execution_count": null,
   "metadata": {},
   "outputs": [
    {
     "data": {
      "image/png": "[encoded data removed]",
      "text/plain": [
       "<Figure size 1400x700 with 1 Axes>"
      ]
     },
     "metadata": {},
     "output_type": "display_data"
    }
   ],
   "source": [
    "# Agrupar por comunidad y mes\n",
    "ocupacion_por_ciudad = df_agrupado.groupby(\n",
    "    [\"periodo\", \"comunidad\"]\n",
    ")[\"pernoctaciones\"].sum().reset_index()\n",
    "\n",
    "\n",
    "plt.figure(figsize=(14, 7))\n",
    "\n",
    "# Dibujar una línea por cada comunidad\n",
    "for comunidad in ocupacion_por_ciudad[\"comunidad\"].unique():\n",
    "    datos = ocupacion_por_ciudad[ocupacion_por_ciudad[\"comunidad\"] == comunidad]\n",
    "    plt.plot(datos[\"periodo\"], datos[\"pernoctaciones\"], label=comunidad)\n",
    "\n",
    "plt.title(\"Ocupación por mes y Comunidad Autónoma\")\n",
    "plt.xlabel(\"Mes\")\n",
    "plt.ylabel(\"Pernoctaciones\")\n",
    "plt.xticks(rotation=45)\n",
    "plt.legend(bbox_to_anchor=(1.05, 1), loc='upper left')  # leyenda fuera del gráfico\n",
    "plt.tight_layout()\n",
    "plt.grid(True)\n",
    "plt.show()"
   ]
  },
  {
   "cell_type": "code",
   "execution_count": null,
   "metadata": {},
   "outputs": [],
   "source": [
    "import matplotlib.pyplot as plt\n",
    "\n",
    "# Agrupar por mes y tipo de residencia\n",
    "ocupacion_por_residencia = df.groupby(\n",
    "    [\"Periodo_dt\", \"Residencia_de_los_viajeros\"]\n",
    ")[\"Pernoctaciones\"].sum().reset_index()\n",
    "\n",
    "# Crear gráfico\n",
    "plt.figure(figsize=(12, 6))\n",
    "\n",
    "# Dibujar una línea por cada tipo de residencia\n",
    "for residencia in ocupacion_por_residencia[\"Residencia_de_los_viajeros\"].unique():\n",
    "    datos = ocupacion_por_residencia[ocupacion_por_residencia[\"Residencia_de_los_viajeros\"] == residencia]\n",
    "    plt.plot(datos[\"Periodo_dt\"], datos[\"Pernoctaciones\"], label=residencia)\n",
    "\n",
    "# Estética\n",
    "plt.title(\"Ocupación por mes y residencia\")\n",
    "plt.xlabel(\"Mes\")\n",
    "plt.ylabel(\"Pernoctaciones\")\n",
    "plt.xticks(rotation=45)\n",
    "plt.legend(title=\"Residencia\")\n",
    "plt.tight_layout()\n",
    "plt.grid(True)\n",
    "plt.show()\n"
   ]
  },
  {
   "cell_type": "code",
   "execution_count": null,
   "metadata": {},
   "outputs": [],
   "source": [
    "import matplotlib.pyplot as plt\n",
    "\n",
    "# Agrupar por mes, tipo de residencia y comunidad autónoma\n",
    "ocupacion_por_residencia_y_ciudad = df.groupby(\n",
    "    [\"Periodo_dt\", \"Residencia_de_los_viajeros\", \"Comunidades_autonomas\"]\n",
    ")[\"Total\"].sum().reset_index()\n",
    "\n",
    "# Crear gráfico\n",
    "plt.figure(figsize=(14, 7))\n",
    "\n",
    "# Dibujar una línea por cada tipo de residencia y comunidad autónoma\n",
    "for comunidad in ocupacion_por_residencia_y_ciudad[\"Comunidades_autonomas\"].unique():\n",
    "    for residencia in ocupacion_por_residencia_y_ciudad[\"Residencia_de_los_viajeros\"].unique():\n",
    "        # Filtrar los datos por comunidad y residencia\n",
    "        datos = ocupacion_por_residencia_y_ciudad[\n",
    "            (ocupacion_por_residencia_y_ciudad[\"Comunidades_autonomas\"] == comunidad) &\n",
    "            (ocupacion_por_residencia_y_ciudad[\"Residencia_de_los_viajeros\"] == residencia)\n",
    "        ]\n",
    "        plt.plot(datos[\"Periodo_dt\"], datos[\"Total\"], label=f\"{comunidad} - {residencia}\")\n",
    "\n",
    "# Estética\n",
    "plt.title(\"Ocupación por mes, residencia y ciudad\")\n",
    "plt.xlabel(\"Mes\")\n",
    "plt.ylabel(\"Total de ocupación\")\n",
    "plt.xticks(rotation=45)\n",
    "plt.legend(title=\"Residencia - Ciudad\", bbox_to_anchor=(1.05, 1), loc='upper left')\n",
    "plt.tight_layout()\n",
    "plt.grid(True)\n",
    "plt.show()\n"
   ]
  },
  {
   "cell_type": "code",
   "execution_count": null,
   "metadata": {},
   "outputs": [],
   "source": [
    "# Agrupar por comunidad autónoma y tipo de residencia (españoles vs extranjeros)\n",
    "perfil_viajero = df.groupby([\"Comunidades y Ciudades Autónomas\", \"Residencia: Nivel 2\"])[\"Total\"].sum().unstack().fillna(0)\n",
    "\n",
    "# Crear gráfico de barras apiladas\n",
    "perfil_viajero.plot(kind=\"bar\", stacked=True, figsize=(12, 6), color=[\"#1f77b4\", \"#ff7f0e\"])\n",
    "\n",
    "# Estética\n",
    "plt.title(\"Ocupación por comunidad y tipo de residencia (españoles vs extranjeros)\")\n",
    "plt.xlabel(\"Comunidad Autónoma\")\n",
    "plt.ylabel(\"Total de ocupación\")\n",
    "plt.xticks(rotation=90)\n",
    "plt.legend(title=\"Residencia\", labels=[\"Residentes en España\", \"Residentes en el Extranjero\"])\n",
    "plt.tight_layout()\n",
    "plt.show()\n"
   ]
  },
  {
   "cell_type": "code",
   "execution_count": null,
   "metadata": {},
   "outputs": [],
   "source": [
    "# Agrupar por comunidad y calcular la estancia media\n",
    "estancia_media_comunidad = df_estancia.groupby(\"Comunidades y Ciudades Autónomas\")[\"Total\"].mean().reset_index()\n",
    "\n",
    "# Crear gráfico de barras\n",
    "plt.figure(figsize=(12, 6))\n",
    "\n",
    "plt.bar(estancia_media_comunidad[\"Comunidades y Ciudades Autónomas\"], estancia_media_comunidad[\"Total\"], color=\"g\")\n",
    "plt.title(\"Estancia media por comunidad autónoma\")\n",
    "plt.xlabel(\"Comunidad Autónoma\")\n",
    "plt.ylabel(\"Estancia media\")\n",
    "plt.xticks(rotation=90)\n",
    "plt.tight_layout()\n",
    "plt.show()\n"
   ]
  },
  {
   "cell_type": "code",
   "execution_count": null,
   "metadata": {},
   "outputs": [],
   "source": [
    "# Agrupar por mes para ver la ocupación total por mes\n",
    "ocupacion_mes = df.groupby(\"Periodo_dt\")[\"Total\"].sum().reset_index()\n",
    "\n",
    "# Crear gráfico de líneas\n",
    "plt.figure(figsize=(12, 6))\n",
    "\n",
    "plt.plot(ocupacion_mes[\"Periodo_dt\"], ocupacion_mes[\"Total\"], marker=\"o\", color=\"b\")\n",
    "plt.title(\"Demanda de pernoctaciones por mes\")\n",
    "plt.xlabel(\"Mes\")\n",
    "plt.ylabel(\"Total de ocupación\")\n",
    "plt.xticks(rotation=45)\n",
    "plt.grid(True)\n",
    "plt.tight_layout()\n",
    "plt.show()\n"
   ]
  },
  {
   "cell_type": "markdown",
   "metadata": {},
   "source": [
    "# Tendencia"
   ]
  },
  {
   "cell_type": "markdown",
   "metadata": {},
   "source": [
    "-Perfil del viajero: Residentes vs. Extranjeros<br>\n",
    "Distribución por residencia: Según los gráficos de ocupación por tipo de residencia, las comunidades autónomas más turísticas (como Andalucía, Baleares, y Cataluña) presentan una alta ocupación de residentes extranjeros. Esto sugiere que hay una demanda constante de turistas internacionales, sobre todo en los meses de verano o vacaciones.<br>\n",
    "Tendencia para el mercado nacional: El perfil de los viajeros residentes en España mantiene una ocupación más estable, aunque con fluctuaciones dependiendo de la estacionalidad. Las comunidades con mayor atracción para turistas internacionales también parecen ver una mayor ocupación de residentes españoles en los meses fuera de temporada alta (por ejemplo, en meses de baja demanda o invierno).<br>\n",
    "\n",
    "-Demanda de pernoctaciones por mes<br>\n",
    "Picos estacionales: La ocupación crece significativamente durante los meses de verano y festivos, lo que se traduce en una mayor demanda de pernoctaciones. Es evidente que el turismo se concentra en épocas de alta demanda.<br>\n",
    "\n",
    "Las bajas temporadas muestran un descenso en las pernoctaciones, lo que indica que la demanda por pernoctaciones baja cuando no es temporada alta.<br>\n",
    "\n",
    "-Estancia media por comunidad<br>\n",
    "Diferencias en la estancia media: Algunas comunidades tienen una estancia media más larga, lo que sugiere que los turistas se quedan más tiempo en estas zonas. En cambio, las comunidades más urbanas o turísticas (por ejemplo, Madrid) pueden tener estancias más cortas. <br>\n",
    "\n",
    "Las zonas rurales o costeras pueden tener estancias más largas, lo que implica que los viajeros en estas áreas buscan estancias más relajadas o vacaciones prolongadas.<br>\n",
    "\n",
    "-Ajuste de ofertas por ciudad/comunidad<br>\n",
    "Las comunidades autónomas más visitadas como Andalucía, Baleares y Cataluña siguen dominando la demanda de pernoctaciones, especialmente entre los turistas internacionales.<br>\n",
    "\n",
    "Las zonas menos turísticas (rurales, como algunas comunidades del norte) muestran una ocupación más baja, lo que sugiere que estas áreas podrían necesitar incentivos adicionales para aumentar la ocupación.<br>"
   ]
  },
  {
   "cell_type": "markdown",
   "metadata": {},
   "source": [
    "# Propuestas de Negocio"
   ]
  },
  {
   "cell_type": "markdown",
   "metadata": {},
   "source": [
    "1. Ofertas especiales para turistas internacionales en temporada alta<br>\n",
    "Propuesta: Durante los meses de alta demanda, especialmente en verano y vacaciones, aumentar la visibilidad de ofertas dirigidas a turistas internacionales. Esto puede incluir: <br>\n",
    "-Paquetes turísticos o descuentos para grupos grandes (familias, amigos).<br>\n",
    "-Ofertas de largo plazo para estancias prolongadas (de 1 semana o más).<br>\n",
    "-Paquetes todo incluido o actividades complementarias como excursiones o entradas a eventos culturales en la comunidad.<br>\n",
    "Objetivo: Maximizar la ocupación en los meses de alta demanda con promociones atractivas para el turismo internacional, que constituye una gran parte de la demanda en las comunidades más turísticas.\n",
    "\n",
    "2. Promociones para residentes nacionales en temporada baja<br>\n",
    "Propuesta: Reforzar las ofertas para residentes españoles durante los meses de baja ocupación.<br>\n",
    "Esto puede incluir:<br>\n",
    "-Descuentos especiales para residentes en comunidades con baja demanda (como zonas rurales o menos turísticas).<br>\n",
    "-Promociones de fin de semana o escapadas de última hora en las ciudades menos visitadas.<br>\n",
    "-Descuentos por estancias más largas (por ejemplo, estancias de 5 noches o más en zonas rurales o zonas con estancias largas).<br>\n",
    "Objetivo: Atraer a los residentes españoles para mantener la ocupación durante los meses fuera de temporada alta y utilizar las temporadas bajas para equilibrar la demanda.\n",
    "\n",
    "3. Ajustar la oferta según la estancia media<br>\n",
    "Propuesta: Según la diferencia en la estancia media de cada comunidad, ajusta la oferta para que sea adecuada a la duración de la estancia:<br>\n",
    "-En zonas con estancias largas (por ejemplo, Andalucía o Baleares), ofrecer descuentos por estancias prolongadas o paquetes de todo el mes.<br>\n",
    "-En zonas con estancias más cortas, ofrecer paquetes rápidos o flexibles, como estancias de 1 a 3 noches, e incentivar la venta cruzada (por ejemplo, incluir actividades o servicios adicionales como transporte o excursiones).<br>\n",
    "Objetivo: Adaptar la oferta a la duración de la estancia media para maximizar la ocupación, ofreciendo promociones específicas que encajen con el tipo de viajero en cada región.\n",
    "\n",
    "4. Fomentar el turismo en zonas menos visitadas<br>\n",
    "Propuesta: Para las comunidades autónomas con menos ocupación, crear campañas de marketing que resalten las ventajas de estas áreas menos turísticas. <br>\n",
    "Algunas ideas incluyen:<br>\n",
    "-Paquetes de fin de semana en zonas rurales o menos turísticas.<br>\n",
    "-Promociones de última hora para atraer a turistas nacionales (residentes en España) que busquen destinos más tranquilos.<br>\n",
    "-Establecer alianzas con empresas locales para crear paquetes de experiencias que promuevan el turismo rural (por ejemplo, senderismo, visitas a bodegas, actividades culturales).<br>\n",
    "Objetivo: Reducir la dependencia de las zonas más turísticas y equilibrar la demanda en otras comunidades, atrayendo turistas nacionales durante los meses de baja ocupación.\n",
    "\n",
    "5. Crear ofertas temáticas según el tipo de residencia<br>\n",
    "Propuesta: Segmentar las ofertas según el tipo de residencia:<br>\n",
    "-Para residentes españoles, crear promociones centradas en escapadas locales o turismo de cercanía.<br>\n",
    "-Para turistas internacionales, diseñar ofertas relacionadas con experiencias culturales o actividades exclusivas que les permitan disfrutar de la cultura española.<br>\n",
    "Ofertas combinadas para viajeros internacionales con estancias más largas que incluyan servicios adicionales (como traslados o actividades) que optimicen su experiencia.<br>\n",
    "Objetivo: Personalizar la oferta para que se ajuste a las necesidades del tipo de viajero, mejorando la satisfacción y la conversión de ventas.\n",
    "\n",
    "6. Diversificación de productos según la temporada<br>\n",
    "Propuesta: Desarrollar productos adaptados a la temporada:<br>\n",
    "-Durante la temporada baja, ofrecer productos de relajación y bienestar, como spas, retiros de bienestar o escapadas románticas.<br>\n",
    "-En la temporada alta, centrarse en experiencias de aventura o actividades grupales como festivales, excursiones, y actividades culturales.<br>\n",
    "-Promover las vacaciones activas en las zonas rurales durante la temporada baja, aprovechando la tranquilidad de la zona.<BR>\n",
    "Objetivo: Asegurarse de que los productos sean relevantes para las preferencias del viajero según la temporada, mejorando la tasa de ocupación durante todo el año.<br>\n",
    "Estas estrategias personalizan las ofertas según las tendencias actuales y las necesidades del mercado, lo que permitirá ajustar la oferta a la demanda y optimizar las tasas de ocupación.<br>\n"
   ]
  },
  {
   "cell_type": "markdown",
   "metadata": {},
   "source": []
  }
 ],
 "metadata": {
  "kernelspec": {
   "display_name": "Python 3",
   "language": "python",
   "name": "python3"
  },
  "language_info": {
   "codemirror_mode": {
    "name": "ipython",
    "version": 3
   },
   "file_extension": ".py",
   "mimetype": "text/x-python",
   "name": "python",
   "nbconvert_exporter": "python",
   "pygments_lexer": "ipython3",
   "version": "3.13.1"
  }
 },
 "nbformat": 4,
 "nbformat_minor": 2
}
