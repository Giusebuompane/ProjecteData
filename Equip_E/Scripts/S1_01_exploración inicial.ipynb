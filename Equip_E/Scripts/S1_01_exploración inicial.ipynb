{
 "cells": [
  {
   "cell_type": "markdown",
   "metadata": {},
   "source": [
    "#### Importación de bibliotecas"
   ]
  },
  {
   "cell_type": "code",
   "execution_count": 32,
   "metadata": {},
   "outputs": [],
   "source": [
    "import pandas as pd\n",
    "import seaborn as sns\n",
    "import matplotlib.pyplot as plt\n",
    "import numpy as np"
   ]
  },
  {
   "cell_type": "code",
   "execution_count": 9,
   "metadata": {},
   "outputs": [
    {
     "ename": "NameError",
     "evalue": "name 'name' is not defined",
     "output_type": "error",
     "traceback": [
      "\u001b[1;31m---------------------------------------------------------------------------\u001b[0m",
      "\u001b[1;31mNameError\u001b[0m                                 Traceback (most recent call last)",
      "Cell \u001b[1;32mIn[9], line 45\u001b[0m\n\u001b[0;32m     42\u001b[0m         \u001b[38;5;28mglobals\u001b[39m()[table] \u001b[38;5;241m=\u001b[39m df\n\u001b[0;32m     43\u001b[0m         \u001b[38;5;28mprint\u001b[39m(\u001b[38;5;124mf\u001b[39m\u001b[38;5;124m'\u001b[39m\u001b[38;5;124mSe creó el dataframe \u001b[39m\u001b[38;5;124m\"\u001b[39m\u001b[38;5;132;01m{\u001b[39;00mtable\u001b[38;5;132;01m}\u001b[39;00m\u001b[38;5;124m\"\u001b[39m\u001b[38;5;124m'\u001b[39m)\n\u001b[1;32m---> 45\u001b[0m \u001b[38;5;28;01mif\u001b[39;00m name \u001b[38;5;241m==\u001b[39m \u001b[38;5;124m'\u001b[39m\u001b[38;5;124mmain\u001b[39m\u001b[38;5;124m'\u001b[39m:\n\u001b[0;32m     46\u001b[0m     host \u001b[38;5;241m=\u001b[39m \u001b[38;5;124m'\u001b[39m\u001b[38;5;124mlocalhost\u001b[39m\u001b[38;5;124m'\u001b[39m\n\u001b[0;32m     47\u001b[0m     user \u001b[38;5;241m=\u001b[39m \u001b[38;5;124m'\u001b[39m\u001b[38;5;124mroot\u001b[39m\u001b[38;5;124m'\u001b[39m\n",
      "\u001b[1;31mNameError\u001b[0m: name 'name' is not defined"
     ]
    }
   ],
   "source": [
    "import mysql.connector\n",
    "import pandas as pd\n",
    "\n",
    "def get_database(host, user, password, database):\n",
    "    try:\n",
    "        cnx = mysql.connector.connect(\n",
    "            host = host,\n",
    "            user = user,\n",
    "            password = password,\n",
    "            database = database\n",
    "        )\n",
    "\n",
    "        if cnx.is_connected():\n",
    "            print(f'Se conectó a la base de datos \"{database}\" en MySQL')\n",
    "\n",
    "        cursor = cnx.cursor()\n",
    "        cursor.execute('SHOW TABLES;')\n",
    "        tables = cursor.fetchall()\n",
    "        table_names = [table[0] for table in tables]\n",
    "\n",
    "        print(f'Tablas encontradas: {table_names}.')\n",
    "\n",
    "        db = {}\n",
    "\n",
    "        for table in table_names:\n",
    "            query = f'SELECT * FROM {table};'\n",
    "            db[table] = pd.read_sql(query, con = cnx) \n",
    "        return db\n",
    "\n",
    "    except mysql.connector.Error as error:\n",
    "        print(f'Error: {error}')\n",
    "        return None\n",
    "\n",
    "    finally:\n",
    "        if cnx.is_connected():\n",
    "            cnx.close()\n",
    "            print('Conexión a MySQL cerrada.')\n",
    "\n",
    "\n",
    "def rename_dfs():\n",
    "    for table, df in db.items():\n",
    "        globals()[table] = df\n",
    "        print(f'Se creó el dataframe \"{table}\"')\n",
    "\n",
    "if name == 'main':\n",
    "    host = 'localhost'\n",
    "    user = 'root'\n",
    "    password = 'rootpassword'\n",
    "    database = 'transactionsnew'\n",
    "\n",
    "    db = get_database(host, user, password, database)\n",
    "    rename_dfs()\n"
   ]
  },
  {
   "cell_type": "markdown",
   "metadata": {},
   "source": [
    "#### Carga del dataset"
   ]
  },
  {
   "cell_type": "code",
   "execution_count": 33,
   "metadata": {},
   "outputs": [
    {
     "data": {
      "text/html": [
       "<div>\n",
       "<style scoped>\n",
       "    .dataframe tbody tr th:only-of-type {\n",
       "        vertical-align: middle;\n",
       "    }\n",
       "\n",
       "    .dataframe tbody tr th {\n",
       "        vertical-align: top;\n",
       "    }\n",
       "\n",
       "    .dataframe thead th {\n",
       "        text-align: right;\n",
       "    }\n",
       "</style>\n",
       "<table border=\"1\" class=\"dataframe\">\n",
       "  <thead>\n",
       "    <tr style=\"text-align: right;\">\n",
       "      <th></th>\n",
       "      <th>apartment_id</th>\n",
       "      <th>md5</th>\n",
       "      <th>name</th>\n",
       "      <th>description</th>\n",
       "      <th>host_id</th>\n",
       "      <th>neighborhood_overview</th>\n",
       "      <th>neighbourhood_name</th>\n",
       "      <th>neighbourhood_district</th>\n",
       "      <th>latitude</th>\n",
       "      <th>longitude</th>\n",
       "      <th>...</th>\n",
       "      <th>review_scores_checkin</th>\n",
       "      <th>review_scores_communication</th>\n",
       "      <th>review_scores_location</th>\n",
       "      <th>review_scores_value</th>\n",
       "      <th>license</th>\n",
       "      <th>is_instant_bookable</th>\n",
       "      <th>reviews_per_month</th>\n",
       "      <th>country</th>\n",
       "      <th>city</th>\n",
       "      <th>insert_date</th>\n",
       "    </tr>\n",
       "  </thead>\n",
       "  <tbody>\n",
       "    <tr>\n",
       "      <th>0</th>\n",
       "      <td>36187629</td>\n",
       "      <td>66fff4225feb2ddf104ea38f76e4bff1</td>\n",
       "      <td>Piso reformado excelente ubicacion</td>\n",
       "      <td>Apartamento reformado hace dos meses en el Cab...</td>\n",
       "      <td>261787331</td>\n",
       "      <td>NaN</td>\n",
       "      <td>BETERO</td>\n",
       "      <td>POBLATS MARITIMS</td>\n",
       "      <td>39.471490</td>\n",
       "      <td>-0.334600</td>\n",
       "      <td>...</td>\n",
       "      <td>10.0</td>\n",
       "      <td>10.0</td>\n",
       "      <td>10.0</td>\n",
       "      <td>10.0</td>\n",
       "      <td>NaN</td>\n",
       "      <td>True</td>\n",
       "      <td>0.22</td>\n",
       "      <td>spain</td>\n",
       "      <td>valencia</td>\n",
       "      <td>2019-12-31</td>\n",
       "    </tr>\n",
       "    <tr>\n",
       "      <th>1</th>\n",
       "      <td>5388904</td>\n",
       "      <td>48790b4dd865e98cc1f5302a2bba1a50</td>\n",
       "      <td>Nice Room in a Penthouse</td>\n",
       "      <td>The apartment is fully equipped. Large bathroo...</td>\n",
       "      <td>20843074</td>\n",
       "      <td>NaN</td>\n",
       "      <td>la Nova Esquerra de l'Eixample</td>\n",
       "      <td>Eixample</td>\n",
       "      <td>41.383530</td>\n",
       "      <td>2.153880</td>\n",
       "      <td>...</td>\n",
       "      <td>8.0</td>\n",
       "      <td>10.0</td>\n",
       "      <td>10.0</td>\n",
       "      <td>10.0</td>\n",
       "      <td>NaN</td>\n",
       "      <td>False</td>\n",
       "      <td>0.01</td>\n",
       "      <td>spain</td>\n",
       "      <td>barcelona</td>\n",
       "      <td>2021-01-12</td>\n",
       "    </tr>\n",
       "    <tr>\n",
       "      <th>2</th>\n",
       "      <td>39982406</td>\n",
       "      <td>d3a60e8898bd8ddce4325c8d3d6af7c8</td>\n",
       "      <td>LUXURY 5 BEDROOM APARTMENT IN MONCLOA-ARAVACA</td>\n",
       "      <td>Luxury Apartment located in a priveleged zone ...</td>\n",
       "      <td>308267305</td>\n",
       "      <td>Very quiet residential area in a Posh area of ...</td>\n",
       "      <td>El Plantío</td>\n",
       "      <td>Moncloa - Aravaca</td>\n",
       "      <td>40.466140</td>\n",
       "      <td>-3.809480</td>\n",
       "      <td>...</td>\n",
       "      <td>NaN</td>\n",
       "      <td>NaN</td>\n",
       "      <td>NaN</td>\n",
       "      <td>NaN</td>\n",
       "      <td>VT-12318</td>\n",
       "      <td>True</td>\n",
       "      <td>NaN</td>\n",
       "      <td>spain</td>\n",
       "      <td>madrid</td>\n",
       "      <td>2020-01-10</td>\n",
       "    </tr>\n",
       "    <tr>\n",
       "      <th>3</th>\n",
       "      <td>19344018</td>\n",
       "      <td>e2f33bae8c814924e8ce7e6efa8e7245</td>\n",
       "      <td>Habitación zona Atocha</td>\n",
       "      <td>Pareja joven alquila habitación para semana de...</td>\n",
       "      <td>135531703</td>\n",
       "      <td>NaN</td>\n",
       "      <td>Palos de Moguer</td>\n",
       "      <td>Arganzuela</td>\n",
       "      <td>40.405070</td>\n",
       "      <td>-3.693183</td>\n",
       "      <td>...</td>\n",
       "      <td>NaN</td>\n",
       "      <td>NaN</td>\n",
       "      <td>NaN</td>\n",
       "      <td>NaN</td>\n",
       "      <td>NaN</td>\n",
       "      <td>True</td>\n",
       "      <td>NaN</td>\n",
       "      <td>spain</td>\n",
       "      <td>madrid</td>\n",
       "      <td>2019-01-14</td>\n",
       "    </tr>\n",
       "    <tr>\n",
       "      <th>4</th>\n",
       "      <td>17218380</td>\n",
       "      <td>11295740bea58c9ae080a459cc8094c5</td>\n",
       "      <td>Spacious villa for rent with private pool</td>\n",
       "      <td>This large holiday home is located in a quiet ...</td>\n",
       "      <td>8345284</td>\n",
       "      <td>L'Escala has a strategic location - everything...</td>\n",
       "      <td>L'Escala</td>\n",
       "      <td>NaN</td>\n",
       "      <td>42.107823</td>\n",
       "      <td>3.141601</td>\n",
       "      <td>...</td>\n",
       "      <td>8.0</td>\n",
       "      <td>9.0</td>\n",
       "      <td>8.0</td>\n",
       "      <td>8.0</td>\n",
       "      <td>HUTG-020958</td>\n",
       "      <td>True</td>\n",
       "      <td>0.29</td>\n",
       "      <td>spain</td>\n",
       "      <td>girona</td>\n",
       "      <td>2018-10-20</td>\n",
       "    </tr>\n",
       "  </tbody>\n",
       "</table>\n",
       "<p>5 rows × 40 columns</p>\n",
       "</div>"
      ],
      "text/plain": [
       "   apartment_id                               md5  \\\n",
       "0      36187629  66fff4225feb2ddf104ea38f76e4bff1   \n",
       "1       5388904  48790b4dd865e98cc1f5302a2bba1a50   \n",
       "2      39982406  d3a60e8898bd8ddce4325c8d3d6af7c8   \n",
       "3      19344018  e2f33bae8c814924e8ce7e6efa8e7245   \n",
       "4      17218380  11295740bea58c9ae080a459cc8094c5   \n",
       "\n",
       "                                            name  \\\n",
       "0             Piso reformado excelente ubicacion   \n",
       "1                       Nice Room in a Penthouse   \n",
       "2  LUXURY 5 BEDROOM APARTMENT IN MONCLOA-ARAVACA   \n",
       "3                         Habitación zona Atocha   \n",
       "4      Spacious villa for rent with private pool   \n",
       "\n",
       "                                         description    host_id  \\\n",
       "0  Apartamento reformado hace dos meses en el Cab...  261787331   \n",
       "1  The apartment is fully equipped. Large bathroo...   20843074   \n",
       "2  Luxury Apartment located in a priveleged zone ...  308267305   \n",
       "3  Pareja joven alquila habitación para semana de...  135531703   \n",
       "4  This large holiday home is located in a quiet ...    8345284   \n",
       "\n",
       "                               neighborhood_overview  \\\n",
       "0                                                NaN   \n",
       "1                                                NaN   \n",
       "2  Very quiet residential area in a Posh area of ...   \n",
       "3                                                NaN   \n",
       "4  L'Escala has a strategic location - everything...   \n",
       "\n",
       "               neighbourhood_name neighbourhood_district   latitude  \\\n",
       "0                          BETERO       POBLATS MARITIMS  39.471490   \n",
       "1  la Nova Esquerra de l'Eixample               Eixample  41.383530   \n",
       "2                      El Plantío      Moncloa - Aravaca  40.466140   \n",
       "3                 Palos de Moguer             Arganzuela  40.405070   \n",
       "4                        L'Escala                    NaN  42.107823   \n",
       "\n",
       "   longitude  ... review_scores_checkin  review_scores_communication  \\\n",
       "0  -0.334600  ...                  10.0                         10.0   \n",
       "1   2.153880  ...                   8.0                         10.0   \n",
       "2  -3.809480  ...                   NaN                          NaN   \n",
       "3  -3.693183  ...                   NaN                          NaN   \n",
       "4   3.141601  ...                   8.0                          9.0   \n",
       "\n",
       "   review_scores_location  review_scores_value      license  \\\n",
       "0                    10.0                 10.0          NaN   \n",
       "1                    10.0                 10.0          NaN   \n",
       "2                     NaN                  NaN     VT-12318   \n",
       "3                     NaN                  NaN          NaN   \n",
       "4                     8.0                  8.0  HUTG-020958   \n",
       "\n",
       "  is_instant_bookable  reviews_per_month  country       city insert_date  \n",
       "0                True               0.22    spain   valencia  2019-12-31  \n",
       "1               False               0.01    spain  barcelona  2021-01-12  \n",
       "2                True                NaN    spain     madrid  2020-01-10  \n",
       "3                True                NaN    spain     madrid  2019-01-14  \n",
       "4                True               0.29    spain     girona  2018-10-20  \n",
       "\n",
       "[5 rows x 40 columns]"
      ]
     },
     "execution_count": 33,
     "metadata": {},
     "output_type": "execute_result"
    }
   ],
   "source": [
    "file = r\"C:\\Users\\Ivan\\Documents\\Data_Analytics\\Parte8_Simulación_Empresarial\\ProjecteData\\Equip_E\\Data\\alojamientos-turisticos-sample.csv\"\n",
    "\n",
    "df = pd.read_csv(file)\n",
    "df.head()"
   ]
  },
  {
   "cell_type": "markdown",
   "metadata": {},
   "source": [
    "#### Exploración inicial"
   ]
  },
  {
   "cell_type": "code",
   "execution_count": 34,
   "metadata": {},
   "outputs": [
    {
     "data": {
      "text/plain": [
       "(10000, 40)"
      ]
     },
     "execution_count": 34,
     "metadata": {},
     "output_type": "execute_result"
    }
   ],
   "source": [
    "# tamaño\n",
    "df.shape"
   ]
  },
  {
   "cell_type": "code",
   "execution_count": 35,
   "metadata": {},
   "outputs": [
    {
     "name": "stdout",
     "output_type": "stream",
     "text": [
      "<class 'pandas.core.frame.DataFrame'>\n",
      "RangeIndex: 10000 entries, 0 to 9999\n",
      "Data columns (total 40 columns):\n",
      " #   Column                       Non-Null Count  Dtype  \n",
      "---  ------                       --------------  -----  \n",
      " 0   apartment_id                 10000 non-null  int64  \n",
      " 1   md5                          10000 non-null  object \n",
      " 2   name                         9997 non-null   object \n",
      " 3   description                  9862 non-null   object \n",
      " 4   host_id                      10000 non-null  int64  \n",
      " 5   neighborhood_overview        5899 non-null   object \n",
      " 6   neighbourhood_name           10000 non-null  object \n",
      " 7   neighbourhood_district       6079 non-null   object \n",
      " 8   latitude                     10000 non-null  float64\n",
      " 9   longitude                    10000 non-null  float64\n",
      " 10  room_type                    10000 non-null  object \n",
      " 11  accommodates                 10000 non-null  int64  \n",
      " 12  bathrooms                    9926 non-null   float64\n",
      " 13  bedrooms                     9930 non-null   float64\n",
      " 14  beds                         9955 non-null   float64\n",
      " 15  amenities_list               10000 non-null  object \n",
      " 16  price                        9746 non-null   float64\n",
      " 17  minimum_nights               10000 non-null  int64  \n",
      " 18  maximum_nights               10000 non-null  int64  \n",
      " 19  has_availability             9450 non-null   object \n",
      " 20  availability_30              10000 non-null  int64  \n",
      " 21  availability_60              10000 non-null  int64  \n",
      " 22  availability_90              10000 non-null  int64  \n",
      " 23  availability_365             10000 non-null  int64  \n",
      " 24  number_of_reviews            10000 non-null  int64  \n",
      " 25  first_review_date            7396 non-null   object \n",
      " 26  last_review_date             7395 non-null   object \n",
      " 27  review_scores_rating         7291 non-null   float64\n",
      " 28  review_scores_accuracy       7282 non-null   float64\n",
      " 29  review_scores_cleanliness    7288 non-null   float64\n",
      " 30  review_scores_checkin        7277 non-null   float64\n",
      " 31  review_scores_communication  7286 non-null   float64\n",
      " 32  review_scores_location       7276 non-null   float64\n",
      " 33  review_scores_value          7276 non-null   float64\n",
      " 34  license                      5144 non-null   object \n",
      " 35  is_instant_bookable          10000 non-null  bool   \n",
      " 36  reviews_per_month            7396 non-null   float64\n",
      " 37  country                      10000 non-null  object \n",
      " 38  city                         10000 non-null  object \n",
      " 39  insert_date                  10000 non-null  object \n",
      "dtypes: bool(1), float64(14), int64(10), object(15)\n",
      "memory usage: 3.0+ MB\n"
     ]
    }
   ],
   "source": [
    "# tipos de datos\n",
    "df.info()"
   ]
  },
  {
   "cell_type": "code",
   "execution_count": 36,
   "metadata": {},
   "outputs": [
    {
     "data": {
      "text/plain": [
       "apartment_id                      0\n",
       "md5                               0\n",
       "name                              3\n",
       "description                     138\n",
       "host_id                           0\n",
       "neighborhood_overview          4101\n",
       "neighbourhood_name                0\n",
       "neighbourhood_district         3921\n",
       "latitude                          0\n",
       "longitude                         0\n",
       "room_type                         0\n",
       "accommodates                      0\n",
       "bathrooms                        74\n",
       "bedrooms                         70\n",
       "beds                             45\n",
       "amenities_list                    0\n",
       "price                           254\n",
       "minimum_nights                    0\n",
       "maximum_nights                    0\n",
       "has_availability                550\n",
       "availability_30                   0\n",
       "availability_60                   0\n",
       "availability_90                   0\n",
       "availability_365                  0\n",
       "number_of_reviews                 0\n",
       "first_review_date              2604\n",
       "last_review_date               2605\n",
       "review_scores_rating           2709\n",
       "review_scores_accuracy         2718\n",
       "review_scores_cleanliness      2712\n",
       "review_scores_checkin          2723\n",
       "review_scores_communication    2714\n",
       "review_scores_location         2724\n",
       "review_scores_value            2724\n",
       "license                        4856\n",
       "is_instant_bookable               0\n",
       "reviews_per_month              2604\n",
       "country                           0\n",
       "city                              0\n",
       "insert_date                       0\n",
       "dtype: int64"
      ]
     },
     "execution_count": 36,
     "metadata": {},
     "output_type": "execute_result"
    }
   ],
   "source": [
    "# valores nulos\n",
    "df.isnull().sum()"
   ]
  },
  {
   "cell_type": "code",
   "execution_count": 37,
   "metadata": {},
   "outputs": [
    {
     "data": {
      "text/plain": [
       "0"
      ]
     },
     "execution_count": 37,
     "metadata": {},
     "output_type": "execute_result"
    }
   ],
   "source": [
    "# duplicados\n",
    "df.duplicated().sum()"
   ]
  },
  {
   "cell_type": "code",
   "execution_count": 38,
   "metadata": {},
   "outputs": [
    {
     "name": "stdout",
     "output_type": "stream",
     "text": [
      "\n",
      " Distribución Variables Numéricas:\n",
      "\n",
      "                              Media  Desviación estándar  Mínimo  Q1 (25%)  \\\n",
      "latitude                      40.40                 1.42   36.65     39.71   \n",
      "longitude                      0.28                 3.22   -6.03     -3.70   \n",
      "accommodates                   4.27                 2.58    1.00      2.00   \n",
      "bathrooms                      1.60                 0.99    0.00      1.00   \n",
      "bedrooms                       1.94                 1.37    0.00      1.00   \n",
      "beds                           2.92                 2.26    0.00      1.00   \n",
      "price                        101.21                86.10    6.00     45.00   \n",
      "minimum_nights                 4.95                17.73    1.00      1.00   \n",
      "maximum_nights               759.77               498.37    1.00     62.00   \n",
      "availability_30               13.01                11.84    0.00      0.00   \n",
      "availability_60               28.76                22.97    0.00      2.00   \n",
      "availability_90               46.11                33.75    0.00     10.00   \n",
      "availability_365             187.94               130.78    0.00     66.00   \n",
      "number_of_reviews             26.02                52.35    0.00      0.00   \n",
      "review_scores_rating          91.93                 9.23   20.00     89.00   \n",
      "review_scores_accuracy         9.45                 0.95    2.00      9.00   \n",
      "review_scores_cleanliness      9.32                 1.01    2.00      9.00   \n",
      "review_scores_checkin          9.62                 0.83    2.00      9.00   \n",
      "review_scores_communication    9.62                 0.83    2.00      9.00   \n",
      "review_scores_location         9.54                 0.77    2.00      9.00   \n",
      "review_scores_value            9.14                 1.00    2.00      9.00   \n",
      "reviews_per_month              1.43                 1.59    0.01      0.27   \n",
      "\n",
      "                             Mediana  Q3 (75%)   Máximo  \n",
      "latitude                       40.43     41.40    42.46  \n",
      "longitude                       2.16      2.89     4.30  \n",
      "accommodates                    4.00      6.00    29.00  \n",
      "bathrooms                       1.00      2.00    13.00  \n",
      "bedrooms                        2.00      3.00    50.00  \n",
      "beds                            2.00      4.00    30.00  \n",
      "price                          75.00    124.00   500.00  \n",
      "minimum_nights                  2.00      4.00  1125.00  \n",
      "maximum_nights               1125.00   1125.00  1125.00  \n",
      "availability_30                11.00     26.00    30.00  \n",
      "availability_60                29.00     53.00    60.00  \n",
      "availability_90                49.00     80.00    90.00  \n",
      "availability_365              183.00    318.00   365.00  \n",
      "number_of_reviews               5.00     27.00   588.00  \n",
      "review_scores_rating           94.00     98.00   100.00  \n",
      "review_scores_accuracy         10.00     10.00    10.00  \n",
      "review_scores_cleanliness      10.00     10.00    10.00  \n",
      "review_scores_checkin          10.00     10.00    10.00  \n",
      "review_scores_communication    10.00     10.00    10.00  \n",
      "review_scores_location         10.00     10.00    10.00  \n",
      "review_scores_value             9.00     10.00    10.00  \n",
      "reviews_per_month               0.84      2.06    12.91  \n"
     ]
    },
    {
     "data": {
      "image/png": "[encoded data removed]",
      "text/plain": [
       "<Figure size 1200x600 with 1 Axes>"
      ]
     },
     "metadata": {},
     "output_type": "display_data"
    }
   ],
   "source": [
    "# Filtrar solo variables numéricas\n",
    "df_numericas = df.select_dtypes(include=[np.number]).drop(columns=['apartment_id', 'host_id'],errors = 'ignore')\n",
    "\n",
    "# Calcular estadísticas básicas\n",
    "estadisticas = df_numericas.describe().T[['mean', 'std', 'min', '25%', '50%', '75%', 'max']]\n",
    "estadisticas.columns = ['Media', 'Desviación estándar', 'Mínimo', 'Q1 (25%)', 'Mediana', 'Q3 (75%)', 'Máximo']\n",
    "\n",
    "# Redondear a dos decimales\n",
    "estadisticas = estadisticas.round(2)\n",
    "\n",
    "# Mostrar estadísticas\n",
    "print(\"\\n Distribución Variables Numéricas:\\n\")\n",
    "print(estadisticas)\n",
    "\n",
    "# Crear boxplots de todas las variables numéricas\n",
    "plt.figure(figsize=(12, 6))\n",
    "df_numericas.boxplot(rot=90, patch_artist=True, boxprops=dict(facecolor=\"lightblue\"))\n",
    "plt.title(\"Boxplots de Variables Numéricas\")\n",
    "plt.xlabel(\"Variables\")\n",
    "plt.ylabel(\"Valores\")\n",
    "plt.grid(True)\n",
    "plt.show()"
   ]
  },
  {
   "cell_type": "markdown",
   "metadata": {},
   "source": [
    "La distribución del precio revela una clara diferenciación entre los alojamientos estándar y los outliers, que corresponden a alojamientos de lujo. En cuanto a la variable maximum_nights, se observa que la mayoría de los alojamientos han tenido casos de clientes que se han hospedado durante un período prolongado, con una mediana que supera los 1000 días.\n",
    "\n",
    "Por otro lado, en minimum_nights se detecta un outlier que supera los 1000 días, lo que podría deberse a que el alojamiento apenas recibe huéspedes o a un posible error de registro.\n",
    "\n",
    "En cuanto a las columnas de disponibilidad a lo largo del tiempo, se aprecia que, a medida que el intervalo de tiempo se amplía, también lo hace la varianza, lo que sugiere la presencia de estacionalidad en la demanda de alojamientos.\n",
    "\n",
    "El número de reviews presenta numerosos outliers, pero dado que no se dispone de información sobre los años, es posible que esta variable no sea demasiado explicativa. En contraste, la métrica reviews_per_month permitiría evaluar mejor el feedback de los huéspedes.\n",
    "\n",
    "HAY AÑO!!! en insert_date."
   ]
  },
  {
   "cell_type": "markdown",
   "metadata": {},
   "source": [
    "# LIMPIEZA DE DATOS"
   ]
  },
  {
   "cell_type": "code",
   "execution_count": 39,
   "metadata": {},
   "outputs": [
    {
     "data": {
      "text/plain": [
       "apartment_id                      0\n",
       "md5                               0\n",
       "name                              3\n",
       "description                     138\n",
       "host_id                           0\n",
       "neighborhood_overview          4101\n",
       "neighbourhood_name                0\n",
       "neighbourhood_district         3921\n",
       "latitude                          0\n",
       "longitude                         0\n",
       "room_type                         0\n",
       "accommodates                      0\n",
       "bathrooms                        74\n",
       "bedrooms                         70\n",
       "beds                             45\n",
       "amenities_list                    0\n",
       "price                           254\n",
       "minimum_nights                    0\n",
       "maximum_nights                    0\n",
       "has_availability                550\n",
       "availability_30                   0\n",
       "availability_60                   0\n",
       "availability_90                   0\n",
       "availability_365                  0\n",
       "number_of_reviews                 0\n",
       "first_review_date              2604\n",
       "last_review_date               2605\n",
       "review_scores_rating           2709\n",
       "review_scores_accuracy         2718\n",
       "review_scores_cleanliness      2712\n",
       "review_scores_checkin          2723\n",
       "review_scores_communication    2714\n",
       "review_scores_location         2724\n",
       "review_scores_value            2724\n",
       "license                        4856\n",
       "is_instant_bookable               0\n",
       "reviews_per_month              2604\n",
       "country                           0\n",
       "city                              0\n",
       "insert_date                       0\n",
       "dtype: int64"
      ]
     },
     "execution_count": 39,
     "metadata": {},
     "output_type": "execute_result"
    }
   ],
   "source": [
    "# valores nulos\n",
    "df.isnull().sum()"
   ]
  },
  {
   "cell_type": "code",
   "execution_count": null,
   "metadata": {},
   "outputs": [],
   "source": [
    "# MEJORAS DE LIMPIEZA(Posibles)\n",
    "\n",
    "# Tratado: has_availability(binaria), neighbourhood_district(categorica), description, neighborhood_overview y license eliminadas\n",
    "\n",
    "# Analizado no tratado: reviews_per_month\n",
    "\n",
    "# PENDIENTE DE DECIDIR COMO TRATAR\n",
    "#  En duda: name\n",
    "\n",
    "# bathrooms, bedrroms, beds son parecidos pocos nulos y seguramente si no se anuncian es porque estan en el minimo indispensable(yo substituiria por min)\n",
    "\n",
    "# Variables referentes a reviews(tienen numero de nulos similares, por lo que seguramente estan relacionados)"
   ]
  },
  {
   "cell_type": "code",
   "execution_count": null,
   "metadata": {},
   "outputs": [],
   "source": [
    "# Eliminar columnas 'description','neighborhood_overview', 'license'\n",
    "df = df.drop(columns=['description', 'neighborhood_overview','license'])"
   ]
  },
  {
   "cell_type": "code",
   "execution_count": 54,
   "metadata": {},
   "outputs": [
    {
     "data": {
      "text/html": [
       "<div>\n",
       "<style scoped>\n",
       "    .dataframe tbody tr th:only-of-type {\n",
       "        vertical-align: middle;\n",
       "    }\n",
       "\n",
       "    .dataframe tbody tr th {\n",
       "        vertical-align: top;\n",
       "    }\n",
       "\n",
       "    .dataframe thead th {\n",
       "        text-align: right;\n",
       "    }\n",
       "</style>\n",
       "<table border=\"1\" class=\"dataframe\">\n",
       "  <thead>\n",
       "    <tr style=\"text-align: right;\">\n",
       "      <th></th>\n",
       "      <th>reviews_per_month</th>\n",
       "      <th>number_of_reviews</th>\n",
       "    </tr>\n",
       "  </thead>\n",
       "  <tbody>\n",
       "    <tr>\n",
       "      <th>9966</th>\n",
       "      <td>NaN</td>\n",
       "      <td>0</td>\n",
       "    </tr>\n",
       "    <tr>\n",
       "      <th>9969</th>\n",
       "      <td>NaN</td>\n",
       "      <td>0</td>\n",
       "    </tr>\n",
       "    <tr>\n",
       "      <th>9971</th>\n",
       "      <td>NaN</td>\n",
       "      <td>0</td>\n",
       "    </tr>\n",
       "    <tr>\n",
       "      <th>9972</th>\n",
       "      <td>NaN</td>\n",
       "      <td>0</td>\n",
       "    </tr>\n",
       "    <tr>\n",
       "      <th>9973</th>\n",
       "      <td>NaN</td>\n",
       "      <td>0</td>\n",
       "    </tr>\n",
       "    <tr>\n",
       "      <th>9978</th>\n",
       "      <td>NaN</td>\n",
       "      <td>0</td>\n",
       "    </tr>\n",
       "    <tr>\n",
       "      <th>9979</th>\n",
       "      <td>NaN</td>\n",
       "      <td>0</td>\n",
       "    </tr>\n",
       "    <tr>\n",
       "      <th>9983</th>\n",
       "      <td>NaN</td>\n",
       "      <td>0</td>\n",
       "    </tr>\n",
       "    <tr>\n",
       "      <th>9986</th>\n",
       "      <td>NaN</td>\n",
       "      <td>0</td>\n",
       "    </tr>\n",
       "    <tr>\n",
       "      <th>9990</th>\n",
       "      <td>NaN</td>\n",
       "      <td>0</td>\n",
       "    </tr>\n",
       "  </tbody>\n",
       "</table>\n",
       "</div>"
      ],
      "text/plain": [
       "      reviews_per_month  number_of_reviews\n",
       "9966                NaN                  0\n",
       "9969                NaN                  0\n",
       "9971                NaN                  0\n",
       "9972                NaN                  0\n",
       "9973                NaN                  0\n",
       "9978                NaN                  0\n",
       "9979                NaN                  0\n",
       "9983                NaN                  0\n",
       "9986                NaN                  0\n",
       "9990                NaN                  0"
      ]
     },
     "execution_count": 54,
     "metadata": {},
     "output_type": "execute_result"
    }
   ],
   "source": [
    "# Análisis de nulos de reviews_per_month\n",
    "\n",
    "df_nulos = df[df['reviews_per_month'].isna()]\n",
    "df_nulos[['reviews_per_month','number_of_reviews']].tail(10)"
   ]
  },
  {
   "cell_type": "markdown",
   "metadata": {},
   "source": [
    "Se observa que la mayoría de los valores nulos en reviews_per_month están justificados, ya que corresponden a alojamientos que no han recibido ninguna reseña."
   ]
  },
  {
   "cell_type": "code",
   "execution_count": null,
   "metadata": {},
   "outputs": [
    {
     "name": "stdout",
     "output_type": "stream",
     "text": [
      "True\n"
     ]
    }
   ],
   "source": [
    "# Averiguar si hay algún valor nulo con reseña\n",
    "print((df_nulos['number_of_reviews'] > 0).any())\n"
   ]
  },
  {
   "cell_type": "code",
   "execution_count": null,
   "metadata": {},
   "outputs": [
    {
     "data": {
      "text/html": [
       "<div>\n",
       "<style scoped>\n",
       "    .dataframe tbody tr th:only-of-type {\n",
       "        vertical-align: middle;\n",
       "    }\n",
       "\n",
       "    .dataframe tbody tr th {\n",
       "        vertical-align: top;\n",
       "    }\n",
       "\n",
       "    .dataframe thead th {\n",
       "        text-align: right;\n",
       "    }\n",
       "</style>\n",
       "<table border=\"1\" class=\"dataframe\">\n",
       "  <thead>\n",
       "    <tr style=\"text-align: right;\">\n",
       "      <th></th>\n",
       "      <th>name</th>\n",
       "      <th>number_of_reviews</th>\n",
       "      <th>reviews_per_month</th>\n",
       "    </tr>\n",
       "  </thead>\n",
       "  <tbody>\n",
       "    <tr>\n",
       "      <th>548</th>\n",
       "      <td>Club Villamar - Gomez</td>\n",
       "      <td>1</td>\n",
       "      <td>NaN</td>\n",
       "    </tr>\n",
       "    <tr>\n",
       "      <th>3796</th>\n",
       "      <td>Single room luminous Sagrada Familia WIFI new ...</td>\n",
       "      <td>1</td>\n",
       "      <td>NaN</td>\n",
       "    </tr>\n",
       "    <tr>\n",
       "      <th>4457</th>\n",
       "      <td>Habitacion para disfrutar un descanso conforta...</td>\n",
       "      <td>1</td>\n",
       "      <td>NaN</td>\n",
       "    </tr>\n",
       "  </tbody>\n",
       "</table>\n",
       "</div>"
      ],
      "text/plain": [
       "                                                   name  number_of_reviews  \\\n",
       "548                               Club Villamar - Gomez                  1   \n",
       "3796  Single room luminous Sagrada Familia WIFI new ...                  1   \n",
       "4457  Habitacion para disfrutar un descanso conforta...                  1   \n",
       "\n",
       "      reviews_per_month  \n",
       "548                 NaN  \n",
       "3796                NaN  \n",
       "4457                NaN  "
      ]
     },
     "execution_count": 53,
     "metadata": {},
     "output_type": "execute_result"
    }
   ],
   "source": [
    "# Crear tabla de aquellos nulos con reseñas\n",
    "df_nulos_filtrados = df_nulos[df_nulos['number_of_reviews'] > 0]\n",
    "df_nulos_filtrados[['name', 'number_of_reviews', 'reviews_per_month']]\n",
    "\n"
   ]
  },
  {
   "cell_type": "markdown",
   "metadata": {},
   "source": [
    "Existen 3 alojamientos que tienen 1 review, pero presentan valores nulos en reviews_per_month."
   ]
  },
  {
   "cell_type": "code",
   "execution_count": null,
   "metadata": {},
   "outputs": [
    {
     "name": "stdout",
     "output_type": "stream",
     "text": [
      "Filas con nulos en TODAS las columnas: 2603\n",
      "Filas con nulos en ALGUNAS columnas, pero no en todas: 128\n"
     ]
    }
   ],
   "source": [
    "# Analisis del resto de columnas de reviews\n",
    "\n",
    "# Seleccionar solo las columnas de interés\n",
    "cols_reviews = [\n",
    "    'first_review_date', 'last_review_date', 'review_scores_rating',\n",
    "    'review_scores_accuracy', 'review_scores_cleanliness', 'review_scores_checkin',\n",
    "    'review_scores_communication', 'review_scores_location', 'review_scores_value'\n",
    "]\n",
    "\n",
    "# Filtrar filas donde TODAS las columnas están nulas\n",
    "df_todas_nulas = df[df[cols_reviews].isnull().all(axis=1)]\n",
    "\n",
    "# Filtrar filas donde ALGUNA columna está nula, pero no todas\n",
    "df_parcialmente_nulas = df[df[cols_reviews].isnull().any(axis=1) & ~df[cols_reviews].isnull().all(axis=1)]\n",
    "\n",
    "# Mostrar el número de filas en cada caso\n",
    "print(f\"Filas con nulos en TODAS las columnas: {len(df_todas_nulas)}\")\n",
    "print(f\"Filas con nulos en ALGUNAS columnas, pero no en todas: {len(df_parcialmente_nulas)}\")"
   ]
  },
  {
   "cell_type": "markdown",
   "metadata": {},
   "source": [
    "La mayoría de los valores nulos se repiten en todas las columnas, con un total de 2603 filas completamente nulas, mientras que solo 128 filas presentan nulos en algunas columnas."
   ]
  },
  {
   "cell_type": "code",
   "execution_count": 60,
   "metadata": {},
   "outputs": [
    {
     "name": "stdout",
     "output_type": "stream",
     "text": [
      "¿Todas las filas con valores nulos en 'cols_reviews' tienen 'number_of_reviews' igual a 0?: False\n"
     ]
    }
   ],
   "source": [
    "# Verificar si todas las filas en df_todas_nulas tienen number_of_reviews == 0\n",
    "todas_nulas_son_cero = (df_todas_nulas['number_of_reviews'] == 0).all()\n",
    "\n",
    "print(f\"¿Todas las filas con valores nulos en 'cols_reviews' tienen 'number_of_reviews' igual a 0?: {todas_nulas_son_cero}\")"
   ]
  },
  {
   "cell_type": "code",
   "execution_count": 44,
   "metadata": {},
   "outputs": [
    {
     "data": {
      "text/plain": [
       "331"
      ]
     },
     "execution_count": 44,
     "metadata": {},
     "output_type": "execute_result"
    }
   ],
   "source": [
    "# Locales duplicados\n",
    "df['name'].duplicated().sum()"
   ]
  },
  {
   "cell_type": "markdown",
   "metadata": {},
   "source": [
    "Hay 331 locales duplicados."
   ]
  },
  {
   "cell_type": "code",
   "execution_count": 45,
   "metadata": {},
   "outputs": [
    {
     "name": "stdout",
     "output_type": "stream",
     "text": [
      "name\n",
      "Beautiful two bedroom appartment with comunitary swiming-pool    4\n",
      "Schönes Zimmer auf grosser Finca                                 3\n",
      "Apartaments Ponent 1 habitacion                                  3\n",
      "Apartamento INTERIOR Eslava 4                                    3\n",
      "Amazing villa with swimming-pool                                 3\n",
      "                                                                ..\n",
      "Beautifull, lighting and cozy apartament                         2\n",
      "Spacious n´bright room in Madrid Center                          2\n",
      "#Artsy_Fartsy- museum triangle + patio oasis                     2\n",
      "AP Costas - Treumal Park / One Bedroom                           2\n",
      "SUNNY PENTHOUSE CENTER                                           2\n",
      "Name: count, Length: 318, dtype: int64\n"
     ]
    }
   ],
   "source": [
    "# Frecuencia de los locales\n",
    "duplicados = df['name'].value_counts()\n",
    "duplicados = duplicados[duplicados > 1]  # Filtrar solo los que están duplicados\n",
    "\n",
    "print(duplicados)"
   ]
  },
  {
   "cell_type": "markdown",
   "metadata": {},
   "source": [
    "Se observan errores en los nombres, como el hecho de que el más repetido sea una descripción genérica en lugar de un nombre único de alojamiento.\n",
    "\n"
   ]
  },
  {
   "cell_type": "code",
   "execution_count": 46,
   "metadata": {},
   "outputs": [],
   "source": [
    "# Substituir los NA por False\n",
    "df['has_availability'] = df['has_availability'].fillna(False)"
   ]
  },
  {
   "cell_type": "code",
   "execution_count": 47,
   "metadata": {},
   "outputs": [
    {
     "data": {
      "text/plain": [
       "array([ True, False])"
      ]
     },
     "execution_count": 47,
     "metadata": {},
     "output_type": "execute_result"
    }
   ],
   "source": [
    "df['has_availability'].unique()"
   ]
  },
  {
   "cell_type": "code",
   "execution_count": null,
   "metadata": {},
   "outputs": [],
   "source": [
    "# Imputación de valores nulos en 'neighbourhood_district' utilizando la moda de 'neighbourhood_name' filtrando por 'city'.\n",
    "\n",
    "df['neighbourhood_district'] = df.groupby(['city', 'neighbourhood_name'])['neighbourhood_district'].transform(\n",
    "    lambda x: x.fillna(x.mode()[0] if not x.mode().empty else \"Desconocido\")\n",
    ")"
   ]
  },
  {
   "cell_type": "code",
   "execution_count": null,
   "metadata": {},
   "outputs": [],
   "source": []
  },
  {
   "cell_type": "code",
   "execution_count": 59,
   "metadata": {},
   "outputs": [
    {
     "data": {
      "image/png": "[encoded data removed]",
      "text/plain": [
       "<Figure size 800x500 with 1 Axes>"
      ]
     },
     "metadata": {},
     "output_type": "display_data"
    }
   ],
   "source": [
    "import matplotlib.pyplot as plt\n",
    "\n",
    "# Datos de varianza (según los valores que compartiste)\n",
    "periodos = ['availability_30', 'availability_60', 'availability_90', 'availability_365']\n",
    "varianzas = [11.84, 22.97, 33.75, 130.78]  # Valores de varianza\n",
    "\n",
    "# Graficar la tendencia de la varianza\n",
    "plt.figure(figsize=(8, 5))\n",
    "plt.plot(periodos, varianzas, marker='o', linestyle='-', color='b', label=\"Varianza\")\n",
    "plt.xlabel(\"Período de disponibilidad (días)\")\n",
    "plt.ylabel(\"Varianza\")\n",
    "plt.title(\"Evolución de la varianza en función del tiempo\")\n",
    "plt.grid(True)\n",
    "plt.legend()\n",
    "plt.show()"
   ]
  },
  {
   "cell_type": "code",
   "execution_count": null,
   "metadata": {},
   "outputs": [],
   "source": []
  }
 ],
 "metadata": {
  "kernelspec": {
   "display_name": "base",
   "language": "python",
   "name": "python3"
  },
  "language_info": {
   "codemirror_mode": {
    "name": "ipython",
    "version": 3
   },
   "file_extension": ".py",
   "mimetype": "text/x-python",
   "name": "python",
   "nbconvert_exporter": "python",
   "pygments_lexer": "ipython3",
   "version": "3.11.5"
  }
 },
 "nbformat": 4,
 "nbformat_minor": 2
}
