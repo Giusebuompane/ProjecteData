{
 "cells": [
  {
   "cell_type": "code",
   "execution_count": 1,
   "id": "cb90316f",
   "metadata": {},
   "outputs": [],
   "source": [
    "import mysql.connector\n",
    "import pandas as pd\n",
    "import matplotlib.pyplot as plt\n",
    "import numpy as np\n",
    "import seaborn as sns\n",
    "from datetime import datetime\n",
    "import plotly.express as px"
   ]
  },
  {
   "cell_type": "code",
   "execution_count": null,
   "id": "d64497ce",
   "metadata": {},
   "outputs": [],
   "source": [
    "try:\n",
    "    # Intentar conectar a la base de datos\n",
    "    cnx = mysql.connector.connect(\n",
    "        user='EquipoG',\n",
    "        password='E1q2u3i4p5oG',\n",
    "        database='Equip_G',\n",
    "        host='212.227.90.6'\n",
    "    )\n",
    "    mycursor = cnx.cursor()  # Crear cursor\n",
    "\n",
    "    # Nombre de la tabla a extraer\n",
    "    tabla = \"Tourist_Accommodation\"\n",
    "\n",
    "    # Ejecutar consulta para obtener los datos\n",
    "    mycursor.execute(f\"SELECT * FROM {tabla}\")\n",
    "    columnas = [desc[0] for desc in mycursor.description]  # Obtener nombres de columnas\n",
    "    datos = mycursor.fetchall()  # Obtener datos\n",
    "\n",
    "    # Crear DataFrame\n",
    "    df = pd.DataFrame(datos, columns=columnas)\n",
    "\n",
    "    # Imprimir los primeros registros\n",
    "    print(df.head())\n",
    "\n",
    "except mysql.connector.Error as err:\n",
    "    # Manejo de errores específicos\n",
    "    if err.errno == errorcode.ER_ACCESS_DENIED_ERROR:\n",
    "        print(\"Usuario o contraseña incorrectos\")\n",
    "    elif err.errno == errorcode.ER_BAD_DB_ERROR:\n",
    "        print(\"La base de datos especificada no existe\")\n",
    "    else:\n",
    "        print(f\"Error inesperado: {err}\")\n",
    "\n",
    "finally:\n",
    "    # Cerrar conexión\n",
    "    try:\n",
    "        if 'mycursor' in locals() and mycursor:\n",
    "            mycursor.close()\n",
    "        if 'cnx' in locals() and cnx.is_connected():\n",
    "            cnx.close()\n",
    "    except Exception as e:\n",
    "        print(f\"Error al cerrar la conexión: {e}\")"
   ]
  },
  {
   "cell_type": "code",
   "execution_count": 7,
   "id": "b217f3d5",
   "metadata": {},
   "outputs": [
    {
     "name": "stdout",
     "output_type": "stream",
     "text": [
      "<class 'pandas.core.frame.DataFrame'>\n",
      "RangeIndex: 7001 entries, 0 to 7000\n",
      "Data columns (total 35 columns):\n",
      " #   Column                       Non-Null Count  Dtype         \n",
      "---  ------                       --------------  -----         \n",
      " 0   apartment_id                 7001 non-null   int64         \n",
      " 1   name                         6998 non-null   object        \n",
      " 2   description                  6972 non-null   object        \n",
      " 3   host_id                      7001 non-null   int64         \n",
      " 4   neighbourhood_name           7001 non-null   object        \n",
      " 5   neighbourhood_district       4241 non-null   object        \n",
      " 6   room_type                    7001 non-null   object        \n",
      " 7   accommodates                 7001 non-null   int64         \n",
      " 8   bathrooms                    6969 non-null   object        \n",
      " 9   bedrooms                     6972 non-null   object        \n",
      " 10  beds                         6998 non-null   float64       \n",
      " 11  amenities_list               6984 non-null   object        \n",
      " 12  price                        6870 non-null   float64       \n",
      " 13  minimum_nights               7001 non-null   int64         \n",
      " 14  maximum_nights               7001 non-null   int64         \n",
      " 15  has_availability             6451 non-null   object        \n",
      " 16  availability_30              7001 non-null   int64         \n",
      " 17  availability_60              7001 non-null   int64         \n",
      " 18  availability_90              7001 non-null   int64         \n",
      " 19  availability_365             7001 non-null   int64         \n",
      " 20  number_of_reviews            7001 non-null   int64         \n",
      " 21  first_review_date            5747 non-null   object        \n",
      " 22  last_review_date             5746 non-null   datetime64[ns]\n",
      " 23  review_scores_rating         5674 non-null   float64       \n",
      " 24  review_scores_accuracy       5665 non-null   float64       \n",
      " 25  review_scores_cleanliness    5671 non-null   float64       \n",
      " 26  review_scores_checkin        5660 non-null   float64       \n",
      " 27  review_scores_communication  5669 non-null   float64       \n",
      " 28  review_scores_location       5659 non-null   float64       \n",
      " 29  review_scores_value          5659 non-null   float64       \n",
      " 30  is_instant_bookable          7001 non-null   object        \n",
      " 31  reviews_per_month            5747 non-null   float64       \n",
      " 32  country                      7001 non-null   object        \n",
      " 33  city                         7001 non-null   object        \n",
      " 34  insert_date                  7001 non-null   datetime64[ns]\n",
      "dtypes: datetime64[ns](2), float64(10), int64(10), object(13)\n",
      "memory usage: 1.9+ MB\n"
     ]
    }
   ],
   "source": [
    "df.info()"
   ]
  },
  {
   "cell_type": "code",
   "execution_count": 6,
   "id": "6ae61855",
   "metadata": {},
   "outputs": [],
   "source": [
    "df['last_review_date'] = pd.to_datetime(df['last_review_date'], format='%d/%m/%Y')\n",
    "df['insert_date'] = pd.to_datetime(df['insert_date'], format='%d/%m/%Y')"
   ]
  }
 ],
 "metadata": {
  "kernelspec": {
   "display_name": "base",
   "language": "python",
   "name": "python3"
  },
  "language_info": {
   "codemirror_mode": {
    "name": "ipython",
    "version": 3
   },
   "file_extension": ".py",
   "mimetype": "text/x-python",
   "name": "python",
   "nbconvert_exporter": "python",
   "pygments_lexer": "ipython3",
   "version": "3.12.7"
  }
 },
 "nbformat": 4,
 "nbformat_minor": 5
}
