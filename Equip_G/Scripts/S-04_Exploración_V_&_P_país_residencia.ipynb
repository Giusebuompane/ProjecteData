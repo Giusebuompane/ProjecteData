{
 "cells": [
  {
   "cell_type": "code",
   "execution_count": null,
   "id": "151db7a5",
   "metadata": {},
   "outputs": [],
   "source": [
    "import pandas as pd"
   ]
  },
  {
   "cell_type": "markdown",
   "id": "6bc15aa3",
   "metadata": {},
   "source": [
    "# Estancia media por comunidades autónomas y provincias."
   ]
  },
  {
   "cell_type": "code",
   "execution_count": null,
   "id": "fcb94fb0",
   "metadata": {},
   "outputs": [],
   "source": [
    "df_Media_CA_Pro = pd.read_csv(r\"../Data/2065.csv\", sep='\\t') #Estancia media por comunidades autónomas y provincias."
   ]
  },
  {
   "cell_type": "code",
   "execution_count": null,
   "id": "66217dbe",
   "metadata": {},
   "outputs": [],
   "source": [
    "df_Media_CA_Pro.drop(columns=['Totales Territoriales'], inplace=True)"
   ]
  },
  {
   "cell_type": "code",
   "execution_count": null,
   "id": "f1a52af5",
   "metadata": {},
   "outputs": [],
   "source": [
    "df_Media_CA_Pro['Periodo'] = pd.to_datetime(df_Media_CA_Pro['Periodo'].str.replace('M', '-'), format='%Y-%m').dt.to_period('M')"
   ]
  },
  {
   "cell_type": "code",
   "execution_count": null,
   "id": "93b4fbc0",
   "metadata": {},
   "outputs": [
    {
     "data": {
      "application/vnd.microsoft.datawrangler.viewer.v0+json": {
       "columns": [
        {
         "name": "index",
         "rawType": "int64",
         "type": "integer"
        },
        {
         "name": "Comunidades y Ciudades Autónomas",
         "rawType": "object",
         "type": "unknown"
        },
        {
         "name": "Provincias",
         "rawType": "object",
         "type": "unknown"
        },
        {
         "name": "Periodo",
         "rawType": "period[M]",
         "type": "unknown"
        },
        {
         "name": "Total",
         "rawType": "object",
         "type": "unknown"
        }
       ],
       "conversionMethod": "pd.DataFrame",
       "ref": "bff6d022-2bec-4f4e-be9c-f08daf472055",
       "rows": [
        [
         "0",
         null,
         null,
         "2025-03",
         "2,91"
        ],
        [
         "1",
         null,
         null,
         "2025-02",
         "2,82"
        ],
        [
         "2",
         null,
         null,
         "2025-01",
         "2,93"
        ],
        [
         "3",
         null,
         null,
         "2024-12",
         "2,75"
        ],
        [
         "4",
         null,
         null,
         "2024-11",
         "2,8"
        ],
        [
         "5",
         null,
         null,
         "2024-10",
         "3,15"
        ],
        [
         "6",
         null,
         null,
         "2024-09",
         "3,3"
        ],
        [
         "7",
         null,
         null,
         "2024-08",
         "3,53"
        ],
        [
         "8",
         null,
         null,
         "2024-07",
         "3,47"
        ],
        [
         "9",
         null,
         null,
         "2024-06",
         "3,21"
        ],
        [
         "10",
         null,
         null,
         "2024-05",
         "3,04"
        ],
        [
         "11",
         null,
         null,
         "2024-04",
         "2,89"
        ],
        [
         "12",
         null,
         null,
         "2024-03",
         "2,91"
        ],
        [
         "13",
         null,
         null,
         "2024-02",
         "2,85"
        ],
        [
         "14",
         null,
         null,
         "2024-01",
         "2,91"
        ],
        [
         "15",
         null,
         null,
         "2023-12",
         "2,72"
        ],
        [
         "16",
         null,
         null,
         "2023-11",
         "2,8"
        ],
        [
         "17",
         null,
         null,
         "2023-10",
         "3,12"
        ],
        [
         "18",
         null,
         null,
         "2023-09",
         "3,27"
        ],
        [
         "19",
         null,
         null,
         "2023-08",
         "3,52"
        ],
        [
         "20",
         null,
         null,
         "2023-07",
         "3,4"
        ],
        [
         "21",
         null,
         null,
         "2023-06",
         "3,14"
        ],
        [
         "22",
         null,
         null,
         "2023-05",
         "3,04"
        ],
        [
         "23",
         null,
         null,
         "2023-04",
         "2,85"
        ],
        [
         "24",
         null,
         null,
         "2023-03",
         "2,8"
        ],
        [
         "25",
         null,
         null,
         "2023-02",
         "2,82"
        ],
        [
         "26",
         null,
         null,
         "2023-01",
         "2,88"
        ],
        [
         "27",
         null,
         null,
         "2022-12",
         "2,75"
        ],
        [
         "28",
         null,
         null,
         "2022-11",
         "2,81"
        ],
        [
         "29",
         null,
         null,
         "2022-10",
         "3,07"
        ],
        [
         "30",
         null,
         null,
         "2022-09",
         "3,26"
        ],
        [
         "31",
         null,
         null,
         "2022-08",
         "3,58"
        ],
        [
         "32",
         null,
         null,
         "2022-07",
         "3,43"
        ],
        [
         "33",
         null,
         null,
         "2022-06",
         "3,19"
        ],
        [
         "34",
         null,
         null,
         "2022-05",
         "3"
        ],
        [
         "35",
         null,
         null,
         "2022-04",
         "2,9"
        ],
        [
         "36",
         null,
         null,
         "2022-03",
         "2,91"
        ],
        [
         "37",
         null,
         null,
         "2022-02",
         "2,65"
        ],
        [
         "38",
         null,
         null,
         "2022-01",
         "2,81"
        ],
        [
         "39",
         null,
         null,
         "2021-12",
         "2,71"
        ],
        [
         "40",
         null,
         null,
         "2021-11",
         "2,77"
        ],
        [
         "41",
         null,
         null,
         "2021-10",
         "2,94"
        ],
        [
         "42",
         null,
         null,
         "2021-09",
         "3,11"
        ],
        [
         "43",
         null,
         null,
         "2021-08",
         "3,31"
        ],
        [
         "44",
         null,
         null,
         "2021-07",
         "3,08"
        ],
        [
         "45",
         null,
         null,
         "2021-06",
         "2,51"
        ],
        [
         "46",
         null,
         null,
         "2021-05",
         "2,16"
        ],
        [
         "47",
         null,
         null,
         "2021-04",
         "2,12"
        ],
        [
         "48",
         null,
         null,
         "2021-03",
         "2,03"
        ],
        [
         "49",
         null,
         null,
         "2021-02",
         "2,07"
        ]
       ],
       "shape": {
        "columns": 4,
        "rows": 19845
       }
      },
      "text/html": [
       "<div>\n",
       "<style scoped>\n",
       "    .dataframe tbody tr th:only-of-type {\n",
       "        vertical-align: middle;\n",
       "    }\n",
       "\n",
       "    .dataframe tbody tr th {\n",
       "        vertical-align: top;\n",
       "    }\n",
       "\n",
       "    .dataframe thead th {\n",
       "        text-align: right;\n",
       "    }\n",
       "</style>\n",
       "<table border=\"1\" class=\"dataframe\">\n",
       "  <thead>\n",
       "    <tr style=\"text-align: right;\">\n",
       "      <th></th>\n",
       "      <th>Comunidades y Ciudades Autónomas</th>\n",
       "      <th>Provincias</th>\n",
       "      <th>Periodo</th>\n",
       "      <th>Total</th>\n",
       "    </tr>\n",
       "  </thead>\n",
       "  <tbody>\n",
       "    <tr>\n",
       "      <th>0</th>\n",
       "      <td>NaN</td>\n",
       "      <td>NaN</td>\n",
       "      <td>2025-03</td>\n",
       "      <td>2,91</td>\n",
       "    </tr>\n",
       "    <tr>\n",
       "      <th>1</th>\n",
       "      <td>NaN</td>\n",
       "      <td>NaN</td>\n",
       "      <td>2025-02</td>\n",
       "      <td>2,82</td>\n",
       "    </tr>\n",
       "    <tr>\n",
       "      <th>2</th>\n",
       "      <td>NaN</td>\n",
       "      <td>NaN</td>\n",
       "      <td>2025-01</td>\n",
       "      <td>2,93</td>\n",
       "    </tr>\n",
       "    <tr>\n",
       "      <th>3</th>\n",
       "      <td>NaN</td>\n",
       "      <td>NaN</td>\n",
       "      <td>2024-12</td>\n",
       "      <td>2,75</td>\n",
       "    </tr>\n",
       "    <tr>\n",
       "      <th>4</th>\n",
       "      <td>NaN</td>\n",
       "      <td>NaN</td>\n",
       "      <td>2024-11</td>\n",
       "      <td>2,8</td>\n",
       "    </tr>\n",
       "    <tr>\n",
       "      <th>...</th>\n",
       "      <td>...</td>\n",
       "      <td>...</td>\n",
       "      <td>...</td>\n",
       "      <td>...</td>\n",
       "    </tr>\n",
       "    <tr>\n",
       "      <th>19840</th>\n",
       "      <td>19 Melilla</td>\n",
       "      <td>NaN</td>\n",
       "      <td>1999-05</td>\n",
       "      <td>3,3</td>\n",
       "    </tr>\n",
       "    <tr>\n",
       "      <th>19841</th>\n",
       "      <td>19 Melilla</td>\n",
       "      <td>NaN</td>\n",
       "      <td>1999-04</td>\n",
       "      <td>4,4</td>\n",
       "    </tr>\n",
       "    <tr>\n",
       "      <th>19842</th>\n",
       "      <td>19 Melilla</td>\n",
       "      <td>NaN</td>\n",
       "      <td>1999-03</td>\n",
       "      <td>3,7</td>\n",
       "    </tr>\n",
       "    <tr>\n",
       "      <th>19843</th>\n",
       "      <td>19 Melilla</td>\n",
       "      <td>NaN</td>\n",
       "      <td>1999-02</td>\n",
       "      <td>3</td>\n",
       "    </tr>\n",
       "    <tr>\n",
       "      <th>19844</th>\n",
       "      <td>19 Melilla</td>\n",
       "      <td>NaN</td>\n",
       "      <td>1999-01</td>\n",
       "      <td>4,5</td>\n",
       "    </tr>\n",
       "  </tbody>\n",
       "</table>\n",
       "<p>19845 rows × 4 columns</p>\n",
       "</div>"
      ],
      "text/plain": [
       "      Comunidades y Ciudades Autónomas Provincias  Periodo Total\n",
       "0                                  NaN        NaN  2025-03  2,91\n",
       "1                                  NaN        NaN  2025-02  2,82\n",
       "2                                  NaN        NaN  2025-01  2,93\n",
       "3                                  NaN        NaN  2024-12  2,75\n",
       "4                                  NaN        NaN  2024-11   2,8\n",
       "...                                ...        ...      ...   ...\n",
       "19840                       19 Melilla        NaN  1999-05   3,3\n",
       "19841                       19 Melilla        NaN  1999-04   4,4\n",
       "19842                       19 Melilla        NaN  1999-03   3,7\n",
       "19843                       19 Melilla        NaN  1999-02     3\n",
       "19844                       19 Melilla        NaN  1999-01   4,5\n",
       "\n",
       "[19845 rows x 4 columns]"
      ]
     },
     "execution_count": 5,
     "metadata": {},
     "output_type": "execute_result"
    }
   ],
   "source": [
    "df_Media_CA_Pro"
   ]
  },
  {
   "cell_type": "code",
   "execution_count": null,
   "id": "c4dd6c0a",
   "metadata": {},
   "outputs": [
    {
     "data": {
      "text/plain": [
       "array([nan, '04 Almería', '11 Cádiz', '14 Córdoba', '18 Granada',\n",
       "       '21 Huelva', '23 Jaén', '29 Málaga', '41 Sevilla', '22 Huesca',\n",
       "       '44 Teruel', '50 Zaragoza', '35 Palmas, Las',\n",
       "       '38 Santa Cruz de Tenerife', '05 Ávila', '09 Burgos', '24 León',\n",
       "       '34 Palencia', '37 Salamanca', '40 Segovia', '42 Soria',\n",
       "       '47 Valladolid', '49 Zamora', '02 Albacete', '13 Ciudad Real',\n",
       "       '16 Cuenca', '19 Guadalajara', '45 Toledo', '08 Barcelona',\n",
       "       '17 Girona', '25 Lleida', '43 Tarragona', '03 Alicante/Alacant',\n",
       "       '12 Castellón/Castelló', '46 Valencia/València', '06 Badajoz',\n",
       "       '10 Cáceres', '15 Coruña, A', '27 Lugo', '32 Ourense',\n",
       "       '36 Pontevedra', '01 Araba/Álava', '48 Bizkaia', '20 Gipuzkoa'],\n",
       "      dtype=object)"
      ]
     },
     "execution_count": 6,
     "metadata": {},
     "output_type": "execute_result"
    }
   ],
   "source": [
    "df_Media_CA_Pro['Provincias'].unique()"
   ]
  },
  {
   "cell_type": "code",
   "execution_count": null,
   "id": "12c09508",
   "metadata": {},
   "outputs": [
    {
     "name": "stdout",
     "output_type": "stream",
     "text": [
      "<class 'pandas.core.frame.DataFrame'>\n",
      "RangeIndex: 19845 entries, 0 to 19844\n",
      "Data columns (total 4 columns):\n",
      " #   Column                            Non-Null Count  Dtype    \n",
      "---  ------                            --------------  -----    \n",
      " 0   Comunidades y Ciudades Autónomas  19530 non-null  object   \n",
      " 1   Provincias                        13545 non-null  object   \n",
      " 2   Periodo                           19845 non-null  period[M]\n",
      " 3   Total                             19844 non-null  object   \n",
      "dtypes: object(3), period[M](1)\n",
      "memory usage: 620.3+ KB\n"
     ]
    }
   ],
   "source": [
    "df_Media_CA_Pro.info()"
   ]
  },
  {
   "cell_type": "code",
   "execution_count": null,
   "id": "f8df32f3",
   "metadata": {},
   "outputs": [],
   "source": [
    "df_Media_CA_Pro['Total'] = df_Media_CA_Pro['Total'].str.replace(',', '.')\n",
    "df_Media_CA_Pro['Total'] = pd.to_numeric(df_Media_CA_Pro['Total'], errors='coerce')\n",
    "\n"
   ]
  },
  {
   "cell_type": "code",
   "execution_count": null,
   "id": "21c3e518",
   "metadata": {},
   "outputs": [
    {
     "data": {
      "application/vnd.microsoft.datawrangler.viewer.v0+json": {
       "columns": [
        {
         "name": "index",
         "rawType": "int64",
         "type": "integer"
        },
        {
         "name": "Comunidades y Ciudades Autónomas",
         "rawType": "object",
         "type": "unknown"
        },
        {
         "name": "Provincias",
         "rawType": "object",
         "type": "unknown"
        },
        {
         "name": "Periodo",
         "rawType": "period[M]",
         "type": "unknown"
        },
        {
         "name": "Total",
         "rawType": "float64",
         "type": "float"
        }
       ],
       "conversionMethod": "pd.DataFrame",
       "ref": "7879d2b6-2629-4446-8d8e-b0c314083056",
       "rows": [
        [
         "0",
         null,
         null,
         "2025-03",
         "2.91"
        ],
        [
         "1",
         null,
         null,
         "2025-02",
         "2.82"
        ],
        [
         "2",
         null,
         null,
         "2025-01",
         "2.93"
        ],
        [
         "3",
         null,
         null,
         "2024-12",
         "2.75"
        ],
        [
         "4",
         null,
         null,
         "2024-11",
         "2.8"
        ],
        [
         "5",
         null,
         null,
         "2024-10",
         "3.15"
        ],
        [
         "6",
         null,
         null,
         "2024-09",
         "3.3"
        ],
        [
         "7",
         null,
         null,
         "2024-08",
         "3.53"
        ],
        [
         "8",
         null,
         null,
         "2024-07",
         "3.47"
        ],
        [
         "9",
         null,
         null,
         "2024-06",
         "3.21"
        ],
        [
         "10",
         null,
         null,
         "2024-05",
         "3.04"
        ],
        [
         "11",
         null,
         null,
         "2024-04",
         "2.89"
        ],
        [
         "12",
         null,
         null,
         "2024-03",
         "2.91"
        ],
        [
         "13",
         null,
         null,
         "2024-02",
         "2.85"
        ],
        [
         "14",
         null,
         null,
         "2024-01",
         "2.91"
        ],
        [
         "15",
         null,
         null,
         "2023-12",
         "2.72"
        ],
        [
         "16",
         null,
         null,
         "2023-11",
         "2.8"
        ],
        [
         "17",
         null,
         null,
         "2023-10",
         "3.12"
        ],
        [
         "18",
         null,
         null,
         "2023-09",
         "3.27"
        ],
        [
         "19",
         null,
         null,
         "2023-08",
         "3.52"
        ],
        [
         "20",
         null,
         null,
         "2023-07",
         "3.4"
        ],
        [
         "21",
         null,
         null,
         "2023-06",
         "3.14"
        ],
        [
         "22",
         null,
         null,
         "2023-05",
         "3.04"
        ],
        [
         "23",
         null,
         null,
         "2023-04",
         "2.85"
        ],
        [
         "24",
         null,
         null,
         "2023-03",
         "2.8"
        ],
        [
         "25",
         null,
         null,
         "2023-02",
         "2.82"
        ],
        [
         "26",
         null,
         null,
         "2023-01",
         "2.88"
        ],
        [
         "27",
         null,
         null,
         "2022-12",
         "2.75"
        ],
        [
         "28",
         null,
         null,
         "2022-11",
         "2.81"
        ],
        [
         "29",
         null,
         null,
         "2022-10",
         "3.07"
        ],
        [
         "30",
         null,
         null,
         "2022-09",
         "3.26"
        ],
        [
         "31",
         null,
         null,
         "2022-08",
         "3.58"
        ],
        [
         "32",
         null,
         null,
         "2022-07",
         "3.43"
        ],
        [
         "33",
         null,
         null,
         "2022-06",
         "3.19"
        ],
        [
         "34",
         null,
         null,
         "2022-05",
         "3.0"
        ],
        [
         "35",
         null,
         null,
         "2022-04",
         "2.9"
        ],
        [
         "36",
         null,
         null,
         "2022-03",
         "2.91"
        ],
        [
         "37",
         null,
         null,
         "2022-02",
         "2.65"
        ],
        [
         "38",
         null,
         null,
         "2022-01",
         "2.81"
        ],
        [
         "39",
         null,
         null,
         "2021-12",
         "2.71"
        ],
        [
         "40",
         null,
         null,
         "2021-11",
         "2.77"
        ],
        [
         "41",
         null,
         null,
         "2021-10",
         "2.94"
        ],
        [
         "42",
         null,
         null,
         "2021-09",
         "3.11"
        ],
        [
         "43",
         null,
         null,
         "2021-08",
         "3.31"
        ],
        [
         "44",
         null,
         null,
         "2021-07",
         "3.08"
        ],
        [
         "45",
         null,
         null,
         "2021-06",
         "2.51"
        ],
        [
         "46",
         null,
         null,
         "2021-05",
         "2.16"
        ],
        [
         "47",
         null,
         null,
         "2021-04",
         "2.12"
        ],
        [
         "48",
         null,
         null,
         "2021-03",
         "2.03"
        ],
        [
         "49",
         null,
         null,
         "2021-02",
         "2.07"
        ]
       ],
       "shape": {
        "columns": 4,
        "rows": 19845
       }
      },
      "text/html": [
       "<div>\n",
       "<style scoped>\n",
       "    .dataframe tbody tr th:only-of-type {\n",
       "        vertical-align: middle;\n",
       "    }\n",
       "\n",
       "    .dataframe tbody tr th {\n",
       "        vertical-align: top;\n",
       "    }\n",
       "\n",
       "    .dataframe thead th {\n",
       "        text-align: right;\n",
       "    }\n",
       "</style>\n",
       "<table border=\"1\" class=\"dataframe\">\n",
       "  <thead>\n",
       "    <tr style=\"text-align: right;\">\n",
       "      <th></th>\n",
       "      <th>Comunidades y Ciudades Autónomas</th>\n",
       "      <th>Provincias</th>\n",
       "      <th>Periodo</th>\n",
       "      <th>Total</th>\n",
       "    </tr>\n",
       "  </thead>\n",
       "  <tbody>\n",
       "    <tr>\n",
       "      <th>0</th>\n",
       "      <td>NaN</td>\n",
       "      <td>NaN</td>\n",
       "      <td>2025-03</td>\n",
       "      <td>2.91</td>\n",
       "    </tr>\n",
       "    <tr>\n",
       "      <th>1</th>\n",
       "      <td>NaN</td>\n",
       "      <td>NaN</td>\n",
       "      <td>2025-02</td>\n",
       "      <td>2.82</td>\n",
       "    </tr>\n",
       "    <tr>\n",
       "      <th>2</th>\n",
       "      <td>NaN</td>\n",
       "      <td>NaN</td>\n",
       "      <td>2025-01</td>\n",
       "      <td>2.93</td>\n",
       "    </tr>\n",
       "    <tr>\n",
       "      <th>3</th>\n",
       "      <td>NaN</td>\n",
       "      <td>NaN</td>\n",
       "      <td>2024-12</td>\n",
       "      <td>2.75</td>\n",
       "    </tr>\n",
       "    <tr>\n",
       "      <th>4</th>\n",
       "      <td>NaN</td>\n",
       "      <td>NaN</td>\n",
       "      <td>2024-11</td>\n",
       "      <td>2.80</td>\n",
       "    </tr>\n",
       "    <tr>\n",
       "      <th>...</th>\n",
       "      <td>...</td>\n",
       "      <td>...</td>\n",
       "      <td>...</td>\n",
       "      <td>...</td>\n",
       "    </tr>\n",
       "    <tr>\n",
       "      <th>19840</th>\n",
       "      <td>19 Melilla</td>\n",
       "      <td>NaN</td>\n",
       "      <td>1999-05</td>\n",
       "      <td>3.30</td>\n",
       "    </tr>\n",
       "    <tr>\n",
       "      <th>19841</th>\n",
       "      <td>19 Melilla</td>\n",
       "      <td>NaN</td>\n",
       "      <td>1999-04</td>\n",
       "      <td>4.40</td>\n",
       "    </tr>\n",
       "    <tr>\n",
       "      <th>19842</th>\n",
       "      <td>19 Melilla</td>\n",
       "      <td>NaN</td>\n",
       "      <td>1999-03</td>\n",
       "      <td>3.70</td>\n",
       "    </tr>\n",
       "    <tr>\n",
       "      <th>19843</th>\n",
       "      <td>19 Melilla</td>\n",
       "      <td>NaN</td>\n",
       "      <td>1999-02</td>\n",
       "      <td>3.00</td>\n",
       "    </tr>\n",
       "    <tr>\n",
       "      <th>19844</th>\n",
       "      <td>19 Melilla</td>\n",
       "      <td>NaN</td>\n",
       "      <td>1999-01</td>\n",
       "      <td>4.50</td>\n",
       "    </tr>\n",
       "  </tbody>\n",
       "</table>\n",
       "<p>19845 rows × 4 columns</p>\n",
       "</div>"
      ],
      "text/plain": [
       "      Comunidades y Ciudades Autónomas Provincias  Periodo  Total\n",
       "0                                  NaN        NaN  2025-03   2.91\n",
       "1                                  NaN        NaN  2025-02   2.82\n",
       "2                                  NaN        NaN  2025-01   2.93\n",
       "3                                  NaN        NaN  2024-12   2.75\n",
       "4                                  NaN        NaN  2024-11   2.80\n",
       "...                                ...        ...      ...    ...\n",
       "19840                       19 Melilla        NaN  1999-05   3.30\n",
       "19841                       19 Melilla        NaN  1999-04   4.40\n",
       "19842                       19 Melilla        NaN  1999-03   3.70\n",
       "19843                       19 Melilla        NaN  1999-02   3.00\n",
       "19844                       19 Melilla        NaN  1999-01   4.50\n",
       "\n",
       "[19845 rows x 4 columns]"
      ]
     },
     "execution_count": 9,
     "metadata": {},
     "output_type": "execute_result"
    }
   ],
   "source": [
    "df_Media_CA_Pro"
   ]
  },
  {
   "cell_type": "code",
   "execution_count": null,
   "id": "046ba9ad",
   "metadata": {},
   "outputs": [
    {
     "data": {
      "application/vnd.microsoft.datawrangler.viewer.v0+json": {
       "columns": [
        {
         "name": "index",
         "rawType": "int64",
         "type": "integer"
        },
        {
         "name": "Comunidades y Ciudades Autónomas",
         "rawType": "object",
         "type": "string"
        },
        {
         "name": "Provincias",
         "rawType": "object",
         "type": "unknown"
        },
        {
         "name": "Periodo",
         "rawType": "period[M]",
         "type": "unknown"
        },
        {
         "name": "Total",
         "rawType": "float64",
         "type": "float"
        }
       ],
       "conversionMethod": "pd.DataFrame",
       "ref": "9617191f-ab6e-4846-a367-9f71f403c82a",
       "rows": [
        [
         "6672",
         "07 Castilla y León",
         "05 Ávila",
         "2020-06",
         null
        ],
        [
         "6673",
         "07 Castilla y León",
         "05 Ávila",
         "2020-05",
         null
        ],
        [
         "7302",
         "07 Castilla y León",
         "24 León",
         "2020-06",
         null
        ],
        [
         "7303",
         "07 Castilla y León",
         "24 León",
         "2020-05",
         null
        ],
        [
         "7617",
         "07 Castilla y León",
         "34 Palencia",
         "2020-06",
         null
        ],
        [
         "7618",
         "07 Castilla y León",
         "34 Palencia",
         "2020-05",
         null
        ],
        [
         "8247",
         "07 Castilla y León",
         "40 Segovia",
         "2020-06",
         null
        ],
        [
         "8248",
         "07 Castilla y León",
         "40 Segovia",
         "2020-05",
         null
        ],
        [
         "9192",
         "07 Castilla y León",
         "49 Zamora",
         "2020-06",
         null
        ],
        [
         "9193",
         "07 Castilla y León",
         "49 Zamora",
         "2020-05",
         null
        ],
        [
         "19272",
         "18 Ceuta",
         null,
         "2020-06",
         null
        ],
        [
         "19273",
         "18 Ceuta",
         null,
         "2020-05",
         null
        ],
        [
         "19587",
         "19 Melilla",
         null,
         "2020-06",
         null
        ],
        [
         "19588",
         "19 Melilla",
         null,
         "2020-05",
         null
        ]
       ],
       "shape": {
        "columns": 4,
        "rows": 14
       }
      },
      "text/html": [
       "<div>\n",
       "<style scoped>\n",
       "    .dataframe tbody tr th:only-of-type {\n",
       "        vertical-align: middle;\n",
       "    }\n",
       "\n",
       "    .dataframe tbody tr th {\n",
       "        vertical-align: top;\n",
       "    }\n",
       "\n",
       "    .dataframe thead th {\n",
       "        text-align: right;\n",
       "    }\n",
       "</style>\n",
       "<table border=\"1\" class=\"dataframe\">\n",
       "  <thead>\n",
       "    <tr style=\"text-align: right;\">\n",
       "      <th></th>\n",
       "      <th>Comunidades y Ciudades Autónomas</th>\n",
       "      <th>Provincias</th>\n",
       "      <th>Periodo</th>\n",
       "      <th>Total</th>\n",
       "    </tr>\n",
       "  </thead>\n",
       "  <tbody>\n",
       "    <tr>\n",
       "      <th>6672</th>\n",
       "      <td>07 Castilla y León</td>\n",
       "      <td>05 Ávila</td>\n",
       "      <td>2020-06</td>\n",
       "      <td>NaN</td>\n",
       "    </tr>\n",
       "    <tr>\n",
       "      <th>6673</th>\n",
       "      <td>07 Castilla y León</td>\n",
       "      <td>05 Ávila</td>\n",
       "      <td>2020-05</td>\n",
       "      <td>NaN</td>\n",
       "    </tr>\n",
       "    <tr>\n",
       "      <th>7302</th>\n",
       "      <td>07 Castilla y León</td>\n",
       "      <td>24 León</td>\n",
       "      <td>2020-06</td>\n",
       "      <td>NaN</td>\n",
       "    </tr>\n",
       "    <tr>\n",
       "      <th>7303</th>\n",
       "      <td>07 Castilla y León</td>\n",
       "      <td>24 León</td>\n",
       "      <td>2020-05</td>\n",
       "      <td>NaN</td>\n",
       "    </tr>\n",
       "    <tr>\n",
       "      <th>7617</th>\n",
       "      <td>07 Castilla y León</td>\n",
       "      <td>34 Palencia</td>\n",
       "      <td>2020-06</td>\n",
       "      <td>NaN</td>\n",
       "    </tr>\n",
       "    <tr>\n",
       "      <th>7618</th>\n",
       "      <td>07 Castilla y León</td>\n",
       "      <td>34 Palencia</td>\n",
       "      <td>2020-05</td>\n",
       "      <td>NaN</td>\n",
       "    </tr>\n",
       "    <tr>\n",
       "      <th>8247</th>\n",
       "      <td>07 Castilla y León</td>\n",
       "      <td>40 Segovia</td>\n",
       "      <td>2020-06</td>\n",
       "      <td>NaN</td>\n",
       "    </tr>\n",
       "    <tr>\n",
       "      <th>8248</th>\n",
       "      <td>07 Castilla y León</td>\n",
       "      <td>40 Segovia</td>\n",
       "      <td>2020-05</td>\n",
       "      <td>NaN</td>\n",
       "    </tr>\n",
       "    <tr>\n",
       "      <th>9192</th>\n",
       "      <td>07 Castilla y León</td>\n",
       "      <td>49 Zamora</td>\n",
       "      <td>2020-06</td>\n",
       "      <td>NaN</td>\n",
       "    </tr>\n",
       "    <tr>\n",
       "      <th>9193</th>\n",
       "      <td>07 Castilla y León</td>\n",
       "      <td>49 Zamora</td>\n",
       "      <td>2020-05</td>\n",
       "      <td>NaN</td>\n",
       "    </tr>\n",
       "    <tr>\n",
       "      <th>19272</th>\n",
       "      <td>18 Ceuta</td>\n",
       "      <td>NaN</td>\n",
       "      <td>2020-06</td>\n",
       "      <td>NaN</td>\n",
       "    </tr>\n",
       "    <tr>\n",
       "      <th>19273</th>\n",
       "      <td>18 Ceuta</td>\n",
       "      <td>NaN</td>\n",
       "      <td>2020-05</td>\n",
       "      <td>NaN</td>\n",
       "    </tr>\n",
       "    <tr>\n",
       "      <th>19587</th>\n",
       "      <td>19 Melilla</td>\n",
       "      <td>NaN</td>\n",
       "      <td>2020-06</td>\n",
       "      <td>NaN</td>\n",
       "    </tr>\n",
       "    <tr>\n",
       "      <th>19588</th>\n",
       "      <td>19 Melilla</td>\n",
       "      <td>NaN</td>\n",
       "      <td>2020-05</td>\n",
       "      <td>NaN</td>\n",
       "    </tr>\n",
       "  </tbody>\n",
       "</table>\n",
       "</div>"
      ],
      "text/plain": [
       "      Comunidades y Ciudades Autónomas   Provincias  Periodo  Total\n",
       "6672                07 Castilla y León     05 Ávila  2020-06    NaN\n",
       "6673                07 Castilla y León     05 Ávila  2020-05    NaN\n",
       "7302                07 Castilla y León      24 León  2020-06    NaN\n",
       "7303                07 Castilla y León      24 León  2020-05    NaN\n",
       "7617                07 Castilla y León  34 Palencia  2020-06    NaN\n",
       "7618                07 Castilla y León  34 Palencia  2020-05    NaN\n",
       "8247                07 Castilla y León   40 Segovia  2020-06    NaN\n",
       "8248                07 Castilla y León   40 Segovia  2020-05    NaN\n",
       "9192                07 Castilla y León    49 Zamora  2020-06    NaN\n",
       "9193                07 Castilla y León    49 Zamora  2020-05    NaN\n",
       "19272                         18 Ceuta          NaN  2020-06    NaN\n",
       "19273                         18 Ceuta          NaN  2020-05    NaN\n",
       "19587                       19 Melilla          NaN  2020-06    NaN\n",
       "19588                       19 Melilla          NaN  2020-05    NaN"
      ]
     },
     "execution_count": 10,
     "metadata": {},
     "output_type": "execute_result"
    }
   ],
   "source": [
    "df_Media_CA_Pro[df_Media_CA_Pro['Total'].isna()]"
   ]
  },
  {
   "cell_type": "markdown",
   "id": "0b878da0",
   "metadata": {},
   "source": [
    "# Viajeros y pernoctaciones según país de residencia del viajero"
   ]
  },
  {
   "cell_type": "code",
   "execution_count": null,
   "id": "7baf93bb",
   "metadata": {},
   "outputs": [],
   "source": [
    "df_Pais_Residencia = pd.read_csv(r\"../Data\\2038.csv\", sep='\\t') #Viajeros y pernoctaciones según país de residencia del viajero"
   ]
  },
  {
   "cell_type": "code",
   "execution_count": null,
   "id": "d0f4dd56",
   "metadata": {},
   "outputs": [
    {
     "data": {
      "text/plain": [
       "array([nan, 'Residentes en España', 'Residentes en el Extranjero',\n",
       "       'Alemania', 'Austria', 'Bélgica', 'Dinamarca', 'Finlandia',\n",
       "       'Francia', 'Grecia', 'Irlanda', 'Italia', 'Luxemburgo',\n",
       "       'Países Bajos', 'Polonia', 'Portugal', 'República Checa', 'Suecia',\n",
       "       'Resto de la U.E.', 'Noruega', 'Reino Unido', 'Rusia', 'Suiza',\n",
       "       'Otros Países Europeos', 'África', 'UE28 sin España',\n",
       "       'UE27_2020 sin España', 'Resto del Mundo'], dtype=object)"
      ]
     },
     "execution_count": 12,
     "metadata": {},
     "output_type": "execute_result"
    }
   ],
   "source": [
    "df_Pais_Residencia['Países'].unique()"
   ]
  },
  {
   "cell_type": "code",
   "execution_count": null,
   "id": "88235302",
   "metadata": {},
   "outputs": [
    {
     "name": "stdout",
     "output_type": "stream",
     "text": [
      "<class 'pandas.core.frame.DataFrame'>\n",
      "RangeIndex: 20160 entries, 0 to 20159\n",
      "Data columns (total 5 columns):\n",
      " #   Column                     Non-Null Count  Dtype \n",
      "---  ------                     --------------  ----- \n",
      " 0   RESIDENCIA/ORIGEN          20160 non-null  object\n",
      " 1   Países                     17010 non-null  object\n",
      " 2   Viajeros y pernoctaciones  20160 non-null  object\n",
      " 3   Periodo                    20160 non-null  object\n",
      " 4   Total                      19022 non-null  object\n",
      "dtypes: object(5)\n",
      "memory usage: 787.6+ KB\n"
     ]
    }
   ],
   "source": [
    "df_Pais_Residencia.info()"
   ]
  },
  {
   "cell_type": "code",
   "execution_count": null,
   "id": "c6d209e8",
   "metadata": {},
   "outputs": [],
   "source": [
    "df_Pais_Residencia['Periodo'] = pd.to_datetime(df_Pais_Residencia['Periodo'].str.replace('M', '-'), format='%Y-%m').dt.to_period('M')"
   ]
  },
  {
   "cell_type": "code",
   "execution_count": null,
   "id": "bb996bd6",
   "metadata": {},
   "outputs": [],
   "source": [
    "df_Pais_Residencia['Total'] = df_Pais_Residencia['Total'].str.replace('.', '')  # Elimina los separadores de miles\n",
    "df_Pais_Residencia['Total'] = df_Pais_Residencia['Total'].str.replace(',', '.')  # Convierte los decimales\n",
    "df_Pais_Residencia['Total'] = pd.to_numeric(df_Pais_Residencia['Total'], errors='coerce')  # Convierte a float\n"
   ]
  },
  {
   "cell_type": "code",
   "execution_count": null,
   "id": "75bade3d",
   "metadata": {},
   "outputs": [
    {
     "data": {
      "application/vnd.microsoft.datawrangler.viewer.v0+json": {
       "columns": [
        {
         "name": "index",
         "rawType": "int64",
         "type": "integer"
        },
        {
         "name": "RESIDENCIA/ORIGEN",
         "rawType": "object",
         "type": "string"
        },
        {
         "name": "Países",
         "rawType": "object",
         "type": "unknown"
        },
        {
         "name": "Viajeros y pernoctaciones",
         "rawType": "object",
         "type": "string"
        },
        {
         "name": "Periodo",
         "rawType": "period[M]",
         "type": "unknown"
        },
        {
         "name": "Total",
         "rawType": "float64",
         "type": "float"
        }
       ],
       "conversionMethod": "pd.DataFrame",
       "ref": "338511ee-d5b0-4a61-869f-c43e3a53a1ea",
       "rows": [
        [
         "0",
         "Total",
         null,
         "Viajero",
         "2025-03",
         "7680722.0"
        ],
        [
         "1",
         "Total",
         null,
         "Viajero",
         "2025-02",
         "6539960.0"
        ],
        [
         "2",
         "Total",
         null,
         "Viajero",
         "2025-01",
         "5776075.0"
        ],
        [
         "3",
         "Total",
         null,
         "Viajero",
         "2024-12",
         "6553489.0"
        ],
        [
         "4",
         "Total",
         null,
         "Viajero",
         "2024-11",
         "7171221.0"
        ],
        [
         "5",
         "Total",
         null,
         "Viajero",
         "2024-10",
         "10774309.0"
        ],
        [
         "6",
         "Total",
         null,
         "Viajero",
         "2024-09",
         "11821379.0"
        ],
        [
         "7",
         "Total",
         null,
         "Viajero",
         "2024-08",
         "13586095.0"
        ],
        [
         "8",
         "Total",
         null,
         "Viajero",
         "2024-07",
         "12703213.0"
        ],
        [
         "9",
         "Total",
         null,
         "Viajero",
         "2024-06",
         "11905082.0"
        ],
        [
         "10",
         "Total",
         null,
         "Viajero",
         "2024-05",
         "11776729.0"
        ],
        [
         "11",
         "Total",
         null,
         "Viajero",
         "2024-04",
         "9394506.0"
        ],
        [
         "12",
         "Total",
         null,
         "Viajero",
         "2024-03",
         "8433226.0"
        ],
        [
         "13",
         "Total",
         null,
         "Viajero",
         "2024-02",
         "6512168.0"
        ],
        [
         "14",
         "Total",
         null,
         "Viajero",
         "2024-01",
         "5660859.0"
        ],
        [
         "15",
         "Total",
         null,
         "Viajero",
         "2023-12",
         "6586138.0"
        ],
        [
         "16",
         "Total",
         null,
         "Viajero",
         "2023-11",
         "6798815.0"
        ],
        [
         "17",
         "Total",
         null,
         "Viajero",
         "2023-10",
         "10390441.0"
        ],
        [
         "18",
         "Total",
         null,
         "Viajero",
         "2023-09",
         "11627872.0"
        ],
        [
         "19",
         "Total",
         null,
         "Viajero",
         "2023-08",
         "13266497.0"
        ],
        [
         "20",
         "Total",
         null,
         "Viajero",
         "2023-07",
         "12680483.0"
        ],
        [
         "21",
         "Total",
         null,
         "Viajero",
         "2023-06",
         "11535550.0"
        ],
        [
         "22",
         "Total",
         null,
         "Viajero",
         "2023-05",
         "10580202.0"
        ],
        [
         "23",
         "Total",
         null,
         "Viajero",
         "2023-04",
         "9829384.0"
        ],
        [
         "24",
         "Total",
         null,
         "Viajero",
         "2023-03",
         "7361364.0"
        ],
        [
         "25",
         "Total",
         null,
         "Viajero",
         "2023-02",
         "5967064.0"
        ],
        [
         "26",
         "Total",
         null,
         "Viajero",
         "2023-01",
         "5367962.0"
        ],
        [
         "27",
         "Total",
         null,
         "Viajero",
         "2022-12",
         "6054556.0"
        ],
        [
         "28",
         "Total",
         null,
         "Viajero",
         "2022-11",
         "6284698.0"
        ],
        [
         "29",
         "Total",
         null,
         "Viajero",
         "2022-10",
         "9743259.0"
        ],
        [
         "30",
         "Total",
         null,
         "Viajero",
         "2022-09",
         "11050305.0"
        ],
        [
         "31",
         "Total",
         null,
         "Viajero",
         "2022-08",
         "12889916.0"
        ],
        [
         "32",
         "Total",
         null,
         "Viajero",
         "2022-07",
         "12292936.0"
        ],
        [
         "33",
         "Total",
         null,
         "Viajero",
         "2022-06",
         "10990468.0"
        ],
        [
         "34",
         "Total",
         null,
         "Viajero",
         "2022-05",
         "9920671.0"
        ],
        [
         "35",
         "Total",
         null,
         "Viajero",
         "2022-04",
         "8689822.0"
        ],
        [
         "36",
         "Total",
         null,
         "Viajero",
         "2022-03",
         "6061398.0"
        ],
        [
         "37",
         "Total",
         null,
         "Viajero",
         "2022-02",
         "5133961.0"
        ],
        [
         "38",
         "Total",
         null,
         "Viajero",
         "2022-01",
         "3770578.0"
        ],
        [
         "39",
         "Total",
         null,
         "Viajero",
         "2021-12",
         "4881952.0"
        ],
        [
         "40",
         "Total",
         null,
         "Viajero",
         "2021-11",
         "5391958.0"
        ],
        [
         "41",
         "Total",
         null,
         "Viajero",
         "2021-10",
         "8131666.0"
        ],
        [
         "42",
         "Total",
         null,
         "Viajero",
         "2021-09",
         "8256057.0"
        ],
        [
         "43",
         "Total",
         null,
         "Viajero",
         "2021-08",
         "10408035.0"
        ],
        [
         "44",
         "Total",
         null,
         "Viajero",
         "2021-07",
         "8544001.0"
        ],
        [
         "45",
         "Total",
         null,
         "Viajero",
         "2021-06",
         "5676067.0"
        ],
        [
         "46",
         "Total",
         null,
         "Viajero",
         "2021-05",
         "3404118.0"
        ],
        [
         "47",
         "Total",
         null,
         "Viajero",
         "2021-04",
         "1955719.0"
        ],
        [
         "48",
         "Total",
         null,
         "Viajero",
         "2021-03",
         "1770722.0"
        ],
        [
         "49",
         "Total",
         null,
         "Viajero",
         "2021-02",
         "1179236.0"
        ]
       ],
       "shape": {
        "columns": 5,
        "rows": 20160
       }
      },
      "text/html": [
       "<div>\n",
       "<style scoped>\n",
       "    .dataframe tbody tr th:only-of-type {\n",
       "        vertical-align: middle;\n",
       "    }\n",
       "\n",
       "    .dataframe tbody tr th {\n",
       "        vertical-align: top;\n",
       "    }\n",
       "\n",
       "    .dataframe thead th {\n",
       "        text-align: right;\n",
       "    }\n",
       "</style>\n",
       "<table border=\"1\" class=\"dataframe\">\n",
       "  <thead>\n",
       "    <tr style=\"text-align: right;\">\n",
       "      <th></th>\n",
       "      <th>RESIDENCIA/ORIGEN</th>\n",
       "      <th>Países</th>\n",
       "      <th>Viajeros y pernoctaciones</th>\n",
       "      <th>Periodo</th>\n",
       "      <th>Total</th>\n",
       "    </tr>\n",
       "  </thead>\n",
       "  <tbody>\n",
       "    <tr>\n",
       "      <th>0</th>\n",
       "      <td>Total</td>\n",
       "      <td>NaN</td>\n",
       "      <td>Viajero</td>\n",
       "      <td>2025-03</td>\n",
       "      <td>7680722.0</td>\n",
       "    </tr>\n",
       "    <tr>\n",
       "      <th>1</th>\n",
       "      <td>Total</td>\n",
       "      <td>NaN</td>\n",
       "      <td>Viajero</td>\n",
       "      <td>2025-02</td>\n",
       "      <td>6539960.0</td>\n",
       "    </tr>\n",
       "    <tr>\n",
       "      <th>2</th>\n",
       "      <td>Total</td>\n",
       "      <td>NaN</td>\n",
       "      <td>Viajero</td>\n",
       "      <td>2025-01</td>\n",
       "      <td>5776075.0</td>\n",
       "    </tr>\n",
       "    <tr>\n",
       "      <th>3</th>\n",
       "      <td>Total</td>\n",
       "      <td>NaN</td>\n",
       "      <td>Viajero</td>\n",
       "      <td>2024-12</td>\n",
       "      <td>6553489.0</td>\n",
       "    </tr>\n",
       "    <tr>\n",
       "      <th>4</th>\n",
       "      <td>Total</td>\n",
       "      <td>NaN</td>\n",
       "      <td>Viajero</td>\n",
       "      <td>2024-11</td>\n",
       "      <td>7171221.0</td>\n",
       "    </tr>\n",
       "    <tr>\n",
       "      <th>...</th>\n",
       "      <td>...</td>\n",
       "      <td>...</td>\n",
       "      <td>...</td>\n",
       "      <td>...</td>\n",
       "      <td>...</td>\n",
       "    </tr>\n",
       "    <tr>\n",
       "      <th>20155</th>\n",
       "      <td>Asia (sin Japón)</td>\n",
       "      <td>NaN</td>\n",
       "      <td>Pernoctaciones</td>\n",
       "      <td>1999-05</td>\n",
       "      <td>25427.0</td>\n",
       "    </tr>\n",
       "    <tr>\n",
       "      <th>20156</th>\n",
       "      <td>Asia (sin Japón)</td>\n",
       "      <td>NaN</td>\n",
       "      <td>Pernoctaciones</td>\n",
       "      <td>1999-04</td>\n",
       "      <td>26878.0</td>\n",
       "    </tr>\n",
       "    <tr>\n",
       "      <th>20157</th>\n",
       "      <td>Asia (sin Japón)</td>\n",
       "      <td>NaN</td>\n",
       "      <td>Pernoctaciones</td>\n",
       "      <td>1999-03</td>\n",
       "      <td>24271.0</td>\n",
       "    </tr>\n",
       "    <tr>\n",
       "      <th>20158</th>\n",
       "      <td>Asia (sin Japón)</td>\n",
       "      <td>NaN</td>\n",
       "      <td>Pernoctaciones</td>\n",
       "      <td>1999-02</td>\n",
       "      <td>18530.0</td>\n",
       "    </tr>\n",
       "    <tr>\n",
       "      <th>20159</th>\n",
       "      <td>Asia (sin Japón)</td>\n",
       "      <td>NaN</td>\n",
       "      <td>Pernoctaciones</td>\n",
       "      <td>1999-01</td>\n",
       "      <td>13377.0</td>\n",
       "    </tr>\n",
       "  </tbody>\n",
       "</table>\n",
       "<p>20160 rows × 5 columns</p>\n",
       "</div>"
      ],
      "text/plain": [
       "      RESIDENCIA/ORIGEN Países Viajeros y pernoctaciones  Periodo      Total\n",
       "0                 Total    NaN                   Viajero  2025-03  7680722.0\n",
       "1                 Total    NaN                   Viajero  2025-02  6539960.0\n",
       "2                 Total    NaN                   Viajero  2025-01  5776075.0\n",
       "3                 Total    NaN                   Viajero  2024-12  6553489.0\n",
       "4                 Total    NaN                   Viajero  2024-11  7171221.0\n",
       "...                 ...    ...                       ...      ...        ...\n",
       "20155  Asia (sin Japón)    NaN            Pernoctaciones  1999-05    25427.0\n",
       "20156  Asia (sin Japón)    NaN            Pernoctaciones  1999-04    26878.0\n",
       "20157  Asia (sin Japón)    NaN            Pernoctaciones  1999-03    24271.0\n",
       "20158  Asia (sin Japón)    NaN            Pernoctaciones  1999-02    18530.0\n",
       "20159  Asia (sin Japón)    NaN            Pernoctaciones  1999-01    13377.0\n",
       "\n",
       "[20160 rows x 5 columns]"
      ]
     },
     "execution_count": 16,
     "metadata": {},
     "output_type": "execute_result"
    }
   ],
   "source": [
    "df_Pais_Residencia"
   ]
  },
  {
   "cell_type": "code",
   "execution_count": null,
   "id": "f03a83e0",
   "metadata": {},
   "outputs": [
    {
     "data": {
      "application/vnd.microsoft.datawrangler.viewer.v0+json": {
       "columns": [
        {
         "name": "index",
         "rawType": "int64",
         "type": "integer"
        },
        {
         "name": "RESIDENCIA/ORIGEN",
         "rawType": "object",
         "type": "string"
        },
        {
         "name": "Países",
         "rawType": "object",
         "type": "unknown"
        },
        {
         "name": "Viajeros y pernoctaciones",
         "rawType": "object",
         "type": "string"
        },
        {
         "name": "Periodo",
         "rawType": "period[M]",
         "type": "unknown"
        },
        {
         "name": "Total",
         "rawType": "float64",
         "type": "float"
        }
       ],
       "conversionMethod": "pd.DataFrame",
       "ref": "fde931ee-edfc-498e-a7c9-d9890a8a9ea0",
       "rows": [
        [
         "1947",
         "Total",
         "Alemania",
         "Viajero",
         "2020-06",
         null
        ],
        [
         "1948",
         "Total",
         "Alemania",
         "Viajero",
         "2020-05",
         null
        ],
        [
         "2262",
         "Total",
         "Alemania",
         "Pernoctaciones",
         "2020-06",
         null
        ],
        [
         "2263",
         "Total",
         "Alemania",
         "Pernoctaciones",
         "2020-05",
         null
        ],
        [
         "2577",
         "Total",
         "Austria",
         "Viajero",
         "2020-06",
         null
        ],
        [
         "2578",
         "Total",
         "Austria",
         "Viajero",
         "2020-05",
         null
        ],
        [
         "2892",
         "Total",
         "Austria",
         "Pernoctaciones",
         "2020-06",
         null
        ],
        [
         "2893",
         "Total",
         "Austria",
         "Pernoctaciones",
         "2020-05",
         null
        ],
        [
         "3207",
         "Total",
         "Bélgica",
         "Viajero",
         "2020-06",
         null
        ],
        [
         "3208",
         "Total",
         "Bélgica",
         "Viajero",
         "2020-05",
         null
        ],
        [
         "3522",
         "Total",
         "Bélgica",
         "Pernoctaciones",
         "2020-06",
         null
        ],
        [
         "3523",
         "Total",
         "Bélgica",
         "Pernoctaciones",
         "2020-05",
         null
        ],
        [
         "3837",
         "Total",
         "Dinamarca",
         "Viajero",
         "2020-06",
         null
        ],
        [
         "3838",
         "Total",
         "Dinamarca",
         "Viajero",
         "2020-05",
         null
        ],
        [
         "4152",
         "Total",
         "Dinamarca",
         "Pernoctaciones",
         "2020-06",
         null
        ],
        [
         "4153",
         "Total",
         "Dinamarca",
         "Pernoctaciones",
         "2020-05",
         null
        ],
        [
         "4467",
         "Total",
         "Finlandia",
         "Viajero",
         "2020-06",
         null
        ],
        [
         "4468",
         "Total",
         "Finlandia",
         "Viajero",
         "2020-05",
         null
        ],
        [
         "4782",
         "Total",
         "Finlandia",
         "Pernoctaciones",
         "2020-06",
         null
        ],
        [
         "4783",
         "Total",
         "Finlandia",
         "Pernoctaciones",
         "2020-05",
         null
        ],
        [
         "5097",
         "Total",
         "Francia",
         "Viajero",
         "2020-06",
         null
        ],
        [
         "5098",
         "Total",
         "Francia",
         "Viajero",
         "2020-05",
         null
        ],
        [
         "5412",
         "Total",
         "Francia",
         "Pernoctaciones",
         "2020-06",
         null
        ],
        [
         "5413",
         "Total",
         "Francia",
         "Pernoctaciones",
         "2020-05",
         null
        ],
        [
         "5727",
         "Total",
         "Grecia",
         "Viajero",
         "2020-06",
         null
        ],
        [
         "5728",
         "Total",
         "Grecia",
         "Viajero",
         "2020-05",
         null
        ],
        [
         "6042",
         "Total",
         "Grecia",
         "Pernoctaciones",
         "2020-06",
         null
        ],
        [
         "6043",
         "Total",
         "Grecia",
         "Pernoctaciones",
         "2020-05",
         null
        ],
        [
         "6357",
         "Total",
         "Irlanda",
         "Viajero",
         "2020-06",
         null
        ],
        [
         "6358",
         "Total",
         "Irlanda",
         "Viajero",
         "2020-05",
         null
        ],
        [
         "6672",
         "Total",
         "Irlanda",
         "Pernoctaciones",
         "2020-06",
         null
        ],
        [
         "6673",
         "Total",
         "Irlanda",
         "Pernoctaciones",
         "2020-05",
         null
        ],
        [
         "6987",
         "Total",
         "Italia",
         "Viajero",
         "2020-06",
         null
        ],
        [
         "6988",
         "Total",
         "Italia",
         "Viajero",
         "2020-05",
         null
        ],
        [
         "7302",
         "Total",
         "Italia",
         "Pernoctaciones",
         "2020-06",
         null
        ],
        [
         "7303",
         "Total",
         "Italia",
         "Pernoctaciones",
         "2020-05",
         null
        ],
        [
         "7617",
         "Total",
         "Luxemburgo",
         "Viajero",
         "2020-06",
         null
        ],
        [
         "7618",
         "Total",
         "Luxemburgo",
         "Viajero",
         "2020-05",
         null
        ],
        [
         "7932",
         "Total",
         "Luxemburgo",
         "Pernoctaciones",
         "2020-06",
         null
        ],
        [
         "7933",
         "Total",
         "Luxemburgo",
         "Pernoctaciones",
         "2020-05",
         null
        ],
        [
         "8247",
         "Total",
         "Países Bajos",
         "Viajero",
         "2020-06",
         null
        ],
        [
         "8248",
         "Total",
         "Países Bajos",
         "Viajero",
         "2020-05",
         null
        ],
        [
         "8562",
         "Total",
         "Países Bajos",
         "Pernoctaciones",
         "2020-06",
         null
        ],
        [
         "8563",
         "Total",
         "Países Bajos",
         "Pernoctaciones",
         "2020-05",
         null
        ],
        [
         "8877",
         "Total",
         "Polonia",
         "Viajero",
         "2020-06",
         null
        ],
        [
         "8878",
         "Total",
         "Polonia",
         "Viajero",
         "2020-05",
         null
        ],
        [
         "9192",
         "Total",
         "Polonia",
         "Pernoctaciones",
         "2020-06",
         null
        ],
        [
         "9193",
         "Total",
         "Polonia",
         "Pernoctaciones",
         "2020-05",
         null
        ],
        [
         "9507",
         "Total",
         "Portugal",
         "Viajero",
         "2020-06",
         null
        ],
        [
         "9508",
         "Total",
         "Portugal",
         "Viajero",
         "2020-05",
         null
        ]
       ],
       "shape": {
        "columns": 5,
        "rows": 1298
       }
      },
      "text/html": [
       "<div>\n",
       "<style scoped>\n",
       "    .dataframe tbody tr th:only-of-type {\n",
       "        vertical-align: middle;\n",
       "    }\n",
       "\n",
       "    .dataframe tbody tr th {\n",
       "        vertical-align: top;\n",
       "    }\n",
       "\n",
       "    .dataframe thead th {\n",
       "        text-align: right;\n",
       "    }\n",
       "</style>\n",
       "<table border=\"1\" class=\"dataframe\">\n",
       "  <thead>\n",
       "    <tr style=\"text-align: right;\">\n",
       "      <th></th>\n",
       "      <th>RESIDENCIA/ORIGEN</th>\n",
       "      <th>Países</th>\n",
       "      <th>Viajeros y pernoctaciones</th>\n",
       "      <th>Periodo</th>\n",
       "      <th>Total</th>\n",
       "    </tr>\n",
       "  </thead>\n",
       "  <tbody>\n",
       "    <tr>\n",
       "      <th>1947</th>\n",
       "      <td>Total</td>\n",
       "      <td>Alemania</td>\n",
       "      <td>Viajero</td>\n",
       "      <td>2020-06</td>\n",
       "      <td>NaN</td>\n",
       "    </tr>\n",
       "    <tr>\n",
       "      <th>1948</th>\n",
       "      <td>Total</td>\n",
       "      <td>Alemania</td>\n",
       "      <td>Viajero</td>\n",
       "      <td>2020-05</td>\n",
       "      <td>NaN</td>\n",
       "    </tr>\n",
       "    <tr>\n",
       "      <th>2262</th>\n",
       "      <td>Total</td>\n",
       "      <td>Alemania</td>\n",
       "      <td>Pernoctaciones</td>\n",
       "      <td>2020-06</td>\n",
       "      <td>NaN</td>\n",
       "    </tr>\n",
       "    <tr>\n",
       "      <th>2263</th>\n",
       "      <td>Total</td>\n",
       "      <td>Alemania</td>\n",
       "      <td>Pernoctaciones</td>\n",
       "      <td>2020-05</td>\n",
       "      <td>NaN</td>\n",
       "    </tr>\n",
       "    <tr>\n",
       "      <th>2577</th>\n",
       "      <td>Total</td>\n",
       "      <td>Austria</td>\n",
       "      <td>Viajero</td>\n",
       "      <td>2020-06</td>\n",
       "      <td>NaN</td>\n",
       "    </tr>\n",
       "    <tr>\n",
       "      <th>...</th>\n",
       "      <td>...</td>\n",
       "      <td>...</td>\n",
       "      <td>...</td>\n",
       "      <td>...</td>\n",
       "      <td>...</td>\n",
       "    </tr>\n",
       "    <tr>\n",
       "      <th>20083</th>\n",
       "      <td>Asia (sin Japón)</td>\n",
       "      <td>NaN</td>\n",
       "      <td>Pernoctaciones</td>\n",
       "      <td>2005-05</td>\n",
       "      <td>NaN</td>\n",
       "    </tr>\n",
       "    <tr>\n",
       "      <th>20084</th>\n",
       "      <td>Asia (sin Japón)</td>\n",
       "      <td>NaN</td>\n",
       "      <td>Pernoctaciones</td>\n",
       "      <td>2005-04</td>\n",
       "      <td>NaN</td>\n",
       "    </tr>\n",
       "    <tr>\n",
       "      <th>20085</th>\n",
       "      <td>Asia (sin Japón)</td>\n",
       "      <td>NaN</td>\n",
       "      <td>Pernoctaciones</td>\n",
       "      <td>2005-03</td>\n",
       "      <td>NaN</td>\n",
       "    </tr>\n",
       "    <tr>\n",
       "      <th>20086</th>\n",
       "      <td>Asia (sin Japón)</td>\n",
       "      <td>NaN</td>\n",
       "      <td>Pernoctaciones</td>\n",
       "      <td>2005-02</td>\n",
       "      <td>NaN</td>\n",
       "    </tr>\n",
       "    <tr>\n",
       "      <th>20087</th>\n",
       "      <td>Asia (sin Japón)</td>\n",
       "      <td>NaN</td>\n",
       "      <td>Pernoctaciones</td>\n",
       "      <td>2005-01</td>\n",
       "      <td>NaN</td>\n",
       "    </tr>\n",
       "  </tbody>\n",
       "</table>\n",
       "<p>1298 rows × 5 columns</p>\n",
       "</div>"
      ],
      "text/plain": [
       "      RESIDENCIA/ORIGEN    Países Viajeros y pernoctaciones  Periodo  Total\n",
       "1947              Total  Alemania                   Viajero  2020-06    NaN\n",
       "1948              Total  Alemania                   Viajero  2020-05    NaN\n",
       "2262              Total  Alemania            Pernoctaciones  2020-06    NaN\n",
       "2263              Total  Alemania            Pernoctaciones  2020-05    NaN\n",
       "2577              Total   Austria                   Viajero  2020-06    NaN\n",
       "...                 ...       ...                       ...      ...    ...\n",
       "20083  Asia (sin Japón)       NaN            Pernoctaciones  2005-05    NaN\n",
       "20084  Asia (sin Japón)       NaN            Pernoctaciones  2005-04    NaN\n",
       "20085  Asia (sin Japón)       NaN            Pernoctaciones  2005-03    NaN\n",
       "20086  Asia (sin Japón)       NaN            Pernoctaciones  2005-02    NaN\n",
       "20087  Asia (sin Japón)       NaN            Pernoctaciones  2005-01    NaN\n",
       "\n",
       "[1298 rows x 5 columns]"
      ]
     },
     "execution_count": 17,
     "metadata": {},
     "output_type": "execute_result"
    }
   ],
   "source": [
    "df_Pais_Residencia[df_Pais_Residencia['Total'].isna()]"
   ]
  },
  {
   "cell_type": "markdown",
   "id": "d8820497",
   "metadata": {},
   "source": [
    "# Viajeros y pernoctaciones por comunidades autónomas y provincias"
   ]
  },
  {
   "cell_type": "code",
   "execution_count": null,
   "id": "39247eb3",
   "metadata": {},
   "outputs": [],
   "source": [
    "df_CA_Pro = pd.read_csv(r\"../Data\\2074.csv\", sep='\\t', dtype={2: str}) #Viajeros y pernoctaciones por comunidades autónomas y provincias"
   ]
  },
  {
   "cell_type": "code",
   "execution_count": 197,
   "id": "8d8f4959",
   "metadata": {},
   "outputs": [
    {
     "data": {
      "application/vnd.microsoft.datawrangler.viewer.v0+json": {
       "columns": [
        {
         "name": "index",
         "rawType": "int64",
         "type": "integer"
        },
        {
         "name": "Totales Territoriales",
         "rawType": "object",
         "type": "string"
        },
        {
         "name": "Comunidades y Ciudades Autónomas",
         "rawType": "object",
         "type": "unknown"
        },
        {
         "name": "Provincias",
         "rawType": "object",
         "type": "unknown"
        },
        {
         "name": "Viajeros y pernoctaciones",
         "rawType": "object",
         "type": "string"
        },
        {
         "name": "Residencia",
         "rawType": "object",
         "type": "unknown"
        },
        {
         "name": "Periodo",
         "rawType": "object",
         "type": "string"
        },
        {
         "name": "Total",
         "rawType": "object",
         "type": "unknown"
        }
       ],
       "conversionMethod": "pd.DataFrame",
       "ref": "882ec80c-ecba-4e87-ae11-145216950b97",
       "rows": [
        [
         "0",
         "Total Nacional",
         null,
         null,
         "Viajero",
         null,
         "2025M03",
         "7.680.722"
        ],
        [
         "1",
         "Total Nacional",
         null,
         null,
         "Viajero",
         null,
         "2025M02",
         "6.539.960"
        ],
        [
         "2",
         "Total Nacional",
         null,
         null,
         "Viajero",
         null,
         "2025M01",
         "5.776.075"
        ],
        [
         "3",
         "Total Nacional",
         null,
         null,
         "Viajero",
         null,
         "2024M12",
         "6.553.489"
        ],
        [
         "4",
         "Total Nacional",
         null,
         null,
         "Viajero",
         null,
         "2024M11",
         "7.171.221"
        ],
        [
         "5",
         "Total Nacional",
         null,
         null,
         "Viajero",
         null,
         "2024M10",
         "10.774.309"
        ],
        [
         "6",
         "Total Nacional",
         null,
         null,
         "Viajero",
         null,
         "2024M09",
         "11.821.379"
        ],
        [
         "7",
         "Total Nacional",
         null,
         null,
         "Viajero",
         null,
         "2024M08",
         "13.586.095"
        ],
        [
         "8",
         "Total Nacional",
         null,
         null,
         "Viajero",
         null,
         "2024M07",
         "12.703.213"
        ],
        [
         "9",
         "Total Nacional",
         null,
         null,
         "Viajero",
         null,
         "2024M06",
         "11.905.082"
        ],
        [
         "10",
         "Total Nacional",
         null,
         null,
         "Viajero",
         null,
         "2024M05",
         "11.776.729"
        ],
        [
         "11",
         "Total Nacional",
         null,
         null,
         "Viajero",
         null,
         "2024M04",
         "9.394.506"
        ],
        [
         "12",
         "Total Nacional",
         null,
         null,
         "Viajero",
         null,
         "2024M03",
         "8.433.226"
        ],
        [
         "13",
         "Total Nacional",
         null,
         null,
         "Viajero",
         null,
         "2024M02",
         "6.512.168"
        ],
        [
         "14",
         "Total Nacional",
         null,
         null,
         "Viajero",
         null,
         "2024M01",
         "5.660.859"
        ],
        [
         "15",
         "Total Nacional",
         null,
         null,
         "Viajero",
         null,
         "2023M12",
         "6.586.138"
        ],
        [
         "16",
         "Total Nacional",
         null,
         null,
         "Viajero",
         null,
         "2023M11",
         "6.798.815"
        ],
        [
         "17",
         "Total Nacional",
         null,
         null,
         "Viajero",
         null,
         "2023M10",
         "10.390.441"
        ],
        [
         "18",
         "Total Nacional",
         null,
         null,
         "Viajero",
         null,
         "2023M09",
         "11.627.872"
        ],
        [
         "19",
         "Total Nacional",
         null,
         null,
         "Viajero",
         null,
         "2023M08",
         "13.266.497"
        ],
        [
         "20",
         "Total Nacional",
         null,
         null,
         "Viajero",
         null,
         "2023M07",
         "12.680.483"
        ],
        [
         "21",
         "Total Nacional",
         null,
         null,
         "Viajero",
         null,
         "2023M06",
         "11.535.550"
        ],
        [
         "22",
         "Total Nacional",
         null,
         null,
         "Viajero",
         null,
         "2023M05",
         "10.580.202"
        ],
        [
         "23",
         "Total Nacional",
         null,
         null,
         "Viajero",
         null,
         "2023M04",
         "9.829.384"
        ],
        [
         "24",
         "Total Nacional",
         null,
         null,
         "Viajero",
         null,
         "2023M03",
         "7.361.364"
        ],
        [
         "25",
         "Total Nacional",
         null,
         null,
         "Viajero",
         null,
         "2023M02",
         "5.967.064"
        ],
        [
         "26",
         "Total Nacional",
         null,
         null,
         "Viajero",
         null,
         "2023M01",
         "5.367.962"
        ],
        [
         "27",
         "Total Nacional",
         null,
         null,
         "Viajero",
         null,
         "2022M12",
         "6.054.556"
        ],
        [
         "28",
         "Total Nacional",
         null,
         null,
         "Viajero",
         null,
         "2022M11",
         "6.284.698"
        ],
        [
         "29",
         "Total Nacional",
         null,
         null,
         "Viajero",
         null,
         "2022M10",
         "9.743.259"
        ],
        [
         "30",
         "Total Nacional",
         null,
         null,
         "Viajero",
         null,
         "2022M09",
         "11.050.305"
        ],
        [
         "31",
         "Total Nacional",
         null,
         null,
         "Viajero",
         null,
         "2022M08",
         "12.889.916"
        ],
        [
         "32",
         "Total Nacional",
         null,
         null,
         "Viajero",
         null,
         "2022M07",
         "12.292.936"
        ],
        [
         "33",
         "Total Nacional",
         null,
         null,
         "Viajero",
         null,
         "2022M06",
         "10.990.468"
        ],
        [
         "34",
         "Total Nacional",
         null,
         null,
         "Viajero",
         null,
         "2022M05",
         "9.920.671"
        ],
        [
         "35",
         "Total Nacional",
         null,
         null,
         "Viajero",
         null,
         "2022M04",
         "8.689.822"
        ],
        [
         "36",
         "Total Nacional",
         null,
         null,
         "Viajero",
         null,
         "2022M03",
         "6.061.398"
        ],
        [
         "37",
         "Total Nacional",
         null,
         null,
         "Viajero",
         null,
         "2022M02",
         "5.133.961"
        ],
        [
         "38",
         "Total Nacional",
         null,
         null,
         "Viajero",
         null,
         "2022M01",
         "3.770.578"
        ],
        [
         "39",
         "Total Nacional",
         null,
         null,
         "Viajero",
         null,
         "2021M12",
         "4.881.952"
        ],
        [
         "40",
         "Total Nacional",
         null,
         null,
         "Viajero",
         null,
         "2021M11",
         "5.391.958"
        ],
        [
         "41",
         "Total Nacional",
         null,
         null,
         "Viajero",
         null,
         "2021M10",
         "8.131.666"
        ],
        [
         "42",
         "Total Nacional",
         null,
         null,
         "Viajero",
         null,
         "2021M09",
         "8.256.057"
        ],
        [
         "43",
         "Total Nacional",
         null,
         null,
         "Viajero",
         null,
         "2021M08",
         "10.408.035"
        ],
        [
         "44",
         "Total Nacional",
         null,
         null,
         "Viajero",
         null,
         "2021M07",
         "8.544.001"
        ],
        [
         "45",
         "Total Nacional",
         null,
         null,
         "Viajero",
         null,
         "2021M06",
         "5.676.067"
        ],
        [
         "46",
         "Total Nacional",
         null,
         null,
         "Viajero",
         null,
         "2021M05",
         "3.404.118"
        ],
        [
         "47",
         "Total Nacional",
         null,
         null,
         "Viajero",
         null,
         "2021M04",
         "1.955.719"
        ],
        [
         "48",
         "Total Nacional",
         null,
         null,
         "Viajero",
         null,
         "2021M03",
         "1.770.722"
        ],
        [
         "49",
         "Total Nacional",
         null,
         null,
         "Viajero",
         null,
         "2021M02",
         "1.179.236"
        ]
       ],
       "shape": {
        "columns": 7,
        "rows": 132300
       }
      },
      "text/html": [
       "<div>\n",
       "<style scoped>\n",
       "    .dataframe tbody tr th:only-of-type {\n",
       "        vertical-align: middle;\n",
       "    }\n",
       "\n",
       "    .dataframe tbody tr th {\n",
       "        vertical-align: top;\n",
       "    }\n",
       "\n",
       "    .dataframe thead th {\n",
       "        text-align: right;\n",
       "    }\n",
       "</style>\n",
       "<table border=\"1\" class=\"dataframe\">\n",
       "  <thead>\n",
       "    <tr style=\"text-align: right;\">\n",
       "      <th></th>\n",
       "      <th>Totales Territoriales</th>\n",
       "      <th>Comunidades y Ciudades Autónomas</th>\n",
       "      <th>Provincias</th>\n",
       "      <th>Viajeros y pernoctaciones</th>\n",
       "      <th>Residencia</th>\n",
       "      <th>Periodo</th>\n",
       "      <th>Total</th>\n",
       "    </tr>\n",
       "  </thead>\n",
       "  <tbody>\n",
       "    <tr>\n",
       "      <th>0</th>\n",
       "      <td>Total Nacional</td>\n",
       "      <td>NaN</td>\n",
       "      <td>NaN</td>\n",
       "      <td>Viajero</td>\n",
       "      <td>NaN</td>\n",
       "      <td>2025M03</td>\n",
       "      <td>7.680.722</td>\n",
       "    </tr>\n",
       "    <tr>\n",
       "      <th>1</th>\n",
       "      <td>Total Nacional</td>\n",
       "      <td>NaN</td>\n",
       "      <td>NaN</td>\n",
       "      <td>Viajero</td>\n",
       "      <td>NaN</td>\n",
       "      <td>2025M02</td>\n",
       "      <td>6.539.960</td>\n",
       "    </tr>\n",
       "    <tr>\n",
       "      <th>2</th>\n",
       "      <td>Total Nacional</td>\n",
       "      <td>NaN</td>\n",
       "      <td>NaN</td>\n",
       "      <td>Viajero</td>\n",
       "      <td>NaN</td>\n",
       "      <td>2025M01</td>\n",
       "      <td>5.776.075</td>\n",
       "    </tr>\n",
       "    <tr>\n",
       "      <th>3</th>\n",
       "      <td>Total Nacional</td>\n",
       "      <td>NaN</td>\n",
       "      <td>NaN</td>\n",
       "      <td>Viajero</td>\n",
       "      <td>NaN</td>\n",
       "      <td>2024M12</td>\n",
       "      <td>6.553.489</td>\n",
       "    </tr>\n",
       "    <tr>\n",
       "      <th>4</th>\n",
       "      <td>Total Nacional</td>\n",
       "      <td>NaN</td>\n",
       "      <td>NaN</td>\n",
       "      <td>Viajero</td>\n",
       "      <td>NaN</td>\n",
       "      <td>2024M11</td>\n",
       "      <td>7.171.221</td>\n",
       "    </tr>\n",
       "    <tr>\n",
       "      <th>...</th>\n",
       "      <td>...</td>\n",
       "      <td>...</td>\n",
       "      <td>...</td>\n",
       "      <td>...</td>\n",
       "      <td>...</td>\n",
       "      <td>...</td>\n",
       "      <td>...</td>\n",
       "    </tr>\n",
       "    <tr>\n",
       "      <th>132295</th>\n",
       "      <td>Total Nacional</td>\n",
       "      <td>19 Melilla</td>\n",
       "      <td>NaN</td>\n",
       "      <td>Pernoctaciones</td>\n",
       "      <td>Residentes en el Extranjero</td>\n",
       "      <td>1999M05</td>\n",
       "      <td>1.305</td>\n",
       "    </tr>\n",
       "    <tr>\n",
       "      <th>132296</th>\n",
       "      <td>Total Nacional</td>\n",
       "      <td>19 Melilla</td>\n",
       "      <td>NaN</td>\n",
       "      <td>Pernoctaciones</td>\n",
       "      <td>Residentes en el Extranjero</td>\n",
       "      <td>1999M04</td>\n",
       "      <td>1.668</td>\n",
       "    </tr>\n",
       "    <tr>\n",
       "      <th>132297</th>\n",
       "      <td>Total Nacional</td>\n",
       "      <td>19 Melilla</td>\n",
       "      <td>NaN</td>\n",
       "      <td>Pernoctaciones</td>\n",
       "      <td>Residentes en el Extranjero</td>\n",
       "      <td>1999M03</td>\n",
       "      <td>1.673</td>\n",
       "    </tr>\n",
       "    <tr>\n",
       "      <th>132298</th>\n",
       "      <td>Total Nacional</td>\n",
       "      <td>19 Melilla</td>\n",
       "      <td>NaN</td>\n",
       "      <td>Pernoctaciones</td>\n",
       "      <td>Residentes en el Extranjero</td>\n",
       "      <td>1999M02</td>\n",
       "      <td>1.487</td>\n",
       "    </tr>\n",
       "    <tr>\n",
       "      <th>132299</th>\n",
       "      <td>Total Nacional</td>\n",
       "      <td>19 Melilla</td>\n",
       "      <td>NaN</td>\n",
       "      <td>Pernoctaciones</td>\n",
       "      <td>Residentes en el Extranjero</td>\n",
       "      <td>1999M01</td>\n",
       "      <td>1.148</td>\n",
       "    </tr>\n",
       "  </tbody>\n",
       "</table>\n",
       "<p>132300 rows × 7 columns</p>\n",
       "</div>"
      ],
      "text/plain": [
       "       Totales Territoriales Comunidades y Ciudades Autónomas Provincias  \\\n",
       "0             Total Nacional                              NaN        NaN   \n",
       "1             Total Nacional                              NaN        NaN   \n",
       "2             Total Nacional                              NaN        NaN   \n",
       "3             Total Nacional                              NaN        NaN   \n",
       "4             Total Nacional                              NaN        NaN   \n",
       "...                      ...                              ...        ...   \n",
       "132295        Total Nacional                       19 Melilla        NaN   \n",
       "132296        Total Nacional                       19 Melilla        NaN   \n",
       "132297        Total Nacional                       19 Melilla        NaN   \n",
       "132298        Total Nacional                       19 Melilla        NaN   \n",
       "132299        Total Nacional                       19 Melilla        NaN   \n",
       "\n",
       "       Viajeros y pernoctaciones                   Residencia  Periodo  \\\n",
       "0                        Viajero                          NaN  2025M03   \n",
       "1                        Viajero                          NaN  2025M02   \n",
       "2                        Viajero                          NaN  2025M01   \n",
       "3                        Viajero                          NaN  2024M12   \n",
       "4                        Viajero                          NaN  2024M11   \n",
       "...                          ...                          ...      ...   \n",
       "132295            Pernoctaciones  Residentes en el Extranjero  1999M05   \n",
       "132296            Pernoctaciones  Residentes en el Extranjero  1999M04   \n",
       "132297            Pernoctaciones  Residentes en el Extranjero  1999M03   \n",
       "132298            Pernoctaciones  Residentes en el Extranjero  1999M02   \n",
       "132299            Pernoctaciones  Residentes en el Extranjero  1999M01   \n",
       "\n",
       "            Total  \n",
       "0       7.680.722  \n",
       "1       6.539.960  \n",
       "2       5.776.075  \n",
       "3       6.553.489  \n",
       "4       7.171.221  \n",
       "...           ...  \n",
       "132295      1.305  \n",
       "132296      1.668  \n",
       "132297      1.673  \n",
       "132298      1.487  \n",
       "132299      1.148  \n",
       "\n",
       "[132300 rows x 7 columns]"
      ]
     },
     "execution_count": 19,
     "metadata": {},
     "output_type": "execute_result"
    }
   ],
   "source": [
    "df_CA_Pro.drop(columns=['Residencia: Nivel 1'], inplace=True)\n",
    "\n",
    "df_CA_Pro.rename(columns={'Residencia: Nivel 2': 'Residencia'}, inplace=True)\n",
    "\n",
    "\n",
    "df_CA_Pro"
   ]
  },
  {
   "cell_type": "code",
   "execution_count": 198,
   "id": "b8da0ead",
   "metadata": {},
   "outputs": [
    {
     "name": "stdout",
     "output_type": "stream",
     "text": [
      "<class 'pandas.core.frame.DataFrame'>\n",
      "RangeIndex: 132300 entries, 0 to 132299\n",
      "Data columns (total 7 columns):\n",
      " #   Column                            Non-Null Count   Dtype \n",
      "---  ------                            --------------   ----- \n",
      " 0   Totales Territoriales             132300 non-null  object\n",
      " 1   Comunidades y Ciudades Autónomas  130410 non-null  object\n",
      " 2   Provincias                        94500 non-null   object\n",
      " 3   Viajeros y pernoctaciones         132300 non-null  object\n",
      " 4   Residencia                        88200 non-null   object\n",
      " 5   Periodo                           132300 non-null  object\n",
      " 6   Total                             132290 non-null  object\n",
      "dtypes: object(7)\n",
      "memory usage: 7.1+ MB\n"
     ]
    }
   ],
   "source": [
    "df_CA_Pro.info()"
   ]
  },
  {
   "cell_type": "code",
   "execution_count": 199,
   "id": "171f8c72",
   "metadata": {},
   "outputs": [],
   "source": [
    "df_CA_Pro['Periodo'] = pd.to_datetime(df_CA_Pro['Periodo'].str.replace('M', '-'), format='%Y-%m').dt.to_period('M')"
   ]
  },
  {
   "cell_type": "code",
   "execution_count": 200,
   "id": "5beef7a0",
   "metadata": {},
   "outputs": [],
   "source": [
    "df_CA_Pro['Total'] = df_CA_Pro['Total'].str.replace('.', '')  # Elimina los separadores de miles\n",
    "df_CA_Pro['Total'] = df_CA_Pro['Total'].str.replace(',', '.')  # Convierte los decimales\n",
    "df_CA_Pro['Total'] = pd.to_numeric(df_CA_Pro['Total'], errors='coerce')  # Convierte a float"
   ]
  },
  {
   "cell_type": "code",
   "execution_count": 201,
   "id": "695cab0b",
   "metadata": {},
   "outputs": [
    {
     "data": {
      "application/vnd.microsoft.datawrangler.viewer.v0+json": {
       "columns": [
        {
         "name": "index",
         "rawType": "int64",
         "type": "integer"
        },
        {
         "name": "Totales Territoriales",
         "rawType": "object",
         "type": "string"
        },
        {
         "name": "Comunidades y Ciudades Autónomas",
         "rawType": "object",
         "type": "string"
        },
        {
         "name": "Provincias",
         "rawType": "object",
         "type": "unknown"
        },
        {
         "name": "Viajeros y pernoctaciones",
         "rawType": "object",
         "type": "string"
        },
        {
         "name": "Residencia",
         "rawType": "object",
         "type": "unknown"
        },
        {
         "name": "Periodo",
         "rawType": "period[M]",
         "type": "unknown"
        },
        {
         "name": "Total",
         "rawType": "float64",
         "type": "float"
        }
       ],
       "conversionMethod": "pd.DataFrame",
       "ref": "c6e6d5bc-9b02-488c-9fe4-2a208fc10f1b",
       "rows": [
        [
         "8217",
         "Total Nacional",
         "01 Andalucía",
         "14 Córdoba",
         "Viajero",
         "Residentes en el Extranjero",
         "2022-12",
         null
        ],
        [
         "45417",
         "Total Nacional",
         "07 Castilla y León",
         "05 Ávila",
         "Viajero",
         null,
         "2020-06",
         null
        ],
        [
         "45418",
         "Total Nacional",
         "07 Castilla y León",
         "05 Ávila",
         "Viajero",
         null,
         "2020-05",
         null
        ],
        [
         "45732",
         "Total Nacional",
         "07 Castilla y León",
         "05 Ávila",
         "Viajero",
         "Residentes en España",
         "2020-06",
         null
        ],
        [
         "45733",
         "Total Nacional",
         "07 Castilla y León",
         "05 Ávila",
         "Viajero",
         "Residentes en España",
         "2020-05",
         null
        ],
        [
         "46047",
         "Total Nacional",
         "07 Castilla y León",
         "05 Ávila",
         "Viajero",
         "Residentes en el Extranjero",
         "2020-06",
         null
        ],
        [
         "46048",
         "Total Nacional",
         "07 Castilla y León",
         "05 Ávila",
         "Viajero",
         "Residentes en el Extranjero",
         "2020-05",
         null
        ],
        [
         "46362",
         "Total Nacional",
         "07 Castilla y León",
         "05 Ávila",
         "Pernoctaciones",
         null,
         "2020-06",
         null
        ],
        [
         "46363",
         "Total Nacional",
         "07 Castilla y León",
         "05 Ávila",
         "Pernoctaciones",
         null,
         "2020-05",
         null
        ],
        [
         "46677",
         "Total Nacional",
         "07 Castilla y León",
         "05 Ávila",
         "Pernoctaciones",
         "Residentes en España",
         "2020-06",
         null
        ],
        [
         "46678",
         "Total Nacional",
         "07 Castilla y León",
         "05 Ávila",
         "Pernoctaciones",
         "Residentes en España",
         "2020-05",
         null
        ],
        [
         "46992",
         "Total Nacional",
         "07 Castilla y León",
         "05 Ávila",
         "Pernoctaciones",
         "Residentes en el Extranjero",
         "2020-06",
         null
        ],
        [
         "46993",
         "Total Nacional",
         "07 Castilla y León",
         "05 Ávila",
         "Pernoctaciones",
         "Residentes en el Extranjero",
         "2020-05",
         null
        ],
        [
         "49197",
         "Total Nacional",
         "07 Castilla y León",
         "24 León",
         "Viajero",
         null,
         "2020-06",
         null
        ],
        [
         "49198",
         "Total Nacional",
         "07 Castilla y León",
         "24 León",
         "Viajero",
         null,
         "2020-05",
         null
        ],
        [
         "49512",
         "Total Nacional",
         "07 Castilla y León",
         "24 León",
         "Viajero",
         "Residentes en España",
         "2020-06",
         null
        ],
        [
         "49513",
         "Total Nacional",
         "07 Castilla y León",
         "24 León",
         "Viajero",
         "Residentes en España",
         "2020-05",
         null
        ],
        [
         "49827",
         "Total Nacional",
         "07 Castilla y León",
         "24 León",
         "Viajero",
         "Residentes en el Extranjero",
         "2020-06",
         null
        ],
        [
         "49828",
         "Total Nacional",
         "07 Castilla y León",
         "24 León",
         "Viajero",
         "Residentes en el Extranjero",
         "2020-05",
         null
        ],
        [
         "50142",
         "Total Nacional",
         "07 Castilla y León",
         "24 León",
         "Pernoctaciones",
         null,
         "2020-06",
         null
        ],
        [
         "50143",
         "Total Nacional",
         "07 Castilla y León",
         "24 León",
         "Pernoctaciones",
         null,
         "2020-05",
         null
        ],
        [
         "50457",
         "Total Nacional",
         "07 Castilla y León",
         "24 León",
         "Pernoctaciones",
         "Residentes en España",
         "2020-06",
         null
        ],
        [
         "50458",
         "Total Nacional",
         "07 Castilla y León",
         "24 León",
         "Pernoctaciones",
         "Residentes en España",
         "2020-05",
         null
        ],
        [
         "50772",
         "Total Nacional",
         "07 Castilla y León",
         "24 León",
         "Pernoctaciones",
         "Residentes en el Extranjero",
         "2020-06",
         null
        ],
        [
         "50773",
         "Total Nacional",
         "07 Castilla y León",
         "24 León",
         "Pernoctaciones",
         "Residentes en el Extranjero",
         "2020-05",
         null
        ],
        [
         "51087",
         "Total Nacional",
         "07 Castilla y León",
         "34 Palencia",
         "Viajero",
         null,
         "2020-06",
         null
        ],
        [
         "51088",
         "Total Nacional",
         "07 Castilla y León",
         "34 Palencia",
         "Viajero",
         null,
         "2020-05",
         null
        ],
        [
         "51402",
         "Total Nacional",
         "07 Castilla y León",
         "34 Palencia",
         "Viajero",
         "Residentes en España",
         "2020-06",
         null
        ],
        [
         "51403",
         "Total Nacional",
         "07 Castilla y León",
         "34 Palencia",
         "Viajero",
         "Residentes en España",
         "2020-05",
         null
        ],
        [
         "51717",
         "Total Nacional",
         "07 Castilla y León",
         "34 Palencia",
         "Viajero",
         "Residentes en el Extranjero",
         "2020-06",
         null
        ],
        [
         "51718",
         "Total Nacional",
         "07 Castilla y León",
         "34 Palencia",
         "Viajero",
         "Residentes en el Extranjero",
         "2020-05",
         null
        ],
        [
         "52032",
         "Total Nacional",
         "07 Castilla y León",
         "34 Palencia",
         "Pernoctaciones",
         null,
         "2020-06",
         null
        ],
        [
         "52033",
         "Total Nacional",
         "07 Castilla y León",
         "34 Palencia",
         "Pernoctaciones",
         null,
         "2020-05",
         null
        ],
        [
         "52347",
         "Total Nacional",
         "07 Castilla y León",
         "34 Palencia",
         "Pernoctaciones",
         "Residentes en España",
         "2020-06",
         null
        ],
        [
         "52348",
         "Total Nacional",
         "07 Castilla y León",
         "34 Palencia",
         "Pernoctaciones",
         "Residentes en España",
         "2020-05",
         null
        ],
        [
         "52662",
         "Total Nacional",
         "07 Castilla y León",
         "34 Palencia",
         "Pernoctaciones",
         "Residentes en el Extranjero",
         "2020-06",
         null
        ],
        [
         "52663",
         "Total Nacional",
         "07 Castilla y León",
         "34 Palencia",
         "Pernoctaciones",
         "Residentes en el Extranjero",
         "2020-05",
         null
        ],
        [
         "54867",
         "Total Nacional",
         "07 Castilla y León",
         "40 Segovia",
         "Viajero",
         null,
         "2020-06",
         null
        ],
        [
         "54868",
         "Total Nacional",
         "07 Castilla y León",
         "40 Segovia",
         "Viajero",
         null,
         "2020-05",
         null
        ],
        [
         "55182",
         "Total Nacional",
         "07 Castilla y León",
         "40 Segovia",
         "Viajero",
         "Residentes en España",
         "2020-06",
         null
        ],
        [
         "55183",
         "Total Nacional",
         "07 Castilla y León",
         "40 Segovia",
         "Viajero",
         "Residentes en España",
         "2020-05",
         null
        ],
        [
         "55497",
         "Total Nacional",
         "07 Castilla y León",
         "40 Segovia",
         "Viajero",
         "Residentes en el Extranjero",
         "2020-06",
         null
        ],
        [
         "55498",
         "Total Nacional",
         "07 Castilla y León",
         "40 Segovia",
         "Viajero",
         "Residentes en el Extranjero",
         "2020-05",
         null
        ],
        [
         "55812",
         "Total Nacional",
         "07 Castilla y León",
         "40 Segovia",
         "Pernoctaciones",
         null,
         "2020-06",
         null
        ],
        [
         "55813",
         "Total Nacional",
         "07 Castilla y León",
         "40 Segovia",
         "Pernoctaciones",
         null,
         "2020-05",
         null
        ],
        [
         "56127",
         "Total Nacional",
         "07 Castilla y León",
         "40 Segovia",
         "Pernoctaciones",
         "Residentes en España",
         "2020-06",
         null
        ],
        [
         "56128",
         "Total Nacional",
         "07 Castilla y León",
         "40 Segovia",
         "Pernoctaciones",
         "Residentes en España",
         "2020-05",
         null
        ],
        [
         "56442",
         "Total Nacional",
         "07 Castilla y León",
         "40 Segovia",
         "Pernoctaciones",
         "Residentes en el Extranjero",
         "2020-06",
         null
        ],
        [
         "56443",
         "Total Nacional",
         "07 Castilla y León",
         "40 Segovia",
         "Pernoctaciones",
         "Residentes en el Extranjero",
         "2020-05",
         null
        ],
        [
         "60537",
         "Total Nacional",
         "07 Castilla y León",
         "49 Zamora",
         "Viajero",
         null,
         "2020-06",
         null
        ]
       ],
       "shape": {
        "columns": 7,
        "rows": 85
       }
      },
      "text/html": [
       "<div>\n",
       "<style scoped>\n",
       "    .dataframe tbody tr th:only-of-type {\n",
       "        vertical-align: middle;\n",
       "    }\n",
       "\n",
       "    .dataframe tbody tr th {\n",
       "        vertical-align: top;\n",
       "    }\n",
       "\n",
       "    .dataframe thead th {\n",
       "        text-align: right;\n",
       "    }\n",
       "</style>\n",
       "<table border=\"1\" class=\"dataframe\">\n",
       "  <thead>\n",
       "    <tr style=\"text-align: right;\">\n",
       "      <th></th>\n",
       "      <th>Totales Territoriales</th>\n",
       "      <th>Comunidades y Ciudades Autónomas</th>\n",
       "      <th>Provincias</th>\n",
       "      <th>Viajeros y pernoctaciones</th>\n",
       "      <th>Residencia</th>\n",
       "      <th>Periodo</th>\n",
       "      <th>Total</th>\n",
       "    </tr>\n",
       "  </thead>\n",
       "  <tbody>\n",
       "    <tr>\n",
       "      <th>8217</th>\n",
       "      <td>Total Nacional</td>\n",
       "      <td>01 Andalucía</td>\n",
       "      <td>14 Córdoba</td>\n",
       "      <td>Viajero</td>\n",
       "      <td>Residentes en el Extranjero</td>\n",
       "      <td>2022-12</td>\n",
       "      <td>NaN</td>\n",
       "    </tr>\n",
       "    <tr>\n",
       "      <th>45417</th>\n",
       "      <td>Total Nacional</td>\n",
       "      <td>07 Castilla y León</td>\n",
       "      <td>05 Ávila</td>\n",
       "      <td>Viajero</td>\n",
       "      <td>NaN</td>\n",
       "      <td>2020-06</td>\n",
       "      <td>NaN</td>\n",
       "    </tr>\n",
       "    <tr>\n",
       "      <th>45418</th>\n",
       "      <td>Total Nacional</td>\n",
       "      <td>07 Castilla y León</td>\n",
       "      <td>05 Ávila</td>\n",
       "      <td>Viajero</td>\n",
       "      <td>NaN</td>\n",
       "      <td>2020-05</td>\n",
       "      <td>NaN</td>\n",
       "    </tr>\n",
       "    <tr>\n",
       "      <th>45732</th>\n",
       "      <td>Total Nacional</td>\n",
       "      <td>07 Castilla y León</td>\n",
       "      <td>05 Ávila</td>\n",
       "      <td>Viajero</td>\n",
       "      <td>Residentes en España</td>\n",
       "      <td>2020-06</td>\n",
       "      <td>NaN</td>\n",
       "    </tr>\n",
       "    <tr>\n",
       "      <th>45733</th>\n",
       "      <td>Total Nacional</td>\n",
       "      <td>07 Castilla y León</td>\n",
       "      <td>05 Ávila</td>\n",
       "      <td>Viajero</td>\n",
       "      <td>Residentes en España</td>\n",
       "      <td>2020-05</td>\n",
       "      <td>NaN</td>\n",
       "    </tr>\n",
       "    <tr>\n",
       "      <th>...</th>\n",
       "      <td>...</td>\n",
       "      <td>...</td>\n",
       "      <td>...</td>\n",
       "      <td>...</td>\n",
       "      <td>...</td>\n",
       "      <td>...</td>\n",
       "      <td>...</td>\n",
       "    </tr>\n",
       "    <tr>\n",
       "      <th>131413</th>\n",
       "      <td>Total Nacional</td>\n",
       "      <td>19 Melilla</td>\n",
       "      <td>NaN</td>\n",
       "      <td>Pernoctaciones</td>\n",
       "      <td>NaN</td>\n",
       "      <td>2020-05</td>\n",
       "      <td>NaN</td>\n",
       "    </tr>\n",
       "    <tr>\n",
       "      <th>131727</th>\n",
       "      <td>Total Nacional</td>\n",
       "      <td>19 Melilla</td>\n",
       "      <td>NaN</td>\n",
       "      <td>Pernoctaciones</td>\n",
       "      <td>Residentes en España</td>\n",
       "      <td>2020-06</td>\n",
       "      <td>NaN</td>\n",
       "    </tr>\n",
       "    <tr>\n",
       "      <th>131728</th>\n",
       "      <td>Total Nacional</td>\n",
       "      <td>19 Melilla</td>\n",
       "      <td>NaN</td>\n",
       "      <td>Pernoctaciones</td>\n",
       "      <td>Residentes en España</td>\n",
       "      <td>2020-05</td>\n",
       "      <td>NaN</td>\n",
       "    </tr>\n",
       "    <tr>\n",
       "      <th>132042</th>\n",
       "      <td>Total Nacional</td>\n",
       "      <td>19 Melilla</td>\n",
       "      <td>NaN</td>\n",
       "      <td>Pernoctaciones</td>\n",
       "      <td>Residentes en el Extranjero</td>\n",
       "      <td>2020-06</td>\n",
       "      <td>NaN</td>\n",
       "    </tr>\n",
       "    <tr>\n",
       "      <th>132043</th>\n",
       "      <td>Total Nacional</td>\n",
       "      <td>19 Melilla</td>\n",
       "      <td>NaN</td>\n",
       "      <td>Pernoctaciones</td>\n",
       "      <td>Residentes en el Extranjero</td>\n",
       "      <td>2020-05</td>\n",
       "      <td>NaN</td>\n",
       "    </tr>\n",
       "  </tbody>\n",
       "</table>\n",
       "<p>85 rows × 7 columns</p>\n",
       "</div>"
      ],
      "text/plain": [
       "       Totales Territoriales Comunidades y Ciudades Autónomas  Provincias  \\\n",
       "8217          Total Nacional                     01 Andalucía  14 Córdoba   \n",
       "45417         Total Nacional               07 Castilla y León    05 Ávila   \n",
       "45418         Total Nacional               07 Castilla y León    05 Ávila   \n",
       "45732         Total Nacional               07 Castilla y León    05 Ávila   \n",
       "45733         Total Nacional               07 Castilla y León    05 Ávila   \n",
       "...                      ...                              ...         ...   \n",
       "131413        Total Nacional                       19 Melilla         NaN   \n",
       "131727        Total Nacional                       19 Melilla         NaN   \n",
       "131728        Total Nacional                       19 Melilla         NaN   \n",
       "132042        Total Nacional                       19 Melilla         NaN   \n",
       "132043        Total Nacional                       19 Melilla         NaN   \n",
       "\n",
       "       Viajeros y pernoctaciones                   Residencia  Periodo  Total  \n",
       "8217                     Viajero  Residentes en el Extranjero  2022-12    NaN  \n",
       "45417                    Viajero                          NaN  2020-06    NaN  \n",
       "45418                    Viajero                          NaN  2020-05    NaN  \n",
       "45732                    Viajero         Residentes en España  2020-06    NaN  \n",
       "45733                    Viajero         Residentes en España  2020-05    NaN  \n",
       "...                          ...                          ...      ...    ...  \n",
       "131413            Pernoctaciones                          NaN  2020-05    NaN  \n",
       "131727            Pernoctaciones         Residentes en España  2020-06    NaN  \n",
       "131728            Pernoctaciones         Residentes en España  2020-05    NaN  \n",
       "132042            Pernoctaciones  Residentes en el Extranjero  2020-06    NaN  \n",
       "132043            Pernoctaciones  Residentes en el Extranjero  2020-05    NaN  \n",
       "\n",
       "[85 rows x 7 columns]"
      ]
     },
     "execution_count": 23,
     "metadata": {},
     "output_type": "execute_result"
    }
   ],
   "source": [
    "df_CA_Pro[df_CA_Pro['Total'].isna()]"
   ]
  }
 ],
 "metadata": {
  "kernelspec": {
   "display_name": "base",
   "language": "python",
   "name": "python3"
  },
  "language_info": {
   "codemirror_mode": {
    "name": "ipython",
    "version": 3
   },
   "file_extension": ".py",
   "mimetype": "text/x-python",
   "name": "python",
   "nbconvert_exporter": "python",
   "pygments_lexer": "ipython3",
   "version": "3.12.7"
  }
 },
 "nbformat": 4,
 "nbformat_minor": 5
}
