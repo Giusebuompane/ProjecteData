{
 "cells": [
  {
   "cell_type": "markdown",
   "id": "552206a9",
   "metadata": {},
   "source": [
    "### Librerias necesarias"
   ]
  },
  {
   "cell_type": "code",
   "execution_count": 21,
   "id": "cb90316f",
   "metadata": {},
   "outputs": [],
   "source": [
    "import mysql.connector\n",
    "import pandas as pd\n",
    "import numpy as np\n",
    "from datetime import datetime\n",
    "from mysql.connector import errorcode\n",
    "import matplotlib.pyplot as plt\n",
    "import seaborn as sns\n"
   ]
  },
  {
   "cell_type": "markdown",
   "id": "78272689",
   "metadata": {},
   "source": [
    "### Conexion a MySQL para extraer tabla"
   ]
  },
  {
   "cell_type": "code",
   "execution_count": 2,
   "id": "d64497ce",
   "metadata": {},
   "outputs": [
    {
     "name": "stdout",
     "output_type": "stream",
     "text": [
      "   apartment_id                                               name  \\\n",
      "0         11964                                 A ROOM WITH A VIEW   \n",
      "1         21853                               Bright and airy room   \n",
      "2         32347  Explore Cultural Sights from a Family-Friendly...   \n",
      "3         35379                  Double 02 CasanovaRooms Barcelona   \n",
      "4         35801                  Can Torras Farmhouse Studio Suite   \n",
      "\n",
      "                                         description  host_id  \\\n",
      "0  Private bedroom in our attic apartment. Right ...    45553   \n",
      "1  We have a quiet and sunny room with a good vie...    83531   \n",
      "2  Open French doors and step onto a plant-filled...   139939   \n",
      "3  Room at a my apartment. Kitchen and 2 bathroom...   152232   \n",
      "4  Lay in bed & watch sunlight change the mood of...   153805   \n",
      "\n",
      "                neighbourhood_name neighbourhood_district        room_type  \\\n",
      "0                           Centro                   None     Private room   \n",
      "1                         C�rmenes                 Latina     Private room   \n",
      "2                      San Vicente          Casco Antiguo  Entire home/apt   \n",
      "3  l'Antiga Esquerra de l'Eixample               Eixample     Private room   \n",
      "4                            Quart                   None     Private room   \n",
      "\n",
      "   accommodates bathrooms bedrooms  ...  review_scores_cleanliness  \\\n",
      "0             2         2        1  ...                      100.0   \n",
      "1             1         1        1  ...                       90.0   \n",
      "2             4         1        2  ...                      100.0   \n",
      "3             2         2        1  ...                       90.0   \n",
      "4             5         1        2  ...                      100.0   \n",
      "\n",
      "  review_scores_checkin  review_scores_communication  review_scores_location  \\\n",
      "0                 100.0                        100.0                   100.0   \n",
      "1                 100.0                        100.0                    80.0   \n",
      "2                 100.0                        100.0                   100.0   \n",
      "3                 100.0                        100.0                   100.0   \n",
      "4                 100.0                        100.0                   100.0   \n",
      "\n",
      "   review_scores_value is_instant_bookable  reviews_per_month  country  \\\n",
      "0                100.0               FALSO               75.0    spain   \n",
      "1                 90.0               FALSO               52.0    spain   \n",
      "2                100.0           VERDADERO              142.0    spain   \n",
      "3                 90.0           VERDADERO              306.0    spain   \n",
      "4                100.0               FALSO               39.0    spain   \n",
      "\n",
      "        city  insert_date  \n",
      "0     malaga   31/07/2018  \n",
      "1     madrid   10/01/2020  \n",
      "2    sevilla   29/07/2019  \n",
      "3  barcelona   10/01/2020  \n",
      "4     girona   19/02/2019  \n",
      "\n",
      "[5 rows x 35 columns]\n"
     ]
    }
   ],
   "source": [
    "try:\n",
    "    # Intentar conectar a la base de datos\n",
    "    cnx = mysql.connector.connect(\n",
    "        user='EquipoG',\n",
    "        password='E1q2u3i4p5oG',\n",
    "        database='Equip_G',\n",
    "        host='212.227.90.6',\n",
    "        charset='utf8mb4'\n",
    "    )\n",
    "    mycursor = cnx.cursor()  # Crear cursor\n",
    "\n",
    "    # Nombre de la tabla a extraer\n",
    "    tabla = \"Tourist_Accommodation\"\n",
    "\n",
    "    # Ejecutar consulta para obtener los datos\n",
    "    mycursor.execute(f\"SELECT * FROM {tabla}\")\n",
    "    columnas = [desc[0] for desc in mycursor.description]  # Obtener nombres de columnas\n",
    "    datos = mycursor.fetchall()  # Obtener datos\n",
    "\n",
    "    # Crear DataFrame\n",
    "    df = pd.DataFrame(datos, columns=columnas)\n",
    "\n",
    "    # Imprimir los primeros registros\n",
    "    print(df.head())\n",
    "\n",
    "except mysql.connector.Error as err:\n",
    "    # Manejo de errores específicos\n",
    "    if err.errno == errorcode.ER_ACCESS_DENIED_ERROR:\n",
    "        print(\"Usuario o contraseña incorrectos\")\n",
    "    elif err.errno == errorcode.ER_BAD_DB_ERROR:\n",
    "        print(\"La base de datos especificada no existe\")\n",
    "    else:\n",
    "        print(f\"Error inesperado: {err}\")\n",
    "\n",
    "finally:\n",
    "    # Cerrar conexión\n",
    "    try:\n",
    "        if 'mycursor' in locals() and mycursor:\n",
    "            mycursor.close()\n",
    "        if 'cnx' in locals() and cnx.is_connected():\n",
    "            cnx.close()\n",
    "    except Exception as e:\n",
    "        print(f\"Error al cerrar la conexión: {e}\")"
   ]
  },
  {
   "cell_type": "markdown",
   "id": "4e31931a",
   "metadata": {},
   "source": [
    "## Trabajo en Pandas"
   ]
  },
  {
   "cell_type": "markdown",
   "id": "40f80db8",
   "metadata": {},
   "source": [
    "### Comprobar dataset"
   ]
  },
  {
   "cell_type": "code",
   "execution_count": 3,
   "id": "b217f3d5",
   "metadata": {},
   "outputs": [
    {
     "name": "stdout",
     "output_type": "stream",
     "text": [
      "<class 'pandas.core.frame.DataFrame'>\n",
      "RangeIndex: 7001 entries, 0 to 7000\n",
      "Data columns (total 35 columns):\n",
      " #   Column                       Non-Null Count  Dtype  \n",
      "---  ------                       --------------  -----  \n",
      " 0   apartment_id                 7001 non-null   int64  \n",
      " 1   name                         6998 non-null   object \n",
      " 2   description                  6972 non-null   object \n",
      " 3   host_id                      7001 non-null   int64  \n",
      " 4   neighbourhood_name           7001 non-null   object \n",
      " 5   neighbourhood_district       4241 non-null   object \n",
      " 6   room_type                    7001 non-null   object \n",
      " 7   accommodates                 7001 non-null   int64  \n",
      " 8   bathrooms                    6969 non-null   object \n",
      " 9   bedrooms                     6972 non-null   object \n",
      " 10  beds                         6998 non-null   float64\n",
      " 11  amenities_list               6984 non-null   object \n",
      " 12  price                        6870 non-null   float64\n",
      " 13  minimum_nights               7001 non-null   int64  \n",
      " 14  maximum_nights               7001 non-null   int64  \n",
      " 15  has_availability             6451 non-null   object \n",
      " 16  availability_30              7001 non-null   int64  \n",
      " 17  availability_60              7001 non-null   int64  \n",
      " 18  availability_90              7001 non-null   int64  \n",
      " 19  availability_365             7001 non-null   int64  \n",
      " 20  number_of_reviews            7001 non-null   int64  \n",
      " 21  first_review_date            5747 non-null   object \n",
      " 22  last_review_date             5746 non-null   object \n",
      " 23  review_scores_rating         5674 non-null   float64\n",
      " 24  review_scores_accuracy       5665 non-null   float64\n",
      " 25  review_scores_cleanliness    5671 non-null   float64\n",
      " 26  review_scores_checkin        5660 non-null   float64\n",
      " 27  review_scores_communication  5669 non-null   float64\n",
      " 28  review_scores_location       5659 non-null   float64\n",
      " 29  review_scores_value          5659 non-null   float64\n",
      " 30  is_instant_bookable          7001 non-null   object \n",
      " 31  reviews_per_month            5747 non-null   float64\n",
      " 32  country                      7001 non-null   object \n",
      " 33  city                         7001 non-null   object \n",
      " 34  insert_date                  7001 non-null   object \n",
      "dtypes: float64(10), int64(10), object(15)\n",
      "memory usage: 1.9+ MB\n"
     ]
    }
   ],
   "source": [
    "df.info()"
   ]
  },
  {
   "cell_type": "markdown",
   "id": "9ba29200",
   "metadata": {},
   "source": [
    "### Cambio de tipo de datos de fechas"
   ]
  },
  {
   "cell_type": "code",
   "execution_count": 4,
   "id": "6ae61855",
   "metadata": {},
   "outputs": [],
   "source": [
    "df['first_review_date'] = pd.to_datetime(df['first_review_date'], format='%d/%m/%Y')\n",
    "df['insert_date'] = pd.to_datetime(df['insert_date'], format='%d/%m/%Y')\n",
    "df['last_review_date'] = pd.to_datetime(df['last_review_date'], format='%d/%m/%Y')"
   ]
  },
  {
   "cell_type": "markdown",
   "id": "616962a8",
   "metadata": {},
   "source": [
    "### Funcion para borrar duplicados basados en la fecha mas reciente"
   ]
  },
  {
   "cell_type": "code",
   "execution_count": 5,
   "id": "ffa3c07b",
   "metadata": {},
   "outputs": [],
   "source": [
    "def mantener_fecha_mas_reciente(df, columna_id, columna_fecha):\n",
    "    \"\"\"\n",
    "    Elimina duplicados basados en un ID, manteniendo la fila con la fecha más reciente.\n",
    "    \n",
    "    Parámetros:\n",
    "    df (DataFrame): El DataFrame que contiene los datos.\n",
    "    columna_id (str): El nombre de la columna que identifica los duplicados.\n",
    "    columna_fecha (str): El nombre de la columna que contiene las fechas.\n",
    "\n",
    "    Retorna:\n",
    "    DataFrame: Un nuevo DataFrame con los IDs únicos y sus fechas más recientes.\n",
    "    \"\"\"\n",
    "\n",
    "    # Ordenar por fecha descendente\n",
    "    df = df.sort_values(by=columna_fecha, ascending=False)\n",
    "\n",
    "    # Eliminar duplicados manteniendo el más reciente\n",
    "    df = df.drop_duplicates(subset=columna_id, keep='last')\n",
    "\n",
    "    return df\n",
    "\n"
   ]
  },
  {
   "cell_type": "markdown",
   "id": "cd9b4300",
   "metadata": {},
   "source": [
    "#### Numero de registros duplicados"
   ]
  },
  {
   "cell_type": "code",
   "execution_count": 6,
   "id": "ba997638",
   "metadata": {},
   "outputs": [
    {
     "name": "stdout",
     "output_type": "stream",
     "text": [
      "Registros duplicados: 268\n",
      "Registros que deberían quedar: 6733\n"
     ]
    }
   ],
   "source": [
    "total_registros = len(df)\n",
    "valores_unicos = df['apartment_id'].nunique()\n",
    "duplicados = total_registros - valores_unicos\n",
    "print(f\"Registros duplicados: {duplicados}\")\n",
    "print(f\"Registros que deberían quedar: {valores_unicos}\")"
   ]
  },
  {
   "cell_type": "markdown",
   "id": "70d83732",
   "metadata": {},
   "source": [
    "### Ejecutar funcion al dataset con el ID del apartamento y la fecha de insersion "
   ]
  },
  {
   "cell_type": "code",
   "execution_count": 17,
   "id": "56e08fd1",
   "metadata": {},
   "outputs": [
    {
     "name": "stdout",
     "output_type": "stream",
     "text": [
      "<class 'pandas.core.frame.DataFrame'>\n",
      "Index: 6733 entries, 4067 to 2456\n",
      "Data columns (total 35 columns):\n",
      " #   Column                       Non-Null Count  Dtype         \n",
      "---  ------                       --------------  -----         \n",
      " 0   apartment_id                 6733 non-null   int64         \n",
      " 1   name                         6730 non-null   object        \n",
      " 2   description                  6706 non-null   object        \n",
      " 3   host_id                      6733 non-null   int64         \n",
      " 4   neighbourhood_name           6733 non-null   object        \n",
      " 5   neighbourhood_district       4075 non-null   object        \n",
      " 6   room_type                    6733 non-null   object        \n",
      " 7   accommodates                 6733 non-null   int64         \n",
      " 8   bathrooms                    6706 non-null   object        \n",
      " 9   bedrooms                     6706 non-null   object        \n",
      " 10  beds                         6730 non-null   float64       \n",
      " 11  amenities_list               6716 non-null   object        \n",
      " 12  price                        6613 non-null   float64       \n",
      " 13  minimum_nights               6733 non-null   int64         \n",
      " 14  maximum_nights               6733 non-null   int64         \n",
      " 15  has_availability             6184 non-null   object        \n",
      " 16  availability_30              6733 non-null   int64         \n",
      " 17  availability_60              6733 non-null   int64         \n",
      " 18  availability_90              6733 non-null   int64         \n",
      " 19  availability_365             6733 non-null   int64         \n",
      " 20  number_of_reviews            6733 non-null   int64         \n",
      " 21  first_review_date            5516 non-null   datetime64[ns]\n",
      " 22  last_review_date             5515 non-null   datetime64[ns]\n",
      " 23  review_scores_rating         5446 non-null   float64       \n",
      " 24  review_scores_accuracy       5437 non-null   float64       \n",
      " 25  review_scores_cleanliness    5443 non-null   float64       \n",
      " 26  review_scores_checkin        5432 non-null   float64       \n",
      " 27  review_scores_communication  5441 non-null   float64       \n",
      " 28  review_scores_location       5431 non-null   float64       \n",
      " 29  review_scores_value          5431 non-null   float64       \n",
      " 30  is_instant_bookable          6733 non-null   object        \n",
      " 31  reviews_per_month            5516 non-null   float64       \n",
      " 32  country                      6733 non-null   object        \n",
      " 33  city                         6733 non-null   object        \n",
      " 34  insert_date                  6733 non-null   datetime64[ns]\n",
      "dtypes: datetime64[ns](3), float64(10), int64(10), object(12)\n",
      "memory usage: 1.8+ MB\n"
     ]
    }
   ],
   "source": [
    "df = mantener_fecha_mas_reciente(df, columna_id='apartment_id', columna_fecha='insert_date')\n",
    "df.info()"
   ]
  },
  {
   "cell_type": "markdown",
   "id": "b627bf34",
   "metadata": {},
   "source": [
    "### Normalizacion de \"Amenities\""
   ]
  },
  {
   "cell_type": "markdown",
   "id": "8e2d2608",
   "metadata": {},
   "source": [
    "#### Diccionario de equivalencias "
   ]
  },
  {
   "cell_type": "code",
   "execution_count": 8,
   "id": "79b071bc",
   "metadata": {},
   "outputs": [],
   "source": [
    "equivalencias = {\n",
    "    # Categoría: Conectividad\n",
    "    \"wifi\": [\"wifi\", \"wi-fi\", \"wireless connection\", \"wireless internet\", \"wifi – 100 mbps\", \"pocket wifi\"],\n",
    "    \n",
    "    # Categoría: Entretenimiento\n",
    "    \"tv\": [\"tv\", \"television\", \"cable tv\", \"smart tv\", \"netflix\", \"43 hdtv with netflix\", \"dvd player\"],\n",
    "    \n",
    "    # Categoría: Climatización\n",
    "    \"air conditioning\": [\"air conditioning\", \"ac\", \"central air conditioning\", \"ceiling fan\"],\n",
    "    \"heating\": [\"heating\", \"central heating\"],\n",
    "\n",
    "    # Categoría: Cocina\n",
    "    \"nespresso machine\": [\"nespresso machine\", \"espresso machine\", \"coffee maker\", \"pour-over coffee\", \"pour over coffee\"],\n",
    "    \"oven\": [\"oven\", \"convection oven\", \"stainless steel oven\", \"double oven\"],\n",
    "    \"stove\": [\"stove\", \"electric stove\", \"gas oven\", \"stainless steel stove\"],\n",
    "    \"toaster\": [\"toaster\", \"bread maker\"],\n",
    "    \"baking sheet\": [\"baking sheet\"],\n",
    "    \"dishwasher\": [\"dishwasher\"],\n",
    "    \"kitchen\": [\"kitchen\", \"full kitchen\", \"chef's kitchen\", \"kitchenette\", \"cooking basics\"],\n",
    "    \"microwave\": [\"microwave\", \"microwave oven\"],\n",
    "\n",
    "    # Categoría: Habitaciones y camas\n",
    "    \"bed linens\": [\"bed linens\", \"extra pillows and blankets\", \"memory foam mattress\", \"pillow-top mattress\", \"firm mattress\"],\n",
    "    \"crib\": [\"crib\", \"pack u2019n play/travel crib\", \"pack 'n play/travel crib\"],\n",
    "\n",
    "    # Categoría: Baños\n",
    "    \"bathtub\": [\"bathtub\", \"soaking tub\", \"hot tub\"],\n",
    "    \"shower\": [\"roll-in shower\", \"rain shower\", \"shower chair\", \"step-free shower\", \"handheld shower head\"],\n",
    "    \"bathroom essentials\": [\"toilet paper\", \"conditioner\", \"shampoo\", \"body soap\", \"bathroom essentials\"],\n",
    "    \"hot water\": [\"hot water\", \"hot water kettle\"],\n",
    "\n",
    "    # Categoría: Accesibilidad\n",
    "    \"wheelchair accessible\": [\"wheelchair accessible\", \"flat path to guest entrance\", \"no stairs or steps to enter\", \"step-free access\"],\n",
    "    \"wide clearance\": [\"wide clearance to shower & toilet\", \"wide clearance to bed\", \"wide doorway\", \"wide hallways\"],\n",
    "    \"accessible-height bed\": [\"accessible-height bed\", \"accessible-height toilet\"],\n",
    "\n",
    "    # Categoría: Exterior\n",
    "    \"balcony\": [\"balcony\", \"patio or balcony\"],\n",
    "    \"garden or backyard\": [\"garden or backyard\", \"shared garden or backyard\"],\n",
    "    \"outdoor seating\": [\"outdoor seating\", \"terrace\", \"bbq grill\"],\n",
    "    \"beachfront\": [\"beachfront\", \"beach essentials\", \"waterfront\"],\n",
    "\n",
    "    # Categoría: Niños y familia\n",
    "    \"children's amenities\": [\"children s books and toys\", \"children s dinnerware\", \"baby bath\", \"changing table\", \"stair gates\", \"table corner guards\"],\n",
    "    \"high chair\": [\"high chair\"],\n",
    "\n",
    "    # Categoría: Seguridad\n",
    "    \"fire safety\": [\"fire extinguisher\", \"smoke alarm\", \"carbon monoxide alarm\", \"carbon monoxide detector\", \"fireplace guards\"],\n",
    "    \"security system\": [\"security system\"],\n",
    "\n",
    "    # Categoría: Gimnasio y lujo\n",
    "    \"gym\": [\"gym\", \"exercise equipment\"],\n",
    "    \"bluetooth sound system\": [\"bluetooth sound system\", \"sound system\"],\n",
    "    \"heated towel rack\": [\"heated towel rack\"],\n",
    "    \"wine glasses\": [\"wine glasses\"],\n",
    "\n",
    "    # Categoría: Estacionamiento\n",
    "    \"free parking\": [\"free parking on premises\", \"free parking on street\", \"free street parking\"],\n",
    "    \"paid parking\": [\"paid parking on premises\", \"paid parking off premises\", \"paid parking garage\"],\n",
    "\n",
    "    # Categoría: Otros\n",
    "    \"iron\": [\"iron\", \"ironing board\"],\n",
    "    \"workspace\": [\"dedicated workspace\", \"laptop-friendly workspace\", \"office\", \"printer\"],\n",
    "    \"lockbox\": [\"lockbox\"],\n",
    "    \"hangers\": [\"hangers\"]\n",
    "}\n",
    "# Se puede actualizar el diccionario, segun se ingresen mas caracteristicas \n",
    "\n"
   ]
  },
  {
   "cell_type": "markdown",
   "id": "906daeb6",
   "metadata": {},
   "source": [
    "#### Funcion que normaliza las amenities\n"
   ]
  },
  {
   "cell_type": "code",
   "execution_count": 13,
   "id": "fd693895",
   "metadata": {},
   "outputs": [],
   "source": [
    "def normalizar_amenities(amenities, equivalencias):\n",
    "    if not amenities:  # Si 'amenities' es None o está vacío\n",
    "        return ''  # Retornamos un string vacío\n",
    "    normalized = set()  # Usamos un conjunto para evitar duplicados\n",
    "    for amenity in amenities.split(','):  # Dividimos por comas las amenidades\n",
    "        matched = False\n",
    "        for key, synonyms in equivalencias.items():\n",
    "            for synonym in synonyms:\n",
    "                if synonym.lower() in amenity.lower().strip():\n",
    "                    normalized.add(key)\n",
    "                    matched = True\n",
    "                    break\n",
    "        if not matched:  # Si no coincide con ninguna clave del diccionario\n",
    "            normalized.add(amenity.lower().strip())  # Agregamos la amenidad como está\n",
    "    return ', '.join(normalized)  # Retornamos las amenidades normalizadas"
   ]
  },
  {
   "cell_type": "markdown",
   "id": "514c70c6",
   "metadata": {},
   "source": [
    "#### Normalizamos las amenities y creamos una nueva columna con las amenities normalizadas "
   ]
  },
  {
   "cell_type": "code",
   "execution_count": 18,
   "id": "58f61e6b",
   "metadata": {},
   "outputs": [
    {
     "data": {
      "text/html": [
       "<div>\n",
       "<style scoped>\n",
       "    .dataframe tbody tr th:only-of-type {\n",
       "        vertical-align: middle;\n",
       "    }\n",
       "\n",
       "    .dataframe tbody tr th {\n",
       "        vertical-align: top;\n",
       "    }\n",
       "\n",
       "    .dataframe thead th {\n",
       "        text-align: right;\n",
       "    }\n",
       "</style>\n",
       "<table border=\"1\" class=\"dataframe\">\n",
       "  <thead>\n",
       "    <tr style=\"text-align: right;\">\n",
       "      <th></th>\n",
       "      <th>normalized_amenities</th>\n",
       "      <th>amenities_list</th>\n",
       "    </tr>\n",
       "  </thead>\n",
       "  <tbody>\n",
       "    <tr>\n",
       "      <th>4067</th>\n",
       "      <td>nespresso machine, microwave, free parking, he...</td>\n",
       "      <td>Cooking basics, Hair dryer, Heating, TV, Bed l...</td>\n",
       "    </tr>\n",
       "    <tr>\n",
       "      <th>5294</th>\n",
       "      <td>balcony, nespresso machine, microwave, smart l...</td>\n",
       "      <td>Essentials, Kitchen, Hair dryer, Bed linens, T...</td>\n",
       "    </tr>\n",
       "    <tr>\n",
       "      <th>461</th>\n",
       "      <td>crib, nespresso machine, free parking, microwa...</td>\n",
       "      <td>Waterfront, Pack u2019n Play/travel crib, Pati...</td>\n",
       "    </tr>\n",
       "    <tr>\n",
       "      <th>5637</th>\n",
       "      <td>host greets you, nespresso machine, microwave,...</td>\n",
       "      <td>Bathtub, Free parking on premises, Free street...</td>\n",
       "    </tr>\n",
       "    <tr>\n",
       "      <th>5078</th>\n",
       "      <td>crib, heating, washer, wifi, workspace, tv, ba...</td>\n",
       "      <td>Lockbox, Air conditioning, Carbon monoxide ala...</td>\n",
       "    </tr>\n",
       "  </tbody>\n",
       "</table>\n",
       "</div>"
      ],
      "text/plain": [
       "                                   normalized_amenities  \\\n",
       "4067  nespresso machine, microwave, free parking, he...   \n",
       "5294  balcony, nespresso machine, microwave, smart l...   \n",
       "461   crib, nespresso machine, free parking, microwa...   \n",
       "5637  host greets you, nespresso machine, microwave,...   \n",
       "5078  crib, heating, washer, wifi, workspace, tv, ba...   \n",
       "\n",
       "                                         amenities_list  \n",
       "4067  Cooking basics, Hair dryer, Heating, TV, Bed l...  \n",
       "5294  Essentials, Kitchen, Hair dryer, Bed linens, T...  \n",
       "461   Waterfront, Pack u2019n Play/travel crib, Pati...  \n",
       "5637  Bathtub, Free parking on premises, Free street...  \n",
       "5078  Lockbox, Air conditioning, Carbon monoxide ala...  "
      ]
     },
     "execution_count": 18,
     "metadata": {},
     "output_type": "execute_result"
    }
   ],
   "source": [
    "# Aplicamos la función a la columna 'amenities'\n",
    "df['normalized_amenities'] = df['amenities_list'].apply(lambda x: normalizar_amenities(x, equivalencias))\n",
    "\n",
    "# Mostramos el resultado\n",
    "df[['normalized_amenities', 'amenities_list']].head()"
   ]
  },
  {
   "cell_type": "markdown",
   "id": "133a3bf5",
   "metadata": {},
   "source": [
    "#### Mostrar la diferencia entre amenities unicas con y sin normalizar"
   ]
  },
  {
   "cell_type": "code",
   "execution_count": 19,
   "id": "f05b5536",
   "metadata": {},
   "outputs": [
    {
     "name": "stdout",
     "output_type": "stream",
     "text": [
      "Amenidades originales únicas: 308\n",
      "Amenidades normalizadas únicas: 180\n"
     ]
    }
   ],
   "source": [
    "# Extraer las amenidades originales únicas\n",
    "amenidades_originales = set()\n",
    "df['amenities_list'].dropna().apply(lambda x: [amenidades_originales.add(i.strip().lower()) for i in x.split(',')])\n",
    "\n",
    "# Extraer las amenidades normalizadas únicas\n",
    "amenidades_normalizadas = set()\n",
    "df['normalized_amenities'].dropna().apply(lambda x: [amenidades_normalizadas.add(i.strip().lower()) for i in x.split(',')])\n",
    "\n",
    "# Mostrar las amenidades únicas\n",
    "print(\"Amenidades originales únicas:\", len(amenidades_originales))\n",
    "print(\"Amenidades normalizadas únicas:\", len(amenidades_normalizadas))"
   ]
  },
  {
   "cell_type": "markdown",
   "id": "5a44c2f2",
   "metadata": {},
   "source": [
    "### Imputamos valor a los precios nulos"
   ]
  },
  {
   "cell_type": "markdown",
   "id": "69243041",
   "metadata": {},
   "source": [
    "#### Exploración de los precios."
   ]
  },
  {
   "cell_type": "code",
   "execution_count": 20,
   "id": "a0e3a1fa",
   "metadata": {},
   "outputs": [
    {
     "data": {
      "text/html": [
       "<div>\n",
       "<style scoped>\n",
       "    .dataframe tbody tr th:only-of-type {\n",
       "        vertical-align: middle;\n",
       "    }\n",
       "\n",
       "    .dataframe tbody tr th {\n",
       "        vertical-align: top;\n",
       "    }\n",
       "\n",
       "    .dataframe thead th {\n",
       "        text-align: right;\n",
       "    }\n",
       "</style>\n",
       "<table border=\"1\" class=\"dataframe\">\n",
       "  <thead>\n",
       "    <tr style=\"text-align: right;\">\n",
       "      <th></th>\n",
       "      <th>apartment_id</th>\n",
       "      <th>price</th>\n",
       "    </tr>\n",
       "  </thead>\n",
       "  <tbody>\n",
       "    <tr>\n",
       "      <th>count</th>\n",
       "      <td>6.733000e+03</td>\n",
       "      <td>6613.000000</td>\n",
       "    </tr>\n",
       "    <tr>\n",
       "      <th>mean</th>\n",
       "      <td>1.512717e+07</td>\n",
       "      <td>1009.924996</td>\n",
       "    </tr>\n",
       "    <tr>\n",
       "      <th>std</th>\n",
       "      <td>7.729288e+06</td>\n",
       "      <td>845.926762</td>\n",
       "    </tr>\n",
       "    <tr>\n",
       "      <th>min</th>\n",
       "      <td>1.196400e+04</td>\n",
       "      <td>60.000000</td>\n",
       "    </tr>\n",
       "    <tr>\n",
       "      <th>25%</th>\n",
       "      <td>8.699662e+06</td>\n",
       "      <td>450.000000</td>\n",
       "    </tr>\n",
       "    <tr>\n",
       "      <th>50%</th>\n",
       "      <td>1.677280e+07</td>\n",
       "      <td>750.000000</td>\n",
       "    </tr>\n",
       "    <tr>\n",
       "      <th>75%</th>\n",
       "      <td>2.148062e+07</td>\n",
       "      <td>1220.000000</td>\n",
       "    </tr>\n",
       "    <tr>\n",
       "      <th>max</th>\n",
       "      <td>2.724512e+07</td>\n",
       "      <td>6071.000000</td>\n",
       "    </tr>\n",
       "  </tbody>\n",
       "</table>\n",
       "</div>"
      ],
      "text/plain": [
       "       apartment_id        price\n",
       "count  6.733000e+03  6613.000000\n",
       "mean   1.512717e+07  1009.924996\n",
       "std    7.729288e+06   845.926762\n",
       "min    1.196400e+04    60.000000\n",
       "25%    8.699662e+06   450.000000\n",
       "50%    1.677280e+07   750.000000\n",
       "75%    2.148062e+07  1220.000000\n",
       "max    2.724512e+07  6071.000000"
      ]
     },
     "execution_count": 20,
     "metadata": {},
     "output_type": "execute_result"
    }
   ],
   "source": [
    "df[['apartment_id','price']].describe()"
   ]
  },
  {
   "cell_type": "markdown",
   "id": "54f68001",
   "metadata": {},
   "source": [
    "Tenemos los precios de 6613 de los 6733 apartementos regristrados, con lo que 120 registros no tienen precio. O bien, lo que vendría siendo el 1.78% de los registros."
   ]
  },
  {
   "cell_type": "code",
   "execution_count": 22,
   "id": "5b7b788f",
   "metadata": {},
   "outputs": [
    {
     "data": {
      "image/png": "[encoded data removed]",
      "text/plain": [
       "<Figure size 2000x1000 with 2 Axes>"
      ]
     },
     "metadata": {},
     "output_type": "display_data"
    }
   ],
   "source": [
    "media_precio = df['price'].mean()\n",
    "mediana_precio = df['price'].median()\n",
    "\n",
    "sns.set_theme(context='talk', style='darkgrid')\n",
    "fig, axes = plt.subplots(nrows=2, ncols=1, figsize=(20, 10), sharex=True)\n",
    "\n",
    "sns.histplot(df['price'].dropna(), bins=30, kde=True, ax=axes[0], color='skyblue')\n",
    "axes[0].axvline(media_precio, color='green', linestyle='--', linewidth=1.5, label=f'Media: {media_precio:.2f}')\n",
    "axes[0].axvline(mediana_precio, color='purple', linestyle='-', linewidth=1.5, label=f'Mediana: {mediana_precio:.2f}')\n",
    "axes[0].set_title('Histograma de precios')\n",
    "axes[0].set_ylabel('Frecuencia')\n",
    "axes[0].legend()\n",
    "\n",
    "sns.boxplot(x=df['price'].dropna(), ax=axes[1], color='lightcoral')\n",
    "axes[1].axvline(media_precio, color='green', linestyle='--', linewidth=1.5)\n",
    "axes[1].axvline(mediana_precio, color='purple', linestyle='-', linewidth=1.5)\n",
    "axes[1].set_title('Violinplot de precios')\n",
    "\n",
    "plt.tight_layout()\n",
    "plt.show()"
   ]
  },
  {
   "cell_type": "markdown",
   "id": "ef79d00c",
   "metadata": {},
   "source": [
    "Insights:\n",
    "* Vemos que la distribución es asimétrica, con una cola larga de outliers a la derecha y con la mayoría de los precios hacia la izquierda. \n",
    "* Los outliers son de precios altos, más allá de 3.000 € y hasta 6.000 €.\n",
    "* La mediana (750 €) está por debajo de la media (1009,92 €), lo cual confirma el sesgo positivo."
   ]
  },
  {
   "cell_type": "markdown",
   "id": "9bf2a82f",
   "metadata": {},
   "source": [
    "#### Imputación\n",
    "En este contexto, imputar por la media no sería lo ideal porque se vería muy influenciada por outliers.   \n",
    "Por lo que optamos por imputar usando la mediana por ciudad, tipo de habitación y accomodates. Esto es simple pero efectivo."
   ]
  },
  {
   "cell_type": "code",
   "execution_count": 23,
   "id": "fa1c7e0a",
   "metadata": {},
   "outputs": [],
   "source": [
    "# Imputar mediana por grupos especificos.\n",
    "df['price'] = df.groupby(['city', 'room_type', 'accommodates'])['price'].transform(\n",
    "    lambda x: x.fillna(x.median()))"
   ]
  },
  {
   "cell_type": "code",
   "execution_count": 25,
   "id": "a7f5e7d9",
   "metadata": {},
   "outputs": [
    {
     "name": "stdout",
     "output_type": "stream",
     "text": [
      "Hay 6 precios con valores nulos\n"
     ]
    }
   ],
   "source": [
    "print(f'Hay {df['price'].isnull().sum()} precios con valores nulos')"
   ]
  },
  {
   "cell_type": "code",
   "execution_count": 26,
   "id": "950b2b75",
   "metadata": {},
   "outputs": [],
   "source": [
    "# Imputar mediana por grupos más generales.\n",
    "df['price'] = df.groupby(['city', 'room_type'])['price'].transform(\n",
    "    lambda x: x.fillna(x.median()))"
   ]
  },
  {
   "cell_type": "markdown",
   "id": "bdaf8e2b",
   "metadata": {},
   "source": [
    "La primera ejecucion del código resulto en grupos que seguían teniedo valores nulos en 6 registros, por eso agregamos una segunda parte con un grupo más general para estos casos (sin tomar en cuenta los 'accommodates', solo ciudad y tipo de habitacion)."
   ]
  },
  {
   "cell_type": "markdown",
   "id": "c9939ce6",
   "metadata": {},
   "source": [
    "#### Comprobación rápida."
   ]
  },
  {
   "cell_type": "code",
   "execution_count": 28,
   "id": "f21dc785",
   "metadata": {},
   "outputs": [
    {
     "name": "stdout",
     "output_type": "stream",
     "text": [
      "Hay 0 precios con valores nulos\n"
     ]
    }
   ],
   "source": [
    "print(f'Hay {df['price'].isnull().sum()} precios con valores nulos')"
   ]
  }
 ],
 "metadata": {
  "kernelspec": {
   "display_name": "base",
   "language": "python",
   "name": "python3"
  },
  "language_info": {
   "codemirror_mode": {
    "name": "ipython",
    "version": 3
   },
   "file_extension": ".py",
   "mimetype": "text/x-python",
   "name": "python",
   "nbconvert_exporter": "python",
   "pygments_lexer": "ipython3",
   "version": "3.12.7"
  }
 },
 "nbformat": 4,
 "nbformat_minor": 5
}
