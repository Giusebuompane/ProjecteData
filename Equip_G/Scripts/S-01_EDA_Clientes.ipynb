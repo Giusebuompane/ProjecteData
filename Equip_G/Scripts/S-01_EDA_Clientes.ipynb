{
 "cells": [
  {
   "cell_type": "markdown",
   "id": "427784cf",
   "metadata": {},
   "source": [
    "Librerías\n"
   ]
  },
  {
   "cell_type": "code",
   "execution_count": 1,
   "id": "154e96f5",
   "metadata": {},
   "outputs": [],
   "source": [
    "#Importamos la librería para leer el fichero con los datos de conexión a la base de datos:\n",
    "import os\n",
    "from dotenv import load_dotenv\n",
    "\n",
    "#Importamos las librerías necesarias para manejar los datos y crear las gráficas:\n",
    "\n",
    "import pandas as pd\n",
    "import numpy as np\n",
    "import matplotlib.pyplot as plt\n",
    "import seaborn as sns\n",
    "\n",
    "#Importamos las librerías necesarias para la conexión con la base de datos:\n",
    "\n",
    "import mysql.connector as sql\n",
    "from mysql.connector import Error\n",
    "\n",
    "from sqlalchemy import create_engine\n",
    "\n",
    "#Importación librería plotly para el gráfico de red de araña/radar\n",
    "import plotly.graph_objects as go\n",
    "import plotly.express as px"
   ]
  },
  {
   "cell_type": "code",
   "execution_count": 2,
   "id": "3f0365c2",
   "metadata": {},
   "outputs": [
    {
     "data": {
      "text/plain": [
       "'c:\\\\Users\\\\Usuario\\\\Documents\\\\Data Analytics\\\\ProjecteIT\\\\ProjecteData\\\\Equip_G\\\\Scripts'"
      ]
     },
     "execution_count": 2,
     "metadata": {},
     "output_type": "execute_result"
    }
   ],
   "source": [
    "diractual = os.getcwd()\n",
    "diractual"
   ]
  },
  {
   "cell_type": "markdown",
   "id": "537782ae",
   "metadata": {},
   "source": [
    "Importación del csv del dataframe de limpieza.\n",
    "\n",
    "Esta celda y la siguiente se pueden eliminar en caso de fusionarla con otros scripts."
   ]
  },
  {
   "cell_type": "code",
   "execution_count": 3,
   "id": "28b96ae2",
   "metadata": {},
   "outputs": [],
   "source": [
    "df = pd.read_csv(r'../Data/2025_04_10_Sprint01.csv')"
   ]
  },
  {
   "cell_type": "code",
   "execution_count": 4,
   "id": "1e1f6d98",
   "metadata": {},
   "outputs": [
    {
     "data": {
      "text/html": [
       "<div>\n",
       "<style scoped>\n",
       "    .dataframe tbody tr th:only-of-type {\n",
       "        vertical-align: middle;\n",
       "    }\n",
       "\n",
       "    .dataframe tbody tr th {\n",
       "        vertical-align: top;\n",
       "    }\n",
       "\n",
       "    .dataframe thead th {\n",
       "        text-align: right;\n",
       "    }\n",
       "</style>\n",
       "<table border=\"1\" class=\"dataframe\">\n",
       "  <thead>\n",
       "    <tr style=\"text-align: right;\">\n",
       "      <th></th>\n",
       "      <th>apartment_id</th>\n",
       "      <th>name</th>\n",
       "      <th>description</th>\n",
       "      <th>host_id</th>\n",
       "      <th>neighbourhood_name</th>\n",
       "      <th>neighbourhood_district</th>\n",
       "      <th>room_type</th>\n",
       "      <th>accommodates</th>\n",
       "      <th>bathrooms</th>\n",
       "      <th>bedrooms</th>\n",
       "      <th>...</th>\n",
       "      <th>review_scores_location</th>\n",
       "      <th>review_scores_value</th>\n",
       "      <th>is_instant_bookable</th>\n",
       "      <th>reviews_per_month</th>\n",
       "      <th>country</th>\n",
       "      <th>city</th>\n",
       "      <th>insert_date</th>\n",
       "      <th>normalized_amenities</th>\n",
       "      <th>days_occupied</th>\n",
       "      <th>occupancy_rate</th>\n",
       "    </tr>\n",
       "  </thead>\n",
       "  <tbody>\n",
       "    <tr>\n",
       "      <th>4067</th>\n",
       "      <td>18263766</td>\n",
       "      <td>Apartamento 1a linea mar con parquing</td>\n",
       "      <td>Apartamento de 90 m2, primera l�nea de mar, en...</td>\n",
       "      <td>126077779</td>\n",
       "      <td>Castell-Platja d'Aro</td>\n",
       "      <td>NaN</td>\n",
       "      <td>Entire home/apt</td>\n",
       "      <td>6</td>\n",
       "      <td>2.0</td>\n",
       "      <td>3.0</td>\n",
       "      <td>...</td>\n",
       "      <td>100.0</td>\n",
       "      <td>90.0</td>\n",
       "      <td>FALSO</td>\n",
       "      <td>101.0</td>\n",
       "      <td>spain</td>\n",
       "      <td>girona</td>\n",
       "      <td>2021-02-27</td>\n",
       "      <td>elevator, washer, workspace, nespresso machine...</td>\n",
       "      <td>1</td>\n",
       "      <td>3.333333</td>\n",
       "    </tr>\n",
       "    <tr>\n",
       "      <th>5294</th>\n",
       "      <td>21577762</td>\n",
       "      <td>Rustic Chic Studio Downtown (C80)</td>\n",
       "      <td>Welcome to our brand new apartment in the cent...</td>\n",
       "      <td>5890675</td>\n",
       "      <td>Centro</td>\n",
       "      <td>NaN</td>\n",
       "      <td>Entire home/apt</td>\n",
       "      <td>2</td>\n",
       "      <td>1.0</td>\n",
       "      <td>1.0</td>\n",
       "      <td>...</td>\n",
       "      <td>100.0</td>\n",
       "      <td>100.0</td>\n",
       "      <td>VERDADERO</td>\n",
       "      <td>245.0</td>\n",
       "      <td>spain</td>\n",
       "      <td>malaga</td>\n",
       "      <td>2021-02-27</td>\n",
       "      <td>kitchen, air conditioning, essentials, smart l...</td>\n",
       "      <td>30</td>\n",
       "      <td>100.000000</td>\n",
       "    </tr>\n",
       "    <tr>\n",
       "      <th>461</th>\n",
       "      <td>1584877</td>\n",
       "      <td>Sea view penthouse in Calan Porter</td>\n",
       "      <td>Lovely and cozy sea view penthouse in the resi...</td>\n",
       "      <td>8443770</td>\n",
       "      <td>Alaior</td>\n",
       "      <td>NaN</td>\n",
       "      <td>Entire home/apt</td>\n",
       "      <td>4</td>\n",
       "      <td>1.0</td>\n",
       "      <td>2.0</td>\n",
       "      <td>...</td>\n",
       "      <td>90.0</td>\n",
       "      <td>90.0</td>\n",
       "      <td>VERDADERO</td>\n",
       "      <td>55.0</td>\n",
       "      <td>spain</td>\n",
       "      <td>menorca</td>\n",
       "      <td>2021-02-27</td>\n",
       "      <td>washer, bathroom essentials, nespresso machine...</td>\n",
       "      <td>0</td>\n",
       "      <td>0.000000</td>\n",
       "    </tr>\n",
       "    <tr>\n",
       "      <th>5637</th>\n",
       "      <td>22626728</td>\n",
       "      <td>Atic Colera</td>\n",
       "      <td>Atico con mucha mucha luz, con 2 terrazas exte...</td>\n",
       "      <td>166569559</td>\n",
       "      <td>Colera</td>\n",
       "      <td>NaN</td>\n",
       "      <td>Entire home/apt</td>\n",
       "      <td>6</td>\n",
       "      <td>2.0</td>\n",
       "      <td>3.0</td>\n",
       "      <td>...</td>\n",
       "      <td>100.0</td>\n",
       "      <td>100.0</td>\n",
       "      <td>FALSO</td>\n",
       "      <td>31.0</td>\n",
       "      <td>spain</td>\n",
       "      <td>girona</td>\n",
       "      <td>2021-02-27</td>\n",
       "      <td>elevator, washer, workspace, bathroom essentia...</td>\n",
       "      <td>2</td>\n",
       "      <td>6.666667</td>\n",
       "    </tr>\n",
       "    <tr>\n",
       "      <th>5078</th>\n",
       "      <td>20854917</td>\n",
       "      <td>Estudio para 2 personas zona Arenal</td>\n",
       "      <td>Este estudio de 25 m2 presenta una decoraci�n ...</td>\n",
       "      <td>137959507</td>\n",
       "      <td>Arenal</td>\n",
       "      <td>Casco Antiguo</td>\n",
       "      <td>Hotel room</td>\n",
       "      <td>2</td>\n",
       "      <td>1.0</td>\n",
       "      <td>1.0</td>\n",
       "      <td>...</td>\n",
       "      <td>100.0</td>\n",
       "      <td>100.0</td>\n",
       "      <td>VERDADERO</td>\n",
       "      <td>4.0</td>\n",
       "      <td>spain</td>\n",
       "      <td>sevilla</td>\n",
       "      <td>2021-02-27</td>\n",
       "      <td>elevator, washer, first aid kit, workspace, ba...</td>\n",
       "      <td>5</td>\n",
       "      <td>16.666667</td>\n",
       "    </tr>\n",
       "  </tbody>\n",
       "</table>\n",
       "<p>5 rows × 38 columns</p>\n",
       "</div>"
      ],
      "text/plain": [
       "      apartment_id                                   name  \\\n",
       "4067      18263766  Apartamento 1a linea mar con parquing   \n",
       "5294      21577762      Rustic Chic Studio Downtown (C80)   \n",
       "461        1584877     Sea view penthouse in Calan Porter   \n",
       "5637      22626728                            Atic Colera   \n",
       "5078      20854917    Estudio para 2 personas zona Arenal   \n",
       "\n",
       "                                            description    host_id  \\\n",
       "4067  Apartamento de 90 m2, primera l�nea de mar, en...  126077779   \n",
       "5294  Welcome to our brand new apartment in the cent...    5890675   \n",
       "461   Lovely and cozy sea view penthouse in the resi...    8443770   \n",
       "5637  Atico con mucha mucha luz, con 2 terrazas exte...  166569559   \n",
       "5078  Este estudio de 25 m2 presenta una decoraci�n ...  137959507   \n",
       "\n",
       "        neighbourhood_name neighbourhood_district        room_type  \\\n",
       "4067  Castell-Platja d'Aro                    NaN  Entire home/apt   \n",
       "5294                Centro                    NaN  Entire home/apt   \n",
       "461                 Alaior                    NaN  Entire home/apt   \n",
       "5637                Colera                    NaN  Entire home/apt   \n",
       "5078                Arenal          Casco Antiguo       Hotel room   \n",
       "\n",
       "      accommodates  bathrooms  bedrooms  ...  review_scores_location  \\\n",
       "4067             6        2.0       3.0  ...                   100.0   \n",
       "5294             2        1.0       1.0  ...                   100.0   \n",
       "461              4        1.0       2.0  ...                    90.0   \n",
       "5637             6        2.0       3.0  ...                   100.0   \n",
       "5078             2        1.0       1.0  ...                   100.0   \n",
       "\n",
       "     review_scores_value  is_instant_bookable  reviews_per_month  country  \\\n",
       "4067                90.0                FALSO              101.0    spain   \n",
       "5294               100.0            VERDADERO              245.0    spain   \n",
       "461                 90.0            VERDADERO               55.0    spain   \n",
       "5637               100.0                FALSO               31.0    spain   \n",
       "5078               100.0            VERDADERO                4.0    spain   \n",
       "\n",
       "         city  insert_date                               normalized_amenities  \\\n",
       "4067   girona   2021-02-27  elevator, washer, workspace, nespresso machine...   \n",
       "5294   malaga   2021-02-27  kitchen, air conditioning, essentials, smart l...   \n",
       "461   menorca   2021-02-27  washer, bathroom essentials, nespresso machine...   \n",
       "5637   girona   2021-02-27  elevator, washer, workspace, bathroom essentia...   \n",
       "5078  sevilla   2021-02-27  elevator, washer, first aid kit, workspace, ba...   \n",
       "\n",
       "      days_occupied  occupancy_rate  \n",
       "4067              1        3.333333  \n",
       "5294             30      100.000000  \n",
       "461               0        0.000000  \n",
       "5637              2        6.666667  \n",
       "5078              5       16.666667  \n",
       "\n",
       "[5 rows x 38 columns]"
      ]
     },
     "execution_count": 4,
     "metadata": {},
     "output_type": "execute_result"
    }
   ],
   "source": [
    "df.head()"
   ]
  },
  {
   "cell_type": "code",
   "execution_count": 5,
   "id": "ac5e41eb",
   "metadata": {},
   "outputs": [
    {
     "name": "stdout",
     "output_type": "stream",
     "text": [
      "<class 'pandas.core.frame.DataFrame'>\n",
      "Index: 6733 entries, 4067 to 2456\n",
      "Data columns (total 38 columns):\n",
      " #   Column                       Non-Null Count  Dtype  \n",
      "---  ------                       --------------  -----  \n",
      " 0   apartment_id                 6733 non-null   int64  \n",
      " 1   name                         6730 non-null   object \n",
      " 2   description                  6706 non-null   object \n",
      " 3   host_id                      6733 non-null   int64  \n",
      " 4   neighbourhood_name           6733 non-null   object \n",
      " 5   neighbourhood_district       4075 non-null   object \n",
      " 6   room_type                    6733 non-null   object \n",
      " 7   accommodates                 6733 non-null   int64  \n",
      " 8   bathrooms                    6706 non-null   float64\n",
      " 9   bedrooms                     6706 non-null   float64\n",
      " 10  beds                         6730 non-null   float64\n",
      " 11  amenities_list               6716 non-null   object \n",
      " 12  price                        6733 non-null   float64\n",
      " 13  minimum_nights               6733 non-null   int64  \n",
      " 14  maximum_nights               6733 non-null   int64  \n",
      " 15  has_availability             6184 non-null   object \n",
      " 16  availability_30              6733 non-null   int64  \n",
      " 17  availability_60              6733 non-null   int64  \n",
      " 18  availability_90              6733 non-null   int64  \n",
      " 19  availability_365             6733 non-null   int64  \n",
      " 20  number_of_reviews            6733 non-null   int64  \n",
      " 21  first_review_date            5516 non-null   object \n",
      " 22  last_review_date             5517 non-null   object \n",
      " 23  review_scores_rating         5446 non-null   float64\n",
      " 24  review_scores_accuracy       5437 non-null   float64\n",
      " 25  review_scores_cleanliness    5443 non-null   float64\n",
      " 26  review_scores_checkin        5432 non-null   float64\n",
      " 27  review_scores_communication  5441 non-null   float64\n",
      " 28  review_scores_location       5431 non-null   float64\n",
      " 29  review_scores_value          5431 non-null   float64\n",
      " 30  is_instant_bookable          6733 non-null   object \n",
      " 31  reviews_per_month            5516 non-null   float64\n",
      " 32  country                      6733 non-null   object \n",
      " 33  city                         6733 non-null   object \n",
      " 34  insert_date                  6733 non-null   object \n",
      " 35  normalized_amenities         6716 non-null   object \n",
      " 36  days_occupied                6733 non-null   int64  \n",
      " 37  occupancy_rate               6733 non-null   float64\n",
      "dtypes: float64(13), int64(11), object(14)\n",
      "memory usage: 2.0+ MB\n"
     ]
    }
   ],
   "source": [
    "df.info()"
   ]
  },
  {
   "cell_type": "code",
   "execution_count": 6,
   "id": "3ffda3b3",
   "metadata": {},
   "outputs": [
    {
     "data": {
      "text/html": [
       "<div>\n",
       "<style scoped>\n",
       "    .dataframe tbody tr th:only-of-type {\n",
       "        vertical-align: middle;\n",
       "    }\n",
       "\n",
       "    .dataframe tbody tr th {\n",
       "        vertical-align: top;\n",
       "    }\n",
       "\n",
       "    .dataframe thead th {\n",
       "        text-align: right;\n",
       "    }\n",
       "</style>\n",
       "<table border=\"1\" class=\"dataframe\">\n",
       "  <thead>\n",
       "    <tr style=\"text-align: right;\">\n",
       "      <th></th>\n",
       "      <th>apartment_id</th>\n",
       "      <th>first_review_date</th>\n",
       "      <th>last_review_date</th>\n",
       "      <th>review_scores_rating</th>\n",
       "      <th>review_scores_accuracy</th>\n",
       "      <th>review_scores_cleanliness</th>\n",
       "      <th>review_scores_checkin</th>\n",
       "      <th>review_scores_communication</th>\n",
       "      <th>review_scores_location</th>\n",
       "      <th>review_scores_value</th>\n",
       "      <th>reviews_per_month</th>\n",
       "      <th>city</th>\n",
       "    </tr>\n",
       "  </thead>\n",
       "  <tbody>\n",
       "    <tr>\n",
       "      <th>count</th>\n",
       "      <td>6.733000e+03</td>\n",
       "      <td>5516</td>\n",
       "      <td>5517</td>\n",
       "      <td>5446.000000</td>\n",
       "      <td>5437.000000</td>\n",
       "      <td>5443.000000</td>\n",
       "      <td>5432.000000</td>\n",
       "      <td>5441.000000</td>\n",
       "      <td>5431.000000</td>\n",
       "      <td>5431.000000</td>\n",
       "      <td>5516.000000</td>\n",
       "      <td>6733</td>\n",
       "    </tr>\n",
       "    <tr>\n",
       "      <th>unique</th>\n",
       "      <td>NaN</td>\n",
       "      <td>1790</td>\n",
       "      <td>1452</td>\n",
       "      <td>NaN</td>\n",
       "      <td>NaN</td>\n",
       "      <td>NaN</td>\n",
       "      <td>NaN</td>\n",
       "      <td>NaN</td>\n",
       "      <td>NaN</td>\n",
       "      <td>NaN</td>\n",
       "      <td>NaN</td>\n",
       "      <td>8</td>\n",
       "    </tr>\n",
       "    <tr>\n",
       "      <th>top</th>\n",
       "      <td>NaN</td>\n",
       "      <td>2018-04-01</td>\n",
       "      <td>2020-03-08</td>\n",
       "      <td>NaN</td>\n",
       "      <td>NaN</td>\n",
       "      <td>NaN</td>\n",
       "      <td>NaN</td>\n",
       "      <td>NaN</td>\n",
       "      <td>NaN</td>\n",
       "      <td>NaN</td>\n",
       "      <td>NaN</td>\n",
       "      <td>barcelona</td>\n",
       "    </tr>\n",
       "    <tr>\n",
       "      <th>freq</th>\n",
       "      <td>NaN</td>\n",
       "      <td>25</td>\n",
       "      <td>26</td>\n",
       "      <td>NaN</td>\n",
       "      <td>NaN</td>\n",
       "      <td>NaN</td>\n",
       "      <td>NaN</td>\n",
       "      <td>NaN</td>\n",
       "      <td>NaN</td>\n",
       "      <td>NaN</td>\n",
       "      <td>NaN</td>\n",
       "      <td>2041</td>\n",
       "    </tr>\n",
       "    <tr>\n",
       "      <th>mean</th>\n",
       "      <td>1.512717e+07</td>\n",
       "      <td>NaN</td>\n",
       "      <td>NaN</td>\n",
       "      <td>920.104664</td>\n",
       "      <td>94.539268</td>\n",
       "      <td>93.161859</td>\n",
       "      <td>96.277614</td>\n",
       "      <td>96.432641</td>\n",
       "      <td>95.273430</td>\n",
       "      <td>91.461978</td>\n",
       "      <td>122.733684</td>\n",
       "      <td>NaN</td>\n",
       "    </tr>\n",
       "    <tr>\n",
       "      <th>std</th>\n",
       "      <td>7.729288e+06</td>\n",
       "      <td>NaN</td>\n",
       "      <td>NaN</td>\n",
       "      <td>85.932940</td>\n",
       "      <td>9.108241</td>\n",
       "      <td>9.755222</td>\n",
       "      <td>8.010918</td>\n",
       "      <td>7.651143</td>\n",
       "      <td>7.322723</td>\n",
       "      <td>9.348894</td>\n",
       "      <td>152.617697</td>\n",
       "      <td>NaN</td>\n",
       "    </tr>\n",
       "    <tr>\n",
       "      <th>min</th>\n",
       "      <td>1.196400e+04</td>\n",
       "      <td>NaN</td>\n",
       "      <td>NaN</td>\n",
       "      <td>200.000000</td>\n",
       "      <td>20.000000</td>\n",
       "      <td>20.000000</td>\n",
       "      <td>20.000000</td>\n",
       "      <td>20.000000</td>\n",
       "      <td>20.000000</td>\n",
       "      <td>20.000000</td>\n",
       "      <td>1.000000</td>\n",
       "      <td>NaN</td>\n",
       "    </tr>\n",
       "    <tr>\n",
       "      <th>25%</th>\n",
       "      <td>8.699662e+06</td>\n",
       "      <td>NaN</td>\n",
       "      <td>NaN</td>\n",
       "      <td>890.000000</td>\n",
       "      <td>90.000000</td>\n",
       "      <td>90.000000</td>\n",
       "      <td>90.000000</td>\n",
       "      <td>90.000000</td>\n",
       "      <td>90.000000</td>\n",
       "      <td>90.000000</td>\n",
       "      <td>17.000000</td>\n",
       "      <td>NaN</td>\n",
       "    </tr>\n",
       "    <tr>\n",
       "      <th>50%</th>\n",
       "      <td>1.677280e+07</td>\n",
       "      <td>NaN</td>\n",
       "      <td>NaN</td>\n",
       "      <td>940.000000</td>\n",
       "      <td>100.000000</td>\n",
       "      <td>100.000000</td>\n",
       "      <td>100.000000</td>\n",
       "      <td>100.000000</td>\n",
       "      <td>100.000000</td>\n",
       "      <td>90.000000</td>\n",
       "      <td>56.000000</td>\n",
       "      <td>NaN</td>\n",
       "    </tr>\n",
       "    <tr>\n",
       "      <th>75%</th>\n",
       "      <td>2.148062e+07</td>\n",
       "      <td>NaN</td>\n",
       "      <td>NaN</td>\n",
       "      <td>980.000000</td>\n",
       "      <td>100.000000</td>\n",
       "      <td>100.000000</td>\n",
       "      <td>100.000000</td>\n",
       "      <td>100.000000</td>\n",
       "      <td>100.000000</td>\n",
       "      <td>100.000000</td>\n",
       "      <td>176.000000</td>\n",
       "      <td>NaN</td>\n",
       "    </tr>\n",
       "    <tr>\n",
       "      <th>max</th>\n",
       "      <td>2.724512e+07</td>\n",
       "      <td>NaN</td>\n",
       "      <td>NaN</td>\n",
       "      <td>1000.000000</td>\n",
       "      <td>100.000000</td>\n",
       "      <td>100.000000</td>\n",
       "      <td>100.000000</td>\n",
       "      <td>100.000000</td>\n",
       "      <td>100.000000</td>\n",
       "      <td>100.000000</td>\n",
       "      <td>1291.000000</td>\n",
       "      <td>NaN</td>\n",
       "    </tr>\n",
       "  </tbody>\n",
       "</table>\n",
       "</div>"
      ],
      "text/plain": [
       "        apartment_id first_review_date last_review_date  review_scores_rating  \\\n",
       "count   6.733000e+03              5516             5517           5446.000000   \n",
       "unique           NaN              1790             1452                   NaN   \n",
       "top              NaN        2018-04-01       2020-03-08                   NaN   \n",
       "freq             NaN                25               26                   NaN   \n",
       "mean    1.512717e+07               NaN              NaN            920.104664   \n",
       "std     7.729288e+06               NaN              NaN             85.932940   \n",
       "min     1.196400e+04               NaN              NaN            200.000000   \n",
       "25%     8.699662e+06               NaN              NaN            890.000000   \n",
       "50%     1.677280e+07               NaN              NaN            940.000000   \n",
       "75%     2.148062e+07               NaN              NaN            980.000000   \n",
       "max     2.724512e+07               NaN              NaN           1000.000000   \n",
       "\n",
       "        review_scores_accuracy  review_scores_cleanliness  \\\n",
       "count              5437.000000                5443.000000   \n",
       "unique                     NaN                        NaN   \n",
       "top                        NaN                        NaN   \n",
       "freq                       NaN                        NaN   \n",
       "mean                 94.539268                  93.161859   \n",
       "std                   9.108241                   9.755222   \n",
       "min                  20.000000                  20.000000   \n",
       "25%                  90.000000                  90.000000   \n",
       "50%                 100.000000                 100.000000   \n",
       "75%                 100.000000                 100.000000   \n",
       "max                 100.000000                 100.000000   \n",
       "\n",
       "        review_scores_checkin  review_scores_communication  \\\n",
       "count             5432.000000                  5441.000000   \n",
       "unique                    NaN                          NaN   \n",
       "top                       NaN                          NaN   \n",
       "freq                      NaN                          NaN   \n",
       "mean                96.277614                    96.432641   \n",
       "std                  8.010918                     7.651143   \n",
       "min                 20.000000                    20.000000   \n",
       "25%                 90.000000                    90.000000   \n",
       "50%                100.000000                   100.000000   \n",
       "75%                100.000000                   100.000000   \n",
       "max                100.000000                   100.000000   \n",
       "\n",
       "        review_scores_location  review_scores_value  reviews_per_month  \\\n",
       "count              5431.000000          5431.000000        5516.000000   \n",
       "unique                     NaN                  NaN                NaN   \n",
       "top                        NaN                  NaN                NaN   \n",
       "freq                       NaN                  NaN                NaN   \n",
       "mean                 95.273430            91.461978         122.733684   \n",
       "std                   7.322723             9.348894         152.617697   \n",
       "min                  20.000000            20.000000           1.000000   \n",
       "25%                  90.000000            90.000000          17.000000   \n",
       "50%                 100.000000            90.000000          56.000000   \n",
       "75%                 100.000000           100.000000         176.000000   \n",
       "max                 100.000000           100.000000        1291.000000   \n",
       "\n",
       "             city  \n",
       "count        6733  \n",
       "unique          8  \n",
       "top     barcelona  \n",
       "freq         2041  \n",
       "mean          NaN  \n",
       "std           NaN  \n",
       "min           NaN  \n",
       "25%           NaN  \n",
       "50%           NaN  \n",
       "75%           NaN  \n",
       "max           NaN  "
      ]
     },
     "execution_count": 6,
     "metadata": {},
     "output_type": "execute_result"
    }
   ],
   "source": [
    "# EDA de Experiencia del Cliente\n",
    "\n",
    "df[['apartment_id', 'first_review_date', 'last_review_date',\n",
    "       'review_scores_rating', 'review_scores_accuracy',\n",
    "       'review_scores_cleanliness', 'review_scores_checkin',\n",
    "       'review_scores_communication', 'review_scores_location',\n",
    "       'review_scores_value', 'reviews_per_month','city']].describe(include='all')"
   ]
  },
  {
   "cell_type": "code",
   "execution_count": 7,
   "id": "a64d838a",
   "metadata": {},
   "outputs": [],
   "source": [
    "# Imputar fecha de inserción del registro para los casos en que hay reseñas y la last_review_date es nula:\n",
    "\n",
    "df.loc[df['last_review_date'].isna() & df['first_review_date'].notna(), 'last_review_date'] = df['insert_date']"
   ]
  },
  {
   "cell_type": "code",
   "execution_count": 8,
   "id": "3e77f1fb",
   "metadata": {},
   "outputs": [
    {
     "data": {
      "text/html": [
       "<div>\n",
       "<style scoped>\n",
       "    .dataframe tbody tr th:only-of-type {\n",
       "        vertical-align: middle;\n",
       "    }\n",
       "\n",
       "    .dataframe tbody tr th {\n",
       "        vertical-align: top;\n",
       "    }\n",
       "\n",
       "    .dataframe thead th {\n",
       "        text-align: right;\n",
       "    }\n",
       "</style>\n",
       "<table border=\"1\" class=\"dataframe\">\n",
       "  <thead>\n",
       "    <tr style=\"text-align: right;\">\n",
       "      <th></th>\n",
       "      <th>apartment_id</th>\n",
       "      <th>name</th>\n",
       "      <th>description</th>\n",
       "      <th>host_id</th>\n",
       "      <th>neighbourhood_name</th>\n",
       "      <th>neighbourhood_district</th>\n",
       "      <th>room_type</th>\n",
       "      <th>accommodates</th>\n",
       "      <th>bathrooms</th>\n",
       "      <th>bedrooms</th>\n",
       "      <th>...</th>\n",
       "      <th>review_scores_location</th>\n",
       "      <th>review_scores_value</th>\n",
       "      <th>is_instant_bookable</th>\n",
       "      <th>reviews_per_month</th>\n",
       "      <th>country</th>\n",
       "      <th>city</th>\n",
       "      <th>insert_date</th>\n",
       "      <th>normalized_amenities</th>\n",
       "      <th>days_occupied</th>\n",
       "      <th>occupancy_rate</th>\n",
       "    </tr>\n",
       "  </thead>\n",
       "  <tbody>\n",
       "    <tr>\n",
       "      <th>4067</th>\n",
       "      <td>18263766</td>\n",
       "      <td>Apartamento 1a linea mar con parquing</td>\n",
       "      <td>Apartamento de 90 m2, primera l�nea de mar, en...</td>\n",
       "      <td>126077779</td>\n",
       "      <td>Castell-Platja d'Aro</td>\n",
       "      <td>NaN</td>\n",
       "      <td>Entire home/apt</td>\n",
       "      <td>6</td>\n",
       "      <td>2.0</td>\n",
       "      <td>3.0</td>\n",
       "      <td>...</td>\n",
       "      <td>100.0</td>\n",
       "      <td>90.0</td>\n",
       "      <td>FALSO</td>\n",
       "      <td>101.0</td>\n",
       "      <td>spain</td>\n",
       "      <td>girona</td>\n",
       "      <td>2021-02-27</td>\n",
       "      <td>elevator, washer, workspace, nespresso machine...</td>\n",
       "      <td>1</td>\n",
       "      <td>3.333333</td>\n",
       "    </tr>\n",
       "    <tr>\n",
       "      <th>5294</th>\n",
       "      <td>21577762</td>\n",
       "      <td>Rustic Chic Studio Downtown (C80)</td>\n",
       "      <td>Welcome to our brand new apartment in the cent...</td>\n",
       "      <td>5890675</td>\n",
       "      <td>Centro</td>\n",
       "      <td>NaN</td>\n",
       "      <td>Entire home/apt</td>\n",
       "      <td>2</td>\n",
       "      <td>1.0</td>\n",
       "      <td>1.0</td>\n",
       "      <td>...</td>\n",
       "      <td>100.0</td>\n",
       "      <td>100.0</td>\n",
       "      <td>VERDADERO</td>\n",
       "      <td>245.0</td>\n",
       "      <td>spain</td>\n",
       "      <td>malaga</td>\n",
       "      <td>2021-02-27</td>\n",
       "      <td>kitchen, air conditioning, essentials, smart l...</td>\n",
       "      <td>30</td>\n",
       "      <td>100.000000</td>\n",
       "    </tr>\n",
       "    <tr>\n",
       "      <th>461</th>\n",
       "      <td>1584877</td>\n",
       "      <td>Sea view penthouse in Calan Porter</td>\n",
       "      <td>Lovely and cozy sea view penthouse in the resi...</td>\n",
       "      <td>8443770</td>\n",
       "      <td>Alaior</td>\n",
       "      <td>NaN</td>\n",
       "      <td>Entire home/apt</td>\n",
       "      <td>4</td>\n",
       "      <td>1.0</td>\n",
       "      <td>2.0</td>\n",
       "      <td>...</td>\n",
       "      <td>90.0</td>\n",
       "      <td>90.0</td>\n",
       "      <td>VERDADERO</td>\n",
       "      <td>55.0</td>\n",
       "      <td>spain</td>\n",
       "      <td>menorca</td>\n",
       "      <td>2021-02-27</td>\n",
       "      <td>washer, bathroom essentials, nespresso machine...</td>\n",
       "      <td>0</td>\n",
       "      <td>0.000000</td>\n",
       "    </tr>\n",
       "    <tr>\n",
       "      <th>5637</th>\n",
       "      <td>22626728</td>\n",
       "      <td>Atic Colera</td>\n",
       "      <td>Atico con mucha mucha luz, con 2 terrazas exte...</td>\n",
       "      <td>166569559</td>\n",
       "      <td>Colera</td>\n",
       "      <td>NaN</td>\n",
       "      <td>Entire home/apt</td>\n",
       "      <td>6</td>\n",
       "      <td>2.0</td>\n",
       "      <td>3.0</td>\n",
       "      <td>...</td>\n",
       "      <td>100.0</td>\n",
       "      <td>100.0</td>\n",
       "      <td>FALSO</td>\n",
       "      <td>31.0</td>\n",
       "      <td>spain</td>\n",
       "      <td>girona</td>\n",
       "      <td>2021-02-27</td>\n",
       "      <td>elevator, washer, workspace, bathroom essentia...</td>\n",
       "      <td>2</td>\n",
       "      <td>6.666667</td>\n",
       "    </tr>\n",
       "    <tr>\n",
       "      <th>5078</th>\n",
       "      <td>20854917</td>\n",
       "      <td>Estudio para 2 personas zona Arenal</td>\n",
       "      <td>Este estudio de 25 m2 presenta una decoraci�n ...</td>\n",
       "      <td>137959507</td>\n",
       "      <td>Arenal</td>\n",
       "      <td>Casco Antiguo</td>\n",
       "      <td>Hotel room</td>\n",
       "      <td>2</td>\n",
       "      <td>1.0</td>\n",
       "      <td>1.0</td>\n",
       "      <td>...</td>\n",
       "      <td>100.0</td>\n",
       "      <td>100.0</td>\n",
       "      <td>VERDADERO</td>\n",
       "      <td>4.0</td>\n",
       "      <td>spain</td>\n",
       "      <td>sevilla</td>\n",
       "      <td>2021-02-27</td>\n",
       "      <td>elevator, washer, first aid kit, workspace, ba...</td>\n",
       "      <td>5</td>\n",
       "      <td>16.666667</td>\n",
       "    </tr>\n",
       "    <tr>\n",
       "      <th>...</th>\n",
       "      <td>...</td>\n",
       "      <td>...</td>\n",
       "      <td>...</td>\n",
       "      <td>...</td>\n",
       "      <td>...</td>\n",
       "      <td>...</td>\n",
       "      <td>...</td>\n",
       "      <td>...</td>\n",
       "      <td>...</td>\n",
       "      <td>...</td>\n",
       "      <td>...</td>\n",
       "      <td>...</td>\n",
       "      <td>...</td>\n",
       "      <td>...</td>\n",
       "      <td>...</td>\n",
       "      <td>...</td>\n",
       "      <td>...</td>\n",
       "      <td>...</td>\n",
       "      <td>...</td>\n",
       "      <td>...</td>\n",
       "      <td>...</td>\n",
       "    </tr>\n",
       "    <tr>\n",
       "      <th>880</th>\n",
       "      <td>3771149</td>\n",
       "      <td>Central, double/twin, private bath</td>\n",
       "      <td>Classical-Style apartment, in the centre of Ba...</td>\n",
       "      <td>19327835</td>\n",
       "      <td>l'Antiga Esquerra de l'Eixample</td>\n",
       "      <td>Eixample</td>\n",
       "      <td>Private room</td>\n",
       "      <td>2</td>\n",
       "      <td>3.0</td>\n",
       "      <td>1.0</td>\n",
       "      <td>...</td>\n",
       "      <td>90.0</td>\n",
       "      <td>90.0</td>\n",
       "      <td>FALSO</td>\n",
       "      <td>228.0</td>\n",
       "      <td>spain</td>\n",
       "      <td>barcelona</td>\n",
       "      <td>2017-01-04</td>\n",
       "      <td>kitchen, hangers, breakfast, essentials, smoki...</td>\n",
       "      <td>28</td>\n",
       "      <td>93.333333</td>\n",
       "    </tr>\n",
       "    <tr>\n",
       "      <th>895</th>\n",
       "      <td>3810717</td>\n",
       "      <td>Amazing flat in the very center</td>\n",
       "      <td>Modern, beautiful and renewed flat at Born. Ve...</td>\n",
       "      <td>19587234</td>\n",
       "      <td>Sant Pere, Santa Caterina i la Ribera</td>\n",
       "      <td>Ciutat Vella</td>\n",
       "      <td>Entire home/apt</td>\n",
       "      <td>2</td>\n",
       "      <td>1.0</td>\n",
       "      <td>1.0</td>\n",
       "      <td>...</td>\n",
       "      <td>100.0</td>\n",
       "      <td>100.0</td>\n",
       "      <td>FALSO</td>\n",
       "      <td>33.0</td>\n",
       "      <td>spain</td>\n",
       "      <td>barcelona</td>\n",
       "      <td>2017-01-04</td>\n",
       "      <td>kitchen, air conditioning, essentials, transla...</td>\n",
       "      <td>30</td>\n",
       "      <td>100.000000</td>\n",
       "    </tr>\n",
       "    <tr>\n",
       "      <th>902</th>\n",
       "      <td>3847290</td>\n",
       "      <td>Banyoles</td>\n",
       "      <td>Amplia habitaci�n exterior muy luminosa co...</td>\n",
       "      <td>19681580</td>\n",
       "      <td>el Barri G�tic</td>\n",
       "      <td>Ciutat Vella</td>\n",
       "      <td>Private room</td>\n",
       "      <td>2</td>\n",
       "      <td>1.0</td>\n",
       "      <td>1.0</td>\n",
       "      <td>...</td>\n",
       "      <td>100.0</td>\n",
       "      <td>100.0</td>\n",
       "      <td>FALSO</td>\n",
       "      <td>2.0</td>\n",
       "      <td>spain</td>\n",
       "      <td>barcelona</td>\n",
       "      <td>2017-01-04</td>\n",
       "      <td>air conditioning, smoke detector, essentials, ...</td>\n",
       "      <td>0</td>\n",
       "      <td>0.000000</td>\n",
       "    </tr>\n",
       "    <tr>\n",
       "      <th>2105</th>\n",
       "      <td>11411444</td>\n",
       "      <td>Cute apartment close to Pg.Gr�cia a</td>\n",
       "      <td>Cute apartment in Gracia!  near Metro Diagonal...</td>\n",
       "      <td>14368366</td>\n",
       "      <td>la Vila de Gr�cia</td>\n",
       "      <td>Gr�cia</td>\n",
       "      <td>Entire home/apt</td>\n",
       "      <td>2</td>\n",
       "      <td>1.0</td>\n",
       "      <td>1.0</td>\n",
       "      <td>...</td>\n",
       "      <td>90.0</td>\n",
       "      <td>90.0</td>\n",
       "      <td>FALSO</td>\n",
       "      <td>147.0</td>\n",
       "      <td>spain</td>\n",
       "      <td>barcelona</td>\n",
       "      <td>2017-01-04</td>\n",
       "      <td>kitchen, air conditioning, essentials, hair dr...</td>\n",
       "      <td>1</td>\n",
       "      <td>3.333333</td>\n",
       "    </tr>\n",
       "    <tr>\n",
       "      <th>2456</th>\n",
       "      <td>13166575</td>\n",
       "      <td>Olivia Luxury Apartment</td>\n",
       "      <td>Bright 85 m2 apartment with 2 double bedroom a...</td>\n",
       "      <td>10249776</td>\n",
       "      <td>la Dreta de l'Eixample</td>\n",
       "      <td>Eixample</td>\n",
       "      <td>Entire home/apt</td>\n",
       "      <td>4</td>\n",
       "      <td>2.0</td>\n",
       "      <td>2.0</td>\n",
       "      <td>...</td>\n",
       "      <td>100.0</td>\n",
       "      <td>80.0</td>\n",
       "      <td>FALSO</td>\n",
       "      <td>34.0</td>\n",
       "      <td>spain</td>\n",
       "      <td>barcelona</td>\n",
       "      <td>2017-01-04</td>\n",
       "      <td>kitchen, air conditioning, essentials, hangers...</td>\n",
       "      <td>0</td>\n",
       "      <td>0.000000</td>\n",
       "    </tr>\n",
       "  </tbody>\n",
       "</table>\n",
       "<p>6733 rows × 38 columns</p>\n",
       "</div>"
      ],
      "text/plain": [
       "      apartment_id                                   name  \\\n",
       "4067      18263766  Apartamento 1a linea mar con parquing   \n",
       "5294      21577762      Rustic Chic Studio Downtown (C80)   \n",
       "461        1584877     Sea view penthouse in Calan Porter   \n",
       "5637      22626728                            Atic Colera   \n",
       "5078      20854917    Estudio para 2 personas zona Arenal   \n",
       "...            ...                                    ...   \n",
       "880        3771149     Central, double/twin, private bath   \n",
       "895        3810717        Amazing flat in the very center   \n",
       "902        3847290                               Banyoles   \n",
       "2105      11411444    Cute apartment close to Pg.Gr�cia a   \n",
       "2456      13166575                Olivia Luxury Apartment   \n",
       "\n",
       "                                            description    host_id  \\\n",
       "4067  Apartamento de 90 m2, primera l�nea de mar, en...  126077779   \n",
       "5294  Welcome to our brand new apartment in the cent...    5890675   \n",
       "461   Lovely and cozy sea view penthouse in the resi...    8443770   \n",
       "5637  Atico con mucha mucha luz, con 2 terrazas exte...  166569559   \n",
       "5078  Este estudio de 25 m2 presenta una decoraci�n ...  137959507   \n",
       "...                                                 ...        ...   \n",
       "880   Classical-Style apartment, in the centre of Ba...   19327835   \n",
       "895   Modern, beautiful and renewed flat at Born. Ve...   19587234   \n",
       "902       Amplia habitaci�n exterior muy luminosa co...   19681580   \n",
       "2105  Cute apartment in Gracia!  near Metro Diagonal...   14368366   \n",
       "2456  Bright 85 m2 apartment with 2 double bedroom a...   10249776   \n",
       "\n",
       "                         neighbourhood_name neighbourhood_district  \\\n",
       "4067                   Castell-Platja d'Aro                    NaN   \n",
       "5294                                 Centro                    NaN   \n",
       "461                                  Alaior                    NaN   \n",
       "5637                                 Colera                    NaN   \n",
       "5078                                 Arenal          Casco Antiguo   \n",
       "...                                     ...                    ...   \n",
       "880         l'Antiga Esquerra de l'Eixample               Eixample   \n",
       "895   Sant Pere, Santa Caterina i la Ribera           Ciutat Vella   \n",
       "902                          el Barri G�tic           Ciutat Vella   \n",
       "2105                      la Vila de Gr�cia                 Gr�cia   \n",
       "2456                 la Dreta de l'Eixample               Eixample   \n",
       "\n",
       "            room_type  accommodates  bathrooms  bedrooms  ...  \\\n",
       "4067  Entire home/apt             6        2.0       3.0  ...   \n",
       "5294  Entire home/apt             2        1.0       1.0  ...   \n",
       "461   Entire home/apt             4        1.0       2.0  ...   \n",
       "5637  Entire home/apt             6        2.0       3.0  ...   \n",
       "5078       Hotel room             2        1.0       1.0  ...   \n",
       "...               ...           ...        ...       ...  ...   \n",
       "880      Private room             2        3.0       1.0  ...   \n",
       "895   Entire home/apt             2        1.0       1.0  ...   \n",
       "902      Private room             2        1.0       1.0  ...   \n",
       "2105  Entire home/apt             2        1.0       1.0  ...   \n",
       "2456  Entire home/apt             4        2.0       2.0  ...   \n",
       "\n",
       "      review_scores_location review_scores_value  is_instant_bookable  \\\n",
       "4067                   100.0                90.0                FALSO   \n",
       "5294                   100.0               100.0            VERDADERO   \n",
       "461                     90.0                90.0            VERDADERO   \n",
       "5637                   100.0               100.0                FALSO   \n",
       "5078                   100.0               100.0            VERDADERO   \n",
       "...                      ...                 ...                  ...   \n",
       "880                     90.0                90.0                FALSO   \n",
       "895                    100.0               100.0                FALSO   \n",
       "902                    100.0               100.0                FALSO   \n",
       "2105                    90.0                90.0                FALSO   \n",
       "2456                   100.0                80.0                FALSO   \n",
       "\n",
       "      reviews_per_month  country       city  insert_date  \\\n",
       "4067              101.0    spain     girona   2021-02-27   \n",
       "5294              245.0    spain     malaga   2021-02-27   \n",
       "461                55.0    spain    menorca   2021-02-27   \n",
       "5637               31.0    spain     girona   2021-02-27   \n",
       "5078                4.0    spain    sevilla   2021-02-27   \n",
       "...                 ...      ...        ...          ...   \n",
       "880               228.0    spain  barcelona   2017-01-04   \n",
       "895                33.0    spain  barcelona   2017-01-04   \n",
       "902                 2.0    spain  barcelona   2017-01-04   \n",
       "2105              147.0    spain  barcelona   2017-01-04   \n",
       "2456               34.0    spain  barcelona   2017-01-04   \n",
       "\n",
       "                                   normalized_amenities  days_occupied  \\\n",
       "4067  elevator, washer, workspace, nespresso machine...              1   \n",
       "5294  kitchen, air conditioning, essentials, smart l...             30   \n",
       "461   washer, bathroom essentials, nespresso machine...              0   \n",
       "5637  elevator, washer, workspace, bathroom essentia...              2   \n",
       "5078  elevator, washer, first aid kit, workspace, ba...              5   \n",
       "...                                                 ...            ...   \n",
       "880   kitchen, hangers, breakfast, essentials, smoki...             28   \n",
       "895   kitchen, air conditioning, essentials, transla...             30   \n",
       "902   air conditioning, smoke detector, essentials, ...              0   \n",
       "2105  kitchen, air conditioning, essentials, hair dr...              1   \n",
       "2456  kitchen, air conditioning, essentials, hangers...              0   \n",
       "\n",
       "      occupancy_rate  \n",
       "4067        3.333333  \n",
       "5294      100.000000  \n",
       "461         0.000000  \n",
       "5637        6.666667  \n",
       "5078       16.666667  \n",
       "...              ...  \n",
       "880        93.333333  \n",
       "895       100.000000  \n",
       "902         0.000000  \n",
       "2105        3.333333  \n",
       "2456        0.000000  \n",
       "\n",
       "[6733 rows x 38 columns]"
      ]
     },
     "execution_count": 8,
     "metadata": {},
     "output_type": "execute_result"
    }
   ],
   "source": [
    "df"
   ]
  },
  {
   "cell_type": "code",
   "execution_count": 9,
   "id": "695f3040",
   "metadata": {},
   "outputs": [
    {
     "data": {
      "text/plain": [
       "Text(0.5, 0, 'N.º de reseñas')"
      ]
     },
     "execution_count": 9,
     "metadata": {},
     "output_type": "execute_result"
    },
    {
     "data": {
      "image/png": "[encoded data removed]",
      "text/plain": [
       "<Figure size 640x480 with 1 Axes>"
      ]
     },
     "metadata": {},
     "output_type": "display_data"
    }
   ],
   "source": [
    "ax = sns.histplot(data=df, x='number_of_reviews', bins=20)\n",
    "ax.set_title(\"Distribución de números de reviews\")\n",
    "ax.set_ylabel(\"N.º apartamentos\")\n",
    "ax.set_xlabel(\"N.º de reseñas\")"
   ]
  },
  {
   "cell_type": "code",
   "execution_count": 10,
   "id": "7bd43c54",
   "metadata": {},
   "outputs": [
    {
     "data": {
      "text/plain": [
       "Text(0.5, 0.98, 'Kde de distribución de reviews')"
      ]
     },
     "execution_count": 10,
     "metadata": {},
     "output_type": "execute_result"
    },
    {
     "data": {
      "image/png": "[encoded data removed]",
      "text/plain": [
       "<Figure size 500x500 with 1 Axes>"
      ]
     },
     "metadata": {},
     "output_type": "display_data"
    }
   ],
   "source": [
    "ax = sns.displot(data=df, x='number_of_reviews', kde=True)\n",
    "ax.figure.suptitle(\"Kde de distribución de reviews\")"
   ]
  },
  {
   "cell_type": "code",
   "execution_count": 11,
   "id": "7f4a5d4e",
   "metadata": {},
   "outputs": [
    {
     "data": {
      "text/plain": [
       "Text(0.5, 1.0, 'Distribución estadística del rating total por ciudad')"
      ]
     },
     "execution_count": 11,
     "metadata": {},
     "output_type": "execute_result"
    },
    {
     "data": {
      "image/png": "[encoded data removed]",
      "text/plain": [
       "<Figure size 640x480 with 1 Axes>"
      ]
     },
     "metadata": {},
     "output_type": "display_data"
    }
   ],
   "source": [
    "ax = sns.boxplot(data=df, x='city', y='review_scores_rating')\n",
    "ax.set_title(\"Distribución estadística del rating total por ciudad\")"
   ]
  },
  {
   "cell_type": "code",
   "execution_count": 12,
   "id": "ff65c21f",
   "metadata": {},
   "outputs": [
    {
     "data": {
      "text/plain": [
       "Text(0.5, 1.0, 'Distribución estadística del rating total por tipo de alojamiento')"
      ]
     },
     "execution_count": 12,
     "metadata": {},
     "output_type": "execute_result"
    },
    {
     "data": {
      "image/png": "[encoded data removed]",
      "text/plain": [
       "<Figure size 640x480 with 1 Axes>"
      ]
     },
     "metadata": {},
     "output_type": "display_data"
    }
   ],
   "source": [
    "ax = sns.boxplot(data=df, x='room_type', y='review_scores_rating')\n",
    "ax.set_title(\"Distribución estadística del rating total por tipo de alojamiento\")"
   ]
  },
  {
   "cell_type": "code",
   "execution_count": 13,
   "id": "82c24502",
   "metadata": {},
   "outputs": [
    {
     "name": "stdout",
     "output_type": "stream",
     "text": [
      "Número de apartamentos sin reseñas: 1217\n",
      "Porcentaje de apartamentos sin reseñas: 18.08 %\n"
     ]
    }
   ],
   "source": [
    "#Cantidad de apartamentos sin reseñas\n",
    "sin_reseñas = df['first_review_date'].isna().sum()\n",
    "print(f\"Número de apartamentos sin reseñas: {sin_reseñas}\")\n",
    "\n",
    "#Porcentaje de apartamentos del total\n",
    "porcentaje_sin_reseñas = (sin_reseñas / len(df)) * 100\n",
    "print(f\"Porcentaje de apartamentos sin reseñas: {porcentaje_sin_reseñas:.2f} %\")"
   ]
  },
  {
   "cell_type": "code",
   "execution_count": 14,
   "id": "102e704b",
   "metadata": {},
   "outputs": [
    {
     "data": {
      "text/html": [
       "<div>\n",
       "<style scoped>\n",
       "    .dataframe tbody tr th:only-of-type {\n",
       "        vertical-align: middle;\n",
       "    }\n",
       "\n",
       "    .dataframe tbody tr th {\n",
       "        vertical-align: top;\n",
       "    }\n",
       "\n",
       "    .dataframe thead th {\n",
       "        text-align: right;\n",
       "    }\n",
       "</style>\n",
       "<table border=\"1\" class=\"dataframe\">\n",
       "  <thead>\n",
       "    <tr style=\"text-align: right;\">\n",
       "      <th></th>\n",
       "      <th>apartment_id</th>\n",
       "      <th>name</th>\n",
       "      <th>description</th>\n",
       "      <th>host_id</th>\n",
       "      <th>neighbourhood_name</th>\n",
       "      <th>neighbourhood_district</th>\n",
       "      <th>room_type</th>\n",
       "      <th>accommodates</th>\n",
       "      <th>bathrooms</th>\n",
       "      <th>bedrooms</th>\n",
       "      <th>...</th>\n",
       "      <th>review_scores_location</th>\n",
       "      <th>review_scores_value</th>\n",
       "      <th>is_instant_bookable</th>\n",
       "      <th>reviews_per_month</th>\n",
       "      <th>country</th>\n",
       "      <th>city</th>\n",
       "      <th>insert_date</th>\n",
       "      <th>normalized_amenities</th>\n",
       "      <th>days_occupied</th>\n",
       "      <th>occupancy_rate</th>\n",
       "    </tr>\n",
       "  </thead>\n",
       "  <tbody>\n",
       "    <tr>\n",
       "      <th>2218</th>\n",
       "      <td>11989301</td>\n",
       "      <td>Vivienda San Mart�n II</td>\n",
       "      <td>Rel�jate y desconecta mientras la c�lida luz v...</td>\n",
       "      <td>34840363</td>\n",
       "      <td>SANT FRANCESC</td>\n",
       "      <td>CIUTAT VELLA</td>\n",
       "      <td>Entire home/apt</td>\n",
       "      <td>4</td>\n",
       "      <td>1.0</td>\n",
       "      <td>1.0</td>\n",
       "      <td>...</td>\n",
       "      <td>100.0</td>\n",
       "      <td>100.0</td>\n",
       "      <td>VERDADERO</td>\n",
       "      <td>394.0</td>\n",
       "      <td>spain</td>\n",
       "      <td>valencia</td>\n",
       "      <td>2019-12-31</td>\n",
       "      <td>smoke detector, accessible-height bed, elevato...</td>\n",
       "      <td>23</td>\n",
       "      <td>76.666667</td>\n",
       "    </tr>\n",
       "    <tr>\n",
       "      <th>1783</th>\n",
       "      <td>9122183</td>\n",
       "      <td>Casa sevillana en barrio historico</td>\n",
       "      <td>Habitaci�n luminosa con terraza privada para u...</td>\n",
       "      <td>47528412</td>\n",
       "      <td>Pio XII</td>\n",
       "      <td>Macarena</td>\n",
       "      <td>Private room</td>\n",
       "      <td>2</td>\n",
       "      <td>2.0</td>\n",
       "      <td>1.0</td>\n",
       "      <td>...</td>\n",
       "      <td>90.0</td>\n",
       "      <td>100.0</td>\n",
       "      <td>FALSO</td>\n",
       "      <td>347.0</td>\n",
       "      <td>spain</td>\n",
       "      <td>sevilla</td>\n",
       "      <td>2019-07-29</td>\n",
       "      <td>accessible-height bed, washer, first aid kit, ...</td>\n",
       "      <td>30</td>\n",
       "      <td>100.000000</td>\n",
       "    </tr>\n",
       "    <tr>\n",
       "      <th>5759</th>\n",
       "      <td>22979863</td>\n",
       "      <td>Stylish Apt PZA MAYOR/La Latina 2BD* 2BT*, 6p max</td>\n",
       "      <td>Cozy and well-designed 2 bedroom apartment, co...</td>\n",
       "      <td>29281033</td>\n",
       "      <td>Palacio</td>\n",
       "      <td>Centro</td>\n",
       "      <td>Entire home/apt</td>\n",
       "      <td>6</td>\n",
       "      <td>2.0</td>\n",
       "      <td>2.0</td>\n",
       "      <td>...</td>\n",
       "      <td>100.0</td>\n",
       "      <td>100.0</td>\n",
       "      <td>VERDADERO</td>\n",
       "      <td>376.0</td>\n",
       "      <td>spain</td>\n",
       "      <td>madrid</td>\n",
       "      <td>2021-01-12</td>\n",
       "      <td>elevator, washer, workspace, bathroom essentia...</td>\n",
       "      <td>29</td>\n",
       "      <td>96.666667</td>\n",
       "    </tr>\n",
       "    <tr>\n",
       "      <th>6072</th>\n",
       "      <td>23782265</td>\n",
       "      <td>Romantic and Rustic Penthouse with a Sun Kisse...</td>\n",
       "      <td>Marvel at an adorable cottage-like space in an...</td>\n",
       "      <td>40929334</td>\n",
       "      <td>ARRANCAPINS</td>\n",
       "      <td>EXTRAMURS</td>\n",
       "      <td>Entire home/apt</td>\n",
       "      <td>2</td>\n",
       "      <td>1.0</td>\n",
       "      <td>1.0</td>\n",
       "      <td>...</td>\n",
       "      <td>100.0</td>\n",
       "      <td>90.0</td>\n",
       "      <td>VERDADERO</td>\n",
       "      <td>501.0</td>\n",
       "      <td>spain</td>\n",
       "      <td>valencia</td>\n",
       "      <td>2020-05-31</td>\n",
       "      <td>elevator, washer, workspace, bathroom essentia...</td>\n",
       "      <td>1</td>\n",
       "      <td>3.333333</td>\n",
       "    </tr>\n",
       "    <tr>\n",
       "      <th>5587</th>\n",
       "      <td>22479174</td>\n",
       "      <td>Private room in detached house</td>\n",
       "      <td>Cozy private room in a detached villa, near Ad...</td>\n",
       "      <td>80975261</td>\n",
       "      <td>Rejas</td>\n",
       "      <td>San Blas - Canillejas</td>\n",
       "      <td>Private room</td>\n",
       "      <td>2</td>\n",
       "      <td>2.0</td>\n",
       "      <td>1.0</td>\n",
       "      <td>...</td>\n",
       "      <td>100.0</td>\n",
       "      <td>100.0</td>\n",
       "      <td>FALSO</td>\n",
       "      <td>327.0</td>\n",
       "      <td>spain</td>\n",
       "      <td>madrid</td>\n",
       "      <td>2020-08-25</td>\n",
       "      <td>breakfast, first aid kit, washer, private livi...</td>\n",
       "      <td>4</td>\n",
       "      <td>13.333333</td>\n",
       "    </tr>\n",
       "    <tr>\n",
       "      <th>3365</th>\n",
       "      <td>16292600</td>\n",
       "      <td>BCN Luxury</td>\n",
       "      <td>Lujoso apartamento en pleno centro de Barcelon...</td>\n",
       "      <td>15944590</td>\n",
       "      <td>l'Antiga Esquerra de l'Eixample</td>\n",
       "      <td>Eixample</td>\n",
       "      <td>Entire home/apt</td>\n",
       "      <td>4</td>\n",
       "      <td>2.0</td>\n",
       "      <td>2.0</td>\n",
       "      <td>...</td>\n",
       "      <td>100.0</td>\n",
       "      <td>100.0</td>\n",
       "      <td>FALSO</td>\n",
       "      <td>274.0</td>\n",
       "      <td>spain</td>\n",
       "      <td>barcelona</td>\n",
       "      <td>2020-02-16</td>\n",
       "      <td>elevator, washer, bathroom essentials, nespres...</td>\n",
       "      <td>12</td>\n",
       "      <td>40.000000</td>\n",
       "    </tr>\n",
       "    <tr>\n",
       "      <th>309</th>\n",
       "      <td>1073748</td>\n",
       "      <td>MAGIC PLACE IN BARCELONA, WITH POOL</td>\n",
       "      <td>&lt;b&gt;The space&lt;/b&gt;&lt;br /&gt;MAGIC PLACE IN BARCELONA...</td>\n",
       "      <td>5159312</td>\n",
       "      <td>Vallvidrera, el Tibidabo i les Planes</td>\n",
       "      <td>Sarri�-Sant Gervasi</td>\n",
       "      <td>Entire home/apt</td>\n",
       "      <td>4</td>\n",
       "      <td>1.0</td>\n",
       "      <td>1.0</td>\n",
       "      <td>...</td>\n",
       "      <td>100.0</td>\n",
       "      <td>100.0</td>\n",
       "      <td>VERDADERO</td>\n",
       "      <td>101.0</td>\n",
       "      <td>spain</td>\n",
       "      <td>barcelona</td>\n",
       "      <td>2020-11-06</td>\n",
       "      <td>elevator, washer, workspace, bathroom essentia...</td>\n",
       "      <td>30</td>\n",
       "      <td>100.000000</td>\n",
       "    </tr>\n",
       "    <tr>\n",
       "      <th>3717</th>\n",
       "      <td>17384311</td>\n",
       "      <td>Cubic House Garden, Cala Morlanda.</td>\n",
       "      <td>Cozy designer apartment located  in a nice gar...</td>\n",
       "      <td>11087082</td>\n",
       "      <td>Manacor</td>\n",
       "      <td>NaN</td>\n",
       "      <td>Entire home/apt</td>\n",
       "      <td>3</td>\n",
       "      <td>1.0</td>\n",
       "      <td>1.0</td>\n",
       "      <td>...</td>\n",
       "      <td>90.0</td>\n",
       "      <td>100.0</td>\n",
       "      <td>VERDADERO</td>\n",
       "      <td>196.0</td>\n",
       "      <td>spain</td>\n",
       "      <td>mallorca</td>\n",
       "      <td>2020-10-21</td>\n",
       "      <td>ethernet connection, first aid kit, washer, wo...</td>\n",
       "      <td>0</td>\n",
       "      <td>0.000000</td>\n",
       "    </tr>\n",
       "    <tr>\n",
       "      <th>5404</th>\n",
       "      <td>21916433</td>\n",
       "      <td>Typical majorcan house in Llucmajor</td>\n",
       "      <td>Cozy 2 floors family house with 5 double bedro...</td>\n",
       "      <td>159911693</td>\n",
       "      <td>Llucmajor</td>\n",
       "      <td>NaN</td>\n",
       "      <td>Entire home/apt</td>\n",
       "      <td>10</td>\n",
       "      <td>3.0</td>\n",
       "      <td>5.0</td>\n",
       "      <td>...</td>\n",
       "      <td>90.0</td>\n",
       "      <td>100.0</td>\n",
       "      <td>FALSO</td>\n",
       "      <td>314.0</td>\n",
       "      <td>spain</td>\n",
       "      <td>mallorca</td>\n",
       "      <td>2020-03-22</td>\n",
       "      <td>breakfast, washer, private living room, bathro...</td>\n",
       "      <td>9</td>\n",
       "      <td>30.000000</td>\n",
       "    </tr>\n",
       "    <tr>\n",
       "      <th>5408</th>\n",
       "      <td>21925668</td>\n",
       "      <td>�tico con piscina Triana 2mm del Centro de sev...</td>\n",
       "      <td>Nous sommes � Triana � 2mm du centre de Sevill...</td>\n",
       "      <td>15589434</td>\n",
       "      <td>Triana Casco Antiguo</td>\n",
       "      <td>Triana</td>\n",
       "      <td>Entire home/apt</td>\n",
       "      <td>7</td>\n",
       "      <td>2.0</td>\n",
       "      <td>3.0</td>\n",
       "      <td>...</td>\n",
       "      <td>100.0</td>\n",
       "      <td>100.0</td>\n",
       "      <td>VERDADERO</td>\n",
       "      <td>514.0</td>\n",
       "      <td>spain</td>\n",
       "      <td>sevilla</td>\n",
       "      <td>2019-02-18</td>\n",
       "      <td>elevator, washer, first aid kit, private livin...</td>\n",
       "      <td>27</td>\n",
       "      <td>90.000000</td>\n",
       "    </tr>\n",
       "  </tbody>\n",
       "</table>\n",
       "<p>10 rows × 38 columns</p>\n",
       "</div>"
      ],
      "text/plain": [
       "      apartment_id                                               name  \\\n",
       "2218      11989301                             Vivienda San Mart�n II   \n",
       "1783       9122183                 Casa sevillana en barrio historico   \n",
       "5759      22979863  Stylish Apt PZA MAYOR/La Latina 2BD* 2BT*, 6p max   \n",
       "6072      23782265  Romantic and Rustic Penthouse with a Sun Kisse...   \n",
       "5587      22479174                     Private room in detached house   \n",
       "3365      16292600                                         BCN Luxury   \n",
       "309        1073748                MAGIC PLACE IN BARCELONA, WITH POOL   \n",
       "3717      17384311                 Cubic House Garden, Cala Morlanda.   \n",
       "5404      21916433                Typical majorcan house in Llucmajor   \n",
       "5408      21925668  �tico con piscina Triana 2mm del Centro de sev...   \n",
       "\n",
       "                                            description    host_id  \\\n",
       "2218  Rel�jate y desconecta mientras la c�lida luz v...   34840363   \n",
       "1783  Habitaci�n luminosa con terraza privada para u...   47528412   \n",
       "5759  Cozy and well-designed 2 bedroom apartment, co...   29281033   \n",
       "6072  Marvel at an adorable cottage-like space in an...   40929334   \n",
       "5587  Cozy private room in a detached villa, near Ad...   80975261   \n",
       "3365  Lujoso apartamento en pleno centro de Barcelon...   15944590   \n",
       "309   <b>The space</b><br />MAGIC PLACE IN BARCELONA...    5159312   \n",
       "3717  Cozy designer apartment located  in a nice gar...   11087082   \n",
       "5404  Cozy 2 floors family house with 5 double bedro...  159911693   \n",
       "5408  Nous sommes � Triana � 2mm du centre de Sevill...   15589434   \n",
       "\n",
       "                         neighbourhood_name neighbourhood_district  \\\n",
       "2218                          SANT FRANCESC           CIUTAT VELLA   \n",
       "1783                                Pio XII               Macarena   \n",
       "5759                                Palacio                 Centro   \n",
       "6072                            ARRANCAPINS              EXTRAMURS   \n",
       "5587                                  Rejas  San Blas - Canillejas   \n",
       "3365        l'Antiga Esquerra de l'Eixample               Eixample   \n",
       "309   Vallvidrera, el Tibidabo i les Planes    Sarri�-Sant Gervasi   \n",
       "3717                                Manacor                    NaN   \n",
       "5404                              Llucmajor                    NaN   \n",
       "5408                   Triana Casco Antiguo                 Triana   \n",
       "\n",
       "            room_type  accommodates  bathrooms  bedrooms  ...  \\\n",
       "2218  Entire home/apt             4        1.0       1.0  ...   \n",
       "1783     Private room             2        2.0       1.0  ...   \n",
       "5759  Entire home/apt             6        2.0       2.0  ...   \n",
       "6072  Entire home/apt             2        1.0       1.0  ...   \n",
       "5587     Private room             2        2.0       1.0  ...   \n",
       "3365  Entire home/apt             4        2.0       2.0  ...   \n",
       "309   Entire home/apt             4        1.0       1.0  ...   \n",
       "3717  Entire home/apt             3        1.0       1.0  ...   \n",
       "5404  Entire home/apt            10        3.0       5.0  ...   \n",
       "5408  Entire home/apt             7        2.0       3.0  ...   \n",
       "\n",
       "      review_scores_location review_scores_value  is_instant_bookable  \\\n",
       "2218                   100.0               100.0            VERDADERO   \n",
       "1783                    90.0               100.0                FALSO   \n",
       "5759                   100.0               100.0            VERDADERO   \n",
       "6072                   100.0                90.0            VERDADERO   \n",
       "5587                   100.0               100.0                FALSO   \n",
       "3365                   100.0               100.0                FALSO   \n",
       "309                    100.0               100.0            VERDADERO   \n",
       "3717                    90.0               100.0            VERDADERO   \n",
       "5404                    90.0               100.0                FALSO   \n",
       "5408                   100.0               100.0            VERDADERO   \n",
       "\n",
       "      reviews_per_month  country       city  insert_date  \\\n",
       "2218              394.0    spain   valencia   2019-12-31   \n",
       "1783              347.0    spain    sevilla   2019-07-29   \n",
       "5759              376.0    spain     madrid   2021-01-12   \n",
       "6072              501.0    spain   valencia   2020-05-31   \n",
       "5587              327.0    spain     madrid   2020-08-25   \n",
       "3365              274.0    spain  barcelona   2020-02-16   \n",
       "309               101.0    spain  barcelona   2020-11-06   \n",
       "3717              196.0    spain   mallorca   2020-10-21   \n",
       "5404              314.0    spain   mallorca   2020-03-22   \n",
       "5408              514.0    spain    sevilla   2019-02-18   \n",
       "\n",
       "                                   normalized_amenities  days_occupied  \\\n",
       "2218  smoke detector, accessible-height bed, elevato...             23   \n",
       "1783  accessible-height bed, washer, first aid kit, ...             30   \n",
       "5759  elevator, washer, workspace, bathroom essentia...             29   \n",
       "6072  elevator, washer, workspace, bathroom essentia...              1   \n",
       "5587  breakfast, first aid kit, washer, private livi...              4   \n",
       "3365  elevator, washer, bathroom essentials, nespres...             12   \n",
       "309   elevator, washer, workspace, bathroom essentia...             30   \n",
       "3717  ethernet connection, first aid kit, washer, wo...              0   \n",
       "5404  breakfast, washer, private living room, bathro...              9   \n",
       "5408  elevator, washer, first aid kit, private livin...             27   \n",
       "\n",
       "      occupancy_rate  \n",
       "2218       76.666667  \n",
       "1783      100.000000  \n",
       "5759       96.666667  \n",
       "6072        3.333333  \n",
       "5587       13.333333  \n",
       "3365       40.000000  \n",
       "309       100.000000  \n",
       "3717        0.000000  \n",
       "5404       30.000000  \n",
       "5408       90.000000  \n",
       "\n",
       "[10 rows x 38 columns]"
      ]
     },
     "execution_count": 14,
     "metadata": {},
     "output_type": "execute_result"
    }
   ],
   "source": [
    "top_apartamentos_puntos = df.sort_values(['review_scores_rating', 'number_of_reviews'], ascending=False)\n",
    "top_apartamentos_puntos.head(10)"
   ]
  },
  {
   "cell_type": "code",
   "execution_count": 15,
   "id": "137597bd",
   "metadata": {},
   "outputs": [
    {
     "data": {
      "text/html": [
       "<div>\n",
       "<style scoped>\n",
       "    .dataframe tbody tr th:only-of-type {\n",
       "        vertical-align: middle;\n",
       "    }\n",
       "\n",
       "    .dataframe tbody tr th {\n",
       "        vertical-align: top;\n",
       "    }\n",
       "\n",
       "    .dataframe thead th {\n",
       "        text-align: right;\n",
       "    }\n",
       "</style>\n",
       "<table border=\"1\" class=\"dataframe\">\n",
       "  <thead>\n",
       "    <tr style=\"text-align: right;\">\n",
       "      <th></th>\n",
       "      <th>apartment_id</th>\n",
       "      <th>name</th>\n",
       "      <th>description</th>\n",
       "      <th>host_id</th>\n",
       "      <th>neighbourhood_name</th>\n",
       "      <th>neighbourhood_district</th>\n",
       "      <th>room_type</th>\n",
       "      <th>accommodates</th>\n",
       "      <th>bathrooms</th>\n",
       "      <th>bedrooms</th>\n",
       "      <th>...</th>\n",
       "      <th>review_scores_location</th>\n",
       "      <th>review_scores_value</th>\n",
       "      <th>is_instant_bookable</th>\n",
       "      <th>reviews_per_month</th>\n",
       "      <th>country</th>\n",
       "      <th>city</th>\n",
       "      <th>insert_date</th>\n",
       "      <th>normalized_amenities</th>\n",
       "      <th>days_occupied</th>\n",
       "      <th>occupancy_rate</th>\n",
       "    </tr>\n",
       "  </thead>\n",
       "  <tbody>\n",
       "    <tr>\n",
       "      <th>63</th>\n",
       "      <td>384727</td>\n",
       "      <td>Private Room  in Center of Seville</td>\n",
       "      <td>located in the centre of Seville, offers accom...</td>\n",
       "      <td>1920069</td>\n",
       "      <td>Arenal</td>\n",
       "      <td>Casco Antiguo</td>\n",
       "      <td>Private room</td>\n",
       "      <td>2</td>\n",
       "      <td>1.0</td>\n",
       "      <td>1.0</td>\n",
       "      <td>...</td>\n",
       "      <td>100.0</td>\n",
       "      <td>100.0</td>\n",
       "      <td>FALSO</td>\n",
       "      <td>681.0</td>\n",
       "      <td>spain</td>\n",
       "      <td>sevilla</td>\n",
       "      <td>2019-06-29</td>\n",
       "      <td>hangers, air conditioning, essentials, transla...</td>\n",
       "      <td>30</td>\n",
       "      <td>100.000000</td>\n",
       "    </tr>\n",
       "    <tr>\n",
       "      <th>264</th>\n",
       "      <td>959840</td>\n",
       "      <td>PL REAL (Sq) PENTHOUSE Rooftop</td>\n",
       "      <td>Rustic penthous with old beams,old ceramic flo...</td>\n",
       "      <td>5223863</td>\n",
       "      <td>el Barri G�tic</td>\n",
       "      <td>Ciutat Vella</td>\n",
       "      <td>Private room</td>\n",
       "      <td>2</td>\n",
       "      <td>2.0</td>\n",
       "      <td>1.0</td>\n",
       "      <td>...</td>\n",
       "      <td>100.0</td>\n",
       "      <td>100.0</td>\n",
       "      <td>VERDADERO</td>\n",
       "      <td>71.0</td>\n",
       "      <td>spain</td>\n",
       "      <td>barcelona</td>\n",
       "      <td>2019-12-10</td>\n",
       "      <td>smoke detector, breakfast, accessible-height b...</td>\n",
       "      <td>26</td>\n",
       "      <td>86.666667</td>\n",
       "    </tr>\n",
       "    <tr>\n",
       "      <th>511</th>\n",
       "      <td>1871218</td>\n",
       "      <td>�tico apartamento VFT/SE/00804</td>\n",
       "      <td>�tico muy luminoso. Consta de: Sal�n, Ba�o, Co...</td>\n",
       "      <td>9751847</td>\n",
       "      <td>Le�n XIII, Los Naranjos</td>\n",
       "      <td>Macarena</td>\n",
       "      <td>Entire home/apt</td>\n",
       "      <td>2</td>\n",
       "      <td>1.0</td>\n",
       "      <td>1.0</td>\n",
       "      <td>...</td>\n",
       "      <td>90.0</td>\n",
       "      <td>80.0</td>\n",
       "      <td>VERDADERO</td>\n",
       "      <td>698.0</td>\n",
       "      <td>spain</td>\n",
       "      <td>sevilla</td>\n",
       "      <td>2020-01-30</td>\n",
       "      <td>washer, first aid kit, bathroom essentials, ki...</td>\n",
       "      <td>7</td>\n",
       "      <td>23.333333</td>\n",
       "    </tr>\n",
       "    <tr>\n",
       "      <th>729</th>\n",
       "      <td>3058631</td>\n",
       "      <td>Private Studio in Sol, Madrid</td>\n",
       "      <td>We are offering a clean, well presented and re...</td>\n",
       "      <td>14370747</td>\n",
       "      <td>Sol</td>\n",
       "      <td>Centro</td>\n",
       "      <td>Entire home/apt</td>\n",
       "      <td>3</td>\n",
       "      <td>1.0</td>\n",
       "      <td>1.0</td>\n",
       "      <td>...</td>\n",
       "      <td>100.0</td>\n",
       "      <td>90.0</td>\n",
       "      <td>FALSO</td>\n",
       "      <td>698.0</td>\n",
       "      <td>spain</td>\n",
       "      <td>madrid</td>\n",
       "      <td>2020-07-17</td>\n",
       "      <td>elevator, washer, workspace, bathroom essentia...</td>\n",
       "      <td>30</td>\n",
       "      <td>100.000000</td>\n",
       "    </tr>\n",
       "    <tr>\n",
       "      <th>98</th>\n",
       "      <td>526513</td>\n",
       "      <td>Sol.  Your home in Madrid�s Heart</td>\n",
       "      <td>DESIGN apartment in the HEART of Madrid.&lt;br /&gt;...</td>\n",
       "      <td>1134989</td>\n",
       "      <td>Sol</td>\n",
       "      <td>Centro</td>\n",
       "      <td>Entire home/apt</td>\n",
       "      <td>5</td>\n",
       "      <td>1.0</td>\n",
       "      <td>2.0</td>\n",
       "      <td>...</td>\n",
       "      <td>100.0</td>\n",
       "      <td>100.0</td>\n",
       "      <td>VERDADERO</td>\n",
       "      <td>491.0</td>\n",
       "      <td>spain</td>\n",
       "      <td>madrid</td>\n",
       "      <td>2021-01-12</td>\n",
       "      <td>elevator, first aid kit, washer, workspace, ba...</td>\n",
       "      <td>23</td>\n",
       "      <td>76.666667</td>\n",
       "    </tr>\n",
       "    <tr>\n",
       "      <th>753</th>\n",
       "      <td>3143400</td>\n",
       "      <td>Great room in the center of Madrid</td>\n",
       "      <td>Bright room in hortaleza Street, next to Gran ...</td>\n",
       "      <td>15328893</td>\n",
       "      <td>Justicia</td>\n",
       "      <td>Centro</td>\n",
       "      <td>Private room</td>\n",
       "      <td>2</td>\n",
       "      <td>1.0</td>\n",
       "      <td>1.0</td>\n",
       "      <td>...</td>\n",
       "      <td>100.0</td>\n",
       "      <td>100.0</td>\n",
       "      <td>VERDADERO</td>\n",
       "      <td>773.0</td>\n",
       "      <td>spain</td>\n",
       "      <td>madrid</td>\n",
       "      <td>2020-10-17</td>\n",
       "      <td>washer, bathroom essentials, nespresso machine...</td>\n",
       "      <td>30</td>\n",
       "      <td>100.000000</td>\n",
       "    </tr>\n",
       "    <tr>\n",
       "      <th>145</th>\n",
       "      <td>681925</td>\n",
       "      <td>Very Central, Stunning Views, Sunny Terrace, W...</td>\n",
       "      <td>FANTASTIC PENTHOUSE LOCATED IN THE CENTER OF V...</td>\n",
       "      <td>3462415</td>\n",
       "      <td>EL PILAR</td>\n",
       "      <td>CIUTAT VELLA</td>\n",
       "      <td>Entire home/apt</td>\n",
       "      <td>2</td>\n",
       "      <td>1.0</td>\n",
       "      <td>1.0</td>\n",
       "      <td>...</td>\n",
       "      <td>100.0</td>\n",
       "      <td>100.0</td>\n",
       "      <td>VERDADERO</td>\n",
       "      <td>624.0</td>\n",
       "      <td>spain</td>\n",
       "      <td>valencia</td>\n",
       "      <td>2019-05-31</td>\n",
       "      <td>smoke detector, elevator, washer, first aid ki...</td>\n",
       "      <td>27</td>\n",
       "      <td>90.000000</td>\n",
       "    </tr>\n",
       "    <tr>\n",
       "      <th>478</th>\n",
       "      <td>1670427</td>\n",
       "      <td>Walk everywhere!Brand new apartWIFI</td>\n",
       "      <td>The apartment is  right in the center of Barce...</td>\n",
       "      <td>8843962</td>\n",
       "      <td>la Dreta de l'Eixample</td>\n",
       "      <td>Eixample</td>\n",
       "      <td>Entire home/apt</td>\n",
       "      <td>5</td>\n",
       "      <td>1.0</td>\n",
       "      <td>1.0</td>\n",
       "      <td>...</td>\n",
       "      <td>100.0</td>\n",
       "      <td>90.0</td>\n",
       "      <td>VERDADERO</td>\n",
       "      <td>588.0</td>\n",
       "      <td>spain</td>\n",
       "      <td>barcelona</td>\n",
       "      <td>2020-10-12</td>\n",
       "      <td>elevator, washer, workspace, kitchen, microwav...</td>\n",
       "      <td>3</td>\n",
       "      <td>10.000000</td>\n",
       "    </tr>\n",
       "    <tr>\n",
       "      <th>936</th>\n",
       "      <td>4028518</td>\n",
       "      <td>Renovated &amp; Vintage en Barcelona</td>\n",
       "      <td>Welcome to this cozy apartment located in the ...</td>\n",
       "      <td>20886062</td>\n",
       "      <td>la Sagrada Fam�lia</td>\n",
       "      <td>Eixample</td>\n",
       "      <td>Entire home/apt</td>\n",
       "      <td>4</td>\n",
       "      <td>1.0</td>\n",
       "      <td>2.0</td>\n",
       "      <td>...</td>\n",
       "      <td>100.0</td>\n",
       "      <td>100.0</td>\n",
       "      <td>VERDADERO</td>\n",
       "      <td>712.0</td>\n",
       "      <td>spain</td>\n",
       "      <td>barcelona</td>\n",
       "      <td>2020-03-16</td>\n",
       "      <td>elevator, washer, first aid kit, bathroom esse...</td>\n",
       "      <td>1</td>\n",
       "      <td>3.333333</td>\n",
       "    </tr>\n",
       "    <tr>\n",
       "      <th>1313</th>\n",
       "      <td>6289283</td>\n",
       "      <td>Cozy apartment near El Raval</td>\n",
       "      <td>Nice bright room with large private terrace (p...</td>\n",
       "      <td>32695481</td>\n",
       "      <td>el Raval</td>\n",
       "      <td>Ciutat Vella</td>\n",
       "      <td>Private room</td>\n",
       "      <td>2</td>\n",
       "      <td>1.0</td>\n",
       "      <td>1.0</td>\n",
       "      <td>...</td>\n",
       "      <td>90.0</td>\n",
       "      <td>90.0</td>\n",
       "      <td>VERDADERO</td>\n",
       "      <td>78.0</td>\n",
       "      <td>spain</td>\n",
       "      <td>barcelona</td>\n",
       "      <td>2020-03-16</td>\n",
       "      <td>elevator, washer, lock on bedroom door, bathro...</td>\n",
       "      <td>4</td>\n",
       "      <td>13.333333</td>\n",
       "    </tr>\n",
       "  </tbody>\n",
       "</table>\n",
       "<p>10 rows × 38 columns</p>\n",
       "</div>"
      ],
      "text/plain": [
       "      apartment_id                                               name  \\\n",
       "63          384727                 Private Room  in Center of Seville   \n",
       "264         959840                     PL REAL (Sq) PENTHOUSE Rooftop   \n",
       "511        1871218                     �tico apartamento VFT/SE/00804   \n",
       "729        3058631                      Private Studio in Sol, Madrid   \n",
       "98          526513                  Sol.  Your home in Madrid�s Heart   \n",
       "753        3143400                 Great room in the center of Madrid   \n",
       "145         681925  Very Central, Stunning Views, Sunny Terrace, W...   \n",
       "478        1670427                Walk everywhere!Brand new apartWIFI   \n",
       "936        4028518                   Renovated & Vintage en Barcelona   \n",
       "1313       6289283                       Cozy apartment near El Raval   \n",
       "\n",
       "                                            description   host_id  \\\n",
       "63    located in the centre of Seville, offers accom...   1920069   \n",
       "264   Rustic penthous with old beams,old ceramic flo...   5223863   \n",
       "511   �tico muy luminoso. Consta de: Sal�n, Ba�o, Co...   9751847   \n",
       "729   We are offering a clean, well presented and re...  14370747   \n",
       "98    DESIGN apartment in the HEART of Madrid.<br />...   1134989   \n",
       "753   Bright room in hortaleza Street, next to Gran ...  15328893   \n",
       "145   FANTASTIC PENTHOUSE LOCATED IN THE CENTER OF V...   3462415   \n",
       "478   The apartment is  right in the center of Barce...   8843962   \n",
       "936   Welcome to this cozy apartment located in the ...  20886062   \n",
       "1313  Nice bright room with large private terrace (p...  32695481   \n",
       "\n",
       "           neighbourhood_name neighbourhood_district        room_type  \\\n",
       "63                     Arenal          Casco Antiguo     Private room   \n",
       "264            el Barri G�tic           Ciutat Vella     Private room   \n",
       "511   Le�n XIII, Los Naranjos               Macarena  Entire home/apt   \n",
       "729                       Sol                 Centro  Entire home/apt   \n",
       "98                        Sol                 Centro  Entire home/apt   \n",
       "753                  Justicia                 Centro     Private room   \n",
       "145                  EL PILAR           CIUTAT VELLA  Entire home/apt   \n",
       "478    la Dreta de l'Eixample               Eixample  Entire home/apt   \n",
       "936        la Sagrada Fam�lia               Eixample  Entire home/apt   \n",
       "1313                 el Raval           Ciutat Vella     Private room   \n",
       "\n",
       "      accommodates  bathrooms  bedrooms  ...  review_scores_location  \\\n",
       "63               2        1.0       1.0  ...                   100.0   \n",
       "264              2        2.0       1.0  ...                   100.0   \n",
       "511              2        1.0       1.0  ...                    90.0   \n",
       "729              3        1.0       1.0  ...                   100.0   \n",
       "98               5        1.0       2.0  ...                   100.0   \n",
       "753              2        1.0       1.0  ...                   100.0   \n",
       "145              2        1.0       1.0  ...                   100.0   \n",
       "478              5        1.0       1.0  ...                   100.0   \n",
       "936              4        1.0       2.0  ...                   100.0   \n",
       "1313             2        1.0       1.0  ...                    90.0   \n",
       "\n",
       "     review_scores_value  is_instant_bookable  reviews_per_month  country  \\\n",
       "63                 100.0                FALSO              681.0    spain   \n",
       "264                100.0            VERDADERO               71.0    spain   \n",
       "511                 80.0            VERDADERO              698.0    spain   \n",
       "729                 90.0                FALSO              698.0    spain   \n",
       "98                 100.0            VERDADERO              491.0    spain   \n",
       "753                100.0            VERDADERO              773.0    spain   \n",
       "145                100.0            VERDADERO              624.0    spain   \n",
       "478                 90.0            VERDADERO              588.0    spain   \n",
       "936                100.0            VERDADERO              712.0    spain   \n",
       "1313                90.0            VERDADERO               78.0    spain   \n",
       "\n",
       "           city  insert_date  \\\n",
       "63      sevilla   2019-06-29   \n",
       "264   barcelona   2019-12-10   \n",
       "511     sevilla   2020-01-30   \n",
       "729      madrid   2020-07-17   \n",
       "98       madrid   2021-01-12   \n",
       "753      madrid   2020-10-17   \n",
       "145    valencia   2019-05-31   \n",
       "478   barcelona   2020-10-12   \n",
       "936   barcelona   2020-03-16   \n",
       "1313  barcelona   2020-03-16   \n",
       "\n",
       "                                   normalized_amenities  days_occupied  \\\n",
       "63    hangers, air conditioning, essentials, transla...             30   \n",
       "264   smoke detector, breakfast, accessible-height b...             26   \n",
       "511   washer, first aid kit, bathroom essentials, ki...              7   \n",
       "729   elevator, washer, workspace, bathroom essentia...             30   \n",
       "98    elevator, first aid kit, washer, workspace, ba...             23   \n",
       "753   washer, bathroom essentials, nespresso machine...             30   \n",
       "145   smoke detector, elevator, washer, first aid ki...             27   \n",
       "478   elevator, washer, workspace, kitchen, microwav...              3   \n",
       "936   elevator, washer, first aid kit, bathroom esse...              1   \n",
       "1313  elevator, washer, lock on bedroom door, bathro...              4   \n",
       "\n",
       "      occupancy_rate  \n",
       "63        100.000000  \n",
       "264        86.666667  \n",
       "511        23.333333  \n",
       "729       100.000000  \n",
       "98         76.666667  \n",
       "753       100.000000  \n",
       "145        90.000000  \n",
       "478        10.000000  \n",
       "936         3.333333  \n",
       "1313       13.333333  \n",
       "\n",
       "[10 rows x 38 columns]"
      ]
     },
     "execution_count": 15,
     "metadata": {},
     "output_type": "execute_result"
    }
   ],
   "source": [
    "top_apartamentos_num_reviews = df.sort_values(['number_of_reviews', 'review_scores_rating'], ascending=False)\n",
    "top_apartamentos_num_reviews.head(10)"
   ]
  },
  {
   "cell_type": "markdown",
   "id": "0a531344",
   "metadata": {},
   "source": [
    "### Índice de satisfacción general"
   ]
  },
  {
   "cell_type": "code",
   "execution_count": 16,
   "id": "91b150ee",
   "metadata": {},
   "outputs": [
    {
     "name": "stdout",
     "output_type": "stream",
     "text": [
      "El índice de satisfacción general es: 73.78\n"
     ]
    }
   ],
   "source": [
    "Indice_satisfaccion_general = df['review_scores_value'].sum() / df['apartment_id'].count()\n",
    "\n",
    "print(f'El índice de satisfacción general es: {Indice_satisfaccion_general:.2f}')"
   ]
  },
  {
   "cell_type": "markdown",
   "id": "29893f55",
   "metadata": {},
   "source": [
    "### Ítem con la mayor puntuación promedio"
   ]
  },
  {
   "cell_type": "code",
   "execution_count": 17,
   "id": "42c4fa97",
   "metadata": {},
   "outputs": [
    {
     "name": "stdout",
     "output_type": "stream",
     "text": [
      "La métrica con la mayor puntuación promedio es: Comunicaciones con un valor de 96.43\n"
     ]
    }
   ],
   "source": [
    "# Diccionario para traducir los nombres de las columnas de evaluación específicas\n",
    "traducciones = {\n",
    "    'review_scores_accuracy': 'Precisión',\n",
    "    'review_scores_cleanliness': 'Limpieza',\n",
    "    'review_scores_checkin': 'Registro',\n",
    "    'review_scores_communication': 'Comunicaciones',\n",
    "    'review_scores_location': 'Ubicación'\n",
    "}\n",
    "\n",
    "# Columnas originales\n",
    "cols = list(traducciones.keys())\n",
    "\n",
    "# Calcular la media de cada una (ignorando NaN)\n",
    "mean_scores = df[cols].mean().rename(traducciones)\n",
    "\n",
    "# Mostrar la métrica con mayor media\n",
    "max_metric = mean_scores.idxmax()\n",
    "max_value = mean_scores.max()\n",
    "\n",
    "print(f\"La métrica con la mayor puntuación promedio es: {max_metric} con un valor de {max_value:.2f}\")\n"
   ]
  },
  {
   "cell_type": "markdown",
   "id": "66fca0f0",
   "metadata": {},
   "source": [
    "Gráfica de radar para representar las puntuaciones"
   ]
  },
  {
   "cell_type": "code",
   "execution_count": 18,
   "id": "df81f127",
   "metadata": {},
   "outputs": [
    {
     "data": {
      "application/vnd.plotly.v1+json": {
       "config": {
        "plotlyServerURL": "https://plot.ly"
       },
       "data": [
        {
         "fill": "toself",
         "hovertemplate": "r=%{r}<br>theta=%{theta}<extra></extra>",
         "legendgroup": "",
         "line": {
          "color": "#636efa",
          "dash": "solid"
         },
         "marker": {
          "symbol": "circle"
         },
         "mode": "lines",
         "name": "",
         "r": [
          94.53926797866471,
          93.16185926878559,
          96.27761413843888,
          96.43264105862893,
          95.27343030749401,
          94.53926797866471
         ],
         "showlegend": false,
         "subplot": "polar",
         "theta": [
          "Precisión",
          "Limpieza",
          "Registro",
          "Comunicaciones",
          "Ubicación",
          "Precisión"
         ],
         "type": "scatterpolar"
        },
        {
         "marker": {
          "color": "blue",
          "size": 5,
          "symbol": "circle"
         },
         "mode": "markers+text",
         "name": "Valores",
         "r": [
          94.53926797866471,
          93.16185926878559,
          96.27761413843888,
          96.43264105862893,
          95.27343030749401
         ],
         "showlegend": false,
         "text": [
          94.54,
          93.16,
          96.28,
          96.43,
          95.27
         ],
         "textposition": "top center",
         "theta": [
          "Precisión",
          "Limpieza",
          "Registro",
          "Comunicaciones",
          "Ubicación"
         ],
         "type": "scatterpolar"
        },
        {
         "marker": {
          "color": "red",
          "size": 10,
          "symbol": "circle"
         },
         "mode": "markers",
         "name": "Valor máximo",
         "r": [
          96.43264105862893
         ],
         "showlegend": false,
         "theta": [
          "Comunicaciones"
         ],
         "type": "scatterpolar"
        }
       ],
       "layout": {
        "legend": {
         "tracegroupgap": 0
        },
        "margin": {
         "t": 60
        },
        "polar": {
         "angularaxis": {
          "direction": "clockwise",
          "rotation": 90
         },
         "domain": {
          "x": [
           0,
           1
          ],
          "y": [
           0,
           1
          ]
         },
         "radialaxis": {
          "range": [
           90,
           100
          ]
         }
        },
        "template": {
         "data": {
          "bar": [
           {
            "error_x": {
             "color": "#2a3f5f"
            },
            "error_y": {
             "color": "#2a3f5f"
            },
            "marker": {
             "line": {
              "color": "#E5ECF6",
              "width": 0.5
             },
             "pattern": {
              "fillmode": "overlay",
              "size": 10,
              "solidity": 0.2
             }
            },
            "type": "bar"
           }
          ],
          "barpolar": [
           {
            "marker": {
             "line": {
              "color": "#E5ECF6",
              "width": 0.5
             },
             "pattern": {
              "fillmode": "overlay",
              "size": 10,
              "solidity": 0.2
             }
            },
            "type": "barpolar"
           }
          ],
          "carpet": [
           {
            "aaxis": {
             "endlinecolor": "#2a3f5f",
             "gridcolor": "white",
             "linecolor": "white",
             "minorgridcolor": "white",
             "startlinecolor": "#2a3f5f"
            },
            "baxis": {
             "endlinecolor": "#2a3f5f",
             "gridcolor": "white",
             "linecolor": "white",
             "minorgridcolor": "white",
             "startlinecolor": "#2a3f5f"
            },
            "type": "carpet"
           }
          ],
          "choropleth": [
           {
            "colorbar": {
             "outlinewidth": 0,
             "ticks": ""
            },
            "type": "choropleth"
           }
          ],
          "contour": [
           {
            "colorbar": {
             "outlinewidth": 0,
             "ticks": ""
            },
            "colorscale": [
             [
              0,
              "#0d0887"
             ],
             [
              0.1111111111111111,
              "#46039f"
             ],
             [
              0.2222222222222222,
              "#7201a8"
             ],
             [
              0.3333333333333333,
              "#9c179e"
             ],
             [
              0.4444444444444444,
              "#bd3786"
             ],
             [
              0.5555555555555556,
              "#d8576b"
             ],
             [
              0.6666666666666666,
              "#ed7953"
             ],
             [
              0.7777777777777778,
              "#fb9f3a"
             ],
             [
              0.8888888888888888,
              "#fdca26"
             ],
             [
              1,
              "#f0f921"
             ]
            ],
            "type": "contour"
           }
          ],
          "contourcarpet": [
           {
            "colorbar": {
             "outlinewidth": 0,
             "ticks": ""
            },
            "type": "contourcarpet"
           }
          ],
          "heatmap": [
           {
            "colorbar": {
             "outlinewidth": 0,
             "ticks": ""
            },
            "colorscale": [
             [
              0,
              "#0d0887"
             ],
             [
              0.1111111111111111,
              "#46039f"
             ],
             [
              0.2222222222222222,
              "#7201a8"
             ],
             [
              0.3333333333333333,
              "#9c179e"
             ],
             [
              0.4444444444444444,
              "#bd3786"
             ],
             [
              0.5555555555555556,
              "#d8576b"
             ],
             [
              0.6666666666666666,
              "#ed7953"
             ],
             [
              0.7777777777777778,
              "#fb9f3a"
             ],
             [
              0.8888888888888888,
              "#fdca26"
             ],
             [
              1,
              "#f0f921"
             ]
            ],
            "type": "heatmap"
           }
          ],
          "heatmapgl": [
           {
            "colorbar": {
             "outlinewidth": 0,
             "ticks": ""
            },
            "colorscale": [
             [
              0,
              "#0d0887"
             ],
             [
              0.1111111111111111,
              "#46039f"
             ],
             [
              0.2222222222222222,
              "#7201a8"
             ],
             [
              0.3333333333333333,
              "#9c179e"
             ],
             [
              0.4444444444444444,
              "#bd3786"
             ],
             [
              0.5555555555555556,
              "#d8576b"
             ],
             [
              0.6666666666666666,
              "#ed7953"
             ],
             [
              0.7777777777777778,
              "#fb9f3a"
             ],
             [
              0.8888888888888888,
              "#fdca26"
             ],
             [
              1,
              "#f0f921"
             ]
            ],
            "type": "heatmapgl"
           }
          ],
          "histogram": [
           {
            "marker": {
             "pattern": {
              "fillmode": "overlay",
              "size": 10,
              "solidity": 0.2
             }
            },
            "type": "histogram"
           }
          ],
          "histogram2d": [
           {
            "colorbar": {
             "outlinewidth": 0,
             "ticks": ""
            },
            "colorscale": [
             [
              0,
              "#0d0887"
             ],
             [
              0.1111111111111111,
              "#46039f"
             ],
             [
              0.2222222222222222,
              "#7201a8"
             ],
             [
              0.3333333333333333,
              "#9c179e"
             ],
             [
              0.4444444444444444,
              "#bd3786"
             ],
             [
              0.5555555555555556,
              "#d8576b"
             ],
             [
              0.6666666666666666,
              "#ed7953"
             ],
             [
              0.7777777777777778,
              "#fb9f3a"
             ],
             [
              0.8888888888888888,
              "#fdca26"
             ],
             [
              1,
              "#f0f921"
             ]
            ],
            "type": "histogram2d"
           }
          ],
          "histogram2dcontour": [
           {
            "colorbar": {
             "outlinewidth": 0,
             "ticks": ""
            },
            "colorscale": [
             [
              0,
              "#0d0887"
             ],
             [
              0.1111111111111111,
              "#46039f"
             ],
             [
              0.2222222222222222,
              "#7201a8"
             ],
             [
              0.3333333333333333,
              "#9c179e"
             ],
             [
              0.4444444444444444,
              "#bd3786"
             ],
             [
              0.5555555555555556,
              "#d8576b"
             ],
             [
              0.6666666666666666,
              "#ed7953"
             ],
             [
              0.7777777777777778,
              "#fb9f3a"
             ],
             [
              0.8888888888888888,
              "#fdca26"
             ],
             [
              1,
              "#f0f921"
             ]
            ],
            "type": "histogram2dcontour"
           }
          ],
          "mesh3d": [
           {
            "colorbar": {
             "outlinewidth": 0,
             "ticks": ""
            },
            "type": "mesh3d"
           }
          ],
          "parcoords": [
           {
            "line": {
             "colorbar": {
              "outlinewidth": 0,
              "ticks": ""
             }
            },
            "type": "parcoords"
           }
          ],
          "pie": [
           {
            "automargin": true,
            "type": "pie"
           }
          ],
          "scatter": [
           {
            "fillpattern": {
             "fillmode": "overlay",
             "size": 10,
             "solidity": 0.2
            },
            "type": "scatter"
           }
          ],
          "scatter3d": [
           {
            "line": {
             "colorbar": {
              "outlinewidth": 0,
              "ticks": ""
             }
            },
            "marker": {
             "colorbar": {
              "outlinewidth": 0,
              "ticks": ""
             }
            },
            "type": "scatter3d"
           }
          ],
          "scattercarpet": [
           {
            "marker": {
             "colorbar": {
              "outlinewidth": 0,
              "ticks": ""
             }
            },
            "type": "scattercarpet"
           }
          ],
          "scattergeo": [
           {
            "marker": {
             "colorbar": {
              "outlinewidth": 0,
              "ticks": ""
             }
            },
            "type": "scattergeo"
           }
          ],
          "scattergl": [
           {
            "marker": {
             "colorbar": {
              "outlinewidth": 0,
              "ticks": ""
             }
            },
            "type": "scattergl"
           }
          ],
          "scattermapbox": [
           {
            "marker": {
             "colorbar": {
              "outlinewidth": 0,
              "ticks": ""
             }
            },
            "type": "scattermapbox"
           }
          ],
          "scatterpolar": [
           {
            "marker": {
             "colorbar": {
              "outlinewidth": 0,
              "ticks": ""
             }
            },
            "type": "scatterpolar"
           }
          ],
          "scatterpolargl": [
           {
            "marker": {
             "colorbar": {
              "outlinewidth": 0,
              "ticks": ""
             }
            },
            "type": "scatterpolargl"
           }
          ],
          "scatterternary": [
           {
            "marker": {
             "colorbar": {
              "outlinewidth": 0,
              "ticks": ""
             }
            },
            "type": "scatterternary"
           }
          ],
          "surface": [
           {
            "colorbar": {
             "outlinewidth": 0,
             "ticks": ""
            },
            "colorscale": [
             [
              0,
              "#0d0887"
             ],
             [
              0.1111111111111111,
              "#46039f"
             ],
             [
              0.2222222222222222,
              "#7201a8"
             ],
             [
              0.3333333333333333,
              "#9c179e"
             ],
             [
              0.4444444444444444,
              "#bd3786"
             ],
             [
              0.5555555555555556,
              "#d8576b"
             ],
             [
              0.6666666666666666,
              "#ed7953"
             ],
             [
              0.7777777777777778,
              "#fb9f3a"
             ],
             [
              0.8888888888888888,
              "#fdca26"
             ],
             [
              1,
              "#f0f921"
             ]
            ],
            "type": "surface"
           }
          ],
          "table": [
           {
            "cells": {
             "fill": {
              "color": "#EBF0F8"
             },
             "line": {
              "color": "white"
             }
            },
            "header": {
             "fill": {
              "color": "#C8D4E3"
             },
             "line": {
              "color": "white"
             }
            },
            "type": "table"
           }
          ]
         },
         "layout": {
          "annotationdefaults": {
           "arrowcolor": "#2a3f5f",
           "arrowhead": 0,
           "arrowwidth": 1
          },
          "autotypenumbers": "strict",
          "coloraxis": {
           "colorbar": {
            "outlinewidth": 0,
            "ticks": ""
           }
          },
          "colorscale": {
           "diverging": [
            [
             0,
             "#8e0152"
            ],
            [
             0.1,
             "#c51b7d"
            ],
            [
             0.2,
             "#de77ae"
            ],
            [
             0.3,
             "#f1b6da"
            ],
            [
             0.4,
             "#fde0ef"
            ],
            [
             0.5,
             "#f7f7f7"
            ],
            [
             0.6,
             "#e6f5d0"
            ],
            [
             0.7,
             "#b8e186"
            ],
            [
             0.8,
             "#7fbc41"
            ],
            [
             0.9,
             "#4d9221"
            ],
            [
             1,
             "#276419"
            ]
           ],
           "sequential": [
            [
             0,
             "#0d0887"
            ],
            [
             0.1111111111111111,
             "#46039f"
            ],
            [
             0.2222222222222222,
             "#7201a8"
            ],
            [
             0.3333333333333333,
             "#9c179e"
            ],
            [
             0.4444444444444444,
             "#bd3786"
            ],
            [
             0.5555555555555556,
             "#d8576b"
            ],
            [
             0.6666666666666666,
             "#ed7953"
            ],
            [
             0.7777777777777778,
             "#fb9f3a"
            ],
            [
             0.8888888888888888,
             "#fdca26"
            ],
            [
             1,
             "#f0f921"
            ]
           ],
           "sequentialminus": [
            [
             0,
             "#0d0887"
            ],
            [
             0.1111111111111111,
             "#46039f"
            ],
            [
             0.2222222222222222,
             "#7201a8"
            ],
            [
             0.3333333333333333,
             "#9c179e"
            ],
            [
             0.4444444444444444,
             "#bd3786"
            ],
            [
             0.5555555555555556,
             "#d8576b"
            ],
            [
             0.6666666666666666,
             "#ed7953"
            ],
            [
             0.7777777777777778,
             "#fb9f3a"
            ],
            [
             0.8888888888888888,
             "#fdca26"
            ],
            [
             1,
             "#f0f921"
            ]
           ]
          },
          "colorway": [
           "#636efa",
           "#EF553B",
           "#00cc96",
           "#ab63fa",
           "#FFA15A",
           "#19d3f3",
           "#FF6692",
           "#B6E880",
           "#FF97FF",
           "#FECB52"
          ],
          "font": {
           "color": "#2a3f5f"
          },
          "geo": {
           "bgcolor": "white",
           "lakecolor": "white",
           "landcolor": "#E5ECF6",
           "showlakes": true,
           "showland": true,
           "subunitcolor": "white"
          },
          "hoverlabel": {
           "align": "left"
          },
          "hovermode": "closest",
          "mapbox": {
           "style": "light"
          },
          "paper_bgcolor": "white",
          "plot_bgcolor": "#E5ECF6",
          "polar": {
           "angularaxis": {
            "gridcolor": "white",
            "linecolor": "white",
            "ticks": ""
           },
           "bgcolor": "#E5ECF6",
           "radialaxis": {
            "gridcolor": "white",
            "linecolor": "white",
            "ticks": ""
           }
          },
          "scene": {
           "xaxis": {
            "backgroundcolor": "#E5ECF6",
            "gridcolor": "white",
            "gridwidth": 2,
            "linecolor": "white",
            "showbackground": true,
            "ticks": "",
            "zerolinecolor": "white"
           },
           "yaxis": {
            "backgroundcolor": "#E5ECF6",
            "gridcolor": "white",
            "gridwidth": 2,
            "linecolor": "white",
            "showbackground": true,
            "ticks": "",
            "zerolinecolor": "white"
           },
           "zaxis": {
            "backgroundcolor": "#E5ECF6",
            "gridcolor": "white",
            "gridwidth": 2,
            "linecolor": "white",
            "showbackground": true,
            "ticks": "",
            "zerolinecolor": "white"
           }
          },
          "shapedefaults": {
           "line": {
            "color": "#2a3f5f"
           }
          },
          "ternary": {
           "aaxis": {
            "gridcolor": "white",
            "linecolor": "white",
            "ticks": ""
           },
           "baxis": {
            "gridcolor": "white",
            "linecolor": "white",
            "ticks": ""
           },
           "bgcolor": "#E5ECF6",
           "caxis": {
            "gridcolor": "white",
            "linecolor": "white",
            "ticks": ""
           }
          },
          "title": {
           "x": 0.05
          },
          "xaxis": {
           "automargin": true,
           "gridcolor": "white",
           "linecolor": "white",
           "ticks": "",
           "title": {
            "standoff": 15
           },
           "zerolinecolor": "white",
           "zerolinewidth": 2
          },
          "yaxis": {
           "automargin": true,
           "gridcolor": "white",
           "linecolor": "white",
           "ticks": "",
           "title": {
            "standoff": 15
           },
           "zerolinecolor": "white",
           "zerolinewidth": 2
          }
         }
        }
       }
      }
     },
     "metadata": {},
     "output_type": "display_data"
    }
   ],
   "source": [
    "#Trazamos la gráfica de radar\n",
    "\n",
    "fig = px.line_polar(df, r=mean_scores.values, theta=mean_scores.index, range_r=(90, 100), line_close=True)\n",
    "fig.update_traces(fill='toself')\n",
    "\n",
    "#Añadimos los valores\n",
    "\n",
    "fig.add_trace(go.Scatterpolar(\n",
    "    r=mean_scores.values,\n",
    "    theta=mean_scores.index,\n",
    "    mode='markers+text',\n",
    "    marker=dict(color='blue', size=5, symbol='circle'),\n",
    "    text=mean_scores.values.round(2),\n",
    "    textposition='top center',\n",
    "    name='Valores',\n",
    "    showlegend=False\n",
    "))\n",
    "\n",
    "#Marcamos el valor máximo\n",
    "\n",
    "fig.add_trace(go.Scatterpolar(\n",
    "    r=[max_value],\n",
    "    theta=[max_metric],\n",
    "    mode='markers',\n",
    "    marker=dict(color='red', size=10, symbol='circle'),\n",
    "    name='Valor máximo',\n",
    "    showlegend=False\n",
    "))"
   ]
  },
  {
   "cell_type": "code",
   "execution_count": 24,
   "id": "b8839c66",
   "metadata": {},
   "outputs": [
    {
     "data": {
      "image/png": "[encoded data removed]",
      "text/plain": [
       "<Figure size 600x600 with 1 Axes>"
      ]
     },
     "metadata": {},
     "output_type": "display_data"
    }
   ],
   "source": [
    "# Lo mismo, pero en matplotlib (importable a Power BI; plotly es interactivo y no se muestra en dashboards)\n",
    "# Traducción\n",
    "traducciones = {\n",
    "    'review_scores_accuracy': 'Precisión',\n",
    "    'review_scores_cleanliness': 'Limpieza',\n",
    "    'review_scores_checkin': 'Registro',\n",
    "    'review_scores_communication': 'Comunicaciones',\n",
    "    'review_scores_location': 'Ubicación'\n",
    "}\n",
    "\n",
    "cols = list(traducciones.keys())\n",
    "mean_scores = df[cols].mean().rename(traducciones)\n",
    "\n",
    "# Preparar datos para radar\n",
    "labels = mean_scores.index\n",
    "values = mean_scores.values\n",
    "num_vars = len(labels)\n",
    "\n",
    "# Asegurarse de cerrar el gráfico\n",
    "values = np.append(values, values[0])\n",
    "angles = np.linspace(0, 2 * np.pi, num_vars, endpoint=False).tolist()\n",
    "angles += angles[:1]\n",
    "\n",
    "# Buscar valor máximo\n",
    "max_idx = np.argmax(mean_scores.values)\n",
    "max_angle = angles[max_idx]\n",
    "max_value = mean_scores.values[max_idx]\n",
    "\n",
    "# Crear gráfico\n",
    "fig, ax = plt.subplots(figsize=(6, 6), subplot_kw=dict(polar=True))\n",
    "\n",
    "# Trazar línea principal\n",
    "ax.plot(angles, values, color='skyblue', linewidth=2)\n",
    "ax.fill(angles, values, color='skyblue', alpha=0.3)\n",
    "\n",
    "# Trazar puntos\n",
    "ax.scatter(angles[:-1], mean_scores.values, color='blue', s=50, zorder=5)\n",
    "\n",
    "# Resaltar punto máximo\n",
    "ax.scatter([max_angle], [max_value], color='red', s=100, zorder=6)\n",
    "\n",
    "# Añadir etiquetas\n",
    "ax.set_xticks(angles[:-1])\n",
    "ax.set_xticklabels(labels)\n",
    "\n",
    "# Ajustar rango radial\n",
    "ax.set_ylim(90, 100)\n",
    "\n",
    "# Mostrar\n",
    "plt.title(\"Evaluación media por dimensión\", size=14, pad=20)\n",
    "plt.tight_layout()\n",
    "plt.show()\n"
   ]
  },
  {
   "cell_type": "markdown",
   "id": "cc155520",
   "metadata": {},
   "source": [
    "### Respuestas de negocio\n",
    "\n",
    "Puntuación media de los usuarios"
   ]
  },
  {
   "cell_type": "code",
   "execution_count": 19,
   "id": "e2078dfa",
   "metadata": {},
   "outputs": [
    {
     "name": "stdout",
     "output_type": "stream",
     "text": [
      "Puntuación media otorgada por los usuarios: 91.46\n"
     ]
    }
   ],
   "source": [
    "media_valor = df['review_scores_value'].mean()\n",
    "print(f\"Puntuación media otorgada por los usuarios: {media_valor:.2f}\")"
   ]
  },
  {
   "cell_type": "markdown",
   "id": "e5427c04",
   "metadata": {},
   "source": [
    " Porcentaje de alojamientos por ciudad que superan una puntuación de 80"
   ]
  },
  {
   "cell_type": "code",
   "execution_count": 20,
   "id": "2596361b",
   "metadata": {},
   "outputs": [
    {
     "name": "stdout",
     "output_type": "stream",
     "text": [
      "           supera_80\n",
      "city                \n",
      "sevilla        85.63\n",
      "valencia       82.83\n",
      "malaga         78.76\n",
      "madrid         74.43\n",
      "barcelona      66.88\n",
      "menorca        63.04\n",
      "mallorca       60.49\n",
      "girona         54.01\n"
     ]
    }
   ],
   "source": [
    "\n",
    "# Crear una columna booleana para marcar los que superan 80\n",
    "df['supera_80'] = df['review_scores_value'] > 80\n",
    "\n",
    "# Agrupar por ciudad y calcular el porcentaje\n",
    "porcentaje_por_ciudad = (\n",
    "    df.groupby('city')['supera_80']\n",
    "    .mean().sort_values(ascending=False) * 100\n",
    ").round(2)\n",
    "\n",
    "print(pd.DataFrame(porcentaje_por_ciudad))\n"
   ]
  },
  {
   "cell_type": "code",
   "execution_count": 21,
   "id": "989cfbc8",
   "metadata": {},
   "outputs": [
    {
     "name": "stdout",
     "output_type": "stream",
     "text": [
      "<class 'pandas.core.series.Series'>\n",
      "Index: 8 entries, sevilla to girona\n",
      "Series name: supera_80\n",
      "Non-Null Count  Dtype  \n",
      "--------------  -----  \n",
      "8 non-null      float64\n",
      "dtypes: float64(1)\n",
      "memory usage: 128.0+ bytes\n"
     ]
    }
   ],
   "source": [
    "porcentaje_por_ciudad.info()"
   ]
  },
  {
   "cell_type": "code",
   "execution_count": 22,
   "id": "b5b72de9",
   "metadata": {},
   "outputs": [
    {
     "name": "stdout",
     "output_type": "stream",
     "text": [
      "<class 'pandas.core.frame.DataFrame'>\n",
      "Index: 8 entries, sevilla to girona\n",
      "Data columns (total 1 columns):\n",
      " #   Column     Non-Null Count  Dtype  \n",
      "---  ------     --------------  -----  \n",
      " 0   supera_80  8 non-null      float64\n",
      "dtypes: float64(1)\n",
      "memory usage: 128.0+ bytes\n"
     ]
    }
   ],
   "source": [
    "porcentaje_por_ciudad = pd.DataFrame(porcentaje_por_ciudad)\n",
    "porcentaje_por_ciudad.info()\n",
    "                                     "
   ]
  },
  {
   "cell_type": "code",
   "execution_count": 23,
   "id": "6a560dfa",
   "metadata": {},
   "outputs": [
    {
     "name": "stderr",
     "output_type": "stream",
     "text": [
      "C:\\Users\\Usuario\\AppData\\Local\\Temp\\ipykernel_5028\\1923502712.py:3: FutureWarning:\n",
      "\n",
      "\n",
      "\n",
      "Passing `palette` without assigning `hue` is deprecated and will be removed in v0.14.0. Assign the `y` variable to `hue` and set `legend=False` for the same effect.\n",
      "\n",
      "\n"
     ]
    },
    {
     "data": {
      "image/png": "[encoded data removed]",
      "text/plain": [
       "<Figure size 1000x600 with 1 Axes>"
      ]
     },
     "metadata": {},
     "output_type": "display_data"
    }
   ],
   "source": [
    "# Graficar\n",
    "plt.figure(figsize=(10, 6))\n",
    "sns.barplot(data=porcentaje_por_ciudad, x='supera_80', y='city', palette='viridis')\n",
    "\n",
    "# Anotar porcentajes\n",
    "for index, row in porcentaje_por_ciudad.iterrows():\n",
    "    plt.text(row['supera_80'] + 0.5, index, f\"{row['supera_80']}%\", va='center')\n",
    "\n",
    "# Ajustes visuales\n",
    "plt.title('Porcentaje de alojamientos con puntuación > 80 por ciudad')\n",
    "plt.xlabel('Porcentaje (%)')\n",
    "plt.ylabel('Ciudad')\n",
    "plt.xlim(0, 100)\n",
    "plt.grid(axis='x', linestyle='--', alpha=0.6)\n",
    "plt.tight_layout()\n",
    "plt.show()"
   ]
  },
  {
   "cell_type": "code",
   "execution_count": null,
   "id": "bdcb34ff",
   "metadata": {},
   "outputs": [],
   "source": []
  }
 ],
 "metadata": {
  "kernelspec": {
   "display_name": "base",
   "language": "python",
   "name": "python3"
  },
  "language_info": {
   "codemirror_mode": {
    "name": "ipython",
    "version": 3
   },
   "file_extension": ".py",
   "mimetype": "text/x-python",
   "name": "python",
   "nbconvert_exporter": "python",
   "pygments_lexer": "ipython3",
   "version": "3.12.7"
  }
 },
 "nbformat": 4,
 "nbformat_minor": 5
}
