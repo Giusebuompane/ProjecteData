{
 "cells": [
  {
   "cell_type": "markdown",
   "id": "427784cf",
   "metadata": {},
   "source": [
    "Librerías\n"
   ]
  },
  {
   "cell_type": "code",
   "execution_count": 77,
   "id": "154e96f5",
   "metadata": {},
   "outputs": [],
   "source": [
    "#Librería para lectura de archivos de entorno:\n",
    "import os\n",
    "from dotenv import load_dotenv\n",
    "\n",
    "#Librerías para cálculo y gráficas:\n",
    "import pandas as pd\n",
    "import numpy as np\n",
    "import matplotlib.pyplot as plt\n",
    "import seaborn as sns\n",
    "\n",
    "#Librerías para la conexión a BBDD:\n",
    "import mysql.connector as sql\n",
    "from mysql.connector import Error\n",
    "\n",
    "from sqlalchemy import create_engine\n",
    "\n",
    "#Librería para gráficos interactivos en python\n",
    "import plotly.graph_objects as go\n",
    "import plotly.express as px"
   ]
  },
  {
   "cell_type": "code",
   "execution_count": 78,
   "id": "3f0365c2",
   "metadata": {},
   "outputs": [
    {
     "data": {
      "text/plain": [
       "'/Users/Edicion/Documents/Estudios/ProjecteIT/ProjecteData/Equip_G/Scripts'"
      ]
     },
     "execution_count": 78,
     "metadata": {},
     "output_type": "execute_result"
    }
   ],
   "source": [
    "diractual = os.getcwd()\n",
    "diractual"
   ]
  },
  {
   "cell_type": "markdown",
   "id": "537782ae",
   "metadata": {},
   "source": [
    "Importación del csv del dataframe de limpieza.\n",
    "\n",
    "Esta celda y la siguiente se pueden eliminar en caso de fusionarla con otros scripts."
   ]
  },
  {
   "cell_type": "code",
   "execution_count": 79,
   "id": "28b96ae2",
   "metadata": {},
   "outputs": [],
   "source": [
    "df = pd.read_csv(r'../Data/2025_04_22_Sprint02.csv')"
   ]
  },
  {
   "cell_type": "code",
   "execution_count": 80,
   "id": "1e1f6d98",
   "metadata": {},
   "outputs": [
    {
     "data": {
      "text/html": [
       "<div>\n",
       "<style scoped>\n",
       "    .dataframe tbody tr th:only-of-type {\n",
       "        vertical-align: middle;\n",
       "    }\n",
       "\n",
       "    .dataframe tbody tr th {\n",
       "        vertical-align: top;\n",
       "    }\n",
       "\n",
       "    .dataframe thead th {\n",
       "        text-align: right;\n",
       "    }\n",
       "</style>\n",
       "<table border=\"1\" class=\"dataframe\">\n",
       "  <thead>\n",
       "    <tr style=\"text-align: right;\">\n",
       "      <th></th>\n",
       "      <th>apartment_id</th>\n",
       "      <th>name</th>\n",
       "      <th>description</th>\n",
       "      <th>host_id</th>\n",
       "      <th>neighbourhood_name</th>\n",
       "      <th>neighbourhood_district</th>\n",
       "      <th>room_type</th>\n",
       "      <th>accommodates</th>\n",
       "      <th>bathrooms</th>\n",
       "      <th>bedrooms</th>\n",
       "      <th>...</th>\n",
       "      <th>review_scores_value</th>\n",
       "      <th>is_instant_bookable</th>\n",
       "      <th>reviews_per_month</th>\n",
       "      <th>country</th>\n",
       "      <th>city</th>\n",
       "      <th>insert_date</th>\n",
       "      <th>normalized_amenities</th>\n",
       "      <th>days_occupied</th>\n",
       "      <th>occupancy_rate</th>\n",
       "      <th>supera_80</th>\n",
       "    </tr>\n",
       "  </thead>\n",
       "  <tbody>\n",
       "    <tr>\n",
       "      <th>0</th>\n",
       "      <td>17249166</td>\n",
       "      <td>Arquitecte gaudi</td>\n",
       "      <td>Nuevo apartamento c�ntrico con buenos acabados...</td>\n",
       "      <td>109461701</td>\n",
       "      <td>Roses</td>\n",
       "      <td>NaN</td>\n",
       "      <td>Entire home/apt</td>\n",
       "      <td>5</td>\n",
       "      <td>1.0</td>\n",
       "      <td>2.0</td>\n",
       "      <td>...</td>\n",
       "      <td>100.0</td>\n",
       "      <td>FALSO</td>\n",
       "      <td>9.0</td>\n",
       "      <td>spain</td>\n",
       "      <td>girona</td>\n",
       "      <td>2021-02-27</td>\n",
       "      <td>iron, host greets you, long term stays allowed...</td>\n",
       "      <td>30</td>\n",
       "      <td>100.000000</td>\n",
       "      <td>True</td>\n",
       "    </tr>\n",
       "    <tr>\n",
       "      <th>1</th>\n",
       "      <td>23040910</td>\n",
       "      <td>Apartamento luminoso cerca del mar</td>\n",
       "      <td>Apartamento muy bonito a 200m de la playa y en...</td>\n",
       "      <td>17816909</td>\n",
       "      <td>Ciutadella de Menorca</td>\n",
       "      <td>NaN</td>\n",
       "      <td>Entire home/apt</td>\n",
       "      <td>4</td>\n",
       "      <td>1.0</td>\n",
       "      <td>1.0</td>\n",
       "      <td>...</td>\n",
       "      <td>90.0</td>\n",
       "      <td>VERDADERO</td>\n",
       "      <td>3.0</td>\n",
       "      <td>spain</td>\n",
       "      <td>menorca</td>\n",
       "      <td>2021-02-27</td>\n",
       "      <td>crib, high chair, balcony, microwave, essentia...</td>\n",
       "      <td>1</td>\n",
       "      <td>3.333333</td>\n",
       "      <td>True</td>\n",
       "    </tr>\n",
       "    <tr>\n",
       "      <th>2</th>\n",
       "      <td>31968299</td>\n",
       "      <td>Villenpark Playa Arena House Flamenco</td>\n",
       "      <td>House with incredible garden and beautiful vie...</td>\n",
       "      <td>173153149</td>\n",
       "      <td>Lloret de Mar</td>\n",
       "      <td>NaN</td>\n",
       "      <td>Entire home/apt</td>\n",
       "      <td>5</td>\n",
       "      <td>1.0</td>\n",
       "      <td>2.0</td>\n",
       "      <td>...</td>\n",
       "      <td>NaN</td>\n",
       "      <td>VERDADERO</td>\n",
       "      <td>NaN</td>\n",
       "      <td>spain</td>\n",
       "      <td>girona</td>\n",
       "      <td>2021-02-27</td>\n",
       "      <td>balcony, nespresso machine, microwave, long te...</td>\n",
       "      <td>30</td>\n",
       "      <td>100.000000</td>\n",
       "      <td>False</td>\n",
       "    </tr>\n",
       "    <tr>\n",
       "      <th>3</th>\n",
       "      <td>26207763</td>\n",
       "      <td>Casa Flor.....somewhere different</td>\n",
       "      <td>Built in the late 1950's, Casa Flor is a detac...</td>\n",
       "      <td>196976392</td>\n",
       "      <td>L'Escala</td>\n",
       "      <td>NaN</td>\n",
       "      <td>Entire home/apt</td>\n",
       "      <td>2</td>\n",
       "      <td>1.0</td>\n",
       "      <td>1.0</td>\n",
       "      <td>...</td>\n",
       "      <td>100.0</td>\n",
       "      <td>FALSO</td>\n",
       "      <td>12.0</td>\n",
       "      <td>spain</td>\n",
       "      <td>girona</td>\n",
       "      <td>2021-02-27</td>\n",
       "      <td>first aid kit, dining table, barbecue utensils...</td>\n",
       "      <td>30</td>\n",
       "      <td>100.000000</td>\n",
       "      <td>True</td>\n",
       "    </tr>\n",
       "    <tr>\n",
       "      <th>4</th>\n",
       "      <td>19236052</td>\n",
       "      <td>Apartment with garden &amp; pool - 800 m Pals beac...</td>\n",
       "      <td>Description&lt;br /&gt;&lt;br /&gt;&lt;br /&gt;&lt;br /&gt;&lt;br /&gt;&lt;br /...</td>\n",
       "      <td>133933726</td>\n",
       "      <td>Pals</td>\n",
       "      <td>NaN</td>\n",
       "      <td>Entire home/apt</td>\n",
       "      <td>7</td>\n",
       "      <td>2.0</td>\n",
       "      <td>3.0</td>\n",
       "      <td>...</td>\n",
       "      <td>80.0</td>\n",
       "      <td>VERDADERO</td>\n",
       "      <td>3.0</td>\n",
       "      <td>spain</td>\n",
       "      <td>girona</td>\n",
       "      <td>2021-02-27</td>\n",
       "      <td>long term stays allowed], crib, oven, bed line...</td>\n",
       "      <td>30</td>\n",
       "      <td>100.000000</td>\n",
       "      <td>False</td>\n",
       "    </tr>\n",
       "  </tbody>\n",
       "</table>\n",
       "<p>5 rows × 39 columns</p>\n",
       "</div>"
      ],
      "text/plain": [
       "   apartment_id                                               name  \\\n",
       "0      17249166                                   Arquitecte gaudi   \n",
       "1      23040910                 Apartamento luminoso cerca del mar   \n",
       "2      31968299              Villenpark Playa Arena House Flamenco   \n",
       "3      26207763                  Casa Flor.....somewhere different   \n",
       "4      19236052  Apartment with garden & pool - 800 m Pals beac...   \n",
       "\n",
       "                                         description    host_id  \\\n",
       "0  Nuevo apartamento c�ntrico con buenos acabados...  109461701   \n",
       "1  Apartamento muy bonito a 200m de la playa y en...   17816909   \n",
       "2  House with incredible garden and beautiful vie...  173153149   \n",
       "3  Built in the late 1950's, Casa Flor is a detac...  196976392   \n",
       "4  Description<br /><br /><br /><br /><br /><br /...  133933726   \n",
       "\n",
       "      neighbourhood_name neighbourhood_district        room_type  \\\n",
       "0                  Roses                    NaN  Entire home/apt   \n",
       "1  Ciutadella de Menorca                    NaN  Entire home/apt   \n",
       "2          Lloret de Mar                    NaN  Entire home/apt   \n",
       "3               L'Escala                    NaN  Entire home/apt   \n",
       "4                   Pals                    NaN  Entire home/apt   \n",
       "\n",
       "   accommodates  bathrooms  bedrooms  ...  review_scores_value  \\\n",
       "0             5        1.0       2.0  ...                100.0   \n",
       "1             4        1.0       1.0  ...                 90.0   \n",
       "2             5        1.0       2.0  ...                  NaN   \n",
       "3             2        1.0       1.0  ...                100.0   \n",
       "4             7        2.0       3.0  ...                 80.0   \n",
       "\n",
       "  is_instant_bookable  reviews_per_month  country     city insert_date  \\\n",
       "0               FALSO                9.0    spain   girona  2021-02-27   \n",
       "1           VERDADERO                3.0    spain  menorca  2021-02-27   \n",
       "2           VERDADERO                NaN    spain   girona  2021-02-27   \n",
       "3               FALSO               12.0    spain   girona  2021-02-27   \n",
       "4           VERDADERO                3.0    spain   girona  2021-02-27   \n",
       "\n",
       "                                normalized_amenities  days_occupied  \\\n",
       "0  iron, host greets you, long term stays allowed...             30   \n",
       "1  crib, high chair, balcony, microwave, essentia...              1   \n",
       "2  balcony, nespresso machine, microwave, long te...             30   \n",
       "3  first aid kit, dining table, barbecue utensils...             30   \n",
       "4  long term stays allowed], crib, oven, bed line...             30   \n",
       "\n",
       "   occupancy_rate  supera_80  \n",
       "0      100.000000       True  \n",
       "1        3.333333       True  \n",
       "2      100.000000      False  \n",
       "3      100.000000       True  \n",
       "4      100.000000      False  \n",
       "\n",
       "[5 rows x 39 columns]"
      ]
     },
     "execution_count": 80,
     "metadata": {},
     "output_type": "execute_result"
    }
   ],
   "source": [
    "df.head()"
   ]
  },
  {
   "cell_type": "code",
   "execution_count": 81,
   "id": "ac5e41eb",
   "metadata": {},
   "outputs": [
    {
     "name": "stdout",
     "output_type": "stream",
     "text": [
      "<class 'pandas.core.frame.DataFrame'>\n",
      "RangeIndex: 7693 entries, 0 to 7692\n",
      "Data columns (total 39 columns):\n",
      " #   Column                       Non-Null Count  Dtype  \n",
      "---  ------                       --------------  -----  \n",
      " 0   apartment_id                 7693 non-null   int64  \n",
      " 1   name                         7690 non-null   object \n",
      " 2   description                  7641 non-null   object \n",
      " 3   host_id                      7693 non-null   int64  \n",
      " 4   neighbourhood_name           7693 non-null   object \n",
      " 5   neighbourhood_district       4669 non-null   object \n",
      " 6   room_type                    7693 non-null   object \n",
      " 7   accommodates                 7693 non-null   int64  \n",
      " 8   bathrooms                    7656 non-null   float64\n",
      " 9   bedrooms                     7657 non-null   float64\n",
      " 10  beds                         7685 non-null   float64\n",
      " 11  amenities_list               7676 non-null   object \n",
      " 12  price                        7693 non-null   float64\n",
      " 13  minimum_nights               7693 non-null   int64  \n",
      " 14  maximum_nights               7693 non-null   int64  \n",
      " 15  has_availability             7144 non-null   object \n",
      " 16  availability_30              7693 non-null   int64  \n",
      " 17  availability_60              7693 non-null   int64  \n",
      " 18  availability_90              7693 non-null   int64  \n",
      " 19  availability_365             7693 non-null   int64  \n",
      " 20  number_of_reviews            7693 non-null   int64  \n",
      " 21  first_review_date            6120 non-null   object \n",
      " 22  last_review_date             6121 non-null   object \n",
      " 23  review_scores_rating         6041 non-null   float64\n",
      " 24  review_scores_accuracy       6032 non-null   float64\n",
      " 25  review_scores_cleanliness    6038 non-null   float64\n",
      " 26  review_scores_checkin        6027 non-null   float64\n",
      " 27  review_scores_communication  6036 non-null   float64\n",
      " 28  review_scores_location       6026 non-null   float64\n",
      " 29  review_scores_value          6026 non-null   float64\n",
      " 30  is_instant_bookable          7693 non-null   object \n",
      " 31  reviews_per_month            6120 non-null   float64\n",
      " 32  country                      7693 non-null   object \n",
      " 33  city                         7693 non-null   object \n",
      " 34  insert_date                  7693 non-null   object \n",
      " 35  normalized_amenities         7676 non-null   object \n",
      " 36  days_occupied                7693 non-null   int64  \n",
      " 37  occupancy_rate               7693 non-null   float64\n",
      " 38  supera_80                    7693 non-null   bool   \n",
      "dtypes: bool(1), float64(13), int64(11), object(14)\n",
      "memory usage: 2.2+ MB\n"
     ]
    }
   ],
   "source": [
    "df.info()"
   ]
  },
  {
   "cell_type": "code",
   "execution_count": 82,
   "id": "3ffda3b3",
   "metadata": {},
   "outputs": [
    {
     "data": {
      "text/html": [
       "<div>\n",
       "<style scoped>\n",
       "    .dataframe tbody tr th:only-of-type {\n",
       "        vertical-align: middle;\n",
       "    }\n",
       "\n",
       "    .dataframe tbody tr th {\n",
       "        vertical-align: top;\n",
       "    }\n",
       "\n",
       "    .dataframe thead th {\n",
       "        text-align: right;\n",
       "    }\n",
       "</style>\n",
       "<table border=\"1\" class=\"dataframe\">\n",
       "  <thead>\n",
       "    <tr style=\"text-align: right;\">\n",
       "      <th></th>\n",
       "      <th>apartment_id</th>\n",
       "      <th>first_review_date</th>\n",
       "      <th>last_review_date</th>\n",
       "      <th>review_scores_rating</th>\n",
       "      <th>review_scores_accuracy</th>\n",
       "      <th>review_scores_cleanliness</th>\n",
       "      <th>review_scores_checkin</th>\n",
       "      <th>review_scores_communication</th>\n",
       "      <th>review_scores_location</th>\n",
       "      <th>review_scores_value</th>\n",
       "      <th>reviews_per_month</th>\n",
       "      <th>city</th>\n",
       "    </tr>\n",
       "  </thead>\n",
       "  <tbody>\n",
       "    <tr>\n",
       "      <th>count</th>\n",
       "      <td>7.693000e+03</td>\n",
       "      <td>6120</td>\n",
       "      <td>6121</td>\n",
       "      <td>6041.000000</td>\n",
       "      <td>6032.000000</td>\n",
       "      <td>6038.000000</td>\n",
       "      <td>6027.000000</td>\n",
       "      <td>6036.000000</td>\n",
       "      <td>6026.000000</td>\n",
       "      <td>6026.000000</td>\n",
       "      <td>6120.000000</td>\n",
       "      <td>7693</td>\n",
       "    </tr>\n",
       "    <tr>\n",
       "      <th>unique</th>\n",
       "      <td>NaN</td>\n",
       "      <td>1935</td>\n",
       "      <td>1467</td>\n",
       "      <td>NaN</td>\n",
       "      <td>NaN</td>\n",
       "      <td>NaN</td>\n",
       "      <td>NaN</td>\n",
       "      <td>NaN</td>\n",
       "      <td>NaN</td>\n",
       "      <td>NaN</td>\n",
       "      <td>NaN</td>\n",
       "      <td>8</td>\n",
       "    </tr>\n",
       "    <tr>\n",
       "      <th>top</th>\n",
       "      <td>NaN</td>\n",
       "      <td>2018-04-01</td>\n",
       "      <td>2020-03-08</td>\n",
       "      <td>NaN</td>\n",
       "      <td>NaN</td>\n",
       "      <td>NaN</td>\n",
       "      <td>NaN</td>\n",
       "      <td>NaN</td>\n",
       "      <td>NaN</td>\n",
       "      <td>NaN</td>\n",
       "      <td>NaN</td>\n",
       "      <td>barcelona</td>\n",
       "    </tr>\n",
       "    <tr>\n",
       "      <th>freq</th>\n",
       "      <td>NaN</td>\n",
       "      <td>25</td>\n",
       "      <td>37</td>\n",
       "      <td>NaN</td>\n",
       "      <td>NaN</td>\n",
       "      <td>NaN</td>\n",
       "      <td>NaN</td>\n",
       "      <td>NaN</td>\n",
       "      <td>NaN</td>\n",
       "      <td>NaN</td>\n",
       "      <td>NaN</td>\n",
       "      <td>2261</td>\n",
       "    </tr>\n",
       "    <tr>\n",
       "      <th>mean</th>\n",
       "      <td>1.697283e+07</td>\n",
       "      <td>NaN</td>\n",
       "      <td>NaN</td>\n",
       "      <td>919.395795</td>\n",
       "      <td>94.537467</td>\n",
       "      <td>93.113614</td>\n",
       "      <td>96.256844</td>\n",
       "      <td>96.338635</td>\n",
       "      <td>95.270495</td>\n",
       "      <td>91.397278</td>\n",
       "      <td>125.181373</td>\n",
       "      <td>NaN</td>\n",
       "    </tr>\n",
       "    <tr>\n",
       "      <th>std</th>\n",
       "      <td>8.745042e+06</td>\n",
       "      <td>NaN</td>\n",
       "      <td>NaN</td>\n",
       "      <td>89.875277</td>\n",
       "      <td>9.304352</td>\n",
       "      <td>10.037730</td>\n",
       "      <td>8.097834</td>\n",
       "      <td>7.998383</td>\n",
       "      <td>7.549660</td>\n",
       "      <td>9.699509</td>\n",
       "      <td>155.074718</td>\n",
       "      <td>NaN</td>\n",
       "    </tr>\n",
       "    <tr>\n",
       "      <th>min</th>\n",
       "      <td>1.196400e+04</td>\n",
       "      <td>NaN</td>\n",
       "      <td>NaN</td>\n",
       "      <td>200.000000</td>\n",
       "      <td>20.000000</td>\n",
       "      <td>20.000000</td>\n",
       "      <td>20.000000</td>\n",
       "      <td>20.000000</td>\n",
       "      <td>20.000000</td>\n",
       "      <td>20.000000</td>\n",
       "      <td>1.000000</td>\n",
       "      <td>NaN</td>\n",
       "    </tr>\n",
       "    <tr>\n",
       "      <th>25%</th>\n",
       "      <td>1.075765e+07</td>\n",
       "      <td>NaN</td>\n",
       "      <td>NaN</td>\n",
       "      <td>890.000000</td>\n",
       "      <td>90.000000</td>\n",
       "      <td>90.000000</td>\n",
       "      <td>90.000000</td>\n",
       "      <td>90.000000</td>\n",
       "      <td>90.000000</td>\n",
       "      <td>90.000000</td>\n",
       "      <td>18.000000</td>\n",
       "      <td>NaN</td>\n",
       "    </tr>\n",
       "    <tr>\n",
       "      <th>50%</th>\n",
       "      <td>1.808626e+07</td>\n",
       "      <td>NaN</td>\n",
       "      <td>NaN</td>\n",
       "      <td>940.000000</td>\n",
       "      <td>100.000000</td>\n",
       "      <td>100.000000</td>\n",
       "      <td>100.000000</td>\n",
       "      <td>100.000000</td>\n",
       "      <td>100.000000</td>\n",
       "      <td>90.000000</td>\n",
       "      <td>58.000000</td>\n",
       "      <td>NaN</td>\n",
       "    </tr>\n",
       "    <tr>\n",
       "      <th>75%</th>\n",
       "      <td>2.363590e+07</td>\n",
       "      <td>NaN</td>\n",
       "      <td>NaN</td>\n",
       "      <td>980.000000</td>\n",
       "      <td>100.000000</td>\n",
       "      <td>100.000000</td>\n",
       "      <td>100.000000</td>\n",
       "      <td>100.000000</td>\n",
       "      <td>100.000000</td>\n",
       "      <td>100.000000</td>\n",
       "      <td>179.500000</td>\n",
       "      <td>NaN</td>\n",
       "    </tr>\n",
       "    <tr>\n",
       "      <th>max</th>\n",
       "      <td>3.242329e+07</td>\n",
       "      <td>NaN</td>\n",
       "      <td>NaN</td>\n",
       "      <td>1000.000000</td>\n",
       "      <td>100.000000</td>\n",
       "      <td>100.000000</td>\n",
       "      <td>100.000000</td>\n",
       "      <td>100.000000</td>\n",
       "      <td>100.000000</td>\n",
       "      <td>100.000000</td>\n",
       "      <td>1291.000000</td>\n",
       "      <td>NaN</td>\n",
       "    </tr>\n",
       "  </tbody>\n",
       "</table>\n",
       "</div>"
      ],
      "text/plain": [
       "        apartment_id first_review_date last_review_date  review_scores_rating  \\\n",
       "count   7.693000e+03              6120             6121           6041.000000   \n",
       "unique           NaN              1935             1467                   NaN   \n",
       "top              NaN        2018-04-01       2020-03-08                   NaN   \n",
       "freq             NaN                25               37                   NaN   \n",
       "mean    1.697283e+07               NaN              NaN            919.395795   \n",
       "std     8.745042e+06               NaN              NaN             89.875277   \n",
       "min     1.196400e+04               NaN              NaN            200.000000   \n",
       "25%     1.075765e+07               NaN              NaN            890.000000   \n",
       "50%     1.808626e+07               NaN              NaN            940.000000   \n",
       "75%     2.363590e+07               NaN              NaN            980.000000   \n",
       "max     3.242329e+07               NaN              NaN           1000.000000   \n",
       "\n",
       "        review_scores_accuracy  review_scores_cleanliness  \\\n",
       "count              6032.000000                6038.000000   \n",
       "unique                     NaN                        NaN   \n",
       "top                        NaN                        NaN   \n",
       "freq                       NaN                        NaN   \n",
       "mean                 94.537467                  93.113614   \n",
       "std                   9.304352                  10.037730   \n",
       "min                  20.000000                  20.000000   \n",
       "25%                  90.000000                  90.000000   \n",
       "50%                 100.000000                 100.000000   \n",
       "75%                 100.000000                 100.000000   \n",
       "max                 100.000000                 100.000000   \n",
       "\n",
       "        review_scores_checkin  review_scores_communication  \\\n",
       "count             6027.000000                  6036.000000   \n",
       "unique                    NaN                          NaN   \n",
       "top                       NaN                          NaN   \n",
       "freq                      NaN                          NaN   \n",
       "mean                96.256844                    96.338635   \n",
       "std                  8.097834                     7.998383   \n",
       "min                 20.000000                    20.000000   \n",
       "25%                 90.000000                    90.000000   \n",
       "50%                100.000000                   100.000000   \n",
       "75%                100.000000                   100.000000   \n",
       "max                100.000000                   100.000000   \n",
       "\n",
       "        review_scores_location  review_scores_value  reviews_per_month  \\\n",
       "count              6026.000000          6026.000000        6120.000000   \n",
       "unique                     NaN                  NaN                NaN   \n",
       "top                        NaN                  NaN                NaN   \n",
       "freq                       NaN                  NaN                NaN   \n",
       "mean                 95.270495            91.397278         125.181373   \n",
       "std                   7.549660             9.699509         155.074718   \n",
       "min                  20.000000            20.000000           1.000000   \n",
       "25%                  90.000000            90.000000          18.000000   \n",
       "50%                 100.000000            90.000000          58.000000   \n",
       "75%                 100.000000           100.000000         179.500000   \n",
       "max                 100.000000           100.000000        1291.000000   \n",
       "\n",
       "             city  \n",
       "count        7693  \n",
       "unique          8  \n",
       "top     barcelona  \n",
       "freq         2261  \n",
       "mean          NaN  \n",
       "std           NaN  \n",
       "min           NaN  \n",
       "25%           NaN  \n",
       "50%           NaN  \n",
       "75%           NaN  \n",
       "max           NaN  "
      ]
     },
     "execution_count": 82,
     "metadata": {},
     "output_type": "execute_result"
    }
   ],
   "source": [
    "# EDA de Experiencia del Cliente\n",
    "\n",
    "df[['apartment_id', 'first_review_date', 'last_review_date',\n",
    "       'review_scores_rating', 'review_scores_accuracy',\n",
    "       'review_scores_cleanliness', 'review_scores_checkin',\n",
    "       'review_scores_communication', 'review_scores_location',\n",
    "       'review_scores_value', 'reviews_per_month','city']].describe(include='all')"
   ]
  },
  {
   "cell_type": "code",
   "execution_count": 83,
   "id": "3e77f1fb",
   "metadata": {},
   "outputs": [
    {
     "data": {
      "text/html": [
       "<div>\n",
       "<style scoped>\n",
       "    .dataframe tbody tr th:only-of-type {\n",
       "        vertical-align: middle;\n",
       "    }\n",
       "\n",
       "    .dataframe tbody tr th {\n",
       "        vertical-align: top;\n",
       "    }\n",
       "\n",
       "    .dataframe thead th {\n",
       "        text-align: right;\n",
       "    }\n",
       "</style>\n",
       "<table border=\"1\" class=\"dataframe\">\n",
       "  <thead>\n",
       "    <tr style=\"text-align: right;\">\n",
       "      <th></th>\n",
       "      <th>apartment_id</th>\n",
       "      <th>name</th>\n",
       "      <th>description</th>\n",
       "      <th>host_id</th>\n",
       "      <th>neighbourhood_name</th>\n",
       "      <th>neighbourhood_district</th>\n",
       "      <th>room_type</th>\n",
       "      <th>accommodates</th>\n",
       "      <th>bathrooms</th>\n",
       "      <th>bedrooms</th>\n",
       "      <th>...</th>\n",
       "      <th>review_scores_value</th>\n",
       "      <th>is_instant_bookable</th>\n",
       "      <th>reviews_per_month</th>\n",
       "      <th>country</th>\n",
       "      <th>city</th>\n",
       "      <th>insert_date</th>\n",
       "      <th>normalized_amenities</th>\n",
       "      <th>days_occupied</th>\n",
       "      <th>occupancy_rate</th>\n",
       "      <th>supera_80</th>\n",
       "    </tr>\n",
       "  </thead>\n",
       "  <tbody>\n",
       "    <tr>\n",
       "      <th>0</th>\n",
       "      <td>17249166</td>\n",
       "      <td>Arquitecte gaudi</td>\n",
       "      <td>Nuevo apartamento c�ntrico con buenos acabados...</td>\n",
       "      <td>109461701</td>\n",
       "      <td>Roses</td>\n",
       "      <td>NaN</td>\n",
       "      <td>Entire home/apt</td>\n",
       "      <td>5</td>\n",
       "      <td>1.0</td>\n",
       "      <td>2.0</td>\n",
       "      <td>...</td>\n",
       "      <td>100.0</td>\n",
       "      <td>FALSO</td>\n",
       "      <td>9.0</td>\n",
       "      <td>spain</td>\n",
       "      <td>girona</td>\n",
       "      <td>2021-02-27</td>\n",
       "      <td>iron, host greets you, long term stays allowed...</td>\n",
       "      <td>30</td>\n",
       "      <td>100.000000</td>\n",
       "      <td>True</td>\n",
       "    </tr>\n",
       "    <tr>\n",
       "      <th>1</th>\n",
       "      <td>23040910</td>\n",
       "      <td>Apartamento luminoso cerca del mar</td>\n",
       "      <td>Apartamento muy bonito a 200m de la playa y en...</td>\n",
       "      <td>17816909</td>\n",
       "      <td>Ciutadella de Menorca</td>\n",
       "      <td>NaN</td>\n",
       "      <td>Entire home/apt</td>\n",
       "      <td>4</td>\n",
       "      <td>1.0</td>\n",
       "      <td>1.0</td>\n",
       "      <td>...</td>\n",
       "      <td>90.0</td>\n",
       "      <td>VERDADERO</td>\n",
       "      <td>3.0</td>\n",
       "      <td>spain</td>\n",
       "      <td>menorca</td>\n",
       "      <td>2021-02-27</td>\n",
       "      <td>crib, high chair, balcony, microwave, essentia...</td>\n",
       "      <td>1</td>\n",
       "      <td>3.333333</td>\n",
       "      <td>True</td>\n",
       "    </tr>\n",
       "    <tr>\n",
       "      <th>2</th>\n",
       "      <td>31968299</td>\n",
       "      <td>Villenpark Playa Arena House Flamenco</td>\n",
       "      <td>House with incredible garden and beautiful vie...</td>\n",
       "      <td>173153149</td>\n",
       "      <td>Lloret de Mar</td>\n",
       "      <td>NaN</td>\n",
       "      <td>Entire home/apt</td>\n",
       "      <td>5</td>\n",
       "      <td>1.0</td>\n",
       "      <td>2.0</td>\n",
       "      <td>...</td>\n",
       "      <td>NaN</td>\n",
       "      <td>VERDADERO</td>\n",
       "      <td>NaN</td>\n",
       "      <td>spain</td>\n",
       "      <td>girona</td>\n",
       "      <td>2021-02-27</td>\n",
       "      <td>balcony, nespresso machine, microwave, long te...</td>\n",
       "      <td>30</td>\n",
       "      <td>100.000000</td>\n",
       "      <td>False</td>\n",
       "    </tr>\n",
       "    <tr>\n",
       "      <th>3</th>\n",
       "      <td>26207763</td>\n",
       "      <td>Casa Flor.....somewhere different</td>\n",
       "      <td>Built in the late 1950's, Casa Flor is a detac...</td>\n",
       "      <td>196976392</td>\n",
       "      <td>L'Escala</td>\n",
       "      <td>NaN</td>\n",
       "      <td>Entire home/apt</td>\n",
       "      <td>2</td>\n",
       "      <td>1.0</td>\n",
       "      <td>1.0</td>\n",
       "      <td>...</td>\n",
       "      <td>100.0</td>\n",
       "      <td>FALSO</td>\n",
       "      <td>12.0</td>\n",
       "      <td>spain</td>\n",
       "      <td>girona</td>\n",
       "      <td>2021-02-27</td>\n",
       "      <td>first aid kit, dining table, barbecue utensils...</td>\n",
       "      <td>30</td>\n",
       "      <td>100.000000</td>\n",
       "      <td>True</td>\n",
       "    </tr>\n",
       "    <tr>\n",
       "      <th>4</th>\n",
       "      <td>19236052</td>\n",
       "      <td>Apartment with garden &amp; pool - 800 m Pals beac...</td>\n",
       "      <td>Description&lt;br /&gt;&lt;br /&gt;&lt;br /&gt;&lt;br /&gt;&lt;br /&gt;&lt;br /...</td>\n",
       "      <td>133933726</td>\n",
       "      <td>Pals</td>\n",
       "      <td>NaN</td>\n",
       "      <td>Entire home/apt</td>\n",
       "      <td>7</td>\n",
       "      <td>2.0</td>\n",
       "      <td>3.0</td>\n",
       "      <td>...</td>\n",
       "      <td>80.0</td>\n",
       "      <td>VERDADERO</td>\n",
       "      <td>3.0</td>\n",
       "      <td>spain</td>\n",
       "      <td>girona</td>\n",
       "      <td>2021-02-27</td>\n",
       "      <td>long term stays allowed], crib, oven, bed line...</td>\n",
       "      <td>30</td>\n",
       "      <td>100.000000</td>\n",
       "      <td>False</td>\n",
       "    </tr>\n",
       "    <tr>\n",
       "      <th>...</th>\n",
       "      <td>...</td>\n",
       "      <td>...</td>\n",
       "      <td>...</td>\n",
       "      <td>...</td>\n",
       "      <td>...</td>\n",
       "      <td>...</td>\n",
       "      <td>...</td>\n",
       "      <td>...</td>\n",
       "      <td>...</td>\n",
       "      <td>...</td>\n",
       "      <td>...</td>\n",
       "      <td>...</td>\n",
       "      <td>...</td>\n",
       "      <td>...</td>\n",
       "      <td>...</td>\n",
       "      <td>...</td>\n",
       "      <td>...</td>\n",
       "      <td>...</td>\n",
       "      <td>...</td>\n",
       "      <td>...</td>\n",
       "      <td>...</td>\n",
       "    </tr>\n",
       "    <tr>\n",
       "      <th>7688</th>\n",
       "      <td>888635</td>\n",
       "      <td>Diagonal Av penthouse 2 terrace</td>\n",
       "      <td>This amazing penthouse is located on the corne...</td>\n",
       "      <td>2041901</td>\n",
       "      <td>la Dreta de l'Eixample</td>\n",
       "      <td>Eixample</td>\n",
       "      <td>Entire home/apt</td>\n",
       "      <td>6</td>\n",
       "      <td>2.0</td>\n",
       "      <td>2.0</td>\n",
       "      <td>...</td>\n",
       "      <td>NaN</td>\n",
       "      <td>FALSO</td>\n",
       "      <td>NaN</td>\n",
       "      <td>spain</td>\n",
       "      <td>barcelona</td>\n",
       "      <td>2017-01-04</td>\n",
       "      <td>dryer, essentials, internet, tv, air condition...</td>\n",
       "      <td>30</td>\n",
       "      <td>100.000000</td>\n",
       "      <td>False</td>\n",
       "    </tr>\n",
       "    <tr>\n",
       "      <th>7689</th>\n",
       "      <td>16166606</td>\n",
       "      <td>Relax y tranquilidad junto al parque, en Gracia</td>\n",
       "      <td>En Gracia. Sol y luz. Exterior. Junto a un paq...</td>\n",
       "      <td>15079254</td>\n",
       "      <td>el Putxet i el Farr�</td>\n",
       "      <td>Sarri�-Sant Gervasi</td>\n",
       "      <td>Entire home/apt</td>\n",
       "      <td>3</td>\n",
       "      <td>1.0</td>\n",
       "      <td>2.0</td>\n",
       "      <td>...</td>\n",
       "      <td>NaN</td>\n",
       "      <td>FALSO</td>\n",
       "      <td>NaN</td>\n",
       "      <td>spain</td>\n",
       "      <td>barcelona</td>\n",
       "      <td>2017-01-04</td>\n",
       "      <td>iron, hair dryer, tv, air conditioning, washer...</td>\n",
       "      <td>30</td>\n",
       "      <td>100.000000</td>\n",
       "      <td>False</td>\n",
       "    </tr>\n",
       "    <tr>\n",
       "      <th>7690</th>\n",
       "      <td>15695052</td>\n",
       "      <td>Wonderful room in the heart of BCN</td>\n",
       "      <td>Wonderful bedroom located in the heart of Barc...</td>\n",
       "      <td>958218</td>\n",
       "      <td>el Raval</td>\n",
       "      <td>Ciutat Vella</td>\n",
       "      <td>Private room</td>\n",
       "      <td>1</td>\n",
       "      <td>1.0</td>\n",
       "      <td>1.0</td>\n",
       "      <td>...</td>\n",
       "      <td>NaN</td>\n",
       "      <td>VERDADERO</td>\n",
       "      <td>82.0</td>\n",
       "      <td>spain</td>\n",
       "      <td>barcelona</td>\n",
       "      <td>2017-01-04</td>\n",
       "      <td>cat(s), translation missing: en.hosting_amenit...</td>\n",
       "      <td>1</td>\n",
       "      <td>3.333333</td>\n",
       "      <td>False</td>\n",
       "    </tr>\n",
       "    <tr>\n",
       "      <th>7691</th>\n",
       "      <td>11198148</td>\n",
       "      <td>Habitaci�n en Sagrada Fam�lia</td>\n",
       "      <td>El piso es muy agradable, acogedor, muy lumino...</td>\n",
       "      <td>58197742</td>\n",
       "      <td>la Sagrada Fam�lia</td>\n",
       "      <td>Eixample</td>\n",
       "      <td>Private room</td>\n",
       "      <td>1</td>\n",
       "      <td>2.0</td>\n",
       "      <td>1.0</td>\n",
       "      <td>...</td>\n",
       "      <td>NaN</td>\n",
       "      <td>FALSO</td>\n",
       "      <td>NaN</td>\n",
       "      <td>spain</td>\n",
       "      <td>barcelona</td>\n",
       "      <td>2017-01-04</td>\n",
       "      <td>iron, tv, smoking allowed, washer, 24-hour che...</td>\n",
       "      <td>10</td>\n",
       "      <td>33.333333</td>\n",
       "      <td>False</td>\n",
       "    </tr>\n",
       "    <tr>\n",
       "      <th>7692</th>\n",
       "      <td>14999488</td>\n",
       "      <td>Habitaci�n doble en bonito apartamento</td>\n",
       "      <td>Piso grande y bonito de 90 m2. Tranquilo y por...</td>\n",
       "      <td>7093663</td>\n",
       "      <td>el Camp d'en Grassot i Gr�cia Nova</td>\n",
       "      <td>Gr�cia</td>\n",
       "      <td>Private room</td>\n",
       "      <td>2</td>\n",
       "      <td>1.0</td>\n",
       "      <td>1.0</td>\n",
       "      <td>...</td>\n",
       "      <td>100.0</td>\n",
       "      <td>VERDADERO</td>\n",
       "      <td>65.0</td>\n",
       "      <td>spain</td>\n",
       "      <td>barcelona</td>\n",
       "      <td>2017-01-04</td>\n",
       "      <td>iron, first aid kit, hair dryer, internet, bat...</td>\n",
       "      <td>26</td>\n",
       "      <td>86.666667</td>\n",
       "      <td>True</td>\n",
       "    </tr>\n",
       "  </tbody>\n",
       "</table>\n",
       "<p>7693 rows × 39 columns</p>\n",
       "</div>"
      ],
      "text/plain": [
       "      apartment_id                                               name  \\\n",
       "0         17249166                                   Arquitecte gaudi   \n",
       "1         23040910                 Apartamento luminoso cerca del mar   \n",
       "2         31968299              Villenpark Playa Arena House Flamenco   \n",
       "3         26207763                  Casa Flor.....somewhere different   \n",
       "4         19236052  Apartment with garden & pool - 800 m Pals beac...   \n",
       "...            ...                                                ...   \n",
       "7688        888635                    Diagonal Av penthouse 2 terrace   \n",
       "7689      16166606    Relax y tranquilidad junto al parque, en Gracia   \n",
       "7690      15695052                 Wonderful room in the heart of BCN   \n",
       "7691      11198148                      Habitaci�n en Sagrada Fam�lia   \n",
       "7692      14999488             Habitaci�n doble en bonito apartamento   \n",
       "\n",
       "                                            description    host_id  \\\n",
       "0     Nuevo apartamento c�ntrico con buenos acabados...  109461701   \n",
       "1     Apartamento muy bonito a 200m de la playa y en...   17816909   \n",
       "2     House with incredible garden and beautiful vie...  173153149   \n",
       "3     Built in the late 1950's, Casa Flor is a detac...  196976392   \n",
       "4     Description<br /><br /><br /><br /><br /><br /...  133933726   \n",
       "...                                                 ...        ...   \n",
       "7688  This amazing penthouse is located on the corne...    2041901   \n",
       "7689  En Gracia. Sol y luz. Exterior. Junto a un paq...   15079254   \n",
       "7690  Wonderful bedroom located in the heart of Barc...     958218   \n",
       "7691  El piso es muy agradable, acogedor, muy lumino...   58197742   \n",
       "7692  Piso grande y bonito de 90 m2. Tranquilo y por...    7093663   \n",
       "\n",
       "                      neighbourhood_name neighbourhood_district  \\\n",
       "0                                  Roses                    NaN   \n",
       "1                  Ciutadella de Menorca                    NaN   \n",
       "2                          Lloret de Mar                    NaN   \n",
       "3                               L'Escala                    NaN   \n",
       "4                                   Pals                    NaN   \n",
       "...                                  ...                    ...   \n",
       "7688              la Dreta de l'Eixample               Eixample   \n",
       "7689                el Putxet i el Farr�    Sarri�-Sant Gervasi   \n",
       "7690                            el Raval           Ciutat Vella   \n",
       "7691                  la Sagrada Fam�lia               Eixample   \n",
       "7692  el Camp d'en Grassot i Gr�cia Nova                 Gr�cia   \n",
       "\n",
       "            room_type  accommodates  bathrooms  bedrooms  ...  \\\n",
       "0     Entire home/apt             5        1.0       2.0  ...   \n",
       "1     Entire home/apt             4        1.0       1.0  ...   \n",
       "2     Entire home/apt             5        1.0       2.0  ...   \n",
       "3     Entire home/apt             2        1.0       1.0  ...   \n",
       "4     Entire home/apt             7        2.0       3.0  ...   \n",
       "...               ...           ...        ...       ...  ...   \n",
       "7688  Entire home/apt             6        2.0       2.0  ...   \n",
       "7689  Entire home/apt             3        1.0       2.0  ...   \n",
       "7690     Private room             1        1.0       1.0  ...   \n",
       "7691     Private room             1        2.0       1.0  ...   \n",
       "7692     Private room             2        1.0       1.0  ...   \n",
       "\n",
       "      review_scores_value is_instant_bookable  reviews_per_month  country  \\\n",
       "0                   100.0               FALSO                9.0    spain   \n",
       "1                    90.0           VERDADERO                3.0    spain   \n",
       "2                     NaN           VERDADERO                NaN    spain   \n",
       "3                   100.0               FALSO               12.0    spain   \n",
       "4                    80.0           VERDADERO                3.0    spain   \n",
       "...                   ...                 ...                ...      ...   \n",
       "7688                  NaN               FALSO                NaN    spain   \n",
       "7689                  NaN               FALSO                NaN    spain   \n",
       "7690                  NaN           VERDADERO               82.0    spain   \n",
       "7691                  NaN               FALSO                NaN    spain   \n",
       "7692                100.0           VERDADERO               65.0    spain   \n",
       "\n",
       "           city insert_date  \\\n",
       "0        girona  2021-02-27   \n",
       "1       menorca  2021-02-27   \n",
       "2        girona  2021-02-27   \n",
       "3        girona  2021-02-27   \n",
       "4        girona  2021-02-27   \n",
       "...         ...         ...   \n",
       "7688  barcelona  2017-01-04   \n",
       "7689  barcelona  2017-01-04   \n",
       "7690  barcelona  2017-01-04   \n",
       "7691  barcelona  2017-01-04   \n",
       "7692  barcelona  2017-01-04   \n",
       "\n",
       "                                   normalized_amenities  days_occupied  \\\n",
       "0     iron, host greets you, long term stays allowed...             30   \n",
       "1     crib, high chair, balcony, microwave, essentia...              1   \n",
       "2     balcony, nespresso machine, microwave, long te...             30   \n",
       "3     first aid kit, dining table, barbecue utensils...             30   \n",
       "4     long term stays allowed], crib, oven, bed line...             30   \n",
       "...                                                 ...            ...   \n",
       "7688  dryer, essentials, internet, tv, air condition...             30   \n",
       "7689  iron, hair dryer, tv, air conditioning, washer...             30   \n",
       "7690  cat(s), translation missing: en.hosting_amenit...              1   \n",
       "7691  iron, tv, smoking allowed, washer, 24-hour che...             10   \n",
       "7692  iron, first aid kit, hair dryer, internet, bat...             26   \n",
       "\n",
       "      occupancy_rate  supera_80  \n",
       "0         100.000000       True  \n",
       "1           3.333333       True  \n",
       "2         100.000000      False  \n",
       "3         100.000000       True  \n",
       "4         100.000000      False  \n",
       "...              ...        ...  \n",
       "7688      100.000000      False  \n",
       "7689      100.000000      False  \n",
       "7690        3.333333      False  \n",
       "7691       33.333333      False  \n",
       "7692       86.666667       True  \n",
       "\n",
       "[7693 rows x 39 columns]"
      ]
     },
     "execution_count": 83,
     "metadata": {},
     "output_type": "execute_result"
    }
   ],
   "source": [
    "df"
   ]
  },
  {
   "cell_type": "code",
   "execution_count": 84,
   "id": "82c24502",
   "metadata": {},
   "outputs": [
    {
     "name": "stdout",
     "output_type": "stream",
     "text": [
      "Número de apartamentos sin reseñas: 1573\n",
      "Porcentaje de apartamentos sin reseñas: 20.45 %\n"
     ]
    }
   ],
   "source": [
    "#Cantidad de apartamentos sin reseñas\n",
    "sin_reseñas = df['first_review_date'].isna().sum()\n",
    "print(f\"Número de apartamentos sin reseñas: {sin_reseñas}\")\n",
    "\n",
    "#Porcentaje de apartamentos del total\n",
    "porcentaje_sin_reseñas = (sin_reseñas / len(df)) * 100\n",
    "print(f\"Porcentaje de apartamentos sin reseñas: {porcentaje_sin_reseñas:.2f} %\")"
   ]
  },
  {
   "cell_type": "code",
   "execution_count": 85,
   "id": "102e704b",
   "metadata": {},
   "outputs": [
    {
     "data": {
      "text/html": [
       "<div>\n",
       "<style scoped>\n",
       "    .dataframe tbody tr th:only-of-type {\n",
       "        vertical-align: middle;\n",
       "    }\n",
       "\n",
       "    .dataframe tbody tr th {\n",
       "        vertical-align: top;\n",
       "    }\n",
       "\n",
       "    .dataframe thead th {\n",
       "        text-align: right;\n",
       "    }\n",
       "</style>\n",
       "<table border=\"1\" class=\"dataframe\">\n",
       "  <thead>\n",
       "    <tr style=\"text-align: right;\">\n",
       "      <th></th>\n",
       "      <th>apartment_id</th>\n",
       "      <th>name</th>\n",
       "      <th>description</th>\n",
       "      <th>host_id</th>\n",
       "      <th>neighbourhood_name</th>\n",
       "      <th>neighbourhood_district</th>\n",
       "      <th>room_type</th>\n",
       "      <th>accommodates</th>\n",
       "      <th>bathrooms</th>\n",
       "      <th>bedrooms</th>\n",
       "      <th>...</th>\n",
       "      <th>review_scores_value</th>\n",
       "      <th>is_instant_bookable</th>\n",
       "      <th>reviews_per_month</th>\n",
       "      <th>country</th>\n",
       "      <th>city</th>\n",
       "      <th>insert_date</th>\n",
       "      <th>normalized_amenities</th>\n",
       "      <th>days_occupied</th>\n",
       "      <th>occupancy_rate</th>\n",
       "      <th>supera_80</th>\n",
       "    </tr>\n",
       "  </thead>\n",
       "  <tbody>\n",
       "    <tr>\n",
       "      <th>2244</th>\n",
       "      <td>11989301</td>\n",
       "      <td>Vivienda San Mart�n II</td>\n",
       "      <td>Rel�jate y desconecta mientras la c�lida luz v...</td>\n",
       "      <td>34840363</td>\n",
       "      <td>SANT FRANCESC</td>\n",
       "      <td>CIUTAT VELLA</td>\n",
       "      <td>Entire home/apt</td>\n",
       "      <td>4</td>\n",
       "      <td>1.0</td>\n",
       "      <td>1.0</td>\n",
       "      <td>...</td>\n",
       "      <td>100.0</td>\n",
       "      <td>VERDADERO</td>\n",
       "      <td>394.0</td>\n",
       "      <td>spain</td>\n",
       "      <td>valencia</td>\n",
       "      <td>2019-12-31</td>\n",
       "      <td>first aid kit, hbo go, safety card, wide entry...</td>\n",
       "      <td>23</td>\n",
       "      <td>76.666667</td>\n",
       "      <td>True</td>\n",
       "    </tr>\n",
       "    <tr>\n",
       "      <th>3200</th>\n",
       "      <td>9122183</td>\n",
       "      <td>Casa sevillana en barrio historico</td>\n",
       "      <td>Habitaci�n luminosa con terraza privada para u...</td>\n",
       "      <td>47528412</td>\n",
       "      <td>Pio XII</td>\n",
       "      <td>Macarena</td>\n",
       "      <td>Private room</td>\n",
       "      <td>2</td>\n",
       "      <td>2.0</td>\n",
       "      <td>1.0</td>\n",
       "      <td>...</td>\n",
       "      <td>100.0</td>\n",
       "      <td>FALSO</td>\n",
       "      <td>347.0</td>\n",
       "      <td>spain</td>\n",
       "      <td>sevilla</td>\n",
       "      <td>2019-07-29</td>\n",
       "      <td>first aid kit, wide entryway, luggage dropoff ...</td>\n",
       "      <td>30</td>\n",
       "      <td>100.000000</td>\n",
       "      <td>True</td>\n",
       "    </tr>\n",
       "    <tr>\n",
       "      <th>278</th>\n",
       "      <td>22979863</td>\n",
       "      <td>Stylish Apt PZA MAYOR/La Latina 2BD* 2BT*, 6p max</td>\n",
       "      <td>Cozy and well-designed 2 bedroom apartment, co...</td>\n",
       "      <td>29281033</td>\n",
       "      <td>Palacio</td>\n",
       "      <td>Centro</td>\n",
       "      <td>Entire home/apt</td>\n",
       "      <td>6</td>\n",
       "      <td>2.0</td>\n",
       "      <td>2.0</td>\n",
       "      <td>...</td>\n",
       "      <td>100.0</td>\n",
       "      <td>VERDADERO</td>\n",
       "      <td>376.0</td>\n",
       "      <td>spain</td>\n",
       "      <td>madrid</td>\n",
       "      <td>2021-01-12</td>\n",
       "      <td>crib, luggage dropoff allowed, children's amen...</td>\n",
       "      <td>29</td>\n",
       "      <td>96.666667</td>\n",
       "      <td>True</td>\n",
       "    </tr>\n",
       "    <tr>\n",
       "      <th>1238</th>\n",
       "      <td>23782265</td>\n",
       "      <td>Romantic and Rustic Penthouse with a Sun Kisse...</td>\n",
       "      <td>Marvel at an adorable cottage-like space in an...</td>\n",
       "      <td>40929334</td>\n",
       "      <td>ARRANCAPINS</td>\n",
       "      <td>EXTRAMURS</td>\n",
       "      <td>Entire home/apt</td>\n",
       "      <td>2</td>\n",
       "      <td>1.0</td>\n",
       "      <td>1.0</td>\n",
       "      <td>...</td>\n",
       "      <td>90.0</td>\n",
       "      <td>VERDADERO</td>\n",
       "      <td>501.0</td>\n",
       "      <td>spain</td>\n",
       "      <td>valencia</td>\n",
       "      <td>2020-05-31</td>\n",
       "      <td>luggage dropoff allowed, oven, bed linens, roo...</td>\n",
       "      <td>1</td>\n",
       "      <td>3.333333</td>\n",
       "      <td>True</td>\n",
       "    </tr>\n",
       "    <tr>\n",
       "      <th>916</th>\n",
       "      <td>22479174</td>\n",
       "      <td>Private room in detached house</td>\n",
       "      <td>Cozy private room in a detached villa, near Ad...</td>\n",
       "      <td>80975261</td>\n",
       "      <td>Rejas</td>\n",
       "      <td>San Blas - Canillejas</td>\n",
       "      <td>Private room</td>\n",
       "      <td>2</td>\n",
       "      <td>2.0</td>\n",
       "      <td>1.0</td>\n",
       "      <td>...</td>\n",
       "      <td>100.0</td>\n",
       "      <td>FALSO</td>\n",
       "      <td>327.0</td>\n",
       "      <td>spain</td>\n",
       "      <td>madrid</td>\n",
       "      <td>2020-08-25</td>\n",
       "      <td>first aid kit, oven, lock on bedroom door, bal...</td>\n",
       "      <td>4</td>\n",
       "      <td>13.333333</td>\n",
       "      <td>True</td>\n",
       "    </tr>\n",
       "    <tr>\n",
       "      <th>1919</th>\n",
       "      <td>16292600</td>\n",
       "      <td>BCN Luxury</td>\n",
       "      <td>Lujoso apartamento en pleno centro de Barcelon...</td>\n",
       "      <td>15944590</td>\n",
       "      <td>l'Antiga Esquerra de l'Eixample</td>\n",
       "      <td>Eixample</td>\n",
       "      <td>Entire home/apt</td>\n",
       "      <td>4</td>\n",
       "      <td>2.0</td>\n",
       "      <td>2.0</td>\n",
       "      <td>...</td>\n",
       "      <td>100.0</td>\n",
       "      <td>FALSO</td>\n",
       "      <td>274.0</td>\n",
       "      <td>spain</td>\n",
       "      <td>barcelona</td>\n",
       "      <td>2020-02-16</td>\n",
       "      <td>crib, luggage dropoff allowed, oven, microwave...</td>\n",
       "      <td>12</td>\n",
       "      <td>40.000000</td>\n",
       "      <td>True</td>\n",
       "    </tr>\n",
       "    <tr>\n",
       "      <th>568</th>\n",
       "      <td>1073748</td>\n",
       "      <td>MAGIC PLACE IN BARCELONA, WITH POOL</td>\n",
       "      <td>&lt;b&gt;The space&lt;/b&gt;&lt;br /&gt;MAGIC PLACE IN BARCELONA...</td>\n",
       "      <td>5159312</td>\n",
       "      <td>Vallvidrera, el Tibidabo i les Planes</td>\n",
       "      <td>Sarri�-Sant Gervasi</td>\n",
       "      <td>Entire home/apt</td>\n",
       "      <td>4</td>\n",
       "      <td>1.0</td>\n",
       "      <td>1.0</td>\n",
       "      <td>...</td>\n",
       "      <td>100.0</td>\n",
       "      <td>VERDADERO</td>\n",
       "      <td>101.0</td>\n",
       "      <td>spain</td>\n",
       "      <td>barcelona</td>\n",
       "      <td>2020-11-06</td>\n",
       "      <td>crib, luggage dropoff allowed, oven, children'...</td>\n",
       "      <td>30</td>\n",
       "      <td>100.000000</td>\n",
       "      <td>True</td>\n",
       "    </tr>\n",
       "    <tr>\n",
       "      <th>673</th>\n",
       "      <td>17384311</td>\n",
       "      <td>Cubic House Garden, Cala Morlanda.</td>\n",
       "      <td>Cozy designer apartment located  in a nice gar...</td>\n",
       "      <td>11087082</td>\n",
       "      <td>Manacor</td>\n",
       "      <td>NaN</td>\n",
       "      <td>Entire home/apt</td>\n",
       "      <td>3</td>\n",
       "      <td>1.0</td>\n",
       "      <td>1.0</td>\n",
       "      <td>...</td>\n",
       "      <td>100.0</td>\n",
       "      <td>VERDADERO</td>\n",
       "      <td>196.0</td>\n",
       "      <td>spain</td>\n",
       "      <td>mallorca</td>\n",
       "      <td>2020-10-21</td>\n",
       "      <td>first aid kit, crib, barbecue utensils, oven, ...</td>\n",
       "      <td>0</td>\n",
       "      <td>0.000000</td>\n",
       "      <td>True</td>\n",
       "    </tr>\n",
       "    <tr>\n",
       "      <th>1684</th>\n",
       "      <td>21916433</td>\n",
       "      <td>Typical majorcan house in Llucmajor</td>\n",
       "      <td>Cozy 2 floors family house with 5 double bedro...</td>\n",
       "      <td>159911693</td>\n",
       "      <td>Llucmajor</td>\n",
       "      <td>NaN</td>\n",
       "      <td>Entire home/apt</td>\n",
       "      <td>10</td>\n",
       "      <td>3.0</td>\n",
       "      <td>5.0</td>\n",
       "      <td>...</td>\n",
       "      <td>100.0</td>\n",
       "      <td>FALSO</td>\n",
       "      <td>314.0</td>\n",
       "      <td>spain</td>\n",
       "      <td>mallorca</td>\n",
       "      <td>2020-03-22</td>\n",
       "      <td>luggage dropoff allowed, oven, bed linens, bal...</td>\n",
       "      <td>9</td>\n",
       "      <td>30.000000</td>\n",
       "      <td>True</td>\n",
       "    </tr>\n",
       "    <tr>\n",
       "      <th>4485</th>\n",
       "      <td>21925668</td>\n",
       "      <td>�tico con piscina Triana 2mm del Centro de sev...</td>\n",
       "      <td>Nous sommes � Triana � 2mm du centre de Sevill...</td>\n",
       "      <td>15589434</td>\n",
       "      <td>Triana Casco Antiguo</td>\n",
       "      <td>Triana</td>\n",
       "      <td>Entire home/apt</td>\n",
       "      <td>7</td>\n",
       "      <td>2.0</td>\n",
       "      <td>3.0</td>\n",
       "      <td>...</td>\n",
       "      <td>100.0</td>\n",
       "      <td>VERDADERO</td>\n",
       "      <td>514.0</td>\n",
       "      <td>spain</td>\n",
       "      <td>sevilla</td>\n",
       "      <td>2019-02-18</td>\n",
       "      <td>first aid kit, crib, luggage dropoff allowed, ...</td>\n",
       "      <td>27</td>\n",
       "      <td>90.000000</td>\n",
       "      <td>True</td>\n",
       "    </tr>\n",
       "  </tbody>\n",
       "</table>\n",
       "<p>10 rows × 39 columns</p>\n",
       "</div>"
      ],
      "text/plain": [
       "      apartment_id                                               name  \\\n",
       "2244      11989301                             Vivienda San Mart�n II   \n",
       "3200       9122183                 Casa sevillana en barrio historico   \n",
       "278       22979863  Stylish Apt PZA MAYOR/La Latina 2BD* 2BT*, 6p max   \n",
       "1238      23782265  Romantic and Rustic Penthouse with a Sun Kisse...   \n",
       "916       22479174                     Private room in detached house   \n",
       "1919      16292600                                         BCN Luxury   \n",
       "568        1073748                MAGIC PLACE IN BARCELONA, WITH POOL   \n",
       "673       17384311                 Cubic House Garden, Cala Morlanda.   \n",
       "1684      21916433                Typical majorcan house in Llucmajor   \n",
       "4485      21925668  �tico con piscina Triana 2mm del Centro de sev...   \n",
       "\n",
       "                                            description    host_id  \\\n",
       "2244  Rel�jate y desconecta mientras la c�lida luz v...   34840363   \n",
       "3200  Habitaci�n luminosa con terraza privada para u...   47528412   \n",
       "278   Cozy and well-designed 2 bedroom apartment, co...   29281033   \n",
       "1238  Marvel at an adorable cottage-like space in an...   40929334   \n",
       "916   Cozy private room in a detached villa, near Ad...   80975261   \n",
       "1919  Lujoso apartamento en pleno centro de Barcelon...   15944590   \n",
       "568   <b>The space</b><br />MAGIC PLACE IN BARCELONA...    5159312   \n",
       "673   Cozy designer apartment located  in a nice gar...   11087082   \n",
       "1684  Cozy 2 floors family house with 5 double bedro...  159911693   \n",
       "4485  Nous sommes � Triana � 2mm du centre de Sevill...   15589434   \n",
       "\n",
       "                         neighbourhood_name neighbourhood_district  \\\n",
       "2244                          SANT FRANCESC           CIUTAT VELLA   \n",
       "3200                                Pio XII               Macarena   \n",
       "278                                 Palacio                 Centro   \n",
       "1238                            ARRANCAPINS              EXTRAMURS   \n",
       "916                                   Rejas  San Blas - Canillejas   \n",
       "1919        l'Antiga Esquerra de l'Eixample               Eixample   \n",
       "568   Vallvidrera, el Tibidabo i les Planes    Sarri�-Sant Gervasi   \n",
       "673                                 Manacor                    NaN   \n",
       "1684                              Llucmajor                    NaN   \n",
       "4485                   Triana Casco Antiguo                 Triana   \n",
       "\n",
       "            room_type  accommodates  bathrooms  bedrooms  ...  \\\n",
       "2244  Entire home/apt             4        1.0       1.0  ...   \n",
       "3200     Private room             2        2.0       1.0  ...   \n",
       "278   Entire home/apt             6        2.0       2.0  ...   \n",
       "1238  Entire home/apt             2        1.0       1.0  ...   \n",
       "916      Private room             2        2.0       1.0  ...   \n",
       "1919  Entire home/apt             4        2.0       2.0  ...   \n",
       "568   Entire home/apt             4        1.0       1.0  ...   \n",
       "673   Entire home/apt             3        1.0       1.0  ...   \n",
       "1684  Entire home/apt            10        3.0       5.0  ...   \n",
       "4485  Entire home/apt             7        2.0       3.0  ...   \n",
       "\n",
       "      review_scores_value is_instant_bookable  reviews_per_month  country  \\\n",
       "2244                100.0           VERDADERO              394.0    spain   \n",
       "3200                100.0               FALSO              347.0    spain   \n",
       "278                 100.0           VERDADERO              376.0    spain   \n",
       "1238                 90.0           VERDADERO              501.0    spain   \n",
       "916                 100.0               FALSO              327.0    spain   \n",
       "1919                100.0               FALSO              274.0    spain   \n",
       "568                 100.0           VERDADERO              101.0    spain   \n",
       "673                 100.0           VERDADERO              196.0    spain   \n",
       "1684                100.0               FALSO              314.0    spain   \n",
       "4485                100.0           VERDADERO              514.0    spain   \n",
       "\n",
       "           city insert_date  \\\n",
       "2244   valencia  2019-12-31   \n",
       "3200    sevilla  2019-07-29   \n",
       "278      madrid  2021-01-12   \n",
       "1238   valencia  2020-05-31   \n",
       "916      madrid  2020-08-25   \n",
       "1919  barcelona  2020-02-16   \n",
       "568   barcelona  2020-11-06   \n",
       "673    mallorca  2020-10-21   \n",
       "1684   mallorca  2020-03-22   \n",
       "4485    sevilla  2019-02-18   \n",
       "\n",
       "                                   normalized_amenities  days_occupied  \\\n",
       "2244  first aid kit, hbo go, safety card, wide entry...             23   \n",
       "3200  first aid kit, wide entryway, luggage dropoff ...             30   \n",
       "278   crib, luggage dropoff allowed, children's amen...             29   \n",
       "1238  luggage dropoff allowed, oven, bed linens, roo...              1   \n",
       "916   first aid kit, oven, lock on bedroom door, bal...              4   \n",
       "1919  crib, luggage dropoff allowed, oven, microwave...             12   \n",
       "568   crib, luggage dropoff allowed, oven, children'...             30   \n",
       "673   first aid kit, crib, barbecue utensils, oven, ...              0   \n",
       "1684  luggage dropoff allowed, oven, bed linens, bal...              9   \n",
       "4485  first aid kit, crib, luggage dropoff allowed, ...             27   \n",
       "\n",
       "      occupancy_rate  supera_80  \n",
       "2244       76.666667       True  \n",
       "3200      100.000000       True  \n",
       "278        96.666667       True  \n",
       "1238        3.333333       True  \n",
       "916        13.333333       True  \n",
       "1919       40.000000       True  \n",
       "568       100.000000       True  \n",
       "673         0.000000       True  \n",
       "1684       30.000000       True  \n",
       "4485       90.000000       True  \n",
       "\n",
       "[10 rows x 39 columns]"
      ]
     },
     "execution_count": 85,
     "metadata": {},
     "output_type": "execute_result"
    }
   ],
   "source": [
    "top_apartamentos_puntos = df.sort_values(['review_scores_rating', 'number_of_reviews'], ascending=False)\n",
    "top_apartamentos_puntos.head(10)"
   ]
  },
  {
   "cell_type": "code",
   "execution_count": 86,
   "id": "137597bd",
   "metadata": {},
   "outputs": [
    {
     "data": {
      "text/html": [
       "<div>\n",
       "<style scoped>\n",
       "    .dataframe tbody tr th:only-of-type {\n",
       "        vertical-align: middle;\n",
       "    }\n",
       "\n",
       "    .dataframe tbody tr th {\n",
       "        vertical-align: top;\n",
       "    }\n",
       "\n",
       "    .dataframe thead th {\n",
       "        text-align: right;\n",
       "    }\n",
       "</style>\n",
       "<table border=\"1\" class=\"dataframe\">\n",
       "  <thead>\n",
       "    <tr style=\"text-align: right;\">\n",
       "      <th></th>\n",
       "      <th>apartment_id</th>\n",
       "      <th>name</th>\n",
       "      <th>description</th>\n",
       "      <th>host_id</th>\n",
       "      <th>neighbourhood_name</th>\n",
       "      <th>neighbourhood_district</th>\n",
       "      <th>room_type</th>\n",
       "      <th>accommodates</th>\n",
       "      <th>bathrooms</th>\n",
       "      <th>bedrooms</th>\n",
       "      <th>...</th>\n",
       "      <th>review_scores_value</th>\n",
       "      <th>is_instant_bookable</th>\n",
       "      <th>reviews_per_month</th>\n",
       "      <th>country</th>\n",
       "      <th>city</th>\n",
       "      <th>insert_date</th>\n",
       "      <th>normalized_amenities</th>\n",
       "      <th>days_occupied</th>\n",
       "      <th>occupancy_rate</th>\n",
       "      <th>supera_80</th>\n",
       "    </tr>\n",
       "  </thead>\n",
       "  <tbody>\n",
       "    <tr>\n",
       "      <th>3444</th>\n",
       "      <td>384727</td>\n",
       "      <td>Private Room  in Center of Seville</td>\n",
       "      <td>located in the centre of Seville, offers accom...</td>\n",
       "      <td>1920069</td>\n",
       "      <td>Arenal</td>\n",
       "      <td>Casco Antiguo</td>\n",
       "      <td>Private room</td>\n",
       "      <td>2</td>\n",
       "      <td>1.0</td>\n",
       "      <td>1.0</td>\n",
       "      <td>...</td>\n",
       "      <td>100.0</td>\n",
       "      <td>FALSO</td>\n",
       "      <td>681.0</td>\n",
       "      <td>spain</td>\n",
       "      <td>sevilla</td>\n",
       "      <td>2019-06-29</td>\n",
       "      <td>first aid kit, host greets you, hair dryer, ba...</td>\n",
       "      <td>30</td>\n",
       "      <td>100.000000</td>\n",
       "      <td>True</td>\n",
       "    </tr>\n",
       "    <tr>\n",
       "      <th>2299</th>\n",
       "      <td>959840</td>\n",
       "      <td>PL REAL (Sq) PENTHOUSE Rooftop</td>\n",
       "      <td>Rustic penthous with old beams,old ceramic flo...</td>\n",
       "      <td>5223863</td>\n",
       "      <td>el Barri G�tic</td>\n",
       "      <td>Ciutat Vella</td>\n",
       "      <td>Private room</td>\n",
       "      <td>2</td>\n",
       "      <td>2.0</td>\n",
       "      <td>1.0</td>\n",
       "      <td>...</td>\n",
       "      <td>100.0</td>\n",
       "      <td>VERDADERO</td>\n",
       "      <td>71.0</td>\n",
       "      <td>spain</td>\n",
       "      <td>barcelona</td>\n",
       "      <td>2019-12-10</td>\n",
       "      <td>first aid kit, wide entryway, luggage dropoff ...</td>\n",
       "      <td>26</td>\n",
       "      <td>86.666667</td>\n",
       "      <td>True</td>\n",
       "    </tr>\n",
       "    <tr>\n",
       "      <th>2018</th>\n",
       "      <td>1871218</td>\n",
       "      <td>�tico apartamento VFT/SE/00804</td>\n",
       "      <td>�tico muy luminoso. Consta de: Sal�n, Ba�o, Co...</td>\n",
       "      <td>9751847</td>\n",
       "      <td>Le�n XIII, Los Naranjos</td>\n",
       "      <td>Macarena</td>\n",
       "      <td>Entire home/apt</td>\n",
       "      <td>2</td>\n",
       "      <td>1.0</td>\n",
       "      <td>1.0</td>\n",
       "      <td>...</td>\n",
       "      <td>80.0</td>\n",
       "      <td>VERDADERO</td>\n",
       "      <td>698.0</td>\n",
       "      <td>spain</td>\n",
       "      <td>sevilla</td>\n",
       "      <td>2020-01-30</td>\n",
       "      <td>first aid kit, safety card, balcony, bathroom ...</td>\n",
       "      <td>7</td>\n",
       "      <td>23.333333</td>\n",
       "      <td>False</td>\n",
       "    </tr>\n",
       "    <tr>\n",
       "      <th>981</th>\n",
       "      <td>3058631</td>\n",
       "      <td>Private Studio in Sol, Madrid</td>\n",
       "      <td>We are offering a clean, well presented and re...</td>\n",
       "      <td>14370747</td>\n",
       "      <td>Sol</td>\n",
       "      <td>Centro</td>\n",
       "      <td>Entire home/apt</td>\n",
       "      <td>3</td>\n",
       "      <td>1.0</td>\n",
       "      <td>1.0</td>\n",
       "      <td>...</td>\n",
       "      <td>90.0</td>\n",
       "      <td>FALSO</td>\n",
       "      <td>698.0</td>\n",
       "      <td>spain</td>\n",
       "      <td>madrid</td>\n",
       "      <td>2020-07-17</td>\n",
       "      <td>oven, bed linens, room-darkening shades, micro...</td>\n",
       "      <td>30</td>\n",
       "      <td>100.000000</td>\n",
       "      <td>True</td>\n",
       "    </tr>\n",
       "    <tr>\n",
       "      <th>236</th>\n",
       "      <td>526513</td>\n",
       "      <td>Sol.  Your home in Madrid�s Heart</td>\n",
       "      <td>DESIGN apartment in the HEART of Madrid.&lt;br /&gt;...</td>\n",
       "      <td>1134989</td>\n",
       "      <td>Sol</td>\n",
       "      <td>Centro</td>\n",
       "      <td>Entire home/apt</td>\n",
       "      <td>5</td>\n",
       "      <td>1.0</td>\n",
       "      <td>2.0</td>\n",
       "      <td>...</td>\n",
       "      <td>100.0</td>\n",
       "      <td>VERDADERO</td>\n",
       "      <td>491.0</td>\n",
       "      <td>spain</td>\n",
       "      <td>madrid</td>\n",
       "      <td>2021-01-12</td>\n",
       "      <td>first aid kit, crib, luggage dropoff allowed, ...</td>\n",
       "      <td>23</td>\n",
       "      <td>76.666667</td>\n",
       "      <td>True</td>\n",
       "    </tr>\n",
       "    <tr>\n",
       "      <th>715</th>\n",
       "      <td>3143400</td>\n",
       "      <td>Great room in the center of Madrid</td>\n",
       "      <td>Bright room in hortaleza Street, next to Gran ...</td>\n",
       "      <td>15328893</td>\n",
       "      <td>Justicia</td>\n",
       "      <td>Centro</td>\n",
       "      <td>Private room</td>\n",
       "      <td>2</td>\n",
       "      <td>1.0</td>\n",
       "      <td>1.0</td>\n",
       "      <td>...</td>\n",
       "      <td>100.0</td>\n",
       "      <td>VERDADERO</td>\n",
       "      <td>773.0</td>\n",
       "      <td>spain</td>\n",
       "      <td>madrid</td>\n",
       "      <td>2020-10-17</td>\n",
       "      <td>oven, balcony, microwave, bathroom essentials,...</td>\n",
       "      <td>30</td>\n",
       "      <td>100.000000</td>\n",
       "      <td>True</td>\n",
       "    </tr>\n",
       "    <tr>\n",
       "      <th>3598</th>\n",
       "      <td>681925</td>\n",
       "      <td>Very Central, Stunning Views, Sunny Terrace, W...</td>\n",
       "      <td>FANTASTIC PENTHOUSE LOCATED IN THE CENTER OF V...</td>\n",
       "      <td>3462415</td>\n",
       "      <td>EL PILAR</td>\n",
       "      <td>CIUTAT VELLA</td>\n",
       "      <td>Entire home/apt</td>\n",
       "      <td>2</td>\n",
       "      <td>1.0</td>\n",
       "      <td>1.0</td>\n",
       "      <td>...</td>\n",
       "      <td>100.0</td>\n",
       "      <td>VERDADERO</td>\n",
       "      <td>624.0</td>\n",
       "      <td>spain</td>\n",
       "      <td>valencia</td>\n",
       "      <td>2019-05-31</td>\n",
       "      <td>first aid kit, bed linens, balcony, microwave,...</td>\n",
       "      <td>27</td>\n",
       "      <td>90.000000</td>\n",
       "      <td>True</td>\n",
       "    </tr>\n",
       "    <tr>\n",
       "      <th>736</th>\n",
       "      <td>1670427</td>\n",
       "      <td>Walk everywhere!Brand new apartWIFI</td>\n",
       "      <td>The apartment is  right in the center of Barce...</td>\n",
       "      <td>8843962</td>\n",
       "      <td>la Dreta de l'Eixample</td>\n",
       "      <td>Eixample</td>\n",
       "      <td>Entire home/apt</td>\n",
       "      <td>5</td>\n",
       "      <td>1.0</td>\n",
       "      <td>1.0</td>\n",
       "      <td>...</td>\n",
       "      <td>90.0</td>\n",
       "      <td>VERDADERO</td>\n",
       "      <td>588.0</td>\n",
       "      <td>spain</td>\n",
       "      <td>barcelona</td>\n",
       "      <td>2020-10-12</td>\n",
       "      <td>crib, bed linens, microwave, essentials, washe...</td>\n",
       "      <td>3</td>\n",
       "      <td>10.000000</td>\n",
       "      <td>True</td>\n",
       "    </tr>\n",
       "    <tr>\n",
       "      <th>1751</th>\n",
       "      <td>4028518</td>\n",
       "      <td>Renovated &amp; Vintage en Barcelona</td>\n",
       "      <td>Welcome to this cozy apartment located in the ...</td>\n",
       "      <td>20886062</td>\n",
       "      <td>la Sagrada Fam�lia</td>\n",
       "      <td>Eixample</td>\n",
       "      <td>Entire home/apt</td>\n",
       "      <td>4</td>\n",
       "      <td>1.0</td>\n",
       "      <td>2.0</td>\n",
       "      <td>...</td>\n",
       "      <td>100.0</td>\n",
       "      <td>VERDADERO</td>\n",
       "      <td>712.0</td>\n",
       "      <td>spain</td>\n",
       "      <td>barcelona</td>\n",
       "      <td>2020-03-16</td>\n",
       "      <td>first aid kit, crib, balcony, microwave, bathr...</td>\n",
       "      <td>1</td>\n",
       "      <td>3.333333</td>\n",
       "      <td>True</td>\n",
       "    </tr>\n",
       "    <tr>\n",
       "      <th>1746</th>\n",
       "      <td>6289283</td>\n",
       "      <td>Cozy apartment near El Raval</td>\n",
       "      <td>Nice bright room with large private terrace (p...</td>\n",
       "      <td>32695481</td>\n",
       "      <td>el Raval</td>\n",
       "      <td>Ciutat Vella</td>\n",
       "      <td>Private room</td>\n",
       "      <td>2</td>\n",
       "      <td>1.0</td>\n",
       "      <td>1.0</td>\n",
       "      <td>...</td>\n",
       "      <td>90.0</td>\n",
       "      <td>VERDADERO</td>\n",
       "      <td>78.0</td>\n",
       "      <td>spain</td>\n",
       "      <td>barcelona</td>\n",
       "      <td>2020-03-16</td>\n",
       "      <td>lock on bedroom door, balcony, bathroom essent...</td>\n",
       "      <td>4</td>\n",
       "      <td>13.333333</td>\n",
       "      <td>True</td>\n",
       "    </tr>\n",
       "  </tbody>\n",
       "</table>\n",
       "<p>10 rows × 39 columns</p>\n",
       "</div>"
      ],
      "text/plain": [
       "      apartment_id                                               name  \\\n",
       "3444        384727                 Private Room  in Center of Seville   \n",
       "2299        959840                     PL REAL (Sq) PENTHOUSE Rooftop   \n",
       "2018       1871218                     �tico apartamento VFT/SE/00804   \n",
       "981        3058631                      Private Studio in Sol, Madrid   \n",
       "236         526513                  Sol.  Your home in Madrid�s Heart   \n",
       "715        3143400                 Great room in the center of Madrid   \n",
       "3598        681925  Very Central, Stunning Views, Sunny Terrace, W...   \n",
       "736        1670427                Walk everywhere!Brand new apartWIFI   \n",
       "1751       4028518                   Renovated & Vintage en Barcelona   \n",
       "1746       6289283                       Cozy apartment near El Raval   \n",
       "\n",
       "                                            description   host_id  \\\n",
       "3444  located in the centre of Seville, offers accom...   1920069   \n",
       "2299  Rustic penthous with old beams,old ceramic flo...   5223863   \n",
       "2018  �tico muy luminoso. Consta de: Sal�n, Ba�o, Co...   9751847   \n",
       "981   We are offering a clean, well presented and re...  14370747   \n",
       "236   DESIGN apartment in the HEART of Madrid.<br />...   1134989   \n",
       "715   Bright room in hortaleza Street, next to Gran ...  15328893   \n",
       "3598  FANTASTIC PENTHOUSE LOCATED IN THE CENTER OF V...   3462415   \n",
       "736   The apartment is  right in the center of Barce...   8843962   \n",
       "1751  Welcome to this cozy apartment located in the ...  20886062   \n",
       "1746  Nice bright room with large private terrace (p...  32695481   \n",
       "\n",
       "           neighbourhood_name neighbourhood_district        room_type  \\\n",
       "3444                   Arenal          Casco Antiguo     Private room   \n",
       "2299           el Barri G�tic           Ciutat Vella     Private room   \n",
       "2018  Le�n XIII, Los Naranjos               Macarena  Entire home/apt   \n",
       "981                       Sol                 Centro  Entire home/apt   \n",
       "236                       Sol                 Centro  Entire home/apt   \n",
       "715                  Justicia                 Centro     Private room   \n",
       "3598                 EL PILAR           CIUTAT VELLA  Entire home/apt   \n",
       "736    la Dreta de l'Eixample               Eixample  Entire home/apt   \n",
       "1751       la Sagrada Fam�lia               Eixample  Entire home/apt   \n",
       "1746                 el Raval           Ciutat Vella     Private room   \n",
       "\n",
       "      accommodates  bathrooms  bedrooms  ...  review_scores_value  \\\n",
       "3444             2        1.0       1.0  ...                100.0   \n",
       "2299             2        2.0       1.0  ...                100.0   \n",
       "2018             2        1.0       1.0  ...                 80.0   \n",
       "981              3        1.0       1.0  ...                 90.0   \n",
       "236              5        1.0       2.0  ...                100.0   \n",
       "715              2        1.0       1.0  ...                100.0   \n",
       "3598             2        1.0       1.0  ...                100.0   \n",
       "736              5        1.0       1.0  ...                 90.0   \n",
       "1751             4        1.0       2.0  ...                100.0   \n",
       "1746             2        1.0       1.0  ...                 90.0   \n",
       "\n",
       "     is_instant_bookable  reviews_per_month  country       city insert_date  \\\n",
       "3444               FALSO              681.0    spain    sevilla  2019-06-29   \n",
       "2299           VERDADERO               71.0    spain  barcelona  2019-12-10   \n",
       "2018           VERDADERO              698.0    spain    sevilla  2020-01-30   \n",
       "981                FALSO              698.0    spain     madrid  2020-07-17   \n",
       "236            VERDADERO              491.0    spain     madrid  2021-01-12   \n",
       "715            VERDADERO              773.0    spain     madrid  2020-10-17   \n",
       "3598           VERDADERO              624.0    spain   valencia  2019-05-31   \n",
       "736            VERDADERO              588.0    spain  barcelona  2020-10-12   \n",
       "1751           VERDADERO              712.0    spain  barcelona  2020-03-16   \n",
       "1746           VERDADERO               78.0    spain  barcelona  2020-03-16   \n",
       "\n",
       "                                   normalized_amenities  days_occupied  \\\n",
       "3444  first aid kit, host greets you, hair dryer, ba...             30   \n",
       "2299  first aid kit, wide entryway, luggage dropoff ...             26   \n",
       "2018  first aid kit, safety card, balcony, bathroom ...              7   \n",
       "981   oven, bed linens, room-darkening shades, micro...             30   \n",
       "236   first aid kit, crib, luggage dropoff allowed, ...             23   \n",
       "715   oven, balcony, microwave, bathroom essentials,...             30   \n",
       "3598  first aid kit, bed linens, balcony, microwave,...             27   \n",
       "736   crib, bed linens, microwave, essentials, washe...              3   \n",
       "1751  first aid kit, crib, balcony, microwave, bathr...              1   \n",
       "1746  lock on bedroom door, balcony, bathroom essent...              4   \n",
       "\n",
       "      occupancy_rate  supera_80  \n",
       "3444      100.000000       True  \n",
       "2299       86.666667       True  \n",
       "2018       23.333333      False  \n",
       "981       100.000000       True  \n",
       "236        76.666667       True  \n",
       "715       100.000000       True  \n",
       "3598       90.000000       True  \n",
       "736        10.000000       True  \n",
       "1751        3.333333       True  \n",
       "1746       13.333333       True  \n",
       "\n",
       "[10 rows x 39 columns]"
      ]
     },
     "execution_count": 86,
     "metadata": {},
     "output_type": "execute_result"
    }
   ],
   "source": [
    "top_apartamentos_num_reviews = df.sort_values(['number_of_reviews', 'review_scores_rating'], ascending=False)\n",
    "top_apartamentos_num_reviews.head(10)"
   ]
  },
  {
   "cell_type": "markdown",
   "id": "5e1fb52e",
   "metadata": {},
   "source": [
    "#### Frecuencia de reseñas al mes por puntuación"
   ]
  },
  {
   "cell_type": "code",
   "execution_count": 87,
   "id": "7ad54e5d",
   "metadata": {},
   "outputs": [
    {
     "data": {
      "text/plain": [
       "<Axes: xlabel='review_scores_value', ylabel='reviews_per_month'>"
      ]
     },
     "execution_count": 87,
     "metadata": {},
     "output_type": "execute_result"
    },
    {
     "data": {
      "image/png": "[encoded data removed]",
      "text/plain": [
       "<Figure size 511.111x500 with 1 Axes>"
      ]
     },
     "metadata": {},
     "output_type": "display_data"
    }
   ],
   "source": [
    "g = sns.catplot(data=df, x='review_scores_value', y='reviews_per_month', kind=\"violin\", inner=None)\n",
    "sns.stripplot(data=df, x='review_scores_value', y='reviews_per_month', color=\"b\", size=1.5, ax=g.ax)"
   ]
  },
  {
   "cell_type": "markdown",
   "id": "b050d60a",
   "metadata": {},
   "source": [
    "## KPI 4 - Ítem con la mayor puntuación promedio"
   ]
  },
  {
   "cell_type": "code",
   "execution_count": 88,
   "id": "2c3c4030",
   "metadata": {},
   "outputs": [
    {
     "name": "stdout",
     "output_type": "stream",
     "text": [
      "Precisión         94.537467\n",
      "Limpieza          93.113614\n",
      "Registro          96.256844\n",
      "Comunicaciones    96.338635\n",
      "Ubicación         95.270495\n",
      "dtype: float64\n",
      "La métrica con la mayor puntuación promedio es: Comunicaciones con un valor de 96.34\n"
     ]
    }
   ],
   "source": [
    "# Diccionario para traducir los nombres de las columnas de evaluación específicas\n",
    "traducciones = {\n",
    "    'review_scores_accuracy': 'Precisión',\n",
    "    'review_scores_cleanliness': 'Limpieza',\n",
    "    'review_scores_checkin': 'Registro',\n",
    "    'review_scores_communication': 'Comunicaciones',\n",
    "    'review_scores_location': 'Ubicación'\n",
    "}\n",
    "\n",
    "# Columnas originales\n",
    "cols = list(traducciones.keys())\n",
    "\n",
    "# Calcular la media de cada una (ignorando NaN)\n",
    "mean_scores = df[cols].mean().rename(traducciones)\n",
    "\n",
    "print(mean_scores)\n",
    "\n",
    "# Mostrar la métrica con mayor media\n",
    "max_metric = mean_scores.idxmax()\n",
    "max_value = mean_scores.max()\n",
    "\n",
    "print(f\"La métrica con la mayor puntuación promedio es: {max_metric} con un valor de {max_value:.2f}\")"
   ]
  },
  {
   "cell_type": "markdown",
   "id": "a7abe3d3",
   "metadata": {},
   "source": [
    "Representación gráfica"
   ]
  },
  {
   "cell_type": "code",
   "execution_count": 89,
   "id": "841bdc82",
   "metadata": {},
   "outputs": [
    {
     "data": {
      "text/plain": [
       "[Text(0, 0, '93.11'),\n",
       " Text(0, 0, '94.54'),\n",
       " Text(0, 0, '95.27'),\n",
       " Text(0, 0, '96.26'),\n",
       " Text(0, 0, '96.34')]"
      ]
     },
     "execution_count": 89,
     "metadata": {},
     "output_type": "execute_result"
    },
    {
     "data": {
      "image/png": "[encoded data removed]",
      "text/plain": [
       "<Figure size 640x480 with 1 Axes>"
      ]
     },
     "metadata": {},
     "output_type": "display_data"
    }
   ],
   "source": [
    "mean_sorted = mean_scores.sort_values(ascending=True)\n",
    "plt.barh(mean_sorted.index, mean_sorted.values)\n",
    "plt.xlim(80, 100)\n",
    "plt.xlabel('Categoría')\n",
    "plt.ylabel('Puntuación')\n",
    "plt.title('Valoración media alojamientos por categoría')\n",
    "plt.bar_label(plt.gca().containers[0], fmt='%.2f', label_type='center')"
   ]
  },
  {
   "cell_type": "markdown",
   "id": "66fca0f0",
   "metadata": {},
   "source": [
    "Gráfica de radar para representar las puntuaciones"
   ]
  },
  {
   "cell_type": "code",
   "execution_count": 90,
   "id": "df81f127",
   "metadata": {},
   "outputs": [
    {
     "data": {
      "application/vnd.plotly.v1+json": {
       "config": {
        "plotlyServerURL": "https://plot.ly"
       },
       "data": [
        {
         "fill": "toself",
         "hovertemplate": "r=%{r}<br>theta=%{theta}<extra></extra>",
         "legendgroup": "",
         "line": {
          "color": "#636efa",
          "dash": "solid"
         },
         "marker": {
          "symbol": "circle"
         },
         "mode": "lines",
         "name": "",
         "r": [
          94.53746684350132,
          93.11361377939716,
          96.25684420109508,
          96.33863485752154,
          95.2704945237305,
          94.53746684350132
         ],
         "showlegend": false,
         "subplot": "polar",
         "theta": [
          "Precisión",
          "Limpieza",
          "Registro",
          "Comunicaciones",
          "Ubicación",
          "Precisión"
         ],
         "type": "scatterpolar"
        },
        {
         "marker": {
          "color": "blue",
          "size": 5,
          "symbol": "circle"
         },
         "mode": "markers+text",
         "name": "Valores",
         "r": [
          94.53746684350132,
          93.11361377939716,
          96.25684420109508,
          96.33863485752154,
          95.2704945237305
         ],
         "showlegend": false,
         "text": [
          94.54,
          93.11,
          96.26,
          96.34,
          95.27
         ],
         "textposition": "top center",
         "theta": [
          "Precisión",
          "Limpieza",
          "Registro",
          "Comunicaciones",
          "Ubicación"
         ],
         "type": "scatterpolar"
        },
        {
         "marker": {
          "color": "red",
          "size": 10,
          "symbol": "circle"
         },
         "mode": "markers",
         "name": "Valor máximo",
         "r": [
          96.33863485752154
         ],
         "showlegend": false,
         "theta": [
          "Comunicaciones"
         ],
         "type": "scatterpolar"
        }
       ],
       "layout": {
        "legend": {
         "tracegroupgap": 0
        },
        "margin": {
         "t": 60
        },
        "polar": {
         "angularaxis": {
          "direction": "clockwise",
          "rotation": 90
         },
         "domain": {
          "x": [
           0,
           1
          ],
          "y": [
           0,
           1
          ]
         },
         "radialaxis": {
          "range": [
           90,
           100
          ]
         }
        },
        "template": {
         "data": {
          "bar": [
           {
            "error_x": {
             "color": "#2a3f5f"
            },
            "error_y": {
             "color": "#2a3f5f"
            },
            "marker": {
             "line": {
              "color": "#E5ECF6",
              "width": 0.5
             },
             "pattern": {
              "fillmode": "overlay",
              "size": 10,
              "solidity": 0.2
             }
            },
            "type": "bar"
           }
          ],
          "barpolar": [
           {
            "marker": {
             "line": {
              "color": "#E5ECF6",
              "width": 0.5
             },
             "pattern": {
              "fillmode": "overlay",
              "size": 10,
              "solidity": 0.2
             }
            },
            "type": "barpolar"
           }
          ],
          "carpet": [
           {
            "aaxis": {
             "endlinecolor": "#2a3f5f",
             "gridcolor": "white",
             "linecolor": "white",
             "minorgridcolor": "white",
             "startlinecolor": "#2a3f5f"
            },
            "baxis": {
             "endlinecolor": "#2a3f5f",
             "gridcolor": "white",
             "linecolor": "white",
             "minorgridcolor": "white",
             "startlinecolor": "#2a3f5f"
            },
            "type": "carpet"
           }
          ],
          "choropleth": [
           {
            "colorbar": {
             "outlinewidth": 0,
             "ticks": ""
            },
            "type": "choropleth"
           }
          ],
          "contour": [
           {
            "colorbar": {
             "outlinewidth": 0,
             "ticks": ""
            },
            "colorscale": [
             [
              0,
              "#0d0887"
             ],
             [
              0.1111111111111111,
              "#46039f"
             ],
             [
              0.2222222222222222,
              "#7201a8"
             ],
             [
              0.3333333333333333,
              "#9c179e"
             ],
             [
              0.4444444444444444,
              "#bd3786"
             ],
             [
              0.5555555555555556,
              "#d8576b"
             ],
             [
              0.6666666666666666,
              "#ed7953"
             ],
             [
              0.7777777777777778,
              "#fb9f3a"
             ],
             [
              0.8888888888888888,
              "#fdca26"
             ],
             [
              1,
              "#f0f921"
             ]
            ],
            "type": "contour"
           }
          ],
          "contourcarpet": [
           {
            "colorbar": {
             "outlinewidth": 0,
             "ticks": ""
            },
            "type": "contourcarpet"
           }
          ],
          "heatmap": [
           {
            "colorbar": {
             "outlinewidth": 0,
             "ticks": ""
            },
            "colorscale": [
             [
              0,
              "#0d0887"
             ],
             [
              0.1111111111111111,
              "#46039f"
             ],
             [
              0.2222222222222222,
              "#7201a8"
             ],
             [
              0.3333333333333333,
              "#9c179e"
             ],
             [
              0.4444444444444444,
              "#bd3786"
             ],
             [
              0.5555555555555556,
              "#d8576b"
             ],
             [
              0.6666666666666666,
              "#ed7953"
             ],
             [
              0.7777777777777778,
              "#fb9f3a"
             ],
             [
              0.8888888888888888,
              "#fdca26"
             ],
             [
              1,
              "#f0f921"
             ]
            ],
            "type": "heatmap"
           }
          ],
          "heatmapgl": [
           {
            "colorbar": {
             "outlinewidth": 0,
             "ticks": ""
            },
            "colorscale": [
             [
              0,
              "#0d0887"
             ],
             [
              0.1111111111111111,
              "#46039f"
             ],
             [
              0.2222222222222222,
              "#7201a8"
             ],
             [
              0.3333333333333333,
              "#9c179e"
             ],
             [
              0.4444444444444444,
              "#bd3786"
             ],
             [
              0.5555555555555556,
              "#d8576b"
             ],
             [
              0.6666666666666666,
              "#ed7953"
             ],
             [
              0.7777777777777778,
              "#fb9f3a"
             ],
             [
              0.8888888888888888,
              "#fdca26"
             ],
             [
              1,
              "#f0f921"
             ]
            ],
            "type": "heatmapgl"
           }
          ],
          "histogram": [
           {
            "marker": {
             "pattern": {
              "fillmode": "overlay",
              "size": 10,
              "solidity": 0.2
             }
            },
            "type": "histogram"
           }
          ],
          "histogram2d": [
           {
            "colorbar": {
             "outlinewidth": 0,
             "ticks": ""
            },
            "colorscale": [
             [
              0,
              "#0d0887"
             ],
             [
              0.1111111111111111,
              "#46039f"
             ],
             [
              0.2222222222222222,
              "#7201a8"
             ],
             [
              0.3333333333333333,
              "#9c179e"
             ],
             [
              0.4444444444444444,
              "#bd3786"
             ],
             [
              0.5555555555555556,
              "#d8576b"
             ],
             [
              0.6666666666666666,
              "#ed7953"
             ],
             [
              0.7777777777777778,
              "#fb9f3a"
             ],
             [
              0.8888888888888888,
              "#fdca26"
             ],
             [
              1,
              "#f0f921"
             ]
            ],
            "type": "histogram2d"
           }
          ],
          "histogram2dcontour": [
           {
            "colorbar": {
             "outlinewidth": 0,
             "ticks": ""
            },
            "colorscale": [
             [
              0,
              "#0d0887"
             ],
             [
              0.1111111111111111,
              "#46039f"
             ],
             [
              0.2222222222222222,
              "#7201a8"
             ],
             [
              0.3333333333333333,
              "#9c179e"
             ],
             [
              0.4444444444444444,
              "#bd3786"
             ],
             [
              0.5555555555555556,
              "#d8576b"
             ],
             [
              0.6666666666666666,
              "#ed7953"
             ],
             [
              0.7777777777777778,
              "#fb9f3a"
             ],
             [
              0.8888888888888888,
              "#fdca26"
             ],
             [
              1,
              "#f0f921"
             ]
            ],
            "type": "histogram2dcontour"
           }
          ],
          "mesh3d": [
           {
            "colorbar": {
             "outlinewidth": 0,
             "ticks": ""
            },
            "type": "mesh3d"
           }
          ],
          "parcoords": [
           {
            "line": {
             "colorbar": {
              "outlinewidth": 0,
              "ticks": ""
             }
            },
            "type": "parcoords"
           }
          ],
          "pie": [
           {
            "automargin": true,
            "type": "pie"
           }
          ],
          "scatter": [
           {
            "fillpattern": {
             "fillmode": "overlay",
             "size": 10,
             "solidity": 0.2
            },
            "type": "scatter"
           }
          ],
          "scatter3d": [
           {
            "line": {
             "colorbar": {
              "outlinewidth": 0,
              "ticks": ""
             }
            },
            "marker": {
             "colorbar": {
              "outlinewidth": 0,
              "ticks": ""
             }
            },
            "type": "scatter3d"
           }
          ],
          "scattercarpet": [
           {
            "marker": {
             "colorbar": {
              "outlinewidth": 0,
              "ticks": ""
             }
            },
            "type": "scattercarpet"
           }
          ],
          "scattergeo": [
           {
            "marker": {
             "colorbar": {
              "outlinewidth": 0,
              "ticks": ""
             }
            },
            "type": "scattergeo"
           }
          ],
          "scattergl": [
           {
            "marker": {
             "colorbar": {
              "outlinewidth": 0,
              "ticks": ""
             }
            },
            "type": "scattergl"
           }
          ],
          "scattermapbox": [
           {
            "marker": {
             "colorbar": {
              "outlinewidth": 0,
              "ticks": ""
             }
            },
            "type": "scattermapbox"
           }
          ],
          "scatterpolar": [
           {
            "marker": {
             "colorbar": {
              "outlinewidth": 0,
              "ticks": ""
             }
            },
            "type": "scatterpolar"
           }
          ],
          "scatterpolargl": [
           {
            "marker": {
             "colorbar": {
              "outlinewidth": 0,
              "ticks": ""
             }
            },
            "type": "scatterpolargl"
           }
          ],
          "scatterternary": [
           {
            "marker": {
             "colorbar": {
              "outlinewidth": 0,
              "ticks": ""
             }
            },
            "type": "scatterternary"
           }
          ],
          "surface": [
           {
            "colorbar": {
             "outlinewidth": 0,
             "ticks": ""
            },
            "colorscale": [
             [
              0,
              "#0d0887"
             ],
             [
              0.1111111111111111,
              "#46039f"
             ],
             [
              0.2222222222222222,
              "#7201a8"
             ],
             [
              0.3333333333333333,
              "#9c179e"
             ],
             [
              0.4444444444444444,
              "#bd3786"
             ],
             [
              0.5555555555555556,
              "#d8576b"
             ],
             [
              0.6666666666666666,
              "#ed7953"
             ],
             [
              0.7777777777777778,
              "#fb9f3a"
             ],
             [
              0.8888888888888888,
              "#fdca26"
             ],
             [
              1,
              "#f0f921"
             ]
            ],
            "type": "surface"
           }
          ],
          "table": [
           {
            "cells": {
             "fill": {
              "color": "#EBF0F8"
             },
             "line": {
              "color": "white"
             }
            },
            "header": {
             "fill": {
              "color": "#C8D4E3"
             },
             "line": {
              "color": "white"
             }
            },
            "type": "table"
           }
          ]
         },
         "layout": {
          "annotationdefaults": {
           "arrowcolor": "#2a3f5f",
           "arrowhead": 0,
           "arrowwidth": 1
          },
          "autotypenumbers": "strict",
          "coloraxis": {
           "colorbar": {
            "outlinewidth": 0,
            "ticks": ""
           }
          },
          "colorscale": {
           "diverging": [
            [
             0,
             "#8e0152"
            ],
            [
             0.1,
             "#c51b7d"
            ],
            [
             0.2,
             "#de77ae"
            ],
            [
             0.3,
             "#f1b6da"
            ],
            [
             0.4,
             "#fde0ef"
            ],
            [
             0.5,
             "#f7f7f7"
            ],
            [
             0.6,
             "#e6f5d0"
            ],
            [
             0.7,
             "#b8e186"
            ],
            [
             0.8,
             "#7fbc41"
            ],
            [
             0.9,
             "#4d9221"
            ],
            [
             1,
             "#276419"
            ]
           ],
           "sequential": [
            [
             0,
             "#0d0887"
            ],
            [
             0.1111111111111111,
             "#46039f"
            ],
            [
             0.2222222222222222,
             "#7201a8"
            ],
            [
             0.3333333333333333,
             "#9c179e"
            ],
            [
             0.4444444444444444,
             "#bd3786"
            ],
            [
             0.5555555555555556,
             "#d8576b"
            ],
            [
             0.6666666666666666,
             "#ed7953"
            ],
            [
             0.7777777777777778,
             "#fb9f3a"
            ],
            [
             0.8888888888888888,
             "#fdca26"
            ],
            [
             1,
             "#f0f921"
            ]
           ],
           "sequentialminus": [
            [
             0,
             "#0d0887"
            ],
            [
             0.1111111111111111,
             "#46039f"
            ],
            [
             0.2222222222222222,
             "#7201a8"
            ],
            [
             0.3333333333333333,
             "#9c179e"
            ],
            [
             0.4444444444444444,
             "#bd3786"
            ],
            [
             0.5555555555555556,
             "#d8576b"
            ],
            [
             0.6666666666666666,
             "#ed7953"
            ],
            [
             0.7777777777777778,
             "#fb9f3a"
            ],
            [
             0.8888888888888888,
             "#fdca26"
            ],
            [
             1,
             "#f0f921"
            ]
           ]
          },
          "colorway": [
           "#636efa",
           "#EF553B",
           "#00cc96",
           "#ab63fa",
           "#FFA15A",
           "#19d3f3",
           "#FF6692",
           "#B6E880",
           "#FF97FF",
           "#FECB52"
          ],
          "font": {
           "color": "#2a3f5f"
          },
          "geo": {
           "bgcolor": "white",
           "lakecolor": "white",
           "landcolor": "#E5ECF6",
           "showlakes": true,
           "showland": true,
           "subunitcolor": "white"
          },
          "hoverlabel": {
           "align": "left"
          },
          "hovermode": "closest",
          "mapbox": {
           "style": "light"
          },
          "paper_bgcolor": "white",
          "plot_bgcolor": "#E5ECF6",
          "polar": {
           "angularaxis": {
            "gridcolor": "white",
            "linecolor": "white",
            "ticks": ""
           },
           "bgcolor": "#E5ECF6",
           "radialaxis": {
            "gridcolor": "white",
            "linecolor": "white",
            "ticks": ""
           }
          },
          "scene": {
           "xaxis": {
            "backgroundcolor": "#E5ECF6",
            "gridcolor": "white",
            "gridwidth": 2,
            "linecolor": "white",
            "showbackground": true,
            "ticks": "",
            "zerolinecolor": "white"
           },
           "yaxis": {
            "backgroundcolor": "#E5ECF6",
            "gridcolor": "white",
            "gridwidth": 2,
            "linecolor": "white",
            "showbackground": true,
            "ticks": "",
            "zerolinecolor": "white"
           },
           "zaxis": {
            "backgroundcolor": "#E5ECF6",
            "gridcolor": "white",
            "gridwidth": 2,
            "linecolor": "white",
            "showbackground": true,
            "ticks": "",
            "zerolinecolor": "white"
           }
          },
          "shapedefaults": {
           "line": {
            "color": "#2a3f5f"
           }
          },
          "ternary": {
           "aaxis": {
            "gridcolor": "white",
            "linecolor": "white",
            "ticks": ""
           },
           "baxis": {
            "gridcolor": "white",
            "linecolor": "white",
            "ticks": ""
           },
           "bgcolor": "#E5ECF6",
           "caxis": {
            "gridcolor": "white",
            "linecolor": "white",
            "ticks": ""
           }
          },
          "title": {
           "x": 0.05
          },
          "xaxis": {
           "automargin": true,
           "gridcolor": "white",
           "linecolor": "white",
           "ticks": "",
           "title": {
            "standoff": 15
           },
           "zerolinecolor": "white",
           "zerolinewidth": 2
          },
          "yaxis": {
           "automargin": true,
           "gridcolor": "white",
           "linecolor": "white",
           "ticks": "",
           "title": {
            "standoff": 15
           },
           "zerolinecolor": "white",
           "zerolinewidth": 2
          }
         }
        }
       }
      }
     },
     "metadata": {},
     "output_type": "display_data"
    }
   ],
   "source": [
    "#Trazamos la gráfica de radar\n",
    "\n",
    "fig = px.line_polar(df, r=mean_scores.values, theta=mean_scores.index, range_r=(90, 100), line_close=True)\n",
    "fig.update_traces(fill='toself')\n",
    "\n",
    "#Añadimos los valores\n",
    "\n",
    "fig.add_trace(go.Scatterpolar(\n",
    "    r=mean_scores.values,\n",
    "    theta=mean_scores.index,\n",
    "    mode='markers+text',\n",
    "    marker=dict(color='blue', size=5, symbol='circle'),\n",
    "    text=mean_scores.values.round(2),\n",
    "    textposition='top center',\n",
    "    name='Valores',\n",
    "    showlegend=False\n",
    "))\n",
    "\n",
    "#Marcamos el valor máximo\n",
    "\n",
    "fig.add_trace(go.Scatterpolar(\n",
    "    r=[max_value],\n",
    "    theta=[max_metric],\n",
    "    mode='markers',\n",
    "    marker=dict(color='red', size=10, symbol='circle'),\n",
    "    name='Valor máximo',\n",
    "    showlegend=False\n",
    "))"
   ]
  },
  {
   "cell_type": "markdown",
   "id": "cc155520",
   "metadata": {},
   "source": [
    "### Respuestas de negocio"
   ]
  },
  {
   "cell_type": "markdown",
   "id": "4990f5cf",
   "metadata": {},
   "source": [
    "#### Sprint 01"
   ]
  },
  {
   "cell_type": "markdown",
   "id": "287f0925",
   "metadata": {},
   "source": [
    "Puntuación media de los usuarios"
   ]
  },
  {
   "cell_type": "code",
   "execution_count": 91,
   "id": "e2078dfa",
   "metadata": {},
   "outputs": [
    {
     "name": "stdout",
     "output_type": "stream",
     "text": [
      "Puntuación media otorgada por los usuarios: 91.40\n"
     ]
    }
   ],
   "source": [
    "media_valor = df['review_scores_value'].mean()\n",
    "print(f\"Puntuación media otorgada por los usuarios: {media_valor:.2f}\")"
   ]
  },
  {
   "cell_type": "markdown",
   "id": "e5427c04",
   "metadata": {},
   "source": [
    " Porcentaje de alojamientos por ciudad que superan una puntuación de 80"
   ]
  },
  {
   "cell_type": "code",
   "execution_count": 92,
   "id": "2596361b",
   "metadata": {},
   "outputs": [
    {
     "name": "stdout",
     "output_type": "stream",
     "text": [
      "           supera_80\n",
      "city                \n",
      "sevilla        83.62\n",
      "valencia       80.83\n",
      "malaga         77.16\n",
      "madrid         72.52\n",
      "barcelona      64.97\n",
      "menorca        58.68\n",
      "mallorca       56.52\n",
      "girona         51.67\n"
     ]
    }
   ],
   "source": [
    "\n",
    "# Crear una columna booleana para marcar los que superan 80\n",
    "df['supera_80'] = df['review_scores_value'] > 80\n",
    "\n",
    "# Agrupar por ciudad y calcular el porcentaje\n",
    "porcentaje_por_ciudad = (\n",
    "    df.groupby('city')['supera_80']\n",
    "    .mean().sort_values(ascending=False) * 100\n",
    ").round(2)\n",
    "\n",
    "print(pd.DataFrame(porcentaje_por_ciudad))\n"
   ]
  },
  {
   "cell_type": "code",
   "execution_count": 93,
   "id": "989cfbc8",
   "metadata": {},
   "outputs": [
    {
     "name": "stdout",
     "output_type": "stream",
     "text": [
      "<class 'pandas.core.series.Series'>\n",
      "Index: 8 entries, sevilla to girona\n",
      "Series name: supera_80\n",
      "Non-Null Count  Dtype  \n",
      "--------------  -----  \n",
      "8 non-null      float64\n",
      "dtypes: float64(1)\n",
      "memory usage: 128.0+ bytes\n"
     ]
    }
   ],
   "source": [
    "porcentaje_por_ciudad.info()"
   ]
  },
  {
   "cell_type": "code",
   "execution_count": 94,
   "id": "b5b72de9",
   "metadata": {},
   "outputs": [
    {
     "name": "stdout",
     "output_type": "stream",
     "text": [
      "<class 'pandas.core.frame.DataFrame'>\n",
      "Index: 8 entries, sevilla to girona\n",
      "Data columns (total 1 columns):\n",
      " #   Column     Non-Null Count  Dtype  \n",
      "---  ------     --------------  -----  \n",
      " 0   supera_80  8 non-null      float64\n",
      "dtypes: float64(1)\n",
      "memory usage: 128.0+ bytes\n"
     ]
    }
   ],
   "source": [
    "porcentaje_por_ciudad = pd.DataFrame(porcentaje_por_ciudad)\n",
    "porcentaje_por_ciudad.info()\n",
    "                                     "
   ]
  },
  {
   "cell_type": "code",
   "execution_count": 95,
   "id": "6a560dfa",
   "metadata": {},
   "outputs": [
    {
     "name": "stderr",
     "output_type": "stream",
     "text": [
      "/var/folders/zd/c44thsy53rq3c4k8x7lqbfdh0000gn/T/ipykernel_1110/1923502712.py:3: FutureWarning:\n",
      "\n",
      "\n",
      "\n",
      "Passing `palette` without assigning `hue` is deprecated and will be removed in v0.14.0. Assign the `y` variable to `hue` and set `legend=False` for the same effect.\n",
      "\n",
      "\n"
     ]
    },
    {
     "data": {
      "image/png": "[encoded data removed]",
      "text/plain": [
       "<Figure size 1000x600 with 1 Axes>"
      ]
     },
     "metadata": {},
     "output_type": "display_data"
    }
   ],
   "source": [
    "# Graficar\n",
    "plt.figure(figsize=(10, 6))\n",
    "sns.barplot(data=porcentaje_por_ciudad, x='supera_80', y='city', palette='viridis')\n",
    "\n",
    "# Anotar porcentajes\n",
    "for index, row in porcentaje_por_ciudad.iterrows():\n",
    "    plt.text(row['supera_80'] + 0.5, index, f\"{row['supera_80']}%\", va='center')\n",
    "\n",
    "# Ajustes visuales\n",
    "plt.title('Porcentaje de alojamientos con puntuación > 80 por ciudad')\n",
    "plt.xlabel('Porcentaje (%)')\n",
    "plt.ylabel('Ciudad')\n",
    "plt.xlim(0, 100)\n",
    "plt.grid(axis='x', linestyle='--', alpha=0.6)\n",
    "plt.tight_layout()\n",
    "plt.show()"
   ]
  },
  {
   "cell_type": "markdown",
   "id": "bdcb34ff",
   "metadata": {},
   "source": [
    "#### Sprint 02"
   ]
  },
  {
   "cell_type": "markdown",
   "id": "c274bd55",
   "metadata": {},
   "source": [
    "¿Qué aspectos (precisión, higiene, registro o comunicaciones) presentan mayores diferencias entre los alojamientos mejor y peor valorados en la evaluación general? "
   ]
  },
  {
   "cell_type": "code",
   "execution_count": 96,
   "id": "31c9d8bd",
   "metadata": {},
   "outputs": [
    {
     "name": "stdout",
     "output_type": "stream",
     "text": [
      "['review_scores_accuracy', 'review_scores_cleanliness', 'review_scores_checkin', 'review_scores_communication']\n"
     ]
    }
   ],
   "source": [
    "cols.remove('review_scores_location')\n",
    "print(cols)"
   ]
  },
  {
   "cell_type": "code",
   "execution_count": 97,
   "id": "7671dc88",
   "metadata": {},
   "outputs": [
    {
     "name": "stdout",
     "output_type": "stream",
     "text": [
      "El aspecto con la valoración más dispar es: Limpieza con una diferencia de 80.00 puntos\n"
     ]
    },
    {
     "data": {
      "image/png": "[encoded data removed]",
      "text/plain": [
       "<Figure size 800x500 with 1 Axes>"
      ]
     },
     "metadata": {},
     "output_type": "display_data"
    }
   ],
   "source": [
    "# Eliminar filas con valores nulos en estas columnas y en la puntuación global\n",
    "\n",
    "df_clean = df.dropna(subset=cols + ['review_scores_value'])\n",
    "\n",
    "# Identificar el alojamiento mejor y peor valorado\n",
    "mejor = df.loc[df['review_scores_value'].idxmax()]\n",
    "peor = df.loc[df['review_scores_value'].idxmin()]\n",
    "\n",
    "# Calcular diferencias\n",
    "diferencias = (mejor[cols] - peor[cols]).sort_values().rename(traducciones)\n",
    "\n",
    "max_item = diferencias.idxmax()\n",
    "max_diferencia = diferencias.max()\n",
    "\n",
    "print(f\"El aspecto con la valoración más dispar es: {max_item} con una diferencia de {max_diferencia:.2f} puntos\")\n",
    "\n",
    "# Gráfico\n",
    "plt.figure(figsize=(8, 5))\n",
    "bars = plt.bar(diferencias.index, diferencias.values, color='steelblue')\n",
    "plt.title('Diferencia en puntuaciones entre el mejor y el peor alojamiento', fontsize=12)\n",
    "plt.ylabel('Diferencia de puntuación')\n",
    "plt.ylim(0, max(diferencias.values) + 5)\n",
    "\n",
    "# Etiquetas encima de las barras\n",
    "for bar in bars:\n",
    "    yval = bar.get_height()\n",
    "    plt.text(bar.get_x() + bar.get_width()/2, yval + 0.3, f'{yval:.1f}', ha='center', va='bottom', fontsize=9)\n",
    "\n",
    "plt.tight_layout()\n"
   ]
  },
  {
   "cell_type": "code",
   "execution_count": 98,
   "id": "6a100de9",
   "metadata": {},
   "outputs": [
    {
     "data": {
      "text/plain": [
       "apartment_id                                                            17249166\n",
       "name                                                            Arquitecte gaudi\n",
       "description                    Nuevo apartamento c�ntrico con buenos acabados...\n",
       "host_id                                                                109461701\n",
       "neighbourhood_name                                                         Roses\n",
       "neighbourhood_district                                                       NaN\n",
       "room_type                                                        Entire home/apt\n",
       "accommodates                                                                   5\n",
       "bathrooms                                                                    1.0\n",
       "bedrooms                                                                     2.0\n",
       "beds                                                                         4.0\n",
       "amenities_list                 Host greets you, Extra pillows and blankets, W...\n",
       "price                                                                      450.0\n",
       "minimum_nights                                                                 3\n",
       "maximum_nights                                                                30\n",
       "has_availability                                                       VERDADERO\n",
       "availability_30                                                                0\n",
       "availability_60                                                                0\n",
       "availability_90                                                                0\n",
       "availability_365                                                              62\n",
       "number_of_reviews                                                              4\n",
       "first_review_date                                                     2017-08-08\n",
       "last_review_date                                                      2018-05-21\n",
       "review_scores_rating                                                       900.0\n",
       "review_scores_accuracy                                                     100.0\n",
       "review_scores_cleanliness                                                  100.0\n",
       "review_scores_checkin                                                      100.0\n",
       "review_scores_communication                                                100.0\n",
       "review_scores_location                                                     100.0\n",
       "review_scores_value                                                        100.0\n",
       "is_instant_bookable                                                        FALSO\n",
       "reviews_per_month                                                            9.0\n",
       "country                                                                    spain\n",
       "city                                                                      girona\n",
       "insert_date                                                           2021-02-27\n",
       "normalized_amenities           iron, host greets you, long term stays allowed...\n",
       "days_occupied                                                                 30\n",
       "occupancy_rate                                                             100.0\n",
       "supera_80                                                                   True\n",
       "Name: 0, dtype: object"
      ]
     },
     "execution_count": 98,
     "metadata": {},
     "output_type": "execute_result"
    }
   ],
   "source": [
    "mejor"
   ]
  },
  {
   "cell_type": "code",
   "execution_count": 99,
   "id": "cf0bb4e4",
   "metadata": {},
   "outputs": [
    {
     "data": {
      "image/png": "[encoded data removed]",
      "text/plain": [
       "<Figure size 600x600 with 1 Axes>"
      ]
     },
     "metadata": {},
     "output_type": "display_data"
    }
   ],
   "source": [
    "# Gráfica de radar matplotlib\n",
    "\n",
    "# Preparar datos para el radar\n",
    "labels = diferencias.index.tolist()\n",
    "values = diferencias.values.tolist()\n",
    "num_vars = len(labels)\n",
    "\n",
    "# Ángulos para cada eje\n",
    "angles = np.linspace(0, 2 * np.pi, num_vars, endpoint=False).tolist()\n",
    "values += values[:1]\n",
    "angles += angles[:1]\n",
    "\n",
    "# Crear gráfico\n",
    "fig, ax = plt.subplots(figsize=(6, 6), subplot_kw=dict(polar=True))\n",
    "\n",
    "ax.plot(angles, values, color='royalblue', linewidth=2)\n",
    "ax.fill(angles, values, color='royalblue', alpha=0.25)\n",
    "ax.set_xticks(angles[:-1])\n",
    "ax.set_xticklabels(labels)\n",
    "ax.set_yticks(np.arange(0, max(values)+1, 1))\n",
    "ax.set_title(\"Diferencia de puntuaciones entre el mejor y el peor alojamiento\", y=1.1, fontsize=12)\n",
    "\n",
    "plt.tight_layout()"
   ]
  },
  {
   "cell_type": "code",
   "execution_count": 100,
   "id": "ff217d98",
   "metadata": {},
   "outputs": [
    {
     "data": {
      "application/vnd.plotly.v1+json": {
       "config": {
        "plotlyServerURL": "https://plot.ly"
       },
       "data": [
        {
         "fill": "toself",
         "hovertemplate": "r=%{r}<br>theta=%{theta}<extra></extra>",
         "legendgroup": "",
         "line": {
          "color": "#636efa",
          "dash": "solid"
         },
         "marker": {
          "symbol": "circle"
         },
         "mode": "lines",
         "name": "",
         "r": [
          40,
          40,
          40,
          80,
          40
         ],
         "showlegend": false,
         "subplot": "polar",
         "theta": [
          "Precisión",
          "Registro",
          "Comunicaciones",
          "Limpieza",
          "Precisión"
         ],
         "type": "scatterpolar"
        },
        {
         "marker": {
          "color": "blue",
          "size": 5,
          "symbol": "circle"
         },
         "mode": "markers+text",
         "name": "Valores",
         "r": [
          40,
          40,
          40,
          80
         ],
         "showlegend": false,
         "text": [
          40,
          40,
          40,
          80
         ],
         "textposition": "top center",
         "theta": [
          "Precisión",
          "Registro",
          "Comunicaciones",
          "Limpieza"
         ],
         "type": "scatterpolar"
        },
        {
         "marker": {
          "color": "red",
          "size": 10,
          "symbol": "circle"
         },
         "mode": "markers",
         "name": "Valor máximo",
         "r": [
          80
         ],
         "showlegend": false,
         "theta": [
          "Limpieza"
         ],
         "type": "scatterpolar"
        }
       ],
       "layout": {
        "legend": {
         "tracegroupgap": 0
        },
        "margin": {
         "t": 60
        },
        "polar": {
         "angularaxis": {
          "direction": "clockwise",
          "rotation": 90
         },
         "domain": {
          "x": [
           0,
           1
          ],
          "y": [
           0,
           1
          ]
         },
         "radialaxis": {
          "range": [
           0,
           100
          ]
         }
        },
        "template": {
         "data": {
          "bar": [
           {
            "error_x": {
             "color": "#2a3f5f"
            },
            "error_y": {
             "color": "#2a3f5f"
            },
            "marker": {
             "line": {
              "color": "#E5ECF6",
              "width": 0.5
             },
             "pattern": {
              "fillmode": "overlay",
              "size": 10,
              "solidity": 0.2
             }
            },
            "type": "bar"
           }
          ],
          "barpolar": [
           {
            "marker": {
             "line": {
              "color": "#E5ECF6",
              "width": 0.5
             },
             "pattern": {
              "fillmode": "overlay",
              "size": 10,
              "solidity": 0.2
             }
            },
            "type": "barpolar"
           }
          ],
          "carpet": [
           {
            "aaxis": {
             "endlinecolor": "#2a3f5f",
             "gridcolor": "white",
             "linecolor": "white",
             "minorgridcolor": "white",
             "startlinecolor": "#2a3f5f"
            },
            "baxis": {
             "endlinecolor": "#2a3f5f",
             "gridcolor": "white",
             "linecolor": "white",
             "minorgridcolor": "white",
             "startlinecolor": "#2a3f5f"
            },
            "type": "carpet"
           }
          ],
          "choropleth": [
           {
            "colorbar": {
             "outlinewidth": 0,
             "ticks": ""
            },
            "type": "choropleth"
           }
          ],
          "contour": [
           {
            "colorbar": {
             "outlinewidth": 0,
             "ticks": ""
            },
            "colorscale": [
             [
              0,
              "#0d0887"
             ],
             [
              0.1111111111111111,
              "#46039f"
             ],
             [
              0.2222222222222222,
              "#7201a8"
             ],
             [
              0.3333333333333333,
              "#9c179e"
             ],
             [
              0.4444444444444444,
              "#bd3786"
             ],
             [
              0.5555555555555556,
              "#d8576b"
             ],
             [
              0.6666666666666666,
              "#ed7953"
             ],
             [
              0.7777777777777778,
              "#fb9f3a"
             ],
             [
              0.8888888888888888,
              "#fdca26"
             ],
             [
              1,
              "#f0f921"
             ]
            ],
            "type": "contour"
           }
          ],
          "contourcarpet": [
           {
            "colorbar": {
             "outlinewidth": 0,
             "ticks": ""
            },
            "type": "contourcarpet"
           }
          ],
          "heatmap": [
           {
            "colorbar": {
             "outlinewidth": 0,
             "ticks": ""
            },
            "colorscale": [
             [
              0,
              "#0d0887"
             ],
             [
              0.1111111111111111,
              "#46039f"
             ],
             [
              0.2222222222222222,
              "#7201a8"
             ],
             [
              0.3333333333333333,
              "#9c179e"
             ],
             [
              0.4444444444444444,
              "#bd3786"
             ],
             [
              0.5555555555555556,
              "#d8576b"
             ],
             [
              0.6666666666666666,
              "#ed7953"
             ],
             [
              0.7777777777777778,
              "#fb9f3a"
             ],
             [
              0.8888888888888888,
              "#fdca26"
             ],
             [
              1,
              "#f0f921"
             ]
            ],
            "type": "heatmap"
           }
          ],
          "heatmapgl": [
           {
            "colorbar": {
             "outlinewidth": 0,
             "ticks": ""
            },
            "colorscale": [
             [
              0,
              "#0d0887"
             ],
             [
              0.1111111111111111,
              "#46039f"
             ],
             [
              0.2222222222222222,
              "#7201a8"
             ],
             [
              0.3333333333333333,
              "#9c179e"
             ],
             [
              0.4444444444444444,
              "#bd3786"
             ],
             [
              0.5555555555555556,
              "#d8576b"
             ],
             [
              0.6666666666666666,
              "#ed7953"
             ],
             [
              0.7777777777777778,
              "#fb9f3a"
             ],
             [
              0.8888888888888888,
              "#fdca26"
             ],
             [
              1,
              "#f0f921"
             ]
            ],
            "type": "heatmapgl"
           }
          ],
          "histogram": [
           {
            "marker": {
             "pattern": {
              "fillmode": "overlay",
              "size": 10,
              "solidity": 0.2
             }
            },
            "type": "histogram"
           }
          ],
          "histogram2d": [
           {
            "colorbar": {
             "outlinewidth": 0,
             "ticks": ""
            },
            "colorscale": [
             [
              0,
              "#0d0887"
             ],
             [
              0.1111111111111111,
              "#46039f"
             ],
             [
              0.2222222222222222,
              "#7201a8"
             ],
             [
              0.3333333333333333,
              "#9c179e"
             ],
             [
              0.4444444444444444,
              "#bd3786"
             ],
             [
              0.5555555555555556,
              "#d8576b"
             ],
             [
              0.6666666666666666,
              "#ed7953"
             ],
             [
              0.7777777777777778,
              "#fb9f3a"
             ],
             [
              0.8888888888888888,
              "#fdca26"
             ],
             [
              1,
              "#f0f921"
             ]
            ],
            "type": "histogram2d"
           }
          ],
          "histogram2dcontour": [
           {
            "colorbar": {
             "outlinewidth": 0,
             "ticks": ""
            },
            "colorscale": [
             [
              0,
              "#0d0887"
             ],
             [
              0.1111111111111111,
              "#46039f"
             ],
             [
              0.2222222222222222,
              "#7201a8"
             ],
             [
              0.3333333333333333,
              "#9c179e"
             ],
             [
              0.4444444444444444,
              "#bd3786"
             ],
             [
              0.5555555555555556,
              "#d8576b"
             ],
             [
              0.6666666666666666,
              "#ed7953"
             ],
             [
              0.7777777777777778,
              "#fb9f3a"
             ],
             [
              0.8888888888888888,
              "#fdca26"
             ],
             [
              1,
              "#f0f921"
             ]
            ],
            "type": "histogram2dcontour"
           }
          ],
          "mesh3d": [
           {
            "colorbar": {
             "outlinewidth": 0,
             "ticks": ""
            },
            "type": "mesh3d"
           }
          ],
          "parcoords": [
           {
            "line": {
             "colorbar": {
              "outlinewidth": 0,
              "ticks": ""
             }
            },
            "type": "parcoords"
           }
          ],
          "pie": [
           {
            "automargin": true,
            "type": "pie"
           }
          ],
          "scatter": [
           {
            "fillpattern": {
             "fillmode": "overlay",
             "size": 10,
             "solidity": 0.2
            },
            "type": "scatter"
           }
          ],
          "scatter3d": [
           {
            "line": {
             "colorbar": {
              "outlinewidth": 0,
              "ticks": ""
             }
            },
            "marker": {
             "colorbar": {
              "outlinewidth": 0,
              "ticks": ""
             }
            },
            "type": "scatter3d"
           }
          ],
          "scattercarpet": [
           {
            "marker": {
             "colorbar": {
              "outlinewidth": 0,
              "ticks": ""
             }
            },
            "type": "scattercarpet"
           }
          ],
          "scattergeo": [
           {
            "marker": {
             "colorbar": {
              "outlinewidth": 0,
              "ticks": ""
             }
            },
            "type": "scattergeo"
           }
          ],
          "scattergl": [
           {
            "marker": {
             "colorbar": {
              "outlinewidth": 0,
              "ticks": ""
             }
            },
            "type": "scattergl"
           }
          ],
          "scattermapbox": [
           {
            "marker": {
             "colorbar": {
              "outlinewidth": 0,
              "ticks": ""
             }
            },
            "type": "scattermapbox"
           }
          ],
          "scatterpolar": [
           {
            "marker": {
             "colorbar": {
              "outlinewidth": 0,
              "ticks": ""
             }
            },
            "type": "scatterpolar"
           }
          ],
          "scatterpolargl": [
           {
            "marker": {
             "colorbar": {
              "outlinewidth": 0,
              "ticks": ""
             }
            },
            "type": "scatterpolargl"
           }
          ],
          "scatterternary": [
           {
            "marker": {
             "colorbar": {
              "outlinewidth": 0,
              "ticks": ""
             }
            },
            "type": "scatterternary"
           }
          ],
          "surface": [
           {
            "colorbar": {
             "outlinewidth": 0,
             "ticks": ""
            },
            "colorscale": [
             [
              0,
              "#0d0887"
             ],
             [
              0.1111111111111111,
              "#46039f"
             ],
             [
              0.2222222222222222,
              "#7201a8"
             ],
             [
              0.3333333333333333,
              "#9c179e"
             ],
             [
              0.4444444444444444,
              "#bd3786"
             ],
             [
              0.5555555555555556,
              "#d8576b"
             ],
             [
              0.6666666666666666,
              "#ed7953"
             ],
             [
              0.7777777777777778,
              "#fb9f3a"
             ],
             [
              0.8888888888888888,
              "#fdca26"
             ],
             [
              1,
              "#f0f921"
             ]
            ],
            "type": "surface"
           }
          ],
          "table": [
           {
            "cells": {
             "fill": {
              "color": "#EBF0F8"
             },
             "line": {
              "color": "white"
             }
            },
            "header": {
             "fill": {
              "color": "#C8D4E3"
             },
             "line": {
              "color": "white"
             }
            },
            "type": "table"
           }
          ]
         },
         "layout": {
          "annotationdefaults": {
           "arrowcolor": "#2a3f5f",
           "arrowhead": 0,
           "arrowwidth": 1
          },
          "autotypenumbers": "strict",
          "coloraxis": {
           "colorbar": {
            "outlinewidth": 0,
            "ticks": ""
           }
          },
          "colorscale": {
           "diverging": [
            [
             0,
             "#8e0152"
            ],
            [
             0.1,
             "#c51b7d"
            ],
            [
             0.2,
             "#de77ae"
            ],
            [
             0.3,
             "#f1b6da"
            ],
            [
             0.4,
             "#fde0ef"
            ],
            [
             0.5,
             "#f7f7f7"
            ],
            [
             0.6,
             "#e6f5d0"
            ],
            [
             0.7,
             "#b8e186"
            ],
            [
             0.8,
             "#7fbc41"
            ],
            [
             0.9,
             "#4d9221"
            ],
            [
             1,
             "#276419"
            ]
           ],
           "sequential": [
            [
             0,
             "#0d0887"
            ],
            [
             0.1111111111111111,
             "#46039f"
            ],
            [
             0.2222222222222222,
             "#7201a8"
            ],
            [
             0.3333333333333333,
             "#9c179e"
            ],
            [
             0.4444444444444444,
             "#bd3786"
            ],
            [
             0.5555555555555556,
             "#d8576b"
            ],
            [
             0.6666666666666666,
             "#ed7953"
            ],
            [
             0.7777777777777778,
             "#fb9f3a"
            ],
            [
             0.8888888888888888,
             "#fdca26"
            ],
            [
             1,
             "#f0f921"
            ]
           ],
           "sequentialminus": [
            [
             0,
             "#0d0887"
            ],
            [
             0.1111111111111111,
             "#46039f"
            ],
            [
             0.2222222222222222,
             "#7201a8"
            ],
            [
             0.3333333333333333,
             "#9c179e"
            ],
            [
             0.4444444444444444,
             "#bd3786"
            ],
            [
             0.5555555555555556,
             "#d8576b"
            ],
            [
             0.6666666666666666,
             "#ed7953"
            ],
            [
             0.7777777777777778,
             "#fb9f3a"
            ],
            [
             0.8888888888888888,
             "#fdca26"
            ],
            [
             1,
             "#f0f921"
            ]
           ]
          },
          "colorway": [
           "#636efa",
           "#EF553B",
           "#00cc96",
           "#ab63fa",
           "#FFA15A",
           "#19d3f3",
           "#FF6692",
           "#B6E880",
           "#FF97FF",
           "#FECB52"
          ],
          "font": {
           "color": "#2a3f5f"
          },
          "geo": {
           "bgcolor": "white",
           "lakecolor": "white",
           "landcolor": "#E5ECF6",
           "showlakes": true,
           "showland": true,
           "subunitcolor": "white"
          },
          "hoverlabel": {
           "align": "left"
          },
          "hovermode": "closest",
          "mapbox": {
           "style": "light"
          },
          "paper_bgcolor": "white",
          "plot_bgcolor": "#E5ECF6",
          "polar": {
           "angularaxis": {
            "gridcolor": "white",
            "linecolor": "white",
            "ticks": ""
           },
           "bgcolor": "#E5ECF6",
           "radialaxis": {
            "gridcolor": "white",
            "linecolor": "white",
            "ticks": ""
           }
          },
          "scene": {
           "xaxis": {
            "backgroundcolor": "#E5ECF6",
            "gridcolor": "white",
            "gridwidth": 2,
            "linecolor": "white",
            "showbackground": true,
            "ticks": "",
            "zerolinecolor": "white"
           },
           "yaxis": {
            "backgroundcolor": "#E5ECF6",
            "gridcolor": "white",
            "gridwidth": 2,
            "linecolor": "white",
            "showbackground": true,
            "ticks": "",
            "zerolinecolor": "white"
           },
           "zaxis": {
            "backgroundcolor": "#E5ECF6",
            "gridcolor": "white",
            "gridwidth": 2,
            "linecolor": "white",
            "showbackground": true,
            "ticks": "",
            "zerolinecolor": "white"
           }
          },
          "shapedefaults": {
           "line": {
            "color": "#2a3f5f"
           }
          },
          "ternary": {
           "aaxis": {
            "gridcolor": "white",
            "linecolor": "white",
            "ticks": ""
           },
           "baxis": {
            "gridcolor": "white",
            "linecolor": "white",
            "ticks": ""
           },
           "bgcolor": "#E5ECF6",
           "caxis": {
            "gridcolor": "white",
            "linecolor": "white",
            "ticks": ""
           }
          },
          "title": {
           "x": 0.05
          },
          "xaxis": {
           "automargin": true,
           "gridcolor": "white",
           "linecolor": "white",
           "ticks": "",
           "title": {
            "standoff": 15
           },
           "zerolinecolor": "white",
           "zerolinewidth": 2
          },
          "yaxis": {
           "automargin": true,
           "gridcolor": "white",
           "linecolor": "white",
           "ticks": "",
           "title": {
            "standoff": 15
           },
           "zerolinecolor": "white",
           "zerolinewidth": 2
          }
         }
        }
       }
      }
     },
     "metadata": {},
     "output_type": "display_data"
    }
   ],
   "source": [
    "# Gráfica de radar plotly\n",
    "\n",
    "#Trazamos la gráfica de radar\n",
    "\n",
    "fig = px.line_polar(df, r=diferencias.values, theta=diferencias.index, range_r=(0, 100), line_close=True)\n",
    "fig.update_traces(fill='toself')\n",
    "\n",
    "#Añadimos los valores\n",
    "\n",
    "fig.add_trace(go.Scatterpolar(\n",
    "    r=diferencias.values,\n",
    "    theta=diferencias.index,\n",
    "    mode='markers+text',\n",
    "    marker=dict(color='blue', size=5, symbol='circle'),\n",
    "    text=diferencias.values,\n",
    "    textposition='top center',\n",
    "    name='Valores',\n",
    "    showlegend=False\n",
    "))\n",
    "\n",
    "#Marcamos el valor máximo\n",
    "\n",
    "fig.add_trace(go.Scatterpolar(\n",
    "    r=[max_diferencia],\n",
    "    theta=[max_item],\n",
    "    mode='markers',\n",
    "    marker=dict(color='red', size=10, symbol='circle'),\n",
    "    name='Valor máximo',\n",
    "    showlegend=False\n",
    "))"
   ]
  },
  {
   "cell_type": "markdown",
   "id": "25b76f98",
   "metadata": {},
   "source": [
    "Vamos a intentar segmentar por ciudad y tipo de alojamiento"
   ]
  },
  {
   "cell_type": "code",
   "execution_count": 101,
   "id": "487c3ff5",
   "metadata": {},
   "outputs": [
    {
     "name": "stdout",
     "output_type": "stream",
     "text": [
      "100.0\n"
     ]
    },
    {
     "data": {
      "text/html": [
       "<div>\n",
       "<style scoped>\n",
       "    .dataframe tbody tr th:only-of-type {\n",
       "        vertical-align: middle;\n",
       "    }\n",
       "\n",
       "    .dataframe tbody tr th {\n",
       "        vertical-align: top;\n",
       "    }\n",
       "\n",
       "    .dataframe thead th {\n",
       "        text-align: right;\n",
       "    }\n",
       "</style>\n",
       "<table border=\"1\" class=\"dataframe\">\n",
       "  <thead>\n",
       "    <tr style=\"text-align: right;\">\n",
       "      <th></th>\n",
       "      <th>apartment_id</th>\n",
       "      <th>name</th>\n",
       "      <th>description</th>\n",
       "      <th>host_id</th>\n",
       "      <th>neighbourhood_name</th>\n",
       "      <th>neighbourhood_district</th>\n",
       "      <th>room_type</th>\n",
       "      <th>accommodates</th>\n",
       "      <th>bathrooms</th>\n",
       "      <th>bedrooms</th>\n",
       "      <th>...</th>\n",
       "      <th>review_scores_value</th>\n",
       "      <th>is_instant_bookable</th>\n",
       "      <th>reviews_per_month</th>\n",
       "      <th>country</th>\n",
       "      <th>city</th>\n",
       "      <th>insert_date</th>\n",
       "      <th>normalized_amenities</th>\n",
       "      <th>days_occupied</th>\n",
       "      <th>occupancy_rate</th>\n",
       "      <th>supera_80</th>\n",
       "    </tr>\n",
       "  </thead>\n",
       "  <tbody>\n",
       "    <tr>\n",
       "      <th>0</th>\n",
       "      <td>17249166</td>\n",
       "      <td>Arquitecte gaudi</td>\n",
       "      <td>Nuevo apartamento c�ntrico con buenos acabados...</td>\n",
       "      <td>109461701</td>\n",
       "      <td>Roses</td>\n",
       "      <td>NaN</td>\n",
       "      <td>Entire home/apt</td>\n",
       "      <td>5</td>\n",
       "      <td>1.0</td>\n",
       "      <td>2.0</td>\n",
       "      <td>...</td>\n",
       "      <td>100.0</td>\n",
       "      <td>FALSO</td>\n",
       "      <td>9.0</td>\n",
       "      <td>spain</td>\n",
       "      <td>girona</td>\n",
       "      <td>2021-02-27</td>\n",
       "      <td>iron, host greets you, long term stays allowed...</td>\n",
       "      <td>30</td>\n",
       "      <td>100.000000</td>\n",
       "      <td>True</td>\n",
       "    </tr>\n",
       "    <tr>\n",
       "      <th>3</th>\n",
       "      <td>26207763</td>\n",
       "      <td>Casa Flor.....somewhere different</td>\n",
       "      <td>Built in the late 1950's, Casa Flor is a detac...</td>\n",
       "      <td>196976392</td>\n",
       "      <td>L'Escala</td>\n",
       "      <td>NaN</td>\n",
       "      <td>Entire home/apt</td>\n",
       "      <td>2</td>\n",
       "      <td>1.0</td>\n",
       "      <td>1.0</td>\n",
       "      <td>...</td>\n",
       "      <td>100.0</td>\n",
       "      <td>FALSO</td>\n",
       "      <td>12.0</td>\n",
       "      <td>spain</td>\n",
       "      <td>girona</td>\n",
       "      <td>2021-02-27</td>\n",
       "      <td>first aid kit, dining table, barbecue utensils...</td>\n",
       "      <td>30</td>\n",
       "      <td>100.000000</td>\n",
       "      <td>True</td>\n",
       "    </tr>\n",
       "    <tr>\n",
       "      <th>10</th>\n",
       "      <td>18544317</td>\n",
       "      <td>GOOD SPOT EMPURIABRAVA</td>\n",
       "      <td>GOOD SPOT EMPURIABRAVA is a modern fully-equip...</td>\n",
       "      <td>60510464</td>\n",
       "      <td>Castell� d'Emp�ries</td>\n",
       "      <td>NaN</td>\n",
       "      <td>Entire home/apt</td>\n",
       "      <td>4</td>\n",
       "      <td>1.0</td>\n",
       "      <td>1.0</td>\n",
       "      <td>...</td>\n",
       "      <td>100.0</td>\n",
       "      <td>FALSO</td>\n",
       "      <td>12.0</td>\n",
       "      <td>spain</td>\n",
       "      <td>girona</td>\n",
       "      <td>2021-02-27</td>\n",
       "      <td>first aid kit, crib, oven, bed linens, high ch...</td>\n",
       "      <td>30</td>\n",
       "      <td>100.000000</td>\n",
       "      <td>True</td>\n",
       "    </tr>\n",
       "    <tr>\n",
       "      <th>11</th>\n",
       "      <td>21577762</td>\n",
       "      <td>Rustic Chic Studio Downtown (C80)</td>\n",
       "      <td>Welcome to our brand new apartment in the cent...</td>\n",
       "      <td>5890675</td>\n",
       "      <td>Centro</td>\n",
       "      <td>NaN</td>\n",
       "      <td>Entire home/apt</td>\n",
       "      <td>2</td>\n",
       "      <td>1.0</td>\n",
       "      <td>1.0</td>\n",
       "      <td>...</td>\n",
       "      <td>100.0</td>\n",
       "      <td>VERDADERO</td>\n",
       "      <td>245.0</td>\n",
       "      <td>spain</td>\n",
       "      <td>malaga</td>\n",
       "      <td>2021-02-27</td>\n",
       "      <td>balcony, nespresso machine, microwave, hair dr...</td>\n",
       "      <td>30</td>\n",
       "      <td>100.000000</td>\n",
       "      <td>True</td>\n",
       "    </tr>\n",
       "    <tr>\n",
       "      <th>14</th>\n",
       "      <td>15248525</td>\n",
       "      <td>appt dans villa � Llansa ,beau jardin,terrasse</td>\n",
       "      <td>Mon logement est proche de la plage et des com...</td>\n",
       "      <td>84213236</td>\n",
       "      <td>Llan��</td>\n",
       "      <td>NaN</td>\n",
       "      <td>Entire home/apt</td>\n",
       "      <td>6</td>\n",
       "      <td>1.0</td>\n",
       "      <td>2.0</td>\n",
       "      <td>...</td>\n",
       "      <td>100.0</td>\n",
       "      <td>FALSO</td>\n",
       "      <td>66.0</td>\n",
       "      <td>spain</td>\n",
       "      <td>girona</td>\n",
       "      <td>2021-02-27</td>\n",
       "      <td>oven, balcony, microwave, essentials, pool, wa...</td>\n",
       "      <td>0</td>\n",
       "      <td>0.000000</td>\n",
       "      <td>True</td>\n",
       "    </tr>\n",
       "    <tr>\n",
       "      <th>...</th>\n",
       "      <td>...</td>\n",
       "      <td>...</td>\n",
       "      <td>...</td>\n",
       "      <td>...</td>\n",
       "      <td>...</td>\n",
       "      <td>...</td>\n",
       "      <td>...</td>\n",
       "      <td>...</td>\n",
       "      <td>...</td>\n",
       "      <td>...</td>\n",
       "      <td>...</td>\n",
       "      <td>...</td>\n",
       "      <td>...</td>\n",
       "      <td>...</td>\n",
       "      <td>...</td>\n",
       "      <td>...</td>\n",
       "      <td>...</td>\n",
       "      <td>...</td>\n",
       "      <td>...</td>\n",
       "      <td>...</td>\n",
       "      <td>...</td>\n",
       "    </tr>\n",
       "    <tr>\n",
       "      <th>7670</th>\n",
       "      <td>1198074</td>\n",
       "      <td>005596_APARTAMENTO DE 2 DORMITORIOS</td>\n",
       "      <td>!!!-ATTENTION-!!! HERE YOU HAVE THE CHANCE FOR...</td>\n",
       "      <td>6544866</td>\n",
       "      <td>la Dreta de l'Eixample</td>\n",
       "      <td>Eixample</td>\n",
       "      <td>Entire home/apt</td>\n",
       "      <td>4</td>\n",
       "      <td>2.0</td>\n",
       "      <td>2.0</td>\n",
       "      <td>...</td>\n",
       "      <td>100.0</td>\n",
       "      <td>VERDADERO</td>\n",
       "      <td>39.0</td>\n",
       "      <td>spain</td>\n",
       "      <td>barcelona</td>\n",
       "      <td>2017-01-04</td>\n",
       "      <td>iron, dryer, hair dryer, internet, tv, bathroo...</td>\n",
       "      <td>14</td>\n",
       "      <td>46.666667</td>\n",
       "      <td>True</td>\n",
       "    </tr>\n",
       "    <tr>\n",
       "      <th>7673</th>\n",
       "      <td>936781</td>\n",
       "      <td>Park G�ell Apartment.Ideal families</td>\n",
       "      <td>Inscripci� en el Registre de Turisme de Catalu...</td>\n",
       "      <td>5057234</td>\n",
       "      <td>la Salut</td>\n",
       "      <td>Gr�cia</td>\n",
       "      <td>Entire home/apt</td>\n",
       "      <td>4</td>\n",
       "      <td>1.0</td>\n",
       "      <td>2.0</td>\n",
       "      <td>...</td>\n",
       "      <td>100.0</td>\n",
       "      <td>FALSO</td>\n",
       "      <td>175.0</td>\n",
       "      <td>spain</td>\n",
       "      <td>barcelona</td>\n",
       "      <td>2017-01-04</td>\n",
       "      <td>essentials, internet, tv, air conditioning, wa...</td>\n",
       "      <td>5</td>\n",
       "      <td>16.666667</td>\n",
       "      <td>True</td>\n",
       "    </tr>\n",
       "    <tr>\n",
       "      <th>7681</th>\n",
       "      <td>13877909</td>\n",
       "      <td>Charming Sunny Room in the Centre</td>\n",
       "      <td>Charming room for two in the center of Barcelo...</td>\n",
       "      <td>82104517</td>\n",
       "      <td>la Nova Esquerra de l'Eixample</td>\n",
       "      <td>Eixample</td>\n",
       "      <td>Private room</td>\n",
       "      <td>2</td>\n",
       "      <td>1.0</td>\n",
       "      <td>1.0</td>\n",
       "      <td>...</td>\n",
       "      <td>100.0</td>\n",
       "      <td>FALSO</td>\n",
       "      <td>229.0</td>\n",
       "      <td>spain</td>\n",
       "      <td>barcelona</td>\n",
       "      <td>2017-01-04</td>\n",
       "      <td>iron, first aid kit, breakfast, hair dryer, tv...</td>\n",
       "      <td>2</td>\n",
       "      <td>6.666667</td>\n",
       "      <td>True</td>\n",
       "    </tr>\n",
       "    <tr>\n",
       "      <th>7685</th>\n",
       "      <td>1756975</td>\n",
       "      <td>CHIC &amp; CHEAP ;)</td>\n",
       "      <td>Hola! Welcome to Barcelona ;) Located in one o...</td>\n",
       "      <td>8965423</td>\n",
       "      <td>Vilapicina i la Torre Llobeta</td>\n",
       "      <td>Nou Barris</td>\n",
       "      <td>Entire home/apt</td>\n",
       "      <td>5</td>\n",
       "      <td>1.0</td>\n",
       "      <td>2.0</td>\n",
       "      <td>...</td>\n",
       "      <td>100.0</td>\n",
       "      <td>FALSO</td>\n",
       "      <td>97.0</td>\n",
       "      <td>spain</td>\n",
       "      <td>barcelona</td>\n",
       "      <td>2017-01-04</td>\n",
       "      <td>iron, hair dryer, internet, bathroom essential...</td>\n",
       "      <td>26</td>\n",
       "      <td>86.666667</td>\n",
       "      <td>True</td>\n",
       "    </tr>\n",
       "    <tr>\n",
       "      <th>7692</th>\n",
       "      <td>14999488</td>\n",
       "      <td>Habitaci�n doble en bonito apartamento</td>\n",
       "      <td>Piso grande y bonito de 90 m2. Tranquilo y por...</td>\n",
       "      <td>7093663</td>\n",
       "      <td>el Camp d'en Grassot i Gr�cia Nova</td>\n",
       "      <td>Gr�cia</td>\n",
       "      <td>Private room</td>\n",
       "      <td>2</td>\n",
       "      <td>1.0</td>\n",
       "      <td>1.0</td>\n",
       "      <td>...</td>\n",
       "      <td>100.0</td>\n",
       "      <td>VERDADERO</td>\n",
       "      <td>65.0</td>\n",
       "      <td>spain</td>\n",
       "      <td>barcelona</td>\n",
       "      <td>2017-01-04</td>\n",
       "      <td>iron, first aid kit, hair dryer, internet, bat...</td>\n",
       "      <td>26</td>\n",
       "      <td>86.666667</td>\n",
       "      <td>True</td>\n",
       "    </tr>\n",
       "  </tbody>\n",
       "</table>\n",
       "<p>2344 rows × 39 columns</p>\n",
       "</div>"
      ],
      "text/plain": [
       "      apartment_id                                            name  \\\n",
       "0         17249166                                Arquitecte gaudi   \n",
       "3         26207763               Casa Flor.....somewhere different   \n",
       "10        18544317                          GOOD SPOT EMPURIABRAVA   \n",
       "11        21577762               Rustic Chic Studio Downtown (C80)   \n",
       "14        15248525  appt dans villa � Llansa ,beau jardin,terrasse   \n",
       "...            ...                                             ...   \n",
       "7670       1198074             005596_APARTAMENTO DE 2 DORMITORIOS   \n",
       "7673        936781             Park G�ell Apartment.Ideal families   \n",
       "7681      13877909               Charming Sunny Room in the Centre   \n",
       "7685       1756975                                 CHIC & CHEAP ;)   \n",
       "7692      14999488          Habitaci�n doble en bonito apartamento   \n",
       "\n",
       "                                            description    host_id  \\\n",
       "0     Nuevo apartamento c�ntrico con buenos acabados...  109461701   \n",
       "3     Built in the late 1950's, Casa Flor is a detac...  196976392   \n",
       "10    GOOD SPOT EMPURIABRAVA is a modern fully-equip...   60510464   \n",
       "11    Welcome to our brand new apartment in the cent...    5890675   \n",
       "14    Mon logement est proche de la plage et des com...   84213236   \n",
       "...                                                 ...        ...   \n",
       "7670  !!!-ATTENTION-!!! HERE YOU HAVE THE CHANCE FOR...    6544866   \n",
       "7673  Inscripci� en el Registre de Turisme de Catalu...    5057234   \n",
       "7681  Charming room for two in the center of Barcelo...   82104517   \n",
       "7685  Hola! Welcome to Barcelona ;) Located in one o...    8965423   \n",
       "7692  Piso grande y bonito de 90 m2. Tranquilo y por...    7093663   \n",
       "\n",
       "                      neighbourhood_name neighbourhood_district  \\\n",
       "0                                  Roses                    NaN   \n",
       "3                               L'Escala                    NaN   \n",
       "10                   Castell� d'Emp�ries                    NaN   \n",
       "11                                Centro                    NaN   \n",
       "14                                Llan��                    NaN   \n",
       "...                                  ...                    ...   \n",
       "7670              la Dreta de l'Eixample               Eixample   \n",
       "7673                            la Salut                 Gr�cia   \n",
       "7681      la Nova Esquerra de l'Eixample               Eixample   \n",
       "7685       Vilapicina i la Torre Llobeta             Nou Barris   \n",
       "7692  el Camp d'en Grassot i Gr�cia Nova                 Gr�cia   \n",
       "\n",
       "            room_type  accommodates  bathrooms  bedrooms  ...  \\\n",
       "0     Entire home/apt             5        1.0       2.0  ...   \n",
       "3     Entire home/apt             2        1.0       1.0  ...   \n",
       "10    Entire home/apt             4        1.0       1.0  ...   \n",
       "11    Entire home/apt             2        1.0       1.0  ...   \n",
       "14    Entire home/apt             6        1.0       2.0  ...   \n",
       "...               ...           ...        ...       ...  ...   \n",
       "7670  Entire home/apt             4        2.0       2.0  ...   \n",
       "7673  Entire home/apt             4        1.0       2.0  ...   \n",
       "7681     Private room             2        1.0       1.0  ...   \n",
       "7685  Entire home/apt             5        1.0       2.0  ...   \n",
       "7692     Private room             2        1.0       1.0  ...   \n",
       "\n",
       "      review_scores_value is_instant_bookable  reviews_per_month  country  \\\n",
       "0                   100.0               FALSO                9.0    spain   \n",
       "3                   100.0               FALSO               12.0    spain   \n",
       "10                  100.0               FALSO               12.0    spain   \n",
       "11                  100.0           VERDADERO              245.0    spain   \n",
       "14                  100.0               FALSO               66.0    spain   \n",
       "...                   ...                 ...                ...      ...   \n",
       "7670                100.0           VERDADERO               39.0    spain   \n",
       "7673                100.0               FALSO              175.0    spain   \n",
       "7681                100.0               FALSO              229.0    spain   \n",
       "7685                100.0               FALSO               97.0    spain   \n",
       "7692                100.0           VERDADERO               65.0    spain   \n",
       "\n",
       "           city insert_date  \\\n",
       "0        girona  2021-02-27   \n",
       "3        girona  2021-02-27   \n",
       "10       girona  2021-02-27   \n",
       "11       malaga  2021-02-27   \n",
       "14       girona  2021-02-27   \n",
       "...         ...         ...   \n",
       "7670  barcelona  2017-01-04   \n",
       "7673  barcelona  2017-01-04   \n",
       "7681  barcelona  2017-01-04   \n",
       "7685  barcelona  2017-01-04   \n",
       "7692  barcelona  2017-01-04   \n",
       "\n",
       "                                   normalized_amenities  days_occupied  \\\n",
       "0     iron, host greets you, long term stays allowed...             30   \n",
       "3     first aid kit, dining table, barbecue utensils...             30   \n",
       "10    first aid kit, crib, oven, bed linens, high ch...             30   \n",
       "11    balcony, nespresso machine, microwave, hair dr...             30   \n",
       "14    oven, balcony, microwave, essentials, pool, wa...              0   \n",
       "...                                                 ...            ...   \n",
       "7670  iron, dryer, hair dryer, internet, tv, bathroo...             14   \n",
       "7673  essentials, internet, tv, air conditioning, wa...              5   \n",
       "7681  iron, first aid kit, breakfast, hair dryer, tv...              2   \n",
       "7685  iron, hair dryer, internet, bathroom essential...             26   \n",
       "7692  iron, first aid kit, hair dryer, internet, bat...             26   \n",
       "\n",
       "      occupancy_rate  supera_80  \n",
       "0         100.000000       True  \n",
       "3         100.000000       True  \n",
       "10        100.000000       True  \n",
       "11        100.000000       True  \n",
       "14          0.000000       True  \n",
       "...              ...        ...  \n",
       "7670       46.666667       True  \n",
       "7673       16.666667       True  \n",
       "7681        6.666667       True  \n",
       "7685       86.666667       True  \n",
       "7692       86.666667       True  \n",
       "\n",
       "[2344 rows x 39 columns]"
      ]
     },
     "execution_count": 101,
     "metadata": {},
     "output_type": "execute_result"
    }
   ],
   "source": [
    "valor_max = df['review_scores_value'].max()\n",
    "print(valor_max)\n",
    "filtro_max = df['review_scores_value']==valor_max\n",
    "df_max = df[filtro_max]\n",
    "df_max"
   ]
  },
  {
   "cell_type": "code",
   "execution_count": 102,
   "id": "facb2cb9",
   "metadata": {},
   "outputs": [
    {
     "name": "stdout",
     "output_type": "stream",
     "text": [
      "20.0\n"
     ]
    },
    {
     "data": {
      "text/html": [
       "<div>\n",
       "<style scoped>\n",
       "    .dataframe tbody tr th:only-of-type {\n",
       "        vertical-align: middle;\n",
       "    }\n",
       "\n",
       "    .dataframe tbody tr th {\n",
       "        vertical-align: top;\n",
       "    }\n",
       "\n",
       "    .dataframe thead th {\n",
       "        text-align: right;\n",
       "    }\n",
       "</style>\n",
       "<table border=\"1\" class=\"dataframe\">\n",
       "  <thead>\n",
       "    <tr style=\"text-align: right;\">\n",
       "      <th></th>\n",
       "      <th>apartment_id</th>\n",
       "      <th>name</th>\n",
       "      <th>description</th>\n",
       "      <th>host_id</th>\n",
       "      <th>neighbourhood_name</th>\n",
       "      <th>neighbourhood_district</th>\n",
       "      <th>room_type</th>\n",
       "      <th>accommodates</th>\n",
       "      <th>bathrooms</th>\n",
       "      <th>bedrooms</th>\n",
       "      <th>...</th>\n",
       "      <th>review_scores_value</th>\n",
       "      <th>is_instant_bookable</th>\n",
       "      <th>reviews_per_month</th>\n",
       "      <th>country</th>\n",
       "      <th>city</th>\n",
       "      <th>insert_date</th>\n",
       "      <th>normalized_amenities</th>\n",
       "      <th>days_occupied</th>\n",
       "      <th>occupancy_rate</th>\n",
       "      <th>supera_80</th>\n",
       "    </tr>\n",
       "  </thead>\n",
       "  <tbody>\n",
       "    <tr>\n",
       "      <th>129</th>\n",
       "      <td>20201831</td>\n",
       "      <td>Cosy and beautiful flat in the heart of Barcelona</td>\n",
       "      <td>Bienvenidos! Venid y sentiros como en casa en ...</td>\n",
       "      <td>12981701</td>\n",
       "      <td>la Dreta de l'Eixample</td>\n",
       "      <td>Eixample</td>\n",
       "      <td>Entire home/apt</td>\n",
       "      <td>2</td>\n",
       "      <td>1.0</td>\n",
       "      <td>1.0</td>\n",
       "      <td>...</td>\n",
       "      <td>20.0</td>\n",
       "      <td>FALSO</td>\n",
       "      <td>5.0</td>\n",
       "      <td>spain</td>\n",
       "      <td>barcelona</td>\n",
       "      <td>2021-02-09</td>\n",
       "      <td>iron, long term stays allowed, bathroom essent...</td>\n",
       "      <td>0</td>\n",
       "      <td>0.000000</td>\n",
       "      <td>False</td>\n",
       "    </tr>\n",
       "    <tr>\n",
       "      <th>279</th>\n",
       "      <td>31306749</td>\n",
       "      <td>CONOCE MADRID A UN PRECIO RAZONABLE</td>\n",
       "      <td>Hola, la habitaci�n tiene ventanales muy grand...</td>\n",
       "      <td>179816191</td>\n",
       "      <td>Palomeras Bajas</td>\n",
       "      <td>Puente de Vallecas</td>\n",
       "      <td>Private room</td>\n",
       "      <td>1</td>\n",
       "      <td>1.0</td>\n",
       "      <td>1.0</td>\n",
       "      <td>...</td>\n",
       "      <td>20.0</td>\n",
       "      <td>VERDADERO</td>\n",
       "      <td>7.0</td>\n",
       "      <td>spain</td>\n",
       "      <td>madrid</td>\n",
       "      <td>2021-01-12</td>\n",
       "      <td>iron, private entrance], essentials, tv, bathr...</td>\n",
       "      <td>30</td>\n",
       "      <td>100.000000</td>\n",
       "      <td>False</td>\n",
       "    </tr>\n",
       "    <tr>\n",
       "      <th>335</th>\n",
       "      <td>32229216</td>\n",
       "      <td>Apartamento en la playa ideal para familias</td>\n",
       "      <td>Apartamento de 38m2 con dos dormitorios, uno c...</td>\n",
       "      <td>241837723</td>\n",
       "      <td>Es Mercadal</td>\n",
       "      <td>NaN</td>\n",
       "      <td>Entire home/apt</td>\n",
       "      <td>4</td>\n",
       "      <td>1.0</td>\n",
       "      <td>2.0</td>\n",
       "      <td>...</td>\n",
       "      <td>20.0</td>\n",
       "      <td>FALSO</td>\n",
       "      <td>6.0</td>\n",
       "      <td>spain</td>\n",
       "      <td>menorca</td>\n",
       "      <td>2020-12-30</td>\n",
       "      <td>hair dryer, tv, bathroom essentials, fire safe...</td>\n",
       "      <td>30</td>\n",
       "      <td>100.000000</td>\n",
       "      <td>False</td>\n",
       "    </tr>\n",
       "    <tr>\n",
       "      <th>727</th>\n",
       "      <td>29530449</td>\n",
       "      <td>Sup Terraza RMST  � Murmuri Residence Mercader...</td>\n",
       "      <td>&lt;b&gt;The space&lt;/b&gt;&lt;br /&gt;Ven a estrenar este apar...</td>\n",
       "      <td>93598470</td>\n",
       "      <td>la Dreta de l'Eixample</td>\n",
       "      <td>Eixample</td>\n",
       "      <td>Entire home/apt</td>\n",
       "      <td>4</td>\n",
       "      <td>2.0</td>\n",
       "      <td>1.0</td>\n",
       "      <td>...</td>\n",
       "      <td>20.0</td>\n",
       "      <td>VERDADERO</td>\n",
       "      <td>5.0</td>\n",
       "      <td>spain</td>\n",
       "      <td>barcelona</td>\n",
       "      <td>2020-10-12</td>\n",
       "      <td>iron, hair dryer, tv, bathroom essentials, fir...</td>\n",
       "      <td>2</td>\n",
       "      <td>6.666667</td>\n",
       "      <td>False</td>\n",
       "    </tr>\n",
       "    <tr>\n",
       "      <th>1293</th>\n",
       "      <td>20438732</td>\n",
       "      <td>The flair of Ibiza on the coast � Casa Morr�s 45</td>\n",
       "      <td>The Casa Morr�s 45 is situated in the holiday ...</td>\n",
       "      <td>142978193</td>\n",
       "      <td>Felanitx</td>\n",
       "      <td>NaN</td>\n",
       "      <td>Entire home/apt</td>\n",
       "      <td>5</td>\n",
       "      <td>2.0</td>\n",
       "      <td>2.0</td>\n",
       "      <td>...</td>\n",
       "      <td>20.0</td>\n",
       "      <td>VERDADERO</td>\n",
       "      <td>4.0</td>\n",
       "      <td>spain</td>\n",
       "      <td>mallorca</td>\n",
       "      <td>2020-05-28</td>\n",
       "      <td>iron, nespresso machine, balcony, refrigerator...</td>\n",
       "      <td>0</td>\n",
       "      <td>0.000000</td>\n",
       "      <td>False</td>\n",
       "    </tr>\n",
       "    <tr>\n",
       "      <th>1313</th>\n",
       "      <td>27943335</td>\n",
       "      <td>Macarena - 118.1</td>\n",
       "      <td>Macarena, 3-room terraced house on 2 levels. A...</td>\n",
       "      <td>107255064</td>\n",
       "      <td>Tossa de Mar</td>\n",
       "      <td>NaN</td>\n",
       "      <td>Entire home/apt</td>\n",
       "      <td>5</td>\n",
       "      <td>1.0</td>\n",
       "      <td>2.0</td>\n",
       "      <td>...</td>\n",
       "      <td>20.0</td>\n",
       "      <td>VERDADERO</td>\n",
       "      <td>11.0</td>\n",
       "      <td>spain</td>\n",
       "      <td>girona</td>\n",
       "      <td>2020-05-28</td>\n",
       "      <td>balcony, private living room, microwave, tv, s...</td>\n",
       "      <td>30</td>\n",
       "      <td>100.000000</td>\n",
       "      <td>False</td>\n",
       "    </tr>\n",
       "    <tr>\n",
       "      <th>2211</th>\n",
       "      <td>27824712</td>\n",
       "      <td>Danna, Friendly Rentals</td>\n",
       "      <td>This apartment has: 1 double bed, 4 single bed...</td>\n",
       "      <td>102947901</td>\n",
       "      <td>SANT FRANCESC</td>\n",
       "      <td>CIUTAT VELLA</td>\n",
       "      <td>Entire home/apt</td>\n",
       "      <td>6</td>\n",
       "      <td>2.0</td>\n",
       "      <td>3.0</td>\n",
       "      <td>...</td>\n",
       "      <td>20.0</td>\n",
       "      <td>VERDADERO</td>\n",
       "      <td>16.0</td>\n",
       "      <td>spain</td>\n",
       "      <td>valencia</td>\n",
       "      <td>2019-12-31</td>\n",
       "      <td>iron, hair dryer, tv, air conditioning, washer...</td>\n",
       "      <td>3</td>\n",
       "      <td>10.000000</td>\n",
       "      <td>False</td>\n",
       "    </tr>\n",
       "    <tr>\n",
       "      <th>3844</th>\n",
       "      <td>23248190</td>\n",
       "      <td>Sunny room in Plaza Espa�a</td>\n",
       "      <td>Luminous room for rent in a large apartment lo...</td>\n",
       "      <td>172993215</td>\n",
       "      <td>ARRANCAPINS</td>\n",
       "      <td>EXTRAMURS</td>\n",
       "      <td>Private room</td>\n",
       "      <td>1</td>\n",
       "      <td>2.0</td>\n",
       "      <td>1.0</td>\n",
       "      <td>...</td>\n",
       "      <td>20.0</td>\n",
       "      <td>FALSO</td>\n",
       "      <td>1.0</td>\n",
       "      <td>spain</td>\n",
       "      <td>valencia</td>\n",
       "      <td>2019-05-01</td>\n",
       "      <td>luggage dropoff allowed, oven, lock on bedroom...</td>\n",
       "      <td>30</td>\n",
       "      <td>100.000000</td>\n",
       "      <td>False</td>\n",
       "    </tr>\n",
       "    <tr>\n",
       "      <th>5412</th>\n",
       "      <td>28009424</td>\n",
       "      <td>Best location Beautiful room</td>\n",
       "      <td>Habitaci�n en el Paseo Mar�timo de Palma, a 10...</td>\n",
       "      <td>211483828</td>\n",
       "      <td>Palma de Mallorca</td>\n",
       "      <td>NaN</td>\n",
       "      <td>Private room</td>\n",
       "      <td>2</td>\n",
       "      <td>1.0</td>\n",
       "      <td>1.0</td>\n",
       "      <td>...</td>\n",
       "      <td>20.0</td>\n",
       "      <td>VERDADERO</td>\n",
       "      <td>10.0</td>\n",
       "      <td>spain</td>\n",
       "      <td>mallorca</td>\n",
       "      <td>2018-10-17</td>\n",
       "      <td>first aid kit, oven, lock on bedroom door, mic...</td>\n",
       "      <td>30</td>\n",
       "      <td>100.000000</td>\n",
       "      <td>False</td>\n",
       "    </tr>\n",
       "    <tr>\n",
       "      <th>5553</th>\n",
       "      <td>19247709</td>\n",
       "      <td>CRISSON</td>\n",
       "      <td>Villa about 300m from the beach Montg� and sho...</td>\n",
       "      <td>134761428</td>\n",
       "      <td>L'Escala</td>\n",
       "      <td>NaN</td>\n",
       "      <td>Entire home/apt</td>\n",
       "      <td>6</td>\n",
       "      <td>2.0</td>\n",
       "      <td>3.0</td>\n",
       "      <td>...</td>\n",
       "      <td>20.0</td>\n",
       "      <td>VERDADERO</td>\n",
       "      <td>16.0</td>\n",
       "      <td>spain</td>\n",
       "      <td>girona</td>\n",
       "      <td>2018-09-28</td>\n",
       "      <td>iron, internet, tv, smoking allowed, air condi...</td>\n",
       "      <td>2</td>\n",
       "      <td>6.666667</td>\n",
       "      <td>False</td>\n",
       "    </tr>\n",
       "    <tr>\n",
       "      <th>5765</th>\n",
       "      <td>27603327</td>\n",
       "      <td>Apartment In Lloret De Mar Fenals</td>\n",
       "      <td>1 bedroom apartment with living room in the ar...</td>\n",
       "      <td>23730135</td>\n",
       "      <td>Lloret de Mar</td>\n",
       "      <td>NaN</td>\n",
       "      <td>Entire home/apt</td>\n",
       "      <td>4</td>\n",
       "      <td>1.0</td>\n",
       "      <td>1.0</td>\n",
       "      <td>...</td>\n",
       "      <td>20.0</td>\n",
       "      <td>VERDADERO</td>\n",
       "      <td>10.0</td>\n",
       "      <td>spain</td>\n",
       "      <td>girona</td>\n",
       "      <td>2018-08-30</td>\n",
       "      <td>wide entryway, luggage dropoff allowed, pets a...</td>\n",
       "      <td>13</td>\n",
       "      <td>43.333333</td>\n",
       "      <td>False</td>\n",
       "    </tr>\n",
       "    <tr>\n",
       "      <th>6462</th>\n",
       "      <td>21418557</td>\n",
       "      <td>Roomspace Sandoval- Glorieta de Bilbao 2</td>\n",
       "      <td>Moderno apartamento ubicado en un edificio con...</td>\n",
       "      <td>31772865</td>\n",
       "      <td>Trafalgar</td>\n",
       "      <td>Chamber�</td>\n",
       "      <td>Entire home/apt</td>\n",
       "      <td>2</td>\n",
       "      <td>1.0</td>\n",
       "      <td>1.0</td>\n",
       "      <td>...</td>\n",
       "      <td>20.0</td>\n",
       "      <td>FALSO</td>\n",
       "      <td>22.0</td>\n",
       "      <td>spain</td>\n",
       "      <td>madrid</td>\n",
       "      <td>2018-05-14</td>\n",
       "      <td>NaN</td>\n",
       "      <td>0</td>\n",
       "      <td>0.000000</td>\n",
       "      <td>False</td>\n",
       "    </tr>\n",
       "    <tr>\n",
       "      <th>6625</th>\n",
       "      <td>22995415</td>\n",
       "      <td>Barbieri City Center</td>\n",
       "      <td>Unique Apartment in Justicia neighborhood, car...</td>\n",
       "      <td>54310958</td>\n",
       "      <td>Justicia</td>\n",
       "      <td>Centro</td>\n",
       "      <td>Entire home/apt</td>\n",
       "      <td>4</td>\n",
       "      <td>1.0</td>\n",
       "      <td>1.0</td>\n",
       "      <td>...</td>\n",
       "      <td>20.0</td>\n",
       "      <td>VERDADERO</td>\n",
       "      <td>10.0</td>\n",
       "      <td>spain</td>\n",
       "      <td>madrid</td>\n",
       "      <td>2018-04-12</td>\n",
       "      <td>iron, hair dryer, tv, bathroom essentials, was...</td>\n",
       "      <td>14</td>\n",
       "      <td>46.666667</td>\n",
       "      <td>False</td>\n",
       "    </tr>\n",
       "    <tr>\n",
       "      <th>7449</th>\n",
       "      <td>7262469</td>\n",
       "      <td>Habitaci�n doble en Poble Sec</td>\n",
       "      <td>Habitaci�n interior en piso reformado en Aving...</td>\n",
       "      <td>38021841</td>\n",
       "      <td>Sant Antoni</td>\n",
       "      <td>Eixample</td>\n",
       "      <td>Private room</td>\n",
       "      <td>2</td>\n",
       "      <td>1.0</td>\n",
       "      <td>1.0</td>\n",
       "      <td>...</td>\n",
       "      <td>20.0</td>\n",
       "      <td>FALSO</td>\n",
       "      <td>5.0</td>\n",
       "      <td>spain</td>\n",
       "      <td>barcelona</td>\n",
       "      <td>2017-04-08</td>\n",
       "      <td>internet, tv, safety card, smoking allowed, ai...</td>\n",
       "      <td>30</td>\n",
       "      <td>100.000000</td>\n",
       "      <td>False</td>\n",
       "    </tr>\n",
       "  </tbody>\n",
       "</table>\n",
       "<p>14 rows × 39 columns</p>\n",
       "</div>"
      ],
      "text/plain": [
       "      apartment_id                                               name  \\\n",
       "129       20201831  Cosy and beautiful flat in the heart of Barcelona   \n",
       "279       31306749                CONOCE MADRID A UN PRECIO RAZONABLE   \n",
       "335       32229216        Apartamento en la playa ideal para familias   \n",
       "727       29530449  Sup Terraza RMST  � Murmuri Residence Mercader...   \n",
       "1293      20438732   The flair of Ibiza on the coast � Casa Morr�s 45   \n",
       "1313      27943335                                   Macarena - 118.1   \n",
       "2211      27824712                            Danna, Friendly Rentals   \n",
       "3844      23248190                         Sunny room in Plaza Espa�a   \n",
       "5412      28009424                       Best location Beautiful room   \n",
       "5553      19247709                                            CRISSON   \n",
       "5765      27603327                  Apartment In Lloret De Mar Fenals   \n",
       "6462      21418557           Roomspace Sandoval- Glorieta de Bilbao 2   \n",
       "6625      22995415                               Barbieri City Center   \n",
       "7449       7262469                      Habitaci�n doble en Poble Sec   \n",
       "\n",
       "                                            description    host_id  \\\n",
       "129   Bienvenidos! Venid y sentiros como en casa en ...   12981701   \n",
       "279   Hola, la habitaci�n tiene ventanales muy grand...  179816191   \n",
       "335   Apartamento de 38m2 con dos dormitorios, uno c...  241837723   \n",
       "727   <b>The space</b><br />Ven a estrenar este apar...   93598470   \n",
       "1293  The Casa Morr�s 45 is situated in the holiday ...  142978193   \n",
       "1313  Macarena, 3-room terraced house on 2 levels. A...  107255064   \n",
       "2211  This apartment has: 1 double bed, 4 single bed...  102947901   \n",
       "3844  Luminous room for rent in a large apartment lo...  172993215   \n",
       "5412  Habitaci�n en el Paseo Mar�timo de Palma, a 10...  211483828   \n",
       "5553  Villa about 300m from the beach Montg� and sho...  134761428   \n",
       "5765  1 bedroom apartment with living room in the ar...   23730135   \n",
       "6462  Moderno apartamento ubicado en un edificio con...   31772865   \n",
       "6625  Unique Apartment in Justicia neighborhood, car...   54310958   \n",
       "7449  Habitaci�n interior en piso reformado en Aving...   38021841   \n",
       "\n",
       "          neighbourhood_name neighbourhood_district        room_type  \\\n",
       "129   la Dreta de l'Eixample               Eixample  Entire home/apt   \n",
       "279          Palomeras Bajas     Puente de Vallecas     Private room   \n",
       "335              Es Mercadal                    NaN  Entire home/apt   \n",
       "727   la Dreta de l'Eixample               Eixample  Entire home/apt   \n",
       "1293                Felanitx                    NaN  Entire home/apt   \n",
       "1313            Tossa de Mar                    NaN  Entire home/apt   \n",
       "2211           SANT FRANCESC           CIUTAT VELLA  Entire home/apt   \n",
       "3844             ARRANCAPINS              EXTRAMURS     Private room   \n",
       "5412       Palma de Mallorca                    NaN     Private room   \n",
       "5553                L'Escala                    NaN  Entire home/apt   \n",
       "5765           Lloret de Mar                    NaN  Entire home/apt   \n",
       "6462               Trafalgar               Chamber�  Entire home/apt   \n",
       "6625                Justicia                 Centro  Entire home/apt   \n",
       "7449             Sant Antoni               Eixample     Private room   \n",
       "\n",
       "      accommodates  bathrooms  bedrooms  ...  review_scores_value  \\\n",
       "129              2        1.0       1.0  ...                 20.0   \n",
       "279              1        1.0       1.0  ...                 20.0   \n",
       "335              4        1.0       2.0  ...                 20.0   \n",
       "727              4        2.0       1.0  ...                 20.0   \n",
       "1293             5        2.0       2.0  ...                 20.0   \n",
       "1313             5        1.0       2.0  ...                 20.0   \n",
       "2211             6        2.0       3.0  ...                 20.0   \n",
       "3844             1        2.0       1.0  ...                 20.0   \n",
       "5412             2        1.0       1.0  ...                 20.0   \n",
       "5553             6        2.0       3.0  ...                 20.0   \n",
       "5765             4        1.0       1.0  ...                 20.0   \n",
       "6462             2        1.0       1.0  ...                 20.0   \n",
       "6625             4        1.0       1.0  ...                 20.0   \n",
       "7449             2        1.0       1.0  ...                 20.0   \n",
       "\n",
       "     is_instant_bookable  reviews_per_month  country       city insert_date  \\\n",
       "129                FALSO                5.0    spain  barcelona  2021-02-09   \n",
       "279            VERDADERO                7.0    spain     madrid  2021-01-12   \n",
       "335                FALSO                6.0    spain    menorca  2020-12-30   \n",
       "727            VERDADERO                5.0    spain  barcelona  2020-10-12   \n",
       "1293           VERDADERO                4.0    spain   mallorca  2020-05-28   \n",
       "1313           VERDADERO               11.0    spain     girona  2020-05-28   \n",
       "2211           VERDADERO               16.0    spain   valencia  2019-12-31   \n",
       "3844               FALSO                1.0    spain   valencia  2019-05-01   \n",
       "5412           VERDADERO               10.0    spain   mallorca  2018-10-17   \n",
       "5553           VERDADERO               16.0    spain     girona  2018-09-28   \n",
       "5765           VERDADERO               10.0    spain     girona  2018-08-30   \n",
       "6462               FALSO               22.0    spain     madrid  2018-05-14   \n",
       "6625           VERDADERO               10.0    spain     madrid  2018-04-12   \n",
       "7449               FALSO                5.0    spain  barcelona  2017-04-08   \n",
       "\n",
       "                                   normalized_amenities  days_occupied  \\\n",
       "129   iron, long term stays allowed, bathroom essent...              0   \n",
       "279   iron, private entrance], essentials, tv, bathr...             30   \n",
       "335   hair dryer, tv, bathroom essentials, fire safe...             30   \n",
       "727   iron, hair dryer, tv, bathroom essentials, fir...              2   \n",
       "1293  iron, nespresso machine, balcony, refrigerator...              0   \n",
       "1313  balcony, private living room, microwave, tv, s...             30   \n",
       "2211  iron, hair dryer, tv, air conditioning, washer...              3   \n",
       "3844  luggage dropoff allowed, oven, lock on bedroom...             30   \n",
       "5412  first aid kit, oven, lock on bedroom door, mic...             30   \n",
       "5553  iron, internet, tv, smoking allowed, air condi...              2   \n",
       "5765  wide entryway, luggage dropoff allowed, pets a...             13   \n",
       "6462                                                NaN              0   \n",
       "6625  iron, hair dryer, tv, bathroom essentials, was...             14   \n",
       "7449  internet, tv, safety card, smoking allowed, ai...             30   \n",
       "\n",
       "      occupancy_rate  supera_80  \n",
       "129         0.000000      False  \n",
       "279       100.000000      False  \n",
       "335       100.000000      False  \n",
       "727         6.666667      False  \n",
       "1293        0.000000      False  \n",
       "1313      100.000000      False  \n",
       "2211       10.000000      False  \n",
       "3844      100.000000      False  \n",
       "5412      100.000000      False  \n",
       "5553        6.666667      False  \n",
       "5765       43.333333      False  \n",
       "6462        0.000000      False  \n",
       "6625       46.666667      False  \n",
       "7449      100.000000      False  \n",
       "\n",
       "[14 rows x 39 columns]"
      ]
     },
     "execution_count": 102,
     "metadata": {},
     "output_type": "execute_result"
    }
   ],
   "source": [
    "valor_min = df['review_scores_value'].min()\n",
    "print(valor_min)\n",
    "filtro_min = df['review_scores_value']==valor_min\n",
    "df_min = df[filtro_min]\n",
    "df_min"
   ]
  },
  {
   "cell_type": "code",
   "execution_count": null,
   "id": "a30dcfe3",
   "metadata": {},
   "outputs": [],
   "source": []
  }
 ],
 "metadata": {
  "kernelspec": {
   "display_name": "Python 3",
   "language": "python",
   "name": "python3"
  },
  "language_info": {
   "codemirror_mode": {
    "name": "ipython",
    "version": 3
   },
   "file_extension": ".py",
   "mimetype": "text/x-python",
   "name": "python",
   "nbconvert_exporter": "python",
   "pygments_lexer": "ipython3",
   "version": "3.12.5"
  }
 },
 "nbformat": 4,
 "nbformat_minor": 5
}
