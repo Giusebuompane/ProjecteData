{
 "cells": [
  {
   "cell_type": "markdown",
   "id": "ebc729b4",
   "metadata": {},
   "source": [
    "### Analisis Finanzas \n",
    "#### Segundo desafio\n",
    "¿Los clientes con préstamos e hipotecas tienden a tener un saldo medio más bajo o más riesgo de incumplimiento? ¿Cómo deberíamos ajustar nuestras ofertas y estrategias de gestión de riesgos en función de estos hallazgos?"
   ]
  },
  {
   "cell_type": "markdown",
   "id": "e0aec68d",
   "metadata": {},
   "source": [
    "#### Librerias y más"
   ]
  },
  {
   "cell_type": "code",
   "execution_count": 2,
   "id": "dc184353",
   "metadata": {},
   "outputs": [],
   "source": [
    "\"\"\"Librerías que pueden ser necesarias\"\"\"\n",
    "\n",
    "# Manejo de datos\n",
    "import pandas as pd                 # Análisis y manipulación de datos en tablas\n",
    "import numpy as np                  # Cálculos numéricos y matrices\n",
    "import os                           # Gestión de rutas de archivos\n",
    "import re                           # Expresiones regulares para búsqueda y manipulación de texto\n",
    "\n",
    "# Visualización de datos\n",
    "import matplotlib.pyplot as plt     # Gráficos básicos en 2D\n",
    "import seaborn as sns               # Gráficos estadísticos mejorados\n",
    "import plotly.express as px         # Gráficos interactivos simplificados\n",
    "import plotly.graph_objects as go   # Control avanzado de gráficos en Plotly\n",
    "import plotly.io as pio             # Interfaz de entrada/salida de Plotly\n",
    "import squarify                     # Visualización de diagramas de \"treemap\"\n",
    "\n",
    "# Procesado y análisis\n",
    "from scipy import stats\n",
    "from scipy.stats import chi2_contingency # Pruebas de hipótesis y análisis estadístico\n",
    "#Paleta de colores oficial\n",
    "custom_palette = [\"#2E2F36\", \"#5F6F81\", \"#AABBC8\", \"#DCE3EA\", \"#2CCED1\"]"
   ]
  },
  {
   "cell_type": "markdown",
   "id": "22695488",
   "metadata": {},
   "source": [
    "#### Carga de datos"
   ]
  },
  {
   "cell_type": "code",
   "execution_count": 3,
   "id": "a4590c76",
   "metadata": {},
   "outputs": [],
   "source": [
    "df = pd.read_csv('../Data/df_250519.csv')"
   ]
  },
  {
   "cell_type": "code",
   "execution_count": 11,
   "id": "0f3a9818",
   "metadata": {},
   "outputs": [
    {
     "data": {
      "application/vnd.microsoft.datawrangler.viewer.v0+json": {
       "columns": [
        {
         "name": "index",
         "rawType": "int64",
         "type": "integer"
        },
        {
         "name": "Unnamed: 0",
         "rawType": "int64",
         "type": "integer"
        },
        {
         "name": "id",
         "rawType": "int64",
         "type": "integer"
        },
        {
         "name": "age",
         "rawType": "int64",
         "type": "integer"
        },
        {
         "name": "job",
         "rawType": "object",
         "type": "string"
        },
        {
         "name": "marital",
         "rawType": "object",
         "type": "string"
        },
        {
         "name": "education",
         "rawType": "object",
         "type": "string"
        },
        {
         "name": "default",
         "rawType": "bool",
         "type": "boolean"
        },
        {
         "name": "balance",
         "rawType": "int64",
         "type": "integer"
        },
        {
         "name": "housing",
         "rawType": "bool",
         "type": "boolean"
        },
        {
         "name": "loan",
         "rawType": "bool",
         "type": "boolean"
        },
        {
         "name": "contact",
         "rawType": "object",
         "type": "string"
        },
        {
         "name": "day",
         "rawType": "int64",
         "type": "integer"
        },
        {
         "name": "month",
         "rawType": "object",
         "type": "string"
        },
        {
         "name": "duration",
         "rawType": "int64",
         "type": "integer"
        },
        {
         "name": "campaign",
         "rawType": "int64",
         "type": "integer"
        },
        {
         "name": "pdays",
         "rawType": "int64",
         "type": "integer"
        },
        {
         "name": "previous",
         "rawType": "int64",
         "type": "integer"
        },
        {
         "name": "poutcome",
         "rawType": "object",
         "type": "string"
        },
        {
         "name": "deposit",
         "rawType": "bool",
         "type": "boolean"
        },
        {
         "name": "date",
         "rawType": "object",
         "type": "string"
        },
        {
         "name": "saldo_bin",
         "rawType": "category",
         "type": "unknown"
        }
       ],
       "conversionMethod": "pd.DataFrame",
       "ref": "aa931da9-e4e1-4b13-b517-a55553ff53eb",
       "rows": [
        [
         "0",
         "0",
         "1",
         "59",
         "admin.",
         "married",
         "secondary",
         "False",
         "2343",
         "True",
         "False",
         "unknown",
         "5",
         "May",
         "1042",
         "1",
         "-1",
         "0",
         "unknown",
         "True",
         "2024-05-05",
         "(1958.1, 10763.2]"
        ],
        [
         "1",
         "1",
         "2",
         "59",
         "admin.",
         "married",
         "secondary",
         "False",
         "2343",
         "True",
         "False",
         "unknown",
         "5",
         "May",
         "1042",
         "1",
         "-1",
         "0",
         "unknown",
         "True",
         "2024-05-05",
         "(1958.1, 10763.2]"
        ],
        [
         "2",
         "2",
         "3",
         "56",
         "admin.",
         "married",
         "secondary",
         "False",
         "45",
         "False",
         "False",
         "unknown",
         "5",
         "May",
         "1467",
         "1",
         "-1",
         "0",
         "unknown",
         "True",
         "2024-05-05",
         "(-6935.051, 1958.1]"
        ],
        [
         "3",
         "3",
         "4",
         "41",
         "technician",
         "married",
         "secondary",
         "False",
         "1270",
         "True",
         "False",
         "unknown",
         "5",
         "May",
         "1389",
         "1",
         "-1",
         "0",
         "unknown",
         "True",
         "2024-05-05",
         "(-6935.051, 1958.1]"
        ],
        [
         "4",
         "4",
         "5",
         "55",
         "services",
         "married",
         "secondary",
         "False",
         "2476",
         "True",
         "False",
         "unknown",
         "5",
         "May",
         "579",
         "1",
         "-1",
         "0",
         "unknown",
         "True",
         "2024-05-05",
         "(1958.1, 10763.2]"
        ]
       ],
       "shape": {
        "columns": 21,
        "rows": 5
       }
      },
      "text/html": [
       "<div>\n",
       "<style scoped>\n",
       "    .dataframe tbody tr th:only-of-type {\n",
       "        vertical-align: middle;\n",
       "    }\n",
       "\n",
       "    .dataframe tbody tr th {\n",
       "        vertical-align: top;\n",
       "    }\n",
       "\n",
       "    .dataframe thead th {\n",
       "        text-align: right;\n",
       "    }\n",
       "</style>\n",
       "<table border=\"1\" class=\"dataframe\">\n",
       "  <thead>\n",
       "    <tr style=\"text-align: right;\">\n",
       "      <th></th>\n",
       "      <th>Unnamed: 0</th>\n",
       "      <th>id</th>\n",
       "      <th>age</th>\n",
       "      <th>job</th>\n",
       "      <th>marital</th>\n",
       "      <th>education</th>\n",
       "      <th>default</th>\n",
       "      <th>balance</th>\n",
       "      <th>housing</th>\n",
       "      <th>loan</th>\n",
       "      <th>...</th>\n",
       "      <th>day</th>\n",
       "      <th>month</th>\n",
       "      <th>duration</th>\n",
       "      <th>campaign</th>\n",
       "      <th>pdays</th>\n",
       "      <th>previous</th>\n",
       "      <th>poutcome</th>\n",
       "      <th>deposit</th>\n",
       "      <th>date</th>\n",
       "      <th>saldo_bin</th>\n",
       "    </tr>\n",
       "  </thead>\n",
       "  <tbody>\n",
       "    <tr>\n",
       "      <th>0</th>\n",
       "      <td>0</td>\n",
       "      <td>1</td>\n",
       "      <td>59</td>\n",
       "      <td>admin.</td>\n",
       "      <td>married</td>\n",
       "      <td>secondary</td>\n",
       "      <td>False</td>\n",
       "      <td>2343</td>\n",
       "      <td>True</td>\n",
       "      <td>False</td>\n",
       "      <td>...</td>\n",
       "      <td>5</td>\n",
       "      <td>May</td>\n",
       "      <td>1042</td>\n",
       "      <td>1</td>\n",
       "      <td>-1</td>\n",
       "      <td>0</td>\n",
       "      <td>unknown</td>\n",
       "      <td>True</td>\n",
       "      <td>2024-05-05</td>\n",
       "      <td>(1958.1, 10763.2]</td>\n",
       "    </tr>\n",
       "    <tr>\n",
       "      <th>1</th>\n",
       "      <td>1</td>\n",
       "      <td>2</td>\n",
       "      <td>59</td>\n",
       "      <td>admin.</td>\n",
       "      <td>married</td>\n",
       "      <td>secondary</td>\n",
       "      <td>False</td>\n",
       "      <td>2343</td>\n",
       "      <td>True</td>\n",
       "      <td>False</td>\n",
       "      <td>...</td>\n",
       "      <td>5</td>\n",
       "      <td>May</td>\n",
       "      <td>1042</td>\n",
       "      <td>1</td>\n",
       "      <td>-1</td>\n",
       "      <td>0</td>\n",
       "      <td>unknown</td>\n",
       "      <td>True</td>\n",
       "      <td>2024-05-05</td>\n",
       "      <td>(1958.1, 10763.2]</td>\n",
       "    </tr>\n",
       "    <tr>\n",
       "      <th>2</th>\n",
       "      <td>2</td>\n",
       "      <td>3</td>\n",
       "      <td>56</td>\n",
       "      <td>admin.</td>\n",
       "      <td>married</td>\n",
       "      <td>secondary</td>\n",
       "      <td>False</td>\n",
       "      <td>45</td>\n",
       "      <td>False</td>\n",
       "      <td>False</td>\n",
       "      <td>...</td>\n",
       "      <td>5</td>\n",
       "      <td>May</td>\n",
       "      <td>1467</td>\n",
       "      <td>1</td>\n",
       "      <td>-1</td>\n",
       "      <td>0</td>\n",
       "      <td>unknown</td>\n",
       "      <td>True</td>\n",
       "      <td>2024-05-05</td>\n",
       "      <td>(-6935.051, 1958.1]</td>\n",
       "    </tr>\n",
       "    <tr>\n",
       "      <th>3</th>\n",
       "      <td>3</td>\n",
       "      <td>4</td>\n",
       "      <td>41</td>\n",
       "      <td>technician</td>\n",
       "      <td>married</td>\n",
       "      <td>secondary</td>\n",
       "      <td>False</td>\n",
       "      <td>1270</td>\n",
       "      <td>True</td>\n",
       "      <td>False</td>\n",
       "      <td>...</td>\n",
       "      <td>5</td>\n",
       "      <td>May</td>\n",
       "      <td>1389</td>\n",
       "      <td>1</td>\n",
       "      <td>-1</td>\n",
       "      <td>0</td>\n",
       "      <td>unknown</td>\n",
       "      <td>True</td>\n",
       "      <td>2024-05-05</td>\n",
       "      <td>(-6935.051, 1958.1]</td>\n",
       "    </tr>\n",
       "    <tr>\n",
       "      <th>4</th>\n",
       "      <td>4</td>\n",
       "      <td>5</td>\n",
       "      <td>55</td>\n",
       "      <td>services</td>\n",
       "      <td>married</td>\n",
       "      <td>secondary</td>\n",
       "      <td>False</td>\n",
       "      <td>2476</td>\n",
       "      <td>True</td>\n",
       "      <td>False</td>\n",
       "      <td>...</td>\n",
       "      <td>5</td>\n",
       "      <td>May</td>\n",
       "      <td>579</td>\n",
       "      <td>1</td>\n",
       "      <td>-1</td>\n",
       "      <td>0</td>\n",
       "      <td>unknown</td>\n",
       "      <td>True</td>\n",
       "      <td>2024-05-05</td>\n",
       "      <td>(1958.1, 10763.2]</td>\n",
       "    </tr>\n",
       "  </tbody>\n",
       "</table>\n",
       "<p>5 rows × 21 columns</p>\n",
       "</div>"
      ],
      "text/plain": [
       "   Unnamed: 0  id  age         job  marital  education  default  balance  \\\n",
       "0           0   1   59      admin.  married  secondary    False     2343   \n",
       "1           1   2   59      admin.  married  secondary    False     2343   \n",
       "2           2   3   56      admin.  married  secondary    False       45   \n",
       "3           3   4   41  technician  married  secondary    False     1270   \n",
       "4           4   5   55    services  married  secondary    False     2476   \n",
       "\n",
       "   housing   loan  ... day  month duration  campaign  pdays  previous  \\\n",
       "0     True  False  ...   5    May     1042         1     -1         0   \n",
       "1     True  False  ...   5    May     1042         1     -1         0   \n",
       "2    False  False  ...   5    May     1467         1     -1         0   \n",
       "3     True  False  ...   5    May     1389         1     -1         0   \n",
       "4     True  False  ...   5    May      579         1     -1         0   \n",
       "\n",
       "   poutcome deposit        date            saldo_bin  \n",
       "0   unknown    True  2024-05-05    (1958.1, 10763.2]  \n",
       "1   unknown    True  2024-05-05    (1958.1, 10763.2]  \n",
       "2   unknown    True  2024-05-05  (-6935.051, 1958.1]  \n",
       "3   unknown    True  2024-05-05  (-6935.051, 1958.1]  \n",
       "4   unknown    True  2024-05-05    (1958.1, 10763.2]  \n",
       "\n",
       "[5 rows x 21 columns]"
      ]
     },
     "execution_count": 11,
     "metadata": {},
     "output_type": "execute_result"
    }
   ],
   "source": [
    "df.head()"
   ]
  },
  {
   "cell_type": "markdown",
   "id": "ea83e222",
   "metadata": {},
   "source": [
    "#### Tabla relacion Prestamos e hipotecas\n",
    "Se analiza si tiene prestamo, si tiene hipoteca, Saldo medio y tasa de incumplimiento"
   ]
  },
  {
   "cell_type": "code",
   "execution_count": 4,
   "id": "23220747",
   "metadata": {},
   "outputs": [
    {
     "name": "stdout",
     "output_type": "stream",
     "text": [
      "   Tiene préstamo  Tiene hipoteca  Saldo medio  Tasa incumplimiento  \\\n",
      "0           False           False  1844.047228             0.008864   \n",
      "1           False            True  1365.205982             0.013876   \n",
      "2            True           False   801.467991             0.057395   \n",
      "3            True            True   773.169967             0.026403   \n",
      "\n",
      "   Número de clientes  \n",
      "0                7559  \n",
      "1                6486  \n",
      "2                 906  \n",
      "3                1212  \n"
     ]
    },
    {
     "data": {
      "image/png": "[encoded data removed]",
      "text/plain": [
       "<Figure size 640x480 with 1 Axes>"
      ]
     },
     "metadata": {},
     "output_type": "display_data"
    }
   ],
   "source": [
    "Tabla_agrupada = df.groupby(['loan', 'housing']).agg({'balance': 'mean','default': 'mean','id': 'count'}).reset_index()\n",
    "Tabla_agrupada.columns = ['Tiene préstamo', 'Tiene hipoteca', 'Saldo medio', 'Tasa incumplimiento', 'Número de clientes'] \n",
    "print(Tabla_agrupada)\n",
    "\n",
    "'''Este grafico se puede cambiar de orden para mostrar lade manera inversa \n",
    "prestamo como Hue y hipoteca como x'''\n",
    "\n",
    "sns.barplot(data=Tabla_agrupada, x='Tiene préstamo', y='Tasa incumplimiento', hue='Tiene hipoteca')\n",
    "plt.title(\"Tasa de incumplimiento por tipo de préstamo e hipoteca\")\n",
    "plt.ylabel(\"Tasa de incumplimiento\")\n",
    "plt.show()"
   ]
  },
  {
   "cell_type": "code",
   "execution_count": 8,
   "id": "2c43cf03",
   "metadata": {},
   "outputs": [
    {
     "data": {
      "text/plain": [
       "<Axes: xlabel='Tiene hipoteca', ylabel='Saldo medio'>"
      ]
     },
     "execution_count": 8,
     "metadata": {},
     "output_type": "execute_result"
    },
    {
     "data": {
      "image/png": "[encoded data removed]",
      "text/plain": [
       "<Figure size 640x480 with 1 Axes>"
      ]
     },
     "metadata": {},
     "output_type": "display_data"
    }
   ],
   "source": [
    "sns.barplot(data=Tabla_agrupada, x='Tiene hipoteca', y='Saldo medio', hue='Tiene préstamo')"
   ]
  },
  {
   "cell_type": "code",
   "execution_count": 10,
   "id": "ce01c8a9",
   "metadata": {},
   "outputs": [
    {
     "data": {
      "image/png": "[encoded data removed]",
      "text/plain": [
       "<Figure size 1000x800 with 2 Axes>"
      ]
     },
     "metadata": {},
     "output_type": "display_data"
    }
   ],
   "source": [
    "# Crear una variable de bins de saldo medio\n",
    "df['saldo_bin'] = pd.cut(df['balance'], bins=10)\n",
    "\n",
    "# Calcular proporciones de préstamo e hipoteca por bin de saldo\n",
    "pivot_housing = pd.crosstab(df['saldo_bin'], df['housing'], normalize='index')\n",
    "pivot_loan = pd.crosstab(df['saldo_bin'], df['loan'], normalize='index')\n",
    "\n",
    "# Crear el gráfico de subplots apilados\n",
    "fig, axes = plt.subplots(nrows=2, figsize=(10, 8), sharex=True)\n",
    "\n",
    "# Hipoteca en eje Y superior\n",
    "pivot_housing.plot(kind='bar', stacked=True, ax=axes[0])\n",
    "axes[0].set_title(\"Distribución de Hipoteca por rango de Saldo Medio\")\n",
    "axes[0].set_ylabel(\"Proporción\")\n",
    "axes[0].legend(title=\"Hipoteca\")\n",
    "\n",
    "# Préstamo en eje Y inferior\n",
    "pivot_loan.plot(kind='bar', stacked=True, ax=axes[1])\n",
    "axes[1].set_title(\"Distribución de Préstamo por rango de Saldo Medio\")\n",
    "axes[1].set_ylabel(\"Proporción\")\n",
    "axes[1].set_xlabel(\"Rango de Saldo Medio\")\n",
    "axes[1].legend(title=\"Préstamo\")\n",
    "\n",
    "plt.tight_layout()\n",
    "plt.show()\n"
   ]
  },
  {
   "cell_type": "markdown",
   "id": "f98b58f8",
   "metadata": {},
   "source": [
    "### Razon de monomios\n",
    "chances de incumplimiento al tener un prestamo o hipoteca\n",
    "La razón de momios (odds ratio) se calcula así:\n",
    "odds ratio = odds (evento) / odds (no evento) donde evento puede ser tanto prestamo como hipoteca\n",
    "odds (evento) = p (evento) / (1 - p (evento))"
   ]
  },
  {
   "cell_type": "code",
   "execution_count": 6,
   "id": "8d80f8e3",
   "metadata": {},
   "outputs": [
    {
     "name": "stdout",
     "output_type": "stream",
     "text": [
      "📊 Tabla de contingencia entre 'loan' y 'default':\n",
      "default  False  True \n",
      "loan                 \n",
      "False    13888    157\n",
      "True      2034     84\n",
      "\n",
      "odds_sin_loan: 88.45859872611464\n",
      "odds_con_loan : 24.214285714285715\n",
      "odds_ratio: 0.2737358048057933\n",
      "📊 Tabla de contingencia entre 'housing' y 'default':\n",
      "default  False  True \n",
      "housing              \n",
      "False     8346    119\n",
      "True      7576    122\n",
      "\n",
      "odds_sin_housing: 70.1344537815126\n",
      "odds_con_housing : 62.09836065573771\n",
      "odds_ratio: 0.8854187536583737\n"
     ]
    }
   ],
   "source": [
    "def odds_ratio(df, column_a, column_b):\n",
    "    \"\"\"Calcula la razón de probabilidades (odds ratio) entre dos grupos.\"\"\"\n",
    "    tabla_contingencia = pd.crosstab(df[column_a],df[column_b] )\n",
    "    A= tabla_contingencia.iloc[0, 0]\n",
    "    B= tabla_contingencia.iloc[0, 1] \n",
    "    C= tabla_contingencia.iloc[1, 0]\n",
    "    D= tabla_contingencia.iloc[1, 1]\n",
    "    # Evitar divisiones por cero\n",
    "    if B == 0 or D == 0:\n",
    "        print(\"⚠️ Uno de los valores es cero, no se puede calcular la razón de momios.\")\n",
    "        return None\n",
    "    odds_sin_evento = A / B\n",
    "    odds_con_evento = C / D\n",
    "    odds_ratio = odds_con_evento / odds_sin_evento\n",
    "    print(f\"📊 Tabla de contingencia entre '{column_a}' y '{column_b}':\\n{tabla_contingencia}\\n\")\n",
    "    print(f\"odds_sin_{column_a}: {odds_sin_evento}\")\n",
    "    print(f\"odds_con_{column_a} : {odds_con_evento}\")\n",
    "    print(f\"odds_ratio: {odds_ratio}\")\n",
    "    \n",
    "# aplicar la función a los datos\n",
    "odds_ratio(df, 'loan', 'default')\n",
    "odds_ratio(df, 'housing', 'default')\n"
   ]
  },
  {
   "cell_type": "markdown",
   "id": "f9424fd4",
   "metadata": {},
   "source": [
    "### Chi cuadrado\n",
    "comprobar la relaciond variables categoricas"
   ]
  },
  {
   "cell_type": "code",
   "execution_count": 7,
   "id": "9860a793",
   "metadata": {},
   "outputs": [
    {
     "name": "stdout",
     "output_type": "stream",
     "text": [
      "\n",
      "Test Chi-cuadrado entre 'loan' y 'default'\n",
      "Tabla de contingencia:\n",
      " default  False  True \n",
      "loan                 \n",
      "False    13888    157\n",
      "True      2034     84\n",
      "Chi2 = 99.7154, p-valor = 0.0000, grados de libertad = 1\n",
      "❗Hay evidencia estadística de asociación entre las variables.\n",
      "\n",
      "Test Chi-cuadrado entre 'housing' y 'default'\n",
      "Tabla de contingencia:\n",
      " default  False  True \n",
      "housing              \n",
      "False     8346    119\n",
      "True      7576    122\n",
      "Chi2 = 0.7622, p-valor = 0.3826, grados de libertad = 1\n",
      "✅ No se detecta asociación estadísticamente significativa.\n"
     ]
    }
   ],
   "source": [
    "# Función para ejecutar Chi-cuadrado entre default y una variable categórica\n",
    "def Funcion_Chi2(df, column):\n",
    "    Tabla_contingencia = pd.crosstab(df[column], df['default'])\n",
    "    chi2, p, dof, expected = chi2_contingency(Tabla_contingencia)\n",
    "    print(f\"\\nTest Chi-cuadrado entre '{column}' y 'default'\")\n",
    "    print(\"Tabla de contingencia:\\n\", Tabla_contingencia)\n",
    "    print(f\"Chi2 = {chi2:.4f}, p-valor = {p:.4f}, grados de libertad = {dof}\")\n",
    "    if p < 0.05:\n",
    "        print(\"❗Hay evidencia estadística de asociación entre las variables.\")\n",
    "    else:\n",
    "        print(\"✅ No se detecta asociación estadísticamente significativa.\")\n",
    "\n",
    "# Aplicar a 'loan' y 'housing'\n",
    "Funcion_Chi2(df, 'loan')\n",
    "Funcion_Chi2(df, 'housing')"
   ]
  },
  {
   "cell_type": "markdown",
   "id": "d3075117",
   "metadata": {},
   "source": [
    "# KPIs"
   ]
  },
  {
   "cell_type": "markdown",
   "id": "d4bf5f0f",
   "metadata": {},
   "source": [
    "- saldo medio gral\n",
    "- saldo medio por decil\n",
    "- % clientes por tsa de riesgo\n",
    "- % clientes con hipoteca\n",
    "- % clientes con préstamo\n",
    "- tasa incumplimiento\n",
    "- tasa contratación depósito"
   ]
  }
 ],
 "metadata": {
  "kernelspec": {
   "display_name": "Python 3",
   "language": "python",
   "name": "python3"
  },
  "language_info": {
   "codemirror_mode": {
    "name": "ipython",
    "version": 3
   },
   "file_extension": ".py",
   "mimetype": "text/x-python",
   "name": "python",
   "nbconvert_exporter": "python",
   "pygments_lexer": "ipython3",
   "version": "3.13.2"
  }
 },
 "nbformat": 4,
 "nbformat_minor": 5
}
