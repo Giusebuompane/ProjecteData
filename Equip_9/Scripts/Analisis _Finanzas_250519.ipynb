{
 "cells": [
  {
   "cell_type": "markdown",
   "id": "ebc729b4",
   "metadata": {},
   "source": [
    "### Analisis Finanzas \n",
    "#### Segundo desafio\n",
    "¿Los clientes con préstamos e hipotecas tienden a tener un saldo medio más bajo o más riesgo de incumplimiento? ¿Cómo deberíamos ajustar nuestras ofertas y estrategias de gestión de riesgos en función de estos hallazgos?"
   ]
  },
  {
   "cell_type": "markdown",
   "id": "e0aec68d",
   "metadata": {},
   "source": [
    "#### Librerias y más"
   ]
  },
  {
   "cell_type": "code",
   "execution_count": null,
   "id": "dc184353",
   "metadata": {},
   "outputs": [],
   "source": [
    "\"\"\"Librerías que pueden ser necesarias\"\"\"\n",
    "\n",
    "# Manejo de datos\n",
    "import pandas as pd                 # Análisis y manipulación de datos en tablas\n",
    "import numpy as np                  # Cálculos numéricos y matrices\n",
    "import os                           # Gestión de rutas de archivos\n",
    "import re                           # Expresiones regulares para búsqueda y manipulación de texto\n",
    "\n",
    "# Visualización de datos\n",
    "import matplotlib.pyplot as plt     # Gráficos básicos en 2D\n",
    "import seaborn as sns               # Gráficos estadísticos mejorados\n",
    "import plotly.express as px         # Gráficos interactivos simplificados\n",
    "import plotly.graph_objects as go   # Control avanzado de gráficos en Plotly\n",
    "import plotly.io as pio             # Interfaz de entrada/salida de Plotly\n",
    "import squarify                     # Visualización de diagramas de \"treemap\"\n",
    "\n",
    "# Procesado y análisis\n",
    "from scipy import stats\n",
    "\n",
    "#Paleta de colores oficial\n",
    "custom_palette = [\"#2E2F36\", \"#5F6F81\", \"#AABBC8\", \"#DCE3EA\", \"#2CCED1\"]"
   ]
  },
  {
   "cell_type": "markdown",
   "id": "22695488",
   "metadata": {},
   "source": [
    "#### Carga de datos"
   ]
  },
  {
   "cell_type": "code",
   "execution_count": null,
   "id": "a4590c76",
   "metadata": {},
   "outputs": [],
   "source": [
    "df = pd.read_csv(\"../Data/df_250519.csv\")"
   ]
  },
  {
   "cell_type": "markdown",
   "id": "ea83e222",
   "metadata": {},
   "source": [
    "#### Tabla relacion Prestamos e hipotecas\n",
    "Se analiza si tiene prestamo, si tiene hipoteca, Saldo medio y tasa de incumplimiento"
   ]
  },
  {
   "cell_type": "code",
   "execution_count": null,
   "id": "23220747",
   "metadata": {},
   "outputs": [],
   "source": [
    "Tabla_agrupada = df.groupby(['loan', 'housing']).agg\n",
    "({'balance': 'mean','default': 'mean','id': 'count'}).reset_index()"
   ]
  },
  {
   "cell_type": "markdown",
   "id": "f98b58f8",
   "metadata": {},
   "source": [
    "### Razon de monomios\n",
    "chances de incumplimiento al tenr un prestamo o hipoteca"
   ]
  },
  {
   "cell_type": "markdown",
   "id": "f9424fd4",
   "metadata": {},
   "source": [
    "### Chi cuadrado\n",
    "comprobar la relaciond variables categoricas"
   ]
  }
 ],
 "metadata": {
  "language_info": {
   "name": "python"
  }
 },
 "nbformat": 4,
 "nbformat_minor": 5
}
