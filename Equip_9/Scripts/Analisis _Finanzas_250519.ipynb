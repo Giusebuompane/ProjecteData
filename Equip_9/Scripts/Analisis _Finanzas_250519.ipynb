{
 "cells": [
  {
   "cell_type": "markdown",
   "id": "ebc729b4",
   "metadata": {},
   "source": [
    "### Analisis Finanzas \n",
    "#### Segundo desafio\n",
    "¿Los clientes con préstamos e hipotecas tienden a tener un saldo medio más bajo o más riesgo de incumplimiento? ¿Cómo deberíamos ajustar nuestras ofertas y estrategias de gestión de riesgos en función de estos hallazgos?"
   ]
  },
  {
   "cell_type": "markdown",
   "id": "e0aec68d",
   "metadata": {},
   "source": [
    "#### Librerias y más"
   ]
  },
  {
   "cell_type": "code",
   "execution_count": 58,
   "id": "dc184353",
   "metadata": {},
   "outputs": [],
   "source": [
    "\"\"\"Librerías que pueden ser necesarias\"\"\"\n",
    "\n",
    "# Manejo de datos\n",
    "import pandas as pd                 # Análisis y manipulación de datos en tablas\n",
    "import numpy as np                  # Cálculos numéricos y matrices\n",
    "import os                           # Gestión de rutas de archivos\n",
    "import re                           # Expresiones regulares para búsqueda y manipulación de texto\n",
    "\n",
    "# Visualización de datos\n",
    "import matplotlib.pyplot as plt     # Gráficos básicos en 2D\n",
    "import seaborn as sns               # Gráficos estadísticos mejorados\n",
    "import plotly.express as px         # Gráficos interactivos simplificados\n",
    "import plotly.graph_objects as go   # Control avanzado de gráficos en Plotly\n",
    "import plotly.io as pio             # Interfaz de entrada/salida de Plotly\n",
    "import squarify                     # Visualización de diagramas de \"treemap\"\n",
    "\n",
    "# Procesado y análisis\n",
    "from scipy import stats\n",
    "from scipy.stats import chi2_contingency # Pruebas de hipótesis y análisis estadístico\n",
    "from scipy.stats import norm\n",
    "\n",
    "import warnings\n",
    "warnings.filterwarnings(\"ignore\")#ignorar advertencias\n",
    "\n",
    "#Paleta de colores oficial\n",
    "custom_palette = [\"#2E2F36\", \"#5F6F81\", \"#AABBC8\", \"#DCE3EA\", \"#2CCED1\"]"
   ]
  },
  {
   "cell_type": "markdown",
   "id": "22695488",
   "metadata": {},
   "source": [
    "#### Carga de datos"
   ]
  },
  {
   "cell_type": "code",
   "execution_count": 59,
   "id": "a4590c76",
   "metadata": {},
   "outputs": [],
   "source": [
    "df = pd.read_csv('../Data/df_250519.csv')"
   ]
  },
  {
   "cell_type": "markdown",
   "id": "ea83e222",
   "metadata": {},
   "source": [
    "#### Tabla relacion Prestamos e hipotecas\n",
    "Se analiza si tiene prestamo, si tiene hipoteca, Saldo medio y tasa de incumplimiento"
   ]
  },
  {
   "cell_type": "code",
   "execution_count": 60,
   "id": "23220747",
   "metadata": {},
   "outputs": [
    {
     "name": "stdout",
     "output_type": "stream",
     "text": [
      "   Tiene préstamo  Tiene hipoteca  Saldo medio  Tasa incumplimiento  \\\n",
      "0           False           False  1844.047228             0.008864   \n",
      "1           False            True  1365.205982             0.013876   \n",
      "2            True           False   801.467991             0.057395   \n",
      "3            True            True   773.169967             0.026403   \n",
      "\n",
      "   Número de clientes  \n",
      "0                7559  \n",
      "1                6486  \n",
      "2                 906  \n",
      "3                1212  \n"
     ]
    },
    {
     "data": {
      "image/png": "[encoded data removed]",
      "text/plain": [
       "<Figure size 640x480 with 1 Axes>"
      ]
     },
     "metadata": {},
     "output_type": "display_data"
    }
   ],
   "source": [
    "Tabla_agrupada = df.groupby(['loan', 'housing']).agg({'balance': 'mean','default': 'mean','id': 'count'}).reset_index()\n",
    "Tabla_agrupada.columns = ['Tiene préstamo', 'Tiene hipoteca', 'Saldo medio', 'Tasa incumplimiento', 'Número de clientes'] \n",
    "print(Tabla_agrupada)\n",
    "\n",
    "'''Este grafico se puede cambiar de orden para mostrar lade manera inversa \n",
    "prestamo como Hue y hipoteca como x'''\n",
    "\n",
    "sns.barplot(data=Tabla_agrupada, x='Tiene préstamo', y='Tasa incumplimiento', hue='Tiene hipoteca')\n",
    "plt.title(\"Tasa de incumplimiento por tipo de préstamo e hipoteca\")\n",
    "plt.ylabel(\"Tasa de incumplimiento\")\n",
    "plt.show()"
   ]
  },
  {
   "cell_type": "markdown",
   "id": "f98b58f8",
   "metadata": {},
   "source": [
    "### Razon de monomios\n",
    "chances de incumplimiento al tener un prestamo o hipoteca\n",
    "La razón de momios (odds ratio) se calcula así:\n",
    "odds ratio = odds de default en expuesto / odds de default en no expuestos.\n",
    "\n",
    "donde :\n",
    "\n",
    "odds de default en expuesto  = personas con inpago y con (prestamo, hipoteca) / personas sin inpago y con (prestamo, hipoteca)\n",
    "\n",
    "odds de default en no expuestos = personas con inpago y sin (prestamo, hipoteca) / personas sin inpago y sin (prestamo, hipoteca)\n",
    "\n"
   ]
  },
  {
   "cell_type": "markdown",
   "id": "556162b1",
   "metadata": {},
   "source": [
    "#### Nota\n",
    "use odds ratio en lugar de riesgo relativo pues tengo la intencion de hacer una regresion logistica si da tiempo"
   ]
  },
  {
   "cell_type": "code",
   "execution_count": 61,
   "id": "8d80f8e3",
   "metadata": {},
   "outputs": [
    {
     "name": "stdout",
     "output_type": "stream",
     "text": [
      "📊 Tabla de contingencia entre 'loan' y 'default':\n",
      "default  False  True \n",
      "loan                 \n",
      "False    13888    157\n",
      "True      2034     84\n",
      "\n",
      "odds_sin_loan: 0.04129793510324484\n",
      "odds_con_loan : 0.011304723502304147\n",
      "odds_ratio: 3.6531574695150595\n",
      "📊 Tabla de contingencia entre 'housing' y 'default':\n",
      "default  False  True \n",
      "housing              \n",
      "False     8346    119\n",
      "True      7576    122\n",
      "\n",
      "odds_sin_housing: 0.016103484688489968\n",
      "odds_con_housing : 0.014258327342439491\n",
      "odds_ratio: 1.1294091026061956\n"
     ]
    }
   ],
   "source": [
    "def odds_ratio(df, column_a, column_b):\n",
    "    \"\"\"Calcula la razón de probabilidades (odds ratio) entre dos grupos.\"\"\"\n",
    "    tabla_contingencia = pd.crosstab(df[column_a],df[column_b] )\n",
    "    A= tabla_contingencia.iloc[1, 1] \n",
    "    B= tabla_contingencia.iloc[1, 0] \n",
    "    C= tabla_contingencia.iloc[0, 1]\n",
    "    D= tabla_contingencia.iloc[0, 0]\n",
    "    # Evitar divisiones por cero\n",
    "    if B == 0 or D == 0:\n",
    "        print(\"⚠️ Uno de los valores es cero, no se puede calcular la razón de momios.\")\n",
    "        return None\n",
    "    odds_expuesto = A / B\n",
    "    odds_no_expuesto = C / D\n",
    "    odds_ratio = odds_expuesto /odds_no_expuesto\n",
    "    print(f\"📊 Tabla de contingencia entre '{column_a}' y '{column_b}':\\n{tabla_contingencia}\\n\")\n",
    "    print(f\"odds_sin_{column_a}: {odds_expuesto}\")\n",
    "    print(f\"odds_con_{column_a} : {odds_no_expuesto}\")\n",
    "    print(f\"odds_ratio: {odds_ratio}\")\n",
    "    \n",
    "# aplicar la función a los datos\n",
    "odds_ratio(df, 'loan', 'default')\n",
    "odds_ratio(df, 'housing', 'default')\n"
   ]
  },
  {
   "cell_type": "markdown",
   "id": "b3176d9b",
   "metadata": {},
   "source": [
    "### Calculo del intervalo de confianza\n",
    "calculado al 95% "
   ]
  },
  {
   "cell_type": "code",
   "execution_count": 62,
   "id": "c7b4b518",
   "metadata": {},
   "outputs": [
    {
     "name": "stdout",
     "output_type": "stream",
     "text": [
      "📊 Odds Ratio entre 'loan' y 'default': 3.6532\n",
      "🔒 Intervalo de confianza 95%: [2.7915, 4.7808]\n",
      "📊 Odds Ratio entre 'housing' y 'default': 1.1294\n",
      "🔒 Intervalo de confianza 95%: [0.8757, 1.4566]\n"
     ]
    }
   ],
   "source": [
    "def calcular_odds_ratio_ic(df, columna_a, columna_b, alpha=0.05):\n",
    "    tabla = pd.crosstab(df[columna_a], df[columna_b])\n",
    "    \n",
    "    # use true/false para evitar errores y confusiones\n",
    "    A = tabla.loc[True, True]\n",
    "    B = tabla.loc[True, False]  \n",
    "    C = tabla.loc[False, True]\n",
    "    D = tabla.loc[False, False]  \n",
    "    odds_expuesto = A / B\n",
    "    odds_no_expuesto = C / D\n",
    "    OR = odds_expuesto /odds_no_expuesto\n",
    "\n",
    "    # Log(OR) y error estándar\n",
    "    log_or = np.log(OR) # logaritmo natural de la razón de momios\n",
    "    se_log_or = np.sqrt(1/A + 1/B + 1/C + 1/D) # error estándar del logaritmo de la razón de momios\n",
    "    # Intervalo de confianza\n",
    "    z = norm.ppf(1 - alpha / 2) # valor crítico para el nivel de confianza\n",
    "    lower = np.exp(log_or - z * se_log_or) # intervalo inferior\n",
    "    upper = np.exp(log_or + z * se_log_or) # intervalo superior\n",
    "\n",
    "    print(f\"📊 Odds Ratio entre '{columna_a}' y '{columna_b}': {OR:.4f}\")\n",
    "    print(f\"🔒 Intervalo de confianza {int((1-alpha)*100)}%: [{lower:.4f}, {upper:.4f}]\")\n",
    "    \n",
    "    \n",
    "\n",
    "# Aplicar la función a los datos\n",
    "calcular_odds_ratio_ic(df, 'loan', 'default')\n",
    "calcular_odds_ratio_ic(df, 'housing', 'default')"
   ]
  },
  {
   "cell_type": "markdown",
   "id": "f9424fd4",
   "metadata": {},
   "source": [
    "### Chi cuadrado\n",
    "comprobar la relaciond variables categoricas"
   ]
  },
  {
   "cell_type": "code",
   "execution_count": 63,
   "id": "9860a793",
   "metadata": {},
   "outputs": [
    {
     "name": "stdout",
     "output_type": "stream",
     "text": [
      "\n",
      "Test Chi-cuadrado entre 'loan' y 'default'\n",
      "Tabla de contingencia:\n",
      " default  False  True \n",
      "loan                 \n",
      "False    13888    157\n",
      "True      2034     84\n",
      "Chi2 = 99.7154, p-valor = 0.0000, grados de libertad = 1\n",
      "❗Hay evidencia estadística de asociación entre las variables.\n",
      "\n",
      "Test Chi-cuadrado entre 'housing' y 'default'\n",
      "Tabla de contingencia:\n",
      " default  False  True \n",
      "housing              \n",
      "False     8346    119\n",
      "True      7576    122\n",
      "Chi2 = 0.7622, p-valor = 0.3826, grados de libertad = 1\n",
      "✅ No se detecta asociación estadísticamente significativa.\n"
     ]
    }
   ],
   "source": [
    "# Función para ejecutar Chi-cuadrado entre default y una variable categórica\n",
    "def Funcion_Chi2(df, column):\n",
    "    Tabla_contingencia = pd.crosstab(df[column], df['default'])\n",
    "    chi2, p, dof, expected = chi2_contingency(Tabla_contingencia)\n",
    "    print(f\"\\nTest Chi-cuadrado entre '{column}' y 'default'\")\n",
    "    print(\"Tabla de contingencia:\\n\", Tabla_contingencia)\n",
    "    print(f\"Chi2 = {chi2:.4f}, p-valor = {p:.4f}, grados de libertad = {dof}\")\n",
    "    if p < 0.05:\n",
    "        print(\"❗Hay evidencia estadística de asociación entre las variables.\")\n",
    "    else:\n",
    "        print(\"✅ No se detecta asociación estadísticamente significativa.\")\n",
    "\n",
    "# Aplicar a 'loan' y 'housing'\n",
    "Funcion_Chi2(df, 'loan')\n",
    "Funcion_Chi2(df, 'housing')"
   ]
  },
  {
   "cell_type": "markdown",
   "id": "7fe56c9e",
   "metadata": {},
   "source": [
    "# KPIs"
   ]
  },
  {
   "cell_type": "markdown",
   "id": "9ffd2dfd",
   "metadata": {},
   "source": [
    "- saldo medio gral\n",
    "- saldo medio por decil\n",
    "- % clientes por tsa de riesgo\n",
    "- % clientes con hipoteca\n",
    "- % clientes con préstamo\n",
    "- tasa incumplimiento\n",
    "- tasa contratación depósito"
   ]
  }
 ],
 "metadata": {
  "kernelspec": {
   "display_name": "base",
   "language": "python",
   "name": "python3"
  },
  "language_info": {
   "codemirror_mode": {
    "name": "ipython",
    "version": 3
   },
   "file_extension": ".py",
   "mimetype": "text/x-python",
   "name": "python",
   "nbconvert_exporter": "python",
   "pygments_lexer": "ipython3",
   "version": "3.12.7"
  }
 },
 "nbformat": 4,
 "nbformat_minor": 5
}
