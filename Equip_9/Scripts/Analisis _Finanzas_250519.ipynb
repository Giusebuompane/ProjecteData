{
 "cells": [
  {
   "cell_type": "markdown",
   "id": "ebc729b4",
   "metadata": {},
   "source": [
    "### Analisis Finanzas \n",
    "#### Segundo desafio\n",
    "¿Los clientes con préstamos e hipotecas tienden a tener un saldo medio más bajo o más riesgo de incumplimiento? ¿Cómo deberíamos ajustar nuestras ofertas y estrategias de gestión de riesgos en función de estos hallazgos?"
   ]
  },
  {
   "cell_type": "markdown",
   "id": "e0aec68d",
   "metadata": {},
   "source": [
    "#### Librerias y más"
   ]
  },
  {
   "cell_type": "code",
   "execution_count": 43,
   "id": "dc184353",
   "metadata": {},
   "outputs": [],
   "source": [
    "\"\"\"Librerías que pueden ser necesarias\"\"\"\n",
    "\n",
    "# Manejo de datos\n",
    "import pandas as pd                 # Análisis y manipulación de datos en tablas\n",
    "import numpy as np                  # Cálculos numéricos y matrices\n",
    "import os                           # Gestión de rutas de archivos\n",
    "import re                           # Expresiones regulares para búsqueda y manipulación de texto\n",
    "\n",
    "# Visualización de datos\n",
    "import matplotlib.pyplot as plt     # Gráficos básicos en 2D\n",
    "import seaborn as sns               # Gráficos estadísticos mejorados\n",
    "import plotly.express as px         # Gráficos interactivos simplificados\n",
    "import plotly.graph_objects as go   # Control avanzado de gráficos en Plotly\n",
    "import plotly.io as pio             # Interfaz de entrada/salida de Plotly\n",
    "import squarify                     # Visualización de diagramas de \"treemap\"\n",
    "\n",
    "# Procesado y análisis\n",
    "from scipy import stats\n",
    "from scipy.stats import chi2_contingency # Pruebas de hipótesis y análisis estadístico\n",
    "from scipy.stats import norm\n",
    "\n",
    "import warnings\n",
    "warnings.filterwarnings(\"ignore\")#ignorar advertencias\n",
    "\n",
    "#Paleta de colores oficial\n",
    "custom_palette = [\"#2E2F36\", \"#5F6F81\", \"#AABBC8\", \"#DCE3EA\", \"#2CCED1\"]"
   ]
  },
  {
   "cell_type": "markdown",
   "id": "22695488",
   "metadata": {},
   "source": [
    "#### Carga de datos"
   ]
  },
  {
   "cell_type": "code",
   "execution_count": 44,
   "id": "a4590c76",
   "metadata": {},
   "outputs": [],
   "source": [
    "df = pd.read_csv('../Data/df_250519.csv')"
   ]
  },
  {
   "cell_type": "markdown",
   "id": "ea83e222",
   "metadata": {},
   "source": [
    "#### Tabla relacion Prestamos e hipotecas\n",
    "Se analiza si tiene prestamo, si tiene hipoteca, Saldo medio y tasa de incumplimiento"
   ]
  },
  {
   "cell_type": "code",
   "execution_count": 45,
   "id": "23220747",
   "metadata": {},
   "outputs": [
    {
     "name": "stdout",
     "output_type": "stream",
     "text": [
      "   Tiene préstamo  Tiene hipoteca  Saldo medio  Tasa incumplimiento  \\\n",
      "0           False           False  1844.047228             0.008864   \n",
      "1           False            True  1365.205982             0.013876   \n",
      "2            True           False   801.467991             0.057395   \n",
      "3            True            True   773.169967             0.026403   \n",
      "\n",
      "   Número de clientes  \n",
      "0                7559  \n",
      "1                6486  \n",
      "2                 906  \n",
      "3                1212  \n"
     ]
    },
    {
     "data": {
      "image/png": "[encoded data removed]",
      "text/plain": [
       "<Figure size 640x480 with 1 Axes>"
      ]
     },
     "metadata": {},
     "output_type": "display_data"
    }
   ],
   "source": [
    "Tabla_agrupada = df.groupby(['loan', 'housing']).agg({'balance': 'mean','default': 'mean','id': 'count'}).reset_index()\n",
    "Tabla_agrupada.columns = ['Tiene préstamo', 'Tiene hipoteca', 'Saldo medio', 'Tasa incumplimiento', 'Número de clientes'] \n",
    "print(Tabla_agrupada)\n",
    "\n",
    "'''Este grafico se puede cambiar de orden para mostrar lade manera inversa \n",
    "prestamo como Hue y hipoteca como x'''\n",
    "\n",
    "sns.barplot(data=Tabla_agrupada, x='Tiene préstamo', y='Tasa incumplimiento', hue='Tiene hipoteca')\n",
    "plt.title(\"Tasa de incumplimiento por tipo de préstamo e hipoteca\")\n",
    "plt.ylabel(\"Tasa de incumplimiento\")\n",
    "plt.show()"
   ]
  },
  {
   "cell_type": "markdown",
   "id": "f98b58f8",
   "metadata": {},
   "source": [
    "### Razon de monomios\n",
    "chances de incumplimiento al tener un prestamo o hipoteca\n",
    "La razón de momios (odds ratio) se calcula así:\n",
    "odds ratio = odds de default en expuesto / odds de default en no expuestos.\n",
    "\n",
    "donde :\n",
    "\n",
    "odds de default en expuesto  = personas con inpago y con (prestamo, hipoteca) / personas sin inpago y con (prestamo, hipoteca)\n",
    "\n",
    "odds de default en no expuestos = personas con inpago y sin (prestamo, hipoteca) / personas sin inpago y sin (prestamo, hipoteca)\n",
    "\n"
   ]
  },
  {
   "cell_type": "markdown",
   "id": "556162b1",
   "metadata": {},
   "source": [
    "#### Nota\n",
    "use odds ratio en lugar de riesgo relativo pues tengo la intencion de hacer una regresion logistica si da tiempo"
   ]
  },
  {
   "cell_type": "code",
   "execution_count": 46,
   "id": "8d80f8e3",
   "metadata": {},
   "outputs": [
    {
     "name": "stdout",
     "output_type": "stream",
     "text": [
      "📊 Tabla de contingencia entre 'loan' y 'default':\n",
      "default  False  True \n",
      "loan                 \n",
      "False    13888    157\n",
      "True      2034     84\n",
      "\n",
      "odds_sin_loan: 0.04129793510324484\n",
      "odds_con_loan : 0.011304723502304147\n",
      "odds_ratio: 3.6531574695150595\n",
      "📊 Tabla de contingencia entre 'housing' y 'default':\n",
      "default  False  True \n",
      "housing              \n",
      "False     8346    119\n",
      "True      7576    122\n",
      "\n",
      "odds_sin_housing: 0.016103484688489968\n",
      "odds_con_housing : 0.014258327342439491\n",
      "odds_ratio: 1.1294091026061956\n"
     ]
    }
   ],
   "source": [
    "def odds_ratio(df, column_a, column_b):\n",
    "    \"\"\"Calcula la razón de probabilidades (odds ratio) entre dos grupos.\"\"\"\n",
    "    tabla_contingencia = pd.crosstab(df[column_a],df[column_b] )\n",
    "    A= tabla_contingencia.iloc[1, 1] \n",
    "    B= tabla_contingencia.iloc[1, 0] \n",
    "    C= tabla_contingencia.iloc[0, 1]\n",
    "    D= tabla_contingencia.iloc[0, 0]\n",
    "    # Evitar divisiones por cero\n",
    "    if B == 0 or D == 0:\n",
    "        print(\"⚠️ Uno de los valores es cero, no se puede calcular la razón de momios.\")\n",
    "        return None\n",
    "    odds_expuesto = A / B\n",
    "    odds_no_expuesto = C / D\n",
    "    odds_ratio = odds_expuesto /odds_no_expuesto\n",
    "    print(f\"📊 Tabla de contingencia entre '{column_a}' y '{column_b}':\\n{tabla_contingencia}\\n\")\n",
    "    print(f\"odds_sin_{column_a}: {odds_expuesto}\")\n",
    "    print(f\"odds_con_{column_a} : {odds_no_expuesto}\")\n",
    "    print(f\"odds_ratio: {odds_ratio}\")\n",
    "    \n",
    "# aplicar la función a los datos\n",
    "odds_ratio(df, 'loan', 'default')\n",
    "odds_ratio(df, 'housing', 'default')\n"
   ]
  },
  {
   "cell_type": "markdown",
   "id": "b3176d9b",
   "metadata": {},
   "source": [
    "### Calculo del intervalo de confianza\n",
    "calculado al 95% "
   ]
  },
  {
   "cell_type": "code",
   "execution_count": 47,
   "id": "c7b4b518",
   "metadata": {},
   "outputs": [
    {
     "name": "stdout",
     "output_type": "stream",
     "text": [
      "📊 Odds Ratio entre 'loan' y 'default': 3.6532\n",
      "🔒 Intervalo de confianza 95%: [2.7915, 4.7808]\n",
      "📊 Odds Ratio entre 'housing' y 'default': 1.1294\n",
      "🔒 Intervalo de confianza 95%: [0.8757, 1.4566]\n"
     ]
    }
   ],
   "source": [
    "def calcular_odds_ratio_ic(df, columna_a, columna_b, alpha=0.05):\n",
    "    tabla = pd.crosstab(df[columna_a], df[columna_b])\n",
    "    \n",
    "    # use true/false para evitar errores y confusiones\n",
    "    A = tabla.loc[True, True]\n",
    "    B = tabla.loc[True, False]  \n",
    "    C = tabla.loc[False, True]\n",
    "    D = tabla.loc[False, False]  \n",
    "    odds_expuesto = A / B\n",
    "    odds_no_expuesto = C / D\n",
    "    OR = odds_expuesto /odds_no_expuesto\n",
    "\n",
    "    # Log(OR) y error estándar\n",
    "    log_or = np.log(OR) # logaritmo natural de la razón de momios\n",
    "    se_log_or = np.sqrt(1/A + 1/B + 1/C + 1/D) # error estándar del logaritmo de la razón de momios\n",
    "    # Intervalo de confianza\n",
    "    z = norm.ppf(1 - alpha / 2) # valor crítico para el nivel de confianza\n",
    "    lower = np.exp(log_or - z * se_log_or) # intervalo inferior\n",
    "    upper = np.exp(log_or + z * se_log_or) # intervalo superior\n",
    "\n",
    "    print(f\"📊 Odds Ratio entre '{columna_a}' y '{columna_b}': {OR:.4f}\")\n",
    "    print(f\"🔒 Intervalo de confianza {int((1-alpha)*100)}%: [{lower:.4f}, {upper:.4f}]\")\n",
    "    \n",
    "    \n",
    "\n",
    "# Aplicar la función a los datos\n",
    "calcular_odds_ratio_ic(df, 'loan', 'default')\n",
    "calcular_odds_ratio_ic(df, 'housing', 'default')"
   ]
  },
  {
   "cell_type": "markdown",
   "id": "f9424fd4",
   "metadata": {},
   "source": [
    "### Chi cuadrado\n",
    "comprobar la relaciond variables categoricas"
   ]
  },
  {
   "cell_type": "code",
   "execution_count": 48,
   "id": "9860a793",
   "metadata": {},
   "outputs": [
    {
     "name": "stdout",
     "output_type": "stream",
     "text": [
      "\n",
      "Test Chi-cuadrado entre 'loan' y 'default'\n",
      "Tabla de contingencia:\n",
      " default  False  True \n",
      "loan                 \n",
      "False    13888    157\n",
      "True      2034     84\n",
      "Chi2 = 99.7154, p-valor = 0.0000, grados de libertad = 1\n",
      "❗Hay evidencia estadística de asociación entre las variables.\n",
      "\n",
      "Test Chi-cuadrado entre 'housing' y 'default'\n",
      "Tabla de contingencia:\n",
      " default  False  True \n",
      "housing              \n",
      "False     8346    119\n",
      "True      7576    122\n",
      "Chi2 = 0.7622, p-valor = 0.3826, grados de libertad = 1\n",
      "✅ No se detecta asociación estadísticamente significativa.\n"
     ]
    }
   ],
   "source": [
    "# Función para ejecutar Chi-cuadrado entre default y una variable categórica\n",
    "def Funcion_Chi2(df, column):\n",
    "    Tabla_contingencia = pd.crosstab(df[column], df['default'])\n",
    "    chi2, p, dof, expected = chi2_contingency(Tabla_contingencia)\n",
    "    print(f\"\\nTest Chi-cuadrado entre '{column}' y 'default'\")\n",
    "    print(\"Tabla de contingencia:\\n\", Tabla_contingencia)\n",
    "    print(f\"Chi2 = {chi2:.4f}, p-valor = {p:.4f}, grados de libertad = {dof}\")\n",
    "    if p < 0.05:\n",
    "        print(\"❗Hay evidencia estadística de asociación entre las variables.\")\n",
    "    else:\n",
    "        print(\"✅ No se detecta asociación estadísticamente significativa.\")\n",
    "\n",
    "# Aplicar a 'loan' y 'housing'\n",
    "Funcion_Chi2(df, 'loan')\n",
    "Funcion_Chi2(df, 'housing')"
   ]
  },
  {
   "cell_type": "markdown",
   "id": "7fe56c9e",
   "metadata": {},
   "source": [
    "# KPIs"
   ]
  },
  {
   "cell_type": "markdown",
   "id": "9ffd2dfd",
   "metadata": {},
   "source": [
    "- saldo medio gral\n",
    "- saldo medio por decil\n",
    "- % clientes por tasa de riesgo\n",
    "- % clientes con hipoteca\n",
    "- % clientes con préstamo\n",
    "- % clientes con hipoteca + préstamo\n",
    "- tasa contratación depósito\n",
    "- tasa incumplimiento\n",
    "- probabilidad de incumplimiento global"
   ]
  },
  {
   "cell_type": "code",
   "execution_count": 49,
   "id": "8481d1db",
   "metadata": {},
   "outputs": [
    {
     "name": "stdout",
     "output_type": "stream",
     "text": [
      "1.5 k€\n"
     ]
    }
   ],
   "source": [
    "# Saldo medio general\n",
    "saldo_medio = df['balance'].mean()\n",
    "print(round((saldo_medio/1000),1), \"k€\")"
   ]
  },
  {
   "cell_type": "code",
   "execution_count": null,
   "id": "dcacc173",
   "metadata": {},
   "outputs": [
    {
     "name": "stdout",
     "output_type": "stream",
     "text": [
      "47.63%\n"
     ]
    }
   ],
   "source": [
    "# % de clientes con hipoteca\n",
    "con_hipoteca = df['housing'].value_counts().get(True)\n",
    "total = len(df['housing'])\n",
    "\n",
    "hipoteca_pct = 100 * con_hipoteca / total\n",
    "print(f\"{hipoteca_pct:.2f}%\")"
   ]
  },
  {
   "cell_type": "code",
   "execution_count": 56,
   "id": "dc145eda",
   "metadata": {},
   "outputs": [
    {
     "name": "stdout",
     "output_type": "stream",
     "text": [
      "13.10%\n"
     ]
    }
   ],
   "source": [
    "# % de clientes con préstamo\n",
    "con_prestamo = df['loan'].value_counts().get(True)\n",
    "total = len(df['loan'])\n",
    "\n",
    "prestamo_pct = 100 * con_prestamo / total\n",
    "print(f\"{prestamo_pct:.2f}%\")"
   ]
  },
  {
   "cell_type": "code",
   "execution_count": 57,
   "id": "ed10724c",
   "metadata": {},
   "outputs": [
    {
     "name": "stdout",
     "output_type": "stream",
     "text": [
      "7.50%\n"
     ]
    }
   ],
   "source": [
    "# % de clientes con ambos\n",
    "con_ambos = len(df[(df['loan'] == True) & (df['housing'] == True)])\n",
    "total = len(df)\n",
    "\n",
    "ambos_pct = 100 * con_ambos / total\n",
    "print(f\"{ambos_pct:.2f}%\")"
   ]
  },
  {
   "cell_type": "code",
   "execution_count": 58,
   "id": "a98c84fc",
   "metadata": {},
   "outputs": [
    {
     "name": "stdout",
     "output_type": "stream",
     "text": [
      "47.71%\n"
     ]
    }
   ],
   "source": [
    "# % contratacion deposito\n",
    "contratan = df['deposit'].value_counts().get(True)\n",
    "total = len(df['deposit'])\n",
    "\n",
    "deposito_pct = 100 * contratan / total\n",
    "print(f\"{deposito_pct:.2f}%\")"
   ]
  },
  {
   "cell_type": "code",
   "execution_count": null,
   "id": "207fd28a",
   "metadata": {},
   "outputs": [
    {
     "name": "stdout",
     "output_type": "stream",
     "text": [
      "PD global = 1.49 %\n"
     ]
    }
   ],
   "source": [
    "# Probabilidad de incumplimiento global\n",
    "pd_global = df['default'].mean()\n",
    "print(\"PD global =\", round(pd_global*100, 2), \"%\")"
   ]
  },
  {
   "cell_type": "code",
   "execution_count": 24,
   "id": "472edd9b",
   "metadata": {},
   "outputs": [
    {
     "name": "stdout",
     "output_type": "stream",
     "text": [
      "   balance_decile  default  indice_riesgo\n",
      "0               1   0.0680           4.56\n",
      "1               2   0.0302           2.03\n",
      "2               3   0.0149           1.00\n",
      "3               4   0.0087           0.58\n",
      "4               5   0.0037           0.25\n",
      "5               6   0.0025           0.17\n",
      "6               7   0.0068           0.46\n",
      "7               8   0.0006           0.04\n",
      "8               9   0.0006           0.04\n",
      "9              10   0.0012           0.08\n"
     ]
    }
   ],
   "source": [
    "#  Crear deciles de balance para agrupar clientes en 10 grupos iguales\n",
    "df['balance_decile'] = pd.qcut(df['balance'], q=10, labels=False)\n",
    "\n",
    "# Calcular la tasa de incumplimiento (default) por cada decil\n",
    "default_rates = (df.groupby('balance_decile')['default'].mean().reset_index()) #la media aritmética en ese grupo equivale a la proporción (o tasa) de incumplimiento\n",
    "default_rates['default'] = default_rates['default'].round(4) \n",
    "default_rates['balance_decile'] = default_rates['balance_decile'] + 1\n",
    "\n",
    "# Calculamos el indice de riesgo por decil riesgo/riesgo global\n",
    "default_rates['indice_riesgo'] = default_rates['default'] / pd_global\n",
    "default_rates['indice_riesgo'] = default_rates['indice_riesgo'].round(2)\n",
    "print(default_rates)"
   ]
  },
  {
   "cell_type": "code",
   "execution_count": 27,
   "id": "e29a3fc8",
   "metadata": {},
   "outputs": [
    {
     "data": {
      "application/vnd.microsoft.datawrangler.viewer.v0+json": {
       "columns": [
        {
         "name": "index",
         "rawType": "int64",
         "type": "integer"
        },
        {
         "name": "balance_decile",
         "rawType": "int64",
         "type": "integer"
        },
        {
         "name": "default",
         "rawType": "float64",
         "type": "float"
        },
        {
         "name": "indice_riesgo",
         "rawType": "float64",
         "type": "float"
        },
        {
         "name": "clientes",
         "rawType": "int64",
         "type": "integer"
        },
        {
         "name": "porcentaje_clientes",
         "rawType": "float64",
         "type": "float"
        }
       ],
       "conversionMethod": "pd.DataFrame",
       "ref": "0645af13-3db2-46f5-a473-a40d7ae38e46",
       "rows": [
        [
         "0",
         "1",
         "0.068",
         "4.56",
         "1126",
         "6.97"
        ],
        [
         "1",
         "2",
         "0.0302",
         "2.03",
         "1613",
         "9.98"
        ],
        [
         "2",
         "3",
         "0.0149",
         "1.0",
         "1615",
         "9.99"
        ],
        [
         "3",
         "4",
         "0.0087",
         "0.58",
         "1613",
         "9.98"
        ],
        [
         "4",
         "5",
         "0.0037",
         "0.25",
         "1618",
         "10.01"
        ],
        [
         "5",
         "6",
         "0.0025",
         "0.17",
         "1612",
         "9.97"
        ],
        [
         "6",
         "7",
         "0.0068",
         "0.46",
         "1622",
         "10.04"
        ],
        [
         "7",
         "8",
         "0.0006",
         "0.04",
         "1610",
         "9.96"
        ],
        [
         "8",
         "9",
         "0.0006",
         "0.04",
         "1617",
         "10.0"
        ]
       ],
       "shape": {
        "columns": 5,
        "rows": 9
       }
      },
      "text/html": [
       "<div>\n",
       "<style scoped>\n",
       "    .dataframe tbody tr th:only-of-type {\n",
       "        vertical-align: middle;\n",
       "    }\n",
       "\n",
       "    .dataframe tbody tr th {\n",
       "        vertical-align: top;\n",
       "    }\n",
       "\n",
       "    .dataframe thead th {\n",
       "        text-align: right;\n",
       "    }\n",
       "</style>\n",
       "<table border=\"1\" class=\"dataframe\">\n",
       "  <thead>\n",
       "    <tr style=\"text-align: right;\">\n",
       "      <th></th>\n",
       "      <th>balance_decile</th>\n",
       "      <th>default</th>\n",
       "      <th>indice_riesgo</th>\n",
       "      <th>clientes</th>\n",
       "      <th>porcentaje_clientes</th>\n",
       "    </tr>\n",
       "  </thead>\n",
       "  <tbody>\n",
       "    <tr>\n",
       "      <th>0</th>\n",
       "      <td>1</td>\n",
       "      <td>0.0680</td>\n",
       "      <td>4.56</td>\n",
       "      <td>1126</td>\n",
       "      <td>6.97</td>\n",
       "    </tr>\n",
       "    <tr>\n",
       "      <th>1</th>\n",
       "      <td>2</td>\n",
       "      <td>0.0302</td>\n",
       "      <td>2.03</td>\n",
       "      <td>1613</td>\n",
       "      <td>9.98</td>\n",
       "    </tr>\n",
       "    <tr>\n",
       "      <th>2</th>\n",
       "      <td>3</td>\n",
       "      <td>0.0149</td>\n",
       "      <td>1.00</td>\n",
       "      <td>1615</td>\n",
       "      <td>9.99</td>\n",
       "    </tr>\n",
       "    <tr>\n",
       "      <th>3</th>\n",
       "      <td>4</td>\n",
       "      <td>0.0087</td>\n",
       "      <td>0.58</td>\n",
       "      <td>1613</td>\n",
       "      <td>9.98</td>\n",
       "    </tr>\n",
       "    <tr>\n",
       "      <th>4</th>\n",
       "      <td>5</td>\n",
       "      <td>0.0037</td>\n",
       "      <td>0.25</td>\n",
       "      <td>1618</td>\n",
       "      <td>10.01</td>\n",
       "    </tr>\n",
       "    <tr>\n",
       "      <th>5</th>\n",
       "      <td>6</td>\n",
       "      <td>0.0025</td>\n",
       "      <td>0.17</td>\n",
       "      <td>1612</td>\n",
       "      <td>9.97</td>\n",
       "    </tr>\n",
       "    <tr>\n",
       "      <th>6</th>\n",
       "      <td>7</td>\n",
       "      <td>0.0068</td>\n",
       "      <td>0.46</td>\n",
       "      <td>1622</td>\n",
       "      <td>10.04</td>\n",
       "    </tr>\n",
       "    <tr>\n",
       "      <th>7</th>\n",
       "      <td>8</td>\n",
       "      <td>0.0006</td>\n",
       "      <td>0.04</td>\n",
       "      <td>1610</td>\n",
       "      <td>9.96</td>\n",
       "    </tr>\n",
       "    <tr>\n",
       "      <th>8</th>\n",
       "      <td>9</td>\n",
       "      <td>0.0006</td>\n",
       "      <td>0.04</td>\n",
       "      <td>1617</td>\n",
       "      <td>10.00</td>\n",
       "    </tr>\n",
       "  </tbody>\n",
       "</table>\n",
       "</div>"
      ],
      "text/plain": [
       "   balance_decile  default  indice_riesgo  clientes  porcentaje_clientes\n",
       "0               1   0.0680           4.56      1126                 6.97\n",
       "1               2   0.0302           2.03      1613                 9.98\n",
       "2               3   0.0149           1.00      1615                 9.99\n",
       "3               4   0.0087           0.58      1613                 9.98\n",
       "4               5   0.0037           0.25      1618                10.01\n",
       "5               6   0.0025           0.17      1612                 9.97\n",
       "6               7   0.0068           0.46      1622                10.04\n",
       "7               8   0.0006           0.04      1610                 9.96\n",
       "8               9   0.0006           0.04      1617                10.00"
      ]
     },
     "execution_count": 27,
     "metadata": {},
     "output_type": "execute_result"
    }
   ],
   "source": [
    "\"\"\"Añado la cantidad de clientes en cada decil\"\"\"\n",
    "\n",
    "clientes_por_decil = df['balance_decile'].value_counts().sort_index()\n",
    "clientes_totales = len(df)\n",
    "\n",
    "clientes_stats = pd.DataFrame({\n",
    "    'balance_decile': clientes_por_decil.index,\n",
    "    'clientes': clientes_por_decil.values,\n",
    "    'porcentaje_clientes': np.round((clientes_por_decil.values / clientes_totales * 100), 2)\n",
    "})\n",
    "\n",
    "default_rates_clients = default_rates.merge(clientes_stats, on='balance_decile')\n",
    "default_rates_clients\n"
   ]
  },
  {
   "cell_type": "code",
   "execution_count": 29,
   "id": "3ea3d4b8",
   "metadata": {},
   "outputs": [],
   "source": [
    "def categorize_risk(rate):\n",
    "    if rate > 0.10:\n",
    "        return 'Muy alto'\n",
    "    elif rate > 0.05:\n",
    "        return 'Alto'\n",
    "    elif rate > 0.02:\n",
    "        return 'Moderado'\n",
    "    else:\n",
    "        return 'Bajo'"
   ]
  },
  {
   "cell_type": "code",
   "execution_count": 32,
   "id": "7f787951",
   "metadata": {},
   "outputs": [
    {
     "data": {
      "application/vnd.microsoft.datawrangler.viewer.v0+json": {
       "columns": [
        {
         "name": "index",
         "rawType": "int64",
         "type": "integer"
        },
        {
         "name": "risk_level",
         "rawType": "category",
         "type": "unknown"
        },
        {
         "name": "porcentaje_clientes",
         "rawType": "int64",
         "type": "integer"
        }
       ],
       "conversionMethod": "pd.DataFrame",
       "ref": "bbabaf83-38a3-4f46-9b3a-6c7eeb6238c6",
       "rows": [
        [
         "0",
         "Alto",
         "6"
        ],
        [
         "2",
         "Moderado",
         "9"
        ],
        [
         "1",
         "Bajo",
         "69"
        ]
       ],
       "shape": {
        "columns": 2,
        "rows": 3
       }
      },
      "text/html": [
       "<div>\n",
       "<style scoped>\n",
       "    .dataframe tbody tr th:only-of-type {\n",
       "        vertical-align: middle;\n",
       "    }\n",
       "\n",
       "    .dataframe tbody tr th {\n",
       "        vertical-align: top;\n",
       "    }\n",
       "\n",
       "    .dataframe thead th {\n",
       "        text-align: right;\n",
       "    }\n",
       "</style>\n",
       "<table border=\"1\" class=\"dataframe\">\n",
       "  <thead>\n",
       "    <tr style=\"text-align: right;\">\n",
       "      <th></th>\n",
       "      <th>risk_level</th>\n",
       "      <th>porcentaje_clientes</th>\n",
       "    </tr>\n",
       "  </thead>\n",
       "  <tbody>\n",
       "    <tr>\n",
       "      <th>0</th>\n",
       "      <td>Alto</td>\n",
       "      <td>6</td>\n",
       "    </tr>\n",
       "    <tr>\n",
       "      <th>2</th>\n",
       "      <td>Moderado</td>\n",
       "      <td>9</td>\n",
       "    </tr>\n",
       "    <tr>\n",
       "      <th>1</th>\n",
       "      <td>Bajo</td>\n",
       "      <td>69</td>\n",
       "    </tr>\n",
       "  </tbody>\n",
       "</table>\n",
       "</div>"
      ],
      "text/plain": [
       "  risk_level  porcentaje_clientes\n",
       "0       Alto                    6\n",
       "2   Moderado                    9\n",
       "1       Bajo                   69"
      ]
     },
     "execution_count": 32,
     "metadata": {},
     "output_type": "execute_result"
    }
   ],
   "source": [
    "\"\"\"Añado porcentaje de clientes por categoría de riesgo\"\"\"\n",
    "default_rates_clients['risk_level'] = default_rates_clients['default'].apply(categorize_risk)\n",
    "\n",
    "porcentaje_riesgo = default_rates_clients.groupby('risk_level')['porcentaje_clientes'].sum().reset_index()\n",
    "\n",
    "orden = ['Muy alto', 'Alto', 'Moderado', 'Bajo']\n",
    "porcentaje_riesgo['risk_level'] = pd.Categorical(porcentaje_riesgo['risk_level'], categories=orden, ordered=True)\n",
    "porcentaje_riesgo = porcentaje_riesgo.sort_values('risk_level')\n",
    "porcentaje_riesgo['porcentaje_clientes'] = porcentaje_riesgo['porcentaje_clientes'].astype(int)\n",
    "porcentaje_riesgo"
   ]
  }
 ],
 "metadata": {
  "kernelspec": {
   "display_name": "base",
   "language": "python",
   "name": "python3"
  },
  "language_info": {
   "codemirror_mode": {
    "name": "ipython",
    "version": 3
   },
   "file_extension": ".py",
   "mimetype": "text/x-python",
   "name": "python",
   "nbconvert_exporter": "python",
   "pygments_lexer": "ipython3",
   "version": "3.12.7"
  }
 },
 "nbformat": 4,
 "nbformat_minor": 5
}
