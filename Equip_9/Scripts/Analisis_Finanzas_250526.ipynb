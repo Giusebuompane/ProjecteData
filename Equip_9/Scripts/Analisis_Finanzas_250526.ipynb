{
 "cells": [
  {
   "cell_type": "markdown",
   "id": "b21216c5",
   "metadata": {},
   "source": [
    "## Pregunta de Negocio - Analistes de Finances i Risc Crediticio\n",
    "\n",
    "> ¿Qué **umbrales de saldo** podrían indicar mayor **riesgo de morosidad**?\n"
   ]
  },
  {
   "cell_type": "markdown",
   "id": "0debbc80",
   "metadata": {},
   "source": [
    "## Librerías y Carga de datos"
   ]
  },
  {
   "cell_type": "code",
   "execution_count": null,
   "id": "8f26433b",
   "metadata": {},
   "outputs": [],
   "source": [
    "\"\"\"Librerías que pueden ser necesarias\"\"\"\n",
    "\n",
    "# Manejo de datos\n",
    "import pandas as pd                 # Análisis y manipulación de datos en tablas\n",
    "import numpy as np                  # Cálculos numéricos y matrices\n",
    "import os                           # Gestión de rutas de archivos\n",
    "\n",
    "# Visualización de datos\n",
    "import matplotlib.pyplot as plt     # Gráficos básicos en 2D\n",
    "import seaborn as sns               # Gráficos estadísticos mejorados\n",
    "import plotly.express as px         # Gráficos interactivos simplificados\n",
    "import plotly.graph_objects as go   # Control avanzado de gráficos en Plotly\n",
    "import plotly.io as pio             # Interfaz de entrada/salida de Plotly\n",
    "import squarify                     # Visualización de diagramas de \"treemap\"\n",
    "\n",
    "# Procesado y análisis\n",
    "from scipy import stats\n",
    "from scipy.stats import chi2_contingency, norm, ttest_ind, f_oneway # Pruebas de hipótesis y análisis estadístico\n",
    "from matplotlib.patches import Patch\n",
    "from sklearn.linear_model import LogisticRegression\n",
    "from sklearn.isotonic import IsotonicRegression\n",
    "from sklearn.model_selection import train_test_split\n",
    "from sklearn.tree import DecisionTreeClassifier, plot_tree\n",
    "from sklearn.metrics import classification_report,roc_auc_score, confusion_matrix,roc_curve, auc\n",
    "\n",
    "import warnings\n",
    "warnings.filterwarnings(\"ignore\")#ignorar advertencias\n",
    "\n",
    "\n",
    "#Paleta de colores oficial\n",
    "custom_palette = [ \"#2CCED1\", \"#5F6F81\", \"#AABBC8\", \"#DCE3EA\", \"#2E2F36\"]"
   ]
  },
  {
   "cell_type": "code",
   "execution_count": null,
   "id": "67e04b7b",
   "metadata": {},
   "outputs": [],
   "source": [
    "df = pd.read_csv(\"../Data/df_250526.csv\")"
   ]
  },
  {
   "cell_type": "markdown",
   "id": "7461ec57",
   "metadata": {},
   "source": [
    "### Tratamiento previo de los datos\n",
    "#### Para saldo que tiene muchos outliers, transformación logarítmica \n",
    "Reduce la asimetria de la variable y mejora la normalidad de la distribución, conservando el orden relativo de los valores.\n",
    "#### Para default que tiene mucho sesgo, balanceo de clases\n",
    "esto lo hacemos dentro de la función de entrenamiento del modelo, para que no afecte a la métrica de evaluación. (class_weight='balanced')"
   ]
  },
  {
   "cell_type": "code",
   "execution_count": null,
   "id": "1e5c279b",
   "metadata": {},
   "outputs": [],
   "source": [
    "\n",
    "# Evita problemas con valores negativos o cero\n",
    "'''df['balance_log'] = np.log(df['balance'] + 1)\n",
    "descartado me da valores NaN para los negativos'''\n",
    "\n",
    "# Solo mantener registros con balance positivo\n",
    "'''df['balance_log'] = df['balance'].apply(lambda x: np.log(x + 1) if x >= 0 else np.nan) \n",
    "Tambien descartado pues me quita los negativos y sigo con valores NaN'''\n",
    "# transformacion simetrica logaritmica , para evitar valores NaN y mejorar la normalidad  conservar el signo de los valores negativos.\n",
    "'''df['balance_log'] = df['balance'].apply(lambda x: np.sign(x) * np.log1p(abs(x))) \n",
    "Otro descarte pues me acumula artificialmente entorno a 0 lo que me da un pico en 0 y no me sirve para nada'''\n",
    "\n",
    "#logaritmo hiperbólico inverso, para ver si logro eliminar el pico en 0\n",
    "df['balance_log'] = np.arcsinh(df['balance'])\n",
    "'''Al final acepte que hubiera pico en 0 pues en realidad los datos se concentran \n",
    "entorno a este valor por lo que me parece razonable\n",
    "y no me afecta a la normalidad de la variable.'''"
   ]
  },
  {
   "cell_type": "markdown",
   "id": "3066eba9",
   "metadata": {},
   "source": [
    "## KPIs"
   ]
  },
  {
   "cell_type": "markdown",
   "id": "5e3391f8",
   "metadata": {},
   "source": [
    "1. SALDO MEDIO GENERAL\n",
    "2. PORCENTAJE DE CLIENTES POR TIPO DE PAQUETE CONTRATADO\n",
    "3. SALDO MEDIO POR CATEGORÍA DE CRÉDITO\n",
    "4. PROBABILIDAD DE INCUMPLIMIENTO (PD) GLOBAL\n",
    "5. ANÁLISIS POR DECILES DE SALDO"
   ]
  },
  {
   "cell_type": "code",
   "execution_count": null,
   "id": "39b3485f",
   "metadata": {},
   "outputs": [],
   "source": [
    "#  1. SALDO MEDIO GENERAL\n",
    "saldo_medio_global = df['balance'].mean()\n",
    "print(f\"Saldo medio general: {round(saldo_medio_global / 1000, 1)} k€\")"
   ]
  },
  {
   "cell_type": "code",
   "execution_count": null,
   "id": "e8c94b87",
   "metadata": {},
   "outputs": [],
   "source": [
    "#  2. PORCENTAJE DE CLIENTES POR TIPO DE PAQUETE CONTRATADO\n",
    "total_clientes = len(df)\n",
    "\n",
    "pct_hipoteca = 100 * df['housing'].value_counts().get(True, 0) / total_clientes\n",
    "pct_prestamo = 100 * df['loan'].value_counts().get(True, 0) / total_clientes\n",
    "pct_ambos = 100 * len(df[df['loan'] & df['housing']]) / total_clientes\n",
    "pct_deposito = 100 * df['deposit'].value_counts().get(True, 0) / total_clientes\n",
    "\n",
    "print(f\"% con hipoteca: {pct_hipoteca:.2f}%\")\n",
    "print(f\"% con préstamo: {pct_prestamo:.2f}%\")\n",
    "print(f\"% con ambos: {pct_ambos:.2f}%\")\n",
    "print(f\"% contratación de depósito: {pct_deposito:.2f}%\")"
   ]
  },
  {
   "cell_type": "code",
   "execution_count": null,
   "id": "8981e360",
   "metadata": {},
   "outputs": [],
   "source": [
    "#  3. SALDO MEDIO POR CATEGORÍA DE CRÉDITO\n",
    "def categorize_credit(row):\n",
    "    if not row['loan'] and not row['housing']:\n",
    "        return 'Sin créditos'\n",
    "    elif not row['loan'] and row['housing']:\n",
    "        return 'Sólo hipoteca'\n",
    "    elif row['loan'] and not row['housing']:\n",
    "        return 'Sólo préstamo'\n",
    "    else:\n",
    "        return 'Ambos'\n",
    "\n",
    "df['categoria_credito'] = df.apply(categorize_credit, axis=1)\n",
    "\n",
    "balance_promedio = df.groupby('categoria_credito')['balance'].mean()\n",
    "clientes_por_categoria = df['categoria_credito'].value_counts()\n",
    "df_balance = pd.DataFrame({\n",
    "    'categoria_credito': balance_promedio.index,\n",
    "    'balance_promedio': balance_promedio.values,\n",
    "    'clientes_por_categoria': clientes_por_categoria[balance_promedio.index].values\n",
    "})\n",
    "df_balance['pct_clientes'] = (df_balance['clientes_por_categoria'] / total_clientes * 100).round(1)\n",
    "\n",
    "orden = ['Sin créditos', 'Sólo hipoteca', 'Sólo préstamo', 'Ambos']\n",
    "df_balance['categoria_credito'] = pd.Categorical(df_balance['categoria_credito'], categories=orden, ordered=True)\n",
    "df_balance = df_balance.sort_values('categoria_credito').reset_index(drop=True)\n",
    "\n",
    "print(df_balance)\n",
    "\n",
    "# Pie chart de distribución por tipo de crédito\n",
    "plt.figure(figsize=(5, 5))\n",
    "plt.pie(\n",
    "    df_balance['pct_clientes'],\n",
    "    labels=df_balance['categoria_credito'],\n",
    "    labeldistance=1.05,\n",
    "    autopct='%1.1f%%',\n",
    "    colors=custom_palette,\n",
    "    wedgeprops={'linewidth': 1, 'edgecolor': 'white'}\n",
    ")\n",
    "plt.title(\"Distribución de clientes por tipo de crédito contratado\")\n",
    "plt.show()"
   ]
  },
  {
   "cell_type": "code",
   "execution_count": null,
   "id": "4fc785bb",
   "metadata": {},
   "outputs": [],
   "source": [
    "#  4. PROBABILIDAD DE INCUMPLIMIENTO (PD) GLOBAL\n",
    "pd_global = df['default'].mean()\n",
    "print(\"PD global =\", (pd_global*100).round(2), \"%\")"
   ]
  },
  {
   "cell_type": "code",
   "execution_count": null,
   "id": "f9e24681",
   "metadata": {},
   "outputs": [],
   "source": [
    "#  5. ANÁLISIS POR DECILES DE SALDO\n",
    "df['balance_decile'] = pd.qcut(df['balance'], q=10, labels=False) + 1\n",
    "\n",
    "default_rates = (\n",
    "    df.groupby('balance_decile')['default']\n",
    "    .agg(['mean', 'count'])\n",
    "    .rename(columns={'mean': 'default', 'count': 'clientes'})\n",
    "    .reset_index()\n",
    ")\n",
    "default_rates['default'] = default_rates['default'].round(4)\n",
    "default_rates['indice_riesgo'] = (default_rates['default'] / pd_global).round(2)\n",
    "default_rates['porcentaje_clientes'] = (default_rates['clientes'] / total_clientes * 100).round(2)\n",
    "\n",
    "def categorize_risk(rate):\n",
    "    if rate > 0.10:\n",
    "        return 'Muy alto'\n",
    "    elif rate > 0.05:\n",
    "        return 'Alto'\n",
    "    elif rate > 0.02:\n",
    "        return 'Moderado'\n",
    "    return 'Bajo'\n",
    "\n",
    "default_rates['risk_level'] = default_rates['default'].apply(categorize_risk)\n",
    "\n",
    "# Porcentaje de clientes por categoría de riesgo\n",
    "porcentaje_riesgo = (\n",
    "    default_rates.groupby('risk_level')['porcentaje_clientes']\n",
    "    .sum()\n",
    "    .reindex(['Muy alto', 'Alto', 'Moderado', 'Bajo'])\n",
    "    .fillna(0)\n",
    "    .reset_index()\n",
    ")\n",
    "porcentaje_riesgo['porcentaje_clientes'] = porcentaje_riesgo['porcentaje_clientes'].astype(int)\n",
    "\n",
    "print(porcentaje_riesgo)"
   ]
  },
  {
   "cell_type": "markdown",
   "id": "c4d3d96a",
   "metadata": {},
   "source": [
    "## Analisis descriptivo de saldo segun default\n",
    "comparar la distribucion de saldo entre los clientes que han tenido default y los que no.\n",
    "\n",
    "```python"
   ]
  },
  {
   "cell_type": "code",
   "execution_count": null,
   "id": "b86f65e0",
   "metadata": {},
   "outputs": [],
   "source": [
    "promedio = df.groupby('default')['balance'].mean().round(2)\n",
    "mediana = df.groupby('default')['balance'].median().round(2)\n",
    "minimo = df.groupby('default')['balance'].min().round(2)\n",
    "maximo = df.groupby('default')['balance'].max()\n",
    "Descriptiva = pd.DataFrame({\n",
    "    'Promedio': promedio,\n",
    "    'Mediana': mediana,\n",
    "    'Mínimo': minimo,\n",
    "    'Máximo': maximo\n",
    "})\n",
    "\n",
    "promedio = df.groupby('default')['balance_log'].mean().round(2)\n",
    "mediana = df.groupby('default')['balance_log'].median().round(2)\n",
    "minimo = df.groupby('default')['balance_log'].min().round(2)\n",
    "maximo = df.groupby('default')['balance_log'].max()\n",
    "Descriptiva_log = pd.DataFrame({\n",
    "    'Promedio': promedio,\n",
    "    'Mediana': mediana,\n",
    "    'Mínimo': minimo,\n",
    "    'Máximo': maximo\n",
    "})\n",
    "print(\"Análisis descriptivo de la variable balance\")\n",
    "print(Descriptiva)\n",
    "print(\"Analisis descriptivo de la variable balance_log\")\n",
    "print(Descriptiva_log)\n"
   ]
  },
  {
   "cell_type": "markdown",
   "id": "98079efe",
   "metadata": {},
   "source": [
    "#### Comparativa de distribuciones de saldo original y con logaritmo"
   ]
  },
  {
   "cell_type": "code",
   "execution_count": null,
   "id": "557bcde8",
   "metadata": {},
   "outputs": [],
   "source": [
    "#  Crear rangos de balance para agrupar clientes en grupos iguales\n",
    "df['balance_decile'] = pd.qcut(df['balance'], q=15, labels=False)\n",
    "df['balance_log_decile'] = pd.qcut(df['balance_log'], q=15, labels=False)\n",
    "# Visualizar la distribución de la variable 'balance' y su transformación logarítmica\n",
    "fig, axes = plt.subplots(1, 2, figsize=(12, 5))\n",
    "\n",
    "sns.histplot(df['balance'], bins=50, kde=True, ax=axes[0], color='red')\n",
    "axes[0].set_title(\"Distribución original de saldo\")\n",
    "\n",
    "sns.histplot(df['balance_log'], bins=50, kde=True, ax=axes[1], color='green')\n",
    "axes[1].set_title(\"Distribución logarítmica de saldo\")\n",
    "\n",
    "plt.tight_layout()\n",
    "plt.show()\n"
   ]
  },
  {
   "cell_type": "markdown",
   "id": "9d376781",
   "metadata": {},
   "source": [
    "### Agupacion de saldos en rangos"
   ]
  },
  {
   "cell_type": "code",
   "execution_count": null,
   "id": "021b7966",
   "metadata": {},
   "outputs": [],
   "source": [
    "\n",
    "\n",
    "# Calcular la tasa de incumplimiento (default) por cada grupo de saldo\n",
    "default_rates = (df.groupby('balance_decile')['default'].mean().reset_index()) #la media aritmética en ese grupo equivale a la proporción (o tasa) de incumplimiento\n",
    "default_rates['default'] = default_rates['default'].round(4) \n",
    "default_rates['balance_decile'] = default_rates['balance_decile'] + 1\n",
    "Tasa_global_impagos = df['default'].mean()\n",
    "print(f\"Tasa global de incumplimiento: {Tasa_global_impagos:.4f}\")\n",
    "# Calculamos el indice de riesgo por decil riesgo/riesgo global\n",
    "default_rates['indice_riesgo'] = default_rates['default'] / Tasa_global_impagos\n",
    "default_rates['indice_riesgo'] = default_rates['indice_riesgo'].round(2)\n",
    "\n",
    "# === Balance transformado (logarítmico o arcsinh) ===\n",
    "default_rates_log = df.groupby('balance_log_decile')['default'].mean().reset_index()\n",
    "default_rates_log['default'] = default_rates_log['default'].round(4)\n",
    "default_rates_log['balance_log_decile'] += 1\n",
    "default_rates_log['indice_riesgo'] = (default_rates_log['default'] / Tasa_global_impagos).round(2)\n",
    "df['balance_log_decile_range'] = pd.qcut(df['balance_log'], q=15, duplicates='drop')\n",
    "\n",
    "#  Mostrar resultados en consola\n",
    "print(\"Tasa de incumplimiento por decil de saldo:\")\n",
    "print(default_rates)\n",
    "print('Tasa de incumplimiento por decil de saldo logarítmico:')\n",
    "print(default_rates_log)\n",
    "df['balance_decile_range'] = pd.qcut(df['balance'], q=15)\n",
    "\n",
    "# Obtener los intervalos únicos en orden\n",
    "balance_ranges = df['balance_decile_range'].cat.categories\n",
    "decile_labels = [\n",
    "    f\"{i+1}\\n(€{int(interval.left)} - €{int(interval.right)}]\"\n",
    "    for i, interval in enumerate(balance_ranges)\n",
    "]\n",
    "\n",
    "# Etiquetas para los deciles logarítmicos\n",
    "balance_log_ranges = df['balance_log_decile_range'].cat.categories\n",
    "decile_log_labels = [\n",
    "    f\"{i+1}\\n({round(interval.left, 2)} - {round(interval.right, 2)}]\"\n",
    "    for i, interval in enumerate(balance_log_ranges)\n",
    "]\n",
    "\n",
    "#default_rates['risk_level'] = default_rates['default'].apply(categorize_risk)\n",
    "plt.figure(figsize=(12, 6))\n",
    "sns.barplot(data=default_rates, x='balance_decile', y='default', palette=custom_palette, edgecolor='black')\n",
    "plt.axhline(Tasa_global_impagos, color='#4A3369', linestyle='--', label='Tasa global')\n",
    "plt.xticks(ticks=range(15), labels=decile_labels, rotation=45, ha='right')\n",
    "plt.title('Tasa de incumplimiento por rango de saldo original')\n",
    "plt.xlabel('Rango de saldo')\n",
    "plt.ylabel('Tasa de incumplimiento')\n",
    "plt.legend(title='Riesgo')\n",
    "plt.tight_layout()\n",
    "plt.show()\n",
    "\n",
    "\n",
    "# Gráfico para balance_log\n",
    "plt.figure(figsize=(12, 6))\n",
    "sns.barplot(data=default_rates_log, x='balance_log_decile', y='default', palette=custom_palette, edgecolor='black')\n",
    "plt.axhline(Tasa_global_impagos, color='#4A3369', linestyle='--', label='Tasa global')\n",
    "plt.xticks(ticks=range(len(decile_log_labels)), labels=decile_log_labels, rotation=45, ha='right')\n",
    "plt.title('Tasa de incumplimiento por rango de saldo transformado')\n",
    "plt.xlabel('Rango de saldo (balance_log)')\n",
    "plt.ylabel('Tasa de incumplimiento')\n",
    "plt.legend(title='Riesgo')\n",
    "plt.tight_layout()\n",
    "plt.show()\n",
    "\n"
   ]
  },
  {
   "cell_type": "markdown",
   "id": "72131243",
   "metadata": {},
   "source": [
    "Según los datos más recientes del Banco de España, la tasa de morosidad de la banca española cerró 2024 en un 3,32%, la más baja desde finales de 2008 . Este indicador refleja el porcentaje de préstamos impagados en relación con el total de créditos concedidos."
   ]
  },
  {
   "cell_type": "markdown",
   "id": "87ddda85",
   "metadata": {},
   "source": [
    "### Preparacion entrenamiento"
   ]
  },
  {
   "cell_type": "code",
   "execution_count": null,
   "id": "a0ffd95f",
   "metadata": {},
   "outputs": [],
   "source": [
    "# data frame boleano\n",
    "df_bool = df[['default', 'housing', 'loan', 'deposit', 'balance']].copy()\n",
    "\n",
    "\n",
    " \n",
    "\n",
    "for col in ['default','housing', 'loan', 'deposit']:\n",
    "    df_bool[col] = df_bool[col].astype(int)\n",
    "\n",
    "# Definir las variables predictoras y la variable objetivo\n",
    "X = df_bool[[ 'housing', 'loan']]\n",
    "y = df_bool['default']\n",
    "\n",
    "# Dividir el conjunto de datos en entrenamiento y prueba\n",
    "X_train, X_test, y_train, y_test = train_test_split(X, y, test_size=0.3, random_state=42)\n",
    "\n"
   ]
  },
  {
   "cell_type": "markdown",
   "id": "dd9db34f",
   "metadata": {},
   "source": [
    "### Regresion logistica"
   ]
  },
  {
   "cell_type": "code",
   "execution_count": null,
   "id": "360644b9",
   "metadata": {},
   "outputs": [],
   "source": [
    "log_model = LogisticRegression(class_weight='balanced')\n",
    "log_model.fit(X_train, y_train)\n",
    "y_pred = log_model.predict(X_test)\n",
    "y_prob = log_model.predict_proba(X_test)[:,1]\n",
    "# Resultados\n",
    "print(\"=== Regresión Logística ===\")\n",
    "print(confusion_matrix(y_test, y_pred))\n",
    "print(classification_report(y_test, y_pred))\n",
    "print(f\"AUC: {roc_auc_score(y_test, y_prob):.4f}\")\n",
    "\n",
    "coefs = pd.Series(log_model.coef_[0], index=X.columns)\n",
    "print(\"Coeficientes del modelo:\")\n",
    "print(coefs.sort_values(ascending=False))\n",
    "\n"
   ]
  },
  {
   "cell_type": "markdown",
   "id": "a4858edb",
   "metadata": {},
   "source": [
    "### Arbol de decision"
   ]
  },
  {
   "cell_type": "code",
   "execution_count": null,
   "id": "075db242",
   "metadata": {},
   "outputs": [],
   "source": [
    "tree_model = DecisionTreeClassifier(max_depth=4,class_weight='balanced', random_state=42)\n",
    "tree_model.fit(X_train, y_train)\n",
    "\n",
    "y_pred_tree = tree_model.predict(X_test)\n",
    "y_prob_tree = tree_model.predict_proba(X_test)[:,1]\n",
    "\n",
    "print(\"=== Árbol de Decisión ===\")\n",
    "print(confusion_matrix(y_test, y_pred_tree))\n",
    "print(classification_report(y_test, y_pred_tree))\n",
    "print(f\"AUC: {roc_auc_score(y_test, y_prob_tree):.4f}\")\n",
    "\n",
    "# Visualización del árbol\n",
    "plt.figure(figsize=(20, 10))\n",
    "plot_tree(tree_model, feature_names=X.columns, class_names=[\"No Default\", \"Default\"], filled=True)\n",
    "plt.title(\"Árbol de Decisión\")\n",
    "plt.show()"
   ]
  },
  {
   "cell_type": "markdown",
   "id": "6a44d63e",
   "metadata": {},
   "source": [
    "### ROC Curve"
   ]
  },
  {
   "cell_type": "code",
   "execution_count": null,
   "id": "16ddaf12",
   "metadata": {},
   "outputs": [],
   "source": [
    "df_ROC = pd.DataFrame({ \n",
    "    'y_true': y_test,\n",
    "    'p_logreg': y_prob,\n",
    "    'p_tree': y_prob_tree\n",
    "})\n",
    "\n",
    "print(df_ROC.head())\n",
    "# Calcula curvas ROC y AUC\n",
    "fpr_lr, tpr_lr, _ = roc_curve(df_ROC['y_true'], df_ROC['p_logreg'])\n",
    "fpr_dt, tpr_dt, _ = roc_curve(df_ROC['y_true'], df_ROC['p_tree'])\n",
    "auc_lr = auc(fpr_lr, tpr_lr)\n",
    "auc_dt = auc(fpr_dt, tpr_dt)\n",
    "\n",
    "# Dibuja\n",
    "plt.figure()\n",
    "plt.plot(fpr_lr, tpr_lr, label=f'LogReg (AUC = {auc_lr:.3f})')\n",
    "plt.plot(fpr_dt, tpr_dt, label=f'DecTree (AUC = {auc_dt:.3f})')\n",
    "plt.plot([0,1], [0,1], linestyle='--', label='Random baseline')\n",
    "plt.xlabel('Tasa de Falsos Positivos')\n",
    "plt.ylabel('Tasa de Verdaderos Positivos')\n",
    "plt.title('ROC Curve Comparativa')\n",
    "plt.legend(loc='lower right')\n",
    "plt.tight_layout()\n",
    "plt.show()\n"
   ]
  },
  {
   "cell_type": "markdown",
   "id": "e74a2691",
   "metadata": {},
   "source": [
    "### Lift Chart (ganancias)"
   ]
  },
  {
   "cell_type": "code",
   "execution_count": null,
   "id": "86b13f0b",
   "metadata": {},
   "outputs": [],
   "source": [
    "def cumulative_gains(y_true, y_score, n_bins=10):\n",
    "    dfc = pd.DataFrame({'y': y_true, 'score': y_score})\n",
    "    dfc = dfc.sort_values('score', ascending=False).reset_index(drop=True)\n",
    "    dfc['cum_default'] = dfc['y'].cumsum()\n",
    "    dfc['cum_pct_obs'] = (np.arange(len(dfc)) + 1) / len(dfc)\n",
    "    dfc['cum_pct_def'] = dfc['cum_default'] / dfc['y'].sum()\n",
    "    return dfc\n",
    "\n",
    "# Genera curvas\n",
    "cg_lr = cumulative_gains(df_ROC['y_true'], df_ROC['p_logreg'])\n",
    "cg_dt = cumulative_gains(df_ROC['y_true'], df_ROC['p_tree'])\n",
    "\n",
    "plt.figure()\n",
    "plt.plot(cg_lr['cum_pct_obs'], cg_lr['cum_pct_def'], label='LogReg')\n",
    "plt.plot(cg_dt['cum_pct_obs'], cg_dt['cum_pct_def'], label='DecTree')\n",
    "plt.plot([0,1], [0,1], linestyle='--', label='Random baseline')\n",
    "plt.xlabel('% Observaciones (desde mayor score)')\n",
    "plt.ylabel('% Default acumulado')\n",
    "plt.title('Lift Chart / Cumulative Gains')\n",
    "plt.legend(loc='lower right')\n",
    "plt.tight_layout()\n",
    "plt.show()"
   ]
  },
  {
   "cell_type": "markdown",
   "id": "cff1b540",
   "metadata": {},
   "source": [
    "### Curva riesgo saldo"
   ]
  },
  {
   "cell_type": "code",
   "execution_count": null,
   "id": "0791e771",
   "metadata": {},
   "outputs": [],
   "source": [
    "iso = IsotonicRegression(out_of_bounds='clip')\n",
    "iso.fit(df_ROC['p_logreg'], df_ROC['y_true'])\n",
    "\n",
    "# Probabilidades recalibradas\n",
    "df_ROC['p_logreg_calibrated'] = iso.transform(df_ROC['p_logreg'])\n",
    "\n",
    "# Definir bins de balance (p. ej. 15 rangos )\n",
    "df_ROC['balance_bin'] = pd.cut(df['balance'], bins=10)\n",
    "\n",
    "# Para cada bin, promedio de probabilidad y tasa real\n",
    "summary = df_ROC.groupby('balance_bin').agg(\n",
    "    avg_pred_proba = ('p_logreg_calibrated', 'mean'),\n",
    "    real_default_rate = ('y_true', 'mean')\n",
    ").reset_index()\n",
    "\n",
    "plt.figure()\n",
    "plt.plot(summary['balance_bin'].astype(str), summary['avg_pred_proba'], marker='o', label='Probabilidad Predicha')\n",
    "plt.plot(summary['balance_bin'].astype(str), summary['real_default_rate'], marker='x', label='Tasa Real Default')\n",
    "plt.xticks(rotation=45, ha='right')\n",
    "plt.xlabel('Rango de Saldo')\n",
    "plt.ylabel('Proporción')\n",
    "plt.title('Curva de Riesgo vs. Saldo')\n",
    "plt.legend()\n",
    "plt.tight_layout()\n",
    "plt.show()"
   ]
  },
  {
   "cell_type": "markdown",
   "id": "2f4ebd18",
   "metadata": {},
   "source": [
    "## Regresión logística para predicción del default en función del balance\n",
    "Estimar directamente cómo balance afecta la probabilidad de incumplimiento (default)"
   ]
  },
  {
   "cell_type": "code",
   "execution_count": null,
   "id": "26913abd",
   "metadata": {},
   "outputs": [],
   "source": [
    "# convertir variables binarias\n",
    "df[['default']].astype(int)"
   ]
  },
  {
   "cell_type": "code",
   "execution_count": null,
   "id": "f4525ffd",
   "metadata": {},
   "outputs": [],
   "source": [
    "X = df[['balance']]     # predictor\n",
    "y = df['default']       # objetivo --> variable binaria\n",
    "\n",
    "# Dividir los datos en entrenamiento y prueba\n",
    "X_train, X_test, y_train, y_test = train_test_split(X, y, test_size=0.2, random_state=42)\n",
    "\n",
    "# Entrenar el modelo\n",
    "model = LogisticRegression()\n",
    "model.fit(X_train, y_train)\n",
    "\n",
    "# Coeficientes y el intercepto \n",
    "print(model.coef_)\n",
    "print(\"Intercepto:\", model.intercept_[0])\n",
    "print(\"Coeficiente balance:\", model.coef_[0][0])"
   ]
  },
  {
   "cell_type": "code",
   "execution_count": null,
   "id": "ebfbebbb",
   "metadata": {},
   "outputs": [],
   "source": [
    "# Predecir probabilidad en función del saldo --> crear un rango de valores uniforme para ver la variación del default\n",
    "balances = np.linspace(df['balance'].min(), df['balance'].max(), 1000).reshape(-1, 1)\n",
    "proba_default = model.predict_proba(balances)[:, 1]"
   ]
  },
  {
   "cell_type": "code",
   "execution_count": null,
   "id": "a3572988",
   "metadata": {},
   "outputs": [],
   "source": [
    "# Visualizar la curva\n",
    "plt.plot(balances, proba_default)\n",
    "plt.xlabel('Balance (€)')\n",
    "plt.ylabel('Probabilidad de Default')\n",
    "plt.title('Probabilidad de default según el saldo')\n",
    "plt.grid()\n",
    "plt.show()"
   ]
  },
  {
   "cell_type": "markdown",
   "id": "3cbb0a81",
   "metadata": {},
   "source": [
    "##### Análisis del resultadi\n",
    "- La curva muestra una alta probabilidad de default para saldos cercanos o inferiores a 0.\n",
    "- Cuando el saldo aumenta, la probabilidad baja a 0.\n",
    "- Confirma que el saldo es un fuerte predictor del riesgo de morosidad"
   ]
  },
  {
   "cell_type": "code",
   "execution_count": null,
   "id": "edc2e4b7",
   "metadata": {},
   "outputs": [],
   "source": [
    "# Saldo a partir del cual la probabilidad de default cae por debajo del 5%:\n",
    "probab_limite = 0.05\n",
    "umbral_saldo = balances[proba_default >= probab_limite].max()\n",
    "print(f\"Umbral de riesgo alto: balance < {umbral_saldo:.2f} €\")"
   ]
  },
  {
   "cell_type": "markdown",
   "id": "daaec5fa",
   "metadata": {},
   "source": [
    "## Regresión logística para predicción del default en función de balance, loan y housing\n",
    "Estimar directamente cómo balance, loan y housing afectan en conjunto a la probabilidad de incumplimiento (default)"
   ]
  },
  {
   "cell_type": "code",
   "execution_count": null,
   "id": "1500c4da",
   "metadata": {},
   "outputs": [],
   "source": [
    "# convertir variables binarias\n",
    "df[['default', 'housing', 'loan']].astype(int)"
   ]
  },
  {
   "cell_type": "code",
   "execution_count": null,
   "id": "fe8a29b6",
   "metadata": {},
   "outputs": [],
   "source": [
    "X = df[['balance', 'housing', 'loan']]     # predictores\n",
    "y = df['default']       # objetivo --> variable binaria\n",
    "\n",
    "# Dividir los datos en entrenamiento y prueba\n",
    "X_train, X_test, y_train, y_test = train_test_split(X, y, test_size=0.2, random_state=42)\n",
    "\n",
    "# Entrenar el modelo\n",
    "model = LogisticRegression()\n",
    "model.fit(X_train, y_train)\n",
    "\n",
    "# Coeficientes y el intercepto \n",
    "print(model.coef_)\n",
    "print(\"Intercepto:\", model.intercept_[0])\n",
    "print(\"Coeficiente balance:\", model.coef_[0][0])\n",
    "print(\"Coeficiente housing:\", model.coef_[0][1])\n",
    "print(\"Coeficiente loan:\", model.coef_[0][2])"
   ]
  },
  {
   "cell_type": "markdown",
   "id": "2ee3b1c7",
   "metadata": {},
   "source": [
    "#### Sin créditos"
   ]
  },
  {
   "cell_type": "code",
   "execution_count": null,
   "id": "86195667",
   "metadata": {},
   "outputs": [],
   "source": [
    "# Predecir probabilidad en función del saldo --> crear un rango de valores uniforme para ver la variación del default\n",
    "balances_sin = np.linspace(df['balance'].min(), df['balance'].max(), 1000).reshape(-1, 1)\n",
    "housing_val_sin = np.zeros_like(balances_sin)  # todos 0\n",
    "loan_val_sin = np.zeros_like(balances_sin)  # todos 0\n",
    "\n",
    "X_plot_sin = np.hstack([balances_sin, housing_val_sin, loan_val_sin])\n",
    "proba_default_sin = model.predict_proba(X_plot_sin)[:, 1]\n",
    "\n",
    "# Visualizar la curva\n",
    "plt.plot(balances_sin, proba_default_sin)\n",
    "plt.xlabel('Balance (€)')\n",
    "plt.ylabel('Probabilidad de Default')\n",
    "plt.title('Probabilidad de default (housing=0, loan=0)')\n",
    "plt.grid()\n",
    "plt.show()"
   ]
  },
  {
   "cell_type": "code",
   "execution_count": null,
   "id": "da500a15",
   "metadata": {},
   "outputs": [],
   "source": [
    "# Saldo a partir del cual la probabilidad de default cae por debajo del 5%:\n",
    "probab_limite = 0.05\n",
    "umbral_saldo_sin = balances_sin[proba_default_sin >= probab_limite].max()\n",
    "print(f\"Sin créditos. Umbral de riesgo alto: balance < {umbral_saldo_sin:.2f} €\")"
   ]
  },
  {
   "cell_type": "markdown",
   "id": "61748c07",
   "metadata": {},
   "source": [
    "#### Solo hipoteca"
   ]
  },
  {
   "cell_type": "code",
   "execution_count": null,
   "id": "93bdd102",
   "metadata": {},
   "outputs": [],
   "source": [
    "# Predecir probabilidad en función del saldo --> crear un rango de valores uniforme para ver la variación del default\n",
    "balances_hipoteca = np.linspace(df['balance'].min(), df['balance'].max(), 1000).reshape(-1, 1)\n",
    "housing_val_hipoteca = np.ones_like(balances_hipoteca)  # todos 1\n",
    "loan_val_hipoteca = np.zeros_like(balances_hipoteca)  # todos 0\n",
    "\n",
    "X_plot_hipoteca = np.hstack([balances_hipoteca, housing_val_hipoteca, loan_val_hipoteca])\n",
    "proba_default_hipoteca = model.predict_proba(X_plot_hipoteca)[:, 1]\n",
    "\n",
    "# Visualizar la curva\n",
    "plt.plot(balances_hipoteca, proba_default_hipoteca)\n",
    "plt.xlabel('Balance (€)')\n",
    "plt.ylabel('Probabilidad de Default')\n",
    "plt.title('Probabilidad de default (housing=1, loan=0)')\n",
    "plt.grid()\n",
    "plt.show()"
   ]
  },
  {
   "cell_type": "code",
   "execution_count": null,
   "id": "46a2f152",
   "metadata": {},
   "outputs": [],
   "source": [
    "# Saldo a partir del cual la probabilidad de default cae por debajo del 5%:\n",
    "probab_limite = 0.05\n",
    "umbral_saldo_hipoteca = balances_hipoteca[proba_default_hipoteca >= probab_limite].max()\n",
    "print(f\"Solo hipoteca. Umbral de riesgo alto: balance < {umbral_saldo_hipoteca:.2f} €\")"
   ]
  },
  {
   "cell_type": "markdown",
   "id": "015bd72e",
   "metadata": {},
   "source": [
    "#### Solo préstamo"
   ]
  },
  {
   "cell_type": "code",
   "execution_count": null,
   "id": "643d7645",
   "metadata": {},
   "outputs": [],
   "source": [
    "# Predecir probabilidad en función del saldo --> crear un rango de valores uniforme para ver la variación del default\n",
    "balances_prestamo = np.linspace(df['balance'].min(), df['balance'].max(), 1000).reshape(-1, 1)\n",
    "housing_val_prestamo = np.zeros_like(balances_prestamo)  # todos 0\n",
    "loan_val_prestamo = np.ones_like(balances_prestamo)  # todos 1\n",
    "\n",
    "X_plot_prestamo = np.hstack([balances_prestamo, housing_val_prestamo, loan_val_prestamo])\n",
    "proba_default_prestamo = model.predict_proba(X_plot_prestamo)[:, 1]\n",
    "\n",
    "# Visualizar la curva\n",
    "plt.plot(balances_prestamo, proba_default_prestamo)\n",
    "plt.xlabel('Balance (€)')\n",
    "plt.ylabel('Probabilidad de Default')\n",
    "plt.title('Probabilidad de default (housing=0, loan=1)')\n",
    "plt.grid()\n",
    "plt.show()"
   ]
  },
  {
   "cell_type": "code",
   "execution_count": null,
   "id": "1b64cbe8",
   "metadata": {},
   "outputs": [],
   "source": [
    "# Saldo a partir del cual la probabilidad de default cae por debajo del 5%:\n",
    "probab_limite = 0.015\n",
    "umbral_saldo_prestamo = balances_prestamo[proba_default_prestamo >= probab_limite].max()\n",
    "print(f\"Solo préstamo. Umbral de riesgo alto: balance < {umbral_saldo_prestamo:.2f} €\")"
   ]
  },
  {
   "cell_type": "markdown",
   "id": "01d3bd09",
   "metadata": {},
   "source": [
    "#### Ambos"
   ]
  },
  {
   "cell_type": "code",
   "execution_count": null,
   "id": "26c2bb6a",
   "metadata": {},
   "outputs": [],
   "source": [
    "# Predecir probabilidad en función del saldo --> crear un rango de valores uniforme para ver la variación del default\n",
    "balances_ambos = np.linspace(df['balance'].min(), df['balance'].max(), 1000).reshape(-1, 1)\n",
    "housing_val_ambos = np.ones_like(balances_ambos)  # todos \n",
    "loan_val_ambos = np.ones_like(balances_ambos)  # todos 1\n",
    "\n",
    "X_plot_ambos = np.hstack([balances_ambos, housing_val_ambos, loan_val_ambos])\n",
    "proba_default_ambos = model.predict_proba(X_plot_ambos)[:, 1]\n",
    "\n",
    "# Visualizar la curva\n",
    "plt.plot(balances_ambos, proba_default_ambos)\n",
    "plt.xlabel('Balance (€)')\n",
    "plt.ylabel('Probabilidad de Default')\n",
    "plt.title('Probabilidad de default (housing=1, loan=1)')\n",
    "plt.grid()\n",
    "plt.show()"
   ]
  },
  {
   "cell_type": "code",
   "execution_count": null,
   "id": "ee2bb632",
   "metadata": {},
   "outputs": [],
   "source": [
    "# Saldo a partir del cual la probabilidad de default cae por debajo del 5%:\n",
    "probab_limite = 0.05\n",
    "umbral_saldo_ambos = balances_ambos[proba_default_ambos >= probab_limite].max()\n",
    "print(f\"Con ambos. Umbral de riesgo alto: balance < {umbral_saldo_ambos:.2f} €\")"
   ]
  },
  {
   "cell_type": "code",
   "execution_count": null,
   "id": "a676b92e",
   "metadata": {},
   "outputs": [],
   "source": [
    "print(f\"Sin créditos: {umbral_saldo_sin:.2f} €\")\n",
    "print(f\"Solo hipoteca: {umbral_saldo_hipoteca:.2f} €\")\n",
    "print(f\"Solo préstamo: {umbral_saldo_prestamo:.2f} €\")\n",
    "print(f\"Con ambos: {umbral_saldo_ambos:.2f} €\")"
   ]
  },
  {
   "cell_type": "markdown",
   "id": "6530293d",
   "metadata": {},
   "source": [
    "#### Intento Graficas Conjuntas"
   ]
  },
  {
   "cell_type": "code",
   "execution_count": null,
   "id": "3d8319f9",
   "metadata": {},
   "outputs": [],
   "source": [
    "conditions = [\n",
    "    (~df['housing']) & (~df['loan']),\n",
    "    (df['loan']) & (~df['housing']),\n",
    "    (df['housing']) & (~df['loan']),\n",
    "    (df['housing']) & (df['loan'])\n",
    "]\n",
    "choices = ['sin deudas', 'con préstamo', 'con hipoteca', 'con ambos']\n",
    "df['debt_status'] = np.select(conditions, choices)\n",
    "\n",
    "# 2. Deciles de saldo y rangos\n",
    "df['decile'] = pd.qcut(df['balance'], 10, labels=False) + 1\n",
    "_, bins = pd.qcut(df['balance'], 10, retbins=True)\n",
    "balance_ranges = pd.IntervalIndex.from_breaks(bins)\n",
    "\n",
    "# 3. Función y mapa de colores\n",
    "def categorize_risk(rate):\n",
    "    if rate > 0.10:\n",
    "        return 'Muy alto'\n",
    "    elif rate > 0.05:\n",
    "        return 'Alto'\n",
    "    elif rate > 0.02:\n",
    "        return 'Moderado'\n",
    "    else:\n",
    "        return 'Bajo'\n",
    "\n",
    "# Orden explícito para la leyenda\n",
    "levels = ['Muy alto', 'Alto', 'Moderado', 'Bajo']\n",
    "color_map = {\n",
    "    'Muy alto': '#4A3369',\n",
    "    'Alto':    '#4FD0DB',\n",
    "    'Moderado':'#8FA0A3',\n",
    "    'Bajo':    '#30353F'\n",
    "}\n",
    "\n",
    "# 4. Gráfica 2: 2×2 subplots\n",
    "fig, axes = plt.subplots(2, 2, figsize=(14, 10), sharey=True)\n",
    "axes = axes.flatten()\n",
    "groups = ['sin deudas', 'con préstamo', 'con hipoteca', 'con ambos']\n",
    "\n",
    "for ax, grp in zip(axes, groups):\n",
    "    grp_df = df[df['debt_status'] == grp]\n",
    "    rates = grp_df.groupby('decile')['default'].mean().reset_index()\n",
    "    rates['risk_level'] = rates['default'].apply(categorize_risk)\n",
    "    \n",
    "    # Dibujar barras, asignando label solo la primera vez por nivel\n",
    "    seen = set()\n",
    "    for idx, row in rates.iterrows():\n",
    "        lvl = row['risk_level']\n",
    "        lbl = lvl if lvl not in seen else None\n",
    "        ax.bar(idx, row['default'], color=color_map[lvl], label=lbl)\n",
    "        seen.add(lvl)\n",
    "    \n",
    "    # Línea de tasa global\n",
    "    ax.axhline(df['default'].mean(), linestyle='--', color='black', label='Tasa global')\n",
    "    \n",
    "    # Etiquetas\n",
    "    ax.set_title(grp)\n",
    "    ax.set_xticks(range(10))\n",
    "    ax.set_xticklabels(\n",
    "        [f\"{i+1}\\n(€{int(interval.left)} - €{int(interval.right)}]\"\n",
    "         for i, interval in enumerate(balance_ranges)],\n",
    "        rotation=45, ha='right'\n",
    "    )\n",
    "    ax.set_ylim(0, rates['default'].max() * 1.1)\n",
    "\n",
    "# Leyenda global\n",
    "fig.legend(title='Nivel de riesgo', loc='upper right')\n",
    "fig.suptitle('Tasa de incumplimiento por decil de saldo (por grupo)', y=1.02)\n",
    "fig.text(0.5, 0.04, 'Decil de saldo', ha='center')\n",
    "fig.text(0.04, 0.5, 'Tasa de incumplimiento', va='center', rotation='vertical')\n",
    "\n",
    "plt.tight_layout()\n",
    "plt.show()"
   ]
  },
  {
   "cell_type": "code",
   "execution_count": null,
   "id": "d75487f7",
   "metadata": {},
   "outputs": [],
   "source": [
    "# 2. Definir bins para balance\n",
    "n_bins = 15\n",
    "bins = np.linspace(df['balance'].min(), df['balance'].max(), n_bins + 1)\n",
    "\n",
    "# 3. Calcular tasa de default por bin y por grupo\n",
    "rate_by_group = {}\n",
    "for group in choices:\n",
    "    grp = df[df['debt_status'] == group].copy()\n",
    "    grp['bin'] = pd.cut(grp['balance'], bins=bins, include_lowest=True)\n",
    "    rates = grp.groupby('bin')['default'].mean().reset_index()\n",
    "    rates['bin_center'] = rates['bin'].apply(lambda x: (x.left + x.right) / 2)\n",
    "    rate_by_group[group] = rates\n",
    "\n",
    "# 4. Graficar curvas\n",
    "plt.figure(figsize=(10, 6))\n",
    "for group, rates in rate_by_group.items():\n",
    "    plt.plot(rates['bin_center'], rates['default'], label=group)\n",
    "\n",
    "# 5. Calcular y marcar umbrales (cuando tasa > 5%)\n",
    "for group, rates in rate_by_group.items():\n",
    "    above_5 = rates[rates['default'] > 0.05]\n",
    "    if not above_5.empty:\n",
    "        thresh = above_5.iloc[0]\n",
    "        plt.scatter(thresh['bin_center'], thresh['default'])\n",
    "        plt.text(thresh['bin_center'], thresh['default'],\n",
    "                 f\"{group}\\n€{thresh['bin_center']:.0f}\", \n",
    "                 va='bottom', ha='right')\n",
    "\n",
    "# 6. Personalización\n",
    "plt.xlabel('Saldo (€)')\n",
    "plt.ylabel('Tasa de incumplimiento')\n",
    "plt.title('Curvas de tasa de default vs. saldo por grupo')\n",
    "plt.legend(title='Grupo')\n",
    "plt.tight_layout()\n",
    "plt.show()"
   ]
  },
  {
   "cell_type": "code",
   "execution_count": null,
   "id": "9d0f0c70",
   "metadata": {},
   "outputs": [],
   "source": [
    "n_quantiles = 5\n",
    "# 4. Graficar curvas y puntos de corte\n",
    "plt.figure(figsize=(10, 6))\n",
    "thresholds = {}\n",
    "\n",
    "for group in choices:\n",
    "    grp = df[df['debt_status'] == group].copy()\n",
    "    # Quantile bins por grupo\n",
    "    grp['bin'], bins = pd.qcut(grp['balance'], q=n_quantiles, duplicates='drop', retbins=True)\n",
    "    # Calcular tasa de default y centroide del bin\n",
    "    rates = grp.groupby('bin')['default'].mean().reset_index()\n",
    "    rates['bin_center'] = grp.groupby('bin')['balance'].median().values\n",
    "\n",
    "    # Dibujar curva\n",
    "    plt.plot(rates['bin_center'], rates['default'], marker='o', label=group)\n",
    "    \n",
    "    # Punto de umbral >1.5%\n",
    "    above5 = rates[rates['default'] > 0.015]\n",
    "    if not above5.empty:\n",
    "        pts = above5.iloc[0]\n",
    "        thresholds[group] = pts['bin_center']\n",
    "        plt.scatter(pts['bin_center'], pts['default'], s=100)\n",
    "        plt.text(pts['bin_center'], pts['default'],\n",
    "                 f\"€{pts['bin_center']:.0f}\", va='bottom', ha='right')\n",
    "\n",
    "# 5. Personalización final\n",
    "plt.xlabel('Saldo (€)')\n",
    "plt.ylabel('Tasa de incumplimiento')\n",
    "plt.title('Curvas de default vs. saldo por grupo ')\n",
    "plt.legend(title='Grupo')\n",
    "plt.grid(alpha=0.3)\n",
    "plt.tight_layout()\n",
    "plt.show()\n",
    "\n",
    "# 6. Imprimir umbrales detectados\n",
    "print(\"Umbrales de saldo donde tasa > 1.5% por grupo:\")\n",
    "for grp, val in thresholds.items():\n",
    "    print(f\" - {grp}: €{val:.0f}\")"
   ]
  }
 ],
 "metadata": {
  "kernelspec": {
   "display_name": "base",
   "language": "python",
   "name": "python3"
  },
  "language_info": {
   "codemirror_mode": {
    "name": "ipython",
    "version": 3
   },
   "file_extension": ".py",
   "mimetype": "text/x-python",
   "name": "python",
   "nbconvert_exporter": "python",
   "pygments_lexer": "ipython3",
   "version": "3.12.7"
  }
 },
 "nbformat": 4,
 "nbformat_minor": 5
}
