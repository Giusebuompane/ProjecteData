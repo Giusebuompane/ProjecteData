{
 "cells": [
  {
   "cell_type": "markdown",
   "id": "b21216c5",
   "metadata": {},
   "source": [
    "### Pregunta de Negocio - Analistes de Finances i Risc Crediticio\n",
    "\n",
    "> ¿Qué **umbrales de saldo** podrían indicar mayor **riesgo de morosidad**?\n",
    ">"
   ]
  },
  {
   "cell_type": "markdown",
   "id": "0debbc80",
   "metadata": {},
   "source": [
    "### Carga de datos"
   ]
  },
  {
   "cell_type": "code",
   "execution_count": null,
   "id": "8f26433b",
   "metadata": {},
   "outputs": [],
   "source": [
    "\"\"\"Librerías que pueden ser necesarias\"\"\"\n",
    "\n",
    "# Manejo de datos\n",
    "import pandas as pd                 # Análisis y manipulación de datos en tablas\n",
    "import numpy as np                  # Cálculos numéricos y matrices\n",
    "import os                           # Gestión de rutas de archivos\n",
    "\n",
    "# Visualización de datos\n",
    "import matplotlib.pyplot as plt     # Gráficos básicos en 2D\n",
    "import seaborn as sns               # Gráficos estadísticos mejorados\n",
    "import plotly.express as px         # Gráficos interactivos simplificados\n",
    "import plotly.graph_objects as go   # Control avanzado de gráficos en Plotly\n",
    "import plotly.io as pio             # Interfaz de entrada/salida de Plotly\n",
    "import squarify                     # Visualización de diagramas de \"treemap\"\n",
    "\n",
    "# Procesado y análisis\n",
    "from scipy import stats\n",
    "\n",
    "#Paleta de colores oficial\n",
    "custom_palette = [\"#2E2F36\", \"#5F6F81\", \"#AABBC8\", \"#DCE3EA\", \"#2CCED1\"]"
   ]
  },
  {
   "cell_type": "code",
   "execution_count": null,
   "id": "67e04b7b",
   "metadata": {},
   "outputs": [],
   "source": [
    "df = pd.read_csv(\"../Data/df_250526.csv\")"
   ]
  }
 ],
 "metadata": {
  "language_info": {
   "name": "python"
  }
 },
 "nbformat": 4,
 "nbformat_minor": 5
}
