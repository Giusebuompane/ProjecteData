{
 "cells": [
  {
   "cell_type": "markdown",
   "id": "b21216c5",
   "metadata": {},
   "source": [
    "## Pregunta de Negocio - Analistes de Finances i Risc Crediticio\n",
    "\n",
    "> ¿Qué **umbrales de saldo** podrían indicar mayor **riesgo de morosidad**?\n"
   ]
  },
  {
   "cell_type": "markdown",
   "id": "e0304c9d",
   "metadata": {},
   "source": [
    "### Carga de datos"
   ]
  },
  {
   "cell_type": "code",
   "execution_count": 2,
   "id": "461c3101",
   "metadata": {},
   "outputs": [],
   "source": [
    "\"\"\"Librerías que pueden ser necesarias\"\"\"\n",
    "\n",
    "# Manejo de datos\n",
    "import pandas as pd                 # Análisis y manipulación de datos en tablas\n",
    "import numpy as np                  # Cálculos numéricos y matrices\n",
    "import os                           # Gestión de rutas de archivos\n",
    "\n",
    "# Visualización de datos\n",
    "import matplotlib.pyplot as plt     # Gráficos básicos en 2D\n",
    "import seaborn as sns               # Gráficos estadísticos mejorados\n",
    "import plotly.express as px         # Gráficos interactivos simplificados\n",
    "import plotly.graph_objects as go   # Control avanzado de gráficos en Plotly\n",
    "import plotly.io as pio             # Interfaz de entrada/salida de Plotly\n",
    "import squarify                     # Visualización de diagramas de \"treemap\"\n",
    "\n",
    "# Procesado y análisis\n",
    "from scipy import stats\n",
    "\n",
    "#Paleta de colores oficial\n",
    "custom_palette = [\"#2E2F36\", \"#5F6F81\", \"#AABBC8\", \"#DCE3EA\", \"#2CCED1\"]"
   ]
  },
  {
   "cell_type": "code",
   "execution_count": 3,
   "id": "a391be23",
   "metadata": {},
   "outputs": [],
   "source": [
    "df = pd.read_csv(\"../Data/df_250519.csv\")"
   ]
  },
  {
   "cell_type": "markdown",
   "id": "60be7f13",
   "metadata": {},
   "source": [
    "# KPIs"
   ]
  },
  {
   "cell_type": "markdown",
   "id": "993b5d35",
   "metadata": {},
   "source": [
    "- saldo medio gral\n",
    "- saldo medio por decil\n",
    "- % clientes por tasa de riesgo\n",
    "- % clientes con hipoteca\n",
    "- % clientes con préstamo\n",
    "- % clientes con hipoteca + préstamo\n",
    "- tasa contratación depósito\n",
    "- tasa incumplimiento\n",
    "- probabilidad de incumplimiento global"
   ]
  },
  {
   "cell_type": "code",
   "execution_count": 10,
   "id": "76cc9530",
   "metadata": {},
   "outputs": [
    {
     "name": "stdout",
     "output_type": "stream",
     "text": [
      "1.5 k€\n"
     ]
    }
   ],
   "source": [
    "# Saldo medio general\n",
    "saldo_medio_global = df['balance'].mean()\n",
    "print(round((saldo_medio_global/1000),1), \"k€\")"
   ]
  },
  {
   "cell_type": "code",
   "execution_count": 11,
   "id": "ac740093",
   "metadata": {},
   "outputs": [
    {
     "name": "stdout",
     "output_type": "stream",
     "text": [
      "47.63%\n"
     ]
    }
   ],
   "source": [
    "# % de clientes con hipoteca\n",
    "con_hipoteca = df['housing'].value_counts().get(True)\n",
    "total = len(df['housing'])\n",
    "\n",
    "hipoteca_pct = 100 * con_hipoteca / total\n",
    "print(f\"{hipoteca_pct:.2f}%\")"
   ]
  },
  {
   "cell_type": "code",
   "execution_count": 12,
   "id": "c42e7824",
   "metadata": {},
   "outputs": [
    {
     "name": "stdout",
     "output_type": "stream",
     "text": [
      "13.10%\n"
     ]
    }
   ],
   "source": [
    "# % de clientes con préstamo\n",
    "con_prestamo = df['loan'].value_counts().get(True)\n",
    "total = len(df['loan'])\n",
    "\n",
    "prestamo_pct = 100 * con_prestamo / total\n",
    "print(f\"{prestamo_pct:.2f}%\")"
   ]
  },
  {
   "cell_type": "code",
   "execution_count": 13,
   "id": "2025eecd",
   "metadata": {},
   "outputs": [
    {
     "name": "stdout",
     "output_type": "stream",
     "text": [
      "7.50%\n"
     ]
    }
   ],
   "source": [
    "# % de clientes con ambos\n",
    "con_ambos = len(df[df['loan'] & df['housing']])\n",
    "total = len(df)\n",
    "\n",
    "ambos_pct = 100 * con_ambos / total\n",
    "print(f\"{ambos_pct:.2f}%\")"
   ]
  },
  {
   "cell_type": "code",
   "execution_count": 14,
   "id": "2c42b953",
   "metadata": {},
   "outputs": [
    {
     "name": "stdout",
     "output_type": "stream",
     "text": [
      "47.71%\n"
     ]
    }
   ],
   "source": [
    "# % contratacion deposito\n",
    "contratan = df['deposit'].value_counts().get(True)\n",
    "total = len(df['deposit'])\n",
    "\n",
    "deposito_pct = 100 * contratan / total\n",
    "print(f\"{deposito_pct:.2f}%\")"
   ]
  },
  {
   "cell_type": "code",
   "execution_count": 15,
   "id": "2290847c",
   "metadata": {},
   "outputs": [
    {
     "name": "stdout",
     "output_type": "stream",
     "text": [
      "PD global = 1.49 %\n"
     ]
    }
   ],
   "source": [
    "# % de incumplimiento global\n",
    "pd_global = df['default'].mean()\n",
    "print(\"PD global =\", (pd_global*100).round(2), \"%\")"
   ]
  },
  {
   "cell_type": "code",
   "execution_count": 16,
   "id": "a84475a3",
   "metadata": {},
   "outputs": [
    {
     "data": {
      "application/vnd.microsoft.datawrangler.viewer.v0+json": {
       "columns": [
        {
         "name": "index",
         "rawType": "int64",
         "type": "integer"
        },
        {
         "name": "risk_level",
         "rawType": "object",
         "type": "string"
        },
        {
         "name": "porcentaje_clientes",
         "rawType": "int64",
         "type": "integer"
        }
       ],
       "ref": "db9e9b51-8ab8-4eb4-9f25-2d2d70aeb59e",
       "rows": [
        [
         "0",
         "Muy alto",
         "0"
        ],
        [
         "1",
         "Alto",
         "13"
        ],
        [
         "2",
         "Moderado",
         "6"
        ],
        [
         "3",
         "Bajo",
         "79"
        ]
       ],
       "shape": {
        "columns": 2,
        "rows": 4
       }
      },
      "text/html": [
       "<div>\n",
       "<style scoped>\n",
       "    .dataframe tbody tr th:only-of-type {\n",
       "        vertical-align: middle;\n",
       "    }\n",
       "\n",
       "    .dataframe tbody tr th {\n",
       "        vertical-align: top;\n",
       "    }\n",
       "\n",
       "    .dataframe thead th {\n",
       "        text-align: right;\n",
       "    }\n",
       "</style>\n",
       "<table border=\"1\" class=\"dataframe\">\n",
       "  <thead>\n",
       "    <tr style=\"text-align: right;\">\n",
       "      <th></th>\n",
       "      <th>risk_level</th>\n",
       "      <th>porcentaje_clientes</th>\n",
       "    </tr>\n",
       "  </thead>\n",
       "  <tbody>\n",
       "    <tr>\n",
       "      <th>0</th>\n",
       "      <td>Muy alto</td>\n",
       "      <td>0</td>\n",
       "    </tr>\n",
       "    <tr>\n",
       "      <th>1</th>\n",
       "      <td>Alto</td>\n",
       "      <td>13</td>\n",
       "    </tr>\n",
       "    <tr>\n",
       "      <th>2</th>\n",
       "      <td>Moderado</td>\n",
       "      <td>6</td>\n",
       "    </tr>\n",
       "    <tr>\n",
       "      <th>3</th>\n",
       "      <td>Bajo</td>\n",
       "      <td>79</td>\n",
       "    </tr>\n",
       "  </tbody>\n",
       "</table>\n",
       "</div>"
      ],
      "text/plain": [
       "  risk_level  porcentaje_clientes\n",
       "0   Muy alto                    0\n",
       "1       Alto                   13\n",
       "2   Moderado                    6\n",
       "3       Bajo                   79"
      ]
     },
     "execution_count": 16,
     "metadata": {},
     "output_type": "execute_result"
    }
   ],
   "source": [
    "# Crear deciles y calcular métricas de riesgo\n",
    "df['balance_decile'] = pd.qcut(df['balance'], q=10, labels=False)\n",
    "default_rates = (\n",
    "    df.groupby('balance_decile')['default']\n",
    "    .agg(['mean', 'count'])\n",
    "    .reset_index()\n",
    "    .rename(columns={'mean': 'default', 'count': 'clientes'})\n",
    ")\n",
    "default_rates['balance_decile'] += 1\n",
    "default_rates['default'] = default_rates['default'].round(4)\n",
    "default_rates['indice_riesgo'] = (default_rates['default'] / pd_global).round(2)\n",
    "\n",
    "# Calcular porcentaje de clientes por decil\n",
    "clientes_totales = len(df)\n",
    "default_rates['porcentaje_clientes'] = (default_rates['clientes'] / clientes_totales * 100).round(2)\n",
    "\n",
    "# Clasificar nivel de riesgo\n",
    "def categorize_risk(rate):\n",
    "    return (\n",
    "        'Muy alto' if rate > 0.10 else\n",
    "        'Alto'     if rate > 0.05 else\n",
    "        'Moderado' if rate > 0.02 else\n",
    "        'Bajo'\n",
    "    )\n",
    "\n",
    "default_rates['risk_level'] = default_rates['default'].apply(categorize_risk)\n",
    "\n",
    "# Porcentaje de clientes por categoría de riesgo\n",
    "porcentaje_riesgo = (\n",
    "    default_rates.groupby('risk_level')['porcentaje_clientes']\n",
    "    .sum()\n",
    "    .reindex(['Muy alto', 'Alto', 'Moderado', 'Bajo'])\n",
    "    .reset_index()\n",
    ")\n",
    "porcentaje_riesgo['porcentaje_clientes'] = porcentaje_riesgo['porcentaje_clientes'].fillna(0).astype(int)\n",
    "porcentaje_riesgo"
   ]
  },
  {
   "cell_type": "markdown",
   "id": "81760afb",
   "metadata": {},
   "source": [
    "## Regresión lineal para ver cómo afectan `housing` y `loan` al `balance`"
   ]
  },
  {
   "cell_type": "code",
   "execution_count": 17,
   "id": "65100070",
   "metadata": {},
   "outputs": [
    {
     "data": {
      "application/vnd.microsoft.datawrangler.viewer.v0+json": {
       "columns": [
        {
         "name": "index",
         "rawType": "int64",
         "type": "integer"
        },
        {
         "name": "id",
         "rawType": "int64",
         "type": "integer"
        },
        {
         "name": "default",
         "rawType": "bool",
         "type": "boolean"
        },
        {
         "name": "balance",
         "rawType": "int64",
         "type": "integer"
        },
        {
         "name": "housing",
         "rawType": "bool",
         "type": "boolean"
        },
        {
         "name": "loan",
         "rawType": "bool",
         "type": "boolean"
        }
       ],
       "ref": "cb317c84-1912-4baf-9394-83b4524e034a",
       "rows": [
        [
         "0",
         "1",
         "False",
         "2343",
         "True",
         "False"
        ],
        [
         "1",
         "2",
         "False",
         "2343",
         "True",
         "False"
        ],
        [
         "2",
         "3",
         "False",
         "45",
         "False",
         "False"
        ],
        [
         "3",
         "4",
         "False",
         "1270",
         "True",
         "False"
        ],
        [
         "4",
         "5",
         "False",
         "2476",
         "True",
         "False"
        ]
       ],
       "shape": {
        "columns": 5,
        "rows": 5
       }
      },
      "text/html": [
       "<div>\n",
       "<style scoped>\n",
       "    .dataframe tbody tr th:only-of-type {\n",
       "        vertical-align: middle;\n",
       "    }\n",
       "\n",
       "    .dataframe tbody tr th {\n",
       "        vertical-align: top;\n",
       "    }\n",
       "\n",
       "    .dataframe thead th {\n",
       "        text-align: right;\n",
       "    }\n",
       "</style>\n",
       "<table border=\"1\" class=\"dataframe\">\n",
       "  <thead>\n",
       "    <tr style=\"text-align: right;\">\n",
       "      <th></th>\n",
       "      <th>id</th>\n",
       "      <th>default</th>\n",
       "      <th>balance</th>\n",
       "      <th>housing</th>\n",
       "      <th>loan</th>\n",
       "    </tr>\n",
       "  </thead>\n",
       "  <tbody>\n",
       "    <tr>\n",
       "      <th>0</th>\n",
       "      <td>1</td>\n",
       "      <td>False</td>\n",
       "      <td>2343</td>\n",
       "      <td>True</td>\n",
       "      <td>False</td>\n",
       "    </tr>\n",
       "    <tr>\n",
       "      <th>1</th>\n",
       "      <td>2</td>\n",
       "      <td>False</td>\n",
       "      <td>2343</td>\n",
       "      <td>True</td>\n",
       "      <td>False</td>\n",
       "    </tr>\n",
       "    <tr>\n",
       "      <th>2</th>\n",
       "      <td>3</td>\n",
       "      <td>False</td>\n",
       "      <td>45</td>\n",
       "      <td>False</td>\n",
       "      <td>False</td>\n",
       "    </tr>\n",
       "    <tr>\n",
       "      <th>3</th>\n",
       "      <td>4</td>\n",
       "      <td>False</td>\n",
       "      <td>1270</td>\n",
       "      <td>True</td>\n",
       "      <td>False</td>\n",
       "    </tr>\n",
       "    <tr>\n",
       "      <th>4</th>\n",
       "      <td>5</td>\n",
       "      <td>False</td>\n",
       "      <td>2476</td>\n",
       "      <td>True</td>\n",
       "      <td>False</td>\n",
       "    </tr>\n",
       "  </tbody>\n",
       "</table>\n",
       "</div>"
      ],
      "text/plain": [
       "   id  default  balance  housing   loan\n",
       "0   1    False     2343     True  False\n",
       "1   2    False     2343     True  False\n",
       "2   3    False       45    False  False\n",
       "3   4    False     1270     True  False\n",
       "4   5    False     2476     True  False"
      ]
     },
     "execution_count": 17,
     "metadata": {},
     "output_type": "execute_result"
    }
   ],
   "source": [
    "# Copia de las columnas del df que voy a necesitar\n",
    "df2 = df[['id','default', 'balance', 'housing', 'loan']].copy()\n",
    "df2.head()"
   ]
  },
  {
   "cell_type": "code",
   "execution_count": 18,
   "id": "a26782b6",
   "metadata": {},
   "outputs": [
    {
     "data": {
      "application/vnd.microsoft.datawrangler.viewer.v0+json": {
       "columns": [
        {
         "name": "index",
         "rawType": "int64",
         "type": "integer"
        },
        {
         "name": "default",
         "rawType": "int64",
         "type": "integer"
        },
        {
         "name": "housing",
         "rawType": "int64",
         "type": "integer"
        },
        {
         "name": "loan",
         "rawType": "int64",
         "type": "integer"
        }
       ],
       "ref": "4fdcaad0-8a5d-4a9b-9cf3-8ce70b42dd02",
       "rows": [
        [
         "0",
         "0",
         "1",
         "0"
        ],
        [
         "1",
         "0",
         "1",
         "0"
        ],
        [
         "2",
         "0",
         "0",
         "0"
        ],
        [
         "3",
         "0",
         "1",
         "0"
        ],
        [
         "4",
         "0",
         "1",
         "0"
        ],
        [
         "5",
         "0",
         "0",
         "0"
        ],
        [
         "6",
         "0",
         "1",
         "1"
        ],
        [
         "7",
         "0",
         "1",
         "1"
        ],
        [
         "8",
         "0",
         "1",
         "0"
        ],
        [
         "9",
         "0",
         "1",
         "0"
        ],
        [
         "10",
         "0",
         "1",
         "0"
        ],
        [
         "11",
         "0",
         "1",
         "0"
        ],
        [
         "12",
         "0",
         "1",
         "0"
        ],
        [
         "13",
         "0",
         "1",
         "1"
        ],
        [
         "14",
         "0",
         "1",
         "0"
        ],
        [
         "15",
         "0",
         "1",
         "0"
        ],
        [
         "16",
         "0",
         "1",
         "0"
        ],
        [
         "17",
         "0",
         "1",
         "0"
        ],
        [
         "18",
         "0",
         "1",
         "0"
        ],
        [
         "19",
         "0",
         "1",
         "0"
        ],
        [
         "20",
         "0",
         "1",
         "1"
        ],
        [
         "21",
         "0",
         "1",
         "0"
        ],
        [
         "22",
         "0",
         "1",
         "0"
        ],
        [
         "23",
         "0",
         "1",
         "0"
        ],
        [
         "24",
         "0",
         "1",
         "0"
        ],
        [
         "25",
         "0",
         "1",
         "0"
        ],
        [
         "26",
         "0",
         "1",
         "0"
        ],
        [
         "27",
         "0",
         "1",
         "0"
        ],
        [
         "28",
         "0",
         "1",
         "0"
        ],
        [
         "29",
         "0",
         "1",
         "0"
        ],
        [
         "30",
         "0",
         "1",
         "0"
        ],
        [
         "31",
         "1",
         "1",
         "0"
        ],
        [
         "32",
         "0",
         "1",
         "0"
        ],
        [
         "33",
         "0",
         "1",
         "0"
        ],
        [
         "34",
         "0",
         "1",
         "0"
        ],
        [
         "35",
         "0",
         "1",
         "0"
        ],
        [
         "36",
         "0",
         "0",
         "0"
        ],
        [
         "37",
         "0",
         "0",
         "0"
        ],
        [
         "38",
         "0",
         "1",
         "0"
        ],
        [
         "39",
         "0",
         "1",
         "0"
        ],
        [
         "40",
         "0",
         "1",
         "0"
        ],
        [
         "41",
         "0",
         "1",
         "1"
        ],
        [
         "42",
         "0",
         "1",
         "0"
        ],
        [
         "43",
         "0",
         "1",
         "0"
        ],
        [
         "44",
         "0",
         "1",
         "0"
        ],
        [
         "45",
         "0",
         "1",
         "0"
        ],
        [
         "46",
         "0",
         "1",
         "0"
        ],
        [
         "47",
         "0",
         "1",
         "0"
        ],
        [
         "48",
         "0",
         "1",
         "0"
        ],
        [
         "49",
         "0",
         "1",
         "0"
        ]
       ],
       "shape": {
        "columns": 3,
        "rows": 16163
       }
      },
      "text/html": [
       "<div>\n",
       "<style scoped>\n",
       "    .dataframe tbody tr th:only-of-type {\n",
       "        vertical-align: middle;\n",
       "    }\n",
       "\n",
       "    .dataframe tbody tr th {\n",
       "        vertical-align: top;\n",
       "    }\n",
       "\n",
       "    .dataframe thead th {\n",
       "        text-align: right;\n",
       "    }\n",
       "</style>\n",
       "<table border=\"1\" class=\"dataframe\">\n",
       "  <thead>\n",
       "    <tr style=\"text-align: right;\">\n",
       "      <th></th>\n",
       "      <th>default</th>\n",
       "      <th>housing</th>\n",
       "      <th>loan</th>\n",
       "    </tr>\n",
       "  </thead>\n",
       "  <tbody>\n",
       "    <tr>\n",
       "      <th>0</th>\n",
       "      <td>0</td>\n",
       "      <td>1</td>\n",
       "      <td>0</td>\n",
       "    </tr>\n",
       "    <tr>\n",
       "      <th>1</th>\n",
       "      <td>0</td>\n",
       "      <td>1</td>\n",
       "      <td>0</td>\n",
       "    </tr>\n",
       "    <tr>\n",
       "      <th>2</th>\n",
       "      <td>0</td>\n",
       "      <td>0</td>\n",
       "      <td>0</td>\n",
       "    </tr>\n",
       "    <tr>\n",
       "      <th>3</th>\n",
       "      <td>0</td>\n",
       "      <td>1</td>\n",
       "      <td>0</td>\n",
       "    </tr>\n",
       "    <tr>\n",
       "      <th>4</th>\n",
       "      <td>0</td>\n",
       "      <td>1</td>\n",
       "      <td>0</td>\n",
       "    </tr>\n",
       "    <tr>\n",
       "      <th>...</th>\n",
       "      <td>...</td>\n",
       "      <td>...</td>\n",
       "      <td>...</td>\n",
       "    </tr>\n",
       "    <tr>\n",
       "      <th>16158</th>\n",
       "      <td>0</td>\n",
       "      <td>0</td>\n",
       "      <td>0</td>\n",
       "    </tr>\n",
       "    <tr>\n",
       "      <th>16159</th>\n",
       "      <td>0</td>\n",
       "      <td>1</td>\n",
       "      <td>0</td>\n",
       "    </tr>\n",
       "    <tr>\n",
       "      <th>16160</th>\n",
       "      <td>1</td>\n",
       "      <td>1</td>\n",
       "      <td>0</td>\n",
       "    </tr>\n",
       "    <tr>\n",
       "      <th>16161</th>\n",
       "      <td>0</td>\n",
       "      <td>0</td>\n",
       "      <td>0</td>\n",
       "    </tr>\n",
       "    <tr>\n",
       "      <th>16162</th>\n",
       "      <td>0</td>\n",
       "      <td>1</td>\n",
       "      <td>0</td>\n",
       "    </tr>\n",
       "  </tbody>\n",
       "</table>\n",
       "<p>16163 rows × 3 columns</p>\n",
       "</div>"
      ],
      "text/plain": [
       "       default  housing  loan\n",
       "0            0        1     0\n",
       "1            0        1     0\n",
       "2            0        0     0\n",
       "3            0        1     0\n",
       "4            0        1     0\n",
       "...        ...      ...   ...\n",
       "16158        0        0     0\n",
       "16159        0        1     0\n",
       "16160        1        1     0\n",
       "16161        0        0     0\n",
       "16162        0        1     0\n",
       "\n",
       "[16163 rows x 3 columns]"
      ]
     },
     "execution_count": 18,
     "metadata": {},
     "output_type": "execute_result"
    }
   ],
   "source": [
    "# Convierto los booleanos a variables binarias\n",
    "df2[['default', 'housing', 'loan']].astype(int)"
   ]
  },
  {
   "cell_type": "code",
   "execution_count": 19,
   "id": "0efa4f2a",
   "metadata": {},
   "outputs": [],
   "source": [
    "from sklearn.linear_model import LinearRegression\n",
    "from sklearn.model_selection import train_test_split\n",
    "import statsmodels.api as sm"
   ]
  },
  {
   "cell_type": "code",
   "execution_count": 20,
   "id": "2d5cbdb8",
   "metadata": {},
   "outputs": [
    {
     "data": {
      "application/vnd.microsoft.datawrangler.viewer.v0+json": {
       "columns": [
        {
         "name": "index",
         "rawType": "int64",
         "type": "integer"
        },
        {
         "name": "Variable",
         "rawType": "object",
         "type": "string"
        },
        {
         "name": "Coeficiente",
         "rawType": "float64",
         "type": "float"
        }
       ],
       "ref": "964a2a0d-3af7-476f-a835-007c036622f6",
       "rows": [
        [
         "0",
         "housing",
         "-420.57954462407184"
        ],
        [
         "1",
         "loan",
         "-791.1955274825787"
        ]
       ],
       "shape": {
        "columns": 2,
        "rows": 2
       }
      },
      "text/html": [
       "<div>\n",
       "<style scoped>\n",
       "    .dataframe tbody tr th:only-of-type {\n",
       "        vertical-align: middle;\n",
       "    }\n",
       "\n",
       "    .dataframe tbody tr th {\n",
       "        vertical-align: top;\n",
       "    }\n",
       "\n",
       "    .dataframe thead th {\n",
       "        text-align: right;\n",
       "    }\n",
       "</style>\n",
       "<table border=\"1\" class=\"dataframe\">\n",
       "  <thead>\n",
       "    <tr style=\"text-align: right;\">\n",
       "      <th></th>\n",
       "      <th>Variable</th>\n",
       "      <th>Coeficiente</th>\n",
       "    </tr>\n",
       "  </thead>\n",
       "  <tbody>\n",
       "    <tr>\n",
       "      <th>0</th>\n",
       "      <td>housing</td>\n",
       "      <td>-420.579545</td>\n",
       "    </tr>\n",
       "    <tr>\n",
       "      <th>1</th>\n",
       "      <td>loan</td>\n",
       "      <td>-791.195527</td>\n",
       "    </tr>\n",
       "  </tbody>\n",
       "</table>\n",
       "</div>"
      ],
      "text/plain": [
       "  Variable  Coeficiente\n",
       "0  housing  -420.579545\n",
       "1     loan  -791.195527"
      ]
     },
     "execution_count": 20,
     "metadata": {},
     "output_type": "execute_result"
    }
   ],
   "source": [
    "# Definir variables predictoras y objetivo\n",
    "X = df2[['housing', 'loan']].astype(int)\n",
    "y = df2['balance']\n",
    "\n",
    "# Separar datos en entrenamiento (80%) y prueba (20%)\n",
    "X_train, X_test, y_train, y_test = train_test_split(X, y, test_size=0.2, random_state=42)\n",
    "\n",
    "# Modelo\n",
    "model = LinearRegression()\n",
    "model.fit(X, y)\n",
    "\n",
    "# Coeficientes\n",
    "pd.DataFrame({\n",
    "    'Variable': X.columns,\n",
    "    'Coeficiente': model.coef_\n",
    "})"
   ]
  },
  {
   "cell_type": "markdown",
   "id": "69f6861d",
   "metadata": {},
   "source": [
    "Cada variable tiene un coeficiente que indica el impacto que tienen sobre la variable dependiente (`balance`).\n",
    "- Housing: -420,6 €\n",
    "    > Tener hipoteca se asocia con un saldo anual promedio de unos 420€ menos que no tenerla\n",
    "- Loan: 791,2 €\n",
    "    > Tener un préstamos personal se asocia con un saldo anual promedio 791€ menos"
   ]
  },
  {
   "cell_type": "code",
   "execution_count": 21,
   "id": "fb7fb76d",
   "metadata": {},
   "outputs": [
    {
     "name": "stdout",
     "output_type": "stream",
     "text": [
      "R² manual: 0.0127\n"
     ]
    }
   ],
   "source": [
    "from sklearn.metrics import r2_score\n",
    "\n",
    "y_pred = model.predict(X)\n",
    "r2_manual = r2_score(y, y_pred)\n",
    "print(f\"R² manual: {r2_manual:.4f}\")"
   ]
  },
  {
   "cell_type": "markdown",
   "id": "031d9381",
   "metadata": {},
   "source": [
    "Del valor de R2 podemos obtener que este modelo solo explica el 1,27% de los datos, pero no explica la estadística"
   ]
  },
  {
   "cell_type": "code",
   "execution_count": 22,
   "id": "0043cef4",
   "metadata": {},
   "outputs": [
    {
     "name": "stdout",
     "output_type": "stream",
     "text": [
      "                                 OLS Regression Results                                \n",
      "=======================================================================================\n",
      "Dep. Variable:                balance   R-squared (uncentered):                   0.064\n",
      "Model:                            OLS   Adj. R-squared (uncentered):              0.064\n",
      "Method:                 Least Squares   F-statistic:                              552.3\n",
      "Date:                Tue, 27 May 2025   Prob (F-statistic):                   9.71e-233\n",
      "Time:                        09:33:43   Log-Likelihood:                     -1.5417e+05\n",
      "No. Observations:               16163   AIC:                                  3.083e+05\n",
      "Df Residuals:                   16161   BIC:                                  3.084e+05\n",
      "Df Model:                           2                                                  \n",
      "Covariance Type:            nonrobust                                                  \n",
      "==============================================================================\n",
      "                 coef    std err          t      P>|t|      [0.025      0.975]\n",
      "------------------------------------------------------------------------------\n",
      "housing     1262.0631     40.135     31.445      0.000    1183.394    1340.732\n",
      "loan          63.0744     76.516      0.824      0.410     -86.905     213.053\n",
      "==============================================================================\n",
      "Omnibus:                    20787.027   Durbin-Watson:                   1.814\n",
      "Prob(Omnibus):                  0.000   Jarque-Bera (JB):          6597687.264\n",
      "Skew:                           6.952   Prob(JB):                         0.00\n",
      "Kurtosis:                     100.997   Cond. No.                         2.06\n",
      "==============================================================================\n",
      "\n",
      "Notes:\n",
      "[1] R² is computed without centering (uncentered) since the model does not contain a constant.\n",
      "[2] Standard Errors assume that the covariance matrix of the errors is correctly specified.\n"
     ]
    }
   ],
   "source": [
    "model = sm.OLS(y, X).fit()\n",
    "print(model.summary())"
   ]
  },
  {
   "cell_type": "markdown",
   "id": "98adfd0c",
   "metadata": {},
   "source": [
    "Prob (F-statistic): si es < 0.05, significa que al menos una variable del modelo es significativa."
   ]
  }
 ],
 "metadata": {
  "kernelspec": {
   "display_name": "Python 3",
   "language": "python",
   "name": "python3"
  },
  "language_info": {
   "codemirror_mode": {
    "name": "ipython",
    "version": 3
   },
   "file_extension": ".py",
   "mimetype": "text/x-python",
   "name": "python",
   "nbconvert_exporter": "python",
   "pygments_lexer": "ipython3",
   "version": "3.13.2"
  }
 },
 "nbformat": 4,
 "nbformat_minor": 5
}
