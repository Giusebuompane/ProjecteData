{
 "cells": [
  {
   "cell_type": "markdown",
   "id": "eb1fae29",
   "metadata": {},
   "source": [
    "# Analisis de riesgo crediticio\n",
    "## Relacion entre los deciles mas bajos de saldo y el impago de deuda"
   ]
  },
  {
   "cell_type": "code",
   "execution_count": null,
   "id": "29e2f12e",
   "metadata": {},
   "outputs": [],
   "source": [
    "import pandas as pd\n",
    "import matplotlib.pyplot as plt\n",
    "import numpy as np\n",
    "import seaborn as sns\n",
    "df = pd.read_csv(\"df.csv\")\n",
    "\n",
    "#  Crear deciles de balance para agrupar clientes en 10 grupos iguales\n",
    "df['balance_decile'] = pd.qcut(df['balance'], q=10, labels=False)\n",
    "\n",
    "#  Calcular la tasa de incumplimiento (default) por cada decil\n",
    "default_rates = (df.groupby('balance_decile')['default'].mean().reset_index()) #la media aritmética en ese grupo equivale a la proporción (o tasa) de incumplimiento\n",
    " \n",
    "# Ajustar deciles de 1 a 10 en lugar de 0–9\n",
    "default_rates['balance_decile'] = default_rates['balance_decile'] + 1\n",
    "\n",
    "#  Mostrar resultados en consola\n",
    "print(\"Tasa de incumplimiento por decil de saldo:\")\n",
    "print(default_rates)\n",
    "\n",
    "#  Graficar la relación\n",
    "plt.figure()\n",
    "plt.plot(default_rates['balance_decile'], default_rates['default'], marker='o')\n",
    "plt.xlabel('Decil de Saldo (1 = más bajo)')\n",
    "plt.ylabel('Tasa de Incumplimiento')\n",
    "plt.title('Riesgo de Incumplimiento vs. Decil de Saldo')\n",
    "plt.xticks(range(1, 11))\n",
    "plt.tight_layout()\n",
    "plt.show()"
   ]
  }
 ],
 "metadata": {
  "kernelspec": {
   "display_name": "Python 3",
   "language": "python",
   "name": "python3"
  },
  "language_info": {
   "name": "python",
   "version": "3.11.9"
  }
 },
 "nbformat": 4,
 "nbformat_minor": 5
}
