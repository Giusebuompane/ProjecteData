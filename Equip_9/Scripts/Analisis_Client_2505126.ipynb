{
 "cells": [
  {
   "cell_type": "markdown",
   "id": "21d2b6ca",
   "metadata": {},
   "source": [
    "\n",
    "### Objectiu del departament d'Anàlisi de Perfil Client:\n",
    "\n",
    "> Quines combinacions de característiques demogràfiques (com edat, nivell educatiu i ocupació) són més comunes entre els clients que utilitzen múltiples productes financers del banc: loan, hipoteca, dipòsit?"
   ]
  },
  {
   "cell_type": "markdown",
   "id": "41c6f94c",
   "metadata": {},
   "source": [
    "### Llibreries i càrrega de dades"
   ]
  },
  {
   "cell_type": "code",
   "execution_count": 29,
   "id": "5c6f88df",
   "metadata": {},
   "outputs": [
    {
     "ename": "ModuleNotFoundError",
     "evalue": "No module named 'kmodes'",
     "output_type": "error",
     "traceback": [
      "\u001b[0;31m---------------------------------------------------------------------------\u001b[0m",
      "\u001b[0;31mModuleNotFoundError\u001b[0m                       Traceback (most recent call last)",
      "Cell \u001b[0;32mIn[29], line 23\u001b[0m\n\u001b[1;32m     21\u001b[0m \u001b[38;5;28;01mfrom\u001b[39;00m \u001b[38;5;21;01msklearn\u001b[39;00m\u001b[38;5;21;01m.\u001b[39;00m\u001b[38;5;21;01mcluster\u001b[39;00m \u001b[38;5;28;01mimport\u001b[39;00m KMeans\n\u001b[1;32m     22\u001b[0m \u001b[38;5;28;01mfrom\u001b[39;00m \u001b[38;5;21;01msklearn\u001b[39;00m\u001b[38;5;21;01m.\u001b[39;00m\u001b[38;5;21;01mdatasets\u001b[39;00m \u001b[38;5;28;01mimport\u001b[39;00m make_blobs\n\u001b[0;32m---> 23\u001b[0m \u001b[38;5;28;01mfrom\u001b[39;00m \u001b[38;5;21;01mkmodes\u001b[39;00m\u001b[38;5;21;01m.\u001b[39;00m\u001b[38;5;21;01mkmodes\u001b[39;00m \u001b[38;5;28;01mimport\u001b[39;00m KModes\n\u001b[1;32m     24\u001b[0m \u001b[38;5;28;01mfrom\u001b[39;00m \u001b[38;5;21;01mkmodes\u001b[39;00m\u001b[38;5;21;01m.\u001b[39;00m\u001b[38;5;21;01mkprototypes\u001b[39;00m \u001b[38;5;28;01mimport\u001b[39;00m KPrototypes\n",
      "\u001b[0;31mModuleNotFoundError\u001b[0m: No module named 'kmodes'"
     ]
    }
   ],
   "source": [
    "\"\"\"Libreries que poden ser necessàries\"\"\"\n",
    "\n",
    "# Manejo de datos\n",
    "import pandas as pd                 # Análisis y manipulación de datos en tablas\n",
    "import numpy as np                  # Cálculos numéricos y matrices\n",
    "import os                           # Gestión de rutas de archivos\n",
    "\n",
    "# Visualización de datos\n",
    "import matplotlib.pyplot as plt     # Gráficos básicos en 2D\n",
    "import seaborn as sns               # Gráficos estadísticos mejorados\n",
    "import plotly.express as px         # Gráficos interactivos simplificados\n",
    "import plotly.graph_objects as go   # Control avanzado de gráficos en Plotly\n",
    "import plotly.io as pio             # Interfaz de entrada/salida de Plotly\n",
    "import squarify                     # Visualización de diagramas de \"treemap\"\n",
    "from plottable import Table         # Visualización de tablas\n",
    "import matplotlib.colors as mcolors # Colores y mapas de colores\n",
    "\n",
    "# Clustering y agrupamiento\n",
    "from sklearn.model_selection import train_test_split\n",
    "from sklearn.preprocessing import StandardScaler, RobustScaler, MinMaxScaler, OneHotEncoder, LabelEncoder, OrdinalEncoder\n",
    "from sklearn.cluster import KMeans\n",
    "from sklearn.datasets import make_blobs\n",
    "from kmodes.kmodes import KModes\n",
    "from kmodes.kprototypes import KPrototypes\n"
   ]
  },
  {
   "cell_type": "code",
   "execution_count": null,
   "id": "23d41852",
   "metadata": {},
   "outputs": [
    {
     "name": "stdout",
     "output_type": "stream",
     "text": [
      "Collecting kmodes\n",
      "  Downloading kmodes-0.12.2-py2.py3-none-any.whl.metadata (8.1 kB)\n",
      "Requirement already satisfied: numpy>=1.10.4 in /Library/Frameworks/Python.framework/Versions/3.12/lib/python3.12/site-packages (from kmodes) (2.0.0)\n",
      "Requirement already satisfied: scikit-learn>=0.22.0 in /Library/Frameworks/Python.framework/Versions/3.12/lib/python3.12/site-packages (from kmodes) (1.6.1)\n",
      "Requirement already satisfied: scipy>=0.13.3 in /Library/Frameworks/Python.framework/Versions/3.12/lib/python3.12/site-packages (from kmodes) (1.15.3)\n",
      "Requirement already satisfied: joblib>=0.11 in /Library/Frameworks/Python.framework/Versions/3.12/lib/python3.12/site-packages (from kmodes) (1.5.0)\n",
      "Requirement already satisfied: threadpoolctl>=3.1.0 in /Library/Frameworks/Python.framework/Versions/3.12/lib/python3.12/site-packages (from scikit-learn>=0.22.0->kmodes) (3.6.0)\n",
      "Downloading kmodes-0.12.2-py2.py3-none-any.whl (20 kB)\n",
      "Installing collected packages: kmodes\n",
      "Successfully installed kmodes-0.12.2\n",
      "Note: you may need to restart the kernel to use updated packages.\n"
     ]
    }
   ],
   "source": [
    "# %pip install plottable\n",
    "# %pip install kmodes\n"
   ]
  },
  {
   "cell_type": "code",
   "execution_count": 4,
   "id": "09180b46",
   "metadata": {},
   "outputs": [],
   "source": [
    "df = pd.read_csv(\"../Data/df_250519.csv\")"
   ]
  },
  {
   "cell_type": "markdown",
   "id": "e0234695",
   "metadata": {},
   "source": [
    "Paleta de colors"
   ]
  },
  {
   "cell_type": "code",
   "execution_count": 5,
   "id": "d57c4e5a",
   "metadata": {},
   "outputs": [],
   "source": [
    "custom_palette = [\"#AABBC8\", \"#2CCED1\", \"#5F6F81\", \"#DCE3EA\", \"#2E2F36\"]  \n",
    "sns.set_palette(sns.color_palette(custom_palette))"
   ]
  },
  {
   "cell_type": "markdown",
   "id": "c4a9019c",
   "metadata": {},
   "source": [
    "### Extracte KPIs"
   ]
  },
  {
   "cell_type": "code",
   "execution_count": 6,
   "id": "51c2911f",
   "metadata": {},
   "outputs": [
    {
     "name": "stdout",
     "output_type": "stream",
     "text": [
      "El número total de clientes contactados es: 16163\n",
      "El número de suscriptores es: 7712\n",
      "La duración total de las llamadas a suscriptores es: 4161406\n",
      "El número de llamadas realizadas a teléfono fijo es:  3274\n",
      "El número de llamadas realizadas a móvil es:  28002\n",
      "El número total de llamadas realizadas es:  40513\n",
      "El número total de contactos previos de los suscriptores es: 9149\n",
      "La conversión por mes es:  month\n",
      "Apr    0.632210\n",
      "Aug    0.456830\n",
      "Dec    0.910256\n",
      "Feb    0.579892\n",
      "Jan    0.408537\n",
      "Jul    0.413684\n",
      "Jun    0.447770\n",
      "Mar    0.903704\n",
      "May    0.334953\n",
      "Nov    0.420236\n",
      "Oct    0.837500\n",
      "Sep    0.842333\n",
      "Name: deposit, dtype: float64\n"
     ]
    }
   ],
   "source": [
    "\n",
    "# Variables \n",
    "contactados   = df.nunique().id                                     # Número total de clientes contactados\n",
    "suscribieron  = df[df['deposit'] == True].nunique().id             # Número de clientes que suscribieron \n",
    "duracion_llam = df[df['deposit'] == True].duration.sum()           # Duración de llamadas a suscriptores\n",
    "llam_telf = df[df['contact'] == 'telephone']['campaign'].sum()      # Número de llamadas realizadas por teléfono\n",
    "llam_cell = df[df['contact'] == 'cellular']['campaign'].sum()       # Número de llamadas realizadas por movil\n",
    "llam = df['campaign'].sum()                                         # Número total de llamadas\n",
    "contatos_previos_sus = df[df['deposit'] == True]['previous'].sum() # Número de contactos previos a suscriptores\n",
    "suscribieron_por_mes = df[df['deposit'] == True].groupby('month').count()['deposit']  # Suscriptores en el mes\n",
    "contactos_por_mes = df.groupby('month').count()['deposit']          # clientes contactados en el mes      \n",
    "conversion_por_mes = suscribieron_por_mes / contactos_por_mes       # conversión por mes\n",
    "\n",
    "\n",
    "# Prints\n",
    "print(\"El número total de clientes contactados es:\",contactados)\n",
    "print(\"El número de suscriptores es:\",suscribieron)\n",
    "print(\"La duración total de las llamadas a suscriptores es:\",duracion_llam)\n",
    "print(\"El número de llamadas realizadas a teléfono fijo es: \", llam_telf)\n",
    "print(\"El número de llamadas realizadas a móvil es: \", llam_cell)\n",
    "print(\"El número total de llamadas realizadas es: \", llam)\n",
    "print(\"El número total de contactos previos de los suscriptores es:\", contatos_previos_sus)\n",
    "print(\"La conversión por mes es: \", conversion_por_mes)"
   ]
  },
  {
   "cell_type": "code",
   "execution_count": 7,
   "id": "ed31625b",
   "metadata": {},
   "outputs": [
    {
     "name": "stdout",
     "output_type": "stream",
     "text": [
      "KPI 1: El porcentaje de conversión a depósito es  47.713914496071276 %\n",
      "KPI 2: La duración media de las llamadas a suscriptoreses 539.6014004149378\n",
      "KPI 3.1: El porcentaje de llamadas realizadas por teléfono fijo es  8.081356601584677 %\n",
      "KPI 3.2: El porcentaje de llamadas realizadas por teléfono móvil es  69.11855453804951 %\n",
      "KPI 4: El porcentaje de contactos previos a suscriptores es  1.1863329875518671\n",
      "KPI 5: El mes amb millor conversió ha sigut Dec amb una taxa de conversió de 0.9102564102564102\n"
     ]
    }
   ],
   "source": [
    "#KPIs\n",
    "kpi1 = suscribieron/contactados          # porcentaje de conversión a depósito\n",
    "kpi2 = duracion_llam/suscribieron        # promedio de duración de llamadas a suscriptores\n",
    "kpi3_tel = llam_telf/llam                # porcentaje de llamadas a teléfono\n",
    "kpi3_cell = llam_cell/llam               # porcentaje de llamadas a móvil\n",
    "kpi3 = (llam_telf+llam_cell)/llam        # porcentaje de llamadas a teléfono o móvil\n",
    "kpi4 = contatos_previos_sus/suscribieron # promedio de contactos previos a suscriptores\n",
    "kpi5 = conversion_por_mes.idxmax()       # mes con mayor tasa de conversión\n",
    "kpi5_tasa = conversion_por_mes.max()     # tasa de conversión del mes con mayor tasa de conversión\n",
    "\n",
    "\n",
    "\n",
    "\n",
    "# Prints\n",
    "print(\"KPI 1: El porcentaje de conversión a depósito es \",kpi1*100,\"%\")\n",
    "print(\"KPI 2: La duración media de las llamadas a suscriptoreses\",kpi2)\n",
    "# print(\"KPI 3: El porcentaje de llamadas realizadas por teléfono o móvil es \",kpi3*100,\"%\")\n",
    "print(\"KPI 3.1: El porcentaje de llamadas realizadas por teléfono fijo es \",kpi3_tel*100,\"%\")\n",
    "print(\"KPI 3.2: El porcentaje de llamadas realizadas por teléfono móvil es \",kpi3_cell*100,\"%\")\n",
    "print(\"KPI 4: El porcentaje de contactos previos a suscriptores es \",kpi4)\n",
    "print(\"KPI 5: El mes amb millor conversió ha sigut\", kpi5, \"amb una taxa de conversió de\", kpi5_tasa)"
   ]
  },
  {
   "cell_type": "markdown",
   "id": "5c3d464e",
   "metadata": {},
   "source": [
    "# Anàlisi "
   ]
  },
  {
   "cell_type": "markdown",
   "id": "e2b5810e",
   "metadata": {},
   "source": [
    "Volem saber, \n",
    "de la gent que contracta els tres productes financers del banc:  prèstec (loan), hipoteca (housing), compte d'estalvi (deposit)\n",
    "\n",
    "Quins són els perfils més comuns (3 variables)?\n"
   ]
  },
  {
   "cell_type": "markdown",
   "id": "f59d33b1",
   "metadata": {},
   "source": [
    "Comencem filtrant el df per els perfils que contracten aquest tres productes"
   ]
  },
  {
   "cell_type": "code",
   "execution_count": 17,
   "id": "023004f8",
   "metadata": {},
   "outputs": [
    {
     "name": "stdout",
     "output_type": "stream",
     "text": [
      "El número de clientes que suscribieron, tienen préstamo y una hipoteca es: 384\n"
     ]
    }
   ],
   "source": [
    "# loan is yes, housing is yes, deposit is yes\n",
    "# Número de clientes que suscribieron, tienen préstamo y una hipoteca\n",
    "df_3contractats = df[(df['deposit'] == True) & (df['loan'] == True) & (df['housing'] == True)] # Df de clientes que suscribieron, tienen préstamo y una hipoteca\n",
    "\n",
    "df_3contractats_numero = df_3contractats.nunique().id  # Número de clientes que cumplen las condiciones\n",
    "print(\"El número de clientes que suscribieron, tienen préstamo y una hipoteca es:\", df_3contractats_numero)\n",
    "\n"
   ]
  },
  {
   "cell_type": "code",
   "execution_count": 18,
   "id": "e1b25bc1",
   "metadata": {},
   "outputs": [
    {
     "name": "stderr",
     "output_type": "stream",
     "text": [
      "/var/folders/tj/x1zxmcgd19nbm3pz04lp5pv40000gn/T/ipykernel_8443/2855436753.py:3: FutureWarning:\n",
      "\n",
      "\n",
      "\n",
      "Passing `palette` without assigning `hue` is deprecated and will be removed in v0.14.0. Assign the `x` variable to `hue` and set `legend=False` for the same effect.\n",
      "\n",
      "\n",
      "/var/folders/tj/x1zxmcgd19nbm3pz04lp5pv40000gn/T/ipykernel_8443/2855436753.py:3: UserWarning:\n",
      "\n",
      "\n",
      "The palette list has fewer values (5) than needed (12) and will cycle, which may produce an uninterpretable plot.\n",
      "\n"
     ]
    },
    {
     "data": {
      "image/png": "[encoded data removed]",
      "text/plain": [
       "<Figure size 1000x600 with 1 Axes>"
      ]
     },
     "metadata": {},
     "output_type": "display_data"
    }
   ],
   "source": [
    "# Visualización de la evolución de los clientes que cumplen las condiciones\n",
    "plt.figure(figsize=(10, 6))\n",
    "sns.countplot(data=df_3contractats, x='month', palette=custom_palette)\n",
    "plt.title('Evolución de clientes con préstamo, hipoteca y depósito')\n",
    "plt.xlabel('Mes')\n",
    "plt.ylabel('Número de clientes')\n",
    "plt.xticks(rotation=45)\n",
    "plt.tight_layout()\n",
    "plt.show()"
   ]
  },
  {
   "cell_type": "code",
   "execution_count": 26,
   "id": "d54d13ff",
   "metadata": {},
   "outputs": [
    {
     "data": {
      "text/html": [
       "<div>\n",
       "<style scoped>\n",
       "    .dataframe tbody tr th:only-of-type {\n",
       "        vertical-align: middle;\n",
       "    }\n",
       "\n",
       "    .dataframe tbody tr th {\n",
       "        vertical-align: top;\n",
       "    }\n",
       "\n",
       "    .dataframe thead th {\n",
       "        text-align: right;\n",
       "    }\n",
       "</style>\n",
       "<table border=\"1\" class=\"dataframe\">\n",
       "  <thead>\n",
       "    <tr style=\"text-align: right;\">\n",
       "      <th></th>\n",
       "      <th></th>\n",
       "      <th></th>\n",
       "      <th>contactats</th>\n",
       "    </tr>\n",
       "    <tr>\n",
       "      <th>feina</th>\n",
       "      <th>estat_civil</th>\n",
       "      <th>educació</th>\n",
       "      <th></th>\n",
       "    </tr>\n",
       "  </thead>\n",
       "  <tbody>\n",
       "    <tr>\n",
       "      <th rowspan=\"2\" valign=\"top\">management</th>\n",
       "      <th>married</th>\n",
       "      <th>tertiary</th>\n",
       "      <td>1651</td>\n",
       "    </tr>\n",
       "    <tr>\n",
       "      <th>single</th>\n",
       "      <th>tertiary</th>\n",
       "      <td>1137</td>\n",
       "    </tr>\n",
       "    <tr>\n",
       "      <th>blue-collar</th>\n",
       "      <th>married</th>\n",
       "      <th>secondary</th>\n",
       "      <td>1078</td>\n",
       "    </tr>\n",
       "    <tr>\n",
       "      <th>technician</th>\n",
       "      <th>married</th>\n",
       "      <th>secondary</th>\n",
       "      <td>935</td>\n",
       "    </tr>\n",
       "    <tr>\n",
       "      <th>admin.</th>\n",
       "      <th>married</th>\n",
       "      <th>secondary</th>\n",
       "      <td>796</td>\n",
       "    </tr>\n",
       "    <tr>\n",
       "      <th>...</th>\n",
       "      <th>...</th>\n",
       "      <th>...</th>\n",
       "      <td>...</td>\n",
       "    </tr>\n",
       "    <tr>\n",
       "      <th>student</th>\n",
       "      <th>divorced</th>\n",
       "      <th>tertiary</th>\n",
       "      <td>2</td>\n",
       "    </tr>\n",
       "    <tr>\n",
       "      <th>management</th>\n",
       "      <th>single</th>\n",
       "      <th>primary</th>\n",
       "      <td>2</td>\n",
       "    </tr>\n",
       "    <tr>\n",
       "      <th rowspan=\"2\" valign=\"top\">entrepreneur</th>\n",
       "      <th rowspan=\"2\" valign=\"top\">divorced</th>\n",
       "      <th>unknown</th>\n",
       "      <td>2</td>\n",
       "    </tr>\n",
       "    <tr>\n",
       "      <th>primary</th>\n",
       "      <td>2</td>\n",
       "    </tr>\n",
       "    <tr>\n",
       "      <th>unemployed</th>\n",
       "      <th>divorced</th>\n",
       "      <th>unknown</th>\n",
       "      <td>1</td>\n",
       "    </tr>\n",
       "  </tbody>\n",
       "</table>\n",
       "<p>132 rows × 1 columns</p>\n",
       "</div>"
      ],
      "text/plain": [
       "                                    contactats\n",
       "feina        estat_civil educació             \n",
       "management   married     tertiary         1651\n",
       "             single      tertiary         1137\n",
       "blue-collar  married     secondary        1078\n",
       "technician   married     secondary         935\n",
       "admin.       married     secondary         796\n",
       "...                                        ...\n",
       "student      divorced    tertiary            2\n",
       "management   single      primary             2\n",
       "entrepreneur divorced    unknown             2\n",
       "                         primary             2\n",
       "unemployed   divorced    unknown             1\n",
       "\n",
       "[132 rows x 1 columns]"
      ]
     },
     "execution_count": 26,
     "metadata": {},
     "output_type": "execute_result"
    }
   ],
   "source": [
    "# Agrupem el dataframe per la combinació de les característiques demogràfiques \n",
    "df_3contractats = df.groupby(['job', 'marital', 'education'])\n",
    "\n",
    "\n",
    "# Creem una taula per al càlcul de conversions\n",
    "taula_pefils = []\n",
    "\n",
    "# Recorrem la taula calculant la conversió de cada grup\n",
    "for (feina, estat_civil, educacio), grup in df_3contractats:\n",
    "    contactats = grup.nunique().id\n",
    "\n",
    "    # Afegim cada resultat a la taula\n",
    "    taula_pefils.append({\n",
    "        'feina': feina,\n",
    "        'estat_civil': estat_civil,\n",
    "        'educació': educacio,\n",
    "        'contactats': contactats,\n",
    "    })\n",
    "\n",
    "# Convertim la taula de conversió en un dataframe \n",
    "taula_pefils = pd.DataFrame(taula_pefils)\n",
    "\n",
    "taula_pefils = taula_pefils.set_index(['feina', 'estat_civil', 'educació'])  # Establim l'índex de la taula\n",
    "\n",
    "# order by contactats\n",
    "taula_pefils = taula_pefils.sort_values(by='contactats', ascending=False)  # Ordenem la taula per contactats\n",
    "\n",
    "taula_pefils "
   ]
  },
  {
   "cell_type": "code",
   "execution_count": null,
   "id": "3e8183ff",
   "metadata": {},
   "outputs": [],
   "source": []
  }
 ],
 "metadata": {
  "kernelspec": {
   "display_name": "Python 3",
   "language": "python",
   "name": "python3"
  },
  "language_info": {
   "codemirror_mode": {
    "name": "ipython",
    "version": 3
   },
   "file_extension": ".py",
   "mimetype": "text/x-python",
   "name": "python",
   "nbconvert_exporter": "python",
   "pygments_lexer": "ipython3",
   "version": "3.12.4"
  }
 },
 "nbformat": 4,
 "nbformat_minor": 5
}
