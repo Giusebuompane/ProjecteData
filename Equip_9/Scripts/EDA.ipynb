{
 "cells": [
  {
   "cell_type": "markdown",
   "id": "5c91721b",
   "metadata": {},
   "source": [
    "# **Exploratory Data Analysis**"
   ]
  },
  {
   "cell_type": "markdown",
   "id": "1ae4ed54",
   "metadata": {},
   "source": [
    "### Librerías"
   ]
  },
  {
   "cell_type": "code",
   "execution_count": 2,
   "id": "8176ad08",
   "metadata": {},
   "outputs": [],
   "source": [
    "\"\"\"Librerías que pueden ser necesarias\"\"\"\n",
    "\n",
    "# Manejo de datos\n",
    "import pandas as pd                 # Análisis y manipulación de datos en tablas\n",
    "import numpy as np                  # Cálculos numéricos y matrices\n",
    "import os                           # Gestión de rutas de archivos\n",
    "\n",
    "# Visualización de datos\n",
    "import matplotlib.pyplot as plt     # Gráficos básicos en 2D\n",
    "import seaborn as sns               # Gráficos estadísticos mejorados\n",
    "import plotly.express as px         # Gráficos interactivos simplificados\n",
    "import plotly.graph_objects as go   # Control avanzado de gráficos en Plotly\n",
    "import plotly.io as pio             # Interfaz de entrada/salida de Plotly\n",
    "import squarify                     # Visualización de diagramas de \"treemap\""
   ]
  },
  {
   "cell_type": "markdown",
   "id": "fb6e2129",
   "metadata": {},
   "source": [
    "### Carga de datos"
   ]
  },
  {
   "cell_type": "code",
   "execution_count": 4,
   "id": "e595c423",
   "metadata": {},
   "outputs": [
    {
     "data": {
      "application/vnd.microsoft.datawrangler.viewer.v0+json": {
       "columns": [
        {
         "name": "index",
         "rawType": "int64",
         "type": "integer"
        },
        {
         "name": "id",
         "rawType": "int64",
         "type": "integer"
        },
        {
         "name": "age",
         "rawType": "float64",
         "type": "float"
        },
        {
         "name": "job",
         "rawType": "object",
         "type": "string"
        },
        {
         "name": "marital",
         "rawType": "object",
         "type": "string"
        },
        {
         "name": "education",
         "rawType": "object",
         "type": "string"
        },
        {
         "name": "default",
         "rawType": "object",
         "type": "string"
        },
        {
         "name": "balance",
         "rawType": "int64",
         "type": "integer"
        },
        {
         "name": "housing",
         "rawType": "object",
         "type": "string"
        },
        {
         "name": "loan",
         "rawType": "object",
         "type": "string"
        },
        {
         "name": "contact",
         "rawType": "object",
         "type": "string"
        },
        {
         "name": "day",
         "rawType": "int64",
         "type": "integer"
        },
        {
         "name": "month",
         "rawType": "object",
         "type": "string"
        },
        {
         "name": "duration",
         "rawType": "int64",
         "type": "integer"
        },
        {
         "name": "campaign",
         "rawType": "int64",
         "type": "integer"
        },
        {
         "name": "pdays",
         "rawType": "int64",
         "type": "integer"
        },
        {
         "name": "previous",
         "rawType": "int64",
         "type": "integer"
        },
        {
         "name": "poutcome",
         "rawType": "object",
         "type": "string"
        },
        {
         "name": "deposit",
         "rawType": "object",
         "type": "string"
        }
       ],
       "conversionMethod": "pd.DataFrame",
       "ref": "4554d95e-5913-4b17-ac4e-8d2a298addf1",
       "rows": [
        [
         "0",
         "1",
         "59.0",
         "admin.",
         "married",
         "secondary",
         "no",
         "2343",
         "yes",
         "no",
         "unknown",
         "5",
         "may",
         "1042",
         "1",
         "-1",
         "0",
         "unknown",
         "yes"
        ],
        [
         "1",
         "2",
         "59.0",
         "admin.",
         "married",
         "secondary",
         "no",
         "2343",
         "yes",
         "no",
         "unknown",
         "5",
         "may",
         "1042",
         "1",
         "-1",
         "0",
         "unknown",
         "yes"
        ],
        [
         "2",
         "3",
         "56.0",
         "admin.",
         "married",
         "secondary",
         "no",
         "45",
         "no",
         "no",
         "unknown",
         "5",
         "may",
         "1467",
         "1",
         "-1",
         "0",
         "unknown",
         "yes"
        ],
        [
         "3",
         "4",
         "41.0",
         "technician",
         "married",
         "secondary",
         "no",
         "1270",
         "yes",
         "no",
         "unknown",
         "5",
         "may",
         "1389",
         "1",
         "-1",
         "0",
         "unknown",
         "yes"
        ],
        [
         "4",
         "5",
         "55.0",
         "services",
         "married",
         "secondary",
         "no",
         "2476",
         "yes",
         "no",
         "unknown",
         "5",
         "may",
         "579",
         "1",
         "-1",
         "0",
         "unknown",
         "yes"
        ]
       ],
       "shape": {
        "columns": 18,
        "rows": 5
       }
      },
      "text/html": [
       "<div>\n",
       "<style scoped>\n",
       "    .dataframe tbody tr th:only-of-type {\n",
       "        vertical-align: middle;\n",
       "    }\n",
       "\n",
       "    .dataframe tbody tr th {\n",
       "        vertical-align: top;\n",
       "    }\n",
       "\n",
       "    .dataframe thead th {\n",
       "        text-align: right;\n",
       "    }\n",
       "</style>\n",
       "<table border=\"1\" class=\"dataframe\">\n",
       "  <thead>\n",
       "    <tr style=\"text-align: right;\">\n",
       "      <th></th>\n",
       "      <th>id</th>\n",
       "      <th>age</th>\n",
       "      <th>job</th>\n",
       "      <th>marital</th>\n",
       "      <th>education</th>\n",
       "      <th>default</th>\n",
       "      <th>balance</th>\n",
       "      <th>housing</th>\n",
       "      <th>loan</th>\n",
       "      <th>contact</th>\n",
       "      <th>day</th>\n",
       "      <th>month</th>\n",
       "      <th>duration</th>\n",
       "      <th>campaign</th>\n",
       "      <th>pdays</th>\n",
       "      <th>previous</th>\n",
       "      <th>poutcome</th>\n",
       "      <th>deposit</th>\n",
       "    </tr>\n",
       "  </thead>\n",
       "  <tbody>\n",
       "    <tr>\n",
       "      <th>0</th>\n",
       "      <td>1</td>\n",
       "      <td>59.0</td>\n",
       "      <td>admin.</td>\n",
       "      <td>married</td>\n",
       "      <td>secondary</td>\n",
       "      <td>no</td>\n",
       "      <td>2343</td>\n",
       "      <td>yes</td>\n",
       "      <td>no</td>\n",
       "      <td>unknown</td>\n",
       "      <td>5</td>\n",
       "      <td>may</td>\n",
       "      <td>1042</td>\n",
       "      <td>1</td>\n",
       "      <td>-1</td>\n",
       "      <td>0</td>\n",
       "      <td>unknown</td>\n",
       "      <td>yes</td>\n",
       "    </tr>\n",
       "    <tr>\n",
       "      <th>1</th>\n",
       "      <td>2</td>\n",
       "      <td>59.0</td>\n",
       "      <td>admin.</td>\n",
       "      <td>married</td>\n",
       "      <td>secondary</td>\n",
       "      <td>no</td>\n",
       "      <td>2343</td>\n",
       "      <td>yes</td>\n",
       "      <td>no</td>\n",
       "      <td>unknown</td>\n",
       "      <td>5</td>\n",
       "      <td>may</td>\n",
       "      <td>1042</td>\n",
       "      <td>1</td>\n",
       "      <td>-1</td>\n",
       "      <td>0</td>\n",
       "      <td>unknown</td>\n",
       "      <td>yes</td>\n",
       "    </tr>\n",
       "    <tr>\n",
       "      <th>2</th>\n",
       "      <td>3</td>\n",
       "      <td>56.0</td>\n",
       "      <td>admin.</td>\n",
       "      <td>married</td>\n",
       "      <td>secondary</td>\n",
       "      <td>no</td>\n",
       "      <td>45</td>\n",
       "      <td>no</td>\n",
       "      <td>no</td>\n",
       "      <td>unknown</td>\n",
       "      <td>5</td>\n",
       "      <td>may</td>\n",
       "      <td>1467</td>\n",
       "      <td>1</td>\n",
       "      <td>-1</td>\n",
       "      <td>0</td>\n",
       "      <td>unknown</td>\n",
       "      <td>yes</td>\n",
       "    </tr>\n",
       "    <tr>\n",
       "      <th>3</th>\n",
       "      <td>4</td>\n",
       "      <td>41.0</td>\n",
       "      <td>technician</td>\n",
       "      <td>married</td>\n",
       "      <td>secondary</td>\n",
       "      <td>no</td>\n",
       "      <td>1270</td>\n",
       "      <td>yes</td>\n",
       "      <td>no</td>\n",
       "      <td>unknown</td>\n",
       "      <td>5</td>\n",
       "      <td>may</td>\n",
       "      <td>1389</td>\n",
       "      <td>1</td>\n",
       "      <td>-1</td>\n",
       "      <td>0</td>\n",
       "      <td>unknown</td>\n",
       "      <td>yes</td>\n",
       "    </tr>\n",
       "    <tr>\n",
       "      <th>4</th>\n",
       "      <td>5</td>\n",
       "      <td>55.0</td>\n",
       "      <td>services</td>\n",
       "      <td>married</td>\n",
       "      <td>secondary</td>\n",
       "      <td>no</td>\n",
       "      <td>2476</td>\n",
       "      <td>yes</td>\n",
       "      <td>no</td>\n",
       "      <td>unknown</td>\n",
       "      <td>5</td>\n",
       "      <td>may</td>\n",
       "      <td>579</td>\n",
       "      <td>1</td>\n",
       "      <td>-1</td>\n",
       "      <td>0</td>\n",
       "      <td>unknown</td>\n",
       "      <td>yes</td>\n",
       "    </tr>\n",
       "  </tbody>\n",
       "</table>\n",
       "</div>"
      ],
      "text/plain": [
       "   id   age         job  marital  education default  balance housing loan  \\\n",
       "0   1  59.0      admin.  married  secondary      no     2343     yes   no   \n",
       "1   2  59.0      admin.  married  secondary      no     2343     yes   no   \n",
       "2   3  56.0      admin.  married  secondary      no       45      no   no   \n",
       "3   4  41.0  technician  married  secondary      no     1270     yes   no   \n",
       "4   5  55.0    services  married  secondary      no     2476     yes   no   \n",
       "\n",
       "   contact  day month  duration  campaign  pdays  previous poutcome deposit  \n",
       "0  unknown    5   may      1042         1     -1         0  unknown     yes  \n",
       "1  unknown    5   may      1042         1     -1         0  unknown     yes  \n",
       "2  unknown    5   may      1467         1     -1         0  unknown     yes  \n",
       "3  unknown    5   may      1389         1     -1         0  unknown     yes  \n",
       "4  unknown    5   may       579         1     -1         0  unknown     yes  "
      ]
     },
     "execution_count": 4,
     "metadata": {},
     "output_type": "execute_result"
    }
   ],
   "source": [
    "df_original = pd.read_csv(r\"C:\\Users\\maria\\Github repos\\repos_externos\\ProjecteData\\Equip_9\\Data\\df_original.csv\")\n",
    "df_original.head(5)"
   ]
  },
  {
   "cell_type": "markdown",
   "id": "fa31a838",
   "metadata": {},
   "source": [
    "## 1. Descripción de los datos"
   ]
  },
  {
   "cell_type": "code",
   "execution_count": 11,
   "id": "0203eee1",
   "metadata": {},
   "outputs": [
    {
     "name": "stdout",
     "output_type": "stream",
     "text": [
      "<class 'pandas.core.frame.DataFrame'>\n",
      "RangeIndex: 11163 entries, 0 to 11162\n",
      "Data columns (total 18 columns):\n",
      " #   Column     Non-Null Count  Dtype  \n",
      "---  ------     --------------  -----  \n",
      " 0   id         11163 non-null  int64  \n",
      " 1   age        11153 non-null  float64\n",
      " 2   job        11163 non-null  object \n",
      " 3   marital    11158 non-null  object \n",
      " 4   education  11156 non-null  object \n",
      " 5   default    11163 non-null  object \n",
      " 6   balance    11163 non-null  int64  \n",
      " 7   housing    11163 non-null  object \n",
      " 8   loan       11163 non-null  object \n",
      " 9   contact    11163 non-null  object \n",
      " 10  day        11163 non-null  int64  \n",
      " 11  month      11163 non-null  object \n",
      " 12  duration   11163 non-null  int64  \n",
      " 13  campaign   11163 non-null  int64  \n",
      " 14  pdays      11163 non-null  int64  \n",
      " 15  previous   11163 non-null  int64  \n",
      " 16  poutcome   11163 non-null  object \n",
      " 17  deposit    11163 non-null  object \n",
      "dtypes: float64(1), int64(7), object(10)\n",
      "memory usage: 1.5+ MB\n"
     ]
    }
   ],
   "source": [
    "df_original.info()"
   ]
  },
  {
   "cell_type": "code",
   "execution_count": 36,
   "id": "7c5ff47a",
   "metadata": {},
   "outputs": [
    {
     "data": {
      "text/plain": [
       "Index(['id', 'age', 'job', 'marital', 'education', 'default', 'balance',\n",
       "       'housing', 'loan', 'contact', 'day', 'month', 'duration', 'campaign',\n",
       "       'pdays', 'previous', 'poutcome', 'deposit'],\n",
       "      dtype='object')"
      ]
     },
     "execution_count": 36,
     "metadata": {},
     "output_type": "execute_result"
    }
   ],
   "source": [
    "df_original.columns"
   ]
  },
  {
   "cell_type": "code",
   "execution_count": 6,
   "id": "e0925d21",
   "metadata": {},
   "outputs": [
    {
     "data": {
      "text/plain": [
       "(11163, 18)"
      ]
     },
     "execution_count": 6,
     "metadata": {},
     "output_type": "execute_result"
    }
   ],
   "source": [
    "df_original.shape       # (filas, columnas)"
   ]
  },
  {
   "cell_type": "code",
   "execution_count": 8,
   "id": "66b099c9",
   "metadata": {},
   "outputs": [
    {
     "data": {
      "application/vnd.microsoft.datawrangler.viewer.v0+json": {
       "columns": [
        {
         "name": "index",
         "rawType": "object",
         "type": "string"
        },
        {
         "name": "id",
         "rawType": "float64",
         "type": "float"
        },
        {
         "name": "age",
         "rawType": "float64",
         "type": "float"
        },
        {
         "name": "balance",
         "rawType": "float64",
         "type": "float"
        },
        {
         "name": "day",
         "rawType": "float64",
         "type": "float"
        },
        {
         "name": "duration",
         "rawType": "float64",
         "type": "float"
        },
        {
         "name": "campaign",
         "rawType": "float64",
         "type": "float"
        },
        {
         "name": "pdays",
         "rawType": "float64",
         "type": "float"
        },
        {
         "name": "previous",
         "rawType": "float64",
         "type": "float"
        }
       ],
       "conversionMethod": "pd.DataFrame",
       "ref": "1db78fe4-7013-4dc7-89c0-bc695a9b1cb3",
       "rows": [
        [
         "count",
         "11163.0",
         "11153.0",
         "11163.0",
         "11163.0",
         "11163.0",
         "11163.0",
         "11163.0",
         "11163.0"
        ],
        [
         "mean",
         "5582.0",
         "41.23697659822469",
         "1528.6114843680014",
         "15.657081429723192",
         "372.05383857386005",
         "2.5082863029651525",
         "51.32571889277076",
         "0.8324823076233987"
        ],
        [
         "std",
         "3222.624861816839",
         "11.91558766709373",
         "3225.278053043125",
         "8.420966549667561",
         "347.1707573065646",
         "2.721992685183356",
         "108.75453790518796",
         "2.2919180925257296"
        ],
        [
         "min",
         "1.0",
         "18.0",
         "-6847.0",
         "1.0",
         "2.0",
         "1.0",
         "-1.0",
         "0.0"
        ],
        [
         "25%",
         "2791.5",
         "32.0",
         "122.0",
         "8.0",
         "138.0",
         "1.0",
         "-1.0",
         "0.0"
        ],
        [
         "50%",
         "5582.0",
         "39.0",
         "550.0",
         "15.0",
         "255.0",
         "2.0",
         "-1.0",
         "0.0"
        ],
        [
         "75%",
         "8372.5",
         "49.0",
         "1708.5",
         "22.0",
         "496.0",
         "3.0",
         "20.5",
         "1.0"
        ],
        [
         "max",
         "11163.0",
         "95.0",
         "81204.0",
         "31.0",
         "3881.0",
         "63.0",
         "854.0",
         "58.0"
        ]
       ],
       "shape": {
        "columns": 8,
        "rows": 8
       }
      },
      "text/html": [
       "<div>\n",
       "<style scoped>\n",
       "    .dataframe tbody tr th:only-of-type {\n",
       "        vertical-align: middle;\n",
       "    }\n",
       "\n",
       "    .dataframe tbody tr th {\n",
       "        vertical-align: top;\n",
       "    }\n",
       "\n",
       "    .dataframe thead th {\n",
       "        text-align: right;\n",
       "    }\n",
       "</style>\n",
       "<table border=\"1\" class=\"dataframe\">\n",
       "  <thead>\n",
       "    <tr style=\"text-align: right;\">\n",
       "      <th></th>\n",
       "      <th>id</th>\n",
       "      <th>age</th>\n",
       "      <th>balance</th>\n",
       "      <th>day</th>\n",
       "      <th>duration</th>\n",
       "      <th>campaign</th>\n",
       "      <th>pdays</th>\n",
       "      <th>previous</th>\n",
       "    </tr>\n",
       "  </thead>\n",
       "  <tbody>\n",
       "    <tr>\n",
       "      <th>count</th>\n",
       "      <td>11163.000000</td>\n",
       "      <td>11153.000000</td>\n",
       "      <td>11163.000000</td>\n",
       "      <td>11163.000000</td>\n",
       "      <td>11163.000000</td>\n",
       "      <td>11163.000000</td>\n",
       "      <td>11163.000000</td>\n",
       "      <td>11163.000000</td>\n",
       "    </tr>\n",
       "    <tr>\n",
       "      <th>mean</th>\n",
       "      <td>5582.000000</td>\n",
       "      <td>41.236977</td>\n",
       "      <td>1528.611484</td>\n",
       "      <td>15.657081</td>\n",
       "      <td>372.053839</td>\n",
       "      <td>2.508286</td>\n",
       "      <td>51.325719</td>\n",
       "      <td>0.832482</td>\n",
       "    </tr>\n",
       "    <tr>\n",
       "      <th>std</th>\n",
       "      <td>3222.624862</td>\n",
       "      <td>11.915588</td>\n",
       "      <td>3225.278053</td>\n",
       "      <td>8.420967</td>\n",
       "      <td>347.170757</td>\n",
       "      <td>2.721993</td>\n",
       "      <td>108.754538</td>\n",
       "      <td>2.291918</td>\n",
       "    </tr>\n",
       "    <tr>\n",
       "      <th>min</th>\n",
       "      <td>1.000000</td>\n",
       "      <td>18.000000</td>\n",
       "      <td>-6847.000000</td>\n",
       "      <td>1.000000</td>\n",
       "      <td>2.000000</td>\n",
       "      <td>1.000000</td>\n",
       "      <td>-1.000000</td>\n",
       "      <td>0.000000</td>\n",
       "    </tr>\n",
       "    <tr>\n",
       "      <th>25%</th>\n",
       "      <td>2791.500000</td>\n",
       "      <td>32.000000</td>\n",
       "      <td>122.000000</td>\n",
       "      <td>8.000000</td>\n",
       "      <td>138.000000</td>\n",
       "      <td>1.000000</td>\n",
       "      <td>-1.000000</td>\n",
       "      <td>0.000000</td>\n",
       "    </tr>\n",
       "    <tr>\n",
       "      <th>50%</th>\n",
       "      <td>5582.000000</td>\n",
       "      <td>39.000000</td>\n",
       "      <td>550.000000</td>\n",
       "      <td>15.000000</td>\n",
       "      <td>255.000000</td>\n",
       "      <td>2.000000</td>\n",
       "      <td>-1.000000</td>\n",
       "      <td>0.000000</td>\n",
       "    </tr>\n",
       "    <tr>\n",
       "      <th>75%</th>\n",
       "      <td>8372.500000</td>\n",
       "      <td>49.000000</td>\n",
       "      <td>1708.500000</td>\n",
       "      <td>22.000000</td>\n",
       "      <td>496.000000</td>\n",
       "      <td>3.000000</td>\n",
       "      <td>20.500000</td>\n",
       "      <td>1.000000</td>\n",
       "    </tr>\n",
       "    <tr>\n",
       "      <th>max</th>\n",
       "      <td>11163.000000</td>\n",
       "      <td>95.000000</td>\n",
       "      <td>81204.000000</td>\n",
       "      <td>31.000000</td>\n",
       "      <td>3881.000000</td>\n",
       "      <td>63.000000</td>\n",
       "      <td>854.000000</td>\n",
       "      <td>58.000000</td>\n",
       "    </tr>\n",
       "  </tbody>\n",
       "</table>\n",
       "</div>"
      ],
      "text/plain": [
       "                 id           age       balance           day      duration  \\\n",
       "count  11163.000000  11153.000000  11163.000000  11163.000000  11163.000000   \n",
       "mean    5582.000000     41.236977   1528.611484     15.657081    372.053839   \n",
       "std     3222.624862     11.915588   3225.278053      8.420967    347.170757   \n",
       "min        1.000000     18.000000  -6847.000000      1.000000      2.000000   \n",
       "25%     2791.500000     32.000000    122.000000      8.000000    138.000000   \n",
       "50%     5582.000000     39.000000    550.000000     15.000000    255.000000   \n",
       "75%     8372.500000     49.000000   1708.500000     22.000000    496.000000   \n",
       "max    11163.000000     95.000000  81204.000000     31.000000   3881.000000   \n",
       "\n",
       "           campaign         pdays      previous  \n",
       "count  11163.000000  11163.000000  11163.000000  \n",
       "mean       2.508286     51.325719      0.832482  \n",
       "std        2.721993    108.754538      2.291918  \n",
       "min        1.000000     -1.000000      0.000000  \n",
       "25%        1.000000     -1.000000      0.000000  \n",
       "50%        2.000000     -1.000000      0.000000  \n",
       "75%        3.000000     20.500000      1.000000  \n",
       "max       63.000000    854.000000     58.000000  "
      ]
     },
     "execution_count": 8,
     "metadata": {},
     "output_type": "execute_result"
    }
   ],
   "source": [
    "df_original.describe()"
   ]
  },
  {
   "cell_type": "code",
   "execution_count": 15,
   "id": "7f395ddc",
   "metadata": {},
   "outputs": [
    {
     "data": {
      "text/plain": [
       "id            0\n",
       "age          10\n",
       "job           0\n",
       "marital       5\n",
       "education     7\n",
       "default       0\n",
       "balance       0\n",
       "housing       0\n",
       "loan          0\n",
       "contact       0\n",
       "day           0\n",
       "month         0\n",
       "duration      0\n",
       "campaign      0\n",
       "pdays         0\n",
       "previous      0\n",
       "poutcome      0\n",
       "deposit       0\n",
       "dtype: int64"
      ]
     },
     "execution_count": 15,
     "metadata": {},
     "output_type": "execute_result"
    }
   ],
   "source": [
    "df_original.isnull().sum()"
   ]
  },
  {
   "cell_type": "markdown",
   "id": "82f78ebe",
   "metadata": {},
   "source": [
    "## 2. Análisis univariado"
   ]
  },
  {
   "cell_type": "code",
   "execution_count": 20,
   "id": "21f3ee8f",
   "metadata": {},
   "outputs": [
    {
     "data": {
      "text/plain": [
       "<Axes: >"
      ]
     },
     "execution_count": 20,
     "metadata": {},
     "output_type": "execute_result"
    },
    {
     "data": {
      "image/png": "[encoded data removed]",
      "text/plain": [
       "<Figure size 640x480 with 1 Axes>"
      ]
     },
     "metadata": {},
     "output_type": "display_data"
    }
   ],
   "source": [
    "df_original['age'].hist(bins=20)"
   ]
  },
  {
   "cell_type": "code",
   "execution_count": 40,
   "id": "3c6b52f9",
   "metadata": {},
   "outputs": [],
   "source": [
    "numericas = df_original.select_dtypes(include='number').columns\n",
    "numericas = numericas.drop(['id', 'day'])"
   ]
  },
  {
   "cell_type": "code",
   "execution_count": 41,
   "id": "b3bd1e9b",
   "metadata": {},
   "outputs": [
    {
     "data": {
      "image/png": "[encoded data removed]",
      "text/plain": [
       "<Figure size 1200x1000 with 6 Axes>"
      ]
     },
     "metadata": {},
     "output_type": "display_data"
    }
   ],
   "source": [
    "df_original[numericas].hist(bins=20, figsize=(12, 10), edgecolor='black')\n",
    "plt.tight_layout()\n",
    "plt.show()"
   ]
  },
  {
   "cell_type": "code",
   "execution_count": 42,
   "id": "64d7acc0",
   "metadata": {},
   "outputs": [
    {
     "data": {
      "image/png": "[encoded data removed]",
      "text/plain": [
       "<Figure size 640x480 with 1 Axes>"
      ]
     },
     "metadata": {},
     "output_type": "display_data"
    }
   ],
   "source": [
    "df_original[numericas].plot.box()\n",
    "plt.tight_layout()\n",
    "plt.show()"
   ]
  },
  {
   "cell_type": "code",
   "execution_count": null,
   "id": "b4502a68",
   "metadata": {},
   "outputs": [
    {
     "data": {
      "image/png": "[encoded data removed]",
      "text/plain": [
       "<Figure size 640x480 with 1 Axes>"
      ]
     },
     "metadata": {},
     "output_type": "display_data"
    }
   ],
   "source": [
    "numericas = numericas.drop(['balance', 'duration'])\n",
    "df_original[numericas].plot.box()\n",
    "plt.tight_layout()\n",
    "plt.show()"
   ]
  }
 ],
 "metadata": {
  "kernelspec": {
   "display_name": "Python 3",
   "language": "python",
   "name": "python3"
  },
  "language_info": {
   "codemirror_mode": {
    "name": "ipython",
    "version": 3
   },
   "file_extension": ".py",
   "mimetype": "text/x-python",
   "name": "python",
   "nbconvert_exporter": "python",
   "pygments_lexer": "ipython3",
   "version": "3.13.2"
  }
 },
 "nbformat": 4,
 "nbformat_minor": 5
}
