{
 "cells": [
  {
   "cell_type": "markdown",
   "id": "444622ba",
   "metadata": {},
   "source": [
    "# **KPI's de negoci**"
   ]
  },
  {
   "cell_type": "markdown",
   "id": "d0f40c61",
   "metadata": {},
   "source": [
    "### Libreries"
   ]
  },
  {
   "cell_type": "code",
   "execution_count": 4,
   "id": "0b3895e0",
   "metadata": {},
   "outputs": [],
   "source": [
    "\"\"\"Libreries que poden ser necessàries\"\"\"\n",
    "\n",
    "# Manejo de datos\n",
    "import pandas as pd                 # Análisis y manipulación de datos en tablas\n",
    "import numpy as np                  # Cálculos numéricos y matrices\n",
    "import os                           # Gestión de rutas de archivos\n",
    "\n",
    "# Visualización de datos\n",
    "import matplotlib.pyplot as plt     # Gráficos básicos en 2D\n",
    "import seaborn as sns               # Gráficos estadísticos mejorados\n",
    "import plotly.express as px         # Gráficos interactivos simplificados\n",
    "import plotly.graph_objects as go   # Control avanzado de gráficos en Plotly\n",
    "import plotly.io as pio             # Interfaz de entrada/salida de Plotly\n",
    "# import squarify                     # Visualización de diagramas de \"treemap\" "
   ]
  },
  {
   "cell_type": "markdown",
   "id": "3e4c072e",
   "metadata": {},
   "source": [
    "### Càrrega de dades"
   ]
  },
  {
   "cell_type": "code",
   "execution_count": 5,
   "id": "52369438",
   "metadata": {},
   "outputs": [],
   "source": [
    "df = pd.read_csv(\"../Data/df_original.csv\")"
   ]
  },
  {
   "cell_type": "markdown",
   "id": "9feeadca",
   "metadata": {},
   "source": [
    "### Variables per a KPIs"
   ]
  },
  {
   "cell_type": "code",
   "execution_count": 15,
   "id": "e20ba82d",
   "metadata": {},
   "outputs": [
    {
     "name": "stdout",
     "output_type": "stream",
     "text": [
      "El número de suscriptores es:  5290\n"
     ]
    }
   ],
   "source": [
    "# Número de clientes que suscribieron (deposit = yes )\n",
    "# Número de suscriptores (= suscribieron)\n",
    "# count distinct id where deposit = yes\n",
    "suscribieron = df[df['deposit'] == 'yes'].nunique().id\n",
    "\n",
    "# (df.unique()))\n",
    "\n",
    "print(\"El número de suscriptores es: \", suscribieron)\n",
    "\n"
   ]
  },
  {
   "cell_type": "code",
   "execution_count": 16,
   "id": "b388de5d",
   "metadata": {},
   "outputs": [
    {
     "name": "stdout",
     "output_type": "stream",
     "text": [
      "El número total de clientes contactados es:  11163\n"
     ]
    }
   ],
   "source": [
    "# Número total de clientes contactados: (count unique id)\n",
    "contactados = df.nunique().id\n",
    "\n",
    "print(\"El número total de clientes contactados es: \", contactados)\n"
   ]
  },
  {
   "cell_type": "code",
   "execution_count": null,
   "id": "d7dada59",
   "metadata": {},
   "outputs": [],
   "source": [
    "\n",
    "\n",
    "# Duración de llamadas a suscriptores: sum (duration) where deposit = yes\n",
    "duracion_llam\n",
    "\n",
    "\n",
    "# Número de suscriptores en el mes: (suscribieron per unique month)\n",
    "sus_mes\n",
    "\n",
    "# Número de llamadas realizadas por teléfono: (contact = telephone)\n",
    "llam_telf\n",
    "\n",
    "# Número de llamadas realizadas por movil: (contact = cellular)\n",
    "llam_cell\n",
    "\n",
    "# Número total de llamadas: (sum campaign) cuentan unknown\n",
    "llam\n",
    "\n",
    "# Número de contactos previos de suscriptores: (sum where odeposit = yes)\n",
    "\"\"\"De la gente que ha contradato (deposit yes), cuántas veces le contactamos de promedio? ' aqui contamos los que no contactamos en la campaña anterior.\n",
    "contatos_previos_sus ' media de previous donde deposit es yes\"\"\"\n",
    "\n",
    "# Número total de clientes contactados en el mes: contactados per unique month\n",
    "contactados_mes"
   ]
  },
  {
   "cell_type": "markdown",
   "id": "c3ef6325",
   "metadata": {},
   "source": [
    "## KPI 1"
   ]
  },
  {
   "cell_type": "markdown",
   "id": "46b06805",
   "metadata": {},
   "source": [
    "Porcentaje de conversión a depósito\n",
    "\n",
    "kpi1 = suscribieron/contactados*100"
   ]
  },
  {
   "cell_type": "markdown",
   "id": "3298bed0",
   "metadata": {},
   "source": [
    "## KPI 2"
   ]
  },
  {
   "cell_type": "markdown",
   "id": "884a1a6b",
   "metadata": {},
   "source": [
    "promedio de duración de llamadas a suscriptores\n",
    "\n",
    "kpi2 = duracion_llam/suscribieron"
   ]
  },
  {
   "cell_type": "markdown",
   "id": "6efdfb14",
   "metadata": {},
   "source": [
    "## KPI 3"
   ]
  },
  {
   "cell_type": "markdown",
   "id": "bf0a46bc",
   "metadata": {},
   "source": [
    "porcentaje de llamadas a teléfono o móvil\n",
    "\n",
    "kpi3 = llam_telf/llam"
   ]
  },
  {
   "cell_type": "markdown",
   "id": "9af654b8",
   "metadata": {},
   "source": [
    "## KPI 4"
   ]
  },
  {
   "cell_type": "markdown",
   "id": "ce2fe458",
   "metadata": {},
   "source": [
    "mes con mayor tasa de conversión\n",
    "\n",
    "kpi5 = sus_mes/contactados_mes"
   ]
  }
 ],
 "metadata": {
  "kernelspec": {
   "display_name": "Python 3",
   "language": "python",
   "name": "python3"
  },
  "language_info": {
   "codemirror_mode": {
    "name": "ipython",
    "version": 3
   },
   "file_extension": ".py",
   "mimetype": "text/x-python",
   "name": "python",
   "nbconvert_exporter": "python",
   "pygments_lexer": "ipython3",
   "version": "3.12.4"
  }
 },
 "nbformat": 4,
 "nbformat_minor": 5
}
