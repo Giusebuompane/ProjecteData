{
 "cells": [
  {
   "cell_type": "markdown",
   "id": "21d2b6ca",
   "metadata": {},
   "source": [
    "\n",
    "# INE PREVISIONES  \n"
   ]
  },
  {
   "cell_type": "markdown",
   "id": "41c6f94c",
   "metadata": {},
   "source": [
    "### Llibreries i càrrega de dades"
   ]
  },
  {
   "cell_type": "code",
   "execution_count": 16,
   "id": "5c6f88df",
   "metadata": {},
   "outputs": [],
   "source": [
    "\"\"\"Libreries que poden ser necessàries\"\"\"\n",
    "\n",
    "# Manejo de datos\n",
    "import pandas as pd                 # Análisis y manipulación de datos en tablas\n",
    "import numpy as np                  # Cálculos numéricos y matrices\n",
    "import os                           # Gestión de rutas de archivos\n",
    "\n",
    "# Visualización de datos\n",
    "import matplotlib.pyplot as plt     # Gráficos básicos en 2D\n",
    "import seaborn as sns               # Gráficos estadísticos mejorados\n",
    "import plotly.express as px         # Gráficos interactivos simplificados\n",
    "import plotly.graph_objects as go   # Control avanzado de gráficos en Plotly\n",
    "import plotly.io as pio             # Interfaz de entrada/salida de Plotly\n",
    "import squarify                     # Visualización de diagramas de \"treemap\"\n",
    "from plottable import Table         # Visualización de tablas\n",
    "import matplotlib.colors as mcolors # Colores y mapas de colores\n",
    "\n",
    "# Clustering y agrupamiento\n",
    "from sklearn.model_selection import train_test_split\n",
    "from sklearn.preprocessing import StandardScaler, RobustScaler, MinMaxScaler, OneHotEncoder, LabelEncoder, OrdinalEncoder\n",
    "from sklearn.cluster import KMeans\n",
    "from sklearn.datasets import make_blobs\n",
    "from kmodes.kmodes import KModes\n",
    "from kmodes.kprototypes import KPrototypes\n"
   ]
  },
  {
   "cell_type": "code",
   "execution_count": 17,
   "id": "23d41852",
   "metadata": {},
   "outputs": [],
   "source": [
    "# %pip install plottable\n",
    "# %pip install kmodes\n"
   ]
  },
  {
   "cell_type": "code",
   "execution_count": 18,
   "id": "09180b46",
   "metadata": {},
   "outputs": [],
   "source": [
    "df_INE = pd.read_csv(\"../Data/INE/250602_INE.csv\")"
   ]
  },
  {
   "cell_type": "markdown",
   "id": "e0234695",
   "metadata": {},
   "source": [
    "Paleta de colors"
   ]
  },
  {
   "cell_type": "code",
   "execution_count": 19,
   "id": "d57c4e5a",
   "metadata": {},
   "outputs": [],
   "source": [
    "custom_palette = [\"#AABBC8\", \"#2CCED1\", \"#5F6F81\", \"#DCE3EA\", \"#2E2F36\"]  \n",
    "sns.set_palette(sns.color_palette(custom_palette))"
   ]
  },
  {
   "cell_type": "markdown",
   "id": "c4a9019c",
   "metadata": {},
   "source": [
    "### Extracte KPIs"
   ]
  },
  {
   "cell_type": "markdown",
   "id": "5c3d464e",
   "metadata": {},
   "source": [
    "# Anàlisi "
   ]
  },
  {
   "cell_type": "markdown",
   "id": "e2b5810e",
   "metadata": {},
   "source": [
    "### Piràmide poblacional 2025"
   ]
  },
  {
   "cell_type": "code",
   "execution_count": 21,
   "id": "9c6f09c8",
   "metadata": {},
   "outputs": [
    {
     "data": {
      "text/html": [
       "<div>\n",
       "<style scoped>\n",
       "    .dataframe tbody tr th:only-of-type {\n",
       "        vertical-align: middle;\n",
       "    }\n",
       "\n",
       "    .dataframe tbody tr th {\n",
       "        vertical-align: top;\n",
       "    }\n",
       "\n",
       "    .dataframe thead th {\n",
       "        text-align: right;\n",
       "    }\n",
       "</style>\n",
       "<table border=\"1\" class=\"dataframe\">\n",
       "  <thead>\n",
       "    <tr style=\"text-align: right;\">\n",
       "      <th></th>\n",
       "      <th>Variable1\\tValor1\\tVariable2\\tValor2\\tVariable3\\tValor3\\tVariable4\\tValor4\\tVariable5\\tValor5\\tPERIODO\\tVALOR</th>\n",
       "    </tr>\n",
       "  </thead>\n",
       "  <tbody>\n",
       "    <tr>\n",
       "      <th>Tipo de dato\\tProyección a largo plazo\\tSexo\\tTotal\\tNacimiento Residencia\\tPoblación\\tTotal Nacional\\tTotal Nacional\\tTotales de edad\\tTodas las edades\\t2074\\t54.588.194</th>\n",
       "      <td>555989</td>\n",
       "    </tr>\n",
       "    <tr>\n",
       "      <th>Tipo de dato\\tProyección a largo plazo\\tSexo\\tTotal\\tNacimiento Residencia\\tPoblación\\tTotal Nacional\\tTotal Nacional\\tTotales de edad\\tTodas las edades\\t2073\\t54.572.174</th>\n",
       "      <td>746164</td>\n",
       "    </tr>\n",
       "    <tr>\n",
       "      <th>Tipo de dato\\tProyección a largo plazo\\tSexo\\tTotal\\tNacimiento Residencia\\tPoblación\\tTotal Nacional\\tTotal Nacional\\tTotales de edad\\tTodas las edades\\t2072\\t54.562.643</th>\n",
       "      <td>62856</td>\n",
       "    </tr>\n",
       "    <tr>\n",
       "      <th>Tipo de dato\\tProyección a largo plazo\\tSexo\\tTotal\\tNacimiento Residencia\\tPoblación\\tTotal Nacional\\tTotal Nacional\\tTotales de edad\\tTodas las edades\\t2071\\t54.559.822</th>\n",
       "      <td>359944</td>\n",
       "    </tr>\n",
       "    <tr>\n",
       "      <th>Tipo de dato\\tProyección a largo plazo\\tSexo\\tTotal\\tNacimiento Residencia\\tPoblación\\tTotal Nacional\\tTotal Nacional\\tTotales de edad\\tTodas las edades\\t2070\\t54.563.560</th>\n",
       "      <td>694023</td>\n",
       "    </tr>\n",
       "  </tbody>\n",
       "</table>\n",
       "</div>"
      ],
      "text/plain": [
       "                                                    Variable1\\tValor1\\tVariable2\\tValor2\\tVariable3\\tValor3\\tVariable4\\tValor4\\tVariable5\\tValor5\\tPERIODO\\tVALOR\n",
       "Tipo de dato\\tProyección a largo plazo\\tSexo\\tT...                                             555989                                                            \n",
       "Tipo de dato\\tProyección a largo plazo\\tSexo\\tT...                                             746164                                                            \n",
       "Tipo de dato\\tProyección a largo plazo\\tSexo\\tT...                                              62856                                                            \n",
       "Tipo de dato\\tProyección a largo plazo\\tSexo\\tT...                                             359944                                                            \n",
       "Tipo de dato\\tProyección a largo plazo\\tSexo\\tT...                                             694023                                                            "
      ]
     },
     "execution_count": 21,
     "metadata": {},
     "output_type": "execute_result"
    }
   ],
   "source": [
    "df_INE.head()\n"
   ]
  },
  {
   "cell_type": "code",
   "execution_count": 22,
   "id": "fe6721a8",
   "metadata": {},
   "outputs": [
    {
     "data": {
      "text/html": [
       "<div>\n",
       "<style scoped>\n",
       "    .dataframe tbody tr th:only-of-type {\n",
       "        vertical-align: middle;\n",
       "    }\n",
       "\n",
       "    .dataframe tbody tr th {\n",
       "        vertical-align: top;\n",
       "    }\n",
       "\n",
       "    .dataframe thead th {\n",
       "        text-align: right;\n",
       "    }\n",
       "</style>\n",
       "<table border=\"1\" class=\"dataframe\">\n",
       "  <thead>\n",
       "    <tr style=\"text-align: right;\">\n",
       "      <th></th>\n",
       "      <th>Variable1\\tValor1\\tVariable2\\tValor2\\tVariable3\\tValor3\\tVariable4\\tValor4\\tVariable5\\tValor5\\tPERIODO\\tVALOR</th>\n",
       "    </tr>\n",
       "  </thead>\n",
       "  <tbody>\n",
       "    <tr>\n",
       "      <th>count</th>\n",
       "      <td>15606.000000</td>\n",
       "    </tr>\n",
       "    <tr>\n",
       "      <th>mean</th>\n",
       "      <td>487656.090991</td>\n",
       "    </tr>\n",
       "    <tr>\n",
       "      <th>std</th>\n",
       "      <td>293112.364972</td>\n",
       "    </tr>\n",
       "    <tr>\n",
       "      <th>min</th>\n",
       "      <td>0.000000</td>\n",
       "    </tr>\n",
       "    <tr>\n",
       "      <th>25%</th>\n",
       "      <td>232424.000000</td>\n",
       "    </tr>\n",
       "    <tr>\n",
       "      <th>50%</th>\n",
       "      <td>484020.500000</td>\n",
       "    </tr>\n",
       "    <tr>\n",
       "      <th>75%</th>\n",
       "      <td>739396.750000</td>\n",
       "    </tr>\n",
       "    <tr>\n",
       "      <th>max</th>\n",
       "      <td>999980.000000</td>\n",
       "    </tr>\n",
       "  </tbody>\n",
       "</table>\n",
       "</div>"
      ],
      "text/plain": [
       "       Variable1\\tValor1\\tVariable2\\tValor2\\tVariable3\\tValor3\\tVariable4\\tValor4\\tVariable5\\tValor5\\tPERIODO\\tVALOR\n",
       "count                                       15606.000000                                                            \n",
       "mean                                       487656.090991                                                            \n",
       "std                                        293112.364972                                                            \n",
       "min                                             0.000000                                                            \n",
       "25%                                        232424.000000                                                            \n",
       "50%                                        484020.500000                                                            \n",
       "75%                                        739396.750000                                                            \n",
       "max                                        999980.000000                                                            "
      ]
     },
     "execution_count": 22,
     "metadata": {},
     "output_type": "execute_result"
    }
   ],
   "source": [
    "df_INE.describe()\n"
   ]
  },
  {
   "cell_type": "code",
   "execution_count": 23,
   "id": "d45de1f6",
   "metadata": {},
   "outputs": [],
   "source": [
    "# Eliminar filas con valores nulos\n",
    "df_INE = df_INE.dropna()\n",
    "# Eliminar filas duplicadas\n",
    "df_INE = df_INE.drop_duplicates()\n",
    "# Convertir la columna 'Fecha' a tipo datetime"
   ]
  },
  {
   "cell_type": "markdown",
   "id": "9b26d9e6",
   "metadata": {},
   "source": [
    "### Piràmide poblacional 2030\n"
   ]
  },
  {
   "cell_type": "code",
   "execution_count": null,
   "id": "d78c7b37",
   "metadata": {},
   "outputs": [],
   "source": []
  },
  {
   "cell_type": "markdown",
   "id": "c2f65886",
   "metadata": {},
   "source": [
    "### Piràmide poblacional 2035\n"
   ]
  },
  {
   "cell_type": "code",
   "execution_count": null,
   "id": "f045bf38",
   "metadata": {},
   "outputs": [],
   "source": []
  },
  {
   "cell_type": "markdown",
   "id": "f4f1fff5",
   "metadata": {},
   "source": [
    "### Piràmide poblacional conjunta\n"
   ]
  },
  {
   "cell_type": "code",
   "execution_count": null,
   "id": "8ecf5d17",
   "metadata": {},
   "outputs": [],
   "source": []
  }
 ],
 "metadata": {
  "kernelspec": {
   "display_name": "Python 3",
   "language": "python",
   "name": "python3"
  },
  "language_info": {
   "codemirror_mode": {
    "name": "ipython",
    "version": 3
   },
   "file_extension": ".py",
   "mimetype": "text/x-python",
   "name": "python",
   "nbconvert_exporter": "python",
   "pygments_lexer": "ipython3",
   "version": "3.12.4"
  }
 },
 "nbformat": 4,
 "nbformat_minor": 5
}
