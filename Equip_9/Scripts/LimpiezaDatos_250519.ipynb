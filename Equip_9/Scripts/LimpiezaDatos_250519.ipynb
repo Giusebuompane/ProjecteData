{
 "cells": [
  {
   "cell_type": "markdown",
   "id": "6fef026d",
   "metadata": {},
   "source": [
    "# Limpieza de datos\n",
    "***"
   ]
  },
  {
   "cell_type": "code",
   "execution_count": 49,
   "id": "d0b4c3a1",
   "metadata": {},
   "outputs": [],
   "source": [
    "import os\n",
    "import pandas as pd\n",
    "import numpy as np\n",
    "df = pd.read_csv(\"C:/Users/astar/Desktop/simulacion empresarial/ProjecteData/Equip_9/Data/df_original_250519.csv\")\n",
    "\n"
   ]
  },
  {
   "cell_type": "code",
   "execution_count": 50,
   "id": "15a2a39c",
   "metadata": {},
   "outputs": [
    {
     "name": "stdout",
     "output_type": "stream",
     "text": [
      "Filas duplicadas exactas: 10\n"
     ]
    },
    {
     "data": {
      "application/vnd.microsoft.datawrangler.viewer.v0+json": {
       "columns": [
        {
         "name": "index",
         "rawType": "int64",
         "type": "integer"
        },
        {
         "name": "id",
         "rawType": "int64",
         "type": "integer"
        },
        {
         "name": "age",
         "rawType": "float64",
         "type": "float"
        },
        {
         "name": "job",
         "rawType": "object",
         "type": "string"
        },
        {
         "name": "marital",
         "rawType": "object",
         "type": "string"
        },
        {
         "name": "education",
         "rawType": "object",
         "type": "string"
        },
        {
         "name": "default",
         "rawType": "object",
         "type": "string"
        },
        {
         "name": "balance",
         "rawType": "int64",
         "type": "integer"
        },
        {
         "name": "housing",
         "rawType": "object",
         "type": "string"
        },
        {
         "name": "loan",
         "rawType": "object",
         "type": "string"
        },
        {
         "name": "contact",
         "rawType": "object",
         "type": "string"
        },
        {
         "name": "day",
         "rawType": "int64",
         "type": "integer"
        },
        {
         "name": "month",
         "rawType": "object",
         "type": "string"
        },
        {
         "name": "duration",
         "rawType": "int64",
         "type": "integer"
        },
        {
         "name": "campaign",
         "rawType": "int64",
         "type": "integer"
        },
        {
         "name": "pdays",
         "rawType": "int64",
         "type": "integer"
        },
        {
         "name": "previous",
         "rawType": "int64",
         "type": "integer"
        },
        {
         "name": "poutcome",
         "rawType": "object",
         "type": "string"
        },
        {
         "name": "deposit",
         "rawType": "object",
         "type": "string"
        }
       ],
       "conversionMethod": "pd.DataFrame",
       "ref": "cdd4edda-e5eb-4379-89ea-336d5e7018b1",
       "rows": [
        [
         "16163",
         "9609",
         "26.0",
         "blue-collar",
         "married",
         "secondary",
         "no",
         "895",
         "yes",
         "no",
         "cellular",
         "4",
         "feb",
         "820",
         "3",
         "-1",
         "0",
         "unknown",
         "no"
        ],
        [
         "16164",
         "1027",
         "37.0",
         "technician",
         "divorced",
         "secondary",
         "no",
         "3068",
         "yes",
         "yes",
         "cellular",
         "20",
         "nov",
         "370",
         "2",
         "195",
         "1",
         "other",
         "yes"
        ],
        [
         "16165",
         "18834",
         "45.0",
         "management",
         "divorced",
         "tertiary",
         "no",
         "1",
         "no",
         "no",
         "cellular",
         "6",
         "aug",
         "490",
         "2",
         "-1",
         "0",
         "unknown",
         "yes"
        ],
        [
         "16166",
         "3028",
         "66.0",
         "housemaid",
         "married",
         "primary",
         "no",
         "1230",
         "no",
         "no",
         "cellular",
         "17",
         "dec",
         "726",
         "3",
         "-1",
         "0",
         "unknown",
         "yes"
        ],
        [
         "16167",
         "4943",
         "49.0",
         "management",
         "married",
         "secondary",
         "no",
         "1623",
         "yes",
         "no",
         "cellular",
         "19",
         "nov",
         "1081",
         "2",
         "-1",
         "0",
         "unknown",
         "yes"
        ]
       ],
       "shape": {
        "columns": 18,
        "rows": 5
       }
      },
      "text/html": [
       "<div>\n",
       "<style scoped>\n",
       "    .dataframe tbody tr th:only-of-type {\n",
       "        vertical-align: middle;\n",
       "    }\n",
       "\n",
       "    .dataframe tbody tr th {\n",
       "        vertical-align: top;\n",
       "    }\n",
       "\n",
       "    .dataframe thead th {\n",
       "        text-align: right;\n",
       "    }\n",
       "</style>\n",
       "<table border=\"1\" class=\"dataframe\">\n",
       "  <thead>\n",
       "    <tr style=\"text-align: right;\">\n",
       "      <th></th>\n",
       "      <th>id</th>\n",
       "      <th>age</th>\n",
       "      <th>job</th>\n",
       "      <th>marital</th>\n",
       "      <th>education</th>\n",
       "      <th>default</th>\n",
       "      <th>balance</th>\n",
       "      <th>housing</th>\n",
       "      <th>loan</th>\n",
       "      <th>contact</th>\n",
       "      <th>day</th>\n",
       "      <th>month</th>\n",
       "      <th>duration</th>\n",
       "      <th>campaign</th>\n",
       "      <th>pdays</th>\n",
       "      <th>previous</th>\n",
       "      <th>poutcome</th>\n",
       "      <th>deposit</th>\n",
       "    </tr>\n",
       "  </thead>\n",
       "  <tbody>\n",
       "    <tr>\n",
       "      <th>16163</th>\n",
       "      <td>9609</td>\n",
       "      <td>26.0</td>\n",
       "      <td>blue-collar</td>\n",
       "      <td>married</td>\n",
       "      <td>secondary</td>\n",
       "      <td>no</td>\n",
       "      <td>895</td>\n",
       "      <td>yes</td>\n",
       "      <td>no</td>\n",
       "      <td>cellular</td>\n",
       "      <td>4</td>\n",
       "      <td>feb</td>\n",
       "      <td>820</td>\n",
       "      <td>3</td>\n",
       "      <td>-1</td>\n",
       "      <td>0</td>\n",
       "      <td>unknown</td>\n",
       "      <td>no</td>\n",
       "    </tr>\n",
       "    <tr>\n",
       "      <th>16164</th>\n",
       "      <td>1027</td>\n",
       "      <td>37.0</td>\n",
       "      <td>technician</td>\n",
       "      <td>divorced</td>\n",
       "      <td>secondary</td>\n",
       "      <td>no</td>\n",
       "      <td>3068</td>\n",
       "      <td>yes</td>\n",
       "      <td>yes</td>\n",
       "      <td>cellular</td>\n",
       "      <td>20</td>\n",
       "      <td>nov</td>\n",
       "      <td>370</td>\n",
       "      <td>2</td>\n",
       "      <td>195</td>\n",
       "      <td>1</td>\n",
       "      <td>other</td>\n",
       "      <td>yes</td>\n",
       "    </tr>\n",
       "    <tr>\n",
       "      <th>16165</th>\n",
       "      <td>18834</td>\n",
       "      <td>45.0</td>\n",
       "      <td>management</td>\n",
       "      <td>divorced</td>\n",
       "      <td>tertiary</td>\n",
       "      <td>no</td>\n",
       "      <td>1</td>\n",
       "      <td>no</td>\n",
       "      <td>no</td>\n",
       "      <td>cellular</td>\n",
       "      <td>6</td>\n",
       "      <td>aug</td>\n",
       "      <td>490</td>\n",
       "      <td>2</td>\n",
       "      <td>-1</td>\n",
       "      <td>0</td>\n",
       "      <td>unknown</td>\n",
       "      <td>yes</td>\n",
       "    </tr>\n",
       "    <tr>\n",
       "      <th>16166</th>\n",
       "      <td>3028</td>\n",
       "      <td>66.0</td>\n",
       "      <td>housemaid</td>\n",
       "      <td>married</td>\n",
       "      <td>primary</td>\n",
       "      <td>no</td>\n",
       "      <td>1230</td>\n",
       "      <td>no</td>\n",
       "      <td>no</td>\n",
       "      <td>cellular</td>\n",
       "      <td>17</td>\n",
       "      <td>dec</td>\n",
       "      <td>726</td>\n",
       "      <td>3</td>\n",
       "      <td>-1</td>\n",
       "      <td>0</td>\n",
       "      <td>unknown</td>\n",
       "      <td>yes</td>\n",
       "    </tr>\n",
       "    <tr>\n",
       "      <th>16167</th>\n",
       "      <td>4943</td>\n",
       "      <td>49.0</td>\n",
       "      <td>management</td>\n",
       "      <td>married</td>\n",
       "      <td>secondary</td>\n",
       "      <td>no</td>\n",
       "      <td>1623</td>\n",
       "      <td>yes</td>\n",
       "      <td>no</td>\n",
       "      <td>cellular</td>\n",
       "      <td>19</td>\n",
       "      <td>nov</td>\n",
       "      <td>1081</td>\n",
       "      <td>2</td>\n",
       "      <td>-1</td>\n",
       "      <td>0</td>\n",
       "      <td>unknown</td>\n",
       "      <td>yes</td>\n",
       "    </tr>\n",
       "  </tbody>\n",
       "</table>\n",
       "</div>"
      ],
      "text/plain": [
       "          id   age          job   marital  education default  balance housing  \\\n",
       "16163   9609  26.0  blue-collar   married  secondary      no      895     yes   \n",
       "16164   1027  37.0   technician  divorced  secondary      no     3068     yes   \n",
       "16165  18834  45.0   management  divorced   tertiary      no        1      no   \n",
       "16166   3028  66.0    housemaid   married    primary      no     1230      no   \n",
       "16167   4943  49.0   management   married  secondary      no     1623     yes   \n",
       "\n",
       "      loan   contact  day month  duration  campaign  pdays  previous poutcome  \\\n",
       "16163   no  cellular    4   feb       820         3     -1         0  unknown   \n",
       "16164  yes  cellular   20   nov       370         2    195         1    other   \n",
       "16165   no  cellular    6   aug       490         2     -1         0  unknown   \n",
       "16166   no  cellular   17   dec       726         3     -1         0  unknown   \n",
       "16167   no  cellular   19   nov      1081         2     -1         0  unknown   \n",
       "\n",
       "      deposit  \n",
       "16163      no  \n",
       "16164     yes  \n",
       "16165     yes  \n",
       "16166     yes  \n",
       "16167     yes  "
      ]
     },
     "execution_count": 50,
     "metadata": {},
     "output_type": "execute_result"
    }
   ],
   "source": [
    "# Verificar duplicados exactos\n",
    "duplicados = df[df.duplicated()]\n",
    "print(f\"Filas duplicadas exactas: {len(duplicados)}\")\n",
    "duplicados.head()"
   ]
  },
  {
   "cell_type": "markdown",
   "id": "d4e96db9",
   "metadata": {},
   "source": [
    "Se han detectado 10 filas duplicadas exactas, las eliminamos por que no aportan informacion nueva al analisis y pueden sesgar resultados"
   ]
  },
  {
   "cell_type": "code",
   "execution_count": 51,
   "id": "7ac53ade",
   "metadata": {},
   "outputs": [
    {
     "name": "stdout",
     "output_type": "stream",
     "text": [
      "(16163, 18)\n"
     ]
    }
   ],
   "source": [
    "# Eliminar duplicados exactos\n",
    "df_cleaned_250519 = df.drop_duplicates()\n",
    "\n",
    "\n",
    "# Confirmar que se han eliminado\n",
    "print(df_cleaned_250519.shape)\n",
    "\n"
   ]
  },
  {
   "cell_type": "code",
   "execution_count": 52,
   "id": "eb4f1241",
   "metadata": {},
   "outputs": [
    {
     "name": "stdout",
     "output_type": "stream",
     "text": [
      "Resumen de limpieza de columnas con valores nulos:\n",
      "\n",
      "- education: 10 nulos reemplazados con 'secondary'\n",
      "- marital: 9 nulos reemplazados con 'married'\n",
      "- housing: 20 nulos reemplazados con 'no'\n"
     ]
    },
    {
     "name": "stderr",
     "output_type": "stream",
     "text": [
      "C:\\Users\\astar\\AppData\\Local\\Temp\\ipykernel_28600\\2369038468.py:14: FutureWarning: A value is trying to be set on a copy of a DataFrame or Series through chained assignment using an inplace method.\n",
      "The behavior will change in pandas 3.0. This inplace method will never work because the intermediate object on which we are setting values always behaves as a copy.\n",
      "\n",
      "For example, when doing 'df[col].method(value, inplace=True)', try using 'df.method({col: value}, inplace=True)' or df[col] = df[col].method(value) instead, to perform the operation inplace on the original object.\n",
      "\n",
      "\n",
      "  df_cleaned_250519[col].fillna(moda, inplace=True)\n",
      "C:\\Users\\astar\\AppData\\Local\\Temp\\ipykernel_28600\\2369038468.py:14: SettingWithCopyWarning: \n",
      "A value is trying to be set on a copy of a slice from a DataFrame\n",
      "\n",
      "See the caveats in the documentation: https://pandas.pydata.org/pandas-docs/stable/user_guide/indexing.html#returning-a-view-versus-a-copy\n",
      "  df_cleaned_250519[col].fillna(moda, inplace=True)\n"
     ]
    }
   ],
   "source": [
    "df = pd.read_csv(\"C:/Users/astar/Desktop/simulacion empresarial/ProjecteData/Equip_9/Data/df_original_250519.csv\")\n",
    "df_cleaned_250519 = df.drop_duplicates()\n",
    "\n",
    "# Lista de columnas a limpiar\n",
    "columnas_a_rellenar = [\"education\", \"marital\", \"housing\"]\n",
    "\n",
    "# Diccionario para guardar modas y nulos\n",
    "resumen_limpieza = {}\n",
    "\n",
    "# Revisión y limpieza\n",
    "for col in columnas_a_rellenar:\n",
    "    nulos_antes = df_cleaned_250519[col].isna().sum()\n",
    "    moda = df_cleaned_250519[col].mode()[0]\n",
    "    df_cleaned_250519[col].fillna(moda, inplace=True)\n",
    "    \n",
    "    resumen_limpieza[col] = {\n",
    "        \"nulos_reemplazados\": nulos_antes,\n",
    "        \"moda_usada\": moda\n",
    "    }\n",
    "\n",
    "# Mostrar resultados\n",
    "print(\"Resumen de limpieza de columnas con valores nulos:\\n\")\n",
    "for col, info in resumen_limpieza.items():\n",
    "    print(f\"- {col}: {info['nulos_reemplazados']} nulos reemplazados con '{info['moda_usada']}'\")\n",
    "\n",
    "\n"
   ]
  },
  {
   "cell_type": "code",
   "execution_count": 53,
   "id": "c227e437",
   "metadata": {},
   "outputs": [
    {
     "name": "stdout",
     "output_type": "stream",
     "text": [
      "La columna 'default' contiene solo 'yes' y 'no'\n",
      "La columna 'housing' contiene solo 'yes' y 'no'\n",
      "La columna 'loan' contiene solo 'yes' y 'no'\n",
      "La columna 'deposit' contiene solo 'yes' y 'no'\n",
      "id            int64\n",
      "age           int32\n",
      "job          object\n",
      "marital      object\n",
      "education    object\n",
      "default        bool\n",
      "balance       int64\n",
      "housing        bool\n",
      "loan           bool\n",
      "contact      object\n",
      "day           int64\n",
      "month        object\n",
      "duration      int64\n",
      "campaign      int64\n",
      "pdays         int64\n",
      "previous      int64\n",
      "poutcome     object\n",
      "deposit        bool\n",
      "dtype: object\n"
     ]
    },
    {
     "name": "stderr",
     "output_type": "stream",
     "text": [
      "C:\\Users\\astar\\AppData\\Local\\Temp\\ipykernel_28600\\1919720338.py:8: SettingWithCopyWarning: \n",
      "A value is trying to be set on a copy of a slice from a DataFrame.\n",
      "Try using .loc[row_indexer,col_indexer] = value instead\n",
      "\n",
      "See the caveats in the documentation: https://pandas.pydata.org/pandas-docs/stable/user_guide/indexing.html#returning-a-view-versus-a-copy\n",
      "  df_cleaned_250519['age'] = pd.to_numeric(df_cleaned_250519['age'], errors='coerce').fillna(0).astype(int)\n",
      "C:\\Users\\astar\\AppData\\Local\\Temp\\ipykernel_28600\\1919720338.py:13: SettingWithCopyWarning: \n",
      "A value is trying to be set on a copy of a slice from a DataFrame.\n",
      "Try using .loc[row_indexer,col_indexer] = value instead\n",
      "\n",
      "See the caveats in the documentation: https://pandas.pydata.org/pandas-docs/stable/user_guide/indexing.html#returning-a-view-versus-a-copy\n",
      "  df_cleaned_250519[col] = df_cleaned_250519[col].map({'yes': True, 'no': False})\n",
      "C:\\Users\\astar\\AppData\\Local\\Temp\\ipykernel_28600\\1919720338.py:13: SettingWithCopyWarning: \n",
      "A value is trying to be set on a copy of a slice from a DataFrame.\n",
      "Try using .loc[row_indexer,col_indexer] = value instead\n",
      "\n",
      "See the caveats in the documentation: https://pandas.pydata.org/pandas-docs/stable/user_guide/indexing.html#returning-a-view-versus-a-copy\n",
      "  df_cleaned_250519[col] = df_cleaned_250519[col].map({'yes': True, 'no': False})\n",
      "C:\\Users\\astar\\AppData\\Local\\Temp\\ipykernel_28600\\1919720338.py:13: SettingWithCopyWarning: \n",
      "A value is trying to be set on a copy of a slice from a DataFrame.\n",
      "Try using .loc[row_indexer,col_indexer] = value instead\n",
      "\n",
      "See the caveats in the documentation: https://pandas.pydata.org/pandas-docs/stable/user_guide/indexing.html#returning-a-view-versus-a-copy\n",
      "  df_cleaned_250519[col] = df_cleaned_250519[col].map({'yes': True, 'no': False})\n",
      "C:\\Users\\astar\\AppData\\Local\\Temp\\ipykernel_28600\\1919720338.py:13: SettingWithCopyWarning: \n",
      "A value is trying to be set on a copy of a slice from a DataFrame.\n",
      "Try using .loc[row_indexer,col_indexer] = value instead\n",
      "\n",
      "See the caveats in the documentation: https://pandas.pydata.org/pandas-docs/stable/user_guide/indexing.html#returning-a-view-versus-a-copy\n",
      "  df_cleaned_250519[col] = df_cleaned_250519[col].map({'yes': True, 'no': False})\n"
     ]
    }
   ],
   "source": [
    "# Detectar columnas con solo 'yes' y 'no'\n",
    "for col in df_cleaned_250519.columns:\n",
    "    unique_vals = df_cleaned_250519[col].dropna().unique()\n",
    "    if set(unique_vals).issubset({'yes', 'no'}):\n",
    "        print(f\"La columna '{col}' contiene solo 'yes' y 'no'\")\n",
    "\n",
    "# Convertir 'age' a entero (por si acaso contiene flotantes por error)\n",
    "df_cleaned_250519['age'] = pd.to_numeric(df_cleaned_250519['age'], errors='coerce').fillna(0).astype(int)\n",
    "\n",
    "# Convertir columnas binarias 'yes'/'no' a booleanas\n",
    "bool_columns = ['default', 'housing', 'loan', 'deposit']\n",
    "for col in bool_columns:\n",
    "    df_cleaned_250519[col] = df_cleaned_250519[col].map({'yes': True, 'no': False})\n",
    "print(df_cleaned_250519.dtypes)\n"
   ]
  },
  {
   "cell_type": "code",
   "execution_count": 54,
   "id": "b13201e0",
   "metadata": {},
   "outputs": [
    {
     "name": "stderr",
     "output_type": "stream",
     "text": [
      "C:\\Users\\astar\\AppData\\Local\\Temp\\ipykernel_28600\\578032917.py:2: SettingWithCopyWarning: \n",
      "A value is trying to be set on a copy of a slice from a DataFrame.\n",
      "Try using .loc[row_indexer,col_indexer] = value instead\n",
      "\n",
      "See the caveats in the documentation: https://pandas.pydata.org/pandas-docs/stable/user_guide/indexing.html#returning-a-view-versus-a-copy\n",
      "  df_cleaned_250519['month'] = df_cleaned_250519['month'].str.strip().str.capitalize()\n",
      "C:\\Users\\astar\\AppData\\Local\\Temp\\ipykernel_28600\\578032917.py:5: UserWarning: Could not infer format, so each element will be parsed individually, falling back to `dateutil`. To ensure parsing is consistent and as-expected, please specify a format.\n",
      "  df_cleaned_250519['date'] = pd.to_datetime(\n",
      "C:\\Users\\astar\\AppData\\Local\\Temp\\ipykernel_28600\\578032917.py:5: SettingWithCopyWarning: \n",
      "A value is trying to be set on a copy of a slice from a DataFrame.\n",
      "Try using .loc[row_indexer,col_indexer] = value instead\n",
      "\n",
      "See the caveats in the documentation: https://pandas.pydata.org/pandas-docs/stable/user_guide/indexing.html#returning-a-view-versus-a-copy\n",
      "  df_cleaned_250519['date'] = pd.to_datetime(\n"
     ]
    }
   ],
   "source": [
    "# Asegurar que 'month' tenga solo la primera letra en mayúscula\n",
    "df_cleaned_250519['month'] = df_cleaned_250519['month'].str.strip().str.capitalize()\n",
    "\n",
    "# Crear columna 'date' combinando 'day' y 'month' (asumiendo año 2024)\n",
    "df_cleaned_250519['date'] = pd.to_datetime(\n",
    "    df_cleaned_250519['day'].astype(str) + '-' + df_cleaned_250519['month'] + '-2024',\n",
    "    dayfirst=True\n",
    ")\n"
   ]
  },
  {
   "cell_type": "code",
   "execution_count": 55,
   "id": "38eaa93c",
   "metadata": {},
   "outputs": [],
   "source": [
    "df_cleaned_250519.to_csv(\"df.csv\", index=False)"
   ]
  }
 ],
 "metadata": {
  "kernelspec": {
   "display_name": "myenv",
   "language": "python",
   "name": "python3"
  },
  "language_info": {
   "codemirror_mode": {
    "name": "ipython",
    "version": 3
   },
   "file_extension": ".py",
   "mimetype": "text/x-python",
   "name": "python",
   "nbconvert_exporter": "python",
   "pygments_lexer": "ipython3",
   "version": "3.12.7"
  }
 },
 "nbformat": 4,
 "nbformat_minor": 5
}
