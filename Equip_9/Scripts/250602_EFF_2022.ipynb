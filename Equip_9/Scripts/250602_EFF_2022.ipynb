{
 "cells": [
  {
   "cell_type": "markdown",
   "id": "97f5ec67",
   "metadata": {},
   "source": [
    "# **Encuesta Financiera de las Familias (EFF) - España, 2008**"
   ]
  },
  {
   "cell_type": "code",
   "execution_count": null,
   "id": "0fb17d58",
   "metadata": {},
   "outputs": [],
   "source": []
  }
 ],
 "metadata": {
  "language_info": {
   "name": "python"
  }
 },
 "nbformat": 4,
 "nbformat_minor": 5
}
