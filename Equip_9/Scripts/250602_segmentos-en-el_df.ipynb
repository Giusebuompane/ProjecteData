{
 "cells": [
  {
   "cell_type": "markdown",
   "id": "21d2b6ca",
   "metadata": {},
   "source": [
    "\n",
    "### Objectiu del departament d'Anàlisi de Perfil Client:\n",
    "\n",
    "> Quines combinacions de característiques demogràfiques (com edat, nivell educatiu i ocupació) són més comunes entre els clients que utilitzen múltiples productes financers del banc: loan, hipoteca, dipòsit?"
   ]
  },
  {
   "cell_type": "markdown",
   "id": "41c6f94c",
   "metadata": {},
   "source": [
    "### Llibreries i càrrega de dades"
   ]
  },
  {
   "cell_type": "code",
   "execution_count": 7,
   "id": "5c6f88df",
   "metadata": {},
   "outputs": [],
   "source": [
    "\"\"\"Libreries que poden ser necessàries\"\"\"\n",
    "\n",
    "# Manejo de datos\n",
    "import pandas as pd                 # Análisis y manipulación de datos en tablas\n",
    "import numpy as np                  # Cálculos numéricos y matrices\n",
    "import os                           # Gestión de rutas de archivos\n",
    "\n",
    "# Visualización de datos\n",
    "import matplotlib.pyplot as plt     # Gráficos básicos en 2D\n",
    "import seaborn as sns               # Gráficos estadísticos mejorados\n",
    "import plotly.express as px         # Gráficos interactivos simplificados\n",
    "import plotly.graph_objects as go   # Control avanzado de gráficos en Plotly\n",
    "import plotly.io as pio             # Interfaz de entrada/salida de Plotly\n",
    "import squarify                     # Visualización de diagramas de \"treemap\"\n",
    "from plottable import Table         # Visualización de tablas\n",
    "import matplotlib.colors as mcolors # Colores y mapas de colores\n",
    "\n",
    "# Clustering y agrupamiento\n",
    "from sklearn.model_selection import train_test_split\n",
    "from sklearn.preprocessing import StandardScaler, RobustScaler, MinMaxScaler, OneHotEncoder, LabelEncoder, OrdinalEncoder\n",
    "from sklearn.cluster import KMeans\n",
    "from sklearn.datasets import make_blobs\n",
    "from kmodes.kmodes import KModes\n",
    "from kmodes.kprototypes import KPrototypes\n"
   ]
  },
  {
   "cell_type": "code",
   "execution_count": 8,
   "id": "23d41852",
   "metadata": {},
   "outputs": [],
   "source": [
    "# %pip install plottable\n",
    "# %pip install kmodes\n"
   ]
  },
  {
   "cell_type": "code",
   "execution_count": 9,
   "id": "09180b46",
   "metadata": {},
   "outputs": [],
   "source": [
    "df = pd.read_csv(\"../Data/df_250519.csv\")"
   ]
  },
  {
   "cell_type": "markdown",
   "id": "e0234695",
   "metadata": {},
   "source": [
    "Paleta de colors"
   ]
  },
  {
   "cell_type": "code",
   "execution_count": 10,
   "id": "d57c4e5a",
   "metadata": {},
   "outputs": [],
   "source": [
    "custom_palette = [\"#AABBC8\", \"#2CCED1\", \"#5F6F81\", \"#DCE3EA\", \"#2E2F36\"]  \n",
    "sns.set_palette(sns.color_palette(custom_palette))"
   ]
  },
  {
   "cell_type": "markdown",
   "id": "c4a9019c",
   "metadata": {},
   "source": [
    "### Extracte KPIs"
   ]
  },
  {
   "cell_type": "code",
   "execution_count": 12,
   "id": "6054a41a",
   "metadata": {},
   "outputs": [
    {
     "name": "stdout",
     "output_type": "stream",
     "text": [
      "El número total de clientes contactados es: 16163\n",
      "El número de suscriptores es: 7712\n",
      "La duración total de las llamadas a suscriptores es: 4161406\n",
      "El número de llamadas realizadas a teléfono fijo es:  3274\n",
      "El número de llamadas realizadas a móvil es:  28002\n",
      "El número total de llamadas realizadas es:  40513\n",
      "El número total de contactos previos de los suscriptores es: 9149\n",
      "La conversión por mes es:  month\n",
      "Apr    0.632210\n",
      "Aug    0.456830\n",
      "Dec    0.910256\n",
      "Feb    0.579892\n",
      "Jan    0.408537\n",
      "Jul    0.413684\n",
      "Jun    0.447770\n",
      "Mar    0.903704\n",
      "May    0.334953\n",
      "Nov    0.420236\n",
      "Oct    0.837500\n",
      "Sep    0.842333\n",
      "Name: deposit, dtype: float64\n"
     ]
    }
   ],
   "source": [
    "\n",
    "# Variables \n",
    "contactados   = df.nunique().id                                     # Número total de clientes contactados\n",
    "suscribieron  = df[df['deposit'] == True].nunique().id             # Número de clientes que suscribieron \n",
    "duracion_llam = df[df['deposit'] == True].duration.sum()           # Duración de llamadas a suscriptores\n",
    "llam_telf = df[df['contact'] == 'telephone']['campaign'].sum()      # Número de llamadas realizadas por teléfono\n",
    "llam_cell = df[df['contact'] == 'cellular']['campaign'].sum()       # Número de llamadas realizadas por movil\n",
    "llam = df['campaign'].sum()                                         # Número total de llamadas\n",
    "contatos_previos_sus = df[df['deposit'] == True]['previous'].sum() # Número de contactos previos a suscriptores\n",
    "suscribieron_por_mes = df[df['deposit'] == True].groupby('month').count()['deposit']  # Suscriptores en el mes\n",
    "contactos_por_mes = df.groupby('month').count()['deposit']          # clientes contactados en el mes      \n",
    "conversion_por_mes = suscribieron_por_mes / contactos_por_mes       # conversión por mes\n",
    "\n",
    "\n",
    "# Prints\n",
    "print(\"El número total de clientes contactados es:\",contactados)\n",
    "print(\"El número de suscriptores es:\",suscribieron)\n",
    "print(\"La duración total de las llamadas a suscriptores es:\",duracion_llam)\n",
    "print(\"El número de llamadas realizadas a teléfono fijo es: \", llam_telf)\n",
    "print(\"El número de llamadas realizadas a móvil es: \", llam_cell)\n",
    "print(\"El número total de llamadas realizadas es: \", llam)\n",
    "print(\"El número total de contactos previos de los suscriptores es:\", contatos_previos_sus)\n",
    "print(\"La conversión por mes es: \", conversion_por_mes)"
   ]
  },
  {
   "cell_type": "code",
   "execution_count": 13,
   "id": "ed31625b",
   "metadata": {},
   "outputs": [
    {
     "name": "stdout",
     "output_type": "stream",
     "text": [
      "KPI 1: El porcentaje de conversión a depósito es  47.713914496071276 %\n",
      "KPI 2: La duración media de las llamadas a suscriptoreses 539.6014004149378\n",
      "KPI 3.1: El porcentaje de llamadas realizadas por teléfono fijo es  8.081356601584677 %\n",
      "KPI 3.2: El porcentaje de llamadas realizadas por teléfono móvil es  69.11855453804951 %\n",
      "KPI 4: El porcentaje de contactos previos a suscriptores es  1.1863329875518671\n",
      "KPI 5: El mes amb millor conversió ha sigut Dec amb una taxa de conversió de 0.9102564102564102\n"
     ]
    }
   ],
   "source": [
    "#KPIs\n",
    "kpi1 = suscribieron/contactados          # porcentaje de conversión a depósito\n",
    "kpi2 = duracion_llam/suscribieron        # promedio de duración de llamadas a suscriptores\n",
    "kpi3_tel = llam_telf/llam                # porcentaje de llamadas a teléfono\n",
    "kpi3_cell = llam_cell/llam               # porcentaje de llamadas a móvil\n",
    "kpi3 = (llam_telf+llam_cell)/llam        # porcentaje de llamadas a teléfono o móvil\n",
    "kpi4 = contatos_previos_sus/suscribieron # promedio de contactos previos a suscriptores\n",
    "kpi5 = conversion_por_mes.idxmax()       # mes con mayor tasa de conversión\n",
    "kpi5_tasa = conversion_por_mes.max()     # tasa de conversión del mes con mayor tasa de conversión\n",
    "\n",
    "\n",
    "\n",
    "\n",
    "# Prints\n",
    "print(\"KPI 1: El porcentaje de conversión a depósito es \",kpi1*100,\"%\")\n",
    "print(\"KPI 2: La duración media de las llamadas a suscriptoreses\",kpi2)\n",
    "# print(\"KPI 3: El porcentaje de llamadas realizadas por teléfono o móvil es \",kpi3*100,\"%\")\n",
    "print(\"KPI 3.1: El porcentaje de llamadas realizadas por teléfono fijo es \",kpi3_tel*100,\"%\")\n",
    "print(\"KPI 3.2: El porcentaje de llamadas realizadas por teléfono móvil es \",kpi3_cell*100,\"%\")\n",
    "print(\"KPI 4: El porcentaje de contactos previos a suscriptores es \",kpi4)\n",
    "print(\"KPI 5: El mes amb millor conversió ha sigut\", kpi5, \"amb una taxa de conversió de\", kpi5_tasa)"
   ]
  },
  {
   "cell_type": "markdown",
   "id": "5c3d464e",
   "metadata": {},
   "source": [
    "# Anàlisi "
   ]
  },
  {
   "cell_type": "markdown",
   "id": "e2b5810e",
   "metadata": {},
   "source": [
    "Volem saber, dels clients del banc, quins són els perfils més comuns (3 variables)?\n"
   ]
  },
  {
   "cell_type": "code",
   "execution_count": null,
   "id": "26ef1fee",
   "metadata": {},
   "outputs": [],
   "source": [
    "# Tractament de les dades\n",
    "\n",
    "# Suposem que el teu DataFrame es diu df\n",
    "df = df[['age', 'job', 'marital', 'education']]\n",
    "\n",
    "# Eliminem files amb valors nuls\n",
    "df_clean = df.dropna()\n",
    "\n"
   ]
  },
  {
   "cell_type": "code",
   "execution_count": 16,
   "id": "71268136",
   "metadata": {},
   "outputs": [],
   "source": [
    "# Codificació de columnes categòriques\n",
    "from sklearn.preprocessing import OneHotEncoder\n",
    "\n",
    "categorical_cols = ['job', 'marital', 'education']\n",
    "encoder = OneHotEncoder(sparse_output=False)\n",
    "encoded = encoder.fit_transform(df_clean[categorical_cols])\n",
    "\n",
    "# Convertim a DataFrame i combinem amb 'age'\n",
    "encoded_df = pd.DataFrame(encoded, columns=encoder.get_feature_names_out(categorical_cols))\n",
    "df_encoded = pd.concat([df_clean[['age']].reset_index(drop=True), encoded_df], axis=1)\n"
   ]
  },
  {
   "cell_type": "code",
   "execution_count": 19,
   "id": "4c30387a",
   "metadata": {},
   "outputs": [],
   "source": [
    "# Normalització (opcional però recomanada)\n",
    "\n",
    "from sklearn.preprocessing import StandardScaler\n",
    "\n",
    "scaler = StandardScaler()\n",
    "df_scaled = scaler.fit_transform(df_encoded)"
   ]
  },
  {
   "cell_type": "code",
   "execution_count": 22,
   "id": "f658e533",
   "metadata": {},
   "outputs": [
    {
     "data": {
      "image/png": "[encoded data removed]",
      "text/plain": [
       "<Figure size 640x480 with 1 Axes>"
      ]
     },
     "metadata": {},
     "output_type": "display_data"
    }
   ],
   "source": [
    "# Seleccionar el nombre òptim de clústers (opcional)\n",
    "\n",
    "import matplotlib.pyplot as plt\n",
    "from sklearn.cluster import KMeans\n",
    "\n",
    "inertia = []\n",
    "for k in range(1, 11):\n",
    "    kmeans = KMeans(n_clusters=k, random_state=42)\n",
    "    kmeans.fit(df_scaled)\n",
    "    inertia.append(kmeans.inertia_)\n",
    "\n",
    "plt.plot(range(1, 11), inertia, marker='o')\n",
    "plt.xlabel('Nombre de clústers')\n",
    "plt.ylabel('Inèrcia')\n",
    "plt.title('Elbow Method')\n",
    "plt.show()\n"
   ]
  },
  {
   "cell_type": "code",
   "execution_count": 23,
   "id": "b9893870",
   "metadata": {},
   "outputs": [],
   "source": [
    "# Aplicar K-Means\n",
    "\n",
    "kmeans = KMeans(n_clusters=6, random_state=42)  # Tria el nombre òptim de clústers\n",
    "clusters = kmeans.fit_predict(df_scaled)\n",
    "\n",
    "# Afegim els resultats al DataFrame original\n",
    "df_clean['cluster'] = clusters\n"
   ]
  },
  {
   "cell_type": "code",
   "execution_count": 25,
   "id": "52f6e443",
   "metadata": {},
   "outputs": [
    {
     "data": {
      "text/plain": [
       "<Axes: xlabel='age', ylabel='education'>"
      ]
     },
     "execution_count": 25,
     "metadata": {},
     "output_type": "execute_result"
    },
    {
     "data": {
      "image/png": "[encoded data removed]",
      "text/plain": [
       "<Figure size 640x480 with 1 Axes>"
      ]
     },
     "metadata": {},
     "output_type": "display_data"
    }
   ],
   "source": [
    "# Visualització dels clústers\n",
    "\n",
    "import seaborn as sns\n",
    "\n",
    "sns.scatterplot(data=df_clean, x='age', y='education', hue='cluster')  # o altres variables\n"
   ]
  },
  {
   "cell_type": "code",
   "execution_count": 26,
   "id": "4dae67f3",
   "metadata": {},
   "outputs": [],
   "source": [
    "# Obtenir els centroides\n",
    "centroids = kmeans.cluster_centers_\n",
    "\n"
   ]
  },
  {
   "cell_type": "code",
   "execution_count": 30,
   "id": "8f99dd93",
   "metadata": {},
   "outputs": [
    {
     "name": "stdout",
     "output_type": "stream",
     "text": [
      "         age    job_admin.  job_blue-collar  job_entrepreneur  job_housemaid  \\\n",
      "0  39.637386  5.219605e-02     9.335879e-03      4.137492e-02   1.379164e-02   \n",
      "1  37.933080 -3.885781e-16     2.498002e-16      7.979728e-17  -6.591949e-17   \n",
      "2  26.116858 -1.526557e-16     1.110223e-16      2.428613e-17  -1.387779e-17   \n",
      "3  39.305424 -4.440892e-16     3.608225e-16      1.457168e-16   1.457168e-16   \n",
      "4  40.621344  2.931755e-01     4.897284e-01      4.892061e-02   5.832173e-02   \n",
      "5  65.319964 -3.330669e-16     2.498002e-16      5.898060e-17  -6.938894e-18   \n",
      "\n",
      "   job_management   job_retired  job_self-employed  job_services  \\\n",
      "0    7.873966e-01 -4.302114e-16       7.107999e-02  6.245005e-16   \n",
      "1   -2.498002e-16 -5.551115e-17      -4.163336e-17  1.000000e+00   \n",
      "2    1.665335e-16 -1.387779e-17      -6.938894e-18  0.000000e+00   \n",
      "3    5.828671e-16 -3.330669e-16       1.873501e-16 -3.191891e-16   \n",
      "4    2.220446e-15 -4.579670e-16       4.213092e-02  1.110223e-15   \n",
      "5    3.053113e-16  1.000000e+00       2.775558e-17 -1.387779e-17   \n",
      "\n",
      "    job_student  job_technician  job_unemployed   job_unknown  \\\n",
      "0 -1.040834e-16    1.110223e-15    2.482495e-02  4.250073e-17   \n",
      "1 -1.387779e-17   -5.551115e-17   -6.938894e-17 -1.821460e-17   \n",
      "2  1.000000e+00    8.326673e-17   -1.387779e-17 -1.734723e-18   \n",
      "3  2.498002e-16    9.625046e-01   -1.249001e-16  3.749545e-02   \n",
      "4 -3.469447e-17    1.498801e-15    6.772284e-02  7.372575e-17   \n",
      "5  3.469447e-17    2.775558e-17   -4.163336e-17 -1.301043e-17   \n",
      "\n",
      "   marital_divorced  marital_married  marital_single  education_primary  \\\n",
      "0          0.107999         0.531721        0.360280           0.020581   \n",
      "1          0.126236         0.542966        0.330798           0.092776   \n",
      "2          0.003831         0.045977        0.950192           0.065134   \n",
      "3          0.107390         0.516564        0.376047           0.026938   \n",
      "4          0.114032         0.637883        0.248085           0.256616   \n",
      "5          0.225490         0.744207        0.030303           0.362745   \n",
      "\n",
      "   education_secondary  education_tertiary  education_unknown  \n",
      "0             0.073838            0.879058           0.026522  \n",
      "1             0.808365            0.057034           0.041825  \n",
      "2             0.526820            0.224138           0.183908  \n",
      "3             0.642155            0.280670           0.050237  \n",
      "4             0.700035            0.004352           0.038997  \n",
      "5             0.395722            0.184492           0.057041  \n"
     ]
    }
   ],
   "source": [
    "# Valorr nomalitzats\n",
    "# Tornar a l'espai original (desnormalitzar)\n",
    "centroids_original = scaler.inverse_transform(centroids)\n",
    "\n",
    "# Convertir-ho en DataFrame per llegir-ho més fàcilment\n",
    "centroids_df = pd.DataFrame(centroids_original, columns=df_encoded.columns)\n",
    "\n",
    "print(centroids_df)"
   ]
  },
  {
   "cell_type": "code",
   "execution_count": 32,
   "id": "319266ef",
   "metadata": {},
   "outputs": [
    {
     "name": "stdout",
     "output_type": "stream",
     "text": [
      "   cluster  age_mean          job  marital  education\n",
      "0        0      39.6   management  married   tertiary\n",
      "1        1      37.9     services  married  secondary\n",
      "2        2      26.1      student   single  secondary\n",
      "3        3      39.3   technician  married  secondary\n",
      "4        4      40.6  blue-collar  married  secondary\n",
      "5        5      65.3      retired  married  secondary\n"
     ]
    }
   ],
   "source": [
    "# categories dominants\n",
    "\n",
    "# Per identificar més fàcilment les columnes codificades\n",
    "categorical_cols = ['job', 'marital', 'education']\n",
    "encoded_colnames = encoder.get_feature_names_out(categorical_cols)\n",
    "\n",
    "# Fem servir les mateixes columnes per reconstruir DataFrame\n",
    "centroids_df = pd.DataFrame(centroids_original, columns=['age'] + list(encoded_colnames))\n",
    "\n",
    "# Trobar la categoria dominant per clúster\n",
    "cluster_summaries = []\n",
    "\n",
    "for i, row in centroids_df.iterrows():\n",
    "    summary = {\"cluster\": i, \"age_mean\": round(row['age'], 1)}\n",
    "    \n",
    "    for col_prefix in categorical_cols:\n",
    "        # Filtrar les columnes relacionades amb aquesta variable (ex: job_admin., job_technician...)\n",
    "        cols = [col for col in encoded_colnames if col.startswith(col_prefix + \"_\")]\n",
    "        \n",
    "        # Trobar la categoria amb el valor més alt al centreide\n",
    "        best_col = max(cols, key=lambda x: row[x])\n",
    "        \n",
    "        # Afegir la categoria al resum\n",
    "        summary[col_prefix] = best_col.replace(col_prefix + \"_\", \"\")\n",
    "    \n",
    "    cluster_summaries.append(summary)\n",
    "\n",
    "# Convertim a DataFrame\n",
    "summary_df = pd.DataFrame(cluster_summaries)\n",
    "\n",
    "print(summary_df)\n",
    "\n"
   ]
  },
  {
   "cell_type": "code",
   "execution_count": 37,
   "id": "ac9cc0ee",
   "metadata": {},
   "outputs": [
    {
     "name": "stdout",
     "output_type": "stream",
     "text": [
      "   cluster  count  proportion  proportion (%)\n",
      "0        4   5744    0.355380           35.54\n",
      "1        0   4713    0.291592           29.16\n",
      "2        3   2747    0.169956           17.00\n",
      "3        1   1315    0.081359            8.14\n",
      "4        5   1122    0.069418            6.94\n",
      "5        2    522    0.032296            3.23\n"
     ]
    }
   ],
   "source": [
    "# Codi per calcular la proporció de cada clúster\n",
    "\n",
    "# Comptar i calcular proporcions\n",
    "cluster_counts = df_clean['cluster'].value_counts()\n",
    "cluster_proportions = cluster_counts / len(df_clean)\n",
    "\n",
    "# Crear DataFrame\n",
    "proportions_df = pd.DataFrame({\n",
    "    'cluster': cluster_counts.index,\n",
    "    'count': cluster_counts.values,\n",
    "    'proportion': cluster_proportions.values\n",
    "})\n",
    "\n",
    "# Afegir columna en percentatge\n",
    "proportions_df['proportion (%)'] = (proportions_df['proportion'] * 100).round(2)\n",
    "\n",
    "# Ordenar per proporció descendent\n",
    "proportions_df = proportions_df.sort_values(by='proportion', ascending=False).reset_index(drop=True)\n",
    "\n",
    "print(proportions_df)\n"
   ]
  },
  {
   "cell_type": "markdown",
   "id": "9c196407",
   "metadata": {},
   "source": [
    "# Resultats"
   ]
  },
  {
   "cell_type": "markdown",
   "id": "694602ef",
   "metadata": {},
   "source": [
    "| Clúster | %     | Perfil principal                                          |\n",
    "| ------- | ----- | --------------------------------------------------------- |\n",
    "| 0       | 35.5% | Professionals casats amb estudis superiors (`management`) |\n",
    "| 1       | 29.2% | Treballadors del sector serveis casats                    |\n",
    "| 3       | 17.0% | Tècnics qualificats amb estudis mitjans                   |\n",
    "| 2       | 3.2%  | Estudiants joves solters                                  |\n",
    "| 4       | 6.9%  | Treballadors manuals (blue-collar)                        |\n",
    "| 5       | 8.1%  | Jubilats                                                  |\n"
   ]
  },
  {
   "cell_type": "markdown",
   "id": "7df4a9c3",
   "metadata": {},
   "source": [
    "🟦 Clúster 4 (etiquetat com cluster = 0):\n",
    "35.5% del total (el grup més gran).\n",
    "\n",
    "Mitjana d’edat: 39.6\n",
    "\n",
    "Tipus de feina dominant: management\n",
    "\n",
    "Estat civil dominant: married\n",
    "\n",
    "Educació dominant: tertiary (universitària)\n",
    "\n",
    "💡 Interpretació:\n",
    "Aquest clúster representa professionals amb estudis universitaris, d’edat mitjana, majoritàriament casats, i amb feines de responsabilitat (gestió). Pot representar el perfil de classe mitjana-alta professional.\n",
    "\n",
    "🟨 Clúster 0 (cluster = 1):\n",
    "29.2% del total\n",
    "\n",
    "Edat mitjana: 37.9\n",
    "\n",
    "Feina: services\n",
    "\n",
    "Estat civil: married\n",
    "\n",
    "Educació: secondary\n",
    "\n",
    "💡 Interpretació:\n",
    "Adults joves/adults, amb treballs en el sector serveis i formació secundària. Podria ser classe treballadora establerta.\n",
    "\n",
    "🟩 Clúster 3 (cluster = 2):\n",
    "3.2% del total (el més petit)\n",
    "\n",
    "Edat mitjana: 26.1\n",
    "\n",
    "Feina: student\n",
    "\n",
    "Estat civil: single\n",
    "\n",
    "Educació: secondary\n",
    "\n",
    "💡 Interpretació:\n",
    "Clúster petit format per estudiants joves solters. Té sentit que sigui petit, ja que el perfil d’estudiant és molt específic i no generalitzat dins del conjunt.\n",
    "\n",
    "🟧 Clúster 1 (cluster = 3):\n",
    "17.0% del total\n",
    "\n",
    "Edat mitjana: 39.3\n",
    "\n",
    "Feina: technician\n",
    "\n",
    "Estat civil: married\n",
    "\n",
    "Educació: secondary\n",
    "\n",
    "💡 Interpretació:\n",
    "Treballadors tècnics amb educació secundària i edat mitjana. Possiblement classe treballadora especialitzada o tècnica.\n",
    "\n",
    "🟥 Clúster 5 (cluster = 4):\n",
    "6.9% del total\n",
    "\n",
    "Edat mitjana: 40.6\n",
    "\n",
    "Feina: blue-collar\n",
    "\n",
    "Estat civil: married\n",
    "\n",
    "Educació: secondary\n",
    "\n",
    "💡 Interpretació:\n",
    "Treballadors manuals (colze blau), amb educació secundària. Similar al clúster anterior, però probablement amb menys qualificació tècnica. Representa treballadors industrials o operaris.\n",
    "\n",
    "🟪 Clúster 2 (cluster = 5):\n",
    "8.1% del total\n",
    "\n",
    "Edat mitjana: 65.3\n",
    "\n",
    "Feina: retired\n",
    "\n",
    "Estat civil: married\n",
    "\n",
    "Educació: secondary\n",
    "\n",
    "💡 Interpretació:\n",
    "Jubilats, de mitjana edat avançada. Grup específic i clarament diferenciat per edat i ocupació."
   ]
  },
  {
   "cell_type": "markdown",
   "id": "a54ef2cf",
   "metadata": {},
   "source": []
  }
 ],
 "metadata": {
  "kernelspec": {
   "display_name": "Python 3",
   "language": "python",
   "name": "python3"
  },
  "language_info": {
   "codemirror_mode": {
    "name": "ipython",
    "version": 3
   },
   "file_extension": ".py",
   "mimetype": "text/x-python",
   "name": "python",
   "nbconvert_exporter": "python",
   "pygments_lexer": "ipython3",
   "version": "3.12.4"
  }
 },
 "nbformat": 4,
 "nbformat_minor": 5
}
