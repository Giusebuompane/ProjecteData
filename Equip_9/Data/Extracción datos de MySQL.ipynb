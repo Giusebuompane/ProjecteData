{
 "cells": [
  {
   "cell_type": "markdown",
   "id": "64c47aa4",
   "metadata": {},
   "source": [
    "# Extracción del df_original"
   ]
  },
  {
   "cell_type": "code",
   "execution_count": null,
   "id": "c7c236d9",
   "metadata": {},
   "outputs": [],
   "source": [
    "# Conexión a MySQl"
   ]
  },
  {
   "cell_type": "code",
   "execution_count": null,
   "id": "eedef769",
   "metadata": {},
   "outputs": [],
   "source": [
    "c xc"
   ]
  },
  {
   "cell_type": "code",
   "execution_count": null,
   "id": "f9450602",
   "metadata": {},
   "outputs": [],
   "source": [
    "cvbgfbv"
   ]
  }
 ],
 "metadata": {
  "language_info": {
   "name": "python"
  }
 },
 "nbformat": 4,
 "nbformat_minor": 5
}
