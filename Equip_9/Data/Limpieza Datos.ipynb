{
 "cells": [
  {
   "cell_type": "markdown",
   "id": "1df06a72",
   "metadata": {},
   "source": [
    "# Limpieza de datos\n"
   ]
  },
  {
   "cell_type": "code",
   "execution_count": null,
   "id": "3a0ce3af",
   "metadata": {},
   "outputs": [],
   "source": [
    "import pandas as pd\n",
    "import numpy as np\n",
    "\n",
    "df = pd.read_csv(\"df_original.csv\")\n",
    "# Verificar duplicados exactos\n",
    "duplicados = df[df.duplicated()]\n",
    "print(duplicados)"
   ]
  },
  {
   "cell_type": "code",
   "execution_count": null,
   "id": "c1cadf5e",
   "metadata": {},
   "outputs": [],
   "source": [
    "\n",
    "\n",
    "\n",
    "\n",
    "# Mostrar filas con valores nulos\n",
    "print(\"Filas con valores nulos:\")\n",
    "print(df[df.isnull().any(axis=1)])\n",
    "\n",
    "df_cleaned = df.dropna()\n",
    "\n",
    "# Guardar el resultado si lo deseas\n",
    "df_cleaned.to_csv(\"df_sin_nulos.csv\", index=False)\n",
    "\n",
    "\n",
    "\n",
    "\n",
    "\n",
    "\n"
   ]
  },
  {
   "cell_type": "code",
   "execution_count": null,
   "id": "f3c3b8bd",
   "metadata": {},
   "outputs": [],
   "source": [
    "# Revisar qué columnas contienen exclusivamente \"yes\" y \"no\"\n",
    "for col in df.columns:\n",
    "    unique_vals = df[col].dropna().unique()\n",
    "    if set(unique_vals).issubset({'yes', 'no'}):\n",
    "        print(f\"La columna '{col}' contiene solo 'yes' y 'no'\")\n",
    "\n",
    "# Cambiar tipo de dato a bol\n",
    "bool_columns = ['default', 'housing', 'loan', 'deposit']\n",
    "df[bool_columns] = df[bool_columns].applymap(lambda x: True if x == 'yes' else False)"
   ]
  },
  {
   "cell_type": "code",
   "execution_count": 12,
   "id": "a2195abb",
   "metadata": {},
   "outputs": [
    {
     "name": "stdout",
     "output_type": "stream",
     "text": [
      "id             int64\n",
      "age          float64\n",
      "job           object\n",
      "marital       object\n",
      "education     object\n",
      "default         bool\n",
      "balance        int64\n",
      "housing         bool\n",
      "loan            bool\n",
      "contact       object\n",
      "day            int64\n",
      "month         object\n",
      "duration       int64\n",
      "campaign       int64\n",
      "pdays          int64\n",
      "previous       int64\n",
      "poutcome      object\n",
      "deposit         bool\n",
      "dtype: object\n",
      "\n",
      "Valores únicos en 'default': [False  True]\n",
      "\n",
      "Valores únicos en 'housing': [ True False]\n",
      "\n",
      "Valores únicos en 'loan': [False  True]\n",
      "\n",
      "Valores únicos en 'deposit': [ True False]\n"
     ]
    }
   ],
   "source": [
    "print(df.dtypes)\n",
    "\n",
    "# Verificar los valores únicos en columnas booleanas\n",
    "bool_columns = ['default', 'housing', 'loan', 'deposit']  \n",
    "for col in bool_columns:\n",
    "    print(f\"\\nValores únicos en '{col}': {df[col].unique()}\")"
   ]
  },
  {
   "cell_type": "code",
   "execution_count": null,
   "id": "24d4613f",
   "metadata": {},
   "outputs": [
    {
     "name": "stdout",
     "output_type": "stream",
     "text": [
      "Empty DataFrame\n",
      "Columns: [id, age, job, marital, education, default, balance, housing, loan, contact, day, month, duration, campaign, pdays, previous, poutcome, deposit]\n",
      "Index: []\n"
     ]
    }
   ],
   "source": [
    "\n",
    "# Cambiar el tipo de dato de 'day' a int\n",
    "f_cleaned['date'] = pd.to_datetime(df_cleaned['day'].astype(str) + '-' + df_cleaned['month'] + '-2025', format='%d-%b-%Y')"
   ]
  }
 ],
 "metadata": {
  "kernelspec": {
   "display_name": "Python 3",
   "language": "python",
   "name": "python3"
  },
  "language_info": {
   "codemirror_mode": {
    "name": "ipython",
    "version": 3
   },
   "file_extension": ".py",
   "mimetype": "text/x-python",
   "name": "python",
   "nbconvert_exporter": "python",
   "pygments_lexer": "ipython3",
   "version": "3.11.9"
  }
 },
 "nbformat": 4,
 "nbformat_minor": 5
}
