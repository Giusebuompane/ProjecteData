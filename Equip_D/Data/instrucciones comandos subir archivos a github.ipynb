{
 "cells": [
  {
   "cell_type": "markdown",
   "metadata": {},
   "source": [
    "# Paso 1\n",
    "Miramos en CMD la versión que tenemos"
   ]
  },
  {
   "cell_type": "markdown",
   "metadata": {},
   "source": [
    "git clone https://github.com/ITACADEMYprojectes/ProjecteData"
   ]
  },
  {
   "cell_type": "markdown",
   "metadata": {},
   "source": [
    "# Paso 2\n",
    "Utilizamos el comando git clone https://github.com/ITACADEMYprojectes/ProjecteData para clonar el repositorio remoto a nuestro PC\n"
   ]
  },
  {
   "cell_type": "markdown",
   "metadata": {},
   "source": [
    "# Paso 3\n",
    "Creamos dentro de nuestro repositorio local un nuevo archivo, yo he usado un Jupyter Notebook"
   ]
  },
  {
   "cell_type": "markdown",
   "metadata": {},
   "source": [
    "# Paso 4 \n",
    "Usamos los siguientes comandos uno a uno en CMD para subir el archivo en cuestión"
   ]
  },
  {
   "cell_type": "code",
   "execution_count": null,
   "metadata": {},
   "outputs": [],
   "source": [
    "cd C:\\Users\\crist\\ProjecteData\\Equip_D                                        ---- Navegar a la carpeta del repositorio, vosotros el que tengáis\n",
    "git status                                                                    ---- Ver el estado del repositorio.\n",
    "git add hola-mundo-c.ipynb                                                    ---- Añadir el archivo nuevo al área de preparación\n",
    "git config --global user.name \"Cristina\"                                      ----- Configurar tu nombre y correo globalmente\n",
    "git config --global user.email \"cristinacumplido@gmail.com\"\n",
    "git config --global --list\n",
    "git commit -m \"Añadir archivo hola-mundo-c.ipynb\"                             -----Confirmar los cambios con un commit.\n",
    "git push origin main                                                          -----Subir los cambios al repositorio remoto en GitHub."
   ]
  },
  {
   "cell_type": "markdown",
   "metadata": {},
   "source": [
    "# Paso 5\n",
    " Actualizar archivos desde GitHub a tu repositorio local usa el comando: git pull origin main\n"
   ]
  },
  {
   "cell_type": "markdown",
   "metadata": {},
   "source": [
    "# Paso 6\n",
    "## Actualizar y subir tus cambios después de modificarlos\n",
    "\n",
    " "
   ]
  },
  {
   "cell_type": "code",
   "execution_count": null,
   "metadata": {},
   "outputs": [],
   "source": [
    "#Si has realizado cambios en tus archivos y quieres actualizarlos en GitHub después de hacer un commit, puedes seguir estos pasos:\n",
    " git add .                                                                   --- así añades cambios"
   ]
  },
  {
   "cell_type": "code",
   "execution_count": null,
   "metadata": {},
   "outputs": [],
   "source": [
    "git commit -m \"Descripción de los cambios\"                                  --- hacer eñ commit\n",
    "\n",
    "git push origin main                                                         ---Subir los cambios a GitHub"
   ]
  }
 ],
 "metadata": {
  "language_info": {
   "name": "python"
  }
 },
 "nbformat": 4,
 "nbformat_minor": 2
}
