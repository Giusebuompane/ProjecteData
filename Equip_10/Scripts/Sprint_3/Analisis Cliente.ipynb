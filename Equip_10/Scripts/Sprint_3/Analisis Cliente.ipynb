{
 "cells": [
  {
   "cell_type": "markdown",
   "id": "f2b3b446",
   "metadata": {},
   "source": [
    "# Análisis departamento de Experiencia del Cliente"
   ]
  },
  {
   "cell_type": "markdown",
   "id": "1a4f10f3",
   "metadata": {},
   "source": [
    "## Cargar dataset df_tourist_python_sprint3.csv"
   ]
  },
  {
   "cell_type": "code",
   "execution_count": 1,
   "id": "de154742",
   "metadata": {},
   "outputs": [
    {
     "data": {
      "application/vnd.microsoft.datawrangler.viewer.v0+json": {
       "columns": [
        {
         "name": "index",
         "rawType": "int64",
         "type": "integer"
        },
        {
         "name": "apartment_id",
         "rawType": "int64",
         "type": "integer"
        },
        {
         "name": "name",
         "rawType": "object",
         "type": "unknown"
        },
        {
         "name": "description",
         "rawType": "object",
         "type": "unknown"
        },
        {
         "name": "host_id",
         "rawType": "int64",
         "type": "integer"
        },
        {
         "name": "neighbourhood_name",
         "rawType": "object",
         "type": "string"
        },
        {
         "name": "neighbourhood_district",
         "rawType": "object",
         "type": "unknown"
        },
        {
         "name": "room_type",
         "rawType": "object",
         "type": "string"
        },
        {
         "name": "accommodates",
         "rawType": "int64",
         "type": "integer"
        },
        {
         "name": "bathrooms",
         "rawType": "float64",
         "type": "float"
        },
        {
         "name": "bedrooms",
         "rawType": "float64",
         "type": "float"
        },
        {
         "name": "beds",
         "rawType": "float64",
         "type": "float"
        },
        {
         "name": "amenities_list",
         "rawType": "object",
         "type": "unknown"
        },
        {
         "name": "price",
         "rawType": "float64",
         "type": "float"
        },
        {
         "name": "minimum_nights",
         "rawType": "int64",
         "type": "integer"
        },
        {
         "name": "maximum_nights",
         "rawType": "int64",
         "type": "integer"
        },
        {
         "name": "has_availability",
         "rawType": "bool",
         "type": "boolean"
        },
        {
         "name": "availability_30",
         "rawType": "int64",
         "type": "integer"
        },
        {
         "name": "availability_60",
         "rawType": "int64",
         "type": "integer"
        },
        {
         "name": "availability_90",
         "rawType": "int64",
         "type": "integer"
        },
        {
         "name": "availability_365",
         "rawType": "int64",
         "type": "integer"
        },
        {
         "name": "number_of_reviews",
         "rawType": "int64",
         "type": "integer"
        },
        {
         "name": "first_review_date",
         "rawType": "object",
         "type": "unknown"
        },
        {
         "name": "last_review_date",
         "rawType": "object",
         "type": "unknown"
        },
        {
         "name": "review_scores_rating",
         "rawType": "float64",
         "type": "float"
        },
        {
         "name": "review_scores_accuracy",
         "rawType": "float64",
         "type": "float"
        },
        {
         "name": "review_scores_cleanliness",
         "rawType": "float64",
         "type": "float"
        },
        {
         "name": "review_scores_checkin",
         "rawType": "float64",
         "type": "float"
        },
        {
         "name": "review_scores_communication",
         "rawType": "float64",
         "type": "float"
        },
        {
         "name": "review_scores_location",
         "rawType": "float64",
         "type": "float"
        },
        {
         "name": "review_scores_value",
         "rawType": "float64",
         "type": "float"
        },
        {
         "name": "is_instant_bookable",
         "rawType": "object",
         "type": "string"
        },
        {
         "name": "reviews_per_month",
         "rawType": "float64",
         "type": "float"
        },
        {
         "name": "country",
         "rawType": "object",
         "type": "string"
        },
        {
         "name": "city",
         "rawType": "object",
         "type": "string"
        },
        {
         "name": "insert_date",
         "rawType": "object",
         "type": "string"
        }
       ],
       "ref": "0b631f34-3ef9-4689-86ae-7b98eb97c6a8",
       "rows": [
        [
         "0",
         "11964",
         "A ROOM WITH A VIEW",
         "Private bedroom in our attic apartment. Right in the heart of the pedestrian downtown area. Outstanding views from our large terrace and modern, fully renovated interior. Double bed in a fully renovated downtown attic. We live in a 1881 building in the heart of town. One minute away from the Picasso museum, Calle Larios and the cathedral. It is a 100 square meter apartment and a 45 square meter terrace with outstanding views of the cathedral and the whole downtown area and churches, plus an outdoor barbecue. The apartment underwent an 8 month renovation and is in pristine condition, with Italian appliances and light fixtures, Murano glass tiles and marble floors.  The building has an elevator up to the 4ht floor and we live on the 5th. All of downtown M�laga is pedestrian, so you will be guaranteed no traffic noise and pleasant walks. There are hundreds of restaurants and shops in the neighborhood as well; impossible to run out of things to do. Common areas As often as our guests want ",
         "45553",
         "Centro",
         null,
         "Private room",
         "2",
         "2.0",
         "1.0",
         "1.0",
         "TV,Internet,Wifi,Air conditioning,Elevator,Buzzer/wireless intercom,Heating,Washer,Smoke detector,Carbon monoxide detector,Essentials,Shampoo,24-hour check-in,Hangers,Hair dryer,Iron,Laptop friendly workspace,translation missing: en.hosting_amenity_49,translation missing: en.hosting_amenity_50",
         "400.0",
         "3",
         "365",
         "True",
         "7",
         "20",
         "40",
         "130",
         "78",
         "2010-01-02",
         "2017-09-05",
         "97.0",
         "100.0",
         "100.0",
         "100.0",
         "100.0",
         "100.0",
         "100.0",
         "FALSO",
         "75.0",
         "spain",
         "malaga",
         "2018-07-31"
        ],
        [
         "1",
         "21853",
         "Bright and airy room",
         "We have a quiet and sunny room with a good view in our 3 bedroom flat. In a welcoming atmosphere, our clean and respectful flatshare is located in a leafy neighbourhood with all facilities: shops, library, caf�s and bars, a swimming pools, gyms, and fantastic parks. Well connected by metro and bus with the centre: 15 minutes. For walks, we are also a 20 min stroll away from the riverside. I am living in a nice flat near the centre of Madrid (15 minutes by bus). We are relaxed, clean, and independent. The flat is located in a leafy neighbourhood with plenty of facilities: little shops, supermarkets, public library, swimming pools (covered and summer ones), tennis courts and free parking outside the flat. It is well connected by public transport (various bus and metro lines). The room is sunny and well presented. There are two bathrooms, one of which you would share with a guest. It has triple glazing and we provide fresh bedlinen and towels, so that packing is lighter for our guests. We",
         "83531",
         "C�rmenes",
         "Latina",
         "Private room",
         "1",
         "1.0",
         "1.0",
         "1.0",
         "TV,Internet,Wifi,Air conditioning,Kitchen,Free parking on premises,Doorman,Elevator,Heating,Washer,First aid kit,Fire extinguisher,Essentials,Shampoo,Lock on bedroom door,Hangers,Hair dryer,Iron,Laptop friendly workspace,translation missing: en.hosting_amenity_49,translation missing: en.hosting_amenity_50,Hot water,Bed linens,Extra pillows and blankets,Pocket wifi,Microwave,Coffee maker,Refrigerator,Dishes and silverware,Cooking basics,Oven",
         "170.0",
         "4",
         "40",
         "True",
         "0",
         "0",
         "0",
         "162",
         "33",
         "2014-10-10",
         "2018-07-15",
         "92.0",
         "90.0",
         "90.0",
         "100.0",
         "100.0",
         "80.0",
         "90.0",
         "FALSO",
         "52.0",
         "spain",
         "madrid",
         "2020-01-10"
        ],
        [
         "2",
         "32347",
         "Explore Cultural Sights from a Family-Friendly Apartment",
         "Open French doors and step onto a plant-filled terrace that feels like an oasis of calm in the center of the city. White-on-white decor, an ultramodern kitchen, and splashes of color create a fun and relaxing atmosphere for adults and kids alike.",
         "139939",
         "San Vicente",
         "Casco Antiguo",
         "Entire home/apt",
         "4",
         "1.0",
         "2.0",
         "2.0",
         "TV,Internet,Wifi,Air conditioning,Wheelchair accessible,Kitchen,Elevator,Buzzer/wireless intercom,Heating,Washer,Dryer,Smoke detector,Carbon monoxide detector,First aid kit,Fire extinguisher,Essentials,Shampoo,24-hour check-in,Hangers,Hair dryer,Iron,Laptop friendly workspace,Crib,Pack �n Play/travel crib,Body soap,Bath towel,Toilet paper,Bed linens,Extra pillows and blankets,Coffee maker,Host greets you,Full kitchen,Bedroom comforts,Bathroom essentials",
         "990.0",
         "2",
         "120",
         "True",
         "26",
         "31",
         "31",
         "270",
         "148",
         "2011-01-05",
         "2019-07-22",
         "98.0",
         "100.0",
         "100.0",
         "100.0",
         "100.0",
         "100.0",
         "100.0",
         "VERDADERO",
         "142.0",
         "spain",
         "sevilla",
         "2019-07-29"
        ],
        [
         "3",
         "35379",
         "Double 02 CasanovaRooms Barcelona",
         "Room at a my apartment. Kitchen and 2 bathrooms to share. Free self service breakfast. Free wifi,  TV, towels, bed linen, Ceiling fan, desk and balcony to the back of the building. I also have at guests disposal vanity kits and hairdryers. Washing machine, iron and printer on request. My apartment is located in the Eixample quarter close to the commercial area and the centre of town. I provide private rooms: one single room and two double rooms with self-service breakfast. You can also use the kitchen to cook quick meals. I also provide free wifi connection.  All rooms are equipped with a tv set, clean bed linen, fresh towels, heating and a ceiling fan.  I am on to the blue line (L5) and the underground station is �Hospital Cl�nic�. Make sure you take the exit marked as �Sortida Villarroel/Cl�nic�. From there on, you only need to walk 1 minute to �Carrer Casanova�. Though located centrally, we're on a residential and not touristic neighborhood. Metro stop Hospital Clinic line 5 (blue",
         "152232",
         "l'Antiga Esquerra de l'Eixample",
         "Eixample",
         "Private room",
         "2",
         "2.0",
         "1.0",
         "1.0",
         "TV,Internet,Wifi,Kitchen,Breakfast,Elevator,Buzzer/wireless intercom,Heating,Washer,Essentials,Lock on bedroom door,Hangers,Hair dryer,Iron,translation missing: en.hosting_amenity_49,translation missing: en.hosting_amenity_50,Hot water,Microwave,Coffee maker,Refrigerator,Dishes and silverware,Cooking basics,Stove,Patio or balcony,Host greets you,Paid parking on premises,Shower gel",
         "400.0",
         "2",
         "730",
         "True",
         "9",
         "23",
         "49",
         "300",
         "292",
         "2012-03-13",
         "2020-01-04",
         "94.0",
         "100.0",
         "90.0",
         "100.0",
         "100.0",
         "100.0",
         "90.0",
         "VERDADERO",
         "306.0",
         "spain",
         "barcelona",
         "2020-01-10"
        ],
        [
         "4",
         "35801",
         "Can Torras Farmhouse Studio Suite",
         "Lay in bed & watch sunlight change the mood of distant valley hills! This suite of rooms includes a double bedroom, twin bed room (& space for a third), private bathroom & entrance, living & dining area plus a delicious, home-made breakfast. There's a jacuzzi, plunge pool, pergola & organic gardens to explore. The ancient city of Girona is only 20 mins away. Great for romantic breaks & families with older children. English spoken. Proud to be fully registered with the Catalan Tourist Board. Can Torras is a recently renovated, ecolodge in the national park of Gavarres, on a hill top behind the ancient city of Girona. This suite has all the charm of an old farmhouse, but the services & environmental improvements of modern living.  A fantastic breakfast is included in your stay, plus the freedom to wander in our organic garden, relax in a hammock under the pergola, plunge in the pool or bask in our hot spa, as you enjoy magnificent views down the valley.   The Studio Suite includes a doub",
         "153805",
         "Quart",
         null,
         "Private room",
         "5",
         "1.0",
         "2.0",
         "5.0",
         "Wifi,Pool,Free parking on premises,Breakfast,Pets live on this property,Dog(s),Cat(s),Other pet(s),Hot tub,Indoor fireplace,Heating,Family/kid friendly,Washer,Dryer,Smoke detector,Carbon monoxide detector,Essentials,Shampoo,24-hour check-in,Hangers,Hair dryer,Iron,Laptop friendly workspace,translation missing: en.hosting_amenity_50,Bathtub,Baby bath,High chair,Children�s books and toys,Crib,Children�s dinnerware,Hot water,Bed linens,Extra pillows and blankets,Coffee maker,Refrigerator,Dishes and silverware,Garden or backyard,Luggage dropoff allowed,Long term stays allowed,Wide hallway clearance,Wide doorway,Well-lit path to entrance,Host greets you",
         "900.0",
         "1",
         "180",
         "True",
         "0",
         "19",
         "49",
         "312",
         "36",
         "2011-07-08",
         "2018-08-08",
         "97.0",
         "100.0",
         "100.0",
         "100.0",
         "100.0",
         "100.0",
         "100.0",
         "FALSO",
         "39.0",
         "spain",
         "girona",
         "2019-02-19"
        ],
        [
         "5",
         "48764",
         "18th C Stone House near Costa Brava",
         "Casa Fluvia is a charming stone village house in a Catalan village on the Costa Brava just 5 km from the sea. A perfect base for enjoying culture, cuisine, history, nature, and sports as well as the sea. Spacious house suitable for up to 8 people.  If your stay is less than one week, please request a price for the period you are interested in.  It is very difficult to cover all eventualities and different lengths of stay using the automatic system. Tourist Registration Ref: HUTG  000207 CASA FLUVI� IS A 18TH CENTURY STONE VILLAGE HOUSE WITH 3 DOUBLE BEDROOMS AND 1 TWIN BEDROOM.  - rooftop terrace and solarium  - first floor living area 30s Catalan style - ground floor living area typical of 18th century stone farmhouse The house is within 5 km of some of the best Costa Brava beaches, set in a quiet Mediterranean village in the Empord� with views of the Pyrenees, surrounding fields and neighbours working and paying their daily social visits.  This fully renovated house features vaulted",
         "220145",
         "Torroella de Fluvi�",
         null,
         "Entire home/apt",
         "8",
         "2.0",
         "4.0",
         "5.0",
         "TV,Internet,Wifi,Kitchen,Free street parking,Heating,Family/kid friendly,Washer,Smoke detector,First aid kit,Safety card,Fire extinguisher,Essentials,Shampoo,Hangers,Hair dryer,Iron,Laptop friendly workspace,Private entrance,Crib,Hot water,Host greets you",
         "900.0",
         "5",
         "95",
         "True",
         "0",
         "0",
         "0",
         "235",
         "25",
         "2011-06-04",
         "2018-08-25",
         "96.0",
         "100.0",
         "100.0",
         "100.0",
         "100.0",
         "90.0",
         "100.0",
         "FALSO",
         "27.0",
         "spain",
         "girona",
         "2019-02-19"
        ],
        [
         "6",
         "58512",
         "Stylish & cozy 3BR near Sagrada Familia",
         "Welcome to my home!<br /><br />My lovely 3 bedroom apartment is located in a traditional Catalan neighborhood close to Hospital Sant Pau (10 min walk) and the iconic Sagrada Familia (20 min walk). Enjoy exploring Barcelona with ease - two nearest metro stations:  Camp de l�Arpa (4 min by walk) and Clot (6 min by walk). Very safe area, quiet at night and family-friendly.<br />Gorgeous wooden floors, open ceilings, a modern and stylish decor and a beautifully integrated American kitchen add to the flat�s charm.<br /><br /><b>The space</b><br />My 3 bedroom apartment is spacious, with beautifully quirky decor and a relaxed feel. It�s the ideal place to come back to after a day of exploring. Great transport links and at a walking distance from Sagrada Familia mean you�ll be right in the hub of the city but able to escape the hustle and bustle! <br /><br />The living area is very cozy with a large, comfy sofa-bed and a flat-screen TV with HBO included, so please sit back and make yourself a",
         "280070",
         "el Camp de l'Arpa del Clot",
         "Sant Mart�",
         "Entire home/apt",
         "6",
         "2.0",
         "3.0",
         "4.0",
         "Shampoo, Washer, Wifi, Oven, Cooking basics, Hair dryer, TV, Heating, Extra pillows and blankets, First aid kit, Smoke alarm, Hangers, Essentials, Air conditioning, Bed linens, Stove, Carbon monoxide alarm, Microwave, Paid parking off premises, Host greets you, Hot water, Bathtub, Kitchen, Iron, Long term stays allowed, Refrigerator, Fire extinguisher, Coffee maker, Laptop-friendly workspace, Dishes and silverware]",
         "950.0",
         "5",
         "90",
         "True",
         "30",
         "60",
         "90",
         "331",
         "382",
         "2011-04-08",
         "2020-03-02",
         "89.0",
         "90.0",
         "90.0",
         "90.0",
         "90.0",
         "90.0",
         "90.0",
         "VERDADERO",
         "329.0",
         "spain",
         "barcelona",
         "2020-10-12"
        ],
        [
         "7",
         "71603",
         "PENTHOUSE1 BEST PRICE 15/21.07 PROMO LAST MINUTE!",
         "The apartment you are about to book has everything you need for a top quality stay.  We have more than 6 years providing people around the world the perfect home away from home, so relax and enjoy, you are on the perfect hands now...  HUTB-003878 Old world style meets modern convenience in a newly renovated penthouse for rent in the heart of Barcelona�s city center. Whether searching for a romantic get-away or family holidays, our Ausias Marc apartment guarantees a comfortable and luxury stay.The apartment has been completely renovated and modernized to achieve the quality and high standard necessary to make this a luxury apartment for our visitor to Barcelona.You can see this from the moment you step into the tastefully, styled fireplace, as well as the perfectly preserved facade of the 18th Century Palace where this apartment is located. The apartment is located in a building catalogued as an historical an esthetical emblem of Barcelona. The location cannot be better, the neighborhoo",
         "366654",
         "la Dreta de l'Eixample",
         "Eixample",
         "Entire home/apt",
         "3",
         "2.0",
         "1.0",
         "4.0",
         "TV,Cable TV,Internet,Wireless Internet,Air conditioning,Kitchen,Smoking allowed,Pets allowed,Doorman,Gym,Elevator,Hot tub,Indoor fireplace,Heating,Family/kid friendly,Suitable for events,Washer,Dryer",
         "3900.0",
         "3",
         "5",
         "True",
         "28",
         "55",
         "85",
         "360",
         "33",
         "2011-02-16",
         "2017-06-05",
         "94.0",
         "100.0",
         "100.0",
         "100.0",
         "90.0",
         "100.0",
         "90.0",
         "FALSO",
         "42.0",
         "spain",
         "barcelona",
         "2017-07-06"
        ],
        [
         "8",
         "72150",
         "Sunny attic duplex flat with terrace next to Sol",
         "The apartment is a quiet, secluded idyll in the heart of Madrid. It was renovated and redecorated in 2014. With 3 bedrooms distributed over 2 floors, it can host up to 9 people (1 double bed and 1 single bed per bedroom). You will enjoy the intimacy and quiet  of the rooftop terrace.<br /><br /><b>The space</b><br />The apartment is a quiet, secluded idyll in the heart of Madrid. It offers a breathtaking view of the city and the surrounding landscape from an intimate rooftop terrace. <br />The apartment is on the fourth floor of a historic building from the late 19th century. It has been completely renovated and redecorated in 2014.   <br />The main living space is a spacious, living / dining area, which is directly connected to a large terrace, through a large sliding glass door.<br />The total living area is 90 square meters, including upstairs, downstairs and a 20 square meters terrace. The first floor contains a living room, American-style open-plan kitchen, a bathroom, and a bedro",
         "364585",
         "Embajadores",
         "Centro",
         "Entire home/apt",
         "5",
         "2.0",
         "3.0",
         "6.0",
         "Shampoo, Luggage dropoff allowed, Paid parking on premises, Refrigerator, Coffee maker, Long term stays allowed, Dryer, Heating, Hot water, Patio or balcony, Washer, Oven, Stove, Air conditioning, Wifi, Essentials, Kitchen, Dishes and silverware, Smoke alarm, Iron, Cooking basics, Hangers, Carbon monoxide alarm, Laptop-friendly workspace, Hot tub, Hair dryer, Microwave, Building staff]",
         "790.0",
         "2",
         "1125",
         "True",
         "29",
         "59",
         "89",
         "179",
         "108",
         "2011-02-13",
         "2020-07-31",
         "91.0",
         "90.0",
         "90.0",
         "100.0",
         "100.0",
         "100.0",
         "90.0",
         "FALSO",
         "91.0",
         "spain",
         "madrid",
         "2020-11-06"
        ],
        [
         "9",
         "73683",
         "Sagrada Familia area for 12 people",
         "An ideal location for a big group, two apartments in the same building, one directly above the other.  Huge choice of stunning experiences can be included: Jet skis, Flyboard, Parasailing, Jet boat, Hoverboard, Sailing trips, Kayaks, Segways ... NOTE: Local city tax is NOT included in the price paid to Airbnb and must be paid upon arrival. Currently the city tax is �2.48 per person per night up to a maximum of 7 nights for guests over 16 years old. NOTE: If you want to see all my properties and boats please have a look at: https://www.airbnb.com/s?host_id=135703. The apartments are situated on the second and third floors, at the front, in a traditional 1930�s apartment block, which has recently been fully restored to a high standard. You can also add different stunning activities:  - Jet Ski rides, �100 for 30 minutes, or 180� for 60 minutes (no license required - up to 2 people). - Flyboard experience: �85 / 15 minutes (1 person), �160 / 30 minutes (up to 2 people), �300 / 60 min. (up",
         "135703",
         "el Camp d'en Grassot i Gr�cia Nova",
         "Gr�cia",
         "Entire home/apt",
         "12",
         "2.0",
         "4.0",
         "14.0",
         "TV,Cable TV,Internet,Wifi,Air conditioning,Kitchen,Paid parking off premises,Elevator,Buzzer/wireless intercom,Heating,Family/kid friendly,Washer,Smoke detector,Carbon monoxide detector,Fire extinguisher,Essentials,Shampoo,24-hour check-in,Hangers,Hair dryer,Iron,Laptop friendly workspace,Self check-in,Smart lock,High chair,Pack �n Play/travel crib,Hot water,Luggage dropoff allowed",
         "3000.0",
         "2",
         "60",
         "True",
         "8",
         "12",
         "23",
         "296",
         "120",
         "2011-06-04",
         "2018-05-20",
         "92.0",
         "90.0",
         "90.0",
         "100.0",
         "100.0",
         "90.0",
         "90.0",
         "VERDADERO",
         "14.0",
         "spain",
         "barcelona",
         "2018-06-09"
        ],
        [
         "10",
         "73692",
         "Rustic apartment : Rambla Catalunya (HUTB-005863)",
         "Located in the centre of Barcelona (near Plaza Catalunya and Passeig de Gracia), this wonderful 2 bedroom apartment is on the 4th floor of a charming building, on the famous road called Ramba de Catalunya. Ideal for groups of up to 5 people Located in the centre of Barcelona , this wonderful centrally heated apartment is on the 4th floor of a charming building (with elevator), removing it from the bustle of the street below. This beautifully decorated 2 bedroom apartment is a hit for groups of up to 5 people, and boasts a bright twin bedroom with large cupboard for storage, and a small interior single bedroom, with smaller storage space. Both bedrooms lead to the air-conditioned lounge, containing the comfortable double sofa bed, and the dining and TV areas. The main bedroom and lounge also have balconies, from which you can view the world below. The bathroom contains a shower cubicle, while the kitchen is fully equipped with all the conveniences you�d expect such as electric cooker, f",
         "297545",
         "la Dreta de l'Eixample",
         "Eixample",
         "Entire home/apt",
         "5",
         "1.0",
         "2.0",
         "3.0",
         "TV,Wireless Internet,Air conditioning,Kitchen,Elevator,Buzzer/wireless intercom,Heating,Family/kid friendly,Washer,Fire extinguisher,Essentials,Hangers,Hair dryer,Iron",
         "1050.0",
         "2",
         "90",
         "True",
         "9",
         "39",
         "63",
         "307",
         "29",
         "2012-08-01",
         "2017-08-03",
         "84.0",
         "90.0",
         "80.0",
         "100.0",
         "90.0",
         "100.0",
         "90.0",
         "VERDADERO",
         "46.0",
         "spain",
         "barcelona",
         "2017-10-07"
        ],
        [
         "11",
         "79755",
         "3Br-2bath-AC Full 5 stars reviews!",
         "90 m2 apartment, 2 baths, 3 bedrooms. Fully equipped kitchen, dishwasher, washing machine, etc. There is WiFi internet, TV, DVD, HiFi, air conditioning and programable heating. Lots of public transport within 1 minute distance and great location. Come visit Barcelona and stay where locals live. Enjoy my quiet, sunny and beautifully located apartment! I am right now living on it, with my wife and baby, but we will be out during the dates you have chosen (and will leave it perfectly ready for you). This means it is even better equipped, including baby stuff, but it has changed a bit from the pictures. Contact me previously if you have any questions. My place is a 90 m2 apartment (around 1000 sq. feet) with air conditioning, 2 double bedrooms (one with a king size bed and one with 2 individual beds) and an additional single bedroom, plus 2 full bathrooms. The living-room is large and bright. The kitchen is fully equipped, with everything necessary to cook, laundry machine and dishwasher.",
         "429939",
         "l'Antiga Esquerra de l'Eixample",
         "Eixample",
         "Entire home/apt",
         "5",
         "2.0",
         "3.0",
         "4.0",
         "TV,Internet,Wireless Internet,Air conditioning,Wheelchair accessible,Kitchen,Doorman,Elevator,Heating,Family/kid friendly,Washer,Smoke detector,Carbon monoxide detector,Fire extinguisher,Essentials,Shampoo,24-hour check-in,Hangers,Hair dryer,Iron,Laptop friendly workspace,Outlet covers,Bathtub,Baby bath,Changing table,High chair,Children�s books and toys,Crib,Pack �n Play/travel crib,Room-darkening shades,Children�s dinnerware,Game console,Hot water,Bed linens,Extra pillows and blankets,Ethernet connection,Microwave,Coffee maker,Refrigerator,Dishwasher,Dishes and silverware,Cooking basics,Oven,Stove",
         "1100.0",
         "3",
         "365",
         "True",
         "9",
         "10",
         "10",
         "10",
         "189",
         "2011-04-24",
         "2016-10-01",
         "98.0",
         "100.0",
         "100.0",
         "100.0",
         "100.0",
         "100.0",
         "100.0",
         "VERDADERO",
         "234.0",
         "spain",
         "barcelona",
         "2017-12-09"
        ],
        [
         "12",
         "89756",
         "Old town 1, 6minutesfrom Ramblas",
         "ONLY FOR FAMILIES or people over 25 years old! Old town Ramblas  1 apartment with 3 BEDROOM  Right in the city centre only 6/7 minutes from Las Ramblas, so walking distance to all the major attractions, Gothic quarter, beach, montjuic. 8 beds including sof� beds (2 double + 2 single + 4 sofabeds) it is forbidden to add more people than 9 we could ask you to leave the apartment if you break this rule. Thanks. ith tourist licence:  N�HUTB 003874 ONLY FOR FAMILIES ro people over 25 years old!    The Old Town 1 apartment Apartment with a total capacity up to  9 guests/groups of families. 3 BEDROOMS   Right in the city centre only 6/7 minutes from Las Ramblas, so walking distance to all the major attractions, Gothic quarter and the Port but in a nice quiet street so you can sleep at night. It has 3 double bedrooms;   with 8 beds including the sofa beds  :      1 bedroom   with 1 king size bed + 1 single sofa bed   (for 3 people) 1 bedroom with 2 single  beds for 2 people  (this bed can be j",
         "488117",
         "el Raval",
         "Ciutat Vella",
         "Entire home/apt",
         "9",
         "1.0",
         "3.0",
         "8.0",
         "TV,Wireless Internet,Air conditioning,Wheelchair accessible,Kitchen,Elevator in building,Buzzer/wireless intercom,Heating,Family/kid friendly,Washer,Smoke detector,Carbon monoxide detector,Fire extinguisher,Essentials,Hangers,Hair dryer,Iron",
         "2800.0",
         "6",
         "60",
         "True",
         "7",
         "23",
         "53",
         "328",
         "9",
         "2012-11-02",
         "2016-11-29",
         "89.0",
         "90.0",
         "90.0",
         "100.0",
         "100.0",
         "90.0",
         "80.0",
         "VERDADERO",
         "17.0",
         "spain",
         "barcelona",
         "2017-04-08"
        ],
        [
         "13",
         "89776",
         "Modernist flat Downtown Casa Estap� | Barcelona",
         "Unique and rare ! Stay in the Casa Estap�, jewel of catalan modernism.  In the city center of Barcelona, perfectly situated for metro and North Station, the 40m2 apartment is a protected monument, fully equipped, double bedroom and view to Passeig de Sant Joan. = > It can only be rented through Airbnb. Apartment of 40 m in beautiful modernist building called Casa Estap�, first house of the Modernist road.  It consists of a living room, overlooking the Passeig de Sant Joan and the Arc de Triomph, with an American kitchen and a sofa bed, a large bedroom with a 160x190 cm bed and a complete bathroom with an Italian shower.  Located in the city center, on Passeig de Sant Joan adjacent to the Arc de Triomphe, 5 minutes from the Parque de la Ciutadella and the Born and 10 minutes walk from Plaza Catalunya and the historic town (Ciutat Vella neighborhood and Gothic).  Perfectly connected by metro (stop on the same block) and bus, and 200 meters from the North Station (bus to Girona airport).",
         "488151",
         "el Fort Pienc",
         "Eixample",
         "Entire home/apt",
         "4",
         "1.0",
         "1.0",
         "2.0",
         "TV,Internet,Wifi,Air conditioning,Kitchen,Elevator,Buzzer/wireless intercom,Heating,Family/kid friendly,Essentials,Shampoo,Hangers,Hair dryer,Iron,Laptop friendly workspace",
         "650.0",
         "3",
         "365",
         "True",
         "7",
         "18",
         "41",
         "224",
         "322",
         "2011-11-10",
         "2019-12-01",
         "96.0",
         "100.0",
         "100.0",
         "100.0",
         "100.0",
         "100.0",
         "100.0",
         "VERDADERO",
         "327.0",
         "spain",
         "barcelona",
         "2019-12-10"
        ],
        [
         "14",
         "89954",
         "Amazing apt in the historic center",
         "Beautiful, new, central and cosy apartment perfect for a family or friends trip with everything you need to feel as at your own home. We try to offer the best accommodation for our guests Newly refurbished apartment. Beautiful, charming and comfortable. Duplex apartment: First floor with spacious living room, kitchen and bathroom. Second floor with two double bedrooms including wardrobes. Lumber room. High quality construction materials. La Latina-Austrias area. Most ancient and beautiful Downtown neighbourhood in the city but feeling like living in a small town. Street with restricted traffic. 10 minutes walking distance to Plaza Mayor and 5 minutes to Palacio Real. Next to everything (few minutes walking distance): Palacio Real, Museo del Prado, Thyssen and Reina Sof�a, traditional markets, shopping, located in one of the best �tapas� areas in Madrid. High speed Internet access WI-FI, printer, i pod player, dvd and cd player, LCD TV, juicer, toaster, hairdryer, kettle, coffee maker,",
         "487095",
         "Palacio",
         "Centro",
         "Entire home/apt",
         "6",
         "1.0",
         "2.0",
         "3.0",
         "TV,Cable TV,Wifi,Air conditioning,Kitchen,Elevator,Heating,Family/kid friendly,Washer,Smoke detector,First aid kit,Fire extinguisher,Essentials,Shampoo,Hangers,Hair dryer,Iron,Laptop friendly workspace,translation missing: en.hosting_amenity_50,High chair,Children�s books and toys,Crib,Hot water,Luggage dropoff allowed,Long term stays allowed,Host greets you,Paid parking on premises",
         "1030.0",
         "2",
         "20",
         "True",
         "27",
         "48",
         "49",
         "61",
         "181",
         "2011-07-01",
         "2018-11-01",
         "97.0",
         "100.0",
         "100.0",
         "100.0",
         "100.0",
         "100.0",
         "100.0",
         "FALSO",
         "202.0",
         "spain",
         "madrid",
         "2018-11-07"
        ],
        [
         "15",
         "96807",
         "double room, bathroom",
         "Double room Private bathroom with shower ROOM 1: With double bed or two single beds  Special offers for groups or families: Can be 6 guests in 3 bedrooms  .- Extra person �. 15 ROOM 2: 1 SINGLE BED ROOM 3: 1 DOUBLE BED AND 1 SINGLE BED FACILITIES: Excellent location train Cercanias Renfe (urban & fastest)  5 blocks to the station,   7 minutes to Atocha, 15 minutes to Puerta del Sol, downtown, tourism, theaters, cinemas retaurantes Casino Madrid museums, the Prado, Reina Sofia, Tissen, Plaza de Cibeles, Retiro Park. The bus 136  at the corner of the houuse. And metro close 8 corners of the house. wi-fi cable tv washer and dryer The room over loks a pedestrian street a garden area, is very quiet, where  no car traffic,  and  is very  sunny all year. There are  all kinds of good supermarkets and 2 shopping malls in our area. The house is our family, my grandson Angel  26 years old and I, we speak several languages, Spanish, English, Bulgarian, German, you  are welcome to stay with",
         "513331",
         "Palomeras Bajas",
         "Puente de Vallecas",
         "Private room",
         "2",
         "1.0",
         "1.0",
         "2.0",
         "TV,Internet,Wifi,Wheelchair accessible,Kitchen,Free parking on premises,Elevator,Buzzer/wireless intercom,Heating,Washer,Dryer,Essentials,Lock on bedroom door,Hangers,Hair dryer,Iron,translation missing: en.hosting_amenity_49,translation missing: en.hosting_amenity_50,Bed linens,Extra pillows and blankets,Ethernet connection,Pocket wifi",
         "290.0",
         "4",
         "365",
         "True",
         "30",
         "60",
         "90",
         "365",
         "77",
         "2011-06-08",
         "2019-07-07",
         "91.0",
         "90.0",
         "90.0",
         "90.0",
         "90.0",
         "80.0",
         "90.0",
         "FALSO",
         "74.0",
         "spain",
         "madrid",
         "2019-12-10"
        ],
        [
         "16",
         "101580",
         "Big house in PARADISE",
         "Luxury and quiet villa in Cala Canyelles (2km from Lloret de Mar, and 6km from Tossa de Mar) 67km to Barcelona. This villa is divided in 4 completely independent apartments. Both on main floor are joined in a very big space but can be separated by a double door.  The other 2 are completely independent. 1000m2 plot with gardens, big swimming-pool 13x6,5m, gimnastic, sauna and jacuzzi. house. It is situated in, Cala Canyelles a private urbanization between Lloret de Mar and Tossa de Mar. The house is 700m to the Canyelles beach, 2km to Lloret de Mar and 6km from Tossa de Mar. There are 4 apartments (completely independent) sharing the swimming pool, and spa. (also the washing machine and dry-machine). Every Apartment has a double master bedroom and a saloon where there is a double single beds that are the sofa-beds. The bed sheet and towels are included. Apartments upstairs (4 and 5) can be joined together as a common big space (on ap 4 you can have lunch together up to 16 people)....t",
         "532063",
         "Lloret de Mar",
         null,
         "Entire home/apt",
         "16",
         "4.0",
         "4.0",
         "12.0",
         "TV,Cable TV,Internet,Wifi,Air conditioning,Pool,Kitchen,Free parking on premises,Gym,Hot tub,Indoor fireplace,Heating,Suitable for events,Washer,Dryer,Smoke detector,Carbon monoxide detector,Essentials,Shampoo,Hangers,Hair dryer,Iron,Laptop friendly workspace,translation missing: en.hosting_amenity_49,translation missing: en.hosting_amenity_50,Crib,Hot water,Long term stays allowed,Host greets you",
         "950.0",
         "2",
         "30",
         "True",
         "22",
         "52",
         "82",
         "237",
         "14",
         "2017-05-28",
         "2018-10-14",
         "99.0",
         "100.0",
         "100.0",
         "100.0",
         "100.0",
         "90.0",
         "100.0",
         "VERDADERO",
         "73.0",
         "spain",
         "girona",
         "2018-12-22"
        ],
        [
         "17",
         "103386",
         "Central 2 Bedrooms, 3/5 pers. Wi-Fi",
         "This is Edificio Palomar Apartments, I will try to make you feel like home and you will discover Valencia in a great location, just right in the Historical Center. Because every journey is an experience we want to be part of yours. Located right in the Historical Centre you can find this new apartment in a restored 19th-century building, 2 bedrooms + sunny living-room + kitchen + 1 bathroom. Sleep max 5 persons , beds distribution: 1 double and 2 single beds + sofa bed. Lift access and fully equipped: -Towels and hairdryer included. - Microwave. - Oven. - Fridge & Freezer. - Dishwasher. - Toaster. - Hand blender. - Coffee Machine + Kettle. - Orange Juice Squeezer. - Cutlery, Table ware. - Coffee set. - Crockery. - TV in lounge and Master room. - DVD player. - Bed linen. - Air conditioning cool / heat. - Free Internet Wi-Fi.  - Baby set: Cot + baby chair + baby bath (for free). - Free luggage room service. You can rent a bike or moto Vespa to visit the City, also Segway tours. Recepti",
         "508042",
         "EL PILAR",
         "CIUTAT VELLA",
         "Entire home/apt",
         "5",
         "1.0",
         "2.0",
         "3.0",
         "TV,Wifi,Air conditioning,Kitchen,Paid parking off premises,Elevator,Buzzer/wireless intercom,Heating,Family/kid friendly,Washer,Dryer,First aid kit,Safety card,Fire extinguisher,Essentials,Shampoo,24-hour check-in,Hangers,Hair dryer,Iron,Laptop friendly workspace,Baby bath,High chair,Children�s books and toys,Crib,Pack �n Play/travel crib,Hot water,Bed linens,Microwave,Coffee maker,Refrigerator,Dishwasher,Dishes and silverware,Cooking basics,Oven,Stove,Patio or balcony,Luggage dropoff allowed,Host greets you",
         "840.0",
         "1",
         "14",
         "True",
         "17",
         "38",
         "64",
         "229",
         "13",
         "2011-11-01",
         "2019-04-19",
         "93.0",
         "100.0",
         "100.0",
         "100.0",
         "90.0",
         "90.0",
         "100.0",
         "FALSO",
         "13.0",
         "spain",
         "valencia",
         "2019-10-31"
        ],
        [
         "18",
         "107437",
         "A beautiful  villa in Barcelona",
         "A conserved, period villa situated in the midst of the lung of Barcelona.Unbeatably situated within the metropolitan area of Barcelona and in the midst of the Collserola Nature Reserve. A beautiful, 1930s house Tourist L :HUTB-009025 The house is at  3 minutes walking to the metro station  A conserved, period villa situated in the midst of the lung of Barcelona.Unbeatably situated within the metropolitan area of Barcelona and in the midst of the Collserola Nature Reserve. A beautiful, 1930s house, pleasantly situated in typically Mediterranean woodland with terraces. Recently restored maintaining its original, officially catalogued style. , at an unbelievable 5, 10 or 15 minutes by metro  to the center  and at only 3 minutes walk from the nearest station, Les Planes. Surounded by nature, wildlife and silence, yet maintaining the advantages of a great city, the house is ideal for combining work and holidaying, creativity and culture activities or simply enjoying moments of tranq",
         "556626",
         "Vallvidrera, el Tibidabo i les Planes",
         "Sarri�-Sant Gervasi",
         "Entire home/apt",
         "8",
         "2.0",
         "5.0",
         "6.0",
         "TV,Wifi,Kitchen,Free parking on premises,Smoking allowed,Pets allowed,Doorman,Free street parking,Buzzer/wireless intercom,Heating,Family/kid friendly,Washer,Dryer,Smoke detector,Carbon monoxide detector,First aid kit,Fire extinguisher,Essentials,Shampoo,24-hour check-in,Hangers,Hair dryer,Iron,Laptop friendly workspace,Crib,Hot water,Host greets you",
         "2200.0",
         "3",
         "120",
         "True",
         "12",
         "41",
         "59",
         "250",
         "34",
         "2011-07-08",
         "2018-07-28",
         "93.0",
         "100.0",
         "100.0",
         "100.0",
         "100.0",
         "100.0",
         "90.0",
         "VERDADERO",
         "38.0",
         "spain",
         "barcelona",
         "2018-10-10"
        ],
        [
         "19",
         "121210",
         "BIG ROOM IN CITY CENTER,NEAR BEACH!",
         "The best room in Barcelona!  Nice room, in a central and quiet part of Barcelona. Very near of the beach. With fast WIFI of course. In my opini�n, the best option for rest after one jorney discovering this amazing city. HELLO!  My name is Carmen, and I've got a newly renovated apartment in central Barcelona for your holiday in this cosmopolitan city! For rent is a bedroom for two people. The room is spacious, bright and quiet, and the apartment is very nice, spacious, bright and well kept... with a huge balcony!  WHAT DOES THE PRICE INCLUDE? Night in a double bed, sheets, towels, wardrobe, and access to the entire apartment (also the kitchen, which is fully equipped). And WIFI WHAT IS NOT INCLUDED? Noise. The windows and balcony overlook a quiet pedestrian street, so that you can rest well. (this is important, in city center usually there are so noise) In the flat there are 3 rooms, you are booking for one, and there are other for other guests, and other for me. You can use all apartme",
         "594334",
         "el Fort Pienc",
         "Eixample",
         "Private room",
         "2",
         "0.0",
         "1.0",
         "1.0",
         "TV,Internet,Wifi,Kitchen,Elevator,Washer,Essentials,translation missing: en.hosting_amenity_49,translation missing: en.hosting_amenity_50",
         "510.0",
         "5",
         "365",
         "True",
         "13",
         "38",
         "68",
         "68",
         "154",
         "2011-05-31",
         "2017-12-09",
         "89.0",
         "90.0",
         "90.0",
         "90.0",
         "90.0",
         "90.0",
         "90.0",
         "FALSO",
         "184.0",
         "spain",
         "barcelona",
         "2018-04-12"
        ],
        [
         "20",
         "128463",
         "Private Suite in residential area!!",
         "My House is located in the quiet district of Sants, catalan typical neighborhood. It is very close to the metro and bus, and just 10 minutes to the Centre. It is a quiet neighborhood, and cheaper than the Center. There are many restaurants and bars.. Welcome to Barcelona!!! Private suite whith  Double Bed and private bathroom, tv, cupboards. Suitable for either a couple or individual user.  I provide linens and towels. Convenient location:  7 minutes by metro from Centre of Barcelona. 7 minutes walking to Sants Central Train Station. 15 minutes walking to the Football Club Barcelona 10 minutes walking to Montjuic Fair and L'Hospitalet  ((MOBILE WORLD CONGRESS), congress and exhibition area) 3 minutes walking to all transportation (bus or metro) Restaurants, bars, groceries, pharmacy, general shopping- 3 minutes Bus #46 - direct to airport- 3 minutes walk.  Located in the District of Sants, very quiet and safe. Sants is a neighborhood in the southern part of Barcelona. Formerly an indus",
         "635253",
         "Sants",
         "Sants-Montju�c",
         "Private room",
         "2",
         "2.0",
         "1.0",
         "1.0",
         "TV,Wireless Internet,Air conditioning,Kitchen,Heating,Family/kid friendly,Smoke detector,Carbon monoxide detector,Essentials,Shampoo,Hangers,Hair dryer,Iron,Laptop friendly workspace,Bed linens,Extra pillows and blankets,Microwave,Coffee maker,Refrigerator,Dishes and silverware,Oven,Stove,Garden or backyard,Long term stays allowed",
         "300.0",
         "3",
         "1125",
         "True",
         "3",
         "16",
         "28",
         "264",
         "184",
         "2011-09-03",
         "2018-01-23",
         "97.0",
         "100.0",
         "100.0",
         "100.0",
         "100.0",
         "90.0",
         "100.0",
         "VERDADERO",
         "235.0",
         "spain",
         "barcelona",
         "2018-02-07"
        ],
        [
         "21",
         "131987",
         "SEVILLA CENTER 4 PAX.GREAT REVIEWS 1 BR+WIFI+AC",
         "OFFER SPRING & SUMMER : -5 or 6 nights=5% disccount off -7 nights ( or more )= 15 % disccount off -Max. capacity=4 guests -Located in hystoric quarter of Sevilla -Walking distance to all sights -Air conditioning/heating -WiFi -Lots of natural light -Bus to Airport ( EA line )+Plaza de Armas Bus Station+Public Parking in Plaza de Armas (5 min walking) -93% 5 stars reviews N� de Registro vivienda de Uso Turistico : VFT/SE/504 *VERY IMPORTANT ADVICE : Since mid-June (Phone number hidden by Airbnb) , in the cleaning process after each check-out, the use of an OZONE generating machine will be implemented to disinfect all rooms. This will lengthen the time required in the total cleaning process between each check-out and check-in, and therefore guests are asked to understand if the check-in time at the property should be delayed a bit . *OFFERS : *SPECIAL LONG STAY OFFERS ( from 2 weeks ) FOR APRIL , MAY , JUNE, JULY & SEPTEMBER *OFFERS SPRING & SUMMER : -5 or 6 nights=5% disccount off -7 n",
         "1535528",
         "San Vicente",
         "Casco Antiguo",
         "Entire home/apt",
         "4",
         "1.0",
         "1.0",
         "2.0",
         "TV,Wifi,Air conditioning,Kitchen,Paid parking off premises,Heating,Family/kid friendly,Washer,First aid kit,Fire extinguisher,Essentials,Shampoo,Hangers,Hair dryer,Iron,Bathtub,Hot water,Bed linens,Extra pillows and blankets,Ethernet connection,Microwave,Coffee maker,Refrigerator,Dishes and silverware,Cooking basics,Oven,Stove,Patio or balcony,Long term stays allowed,Host greets you",
         "690.0",
         "4",
         "365",
         "True",
         "30",
         "60",
         "90",
         "163",
         "235",
         "2012-03-12",
         "2020-03-12",
         "98.0",
         "100.0",
         "100.0",
         "100.0",
         "100.0",
         "100.0",
         "100.0",
         "VERDADERO",
         "235.0",
         "spain",
         "sevilla",
         "2020-05-30"
        ],
        [
         "22",
         "144471",
         "BEST ZONEPL.CATALU�A ROOM X 2BATHROOM +WIFI",
         "HELLO PEOPLE :=)  are you on vacation? or business? Perhaps a student? or just passing through ..! is just what you need ..! =) I' renting a room per days, weeks or monthly Rent a quiet and comfortable rooms in a beautifully renovated apartment. ROOMS DESCRIPTIONS: ROOM #1 It is a double room with a double bed and closet ideal for relaxing after a long day! In summer could has different price, depend of the season or week events in BCN. The most important thing!!! the flat is my home, I'm opening the doors of my home for you, please take care of it as yours, keep everything clean and respect the place.   Only one rule we have, DRUNK PEOPLE ARE NOT ALLOWED IN MY HOME, PLEASE!! THANKS!! if you are the person who like drink and drink without any control until get sick, this is not your place!! sorry!! ;D EXTRA SERVICES:  Kitchen not available for cooking * refrigerator use and microwave are free. FREE SERVICES FROM THE HOST:- WiFi, Fresh water bottle. - Cookies for breakfast. - Calls fixe",
         "700165",
         "Sant Antoni",
         "Eixample",
         "Private room",
         "2",
         "1.0",
         "1.0",
         "1.0",
         "Wifi,Wheelchair accessible,Elevator,Heating,Family/kid friendly,Washer,Smoke detector,Fire extinguisher,Essentials,Hangers,Iron,Laptop friendly workspace,Crib,Hot water,Host greets you,Paid parking on premises",
         "490.0",
         "2",
         "365",
         "True",
         "19",
         "49",
         "79",
         "354",
         "34",
         "2011-07-04",
         "2018-08-15",
         "88.0",
         "80.0",
         "90.0",
         "90.0",
         "90.0",
         "90.0",
         "80.0",
         "FALSO",
         "38.0",
         "spain",
         "barcelona",
         "2018-10-10"
        ],
        [
         "23",
         "157327",
         "House in Llofriu (Costa Brava)",
         "New rebuilt and furnished house pool bbq If you and your family/friends want to get relaxed in a quiet atmosphere with splendid views over Emporda area this is the place to stay! 8 km from Pals beach and 5 km from Palafrugell and La Bisbal downtowns House in the middle of countryside with an amazing view over the Emporda area. All new, from walls to furniture, decorated with very good taste. 230 square meters and 8,000 square meters of garden-terrain. 4 bedrooms with ensuite bathroom: 1 doble bed room  2 rooms with twin beds  and  1 room with 1 single bed and another one underneath that can be taken out. Fully equipped kitchen. Very large and comfortable dinning and sitting room.  Comfortable in/out swimming pool Terrace with places for dinning and sitting. BBQ by the pool.  WC for visits. Located in a quiet paradise that creates an immense relaxed atmosphere, unbelievable dawns and sunsets.   8 km away from Pals beach and 5 km from Palafrugell and La Bisbal downtowns. Ideal for famili",
         "755634",
         "Forallac",
         null,
         "Entire home/apt",
         "8",
         "5.0",
         "4.0",
         "8.0",
         "TV,Air conditioning,Pool,Kitchen,Free parking on premises,Indoor fireplace,Buzzer/wireless intercom,Heating,Family/kid friendly,Washer,Dryer,Fire extinguisher,Essentials,Shampoo",
         "950.0",
         "7",
         "90",
         "True",
         "27",
         "57",
         "87",
         "362",
         "1",
         "2015-08-18",
         "2015-08-18",
         "80.0",
         "80.0",
         "100.0",
         "100.0",
         "100.0",
         "80.0",
         "80.0",
         "FALSO",
         "2.0",
         "spain",
         "girona",
         "2020-04-30"
        ],
        [
         "24",
         "158238",
         "CENTRAL Wi Fi  w/TERRASSE 8 people",
         "Welcome to Barcelona ! Barcelona is a colorfull city with an amazing athmosphere plenty of experiences to enjoy. We want you to feel the Barcelona experience in our JUST RENEWED apartment a few minutes from the city center. Not included : touristic tax. Is 2,25 euros per person and night with a maximum of 7 nights Expenses of water, electricity are included untill 150 euros per month. Internet Included. Late check in after 8 pm : 25 euros Late check in after 10 pm : 35 euros Raquel 4 double rooms. 2 single beds And 3 double beds Metro Line 3 Palza del Centro stop Registro: (PHONE NUMBER HIDDEN)   Expedient (PHONE NUMBER HIDDEN) Registro: (PHONE NUMBER HIDDEN)   Expedient (PHONE NUMBER HIDDEN)",
         "759411",
         "les Corts",
         "Les Corts",
         "Entire home/apt",
         "8",
         "2.0",
         "4.0",
         "5.0",
         "TV,Internet,Wifi,Kitchen,Paid parking off premises,Smoking allowed,Pets allowed,Elevator,Buzzer/wireless intercom,Family/kid friendly,Washer,Essentials,Hair dryer,Iron,translation missing: en.hosting_amenity_50,Hot water,Host greets you",
         "1200.0",
         "3",
         "365",
         "True",
         "24",
         "54",
         "84",
         "359",
         "97",
         "2011-07-22",
         "2018-05-21",
         "89.0",
         "90.0",
         "80.0",
         "100.0",
         "100.0",
         "90.0",
         "90.0",
         "FALSO",
         "116.0",
         "spain",
         "barcelona",
         "2018-06-09"
        ],
        [
         "25",
         "164621",
         "Nice&Cozy ensuite DoubleBedroom",
         "** Please, always check availability before booking ** Thanks! Monthly rate available on request during low season. If this room is booked, I rent another one in the same flat, have a look: https://www.airbnb.es/rooms/164364 About the apartment: 3 Bedrooms 2 Bathrooms (1 en-suite) Fully furnished kitchen Living Room Patio/Terrace The flat is spacious and well distributed. There are 3 bedrooms: 2 for airbnb guests and one is mine. The kitchen is modern, functional and fully equipped. The living room is at the higher floor, it has 2 super comfy sofa, a yoga space and a very good vibe. There is a TV (smaller than the one on the photos). The patio is great for relaxing on the hammock and chilling out in the pleasant summer evenings.  This double room is the best and largest room of the flat: it has en-suite private bathroom and it overlooks the patio. The location is great! The flat is located in Porto Pi, a very convenient area close to...everything! Next door there is Porto Pi shopping c",
         "684289",
         "Palma de Mallorca",
         null,
         "Private room",
         "1",
         "1.0",
         "1.0",
         "0.0",
         "TV,Wifi,Kitchen,Smoking allowed,Free street parking,Buzzer/wireless intercom,Heating,Family/kid friendly,Washer,Essentials,Hangers,Hair dryer,Iron,Private entrance,Hot water,Luggage dropoff allowed,Long term stays allowed,Host greets you",
         "330.0",
         "7",
         "1125",
         "True",
         "10",
         "39",
         "69",
         "344",
         "44",
         "2011-07-26",
         "2017-06-25",
         "95.0",
         "100.0",
         "100.0",
         "100.0",
         "100.0",
         "90.0",
         "90.0",
         "FALSO",
         "45.0",
         "spain",
         "mallorca",
         "2019-08-31"
        ],
        [
         "26",
         "170750",
         "2-bedroom attic & rooftop terrace",
         "JESUS DEL VALLE Apartment Gorgeous, bright two-bedroom attic apartment with a great terrace and all the amenities. Set in a strategic location very close to Gran V�a, the main commercial and entertainment area in Madrid. This flat is perfect for couples, families or a group of friends. FEATURES This bright apartment outfitted with all comforts has an open loft-style living room with two single  beds like sofa,  connecting to a fully-equipped kitchen with all the necessary appliances to make your stay as homey as possible.   The living room also leads out to a large (20 m2) terrace, with outdoor furniture , allowing you to enjoy wonderful views of the sunset over the city rooftops and Madrid sky-line.  The apartment has a master bedroom with a double bed and another smaller bedroom with a double bed, both with built-in wardrobes. Amenities. 4th 1/2  floor with elevator ( last 10 steps on foot), air conditioning, electric heating, bed linens & towels, refrigerator, oven, microwave, kitch",
         "814490",
         "Universidad",
         "Centro",
         "Entire home/apt",
         "4",
         "1.0",
         "2.0",
         "4.0",
         "TV,Cable TV,Wifi,Air conditioning,Kitchen,Smoking allowed,Elevator,Heating,Family/kid friendly,Washer,Essentials,Shampoo,Hangers,Hair dryer,Iron,Bathtub,Hot water,Bed linens,Extra pillows and blankets,Microwave,Coffee maker,Refrigerator,Dishwasher,Dishes and silverware,Cooking basics,Oven,Stove,Patio or balcony,Well-lit path to entrance,Step-free access,Step-free access,Host greets you,Paid parking on premises",
         "900.0",
         "2",
         "30",
         "True",
         "11",
         "11",
         "11",
         "17",
         "189",
         "2011-10-28",
         "2018-11-18",
         "90.0",
         "90.0",
         "90.0",
         "100.0",
         "100.0",
         "100.0",
         "90.0",
         "FALSO",
         "218.0",
         "spain",
         "madrid",
         "2018-12-10"
        ],
        [
         "27",
         "176827",
         "Se alquilan habitaciones en Madrid",
         "Es un piso totalmente reformado. Todas las habitaciones tienen llave y est�n amuebladas. Se puede ir andando a todos los lugares importantes de Madrid. Las personas que se queden por meses tienen derecho a cocina, wii, calefacci�n, lavadora, etc. En el piso tenemos 5 ba�os y 2 duchas. Todas las habitaciones est�n amuebladas, algunas tienen medio ba�o dentro, tienen llave en la puerta. . Las personas que alquilen por meses tienen derecho a cocina, lavadora, wifi, etc. Las personas que alquilen por d�as sueltos, tienen derecho a wifi, microondas, frigorifico, utilizar platos, vasos, cubiertos, ( no los hornillos de la cocina ). La lavadora es un servicio aparte. Lo que sea necesario Esta rodeado de cines, teatros, centros comerciales, restaurantes, museos, etc. Se puede ir andando a todos los sitios importantes. El autob�s que sale del aeropuerto, la parada la tiene en Cibeles y se tarde 10 minutos andando al piso. Esta comunicado con todo tipo de transportes a metro, autobuses, tren etc",
         "845399",
         "Universidad",
         "Centro",
         "Private room",
         "7",
         "5.0",
         "1.0",
         "7.0",
         "TV,Internet,Wireless Internet,Kitchen,Smoking allowed,Heating,Washer,Dryer,Fire extinguisher,Shampoo,Lock on bedroom door,24-hour check-in,Hangers,Hair dryer,Iron,translation missing: en.hosting_amenity_49,translation missing: en.hosting_amenity_50",
         "280.0",
         "1",
         "730",
         "True",
         "13",
         "43",
         "72",
         "347",
         "156",
         "2012-02-06",
         "2017-04-02",
         "83.0",
         "80.0",
         "90.0",
         "90.0",
         "90.0",
         "90.0",
         "90.0",
         "VERDADERO",
         "248.0",
         "spain",
         "madrid",
         "2017-04-08"
        ],
        [
         "28",
         "178456",
         "Apartment 50m from beach in Alcudia Port, MALLORCA",
         "Nice apartment in Port d'Alc�dia, just a minute walk from the beach. Bright place with traditional Majorcan style decor.  Two bedrooms and big living room, with large terraces. Fully equipped. Bed linen and towels (bath, as well as beach) are included. Also beach accessories (like hammocks or umbrellas), as well as toys for children. It has everything you need to spend a few days (full kitchen with all kinds of accessories, oven, microwave, dishwasher, washing machine). Very well located. Fully equiped apartment with 2 complete bedrooms (with double bed) / 1 bathroom recently renovated / 1 large living room with big sofa / complete kitchen with all kind of accessories and appliances / big terraces). Very well located: - 50m. from the best beach in the north of Mallorca: Port d'Alc�dia. - 50m. from the big lake. - Less than 3 km. from s'Albufera (the only protected natural park in the whole island). - Really close of different activities as rental bicycles and different articles for the",
         "804167",
         "Alc�dia",
         null,
         "Entire home/apt",
         "4",
         "1.0",
         "2.0",
         "2.0",
         "TV,Wifi,Kitchen,Smoking allowed,Free street parking,Family/kid friendly,Suitable for events,Washer,Essentials,Shampoo,24-hour check-in,Hangers,Hair dryer,Iron,Laptop friendly workspace,Private entrance,High chair,Children�s books and toys,Crib,Hot water,Bed linens,Extra pillows and blankets,Microwave,Coffee maker,Refrigerator,Dishwasher,Dishes and silverware,Cooking basics,Oven,BBQ grill,Patio or balcony",
         "900.0",
         "4",
         "325",
         "True",
         "30",
         "60",
         "90",
         "365",
         "33",
         "2012-08-23",
         "2019-09-25",
         "88.0",
         "90.0",
         "90.0",
         "90.0",
         "100.0",
         "90.0",
         "90.0",
         "VERDADERO",
         "37.0",
         "spain",
         "mallorca",
         "2019-11-28"
        ],
        [
         "29",
         "183346",
         "ROOM IN CENTRAL REFURBISH FLAT",
         "I RENT a room in my fully big (125 m2) just refurbished big appartment in XIX century modernist building from 5th august to 3rd september.  The appartment is very bright with 5 balconies to a calm and nice street, west orientation. Although it has just been refurbished it has an antiquite and genuine style, with all modern comodities such a fully equiped kitchen, stack system, TV... It is located in a very elegant central area next to the trendiest and sophisticated shops and cafes and restaurant, the French consulate, 2 very nice parcs... and at the same time very central: just 5-10 min walk to Paseo de la Castella, Gran V�a, Plaza de Cibeles... Next to 2 metro stations: Chueca and Alonso Martinez. The flat has a very big living-room, a small living room, a connected fireplace room and a connected dinning room. It has also 3 bedrooms (one with a big bed and 2 big sofa beds; all of them 1,35 m), and 2 complete bathrooms. A big kitchen with washing machine, equipped kitchen with microwa",
         "877571",
         "Justicia",
         "Centro",
         "Private room",
         "2",
         "2.0",
         "1.0",
         "1.0",
         "TV,Cable TV,Internet,Wireless Internet,Kitchen,Smoking allowed,Pets allowed,Indoor fireplace,Buzzer/wireless intercom,Heating,Family/kid friendly,Washer,Dryer,Fire extinguisher,Essentials,Shampoo,24-hour check-in,Hangers,Hair dryer,Iron,Laptop friendly workspace",
         "300.0",
         "1",
         "730",
         "True",
         "0",
         "0",
         "0",
         "137",
         "12",
         "2013-11-16",
         "2016-05-29",
         "83.0",
         "90.0",
         "80.0",
         "90.0",
         "100.0",
         "90.0",
         "80.0",
         "FALSO",
         "24.0",
         "spain",
         "madrid",
         "2018-01-17"
        ],
        [
         "30",
         "186221",
         "La Sagrada Familia: small and simple room.",
         "Place to relax after a long day exploring Barcelona.  La Sagrada Familia? My house is 4 blocks.  People coming for parties are NOT WELCOME. Small room: very quiet, no parties. Reading this description before booking. There is an option, which is to send a message to host. The room is ONLY FOR sightseeing NOT for students, workers , etc. LGBT. Before sending the booking ... I hope a message, ALWAYS.      Only for people who come to barcelona for sightseeing: not room to live or students.      People coming for parties are NOT WELCOME.      Very quiet place, located in neighborhood of Gracia, one of the busiest area of Barcelona, just 4 blocks from the Sagrada Familia, 10 minutes walking to Sant Pau Hospital, and 4 metro stops from the Parc G�ell. You will visit 3 emblematic places of Barcelona, walking: La Sagrada Familia, Parc Guell; Sant Pau Hospital.      This room is for ONE person, simple and very useful. It has a window, but not direct sunlight. The room has fans and heati",
         "494228",
         "el Camp d'en Grassot i Gr�cia Nova",
         "Gr�cia",
         "Private room",
         "1",
         "0.0",
         "1.0",
         "1.0",
         "TV,Wireless Internet,Wheelchair accessible,Kitchen,Doorman,Elevator in building,Buzzer/wireless intercom,Heating,Washer,Dryer,Smoke detector,First aid kit,Safety card,Essentials,Shampoo,Hangers,Hair dryer,Iron,translation missing: en.hosting_amenity_49,translation missing: en.hosting_amenity_50",
         "150.0",
         "2",
         "3",
         "True",
         "5",
         "11",
         "37",
         "234",
         "416",
         "2011-08-22",
         "2017-04-02",
         "89.0",
         "90.0",
         "100.0",
         "100.0",
         "90.0",
         "90.0",
         "90.0",
         "VERDADERO",
         "607.0",
         "spain",
         "barcelona",
         "2017-04-08"
        ],
        [
         "31",
         "193923",
         "Single room in the real Barcelona",
         "Very well connected flat in a safe and peaceful neighbourhood. The metro station is just around the corner, and it is the green Line 3 Valldaura, in just a few minutes you can reach tourist attractions, all museums, the beach and the airport. Relax in a very nice and clean place after visit Barcelona. Very well connected flat in a safe and peaceful neighbourhood.  You have a little room with a single bed, fresh sheets, and towels, a private wardrobe, a night table, lamp, and fan. Guests also have a little space in the fridge and the toilet, and if needed they can use the kitchen. We can provide a hair dryer if needed and all of these services are free. If you don't feel like a tourist, here you can experience the real Barcelona with local people, low prices and peaceful spots to avoid crowding. Just ask me and enjoy your holiday :-) Minimum reserve: 2 nights The metro station is just around the corner, and it is the green Line 3 Valldaura, in just a few minutes you can reach touris",
         "939590",
         "Horta",
         "Horta-Guinard�",
         "Private room",
         "1",
         "1.0",
         "1.0",
         "1.0",
         "TV,Wifi,Kitchen,Elevator,Buzzer/wireless intercom,Washer,Smoke detector,Carbon monoxide detector,First aid kit,Essentials,Shampoo,Hangers,Hair dryer,Iron,Laptop friendly workspace,translation missing: en.hosting_amenity_49,translation missing: en.hosting_amenity_50,Hot water,Bed linens,Microwave,Coffee maker,Refrigerator,Dishes and silverware,Cooking basics,Oven,Stove,Host greets you",
         "200.0",
         "3",
         "60",
         "True",
         "2",
         "17",
         "29",
         "253",
         "125",
         "2011-09-02",
         "2020-02-10",
         "98.0",
         "100.0",
         "100.0",
         "100.0",
         "100.0",
         "90.0",
         "100.0",
         "FALSO",
         "121.0",
         "spain",
         "barcelona",
         "2020-02-16"
        ],
        [
         "32",
         "206846",
         "Duplex studio near Picasso Museum",
         "This bright and ultra-modern apartment in Barcelona is located in the trendy El Born area of the city, within walking distance of many fantastic museums and other must-see attractions. The apartment itself is well-lit and completely renovated, with the exposed ceiling beams and wooden French doors adding an authentic touch to the otherwise modern style. The living room has a TV and comfortable sofa bed, as well as access to the balcony overlooking a typical street in El Born. The kitchen is bright and fully equipped with up-to-date appliances and utensils. It also has a dining table where you can sit down to enjoy your home-cooked meals. Above the kitchen you will find a second storey, accessible by wooden stairs, where there is a double bed, meaning this gorgeous apartment can accommodate up to two people in total. The bathroom is bright with a sizeable walk-in shower.  This fantastic Barcelona apartment is perfect for those looking to stay in a modern home-away-from-home, situated in",
         "612665",
         "Sant Pere, Santa Caterina i la Ribera",
         "Ciutat Vella",
         "Entire home/apt",
         "2",
         "2.0",
         "1.0",
         "1.0",
         "TV,Internet,Wifi,Air conditioning,Kitchen,Paid parking off premises,Heating,Family/kid friendly,Smoke detector,First aid kit,Essentials,Shampoo,Hangers,Hair dryer,Iron,Laptop friendly workspace,Self check-in,Lockbox,Hot water,Bed linens,Extra pillows and blankets,Microwave,Coffee maker,Refrigerator,Dishwasher,Dishes and silverware,Cooking basics,Oven,Stove,Patio or balcony,Long term stays allowed,Cleaning before checkout,Wide entrance,Accessible-height toilet,Paid parking on premises",
         "1280.0",
         "31",
         "150",
         "True",
         "5",
         "7",
         "25",
         "205",
         "77",
         "2012-02-12",
         "2019-10-09",
         "92.0",
         "90.0",
         "90.0",
         "90.0",
         "90.0",
         "100.0",
         "90.0",
         "FALSO",
         "81.0",
         "spain",
         "barcelona",
         "2019-12-10"
        ],
        [
         "33",
         "210156",
         "ALCUDIA BEACH -MALLORCA HOLIDAYS",
         "A quiet house on a private street Chalet-style house, recently refurbished located in a quiet private road on a plot of 400 m2 with 200 m2 built, overlooking the Lago Menor and the mountains. It has garage, three bedrooms, kitchen, two bathrooms, living room and three porches, sun terrace, garden, outdoor shower, satellite TV and air conditioning (hot / cold) throughout the house and BBQ.. Located in a quiet area, but at the same time very close to leisure facilities of the Port of Alcudia: nightclubs, bars, restaurants and shops. It is also within 5 minutes of Pedro Mas i Reus one of the most important streets of the port, which leads to the Alcudia beach with fine white sand and crystalline waters, it is a Blue Flag beach where you can also perform various aquatic activities . In the same area is the Hidropark. In the Lago Menor water activities are carried out also in the surrounding area there are stables and horse riding.  A few kilometers from Puerto de Alcudia, lies the charming",
         "1036132",
         "Alc�dia",
         null,
         "Entire home/apt",
         "6",
         "2.0",
         "3.0",
         "4.0",
         "TV,Cable TV,Internet,Wifi,Air conditioning,Kitchen,Free parking on premises,Smoking allowed,Heating,Family/kid friendly,Washer,First aid kit,Essentials,Hangers,Hair dryer,Iron,Private entrance,High chair,Crib,Hot water,Bed linens,Extra pillows and blankets,Microwave,Coffee maker,Refrigerator,Dishwasher,Dishes and silverware,Cooking basics,Oven,Stove,BBQ grill,Patio or balcony,Garden or backyard,Host greets you",
         "580.0",
         "5",
         "365",
         "True",
         "26",
         "44",
         "49",
         "102",
         "90",
         "2012-08-11",
         "2019-11-02",
         "97.0",
         "100.0",
         "100.0",
         "100.0",
         "100.0",
         "90.0",
         "100.0",
         "VERDADERO",
         "97.0",
         "spain",
         "mallorca",
         "2020-03-22"
        ],
        [
         "34",
         "213296",
         "Big/Centric Room-Palau de la Musica",
         "Hi, I rent a big room in my 150 square meters and neo-modernist style appartment, in the antic center of Barcelona. It is located in the same street than the famous Palau de la Musica, very near Las Ramblas. The room has a doble bed, a table, and an access to the balcony where you will see the backyard. . I provide wifi internet connexion, sheets and towels. The flat is very well located because you can visit the best sites of Barcelona just walking, and if you are a little lazy, the nearest metro station (Urquinaona) will drive you anywhere you want. I have a beaux-arts degree, especialized in old part of town paintings. 2 very peaceful and sympathic cats give me company. You will  enjoy the tranquility of the place.  If you have any doubt, please contact me.",
         "1100014",
         "Sant Pere, Santa Caterina i la Ribera",
         "Ciutat Vella",
         "Private room",
         "2",
         "1.0",
         "1.0",
         "1.0",
         "Wireless Internet,Smoking allowed,Pets live on this property,Cat(s),Buzzer/wireless intercom,Washer,Essentials,Hangers,Iron",
         "250.0",
         "2",
         "12",
         "True",
         "8",
         "14",
         "25",
         "224",
         "168",
         "2012-05-20",
         "2017-01-21",
         "89.0",
         "90.0",
         "80.0",
         "90.0",
         "90.0",
         "100.0",
         "90.0",
         "FALSO",
         "292.0",
         "spain",
         "barcelona",
         "2017-02-09"
        ],
        [
         "35",
         "214970",
         "Cozy Room in central flat Barcelona",
         "Dear potential Guest, if you fancy staying in my place, I would appreciate very much that you carefully read all my information before booking. It is important!  Also be aware that you will need to provide your National Identity Number for my tax purposes. Thank you! <br /><br />My flat is located in Poble Sec, at the end of the street whose last block has a bit of steepness (REAL THIRD floor, my Name is on the Door), no lift. You will live only with me and my cat Odina.<br /><br />GAY friendly!<br /><br /><b>The space</b><br />YOUR ROOM:<br />� 1.40m double bed.  High quality mattress (viscoeslastic).<br />� Storage space in shelves and two free spaces in the closet, hanging drawers. <br />� Glass chamber window to minimize external noise (the area is already quiet). <br />� Central heating in winter and ventilator in summer.<br />� Bed linen, duvet, pillows and two towels per person. <br />� Relaxed and quiet environment in the whole flat.<br />� You can see Sagrada Familia at the di",
         "1110014",
         "el Poble Sec",
         "Sants-Montju�c",
         "Private room",
         "2",
         "1.0",
         "1.0",
         "1.0",
         "Kitchen, Extra pillows and blankets, Coffee maker, Oven, Hot water, Hair dryer, Bed linens, Cooking basics, Dishes and silverware, Stove, Refrigerator, Heating, Host greets you, Essentials]",
         "330.0",
         "30",
         "90",
         "True",
         "1",
         "1",
         "1",
         "1",
         "144",
         "2012-06-13",
         "2020-03-02",
         "93.0",
         "90.0",
         "100.0",
         "90.0",
         "90.0",
         "90.0",
         "90.0",
         "VERDADERO",
         "139.0",
         "spain",
         "barcelona",
         "2020-12-16"
        ],
        [
         "36",
         "222753",
         "House near City Arts+Wi-fi",
         "House with interior garden just few minutes from downtown. The room for three is on the first floor and has a private bathroom (ground floor) , living room and balcony overlooking the street. Also Wi-Fi 100 Mb.<br /><br /><b>The space</b><br />House with interior garden in a special place in Valencia, just minutes -15 min.- from downtown, popular district of Russafa, next to the old Turia riverbed, the biggest garden in Europe (more 7 km of garden) where the Valencian people make athletics, cycling or simply walking and rest. There is the City of Arts and Sciences and its impressive buildings designed by Valencian architect Santiago Calatrava.<br />This is a ground floor with a nice little garden and a beautiful facade belongs to the popular modernism of the city. We take care of our home so that the traveler find it clean, tidy and are comfortable as at home. The room is on the first floor for guests total independence, and also has private bathroom on the ground floor, living room an",
         "709516",
         "EN CORTS",
         "QUATRE CARRERES",
         "Private room",
         "3",
         "1.0",
         "2.0",
         "2.0",
         "Waterfront, Washer, Long term stays allowed, Coffee maker, Bed linens, Free street parking, Stove, Garden or backyard, Heating, Dishes and silverware, Hot water, Essentials, Laptop-friendly workspace, Kitchen, Extra pillows and blankets, Wifi, Shampoo, Oven, Patio or balcony, Host greets you, Hangers, Hair dryer, Iron, BBQ grill]",
         "310.0",
         "2",
         "365",
         "True",
         "30",
         "60",
         "90",
         "365",
         "172",
         "2011-10-22",
         "2020-03-01",
         "86.0",
         "90.0",
         "90.0",
         "100.0",
         "90.0",
         "90.0",
         "90.0",
         "FALSO",
         "156.0",
         "spain",
         "valencia",
         "2020-11-10"
        ],
        [
         "37",
         "255195",
         "Lightly apartment with balcony to Las Ramblas",
         "Amazing location of this lightly and sunny apartment. Shared terrace with spectacular views of Barcelona and sunset. <br />Fully furnished and equipped apartment (A/C, heating, internet WIFI,...). Also with kitchenware, bedlinen and towels,...<br />ONLY for MONTHLY RENTALS (over 32 nights)<br /><br /><b>Guest access</b><br />Great and large shared terrace.<br />Free laundry services.",
         "1310304",
         "el Raval",
         "Ciutat Vella",
         "Entire home/apt",
         "4",
         "1.0",
         "1.0",
         "2.0",
         "Refrigerator, Patio or balcony, Cooking basics, Heating, Dryer, Essentials, Wifi, Coffee maker, Air conditioning, Stove, Elevator, TV, Microwave, Washer, Dishes and silverware]",
         "330.0",
         "32",
         "330",
         "True",
         "30",
         "60",
         "90",
         "330",
         "17",
         "2012-03-02",
         "2020-10-09",
         "85.0",
         "80.0",
         "80.0",
         "90.0",
         "90.0",
         "100.0",
         "80.0",
         "FALSO",
         "16.0",
         "spain",
         "barcelona",
         "2020-11-06"
        ],
        [
         "38",
         "265647",
         "Canig� (Can Llobet)  PG-455",
         "Canig� is an appartment, in Can LLobet, Located in Capmany. Is a XVIII century house that has been completly restored . The ground floor is the common area for all clients with Jacuzzi, Swimming pool and garden. Fully equipped cottage, consisting of kitchen, bathroom, living room and 3 bedrooms. It has garden, terraces and a spa. the situation is excellent, 20 minutes from the beaches of the Costa Brava, 15 minutes south of France near Figueres, Roses, Cadaqu�s, and the natural park Aiguamolls de l'Empord� in the natural setting of Albera (Alt Empord�, Girona). ideal for family,  in the village there are shops, restaurants ... walking areas ... megalithic routes, from the house offer various activities, quad tours, paintball, travel with globe ... The ground floor is the common area for all clients with Jacuzzi, Swimming pool and garden.",
         "1393119",
         "Capmany",
         null,
         "Entire home/apt",
         "6",
         "2.0",
         "3.0",
         "5.0",
         "TV,Cable TV,Internet,Wifi,Air conditioning,Pool,Kitchen,Free parking on premises,Smoking allowed,Pets allowed,Hot tub,Buzzer/wireless intercom,Heating,Family/kid friendly,Washer,Fire extinguisher,Essentials,Hangers,Hair dryer,Iron,Self check-in,Lockbox,High chair,Pack �n Play/travel crib,Hot water",
         "1750.0",
         "7",
         "14",
         "True",
         "17",
         "41",
         "71",
         "333",
         "8",
         "2013-08-19",
         "2017-09-03",
         "95.0",
         "90.0",
         "100.0",
         "100.0",
         "100.0",
         "90.0",
         "90.0",
         "VERDADERO",
         "13.0",
         "spain",
         "girona",
         "2018-08-30"
        ],
        [
         "39",
         "279439",
         "sociable apartment in Raval 3",
         "Welcome to the Piero's home (Italian)!   The house is in Raval, surely one of the most characteristic districts of Barcelona.   The apartment consists of 3 separate rooms that are available with separate beds or double beds, according to needs of guests. There are bathroom (with 2 separate spaces between shower and toilet),  kitchen and living room. Washing machine is for private use only but there's a laundry very close to the house. The owner lives in the same apartment.  While maintaining its original charm, Raval is able to offer any type of entertainment, from the old prestigious restaurant, passing by flamenco shows till late night and a wide choice of pubs, discos and clubs. Only 200 meters from metro station Liceu on the Ramblas (Barcelona's main street), you can easily reach any point of cultural interest, like Gaudi's houses, churches, museums etc... Piero may suggest a culinary trip to food markets, gourmet restaurants and tapas bars. The main market of La Boqueria in Barcel",
         "1457147",
         "el Raval",
         "Ciutat Vella",
         "Private room",
         "7",
         "2.0",
         "3.0",
         "4.0",
         "Internet,Wifi,Kitchen,Smoking allowed,Elevator,Family/kid friendly,First aid kit,Fire extinguisher,Essentials,Lock on bedroom door,Hangers,Hair dryer,Crib,Hot water,Extra pillows and blankets,Pocket wifi,Coffee maker,Refrigerator,Dishes and silverware,Cooking basics,Oven,Stove,Patio or balcony,Luggage dropoff allowed",
         "250.0",
         "2",
         "21",
         "True",
         "1",
         "4",
         "13",
         "13",
         "102",
         "2012-02-20",
         "2018-04-13",
         "91.0",
         "90.0",
         "90.0",
         "100.0",
         "100.0",
         "90.0",
         "90.0",
         "FALSO",
         "134.0",
         "spain",
         "barcelona",
         "2018-05-14"
        ],
        [
         "40",
         "305213",
         "PLATANEROS - BRIGHT CENTRAL APT",
         "Is one of the best locations in town.  Walking  to the historic area takes you 10 minutes,  Las Ramblas, Gothic, Born. Plaza Catalunya and Paseo de Gracia 15 minutes, museums, shops  . From the apartment the are several buses take to the beach in 10 minutes, but also along a nice walk you reach in half and hour. Montjuich is 15 minutes walking or the telepheric in Paral.lel station 5 minutes from the apartment. Plaza de Espa�a 10 minutes walking and easy available from Sants railway station. Situated in one of the best areas in Barcelona, 10 minutes walk to Las Ramblas and also a short walk to the historic centre, museums, restaurants, shops and markets, and night life of Barcelona. Excellent comunications with public transport, only one minutes walk to Parallel metro station, on metro lines 2 and 3, Fira Barcelona  (Pla�a d' Espagna)  only10 minutes walking or ideal for World Mobbile Congres and also great bus connections, including airport bus. The neighbourhood is residential and pl",
         "1570247",
         "Sant Antoni",
         "Eixample",
         "Entire home/apt",
         "2",
         "1.0",
         "1.0",
         "1.0",
         "TV,Internet,Wireless Internet,Kitchen,Elevator,Buzzer/wireless intercom,Heating,Washer,Fire extinguisher,Essentials,Hangers,translation missing: en.hosting_amenity_49,translation missing: en.hosting_amenity_50,Hot water,Microwave,Coffee maker,Refrigerator,Dishes and silverware,Cooking basics,Stove,Patio or balcony,Waterfront",
         "1050.0",
         "3",
         "28",
         "True",
         "14",
         "24",
         "51",
         "141",
         "170",
         "2012-06-21",
         "2017-07-26",
         "95.0",
         "100.0",
         "100.0",
         "100.0",
         "100.0",
         "90.0",
         "100.0",
         "VERDADERO",
         "272.0",
         "spain",
         "barcelona",
         "2017-08-06"
        ],
        [
         "41",
         "314781",
         "PRIVATE SPACE 40M2, BEST AREA,WIFI",
         "Hi, I have a big private space,  2 double beds (one is bed/sofa), sunny balcony and your own living room in my confortable flat, modernist style, wash machine, internet wifi. Near Sagrada Familia,Ciudadella Parc,the beach,Pza Catalu�a, Metro Stations Girona and Tetuan Sunny and huge private space with 2 double beds with balcony and your own living room in a shared modernist flat, located in the best neighborhood in Barcelona, the famous EIXAMPLE, bars, restorants, boutiques, art galleries all near around. Walking distance to all major atractions in the city, like PLA�A CATALUNYA and the worldwide known RAMBLAS,  GOTHIC QUARTER, ARC DE TRIOMF, BARCELONETA, SAGRADA FAMILIA. Very close to metro station (L2 Girona L4 Tetuan) with excellent transport links to everywhere in Barcelona and nearby. The flat is a typical catalan modernist flat, with a total of 200 sq meters, with mosaic  floors, very bright and very spacious. We are easy going, respectful and polite. Wifi internet, also washing",
         "1604485",
         "la Dreta de l'Eixample",
         "Eixample",
         "Private room",
         "2",
         "2.0",
         "1.0",
         "2.0",
         "Wireless Internet,Smoking allowed,Pets allowed,Elevator in building,Buzzer/wireless intercom,Family/kid friendly,Washer",
         "1000.0",
         "2",
         "60",
         "True",
         "30",
         "60",
         "90",
         "365",
         "13",
         "2013-08-14",
         "2016-06-27",
         "93.0",
         "90.0",
         "80.0",
         "100.0",
         "90.0",
         "100.0",
         "100.0",
         "FALSO",
         "31.0",
         "spain",
         "barcelona",
         "2017-02-09"
        ],
        [
         "42",
         "318826",
         "Wonderful apartment. JUST REMODELED",
         "Magnificent apartment. Extremely bright and sunny  NEWLY RENOVATED! AIRBNB NEW! REF: VT-2148. Tourist Companies Registry of the General Directorate of Tourism of the Community of Madrid. The apartment is newly renovated, modern and quite comfortable. Located on the third floor, bright and sunny, has an approximate area of 60 square meters and has 3 bedrooms (suitable for 4 people), kitchen, bathroom and terrace. It is fully equipped with wooden floors, modern furnishings and amenities: dishwasher, microwave, oven, WIFI, flat screen TV available ... even a printer that can print their boarding passes. LOCATION It is located in the area of the Country House, near the historic center. It is perfect for all the attractions of Madrid. Immediately to the apartment there is a shopping street with shops, bars, restaurants ... CLOSE TO DOWNTOWN Perfect for exploring the heart of the city, with a wide range of public transport, efficient and cheap. � Metro: just 5 stops from the historic center",
         "1636378",
         "Aluche",
         "Latina",
         "Entire home/apt",
         "4",
         "1.0",
         "3.0",
         "3.0",
         "TV,Internet,Wifi,Air conditioning,Kitchen,Elevator,Free street parking,Buzzer/wireless intercom,Heating,Family/kid friendly,Washer,First aid kit,Essentials,Shampoo,Hangers,Hair dryer,Iron,Laptop friendly workspace,Room-darkening shades,Hot water,Microwave,Coffee maker,Refrigerator,Dishwasher,Dishes and silverware,Cooking basics,Oven,Long term stays allowed,Host greets you",
         "900.0",
         "6",
         "1125",
         "True",
         "23",
         "53",
         "83",
         "358",
         "11",
         "2012-05-07",
         "2018-12-14",
         "98.0",
         "100.0",
         "100.0",
         "100.0",
         "100.0",
         "90.0",
         "90.0",
         "FALSO",
         "13.0",
         "spain",
         "madrid",
         "2019-02-06"
        ],
        [
         "43",
         "323679",
         "Marina Costa Brava - view on canal",
         "Furnished Apartment in the Empuria brava marina (close to Center and main beach). Furnished 2 bedrooms.  the apartment has a 20 square meter living room, an equipped kitchen and is orientated West. Set on the 1st floor. 15 square feet terrace . The apartment is a five-minute walk from the beach (around 400 meters). Quiet place in a dead-end road. The apartment is located at the front of one canal. Privative car park.  Features : 1 bathroom / Sleeps : 4 Appliances : cooktop/ Microwave/ Oven / Ironing board /laundry machine Electronics : TV(66 cm) Furnishing : Air conditioning / sofa bed/ bedspread/ 2 double bed",
         "1552289",
         "Castell� d'Emp�ries",
         null,
         "Entire home/apt",
         "4",
         "1.0",
         "2.0",
         "3.0",
         "TV,Cable TV,Air conditioning,Kitchen,Free parking on premises,Heating,Washer,Dryer,Essentials,Hangers,Hair dryer,Iron,Hot water,Host greets you",
         "550.0",
         "14",
         "30",
         "True",
         "0",
         "0",
         "26",
         "301",
         "7",
         "2012-08-05",
         "2018-08-18",
         "86.0",
         "90.0",
         "90.0",
         "100.0",
         "100.0",
         "90.0",
         "90.0",
         "FALSO",
         "8.0",
         "spain",
         "girona",
         "2019-06-30"
        ],
        [
         "44",
         "326464",
         "Charm and quiet room",
         "<b>The space</b><br />The room is in the House Laxkanberria seventeenth century in the village of Arraioz, Baztan Valley. A place of dreams, rural, rustic, living nature, near the Natural Park of Bertiz. and less than an hour of Biarritz, San Sebastian, Pamplona. It has a full bathroom, central heating, wifi, TV. And above all, very quiet. You can enjoy in the area of ??the greenway Bidassoa, hiking, civil architecture in their homes and villages amazing wonderful, good food, nature as a whole and of the Basque culture and traditions. <br />Enjoy nature in its pure state, the harmony of their homes and villages. Uncover an ancient culture and languages??, the Basque Country. Ethnographic Museum, megalithic monuments, windmills, towers. In Arraioz same can enjoy the charm of the three palaces of the fifteenth century. And every day you have a mall.",
         "1669001",
         "Can Peguera",
         "Nou Barris",
         "Private room",
         "2",
         "1.0",
         "1.0",
         "1.0",
         "Essentials, Heating, Hair dryer, Hangers, Lock on bedroom door, Bed linens, Long term stays allowed, Wifi, Breakfast, Shower gel, TV]",
         "600.0",
         "1",
         "1125",
         "True",
         "30",
         "60",
         "90",
         "365",
         "33",
         "2014-10-05",
         "2019-12-28",
         "99.0",
         "100.0",
         "100.0",
         "100.0",
         "100.0",
         "100.0",
         "100.0",
         "FALSO",
         "43.0",
         "spain",
         "barcelona",
         "2021-02-09"
        ],
        [
         "45",
         "330723",
         "SUNNY ROOM WITH BALCONY",
         "<b>The space</b><br />You will have the chance to stay in a bright, and spacious Barcelona apartment with a terrace! The apartment has all the amenities you need. Staying here you will be in the heart of Barcelona, located in the  zone Nou de la Rambla and Paral-lel district , just one block away from the Paral-lel Metro and many buses, and a 10 minute walk to the  Las Ramblas 20 minute walk to Plaza Catalunya or to the beach.<br /><br />The apartment<br />The entire apartment is available with a  sunny double bedrooms.   You will also have access to a spacious, sunny lounge with views of the city. There is also TV, DVD player, WiFi, dishwasher, and a washing machine, heating. There is 2 toilets.  The apartment is located on the 6th floor with a lift.<br /><br />The neighbourhood<br />The apartment is in a perfect location, very close to tourist areas like the Ramblas 15 minute walk to Las Ramblas, Plaza Catalunya and the hustle and bustle of the city center.  <br /><br />Useful info",
         "1687383",
         "el Raval",
         "Ciutat Vella",
         "Private room",
         "2",
         "2.0",
         "1.0",
         "1.0",
         "Elevator, Essentials, Hair dryer, Hangers, Long term stays allowed, Dryer, Cable TV, Wifi, Kitchen, Iron, Washer, TV]",
         "300.0",
         "14",
         "1125",
         "True",
         "30",
         "60",
         "90",
         "365",
         "51",
         "2012-06-28",
         "2019-10-25",
         "93.0",
         "100.0",
         "100.0",
         "100.0",
         "90.0",
         "90.0",
         "100.0",
         "FALSO",
         "49.0",
         "spain",
         "barcelona",
         "2021-02-09"
        ],
        [
         "46",
         "336795",
         "Room in Madrid Center whit WIFI",
         "Room in Madrid Center close to Atocha railstation and all the museum zone. The subway station is Anton Martin and is very close of the house. We have internet and all the needs of modern life... The room in not big but the house is big and buitiful whit a lot of light and in madrid life is in the street not in the room. The house is in the middle of tree famous neighborhood: Lavapies, Huertas and La Latina. We are a couple from Chile and Italy who lives in madrid from a lot of years so we known perfectly the madrid nigthlife. Not worry you will have fun...",
         "1713273",
         "Cortes",
         "Centro",
         "Private room",
         "2",
         "1.0",
         "1.0",
         "1.0",
         "TV,Internet,Wifi,Kitchen,Smoking allowed,Pets live on this property,Cat(s),Buzzer/wireless intercom,Heating,Essentials,Shampoo,Hair dryer,Hot water,Host greets you",
         "250.0",
         "2",
         "1125",
         "True",
         "29",
         "52",
         "71",
         "344",
         "156",
         "2012-05-28",
         "2020-03-15",
         "73.0",
         "80.0",
         "70.0",
         "90.0",
         "90.0",
         "100.0",
         "80.0",
         "FALSO",
         "162.0",
         "spain",
         "madrid",
         "2020-04-17"
        ],
        [
         "47",
         "342557",
         "Berlin's Park at your window. Parking included.",
         "Very nice room in an area with excellent communications. We have the Berlin Park just in front. Our house is new, clean and cozy. In it we live my wife, me and our daughters. The area is very safe. Accommodation in a family, ideal for anyone but especially for women traveling alone. Possibility of garage, ask us.<br /><br /><b>The space</b><br />Private room in a relaxing flat, ten minutes walk from Real Madrid Santiago Bernab�u Stadium. Well connected by Metro (3 min walk to Concha Espina Station), buses and the new electrical bikes public hiring service from the Municipality (15 min ciclyng to Puerta del Sol). <br />You'll need 40 min to get to barajas Airport by Metro. <br />We are a married couple with two daughters aged nine and seven.<br />You will have a private room for you and a pretty bathroom shared with the girls. <br />The room is quiet, tidy and with lots of light and direct views to Parque de Berl�n, one of the biggests Parks of Madrid. It has a firm and new bed (190x90",
         "1738288",
         "Ciudad Jard�n",
         "Chamart�n",
         "Private room",
         "1",
         "1.0",
         "1.0",
         "1.0",
         "Shampoo, TV, Luggage dropoff allowed, Elevator, Refrigerator, Coffee maker, Free parking on premises, Heating, Hot water, Breakfast, Patio or balcony, Washer, Host greets you, Stove, Wifi, Essentials, Kitchen, Dishes and silverware, Iron, Dishwasher, Cooking basics, Hangers, Laptop-friendly workspace, Hair dryer, Microwave]",
         "700.0",
         "2",
         "120",
         "True",
         "30",
         "60",
         "90",
         "365",
         "55",
         "2013-10-21",
         "2019-11-03",
         "97.0",
         "100.0",
         "100.0",
         "100.0",
         "100.0",
         "100.0",
         "100.0",
         "FALSO",
         "64.0",
         "spain",
         "madrid",
         "2020-11-06"
        ],
        [
         "48",
         "343864",
         "3 BD APT IN THE HEART OF GRACIA",
         "A spacious and comfortable 3 bedrooms apartment located in a 3rd floor with no lift in the picturesque and bohemian Gracia's neighbourhood, next to the Virreina's square and the famous and emblematic Verdi street, full of bars, restaurants, shops and the VO cinema. Safe area. HUTB-009898 A spacious and comfortable 3 bedrooms apartment located located in a 3rd floor with no lift in the picturesque and bohemian Gracia's neighbourhood, next to the Virreina's square and the famous and emblematic Verdi street, full of bars, restaurants, shops and the VO cinema. Safe and peaceful area. This apartment has one double bed, one single bed and one bunk bed, two fully bathrooms (one with shower and the other with bathtub), a cosy living-room with a comfy double sofa-bed and a small balcony facing the Virreina's square and a fully equipped kitchen. It offer a pleasant and relaxing atmosphere, a perfect choice for a family or a group. If you are a big group you can also book the 'Apartment Virreina",
         "1744516",
         "la Vila de Gr�cia",
         "Gr�cia",
         "Entire home/apt",
         "6",
         "2.0",
         "3.0",
         "5.0",
         "TV,Wifi,Kitchen,Buzzer/wireless intercom,Heating,Family/kid friendly,Washer,Essentials,24-hour check-in,Hangers,Hair dryer,Iron,High chair,Crib,Hot water,Long term stays allowed,Host greets you,Paid parking on premises",
         "1390.0",
         "3",
         "1125",
         "True",
         "0",
         "5",
         "35",
         "307",
         "7",
         "2014-06-17",
         "2018-10-14",
         "94.0",
         "100.0",
         "100.0",
         "100.0",
         "90.0",
         "100.0",
         "90.0",
         "VERDADERO",
         "13.0",
         "spain",
         "barcelona",
         "2018-11-07"
        ],
        [
         "49",
         "352772",
         "Elegant Centric Attic WIFI Car Park",
         "Charming, luminous, quiet and comfortable attic in a centric location, you can go to the best Barcelona highlights on food.<br />Nearby you have big and good supermarkets and some of the best restaurants in Barcelona.<br />Easy from airport and high speed train station<br /><br /><b>The space</b><br />Charming, elegant and luminous apartment on the top of the building. <br />It is very well located between Plaza de Espa�a and Plaza de Catalu�a and perfect to go walking to the main sites, Gaudi's houses, Miro's works or down town. All this places are within half an hour ratio.<br />Also it is close to Barcelona's Fair at Plaza de Espa�a.<br />The high speed train station -Sans Station- is nearby.<br />It's at only 20 minutes taxi from the airport.<br />If you have a car, don't worries we provide a car park for free.<br />There are big supermarkets around -Mercadona is the best in Europe- and high quality restaurants also.<br />I recommend Taberna del Clinico and Tatika Berry, two of the",
         "1786501",
         "la Nova Esquerra de l'Eixample",
         "Eixample",
         "Entire home/apt",
         "5",
         "1.0",
         "2.0",
         "4.0",
         "Host greets you, Laptop-friendly workspace, High chair, Dryer, Shampoo, Stove, Hot water, Microwave, Washer, Carbon monoxide alarm, Room-darkening shades, Cooking basics, Patio or balcony, Kitchen, Air conditioning, Free parking on premises, Elevator, TV, Pack u2019n Play/travel crib, Heating, Coffee maker, Hair dryer, Hangers, Refrigerator, Iron, Essentials, Bathtub, Wifi, Oven, Crib, Babysitter recommendations, Dishes and silverware]",
         "850.0",
         "2",
         "90",
         "True",
         "0",
         "0",
         "0",
         "219",
         "103",
         "2014-02-28",
         "2020-10-18",
         "94.0",
         "100.0",
         "90.0",
         "90.0",
         "90.0",
         "90.0",
         "90.0",
         "VERDADERO",
         "126.0",
         "spain",
         "barcelona",
         "2020-11-06"
        ]
       ],
       "shape": {
        "columns": 35,
        "rows": 9650
       }
      },
      "text/html": [
       "<div>\n",
       "<style scoped>\n",
       "    .dataframe tbody tr th:only-of-type {\n",
       "        vertical-align: middle;\n",
       "    }\n",
       "\n",
       "    .dataframe tbody tr th {\n",
       "        vertical-align: top;\n",
       "    }\n",
       "\n",
       "    .dataframe thead th {\n",
       "        text-align: right;\n",
       "    }\n",
       "</style>\n",
       "<table border=\"1\" class=\"dataframe\">\n",
       "  <thead>\n",
       "    <tr style=\"text-align: right;\">\n",
       "      <th></th>\n",
       "      <th>apartment_id</th>\n",
       "      <th>name</th>\n",
       "      <th>description</th>\n",
       "      <th>host_id</th>\n",
       "      <th>neighbourhood_name</th>\n",
       "      <th>neighbourhood_district</th>\n",
       "      <th>room_type</th>\n",
       "      <th>accommodates</th>\n",
       "      <th>bathrooms</th>\n",
       "      <th>bedrooms</th>\n",
       "      <th>...</th>\n",
       "      <th>review_scores_cleanliness</th>\n",
       "      <th>review_scores_checkin</th>\n",
       "      <th>review_scores_communication</th>\n",
       "      <th>review_scores_location</th>\n",
       "      <th>review_scores_value</th>\n",
       "      <th>is_instant_bookable</th>\n",
       "      <th>reviews_per_month</th>\n",
       "      <th>country</th>\n",
       "      <th>city</th>\n",
       "      <th>insert_date</th>\n",
       "    </tr>\n",
       "  </thead>\n",
       "  <tbody>\n",
       "    <tr>\n",
       "      <th>0</th>\n",
       "      <td>11964</td>\n",
       "      <td>A ROOM WITH A VIEW</td>\n",
       "      <td>Private bedroom in our attic apartment. Right ...</td>\n",
       "      <td>45553</td>\n",
       "      <td>Centro</td>\n",
       "      <td>NaN</td>\n",
       "      <td>Private room</td>\n",
       "      <td>2</td>\n",
       "      <td>2.0</td>\n",
       "      <td>1.0</td>\n",
       "      <td>...</td>\n",
       "      <td>100.0</td>\n",
       "      <td>100.0</td>\n",
       "      <td>100.0</td>\n",
       "      <td>100.0</td>\n",
       "      <td>100.0</td>\n",
       "      <td>FALSO</td>\n",
       "      <td>75.0</td>\n",
       "      <td>spain</td>\n",
       "      <td>malaga</td>\n",
       "      <td>2018-07-31</td>\n",
       "    </tr>\n",
       "    <tr>\n",
       "      <th>1</th>\n",
       "      <td>21853</td>\n",
       "      <td>Bright and airy room</td>\n",
       "      <td>We have a quiet and sunny room with a good vie...</td>\n",
       "      <td>83531</td>\n",
       "      <td>C�rmenes</td>\n",
       "      <td>Latina</td>\n",
       "      <td>Private room</td>\n",
       "      <td>1</td>\n",
       "      <td>1.0</td>\n",
       "      <td>1.0</td>\n",
       "      <td>...</td>\n",
       "      <td>90.0</td>\n",
       "      <td>100.0</td>\n",
       "      <td>100.0</td>\n",
       "      <td>80.0</td>\n",
       "      <td>90.0</td>\n",
       "      <td>FALSO</td>\n",
       "      <td>52.0</td>\n",
       "      <td>spain</td>\n",
       "      <td>madrid</td>\n",
       "      <td>2020-01-10</td>\n",
       "    </tr>\n",
       "    <tr>\n",
       "      <th>2</th>\n",
       "      <td>32347</td>\n",
       "      <td>Explore Cultural Sights from a Family-Friendly...</td>\n",
       "      <td>Open French doors and step onto a plant-filled...</td>\n",
       "      <td>139939</td>\n",
       "      <td>San Vicente</td>\n",
       "      <td>Casco Antiguo</td>\n",
       "      <td>Entire home/apt</td>\n",
       "      <td>4</td>\n",
       "      <td>1.0</td>\n",
       "      <td>2.0</td>\n",
       "      <td>...</td>\n",
       "      <td>100.0</td>\n",
       "      <td>100.0</td>\n",
       "      <td>100.0</td>\n",
       "      <td>100.0</td>\n",
       "      <td>100.0</td>\n",
       "      <td>VERDADERO</td>\n",
       "      <td>142.0</td>\n",
       "      <td>spain</td>\n",
       "      <td>sevilla</td>\n",
       "      <td>2019-07-29</td>\n",
       "    </tr>\n",
       "    <tr>\n",
       "      <th>3</th>\n",
       "      <td>35379</td>\n",
       "      <td>Double 02 CasanovaRooms Barcelona</td>\n",
       "      <td>Room at a my apartment. Kitchen and 2 bathroom...</td>\n",
       "      <td>152232</td>\n",
       "      <td>l'Antiga Esquerra de l'Eixample</td>\n",
       "      <td>Eixample</td>\n",
       "      <td>Private room</td>\n",
       "      <td>2</td>\n",
       "      <td>2.0</td>\n",
       "      <td>1.0</td>\n",
       "      <td>...</td>\n",
       "      <td>90.0</td>\n",
       "      <td>100.0</td>\n",
       "      <td>100.0</td>\n",
       "      <td>100.0</td>\n",
       "      <td>90.0</td>\n",
       "      <td>VERDADERO</td>\n",
       "      <td>306.0</td>\n",
       "      <td>spain</td>\n",
       "      <td>barcelona</td>\n",
       "      <td>2020-01-10</td>\n",
       "    </tr>\n",
       "    <tr>\n",
       "      <th>4</th>\n",
       "      <td>35801</td>\n",
       "      <td>Can Torras Farmhouse Studio Suite</td>\n",
       "      <td>Lay in bed &amp; watch sunlight change the mood of...</td>\n",
       "      <td>153805</td>\n",
       "      <td>Quart</td>\n",
       "      <td>NaN</td>\n",
       "      <td>Private room</td>\n",
       "      <td>5</td>\n",
       "      <td>1.0</td>\n",
       "      <td>2.0</td>\n",
       "      <td>...</td>\n",
       "      <td>100.0</td>\n",
       "      <td>100.0</td>\n",
       "      <td>100.0</td>\n",
       "      <td>100.0</td>\n",
       "      <td>100.0</td>\n",
       "      <td>FALSO</td>\n",
       "      <td>39.0</td>\n",
       "      <td>spain</td>\n",
       "      <td>girona</td>\n",
       "      <td>2019-02-19</td>\n",
       "    </tr>\n",
       "    <tr>\n",
       "      <th>...</th>\n",
       "      <td>...</td>\n",
       "      <td>...</td>\n",
       "      <td>...</td>\n",
       "      <td>...</td>\n",
       "      <td>...</td>\n",
       "      <td>...</td>\n",
       "      <td>...</td>\n",
       "      <td>...</td>\n",
       "      <td>...</td>\n",
       "      <td>...</td>\n",
       "      <td>...</td>\n",
       "      <td>...</td>\n",
       "      <td>...</td>\n",
       "      <td>...</td>\n",
       "      <td>...</td>\n",
       "      <td>...</td>\n",
       "      <td>...</td>\n",
       "      <td>...</td>\n",
       "      <td>...</td>\n",
       "      <td>...</td>\n",
       "      <td>...</td>\n",
       "    </tr>\n",
       "    <tr>\n",
       "      <th>9645</th>\n",
       "      <td>47710189</td>\n",
       "      <td>Beautiful house in the centre in Santa Cristin...</td>\n",
       "      <td>Beautiful house in the center of Santa Cristin...</td>\n",
       "      <td>263841355</td>\n",
       "      <td>Santa Cristina d'Aro</td>\n",
       "      <td>NaN</td>\n",
       "      <td>Entire home/apt</td>\n",
       "      <td>8</td>\n",
       "      <td>2.0</td>\n",
       "      <td>4.0</td>\n",
       "      <td>...</td>\n",
       "      <td>100.0</td>\n",
       "      <td>100.0</td>\n",
       "      <td>100.0</td>\n",
       "      <td>100.0</td>\n",
       "      <td>90.0</td>\n",
       "      <td>VERDADERO</td>\n",
       "      <td>25.0</td>\n",
       "      <td>spain</td>\n",
       "      <td>girona</td>\n",
       "      <td>2021-01-31</td>\n",
       "    </tr>\n",
       "    <tr>\n",
       "      <th>9646</th>\n",
       "      <td>47752964</td>\n",
       "      <td>Costa Brava - Palafrugell - playa y monta�a</td>\n",
       "      <td>Piso con acceso directo a piscina. Lugar muy t...</td>\n",
       "      <td>282214688</td>\n",
       "      <td>Palafrugell</td>\n",
       "      <td>NaN</td>\n",
       "      <td>Entire home/apt</td>\n",
       "      <td>7</td>\n",
       "      <td>2.0</td>\n",
       "      <td>3.0</td>\n",
       "      <td>...</td>\n",
       "      <td>100.0</td>\n",
       "      <td>100.0</td>\n",
       "      <td>100.0</td>\n",
       "      <td>100.0</td>\n",
       "      <td>90.0</td>\n",
       "      <td>FALSO</td>\n",
       "      <td>25.0</td>\n",
       "      <td>spain</td>\n",
       "      <td>girona</td>\n",
       "      <td>2021-02-27</td>\n",
       "    </tr>\n",
       "    <tr>\n",
       "      <th>9647</th>\n",
       "      <td>47792016</td>\n",
       "      <td>MODERN AND BRIGHT NEW FLAT IN THE CENTER OF PA...</td>\n",
       "      <td>Modern and new apartment in the old town of Pa...</td>\n",
       "      <td>263841355</td>\n",
       "      <td>Palam�s</td>\n",
       "      <td>NaN</td>\n",
       "      <td>Entire home/apt</td>\n",
       "      <td>6</td>\n",
       "      <td>1.0</td>\n",
       "      <td>3.0</td>\n",
       "      <td>...</td>\n",
       "      <td>100.0</td>\n",
       "      <td>100.0</td>\n",
       "      <td>100.0</td>\n",
       "      <td>100.0</td>\n",
       "      <td>90.0</td>\n",
       "      <td>VERDADERO</td>\n",
       "      <td>25.0</td>\n",
       "      <td>spain</td>\n",
       "      <td>girona</td>\n",
       "      <td>2021-01-31</td>\n",
       "    </tr>\n",
       "    <tr>\n",
       "      <th>9648</th>\n",
       "      <td>47884481</td>\n",
       "      <td>MIT House Olavide III in Madrid</td>\n",
       "      <td>The apartment is in a characteristic building ...</td>\n",
       "      <td>377605855</td>\n",
       "      <td>Trafalgar</td>\n",
       "      <td>Chamber�</td>\n",
       "      <td>Entire home/apt</td>\n",
       "      <td>4</td>\n",
       "      <td>1.0</td>\n",
       "      <td>1.0</td>\n",
       "      <td>...</td>\n",
       "      <td>100.0</td>\n",
       "      <td>100.0</td>\n",
       "      <td>100.0</td>\n",
       "      <td>100.0</td>\n",
       "      <td>90.0</td>\n",
       "      <td>FALSO</td>\n",
       "      <td>105.0</td>\n",
       "      <td>spain</td>\n",
       "      <td>madrid</td>\n",
       "      <td>2021-02-09</td>\n",
       "    </tr>\n",
       "    <tr>\n",
       "      <th>9649</th>\n",
       "      <td>48061552</td>\n",
       "      <td>Gran v�a Double Room</td>\n",
       "      <td>NaN</td>\n",
       "      <td>387478257</td>\n",
       "      <td>Universidad</td>\n",
       "      <td>Centro</td>\n",
       "      <td>Private room</td>\n",
       "      <td>2</td>\n",
       "      <td>2.0</td>\n",
       "      <td>1.0</td>\n",
       "      <td>...</td>\n",
       "      <td>100.0</td>\n",
       "      <td>100.0</td>\n",
       "      <td>100.0</td>\n",
       "      <td>100.0</td>\n",
       "      <td>100.0</td>\n",
       "      <td>FALSO</td>\n",
       "      <td>65.0</td>\n",
       "      <td>spain</td>\n",
       "      <td>madrid</td>\n",
       "      <td>2021-02-09</td>\n",
       "    </tr>\n",
       "  </tbody>\n",
       "</table>\n",
       "<p>9650 rows × 35 columns</p>\n",
       "</div>"
      ],
      "text/plain": [
       "      apartment_id                                               name  \\\n",
       "0            11964                                 A ROOM WITH A VIEW   \n",
       "1            21853                               Bright and airy room   \n",
       "2            32347  Explore Cultural Sights from a Family-Friendly...   \n",
       "3            35379                  Double 02 CasanovaRooms Barcelona   \n",
       "4            35801                  Can Torras Farmhouse Studio Suite   \n",
       "...            ...                                                ...   \n",
       "9645      47710189  Beautiful house in the centre in Santa Cristin...   \n",
       "9646      47752964        Costa Brava - Palafrugell - playa y monta�a   \n",
       "9647      47792016  MODERN AND BRIGHT NEW FLAT IN THE CENTER OF PA...   \n",
       "9648      47884481                    MIT House Olavide III in Madrid   \n",
       "9649      48061552                               Gran v�a Double Room   \n",
       "\n",
       "                                            description    host_id  \\\n",
       "0     Private bedroom in our attic apartment. Right ...      45553   \n",
       "1     We have a quiet and sunny room with a good vie...      83531   \n",
       "2     Open French doors and step onto a plant-filled...     139939   \n",
       "3     Room at a my apartment. Kitchen and 2 bathroom...     152232   \n",
       "4     Lay in bed & watch sunlight change the mood of...     153805   \n",
       "...                                                 ...        ...   \n",
       "9645  Beautiful house in the center of Santa Cristin...  263841355   \n",
       "9646  Piso con acceso directo a piscina. Lugar muy t...  282214688   \n",
       "9647  Modern and new apartment in the old town of Pa...  263841355   \n",
       "9648  The apartment is in a characteristic building ...  377605855   \n",
       "9649                                                NaN  387478257   \n",
       "\n",
       "                   neighbourhood_name neighbourhood_district        room_type  \\\n",
       "0                              Centro                    NaN     Private room   \n",
       "1                            C�rmenes                 Latina     Private room   \n",
       "2                         San Vicente          Casco Antiguo  Entire home/apt   \n",
       "3     l'Antiga Esquerra de l'Eixample               Eixample     Private room   \n",
       "4                               Quart                    NaN     Private room   \n",
       "...                               ...                    ...              ...   \n",
       "9645             Santa Cristina d'Aro                    NaN  Entire home/apt   \n",
       "9646                      Palafrugell                    NaN  Entire home/apt   \n",
       "9647                          Palam�s                    NaN  Entire home/apt   \n",
       "9648                        Trafalgar               Chamber�  Entire home/apt   \n",
       "9649                      Universidad                 Centro     Private room   \n",
       "\n",
       "      accommodates  bathrooms  bedrooms  ...  review_scores_cleanliness  \\\n",
       "0                2        2.0       1.0  ...                      100.0   \n",
       "1                1        1.0       1.0  ...                       90.0   \n",
       "2                4        1.0       2.0  ...                      100.0   \n",
       "3                2        2.0       1.0  ...                       90.0   \n",
       "4                5        1.0       2.0  ...                      100.0   \n",
       "...            ...        ...       ...  ...                        ...   \n",
       "9645             8        2.0       4.0  ...                      100.0   \n",
       "9646             7        2.0       3.0  ...                      100.0   \n",
       "9647             6        1.0       3.0  ...                      100.0   \n",
       "9648             4        1.0       1.0  ...                      100.0   \n",
       "9649             2        2.0       1.0  ...                      100.0   \n",
       "\n",
       "     review_scores_checkin  review_scores_communication  \\\n",
       "0                    100.0                        100.0   \n",
       "1                    100.0                        100.0   \n",
       "2                    100.0                        100.0   \n",
       "3                    100.0                        100.0   \n",
       "4                    100.0                        100.0   \n",
       "...                    ...                          ...   \n",
       "9645                 100.0                        100.0   \n",
       "9646                 100.0                        100.0   \n",
       "9647                 100.0                        100.0   \n",
       "9648                 100.0                        100.0   \n",
       "9649                 100.0                        100.0   \n",
       "\n",
       "      review_scores_location  review_scores_value  is_instant_bookable  \\\n",
       "0                      100.0                100.0                FALSO   \n",
       "1                       80.0                 90.0                FALSO   \n",
       "2                      100.0                100.0            VERDADERO   \n",
       "3                      100.0                 90.0            VERDADERO   \n",
       "4                      100.0                100.0                FALSO   \n",
       "...                      ...                  ...                  ...   \n",
       "9645                   100.0                 90.0            VERDADERO   \n",
       "9646                   100.0                 90.0                FALSO   \n",
       "9647                   100.0                 90.0            VERDADERO   \n",
       "9648                   100.0                 90.0                FALSO   \n",
       "9649                   100.0                100.0                FALSO   \n",
       "\n",
       "      reviews_per_month  country       city  insert_date  \n",
       "0                  75.0    spain     malaga   2018-07-31  \n",
       "1                  52.0    spain     madrid   2020-01-10  \n",
       "2                 142.0    spain    sevilla   2019-07-29  \n",
       "3                 306.0    spain  barcelona   2020-01-10  \n",
       "4                  39.0    spain     girona   2019-02-19  \n",
       "...                 ...      ...        ...          ...  \n",
       "9645               25.0    spain     girona   2021-01-31  \n",
       "9646               25.0    spain     girona   2021-02-27  \n",
       "9647               25.0    spain     girona   2021-01-31  \n",
       "9648              105.0    spain     madrid   2021-02-09  \n",
       "9649               65.0    spain     madrid   2021-02-09  \n",
       "\n",
       "[9650 rows x 35 columns]"
      ]
     },
     "execution_count": 1,
     "metadata": {},
     "output_type": "execute_result"
    }
   ],
   "source": [
    "import pandas as pd\n",
    "import matplotlib.pyplot as plt\n",
    "import seaborn as sns\n",
    "\n",
    "df_tourist = pd.read_csv(\"df_tourist_python.csv\", sep= ';')\n",
    "\n",
    "df_tourist"
   ]
  },
  {
   "cell_type": "markdown",
   "id": "41524e99",
   "metadata": {},
   "source": [
    "## KPI´s"
   ]
  },
  {
   "cell_type": "markdown",
   "id": "58e2ad3c",
   "metadata": {},
   "source": [
    " ### tasa_ocupacion mensual"
   ]
  },
  {
   "cell_type": "code",
   "execution_count": 2,
   "id": "9ef74726-71f0-40d4-988a-aec16e823637",
   "metadata": {},
   "outputs": [
    {
     "name": "stdout",
     "output_type": "stream",
     "text": [
      "Tasa de ocupación promedio mensual: 56.50%\n"
     ]
    }
   ],
   "source": [
    "\n",
    "#tasa_ocupacion mensual\n",
    "df_tourist['dias_ocupados_30'] = 30 - df_tourist['availability_30']\n",
    "df_tourist['tasa_ocupacion_30'] = (df_tourist['dias_ocupados_30'] / 30) * 100\n",
    "\n",
    "#la tasa media de ocupación de todos los alojamientos\n",
    "tasa_ocupacion_promedio = df_tourist['tasa_ocupacion_30'].mean()\n",
    "\n",
    "print(f\"Tasa de ocupación promedio mensual: {tasa_ocupacion_promedio:.2f}%\")\n"
   ]
  },
  {
   "cell_type": "markdown",
   "id": "e25960c3",
   "metadata": {},
   "source": [
    "### Ciudad con mayor ocupación"
   ]
  },
  {
   "cell_type": "code",
   "execution_count": 3,
   "id": "6f91c92f",
   "metadata": {},
   "outputs": [
    {
     "name": "stdout",
     "output_type": "stream",
     "text": [
      "Ciudad con mayor ocupación: madrid (54.65%)\n"
     ]
    }
   ],
   "source": [
    "df_tourist['dias_ocupados'] = 365 - df_tourist['availability_365']\n",
    "city_occupancy = df_tourist.groupby('city').agg({\n",
    "    'dias_ocupados': 'sum',\n",
    "    'availability_365': 'sum'\n",
    "})\n",
    "city_occupancy['tasa_ocupacion'] = (city_occupancy['dias_ocupados'] / (city_occupancy['dias_ocupados'] + city_occupancy['availability_365'])) * 100\n",
    "\n",
    "# Ciudad con mayor ocupación\n",
    "max_city = city_occupancy['tasa_ocupacion'].idxmax()\n",
    "max_rate = city_occupancy['tasa_ocupacion'].max()\n",
    "print(f\"Ciudad con mayor ocupación: {max_city} ({max_rate:.2f}%)\")\n"
   ]
  },
  {
   "cell_type": "markdown",
   "id": "fcfab52a",
   "metadata": {},
   "source": [
    "### Índice de satisfacción general"
   ]
  },
  {
   "cell_type": "code",
   "execution_count": 4,
   "id": "78bae305",
   "metadata": {},
   "outputs": [
    {
     "name": "stdout",
     "output_type": "stream",
     "text": [
      "Índice de satisfacción general: 92.51\n"
     ]
    }
   ],
   "source": [
    "valid_reviews = df_tourist[df_tourist['review_scores_rating'].notna()]\n",
    "indice_satisfaccion = valid_reviews['review_scores_rating'].sum() / len(valid_reviews)\n",
    "print(f\"Índice de satisfacción general: {indice_satisfaccion:.2f}\")"
   ]
  },
  {
   "cell_type": "markdown",
   "id": "f483bdd1",
   "metadata": {},
   "source": [
    "### Ítem con mayor satisfacción promedio"
   ]
  },
  {
   "cell_type": "code",
   "execution_count": 5,
   "id": "f51c1492",
   "metadata": {},
   "outputs": [
    {
     "name": "stdout",
     "output_type": "stream",
     "text": [
      "Ítem con mayor satisfacción promedio: Check-in (97.25)\n"
     ]
    }
   ],
   "source": [
    "satisfaction_items = {\n",
    "    'Accuracy': df_tourist['review_scores_accuracy'].mean(),\n",
    "    'Cleanliness': df_tourist['review_scores_cleanliness'].mean(),\n",
    "    'Check-in': df_tourist['review_scores_checkin'].mean(),\n",
    "    'Communication': df_tourist['review_scores_communication'].mean(),\n",
    "    'Location': df_tourist['review_scores_location'].mean()\n",
    "}\n",
    "\n",
    "# Encontrar el máximo\n",
    "item_max = max(satisfaction_items, key=satisfaction_items.get)\n",
    "print(f\"Ítem con mayor satisfacción promedio: {item_max} ({satisfaction_items[item_max]:.2f})\")\n"
   ]
  },
  {
   "cell_type": "markdown",
   "id": "5673ab8e",
   "metadata": {},
   "source": [
    "### visualizacion KPI´s"
   ]
  },
  {
   "cell_type": "code",
   "execution_count": 15,
   "id": "6cf170cf",
   "metadata": {},
   "outputs": [
    {
     "data": {
      "application/vnd.plotly.v1+json": {
       "config": {
        "plotlyServerURL": "https://plot.ly"
       },
       "data": [
        {
         "hovertemplate": "Semana=%{x}<br>tasa_ocupacion_mensual=%{y}<extra></extra>",
         "legendgroup": "",
         "line": {
          "color": "#636efa",
          "dash": "solid"
         },
         "marker": {
          "symbol": "circle"
         },
         "mode": "lines+markers",
         "name": "",
         "orientation": "v",
         "showlegend": false,
         "type": "scatter",
         "x": [
          "Semana 1",
          "Semana 2",
          "Semana 3"
         ],
         "xaxis": "x",
         "y": {
          "bdata": "pHA9CteDTUAzMzMzM1NNQAAAAAAAQExA",
          "dtype": "f8"
         },
         "yaxis": "y"
        }
       ],
       "layout": {
        "legend": {
         "tracegroupgap": 0
        },
        "paper_bgcolor": "#D8F3DC",
        "plot_bgcolor": "#D8F3DC",
        "template": {
         "data": {
          "bar": [
           {
            "error_x": {
             "color": "#2a3f5f"
            },
            "error_y": {
             "color": "#2a3f5f"
            },
            "marker": {
             "line": {
              "color": "#E5ECF6",
              "width": 0.5
             },
             "pattern": {
              "fillmode": "overlay",
              "size": 10,
              "solidity": 0.2
             }
            },
            "type": "bar"
           }
          ],
          "barpolar": [
           {
            "marker": {
             "line": {
              "color": "#E5ECF6",
              "width": 0.5
             },
             "pattern": {
              "fillmode": "overlay",
              "size": 10,
              "solidity": 0.2
             }
            },
            "type": "barpolar"
           }
          ],
          "carpet": [
           {
            "aaxis": {
             "endlinecolor": "#2a3f5f",
             "gridcolor": "white",
             "linecolor": "white",
             "minorgridcolor": "white",
             "startlinecolor": "#2a3f5f"
            },
            "baxis": {
             "endlinecolor": "#2a3f5f",
             "gridcolor": "white",
             "linecolor": "white",
             "minorgridcolor": "white",
             "startlinecolor": "#2a3f5f"
            },
            "type": "carpet"
           }
          ],
          "choropleth": [
           {
            "colorbar": {
             "outlinewidth": 0,
             "ticks": ""
            },
            "type": "choropleth"
           }
          ],
          "contour": [
           {
            "colorbar": {
             "outlinewidth": 0,
             "ticks": ""
            },
            "colorscale": [
             [
              0,
              "#0d0887"
             ],
             [
              0.1111111111111111,
              "#46039f"
             ],
             [
              0.2222222222222222,
              "#7201a8"
             ],
             [
              0.3333333333333333,
              "#9c179e"
             ],
             [
              0.4444444444444444,
              "#bd3786"
             ],
             [
              0.5555555555555556,
              "#d8576b"
             ],
             [
              0.6666666666666666,
              "#ed7953"
             ],
             [
              0.7777777777777778,
              "#fb9f3a"
             ],
             [
              0.8888888888888888,
              "#fdca26"
             ],
             [
              1,
              "#f0f921"
             ]
            ],
            "type": "contour"
           }
          ],
          "contourcarpet": [
           {
            "colorbar": {
             "outlinewidth": 0,
             "ticks": ""
            },
            "type": "contourcarpet"
           }
          ],
          "heatmap": [
           {
            "colorbar": {
             "outlinewidth": 0,
             "ticks": ""
            },
            "colorscale": [
             [
              0,
              "#0d0887"
             ],
             [
              0.1111111111111111,
              "#46039f"
             ],
             [
              0.2222222222222222,
              "#7201a8"
             ],
             [
              0.3333333333333333,
              "#9c179e"
             ],
             [
              0.4444444444444444,
              "#bd3786"
             ],
             [
              0.5555555555555556,
              "#d8576b"
             ],
             [
              0.6666666666666666,
              "#ed7953"
             ],
             [
              0.7777777777777778,
              "#fb9f3a"
             ],
             [
              0.8888888888888888,
              "#fdca26"
             ],
             [
              1,
              "#f0f921"
             ]
            ],
            "type": "heatmap"
           }
          ],
          "histogram": [
           {
            "marker": {
             "pattern": {
              "fillmode": "overlay",
              "size": 10,
              "solidity": 0.2
             }
            },
            "type": "histogram"
           }
          ],
          "histogram2d": [
           {
            "colorbar": {
             "outlinewidth": 0,
             "ticks": ""
            },
            "colorscale": [
             [
              0,
              "#0d0887"
             ],
             [
              0.1111111111111111,
              "#46039f"
             ],
             [
              0.2222222222222222,
              "#7201a8"
             ],
             [
              0.3333333333333333,
              "#9c179e"
             ],
             [
              0.4444444444444444,
              "#bd3786"
             ],
             [
              0.5555555555555556,
              "#d8576b"
             ],
             [
              0.6666666666666666,
              "#ed7953"
             ],
             [
              0.7777777777777778,
              "#fb9f3a"
             ],
             [
              0.8888888888888888,
              "#fdca26"
             ],
             [
              1,
              "#f0f921"
             ]
            ],
            "type": "histogram2d"
           }
          ],
          "histogram2dcontour": [
           {
            "colorbar": {
             "outlinewidth": 0,
             "ticks": ""
            },
            "colorscale": [
             [
              0,
              "#0d0887"
             ],
             [
              0.1111111111111111,
              "#46039f"
             ],
             [
              0.2222222222222222,
              "#7201a8"
             ],
             [
              0.3333333333333333,
              "#9c179e"
             ],
             [
              0.4444444444444444,
              "#bd3786"
             ],
             [
              0.5555555555555556,
              "#d8576b"
             ],
             [
              0.6666666666666666,
              "#ed7953"
             ],
             [
              0.7777777777777778,
              "#fb9f3a"
             ],
             [
              0.8888888888888888,
              "#fdca26"
             ],
             [
              1,
              "#f0f921"
             ]
            ],
            "type": "histogram2dcontour"
           }
          ],
          "mesh3d": [
           {
            "colorbar": {
             "outlinewidth": 0,
             "ticks": ""
            },
            "type": "mesh3d"
           }
          ],
          "parcoords": [
           {
            "line": {
             "colorbar": {
              "outlinewidth": 0,
              "ticks": ""
             }
            },
            "type": "parcoords"
           }
          ],
          "pie": [
           {
            "automargin": true,
            "type": "pie"
           }
          ],
          "scatter": [
           {
            "fillpattern": {
             "fillmode": "overlay",
             "size": 10,
             "solidity": 0.2
            },
            "type": "scatter"
           }
          ],
          "scatter3d": [
           {
            "line": {
             "colorbar": {
              "outlinewidth": 0,
              "ticks": ""
             }
            },
            "marker": {
             "colorbar": {
              "outlinewidth": 0,
              "ticks": ""
             }
            },
            "type": "scatter3d"
           }
          ],
          "scattercarpet": [
           {
            "marker": {
             "colorbar": {
              "outlinewidth": 0,
              "ticks": ""
             }
            },
            "type": "scattercarpet"
           }
          ],
          "scattergeo": [
           {
            "marker": {
             "colorbar": {
              "outlinewidth": 0,
              "ticks": ""
             }
            },
            "type": "scattergeo"
           }
          ],
          "scattergl": [
           {
            "marker": {
             "colorbar": {
              "outlinewidth": 0,
              "ticks": ""
             }
            },
            "type": "scattergl"
           }
          ],
          "scattermap": [
           {
            "marker": {
             "colorbar": {
              "outlinewidth": 0,
              "ticks": ""
             }
            },
            "type": "scattermap"
           }
          ],
          "scattermapbox": [
           {
            "marker": {
             "colorbar": {
              "outlinewidth": 0,
              "ticks": ""
             }
            },
            "type": "scattermapbox"
           }
          ],
          "scatterpolar": [
           {
            "marker": {
             "colorbar": {
              "outlinewidth": 0,
              "ticks": ""
             }
            },
            "type": "scatterpolar"
           }
          ],
          "scatterpolargl": [
           {
            "marker": {
             "colorbar": {
              "outlinewidth": 0,
              "ticks": ""
             }
            },
            "type": "scatterpolargl"
           }
          ],
          "scatterternary": [
           {
            "marker": {
             "colorbar": {
              "outlinewidth": 0,
              "ticks": ""
             }
            },
            "type": "scatterternary"
           }
          ],
          "surface": [
           {
            "colorbar": {
             "outlinewidth": 0,
             "ticks": ""
            },
            "colorscale": [
             [
              0,
              "#0d0887"
             ],
             [
              0.1111111111111111,
              "#46039f"
             ],
             [
              0.2222222222222222,
              "#7201a8"
             ],
             [
              0.3333333333333333,
              "#9c179e"
             ],
             [
              0.4444444444444444,
              "#bd3786"
             ],
             [
              0.5555555555555556,
              "#d8576b"
             ],
             [
              0.6666666666666666,
              "#ed7953"
             ],
             [
              0.7777777777777778,
              "#fb9f3a"
             ],
             [
              0.8888888888888888,
              "#fdca26"
             ],
             [
              1,
              "#f0f921"
             ]
            ],
            "type": "surface"
           }
          ],
          "table": [
           {
            "cells": {
             "fill": {
              "color": "#EBF0F8"
             },
             "line": {
              "color": "white"
             }
            },
            "header": {
             "fill": {
              "color": "#C8D4E3"
             },
             "line": {
              "color": "white"
             }
            },
            "type": "table"
           }
          ]
         },
         "layout": {
          "annotationdefaults": {
           "arrowcolor": "#2a3f5f",
           "arrowhead": 0,
           "arrowwidth": 1
          },
          "autotypenumbers": "strict",
          "coloraxis": {
           "colorbar": {
            "outlinewidth": 0,
            "ticks": ""
           }
          },
          "colorscale": {
           "diverging": [
            [
             0,
             "#8e0152"
            ],
            [
             0.1,
             "#c51b7d"
            ],
            [
             0.2,
             "#de77ae"
            ],
            [
             0.3,
             "#f1b6da"
            ],
            [
             0.4,
             "#fde0ef"
            ],
            [
             0.5,
             "#f7f7f7"
            ],
            [
             0.6,
             "#e6f5d0"
            ],
            [
             0.7,
             "#b8e186"
            ],
            [
             0.8,
             "#7fbc41"
            ],
            [
             0.9,
             "#4d9221"
            ],
            [
             1,
             "#276419"
            ]
           ],
           "sequential": [
            [
             0,
             "#0d0887"
            ],
            [
             0.1111111111111111,
             "#46039f"
            ],
            [
             0.2222222222222222,
             "#7201a8"
            ],
            [
             0.3333333333333333,
             "#9c179e"
            ],
            [
             0.4444444444444444,
             "#bd3786"
            ],
            [
             0.5555555555555556,
             "#d8576b"
            ],
            [
             0.6666666666666666,
             "#ed7953"
            ],
            [
             0.7777777777777778,
             "#fb9f3a"
            ],
            [
             0.8888888888888888,
             "#fdca26"
            ],
            [
             1,
             "#f0f921"
            ]
           ],
           "sequentialminus": [
            [
             0,
             "#0d0887"
            ],
            [
             0.1111111111111111,
             "#46039f"
            ],
            [
             0.2222222222222222,
             "#7201a8"
            ],
            [
             0.3333333333333333,
             "#9c179e"
            ],
            [
             0.4444444444444444,
             "#bd3786"
            ],
            [
             0.5555555555555556,
             "#d8576b"
            ],
            [
             0.6666666666666666,
             "#ed7953"
            ],
            [
             0.7777777777777778,
             "#fb9f3a"
            ],
            [
             0.8888888888888888,
             "#fdca26"
            ],
            [
             1,
             "#f0f921"
            ]
           ]
          },
          "colorway": [
           "#636efa",
           "#EF553B",
           "#00cc96",
           "#ab63fa",
           "#FFA15A",
           "#19d3f3",
           "#FF6692",
           "#B6E880",
           "#FF97FF",
           "#FECB52"
          ],
          "font": {
           "color": "#2a3f5f"
          },
          "geo": {
           "bgcolor": "white",
           "lakecolor": "white",
           "landcolor": "#E5ECF6",
           "showlakes": true,
           "showland": true,
           "subunitcolor": "white"
          },
          "hoverlabel": {
           "align": "left"
          },
          "hovermode": "closest",
          "mapbox": {
           "style": "light"
          },
          "paper_bgcolor": "white",
          "plot_bgcolor": "#E5ECF6",
          "polar": {
           "angularaxis": {
            "gridcolor": "white",
            "linecolor": "white",
            "ticks": ""
           },
           "bgcolor": "#E5ECF6",
           "radialaxis": {
            "gridcolor": "white",
            "linecolor": "white",
            "ticks": ""
           }
          },
          "scene": {
           "xaxis": {
            "backgroundcolor": "#E5ECF6",
            "gridcolor": "white",
            "gridwidth": 2,
            "linecolor": "white",
            "showbackground": true,
            "ticks": "",
            "zerolinecolor": "white"
           },
           "yaxis": {
            "backgroundcolor": "#E5ECF6",
            "gridcolor": "white",
            "gridwidth": 2,
            "linecolor": "white",
            "showbackground": true,
            "ticks": "",
            "zerolinecolor": "white"
           },
           "zaxis": {
            "backgroundcolor": "#E5ECF6",
            "gridcolor": "white",
            "gridwidth": 2,
            "linecolor": "white",
            "showbackground": true,
            "ticks": "",
            "zerolinecolor": "white"
           }
          },
          "shapedefaults": {
           "line": {
            "color": "#2a3f5f"
           }
          },
          "ternary": {
           "aaxis": {
            "gridcolor": "white",
            "linecolor": "white",
            "ticks": ""
           },
           "baxis": {
            "gridcolor": "white",
            "linecolor": "white",
            "ticks": ""
           },
           "bgcolor": "#E5ECF6",
           "caxis": {
            "gridcolor": "white",
            "linecolor": "white",
            "ticks": ""
           }
          },
          "title": {
           "x": 0.05
          },
          "xaxis": {
           "automargin": true,
           "gridcolor": "white",
           "linecolor": "white",
           "ticks": "",
           "title": {
            "standoff": 15
           },
           "zerolinecolor": "white",
           "zerolinewidth": 2
          },
          "yaxis": {
           "automargin": true,
           "gridcolor": "white",
           "linecolor": "white",
           "ticks": "",
           "title": {
            "standoff": 15
           },
           "zerolinecolor": "white",
           "zerolinewidth": 2
          }
         }
        },
        "title": {
         "text": "Tasa de ocupación mensual"
        },
        "xaxis": {
         "anchor": "y",
         "domain": [
          0,
          1
         ],
         "title": {
          "text": "Semana"
         }
        },
        "yaxis": {
         "anchor": "x",
         "domain": [
          0,
          1
         ],
         "title": {
          "text": "Porcentaje (%)"
         }
        }
       }
      }
     },
     "metadata": {},
     "output_type": "display_data"
    },
    {
     "data": {
      "application/vnd.plotly.v1+json": {
       "config": {
        "plotlyServerURL": "https://plot.ly"
       },
       "data": [
        {
         "hovertemplate": "Semana=%{x}<br>indice_satisfaccion_general=%{y}<extra></extra>",
         "legendgroup": "",
         "line": {
          "color": "#636efa",
          "dash": "solid"
         },
         "marker": {
          "symbol": "circle"
         },
         "mode": "lines+markers",
         "name": "",
         "orientation": "v",
         "showlegend": false,
         "type": "scatter",
         "x": [
          "Semana 1",
          "Semana 2",
          "Semana 3"
         ],
         "xaxis": "x",
         "y": {
          "bdata": "KVyPwvUYV0B7FK5H4RpXQHE9CtejIFdA",
          "dtype": "f8"
         },
         "yaxis": "y"
        }
       ],
       "layout": {
        "legend": {
         "tracegroupgap": 0
        },
        "paper_bgcolor": "#D8F3DC",
        "plot_bgcolor": "#D8F3DC",
        "template": {
         "data": {
          "bar": [
           {
            "error_x": {
             "color": "#2a3f5f"
            },
            "error_y": {
             "color": "#2a3f5f"
            },
            "marker": {
             "line": {
              "color": "#E5ECF6",
              "width": 0.5
             },
             "pattern": {
              "fillmode": "overlay",
              "size": 10,
              "solidity": 0.2
             }
            },
            "type": "bar"
           }
          ],
          "barpolar": [
           {
            "marker": {
             "line": {
              "color": "#E5ECF6",
              "width": 0.5
             },
             "pattern": {
              "fillmode": "overlay",
              "size": 10,
              "solidity": 0.2
             }
            },
            "type": "barpolar"
           }
          ],
          "carpet": [
           {
            "aaxis": {
             "endlinecolor": "#2a3f5f",
             "gridcolor": "white",
             "linecolor": "white",
             "minorgridcolor": "white",
             "startlinecolor": "#2a3f5f"
            },
            "baxis": {
             "endlinecolor": "#2a3f5f",
             "gridcolor": "white",
             "linecolor": "white",
             "minorgridcolor": "white",
             "startlinecolor": "#2a3f5f"
            },
            "type": "carpet"
           }
          ],
          "choropleth": [
           {
            "colorbar": {
             "outlinewidth": 0,
             "ticks": ""
            },
            "type": "choropleth"
           }
          ],
          "contour": [
           {
            "colorbar": {
             "outlinewidth": 0,
             "ticks": ""
            },
            "colorscale": [
             [
              0,
              "#0d0887"
             ],
             [
              0.1111111111111111,
              "#46039f"
             ],
             [
              0.2222222222222222,
              "#7201a8"
             ],
             [
              0.3333333333333333,
              "#9c179e"
             ],
             [
              0.4444444444444444,
              "#bd3786"
             ],
             [
              0.5555555555555556,
              "#d8576b"
             ],
             [
              0.6666666666666666,
              "#ed7953"
             ],
             [
              0.7777777777777778,
              "#fb9f3a"
             ],
             [
              0.8888888888888888,
              "#fdca26"
             ],
             [
              1,
              "#f0f921"
             ]
            ],
            "type": "contour"
           }
          ],
          "contourcarpet": [
           {
            "colorbar": {
             "outlinewidth": 0,
             "ticks": ""
            },
            "type": "contourcarpet"
           }
          ],
          "heatmap": [
           {
            "colorbar": {
             "outlinewidth": 0,
             "ticks": ""
            },
            "colorscale": [
             [
              0,
              "#0d0887"
             ],
             [
              0.1111111111111111,
              "#46039f"
             ],
             [
              0.2222222222222222,
              "#7201a8"
             ],
             [
              0.3333333333333333,
              "#9c179e"
             ],
             [
              0.4444444444444444,
              "#bd3786"
             ],
             [
              0.5555555555555556,
              "#d8576b"
             ],
             [
              0.6666666666666666,
              "#ed7953"
             ],
             [
              0.7777777777777778,
              "#fb9f3a"
             ],
             [
              0.8888888888888888,
              "#fdca26"
             ],
             [
              1,
              "#f0f921"
             ]
            ],
            "type": "heatmap"
           }
          ],
          "histogram": [
           {
            "marker": {
             "pattern": {
              "fillmode": "overlay",
              "size": 10,
              "solidity": 0.2
             }
            },
            "type": "histogram"
           }
          ],
          "histogram2d": [
           {
            "colorbar": {
             "outlinewidth": 0,
             "ticks": ""
            },
            "colorscale": [
             [
              0,
              "#0d0887"
             ],
             [
              0.1111111111111111,
              "#46039f"
             ],
             [
              0.2222222222222222,
              "#7201a8"
             ],
             [
              0.3333333333333333,
              "#9c179e"
             ],
             [
              0.4444444444444444,
              "#bd3786"
             ],
             [
              0.5555555555555556,
              "#d8576b"
             ],
             [
              0.6666666666666666,
              "#ed7953"
             ],
             [
              0.7777777777777778,
              "#fb9f3a"
             ],
             [
              0.8888888888888888,
              "#fdca26"
             ],
             [
              1,
              "#f0f921"
             ]
            ],
            "type": "histogram2d"
           }
          ],
          "histogram2dcontour": [
           {
            "colorbar": {
             "outlinewidth": 0,
             "ticks": ""
            },
            "colorscale": [
             [
              0,
              "#0d0887"
             ],
             [
              0.1111111111111111,
              "#46039f"
             ],
             [
              0.2222222222222222,
              "#7201a8"
             ],
             [
              0.3333333333333333,
              "#9c179e"
             ],
             [
              0.4444444444444444,
              "#bd3786"
             ],
             [
              0.5555555555555556,
              "#d8576b"
             ],
             [
              0.6666666666666666,
              "#ed7953"
             ],
             [
              0.7777777777777778,
              "#fb9f3a"
             ],
             [
              0.8888888888888888,
              "#fdca26"
             ],
             [
              1,
              "#f0f921"
             ]
            ],
            "type": "histogram2dcontour"
           }
          ],
          "mesh3d": [
           {
            "colorbar": {
             "outlinewidth": 0,
             "ticks": ""
            },
            "type": "mesh3d"
           }
          ],
          "parcoords": [
           {
            "line": {
             "colorbar": {
              "outlinewidth": 0,
              "ticks": ""
             }
            },
            "type": "parcoords"
           }
          ],
          "pie": [
           {
            "automargin": true,
            "type": "pie"
           }
          ],
          "scatter": [
           {
            "fillpattern": {
             "fillmode": "overlay",
             "size": 10,
             "solidity": 0.2
            },
            "type": "scatter"
           }
          ],
          "scatter3d": [
           {
            "line": {
             "colorbar": {
              "outlinewidth": 0,
              "ticks": ""
             }
            },
            "marker": {
             "colorbar": {
              "outlinewidth": 0,
              "ticks": ""
             }
            },
            "type": "scatter3d"
           }
          ],
          "scattercarpet": [
           {
            "marker": {
             "colorbar": {
              "outlinewidth": 0,
              "ticks": ""
             }
            },
            "type": "scattercarpet"
           }
          ],
          "scattergeo": [
           {
            "marker": {
             "colorbar": {
              "outlinewidth": 0,
              "ticks": ""
             }
            },
            "type": "scattergeo"
           }
          ],
          "scattergl": [
           {
            "marker": {
             "colorbar": {
              "outlinewidth": 0,
              "ticks": ""
             }
            },
            "type": "scattergl"
           }
          ],
          "scattermap": [
           {
            "marker": {
             "colorbar": {
              "outlinewidth": 0,
              "ticks": ""
             }
            },
            "type": "scattermap"
           }
          ],
          "scattermapbox": [
           {
            "marker": {
             "colorbar": {
              "outlinewidth": 0,
              "ticks": ""
             }
            },
            "type": "scattermapbox"
           }
          ],
          "scatterpolar": [
           {
            "marker": {
             "colorbar": {
              "outlinewidth": 0,
              "ticks": ""
             }
            },
            "type": "scatterpolar"
           }
          ],
          "scatterpolargl": [
           {
            "marker": {
             "colorbar": {
              "outlinewidth": 0,
              "ticks": ""
             }
            },
            "type": "scatterpolargl"
           }
          ],
          "scatterternary": [
           {
            "marker": {
             "colorbar": {
              "outlinewidth": 0,
              "ticks": ""
             }
            },
            "type": "scatterternary"
           }
          ],
          "surface": [
           {
            "colorbar": {
             "outlinewidth": 0,
             "ticks": ""
            },
            "colorscale": [
             [
              0,
              "#0d0887"
             ],
             [
              0.1111111111111111,
              "#46039f"
             ],
             [
              0.2222222222222222,
              "#7201a8"
             ],
             [
              0.3333333333333333,
              "#9c179e"
             ],
             [
              0.4444444444444444,
              "#bd3786"
             ],
             [
              0.5555555555555556,
              "#d8576b"
             ],
             [
              0.6666666666666666,
              "#ed7953"
             ],
             [
              0.7777777777777778,
              "#fb9f3a"
             ],
             [
              0.8888888888888888,
              "#fdca26"
             ],
             [
              1,
              "#f0f921"
             ]
            ],
            "type": "surface"
           }
          ],
          "table": [
           {
            "cells": {
             "fill": {
              "color": "#EBF0F8"
             },
             "line": {
              "color": "white"
             }
            },
            "header": {
             "fill": {
              "color": "#C8D4E3"
             },
             "line": {
              "color": "white"
             }
            },
            "type": "table"
           }
          ]
         },
         "layout": {
          "annotationdefaults": {
           "arrowcolor": "#2a3f5f",
           "arrowhead": 0,
           "arrowwidth": 1
          },
          "autotypenumbers": "strict",
          "coloraxis": {
           "colorbar": {
            "outlinewidth": 0,
            "ticks": ""
           }
          },
          "colorscale": {
           "diverging": [
            [
             0,
             "#8e0152"
            ],
            [
             0.1,
             "#c51b7d"
            ],
            [
             0.2,
             "#de77ae"
            ],
            [
             0.3,
             "#f1b6da"
            ],
            [
             0.4,
             "#fde0ef"
            ],
            [
             0.5,
             "#f7f7f7"
            ],
            [
             0.6,
             "#e6f5d0"
            ],
            [
             0.7,
             "#b8e186"
            ],
            [
             0.8,
             "#7fbc41"
            ],
            [
             0.9,
             "#4d9221"
            ],
            [
             1,
             "#276419"
            ]
           ],
           "sequential": [
            [
             0,
             "#0d0887"
            ],
            [
             0.1111111111111111,
             "#46039f"
            ],
            [
             0.2222222222222222,
             "#7201a8"
            ],
            [
             0.3333333333333333,
             "#9c179e"
            ],
            [
             0.4444444444444444,
             "#bd3786"
            ],
            [
             0.5555555555555556,
             "#d8576b"
            ],
            [
             0.6666666666666666,
             "#ed7953"
            ],
            [
             0.7777777777777778,
             "#fb9f3a"
            ],
            [
             0.8888888888888888,
             "#fdca26"
            ],
            [
             1,
             "#f0f921"
            ]
           ],
           "sequentialminus": [
            [
             0,
             "#0d0887"
            ],
            [
             0.1111111111111111,
             "#46039f"
            ],
            [
             0.2222222222222222,
             "#7201a8"
            ],
            [
             0.3333333333333333,
             "#9c179e"
            ],
            [
             0.4444444444444444,
             "#bd3786"
            ],
            [
             0.5555555555555556,
             "#d8576b"
            ],
            [
             0.6666666666666666,
             "#ed7953"
            ],
            [
             0.7777777777777778,
             "#fb9f3a"
            ],
            [
             0.8888888888888888,
             "#fdca26"
            ],
            [
             1,
             "#f0f921"
            ]
           ]
          },
          "colorway": [
           "#636efa",
           "#EF553B",
           "#00cc96",
           "#ab63fa",
           "#FFA15A",
           "#19d3f3",
           "#FF6692",
           "#B6E880",
           "#FF97FF",
           "#FECB52"
          ],
          "font": {
           "color": "#2a3f5f"
          },
          "geo": {
           "bgcolor": "white",
           "lakecolor": "white",
           "landcolor": "#E5ECF6",
           "showlakes": true,
           "showland": true,
           "subunitcolor": "white"
          },
          "hoverlabel": {
           "align": "left"
          },
          "hovermode": "closest",
          "mapbox": {
           "style": "light"
          },
          "paper_bgcolor": "white",
          "plot_bgcolor": "#E5ECF6",
          "polar": {
           "angularaxis": {
            "gridcolor": "white",
            "linecolor": "white",
            "ticks": ""
           },
           "bgcolor": "#E5ECF6",
           "radialaxis": {
            "gridcolor": "white",
            "linecolor": "white",
            "ticks": ""
           }
          },
          "scene": {
           "xaxis": {
            "backgroundcolor": "#E5ECF6",
            "gridcolor": "white",
            "gridwidth": 2,
            "linecolor": "white",
            "showbackground": true,
            "ticks": "",
            "zerolinecolor": "white"
           },
           "yaxis": {
            "backgroundcolor": "#E5ECF6",
            "gridcolor": "white",
            "gridwidth": 2,
            "linecolor": "white",
            "showbackground": true,
            "ticks": "",
            "zerolinecolor": "white"
           },
           "zaxis": {
            "backgroundcolor": "#E5ECF6",
            "gridcolor": "white",
            "gridwidth": 2,
            "linecolor": "white",
            "showbackground": true,
            "ticks": "",
            "zerolinecolor": "white"
           }
          },
          "shapedefaults": {
           "line": {
            "color": "#2a3f5f"
           }
          },
          "ternary": {
           "aaxis": {
            "gridcolor": "white",
            "linecolor": "white",
            "ticks": ""
           },
           "baxis": {
            "gridcolor": "white",
            "linecolor": "white",
            "ticks": ""
           },
           "bgcolor": "#E5ECF6",
           "caxis": {
            "gridcolor": "white",
            "linecolor": "white",
            "ticks": ""
           }
          },
          "title": {
           "x": 0.05
          },
          "xaxis": {
           "automargin": true,
           "gridcolor": "white",
           "linecolor": "white",
           "ticks": "",
           "title": {
            "standoff": 15
           },
           "zerolinecolor": "white",
           "zerolinewidth": 2
          },
          "yaxis": {
           "automargin": true,
           "gridcolor": "white",
           "linecolor": "white",
           "ticks": "",
           "title": {
            "standoff": 15
           },
           "zerolinecolor": "white",
           "zerolinewidth": 2
          }
         }
        },
        "title": {
         "text": "Índice de satisfacción general"
        },
        "xaxis": {
         "anchor": "y",
         "domain": [
          0,
          1
         ],
         "title": {
          "text": "Semana"
         }
        },
        "yaxis": {
         "anchor": "x",
         "domain": [
          0,
          1
         ],
         "title": {
          "text": "Porcentaje (%)"
         }
        }
       }
      }
     },
     "metadata": {},
     "output_type": "display_data"
    },
    {
     "data": {
      "application/vnd.plotly.v1+json": {
       "config": {
        "plotlyServerURL": "https://plot.ly"
       },
       "data": [
        {
         "hovertemplate": "Semana=%{x}<br>ocupacion_pct=%{y}<br>ocupacion_label=%{text}<extra></extra>",
         "legendgroup": "",
         "marker": {
          "color": "#2D6A4F",
          "pattern": {
           "shape": ""
          }
         },
         "name": "",
         "orientation": "v",
         "showlegend": false,
         "text": [
          "madrid (65.3%)",
          "madrid (54.57%)",
          "madrid (54.65%)"
         ],
         "textposition": "auto",
         "type": "bar",
         "x": [
          "Semana 1",
          "Semana 2",
          "Semana 3"
         ],
         "xaxis": "x",
         "y": {
          "bdata": "MzMzMzNTUEApXI/C9UhLQDMzMzMzU0tA",
          "dtype": "f8"
         },
         "yaxis": "y"
        }
       ],
       "layout": {
        "barmode": "relative",
        "legend": {
         "tracegroupgap": 0
        },
        "paper_bgcolor": "#D8F3DC",
        "plot_bgcolor": "#D8F3DC",
        "template": {
         "data": {
          "bar": [
           {
            "error_x": {
             "color": "#2a3f5f"
            },
            "error_y": {
             "color": "#2a3f5f"
            },
            "marker": {
             "line": {
              "color": "#E5ECF6",
              "width": 0.5
             },
             "pattern": {
              "fillmode": "overlay",
              "size": 10,
              "solidity": 0.2
             }
            },
            "type": "bar"
           }
          ],
          "barpolar": [
           {
            "marker": {
             "line": {
              "color": "#E5ECF6",
              "width": 0.5
             },
             "pattern": {
              "fillmode": "overlay",
              "size": 10,
              "solidity": 0.2
             }
            },
            "type": "barpolar"
           }
          ],
          "carpet": [
           {
            "aaxis": {
             "endlinecolor": "#2a3f5f",
             "gridcolor": "white",
             "linecolor": "white",
             "minorgridcolor": "white",
             "startlinecolor": "#2a3f5f"
            },
            "baxis": {
             "endlinecolor": "#2a3f5f",
             "gridcolor": "white",
             "linecolor": "white",
             "minorgridcolor": "white",
             "startlinecolor": "#2a3f5f"
            },
            "type": "carpet"
           }
          ],
          "choropleth": [
           {
            "colorbar": {
             "outlinewidth": 0,
             "ticks": ""
            },
            "type": "choropleth"
           }
          ],
          "contour": [
           {
            "colorbar": {
             "outlinewidth": 0,
             "ticks": ""
            },
            "colorscale": [
             [
              0,
              "#0d0887"
             ],
             [
              0.1111111111111111,
              "#46039f"
             ],
             [
              0.2222222222222222,
              "#7201a8"
             ],
             [
              0.3333333333333333,
              "#9c179e"
             ],
             [
              0.4444444444444444,
              "#bd3786"
             ],
             [
              0.5555555555555556,
              "#d8576b"
             ],
             [
              0.6666666666666666,
              "#ed7953"
             ],
             [
              0.7777777777777778,
              "#fb9f3a"
             ],
             [
              0.8888888888888888,
              "#fdca26"
             ],
             [
              1,
              "#f0f921"
             ]
            ],
            "type": "contour"
           }
          ],
          "contourcarpet": [
           {
            "colorbar": {
             "outlinewidth": 0,
             "ticks": ""
            },
            "type": "contourcarpet"
           }
          ],
          "heatmap": [
           {
            "colorbar": {
             "outlinewidth": 0,
             "ticks": ""
            },
            "colorscale": [
             [
              0,
              "#0d0887"
             ],
             [
              0.1111111111111111,
              "#46039f"
             ],
             [
              0.2222222222222222,
              "#7201a8"
             ],
             [
              0.3333333333333333,
              "#9c179e"
             ],
             [
              0.4444444444444444,
              "#bd3786"
             ],
             [
              0.5555555555555556,
              "#d8576b"
             ],
             [
              0.6666666666666666,
              "#ed7953"
             ],
             [
              0.7777777777777778,
              "#fb9f3a"
             ],
             [
              0.8888888888888888,
              "#fdca26"
             ],
             [
              1,
              "#f0f921"
             ]
            ],
            "type": "heatmap"
           }
          ],
          "histogram": [
           {
            "marker": {
             "pattern": {
              "fillmode": "overlay",
              "size": 10,
              "solidity": 0.2
             }
            },
            "type": "histogram"
           }
          ],
          "histogram2d": [
           {
            "colorbar": {
             "outlinewidth": 0,
             "ticks": ""
            },
            "colorscale": [
             [
              0,
              "#0d0887"
             ],
             [
              0.1111111111111111,
              "#46039f"
             ],
             [
              0.2222222222222222,
              "#7201a8"
             ],
             [
              0.3333333333333333,
              "#9c179e"
             ],
             [
              0.4444444444444444,
              "#bd3786"
             ],
             [
              0.5555555555555556,
              "#d8576b"
             ],
             [
              0.6666666666666666,
              "#ed7953"
             ],
             [
              0.7777777777777778,
              "#fb9f3a"
             ],
             [
              0.8888888888888888,
              "#fdca26"
             ],
             [
              1,
              "#f0f921"
             ]
            ],
            "type": "histogram2d"
           }
          ],
          "histogram2dcontour": [
           {
            "colorbar": {
             "outlinewidth": 0,
             "ticks": ""
            },
            "colorscale": [
             [
              0,
              "#0d0887"
             ],
             [
              0.1111111111111111,
              "#46039f"
             ],
             [
              0.2222222222222222,
              "#7201a8"
             ],
             [
              0.3333333333333333,
              "#9c179e"
             ],
             [
              0.4444444444444444,
              "#bd3786"
             ],
             [
              0.5555555555555556,
              "#d8576b"
             ],
             [
              0.6666666666666666,
              "#ed7953"
             ],
             [
              0.7777777777777778,
              "#fb9f3a"
             ],
             [
              0.8888888888888888,
              "#fdca26"
             ],
             [
              1,
              "#f0f921"
             ]
            ],
            "type": "histogram2dcontour"
           }
          ],
          "mesh3d": [
           {
            "colorbar": {
             "outlinewidth": 0,
             "ticks": ""
            },
            "type": "mesh3d"
           }
          ],
          "parcoords": [
           {
            "line": {
             "colorbar": {
              "outlinewidth": 0,
              "ticks": ""
             }
            },
            "type": "parcoords"
           }
          ],
          "pie": [
           {
            "automargin": true,
            "type": "pie"
           }
          ],
          "scatter": [
           {
            "fillpattern": {
             "fillmode": "overlay",
             "size": 10,
             "solidity": 0.2
            },
            "type": "scatter"
           }
          ],
          "scatter3d": [
           {
            "line": {
             "colorbar": {
              "outlinewidth": 0,
              "ticks": ""
             }
            },
            "marker": {
             "colorbar": {
              "outlinewidth": 0,
              "ticks": ""
             }
            },
            "type": "scatter3d"
           }
          ],
          "scattercarpet": [
           {
            "marker": {
             "colorbar": {
              "outlinewidth": 0,
              "ticks": ""
             }
            },
            "type": "scattercarpet"
           }
          ],
          "scattergeo": [
           {
            "marker": {
             "colorbar": {
              "outlinewidth": 0,
              "ticks": ""
             }
            },
            "type": "scattergeo"
           }
          ],
          "scattergl": [
           {
            "marker": {
             "colorbar": {
              "outlinewidth": 0,
              "ticks": ""
             }
            },
            "type": "scattergl"
           }
          ],
          "scattermap": [
           {
            "marker": {
             "colorbar": {
              "outlinewidth": 0,
              "ticks": ""
             }
            },
            "type": "scattermap"
           }
          ],
          "scattermapbox": [
           {
            "marker": {
             "colorbar": {
              "outlinewidth": 0,
              "ticks": ""
             }
            },
            "type": "scattermapbox"
           }
          ],
          "scatterpolar": [
           {
            "marker": {
             "colorbar": {
              "outlinewidth": 0,
              "ticks": ""
             }
            },
            "type": "scatterpolar"
           }
          ],
          "scatterpolargl": [
           {
            "marker": {
             "colorbar": {
              "outlinewidth": 0,
              "ticks": ""
             }
            },
            "type": "scatterpolargl"
           }
          ],
          "scatterternary": [
           {
            "marker": {
             "colorbar": {
              "outlinewidth": 0,
              "ticks": ""
             }
            },
            "type": "scatterternary"
           }
          ],
          "surface": [
           {
            "colorbar": {
             "outlinewidth": 0,
             "ticks": ""
            },
            "colorscale": [
             [
              0,
              "#0d0887"
             ],
             [
              0.1111111111111111,
              "#46039f"
             ],
             [
              0.2222222222222222,
              "#7201a8"
             ],
             [
              0.3333333333333333,
              "#9c179e"
             ],
             [
              0.4444444444444444,
              "#bd3786"
             ],
             [
              0.5555555555555556,
              "#d8576b"
             ],
             [
              0.6666666666666666,
              "#ed7953"
             ],
             [
              0.7777777777777778,
              "#fb9f3a"
             ],
             [
              0.8888888888888888,
              "#fdca26"
             ],
             [
              1,
              "#f0f921"
             ]
            ],
            "type": "surface"
           }
          ],
          "table": [
           {
            "cells": {
             "fill": {
              "color": "#EBF0F8"
             },
             "line": {
              "color": "white"
             }
            },
            "header": {
             "fill": {
              "color": "#C8D4E3"
             },
             "line": {
              "color": "white"
             }
            },
            "type": "table"
           }
          ]
         },
         "layout": {
          "annotationdefaults": {
           "arrowcolor": "#2a3f5f",
           "arrowhead": 0,
           "arrowwidth": 1
          },
          "autotypenumbers": "strict",
          "coloraxis": {
           "colorbar": {
            "outlinewidth": 0,
            "ticks": ""
           }
          },
          "colorscale": {
           "diverging": [
            [
             0,
             "#8e0152"
            ],
            [
             0.1,
             "#c51b7d"
            ],
            [
             0.2,
             "#de77ae"
            ],
            [
             0.3,
             "#f1b6da"
            ],
            [
             0.4,
             "#fde0ef"
            ],
            [
             0.5,
             "#f7f7f7"
            ],
            [
             0.6,
             "#e6f5d0"
            ],
            [
             0.7,
             "#b8e186"
            ],
            [
             0.8,
             "#7fbc41"
            ],
            [
             0.9,
             "#4d9221"
            ],
            [
             1,
             "#276419"
            ]
           ],
           "sequential": [
            [
             0,
             "#0d0887"
            ],
            [
             0.1111111111111111,
             "#46039f"
            ],
            [
             0.2222222222222222,
             "#7201a8"
            ],
            [
             0.3333333333333333,
             "#9c179e"
            ],
            [
             0.4444444444444444,
             "#bd3786"
            ],
            [
             0.5555555555555556,
             "#d8576b"
            ],
            [
             0.6666666666666666,
             "#ed7953"
            ],
            [
             0.7777777777777778,
             "#fb9f3a"
            ],
            [
             0.8888888888888888,
             "#fdca26"
            ],
            [
             1,
             "#f0f921"
            ]
           ],
           "sequentialminus": [
            [
             0,
             "#0d0887"
            ],
            [
             0.1111111111111111,
             "#46039f"
            ],
            [
             0.2222222222222222,
             "#7201a8"
            ],
            [
             0.3333333333333333,
             "#9c179e"
            ],
            [
             0.4444444444444444,
             "#bd3786"
            ],
            [
             0.5555555555555556,
             "#d8576b"
            ],
            [
             0.6666666666666666,
             "#ed7953"
            ],
            [
             0.7777777777777778,
             "#fb9f3a"
            ],
            [
             0.8888888888888888,
             "#fdca26"
            ],
            [
             1,
             "#f0f921"
            ]
           ]
          },
          "colorway": [
           "#636efa",
           "#EF553B",
           "#00cc96",
           "#ab63fa",
           "#FFA15A",
           "#19d3f3",
           "#FF6692",
           "#B6E880",
           "#FF97FF",
           "#FECB52"
          ],
          "font": {
           "color": "#2a3f5f"
          },
          "geo": {
           "bgcolor": "white",
           "lakecolor": "white",
           "landcolor": "#E5ECF6",
           "showlakes": true,
           "showland": true,
           "subunitcolor": "white"
          },
          "hoverlabel": {
           "align": "left"
          },
          "hovermode": "closest",
          "mapbox": {
           "style": "light"
          },
          "paper_bgcolor": "white",
          "plot_bgcolor": "#E5ECF6",
          "polar": {
           "angularaxis": {
            "gridcolor": "white",
            "linecolor": "white",
            "ticks": ""
           },
           "bgcolor": "#E5ECF6",
           "radialaxis": {
            "gridcolor": "white",
            "linecolor": "white",
            "ticks": ""
           }
          },
          "scene": {
           "xaxis": {
            "backgroundcolor": "#E5ECF6",
            "gridcolor": "white",
            "gridwidth": 2,
            "linecolor": "white",
            "showbackground": true,
            "ticks": "",
            "zerolinecolor": "white"
           },
           "yaxis": {
            "backgroundcolor": "#E5ECF6",
            "gridcolor": "white",
            "gridwidth": 2,
            "linecolor": "white",
            "showbackground": true,
            "ticks": "",
            "zerolinecolor": "white"
           },
           "zaxis": {
            "backgroundcolor": "#E5ECF6",
            "gridcolor": "white",
            "gridwidth": 2,
            "linecolor": "white",
            "showbackground": true,
            "ticks": "",
            "zerolinecolor": "white"
           }
          },
          "shapedefaults": {
           "line": {
            "color": "#2a3f5f"
           }
          },
          "ternary": {
           "aaxis": {
            "gridcolor": "white",
            "linecolor": "white",
            "ticks": ""
           },
           "baxis": {
            "gridcolor": "white",
            "linecolor": "white",
            "ticks": ""
           },
           "bgcolor": "#E5ECF6",
           "caxis": {
            "gridcolor": "white",
            "linecolor": "white",
            "ticks": ""
           }
          },
          "title": {
           "x": 0.05
          },
          "xaxis": {
           "automargin": true,
           "gridcolor": "white",
           "linecolor": "white",
           "ticks": "",
           "title": {
            "standoff": 15
           },
           "zerolinecolor": "white",
           "zerolinewidth": 2
          },
          "yaxis": {
           "automargin": true,
           "gridcolor": "white",
           "linecolor": "white",
           "ticks": "",
           "title": {
            "standoff": 15
           },
           "zerolinecolor": "white",
           "zerolinewidth": 2
          }
         }
        },
        "title": {
         "text": "Ciudad con mayor ocupación (%)"
        },
        "xaxis": {
         "anchor": "y",
         "domain": [
          0,
          1
         ],
         "title": {
          "text": "Semana"
         }
        },
        "yaxis": {
         "anchor": "x",
         "domain": [
          0,
          1
         ],
         "title": {
          "text": "Porcentaje (%)"
         }
        }
       }
      }
     },
     "metadata": {},
     "output_type": "display_data"
    },
    {
     "data": {
      "application/vnd.plotly.v1+json": {
       "config": {
        "plotlyServerURL": "https://plot.ly"
       },
       "data": [
        {
         "hovertemplate": "Semana=%{x}<br>item_pct=%{y}<br>item_label=%{text}<extra></extra>",
         "legendgroup": "",
         "marker": {
          "color": "#2D6A4F",
          "pattern": {
           "shape": ""
          }
         },
         "name": "",
         "orientation": "v",
         "showlegend": false,
         "text": [
          "Communication (97.11)",
          "Communication (97.11)",
          "Check-in (97.25)"
         ],
         "textposition": "auto",
         "type": "bar",
         "x": [
          "Semana 1",
          "Semana 2",
          "Semana 3"
         ],
         "xaxis": "x",
         "y": {
          "bdata": "16NwPQpHWEDXo3A9CkdYQAAAAAAAUFhA",
          "dtype": "f8"
         },
         "yaxis": "y"
        }
       ],
       "layout": {
        "barmode": "relative",
        "legend": {
         "tracegroupgap": 0
        },
        "paper_bgcolor": "#D8F3DC",
        "plot_bgcolor": "#D8F3DC",
        "template": {
         "data": {
          "bar": [
           {
            "error_x": {
             "color": "#2a3f5f"
            },
            "error_y": {
             "color": "#2a3f5f"
            },
            "marker": {
             "line": {
              "color": "#E5ECF6",
              "width": 0.5
             },
             "pattern": {
              "fillmode": "overlay",
              "size": 10,
              "solidity": 0.2
             }
            },
            "type": "bar"
           }
          ],
          "barpolar": [
           {
            "marker": {
             "line": {
              "color": "#E5ECF6",
              "width": 0.5
             },
             "pattern": {
              "fillmode": "overlay",
              "size": 10,
              "solidity": 0.2
             }
            },
            "type": "barpolar"
           }
          ],
          "carpet": [
           {
            "aaxis": {
             "endlinecolor": "#2a3f5f",
             "gridcolor": "white",
             "linecolor": "white",
             "minorgridcolor": "white",
             "startlinecolor": "#2a3f5f"
            },
            "baxis": {
             "endlinecolor": "#2a3f5f",
             "gridcolor": "white",
             "linecolor": "white",
             "minorgridcolor": "white",
             "startlinecolor": "#2a3f5f"
            },
            "type": "carpet"
           }
          ],
          "choropleth": [
           {
            "colorbar": {
             "outlinewidth": 0,
             "ticks": ""
            },
            "type": "choropleth"
           }
          ],
          "contour": [
           {
            "colorbar": {
             "outlinewidth": 0,
             "ticks": ""
            },
            "colorscale": [
             [
              0,
              "#0d0887"
             ],
             [
              0.1111111111111111,
              "#46039f"
             ],
             [
              0.2222222222222222,
              "#7201a8"
             ],
             [
              0.3333333333333333,
              "#9c179e"
             ],
             [
              0.4444444444444444,
              "#bd3786"
             ],
             [
              0.5555555555555556,
              "#d8576b"
             ],
             [
              0.6666666666666666,
              "#ed7953"
             ],
             [
              0.7777777777777778,
              "#fb9f3a"
             ],
             [
              0.8888888888888888,
              "#fdca26"
             ],
             [
              1,
              "#f0f921"
             ]
            ],
            "type": "contour"
           }
          ],
          "contourcarpet": [
           {
            "colorbar": {
             "outlinewidth": 0,
             "ticks": ""
            },
            "type": "contourcarpet"
           }
          ],
          "heatmap": [
           {
            "colorbar": {
             "outlinewidth": 0,
             "ticks": ""
            },
            "colorscale": [
             [
              0,
              "#0d0887"
             ],
             [
              0.1111111111111111,
              "#46039f"
             ],
             [
              0.2222222222222222,
              "#7201a8"
             ],
             [
              0.3333333333333333,
              "#9c179e"
             ],
             [
              0.4444444444444444,
              "#bd3786"
             ],
             [
              0.5555555555555556,
              "#d8576b"
             ],
             [
              0.6666666666666666,
              "#ed7953"
             ],
             [
              0.7777777777777778,
              "#fb9f3a"
             ],
             [
              0.8888888888888888,
              "#fdca26"
             ],
             [
              1,
              "#f0f921"
             ]
            ],
            "type": "heatmap"
           }
          ],
          "histogram": [
           {
            "marker": {
             "pattern": {
              "fillmode": "overlay",
              "size": 10,
              "solidity": 0.2
             }
            },
            "type": "histogram"
           }
          ],
          "histogram2d": [
           {
            "colorbar": {
             "outlinewidth": 0,
             "ticks": ""
            },
            "colorscale": [
             [
              0,
              "#0d0887"
             ],
             [
              0.1111111111111111,
              "#46039f"
             ],
             [
              0.2222222222222222,
              "#7201a8"
             ],
             [
              0.3333333333333333,
              "#9c179e"
             ],
             [
              0.4444444444444444,
              "#bd3786"
             ],
             [
              0.5555555555555556,
              "#d8576b"
             ],
             [
              0.6666666666666666,
              "#ed7953"
             ],
             [
              0.7777777777777778,
              "#fb9f3a"
             ],
             [
              0.8888888888888888,
              "#fdca26"
             ],
             [
              1,
              "#f0f921"
             ]
            ],
            "type": "histogram2d"
           }
          ],
          "histogram2dcontour": [
           {
            "colorbar": {
             "outlinewidth": 0,
             "ticks": ""
            },
            "colorscale": [
             [
              0,
              "#0d0887"
             ],
             [
              0.1111111111111111,
              "#46039f"
             ],
             [
              0.2222222222222222,
              "#7201a8"
             ],
             [
              0.3333333333333333,
              "#9c179e"
             ],
             [
              0.4444444444444444,
              "#bd3786"
             ],
             [
              0.5555555555555556,
              "#d8576b"
             ],
             [
              0.6666666666666666,
              "#ed7953"
             ],
             [
              0.7777777777777778,
              "#fb9f3a"
             ],
             [
              0.8888888888888888,
              "#fdca26"
             ],
             [
              1,
              "#f0f921"
             ]
            ],
            "type": "histogram2dcontour"
           }
          ],
          "mesh3d": [
           {
            "colorbar": {
             "outlinewidth": 0,
             "ticks": ""
            },
            "type": "mesh3d"
           }
          ],
          "parcoords": [
           {
            "line": {
             "colorbar": {
              "outlinewidth": 0,
              "ticks": ""
             }
            },
            "type": "parcoords"
           }
          ],
          "pie": [
           {
            "automargin": true,
            "type": "pie"
           }
          ],
          "scatter": [
           {
            "fillpattern": {
             "fillmode": "overlay",
             "size": 10,
             "solidity": 0.2
            },
            "type": "scatter"
           }
          ],
          "scatter3d": [
           {
            "line": {
             "colorbar": {
              "outlinewidth": 0,
              "ticks": ""
             }
            },
            "marker": {
             "colorbar": {
              "outlinewidth": 0,
              "ticks": ""
             }
            },
            "type": "scatter3d"
           }
          ],
          "scattercarpet": [
           {
            "marker": {
             "colorbar": {
              "outlinewidth": 0,
              "ticks": ""
             }
            },
            "type": "scattercarpet"
           }
          ],
          "scattergeo": [
           {
            "marker": {
             "colorbar": {
              "outlinewidth": 0,
              "ticks": ""
             }
            },
            "type": "scattergeo"
           }
          ],
          "scattergl": [
           {
            "marker": {
             "colorbar": {
              "outlinewidth": 0,
              "ticks": ""
             }
            },
            "type": "scattergl"
           }
          ],
          "scattermap": [
           {
            "marker": {
             "colorbar": {
              "outlinewidth": 0,
              "ticks": ""
             }
            },
            "type": "scattermap"
           }
          ],
          "scattermapbox": [
           {
            "marker": {
             "colorbar": {
              "outlinewidth": 0,
              "ticks": ""
             }
            },
            "type": "scattermapbox"
           }
          ],
          "scatterpolar": [
           {
            "marker": {
             "colorbar": {
              "outlinewidth": 0,
              "ticks": ""
             }
            },
            "type": "scatterpolar"
           }
          ],
          "scatterpolargl": [
           {
            "marker": {
             "colorbar": {
              "outlinewidth": 0,
              "ticks": ""
             }
            },
            "type": "scatterpolargl"
           }
          ],
          "scatterternary": [
           {
            "marker": {
             "colorbar": {
              "outlinewidth": 0,
              "ticks": ""
             }
            },
            "type": "scatterternary"
           }
          ],
          "surface": [
           {
            "colorbar": {
             "outlinewidth": 0,
             "ticks": ""
            },
            "colorscale": [
             [
              0,
              "#0d0887"
             ],
             [
              0.1111111111111111,
              "#46039f"
             ],
             [
              0.2222222222222222,
              "#7201a8"
             ],
             [
              0.3333333333333333,
              "#9c179e"
             ],
             [
              0.4444444444444444,
              "#bd3786"
             ],
             [
              0.5555555555555556,
              "#d8576b"
             ],
             [
              0.6666666666666666,
              "#ed7953"
             ],
             [
              0.7777777777777778,
              "#fb9f3a"
             ],
             [
              0.8888888888888888,
              "#fdca26"
             ],
             [
              1,
              "#f0f921"
             ]
            ],
            "type": "surface"
           }
          ],
          "table": [
           {
            "cells": {
             "fill": {
              "color": "#EBF0F8"
             },
             "line": {
              "color": "white"
             }
            },
            "header": {
             "fill": {
              "color": "#C8D4E3"
             },
             "line": {
              "color": "white"
             }
            },
            "type": "table"
           }
          ]
         },
         "layout": {
          "annotationdefaults": {
           "arrowcolor": "#2a3f5f",
           "arrowhead": 0,
           "arrowwidth": 1
          },
          "autotypenumbers": "strict",
          "coloraxis": {
           "colorbar": {
            "outlinewidth": 0,
            "ticks": ""
           }
          },
          "colorscale": {
           "diverging": [
            [
             0,
             "#8e0152"
            ],
            [
             0.1,
             "#c51b7d"
            ],
            [
             0.2,
             "#de77ae"
            ],
            [
             0.3,
             "#f1b6da"
            ],
            [
             0.4,
             "#fde0ef"
            ],
            [
             0.5,
             "#f7f7f7"
            ],
            [
             0.6,
             "#e6f5d0"
            ],
            [
             0.7,
             "#b8e186"
            ],
            [
             0.8,
             "#7fbc41"
            ],
            [
             0.9,
             "#4d9221"
            ],
            [
             1,
             "#276419"
            ]
           ],
           "sequential": [
            [
             0,
             "#0d0887"
            ],
            [
             0.1111111111111111,
             "#46039f"
            ],
            [
             0.2222222222222222,
             "#7201a8"
            ],
            [
             0.3333333333333333,
             "#9c179e"
            ],
            [
             0.4444444444444444,
             "#bd3786"
            ],
            [
             0.5555555555555556,
             "#d8576b"
            ],
            [
             0.6666666666666666,
             "#ed7953"
            ],
            [
             0.7777777777777778,
             "#fb9f3a"
            ],
            [
             0.8888888888888888,
             "#fdca26"
            ],
            [
             1,
             "#f0f921"
            ]
           ],
           "sequentialminus": [
            [
             0,
             "#0d0887"
            ],
            [
             0.1111111111111111,
             "#46039f"
            ],
            [
             0.2222222222222222,
             "#7201a8"
            ],
            [
             0.3333333333333333,
             "#9c179e"
            ],
            [
             0.4444444444444444,
             "#bd3786"
            ],
            [
             0.5555555555555556,
             "#d8576b"
            ],
            [
             0.6666666666666666,
             "#ed7953"
            ],
            [
             0.7777777777777778,
             "#fb9f3a"
            ],
            [
             0.8888888888888888,
             "#fdca26"
            ],
            [
             1,
             "#f0f921"
            ]
           ]
          },
          "colorway": [
           "#636efa",
           "#EF553B",
           "#00cc96",
           "#ab63fa",
           "#FFA15A",
           "#19d3f3",
           "#FF6692",
           "#B6E880",
           "#FF97FF",
           "#FECB52"
          ],
          "font": {
           "color": "#2a3f5f"
          },
          "geo": {
           "bgcolor": "white",
           "lakecolor": "white",
           "landcolor": "#E5ECF6",
           "showlakes": true,
           "showland": true,
           "subunitcolor": "white"
          },
          "hoverlabel": {
           "align": "left"
          },
          "hovermode": "closest",
          "mapbox": {
           "style": "light"
          },
          "paper_bgcolor": "white",
          "plot_bgcolor": "#E5ECF6",
          "polar": {
           "angularaxis": {
            "gridcolor": "white",
            "linecolor": "white",
            "ticks": ""
           },
           "bgcolor": "#E5ECF6",
           "radialaxis": {
            "gridcolor": "white",
            "linecolor": "white",
            "ticks": ""
           }
          },
          "scene": {
           "xaxis": {
            "backgroundcolor": "#E5ECF6",
            "gridcolor": "white",
            "gridwidth": 2,
            "linecolor": "white",
            "showbackground": true,
            "ticks": "",
            "zerolinecolor": "white"
           },
           "yaxis": {
            "backgroundcolor": "#E5ECF6",
            "gridcolor": "white",
            "gridwidth": 2,
            "linecolor": "white",
            "showbackground": true,
            "ticks": "",
            "zerolinecolor": "white"
           },
           "zaxis": {
            "backgroundcolor": "#E5ECF6",
            "gridcolor": "white",
            "gridwidth": 2,
            "linecolor": "white",
            "showbackground": true,
            "ticks": "",
            "zerolinecolor": "white"
           }
          },
          "shapedefaults": {
           "line": {
            "color": "#2a3f5f"
           }
          },
          "ternary": {
           "aaxis": {
            "gridcolor": "white",
            "linecolor": "white",
            "ticks": ""
           },
           "baxis": {
            "gridcolor": "white",
            "linecolor": "white",
            "ticks": ""
           },
           "bgcolor": "#E5ECF6",
           "caxis": {
            "gridcolor": "white",
            "linecolor": "white",
            "ticks": ""
           }
          },
          "title": {
           "x": 0.05
          },
          "xaxis": {
           "automargin": true,
           "gridcolor": "white",
           "linecolor": "white",
           "ticks": "",
           "title": {
            "standoff": 15
           },
           "zerolinecolor": "white",
           "zerolinewidth": 2
          },
          "yaxis": {
           "automargin": true,
           "gridcolor": "white",
           "linecolor": "white",
           "ticks": "",
           "title": {
            "standoff": 15
           },
           "zerolinecolor": "white",
           "zerolinewidth": 2
          }
         }
        },
        "title": {
         "text": "Ítem con mayor satisfacción (%)"
        },
        "xaxis": {
         "anchor": "y",
         "domain": [
          0,
          1
         ],
         "title": {
          "text": "Semana"
         }
        },
        "yaxis": {
         "anchor": "x",
         "domain": [
          0,
          1
         ],
         "title": {
          "text": "Porcentaje (%)"
         }
        }
       }
      }
     },
     "metadata": {},
     "output_type": "display_data"
    }
   ],
   "source": [
    "import pandas as pd\n",
    "import plotly.express as px\n",
    "\n",
    "# Datos iniciales\n",
    "data = {\n",
    "    'Semana': ['Semana 1', 'Semana 2', 'Semana 3'],\n",
    "    'tasa_ocupacion_mensual': [59.03, 58.65, 56.50],\n",
    "    'indice_satisfaccion_general': [92.39, 92.42, 92.51],\n",
    "    'ciudad_mayor_ocupacion': ['madrid (65.3%)', 'madrid (54.57%)', 'madrid (54.65%)'],\n",
    "    'item_mayor_satisfaccion': ['Communication (97.11)', 'Communication (97.11)', 'Check-in (97.25)']\n",
    "}\n",
    "df = pd.DataFrame(data)\n",
    "\n",
    "# Extract percentages\n",
    "df['ocupacion_pct'] = df['ciudad_mayor_ocupacion'].str.extract(r'(\\d+\\.?\\d*)').astype(float)\n",
    "df['item_pct'] = df['item_mayor_satisfaccion'].str.extract(r'(\\d+\\.?\\d*)').astype(float)\n",
    "\n",
    "# Extract only the name part (before the parenthesis)\n",
    "df['ciudad'] = df['ciudad_mayor_ocupacion'].str.extract(r'(^[^\\(]+)').iloc[:,0].str.strip()\n",
    "df['item'] = df['item_mayor_satisfaccion'].str.extract(r'(^[^\\(]+)').iloc[:,0].str.strip()\n",
    "\n",
    "# Create label texts for bars (city + %)\n",
    "df['ocupacion_label'] = df['ciudad'] + \" (\" + df['ocupacion_pct'].round(2).astype(str) + \"%)\"\n",
    "\n",
    "# Create label texts for satisfaction item + %\n",
    "df['item_label'] = df['item'] + \" (\" + df['item_pct'].round(2).astype(str) + \")\"\n",
    "\n",
    "# 1) Line plot tasa de ocupacion mensual\n",
    "fig1 = px.line(\n",
    "    df,\n",
    "    x='Semana',\n",
    "    y='tasa_ocupacion_mensual',\n",
    "    title='Tasa de ocupación mensual',\n",
    "    markers=True\n",
    ")\n",
    "fig1.update_layout(yaxis_title='Porcentaje (%)', paper_bgcolor=\"#D8F3DC\", plot_bgcolor=\"#D8F3DC\")\n",
    "fig1.show()\n",
    "\n",
    "# 2) Line plot indice de satisfaccion general\n",
    "fig2 = px.line(\n",
    "    df,\n",
    "    x='Semana',\n",
    "    y='indice_satisfaccion_general',\n",
    "    title='Índice de satisfacción general',\n",
    "    markers=True\n",
    ")\n",
    "fig2.update_layout(yaxis_title='Porcentaje (%)', paper_bgcolor=\"#D8F3DC\", plot_bgcolor=\"#D8F3DC\")\n",
    "fig2.show()\n",
    "\n",
    "# 3) Bar chart ciudad mayor ocupacion, texto ترکیبی اسم شهر و درصد\n",
    "fig3 = px.bar(\n",
    "    df,\n",
    "    x='Semana',\n",
    "    y='ocupacion_pct',\n",
    "    title='Ciudad con mayor ocupación (%)',\n",
    "    text='ocupacion_label',\n",
    "    color_discrete_sequence=['#2D6A4F']\n",
    ")\n",
    "fig3.update_layout(yaxis_title='Porcentaje (%)', paper_bgcolor=\"#D8F3DC\", plot_bgcolor=\"#D8F3DC\")\n",
    "fig3.show()\n",
    "\n",
    "# 4) Bar chart item mayor satisfaccion, متن ترکیبی اسم آیتم و درصد\n",
    "fig4 = px.bar(\n",
    "    df,\n",
    "    x='Semana',\n",
    "    y='item_pct',\n",
    "    title='Ítem con mayor satisfacción (%)',\n",
    "    text='item_label',\n",
    "    color_discrete_sequence=['#2D6A4F']\n",
    ")\n",
    "fig4.update_layout(yaxis_title='Porcentaje (%)', paper_bgcolor=\"#D8F3DC\", plot_bgcolor=\"#D8F3DC\")\n",
    "fig4.show()\n"
   ]
  },
  {
   "cell_type": "markdown",
   "id": "afb4b655",
   "metadata": {},
   "source": [
    "## Análisis departamento Cliente:"
   ]
  },
  {
   "cell_type": "code",
   "execution_count": 7,
   "id": "34e09fdf",
   "metadata": {},
   "outputs": [],
   "source": [
    "#Creación dataset para analisis cliente:\n",
    "df_cl = df_tourist[['room_type','price','review_scores_rating','review_scores_accuracy','review_scores_cleanliness','review_scores_checkin',\n",
    "                    'review_scores_communication','review_scores_location','review_scores_value','city']]"
   ]
  },
  {
   "cell_type": "markdown",
   "id": "60e36f0d",
   "metadata": {},
   "source": [
    "### Analasis de la Experiencia del Cliente"
   ]
  },
  {
   "cell_type": "markdown",
   "id": "bdd12caf",
   "metadata": {},
   "source": [
    "Analista d'experiència del client: Hi ha una relació entre el preu de l'allotjament i la satisfacció general dels clients? Com varia aquesta relació en funció de les diferents ciutats on s'ubiquen els allotjaments"
   ]
  },
  {
   "cell_type": "code",
   "execution_count": 8,
   "id": "f68fc05f",
   "metadata": {},
   "outputs": [
    {
     "name": "stdout",
     "output_type": "stream",
     "text": [
      "Prueba de Lilliefors (Kolmogorov-Smirnov con corrección): p = 0.0009999999999998899\n",
      "H1: la distribución no parece ser normal.\n"
     ]
    }
   ],
   "source": [
    "from statsmodels.stats.diagnostic import lilliefors\n",
    "import pandas as pd \n",
    "\n",
    "# Asumiendo que 'df_tourist' es tu DataFrame y 'price' es la columna que quieres evaluar\n",
    "data = df_cl['price'].dropna() # Elimina los valores NaN para el test\n",
    "\n",
    "stat, p = lilliefors(data)\n",
    "print(\"Prueba de Lilliefors (Kolmogorov-Smirnov con corrección): p =\", p)\n",
    "if p > 0.05:\n",
    "    print(\"Ho: La distribución parece ser normal.\")\n",
    "else:\n",
    "    print(\"H1: la distribución no parece ser normal.\")"
   ]
  },
  {
   "cell_type": "code",
   "execution_count": 9,
   "id": "e99a7fea",
   "metadata": {},
   "outputs": [
    {
     "data": {
      "application/vnd.plotly.v1+json": {
       "config": {
        "plotlyServerURL": "https://plot.ly"
       },
       "data": [
        {
         "bingroup": "x",
         "hovertemplate": "price=%{x}<br>count=%{y}<extra></extra>",
         "legendgroup": "",
         "marker": {
          "color": "#636efa",
          "pattern": {
           "shape": ""
          }
         },
         "name": "",
         "orientation": "v",
         "showlegend": false,
         "type": "histogram",
         "x": {
          "bdata": "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",
          "dtype": "f8"
         },
         "xaxis": "x",
         "yaxis": "y"
        }
       ],
       "layout": {
        "barmode": "relative",
        "legend": {
         "tracegroupgap": 0
        },
        "paper_bgcolor": "#D8F3DC",
        "plot_bgcolor": "#D8F3DC",
        "template": {
         "data": {
          "bar": [
           {
            "error_x": {
             "color": "#2a3f5f"
            },
            "error_y": {
             "color": "#2a3f5f"
            },
            "marker": {
             "line": {
              "color": "#E5ECF6",
              "width": 0.5
             },
             "pattern": {
              "fillmode": "overlay",
              "size": 10,
              "solidity": 0.2
             }
            },
            "type": "bar"
           }
          ],
          "barpolar": [
           {
            "marker": {
             "line": {
              "color": "#E5ECF6",
              "width": 0.5
             },
             "pattern": {
              "fillmode": "overlay",
              "size": 10,
              "solidity": 0.2
             }
            },
            "type": "barpolar"
           }
          ],
          "carpet": [
           {
            "aaxis": {
             "endlinecolor": "#2a3f5f",
             "gridcolor": "white",
             "linecolor": "white",
             "minorgridcolor": "white",
             "startlinecolor": "#2a3f5f"
            },
            "baxis": {
             "endlinecolor": "#2a3f5f",
             "gridcolor": "white",
             "linecolor": "white",
             "minorgridcolor": "white",
             "startlinecolor": "#2a3f5f"
            },
            "type": "carpet"
           }
          ],
          "choropleth": [
           {
            "colorbar": {
             "outlinewidth": 0,
             "ticks": ""
            },
            "type": "choropleth"
           }
          ],
          "contour": [
           {
            "colorbar": {
             "outlinewidth": 0,
             "ticks": ""
            },
            "colorscale": [
             [
              0,
              "#0d0887"
             ],
             [
              0.1111111111111111,
              "#46039f"
             ],
             [
              0.2222222222222222,
              "#7201a8"
             ],
             [
              0.3333333333333333,
              "#9c179e"
             ],
             [
              0.4444444444444444,
              "#bd3786"
             ],
             [
              0.5555555555555556,
              "#d8576b"
             ],
             [
              0.6666666666666666,
              "#ed7953"
             ],
             [
              0.7777777777777778,
              "#fb9f3a"
             ],
             [
              0.8888888888888888,
              "#fdca26"
             ],
             [
              1,
              "#f0f921"
             ]
            ],
            "type": "contour"
           }
          ],
          "contourcarpet": [
           {
            "colorbar": {
             "outlinewidth": 0,
             "ticks": ""
            },
            "type": "contourcarpet"
           }
          ],
          "heatmap": [
           {
            "colorbar": {
             "outlinewidth": 0,
             "ticks": ""
            },
            "colorscale": [
             [
              0,
              "#0d0887"
             ],
             [
              0.1111111111111111,
              "#46039f"
             ],
             [
              0.2222222222222222,
              "#7201a8"
             ],
             [
              0.3333333333333333,
              "#9c179e"
             ],
             [
              0.4444444444444444,
              "#bd3786"
             ],
             [
              0.5555555555555556,
              "#d8576b"
             ],
             [
              0.6666666666666666,
              "#ed7953"
             ],
             [
              0.7777777777777778,
              "#fb9f3a"
             ],
             [
              0.8888888888888888,
              "#fdca26"
             ],
             [
              1,
              "#f0f921"
             ]
            ],
            "type": "heatmap"
           }
          ],
          "histogram": [
           {
            "marker": {
             "pattern": {
              "fillmode": "overlay",
              "size": 10,
              "solidity": 0.2
             }
            },
            "type": "histogram"
           }
          ],
          "histogram2d": [
           {
            "colorbar": {
             "outlinewidth": 0,
             "ticks": ""
            },
            "colorscale": [
             [
              0,
              "#0d0887"
             ],
             [
              0.1111111111111111,
              "#46039f"
             ],
             [
              0.2222222222222222,
              "#7201a8"
             ],
             [
              0.3333333333333333,
              "#9c179e"
             ],
             [
              0.4444444444444444,
              "#bd3786"
             ],
             [
              0.5555555555555556,
              "#d8576b"
             ],
             [
              0.6666666666666666,
              "#ed7953"
             ],
             [
              0.7777777777777778,
              "#fb9f3a"
             ],
             [
              0.8888888888888888,
              "#fdca26"
             ],
             [
              1,
              "#f0f921"
             ]
            ],
            "type": "histogram2d"
           }
          ],
          "histogram2dcontour": [
           {
            "colorbar": {
             "outlinewidth": 0,
             "ticks": ""
            },
            "colorscale": [
             [
              0,
              "#0d0887"
             ],
             [
              0.1111111111111111,
              "#46039f"
             ],
             [
              0.2222222222222222,
              "#7201a8"
             ],
             [
              0.3333333333333333,
              "#9c179e"
             ],
             [
              0.4444444444444444,
              "#bd3786"
             ],
             [
              0.5555555555555556,
              "#d8576b"
             ],
             [
              0.6666666666666666,
              "#ed7953"
             ],
             [
              0.7777777777777778,
              "#fb9f3a"
             ],
             [
              0.8888888888888888,
              "#fdca26"
             ],
             [
              1,
              "#f0f921"
             ]
            ],
            "type": "histogram2dcontour"
           }
          ],
          "mesh3d": [
           {
            "colorbar": {
             "outlinewidth": 0,
             "ticks": ""
            },
            "type": "mesh3d"
           }
          ],
          "parcoords": [
           {
            "line": {
             "colorbar": {
              "outlinewidth": 0,
              "ticks": ""
             }
            },
            "type": "parcoords"
           }
          ],
          "pie": [
           {
            "automargin": true,
            "type": "pie"
           }
          ],
          "scatter": [
           {
            "fillpattern": {
             "fillmode": "overlay",
             "size": 10,
             "solidity": 0.2
            },
            "type": "scatter"
           }
          ],
          "scatter3d": [
           {
            "line": {
             "colorbar": {
              "outlinewidth": 0,
              "ticks": ""
             }
            },
            "marker": {
             "colorbar": {
              "outlinewidth": 0,
              "ticks": ""
             }
            },
            "type": "scatter3d"
           }
          ],
          "scattercarpet": [
           {
            "marker": {
             "colorbar": {
              "outlinewidth": 0,
              "ticks": ""
             }
            },
            "type": "scattercarpet"
           }
          ],
          "scattergeo": [
           {
            "marker": {
             "colorbar": {
              "outlinewidth": 0,
              "ticks": ""
             }
            },
            "type": "scattergeo"
           }
          ],
          "scattergl": [
           {
            "marker": {
             "colorbar": {
              "outlinewidth": 0,
              "ticks": ""
             }
            },
            "type": "scattergl"
           }
          ],
          "scattermap": [
           {
            "marker": {
             "colorbar": {
              "outlinewidth": 0,
              "ticks": ""
             }
            },
            "type": "scattermap"
           }
          ],
          "scattermapbox": [
           {
            "marker": {
             "colorbar": {
              "outlinewidth": 0,
              "ticks": ""
             }
            },
            "type": "scattermapbox"
           }
          ],
          "scatterpolar": [
           {
            "marker": {
             "colorbar": {
              "outlinewidth": 0,
              "ticks": ""
             }
            },
            "type": "scatterpolar"
           }
          ],
          "scatterpolargl": [
           {
            "marker": {
             "colorbar": {
              "outlinewidth": 0,
              "ticks": ""
             }
            },
            "type": "scatterpolargl"
           }
          ],
          "scatterternary": [
           {
            "marker": {
             "colorbar": {
              "outlinewidth": 0,
              "ticks": ""
             }
            },
            "type": "scatterternary"
           }
          ],
          "surface": [
           {
            "colorbar": {
             "outlinewidth": 0,
             "ticks": ""
            },
            "colorscale": [
             [
              0,
              "#0d0887"
             ],
             [
              0.1111111111111111,
              "#46039f"
             ],
             [
              0.2222222222222222,
              "#7201a8"
             ],
             [
              0.3333333333333333,
              "#9c179e"
             ],
             [
              0.4444444444444444,
              "#bd3786"
             ],
             [
              0.5555555555555556,
              "#d8576b"
             ],
             [
              0.6666666666666666,
              "#ed7953"
             ],
             [
              0.7777777777777778,
              "#fb9f3a"
             ],
             [
              0.8888888888888888,
              "#fdca26"
             ],
             [
              1,
              "#f0f921"
             ]
            ],
            "type": "surface"
           }
          ],
          "table": [
           {
            "cells": {
             "fill": {
              "color": "#EBF0F8"
             },
             "line": {
              "color": "white"
             }
            },
            "header": {
             "fill": {
              "color": "#C8D4E3"
             },
             "line": {
              "color": "white"
             }
            },
            "type": "table"
           }
          ]
         },
         "layout": {
          "annotationdefaults": {
           "arrowcolor": "#2a3f5f",
           "arrowhead": 0,
           "arrowwidth": 1
          },
          "autotypenumbers": "strict",
          "coloraxis": {
           "colorbar": {
            "outlinewidth": 0,
            "ticks": ""
           }
          },
          "colorscale": {
           "diverging": [
            [
             0,
             "#8e0152"
            ],
            [
             0.1,
             "#c51b7d"
            ],
            [
             0.2,
             "#de77ae"
            ],
            [
             0.3,
             "#f1b6da"
            ],
            [
             0.4,
             "#fde0ef"
            ],
            [
             0.5,
             "#f7f7f7"
            ],
            [
             0.6,
             "#e6f5d0"
            ],
            [
             0.7,
             "#b8e186"
            ],
            [
             0.8,
             "#7fbc41"
            ],
            [
             0.9,
             "#4d9221"
            ],
            [
             1,
             "#276419"
            ]
           ],
           "sequential": [
            [
             0,
             "#0d0887"
            ],
            [
             0.1111111111111111,
             "#46039f"
            ],
            [
             0.2222222222222222,
             "#7201a8"
            ],
            [
             0.3333333333333333,
             "#9c179e"
            ],
            [
             0.4444444444444444,
             "#bd3786"
            ],
            [
             0.5555555555555556,
             "#d8576b"
            ],
            [
             0.6666666666666666,
             "#ed7953"
            ],
            [
             0.7777777777777778,
             "#fb9f3a"
            ],
            [
             0.8888888888888888,
             "#fdca26"
            ],
            [
             1,
             "#f0f921"
            ]
           ],
           "sequentialminus": [
            [
             0,
             "#0d0887"
            ],
            [
             0.1111111111111111,
             "#46039f"
            ],
            [
             0.2222222222222222,
             "#7201a8"
            ],
            [
             0.3333333333333333,
             "#9c179e"
            ],
            [
             0.4444444444444444,
             "#bd3786"
            ],
            [
             0.5555555555555556,
             "#d8576b"
            ],
            [
             0.6666666666666666,
             "#ed7953"
            ],
            [
             0.7777777777777778,
             "#fb9f3a"
            ],
            [
             0.8888888888888888,
             "#fdca26"
            ],
            [
             1,
             "#f0f921"
            ]
           ]
          },
          "colorway": [
           "#636efa",
           "#EF553B",
           "#00cc96",
           "#ab63fa",
           "#FFA15A",
           "#19d3f3",
           "#FF6692",
           "#B6E880",
           "#FF97FF",
           "#FECB52"
          ],
          "font": {
           "color": "#2a3f5f"
          },
          "geo": {
           "bgcolor": "white",
           "lakecolor": "white",
           "landcolor": "#E5ECF6",
           "showlakes": true,
           "showland": true,
           "subunitcolor": "white"
          },
          "hoverlabel": {
           "align": "left"
          },
          "hovermode": "closest",
          "mapbox": {
           "style": "light"
          },
          "paper_bgcolor": "white",
          "plot_bgcolor": "#E5ECF6",
          "polar": {
           "angularaxis": {
            "gridcolor": "white",
            "linecolor": "white",
            "ticks": ""
           },
           "bgcolor": "#E5ECF6",
           "radialaxis": {
            "gridcolor": "white",
            "linecolor": "white",
            "ticks": ""
           }
          },
          "scene": {
           "xaxis": {
            "backgroundcolor": "#E5ECF6",
            "gridcolor": "white",
            "gridwidth": 2,
            "linecolor": "white",
            "showbackground": true,
            "ticks": "",
            "zerolinecolor": "white"
           },
           "yaxis": {
            "backgroundcolor": "#E5ECF6",
            "gridcolor": "white",
            "gridwidth": 2,
            "linecolor": "white",
            "showbackground": true,
            "ticks": "",
            "zerolinecolor": "white"
           },
           "zaxis": {
            "backgroundcolor": "#E5ECF6",
            "gridcolor": "white",
            "gridwidth": 2,
            "linecolor": "white",
            "showbackground": true,
            "ticks": "",
            "zerolinecolor": "white"
           }
          },
          "shapedefaults": {
           "line": {
            "color": "#2a3f5f"
           }
          },
          "ternary": {
           "aaxis": {
            "gridcolor": "white",
            "linecolor": "white",
            "ticks": ""
           },
           "baxis": {
            "gridcolor": "white",
            "linecolor": "white",
            "ticks": ""
           },
           "bgcolor": "#E5ECF6",
           "caxis": {
            "gridcolor": "white",
            "linecolor": "white",
            "ticks": ""
           }
          },
          "title": {
           "x": 0.05
          },
          "xaxis": {
           "automargin": true,
           "gridcolor": "white",
           "linecolor": "white",
           "ticks": "",
           "title": {
            "standoff": 15
           },
           "zerolinecolor": "white",
           "zerolinewidth": 2
          },
          "yaxis": {
           "automargin": true,
           "gridcolor": "white",
           "linecolor": "white",
           "ticks": "",
           "title": {
            "standoff": 15
           },
           "zerolinecolor": "white",
           "zerolinewidth": 2
          }
         }
        },
        "title": {
         "text": "Histograma de Precios"
        },
        "xaxis": {
         "anchor": "y",
         "domain": [
          0,
          1
         ],
         "title": {
          "text": "price"
         }
        },
        "yaxis": {
         "anchor": "x",
         "domain": [
          0,
          1
         ],
         "title": {
          "text": "count"
         }
        }
       }
      }
     },
     "metadata": {},
     "output_type": "display_data"
    },
    {
     "data": {
      "text/plain": [
       "<Figure size 800x600 with 0 Axes>"
      ]
     },
     "metadata": {},
     "output_type": "display_data"
    },
    {
     "data": {
      "image/png": "[encoded data removed]",
      "text/plain": [
       "<Figure size 640x480 with 1 Axes>"
      ]
     },
     "metadata": {},
     "output_type": "display_data"
    }
   ],
   "source": [
    "import plotly.express as px\n",
    "import numpy as np\n",
    "import pandas as pd\n",
    "from scipy import stats\n",
    "from statsmodels.graphics.gofplots import qqplot\n",
    "import matplotlib.pyplot as plt\n",
    "\n",
    "# Asumiendo que 'df_tourist' es tu DataFrame y 'price' es la columna que quieres evaluar\n",
    "data = df_cl['price'].dropna()\n",
    "\n",
    "# Histograma\n",
    "fig_hist = px.histogram(df_cl, x='price', title='Histograma de Precios')\n",
    "fig_hist.update_layout(paper_bgcolor=\"#D8F3DC\", plot_bgcolor=\"#D8F3DC\")\n",
    "fig_hist.show()\n",
    "\n",
    "# Gráfico Q-Q usando statsmodels\n",
    "plt.figure(figsize=(8, 6))\n",
    "\n",
    "qqplot(data, stats.norm, fit=True, line='q')\n",
    "\n",
    "plt.title('Gráfico Q-Q')\n",
    "\n",
    "plt.xlabel('Cuantiles Teóricos (Normal)')\n",
    "plt.ylabel('Cuantiles de la Muestra')\n",
    "\n",
    "plt.gca().set_facecolor('#D8F3DC')\n",
    "plt.gcf().set_facecolor('#D8F3DC')\n",
    "\n",
    "plt.show()"
   ]
  },
  {
   "cell_type": "markdown",
   "id": "92695fba",
   "metadata": {},
   "source": [
    "### Valor de correlación \n"
   ]
  },
  {
   "cell_type": "code",
   "execution_count": 10,
   "id": "68721e7e",
   "metadata": {},
   "outputs": [
    {
     "name": "stdout",
     "output_type": "stream",
     "text": [
      "Correlación de Spearman entre precio y review_scores_rating: 0.115\n",
      "Valor p (Spearman): 0.0000\n"
     ]
    }
   ],
   "source": [
    "from scipy.stats import spearmanr\n",
    "import pandas as pd\n",
    "\n",
    "# Elimina las filas donde alguna de las dos columnas tiene NaN\n",
    "df_cleaned = df_cl[['price', 'review_scores_rating']].dropna()\n",
    "\n",
    "if not df_cleaned.empty:\n",
    "    price_data = df_cleaned['price']\n",
    "    rating_data = df_cleaned['review_scores_rating']\n",
    "\n",
    "    correlation_spearman, p_value_spearman = spearmanr(price_data, rating_data)\n",
    "    print(f\"Correlación de Spearman entre precio y review_scores_rating: {correlation_spearman:.3f}\")\n",
    "    print(f\"Valor p (Spearman): {p_value_spearman:.4f}\")\n",
    "else:\n",
    "    print(\"No hay suficientes datos coincidentes para calcular la correlación de Spearman.\")"
   ]
  },
  {
   "cell_type": "markdown",
   "id": "cfa6a532",
   "metadata": {},
   "source": [
    "> Valor de correlación (Spearman ρ = 0.115)\n",
    "Este valor indica una relación positiva muy débil entre el precio y la puntuación de las valoraciones de los clientes. Es decir, en promedio, cuando el precio aumenta, la puntuación de las valoraciones tiende a subir ligeramente, pero la fuerza de esta relación es casi insignificante.\n",
    "\n",
    "> Valor p (p-value) = 0.0000\n",
    "Dado que p < 0.05, esta relación es estadísticamente significativa. Esto implica que la probabilidad de observar una correlación de esta magnitud (o mayor) por azar es prácticamente nula.\n",
    "\n",
    "- Análisis profesional:\n",
    "Aunque existe una correlación positiva estadísticamente significativa entre el precio y la puntuación de las valoraciones de los clientes, su magnitud es muy baja. Esto sugiere que el precio, por sí solo, no es un buen predictor de las valoraciones de los clientes. Otros factores deben tener una influencia mucho mayor en cómo los clientes valoran su experiencia.\n",
    "\n",
    "- Resumen de resultados:\n",
    "La prueba de correlación de Spearman entre el precio y la puntuación de las valoraciones reveló una relación positiva débil pero estadísticamente significativa (ρ = 0.115, p < 0.001). Si bien esta relación es detectable, su baja intensidad confirma que el precio no es el factor determinante principal de las valoraciones de los clientes. Para entender mejor qué impulsa las valoraciones, sería importante analizar otros factores relevantes."
   ]
  },
  {
   "cell_type": "markdown",
   "id": "34eb6d1d",
   "metadata": {},
   "source": [
    "### Análisis a nivel de ciudades"
   ]
  },
  {
   "cell_type": "markdown",
   "id": "2fcda69a",
   "metadata": {},
   "source": [
    "Para garantizar la fiabilidad de los resultados, solo se incluyeron en el análisis aquellas ciudades que contaban con al menos 30 alojamientos registrados. Este umbral de 30 se elige porque, en estadística, disponer de un mínimo de 30 muestras suele considerarse necesario para realizar análisis fiables. De esta forma, los resultados de correlación son más estables, precisos y menos sensibles a valores atípicos o dispersos. Las ciudades con menos de 30 datos fueron excluidas para evitar interpretaciones erróneas."
   ]
  },
  {
   "cell_type": "code",
   "execution_count": 11,
   "id": "b81bccd3",
   "metadata": {},
   "outputs": [
    {
     "data": {
      "application/vnd.microsoft.datawrangler.viewer.v0+json": {
       "columns": [
        {
         "name": "index",
         "rawType": "object",
         "type": "string"
        },
        {
         "name": "df",
         "rawType": "float64",
         "type": "float"
        },
        {
         "name": "sum_sq",
         "rawType": "float64",
         "type": "float"
        },
        {
         "name": "mean_sq",
         "rawType": "float64",
         "type": "float"
        },
        {
         "name": "F",
         "rawType": "float64",
         "type": "float"
        },
        {
         "name": "PR(>F)",
         "rawType": "float64",
         "type": "float"
        }
       ],
       "ref": "b9381938-5ce1-481d-ae5e-a1fd20371b2e",
       "rows": [
        [
         "C(city)",
         "7.0",
         "1062294308.0601722",
         "151756329.72288173",
         "183.68256197903952",
         "1.8730659485596327e-256"
        ],
        [
         "Residual",
         "9642.0",
         "7966104759.334743",
         "826188.0065686313",
         null,
         null
        ]
       ],
       "shape": {
        "columns": 5,
        "rows": 2
       }
      },
      "text/html": [
       "<div>\n",
       "<style scoped>\n",
       "    .dataframe tbody tr th:only-of-type {\n",
       "        vertical-align: middle;\n",
       "    }\n",
       "\n",
       "    .dataframe tbody tr th {\n",
       "        vertical-align: top;\n",
       "    }\n",
       "\n",
       "    .dataframe thead th {\n",
       "        text-align: right;\n",
       "    }\n",
       "</style>\n",
       "<table border=\"1\" class=\"dataframe\">\n",
       "  <thead>\n",
       "    <tr style=\"text-align: right;\">\n",
       "      <th></th>\n",
       "      <th>df</th>\n",
       "      <th>sum_sq</th>\n",
       "      <th>mean_sq</th>\n",
       "      <th>F</th>\n",
       "      <th>PR(&gt;F)</th>\n",
       "    </tr>\n",
       "  </thead>\n",
       "  <tbody>\n",
       "    <tr>\n",
       "      <th>C(city)</th>\n",
       "      <td>7.0</td>\n",
       "      <td>1.062294e+09</td>\n",
       "      <td>1.517563e+08</td>\n",
       "      <td>183.682562</td>\n",
       "      <td>1.873066e-256</td>\n",
       "    </tr>\n",
       "    <tr>\n",
       "      <th>Residual</th>\n",
       "      <td>9642.0</td>\n",
       "      <td>7.966105e+09</td>\n",
       "      <td>8.261880e+05</td>\n",
       "      <td>NaN</td>\n",
       "      <td>NaN</td>\n",
       "    </tr>\n",
       "  </tbody>\n",
       "</table>\n",
       "</div>"
      ],
      "text/plain": [
       "              df        sum_sq       mean_sq           F         PR(>F)\n",
       "C(city)      7.0  1.062294e+09  1.517563e+08  183.682562  1.873066e-256\n",
       "Residual  9642.0  7.966105e+09  8.261880e+05         NaN            NaN"
      ]
     },
     "execution_count": 11,
     "metadata": {},
     "output_type": "execute_result"
    }
   ],
   "source": [
    "import statsmodels.formula.api as smf\n",
    "from statsmodels.stats.anova import anova_lm\n",
    "import pandas as pd\n",
    "\n",
    "# Asegúrate de que 'df_cl' contenga las columnas 'price' y 'city'\n",
    "\n",
    "# Realiza el ANOVA\n",
    "model = smf.ols('price ~ C(city)', data=df_cl).fit()\n",
    "anova_table = anova_lm(model)\n",
    "\n",
    "anova_table"
   ]
  },
  {
   "cell_type": "markdown",
   "id": "4654118a",
   "metadata": {},
   "source": [
    "\n",
    "df (degrees of freedom):\n",
    "\n",
    "C(city) tiene 7 grados de libertad. Esto se debe a que hay 8 categorías de ciudades y los grados de libertad para un factor categórico son el número de categorías menos uno (8 - 1 = 7).\n",
    "Residual tiene 9642 grados de libertad. Este es el número total de observaciones menos el número de grupos (aproximadamente el tamaño total de tu muestra menos 8).\n",
    "sum_sq (sum of squares):\n",
    "\n",
    "Para C(city) es de ∼1.06×10 \n",
    "9\n",
    " . Esta es la variabilidad total entre las medias de los precios de las diferentes ciudades.\n",
    "Para Residual es de ∼7.97×10 \n",
    "9\n",
    " . Esta es la variabilidad dentro de cada grupo de ciudades (la variabilidad de los precios dentro de la misma ciudad).\n",
    "mean_sq (mean square):\n",
    "\n",
    "Para C(city) es ∼1.52×10 \n",
    "8\n",
    " . Se calcula dividiendo sum_sq por sus grados de libertad (1.06×10 \n",
    "9\n",
    " /7). Representa la varianza promedio entre las medias de los grupos.\n",
    "Para Residual es ∼8.26×10 \n",
    "5\n",
    " . Se calcula dividiendo sum_sq por sus grados de libertad (7.97×10 \n",
    "9\n",
    " /9642). Representa la varianza promedio dentro de los grupos.\n",
    "F:\n",
    "\n",
    "El valor F es 183.68. Se calcula dividiendo el mean_sq de C(city) por el mean_sq del Residual (1.52×10 \n",
    "8\n",
    " /8.26×10 \n",
    "5\n",
    " ). Este estadístico de prueba nos indica si la varianza entre las medias de los grupos es significativamente mayor que la varianza dentro de los grupos. Un valor F alto sugiere que las medias de los grupos son diferentes.\n",
    "PR(>F) (p-value):\n",
    "\n",
    "El valor p es ∼1.87×10 \n",
    "−256\n",
    " , que es un número extremadamente pequeño (prácticamente cero). Este valor p se compara con un nivel de significancia (comúnmente 0.05).\n",
    "Interpretación:\n",
    "\n",
    "Dado que el valor p (1.87×10 \n",
    "−256\n",
    " ) es mucho menor que 0.05, rechazamos la hipótesis nula. La hipótesis nula en ANOVA es que no hay diferencias significativas entre las medias de los precios de las diferentes ciudades.\n",
    "\n",
    "Por lo tanto, la conclusión es que existe una diferencia estadísticamente significativa en el precio promedio entre al menos dos de las ciudades en tu conjunto de datos.\n",
    "\n",
    "El valor F alto también apoya esta conclusión, indicando que la variabilidad entre las medias de los precios de las ciudades es mucho mayor que la variabilidad de los precios dentro de cada ciudad."
   ]
  },
  {
   "cell_type": "code",
   "execution_count": 12,
   "id": "f5f92df2",
   "metadata": {},
   "outputs": [
    {
     "name": "stdout",
     "output_type": "stream",
     "text": [
      "\n",
      "--- Diferencias Significativas ---\n",
      "       group1    group2  meandiff   p-adj      lower      upper  reject\n",
      "0   barcelona    girona  364.8426  0.0000   275.9292   453.7561    True\n",
      "3   barcelona  mallorca  810.4478  0.0000   723.3326   897.5630    True\n",
      "4   barcelona   menorca  808.2867  0.0000   614.3219  1002.2515    True\n",
      "6   barcelona  valencia -173.1364  0.0020  -305.7770   -40.4959    True\n",
      "7      girona    madrid -408.9633  0.0000  -502.0822  -315.8445    True\n",
      "8      girona    malaga -450.0370  0.0000  -592.0875  -307.9865    True\n",
      "9      girona  mallorca  445.6052  0.0000   346.0582   545.1521    True\n",
      "10     girona   menorca  443.4441  0.0000   243.5869   643.3012    True\n",
      "11     girona   sevilla -255.7774  0.0000  -398.8973  -112.6575    True\n",
      "12     girona  valencia -537.9791  0.0000  -679.0962  -396.8620    True\n",
      "14     madrid  mallorca  854.5685  0.0000   763.1651   945.9719    True\n",
      "15     madrid   menorca  852.4074  0.0000   656.4792  1048.3357    True\n",
      "16     madrid   sevilla  153.1859  0.0169    15.6058   290.7661    True\n",
      "18     malaga  mallorca  895.6421  0.0000   754.7102  1036.5740    True\n",
      "19     malaga   menorca  893.4811  0.0000   670.1090  1116.8531    True\n",
      "20     malaga   sevilla  194.2596  0.0169    19.8018   368.7174    True\n",
      "23   mallorca   sevilla -701.3826  0.0000  -843.3923  -559.3728    True\n",
      "24   mallorca  valencia -983.5842  0.0000 -1123.5753  -843.5932    True\n",
      "25    menorca   sevilla -699.2215  0.0000  -923.2752  -475.1678    True\n",
      "26    menorca  valencia -981.4232  0.0000 -1204.2029  -758.6435    True\n",
      "27    sevilla  valencia -282.2017  0.0000  -455.9003  -108.5030    True\n"
     ]
    }
   ],
   "source": [
    "import pandas as pd\n",
    "from statsmodels.stats.multicomp import pairwise_tukeyhsd\n",
    "\n",
    "# Asumiendo que 'df_cl' ya está cargado\n",
    "\n",
    "# Realizamos la prueba de Tukey\n",
    "m_comp = pairwise_tukeyhsd(endog=df_cl['price'], groups=df_cl['city'], alpha=0.05)\n",
    "\n",
    "# Convertimos el resultado a un DataFrame de pandas para facilitar el filtrado\n",
    "df_tukey = pd.DataFrame(data=m_comp._results_table.data[1:], columns=m_comp._results_table.data[0])\n",
    "\n",
    "# Tabla de diferencias significativas\n",
    "df_significativas = df_tukey[df_tukey['reject'] == True]\n",
    "print(\"\\n--- Diferencias Significativas ---\")\n",
    "print(df_significativas)"
   ]
  },
  {
   "cell_type": "code",
   "execution_count": 13,
   "id": "f3a0b38d",
   "metadata": {},
   "outputs": [
    {
     "name": "stdout",
     "output_type": "stream",
     "text": [
      "\n",
      "--- Diferencias No Significativas ---\n",
      "       group1    group2  meandiff   p-adj     lower     upper  reject\n",
      "1   barcelona    madrid  -44.1207  0.7014 -123.8113   35.5699   False\n",
      "2   barcelona    malaga  -85.1943  0.5282 -218.8275   48.4388   False\n",
      "5   barcelona   sevilla  109.0652  0.2160  -25.7041  243.8346   False\n",
      "13     madrid    malaga  -41.0736  0.9850 -177.5410   95.3937   False\n",
      "17     madrid  valencia -129.0157  0.0754 -264.5113    6.4798   False\n",
      "21     malaga  valencia  -87.9421  0.7842 -260.7607   84.8764   False\n",
      "22   mallorca   menorca   -2.1611  1.0000 -201.2247  196.9026   False\n"
     ]
    }
   ],
   "source": [
    "# Tabla de diferencias no significativas\n",
    "df_no_significativas = df_tukey[df_tukey['reject'] == False]\n",
    "print(\"\\n--- Diferencias No Significativas ---\")\n",
    "print(df_no_significativas)"
   ]
  },
  {
   "cell_type": "code",
   "execution_count": 14,
   "id": "e967e648",
   "metadata": {},
   "outputs": [
    {
     "ename": "NameError",
     "evalue": "name 'city_corrs' is not defined",
     "output_type": "error",
     "traceback": [
      "\u001b[31m---------------------------------------------------------------------------\u001b[39m",
      "\u001b[31mNameError\u001b[39m                                 Traceback (most recent call last)",
      "\u001b[36mCell\u001b[39m\u001b[36m \u001b[39m\u001b[32mIn[14]\u001b[39m\u001b[32m, line 4\u001b[39m\n\u001b[32m      1\u001b[39m \u001b[38;5;28;01mimport\u001b[39;00m\u001b[38;5;250m \u001b[39m\u001b[34;01mplotly\u001b[39;00m\u001b[34;01m.\u001b[39;00m\u001b[34;01mexpress\u001b[39;00m\u001b[38;5;250m \u001b[39m\u001b[38;5;28;01mas\u001b[39;00m\u001b[38;5;250m \u001b[39m\u001b[34;01mpx\u001b[39;00m\n\u001b[32m      3\u001b[39m \u001b[38;5;66;03m# Ordenar los datos por la correlación de Spearman\u001b[39;00m\n\u001b[32m----> \u001b[39m\u001b[32m4\u001b[39m city_corrs_sorted = \u001b[43mcity_corrs\u001b[49m.sort_values(\u001b[33m'\u001b[39m\u001b[33mspearman_corr\u001b[39m\u001b[33m'\u001b[39m, ascending=\u001b[38;5;28;01mFalse\u001b[39;00m)\n\u001b[32m      6\u001b[39m \u001b[38;5;66;03m# Crear gráfico de barras horizontal con un color fijo\u001b[39;00m\n\u001b[32m      7\u001b[39m fig = px.bar(\n\u001b[32m      8\u001b[39m     city_corrs_sorted,\n\u001b[32m      9\u001b[39m     x=\u001b[33m'\u001b[39m\u001b[33mspearman_corr\u001b[39m\u001b[33m'\u001b[39m,\n\u001b[32m   (...)\u001b[39m\u001b[32m     14\u001b[39m     title=\u001b[33m'\u001b[39m\u001b[33mComparación de la correlación entre precio y satisfacción del cliente entre ciudades\u001b[39m\u001b[33m'\u001b[39m\n\u001b[32m     15\u001b[39m )\n",
      "\u001b[31mNameError\u001b[39m: name 'city_corrs' is not defined"
     ]
    }
   ],
   "source": [
    "import plotly.express as px\n",
    "\n",
    "# Ordenar los datos por la correlación de Spearman\n",
    "city_corrs_sorted = city_corrs.sort_values('spearman_corr', ascending=False)\n",
    "\n",
    "# Crear gráfico de barras horizontal con un color fijo\n",
    "fig = px.bar(\n",
    "    city_corrs_sorted,\n",
    "    x='spearman_corr',\n",
    "    y='city',\n",
    "    orientation='h',\n",
    "    text='spearman_corr',\n",
    "    color_discrete_sequence=['#2D6A4F'],  # todas las barras en verde oscuro\n",
    "    title='Comparación de la correlación entre precio y satisfacción del cliente entre ciudades'\n",
    ")\n",
    "\n",
    "# Personalizar apariencia\n",
    "fig.update_traces(\n",
    "    marker_line_color='black',\n",
    "    marker_line_width=1,\n",
    "    texttemplate='%{text:.2f}'\n",
    ")\n",
    "fig.update_layout(\n",
    "    plot_bgcolor='#D8F3DC',\n",
    "    paper_bgcolor='#D8F3DC',\n",
    "    xaxis_title='Coeficiente de correlación de Spearman entre precio y satisfacción',\n",
    "    yaxis_title='Ciudad',\n",
    "    title_font_size=20,\n",
    "    font=dict(color='black', size=14),\n",
    "    xaxis=dict(showgrid=True, gridcolor='lightgray'),\n",
    "    yaxis=dict(showgrid=False)\n",
    ")\n",
    "\n",
    "# Línea vertical en x=0\n",
    "fig.add_vline(x=0, line_dash=\"dash\", line_color=\"gray\")\n",
    "\n",
    "fig.show()\n"
   ]
  },
  {
   "cell_type": "code",
   "execution_count": null,
   "id": "1163f57e",
   "metadata": {},
   "outputs": [
    {
     "data": {
      "application/vnd.plotly.v1+json": {
       "config": {
        "plotlyServerURL": "https://plot.ly"
       },
       "data": [
        {
         "hovertemplate": "valor_por_dinero=%{marker.color}<br>city=%{y}<extra></extra>",
         "legendgroup": "",
         "marker": {
          "color": {
           "bdata": "b60hvaQqzD/izYddpq7JP0DNGt4cUsg/Y0OnctvGxj/lWz8QfoHEP2eFBPv3m7w/U3MoDTZ7uT+6pMkQWVC2Pw==",
           "dtype": "f8"
          },
          "coloraxis": "coloraxis",
          "line": {
           "color": "black",
           "width": 1
          },
          "pattern": {
           "shape": ""
          }
         },
         "name": "",
         "orientation": "h",
         "showlegend": false,
         "text": {
          "bdata": "b60hvaQqzD/izYddpq7JP0DNGt4cUsg/Y0OnctvGxj/lWz8QfoHEP2eFBPv3m7w/U3MoDTZ7uT+6pMkQWVC2Pw==",
          "dtype": "f8"
         },
         "textposition": "auto",
         "texttemplate": "%{text:.2f}",
         "type": "bar",
         "x": {
          "bdata": "b60hvaQqzD/izYddpq7JP0DNGt4cUsg/Y0OnctvGxj/lWz8QfoHEP2eFBPv3m7w/U3MoDTZ7uT+6pMkQWVC2Pw==",
          "dtype": "f8"
         },
         "xaxis": "x",
         "y": [
          "valencia",
          "madrid",
          "barcelona",
          "malaga",
          "sevilla",
          "girona",
          "menorca",
          "mallorca"
         ],
         "yaxis": "y"
        }
       ],
       "layout": {
        "barmode": "relative",
        "coloraxis": {
         "colorbar": {
          "title": {
           "text": "valor_por_dinero"
          }
         },
         "colorscale": [
          [
           0,
           "#D8F3DC"
          ],
          [
           0.5,
           "#8BAE3F"
          ],
          [
           1,
           "#2D6A4F"
          ]
         ],
         "showscale": false
        },
        "font": {
         "size": 14
        },
        "legend": {
         "tracegroupgap": 0
        },
        "paper_bgcolor": "#D8F3DC",
        "plot_bgcolor": "#D8F3DC",
        "template": {
         "data": {
          "bar": [
           {
            "error_x": {
             "color": "#2a3f5f"
            },
            "error_y": {
             "color": "#2a3f5f"
            },
            "marker": {
             "line": {
              "color": "#E5ECF6",
              "width": 0.5
             },
             "pattern": {
              "fillmode": "overlay",
              "size": 10,
              "solidity": 0.2
             }
            },
            "type": "bar"
           }
          ],
          "barpolar": [
           {
            "marker": {
             "line": {
              "color": "#E5ECF6",
              "width": 0.5
             },
             "pattern": {
              "fillmode": "overlay",
              "size": 10,
              "solidity": 0.2
             }
            },
            "type": "barpolar"
           }
          ],
          "carpet": [
           {
            "aaxis": {
             "endlinecolor": "#2a3f5f",
             "gridcolor": "white",
             "linecolor": "white",
             "minorgridcolor": "white",
             "startlinecolor": "#2a3f5f"
            },
            "baxis": {
             "endlinecolor": "#2a3f5f",
             "gridcolor": "white",
             "linecolor": "white",
             "minorgridcolor": "white",
             "startlinecolor": "#2a3f5f"
            },
            "type": "carpet"
           }
          ],
          "choropleth": [
           {
            "colorbar": {
             "outlinewidth": 0,
             "ticks": ""
            },
            "type": "choropleth"
           }
          ],
          "contour": [
           {
            "colorbar": {
             "outlinewidth": 0,
             "ticks": ""
            },
            "colorscale": [
             [
              0,
              "#0d0887"
             ],
             [
              0.1111111111111111,
              "#46039f"
             ],
             [
              0.2222222222222222,
              "#7201a8"
             ],
             [
              0.3333333333333333,
              "#9c179e"
             ],
             [
              0.4444444444444444,
              "#bd3786"
             ],
             [
              0.5555555555555556,
              "#d8576b"
             ],
             [
              0.6666666666666666,
              "#ed7953"
             ],
             [
              0.7777777777777778,
              "#fb9f3a"
             ],
             [
              0.8888888888888888,
              "#fdca26"
             ],
             [
              1,
              "#f0f921"
             ]
            ],
            "type": "contour"
           }
          ],
          "contourcarpet": [
           {
            "colorbar": {
             "outlinewidth": 0,
             "ticks": ""
            },
            "type": "contourcarpet"
           }
          ],
          "heatmap": [
           {
            "colorbar": {
             "outlinewidth": 0,
             "ticks": ""
            },
            "colorscale": [
             [
              0,
              "#0d0887"
             ],
             [
              0.1111111111111111,
              "#46039f"
             ],
             [
              0.2222222222222222,
              "#7201a8"
             ],
             [
              0.3333333333333333,
              "#9c179e"
             ],
             [
              0.4444444444444444,
              "#bd3786"
             ],
             [
              0.5555555555555556,
              "#d8576b"
             ],
             [
              0.6666666666666666,
              "#ed7953"
             ],
             [
              0.7777777777777778,
              "#fb9f3a"
             ],
             [
              0.8888888888888888,
              "#fdca26"
             ],
             [
              1,
              "#f0f921"
             ]
            ],
            "type": "heatmap"
           }
          ],
          "histogram": [
           {
            "marker": {
             "pattern": {
              "fillmode": "overlay",
              "size": 10,
              "solidity": 0.2
             }
            },
            "type": "histogram"
           }
          ],
          "histogram2d": [
           {
            "colorbar": {
             "outlinewidth": 0,
             "ticks": ""
            },
            "colorscale": [
             [
              0,
              "#0d0887"
             ],
             [
              0.1111111111111111,
              "#46039f"
             ],
             [
              0.2222222222222222,
              "#7201a8"
             ],
             [
              0.3333333333333333,
              "#9c179e"
             ],
             [
              0.4444444444444444,
              "#bd3786"
             ],
             [
              0.5555555555555556,
              "#d8576b"
             ],
             [
              0.6666666666666666,
              "#ed7953"
             ],
             [
              0.7777777777777778,
              "#fb9f3a"
             ],
             [
              0.8888888888888888,
              "#fdca26"
             ],
             [
              1,
              "#f0f921"
             ]
            ],
            "type": "histogram2d"
           }
          ],
          "histogram2dcontour": [
           {
            "colorbar": {
             "outlinewidth": 0,
             "ticks": ""
            },
            "colorscale": [
             [
              0,
              "#0d0887"
             ],
             [
              0.1111111111111111,
              "#46039f"
             ],
             [
              0.2222222222222222,
              "#7201a8"
             ],
             [
              0.3333333333333333,
              "#9c179e"
             ],
             [
              0.4444444444444444,
              "#bd3786"
             ],
             [
              0.5555555555555556,
              "#d8576b"
             ],
             [
              0.6666666666666666,
              "#ed7953"
             ],
             [
              0.7777777777777778,
              "#fb9f3a"
             ],
             [
              0.8888888888888888,
              "#fdca26"
             ],
             [
              1,
              "#f0f921"
             ]
            ],
            "type": "histogram2dcontour"
           }
          ],
          "mesh3d": [
           {
            "colorbar": {
             "outlinewidth": 0,
             "ticks": ""
            },
            "type": "mesh3d"
           }
          ],
          "parcoords": [
           {
            "line": {
             "colorbar": {
              "outlinewidth": 0,
              "ticks": ""
             }
            },
            "type": "parcoords"
           }
          ],
          "pie": [
           {
            "automargin": true,
            "type": "pie"
           }
          ],
          "scatter": [
           {
            "fillpattern": {
             "fillmode": "overlay",
             "size": 10,
             "solidity": 0.2
            },
            "type": "scatter"
           }
          ],
          "scatter3d": [
           {
            "line": {
             "colorbar": {
              "outlinewidth": 0,
              "ticks": ""
             }
            },
            "marker": {
             "colorbar": {
              "outlinewidth": 0,
              "ticks": ""
             }
            },
            "type": "scatter3d"
           }
          ],
          "scattercarpet": [
           {
            "marker": {
             "colorbar": {
              "outlinewidth": 0,
              "ticks": ""
             }
            },
            "type": "scattercarpet"
           }
          ],
          "scattergeo": [
           {
            "marker": {
             "colorbar": {
              "outlinewidth": 0,
              "ticks": ""
             }
            },
            "type": "scattergeo"
           }
          ],
          "scattergl": [
           {
            "marker": {
             "colorbar": {
              "outlinewidth": 0,
              "ticks": ""
             }
            },
            "type": "scattergl"
           }
          ],
          "scattermap": [
           {
            "marker": {
             "colorbar": {
              "outlinewidth": 0,
              "ticks": ""
             }
            },
            "type": "scattermap"
           }
          ],
          "scattermapbox": [
           {
            "marker": {
             "colorbar": {
              "outlinewidth": 0,
              "ticks": ""
             }
            },
            "type": "scattermapbox"
           }
          ],
          "scatterpolar": [
           {
            "marker": {
             "colorbar": {
              "outlinewidth": 0,
              "ticks": ""
             }
            },
            "type": "scatterpolar"
           }
          ],
          "scatterpolargl": [
           {
            "marker": {
             "colorbar": {
              "outlinewidth": 0,
              "ticks": ""
             }
            },
            "type": "scatterpolargl"
           }
          ],
          "scatterternary": [
           {
            "marker": {
             "colorbar": {
              "outlinewidth": 0,
              "ticks": ""
             }
            },
            "type": "scatterternary"
           }
          ],
          "surface": [
           {
            "colorbar": {
             "outlinewidth": 0,
             "ticks": ""
            },
            "colorscale": [
             [
              0,
              "#0d0887"
             ],
             [
              0.1111111111111111,
              "#46039f"
             ],
             [
              0.2222222222222222,
              "#7201a8"
             ],
             [
              0.3333333333333333,
              "#9c179e"
             ],
             [
              0.4444444444444444,
              "#bd3786"
             ],
             [
              0.5555555555555556,
              "#d8576b"
             ],
             [
              0.6666666666666666,
              "#ed7953"
             ],
             [
              0.7777777777777778,
              "#fb9f3a"
             ],
             [
              0.8888888888888888,
              "#fdca26"
             ],
             [
              1,
              "#f0f921"
             ]
            ],
            "type": "surface"
           }
          ],
          "table": [
           {
            "cells": {
             "fill": {
              "color": "#EBF0F8"
             },
             "line": {
              "color": "white"
             }
            },
            "header": {
             "fill": {
              "color": "#C8D4E3"
             },
             "line": {
              "color": "white"
             }
            },
            "type": "table"
           }
          ]
         },
         "layout": {
          "annotationdefaults": {
           "arrowcolor": "#2a3f5f",
           "arrowhead": 0,
           "arrowwidth": 1
          },
          "autotypenumbers": "strict",
          "coloraxis": {
           "colorbar": {
            "outlinewidth": 0,
            "ticks": ""
           }
          },
          "colorscale": {
           "diverging": [
            [
             0,
             "#8e0152"
            ],
            [
             0.1,
             "#c51b7d"
            ],
            [
             0.2,
             "#de77ae"
            ],
            [
             0.3,
             "#f1b6da"
            ],
            [
             0.4,
             "#fde0ef"
            ],
            [
             0.5,
             "#f7f7f7"
            ],
            [
             0.6,
             "#e6f5d0"
            ],
            [
             0.7,
             "#b8e186"
            ],
            [
             0.8,
             "#7fbc41"
            ],
            [
             0.9,
             "#4d9221"
            ],
            [
             1,
             "#276419"
            ]
           ],
           "sequential": [
            [
             0,
             "#0d0887"
            ],
            [
             0.1111111111111111,
             "#46039f"
            ],
            [
             0.2222222222222222,
             "#7201a8"
            ],
            [
             0.3333333333333333,
             "#9c179e"
            ],
            [
             0.4444444444444444,
             "#bd3786"
            ],
            [
             0.5555555555555556,
             "#d8576b"
            ],
            [
             0.6666666666666666,
             "#ed7953"
            ],
            [
             0.7777777777777778,
             "#fb9f3a"
            ],
            [
             0.8888888888888888,
             "#fdca26"
            ],
            [
             1,
             "#f0f921"
            ]
           ],
           "sequentialminus": [
            [
             0,
             "#0d0887"
            ],
            [
             0.1111111111111111,
             "#46039f"
            ],
            [
             0.2222222222222222,
             "#7201a8"
            ],
            [
             0.3333333333333333,
             "#9c179e"
            ],
            [
             0.4444444444444444,
             "#bd3786"
            ],
            [
             0.5555555555555556,
             "#d8576b"
            ],
            [
             0.6666666666666666,
             "#ed7953"
            ],
            [
             0.7777777777777778,
             "#fb9f3a"
            ],
            [
             0.8888888888888888,
             "#fdca26"
            ],
            [
             1,
             "#f0f921"
            ]
           ]
          },
          "colorway": [
           "#636efa",
           "#EF553B",
           "#00cc96",
           "#ab63fa",
           "#FFA15A",
           "#19d3f3",
           "#FF6692",
           "#B6E880",
           "#FF97FF",
           "#FECB52"
          ],
          "font": {
           "color": "#2a3f5f"
          },
          "geo": {
           "bgcolor": "white",
           "lakecolor": "white",
           "landcolor": "#E5ECF6",
           "showlakes": true,
           "showland": true,
           "subunitcolor": "white"
          },
          "hoverlabel": {
           "align": "left"
          },
          "hovermode": "closest",
          "mapbox": {
           "style": "light"
          },
          "paper_bgcolor": "white",
          "plot_bgcolor": "#E5ECF6",
          "polar": {
           "angularaxis": {
            "gridcolor": "white",
            "linecolor": "white",
            "ticks": ""
           },
           "bgcolor": "#E5ECF6",
           "radialaxis": {
            "gridcolor": "white",
            "linecolor": "white",
            "ticks": ""
           }
          },
          "scene": {
           "xaxis": {
            "backgroundcolor": "#E5ECF6",
            "gridcolor": "white",
            "gridwidth": 2,
            "linecolor": "white",
            "showbackground": true,
            "ticks": "",
            "zerolinecolor": "white"
           },
           "yaxis": {
            "backgroundcolor": "#E5ECF6",
            "gridcolor": "white",
            "gridwidth": 2,
            "linecolor": "white",
            "showbackground": true,
            "ticks": "",
            "zerolinecolor": "white"
           },
           "zaxis": {
            "backgroundcolor": "#E5ECF6",
            "gridcolor": "white",
            "gridwidth": 2,
            "linecolor": "white",
            "showbackground": true,
            "ticks": "",
            "zerolinecolor": "white"
           }
          },
          "shapedefaults": {
           "line": {
            "color": "#2a3f5f"
           }
          },
          "ternary": {
           "aaxis": {
            "gridcolor": "white",
            "linecolor": "white",
            "ticks": ""
           },
           "baxis": {
            "gridcolor": "white",
            "linecolor": "white",
            "ticks": ""
           },
           "bgcolor": "#E5ECF6",
           "caxis": {
            "gridcolor": "white",
            "linecolor": "white",
            "ticks": ""
           }
          },
          "title": {
           "x": 0.05
          },
          "xaxis": {
           "automargin": true,
           "gridcolor": "white",
           "linecolor": "white",
           "ticks": "",
           "title": {
            "standoff": 15
           },
           "zerolinecolor": "white",
           "zerolinewidth": 2
          },
          "yaxis": {
           "automargin": true,
           "gridcolor": "white",
           "linecolor": "white",
           "ticks": "",
           "title": {
            "standoff": 15
           },
           "zerolinecolor": "white",
           "zerolinewidth": 2
          }
         }
        },
        "title": {
         "text": "Comparación del índice valor por dinero en diferentes ciudades"
        },
        "xaxis": {
         "anchor": "y",
         "domain": [
          0,
          1
         ],
         "title": {
          "text": "Índice valor por dinero (satisfacción / precio)"
         }
        },
        "yaxis": {
         "anchor": "x",
         "domain": [
          0,
          1
         ],
         "title": {
          "text": "Ciudad"
         }
        }
       }
      }
     },
     "metadata": {},
     "output_type": "display_data"
    }
   ],
   "source": [
    "## Visualización del índice \"valor por dinero\" promedio por ciudad (satisfacción relativa al precio)\n",
    "\n",
    "import pandas as pd\n",
    "import plotly.express as px\n",
    "\n",
    "# Filtrar solo filas con puntuación y precio no nulos\n",
    "df_filtrado = df_tourist[\n",
    "    df_tourist['review_scores_rating'].notna() &\n",
    "    df_tourist['price'].notna()\n",
    "].copy()\n",
    "\n",
    "# Definir el índice valor por dinero\n",
    "df_filtrado['valor_por_dinero'] = (\n",
    "    df_filtrado['review_scores_rating'] / df_filtrado['price']\n",
    ")\n",
    "\n",
    "# Calcular el promedio del índice por ciudad\n",
    "valor_por_ciudad = (\n",
    "    df_filtrado\n",
    "    .groupby('city')['valor_por_dinero']\n",
    "    .mean()\n",
    "    .reset_index()\n",
    "    .sort_values(by='valor_por_dinero', ascending=False)\n",
    ")\n",
    "\n",
    "# Crear gráfico de barras con Plotly y colores personalizados\n",
    "fig = px.bar(\n",
    "    valor_por_ciudad,\n",
    "    x='valor_por_dinero',\n",
    "    y='city',\n",
    "    orientation='h',\n",
    "    text='valor_por_dinero',\n",
    "    color='valor_por_dinero',\n",
    "    color_continuous_scale=[\n",
    "        [0,'#D8F3DC'],\n",
    "        [0.5, '#8BAE3F'],\n",
    "        [1, '#2D6A4F' ]\n",
    "    ],\n",
    "    title='Comparación del índice valor por dinero en diferentes ciudades'\n",
    ")\n",
    "\n",
    "# Ajustes estéticos\n",
    "fig.update_traces(marker_line_color='black', marker_line_width=1, texttemplate='%{text:.2f}')\n",
    "fig.update_layout(\n",
    "    plot_bgcolor='#D8F3DC',\n",
    "    paper_bgcolor='#D8F3DC',\n",
    "    xaxis_title='Índice valor por dinero (satisfacción / precio)',\n",
    "    yaxis_title='Ciudad',\n",
    "    font=dict(size=14),\n",
    "    coloraxis_showscale=False  # Oculta la barra de escala de color\n",
    ")\n",
    "\n",
    "fig.show()"
   ]
  },
  {
   "cell_type": "code",
   "execution_count": null,
   "id": "989e21d2",
   "metadata": {},
   "outputs": [
    {
     "data": {
      "application/vnd.plotly.v1+json": {
       "config": {
        "plotlyServerURL": "https://plot.ly"
       },
       "data": [
        {
         "hovertemplate": "room_type=Entire home/apt<br>valor_por_dinero=%{x}<br>city=%{y}<extra></extra>",
         "legendgroup": "Entire home/apt",
         "marker": {
          "color": "#1B4332",
          "pattern": {
           "shape": ""
          }
         },
         "name": "Entire home/apt",
         "orientation": "h",
         "showlegend": true,
         "textposition": "auto",
         "type": "bar",
         "x": {
          "bdata": "kU2UMZkJuj+uJb/ALOy6P5t73zaj+r8/QBvIsXYYwj+Fd2h1FT6zPwZB95OFwrc/T89ptX7Yvz9LUJzd6nHCPw==",
          "dtype": "f8"
         },
         "xaxis": "x",
         "y": [
          "barcelona",
          "girona",
          "madrid",
          "malaga",
          "mallorca",
          "menorca",
          "sevilla",
          "valencia"
         ],
         "yaxis": "y"
        },
        {
         "hovertemplate": "room_type=Hotel room<br>valor_por_dinero=%{x}<br>city=%{y}<extra></extra>",
         "legendgroup": "Hotel room",
         "marker": {
          "color": "#2D6A4F",
          "pattern": {
           "shape": ""
          }
         },
         "name": "Hotel room",
         "orientation": "h",
         "showlegend": true,
         "textposition": "auto",
         "type": "bar",
         "x": {
          "bdata": "D5TX//B6wD9tZewRgv7HP9fI482HaME/6laTdyOdwz+0BxMr3dKwPwAAAAAAAAAA8zvdh5osxD/si0qIsVHDPw==",
          "dtype": "f8"
         },
         "xaxis": "x",
         "y": [
          "barcelona",
          "girona",
          "madrid",
          "malaga",
          "mallorca",
          "menorca",
          "sevilla",
          "valencia"
         ],
         "yaxis": "y"
        },
        {
         "hovertemplate": "room_type=Private room<br>valor_por_dinero=%{x}<br>city=%{y}<extra></extra>",
         "legendgroup": "Private room",
         "marker": {
          "color": "#52B788",
          "pattern": {
           "shape": ""
          }
         },
         "name": "Private room",
         "orientation": "h",
         "showlegend": true,
         "textposition": "auto",
         "type": "bar",
         "x": {
          "bdata": "3xaosdTQ0D9NI7AslFnKPy+gAygnV9Q/USA4993C1D/GtbbuYOPJP9slrpEEQ8U/QfSasKf00j9iW0Pyl/PYPw==",
          "dtype": "f8"
         },
         "xaxis": "x",
         "y": [
          "barcelona",
          "girona",
          "madrid",
          "malaga",
          "mallorca",
          "menorca",
          "sevilla",
          "valencia"
         ],
         "yaxis": "y"
        },
        {
         "hovertemplate": "room_type=Shared room<br>valor_por_dinero=%{x}<br>city=%{y}<extra></extra>",
         "legendgroup": "Shared room",
         "marker": {
          "color": "#8BAE3F",
          "pattern": {
           "shape": ""
          }
         },
         "name": "Shared room",
         "orientation": "h",
         "showlegend": true,
         "textposition": "auto",
         "type": "bar",
         "x": {
          "bdata": "48UOs5Uj2j8OdNpApw3kP0yHCQgo1Ng/+mlskwMG5T9S+uncFem/PwAAAAAAAAAAERERERER6T+RWivyR0fgPw==",
          "dtype": "f8"
         },
         "xaxis": "x",
         "y": [
          "barcelona",
          "girona",
          "madrid",
          "malaga",
          "mallorca",
          "menorca",
          "sevilla",
          "valencia"
         ],
         "yaxis": "y"
        }
       ],
       "layout": {
        "barmode": "stack",
        "font": {
         "size": 14
        },
        "height": 600,
        "legend": {
         "title": {
          "text": "Tipo de habitación"
         },
         "tracegroupgap": 0
        },
        "paper_bgcolor": "#D8F3DC",
        "plot_bgcolor": "#D8F3DC",
        "template": {
         "data": {
          "bar": [
           {
            "error_x": {
             "color": "#2a3f5f"
            },
            "error_y": {
             "color": "#2a3f5f"
            },
            "marker": {
             "line": {
              "color": "#E5ECF6",
              "width": 0.5
             },
             "pattern": {
              "fillmode": "overlay",
              "size": 10,
              "solidity": 0.2
             }
            },
            "type": "bar"
           }
          ],
          "barpolar": [
           {
            "marker": {
             "line": {
              "color": "#E5ECF6",
              "width": 0.5
             },
             "pattern": {
              "fillmode": "overlay",
              "size": 10,
              "solidity": 0.2
             }
            },
            "type": "barpolar"
           }
          ],
          "carpet": [
           {
            "aaxis": {
             "endlinecolor": "#2a3f5f",
             "gridcolor": "white",
             "linecolor": "white",
             "minorgridcolor": "white",
             "startlinecolor": "#2a3f5f"
            },
            "baxis": {
             "endlinecolor": "#2a3f5f",
             "gridcolor": "white",
             "linecolor": "white",
             "minorgridcolor": "white",
             "startlinecolor": "#2a3f5f"
            },
            "type": "carpet"
           }
          ],
          "choropleth": [
           {
            "colorbar": {
             "outlinewidth": 0,
             "ticks": ""
            },
            "type": "choropleth"
           }
          ],
          "contour": [
           {
            "colorbar": {
             "outlinewidth": 0,
             "ticks": ""
            },
            "colorscale": [
             [
              0,
              "#0d0887"
             ],
             [
              0.1111111111111111,
              "#46039f"
             ],
             [
              0.2222222222222222,
              "#7201a8"
             ],
             [
              0.3333333333333333,
              "#9c179e"
             ],
             [
              0.4444444444444444,
              "#bd3786"
             ],
             [
              0.5555555555555556,
              "#d8576b"
             ],
             [
              0.6666666666666666,
              "#ed7953"
             ],
             [
              0.7777777777777778,
              "#fb9f3a"
             ],
             [
              0.8888888888888888,
              "#fdca26"
             ],
             [
              1,
              "#f0f921"
             ]
            ],
            "type": "contour"
           }
          ],
          "contourcarpet": [
           {
            "colorbar": {
             "outlinewidth": 0,
             "ticks": ""
            },
            "type": "contourcarpet"
           }
          ],
          "heatmap": [
           {
            "colorbar": {
             "outlinewidth": 0,
             "ticks": ""
            },
            "colorscale": [
             [
              0,
              "#0d0887"
             ],
             [
              0.1111111111111111,
              "#46039f"
             ],
             [
              0.2222222222222222,
              "#7201a8"
             ],
             [
              0.3333333333333333,
              "#9c179e"
             ],
             [
              0.4444444444444444,
              "#bd3786"
             ],
             [
              0.5555555555555556,
              "#d8576b"
             ],
             [
              0.6666666666666666,
              "#ed7953"
             ],
             [
              0.7777777777777778,
              "#fb9f3a"
             ],
             [
              0.8888888888888888,
              "#fdca26"
             ],
             [
              1,
              "#f0f921"
             ]
            ],
            "type": "heatmap"
           }
          ],
          "histogram": [
           {
            "marker": {
             "pattern": {
              "fillmode": "overlay",
              "size": 10,
              "solidity": 0.2
             }
            },
            "type": "histogram"
           }
          ],
          "histogram2d": [
           {
            "colorbar": {
             "outlinewidth": 0,
             "ticks": ""
            },
            "colorscale": [
             [
              0,
              "#0d0887"
             ],
             [
              0.1111111111111111,
              "#46039f"
             ],
             [
              0.2222222222222222,
              "#7201a8"
             ],
             [
              0.3333333333333333,
              "#9c179e"
             ],
             [
              0.4444444444444444,
              "#bd3786"
             ],
             [
              0.5555555555555556,
              "#d8576b"
             ],
             [
              0.6666666666666666,
              "#ed7953"
             ],
             [
              0.7777777777777778,
              "#fb9f3a"
             ],
             [
              0.8888888888888888,
              "#fdca26"
             ],
             [
              1,
              "#f0f921"
             ]
            ],
            "type": "histogram2d"
           }
          ],
          "histogram2dcontour": [
           {
            "colorbar": {
             "outlinewidth": 0,
             "ticks": ""
            },
            "colorscale": [
             [
              0,
              "#0d0887"
             ],
             [
              0.1111111111111111,
              "#46039f"
             ],
             [
              0.2222222222222222,
              "#7201a8"
             ],
             [
              0.3333333333333333,
              "#9c179e"
             ],
             [
              0.4444444444444444,
              "#bd3786"
             ],
             [
              0.5555555555555556,
              "#d8576b"
             ],
             [
              0.6666666666666666,
              "#ed7953"
             ],
             [
              0.7777777777777778,
              "#fb9f3a"
             ],
             [
              0.8888888888888888,
              "#fdca26"
             ],
             [
              1,
              "#f0f921"
             ]
            ],
            "type": "histogram2dcontour"
           }
          ],
          "mesh3d": [
           {
            "colorbar": {
             "outlinewidth": 0,
             "ticks": ""
            },
            "type": "mesh3d"
           }
          ],
          "parcoords": [
           {
            "line": {
             "colorbar": {
              "outlinewidth": 0,
              "ticks": ""
             }
            },
            "type": "parcoords"
           }
          ],
          "pie": [
           {
            "automargin": true,
            "type": "pie"
           }
          ],
          "scatter": [
           {
            "fillpattern": {
             "fillmode": "overlay",
             "size": 10,
             "solidity": 0.2
            },
            "type": "scatter"
           }
          ],
          "scatter3d": [
           {
            "line": {
             "colorbar": {
              "outlinewidth": 0,
              "ticks": ""
             }
            },
            "marker": {
             "colorbar": {
              "outlinewidth": 0,
              "ticks": ""
             }
            },
            "type": "scatter3d"
           }
          ],
          "scattercarpet": [
           {
            "marker": {
             "colorbar": {
              "outlinewidth": 0,
              "ticks": ""
             }
            },
            "type": "scattercarpet"
           }
          ],
          "scattergeo": [
           {
            "marker": {
             "colorbar": {
              "outlinewidth": 0,
              "ticks": ""
             }
            },
            "type": "scattergeo"
           }
          ],
          "scattergl": [
           {
            "marker": {
             "colorbar": {
              "outlinewidth": 0,
              "ticks": ""
             }
            },
            "type": "scattergl"
           }
          ],
          "scattermap": [
           {
            "marker": {
             "colorbar": {
              "outlinewidth": 0,
              "ticks": ""
             }
            },
            "type": "scattermap"
           }
          ],
          "scattermapbox": [
           {
            "marker": {
             "colorbar": {
              "outlinewidth": 0,
              "ticks": ""
             }
            },
            "type": "scattermapbox"
           }
          ],
          "scatterpolar": [
           {
            "marker": {
             "colorbar": {
              "outlinewidth": 0,
              "ticks": ""
             }
            },
            "type": "scatterpolar"
           }
          ],
          "scatterpolargl": [
           {
            "marker": {
             "colorbar": {
              "outlinewidth": 0,
              "ticks": ""
             }
            },
            "type": "scatterpolargl"
           }
          ],
          "scatterternary": [
           {
            "marker": {
             "colorbar": {
              "outlinewidth": 0,
              "ticks": ""
             }
            },
            "type": "scatterternary"
           }
          ],
          "surface": [
           {
            "colorbar": {
             "outlinewidth": 0,
             "ticks": ""
            },
            "colorscale": [
             [
              0,
              "#0d0887"
             ],
             [
              0.1111111111111111,
              "#46039f"
             ],
             [
              0.2222222222222222,
              "#7201a8"
             ],
             [
              0.3333333333333333,
              "#9c179e"
             ],
             [
              0.4444444444444444,
              "#bd3786"
             ],
             [
              0.5555555555555556,
              "#d8576b"
             ],
             [
              0.6666666666666666,
              "#ed7953"
             ],
             [
              0.7777777777777778,
              "#fb9f3a"
             ],
             [
              0.8888888888888888,
              "#fdca26"
             ],
             [
              1,
              "#f0f921"
             ]
            ],
            "type": "surface"
           }
          ],
          "table": [
           {
            "cells": {
             "fill": {
              "color": "#EBF0F8"
             },
             "line": {
              "color": "white"
             }
            },
            "header": {
             "fill": {
              "color": "#C8D4E3"
             },
             "line": {
              "color": "white"
             }
            },
            "type": "table"
           }
          ]
         },
         "layout": {
          "annotationdefaults": {
           "arrowcolor": "#2a3f5f",
           "arrowhead": 0,
           "arrowwidth": 1
          },
          "autotypenumbers": "strict",
          "coloraxis": {
           "colorbar": {
            "outlinewidth": 0,
            "ticks": ""
           }
          },
          "colorscale": {
           "diverging": [
            [
             0,
             "#8e0152"
            ],
            [
             0.1,
             "#c51b7d"
            ],
            [
             0.2,
             "#de77ae"
            ],
            [
             0.3,
             "#f1b6da"
            ],
            [
             0.4,
             "#fde0ef"
            ],
            [
             0.5,
             "#f7f7f7"
            ],
            [
             0.6,
             "#e6f5d0"
            ],
            [
             0.7,
             "#b8e186"
            ],
            [
             0.8,
             "#7fbc41"
            ],
            [
             0.9,
             "#4d9221"
            ],
            [
             1,
             "#276419"
            ]
           ],
           "sequential": [
            [
             0,
             "#0d0887"
            ],
            [
             0.1111111111111111,
             "#46039f"
            ],
            [
             0.2222222222222222,
             "#7201a8"
            ],
            [
             0.3333333333333333,
             "#9c179e"
            ],
            [
             0.4444444444444444,
             "#bd3786"
            ],
            [
             0.5555555555555556,
             "#d8576b"
            ],
            [
             0.6666666666666666,
             "#ed7953"
            ],
            [
             0.7777777777777778,
             "#fb9f3a"
            ],
            [
             0.8888888888888888,
             "#fdca26"
            ],
            [
             1,
             "#f0f921"
            ]
           ],
           "sequentialminus": [
            [
             0,
             "#0d0887"
            ],
            [
             0.1111111111111111,
             "#46039f"
            ],
            [
             0.2222222222222222,
             "#7201a8"
            ],
            [
             0.3333333333333333,
             "#9c179e"
            ],
            [
             0.4444444444444444,
             "#bd3786"
            ],
            [
             0.5555555555555556,
             "#d8576b"
            ],
            [
             0.6666666666666666,
             "#ed7953"
            ],
            [
             0.7777777777777778,
             "#fb9f3a"
            ],
            [
             0.8888888888888888,
             "#fdca26"
            ],
            [
             1,
             "#f0f921"
            ]
           ]
          },
          "colorway": [
           "#636efa",
           "#EF553B",
           "#00cc96",
           "#ab63fa",
           "#FFA15A",
           "#19d3f3",
           "#FF6692",
           "#B6E880",
           "#FF97FF",
           "#FECB52"
          ],
          "font": {
           "color": "#2a3f5f"
          },
          "geo": {
           "bgcolor": "white",
           "lakecolor": "white",
           "landcolor": "#E5ECF6",
           "showlakes": true,
           "showland": true,
           "subunitcolor": "white"
          },
          "hoverlabel": {
           "align": "left"
          },
          "hovermode": "closest",
          "mapbox": {
           "style": "light"
          },
          "paper_bgcolor": "white",
          "plot_bgcolor": "#E5ECF6",
          "polar": {
           "angularaxis": {
            "gridcolor": "white",
            "linecolor": "white",
            "ticks": ""
           },
           "bgcolor": "#E5ECF6",
           "radialaxis": {
            "gridcolor": "white",
            "linecolor": "white",
            "ticks": ""
           }
          },
          "scene": {
           "xaxis": {
            "backgroundcolor": "#E5ECF6",
            "gridcolor": "white",
            "gridwidth": 2,
            "linecolor": "white",
            "showbackground": true,
            "ticks": "",
            "zerolinecolor": "white"
           },
           "yaxis": {
            "backgroundcolor": "#E5ECF6",
            "gridcolor": "white",
            "gridwidth": 2,
            "linecolor": "white",
            "showbackground": true,
            "ticks": "",
            "zerolinecolor": "white"
           },
           "zaxis": {
            "backgroundcolor": "#E5ECF6",
            "gridcolor": "white",
            "gridwidth": 2,
            "linecolor": "white",
            "showbackground": true,
            "ticks": "",
            "zerolinecolor": "white"
           }
          },
          "shapedefaults": {
           "line": {
            "color": "#2a3f5f"
           }
          },
          "ternary": {
           "aaxis": {
            "gridcolor": "white",
            "linecolor": "white",
            "ticks": ""
           },
           "baxis": {
            "gridcolor": "white",
            "linecolor": "white",
            "ticks": ""
           },
           "bgcolor": "#E5ECF6",
           "caxis": {
            "gridcolor": "white",
            "linecolor": "white",
            "ticks": ""
           }
          },
          "title": {
           "x": 0.05
          },
          "xaxis": {
           "automargin": true,
           "gridcolor": "white",
           "linecolor": "white",
           "ticks": "",
           "title": {
            "standoff": 15
           },
           "zerolinecolor": "white",
           "zerolinewidth": 2
          },
          "yaxis": {
           "automargin": true,
           "gridcolor": "white",
           "linecolor": "white",
           "ticks": "",
           "title": {
            "standoff": 15
           },
           "zerolinecolor": "white",
           "zerolinewidth": 2
          }
         }
        },
        "title": {
         "text": "Valor por dinero por ciudad y tipo de habitación"
        },
        "xaxis": {
         "anchor": "y",
         "domain": [
          0,
          1
         ],
         "title": {
          "text": "Valor por dinero promedio"
         }
        },
        "yaxis": {
         "anchor": "x",
         "domain": [
          0,
          1
         ],
         "title": {
          "text": "Ciudad"
         }
        }
       }
      }
     },
     "metadata": {},
     "output_type": "display_data"
    }
   ],
   "source": [
    "# Visualización comparativa del índice \"valor por dinero\" (satisfacción/precio) entre ciudades, desglosado por tipo de habitación\n",
    "\n",
    "import pandas as pd\n",
    "import plotly.express as px\n",
    "\n",
    "# Preparar datos en formato long\n",
    "df_melt = (\n",
    "    df_filtrado\n",
    "    .pivot_table(\n",
    "        index='city',\n",
    "        columns='room_type',\n",
    "        values='valor_por_dinero',\n",
    "        aggfunc='mean'\n",
    "    )\n",
    "    .fillna(0)\n",
    "    .reset_index()\n",
    "    .melt(id_vars='city', var_name='room_type', value_name='valor_por_dinero')\n",
    ")\n",
    "\n",
    "# Definir paleta de verdes (sin incluir el fondo)\n",
    "verde_pal = ['#1B4332', '#2D6A4F', '#52B788', '#8BAE3F']  \n",
    "room_types = df_melt['room_type'].unique()\n",
    "\n",
    "# Asignar cíclicamente cada room_type a un verde distinto\n",
    "color_map = { rt: verde_pal[i % len(verde_pal)] \n",
    "              for i, rt in enumerate(room_types) }\n",
    "\n",
    "# Gráfico apilado con Plotly\n",
    "fig = px.bar(\n",
    "    df_melt,\n",
    "    x='valor_por_dinero',\n",
    "    y='city',\n",
    "    color='room_type',\n",
    "    orientation='h',\n",
    "    title='Valor por dinero por ciudad y tipo de habitación',\n",
    "    color_discrete_map=color_map\n",
    ")\n",
    "\n",
    "fig.update_layout(\n",
    "    barmode='stack',\n",
    "    plot_bgcolor='#D8F3DC',   # sólo para fondo\n",
    "    paper_bgcolor='#D8F3DC',\n",
    "    xaxis_title='Valor por dinero promedio',\n",
    "    yaxis_title='Ciudad',\n",
    "    legend_title='Tipo de habitación',\n",
    "    font=dict(size=14),\n",
    "    height=600\n",
    ")\n",
    "\n",
    "fig.show()\n"
   ]
  },
  {
   "cell_type": "code",
   "execution_count": null,
   "id": "84808abe",
   "metadata": {},
   "outputs": [
    {
     "data": {
      "application/vnd.plotly.v1+json": {
       "config": {
        "plotlyServerURL": "https://plot.ly"
       },
       "data": [
        {
         "coloraxis": "coloraxis",
         "hovertemplate": "Coeficiente de Spearman: %{x}<br>Ciudad: %{y}<br>Correlación: %{z}<extra></extra>",
         "name": "0",
         "type": "heatmap",
         "x": [
          "spearman_corr"
         ],
         "xaxis": "x",
         "y": [
          "barcelona",
          "girona",
          "madrid",
          "malaga",
          "mallorca",
          "menorca",
          "sevilla",
          "valencia"
         ],
         "yaxis": "y",
         "z": {
          "bdata": "001iEFg5tL+gGi/dJAbBP6RwPQrXo7A/JzEIrBxaxD/LoUW28/3EP0w3iUFg5aA/g8DKoUW2sz8730+Nl26yPw==",
          "dtype": "f8",
          "shape": "8, 1"
         }
        }
       ],
       "layout": {
        "annotations": [
         {
          "font": {
           "color": "black"
          },
          "showarrow": false,
          "text": "-0.079",
          "x": "spearman_corr",
          "y": "barcelona"
         },
         {
          "font": {
           "color": "black"
          },
          "showarrow": false,
          "text": "0.133",
          "x": "spearman_corr",
          "y": "girona"
         },
         {
          "font": {
           "color": "black"
          },
          "showarrow": false,
          "text": "0.065",
          "x": "spearman_corr",
          "y": "madrid"
         },
         {
          "font": {
           "color": "black"
          },
          "showarrow": false,
          "text": "0.159",
          "x": "spearman_corr",
          "y": "malaga"
         },
         {
          "font": {
           "color": "black"
          },
          "showarrow": false,
          "text": "0.164",
          "x": "spearman_corr",
          "y": "mallorca"
         },
         {
          "font": {
           "color": "black"
          },
          "showarrow": false,
          "text": "0.033",
          "x": "spearman_corr",
          "y": "menorca"
         },
         {
          "font": {
           "color": "black"
          },
          "showarrow": false,
          "text": "0.077",
          "x": "spearman_corr",
          "y": "sevilla"
         },
         {
          "font": {
           "color": "black"
          },
          "showarrow": false,
          "text": "0.072",
          "x": "spearman_corr",
          "y": "valencia"
         }
        ],
        "coloraxis": {
         "cmax": 1,
         "cmin": -1,
         "colorbar": {
          "title": {
           "text": "Correlación"
          }
         },
         "colorscale": [
          [
           0,
           "rgb(103,0,31)"
          ],
          [
           0.1,
           "rgb(178,24,43)"
          ],
          [
           0.2,
           "rgb(214,96,77)"
          ],
          [
           0.3,
           "rgb(244,165,130)"
          ],
          [
           0.4,
           "rgb(253,219,199)"
          ],
          [
           0.5,
           "rgb(247,247,247)"
          ],
          [
           0.6,
           "rgb(209,229,240)"
          ],
          [
           0.7,
           "rgb(146,197,222)"
          ],
          [
           0.8,
           "rgb(67,147,195)"
          ],
          [
           0.9,
           "rgb(33,102,172)"
          ],
          [
           1,
           "rgb(5,48,97)"
          ]
         ]
        },
        "height": 440,
        "paper_bgcolor": "#D8F3DC",
        "plot_bgcolor": "#D8F3DC",
        "template": {
         "data": {
          "bar": [
           {
            "error_x": {
             "color": "#2a3f5f"
            },
            "error_y": {
             "color": "#2a3f5f"
            },
            "marker": {
             "line": {
              "color": "#E5ECF6",
              "width": 0.5
             },
             "pattern": {
              "fillmode": "overlay",
              "size": 10,
              "solidity": 0.2
             }
            },
            "type": "bar"
           }
          ],
          "barpolar": [
           {
            "marker": {
             "line": {
              "color": "#E5ECF6",
              "width": 0.5
             },
             "pattern": {
              "fillmode": "overlay",
              "size": 10,
              "solidity": 0.2
             }
            },
            "type": "barpolar"
           }
          ],
          "carpet": [
           {
            "aaxis": {
             "endlinecolor": "#2a3f5f",
             "gridcolor": "white",
             "linecolor": "white",
             "minorgridcolor": "white",
             "startlinecolor": "#2a3f5f"
            },
            "baxis": {
             "endlinecolor": "#2a3f5f",
             "gridcolor": "white",
             "linecolor": "white",
             "minorgridcolor": "white",
             "startlinecolor": "#2a3f5f"
            },
            "type": "carpet"
           }
          ],
          "choropleth": [
           {
            "colorbar": {
             "outlinewidth": 0,
             "ticks": ""
            },
            "type": "choropleth"
           }
          ],
          "contour": [
           {
            "colorbar": {
             "outlinewidth": 0,
             "ticks": ""
            },
            "colorscale": [
             [
              0,
              "#0d0887"
             ],
             [
              0.1111111111111111,
              "#46039f"
             ],
             [
              0.2222222222222222,
              "#7201a8"
             ],
             [
              0.3333333333333333,
              "#9c179e"
             ],
             [
              0.4444444444444444,
              "#bd3786"
             ],
             [
              0.5555555555555556,
              "#d8576b"
             ],
             [
              0.6666666666666666,
              "#ed7953"
             ],
             [
              0.7777777777777778,
              "#fb9f3a"
             ],
             [
              0.8888888888888888,
              "#fdca26"
             ],
             [
              1,
              "#f0f921"
             ]
            ],
            "type": "contour"
           }
          ],
          "contourcarpet": [
           {
            "colorbar": {
             "outlinewidth": 0,
             "ticks": ""
            },
            "type": "contourcarpet"
           }
          ],
          "heatmap": [
           {
            "colorbar": {
             "outlinewidth": 0,
             "ticks": ""
            },
            "colorscale": [
             [
              0,
              "#0d0887"
             ],
             [
              0.1111111111111111,
              "#46039f"
             ],
             [
              0.2222222222222222,
              "#7201a8"
             ],
             [
              0.3333333333333333,
              "#9c179e"
             ],
             [
              0.4444444444444444,
              "#bd3786"
             ],
             [
              0.5555555555555556,
              "#d8576b"
             ],
             [
              0.6666666666666666,
              "#ed7953"
             ],
             [
              0.7777777777777778,
              "#fb9f3a"
             ],
             [
              0.8888888888888888,
              "#fdca26"
             ],
             [
              1,
              "#f0f921"
             ]
            ],
            "type": "heatmap"
           }
          ],
          "histogram": [
           {
            "marker": {
             "pattern": {
              "fillmode": "overlay",
              "size": 10,
              "solidity": 0.2
             }
            },
            "type": "histogram"
           }
          ],
          "histogram2d": [
           {
            "colorbar": {
             "outlinewidth": 0,
             "ticks": ""
            },
            "colorscale": [
             [
              0,
              "#0d0887"
             ],
             [
              0.1111111111111111,
              "#46039f"
             ],
             [
              0.2222222222222222,
              "#7201a8"
             ],
             [
              0.3333333333333333,
              "#9c179e"
             ],
             [
              0.4444444444444444,
              "#bd3786"
             ],
             [
              0.5555555555555556,
              "#d8576b"
             ],
             [
              0.6666666666666666,
              "#ed7953"
             ],
             [
              0.7777777777777778,
              "#fb9f3a"
             ],
             [
              0.8888888888888888,
              "#fdca26"
             ],
             [
              1,
              "#f0f921"
             ]
            ],
            "type": "histogram2d"
           }
          ],
          "histogram2dcontour": [
           {
            "colorbar": {
             "outlinewidth": 0,
             "ticks": ""
            },
            "colorscale": [
             [
              0,
              "#0d0887"
             ],
             [
              0.1111111111111111,
              "#46039f"
             ],
             [
              0.2222222222222222,
              "#7201a8"
             ],
             [
              0.3333333333333333,
              "#9c179e"
             ],
             [
              0.4444444444444444,
              "#bd3786"
             ],
             [
              0.5555555555555556,
              "#d8576b"
             ],
             [
              0.6666666666666666,
              "#ed7953"
             ],
             [
              0.7777777777777778,
              "#fb9f3a"
             ],
             [
              0.8888888888888888,
              "#fdca26"
             ],
             [
              1,
              "#f0f921"
             ]
            ],
            "type": "histogram2dcontour"
           }
          ],
          "mesh3d": [
           {
            "colorbar": {
             "outlinewidth": 0,
             "ticks": ""
            },
            "type": "mesh3d"
           }
          ],
          "parcoords": [
           {
            "line": {
             "colorbar": {
              "outlinewidth": 0,
              "ticks": ""
             }
            },
            "type": "parcoords"
           }
          ],
          "pie": [
           {
            "automargin": true,
            "type": "pie"
           }
          ],
          "scatter": [
           {
            "fillpattern": {
             "fillmode": "overlay",
             "size": 10,
             "solidity": 0.2
            },
            "type": "scatter"
           }
          ],
          "scatter3d": [
           {
            "line": {
             "colorbar": {
              "outlinewidth": 0,
              "ticks": ""
             }
            },
            "marker": {
             "colorbar": {
              "outlinewidth": 0,
              "ticks": ""
             }
            },
            "type": "scatter3d"
           }
          ],
          "scattercarpet": [
           {
            "marker": {
             "colorbar": {
              "outlinewidth": 0,
              "ticks": ""
             }
            },
            "type": "scattercarpet"
           }
          ],
          "scattergeo": [
           {
            "marker": {
             "colorbar": {
              "outlinewidth": 0,
              "ticks": ""
             }
            },
            "type": "scattergeo"
           }
          ],
          "scattergl": [
           {
            "marker": {
             "colorbar": {
              "outlinewidth": 0,
              "ticks": ""
             }
            },
            "type": "scattergl"
           }
          ],
          "scattermap": [
           {
            "marker": {
             "colorbar": {
              "outlinewidth": 0,
              "ticks": ""
             }
            },
            "type": "scattermap"
           }
          ],
          "scattermapbox": [
           {
            "marker": {
             "colorbar": {
              "outlinewidth": 0,
              "ticks": ""
             }
            },
            "type": "scattermapbox"
           }
          ],
          "scatterpolar": [
           {
            "marker": {
             "colorbar": {
              "outlinewidth": 0,
              "ticks": ""
             }
            },
            "type": "scatterpolar"
           }
          ],
          "scatterpolargl": [
           {
            "marker": {
             "colorbar": {
              "outlinewidth": 0,
              "ticks": ""
             }
            },
            "type": "scatterpolargl"
           }
          ],
          "scatterternary": [
           {
            "marker": {
             "colorbar": {
              "outlinewidth": 0,
              "ticks": ""
             }
            },
            "type": "scatterternary"
           }
          ],
          "surface": [
           {
            "colorbar": {
             "outlinewidth": 0,
             "ticks": ""
            },
            "colorscale": [
             [
              0,
              "#0d0887"
             ],
             [
              0.1111111111111111,
              "#46039f"
             ],
             [
              0.2222222222222222,
              "#7201a8"
             ],
             [
              0.3333333333333333,
              "#9c179e"
             ],
             [
              0.4444444444444444,
              "#bd3786"
             ],
             [
              0.5555555555555556,
              "#d8576b"
             ],
             [
              0.6666666666666666,
              "#ed7953"
             ],
             [
              0.7777777777777778,
              "#fb9f3a"
             ],
             [
              0.8888888888888888,
              "#fdca26"
             ],
             [
              1,
              "#f0f921"
             ]
            ],
            "type": "surface"
           }
          ],
          "table": [
           {
            "cells": {
             "fill": {
              "color": "#EBF0F8"
             },
             "line": {
              "color": "white"
             }
            },
            "header": {
             "fill": {
              "color": "#C8D4E3"
             },
             "line": {
              "color": "white"
             }
            },
            "type": "table"
           }
          ]
         },
         "layout": {
          "annotationdefaults": {
           "arrowcolor": "#2a3f5f",
           "arrowhead": 0,
           "arrowwidth": 1
          },
          "autotypenumbers": "strict",
          "coloraxis": {
           "colorbar": {
            "outlinewidth": 0,
            "ticks": ""
           }
          },
          "colorscale": {
           "diverging": [
            [
             0,
             "#8e0152"
            ],
            [
             0.1,
             "#c51b7d"
            ],
            [
             0.2,
             "#de77ae"
            ],
            [
             0.3,
             "#f1b6da"
            ],
            [
             0.4,
             "#fde0ef"
            ],
            [
             0.5,
             "#f7f7f7"
            ],
            [
             0.6,
             "#e6f5d0"
            ],
            [
             0.7,
             "#b8e186"
            ],
            [
             0.8,
             "#7fbc41"
            ],
            [
             0.9,
             "#4d9221"
            ],
            [
             1,
             "#276419"
            ]
           ],
           "sequential": [
            [
             0,
             "#0d0887"
            ],
            [
             0.1111111111111111,
             "#46039f"
            ],
            [
             0.2222222222222222,
             "#7201a8"
            ],
            [
             0.3333333333333333,
             "#9c179e"
            ],
            [
             0.4444444444444444,
             "#bd3786"
            ],
            [
             0.5555555555555556,
             "#d8576b"
            ],
            [
             0.6666666666666666,
             "#ed7953"
            ],
            [
             0.7777777777777778,
             "#fb9f3a"
            ],
            [
             0.8888888888888888,
             "#fdca26"
            ],
            [
             1,
             "#f0f921"
            ]
           ],
           "sequentialminus": [
            [
             0,
             "#0d0887"
            ],
            [
             0.1111111111111111,
             "#46039f"
            ],
            [
             0.2222222222222222,
             "#7201a8"
            ],
            [
             0.3333333333333333,
             "#9c179e"
            ],
            [
             0.4444444444444444,
             "#bd3786"
            ],
            [
             0.5555555555555556,
             "#d8576b"
            ],
            [
             0.6666666666666666,
             "#ed7953"
            ],
            [
             0.7777777777777778,
             "#fb9f3a"
            ],
            [
             0.8888888888888888,
             "#fdca26"
            ],
            [
             1,
             "#f0f921"
            ]
           ]
          },
          "colorway": [
           "#636efa",
           "#EF553B",
           "#00cc96",
           "#ab63fa",
           "#FFA15A",
           "#19d3f3",
           "#FF6692",
           "#B6E880",
           "#FF97FF",
           "#FECB52"
          ],
          "font": {
           "color": "#2a3f5f"
          },
          "geo": {
           "bgcolor": "white",
           "lakecolor": "white",
           "landcolor": "#E5ECF6",
           "showlakes": true,
           "showland": true,
           "subunitcolor": "white"
          },
          "hoverlabel": {
           "align": "left"
          },
          "hovermode": "closest",
          "mapbox": {
           "style": "light"
          },
          "paper_bgcolor": "white",
          "plot_bgcolor": "#E5ECF6",
          "polar": {
           "angularaxis": {
            "gridcolor": "white",
            "linecolor": "white",
            "ticks": ""
           },
           "bgcolor": "#E5ECF6",
           "radialaxis": {
            "gridcolor": "white",
            "linecolor": "white",
            "ticks": ""
           }
          },
          "scene": {
           "xaxis": {
            "backgroundcolor": "#E5ECF6",
            "gridcolor": "white",
            "gridwidth": 2,
            "linecolor": "white",
            "showbackground": true,
            "ticks": "",
            "zerolinecolor": "white"
           },
           "yaxis": {
            "backgroundcolor": "#E5ECF6",
            "gridcolor": "white",
            "gridwidth": 2,
            "linecolor": "white",
            "showbackground": true,
            "ticks": "",
            "zerolinecolor": "white"
           },
           "zaxis": {
            "backgroundcolor": "#E5ECF6",
            "gridcolor": "white",
            "gridwidth": 2,
            "linecolor": "white",
            "showbackground": true,
            "ticks": "",
            "zerolinecolor": "white"
           }
          },
          "shapedefaults": {
           "line": {
            "color": "#2a3f5f"
           }
          },
          "ternary": {
           "aaxis": {
            "gridcolor": "white",
            "linecolor": "white",
            "ticks": ""
           },
           "baxis": {
            "gridcolor": "white",
            "linecolor": "white",
            "ticks": ""
           },
           "bgcolor": "#E5ECF6",
           "caxis": {
            "gridcolor": "white",
            "linecolor": "white",
            "ticks": ""
           }
          },
          "title": {
           "x": 0.05
          },
          "xaxis": {
           "automargin": true,
           "gridcolor": "white",
           "linecolor": "white",
           "ticks": "",
           "title": {
            "standoff": 15
           },
           "zerolinecolor": "white",
           "zerolinewidth": 2
          },
          "yaxis": {
           "automargin": true,
           "gridcolor": "white",
           "linecolor": "white",
           "ticks": "",
           "title": {
            "standoff": 15
           },
           "zerolinecolor": "white",
           "zerolinewidth": 2
          }
         }
        },
        "title": {
         "text": "Mapa de calor: correlación entre precio y satisfacción por ciudades"
        },
        "width": 800,
        "xaxis": {
         "anchor": "y",
         "domain": [
          0,
          1
         ],
         "side": "bottom",
         "title": {
          "text": "Coeficiente de Spearman"
         }
        },
        "yaxis": {
         "anchor": "x",
         "autorange": "reversed",
         "domain": [
          0,
          1
         ],
         "title": {
          "text": "Ciudad"
         }
        }
       }
      }
     },
     "metadata": {},
     "output_type": "display_data"
    }
   ],
   "source": [
    "import plotly.express as px\n",
    "import pandas as pd\n",
    "\n",
    "heat_df = city_corrs.pivot_table(index='city', values='spearman_corr').round(3) # Redondeamos para mostrar valores más limpios\n",
    "\n",
    "fig = px.imshow(heat_df,\n",
    "                labels=dict(x=\"Coeficiente de Spearman\", y=\"Ciudad\", color=\"Correlación\"),\n",
    "                color_continuous_scale='RdBu',\n",
    "                zmin=-1, zmax=1,\n",
    "                title=\"Mapa de calor: correlación entre precio y satisfacción por ciudades\",\n",
    "                aspect=\"auto\")\n",
    "\n",
    "# Añadir las anotaciones manualmente\n",
    "for i in range(heat_df.shape[0]):\n",
    "    for j in range(heat_df.shape[1]):\n",
    "        fig.add_annotation(dict(font=dict(color='black'),\n",
    "                               x=heat_df.columns[j],\n",
    "                               y=heat_df.index[i],\n",
    "                               text=str(heat_df.iloc[i, j]),\n",
    "                               showarrow=False))\n",
    "\n",
    "fig.update_layout(yaxis_autorange='reversed',\n",
    "                  width=800,\n",
    "                  height=len(heat_df) * 30 + 200,\n",
    "                  plot_bgcolor='#D8F3DC',\n",
    "                  paper_bgcolor='#D8F3DC')\n",
    "\n",
    "fig.update_xaxes(side=\"bottom\")\n",
    "\n",
    "fig.show()"
   ]
  }
 ],
 "metadata": {
  "kernelspec": {
   "display_name": "Python 3",
   "language": "python",
   "name": "python3"
  },
  "language_info": {
   "codemirror_mode": {
    "name": "ipython",
    "version": 3
   },
   "file_extension": ".py",
   "mimetype": "text/x-python",
   "name": "python",
   "nbconvert_exporter": "python",
   "pygments_lexer": "ipython3",
   "version": "3.11.9"
  }
 },
 "nbformat": 4,
 "nbformat_minor": 5
}
