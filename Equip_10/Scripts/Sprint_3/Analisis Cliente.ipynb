{
 "cells": [
  {
   "cell_type": "markdown",
   "id": "f2b3b446",
   "metadata": {},
   "source": [
    "# Análisis departamento de Experiencia del Cliente"
   ]
  },
  {
   "cell_type": "markdown",
   "id": "1a4f10f3",
   "metadata": {},
   "source": [
    "## Cargar dataset df_tourist_python_sprint3.csv"
   ]
  },
  {
   "cell_type": "code",
   "execution_count": 1,
   "id": "de154742",
   "metadata": {},
   "outputs": [
    {
     "data": {
      "application/vnd.microsoft.datawrangler.viewer.v0+json": {
       "columns": [
        {
         "name": "index",
         "rawType": "int64",
         "type": "integer"
        },
        {
         "name": "apartment_id",
         "rawType": "int64",
         "type": "integer"
        },
        {
         "name": "name",
         "rawType": "object",
         "type": "unknown"
        },
        {
         "name": "description",
         "rawType": "object",
         "type": "unknown"
        },
        {
         "name": "host_id",
         "rawType": "int64",
         "type": "integer"
        },
        {
         "name": "neighbourhood_name",
         "rawType": "object",
         "type": "string"
        },
        {
         "name": "neighbourhood_district",
         "rawType": "object",
         "type": "unknown"
        },
        {
         "name": "room_type",
         "rawType": "object",
         "type": "string"
        },
        {
         "name": "accommodates",
         "rawType": "int64",
         "type": "integer"
        },
        {
         "name": "bathrooms",
         "rawType": "float64",
         "type": "float"
        },
        {
         "name": "bedrooms",
         "rawType": "float64",
         "type": "float"
        },
        {
         "name": "beds",
         "rawType": "float64",
         "type": "float"
        },
        {
         "name": "amenities_list",
         "rawType": "object",
         "type": "unknown"
        },
        {
         "name": "price",
         "rawType": "float64",
         "type": "float"
        },
        {
         "name": "minimum_nights",
         "rawType": "int64",
         "type": "integer"
        },
        {
         "name": "maximum_nights",
         "rawType": "int64",
         "type": "integer"
        },
        {
         "name": "has_availability",
         "rawType": "bool",
         "type": "boolean"
        },
        {
         "name": "availability_30",
         "rawType": "int64",
         "type": "integer"
        },
        {
         "name": "availability_60",
         "rawType": "int64",
         "type": "integer"
        },
        {
         "name": "availability_90",
         "rawType": "int64",
         "type": "integer"
        },
        {
         "name": "availability_365",
         "rawType": "int64",
         "type": "integer"
        },
        {
         "name": "number_of_reviews",
         "rawType": "int64",
         "type": "integer"
        },
        {
         "name": "first_review_date",
         "rawType": "object",
         "type": "unknown"
        },
        {
         "name": "last_review_date",
         "rawType": "object",
         "type": "unknown"
        },
        {
         "name": "review_scores_rating",
         "rawType": "float64",
         "type": "float"
        },
        {
         "name": "review_scores_accuracy",
         "rawType": "float64",
         "type": "float"
        },
        {
         "name": "review_scores_cleanliness",
         "rawType": "float64",
         "type": "float"
        },
        {
         "name": "review_scores_checkin",
         "rawType": "float64",
         "type": "float"
        },
        {
         "name": "review_scores_communication",
         "rawType": "float64",
         "type": "float"
        },
        {
         "name": "review_scores_location",
         "rawType": "float64",
         "type": "float"
        },
        {
         "name": "review_scores_value",
         "rawType": "float64",
         "type": "float"
        },
        {
         "name": "is_instant_bookable",
         "rawType": "object",
         "type": "string"
        },
        {
         "name": "reviews_per_month",
         "rawType": "float64",
         "type": "float"
        },
        {
         "name": "country",
         "rawType": "object",
         "type": "string"
        },
        {
         "name": "city",
         "rawType": "object",
         "type": "string"
        },
        {
         "name": "insert_date",
         "rawType": "object",
         "type": "string"
        }
       ],
       "ref": "8993d0e0-b5bf-448c-8873-13fe27a67908",
       "rows": [
        [
         "0",
         "11964",
         "A ROOM WITH A VIEW",
         "Private bedroom in our attic apartment. Right in the heart of the pedestrian downtown area. Outstanding views from our large terrace and modern, fully renovated interior. Double bed in a fully renovated downtown attic. We live in a 1881 building in the heart of town. One minute away from the Picasso museum, Calle Larios and the cathedral. It is a 100 square meter apartment and a 45 square meter terrace with outstanding views of the cathedral and the whole downtown area and churches, plus an outdoor barbecue. The apartment underwent an 8 month renovation and is in pristine condition, with Italian appliances and light fixtures, Murano glass tiles and marble floors.  The building has an elevator up to the 4ht floor and we live on the 5th. All of downtown M�laga is pedestrian, so you will be guaranteed no traffic noise and pleasant walks. There are hundreds of restaurants and shops in the neighborhood as well; impossible to run out of things to do. Common areas As often as our guests want ",
         "45553",
         "Centro",
         null,
         "Private room",
         "2",
         "2.0",
         "1.0",
         "1.0",
         "TV,Internet,Wifi,Air conditioning,Elevator,Buzzer/wireless intercom,Heating,Washer,Smoke detector,Carbon monoxide detector,Essentials,Shampoo,24-hour check-in,Hangers,Hair dryer,Iron,Laptop friendly workspace,translation missing: en.hosting_amenity_49,translation missing: en.hosting_amenity_50",
         "400.0",
         "3",
         "365",
         "True",
         "7",
         "20",
         "40",
         "130",
         "78",
         "2010-01-02",
         "2017-09-05",
         "97.0",
         "100.0",
         "100.0",
         "100.0",
         "100.0",
         "100.0",
         "100.0",
         "FALSO",
         "75.0",
         "spain",
         "malaga",
         "2018-07-31"
        ],
        [
         "1",
         "21853",
         "Bright and airy room",
         "We have a quiet and sunny room with a good view in our 3 bedroom flat. In a welcoming atmosphere, our clean and respectful flatshare is located in a leafy neighbourhood with all facilities: shops, library, caf�s and bars, a swimming pools, gyms, and fantastic parks. Well connected by metro and bus with the centre: 15 minutes. For walks, we are also a 20 min stroll away from the riverside. I am living in a nice flat near the centre of Madrid (15 minutes by bus). We are relaxed, clean, and independent. The flat is located in a leafy neighbourhood with plenty of facilities: little shops, supermarkets, public library, swimming pools (covered and summer ones), tennis courts and free parking outside the flat. It is well connected by public transport (various bus and metro lines). The room is sunny and well presented. There are two bathrooms, one of which you would share with a guest. It has triple glazing and we provide fresh bedlinen and towels, so that packing is lighter for our guests. We",
         "83531",
         "C�rmenes",
         "Latina",
         "Private room",
         "1",
         "1.0",
         "1.0",
         "1.0",
         "TV,Internet,Wifi,Air conditioning,Kitchen,Free parking on premises,Doorman,Elevator,Heating,Washer,First aid kit,Fire extinguisher,Essentials,Shampoo,Lock on bedroom door,Hangers,Hair dryer,Iron,Laptop friendly workspace,translation missing: en.hosting_amenity_49,translation missing: en.hosting_amenity_50,Hot water,Bed linens,Extra pillows and blankets,Pocket wifi,Microwave,Coffee maker,Refrigerator,Dishes and silverware,Cooking basics,Oven",
         "170.0",
         "4",
         "40",
         "True",
         "0",
         "0",
         "0",
         "162",
         "33",
         "2014-10-10",
         "2018-07-15",
         "92.0",
         "90.0",
         "90.0",
         "100.0",
         "100.0",
         "80.0",
         "90.0",
         "FALSO",
         "52.0",
         "spain",
         "madrid",
         "2020-01-10"
        ],
        [
         "2",
         "32347",
         "Explore Cultural Sights from a Family-Friendly Apartment",
         "Open French doors and step onto a plant-filled terrace that feels like an oasis of calm in the center of the city. White-on-white decor, an ultramodern kitchen, and splashes of color create a fun and relaxing atmosphere for adults and kids alike.",
         "139939",
         "San Vicente",
         "Casco Antiguo",
         "Entire home/apt",
         "4",
         "1.0",
         "2.0",
         "2.0",
         "TV,Internet,Wifi,Air conditioning,Wheelchair accessible,Kitchen,Elevator,Buzzer/wireless intercom,Heating,Washer,Dryer,Smoke detector,Carbon monoxide detector,First aid kit,Fire extinguisher,Essentials,Shampoo,24-hour check-in,Hangers,Hair dryer,Iron,Laptop friendly workspace,Crib,Pack �n Play/travel crib,Body soap,Bath towel,Toilet paper,Bed linens,Extra pillows and blankets,Coffee maker,Host greets you,Full kitchen,Bedroom comforts,Bathroom essentials",
         "990.0",
         "2",
         "120",
         "True",
         "26",
         "31",
         "31",
         "270",
         "148",
         "2011-01-05",
         "2019-07-22",
         "98.0",
         "100.0",
         "100.0",
         "100.0",
         "100.0",
         "100.0",
         "100.0",
         "VERDADERO",
         "142.0",
         "spain",
         "sevilla",
         "2019-07-29"
        ],
        [
         "3",
         "35379",
         "Double 02 CasanovaRooms Barcelona",
         "Room at a my apartment. Kitchen and 2 bathrooms to share. Free self service breakfast. Free wifi,  TV, towels, bed linen, Ceiling fan, desk and balcony to the back of the building. I also have at guests disposal vanity kits and hairdryers. Washing machine, iron and printer on request. My apartment is located in the Eixample quarter close to the commercial area and the centre of town. I provide private rooms: one single room and two double rooms with self-service breakfast. You can also use the kitchen to cook quick meals. I also provide free wifi connection.  All rooms are equipped with a tv set, clean bed linen, fresh towels, heating and a ceiling fan.  I am on to the blue line (L5) and the underground station is �Hospital Cl�nic�. Make sure you take the exit marked as �Sortida Villarroel/Cl�nic�. From there on, you only need to walk 1 minute to �Carrer Casanova�. Though located centrally, we're on a residential and not touristic neighborhood. Metro stop Hospital Clinic line 5 (blue",
         "152232",
         "l'Antiga Esquerra de l'Eixample",
         "Eixample",
         "Private room",
         "2",
         "2.0",
         "1.0",
         "1.0",
         "TV,Internet,Wifi,Kitchen,Breakfast,Elevator,Buzzer/wireless intercom,Heating,Washer,Essentials,Lock on bedroom door,Hangers,Hair dryer,Iron,translation missing: en.hosting_amenity_49,translation missing: en.hosting_amenity_50,Hot water,Microwave,Coffee maker,Refrigerator,Dishes and silverware,Cooking basics,Stove,Patio or balcony,Host greets you,Paid parking on premises,Shower gel",
         "400.0",
         "2",
         "730",
         "True",
         "9",
         "23",
         "49",
         "300",
         "292",
         "2012-03-13",
         "2020-01-04",
         "94.0",
         "100.0",
         "90.0",
         "100.0",
         "100.0",
         "100.0",
         "90.0",
         "VERDADERO",
         "306.0",
         "spain",
         "barcelona",
         "2020-01-10"
        ],
        [
         "4",
         "35801",
         "Can Torras Farmhouse Studio Suite",
         "Lay in bed & watch sunlight change the mood of distant valley hills! This suite of rooms includes a double bedroom, twin bed room (& space for a third), private bathroom & entrance, living & dining area plus a delicious, home-made breakfast. There's a jacuzzi, plunge pool, pergola & organic gardens to explore. The ancient city of Girona is only 20 mins away. Great for romantic breaks & families with older children. English spoken. Proud to be fully registered with the Catalan Tourist Board. Can Torras is a recently renovated, ecolodge in the national park of Gavarres, on a hill top behind the ancient city of Girona. This suite has all the charm of an old farmhouse, but the services & environmental improvements of modern living.  A fantastic breakfast is included in your stay, plus the freedom to wander in our organic garden, relax in a hammock under the pergola, plunge in the pool or bask in our hot spa, as you enjoy magnificent views down the valley.   The Studio Suite includes a doub",
         "153805",
         "Quart",
         null,
         "Private room",
         "5",
         "1.0",
         "2.0",
         "5.0",
         "Wifi,Pool,Free parking on premises,Breakfast,Pets live on this property,Dog(s),Cat(s),Other pet(s),Hot tub,Indoor fireplace,Heating,Family/kid friendly,Washer,Dryer,Smoke detector,Carbon monoxide detector,Essentials,Shampoo,24-hour check-in,Hangers,Hair dryer,Iron,Laptop friendly workspace,translation missing: en.hosting_amenity_50,Bathtub,Baby bath,High chair,Children�s books and toys,Crib,Children�s dinnerware,Hot water,Bed linens,Extra pillows and blankets,Coffee maker,Refrigerator,Dishes and silverware,Garden or backyard,Luggage dropoff allowed,Long term stays allowed,Wide hallway clearance,Wide doorway,Well-lit path to entrance,Host greets you",
         "900.0",
         "1",
         "180",
         "True",
         "0",
         "19",
         "49",
         "312",
         "36",
         "2011-07-08",
         "2018-08-08",
         "97.0",
         "100.0",
         "100.0",
         "100.0",
         "100.0",
         "100.0",
         "100.0",
         "FALSO",
         "39.0",
         "spain",
         "girona",
         "2019-02-19"
        ],
        [
         "5",
         "48764",
         "18th C Stone House near Costa Brava",
         "Casa Fluvia is a charming stone village house in a Catalan village on the Costa Brava just 5 km from the sea. A perfect base for enjoying culture, cuisine, history, nature, and sports as well as the sea. Spacious house suitable for up to 8 people.  If your stay is less than one week, please request a price for the period you are interested in.  It is very difficult to cover all eventualities and different lengths of stay using the automatic system. Tourist Registration Ref: HUTG  000207 CASA FLUVI� IS A 18TH CENTURY STONE VILLAGE HOUSE WITH 3 DOUBLE BEDROOMS AND 1 TWIN BEDROOM.  - rooftop terrace and solarium  - first floor living area 30s Catalan style - ground floor living area typical of 18th century stone farmhouse The house is within 5 km of some of the best Costa Brava beaches, set in a quiet Mediterranean village in the Empord� with views of the Pyrenees, surrounding fields and neighbours working and paying their daily social visits.  This fully renovated house features vaulted",
         "220145",
         "Torroella de Fluvi�",
         null,
         "Entire home/apt",
         "8",
         "2.0",
         "4.0",
         "5.0",
         "TV,Internet,Wifi,Kitchen,Free street parking,Heating,Family/kid friendly,Washer,Smoke detector,First aid kit,Safety card,Fire extinguisher,Essentials,Shampoo,Hangers,Hair dryer,Iron,Laptop friendly workspace,Private entrance,Crib,Hot water,Host greets you",
         "900.0",
         "5",
         "95",
         "True",
         "0",
         "0",
         "0",
         "235",
         "25",
         "2011-06-04",
         "2018-08-25",
         "96.0",
         "100.0",
         "100.0",
         "100.0",
         "100.0",
         "90.0",
         "100.0",
         "FALSO",
         "27.0",
         "spain",
         "girona",
         "2019-02-19"
        ],
        [
         "6",
         "58512",
         "Stylish & cozy 3BR near Sagrada Familia",
         "Welcome to my home!<br /><br />My lovely 3 bedroom apartment is located in a traditional Catalan neighborhood close to Hospital Sant Pau (10 min walk) and the iconic Sagrada Familia (20 min walk). Enjoy exploring Barcelona with ease - two nearest metro stations:  Camp de l�Arpa (4 min by walk) and Clot (6 min by walk). Very safe area, quiet at night and family-friendly.<br />Gorgeous wooden floors, open ceilings, a modern and stylish decor and a beautifully integrated American kitchen add to the flat�s charm.<br /><br /><b>The space</b><br />My 3 bedroom apartment is spacious, with beautifully quirky decor and a relaxed feel. It�s the ideal place to come back to after a day of exploring. Great transport links and at a walking distance from Sagrada Familia mean you�ll be right in the hub of the city but able to escape the hustle and bustle! <br /><br />The living area is very cozy with a large, comfy sofa-bed and a flat-screen TV with HBO included, so please sit back and make yourself a",
         "280070",
         "el Camp de l'Arpa del Clot",
         "Sant Mart�",
         "Entire home/apt",
         "6",
         "2.0",
         "3.0",
         "4.0",
         "Shampoo, Washer, Wifi, Oven, Cooking basics, Hair dryer, TV, Heating, Extra pillows and blankets, First aid kit, Smoke alarm, Hangers, Essentials, Air conditioning, Bed linens, Stove, Carbon monoxide alarm, Microwave, Paid parking off premises, Host greets you, Hot water, Bathtub, Kitchen, Iron, Long term stays allowed, Refrigerator, Fire extinguisher, Coffee maker, Laptop-friendly workspace, Dishes and silverware]",
         "950.0",
         "5",
         "90",
         "True",
         "30",
         "60",
         "90",
         "331",
         "382",
         "2011-04-08",
         "2020-03-02",
         "89.0",
         "90.0",
         "90.0",
         "90.0",
         "90.0",
         "90.0",
         "90.0",
         "VERDADERO",
         "329.0",
         "spain",
         "barcelona",
         "2020-10-12"
        ],
        [
         "7",
         "71603",
         "PENTHOUSE1 BEST PRICE 15/21.07 PROMO LAST MINUTE!",
         "The apartment you are about to book has everything you need for a top quality stay.  We have more than 6 years providing people around the world the perfect home away from home, so relax and enjoy, you are on the perfect hands now...  HUTB-003878 Old world style meets modern convenience in a newly renovated penthouse for rent in the heart of Barcelona�s city center. Whether searching for a romantic get-away or family holidays, our Ausias Marc apartment guarantees a comfortable and luxury stay.The apartment has been completely renovated and modernized to achieve the quality and high standard necessary to make this a luxury apartment for our visitor to Barcelona.You can see this from the moment you step into the tastefully, styled fireplace, as well as the perfectly preserved facade of the 18th Century Palace where this apartment is located. The apartment is located in a building catalogued as an historical an esthetical emblem of Barcelona. The location cannot be better, the neighborhoo",
         "366654",
         "la Dreta de l'Eixample",
         "Eixample",
         "Entire home/apt",
         "3",
         "2.0",
         "1.0",
         "4.0",
         "TV,Cable TV,Internet,Wireless Internet,Air conditioning,Kitchen,Smoking allowed,Pets allowed,Doorman,Gym,Elevator,Hot tub,Indoor fireplace,Heating,Family/kid friendly,Suitable for events,Washer,Dryer",
         "3900.0",
         "3",
         "5",
         "True",
         "28",
         "55",
         "85",
         "360",
         "33",
         "2011-02-16",
         "2017-06-05",
         "94.0",
         "100.0",
         "100.0",
         "100.0",
         "90.0",
         "100.0",
         "90.0",
         "FALSO",
         "42.0",
         "spain",
         "barcelona",
         "2017-07-06"
        ],
        [
         "8",
         "72150",
         "Sunny attic duplex flat with terrace next to Sol",
         "The apartment is a quiet, secluded idyll in the heart of Madrid. It was renovated and redecorated in 2014. With 3 bedrooms distributed over 2 floors, it can host up to 9 people (1 double bed and 1 single bed per bedroom). You will enjoy the intimacy and quiet  of the rooftop terrace.<br /><br /><b>The space</b><br />The apartment is a quiet, secluded idyll in the heart of Madrid. It offers a breathtaking view of the city and the surrounding landscape from an intimate rooftop terrace. <br />The apartment is on the fourth floor of a historic building from the late 19th century. It has been completely renovated and redecorated in 2014.   <br />The main living space is a spacious, living / dining area, which is directly connected to a large terrace, through a large sliding glass door.<br />The total living area is 90 square meters, including upstairs, downstairs and a 20 square meters terrace. The first floor contains a living room, American-style open-plan kitchen, a bathroom, and a bedro",
         "364585",
         "Embajadores",
         "Centro",
         "Entire home/apt",
         "5",
         "2.0",
         "3.0",
         "6.0",
         "Shampoo, Luggage dropoff allowed, Paid parking on premises, Refrigerator, Coffee maker, Long term stays allowed, Dryer, Heating, Hot water, Patio or balcony, Washer, Oven, Stove, Air conditioning, Wifi, Essentials, Kitchen, Dishes and silverware, Smoke alarm, Iron, Cooking basics, Hangers, Carbon monoxide alarm, Laptop-friendly workspace, Hot tub, Hair dryer, Microwave, Building staff]",
         "790.0",
         "2",
         "1125",
         "True",
         "29",
         "59",
         "89",
         "179",
         "108",
         "2011-02-13",
         "2020-07-31",
         "91.0",
         "90.0",
         "90.0",
         "100.0",
         "100.0",
         "100.0",
         "90.0",
         "FALSO",
         "91.0",
         "spain",
         "madrid",
         "2020-11-06"
        ],
        [
         "9",
         "73683",
         "Sagrada Familia area for 12 people",
         "An ideal location for a big group, two apartments in the same building, one directly above the other.  Huge choice of stunning experiences can be included: Jet skis, Flyboard, Parasailing, Jet boat, Hoverboard, Sailing trips, Kayaks, Segways ... NOTE: Local city tax is NOT included in the price paid to Airbnb and must be paid upon arrival. Currently the city tax is �2.48 per person per night up to a maximum of 7 nights for guests over 16 years old. NOTE: If you want to see all my properties and boats please have a look at: https://www.airbnb.com/s?host_id=135703. The apartments are situated on the second and third floors, at the front, in a traditional 1930�s apartment block, which has recently been fully restored to a high standard. You can also add different stunning activities:  - Jet Ski rides, �100 for 30 minutes, or 180� for 60 minutes (no license required - up to 2 people). - Flyboard experience: �85 / 15 minutes (1 person), �160 / 30 minutes (up to 2 people), �300 / 60 min. (up",
         "135703",
         "el Camp d'en Grassot i Gr�cia Nova",
         "Gr�cia",
         "Entire home/apt",
         "12",
         "2.0",
         "4.0",
         "14.0",
         "TV,Cable TV,Internet,Wifi,Air conditioning,Kitchen,Paid parking off premises,Elevator,Buzzer/wireless intercom,Heating,Family/kid friendly,Washer,Smoke detector,Carbon monoxide detector,Fire extinguisher,Essentials,Shampoo,24-hour check-in,Hangers,Hair dryer,Iron,Laptop friendly workspace,Self check-in,Smart lock,High chair,Pack �n Play/travel crib,Hot water,Luggage dropoff allowed",
         "3000.0",
         "2",
         "60",
         "True",
         "8",
         "12",
         "23",
         "296",
         "120",
         "2011-06-04",
         "2018-05-20",
         "92.0",
         "90.0",
         "90.0",
         "100.0",
         "100.0",
         "90.0",
         "90.0",
         "VERDADERO",
         "14.0",
         "spain",
         "barcelona",
         "2018-06-09"
        ],
        [
         "10",
         "73692",
         "Rustic apartment : Rambla Catalunya (HUTB-005863)",
         "Located in the centre of Barcelona (near Plaza Catalunya and Passeig de Gracia), this wonderful 2 bedroom apartment is on the 4th floor of a charming building, on the famous road called Ramba de Catalunya. Ideal for groups of up to 5 people Located in the centre of Barcelona , this wonderful centrally heated apartment is on the 4th floor of a charming building (with elevator), removing it from the bustle of the street below. This beautifully decorated 2 bedroom apartment is a hit for groups of up to 5 people, and boasts a bright twin bedroom with large cupboard for storage, and a small interior single bedroom, with smaller storage space. Both bedrooms lead to the air-conditioned lounge, containing the comfortable double sofa bed, and the dining and TV areas. The main bedroom and lounge also have balconies, from which you can view the world below. The bathroom contains a shower cubicle, while the kitchen is fully equipped with all the conveniences you�d expect such as electric cooker, f",
         "297545",
         "la Dreta de l'Eixample",
         "Eixample",
         "Entire home/apt",
         "5",
         "1.0",
         "2.0",
         "3.0",
         "TV,Wireless Internet,Air conditioning,Kitchen,Elevator,Buzzer/wireless intercom,Heating,Family/kid friendly,Washer,Fire extinguisher,Essentials,Hangers,Hair dryer,Iron",
         "1050.0",
         "2",
         "90",
         "True",
         "9",
         "39",
         "63",
         "307",
         "29",
         "2012-08-01",
         "2017-08-03",
         "84.0",
         "90.0",
         "80.0",
         "100.0",
         "90.0",
         "100.0",
         "90.0",
         "VERDADERO",
         "46.0",
         "spain",
         "barcelona",
         "2017-10-07"
        ],
        [
         "11",
         "79755",
         "3Br-2bath-AC Full 5 stars reviews!",
         "90 m2 apartment, 2 baths, 3 bedrooms. Fully equipped kitchen, dishwasher, washing machine, etc. There is WiFi internet, TV, DVD, HiFi, air conditioning and programable heating. Lots of public transport within 1 minute distance and great location. Come visit Barcelona and stay where locals live. Enjoy my quiet, sunny and beautifully located apartment! I am right now living on it, with my wife and baby, but we will be out during the dates you have chosen (and will leave it perfectly ready for you). This means it is even better equipped, including baby stuff, but it has changed a bit from the pictures. Contact me previously if you have any questions. My place is a 90 m2 apartment (around 1000 sq. feet) with air conditioning, 2 double bedrooms (one with a king size bed and one with 2 individual beds) and an additional single bedroom, plus 2 full bathrooms. The living-room is large and bright. The kitchen is fully equipped, with everything necessary to cook, laundry machine and dishwasher.",
         "429939",
         "l'Antiga Esquerra de l'Eixample",
         "Eixample",
         "Entire home/apt",
         "5",
         "2.0",
         "3.0",
         "4.0",
         "TV,Internet,Wireless Internet,Air conditioning,Wheelchair accessible,Kitchen,Doorman,Elevator,Heating,Family/kid friendly,Washer,Smoke detector,Carbon monoxide detector,Fire extinguisher,Essentials,Shampoo,24-hour check-in,Hangers,Hair dryer,Iron,Laptop friendly workspace,Outlet covers,Bathtub,Baby bath,Changing table,High chair,Children�s books and toys,Crib,Pack �n Play/travel crib,Room-darkening shades,Children�s dinnerware,Game console,Hot water,Bed linens,Extra pillows and blankets,Ethernet connection,Microwave,Coffee maker,Refrigerator,Dishwasher,Dishes and silverware,Cooking basics,Oven,Stove",
         "1100.0",
         "3",
         "365",
         "True",
         "9",
         "10",
         "10",
         "10",
         "189",
         "2011-04-24",
         "2016-10-01",
         "98.0",
         "100.0",
         "100.0",
         "100.0",
         "100.0",
         "100.0",
         "100.0",
         "VERDADERO",
         "234.0",
         "spain",
         "barcelona",
         "2017-12-09"
        ],
        [
         "12",
         "89756",
         "Old town 1, 6minutesfrom Ramblas",
         "ONLY FOR FAMILIES or people over 25 years old! Old town Ramblas  1 apartment with 3 BEDROOM  Right in the city centre only 6/7 minutes from Las Ramblas, so walking distance to all the major attractions, Gothic quarter, beach, montjuic. 8 beds including sof� beds (2 double + 2 single + 4 sofabeds) it is forbidden to add more people than 9 we could ask you to leave the apartment if you break this rule. Thanks. ith tourist licence:  N�HUTB 003874 ONLY FOR FAMILIES ro people over 25 years old!    The Old Town 1 apartment Apartment with a total capacity up to  9 guests/groups of families. 3 BEDROOMS   Right in the city centre only 6/7 minutes from Las Ramblas, so walking distance to all the major attractions, Gothic quarter and the Port but in a nice quiet street so you can sleep at night. It has 3 double bedrooms;   with 8 beds including the sofa beds  :      1 bedroom   with 1 king size bed + 1 single sofa bed   (for 3 people) 1 bedroom with 2 single  beds for 2 people  (this bed can be j",
         "488117",
         "el Raval",
         "Ciutat Vella",
         "Entire home/apt",
         "9",
         "1.0",
         "3.0",
         "8.0",
         "TV,Wireless Internet,Air conditioning,Wheelchair accessible,Kitchen,Elevator in building,Buzzer/wireless intercom,Heating,Family/kid friendly,Washer,Smoke detector,Carbon monoxide detector,Fire extinguisher,Essentials,Hangers,Hair dryer,Iron",
         "2800.0",
         "6",
         "60",
         "True",
         "7",
         "23",
         "53",
         "328",
         "9",
         "2012-11-02",
         "2016-11-29",
         "89.0",
         "90.0",
         "90.0",
         "100.0",
         "100.0",
         "90.0",
         "80.0",
         "VERDADERO",
         "17.0",
         "spain",
         "barcelona",
         "2017-04-08"
        ],
        [
         "13",
         "89776",
         "Modernist flat Downtown Casa Estap� | Barcelona",
         "Unique and rare ! Stay in the Casa Estap�, jewel of catalan modernism.  In the city center of Barcelona, perfectly situated for metro and North Station, the 40m2 apartment is a protected monument, fully equipped, double bedroom and view to Passeig de Sant Joan. = > It can only be rented through Airbnb. Apartment of 40 m in beautiful modernist building called Casa Estap�, first house of the Modernist road.  It consists of a living room, overlooking the Passeig de Sant Joan and the Arc de Triomph, with an American kitchen and a sofa bed, a large bedroom with a 160x190 cm bed and a complete bathroom with an Italian shower.  Located in the city center, on Passeig de Sant Joan adjacent to the Arc de Triomphe, 5 minutes from the Parque de la Ciutadella and the Born and 10 minutes walk from Plaza Catalunya and the historic town (Ciutat Vella neighborhood and Gothic).  Perfectly connected by metro (stop on the same block) and bus, and 200 meters from the North Station (bus to Girona airport).",
         "488151",
         "el Fort Pienc",
         "Eixample",
         "Entire home/apt",
         "4",
         "1.0",
         "1.0",
         "2.0",
         "TV,Internet,Wifi,Air conditioning,Kitchen,Elevator,Buzzer/wireless intercom,Heating,Family/kid friendly,Essentials,Shampoo,Hangers,Hair dryer,Iron,Laptop friendly workspace",
         "650.0",
         "3",
         "365",
         "True",
         "7",
         "18",
         "41",
         "224",
         "322",
         "2011-11-10",
         "2019-12-01",
         "96.0",
         "100.0",
         "100.0",
         "100.0",
         "100.0",
         "100.0",
         "100.0",
         "VERDADERO",
         "327.0",
         "spain",
         "barcelona",
         "2019-12-10"
        ],
        [
         "14",
         "89954",
         "Amazing apt in the historic center",
         "Beautiful, new, central and cosy apartment perfect for a family or friends trip with everything you need to feel as at your own home. We try to offer the best accommodation for our guests Newly refurbished apartment. Beautiful, charming and comfortable. Duplex apartment: First floor with spacious living room, kitchen and bathroom. Second floor with two double bedrooms including wardrobes. Lumber room. High quality construction materials. La Latina-Austrias area. Most ancient and beautiful Downtown neighbourhood in the city but feeling like living in a small town. Street with restricted traffic. 10 minutes walking distance to Plaza Mayor and 5 minutes to Palacio Real. Next to everything (few minutes walking distance): Palacio Real, Museo del Prado, Thyssen and Reina Sof�a, traditional markets, shopping, located in one of the best �tapas� areas in Madrid. High speed Internet access WI-FI, printer, i pod player, dvd and cd player, LCD TV, juicer, toaster, hairdryer, kettle, coffee maker,",
         "487095",
         "Palacio",
         "Centro",
         "Entire home/apt",
         "6",
         "1.0",
         "2.0",
         "3.0",
         "TV,Cable TV,Wifi,Air conditioning,Kitchen,Elevator,Heating,Family/kid friendly,Washer,Smoke detector,First aid kit,Fire extinguisher,Essentials,Shampoo,Hangers,Hair dryer,Iron,Laptop friendly workspace,translation missing: en.hosting_amenity_50,High chair,Children�s books and toys,Crib,Hot water,Luggage dropoff allowed,Long term stays allowed,Host greets you,Paid parking on premises",
         "1030.0",
         "2",
         "20",
         "True",
         "27",
         "48",
         "49",
         "61",
         "181",
         "2011-07-01",
         "2018-11-01",
         "97.0",
         "100.0",
         "100.0",
         "100.0",
         "100.0",
         "100.0",
         "100.0",
         "FALSO",
         "202.0",
         "spain",
         "madrid",
         "2018-11-07"
        ],
        [
         "15",
         "96807",
         "double room, bathroom",
         "Double room Private bathroom with shower ROOM 1: With double bed or two single beds  Special offers for groups or families: Can be 6 guests in 3 bedrooms  .- Extra person �. 15 ROOM 2: 1 SINGLE BED ROOM 3: 1 DOUBLE BED AND 1 SINGLE BED FACILITIES: Excellent location train Cercanias Renfe (urban & fastest)  5 blocks to the station,   7 minutes to Atocha, 15 minutes to Puerta del Sol, downtown, tourism, theaters, cinemas retaurantes Casino Madrid museums, the Prado, Reina Sofia, Tissen, Plaza de Cibeles, Retiro Park. The bus 136  at the corner of the houuse. And metro close 8 corners of the house. wi-fi cable tv washer and dryer The room over loks a pedestrian street a garden area, is very quiet, where  no car traffic,  and  is very  sunny all year. There are  all kinds of good supermarkets and 2 shopping malls in our area. The house is our family, my grandson Angel  26 years old and I, we speak several languages, Spanish, English, Bulgarian, German, you  are welcome to stay with",
         "513331",
         "Palomeras Bajas",
         "Puente de Vallecas",
         "Private room",
         "2",
         "1.0",
         "1.0",
         "2.0",
         "TV,Internet,Wifi,Wheelchair accessible,Kitchen,Free parking on premises,Elevator,Buzzer/wireless intercom,Heating,Washer,Dryer,Essentials,Lock on bedroom door,Hangers,Hair dryer,Iron,translation missing: en.hosting_amenity_49,translation missing: en.hosting_amenity_50,Bed linens,Extra pillows and blankets,Ethernet connection,Pocket wifi",
         "290.0",
         "4",
         "365",
         "True",
         "30",
         "60",
         "90",
         "365",
         "77",
         "2011-06-08",
         "2019-07-07",
         "91.0",
         "90.0",
         "90.0",
         "90.0",
         "90.0",
         "80.0",
         "90.0",
         "FALSO",
         "74.0",
         "spain",
         "madrid",
         "2019-12-10"
        ],
        [
         "16",
         "101580",
         "Big house in PARADISE",
         "Luxury and quiet villa in Cala Canyelles (2km from Lloret de Mar, and 6km from Tossa de Mar) 67km to Barcelona. This villa is divided in 4 completely independent apartments. Both on main floor are joined in a very big space but can be separated by a double door.  The other 2 are completely independent. 1000m2 plot with gardens, big swimming-pool 13x6,5m, gimnastic, sauna and jacuzzi. house. It is situated in, Cala Canyelles a private urbanization between Lloret de Mar and Tossa de Mar. The house is 700m to the Canyelles beach, 2km to Lloret de Mar and 6km from Tossa de Mar. There are 4 apartments (completely independent) sharing the swimming pool, and spa. (also the washing machine and dry-machine). Every Apartment has a double master bedroom and a saloon where there is a double single beds that are the sofa-beds. The bed sheet and towels are included. Apartments upstairs (4 and 5) can be joined together as a common big space (on ap 4 you can have lunch together up to 16 people)....t",
         "532063",
         "Lloret de Mar",
         null,
         "Entire home/apt",
         "16",
         "4.0",
         "4.0",
         "12.0",
         "TV,Cable TV,Internet,Wifi,Air conditioning,Pool,Kitchen,Free parking on premises,Gym,Hot tub,Indoor fireplace,Heating,Suitable for events,Washer,Dryer,Smoke detector,Carbon monoxide detector,Essentials,Shampoo,Hangers,Hair dryer,Iron,Laptop friendly workspace,translation missing: en.hosting_amenity_49,translation missing: en.hosting_amenity_50,Crib,Hot water,Long term stays allowed,Host greets you",
         "950.0",
         "2",
         "30",
         "True",
         "22",
         "52",
         "82",
         "237",
         "14",
         "2017-05-28",
         "2018-10-14",
         "99.0",
         "100.0",
         "100.0",
         "100.0",
         "100.0",
         "90.0",
         "100.0",
         "VERDADERO",
         "73.0",
         "spain",
         "girona",
         "2018-12-22"
        ],
        [
         "17",
         "103386",
         "Central 2 Bedrooms, 3/5 pers. Wi-Fi",
         "This is Edificio Palomar Apartments, I will try to make you feel like home and you will discover Valencia in a great location, just right in the Historical Center. Because every journey is an experience we want to be part of yours. Located right in the Historical Centre you can find this new apartment in a restored 19th-century building, 2 bedrooms + sunny living-room + kitchen + 1 bathroom. Sleep max 5 persons , beds distribution: 1 double and 2 single beds + sofa bed. Lift access and fully equipped: -Towels and hairdryer included. - Microwave. - Oven. - Fridge & Freezer. - Dishwasher. - Toaster. - Hand blender. - Coffee Machine + Kettle. - Orange Juice Squeezer. - Cutlery, Table ware. - Coffee set. - Crockery. - TV in lounge and Master room. - DVD player. - Bed linen. - Air conditioning cool / heat. - Free Internet Wi-Fi.  - Baby set: Cot + baby chair + baby bath (for free). - Free luggage room service. You can rent a bike or moto Vespa to visit the City, also Segway tours. Recepti",
         "508042",
         "EL PILAR",
         "CIUTAT VELLA",
         "Entire home/apt",
         "5",
         "1.0",
         "2.0",
         "3.0",
         "TV,Wifi,Air conditioning,Kitchen,Paid parking off premises,Elevator,Buzzer/wireless intercom,Heating,Family/kid friendly,Washer,Dryer,First aid kit,Safety card,Fire extinguisher,Essentials,Shampoo,24-hour check-in,Hangers,Hair dryer,Iron,Laptop friendly workspace,Baby bath,High chair,Children�s books and toys,Crib,Pack �n Play/travel crib,Hot water,Bed linens,Microwave,Coffee maker,Refrigerator,Dishwasher,Dishes and silverware,Cooking basics,Oven,Stove,Patio or balcony,Luggage dropoff allowed,Host greets you",
         "840.0",
         "1",
         "14",
         "True",
         "17",
         "38",
         "64",
         "229",
         "13",
         "2011-11-01",
         "2019-04-19",
         "93.0",
         "100.0",
         "100.0",
         "100.0",
         "90.0",
         "90.0",
         "100.0",
         "FALSO",
         "13.0",
         "spain",
         "valencia",
         "2019-10-31"
        ],
        [
         "18",
         "107437",
         "A beautiful  villa in Barcelona",
         "A conserved, period villa situated in the midst of the lung of Barcelona.Unbeatably situated within the metropolitan area of Barcelona and in the midst of the Collserola Nature Reserve. A beautiful, 1930s house Tourist L :HUTB-009025 The house is at  3 minutes walking to the metro station  A conserved, period villa situated in the midst of the lung of Barcelona.Unbeatably situated within the metropolitan area of Barcelona and in the midst of the Collserola Nature Reserve. A beautiful, 1930s house, pleasantly situated in typically Mediterranean woodland with terraces. Recently restored maintaining its original, officially catalogued style. , at an unbelievable 5, 10 or 15 minutes by metro  to the center  and at only 3 minutes walk from the nearest station, Les Planes. Surounded by nature, wildlife and silence, yet maintaining the advantages of a great city, the house is ideal for combining work and holidaying, creativity and culture activities or simply enjoying moments of tranq",
         "556626",
         "Vallvidrera, el Tibidabo i les Planes",
         "Sarri�-Sant Gervasi",
         "Entire home/apt",
         "8",
         "2.0",
         "5.0",
         "6.0",
         "TV,Wifi,Kitchen,Free parking on premises,Smoking allowed,Pets allowed,Doorman,Free street parking,Buzzer/wireless intercom,Heating,Family/kid friendly,Washer,Dryer,Smoke detector,Carbon monoxide detector,First aid kit,Fire extinguisher,Essentials,Shampoo,24-hour check-in,Hangers,Hair dryer,Iron,Laptop friendly workspace,Crib,Hot water,Host greets you",
         "2200.0",
         "3",
         "120",
         "True",
         "12",
         "41",
         "59",
         "250",
         "34",
         "2011-07-08",
         "2018-07-28",
         "93.0",
         "100.0",
         "100.0",
         "100.0",
         "100.0",
         "100.0",
         "90.0",
         "VERDADERO",
         "38.0",
         "spain",
         "barcelona",
         "2018-10-10"
        ],
        [
         "19",
         "121210",
         "BIG ROOM IN CITY CENTER,NEAR BEACH!",
         "The best room in Barcelona!  Nice room, in a central and quiet part of Barcelona. Very near of the beach. With fast WIFI of course. In my opini�n, the best option for rest after one jorney discovering this amazing city. HELLO!  My name is Carmen, and I've got a newly renovated apartment in central Barcelona for your holiday in this cosmopolitan city! For rent is a bedroom for two people. The room is spacious, bright and quiet, and the apartment is very nice, spacious, bright and well kept... with a huge balcony!  WHAT DOES THE PRICE INCLUDE? Night in a double bed, sheets, towels, wardrobe, and access to the entire apartment (also the kitchen, which is fully equipped). And WIFI WHAT IS NOT INCLUDED? Noise. The windows and balcony overlook a quiet pedestrian street, so that you can rest well. (this is important, in city center usually there are so noise) In the flat there are 3 rooms, you are booking for one, and there are other for other guests, and other for me. You can use all apartme",
         "594334",
         "el Fort Pienc",
         "Eixample",
         "Private room",
         "2",
         "0.0",
         "1.0",
         "1.0",
         "TV,Internet,Wifi,Kitchen,Elevator,Washer,Essentials,translation missing: en.hosting_amenity_49,translation missing: en.hosting_amenity_50",
         "510.0",
         "5",
         "365",
         "True",
         "13",
         "38",
         "68",
         "68",
         "154",
         "2011-05-31",
         "2017-12-09",
         "89.0",
         "90.0",
         "90.0",
         "90.0",
         "90.0",
         "90.0",
         "90.0",
         "FALSO",
         "184.0",
         "spain",
         "barcelona",
         "2018-04-12"
        ],
        [
         "20",
         "128463",
         "Private Suite in residential area!!",
         "My House is located in the quiet district of Sants, catalan typical neighborhood. It is very close to the metro and bus, and just 10 minutes to the Centre. It is a quiet neighborhood, and cheaper than the Center. There are many restaurants and bars.. Welcome to Barcelona!!! Private suite whith  Double Bed and private bathroom, tv, cupboards. Suitable for either a couple or individual user.  I provide linens and towels. Convenient location:  7 minutes by metro from Centre of Barcelona. 7 minutes walking to Sants Central Train Station. 15 minutes walking to the Football Club Barcelona 10 minutes walking to Montjuic Fair and L'Hospitalet  ((MOBILE WORLD CONGRESS), congress and exhibition area) 3 minutes walking to all transportation (bus or metro) Restaurants, bars, groceries, pharmacy, general shopping- 3 minutes Bus #46 - direct to airport- 3 minutes walk.  Located in the District of Sants, very quiet and safe. Sants is a neighborhood in the southern part of Barcelona. Formerly an indus",
         "635253",
         "Sants",
         "Sants-Montju�c",
         "Private room",
         "2",
         "2.0",
         "1.0",
         "1.0",
         "TV,Wireless Internet,Air conditioning,Kitchen,Heating,Family/kid friendly,Smoke detector,Carbon monoxide detector,Essentials,Shampoo,Hangers,Hair dryer,Iron,Laptop friendly workspace,Bed linens,Extra pillows and blankets,Microwave,Coffee maker,Refrigerator,Dishes and silverware,Oven,Stove,Garden or backyard,Long term stays allowed",
         "300.0",
         "3",
         "1125",
         "True",
         "3",
         "16",
         "28",
         "264",
         "184",
         "2011-09-03",
         "2018-01-23",
         "97.0",
         "100.0",
         "100.0",
         "100.0",
         "100.0",
         "90.0",
         "100.0",
         "VERDADERO",
         "235.0",
         "spain",
         "barcelona",
         "2018-02-07"
        ],
        [
         "21",
         "131987",
         "SEVILLA CENTER 4 PAX.GREAT REVIEWS 1 BR+WIFI+AC",
         "OFFER SPRING & SUMMER : -5 or 6 nights=5% disccount off -7 nights ( or more )= 15 % disccount off -Max. capacity=4 guests -Located in hystoric quarter of Sevilla -Walking distance to all sights -Air conditioning/heating -WiFi -Lots of natural light -Bus to Airport ( EA line )+Plaza de Armas Bus Station+Public Parking in Plaza de Armas (5 min walking) -93% 5 stars reviews N� de Registro vivienda de Uso Turistico : VFT/SE/504 *VERY IMPORTANT ADVICE : Since mid-June (Phone number hidden by Airbnb) , in the cleaning process after each check-out, the use of an OZONE generating machine will be implemented to disinfect all rooms. This will lengthen the time required in the total cleaning process between each check-out and check-in, and therefore guests are asked to understand if the check-in time at the property should be delayed a bit . *OFFERS : *SPECIAL LONG STAY OFFERS ( from 2 weeks ) FOR APRIL , MAY , JUNE, JULY & SEPTEMBER *OFFERS SPRING & SUMMER : -5 or 6 nights=5% disccount off -7 n",
         "1535528",
         "San Vicente",
         "Casco Antiguo",
         "Entire home/apt",
         "4",
         "1.0",
         "1.0",
         "2.0",
         "TV,Wifi,Air conditioning,Kitchen,Paid parking off premises,Heating,Family/kid friendly,Washer,First aid kit,Fire extinguisher,Essentials,Shampoo,Hangers,Hair dryer,Iron,Bathtub,Hot water,Bed linens,Extra pillows and blankets,Ethernet connection,Microwave,Coffee maker,Refrigerator,Dishes and silverware,Cooking basics,Oven,Stove,Patio or balcony,Long term stays allowed,Host greets you",
         "690.0",
         "4",
         "365",
         "True",
         "30",
         "60",
         "90",
         "163",
         "235",
         "2012-03-12",
         "2020-03-12",
         "98.0",
         "100.0",
         "100.0",
         "100.0",
         "100.0",
         "100.0",
         "100.0",
         "VERDADERO",
         "235.0",
         "spain",
         "sevilla",
         "2020-05-30"
        ],
        [
         "22",
         "144471",
         "BEST ZONEPL.CATALU�A ROOM X 2BATHROOM +WIFI",
         "HELLO PEOPLE :=)  are you on vacation? or business? Perhaps a student? or just passing through ..! is just what you need ..! =) I' renting a room per days, weeks or monthly Rent a quiet and comfortable rooms in a beautifully renovated apartment. ROOMS DESCRIPTIONS: ROOM #1 It is a double room with a double bed and closet ideal for relaxing after a long day! In summer could has different price, depend of the season or week events in BCN. The most important thing!!! the flat is my home, I'm opening the doors of my home for you, please take care of it as yours, keep everything clean and respect the place.   Only one rule we have, DRUNK PEOPLE ARE NOT ALLOWED IN MY HOME, PLEASE!! THANKS!! if you are the person who like drink and drink without any control until get sick, this is not your place!! sorry!! ;D EXTRA SERVICES:  Kitchen not available for cooking * refrigerator use and microwave are free. FREE SERVICES FROM THE HOST:- WiFi, Fresh water bottle. - Cookies for breakfast. - Calls fixe",
         "700165",
         "Sant Antoni",
         "Eixample",
         "Private room",
         "2",
         "1.0",
         "1.0",
         "1.0",
         "Wifi,Wheelchair accessible,Elevator,Heating,Family/kid friendly,Washer,Smoke detector,Fire extinguisher,Essentials,Hangers,Iron,Laptop friendly workspace,Crib,Hot water,Host greets you,Paid parking on premises",
         "490.0",
         "2",
         "365",
         "True",
         "19",
         "49",
         "79",
         "354",
         "34",
         "2011-07-04",
         "2018-08-15",
         "88.0",
         "80.0",
         "90.0",
         "90.0",
         "90.0",
         "90.0",
         "80.0",
         "FALSO",
         "38.0",
         "spain",
         "barcelona",
         "2018-10-10"
        ],
        [
         "23",
         "157327",
         "House in Llofriu (Costa Brava)",
         "New rebuilt and furnished house pool bbq If you and your family/friends want to get relaxed in a quiet atmosphere with splendid views over Emporda area this is the place to stay! 8 km from Pals beach and 5 km from Palafrugell and La Bisbal downtowns House in the middle of countryside with an amazing view over the Emporda area. All new, from walls to furniture, decorated with very good taste. 230 square meters and 8,000 square meters of garden-terrain. 4 bedrooms with ensuite bathroom: 1 doble bed room  2 rooms with twin beds  and  1 room with 1 single bed and another one underneath that can be taken out. Fully equipped kitchen. Very large and comfortable dinning and sitting room.  Comfortable in/out swimming pool Terrace with places for dinning and sitting. BBQ by the pool.  WC for visits. Located in a quiet paradise that creates an immense relaxed atmosphere, unbelievable dawns and sunsets.   8 km away from Pals beach and 5 km from Palafrugell and La Bisbal downtowns. Ideal for famili",
         "755634",
         "Forallac",
         null,
         "Entire home/apt",
         "8",
         "5.0",
         "4.0",
         "8.0",
         "TV,Air conditioning,Pool,Kitchen,Free parking on premises,Indoor fireplace,Buzzer/wireless intercom,Heating,Family/kid friendly,Washer,Dryer,Fire extinguisher,Essentials,Shampoo",
         "950.0",
         "7",
         "90",
         "True",
         "27",
         "57",
         "87",
         "362",
         "1",
         "2015-08-18",
         "2015-08-18",
         "80.0",
         "80.0",
         "100.0",
         "100.0",
         "100.0",
         "80.0",
         "80.0",
         "FALSO",
         "2.0",
         "spain",
         "girona",
         "2020-04-30"
        ],
        [
         "24",
         "158238",
         "CENTRAL Wi Fi  w/TERRASSE 8 people",
         "Welcome to Barcelona ! Barcelona is a colorfull city with an amazing athmosphere plenty of experiences to enjoy. We want you to feel the Barcelona experience in our JUST RENEWED apartment a few minutes from the city center. Not included : touristic tax. Is 2,25 euros per person and night with a maximum of 7 nights Expenses of water, electricity are included untill 150 euros per month. Internet Included. Late check in after 8 pm : 25 euros Late check in after 10 pm : 35 euros Raquel 4 double rooms. 2 single beds And 3 double beds Metro Line 3 Palza del Centro stop Registro: (PHONE NUMBER HIDDEN)   Expedient (PHONE NUMBER HIDDEN) Registro: (PHONE NUMBER HIDDEN)   Expedient (PHONE NUMBER HIDDEN)",
         "759411",
         "les Corts",
         "Les Corts",
         "Entire home/apt",
         "8",
         "2.0",
         "4.0",
         "5.0",
         "TV,Internet,Wifi,Kitchen,Paid parking off premises,Smoking allowed,Pets allowed,Elevator,Buzzer/wireless intercom,Family/kid friendly,Washer,Essentials,Hair dryer,Iron,translation missing: en.hosting_amenity_50,Hot water,Host greets you",
         "1200.0",
         "3",
         "365",
         "True",
         "24",
         "54",
         "84",
         "359",
         "97",
         "2011-07-22",
         "2018-05-21",
         "89.0",
         "90.0",
         "80.0",
         "100.0",
         "100.0",
         "90.0",
         "90.0",
         "FALSO",
         "116.0",
         "spain",
         "barcelona",
         "2018-06-09"
        ],
        [
         "25",
         "164621",
         "Nice&Cozy ensuite DoubleBedroom",
         "** Please, always check availability before booking ** Thanks! Monthly rate available on request during low season. If this room is booked, I rent another one in the same flat, have a look: https://www.airbnb.es/rooms/164364 About the apartment: 3 Bedrooms 2 Bathrooms (1 en-suite) Fully furnished kitchen Living Room Patio/Terrace The flat is spacious and well distributed. There are 3 bedrooms: 2 for airbnb guests and one is mine. The kitchen is modern, functional and fully equipped. The living room is at the higher floor, it has 2 super comfy sofa, a yoga space and a very good vibe. There is a TV (smaller than the one on the photos). The patio is great for relaxing on the hammock and chilling out in the pleasant summer evenings.  This double room is the best and largest room of the flat: it has en-suite private bathroom and it overlooks the patio. The location is great! The flat is located in Porto Pi, a very convenient area close to...everything! Next door there is Porto Pi shopping c",
         "684289",
         "Palma de Mallorca",
         null,
         "Private room",
         "1",
         "1.0",
         "1.0",
         "0.0",
         "TV,Wifi,Kitchen,Smoking allowed,Free street parking,Buzzer/wireless intercom,Heating,Family/kid friendly,Washer,Essentials,Hangers,Hair dryer,Iron,Private entrance,Hot water,Luggage dropoff allowed,Long term stays allowed,Host greets you",
         "330.0",
         "7",
         "1125",
         "True",
         "10",
         "39",
         "69",
         "344",
         "44",
         "2011-07-26",
         "2017-06-25",
         "95.0",
         "100.0",
         "100.0",
         "100.0",
         "100.0",
         "90.0",
         "90.0",
         "FALSO",
         "45.0",
         "spain",
         "mallorca",
         "2019-08-31"
        ],
        [
         "26",
         "170750",
         "2-bedroom attic & rooftop terrace",
         "JESUS DEL VALLE Apartment Gorgeous, bright two-bedroom attic apartment with a great terrace and all the amenities. Set in a strategic location very close to Gran V�a, the main commercial and entertainment area in Madrid. This flat is perfect for couples, families or a group of friends. FEATURES This bright apartment outfitted with all comforts has an open loft-style living room with two single  beds like sofa,  connecting to a fully-equipped kitchen with all the necessary appliances to make your stay as homey as possible.   The living room also leads out to a large (20 m2) terrace, with outdoor furniture , allowing you to enjoy wonderful views of the sunset over the city rooftops and Madrid sky-line.  The apartment has a master bedroom with a double bed and another smaller bedroom with a double bed, both with built-in wardrobes. Amenities. 4th 1/2  floor with elevator ( last 10 steps on foot), air conditioning, electric heating, bed linens & towels, refrigerator, oven, microwave, kitch",
         "814490",
         "Universidad",
         "Centro",
         "Entire home/apt",
         "4",
         "1.0",
         "2.0",
         "4.0",
         "TV,Cable TV,Wifi,Air conditioning,Kitchen,Smoking allowed,Elevator,Heating,Family/kid friendly,Washer,Essentials,Shampoo,Hangers,Hair dryer,Iron,Bathtub,Hot water,Bed linens,Extra pillows and blankets,Microwave,Coffee maker,Refrigerator,Dishwasher,Dishes and silverware,Cooking basics,Oven,Stove,Patio or balcony,Well-lit path to entrance,Step-free access,Step-free access,Host greets you,Paid parking on premises",
         "900.0",
         "2",
         "30",
         "True",
         "11",
         "11",
         "11",
         "17",
         "189",
         "2011-10-28",
         "2018-11-18",
         "90.0",
         "90.0",
         "90.0",
         "100.0",
         "100.0",
         "100.0",
         "90.0",
         "FALSO",
         "218.0",
         "spain",
         "madrid",
         "2018-12-10"
        ],
        [
         "27",
         "176827",
         "Se alquilan habitaciones en Madrid",
         "Es un piso totalmente reformado. Todas las habitaciones tienen llave y est�n amuebladas. Se puede ir andando a todos los lugares importantes de Madrid. Las personas que se queden por meses tienen derecho a cocina, wii, calefacci�n, lavadora, etc. En el piso tenemos 5 ba�os y 2 duchas. Todas las habitaciones est�n amuebladas, algunas tienen medio ba�o dentro, tienen llave en la puerta. . Las personas que alquilen por meses tienen derecho a cocina, lavadora, wifi, etc. Las personas que alquilen por d�as sueltos, tienen derecho a wifi, microondas, frigorifico, utilizar platos, vasos, cubiertos, ( no los hornillos de la cocina ). La lavadora es un servicio aparte. Lo que sea necesario Esta rodeado de cines, teatros, centros comerciales, restaurantes, museos, etc. Se puede ir andando a todos los sitios importantes. El autob�s que sale del aeropuerto, la parada la tiene en Cibeles y se tarde 10 minutos andando al piso. Esta comunicado con todo tipo de transportes a metro, autobuses, tren etc",
         "845399",
         "Universidad",
         "Centro",
         "Private room",
         "7",
         "5.0",
         "1.0",
         "7.0",
         "TV,Internet,Wireless Internet,Kitchen,Smoking allowed,Heating,Washer,Dryer,Fire extinguisher,Shampoo,Lock on bedroom door,24-hour check-in,Hangers,Hair dryer,Iron,translation missing: en.hosting_amenity_49,translation missing: en.hosting_amenity_50",
         "280.0",
         "1",
         "730",
         "True",
         "13",
         "43",
         "72",
         "347",
         "156",
         "2012-02-06",
         "2017-04-02",
         "83.0",
         "80.0",
         "90.0",
         "90.0",
         "90.0",
         "90.0",
         "90.0",
         "VERDADERO",
         "248.0",
         "spain",
         "madrid",
         "2017-04-08"
        ],
        [
         "28",
         "178456",
         "Apartment 50m from beach in Alcudia Port, MALLORCA",
         "Nice apartment in Port d'Alc�dia, just a minute walk from the beach. Bright place with traditional Majorcan style decor.  Two bedrooms and big living room, with large terraces. Fully equipped. Bed linen and towels (bath, as well as beach) are included. Also beach accessories (like hammocks or umbrellas), as well as toys for children. It has everything you need to spend a few days (full kitchen with all kinds of accessories, oven, microwave, dishwasher, washing machine). Very well located. Fully equiped apartment with 2 complete bedrooms (with double bed) / 1 bathroom recently renovated / 1 large living room with big sofa / complete kitchen with all kind of accessories and appliances / big terraces). Very well located: - 50m. from the best beach in the north of Mallorca: Port d'Alc�dia. - 50m. from the big lake. - Less than 3 km. from s'Albufera (the only protected natural park in the whole island). - Really close of different activities as rental bicycles and different articles for the",
         "804167",
         "Alc�dia",
         null,
         "Entire home/apt",
         "4",
         "1.0",
         "2.0",
         "2.0",
         "TV,Wifi,Kitchen,Smoking allowed,Free street parking,Family/kid friendly,Suitable for events,Washer,Essentials,Shampoo,24-hour check-in,Hangers,Hair dryer,Iron,Laptop friendly workspace,Private entrance,High chair,Children�s books and toys,Crib,Hot water,Bed linens,Extra pillows and blankets,Microwave,Coffee maker,Refrigerator,Dishwasher,Dishes and silverware,Cooking basics,Oven,BBQ grill,Patio or balcony",
         "900.0",
         "4",
         "325",
         "True",
         "30",
         "60",
         "90",
         "365",
         "33",
         "2012-08-23",
         "2019-09-25",
         "88.0",
         "90.0",
         "90.0",
         "90.0",
         "100.0",
         "90.0",
         "90.0",
         "VERDADERO",
         "37.0",
         "spain",
         "mallorca",
         "2019-11-28"
        ],
        [
         "29",
         "183346",
         "ROOM IN CENTRAL REFURBISH FLAT",
         "I RENT a room in my fully big (125 m2) just refurbished big appartment in XIX century modernist building from 5th august to 3rd september.  The appartment is very bright with 5 balconies to a calm and nice street, west orientation. Although it has just been refurbished it has an antiquite and genuine style, with all modern comodities such a fully equiped kitchen, stack system, TV... It is located in a very elegant central area next to the trendiest and sophisticated shops and cafes and restaurant, the French consulate, 2 very nice parcs... and at the same time very central: just 5-10 min walk to Paseo de la Castella, Gran V�a, Plaza de Cibeles... Next to 2 metro stations: Chueca and Alonso Martinez. The flat has a very big living-room, a small living room, a connected fireplace room and a connected dinning room. It has also 3 bedrooms (one with a big bed and 2 big sofa beds; all of them 1,35 m), and 2 complete bathrooms. A big kitchen with washing machine, equipped kitchen with microwa",
         "877571",
         "Justicia",
         "Centro",
         "Private room",
         "2",
         "2.0",
         "1.0",
         "1.0",
         "TV,Cable TV,Internet,Wireless Internet,Kitchen,Smoking allowed,Pets allowed,Indoor fireplace,Buzzer/wireless intercom,Heating,Family/kid friendly,Washer,Dryer,Fire extinguisher,Essentials,Shampoo,24-hour check-in,Hangers,Hair dryer,Iron,Laptop friendly workspace",
         "300.0",
         "1",
         "730",
         "True",
         "0",
         "0",
         "0",
         "137",
         "12",
         "2013-11-16",
         "2016-05-29",
         "83.0",
         "90.0",
         "80.0",
         "90.0",
         "100.0",
         "90.0",
         "80.0",
         "FALSO",
         "24.0",
         "spain",
         "madrid",
         "2018-01-17"
        ],
        [
         "30",
         "186221",
         "La Sagrada Familia: small and simple room.",
         "Place to relax after a long day exploring Barcelona.  La Sagrada Familia? My house is 4 blocks.  People coming for parties are NOT WELCOME. Small room: very quiet, no parties. Reading this description before booking. There is an option, which is to send a message to host. The room is ONLY FOR sightseeing NOT for students, workers , etc. LGBT. Before sending the booking ... I hope a message, ALWAYS.      Only for people who come to barcelona for sightseeing: not room to live or students.      People coming for parties are NOT WELCOME.      Very quiet place, located in neighborhood of Gracia, one of the busiest area of Barcelona, just 4 blocks from the Sagrada Familia, 10 minutes walking to Sant Pau Hospital, and 4 metro stops from the Parc G�ell. You will visit 3 emblematic places of Barcelona, walking: La Sagrada Familia, Parc Guell; Sant Pau Hospital.      This room is for ONE person, simple and very useful. It has a window, but not direct sunlight. The room has fans and heati",
         "494228",
         "el Camp d'en Grassot i Gr�cia Nova",
         "Gr�cia",
         "Private room",
         "1",
         "0.0",
         "1.0",
         "1.0",
         "TV,Wireless Internet,Wheelchair accessible,Kitchen,Doorman,Elevator in building,Buzzer/wireless intercom,Heating,Washer,Dryer,Smoke detector,First aid kit,Safety card,Essentials,Shampoo,Hangers,Hair dryer,Iron,translation missing: en.hosting_amenity_49,translation missing: en.hosting_amenity_50",
         "150.0",
         "2",
         "3",
         "True",
         "5",
         "11",
         "37",
         "234",
         "416",
         "2011-08-22",
         "2017-04-02",
         "89.0",
         "90.0",
         "100.0",
         "100.0",
         "90.0",
         "90.0",
         "90.0",
         "VERDADERO",
         "607.0",
         "spain",
         "barcelona",
         "2017-04-08"
        ],
        [
         "31",
         "193923",
         "Single room in the real Barcelona",
         "Very well connected flat in a safe and peaceful neighbourhood. The metro station is just around the corner, and it is the green Line 3 Valldaura, in just a few minutes you can reach tourist attractions, all museums, the beach and the airport. Relax in a very nice and clean place after visit Barcelona. Very well connected flat in a safe and peaceful neighbourhood.  You have a little room with a single bed, fresh sheets, and towels, a private wardrobe, a night table, lamp, and fan. Guests also have a little space in the fridge and the toilet, and if needed they can use the kitchen. We can provide a hair dryer if needed and all of these services are free. If you don't feel like a tourist, here you can experience the real Barcelona with local people, low prices and peaceful spots to avoid crowding. Just ask me and enjoy your holiday :-) Minimum reserve: 2 nights The metro station is just around the corner, and it is the green Line 3 Valldaura, in just a few minutes you can reach touris",
         "939590",
         "Horta",
         "Horta-Guinard�",
         "Private room",
         "1",
         "1.0",
         "1.0",
         "1.0",
         "TV,Wifi,Kitchen,Elevator,Buzzer/wireless intercom,Washer,Smoke detector,Carbon monoxide detector,First aid kit,Essentials,Shampoo,Hangers,Hair dryer,Iron,Laptop friendly workspace,translation missing: en.hosting_amenity_49,translation missing: en.hosting_amenity_50,Hot water,Bed linens,Microwave,Coffee maker,Refrigerator,Dishes and silverware,Cooking basics,Oven,Stove,Host greets you",
         "200.0",
         "3",
         "60",
         "True",
         "2",
         "17",
         "29",
         "253",
         "125",
         "2011-09-02",
         "2020-02-10",
         "98.0",
         "100.0",
         "100.0",
         "100.0",
         "100.0",
         "90.0",
         "100.0",
         "FALSO",
         "121.0",
         "spain",
         "barcelona",
         "2020-02-16"
        ],
        [
         "32",
         "206846",
         "Duplex studio near Picasso Museum",
         "This bright and ultra-modern apartment in Barcelona is located in the trendy El Born area of the city, within walking distance of many fantastic museums and other must-see attractions. The apartment itself is well-lit and completely renovated, with the exposed ceiling beams and wooden French doors adding an authentic touch to the otherwise modern style. The living room has a TV and comfortable sofa bed, as well as access to the balcony overlooking a typical street in El Born. The kitchen is bright and fully equipped with up-to-date appliances and utensils. It also has a dining table where you can sit down to enjoy your home-cooked meals. Above the kitchen you will find a second storey, accessible by wooden stairs, where there is a double bed, meaning this gorgeous apartment can accommodate up to two people in total. The bathroom is bright with a sizeable walk-in shower.  This fantastic Barcelona apartment is perfect for those looking to stay in a modern home-away-from-home, situated in",
         "612665",
         "Sant Pere, Santa Caterina i la Ribera",
         "Ciutat Vella",
         "Entire home/apt",
         "2",
         "2.0",
         "1.0",
         "1.0",
         "TV,Internet,Wifi,Air conditioning,Kitchen,Paid parking off premises,Heating,Family/kid friendly,Smoke detector,First aid kit,Essentials,Shampoo,Hangers,Hair dryer,Iron,Laptop friendly workspace,Self check-in,Lockbox,Hot water,Bed linens,Extra pillows and blankets,Microwave,Coffee maker,Refrigerator,Dishwasher,Dishes and silverware,Cooking basics,Oven,Stove,Patio or balcony,Long term stays allowed,Cleaning before checkout,Wide entrance,Accessible-height toilet,Paid parking on premises",
         "1280.0",
         "31",
         "150",
         "True",
         "5",
         "7",
         "25",
         "205",
         "77",
         "2012-02-12",
         "2019-10-09",
         "92.0",
         "90.0",
         "90.0",
         "90.0",
         "90.0",
         "100.0",
         "90.0",
         "FALSO",
         "81.0",
         "spain",
         "barcelona",
         "2019-12-10"
        ],
        [
         "33",
         "210156",
         "ALCUDIA BEACH -MALLORCA HOLIDAYS",
         "A quiet house on a private street Chalet-style house, recently refurbished located in a quiet private road on a plot of 400 m2 with 200 m2 built, overlooking the Lago Menor and the mountains. It has garage, three bedrooms, kitchen, two bathrooms, living room and three porches, sun terrace, garden, outdoor shower, satellite TV and air conditioning (hot / cold) throughout the house and BBQ.. Located in a quiet area, but at the same time very close to leisure facilities of the Port of Alcudia: nightclubs, bars, restaurants and shops. It is also within 5 minutes of Pedro Mas i Reus one of the most important streets of the port, which leads to the Alcudia beach with fine white sand and crystalline waters, it is a Blue Flag beach where you can also perform various aquatic activities . In the same area is the Hidropark. In the Lago Menor water activities are carried out also in the surrounding area there are stables and horse riding.  A few kilometers from Puerto de Alcudia, lies the charming",
         "1036132",
         "Alc�dia",
         null,
         "Entire home/apt",
         "6",
         "2.0",
         "3.0",
         "4.0",
         "TV,Cable TV,Internet,Wifi,Air conditioning,Kitchen,Free parking on premises,Smoking allowed,Heating,Family/kid friendly,Washer,First aid kit,Essentials,Hangers,Hair dryer,Iron,Private entrance,High chair,Crib,Hot water,Bed linens,Extra pillows and blankets,Microwave,Coffee maker,Refrigerator,Dishwasher,Dishes and silverware,Cooking basics,Oven,Stove,BBQ grill,Patio or balcony,Garden or backyard,Host greets you",
         "580.0",
         "5",
         "365",
         "True",
         "26",
         "44",
         "49",
         "102",
         "90",
         "2012-08-11",
         "2019-11-02",
         "97.0",
         "100.0",
         "100.0",
         "100.0",
         "100.0",
         "90.0",
         "100.0",
         "VERDADERO",
         "97.0",
         "spain",
         "mallorca",
         "2020-03-22"
        ],
        [
         "34",
         "213296",
         "Big/Centric Room-Palau de la Musica",
         "Hi, I rent a big room in my 150 square meters and neo-modernist style appartment, in the antic center of Barcelona. It is located in the same street than the famous Palau de la Musica, very near Las Ramblas. The room has a doble bed, a table, and an access to the balcony where you will see the backyard. . I provide wifi internet connexion, sheets and towels. The flat is very well located because you can visit the best sites of Barcelona just walking, and if you are a little lazy, the nearest metro station (Urquinaona) will drive you anywhere you want. I have a beaux-arts degree, especialized in old part of town paintings. 2 very peaceful and sympathic cats give me company. You will  enjoy the tranquility of the place.  If you have any doubt, please contact me.",
         "1100014",
         "Sant Pere, Santa Caterina i la Ribera",
         "Ciutat Vella",
         "Private room",
         "2",
         "1.0",
         "1.0",
         "1.0",
         "Wireless Internet,Smoking allowed,Pets live on this property,Cat(s),Buzzer/wireless intercom,Washer,Essentials,Hangers,Iron",
         "250.0",
         "2",
         "12",
         "True",
         "8",
         "14",
         "25",
         "224",
         "168",
         "2012-05-20",
         "2017-01-21",
         "89.0",
         "90.0",
         "80.0",
         "90.0",
         "90.0",
         "100.0",
         "90.0",
         "FALSO",
         "292.0",
         "spain",
         "barcelona",
         "2017-02-09"
        ],
        [
         "35",
         "214970",
         "Cozy Room in central flat Barcelona",
         "Dear potential Guest, if you fancy staying in my place, I would appreciate very much that you carefully read all my information before booking. It is important!  Also be aware that you will need to provide your National Identity Number for my tax purposes. Thank you! <br /><br />My flat is located in Poble Sec, at the end of the street whose last block has a bit of steepness (REAL THIRD floor, my Name is on the Door), no lift. You will live only with me and my cat Odina.<br /><br />GAY friendly!<br /><br /><b>The space</b><br />YOUR ROOM:<br />� 1.40m double bed.  High quality mattress (viscoeslastic).<br />� Storage space in shelves and two free spaces in the closet, hanging drawers. <br />� Glass chamber window to minimize external noise (the area is already quiet). <br />� Central heating in winter and ventilator in summer.<br />� Bed linen, duvet, pillows and two towels per person. <br />� Relaxed and quiet environment in the whole flat.<br />� You can see Sagrada Familia at the di",
         "1110014",
         "el Poble Sec",
         "Sants-Montju�c",
         "Private room",
         "2",
         "1.0",
         "1.0",
         "1.0",
         "Kitchen, Extra pillows and blankets, Coffee maker, Oven, Hot water, Hair dryer, Bed linens, Cooking basics, Dishes and silverware, Stove, Refrigerator, Heating, Host greets you, Essentials]",
         "330.0",
         "30",
         "90",
         "True",
         "1",
         "1",
         "1",
         "1",
         "144",
         "2012-06-13",
         "2020-03-02",
         "93.0",
         "90.0",
         "100.0",
         "90.0",
         "90.0",
         "90.0",
         "90.0",
         "VERDADERO",
         "139.0",
         "spain",
         "barcelona",
         "2020-12-16"
        ],
        [
         "36",
         "222753",
         "House near City Arts+Wi-fi",
         "House with interior garden just few minutes from downtown. The room for three is on the first floor and has a private bathroom (ground floor) , living room and balcony overlooking the street. Also Wi-Fi 100 Mb.<br /><br /><b>The space</b><br />House with interior garden in a special place in Valencia, just minutes -15 min.- from downtown, popular district of Russafa, next to the old Turia riverbed, the biggest garden in Europe (more 7 km of garden) where the Valencian people make athletics, cycling or simply walking and rest. There is the City of Arts and Sciences and its impressive buildings designed by Valencian architect Santiago Calatrava.<br />This is a ground floor with a nice little garden and a beautiful facade belongs to the popular modernism of the city. We take care of our home so that the traveler find it clean, tidy and are comfortable as at home. The room is on the first floor for guests total independence, and also has private bathroom on the ground floor, living room an",
         "709516",
         "EN CORTS",
         "QUATRE CARRERES",
         "Private room",
         "3",
         "1.0",
         "2.0",
         "2.0",
         "Waterfront, Washer, Long term stays allowed, Coffee maker, Bed linens, Free street parking, Stove, Garden or backyard, Heating, Dishes and silverware, Hot water, Essentials, Laptop-friendly workspace, Kitchen, Extra pillows and blankets, Wifi, Shampoo, Oven, Patio or balcony, Host greets you, Hangers, Hair dryer, Iron, BBQ grill]",
         "310.0",
         "2",
         "365",
         "True",
         "30",
         "60",
         "90",
         "365",
         "172",
         "2011-10-22",
         "2020-03-01",
         "86.0",
         "90.0",
         "90.0",
         "100.0",
         "90.0",
         "90.0",
         "90.0",
         "FALSO",
         "156.0",
         "spain",
         "valencia",
         "2020-11-10"
        ],
        [
         "37",
         "255195",
         "Lightly apartment with balcony to Las Ramblas",
         "Amazing location of this lightly and sunny apartment. Shared terrace with spectacular views of Barcelona and sunset. <br />Fully furnished and equipped apartment (A/C, heating, internet WIFI,...). Also with kitchenware, bedlinen and towels,...<br />ONLY for MONTHLY RENTALS (over 32 nights)<br /><br /><b>Guest access</b><br />Great and large shared terrace.<br />Free laundry services.",
         "1310304",
         "el Raval",
         "Ciutat Vella",
         "Entire home/apt",
         "4",
         "1.0",
         "1.0",
         "2.0",
         "Refrigerator, Patio or balcony, Cooking basics, Heating, Dryer, Essentials, Wifi, Coffee maker, Air conditioning, Stove, Elevator, TV, Microwave, Washer, Dishes and silverware]",
         "330.0",
         "32",
         "330",
         "True",
         "30",
         "60",
         "90",
         "330",
         "17",
         "2012-03-02",
         "2020-10-09",
         "85.0",
         "80.0",
         "80.0",
         "90.0",
         "90.0",
         "100.0",
         "80.0",
         "FALSO",
         "16.0",
         "spain",
         "barcelona",
         "2020-11-06"
        ],
        [
         "38",
         "265647",
         "Canig� (Can Llobet)  PG-455",
         "Canig� is an appartment, in Can LLobet, Located in Capmany. Is a XVIII century house that has been completly restored . The ground floor is the common area for all clients with Jacuzzi, Swimming pool and garden. Fully equipped cottage, consisting of kitchen, bathroom, living room and 3 bedrooms. It has garden, terraces and a spa. the situation is excellent, 20 minutes from the beaches of the Costa Brava, 15 minutes south of France near Figueres, Roses, Cadaqu�s, and the natural park Aiguamolls de l'Empord� in the natural setting of Albera (Alt Empord�, Girona). ideal for family,  in the village there are shops, restaurants ... walking areas ... megalithic routes, from the house offer various activities, quad tours, paintball, travel with globe ... The ground floor is the common area for all clients with Jacuzzi, Swimming pool and garden.",
         "1393119",
         "Capmany",
         null,
         "Entire home/apt",
         "6",
         "2.0",
         "3.0",
         "5.0",
         "TV,Cable TV,Internet,Wifi,Air conditioning,Pool,Kitchen,Free parking on premises,Smoking allowed,Pets allowed,Hot tub,Buzzer/wireless intercom,Heating,Family/kid friendly,Washer,Fire extinguisher,Essentials,Hangers,Hair dryer,Iron,Self check-in,Lockbox,High chair,Pack �n Play/travel crib,Hot water",
         "1750.0",
         "7",
         "14",
         "True",
         "17",
         "41",
         "71",
         "333",
         "8",
         "2013-08-19",
         "2017-09-03",
         "95.0",
         "90.0",
         "100.0",
         "100.0",
         "100.0",
         "90.0",
         "90.0",
         "VERDADERO",
         "13.0",
         "spain",
         "girona",
         "2018-08-30"
        ],
        [
         "39",
         "279439",
         "sociable apartment in Raval 3",
         "Welcome to the Piero's home (Italian)!   The house is in Raval, surely one of the most characteristic districts of Barcelona.   The apartment consists of 3 separate rooms that are available with separate beds or double beds, according to needs of guests. There are bathroom (with 2 separate spaces between shower and toilet),  kitchen and living room. Washing machine is for private use only but there's a laundry very close to the house. The owner lives in the same apartment.  While maintaining its original charm, Raval is able to offer any type of entertainment, from the old prestigious restaurant, passing by flamenco shows till late night and a wide choice of pubs, discos and clubs. Only 200 meters from metro station Liceu on the Ramblas (Barcelona's main street), you can easily reach any point of cultural interest, like Gaudi's houses, churches, museums etc... Piero may suggest a culinary trip to food markets, gourmet restaurants and tapas bars. The main market of La Boqueria in Barcel",
         "1457147",
         "el Raval",
         "Ciutat Vella",
         "Private room",
         "7",
         "2.0",
         "3.0",
         "4.0",
         "Internet,Wifi,Kitchen,Smoking allowed,Elevator,Family/kid friendly,First aid kit,Fire extinguisher,Essentials,Lock on bedroom door,Hangers,Hair dryer,Crib,Hot water,Extra pillows and blankets,Pocket wifi,Coffee maker,Refrigerator,Dishes and silverware,Cooking basics,Oven,Stove,Patio or balcony,Luggage dropoff allowed",
         "250.0",
         "2",
         "21",
         "True",
         "1",
         "4",
         "13",
         "13",
         "102",
         "2012-02-20",
         "2018-04-13",
         "91.0",
         "90.0",
         "90.0",
         "100.0",
         "100.0",
         "90.0",
         "90.0",
         "FALSO",
         "134.0",
         "spain",
         "barcelona",
         "2018-05-14"
        ],
        [
         "40",
         "305213",
         "PLATANEROS - BRIGHT CENTRAL APT",
         "Is one of the best locations in town.  Walking  to the historic area takes you 10 minutes,  Las Ramblas, Gothic, Born. Plaza Catalunya and Paseo de Gracia 15 minutes, museums, shops  . From the apartment the are several buses take to the beach in 10 minutes, but also along a nice walk you reach in half and hour. Montjuich is 15 minutes walking or the telepheric in Paral.lel station 5 minutes from the apartment. Plaza de Espa�a 10 minutes walking and easy available from Sants railway station. Situated in one of the best areas in Barcelona, 10 minutes walk to Las Ramblas and also a short walk to the historic centre, museums, restaurants, shops and markets, and night life of Barcelona. Excellent comunications with public transport, only one minutes walk to Parallel metro station, on metro lines 2 and 3, Fira Barcelona  (Pla�a d' Espagna)  only10 minutes walking or ideal for World Mobbile Congres and also great bus connections, including airport bus. The neighbourhood is residential and pl",
         "1570247",
         "Sant Antoni",
         "Eixample",
         "Entire home/apt",
         "2",
         "1.0",
         "1.0",
         "1.0",
         "TV,Internet,Wireless Internet,Kitchen,Elevator,Buzzer/wireless intercom,Heating,Washer,Fire extinguisher,Essentials,Hangers,translation missing: en.hosting_amenity_49,translation missing: en.hosting_amenity_50,Hot water,Microwave,Coffee maker,Refrigerator,Dishes and silverware,Cooking basics,Stove,Patio or balcony,Waterfront",
         "1050.0",
         "3",
         "28",
         "True",
         "14",
         "24",
         "51",
         "141",
         "170",
         "2012-06-21",
         "2017-07-26",
         "95.0",
         "100.0",
         "100.0",
         "100.0",
         "100.0",
         "90.0",
         "100.0",
         "VERDADERO",
         "272.0",
         "spain",
         "barcelona",
         "2017-08-06"
        ],
        [
         "41",
         "314781",
         "PRIVATE SPACE 40M2, BEST AREA,WIFI",
         "Hi, I have a big private space,  2 double beds (one is bed/sofa), sunny balcony and your own living room in my confortable flat, modernist style, wash machine, internet wifi. Near Sagrada Familia,Ciudadella Parc,the beach,Pza Catalu�a, Metro Stations Girona and Tetuan Sunny and huge private space with 2 double beds with balcony and your own living room in a shared modernist flat, located in the best neighborhood in Barcelona, the famous EIXAMPLE, bars, restorants, boutiques, art galleries all near around. Walking distance to all major atractions in the city, like PLA�A CATALUNYA and the worldwide known RAMBLAS,  GOTHIC QUARTER, ARC DE TRIOMF, BARCELONETA, SAGRADA FAMILIA. Very close to metro station (L2 Girona L4 Tetuan) with excellent transport links to everywhere in Barcelona and nearby. The flat is a typical catalan modernist flat, with a total of 200 sq meters, with mosaic  floors, very bright and very spacious. We are easy going, respectful and polite. Wifi internet, also washing",
         "1604485",
         "la Dreta de l'Eixample",
         "Eixample",
         "Private room",
         "2",
         "2.0",
         "1.0",
         "2.0",
         "Wireless Internet,Smoking allowed,Pets allowed,Elevator in building,Buzzer/wireless intercom,Family/kid friendly,Washer",
         "1000.0",
         "2",
         "60",
         "True",
         "30",
         "60",
         "90",
         "365",
         "13",
         "2013-08-14",
         "2016-06-27",
         "93.0",
         "90.0",
         "80.0",
         "100.0",
         "90.0",
         "100.0",
         "100.0",
         "FALSO",
         "31.0",
         "spain",
         "barcelona",
         "2017-02-09"
        ],
        [
         "42",
         "318826",
         "Wonderful apartment. JUST REMODELED",
         "Magnificent apartment. Extremely bright and sunny  NEWLY RENOVATED! AIRBNB NEW! REF: VT-2148. Tourist Companies Registry of the General Directorate of Tourism of the Community of Madrid. The apartment is newly renovated, modern and quite comfortable. Located on the third floor, bright and sunny, has an approximate area of 60 square meters and has 3 bedrooms (suitable for 4 people), kitchen, bathroom and terrace. It is fully equipped with wooden floors, modern furnishings and amenities: dishwasher, microwave, oven, WIFI, flat screen TV available ... even a printer that can print their boarding passes. LOCATION It is located in the area of the Country House, near the historic center. It is perfect for all the attractions of Madrid. Immediately to the apartment there is a shopping street with shops, bars, restaurants ... CLOSE TO DOWNTOWN Perfect for exploring the heart of the city, with a wide range of public transport, efficient and cheap. � Metro: just 5 stops from the historic center",
         "1636378",
         "Aluche",
         "Latina",
         "Entire home/apt",
         "4",
         "1.0",
         "3.0",
         "3.0",
         "TV,Internet,Wifi,Air conditioning,Kitchen,Elevator,Free street parking,Buzzer/wireless intercom,Heating,Family/kid friendly,Washer,First aid kit,Essentials,Shampoo,Hangers,Hair dryer,Iron,Laptop friendly workspace,Room-darkening shades,Hot water,Microwave,Coffee maker,Refrigerator,Dishwasher,Dishes and silverware,Cooking basics,Oven,Long term stays allowed,Host greets you",
         "900.0",
         "6",
         "1125",
         "True",
         "23",
         "53",
         "83",
         "358",
         "11",
         "2012-05-07",
         "2018-12-14",
         "98.0",
         "100.0",
         "100.0",
         "100.0",
         "100.0",
         "90.0",
         "90.0",
         "FALSO",
         "13.0",
         "spain",
         "madrid",
         "2019-02-06"
        ],
        [
         "43",
         "323679",
         "Marina Costa Brava - view on canal",
         "Furnished Apartment in the Empuria brava marina (close to Center and main beach). Furnished 2 bedrooms.  the apartment has a 20 square meter living room, an equipped kitchen and is orientated West. Set on the 1st floor. 15 square feet terrace . The apartment is a five-minute walk from the beach (around 400 meters). Quiet place in a dead-end road. The apartment is located at the front of one canal. Privative car park.  Features : 1 bathroom / Sleeps : 4 Appliances : cooktop/ Microwave/ Oven / Ironing board /laundry machine Electronics : TV(66 cm) Furnishing : Air conditioning / sofa bed/ bedspread/ 2 double bed",
         "1552289",
         "Castell� d'Emp�ries",
         null,
         "Entire home/apt",
         "4",
         "1.0",
         "2.0",
         "3.0",
         "TV,Cable TV,Air conditioning,Kitchen,Free parking on premises,Heating,Washer,Dryer,Essentials,Hangers,Hair dryer,Iron,Hot water,Host greets you",
         "550.0",
         "14",
         "30",
         "True",
         "0",
         "0",
         "26",
         "301",
         "7",
         "2012-08-05",
         "2018-08-18",
         "86.0",
         "90.0",
         "90.0",
         "100.0",
         "100.0",
         "90.0",
         "90.0",
         "FALSO",
         "8.0",
         "spain",
         "girona",
         "2019-06-30"
        ],
        [
         "44",
         "326464",
         "Charm and quiet room",
         "<b>The space</b><br />The room is in the House Laxkanberria seventeenth century in the village of Arraioz, Baztan Valley. A place of dreams, rural, rustic, living nature, near the Natural Park of Bertiz. and less than an hour of Biarritz, San Sebastian, Pamplona. It has a full bathroom, central heating, wifi, TV. And above all, very quiet. You can enjoy in the area of ??the greenway Bidassoa, hiking, civil architecture in their homes and villages amazing wonderful, good food, nature as a whole and of the Basque culture and traditions. <br />Enjoy nature in its pure state, the harmony of their homes and villages. Uncover an ancient culture and languages??, the Basque Country. Ethnographic Museum, megalithic monuments, windmills, towers. In Arraioz same can enjoy the charm of the three palaces of the fifteenth century. And every day you have a mall.",
         "1669001",
         "Can Peguera",
         "Nou Barris",
         "Private room",
         "2",
         "1.0",
         "1.0",
         "1.0",
         "Essentials, Heating, Hair dryer, Hangers, Lock on bedroom door, Bed linens, Long term stays allowed, Wifi, Breakfast, Shower gel, TV]",
         "600.0",
         "1",
         "1125",
         "True",
         "30",
         "60",
         "90",
         "365",
         "33",
         "2014-10-05",
         "2019-12-28",
         "99.0",
         "100.0",
         "100.0",
         "100.0",
         "100.0",
         "100.0",
         "100.0",
         "FALSO",
         "43.0",
         "spain",
         "barcelona",
         "2021-02-09"
        ],
        [
         "45",
         "330723",
         "SUNNY ROOM WITH BALCONY",
         "<b>The space</b><br />You will have the chance to stay in a bright, and spacious Barcelona apartment with a terrace! The apartment has all the amenities you need. Staying here you will be in the heart of Barcelona, located in the  zone Nou de la Rambla and Paral-lel district , just one block away from the Paral-lel Metro and many buses, and a 10 minute walk to the  Las Ramblas 20 minute walk to Plaza Catalunya or to the beach.<br /><br />The apartment<br />The entire apartment is available with a  sunny double bedrooms.   You will also have access to a spacious, sunny lounge with views of the city. There is also TV, DVD player, WiFi, dishwasher, and a washing machine, heating. There is 2 toilets.  The apartment is located on the 6th floor with a lift.<br /><br />The neighbourhood<br />The apartment is in a perfect location, very close to tourist areas like the Ramblas 15 minute walk to Las Ramblas, Plaza Catalunya and the hustle and bustle of the city center.  <br /><br />Useful info",
         "1687383",
         "el Raval",
         "Ciutat Vella",
         "Private room",
         "2",
         "2.0",
         "1.0",
         "1.0",
         "Elevator, Essentials, Hair dryer, Hangers, Long term stays allowed, Dryer, Cable TV, Wifi, Kitchen, Iron, Washer, TV]",
         "300.0",
         "14",
         "1125",
         "True",
         "30",
         "60",
         "90",
         "365",
         "51",
         "2012-06-28",
         "2019-10-25",
         "93.0",
         "100.0",
         "100.0",
         "100.0",
         "90.0",
         "90.0",
         "100.0",
         "FALSO",
         "49.0",
         "spain",
         "barcelona",
         "2021-02-09"
        ],
        [
         "46",
         "336795",
         "Room in Madrid Center whit WIFI",
         "Room in Madrid Center close to Atocha railstation and all the museum zone. The subway station is Anton Martin and is very close of the house. We have internet and all the needs of modern life... The room in not big but the house is big and buitiful whit a lot of light and in madrid life is in the street not in the room. The house is in the middle of tree famous neighborhood: Lavapies, Huertas and La Latina. We are a couple from Chile and Italy who lives in madrid from a lot of years so we known perfectly the madrid nigthlife. Not worry you will have fun...",
         "1713273",
         "Cortes",
         "Centro",
         "Private room",
         "2",
         "1.0",
         "1.0",
         "1.0",
         "TV,Internet,Wifi,Kitchen,Smoking allowed,Pets live on this property,Cat(s),Buzzer/wireless intercom,Heating,Essentials,Shampoo,Hair dryer,Hot water,Host greets you",
         "250.0",
         "2",
         "1125",
         "True",
         "29",
         "52",
         "71",
         "344",
         "156",
         "2012-05-28",
         "2020-03-15",
         "73.0",
         "80.0",
         "70.0",
         "90.0",
         "90.0",
         "100.0",
         "80.0",
         "FALSO",
         "162.0",
         "spain",
         "madrid",
         "2020-04-17"
        ],
        [
         "47",
         "342557",
         "Berlin's Park at your window. Parking included.",
         "Very nice room in an area with excellent communications. We have the Berlin Park just in front. Our house is new, clean and cozy. In it we live my wife, me and our daughters. The area is very safe. Accommodation in a family, ideal for anyone but especially for women traveling alone. Possibility of garage, ask us.<br /><br /><b>The space</b><br />Private room in a relaxing flat, ten minutes walk from Real Madrid Santiago Bernab�u Stadium. Well connected by Metro (3 min walk to Concha Espina Station), buses and the new electrical bikes public hiring service from the Municipality (15 min ciclyng to Puerta del Sol). <br />You'll need 40 min to get to barajas Airport by Metro. <br />We are a married couple with two daughters aged nine and seven.<br />You will have a private room for you and a pretty bathroom shared with the girls. <br />The room is quiet, tidy and with lots of light and direct views to Parque de Berl�n, one of the biggests Parks of Madrid. It has a firm and new bed (190x90",
         "1738288",
         "Ciudad Jard�n",
         "Chamart�n",
         "Private room",
         "1",
         "1.0",
         "1.0",
         "1.0",
         "Shampoo, TV, Luggage dropoff allowed, Elevator, Refrigerator, Coffee maker, Free parking on premises, Heating, Hot water, Breakfast, Patio or balcony, Washer, Host greets you, Stove, Wifi, Essentials, Kitchen, Dishes and silverware, Iron, Dishwasher, Cooking basics, Hangers, Laptop-friendly workspace, Hair dryer, Microwave]",
         "700.0",
         "2",
         "120",
         "True",
         "30",
         "60",
         "90",
         "365",
         "55",
         "2013-10-21",
         "2019-11-03",
         "97.0",
         "100.0",
         "100.0",
         "100.0",
         "100.0",
         "100.0",
         "100.0",
         "FALSO",
         "64.0",
         "spain",
         "madrid",
         "2020-11-06"
        ],
        [
         "48",
         "343864",
         "3 BD APT IN THE HEART OF GRACIA",
         "A spacious and comfortable 3 bedrooms apartment located in a 3rd floor with no lift in the picturesque and bohemian Gracia's neighbourhood, next to the Virreina's square and the famous and emblematic Verdi street, full of bars, restaurants, shops and the VO cinema. Safe area. HUTB-009898 A spacious and comfortable 3 bedrooms apartment located located in a 3rd floor with no lift in the picturesque and bohemian Gracia's neighbourhood, next to the Virreina's square and the famous and emblematic Verdi street, full of bars, restaurants, shops and the VO cinema. Safe and peaceful area. This apartment has one double bed, one single bed and one bunk bed, two fully bathrooms (one with shower and the other with bathtub), a cosy living-room with a comfy double sofa-bed and a small balcony facing the Virreina's square and a fully equipped kitchen. It offer a pleasant and relaxing atmosphere, a perfect choice for a family or a group. If you are a big group you can also book the 'Apartment Virreina",
         "1744516",
         "la Vila de Gr�cia",
         "Gr�cia",
         "Entire home/apt",
         "6",
         "2.0",
         "3.0",
         "5.0",
         "TV,Wifi,Kitchen,Buzzer/wireless intercom,Heating,Family/kid friendly,Washer,Essentials,24-hour check-in,Hangers,Hair dryer,Iron,High chair,Crib,Hot water,Long term stays allowed,Host greets you,Paid parking on premises",
         "1390.0",
         "3",
         "1125",
         "True",
         "0",
         "5",
         "35",
         "307",
         "7",
         "2014-06-17",
         "2018-10-14",
         "94.0",
         "100.0",
         "100.0",
         "100.0",
         "90.0",
         "100.0",
         "90.0",
         "VERDADERO",
         "13.0",
         "spain",
         "barcelona",
         "2018-11-07"
        ],
        [
         "49",
         "352772",
         "Elegant Centric Attic WIFI Car Park",
         "Charming, luminous, quiet and comfortable attic in a centric location, you can go to the best Barcelona highlights on food.<br />Nearby you have big and good supermarkets and some of the best restaurants in Barcelona.<br />Easy from airport and high speed train station<br /><br /><b>The space</b><br />Charming, elegant and luminous apartment on the top of the building. <br />It is very well located between Plaza de Espa�a and Plaza de Catalu�a and perfect to go walking to the main sites, Gaudi's houses, Miro's works or down town. All this places are within half an hour ratio.<br />Also it is close to Barcelona's Fair at Plaza de Espa�a.<br />The high speed train station -Sans Station- is nearby.<br />It's at only 20 minutes taxi from the airport.<br />If you have a car, don't worries we provide a car park for free.<br />There are big supermarkets around -Mercadona is the best in Europe- and high quality restaurants also.<br />I recommend Taberna del Clinico and Tatika Berry, two of the",
         "1786501",
         "la Nova Esquerra de l'Eixample",
         "Eixample",
         "Entire home/apt",
         "5",
         "1.0",
         "2.0",
         "4.0",
         "Host greets you, Laptop-friendly workspace, High chair, Dryer, Shampoo, Stove, Hot water, Microwave, Washer, Carbon monoxide alarm, Room-darkening shades, Cooking basics, Patio or balcony, Kitchen, Air conditioning, Free parking on premises, Elevator, TV, Pack u2019n Play/travel crib, Heating, Coffee maker, Hair dryer, Hangers, Refrigerator, Iron, Essentials, Bathtub, Wifi, Oven, Crib, Babysitter recommendations, Dishes and silverware]",
         "850.0",
         "2",
         "90",
         "True",
         "0",
         "0",
         "0",
         "219",
         "103",
         "2014-02-28",
         "2020-10-18",
         "94.0",
         "100.0",
         "90.0",
         "90.0",
         "90.0",
         "90.0",
         "90.0",
         "VERDADERO",
         "126.0",
         "spain",
         "barcelona",
         "2020-11-06"
        ]
       ],
       "shape": {
        "columns": 35,
        "rows": 9650
       }
      },
      "text/html": [
       "<div>\n",
       "<style scoped>\n",
       "    .dataframe tbody tr th:only-of-type {\n",
       "        vertical-align: middle;\n",
       "    }\n",
       "\n",
       "    .dataframe tbody tr th {\n",
       "        vertical-align: top;\n",
       "    }\n",
       "\n",
       "    .dataframe thead th {\n",
       "        text-align: right;\n",
       "    }\n",
       "</style>\n",
       "<table border=\"1\" class=\"dataframe\">\n",
       "  <thead>\n",
       "    <tr style=\"text-align: right;\">\n",
       "      <th></th>\n",
       "      <th>apartment_id</th>\n",
       "      <th>name</th>\n",
       "      <th>description</th>\n",
       "      <th>host_id</th>\n",
       "      <th>neighbourhood_name</th>\n",
       "      <th>neighbourhood_district</th>\n",
       "      <th>room_type</th>\n",
       "      <th>accommodates</th>\n",
       "      <th>bathrooms</th>\n",
       "      <th>bedrooms</th>\n",
       "      <th>...</th>\n",
       "      <th>review_scores_cleanliness</th>\n",
       "      <th>review_scores_checkin</th>\n",
       "      <th>review_scores_communication</th>\n",
       "      <th>review_scores_location</th>\n",
       "      <th>review_scores_value</th>\n",
       "      <th>is_instant_bookable</th>\n",
       "      <th>reviews_per_month</th>\n",
       "      <th>country</th>\n",
       "      <th>city</th>\n",
       "      <th>insert_date</th>\n",
       "    </tr>\n",
       "  </thead>\n",
       "  <tbody>\n",
       "    <tr>\n",
       "      <th>0</th>\n",
       "      <td>11964</td>\n",
       "      <td>A ROOM WITH A VIEW</td>\n",
       "      <td>Private bedroom in our attic apartment. Right ...</td>\n",
       "      <td>45553</td>\n",
       "      <td>Centro</td>\n",
       "      <td>NaN</td>\n",
       "      <td>Private room</td>\n",
       "      <td>2</td>\n",
       "      <td>2.0</td>\n",
       "      <td>1.0</td>\n",
       "      <td>...</td>\n",
       "      <td>100.0</td>\n",
       "      <td>100.0</td>\n",
       "      <td>100.0</td>\n",
       "      <td>100.0</td>\n",
       "      <td>100.0</td>\n",
       "      <td>FALSO</td>\n",
       "      <td>75.0</td>\n",
       "      <td>spain</td>\n",
       "      <td>malaga</td>\n",
       "      <td>2018-07-31</td>\n",
       "    </tr>\n",
       "    <tr>\n",
       "      <th>1</th>\n",
       "      <td>21853</td>\n",
       "      <td>Bright and airy room</td>\n",
       "      <td>We have a quiet and sunny room with a good vie...</td>\n",
       "      <td>83531</td>\n",
       "      <td>C�rmenes</td>\n",
       "      <td>Latina</td>\n",
       "      <td>Private room</td>\n",
       "      <td>1</td>\n",
       "      <td>1.0</td>\n",
       "      <td>1.0</td>\n",
       "      <td>...</td>\n",
       "      <td>90.0</td>\n",
       "      <td>100.0</td>\n",
       "      <td>100.0</td>\n",
       "      <td>80.0</td>\n",
       "      <td>90.0</td>\n",
       "      <td>FALSO</td>\n",
       "      <td>52.0</td>\n",
       "      <td>spain</td>\n",
       "      <td>madrid</td>\n",
       "      <td>2020-01-10</td>\n",
       "    </tr>\n",
       "    <tr>\n",
       "      <th>2</th>\n",
       "      <td>32347</td>\n",
       "      <td>Explore Cultural Sights from a Family-Friendly...</td>\n",
       "      <td>Open French doors and step onto a plant-filled...</td>\n",
       "      <td>139939</td>\n",
       "      <td>San Vicente</td>\n",
       "      <td>Casco Antiguo</td>\n",
       "      <td>Entire home/apt</td>\n",
       "      <td>4</td>\n",
       "      <td>1.0</td>\n",
       "      <td>2.0</td>\n",
       "      <td>...</td>\n",
       "      <td>100.0</td>\n",
       "      <td>100.0</td>\n",
       "      <td>100.0</td>\n",
       "      <td>100.0</td>\n",
       "      <td>100.0</td>\n",
       "      <td>VERDADERO</td>\n",
       "      <td>142.0</td>\n",
       "      <td>spain</td>\n",
       "      <td>sevilla</td>\n",
       "      <td>2019-07-29</td>\n",
       "    </tr>\n",
       "    <tr>\n",
       "      <th>3</th>\n",
       "      <td>35379</td>\n",
       "      <td>Double 02 CasanovaRooms Barcelona</td>\n",
       "      <td>Room at a my apartment. Kitchen and 2 bathroom...</td>\n",
       "      <td>152232</td>\n",
       "      <td>l'Antiga Esquerra de l'Eixample</td>\n",
       "      <td>Eixample</td>\n",
       "      <td>Private room</td>\n",
       "      <td>2</td>\n",
       "      <td>2.0</td>\n",
       "      <td>1.0</td>\n",
       "      <td>...</td>\n",
       "      <td>90.0</td>\n",
       "      <td>100.0</td>\n",
       "      <td>100.0</td>\n",
       "      <td>100.0</td>\n",
       "      <td>90.0</td>\n",
       "      <td>VERDADERO</td>\n",
       "      <td>306.0</td>\n",
       "      <td>spain</td>\n",
       "      <td>barcelona</td>\n",
       "      <td>2020-01-10</td>\n",
       "    </tr>\n",
       "    <tr>\n",
       "      <th>4</th>\n",
       "      <td>35801</td>\n",
       "      <td>Can Torras Farmhouse Studio Suite</td>\n",
       "      <td>Lay in bed &amp; watch sunlight change the mood of...</td>\n",
       "      <td>153805</td>\n",
       "      <td>Quart</td>\n",
       "      <td>NaN</td>\n",
       "      <td>Private room</td>\n",
       "      <td>5</td>\n",
       "      <td>1.0</td>\n",
       "      <td>2.0</td>\n",
       "      <td>...</td>\n",
       "      <td>100.0</td>\n",
       "      <td>100.0</td>\n",
       "      <td>100.0</td>\n",
       "      <td>100.0</td>\n",
       "      <td>100.0</td>\n",
       "      <td>FALSO</td>\n",
       "      <td>39.0</td>\n",
       "      <td>spain</td>\n",
       "      <td>girona</td>\n",
       "      <td>2019-02-19</td>\n",
       "    </tr>\n",
       "    <tr>\n",
       "      <th>...</th>\n",
       "      <td>...</td>\n",
       "      <td>...</td>\n",
       "      <td>...</td>\n",
       "      <td>...</td>\n",
       "      <td>...</td>\n",
       "      <td>...</td>\n",
       "      <td>...</td>\n",
       "      <td>...</td>\n",
       "      <td>...</td>\n",
       "      <td>...</td>\n",
       "      <td>...</td>\n",
       "      <td>...</td>\n",
       "      <td>...</td>\n",
       "      <td>...</td>\n",
       "      <td>...</td>\n",
       "      <td>...</td>\n",
       "      <td>...</td>\n",
       "      <td>...</td>\n",
       "      <td>...</td>\n",
       "      <td>...</td>\n",
       "      <td>...</td>\n",
       "    </tr>\n",
       "    <tr>\n",
       "      <th>9645</th>\n",
       "      <td>47710189</td>\n",
       "      <td>Beautiful house in the centre in Santa Cristin...</td>\n",
       "      <td>Beautiful house in the center of Santa Cristin...</td>\n",
       "      <td>263841355</td>\n",
       "      <td>Santa Cristina d'Aro</td>\n",
       "      <td>NaN</td>\n",
       "      <td>Entire home/apt</td>\n",
       "      <td>8</td>\n",
       "      <td>2.0</td>\n",
       "      <td>4.0</td>\n",
       "      <td>...</td>\n",
       "      <td>100.0</td>\n",
       "      <td>100.0</td>\n",
       "      <td>100.0</td>\n",
       "      <td>100.0</td>\n",
       "      <td>90.0</td>\n",
       "      <td>VERDADERO</td>\n",
       "      <td>25.0</td>\n",
       "      <td>spain</td>\n",
       "      <td>girona</td>\n",
       "      <td>2021-01-31</td>\n",
       "    </tr>\n",
       "    <tr>\n",
       "      <th>9646</th>\n",
       "      <td>47752964</td>\n",
       "      <td>Costa Brava - Palafrugell - playa y monta�a</td>\n",
       "      <td>Piso con acceso directo a piscina. Lugar muy t...</td>\n",
       "      <td>282214688</td>\n",
       "      <td>Palafrugell</td>\n",
       "      <td>NaN</td>\n",
       "      <td>Entire home/apt</td>\n",
       "      <td>7</td>\n",
       "      <td>2.0</td>\n",
       "      <td>3.0</td>\n",
       "      <td>...</td>\n",
       "      <td>100.0</td>\n",
       "      <td>100.0</td>\n",
       "      <td>100.0</td>\n",
       "      <td>100.0</td>\n",
       "      <td>90.0</td>\n",
       "      <td>FALSO</td>\n",
       "      <td>25.0</td>\n",
       "      <td>spain</td>\n",
       "      <td>girona</td>\n",
       "      <td>2021-02-27</td>\n",
       "    </tr>\n",
       "    <tr>\n",
       "      <th>9647</th>\n",
       "      <td>47792016</td>\n",
       "      <td>MODERN AND BRIGHT NEW FLAT IN THE CENTER OF PA...</td>\n",
       "      <td>Modern and new apartment in the old town of Pa...</td>\n",
       "      <td>263841355</td>\n",
       "      <td>Palam�s</td>\n",
       "      <td>NaN</td>\n",
       "      <td>Entire home/apt</td>\n",
       "      <td>6</td>\n",
       "      <td>1.0</td>\n",
       "      <td>3.0</td>\n",
       "      <td>...</td>\n",
       "      <td>100.0</td>\n",
       "      <td>100.0</td>\n",
       "      <td>100.0</td>\n",
       "      <td>100.0</td>\n",
       "      <td>90.0</td>\n",
       "      <td>VERDADERO</td>\n",
       "      <td>25.0</td>\n",
       "      <td>spain</td>\n",
       "      <td>girona</td>\n",
       "      <td>2021-01-31</td>\n",
       "    </tr>\n",
       "    <tr>\n",
       "      <th>9648</th>\n",
       "      <td>47884481</td>\n",
       "      <td>MIT House Olavide III in Madrid</td>\n",
       "      <td>The apartment is in a characteristic building ...</td>\n",
       "      <td>377605855</td>\n",
       "      <td>Trafalgar</td>\n",
       "      <td>Chamber�</td>\n",
       "      <td>Entire home/apt</td>\n",
       "      <td>4</td>\n",
       "      <td>1.0</td>\n",
       "      <td>1.0</td>\n",
       "      <td>...</td>\n",
       "      <td>100.0</td>\n",
       "      <td>100.0</td>\n",
       "      <td>100.0</td>\n",
       "      <td>100.0</td>\n",
       "      <td>90.0</td>\n",
       "      <td>FALSO</td>\n",
       "      <td>105.0</td>\n",
       "      <td>spain</td>\n",
       "      <td>madrid</td>\n",
       "      <td>2021-02-09</td>\n",
       "    </tr>\n",
       "    <tr>\n",
       "      <th>9649</th>\n",
       "      <td>48061552</td>\n",
       "      <td>Gran v�a Double Room</td>\n",
       "      <td>NaN</td>\n",
       "      <td>387478257</td>\n",
       "      <td>Universidad</td>\n",
       "      <td>Centro</td>\n",
       "      <td>Private room</td>\n",
       "      <td>2</td>\n",
       "      <td>2.0</td>\n",
       "      <td>1.0</td>\n",
       "      <td>...</td>\n",
       "      <td>100.0</td>\n",
       "      <td>100.0</td>\n",
       "      <td>100.0</td>\n",
       "      <td>100.0</td>\n",
       "      <td>100.0</td>\n",
       "      <td>FALSO</td>\n",
       "      <td>65.0</td>\n",
       "      <td>spain</td>\n",
       "      <td>madrid</td>\n",
       "      <td>2021-02-09</td>\n",
       "    </tr>\n",
       "  </tbody>\n",
       "</table>\n",
       "<p>9650 rows × 35 columns</p>\n",
       "</div>"
      ],
      "text/plain": [
       "      apartment_id                                               name  \\\n",
       "0            11964                                 A ROOM WITH A VIEW   \n",
       "1            21853                               Bright and airy room   \n",
       "2            32347  Explore Cultural Sights from a Family-Friendly...   \n",
       "3            35379                  Double 02 CasanovaRooms Barcelona   \n",
       "4            35801                  Can Torras Farmhouse Studio Suite   \n",
       "...            ...                                                ...   \n",
       "9645      47710189  Beautiful house in the centre in Santa Cristin...   \n",
       "9646      47752964        Costa Brava - Palafrugell - playa y monta�a   \n",
       "9647      47792016  MODERN AND BRIGHT NEW FLAT IN THE CENTER OF PA...   \n",
       "9648      47884481                    MIT House Olavide III in Madrid   \n",
       "9649      48061552                               Gran v�a Double Room   \n",
       "\n",
       "                                            description    host_id  \\\n",
       "0     Private bedroom in our attic apartment. Right ...      45553   \n",
       "1     We have a quiet and sunny room with a good vie...      83531   \n",
       "2     Open French doors and step onto a plant-filled...     139939   \n",
       "3     Room at a my apartment. Kitchen and 2 bathroom...     152232   \n",
       "4     Lay in bed & watch sunlight change the mood of...     153805   \n",
       "...                                                 ...        ...   \n",
       "9645  Beautiful house in the center of Santa Cristin...  263841355   \n",
       "9646  Piso con acceso directo a piscina. Lugar muy t...  282214688   \n",
       "9647  Modern and new apartment in the old town of Pa...  263841355   \n",
       "9648  The apartment is in a characteristic building ...  377605855   \n",
       "9649                                                NaN  387478257   \n",
       "\n",
       "                   neighbourhood_name neighbourhood_district        room_type  \\\n",
       "0                              Centro                    NaN     Private room   \n",
       "1                            C�rmenes                 Latina     Private room   \n",
       "2                         San Vicente          Casco Antiguo  Entire home/apt   \n",
       "3     l'Antiga Esquerra de l'Eixample               Eixample     Private room   \n",
       "4                               Quart                    NaN     Private room   \n",
       "...                               ...                    ...              ...   \n",
       "9645             Santa Cristina d'Aro                    NaN  Entire home/apt   \n",
       "9646                      Palafrugell                    NaN  Entire home/apt   \n",
       "9647                          Palam�s                    NaN  Entire home/apt   \n",
       "9648                        Trafalgar               Chamber�  Entire home/apt   \n",
       "9649                      Universidad                 Centro     Private room   \n",
       "\n",
       "      accommodates  bathrooms  bedrooms  ...  review_scores_cleanliness  \\\n",
       "0                2        2.0       1.0  ...                      100.0   \n",
       "1                1        1.0       1.0  ...                       90.0   \n",
       "2                4        1.0       2.0  ...                      100.0   \n",
       "3                2        2.0       1.0  ...                       90.0   \n",
       "4                5        1.0       2.0  ...                      100.0   \n",
       "...            ...        ...       ...  ...                        ...   \n",
       "9645             8        2.0       4.0  ...                      100.0   \n",
       "9646             7        2.0       3.0  ...                      100.0   \n",
       "9647             6        1.0       3.0  ...                      100.0   \n",
       "9648             4        1.0       1.0  ...                      100.0   \n",
       "9649             2        2.0       1.0  ...                      100.0   \n",
       "\n",
       "     review_scores_checkin  review_scores_communication  \\\n",
       "0                    100.0                        100.0   \n",
       "1                    100.0                        100.0   \n",
       "2                    100.0                        100.0   \n",
       "3                    100.0                        100.0   \n",
       "4                    100.0                        100.0   \n",
       "...                    ...                          ...   \n",
       "9645                 100.0                        100.0   \n",
       "9646                 100.0                        100.0   \n",
       "9647                 100.0                        100.0   \n",
       "9648                 100.0                        100.0   \n",
       "9649                 100.0                        100.0   \n",
       "\n",
       "      review_scores_location  review_scores_value  is_instant_bookable  \\\n",
       "0                      100.0                100.0                FALSO   \n",
       "1                       80.0                 90.0                FALSO   \n",
       "2                      100.0                100.0            VERDADERO   \n",
       "3                      100.0                 90.0            VERDADERO   \n",
       "4                      100.0                100.0                FALSO   \n",
       "...                      ...                  ...                  ...   \n",
       "9645                   100.0                 90.0            VERDADERO   \n",
       "9646                   100.0                 90.0                FALSO   \n",
       "9647                   100.0                 90.0            VERDADERO   \n",
       "9648                   100.0                 90.0                FALSO   \n",
       "9649                   100.0                100.0                FALSO   \n",
       "\n",
       "      reviews_per_month  country       city  insert_date  \n",
       "0                  75.0    spain     malaga   2018-07-31  \n",
       "1                  52.0    spain     madrid   2020-01-10  \n",
       "2                 142.0    spain    sevilla   2019-07-29  \n",
       "3                 306.0    spain  barcelona   2020-01-10  \n",
       "4                  39.0    spain     girona   2019-02-19  \n",
       "...                 ...      ...        ...          ...  \n",
       "9645               25.0    spain     girona   2021-01-31  \n",
       "9646               25.0    spain     girona   2021-02-27  \n",
       "9647               25.0    spain     girona   2021-01-31  \n",
       "9648              105.0    spain     madrid   2021-02-09  \n",
       "9649               65.0    spain     madrid   2021-02-09  \n",
       "\n",
       "[9650 rows x 35 columns]"
      ]
     },
     "execution_count": 1,
     "metadata": {},
     "output_type": "execute_result"
    }
   ],
   "source": [
    "import pandas as pd\n",
    "import matplotlib.pyplot as plt\n",
    "import seaborn as sns\n",
    "\n",
    "df_tourist = pd.read_csv(\"df_tourist_python.csv\", sep= ';')\n",
    "\n",
    "df_tourist"
   ]
  },
  {
   "cell_type": "markdown",
   "id": "41524e99",
   "metadata": {},
   "source": [
    "## KPI´s"
   ]
  },
  {
   "cell_type": "markdown",
   "id": "58e2ad3c",
   "metadata": {},
   "source": [
    " ### tasa_ocupacion mensual"
   ]
  },
  {
   "cell_type": "code",
   "execution_count": 2,
   "id": "9ef74726-71f0-40d4-988a-aec16e823637",
   "metadata": {},
   "outputs": [
    {
     "name": "stdout",
     "output_type": "stream",
     "text": [
      "Tasa de ocupación promedio mensual: 56.50%\n"
     ]
    }
   ],
   "source": [
    "\n",
    "#tasa_ocupacion mensual\n",
    "df_tourist['dias_ocupados_30'] = 30 - df_tourist['availability_30']\n",
    "df_tourist['tasa_ocupacion_30'] = (df_tourist['dias_ocupados_30'] / 30) * 100\n",
    "\n",
    "#la tasa media de ocupación de todos los alojamientos\n",
    "tasa_ocupacion_promedio = df_tourist['tasa_ocupacion_30'].mean()\n",
    "\n",
    "print(f\"Tasa de ocupación promedio mensual: {tasa_ocupacion_promedio:.2f}%\")\n"
   ]
  },
  {
   "cell_type": "markdown",
   "id": "e25960c3",
   "metadata": {},
   "source": [
    "### Ciudad con mayor ocupación"
   ]
  },
  {
   "cell_type": "code",
   "execution_count": 3,
   "id": "6f91c92f",
   "metadata": {},
   "outputs": [
    {
     "name": "stdout",
     "output_type": "stream",
     "text": [
      "Ciudad con mayor ocupación: madrid (54.65%)\n"
     ]
    }
   ],
   "source": [
    "df_tourist['dias_ocupados'] = 365 - df_tourist['availability_365']\n",
    "city_occupancy = df_tourist.groupby('city').agg({\n",
    "    'dias_ocupados': 'sum',\n",
    "    'availability_365': 'sum'\n",
    "})\n",
    "city_occupancy['tasa_ocupacion'] = (city_occupancy['dias_ocupados'] / (city_occupancy['dias_ocupados'] + city_occupancy['availability_365'])) * 100\n",
    "\n",
    "# Ciudad con mayor ocupación\n",
    "max_city = city_occupancy['tasa_ocupacion'].idxmax()\n",
    "max_rate = city_occupancy['tasa_ocupacion'].max()\n",
    "print(f\"Ciudad con mayor ocupación: {max_city} ({max_rate:.2f}%)\")\n"
   ]
  },
  {
   "cell_type": "markdown",
   "id": "fcfab52a",
   "metadata": {},
   "source": [
    "### Índice de satisfacción general"
   ]
  },
  {
   "cell_type": "code",
   "execution_count": 4,
   "id": "78bae305",
   "metadata": {},
   "outputs": [
    {
     "name": "stdout",
     "output_type": "stream",
     "text": [
      "Índice de satisfacción general: 92.51\n"
     ]
    }
   ],
   "source": [
    "valid_reviews = df_tourist[df_tourist['review_scores_rating'].notna()]\n",
    "indice_satisfaccion = valid_reviews['review_scores_rating'].sum() / len(valid_reviews)\n",
    "print(f\"Índice de satisfacción general: {indice_satisfaccion:.2f}\")"
   ]
  },
  {
   "cell_type": "markdown",
   "id": "f483bdd1",
   "metadata": {},
   "source": [
    "### Ítem con mayor satisfacción promedio"
   ]
  },
  {
   "cell_type": "code",
   "execution_count": 5,
   "id": "f51c1492",
   "metadata": {},
   "outputs": [
    {
     "name": "stdout",
     "output_type": "stream",
     "text": [
      "Ítem con mayor satisfacción promedio: Check-in (97.25)\n"
     ]
    }
   ],
   "source": [
    "satisfaction_items = {\n",
    "    'Accuracy': df_tourist['review_scores_accuracy'].mean(),\n",
    "    'Cleanliness': df_tourist['review_scores_cleanliness'].mean(),\n",
    "    'Check-in': df_tourist['review_scores_checkin'].mean(),\n",
    "    'Communication': df_tourist['review_scores_communication'].mean(),\n",
    "    'Location': df_tourist['review_scores_location'].mean()\n",
    "}\n",
    "\n",
    "# Encontrar el máximo\n",
    "item_max = max(satisfaction_items, key=satisfaction_items.get)\n",
    "print(f\"Ítem con mayor satisfacción promedio: {item_max} ({satisfaction_items[item_max]:.2f})\")\n"
   ]
  },
  {
   "cell_type": "markdown",
   "id": "5673ab8e",
   "metadata": {},
   "source": [
    "### visualizacion KPI´s"
   ]
  },
  {
   "cell_type": "code",
   "execution_count": 6,
   "id": "6cf170cf",
   "metadata": {},
   "outputs": [
    {
     "data": {
      "application/vnd.plotly.v1+json": {
       "config": {
        "plotlyServerURL": "https://plot.ly"
       },
       "data": [
        {
         "hovertemplate": "Semana=%{x}<br>tasa_ocupacion_mensual=%{y}<extra></extra>",
         "legendgroup": "",
         "line": {
          "color": "#636efa",
          "dash": "solid"
         },
         "marker": {
          "symbol": "circle"
         },
         "mode": "lines+markers",
         "name": "",
         "orientation": "v",
         "showlegend": false,
         "type": "scatter",
         "x": [
          "Semana 1",
          "Semana 2",
          "Semana 3"
         ],
         "xaxis": "x",
         "y": {
          "bdata": "pHA9CteDTUAzMzMzM1NNQAAAAAAAQExA",
          "dtype": "f8"
         },
         "yaxis": "y"
        }
       ],
       "layout": {
        "legend": {
         "tracegroupgap": 0
        },
        "template": {
         "data": {
          "bar": [
           {
            "error_x": {
             "color": "#2a3f5f"
            },
            "error_y": {
             "color": "#2a3f5f"
            },
            "marker": {
             "line": {
              "color": "#E5ECF6",
              "width": 0.5
             },
             "pattern": {
              "fillmode": "overlay",
              "size": 10,
              "solidity": 0.2
             }
            },
            "type": "bar"
           }
          ],
          "barpolar": [
           {
            "marker": {
             "line": {
              "color": "#E5ECF6",
              "width": 0.5
             },
             "pattern": {
              "fillmode": "overlay",
              "size": 10,
              "solidity": 0.2
             }
            },
            "type": "barpolar"
           }
          ],
          "carpet": [
           {
            "aaxis": {
             "endlinecolor": "#2a3f5f",
             "gridcolor": "white",
             "linecolor": "white",
             "minorgridcolor": "white",
             "startlinecolor": "#2a3f5f"
            },
            "baxis": {
             "endlinecolor": "#2a3f5f",
             "gridcolor": "white",
             "linecolor": "white",
             "minorgridcolor": "white",
             "startlinecolor": "#2a3f5f"
            },
            "type": "carpet"
           }
          ],
          "choropleth": [
           {
            "colorbar": {
             "outlinewidth": 0,
             "ticks": ""
            },
            "type": "choropleth"
           }
          ],
          "contour": [
           {
            "colorbar": {
             "outlinewidth": 0,
             "ticks": ""
            },
            "colorscale": [
             [
              0,
              "#0d0887"
             ],
             [
              0.1111111111111111,
              "#46039f"
             ],
             [
              0.2222222222222222,
              "#7201a8"
             ],
             [
              0.3333333333333333,
              "#9c179e"
             ],
             [
              0.4444444444444444,
              "#bd3786"
             ],
             [
              0.5555555555555556,
              "#d8576b"
             ],
             [
              0.6666666666666666,
              "#ed7953"
             ],
             [
              0.7777777777777778,
              "#fb9f3a"
             ],
             [
              0.8888888888888888,
              "#fdca26"
             ],
             [
              1,
              "#f0f921"
             ]
            ],
            "type": "contour"
           }
          ],
          "contourcarpet": [
           {
            "colorbar": {
             "outlinewidth": 0,
             "ticks": ""
            },
            "type": "contourcarpet"
           }
          ],
          "heatmap": [
           {
            "colorbar": {
             "outlinewidth": 0,
             "ticks": ""
            },
            "colorscale": [
             [
              0,
              "#0d0887"
             ],
             [
              0.1111111111111111,
              "#46039f"
             ],
             [
              0.2222222222222222,
              "#7201a8"
             ],
             [
              0.3333333333333333,
              "#9c179e"
             ],
             [
              0.4444444444444444,
              "#bd3786"
             ],
             [
              0.5555555555555556,
              "#d8576b"
             ],
             [
              0.6666666666666666,
              "#ed7953"
             ],
             [
              0.7777777777777778,
              "#fb9f3a"
             ],
             [
              0.8888888888888888,
              "#fdca26"
             ],
             [
              1,
              "#f0f921"
             ]
            ],
            "type": "heatmap"
           }
          ],
          "histogram": [
           {
            "marker": {
             "pattern": {
              "fillmode": "overlay",
              "size": 10,
              "solidity": 0.2
             }
            },
            "type": "histogram"
           }
          ],
          "histogram2d": [
           {
            "colorbar": {
             "outlinewidth": 0,
             "ticks": ""
            },
            "colorscale": [
             [
              0,
              "#0d0887"
             ],
             [
              0.1111111111111111,
              "#46039f"
             ],
             [
              0.2222222222222222,
              "#7201a8"
             ],
             [
              0.3333333333333333,
              "#9c179e"
             ],
             [
              0.4444444444444444,
              "#bd3786"
             ],
             [
              0.5555555555555556,
              "#d8576b"
             ],
             [
              0.6666666666666666,
              "#ed7953"
             ],
             [
              0.7777777777777778,
              "#fb9f3a"
             ],
             [
              0.8888888888888888,
              "#fdca26"
             ],
             [
              1,
              "#f0f921"
             ]
            ],
            "type": "histogram2d"
           }
          ],
          "histogram2dcontour": [
           {
            "colorbar": {
             "outlinewidth": 0,
             "ticks": ""
            },
            "colorscale": [
             [
              0,
              "#0d0887"
             ],
             [
              0.1111111111111111,
              "#46039f"
             ],
             [
              0.2222222222222222,
              "#7201a8"
             ],
             [
              0.3333333333333333,
              "#9c179e"
             ],
             [
              0.4444444444444444,
              "#bd3786"
             ],
             [
              0.5555555555555556,
              "#d8576b"
             ],
             [
              0.6666666666666666,
              "#ed7953"
             ],
             [
              0.7777777777777778,
              "#fb9f3a"
             ],
             [
              0.8888888888888888,
              "#fdca26"
             ],
             [
              1,
              "#f0f921"
             ]
            ],
            "type": "histogram2dcontour"
           }
          ],
          "mesh3d": [
           {
            "colorbar": {
             "outlinewidth": 0,
             "ticks": ""
            },
            "type": "mesh3d"
           }
          ],
          "parcoords": [
           {
            "line": {
             "colorbar": {
              "outlinewidth": 0,
              "ticks": ""
             }
            },
            "type": "parcoords"
           }
          ],
          "pie": [
           {
            "automargin": true,
            "type": "pie"
           }
          ],
          "scatter": [
           {
            "fillpattern": {
             "fillmode": "overlay",
             "size": 10,
             "solidity": 0.2
            },
            "type": "scatter"
           }
          ],
          "scatter3d": [
           {
            "line": {
             "colorbar": {
              "outlinewidth": 0,
              "ticks": ""
             }
            },
            "marker": {
             "colorbar": {
              "outlinewidth": 0,
              "ticks": ""
             }
            },
            "type": "scatter3d"
           }
          ],
          "scattercarpet": [
           {
            "marker": {
             "colorbar": {
              "outlinewidth": 0,
              "ticks": ""
             }
            },
            "type": "scattercarpet"
           }
          ],
          "scattergeo": [
           {
            "marker": {
             "colorbar": {
              "outlinewidth": 0,
              "ticks": ""
             }
            },
            "type": "scattergeo"
           }
          ],
          "scattergl": [
           {
            "marker": {
             "colorbar": {
              "outlinewidth": 0,
              "ticks": ""
             }
            },
            "type": "scattergl"
           }
          ],
          "scattermap": [
           {
            "marker": {
             "colorbar": {
              "outlinewidth": 0,
              "ticks": ""
             }
            },
            "type": "scattermap"
           }
          ],
          "scattermapbox": [
           {
            "marker": {
             "colorbar": {
              "outlinewidth": 0,
              "ticks": ""
             }
            },
            "type": "scattermapbox"
           }
          ],
          "scatterpolar": [
           {
            "marker": {
             "colorbar": {
              "outlinewidth": 0,
              "ticks": ""
             }
            },
            "type": "scatterpolar"
           }
          ],
          "scatterpolargl": [
           {
            "marker": {
             "colorbar": {
              "outlinewidth": 0,
              "ticks": ""
             }
            },
            "type": "scatterpolargl"
           }
          ],
          "scatterternary": [
           {
            "marker": {
             "colorbar": {
              "outlinewidth": 0,
              "ticks": ""
             }
            },
            "type": "scatterternary"
           }
          ],
          "surface": [
           {
            "colorbar": {
             "outlinewidth": 0,
             "ticks": ""
            },
            "colorscale": [
             [
              0,
              "#0d0887"
             ],
             [
              0.1111111111111111,
              "#46039f"
             ],
             [
              0.2222222222222222,
              "#7201a8"
             ],
             [
              0.3333333333333333,
              "#9c179e"
             ],
             [
              0.4444444444444444,
              "#bd3786"
             ],
             [
              0.5555555555555556,
              "#d8576b"
             ],
             [
              0.6666666666666666,
              "#ed7953"
             ],
             [
              0.7777777777777778,
              "#fb9f3a"
             ],
             [
              0.8888888888888888,
              "#fdca26"
             ],
             [
              1,
              "#f0f921"
             ]
            ],
            "type": "surface"
           }
          ],
          "table": [
           {
            "cells": {
             "fill": {
              "color": "#EBF0F8"
             },
             "line": {
              "color": "white"
             }
            },
            "header": {
             "fill": {
              "color": "#C8D4E3"
             },
             "line": {
              "color": "white"
             }
            },
            "type": "table"
           }
          ]
         },
         "layout": {
          "annotationdefaults": {
           "arrowcolor": "#2a3f5f",
           "arrowhead": 0,
           "arrowwidth": 1
          },
          "autotypenumbers": "strict",
          "coloraxis": {
           "colorbar": {
            "outlinewidth": 0,
            "ticks": ""
           }
          },
          "colorscale": {
           "diverging": [
            [
             0,
             "#8e0152"
            ],
            [
             0.1,
             "#c51b7d"
            ],
            [
             0.2,
             "#de77ae"
            ],
            [
             0.3,
             "#f1b6da"
            ],
            [
             0.4,
             "#fde0ef"
            ],
            [
             0.5,
             "#f7f7f7"
            ],
            [
             0.6,
             "#e6f5d0"
            ],
            [
             0.7,
             "#b8e186"
            ],
            [
             0.8,
             "#7fbc41"
            ],
            [
             0.9,
             "#4d9221"
            ],
            [
             1,
             "#276419"
            ]
           ],
           "sequential": [
            [
             0,
             "#0d0887"
            ],
            [
             0.1111111111111111,
             "#46039f"
            ],
            [
             0.2222222222222222,
             "#7201a8"
            ],
            [
             0.3333333333333333,
             "#9c179e"
            ],
            [
             0.4444444444444444,
             "#bd3786"
            ],
            [
             0.5555555555555556,
             "#d8576b"
            ],
            [
             0.6666666666666666,
             "#ed7953"
            ],
            [
             0.7777777777777778,
             "#fb9f3a"
            ],
            [
             0.8888888888888888,
             "#fdca26"
            ],
            [
             1,
             "#f0f921"
            ]
           ],
           "sequentialminus": [
            [
             0,
             "#0d0887"
            ],
            [
             0.1111111111111111,
             "#46039f"
            ],
            [
             0.2222222222222222,
             "#7201a8"
            ],
            [
             0.3333333333333333,
             "#9c179e"
            ],
            [
             0.4444444444444444,
             "#bd3786"
            ],
            [
             0.5555555555555556,
             "#d8576b"
            ],
            [
             0.6666666666666666,
             "#ed7953"
            ],
            [
             0.7777777777777778,
             "#fb9f3a"
            ],
            [
             0.8888888888888888,
             "#fdca26"
            ],
            [
             1,
             "#f0f921"
            ]
           ]
          },
          "colorway": [
           "#636efa",
           "#EF553B",
           "#00cc96",
           "#ab63fa",
           "#FFA15A",
           "#19d3f3",
           "#FF6692",
           "#B6E880",
           "#FF97FF",
           "#FECB52"
          ],
          "font": {
           "color": "#2a3f5f"
          },
          "geo": {
           "bgcolor": "white",
           "lakecolor": "white",
           "landcolor": "#E5ECF6",
           "showlakes": true,
           "showland": true,
           "subunitcolor": "white"
          },
          "hoverlabel": {
           "align": "left"
          },
          "hovermode": "closest",
          "mapbox": {
           "style": "light"
          },
          "paper_bgcolor": "white",
          "plot_bgcolor": "#E5ECF6",
          "polar": {
           "angularaxis": {
            "gridcolor": "white",
            "linecolor": "white",
            "ticks": ""
           },
           "bgcolor": "#E5ECF6",
           "radialaxis": {
            "gridcolor": "white",
            "linecolor": "white",
            "ticks": ""
           }
          },
          "scene": {
           "xaxis": {
            "backgroundcolor": "#E5ECF6",
            "gridcolor": "white",
            "gridwidth": 2,
            "linecolor": "white",
            "showbackground": true,
            "ticks": "",
            "zerolinecolor": "white"
           },
           "yaxis": {
            "backgroundcolor": "#E5ECF6",
            "gridcolor": "white",
            "gridwidth": 2,
            "linecolor": "white",
            "showbackground": true,
            "ticks": "",
            "zerolinecolor": "white"
           },
           "zaxis": {
            "backgroundcolor": "#E5ECF6",
            "gridcolor": "white",
            "gridwidth": 2,
            "linecolor": "white",
            "showbackground": true,
            "ticks": "",
            "zerolinecolor": "white"
           }
          },
          "shapedefaults": {
           "line": {
            "color": "#2a3f5f"
           }
          },
          "ternary": {
           "aaxis": {
            "gridcolor": "white",
            "linecolor": "white",
            "ticks": ""
           },
           "baxis": {
            "gridcolor": "white",
            "linecolor": "white",
            "ticks": ""
           },
           "bgcolor": "#E5ECF6",
           "caxis": {
            "gridcolor": "white",
            "linecolor": "white",
            "ticks": ""
           }
          },
          "title": {
           "x": 0.05
          },
          "xaxis": {
           "automargin": true,
           "gridcolor": "white",
           "linecolor": "white",
           "ticks": "",
           "title": {
            "standoff": 15
           },
           "zerolinecolor": "white",
           "zerolinewidth": 2
          },
          "yaxis": {
           "automargin": true,
           "gridcolor": "white",
           "linecolor": "white",
           "ticks": "",
           "title": {
            "standoff": 15
           },
           "zerolinecolor": "white",
           "zerolinewidth": 2
          }
         }
        },
        "title": {
         "text": "Tasa de ocupación mensual"
        },
        "xaxis": {
         "anchor": "y",
         "domain": [
          0,
          1
         ],
         "title": {
          "text": "Semana"
         }
        },
        "yaxis": {
         "anchor": "x",
         "domain": [
          0,
          1
         ],
         "title": {
          "text": "Porcentaje (%)"
         }
        }
       }
      }
     },
     "metadata": {},
     "output_type": "display_data"
    },
    {
     "data": {
      "application/vnd.plotly.v1+json": {
       "config": {
        "plotlyServerURL": "https://plot.ly"
       },
       "data": [
        {
         "hovertemplate": "Semana=%{x}<br>indice_satisfaccion_general=%{y}<extra></extra>",
         "legendgroup": "",
         "line": {
          "color": "#636efa",
          "dash": "solid"
         },
         "marker": {
          "symbol": "circle"
         },
         "mode": "lines+markers",
         "name": "",
         "orientation": "v",
         "showlegend": false,
         "type": "scatter",
         "x": [
          "Semana 1",
          "Semana 2",
          "Semana 3"
         ],
         "xaxis": "x",
         "y": {
          "bdata": "KVyPwvUYV0B7FK5H4RpXQHE9CtejIFdA",
          "dtype": "f8"
         },
         "yaxis": "y"
        }
       ],
       "layout": {
        "legend": {
         "tracegroupgap": 0
        },
        "template": {
         "data": {
          "bar": [
           {
            "error_x": {
             "color": "#2a3f5f"
            },
            "error_y": {
             "color": "#2a3f5f"
            },
            "marker": {
             "line": {
              "color": "#E5ECF6",
              "width": 0.5
             },
             "pattern": {
              "fillmode": "overlay",
              "size": 10,
              "solidity": 0.2
             }
            },
            "type": "bar"
           }
          ],
          "barpolar": [
           {
            "marker": {
             "line": {
              "color": "#E5ECF6",
              "width": 0.5
             },
             "pattern": {
              "fillmode": "overlay",
              "size": 10,
              "solidity": 0.2
             }
            },
            "type": "barpolar"
           }
          ],
          "carpet": [
           {
            "aaxis": {
             "endlinecolor": "#2a3f5f",
             "gridcolor": "white",
             "linecolor": "white",
             "minorgridcolor": "white",
             "startlinecolor": "#2a3f5f"
            },
            "baxis": {
             "endlinecolor": "#2a3f5f",
             "gridcolor": "white",
             "linecolor": "white",
             "minorgridcolor": "white",
             "startlinecolor": "#2a3f5f"
            },
            "type": "carpet"
           }
          ],
          "choropleth": [
           {
            "colorbar": {
             "outlinewidth": 0,
             "ticks": ""
            },
            "type": "choropleth"
           }
          ],
          "contour": [
           {
            "colorbar": {
             "outlinewidth": 0,
             "ticks": ""
            },
            "colorscale": [
             [
              0,
              "#0d0887"
             ],
             [
              0.1111111111111111,
              "#46039f"
             ],
             [
              0.2222222222222222,
              "#7201a8"
             ],
             [
              0.3333333333333333,
              "#9c179e"
             ],
             [
              0.4444444444444444,
              "#bd3786"
             ],
             [
              0.5555555555555556,
              "#d8576b"
             ],
             [
              0.6666666666666666,
              "#ed7953"
             ],
             [
              0.7777777777777778,
              "#fb9f3a"
             ],
             [
              0.8888888888888888,
              "#fdca26"
             ],
             [
              1,
              "#f0f921"
             ]
            ],
            "type": "contour"
           }
          ],
          "contourcarpet": [
           {
            "colorbar": {
             "outlinewidth": 0,
             "ticks": ""
            },
            "type": "contourcarpet"
           }
          ],
          "heatmap": [
           {
            "colorbar": {
             "outlinewidth": 0,
             "ticks": ""
            },
            "colorscale": [
             [
              0,
              "#0d0887"
             ],
             [
              0.1111111111111111,
              "#46039f"
             ],
             [
              0.2222222222222222,
              "#7201a8"
             ],
             [
              0.3333333333333333,
              "#9c179e"
             ],
             [
              0.4444444444444444,
              "#bd3786"
             ],
             [
              0.5555555555555556,
              "#d8576b"
             ],
             [
              0.6666666666666666,
              "#ed7953"
             ],
             [
              0.7777777777777778,
              "#fb9f3a"
             ],
             [
              0.8888888888888888,
              "#fdca26"
             ],
             [
              1,
              "#f0f921"
             ]
            ],
            "type": "heatmap"
           }
          ],
          "histogram": [
           {
            "marker": {
             "pattern": {
              "fillmode": "overlay",
              "size": 10,
              "solidity": 0.2
             }
            },
            "type": "histogram"
           }
          ],
          "histogram2d": [
           {
            "colorbar": {
             "outlinewidth": 0,
             "ticks": ""
            },
            "colorscale": [
             [
              0,
              "#0d0887"
             ],
             [
              0.1111111111111111,
              "#46039f"
             ],
             [
              0.2222222222222222,
              "#7201a8"
             ],
             [
              0.3333333333333333,
              "#9c179e"
             ],
             [
              0.4444444444444444,
              "#bd3786"
             ],
             [
              0.5555555555555556,
              "#d8576b"
             ],
             [
              0.6666666666666666,
              "#ed7953"
             ],
             [
              0.7777777777777778,
              "#fb9f3a"
             ],
             [
              0.8888888888888888,
              "#fdca26"
             ],
             [
              1,
              "#f0f921"
             ]
            ],
            "type": "histogram2d"
           }
          ],
          "histogram2dcontour": [
           {
            "colorbar": {
             "outlinewidth": 0,
             "ticks": ""
            },
            "colorscale": [
             [
              0,
              "#0d0887"
             ],
             [
              0.1111111111111111,
              "#46039f"
             ],
             [
              0.2222222222222222,
              "#7201a8"
             ],
             [
              0.3333333333333333,
              "#9c179e"
             ],
             [
              0.4444444444444444,
              "#bd3786"
             ],
             [
              0.5555555555555556,
              "#d8576b"
             ],
             [
              0.6666666666666666,
              "#ed7953"
             ],
             [
              0.7777777777777778,
              "#fb9f3a"
             ],
             [
              0.8888888888888888,
              "#fdca26"
             ],
             [
              1,
              "#f0f921"
             ]
            ],
            "type": "histogram2dcontour"
           }
          ],
          "mesh3d": [
           {
            "colorbar": {
             "outlinewidth": 0,
             "ticks": ""
            },
            "type": "mesh3d"
           }
          ],
          "parcoords": [
           {
            "line": {
             "colorbar": {
              "outlinewidth": 0,
              "ticks": ""
             }
            },
            "type": "parcoords"
           }
          ],
          "pie": [
           {
            "automargin": true,
            "type": "pie"
           }
          ],
          "scatter": [
           {
            "fillpattern": {
             "fillmode": "overlay",
             "size": 10,
             "solidity": 0.2
            },
            "type": "scatter"
           }
          ],
          "scatter3d": [
           {
            "line": {
             "colorbar": {
              "outlinewidth": 0,
              "ticks": ""
             }
            },
            "marker": {
             "colorbar": {
              "outlinewidth": 0,
              "ticks": ""
             }
            },
            "type": "scatter3d"
           }
          ],
          "scattercarpet": [
           {
            "marker": {
             "colorbar": {
              "outlinewidth": 0,
              "ticks": ""
             }
            },
            "type": "scattercarpet"
           }
          ],
          "scattergeo": [
           {
            "marker": {
             "colorbar": {
              "outlinewidth": 0,
              "ticks": ""
             }
            },
            "type": "scattergeo"
           }
          ],
          "scattergl": [
           {
            "marker": {
             "colorbar": {
              "outlinewidth": 0,
              "ticks": ""
             }
            },
            "type": "scattergl"
           }
          ],
          "scattermap": [
           {
            "marker": {
             "colorbar": {
              "outlinewidth": 0,
              "ticks": ""
             }
            },
            "type": "scattermap"
           }
          ],
          "scattermapbox": [
           {
            "marker": {
             "colorbar": {
              "outlinewidth": 0,
              "ticks": ""
             }
            },
            "type": "scattermapbox"
           }
          ],
          "scatterpolar": [
           {
            "marker": {
             "colorbar": {
              "outlinewidth": 0,
              "ticks": ""
             }
            },
            "type": "scatterpolar"
           }
          ],
          "scatterpolargl": [
           {
            "marker": {
             "colorbar": {
              "outlinewidth": 0,
              "ticks": ""
             }
            },
            "type": "scatterpolargl"
           }
          ],
          "scatterternary": [
           {
            "marker": {
             "colorbar": {
              "outlinewidth": 0,
              "ticks": ""
             }
            },
            "type": "scatterternary"
           }
          ],
          "surface": [
           {
            "colorbar": {
             "outlinewidth": 0,
             "ticks": ""
            },
            "colorscale": [
             [
              0,
              "#0d0887"
             ],
             [
              0.1111111111111111,
              "#46039f"
             ],
             [
              0.2222222222222222,
              "#7201a8"
             ],
             [
              0.3333333333333333,
              "#9c179e"
             ],
             [
              0.4444444444444444,
              "#bd3786"
             ],
             [
              0.5555555555555556,
              "#d8576b"
             ],
             [
              0.6666666666666666,
              "#ed7953"
             ],
             [
              0.7777777777777778,
              "#fb9f3a"
             ],
             [
              0.8888888888888888,
              "#fdca26"
             ],
             [
              1,
              "#f0f921"
             ]
            ],
            "type": "surface"
           }
          ],
          "table": [
           {
            "cells": {
             "fill": {
              "color": "#EBF0F8"
             },
             "line": {
              "color": "white"
             }
            },
            "header": {
             "fill": {
              "color": "#C8D4E3"
             },
             "line": {
              "color": "white"
             }
            },
            "type": "table"
           }
          ]
         },
         "layout": {
          "annotationdefaults": {
           "arrowcolor": "#2a3f5f",
           "arrowhead": 0,
           "arrowwidth": 1
          },
          "autotypenumbers": "strict",
          "coloraxis": {
           "colorbar": {
            "outlinewidth": 0,
            "ticks": ""
           }
          },
          "colorscale": {
           "diverging": [
            [
             0,
             "#8e0152"
            ],
            [
             0.1,
             "#c51b7d"
            ],
            [
             0.2,
             "#de77ae"
            ],
            [
             0.3,
             "#f1b6da"
            ],
            [
             0.4,
             "#fde0ef"
            ],
            [
             0.5,
             "#f7f7f7"
            ],
            [
             0.6,
             "#e6f5d0"
            ],
            [
             0.7,
             "#b8e186"
            ],
            [
             0.8,
             "#7fbc41"
            ],
            [
             0.9,
             "#4d9221"
            ],
            [
             1,
             "#276419"
            ]
           ],
           "sequential": [
            [
             0,
             "#0d0887"
            ],
            [
             0.1111111111111111,
             "#46039f"
            ],
            [
             0.2222222222222222,
             "#7201a8"
            ],
            [
             0.3333333333333333,
             "#9c179e"
            ],
            [
             0.4444444444444444,
             "#bd3786"
            ],
            [
             0.5555555555555556,
             "#d8576b"
            ],
            [
             0.6666666666666666,
             "#ed7953"
            ],
            [
             0.7777777777777778,
             "#fb9f3a"
            ],
            [
             0.8888888888888888,
             "#fdca26"
            ],
            [
             1,
             "#f0f921"
            ]
           ],
           "sequentialminus": [
            [
             0,
             "#0d0887"
            ],
            [
             0.1111111111111111,
             "#46039f"
            ],
            [
             0.2222222222222222,
             "#7201a8"
            ],
            [
             0.3333333333333333,
             "#9c179e"
            ],
            [
             0.4444444444444444,
             "#bd3786"
            ],
            [
             0.5555555555555556,
             "#d8576b"
            ],
            [
             0.6666666666666666,
             "#ed7953"
            ],
            [
             0.7777777777777778,
             "#fb9f3a"
            ],
            [
             0.8888888888888888,
             "#fdca26"
            ],
            [
             1,
             "#f0f921"
            ]
           ]
          },
          "colorway": [
           "#636efa",
           "#EF553B",
           "#00cc96",
           "#ab63fa",
           "#FFA15A",
           "#19d3f3",
           "#FF6692",
           "#B6E880",
           "#FF97FF",
           "#FECB52"
          ],
          "font": {
           "color": "#2a3f5f"
          },
          "geo": {
           "bgcolor": "white",
           "lakecolor": "white",
           "landcolor": "#E5ECF6",
           "showlakes": true,
           "showland": true,
           "subunitcolor": "white"
          },
          "hoverlabel": {
           "align": "left"
          },
          "hovermode": "closest",
          "mapbox": {
           "style": "light"
          },
          "paper_bgcolor": "white",
          "plot_bgcolor": "#E5ECF6",
          "polar": {
           "angularaxis": {
            "gridcolor": "white",
            "linecolor": "white",
            "ticks": ""
           },
           "bgcolor": "#E5ECF6",
           "radialaxis": {
            "gridcolor": "white",
            "linecolor": "white",
            "ticks": ""
           }
          },
          "scene": {
           "xaxis": {
            "backgroundcolor": "#E5ECF6",
            "gridcolor": "white",
            "gridwidth": 2,
            "linecolor": "white",
            "showbackground": true,
            "ticks": "",
            "zerolinecolor": "white"
           },
           "yaxis": {
            "backgroundcolor": "#E5ECF6",
            "gridcolor": "white",
            "gridwidth": 2,
            "linecolor": "white",
            "showbackground": true,
            "ticks": "",
            "zerolinecolor": "white"
           },
           "zaxis": {
            "backgroundcolor": "#E5ECF6",
            "gridcolor": "white",
            "gridwidth": 2,
            "linecolor": "white",
            "showbackground": true,
            "ticks": "",
            "zerolinecolor": "white"
           }
          },
          "shapedefaults": {
           "line": {
            "color": "#2a3f5f"
           }
          },
          "ternary": {
           "aaxis": {
            "gridcolor": "white",
            "linecolor": "white",
            "ticks": ""
           },
           "baxis": {
            "gridcolor": "white",
            "linecolor": "white",
            "ticks": ""
           },
           "bgcolor": "#E5ECF6",
           "caxis": {
            "gridcolor": "white",
            "linecolor": "white",
            "ticks": ""
           }
          },
          "title": {
           "x": 0.05
          },
          "xaxis": {
           "automargin": true,
           "gridcolor": "white",
           "linecolor": "white",
           "ticks": "",
           "title": {
            "standoff": 15
           },
           "zerolinecolor": "white",
           "zerolinewidth": 2
          },
          "yaxis": {
           "automargin": true,
           "gridcolor": "white",
           "linecolor": "white",
           "ticks": "",
           "title": {
            "standoff": 15
           },
           "zerolinecolor": "white",
           "zerolinewidth": 2
          }
         }
        },
        "title": {
         "text": "Índice de satisfacción general"
        },
        "xaxis": {
         "anchor": "y",
         "domain": [
          0,
          1
         ],
         "title": {
          "text": "Semana"
         }
        },
        "yaxis": {
         "anchor": "x",
         "domain": [
          0,
          1
         ],
         "title": {
          "text": "Porcentaje (%)"
         }
        }
       }
      }
     },
     "metadata": {},
     "output_type": "display_data"
    },
    {
     "data": {
      "application/vnd.plotly.v1+json": {
       "config": {
        "plotlyServerURL": "https://plot.ly"
       },
       "data": [
        {
         "hovertemplate": "Semana=%{x}<br>ocupacion_pct=%{text}<extra></extra>",
         "legendgroup": "",
         "marker": {
          "color": "#636efa",
          "pattern": {
           "shape": ""
          }
         },
         "name": "",
         "orientation": "v",
         "showlegend": false,
         "text": {
          "bdata": "MzMzMzNTUEApXI/C9UhLQDMzMzMzU0tA",
          "dtype": "f8"
         },
         "textposition": "auto",
         "type": "bar",
         "x": [
          "Semana 1",
          "Semana 2",
          "Semana 3"
         ],
         "xaxis": "x",
         "y": {
          "bdata": "MzMzMzNTUEApXI/C9UhLQDMzMzMzU0tA",
          "dtype": "f8"
         },
         "yaxis": "y"
        }
       ],
       "layout": {
        "barmode": "relative",
        "legend": {
         "tracegroupgap": 0
        },
        "template": {
         "data": {
          "bar": [
           {
            "error_x": {
             "color": "#2a3f5f"
            },
            "error_y": {
             "color": "#2a3f5f"
            },
            "marker": {
             "line": {
              "color": "#E5ECF6",
              "width": 0.5
             },
             "pattern": {
              "fillmode": "overlay",
              "size": 10,
              "solidity": 0.2
             }
            },
            "type": "bar"
           }
          ],
          "barpolar": [
           {
            "marker": {
             "line": {
              "color": "#E5ECF6",
              "width": 0.5
             },
             "pattern": {
              "fillmode": "overlay",
              "size": 10,
              "solidity": 0.2
             }
            },
            "type": "barpolar"
           }
          ],
          "carpet": [
           {
            "aaxis": {
             "endlinecolor": "#2a3f5f",
             "gridcolor": "white",
             "linecolor": "white",
             "minorgridcolor": "white",
             "startlinecolor": "#2a3f5f"
            },
            "baxis": {
             "endlinecolor": "#2a3f5f",
             "gridcolor": "white",
             "linecolor": "white",
             "minorgridcolor": "white",
             "startlinecolor": "#2a3f5f"
            },
            "type": "carpet"
           }
          ],
          "choropleth": [
           {
            "colorbar": {
             "outlinewidth": 0,
             "ticks": ""
            },
            "type": "choropleth"
           }
          ],
          "contour": [
           {
            "colorbar": {
             "outlinewidth": 0,
             "ticks": ""
            },
            "colorscale": [
             [
              0,
              "#0d0887"
             ],
             [
              0.1111111111111111,
              "#46039f"
             ],
             [
              0.2222222222222222,
              "#7201a8"
             ],
             [
              0.3333333333333333,
              "#9c179e"
             ],
             [
              0.4444444444444444,
              "#bd3786"
             ],
             [
              0.5555555555555556,
              "#d8576b"
             ],
             [
              0.6666666666666666,
              "#ed7953"
             ],
             [
              0.7777777777777778,
              "#fb9f3a"
             ],
             [
              0.8888888888888888,
              "#fdca26"
             ],
             [
              1,
              "#f0f921"
             ]
            ],
            "type": "contour"
           }
          ],
          "contourcarpet": [
           {
            "colorbar": {
             "outlinewidth": 0,
             "ticks": ""
            },
            "type": "contourcarpet"
           }
          ],
          "heatmap": [
           {
            "colorbar": {
             "outlinewidth": 0,
             "ticks": ""
            },
            "colorscale": [
             [
              0,
              "#0d0887"
             ],
             [
              0.1111111111111111,
              "#46039f"
             ],
             [
              0.2222222222222222,
              "#7201a8"
             ],
             [
              0.3333333333333333,
              "#9c179e"
             ],
             [
              0.4444444444444444,
              "#bd3786"
             ],
             [
              0.5555555555555556,
              "#d8576b"
             ],
             [
              0.6666666666666666,
              "#ed7953"
             ],
             [
              0.7777777777777778,
              "#fb9f3a"
             ],
             [
              0.8888888888888888,
              "#fdca26"
             ],
             [
              1,
              "#f0f921"
             ]
            ],
            "type": "heatmap"
           }
          ],
          "histogram": [
           {
            "marker": {
             "pattern": {
              "fillmode": "overlay",
              "size": 10,
              "solidity": 0.2
             }
            },
            "type": "histogram"
           }
          ],
          "histogram2d": [
           {
            "colorbar": {
             "outlinewidth": 0,
             "ticks": ""
            },
            "colorscale": [
             [
              0,
              "#0d0887"
             ],
             [
              0.1111111111111111,
              "#46039f"
             ],
             [
              0.2222222222222222,
              "#7201a8"
             ],
             [
              0.3333333333333333,
              "#9c179e"
             ],
             [
              0.4444444444444444,
              "#bd3786"
             ],
             [
              0.5555555555555556,
              "#d8576b"
             ],
             [
              0.6666666666666666,
              "#ed7953"
             ],
             [
              0.7777777777777778,
              "#fb9f3a"
             ],
             [
              0.8888888888888888,
              "#fdca26"
             ],
             [
              1,
              "#f0f921"
             ]
            ],
            "type": "histogram2d"
           }
          ],
          "histogram2dcontour": [
           {
            "colorbar": {
             "outlinewidth": 0,
             "ticks": ""
            },
            "colorscale": [
             [
              0,
              "#0d0887"
             ],
             [
              0.1111111111111111,
              "#46039f"
             ],
             [
              0.2222222222222222,
              "#7201a8"
             ],
             [
              0.3333333333333333,
              "#9c179e"
             ],
             [
              0.4444444444444444,
              "#bd3786"
             ],
             [
              0.5555555555555556,
              "#d8576b"
             ],
             [
              0.6666666666666666,
              "#ed7953"
             ],
             [
              0.7777777777777778,
              "#fb9f3a"
             ],
             [
              0.8888888888888888,
              "#fdca26"
             ],
             [
              1,
              "#f0f921"
             ]
            ],
            "type": "histogram2dcontour"
           }
          ],
          "mesh3d": [
           {
            "colorbar": {
             "outlinewidth": 0,
             "ticks": ""
            },
            "type": "mesh3d"
           }
          ],
          "parcoords": [
           {
            "line": {
             "colorbar": {
              "outlinewidth": 0,
              "ticks": ""
             }
            },
            "type": "parcoords"
           }
          ],
          "pie": [
           {
            "automargin": true,
            "type": "pie"
           }
          ],
          "scatter": [
           {
            "fillpattern": {
             "fillmode": "overlay",
             "size": 10,
             "solidity": 0.2
            },
            "type": "scatter"
           }
          ],
          "scatter3d": [
           {
            "line": {
             "colorbar": {
              "outlinewidth": 0,
              "ticks": ""
             }
            },
            "marker": {
             "colorbar": {
              "outlinewidth": 0,
              "ticks": ""
             }
            },
            "type": "scatter3d"
           }
          ],
          "scattercarpet": [
           {
            "marker": {
             "colorbar": {
              "outlinewidth": 0,
              "ticks": ""
             }
            },
            "type": "scattercarpet"
           }
          ],
          "scattergeo": [
           {
            "marker": {
             "colorbar": {
              "outlinewidth": 0,
              "ticks": ""
             }
            },
            "type": "scattergeo"
           }
          ],
          "scattergl": [
           {
            "marker": {
             "colorbar": {
              "outlinewidth": 0,
              "ticks": ""
             }
            },
            "type": "scattergl"
           }
          ],
          "scattermap": [
           {
            "marker": {
             "colorbar": {
              "outlinewidth": 0,
              "ticks": ""
             }
            },
            "type": "scattermap"
           }
          ],
          "scattermapbox": [
           {
            "marker": {
             "colorbar": {
              "outlinewidth": 0,
              "ticks": ""
             }
            },
            "type": "scattermapbox"
           }
          ],
          "scatterpolar": [
           {
            "marker": {
             "colorbar": {
              "outlinewidth": 0,
              "ticks": ""
             }
            },
            "type": "scatterpolar"
           }
          ],
          "scatterpolargl": [
           {
            "marker": {
             "colorbar": {
              "outlinewidth": 0,
              "ticks": ""
             }
            },
            "type": "scatterpolargl"
           }
          ],
          "scatterternary": [
           {
            "marker": {
             "colorbar": {
              "outlinewidth": 0,
              "ticks": ""
             }
            },
            "type": "scatterternary"
           }
          ],
          "surface": [
           {
            "colorbar": {
             "outlinewidth": 0,
             "ticks": ""
            },
            "colorscale": [
             [
              0,
              "#0d0887"
             ],
             [
              0.1111111111111111,
              "#46039f"
             ],
             [
              0.2222222222222222,
              "#7201a8"
             ],
             [
              0.3333333333333333,
              "#9c179e"
             ],
             [
              0.4444444444444444,
              "#bd3786"
             ],
             [
              0.5555555555555556,
              "#d8576b"
             ],
             [
              0.6666666666666666,
              "#ed7953"
             ],
             [
              0.7777777777777778,
              "#fb9f3a"
             ],
             [
              0.8888888888888888,
              "#fdca26"
             ],
             [
              1,
              "#f0f921"
             ]
            ],
            "type": "surface"
           }
          ],
          "table": [
           {
            "cells": {
             "fill": {
              "color": "#EBF0F8"
             },
             "line": {
              "color": "white"
             }
            },
            "header": {
             "fill": {
              "color": "#C8D4E3"
             },
             "line": {
              "color": "white"
             }
            },
            "type": "table"
           }
          ]
         },
         "layout": {
          "annotationdefaults": {
           "arrowcolor": "#2a3f5f",
           "arrowhead": 0,
           "arrowwidth": 1
          },
          "autotypenumbers": "strict",
          "coloraxis": {
           "colorbar": {
            "outlinewidth": 0,
            "ticks": ""
           }
          },
          "colorscale": {
           "diverging": [
            [
             0,
             "#8e0152"
            ],
            [
             0.1,
             "#c51b7d"
            ],
            [
             0.2,
             "#de77ae"
            ],
            [
             0.3,
             "#f1b6da"
            ],
            [
             0.4,
             "#fde0ef"
            ],
            [
             0.5,
             "#f7f7f7"
            ],
            [
             0.6,
             "#e6f5d0"
            ],
            [
             0.7,
             "#b8e186"
            ],
            [
             0.8,
             "#7fbc41"
            ],
            [
             0.9,
             "#4d9221"
            ],
            [
             1,
             "#276419"
            ]
           ],
           "sequential": [
            [
             0,
             "#0d0887"
            ],
            [
             0.1111111111111111,
             "#46039f"
            ],
            [
             0.2222222222222222,
             "#7201a8"
            ],
            [
             0.3333333333333333,
             "#9c179e"
            ],
            [
             0.4444444444444444,
             "#bd3786"
            ],
            [
             0.5555555555555556,
             "#d8576b"
            ],
            [
             0.6666666666666666,
             "#ed7953"
            ],
            [
             0.7777777777777778,
             "#fb9f3a"
            ],
            [
             0.8888888888888888,
             "#fdca26"
            ],
            [
             1,
             "#f0f921"
            ]
           ],
           "sequentialminus": [
            [
             0,
             "#0d0887"
            ],
            [
             0.1111111111111111,
             "#46039f"
            ],
            [
             0.2222222222222222,
             "#7201a8"
            ],
            [
             0.3333333333333333,
             "#9c179e"
            ],
            [
             0.4444444444444444,
             "#bd3786"
            ],
            [
             0.5555555555555556,
             "#d8576b"
            ],
            [
             0.6666666666666666,
             "#ed7953"
            ],
            [
             0.7777777777777778,
             "#fb9f3a"
            ],
            [
             0.8888888888888888,
             "#fdca26"
            ],
            [
             1,
             "#f0f921"
            ]
           ]
          },
          "colorway": [
           "#636efa",
           "#EF553B",
           "#00cc96",
           "#ab63fa",
           "#FFA15A",
           "#19d3f3",
           "#FF6692",
           "#B6E880",
           "#FF97FF",
           "#FECB52"
          ],
          "font": {
           "color": "#2a3f5f"
          },
          "geo": {
           "bgcolor": "white",
           "lakecolor": "white",
           "landcolor": "#E5ECF6",
           "showlakes": true,
           "showland": true,
           "subunitcolor": "white"
          },
          "hoverlabel": {
           "align": "left"
          },
          "hovermode": "closest",
          "mapbox": {
           "style": "light"
          },
          "paper_bgcolor": "white",
          "plot_bgcolor": "#E5ECF6",
          "polar": {
           "angularaxis": {
            "gridcolor": "white",
            "linecolor": "white",
            "ticks": ""
           },
           "bgcolor": "#E5ECF6",
           "radialaxis": {
            "gridcolor": "white",
            "linecolor": "white",
            "ticks": ""
           }
          },
          "scene": {
           "xaxis": {
            "backgroundcolor": "#E5ECF6",
            "gridcolor": "white",
            "gridwidth": 2,
            "linecolor": "white",
            "showbackground": true,
            "ticks": "",
            "zerolinecolor": "white"
           },
           "yaxis": {
            "backgroundcolor": "#E5ECF6",
            "gridcolor": "white",
            "gridwidth": 2,
            "linecolor": "white",
            "showbackground": true,
            "ticks": "",
            "zerolinecolor": "white"
           },
           "zaxis": {
            "backgroundcolor": "#E5ECF6",
            "gridcolor": "white",
            "gridwidth": 2,
            "linecolor": "white",
            "showbackground": true,
            "ticks": "",
            "zerolinecolor": "white"
           }
          },
          "shapedefaults": {
           "line": {
            "color": "#2a3f5f"
           }
          },
          "ternary": {
           "aaxis": {
            "gridcolor": "white",
            "linecolor": "white",
            "ticks": ""
           },
           "baxis": {
            "gridcolor": "white",
            "linecolor": "white",
            "ticks": ""
           },
           "bgcolor": "#E5ECF6",
           "caxis": {
            "gridcolor": "white",
            "linecolor": "white",
            "ticks": ""
           }
          },
          "title": {
           "x": 0.05
          },
          "xaxis": {
           "automargin": true,
           "gridcolor": "white",
           "linecolor": "white",
           "ticks": "",
           "title": {
            "standoff": 15
           },
           "zerolinecolor": "white",
           "zerolinewidth": 2
          },
          "yaxis": {
           "automargin": true,
           "gridcolor": "white",
           "linecolor": "white",
           "ticks": "",
           "title": {
            "standoff": 15
           },
           "zerolinecolor": "white",
           "zerolinewidth": 2
          }
         }
        },
        "title": {
         "text": "Ciudad con mayor ocupación (%)"
        },
        "xaxis": {
         "anchor": "y",
         "domain": [
          0,
          1
         ],
         "title": {
          "text": "Semana"
         }
        },
        "yaxis": {
         "anchor": "x",
         "domain": [
          0,
          1
         ],
         "title": {
          "text": "Porcentaje (%)"
         }
        }
       }
      }
     },
     "metadata": {},
     "output_type": "display_data"
    },
    {
     "data": {
      "application/vnd.plotly.v1+json": {
       "config": {
        "plotlyServerURL": "https://plot.ly"
       },
       "data": [
        {
         "hovertemplate": "Semana=%{x}<br>item_pct=%{text}<extra></extra>",
         "legendgroup": "",
         "marker": {
          "color": "#636efa",
          "pattern": {
           "shape": ""
          }
         },
         "name": "",
         "orientation": "v",
         "showlegend": false,
         "text": {
          "bdata": "16NwPQpHWEDXo3A9CkdYQAAAAAAAUFhA",
          "dtype": "f8"
         },
         "textposition": "auto",
         "type": "bar",
         "x": [
          "Semana 1",
          "Semana 2",
          "Semana 3"
         ],
         "xaxis": "x",
         "y": {
          "bdata": "16NwPQpHWEDXo3A9CkdYQAAAAAAAUFhA",
          "dtype": "f8"
         },
         "yaxis": "y"
        }
       ],
       "layout": {
        "barmode": "relative",
        "legend": {
         "tracegroupgap": 0
        },
        "template": {
         "data": {
          "bar": [
           {
            "error_x": {
             "color": "#2a3f5f"
            },
            "error_y": {
             "color": "#2a3f5f"
            },
            "marker": {
             "line": {
              "color": "#E5ECF6",
              "width": 0.5
             },
             "pattern": {
              "fillmode": "overlay",
              "size": 10,
              "solidity": 0.2
             }
            },
            "type": "bar"
           }
          ],
          "barpolar": [
           {
            "marker": {
             "line": {
              "color": "#E5ECF6",
              "width": 0.5
             },
             "pattern": {
              "fillmode": "overlay",
              "size": 10,
              "solidity": 0.2
             }
            },
            "type": "barpolar"
           }
          ],
          "carpet": [
           {
            "aaxis": {
             "endlinecolor": "#2a3f5f",
             "gridcolor": "white",
             "linecolor": "white",
             "minorgridcolor": "white",
             "startlinecolor": "#2a3f5f"
            },
            "baxis": {
             "endlinecolor": "#2a3f5f",
             "gridcolor": "white",
             "linecolor": "white",
             "minorgridcolor": "white",
             "startlinecolor": "#2a3f5f"
            },
            "type": "carpet"
           }
          ],
          "choropleth": [
           {
            "colorbar": {
             "outlinewidth": 0,
             "ticks": ""
            },
            "type": "choropleth"
           }
          ],
          "contour": [
           {
            "colorbar": {
             "outlinewidth": 0,
             "ticks": ""
            },
            "colorscale": [
             [
              0,
              "#0d0887"
             ],
             [
              0.1111111111111111,
              "#46039f"
             ],
             [
              0.2222222222222222,
              "#7201a8"
             ],
             [
              0.3333333333333333,
              "#9c179e"
             ],
             [
              0.4444444444444444,
              "#bd3786"
             ],
             [
              0.5555555555555556,
              "#d8576b"
             ],
             [
              0.6666666666666666,
              "#ed7953"
             ],
             [
              0.7777777777777778,
              "#fb9f3a"
             ],
             [
              0.8888888888888888,
              "#fdca26"
             ],
             [
              1,
              "#f0f921"
             ]
            ],
            "type": "contour"
           }
          ],
          "contourcarpet": [
           {
            "colorbar": {
             "outlinewidth": 0,
             "ticks": ""
            },
            "type": "contourcarpet"
           }
          ],
          "heatmap": [
           {
            "colorbar": {
             "outlinewidth": 0,
             "ticks": ""
            },
            "colorscale": [
             [
              0,
              "#0d0887"
             ],
             [
              0.1111111111111111,
              "#46039f"
             ],
             [
              0.2222222222222222,
              "#7201a8"
             ],
             [
              0.3333333333333333,
              "#9c179e"
             ],
             [
              0.4444444444444444,
              "#bd3786"
             ],
             [
              0.5555555555555556,
              "#d8576b"
             ],
             [
              0.6666666666666666,
              "#ed7953"
             ],
             [
              0.7777777777777778,
              "#fb9f3a"
             ],
             [
              0.8888888888888888,
              "#fdca26"
             ],
             [
              1,
              "#f0f921"
             ]
            ],
            "type": "heatmap"
           }
          ],
          "histogram": [
           {
            "marker": {
             "pattern": {
              "fillmode": "overlay",
              "size": 10,
              "solidity": 0.2
             }
            },
            "type": "histogram"
           }
          ],
          "histogram2d": [
           {
            "colorbar": {
             "outlinewidth": 0,
             "ticks": ""
            },
            "colorscale": [
             [
              0,
              "#0d0887"
             ],
             [
              0.1111111111111111,
              "#46039f"
             ],
             [
              0.2222222222222222,
              "#7201a8"
             ],
             [
              0.3333333333333333,
              "#9c179e"
             ],
             [
              0.4444444444444444,
              "#bd3786"
             ],
             [
              0.5555555555555556,
              "#d8576b"
             ],
             [
              0.6666666666666666,
              "#ed7953"
             ],
             [
              0.7777777777777778,
              "#fb9f3a"
             ],
             [
              0.8888888888888888,
              "#fdca26"
             ],
             [
              1,
              "#f0f921"
             ]
            ],
            "type": "histogram2d"
           }
          ],
          "histogram2dcontour": [
           {
            "colorbar": {
             "outlinewidth": 0,
             "ticks": ""
            },
            "colorscale": [
             [
              0,
              "#0d0887"
             ],
             [
              0.1111111111111111,
              "#46039f"
             ],
             [
              0.2222222222222222,
              "#7201a8"
             ],
             [
              0.3333333333333333,
              "#9c179e"
             ],
             [
              0.4444444444444444,
              "#bd3786"
             ],
             [
              0.5555555555555556,
              "#d8576b"
             ],
             [
              0.6666666666666666,
              "#ed7953"
             ],
             [
              0.7777777777777778,
              "#fb9f3a"
             ],
             [
              0.8888888888888888,
              "#fdca26"
             ],
             [
              1,
              "#f0f921"
             ]
            ],
            "type": "histogram2dcontour"
           }
          ],
          "mesh3d": [
           {
            "colorbar": {
             "outlinewidth": 0,
             "ticks": ""
            },
            "type": "mesh3d"
           }
          ],
          "parcoords": [
           {
            "line": {
             "colorbar": {
              "outlinewidth": 0,
              "ticks": ""
             }
            },
            "type": "parcoords"
           }
          ],
          "pie": [
           {
            "automargin": true,
            "type": "pie"
           }
          ],
          "scatter": [
           {
            "fillpattern": {
             "fillmode": "overlay",
             "size": 10,
             "solidity": 0.2
            },
            "type": "scatter"
           }
          ],
          "scatter3d": [
           {
            "line": {
             "colorbar": {
              "outlinewidth": 0,
              "ticks": ""
             }
            },
            "marker": {
             "colorbar": {
              "outlinewidth": 0,
              "ticks": ""
             }
            },
            "type": "scatter3d"
           }
          ],
          "scattercarpet": [
           {
            "marker": {
             "colorbar": {
              "outlinewidth": 0,
              "ticks": ""
             }
            },
            "type": "scattercarpet"
           }
          ],
          "scattergeo": [
           {
            "marker": {
             "colorbar": {
              "outlinewidth": 0,
              "ticks": ""
             }
            },
            "type": "scattergeo"
           }
          ],
          "scattergl": [
           {
            "marker": {
             "colorbar": {
              "outlinewidth": 0,
              "ticks": ""
             }
            },
            "type": "scattergl"
           }
          ],
          "scattermap": [
           {
            "marker": {
             "colorbar": {
              "outlinewidth": 0,
              "ticks": ""
             }
            },
            "type": "scattermap"
           }
          ],
          "scattermapbox": [
           {
            "marker": {
             "colorbar": {
              "outlinewidth": 0,
              "ticks": ""
             }
            },
            "type": "scattermapbox"
           }
          ],
          "scatterpolar": [
           {
            "marker": {
             "colorbar": {
              "outlinewidth": 0,
              "ticks": ""
             }
            },
            "type": "scatterpolar"
           }
          ],
          "scatterpolargl": [
           {
            "marker": {
             "colorbar": {
              "outlinewidth": 0,
              "ticks": ""
             }
            },
            "type": "scatterpolargl"
           }
          ],
          "scatterternary": [
           {
            "marker": {
             "colorbar": {
              "outlinewidth": 0,
              "ticks": ""
             }
            },
            "type": "scatterternary"
           }
          ],
          "surface": [
           {
            "colorbar": {
             "outlinewidth": 0,
             "ticks": ""
            },
            "colorscale": [
             [
              0,
              "#0d0887"
             ],
             [
              0.1111111111111111,
              "#46039f"
             ],
             [
              0.2222222222222222,
              "#7201a8"
             ],
             [
              0.3333333333333333,
              "#9c179e"
             ],
             [
              0.4444444444444444,
              "#bd3786"
             ],
             [
              0.5555555555555556,
              "#d8576b"
             ],
             [
              0.6666666666666666,
              "#ed7953"
             ],
             [
              0.7777777777777778,
              "#fb9f3a"
             ],
             [
              0.8888888888888888,
              "#fdca26"
             ],
             [
              1,
              "#f0f921"
             ]
            ],
            "type": "surface"
           }
          ],
          "table": [
           {
            "cells": {
             "fill": {
              "color": "#EBF0F8"
             },
             "line": {
              "color": "white"
             }
            },
            "header": {
             "fill": {
              "color": "#C8D4E3"
             },
             "line": {
              "color": "white"
             }
            },
            "type": "table"
           }
          ]
         },
         "layout": {
          "annotationdefaults": {
           "arrowcolor": "#2a3f5f",
           "arrowhead": 0,
           "arrowwidth": 1
          },
          "autotypenumbers": "strict",
          "coloraxis": {
           "colorbar": {
            "outlinewidth": 0,
            "ticks": ""
           }
          },
          "colorscale": {
           "diverging": [
            [
             0,
             "#8e0152"
            ],
            [
             0.1,
             "#c51b7d"
            ],
            [
             0.2,
             "#de77ae"
            ],
            [
             0.3,
             "#f1b6da"
            ],
            [
             0.4,
             "#fde0ef"
            ],
            [
             0.5,
             "#f7f7f7"
            ],
            [
             0.6,
             "#e6f5d0"
            ],
            [
             0.7,
             "#b8e186"
            ],
            [
             0.8,
             "#7fbc41"
            ],
            [
             0.9,
             "#4d9221"
            ],
            [
             1,
             "#276419"
            ]
           ],
           "sequential": [
            [
             0,
             "#0d0887"
            ],
            [
             0.1111111111111111,
             "#46039f"
            ],
            [
             0.2222222222222222,
             "#7201a8"
            ],
            [
             0.3333333333333333,
             "#9c179e"
            ],
            [
             0.4444444444444444,
             "#bd3786"
            ],
            [
             0.5555555555555556,
             "#d8576b"
            ],
            [
             0.6666666666666666,
             "#ed7953"
            ],
            [
             0.7777777777777778,
             "#fb9f3a"
            ],
            [
             0.8888888888888888,
             "#fdca26"
            ],
            [
             1,
             "#f0f921"
            ]
           ],
           "sequentialminus": [
            [
             0,
             "#0d0887"
            ],
            [
             0.1111111111111111,
             "#46039f"
            ],
            [
             0.2222222222222222,
             "#7201a8"
            ],
            [
             0.3333333333333333,
             "#9c179e"
            ],
            [
             0.4444444444444444,
             "#bd3786"
            ],
            [
             0.5555555555555556,
             "#d8576b"
            ],
            [
             0.6666666666666666,
             "#ed7953"
            ],
            [
             0.7777777777777778,
             "#fb9f3a"
            ],
            [
             0.8888888888888888,
             "#fdca26"
            ],
            [
             1,
             "#f0f921"
            ]
           ]
          },
          "colorway": [
           "#636efa",
           "#EF553B",
           "#00cc96",
           "#ab63fa",
           "#FFA15A",
           "#19d3f3",
           "#FF6692",
           "#B6E880",
           "#FF97FF",
           "#FECB52"
          ],
          "font": {
           "color": "#2a3f5f"
          },
          "geo": {
           "bgcolor": "white",
           "lakecolor": "white",
           "landcolor": "#E5ECF6",
           "showlakes": true,
           "showland": true,
           "subunitcolor": "white"
          },
          "hoverlabel": {
           "align": "left"
          },
          "hovermode": "closest",
          "mapbox": {
           "style": "light"
          },
          "paper_bgcolor": "white",
          "plot_bgcolor": "#E5ECF6",
          "polar": {
           "angularaxis": {
            "gridcolor": "white",
            "linecolor": "white",
            "ticks": ""
           },
           "bgcolor": "#E5ECF6",
           "radialaxis": {
            "gridcolor": "white",
            "linecolor": "white",
            "ticks": ""
           }
          },
          "scene": {
           "xaxis": {
            "backgroundcolor": "#E5ECF6",
            "gridcolor": "white",
            "gridwidth": 2,
            "linecolor": "white",
            "showbackground": true,
            "ticks": "",
            "zerolinecolor": "white"
           },
           "yaxis": {
            "backgroundcolor": "#E5ECF6",
            "gridcolor": "white",
            "gridwidth": 2,
            "linecolor": "white",
            "showbackground": true,
            "ticks": "",
            "zerolinecolor": "white"
           },
           "zaxis": {
            "backgroundcolor": "#E5ECF6",
            "gridcolor": "white",
            "gridwidth": 2,
            "linecolor": "white",
            "showbackground": true,
            "ticks": "",
            "zerolinecolor": "white"
           }
          },
          "shapedefaults": {
           "line": {
            "color": "#2a3f5f"
           }
          },
          "ternary": {
           "aaxis": {
            "gridcolor": "white",
            "linecolor": "white",
            "ticks": ""
           },
           "baxis": {
            "gridcolor": "white",
            "linecolor": "white",
            "ticks": ""
           },
           "bgcolor": "#E5ECF6",
           "caxis": {
            "gridcolor": "white",
            "linecolor": "white",
            "ticks": ""
           }
          },
          "title": {
           "x": 0.05
          },
          "xaxis": {
           "automargin": true,
           "gridcolor": "white",
           "linecolor": "white",
           "ticks": "",
           "title": {
            "standoff": 15
           },
           "zerolinecolor": "white",
           "zerolinewidth": 2
          },
          "yaxis": {
           "automargin": true,
           "gridcolor": "white",
           "linecolor": "white",
           "ticks": "",
           "title": {
            "standoff": 15
           },
           "zerolinecolor": "white",
           "zerolinewidth": 2
          }
         }
        },
        "title": {
         "text": "Ítem con mayor satisfacción (%)"
        },
        "xaxis": {
         "anchor": "y",
         "domain": [
          0,
          1
         ],
         "title": {
          "text": "Semana"
         }
        },
        "yaxis": {
         "anchor": "x",
         "domain": [
          0,
          1
         ],
         "title": {
          "text": "Porcentaje (%)"
         }
        }
       }
      }
     },
     "metadata": {},
     "output_type": "display_data"
    }
   ],
   "source": [
    "import pandas as pd\n",
    "import plotly.express as px\n",
    "\n",
    "# Datos iniciales\n",
    "data = {\n",
    "    'Semana': ['Semana 1', 'Semana 2', 'Semana 3'],\n",
    "    'tasa_ocupacion_mensual': [59.03, 58.65, 56.50],\n",
    "    'indice_satisfaccion_general': [92.39, 92.42, 92.51],\n",
    "    'ciudad_mayor_ocupacion': ['madrid (65.3%)', 'madrid (54.57%)', 'madrid (54.65%)'],\n",
    "    'item_mayor_satisfaccion': ['Communication (97.11)', 'Communication (97.11)', 'Check-in (97.25)']\n",
    "}\n",
    "df = pd.DataFrame(data)\n",
    "\n",
    "# Extraer porcentajes de las cadenas\n",
    "df['ocupacion_pct'] = df['ciudad_mayor_ocupacion'] \\\n",
    "    .str.extract(r'(\\d+\\.?\\d*)').astype(float)\n",
    "df['item_pct'] = df['item_mayor_satisfaccion'] \\\n",
    "    .str.extract(r'(\\d+\\.?\\d*)').astype(float)\n",
    "\n",
    "# 1) Gráfico de línea para tasa de ocupación mensual\n",
    "fig1 = px.line(\n",
    "    df,\n",
    "    x='Semana',\n",
    "    y='tasa_ocupacion_mensual',\n",
    "    title='Tasa de ocupación mensual',\n",
    "    markers=True\n",
    ")\n",
    "fig1.update_layout(yaxis_title='Porcentaje (%)')\n",
    "\n",
    "# 2) Gráfico de línea para índice de satisfacción general\n",
    "fig2 = px.line(\n",
    "    df,\n",
    "    x='Semana',\n",
    "    y='indice_satisfaccion_general',\n",
    "    title='Índice de satisfacción general',\n",
    "    markers=True\n",
    ")\n",
    "fig2.update_layout(yaxis_title='Porcentaje (%)')\n",
    "\n",
    "# 3) Gráfico de barras para ciudad con mayor ocupación\n",
    "fig3 = px.bar(\n",
    "    df,\n",
    "    x='Semana',\n",
    "    y='ocupacion_pct',\n",
    "    title='Ciudad con mayor ocupación (%)',\n",
    "    text='ocupacion_pct'\n",
    ")\n",
    "fig3.update_layout(yaxis_title='Porcentaje (%)')\n",
    "\n",
    "# 4) Gráfico de barras para ítem con mayor satisfacción\n",
    "fig4 = px.bar(\n",
    "    df,\n",
    "    x='Semana',\n",
    "    y='item_pct',\n",
    "    title='Ítem con mayor satisfacción (%)',\n",
    "    text='item_pct'\n",
    ")\n",
    "fig4.update_layout(yaxis_title='Porcentaje (%)')\n",
    "\n",
    "# Mostrar gráficos (en Jupyter o entorno interactivo)\n",
    "fig1.show()\n",
    "fig2.show()\n",
    "fig3.show()\n",
    "fig4.show()\n",
    "\n"
   ]
  },
  {
   "cell_type": "markdown",
   "id": "afb4b655",
   "metadata": {},
   "source": [
    "## Análisis departamento Cliente:"
   ]
  },
  {
   "cell_type": "markdown",
   "id": "60e36f0d",
   "metadata": {},
   "source": [
    "### Analasis de la Experiencia del Cliente"
   ]
  },
  {
   "cell_type": "markdown",
   "id": "bdd12caf",
   "metadata": {},
   "source": [
    "Analista d'experiència del client: Hi ha una relació entre el preu de l'allotjament i la satisfacció general dels clients? Com varia aquesta relació en funció de les diferents ciutats on s'ubiquen els allotjaments"
   ]
  },
  {
   "cell_type": "code",
   "execution_count": 7,
   "id": "f68fc05f",
   "metadata": {},
   "outputs": [
    {
     "name": "stdout",
     "output_type": "stream",
     "text": [
      "Prueba de Shapiro-Wilk: p = 1.9157981311745386e-87\n",
      "La distribución no es normal.\n"
     ]
    },
    {
     "name": "stderr",
     "output_type": "stream",
     "text": [
      "c:\\Users\\isana\\AppData\\Local\\Programs\\Python\\Python313\\Lib\\site-packages\\scipy\\stats\\_axis_nan_policy.py:586: UserWarning:\n",
      "\n",
      "scipy.stats.shapiro: For N > 5000, computed p-value may not be accurate. Current N is 9650.\n",
      "\n"
     ]
    }
   ],
   "source": [
    "# Verificación de la normalidad de los datos\n",
    "from scipy.stats import shapiro\n",
    "\n",
    "stat, p = shapiro(df_tourist['price'])\n",
    "print(\"Prueba de Shapiro-Wilk: p =\", p)\n",
    "if p > 0.05:\n",
    "    print(\"La distribución es normal.\")\n",
    "else:\n",
    "    print(\"La distribución no es normal.\")"
   ]
  },
  {
   "cell_type": "markdown",
   "id": "92695fba",
   "metadata": {},
   "source": [
    "### Valor de correlación \n"
   ]
  },
  {
   "cell_type": "markdown",
   "id": "cfa6a532",
   "metadata": {},
   "source": [
    "Valor correlación (Spearman ρ = 0.110)\n",
    "Este valor indica una relación positiva muy débil entre el precio y la satisfacción general de los clientes.\n",
    "\n",
    "Es decir, en promedio, cuando el precio aumenta, la satisfacción del cliente también sube ligeramente, pero la intensidad de esta relación es casi insignificante.\n",
    "\n",
    "> Valor p (p-value) = 0.0000\n",
    "Como p < 0.05, esta relación es estadísticamente significativa.\n",
    "Esto significa que la probabilidad de que esta correlación sea producto del azar es prácticamente nula.\n",
    "\n",
    "> Análisis profesional:\n",
    "Aunque existe una correlación positiva entre el precio y la puntuación general de los clientes, su magnitud es muy baja. Esto implica que el precio por sí solo no puede predecir bien la satisfacción del cliente.\n",
    "Otros factores —como limpieza, exactitud de la descripción, ubicación, equipamiento e interacción con el anfitrión— tienen un papel mucho más influyente.\n",
    "\n",
    "> Resumen de resultados\n",
    "La prueba de correlación de Spearman entre precio y satisfacción mostró una relación débil pero significativa (ρ = 0.11, p < 0.001).\n",
    "Aunque es detectable en el mercado global, su fuerza es tan baja que confirma que el precio no es un determinante único de la satisfacción. Para mejorar la experiencia del cliente y optimizar la estrategia de precios, es imprescindible considerar también otros factores relevantes.\n",
    "A continuación, se profundizará en el análisis de esta relación a nivel de ciudades para diseñar políticas más específicas."
   ]
  },
  {
   "cell_type": "code",
   "execution_count": 8,
   "id": "56c8da55",
   "metadata": {},
   "outputs": [
    {
     "name": "stdout",
     "output_type": "stream",
     "text": [
      "Spearman Correlation: 0.115, p-value: 0.0000\n"
     ]
    }
   ],
   "source": [
    "#spearman\n",
    "from scipy.stats import spearmanr\n",
    "\n",
    "corr, p_value = spearmanr(df_tourist['price'], df_tourist['review_scores_rating'])\n",
    "print(f\"Spearman Correlation: {corr:.3f}, p-value: {p_value:.4f}\")\n"
   ]
  },
  {
   "cell_type": "markdown",
   "id": "34eb6d1d",
   "metadata": {},
   "source": [
    "### Análisis a nivel de ciudades"
   ]
  },
  {
   "cell_type": "markdown",
   "id": "2fcda69a",
   "metadata": {},
   "source": [
    "Para garantizar la fiabilidad de los resultados, solo se incluyeron en el análisis aquellas ciudades que contaban con al menos 30 alojamientos registrados. Este umbral de 30 se elige porque, en estadística, disponer de un mínimo de 30 muestras suele considerarse necesario para realizar análisis fiables. De esta forma, los resultados de correlación son más estables, precisos y menos sensibles a valores atípicos o dispersos. Las ciudades con menos de 30 datos fueron excluidas para evitar interpretaciones erróneas."
   ]
  },
  {
   "cell_type": "code",
   "execution_count": 9,
   "id": "89755c1f",
   "metadata": {},
   "outputs": [
    {
     "data": {
      "application/vnd.microsoft.datawrangler.viewer.v0+json": {
       "columns": [
        {
         "name": "index",
         "rawType": "int64",
         "type": "integer"
        },
        {
         "name": "city",
         "rawType": "object",
         "type": "string"
        },
        {
         "name": "spearman_corr",
         "rawType": "float64",
         "type": "float"
        },
        {
         "name": "p_value",
         "rawType": "float64",
         "type": "float"
        }
       ],
       "ref": "d6c5f9e6-c35b-492e-a3fb-b9302d20d80d",
       "rows": [
        [
         "6",
         "mallorca",
         "0.16424850882093045",
         "4.8823667041221734e-11"
        ],
        [
         "0",
         "malaga",
         "0.15896716298691635",
         "0.0003399958696971381"
        ],
        [
         "4",
         "girona",
         "0.13272760127592717",
         "2.849030702699574e-07"
        ],
        [
         "2",
         "sevilla",
         "0.07661423698680436",
         "0.08893856546105394"
        ],
        [
         "5",
         "valencia",
         "0.07221634239291747",
         "0.10229916589088085"
        ],
        [
         "1",
         "madrid",
         "0.06475291072027561",
         "0.0027655360986262806"
        ],
        [
         "7",
         "menorca",
         "0.032595608557758726",
         "0.6322027728167854"
        ],
        [
         "3",
         "barcelona",
         "-0.0786452762611998",
         "4.036931654812694e-05"
        ]
       ],
       "shape": {
        "columns": 3,
        "rows": 8
       }
      },
      "text/html": [
       "<div>\n",
       "<style scoped>\n",
       "    .dataframe tbody tr th:only-of-type {\n",
       "        vertical-align: middle;\n",
       "    }\n",
       "\n",
       "    .dataframe tbody tr th {\n",
       "        vertical-align: top;\n",
       "    }\n",
       "\n",
       "    .dataframe thead th {\n",
       "        text-align: right;\n",
       "    }\n",
       "</style>\n",
       "<table border=\"1\" class=\"dataframe\">\n",
       "  <thead>\n",
       "    <tr style=\"text-align: right;\">\n",
       "      <th></th>\n",
       "      <th>city</th>\n",
       "      <th>spearman_corr</th>\n",
       "      <th>p_value</th>\n",
       "    </tr>\n",
       "  </thead>\n",
       "  <tbody>\n",
       "    <tr>\n",
       "      <th>6</th>\n",
       "      <td>mallorca</td>\n",
       "      <td>0.164249</td>\n",
       "      <td>4.882367e-11</td>\n",
       "    </tr>\n",
       "    <tr>\n",
       "      <th>0</th>\n",
       "      <td>malaga</td>\n",
       "      <td>0.158967</td>\n",
       "      <td>3.399959e-04</td>\n",
       "    </tr>\n",
       "    <tr>\n",
       "      <th>4</th>\n",
       "      <td>girona</td>\n",
       "      <td>0.132728</td>\n",
       "      <td>2.849031e-07</td>\n",
       "    </tr>\n",
       "    <tr>\n",
       "      <th>2</th>\n",
       "      <td>sevilla</td>\n",
       "      <td>0.076614</td>\n",
       "      <td>8.893857e-02</td>\n",
       "    </tr>\n",
       "    <tr>\n",
       "      <th>5</th>\n",
       "      <td>valencia</td>\n",
       "      <td>0.072216</td>\n",
       "      <td>1.022992e-01</td>\n",
       "    </tr>\n",
       "    <tr>\n",
       "      <th>1</th>\n",
       "      <td>madrid</td>\n",
       "      <td>0.064753</td>\n",
       "      <td>2.765536e-03</td>\n",
       "    </tr>\n",
       "    <tr>\n",
       "      <th>7</th>\n",
       "      <td>menorca</td>\n",
       "      <td>0.032596</td>\n",
       "      <td>6.322028e-01</td>\n",
       "    </tr>\n",
       "    <tr>\n",
       "      <th>3</th>\n",
       "      <td>barcelona</td>\n",
       "      <td>-0.078645</td>\n",
       "      <td>4.036932e-05</td>\n",
       "    </tr>\n",
       "  </tbody>\n",
       "</table>\n",
       "</div>"
      ],
      "text/plain": [
       "        city  spearman_corr       p_value\n",
       "6   mallorca       0.164249  4.882367e-11\n",
       "0     malaga       0.158967  3.399959e-04\n",
       "4     girona       0.132728  2.849031e-07\n",
       "2    sevilla       0.076614  8.893857e-02\n",
       "5   valencia       0.072216  1.022992e-01\n",
       "1     madrid       0.064753  2.765536e-03\n",
       "7    menorca       0.032596  6.322028e-01\n",
       "3  barcelona      -0.078645  4.036932e-05"
      ]
     },
     "execution_count": 9,
     "metadata": {},
     "output_type": "execute_result"
    }
   ],
   "source": [
    "from scipy.stats import spearmanr\n",
    "\n",
    "def correlacion_spearman_por_ciudad(df_tourist):\n",
    "    resultados = []\n",
    "    for ciudad in df_tourist['city'].unique():\n",
    "        datos = df_tourist[df_tourist['city'] == ciudad]\n",
    "        if len(datos) >= 30:  # Filtro para asegurar suficiente cantidad de datos\n",
    "            corr, p = spearmanr(datos['price'], datos['review_scores_rating'])\n",
    "            resultados.append({'city': ciudad, 'spearman_corr': corr, 'p_value': p})\n",
    "    return pd.DataFrame(resultados)\n",
    "\n",
    "city_corrs = correlacion_spearman_por_ciudad(df_tourist)\n",
    "city_corrs.sort_values('spearman_corr', ascending=False)"
   ]
  },
  {
   "cell_type": "code",
   "execution_count": 10,
   "id": "e967e648",
   "metadata": {},
   "outputs": [
    {
     "data": {
      "application/vnd.plotly.v1+json": {
       "config": {
        "plotlyServerURL": "https://plot.ly"
       },
       "data": [
        {
         "hovertemplate": "spearman_corr=%{marker.color}<br>city=%{y}<extra></extra>",
         "legendgroup": "",
         "marker": {
          "color": {
           "bdata": "sL3mWhgGxT+rVhU3CVnEP2vZYNE3/cA/cC1Emv2csz80d9AsxXyyP8RI3ZGlk7A/mGF/IV+woD9S2IbJGCK0vw==",
           "dtype": "f8"
          },
          "coloraxis": "coloraxis",
          "line": {
           "color": "black",
           "width": 1
          },
          "pattern": {
           "shape": ""
          }
         },
         "name": "",
         "orientation": "h",
         "showlegend": false,
         "text": {
          "bdata": "sL3mWhgGxT+rVhU3CVnEP2vZYNE3/cA/cC1Emv2csz80d9AsxXyyP8RI3ZGlk7A/mGF/IV+woD9S2IbJGCK0vw==",
          "dtype": "f8"
         },
         "textposition": "auto",
         "texttemplate": "%{text:.2f}",
         "type": "bar",
         "x": {
          "bdata": "sL3mWhgGxT+rVhU3CVnEP2vZYNE3/cA/cC1Emv2csz80d9AsxXyyP8RI3ZGlk7A/mGF/IV+woD9S2IbJGCK0vw==",
          "dtype": "f8"
         },
         "xaxis": "x",
         "y": [
          "mallorca",
          "malaga",
          "girona",
          "sevilla",
          "valencia",
          "madrid",
          "menorca",
          "barcelona"
         ],
         "yaxis": "y"
        }
       ],
       "layout": {
        "barmode": "relative",
        "coloraxis": {
         "colorbar": {
          "title": {
           "text": "spearman_corr"
          }
         },
         "colorscale": [
          [
           0,
           "#2D6A4F"
          ],
          [
           0.5,
           "#8BAE3F"
          ],
          [
           1,
           "#D8F3DC"
          ]
         ]
        },
        "font": {
         "color": "black",
         "size": 14
        },
        "legend": {
         "tracegroupgap": 0
        },
        "paper_bgcolor": "#D8F3DC",
        "plot_bgcolor": "#D8F3DC",
        "shapes": [
         {
          "line": {
           "color": "gray",
           "dash": "dash"
          },
          "type": "line",
          "x0": 0,
          "x1": 0,
          "xref": "x",
          "y0": 0,
          "y1": 1,
          "yref": "y domain"
         }
        ],
        "template": {
         "data": {
          "bar": [
           {
            "error_x": {
             "color": "#2a3f5f"
            },
            "error_y": {
             "color": "#2a3f5f"
            },
            "marker": {
             "line": {
              "color": "#E5ECF6",
              "width": 0.5
             },
             "pattern": {
              "fillmode": "overlay",
              "size": 10,
              "solidity": 0.2
             }
            },
            "type": "bar"
           }
          ],
          "barpolar": [
           {
            "marker": {
             "line": {
              "color": "#E5ECF6",
              "width": 0.5
             },
             "pattern": {
              "fillmode": "overlay",
              "size": 10,
              "solidity": 0.2
             }
            },
            "type": "barpolar"
           }
          ],
          "carpet": [
           {
            "aaxis": {
             "endlinecolor": "#2a3f5f",
             "gridcolor": "white",
             "linecolor": "white",
             "minorgridcolor": "white",
             "startlinecolor": "#2a3f5f"
            },
            "baxis": {
             "endlinecolor": "#2a3f5f",
             "gridcolor": "white",
             "linecolor": "white",
             "minorgridcolor": "white",
             "startlinecolor": "#2a3f5f"
            },
            "type": "carpet"
           }
          ],
          "choropleth": [
           {
            "colorbar": {
             "outlinewidth": 0,
             "ticks": ""
            },
            "type": "choropleth"
           }
          ],
          "contour": [
           {
            "colorbar": {
             "outlinewidth": 0,
             "ticks": ""
            },
            "colorscale": [
             [
              0,
              "#0d0887"
             ],
             [
              0.1111111111111111,
              "#46039f"
             ],
             [
              0.2222222222222222,
              "#7201a8"
             ],
             [
              0.3333333333333333,
              "#9c179e"
             ],
             [
              0.4444444444444444,
              "#bd3786"
             ],
             [
              0.5555555555555556,
              "#d8576b"
             ],
             [
              0.6666666666666666,
              "#ed7953"
             ],
             [
              0.7777777777777778,
              "#fb9f3a"
             ],
             [
              0.8888888888888888,
              "#fdca26"
             ],
             [
              1,
              "#f0f921"
             ]
            ],
            "type": "contour"
           }
          ],
          "contourcarpet": [
           {
            "colorbar": {
             "outlinewidth": 0,
             "ticks": ""
            },
            "type": "contourcarpet"
           }
          ],
          "heatmap": [
           {
            "colorbar": {
             "outlinewidth": 0,
             "ticks": ""
            },
            "colorscale": [
             [
              0,
              "#0d0887"
             ],
             [
              0.1111111111111111,
              "#46039f"
             ],
             [
              0.2222222222222222,
              "#7201a8"
             ],
             [
              0.3333333333333333,
              "#9c179e"
             ],
             [
              0.4444444444444444,
              "#bd3786"
             ],
             [
              0.5555555555555556,
              "#d8576b"
             ],
             [
              0.6666666666666666,
              "#ed7953"
             ],
             [
              0.7777777777777778,
              "#fb9f3a"
             ],
             [
              0.8888888888888888,
              "#fdca26"
             ],
             [
              1,
              "#f0f921"
             ]
            ],
            "type": "heatmap"
           }
          ],
          "histogram": [
           {
            "marker": {
             "pattern": {
              "fillmode": "overlay",
              "size": 10,
              "solidity": 0.2
             }
            },
            "type": "histogram"
           }
          ],
          "histogram2d": [
           {
            "colorbar": {
             "outlinewidth": 0,
             "ticks": ""
            },
            "colorscale": [
             [
              0,
              "#0d0887"
             ],
             [
              0.1111111111111111,
              "#46039f"
             ],
             [
              0.2222222222222222,
              "#7201a8"
             ],
             [
              0.3333333333333333,
              "#9c179e"
             ],
             [
              0.4444444444444444,
              "#bd3786"
             ],
             [
              0.5555555555555556,
              "#d8576b"
             ],
             [
              0.6666666666666666,
              "#ed7953"
             ],
             [
              0.7777777777777778,
              "#fb9f3a"
             ],
             [
              0.8888888888888888,
              "#fdca26"
             ],
             [
              1,
              "#f0f921"
             ]
            ],
            "type": "histogram2d"
           }
          ],
          "histogram2dcontour": [
           {
            "colorbar": {
             "outlinewidth": 0,
             "ticks": ""
            },
            "colorscale": [
             [
              0,
              "#0d0887"
             ],
             [
              0.1111111111111111,
              "#46039f"
             ],
             [
              0.2222222222222222,
              "#7201a8"
             ],
             [
              0.3333333333333333,
              "#9c179e"
             ],
             [
              0.4444444444444444,
              "#bd3786"
             ],
             [
              0.5555555555555556,
              "#d8576b"
             ],
             [
              0.6666666666666666,
              "#ed7953"
             ],
             [
              0.7777777777777778,
              "#fb9f3a"
             ],
             [
              0.8888888888888888,
              "#fdca26"
             ],
             [
              1,
              "#f0f921"
             ]
            ],
            "type": "histogram2dcontour"
           }
          ],
          "mesh3d": [
           {
            "colorbar": {
             "outlinewidth": 0,
             "ticks": ""
            },
            "type": "mesh3d"
           }
          ],
          "parcoords": [
           {
            "line": {
             "colorbar": {
              "outlinewidth": 0,
              "ticks": ""
             }
            },
            "type": "parcoords"
           }
          ],
          "pie": [
           {
            "automargin": true,
            "type": "pie"
           }
          ],
          "scatter": [
           {
            "fillpattern": {
             "fillmode": "overlay",
             "size": 10,
             "solidity": 0.2
            },
            "type": "scatter"
           }
          ],
          "scatter3d": [
           {
            "line": {
             "colorbar": {
              "outlinewidth": 0,
              "ticks": ""
             }
            },
            "marker": {
             "colorbar": {
              "outlinewidth": 0,
              "ticks": ""
             }
            },
            "type": "scatter3d"
           }
          ],
          "scattercarpet": [
           {
            "marker": {
             "colorbar": {
              "outlinewidth": 0,
              "ticks": ""
             }
            },
            "type": "scattercarpet"
           }
          ],
          "scattergeo": [
           {
            "marker": {
             "colorbar": {
              "outlinewidth": 0,
              "ticks": ""
             }
            },
            "type": "scattergeo"
           }
          ],
          "scattergl": [
           {
            "marker": {
             "colorbar": {
              "outlinewidth": 0,
              "ticks": ""
             }
            },
            "type": "scattergl"
           }
          ],
          "scattermap": [
           {
            "marker": {
             "colorbar": {
              "outlinewidth": 0,
              "ticks": ""
             }
            },
            "type": "scattermap"
           }
          ],
          "scattermapbox": [
           {
            "marker": {
             "colorbar": {
              "outlinewidth": 0,
              "ticks": ""
             }
            },
            "type": "scattermapbox"
           }
          ],
          "scatterpolar": [
           {
            "marker": {
             "colorbar": {
              "outlinewidth": 0,
              "ticks": ""
             }
            },
            "type": "scatterpolar"
           }
          ],
          "scatterpolargl": [
           {
            "marker": {
             "colorbar": {
              "outlinewidth": 0,
              "ticks": ""
             }
            },
            "type": "scatterpolargl"
           }
          ],
          "scatterternary": [
           {
            "marker": {
             "colorbar": {
              "outlinewidth": 0,
              "ticks": ""
             }
            },
            "type": "scatterternary"
           }
          ],
          "surface": [
           {
            "colorbar": {
             "outlinewidth": 0,
             "ticks": ""
            },
            "colorscale": [
             [
              0,
              "#0d0887"
             ],
             [
              0.1111111111111111,
              "#46039f"
             ],
             [
              0.2222222222222222,
              "#7201a8"
             ],
             [
              0.3333333333333333,
              "#9c179e"
             ],
             [
              0.4444444444444444,
              "#bd3786"
             ],
             [
              0.5555555555555556,
              "#d8576b"
             ],
             [
              0.6666666666666666,
              "#ed7953"
             ],
             [
              0.7777777777777778,
              "#fb9f3a"
             ],
             [
              0.8888888888888888,
              "#fdca26"
             ],
             [
              1,
              "#f0f921"
             ]
            ],
            "type": "surface"
           }
          ],
          "table": [
           {
            "cells": {
             "fill": {
              "color": "#EBF0F8"
             },
             "line": {
              "color": "white"
             }
            },
            "header": {
             "fill": {
              "color": "#C8D4E3"
             },
             "line": {
              "color": "white"
             }
            },
            "type": "table"
           }
          ]
         },
         "layout": {
          "annotationdefaults": {
           "arrowcolor": "#2a3f5f",
           "arrowhead": 0,
           "arrowwidth": 1
          },
          "autotypenumbers": "strict",
          "coloraxis": {
           "colorbar": {
            "outlinewidth": 0,
            "ticks": ""
           }
          },
          "colorscale": {
           "diverging": [
            [
             0,
             "#8e0152"
            ],
            [
             0.1,
             "#c51b7d"
            ],
            [
             0.2,
             "#de77ae"
            ],
            [
             0.3,
             "#f1b6da"
            ],
            [
             0.4,
             "#fde0ef"
            ],
            [
             0.5,
             "#f7f7f7"
            ],
            [
             0.6,
             "#e6f5d0"
            ],
            [
             0.7,
             "#b8e186"
            ],
            [
             0.8,
             "#7fbc41"
            ],
            [
             0.9,
             "#4d9221"
            ],
            [
             1,
             "#276419"
            ]
           ],
           "sequential": [
            [
             0,
             "#0d0887"
            ],
            [
             0.1111111111111111,
             "#46039f"
            ],
            [
             0.2222222222222222,
             "#7201a8"
            ],
            [
             0.3333333333333333,
             "#9c179e"
            ],
            [
             0.4444444444444444,
             "#bd3786"
            ],
            [
             0.5555555555555556,
             "#d8576b"
            ],
            [
             0.6666666666666666,
             "#ed7953"
            ],
            [
             0.7777777777777778,
             "#fb9f3a"
            ],
            [
             0.8888888888888888,
             "#fdca26"
            ],
            [
             1,
             "#f0f921"
            ]
           ],
           "sequentialminus": [
            [
             0,
             "#0d0887"
            ],
            [
             0.1111111111111111,
             "#46039f"
            ],
            [
             0.2222222222222222,
             "#7201a8"
            ],
            [
             0.3333333333333333,
             "#9c179e"
            ],
            [
             0.4444444444444444,
             "#bd3786"
            ],
            [
             0.5555555555555556,
             "#d8576b"
            ],
            [
             0.6666666666666666,
             "#ed7953"
            ],
            [
             0.7777777777777778,
             "#fb9f3a"
            ],
            [
             0.8888888888888888,
             "#fdca26"
            ],
            [
             1,
             "#f0f921"
            ]
           ]
          },
          "colorway": [
           "#636efa",
           "#EF553B",
           "#00cc96",
           "#ab63fa",
           "#FFA15A",
           "#19d3f3",
           "#FF6692",
           "#B6E880",
           "#FF97FF",
           "#FECB52"
          ],
          "font": {
           "color": "#2a3f5f"
          },
          "geo": {
           "bgcolor": "white",
           "lakecolor": "white",
           "landcolor": "#E5ECF6",
           "showlakes": true,
           "showland": true,
           "subunitcolor": "white"
          },
          "hoverlabel": {
           "align": "left"
          },
          "hovermode": "closest",
          "mapbox": {
           "style": "light"
          },
          "paper_bgcolor": "white",
          "plot_bgcolor": "#E5ECF6",
          "polar": {
           "angularaxis": {
            "gridcolor": "white",
            "linecolor": "white",
            "ticks": ""
           },
           "bgcolor": "#E5ECF6",
           "radialaxis": {
            "gridcolor": "white",
            "linecolor": "white",
            "ticks": ""
           }
          },
          "scene": {
           "xaxis": {
            "backgroundcolor": "#E5ECF6",
            "gridcolor": "white",
            "gridwidth": 2,
            "linecolor": "white",
            "showbackground": true,
            "ticks": "",
            "zerolinecolor": "white"
           },
           "yaxis": {
            "backgroundcolor": "#E5ECF6",
            "gridcolor": "white",
            "gridwidth": 2,
            "linecolor": "white",
            "showbackground": true,
            "ticks": "",
            "zerolinecolor": "white"
           },
           "zaxis": {
            "backgroundcolor": "#E5ECF6",
            "gridcolor": "white",
            "gridwidth": 2,
            "linecolor": "white",
            "showbackground": true,
            "ticks": "",
            "zerolinecolor": "white"
           }
          },
          "shapedefaults": {
           "line": {
            "color": "#2a3f5f"
           }
          },
          "ternary": {
           "aaxis": {
            "gridcolor": "white",
            "linecolor": "white",
            "ticks": ""
           },
           "baxis": {
            "gridcolor": "white",
            "linecolor": "white",
            "ticks": ""
           },
           "bgcolor": "#E5ECF6",
           "caxis": {
            "gridcolor": "white",
            "linecolor": "white",
            "ticks": ""
           }
          },
          "title": {
           "x": 0.05
          },
          "xaxis": {
           "automargin": true,
           "gridcolor": "white",
           "linecolor": "white",
           "ticks": "",
           "title": {
            "standoff": 15
           },
           "zerolinecolor": "white",
           "zerolinewidth": 2
          },
          "yaxis": {
           "automargin": true,
           "gridcolor": "white",
           "linecolor": "white",
           "ticks": "",
           "title": {
            "standoff": 15
           },
           "zerolinecolor": "white",
           "zerolinewidth": 2
          }
         }
        },
        "title": {
         "font": {
          "size": 20
         },
         "text": "Comparación de la correlación entre precio y satisfacción del cliente entre ciudades"
        },
        "xaxis": {
         "anchor": "y",
         "domain": [
          0,
          1
         ],
         "gridcolor": "lightgray",
         "showgrid": true,
         "title": {
          "text": "Coeficiente de correlación de Spearman entre precio y satisfacción"
         }
        },
        "yaxis": {
         "anchor": "x",
         "domain": [
          0,
          1
         ],
         "showgrid": false,
         "title": {
          "text": "Ciudad"
         }
        }
       }
      }
     },
     "metadata": {},
     "output_type": "display_data"
    }
   ],
   "source": [
    "import plotly.express as px\n",
    "\n",
    "# Ordenar los datos por la correlación de Spearman\n",
    "city_corrs_sorted = city_corrs.sort_values('spearman_corr', ascending=False)\n",
    "\n",
    "# Crear gráfico de barras horizontal con colores personalizados\n",
    "fig = px.bar(city_corrs_sorted,\n",
    "             x='spearman_corr',\n",
    "             y='city',\n",
    "             orientation='h',\n",
    "             text='spearman_corr',\n",
    "             color='spearman_corr',\n",
    "             color_continuous_scale=[[0, '#2D6A4F'], [0.5, '#8BAE3F'], [1, '#D8F3DC']],\n",
    "             title='Comparación de la correlación entre precio y satisfacción del cliente entre ciudades')\n",
    "\n",
    "# Personalizar apariencia\n",
    "fig.update_traces(marker_line_color='black', marker_line_width=1, texttemplate='%{text:.2f}')\n",
    "fig.update_layout(\n",
    "    plot_bgcolor='#D8F3DC',\n",
    "    paper_bgcolor='#D8F3DC',\n",
    "    xaxis_title='Coeficiente de correlación de Spearman entre precio y satisfacción',\n",
    "    yaxis_title='Ciudad',\n",
    "    title_font_size=20,\n",
    "    font=dict(color='black', size=14),\n",
    "    xaxis=dict(showgrid=True, gridcolor='lightgray'),\n",
    "    yaxis=dict(showgrid=False)\n",
    ")\n",
    "\n",
    "fig.add_vline(x=0, line_dash=\"dash\", line_color=\"gray\")  # Línea vertical en x=0\n",
    "\n",
    "fig.show()"
   ]
  },
  {
   "cell_type": "code",
   "execution_count": 11,
   "id": "ce696847",
   "metadata": {},
   "outputs": [
    {
     "data": {
      "image/png": "[encoded data removed]",
      "text/plain": [
       "<Figure size 600x400 with 2 Axes>"
      ]
     },
     "metadata": {},
     "output_type": "display_data"
    }
   ],
   "source": [
    "import seaborn as sns\n",
    "import matplotlib.pyplot as plt\n",
    "\n",
    "heat_df = city_corrs.pivot_table(index='city', values='spearman_corr')\n",
    "plt.figure(figsize=(6, len(heat_df) * 0.5))\n",
    "sns.heatmap(heat_df, annot=True, cmap='coolwarm', center=0)\n",
    "plt.title(\"Mapa de calor: correlación entre precio y satisfacción en las ciudades\")\n",
    "plt.xlabel(\"Coeficiente de Spearman\")\n",
    "plt.ylabel(\"Ciudad\")\n",
    "plt.show()\n"
   ]
  }
 ],
 "metadata": {
  "kernelspec": {
   "display_name": "Python 3",
   "language": "python",
   "name": "python3"
  },
  "language_info": {
   "codemirror_mode": {
    "name": "ipython",
    "version": 3
   },
   "file_extension": ".py",
   "mimetype": "text/x-python",
   "name": "python",
   "nbconvert_exporter": "python",
   "pygments_lexer": "ipython3",
   "version": "3.13.2"
  }
 },
 "nbformat": 4,
 "nbformat_minor": 5
}
