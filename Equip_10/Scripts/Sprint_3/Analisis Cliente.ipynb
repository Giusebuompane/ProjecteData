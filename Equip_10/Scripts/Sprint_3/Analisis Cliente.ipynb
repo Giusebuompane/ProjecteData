{
 "cells": [
  {
   "cell_type": "markdown",
   "id": "f2b3b446",
   "metadata": {},
   "source": [
    "# Análisis departamento de Experiencia del Cliente"
   ]
  },
  {
   "cell_type": "markdown",
   "id": "1a4f10f3",
   "metadata": {},
   "source": [
    "## Cargar dataset df_tourist_python_sprint3.csv"
   ]
  },
  {
   "cell_type": "code",
   "execution_count": 5,
   "id": "de154742",
   "metadata": {},
   "outputs": [
    {
     "data": {
      "application/vnd.microsoft.datawrangler.viewer.v0+json": {
       "columns": [
        {
         "name": "index",
         "rawType": "int64",
         "type": "integer"
        },
        {
         "name": "apartment_id",
         "rawType": "int64",
         "type": "integer"
        },
        {
         "name": "name",
         "rawType": "object",
         "type": "unknown"
        },
        {
         "name": "description",
         "rawType": "object",
         "type": "unknown"
        },
        {
         "name": "host_id",
         "rawType": "int64",
         "type": "integer"
        },
        {
         "name": "neighbourhood_name",
         "rawType": "object",
         "type": "string"
        },
        {
         "name": "neighbourhood_district",
         "rawType": "object",
         "type": "unknown"
        },
        {
         "name": "room_type",
         "rawType": "object",
         "type": "string"
        },
        {
         "name": "accommodates",
         "rawType": "int64",
         "type": "integer"
        },
        {
         "name": "bathrooms",
         "rawType": "float64",
         "type": "float"
        },
        {
         "name": "bedrooms",
         "rawType": "float64",
         "type": "float"
        },
        {
         "name": "beds",
         "rawType": "float64",
         "type": "float"
        },
        {
         "name": "amenities_list",
         "rawType": "object",
         "type": "unknown"
        },
        {
         "name": "price",
         "rawType": "float64",
         "type": "float"
        },
        {
         "name": "minimum_nights",
         "rawType": "int64",
         "type": "integer"
        },
        {
         "name": "maximum_nights",
         "rawType": "int64",
         "type": "integer"
        },
        {
         "name": "has_availability",
         "rawType": "bool",
         "type": "boolean"
        },
        {
         "name": "availability_30",
         "rawType": "int64",
         "type": "integer"
        },
        {
         "name": "availability_60",
         "rawType": "int64",
         "type": "integer"
        },
        {
         "name": "availability_90",
         "rawType": "int64",
         "type": "integer"
        },
        {
         "name": "availability_365",
         "rawType": "int64",
         "type": "integer"
        },
        {
         "name": "number_of_reviews",
         "rawType": "int64",
         "type": "integer"
        },
        {
         "name": "first_review_date",
         "rawType": "object",
         "type": "unknown"
        },
        {
         "name": "last_review_date",
         "rawType": "object",
         "type": "unknown"
        },
        {
         "name": "review_scores_rating",
         "rawType": "float64",
         "type": "float"
        },
        {
         "name": "review_scores_accuracy",
         "rawType": "float64",
         "type": "float"
        },
        {
         "name": "review_scores_cleanliness",
         "rawType": "float64",
         "type": "float"
        },
        {
         "name": "review_scores_checkin",
         "rawType": "float64",
         "type": "float"
        },
        {
         "name": "review_scores_communication",
         "rawType": "float64",
         "type": "float"
        },
        {
         "name": "review_scores_location",
         "rawType": "float64",
         "type": "float"
        },
        {
         "name": "review_scores_value",
         "rawType": "float64",
         "type": "float"
        },
        {
         "name": "is_instant_bookable",
         "rawType": "object",
         "type": "string"
        },
        {
         "name": "reviews_per_month",
         "rawType": "float64",
         "type": "float"
        },
        {
         "name": "country",
         "rawType": "object",
         "type": "string"
        },
        {
         "name": "city",
         "rawType": "object",
         "type": "string"
        },
        {
         "name": "insert_date",
         "rawType": "object",
         "type": "string"
        }
       ],
       "ref": "aaaa532f-2dfb-4802-b8bb-04a2753581ae",
       "rows": [
        [
         "0",
         "11964",
         "A ROOM WITH A VIEW",
         "Private bedroom in our attic apartment. Right in the heart of the pedestrian downtown area. Outstanding views from our large terrace and modern, fully renovated interior. Double bed in a fully renovated downtown attic. We live in a 1881 building in the heart of town. One minute away from the Picasso museum, Calle Larios and the cathedral. It is a 100 square meter apartment and a 45 square meter terrace with outstanding views of the cathedral and the whole downtown area and churches, plus an outdoor barbecue. The apartment underwent an 8 month renovation and is in pristine condition, with Italian appliances and light fixtures, Murano glass tiles and marble floors.  The building has an elevator up to the 4ht floor and we live on the 5th. All of downtown M�laga is pedestrian, so you will be guaranteed no traffic noise and pleasant walks. There are hundreds of restaurants and shops in the neighborhood as well; impossible to run out of things to do. Common areas As often as our guests want ",
         "45553",
         "Centro",
         null,
         "Private room",
         "2",
         "2.0",
         "1.0",
         "1.0",
         "TV,Internet,Wifi,Air conditioning,Elevator,Buzzer/wireless intercom,Heating,Washer,Smoke detector,Carbon monoxide detector,Essentials,Shampoo,24-hour check-in,Hangers,Hair dryer,Iron,Laptop friendly workspace,translation missing: en.hosting_amenity_49,translation missing: en.hosting_amenity_50",
         "400.0",
         "3",
         "365",
         "True",
         "7",
         "20",
         "40",
         "130",
         "78",
         "2010-01-02",
         "2017-09-05",
         "97.0",
         "100.0",
         "100.0",
         "100.0",
         "100.0",
         "100.0",
         "100.0",
         "FALSO",
         "75.0",
         "spain",
         "malaga",
         "2018-07-31"
        ],
        [
         "1",
         "21853",
         "Bright and airy room",
         "We have a quiet and sunny room with a good view in our 3 bedroom flat. In a welcoming atmosphere, our clean and respectful flatshare is located in a leafy neighbourhood with all facilities: shops, library, caf�s and bars, a swimming pools, gyms, and fantastic parks. Well connected by metro and bus with the centre: 15 minutes. For walks, we are also a 20 min stroll away from the riverside. I am living in a nice flat near the centre of Madrid (15 minutes by bus). We are relaxed, clean, and independent. The flat is located in a leafy neighbourhood with plenty of facilities: little shops, supermarkets, public library, swimming pools (covered and summer ones), tennis courts and free parking outside the flat. It is well connected by public transport (various bus and metro lines). The room is sunny and well presented. There are two bathrooms, one of which you would share with a guest. It has triple glazing and we provide fresh bedlinen and towels, so that packing is lighter for our guests. We",
         "83531",
         "C�rmenes",
         "Latina",
         "Private room",
         "1",
         "1.0",
         "1.0",
         "1.0",
         "TV,Internet,Wifi,Air conditioning,Kitchen,Free parking on premises,Doorman,Elevator,Heating,Washer,First aid kit,Fire extinguisher,Essentials,Shampoo,Lock on bedroom door,Hangers,Hair dryer,Iron,Laptop friendly workspace,translation missing: en.hosting_amenity_49,translation missing: en.hosting_amenity_50,Hot water,Bed linens,Extra pillows and blankets,Pocket wifi,Microwave,Coffee maker,Refrigerator,Dishes and silverware,Cooking basics,Oven",
         "170.0",
         "4",
         "40",
         "True",
         "0",
         "0",
         "0",
         "162",
         "33",
         "2014-10-10",
         "2018-07-15",
         "92.0",
         "90.0",
         "90.0",
         "100.0",
         "100.0",
         "80.0",
         "90.0",
         "FALSO",
         "52.0",
         "spain",
         "madrid",
         "2020-01-10"
        ],
        [
         "2",
         "32347",
         "Explore Cultural Sights from a Family-Friendly Apartment",
         "Open French doors and step onto a plant-filled terrace that feels like an oasis of calm in the center of the city. White-on-white decor, an ultramodern kitchen, and splashes of color create a fun and relaxing atmosphere for adults and kids alike.",
         "139939",
         "San Vicente",
         "Casco Antiguo",
         "Entire home/apt",
         "4",
         "1.0",
         "2.0",
         "2.0",
         "TV,Internet,Wifi,Air conditioning,Wheelchair accessible,Kitchen,Elevator,Buzzer/wireless intercom,Heating,Washer,Dryer,Smoke detector,Carbon monoxide detector,First aid kit,Fire extinguisher,Essentials,Shampoo,24-hour check-in,Hangers,Hair dryer,Iron,Laptop friendly workspace,Crib,Pack �n Play/travel crib,Body soap,Bath towel,Toilet paper,Bed linens,Extra pillows and blankets,Coffee maker,Host greets you,Full kitchen,Bedroom comforts,Bathroom essentials",
         "990.0",
         "2",
         "120",
         "True",
         "26",
         "31",
         "31",
         "270",
         "148",
         "2011-01-05",
         "2019-07-22",
         "98.0",
         "100.0",
         "100.0",
         "100.0",
         "100.0",
         "100.0",
         "100.0",
         "VERDADERO",
         "142.0",
         "spain",
         "sevilla",
         "2019-07-29"
        ],
        [
         "3",
         "35379",
         "Double 02 CasanovaRooms Barcelona",
         "Room at a my apartment. Kitchen and 2 bathrooms to share. Free self service breakfast. Free wifi,  TV, towels, bed linen, Ceiling fan, desk and balcony to the back of the building. I also have at guests disposal vanity kits and hairdryers. Washing machine, iron and printer on request. My apartment is located in the Eixample quarter close to the commercial area and the centre of town. I provide private rooms: one single room and two double rooms with self-service breakfast. You can also use the kitchen to cook quick meals. I also provide free wifi connection.  All rooms are equipped with a tv set, clean bed linen, fresh towels, heating and a ceiling fan.  I am on to the blue line (L5) and the underground station is �Hospital Cl�nic�. Make sure you take the exit marked as �Sortida Villarroel/Cl�nic�. From there on, you only need to walk 1 minute to �Carrer Casanova�. Though located centrally, we're on a residential and not touristic neighborhood. Metro stop Hospital Clinic line 5 (blue",
         "152232",
         "l'Antiga Esquerra de l'Eixample",
         "Eixample",
         "Private room",
         "2",
         "2.0",
         "1.0",
         "1.0",
         "TV,Internet,Wifi,Kitchen,Breakfast,Elevator,Buzzer/wireless intercom,Heating,Washer,Essentials,Lock on bedroom door,Hangers,Hair dryer,Iron,translation missing: en.hosting_amenity_49,translation missing: en.hosting_amenity_50,Hot water,Microwave,Coffee maker,Refrigerator,Dishes and silverware,Cooking basics,Stove,Patio or balcony,Host greets you,Paid parking on premises,Shower gel",
         "400.0",
         "2",
         "730",
         "True",
         "9",
         "23",
         "49",
         "300",
         "292",
         "2012-03-13",
         "2020-01-04",
         "94.0",
         "100.0",
         "90.0",
         "100.0",
         "100.0",
         "100.0",
         "90.0",
         "VERDADERO",
         "306.0",
         "spain",
         "barcelona",
         "2020-01-10"
        ],
        [
         "4",
         "35801",
         "Can Torras Farmhouse Studio Suite",
         "Lay in bed & watch sunlight change the mood of distant valley hills! This suite of rooms includes a double bedroom, twin bed room (& space for a third), private bathroom & entrance, living & dining area plus a delicious, home-made breakfast. There's a jacuzzi, plunge pool, pergola & organic gardens to explore. The ancient city of Girona is only 20 mins away. Great for romantic breaks & families with older children. English spoken. Proud to be fully registered with the Catalan Tourist Board. Can Torras is a recently renovated, ecolodge in the national park of Gavarres, on a hill top behind the ancient city of Girona. This suite has all the charm of an old farmhouse, but the services & environmental improvements of modern living.  A fantastic breakfast is included in your stay, plus the freedom to wander in our organic garden, relax in a hammock under the pergola, plunge in the pool or bask in our hot spa, as you enjoy magnificent views down the valley.   The Studio Suite includes a doub",
         "153805",
         "Quart",
         null,
         "Private room",
         "5",
         "1.0",
         "2.0",
         "5.0",
         "Wifi,Pool,Free parking on premises,Breakfast,Pets live on this property,Dog(s),Cat(s),Other pet(s),Hot tub,Indoor fireplace,Heating,Family/kid friendly,Washer,Dryer,Smoke detector,Carbon monoxide detector,Essentials,Shampoo,24-hour check-in,Hangers,Hair dryer,Iron,Laptop friendly workspace,translation missing: en.hosting_amenity_50,Bathtub,Baby bath,High chair,Children�s books and toys,Crib,Children�s dinnerware,Hot water,Bed linens,Extra pillows and blankets,Coffee maker,Refrigerator,Dishes and silverware,Garden or backyard,Luggage dropoff allowed,Long term stays allowed,Wide hallway clearance,Wide doorway,Well-lit path to entrance,Host greets you",
         "900.0",
         "1",
         "180",
         "True",
         "0",
         "19",
         "49",
         "312",
         "36",
         "2011-07-08",
         "2018-08-08",
         "97.0",
         "100.0",
         "100.0",
         "100.0",
         "100.0",
         "100.0",
         "100.0",
         "FALSO",
         "39.0",
         "spain",
         "girona",
         "2019-02-19"
        ],
        [
         "5",
         "48764",
         "18th C Stone House near Costa Brava",
         "Casa Fluvia is a charming stone village house in a Catalan village on the Costa Brava just 5 km from the sea. A perfect base for enjoying culture, cuisine, history, nature, and sports as well as the sea. Spacious house suitable for up to 8 people.  If your stay is less than one week, please request a price for the period you are interested in.  It is very difficult to cover all eventualities and different lengths of stay using the automatic system. Tourist Registration Ref: HUTG  000207 CASA FLUVI� IS A 18TH CENTURY STONE VILLAGE HOUSE WITH 3 DOUBLE BEDROOMS AND 1 TWIN BEDROOM.  - rooftop terrace and solarium  - first floor living area 30s Catalan style - ground floor living area typical of 18th century stone farmhouse The house is within 5 km of some of the best Costa Brava beaches, set in a quiet Mediterranean village in the Empord� with views of the Pyrenees, surrounding fields and neighbours working and paying their daily social visits.  This fully renovated house features vaulted",
         "220145",
         "Torroella de Fluvi�",
         null,
         "Entire home/apt",
         "8",
         "2.0",
         "4.0",
         "5.0",
         "TV,Internet,Wifi,Kitchen,Free street parking,Heating,Family/kid friendly,Washer,Smoke detector,First aid kit,Safety card,Fire extinguisher,Essentials,Shampoo,Hangers,Hair dryer,Iron,Laptop friendly workspace,Private entrance,Crib,Hot water,Host greets you",
         "900.0",
         "5",
         "95",
         "True",
         "0",
         "0",
         "0",
         "235",
         "25",
         "2011-06-04",
         "2018-08-25",
         "96.0",
         "100.0",
         "100.0",
         "100.0",
         "100.0",
         "90.0",
         "100.0",
         "FALSO",
         "27.0",
         "spain",
         "girona",
         "2019-02-19"
        ],
        [
         "6",
         "58512",
         "Stylish & cozy 3BR near Sagrada Familia",
         "Welcome to my home!<br /><br />My lovely 3 bedroom apartment is located in a traditional Catalan neighborhood close to Hospital Sant Pau (10 min walk) and the iconic Sagrada Familia (20 min walk). Enjoy exploring Barcelona with ease - two nearest metro stations:  Camp de l�Arpa (4 min by walk) and Clot (6 min by walk). Very safe area, quiet at night and family-friendly.<br />Gorgeous wooden floors, open ceilings, a modern and stylish decor and a beautifully integrated American kitchen add to the flat�s charm.<br /><br /><b>The space</b><br />My 3 bedroom apartment is spacious, with beautifully quirky decor and a relaxed feel. It�s the ideal place to come back to after a day of exploring. Great transport links and at a walking distance from Sagrada Familia mean you�ll be right in the hub of the city but able to escape the hustle and bustle! <br /><br />The living area is very cozy with a large, comfy sofa-bed and a flat-screen TV with HBO included, so please sit back and make yourself a",
         "280070",
         "el Camp de l'Arpa del Clot",
         "Sant Mart�",
         "Entire home/apt",
         "6",
         "2.0",
         "3.0",
         "4.0",
         "Shampoo, Washer, Wifi, Oven, Cooking basics, Hair dryer, TV, Heating, Extra pillows and blankets, First aid kit, Smoke alarm, Hangers, Essentials, Air conditioning, Bed linens, Stove, Carbon monoxide alarm, Microwave, Paid parking off premises, Host greets you, Hot water, Bathtub, Kitchen, Iron, Long term stays allowed, Refrigerator, Fire extinguisher, Coffee maker, Laptop-friendly workspace, Dishes and silverware]",
         "950.0",
         "5",
         "90",
         "True",
         "30",
         "60",
         "90",
         "331",
         "382",
         "2011-04-08",
         "2020-03-02",
         "89.0",
         "90.0",
         "90.0",
         "90.0",
         "90.0",
         "90.0",
         "90.0",
         "VERDADERO",
         "329.0",
         "spain",
         "barcelona",
         "2020-10-12"
        ],
        [
         "7",
         "71603",
         "PENTHOUSE1 BEST PRICE 15/21.07 PROMO LAST MINUTE!",
         "The apartment you are about to book has everything you need for a top quality stay.  We have more than 6 years providing people around the world the perfect home away from home, so relax and enjoy, you are on the perfect hands now...  HUTB-003878 Old world style meets modern convenience in a newly renovated penthouse for rent in the heart of Barcelona�s city center. Whether searching for a romantic get-away or family holidays, our Ausias Marc apartment guarantees a comfortable and luxury stay.The apartment has been completely renovated and modernized to achieve the quality and high standard necessary to make this a luxury apartment for our visitor to Barcelona.You can see this from the moment you step into the tastefully, styled fireplace, as well as the perfectly preserved facade of the 18th Century Palace where this apartment is located. The apartment is located in a building catalogued as an historical an esthetical emblem of Barcelona. The location cannot be better, the neighborhoo",
         "366654",
         "la Dreta de l'Eixample",
         "Eixample",
         "Entire home/apt",
         "3",
         "2.0",
         "1.0",
         "4.0",
         "TV,Cable TV,Internet,Wireless Internet,Air conditioning,Kitchen,Smoking allowed,Pets allowed,Doorman,Gym,Elevator,Hot tub,Indoor fireplace,Heating,Family/kid friendly,Suitable for events,Washer,Dryer",
         "3900.0",
         "3",
         "5",
         "True",
         "28",
         "55",
         "85",
         "360",
         "33",
         "2011-02-16",
         "2017-06-05",
         "94.0",
         "100.0",
         "100.0",
         "100.0",
         "90.0",
         "100.0",
         "90.0",
         "FALSO",
         "42.0",
         "spain",
         "barcelona",
         "2017-07-06"
        ],
        [
         "8",
         "72150",
         "Sunny attic duplex flat with terrace next to Sol",
         "The apartment is a quiet, secluded idyll in the heart of Madrid. It was renovated and redecorated in 2014. With 3 bedrooms distributed over 2 floors, it can host up to 9 people (1 double bed and 1 single bed per bedroom). You will enjoy the intimacy and quiet  of the rooftop terrace.<br /><br /><b>The space</b><br />The apartment is a quiet, secluded idyll in the heart of Madrid. It offers a breathtaking view of the city and the surrounding landscape from an intimate rooftop terrace. <br />The apartment is on the fourth floor of a historic building from the late 19th century. It has been completely renovated and redecorated in 2014.   <br />The main living space is a spacious, living / dining area, which is directly connected to a large terrace, through a large sliding glass door.<br />The total living area is 90 square meters, including upstairs, downstairs and a 20 square meters terrace. The first floor contains a living room, American-style open-plan kitchen, a bathroom, and a bedro",
         "364585",
         "Embajadores",
         "Centro",
         "Entire home/apt",
         "5",
         "2.0",
         "3.0",
         "6.0",
         "Shampoo, Luggage dropoff allowed, Paid parking on premises, Refrigerator, Coffee maker, Long term stays allowed, Dryer, Heating, Hot water, Patio or balcony, Washer, Oven, Stove, Air conditioning, Wifi, Essentials, Kitchen, Dishes and silverware, Smoke alarm, Iron, Cooking basics, Hangers, Carbon monoxide alarm, Laptop-friendly workspace, Hot tub, Hair dryer, Microwave, Building staff]",
         "790.0",
         "2",
         "1125",
         "True",
         "29",
         "59",
         "89",
         "179",
         "108",
         "2011-02-13",
         "2020-07-31",
         "91.0",
         "90.0",
         "90.0",
         "100.0",
         "100.0",
         "100.0",
         "90.0",
         "FALSO",
         "91.0",
         "spain",
         "madrid",
         "2020-11-06"
        ],
        [
         "9",
         "73683",
         "Sagrada Familia area for 12 people",
         "An ideal location for a big group, two apartments in the same building, one directly above the other.  Huge choice of stunning experiences can be included: Jet skis, Flyboard, Parasailing, Jet boat, Hoverboard, Sailing trips, Kayaks, Segways ... NOTE: Local city tax is NOT included in the price paid to Airbnb and must be paid upon arrival. Currently the city tax is �2.48 per person per night up to a maximum of 7 nights for guests over 16 years old. NOTE: If you want to see all my properties and boats please have a look at: https://www.airbnb.com/s?host_id=135703. The apartments are situated on the second and third floors, at the front, in a traditional 1930�s apartment block, which has recently been fully restored to a high standard. You can also add different stunning activities:  - Jet Ski rides, �100 for 30 minutes, or 180� for 60 minutes (no license required - up to 2 people). - Flyboard experience: �85 / 15 minutes (1 person), �160 / 30 minutes (up to 2 people), �300 / 60 min. (up",
         "135703",
         "el Camp d'en Grassot i Gr�cia Nova",
         "Gr�cia",
         "Entire home/apt",
         "12",
         "2.0",
         "4.0",
         "14.0",
         "TV,Cable TV,Internet,Wifi,Air conditioning,Kitchen,Paid parking off premises,Elevator,Buzzer/wireless intercom,Heating,Family/kid friendly,Washer,Smoke detector,Carbon monoxide detector,Fire extinguisher,Essentials,Shampoo,24-hour check-in,Hangers,Hair dryer,Iron,Laptop friendly workspace,Self check-in,Smart lock,High chair,Pack �n Play/travel crib,Hot water,Luggage dropoff allowed",
         "3000.0",
         "2",
         "60",
         "True",
         "8",
         "12",
         "23",
         "296",
         "120",
         "2011-06-04",
         "2018-05-20",
         "92.0",
         "90.0",
         "90.0",
         "100.0",
         "100.0",
         "90.0",
         "90.0",
         "VERDADERO",
         "14.0",
         "spain",
         "barcelona",
         "2018-06-09"
        ],
        [
         "10",
         "73692",
         "Rustic apartment : Rambla Catalunya (HUTB-005863)",
         "Located in the centre of Barcelona (near Plaza Catalunya and Passeig de Gracia), this wonderful 2 bedroom apartment is on the 4th floor of a charming building, on the famous road called Ramba de Catalunya. Ideal for groups of up to 5 people Located in the centre of Barcelona , this wonderful centrally heated apartment is on the 4th floor of a charming building (with elevator), removing it from the bustle of the street below. This beautifully decorated 2 bedroom apartment is a hit for groups of up to 5 people, and boasts a bright twin bedroom with large cupboard for storage, and a small interior single bedroom, with smaller storage space. Both bedrooms lead to the air-conditioned lounge, containing the comfortable double sofa bed, and the dining and TV areas. The main bedroom and lounge also have balconies, from which you can view the world below. The bathroom contains a shower cubicle, while the kitchen is fully equipped with all the conveniences you�d expect such as electric cooker, f",
         "297545",
         "la Dreta de l'Eixample",
         "Eixample",
         "Entire home/apt",
         "5",
         "1.0",
         "2.0",
         "3.0",
         "TV,Wireless Internet,Air conditioning,Kitchen,Elevator,Buzzer/wireless intercom,Heating,Family/kid friendly,Washer,Fire extinguisher,Essentials,Hangers,Hair dryer,Iron",
         "1050.0",
         "2",
         "90",
         "True",
         "9",
         "39",
         "63",
         "307",
         "29",
         "2012-08-01",
         "2017-08-03",
         "84.0",
         "90.0",
         "80.0",
         "100.0",
         "90.0",
         "100.0",
         "90.0",
         "VERDADERO",
         "46.0",
         "spain",
         "barcelona",
         "2017-10-07"
        ],
        [
         "11",
         "79755",
         "3Br-2bath-AC Full 5 stars reviews!",
         "90 m2 apartment, 2 baths, 3 bedrooms. Fully equipped kitchen, dishwasher, washing machine, etc. There is WiFi internet, TV, DVD, HiFi, air conditioning and programable heating. Lots of public transport within 1 minute distance and great location. Come visit Barcelona and stay where locals live. Enjoy my quiet, sunny and beautifully located apartment! I am right now living on it, with my wife and baby, but we will be out during the dates you have chosen (and will leave it perfectly ready for you). This means it is even better equipped, including baby stuff, but it has changed a bit from the pictures. Contact me previously if you have any questions. My place is a 90 m2 apartment (around 1000 sq. feet) with air conditioning, 2 double bedrooms (one with a king size bed and one with 2 individual beds) and an additional single bedroom, plus 2 full bathrooms. The living-room is large and bright. The kitchen is fully equipped, with everything necessary to cook, laundry machine and dishwasher.",
         "429939",
         "l'Antiga Esquerra de l'Eixample",
         "Eixample",
         "Entire home/apt",
         "5",
         "2.0",
         "3.0",
         "4.0",
         "TV,Internet,Wireless Internet,Air conditioning,Wheelchair accessible,Kitchen,Doorman,Elevator,Heating,Family/kid friendly,Washer,Smoke detector,Carbon monoxide detector,Fire extinguisher,Essentials,Shampoo,24-hour check-in,Hangers,Hair dryer,Iron,Laptop friendly workspace,Outlet covers,Bathtub,Baby bath,Changing table,High chair,Children�s books and toys,Crib,Pack �n Play/travel crib,Room-darkening shades,Children�s dinnerware,Game console,Hot water,Bed linens,Extra pillows and blankets,Ethernet connection,Microwave,Coffee maker,Refrigerator,Dishwasher,Dishes and silverware,Cooking basics,Oven,Stove",
         "1100.0",
         "3",
         "365",
         "True",
         "9",
         "10",
         "10",
         "10",
         "189",
         "2011-04-24",
         "2016-10-01",
         "98.0",
         "100.0",
         "100.0",
         "100.0",
         "100.0",
         "100.0",
         "100.0",
         "VERDADERO",
         "234.0",
         "spain",
         "barcelona",
         "2017-12-09"
        ],
        [
         "12",
         "89756",
         "Old town 1, 6minutesfrom Ramblas",
         "ONLY FOR FAMILIES or people over 25 years old! Old town Ramblas  1 apartment with 3 BEDROOM  Right in the city centre only 6/7 minutes from Las Ramblas, so walking distance to all the major attractions, Gothic quarter, beach, montjuic. 8 beds including sof� beds (2 double + 2 single + 4 sofabeds) it is forbidden to add more people than 9 we could ask you to leave the apartment if you break this rule. Thanks. ith tourist licence:  N�HUTB 003874 ONLY FOR FAMILIES ro people over 25 years old!    The Old Town 1 apartment Apartment with a total capacity up to  9 guests/groups of families. 3 BEDROOMS   Right in the city centre only 6/7 minutes from Las Ramblas, so walking distance to all the major attractions, Gothic quarter and the Port but in a nice quiet street so you can sleep at night. It has 3 double bedrooms;   with 8 beds including the sofa beds  :      1 bedroom   with 1 king size bed + 1 single sofa bed   (for 3 people) 1 bedroom with 2 single  beds for 2 people  (this bed can be j",
         "488117",
         "el Raval",
         "Ciutat Vella",
         "Entire home/apt",
         "9",
         "1.0",
         "3.0",
         "8.0",
         "TV,Wireless Internet,Air conditioning,Wheelchair accessible,Kitchen,Elevator in building,Buzzer/wireless intercom,Heating,Family/kid friendly,Washer,Smoke detector,Carbon monoxide detector,Fire extinguisher,Essentials,Hangers,Hair dryer,Iron",
         "2800.0",
         "6",
         "60",
         "True",
         "7",
         "23",
         "53",
         "328",
         "9",
         "2012-11-02",
         "2016-11-29",
         "89.0",
         "90.0",
         "90.0",
         "100.0",
         "100.0",
         "90.0",
         "80.0",
         "VERDADERO",
         "17.0",
         "spain",
         "barcelona",
         "2017-04-08"
        ],
        [
         "13",
         "89776",
         "Modernist flat Downtown Casa Estap� | Barcelona",
         "Unique and rare ! Stay in the Casa Estap�, jewel of catalan modernism.  In the city center of Barcelona, perfectly situated for metro and North Station, the 40m2 apartment is a protected monument, fully equipped, double bedroom and view to Passeig de Sant Joan. = > It can only be rented through Airbnb. Apartment of 40 m in beautiful modernist building called Casa Estap�, first house of the Modernist road.  It consists of a living room, overlooking the Passeig de Sant Joan and the Arc de Triomph, with an American kitchen and a sofa bed, a large bedroom with a 160x190 cm bed and a complete bathroom with an Italian shower.  Located in the city center, on Passeig de Sant Joan adjacent to the Arc de Triomphe, 5 minutes from the Parque de la Ciutadella and the Born and 10 minutes walk from Plaza Catalunya and the historic town (Ciutat Vella neighborhood and Gothic).  Perfectly connected by metro (stop on the same block) and bus, and 200 meters from the North Station (bus to Girona airport).",
         "488151",
         "el Fort Pienc",
         "Eixample",
         "Entire home/apt",
         "4",
         "1.0",
         "1.0",
         "2.0",
         "TV,Internet,Wifi,Air conditioning,Kitchen,Elevator,Buzzer/wireless intercom,Heating,Family/kid friendly,Essentials,Shampoo,Hangers,Hair dryer,Iron,Laptop friendly workspace",
         "650.0",
         "3",
         "365",
         "True",
         "7",
         "18",
         "41",
         "224",
         "322",
         "2011-11-10",
         "2019-12-01",
         "96.0",
         "100.0",
         "100.0",
         "100.0",
         "100.0",
         "100.0",
         "100.0",
         "VERDADERO",
         "327.0",
         "spain",
         "barcelona",
         "2019-12-10"
        ],
        [
         "14",
         "89954",
         "Amazing apt in the historic center",
         "Beautiful, new, central and cosy apartment perfect for a family or friends trip with everything you need to feel as at your own home. We try to offer the best accommodation for our guests Newly refurbished apartment. Beautiful, charming and comfortable. Duplex apartment: First floor with spacious living room, kitchen and bathroom. Second floor with two double bedrooms including wardrobes. Lumber room. High quality construction materials. La Latina-Austrias area. Most ancient and beautiful Downtown neighbourhood in the city but feeling like living in a small town. Street with restricted traffic. 10 minutes walking distance to Plaza Mayor and 5 minutes to Palacio Real. Next to everything (few minutes walking distance): Palacio Real, Museo del Prado, Thyssen and Reina Sof�a, traditional markets, shopping, located in one of the best �tapas� areas in Madrid. High speed Internet access WI-FI, printer, i pod player, dvd and cd player, LCD TV, juicer, toaster, hairdryer, kettle, coffee maker,",
         "487095",
         "Palacio",
         "Centro",
         "Entire home/apt",
         "6",
         "1.0",
         "2.0",
         "3.0",
         "TV,Cable TV,Wifi,Air conditioning,Kitchen,Elevator,Heating,Family/kid friendly,Washer,Smoke detector,First aid kit,Fire extinguisher,Essentials,Shampoo,Hangers,Hair dryer,Iron,Laptop friendly workspace,translation missing: en.hosting_amenity_50,High chair,Children�s books and toys,Crib,Hot water,Luggage dropoff allowed,Long term stays allowed,Host greets you,Paid parking on premises",
         "1030.0",
         "2",
         "20",
         "True",
         "27",
         "48",
         "49",
         "61",
         "181",
         "2011-07-01",
         "2018-11-01",
         "97.0",
         "100.0",
         "100.0",
         "100.0",
         "100.0",
         "100.0",
         "100.0",
         "FALSO",
         "202.0",
         "spain",
         "madrid",
         "2018-11-07"
        ],
        [
         "15",
         "96807",
         "double room, bathroom",
         "Double room Private bathroom with shower ROOM 1: With double bed or two single beds  Special offers for groups or families: Can be 6 guests in 3 bedrooms  .- Extra person �. 15 ROOM 2: 1 SINGLE BED ROOM 3: 1 DOUBLE BED AND 1 SINGLE BED FACILITIES: Excellent location train Cercanias Renfe (urban & fastest)  5 blocks to the station,   7 minutes to Atocha, 15 minutes to Puerta del Sol, downtown, tourism, theaters, cinemas retaurantes Casino Madrid museums, the Prado, Reina Sofia, Tissen, Plaza de Cibeles, Retiro Park. The bus 136  at the corner of the houuse. And metro close 8 corners of the house. wi-fi cable tv washer and dryer The room over loks a pedestrian street a garden area, is very quiet, where  no car traffic,  and  is very  sunny all year. There are  all kinds of good supermarkets and 2 shopping malls in our area. The house is our family, my grandson Angel  26 years old and I, we speak several languages, Spanish, English, Bulgarian, German, you  are welcome to stay with",
         "513331",
         "Palomeras Bajas",
         "Puente de Vallecas",
         "Private room",
         "2",
         "1.0",
         "1.0",
         "2.0",
         "TV,Internet,Wifi,Wheelchair accessible,Kitchen,Free parking on premises,Elevator,Buzzer/wireless intercom,Heating,Washer,Dryer,Essentials,Lock on bedroom door,Hangers,Hair dryer,Iron,translation missing: en.hosting_amenity_49,translation missing: en.hosting_amenity_50,Bed linens,Extra pillows and blankets,Ethernet connection,Pocket wifi",
         "290.0",
         "4",
         "365",
         "True",
         "30",
         "60",
         "90",
         "365",
         "77",
         "2011-06-08",
         "2019-07-07",
         "91.0",
         "90.0",
         "90.0",
         "90.0",
         "90.0",
         "80.0",
         "90.0",
         "FALSO",
         "74.0",
         "spain",
         "madrid",
         "2019-12-10"
        ],
        [
         "16",
         "101580",
         "Big house in PARADISE",
         "Luxury and quiet villa in Cala Canyelles (2km from Lloret de Mar, and 6km from Tossa de Mar) 67km to Barcelona. This villa is divided in 4 completely independent apartments. Both on main floor are joined in a very big space but can be separated by a double door.  The other 2 are completely independent. 1000m2 plot with gardens, big swimming-pool 13x6,5m, gimnastic, sauna and jacuzzi. house. It is situated in, Cala Canyelles a private urbanization between Lloret de Mar and Tossa de Mar. The house is 700m to the Canyelles beach, 2km to Lloret de Mar and 6km from Tossa de Mar. There are 4 apartments (completely independent) sharing the swimming pool, and spa. (also the washing machine and dry-machine). Every Apartment has a double master bedroom and a saloon where there is a double single beds that are the sofa-beds. The bed sheet and towels are included. Apartments upstairs (4 and 5) can be joined together as a common big space (on ap 4 you can have lunch together up to 16 people)....t",
         "532063",
         "Lloret de Mar",
         null,
         "Entire home/apt",
         "16",
         "4.0",
         "4.0",
         "12.0",
         "TV,Cable TV,Internet,Wifi,Air conditioning,Pool,Kitchen,Free parking on premises,Gym,Hot tub,Indoor fireplace,Heating,Suitable for events,Washer,Dryer,Smoke detector,Carbon monoxide detector,Essentials,Shampoo,Hangers,Hair dryer,Iron,Laptop friendly workspace,translation missing: en.hosting_amenity_49,translation missing: en.hosting_amenity_50,Crib,Hot water,Long term stays allowed,Host greets you",
         "950.0",
         "2",
         "30",
         "True",
         "22",
         "52",
         "82",
         "237",
         "14",
         "2017-05-28",
         "2018-10-14",
         "99.0",
         "100.0",
         "100.0",
         "100.0",
         "100.0",
         "90.0",
         "100.0",
         "VERDADERO",
         "73.0",
         "spain",
         "girona",
         "2018-12-22"
        ],
        [
         "17",
         "103386",
         "Central 2 Bedrooms, 3/5 pers. Wi-Fi",
         "This is Edificio Palomar Apartments, I will try to make you feel like home and you will discover Valencia in a great location, just right in the Historical Center. Because every journey is an experience we want to be part of yours. Located right in the Historical Centre you can find this new apartment in a restored 19th-century building, 2 bedrooms + sunny living-room + kitchen + 1 bathroom. Sleep max 5 persons , beds distribution: 1 double and 2 single beds + sofa bed. Lift access and fully equipped: -Towels and hairdryer included. - Microwave. - Oven. - Fridge & Freezer. - Dishwasher. - Toaster. - Hand blender. - Coffee Machine + Kettle. - Orange Juice Squeezer. - Cutlery, Table ware. - Coffee set. - Crockery. - TV in lounge and Master room. - DVD player. - Bed linen. - Air conditioning cool / heat. - Free Internet Wi-Fi.  - Baby set: Cot + baby chair + baby bath (for free). - Free luggage room service. You can rent a bike or moto Vespa to visit the City, also Segway tours. Recepti",
         "508042",
         "EL PILAR",
         "CIUTAT VELLA",
         "Entire home/apt",
         "5",
         "1.0",
         "2.0",
         "3.0",
         "TV,Wifi,Air conditioning,Kitchen,Paid parking off premises,Elevator,Buzzer/wireless intercom,Heating,Family/kid friendly,Washer,Dryer,First aid kit,Safety card,Fire extinguisher,Essentials,Shampoo,24-hour check-in,Hangers,Hair dryer,Iron,Laptop friendly workspace,Baby bath,High chair,Children�s books and toys,Crib,Pack �n Play/travel crib,Hot water,Bed linens,Microwave,Coffee maker,Refrigerator,Dishwasher,Dishes and silverware,Cooking basics,Oven,Stove,Patio or balcony,Luggage dropoff allowed,Host greets you",
         "840.0",
         "1",
         "14",
         "True",
         "17",
         "38",
         "64",
         "229",
         "13",
         "2011-11-01",
         "2019-04-19",
         "93.0",
         "100.0",
         "100.0",
         "100.0",
         "90.0",
         "90.0",
         "100.0",
         "FALSO",
         "13.0",
         "spain",
         "valencia",
         "2019-10-31"
        ],
        [
         "18",
         "107437",
         "A beautiful  villa in Barcelona",
         "A conserved, period villa situated in the midst of the lung of Barcelona.Unbeatably situated within the metropolitan area of Barcelona and in the midst of the Collserola Nature Reserve. A beautiful, 1930s house Tourist L :HUTB-009025 The house is at  3 minutes walking to the metro station  A conserved, period villa situated in the midst of the lung of Barcelona.Unbeatably situated within the metropolitan area of Barcelona and in the midst of the Collserola Nature Reserve. A beautiful, 1930s house, pleasantly situated in typically Mediterranean woodland with terraces. Recently restored maintaining its original, officially catalogued style. , at an unbelievable 5, 10 or 15 minutes by metro  to the center  and at only 3 minutes walk from the nearest station, Les Planes. Surounded by nature, wildlife and silence, yet maintaining the advantages of a great city, the house is ideal for combining work and holidaying, creativity and culture activities or simply enjoying moments of tranq",
         "556626",
         "Vallvidrera, el Tibidabo i les Planes",
         "Sarri�-Sant Gervasi",
         "Entire home/apt",
         "8",
         "2.0",
         "5.0",
         "6.0",
         "TV,Wifi,Kitchen,Free parking on premises,Smoking allowed,Pets allowed,Doorman,Free street parking,Buzzer/wireless intercom,Heating,Family/kid friendly,Washer,Dryer,Smoke detector,Carbon monoxide detector,First aid kit,Fire extinguisher,Essentials,Shampoo,24-hour check-in,Hangers,Hair dryer,Iron,Laptop friendly workspace,Crib,Hot water,Host greets you",
         "2200.0",
         "3",
         "120",
         "True",
         "12",
         "41",
         "59",
         "250",
         "34",
         "2011-07-08",
         "2018-07-28",
         "93.0",
         "100.0",
         "100.0",
         "100.0",
         "100.0",
         "100.0",
         "90.0",
         "VERDADERO",
         "38.0",
         "spain",
         "barcelona",
         "2018-10-10"
        ],
        [
         "19",
         "121210",
         "BIG ROOM IN CITY CENTER,NEAR BEACH!",
         "The best room in Barcelona!  Nice room, in a central and quiet part of Barcelona. Very near of the beach. With fast WIFI of course. In my opini�n, the best option for rest after one jorney discovering this amazing city. HELLO!  My name is Carmen, and I've got a newly renovated apartment in central Barcelona for your holiday in this cosmopolitan city! For rent is a bedroom for two people. The room is spacious, bright and quiet, and the apartment is very nice, spacious, bright and well kept... with a huge balcony!  WHAT DOES THE PRICE INCLUDE? Night in a double bed, sheets, towels, wardrobe, and access to the entire apartment (also the kitchen, which is fully equipped). And WIFI WHAT IS NOT INCLUDED? Noise. The windows and balcony overlook a quiet pedestrian street, so that you can rest well. (this is important, in city center usually there are so noise) In the flat there are 3 rooms, you are booking for one, and there are other for other guests, and other for me. You can use all apartme",
         "594334",
         "el Fort Pienc",
         "Eixample",
         "Private room",
         "2",
         "0.0",
         "1.0",
         "1.0",
         "TV,Internet,Wifi,Kitchen,Elevator,Washer,Essentials,translation missing: en.hosting_amenity_49,translation missing: en.hosting_amenity_50",
         "510.0",
         "5",
         "365",
         "True",
         "13",
         "38",
         "68",
         "68",
         "154",
         "2011-05-31",
         "2017-12-09",
         "89.0",
         "90.0",
         "90.0",
         "90.0",
         "90.0",
         "90.0",
         "90.0",
         "FALSO",
         "184.0",
         "spain",
         "barcelona",
         "2018-04-12"
        ],
        [
         "20",
         "128463",
         "Private Suite in residential area!!",
         "My House is located in the quiet district of Sants, catalan typical neighborhood. It is very close to the metro and bus, and just 10 minutes to the Centre. It is a quiet neighborhood, and cheaper than the Center. There are many restaurants and bars.. Welcome to Barcelona!!! Private suite whith  Double Bed and private bathroom, tv, cupboards. Suitable for either a couple or individual user.  I provide linens and towels. Convenient location:  7 minutes by metro from Centre of Barcelona. 7 minutes walking to Sants Central Train Station. 15 minutes walking to the Football Club Barcelona 10 minutes walking to Montjuic Fair and L'Hospitalet  ((MOBILE WORLD CONGRESS), congress and exhibition area) 3 minutes walking to all transportation (bus or metro) Restaurants, bars, groceries, pharmacy, general shopping- 3 minutes Bus #46 - direct to airport- 3 minutes walk.  Located in the District of Sants, very quiet and safe. Sants is a neighborhood in the southern part of Barcelona. Formerly an indus",
         "635253",
         "Sants",
         "Sants-Montju�c",
         "Private room",
         "2",
         "2.0",
         "1.0",
         "1.0",
         "TV,Wireless Internet,Air conditioning,Kitchen,Heating,Family/kid friendly,Smoke detector,Carbon monoxide detector,Essentials,Shampoo,Hangers,Hair dryer,Iron,Laptop friendly workspace,Bed linens,Extra pillows and blankets,Microwave,Coffee maker,Refrigerator,Dishes and silverware,Oven,Stove,Garden or backyard,Long term stays allowed",
         "300.0",
         "3",
         "1125",
         "True",
         "3",
         "16",
         "28",
         "264",
         "184",
         "2011-09-03",
         "2018-01-23",
         "97.0",
         "100.0",
         "100.0",
         "100.0",
         "100.0",
         "90.0",
         "100.0",
         "VERDADERO",
         "235.0",
         "spain",
         "barcelona",
         "2018-02-07"
        ],
        [
         "21",
         "131987",
         "SEVILLA CENTER 4 PAX.GREAT REVIEWS 1 BR+WIFI+AC",
         "OFFER SPRING & SUMMER : -5 or 6 nights=5% disccount off -7 nights ( or more )= 15 % disccount off -Max. capacity=4 guests -Located in hystoric quarter of Sevilla -Walking distance to all sights -Air conditioning/heating -WiFi -Lots of natural light -Bus to Airport ( EA line )+Plaza de Armas Bus Station+Public Parking in Plaza de Armas (5 min walking) -93% 5 stars reviews N� de Registro vivienda de Uso Turistico : VFT/SE/504 *VERY IMPORTANT ADVICE : Since mid-June (Phone number hidden by Airbnb) , in the cleaning process after each check-out, the use of an OZONE generating machine will be implemented to disinfect all rooms. This will lengthen the time required in the total cleaning process between each check-out and check-in, and therefore guests are asked to understand if the check-in time at the property should be delayed a bit . *OFFERS : *SPECIAL LONG STAY OFFERS ( from 2 weeks ) FOR APRIL , MAY , JUNE, JULY & SEPTEMBER *OFFERS SPRING & SUMMER : -5 or 6 nights=5% disccount off -7 n",
         "1535528",
         "San Vicente",
         "Casco Antiguo",
         "Entire home/apt",
         "4",
         "1.0",
         "1.0",
         "2.0",
         "TV,Wifi,Air conditioning,Kitchen,Paid parking off premises,Heating,Family/kid friendly,Washer,First aid kit,Fire extinguisher,Essentials,Shampoo,Hangers,Hair dryer,Iron,Bathtub,Hot water,Bed linens,Extra pillows and blankets,Ethernet connection,Microwave,Coffee maker,Refrigerator,Dishes and silverware,Cooking basics,Oven,Stove,Patio or balcony,Long term stays allowed,Host greets you",
         "690.0",
         "4",
         "365",
         "True",
         "30",
         "60",
         "90",
         "163",
         "235",
         "2012-03-12",
         "2020-03-12",
         "98.0",
         "100.0",
         "100.0",
         "100.0",
         "100.0",
         "100.0",
         "100.0",
         "VERDADERO",
         "235.0",
         "spain",
         "sevilla",
         "2020-05-30"
        ],
        [
         "22",
         "144471",
         "BEST ZONEPL.CATALU�A ROOM X 2BATHROOM +WIFI",
         "HELLO PEOPLE :=)  are you on vacation? or business? Perhaps a student? or just passing through ..! is just what you need ..! =) I' renting a room per days, weeks or monthly Rent a quiet and comfortable rooms in a beautifully renovated apartment. ROOMS DESCRIPTIONS: ROOM #1 It is a double room with a double bed and closet ideal for relaxing after a long day! In summer could has different price, depend of the season or week events in BCN. The most important thing!!! the flat is my home, I'm opening the doors of my home for you, please take care of it as yours, keep everything clean and respect the place.   Only one rule we have, DRUNK PEOPLE ARE NOT ALLOWED IN MY HOME, PLEASE!! THANKS!! if you are the person who like drink and drink without any control until get sick, this is not your place!! sorry!! ;D EXTRA SERVICES:  Kitchen not available for cooking * refrigerator use and microwave are free. FREE SERVICES FROM THE HOST:- WiFi, Fresh water bottle. - Cookies for breakfast. - Calls fixe",
         "700165",
         "Sant Antoni",
         "Eixample",
         "Private room",
         "2",
         "1.0",
         "1.0",
         "1.0",
         "Wifi,Wheelchair accessible,Elevator,Heating,Family/kid friendly,Washer,Smoke detector,Fire extinguisher,Essentials,Hangers,Iron,Laptop friendly workspace,Crib,Hot water,Host greets you,Paid parking on premises",
         "490.0",
         "2",
         "365",
         "True",
         "19",
         "49",
         "79",
         "354",
         "34",
         "2011-07-04",
         "2018-08-15",
         "88.0",
         "80.0",
         "90.0",
         "90.0",
         "90.0",
         "90.0",
         "80.0",
         "FALSO",
         "38.0",
         "spain",
         "barcelona",
         "2018-10-10"
        ],
        [
         "23",
         "157327",
         "House in Llofriu (Costa Brava)",
         "New rebuilt and furnished house pool bbq If you and your family/friends want to get relaxed in a quiet atmosphere with splendid views over Emporda area this is the place to stay! 8 km from Pals beach and 5 km from Palafrugell and La Bisbal downtowns House in the middle of countryside with an amazing view over the Emporda area. All new, from walls to furniture, decorated with very good taste. 230 square meters and 8,000 square meters of garden-terrain. 4 bedrooms with ensuite bathroom: 1 doble bed room  2 rooms with twin beds  and  1 room with 1 single bed and another one underneath that can be taken out. Fully equipped kitchen. Very large and comfortable dinning and sitting room.  Comfortable in/out swimming pool Terrace with places for dinning and sitting. BBQ by the pool.  WC for visits. Located in a quiet paradise that creates an immense relaxed atmosphere, unbelievable dawns and sunsets.   8 km away from Pals beach and 5 km from Palafrugell and La Bisbal downtowns. Ideal for famili",
         "755634",
         "Forallac",
         null,
         "Entire home/apt",
         "8",
         "5.0",
         "4.0",
         "8.0",
         "TV,Air conditioning,Pool,Kitchen,Free parking on premises,Indoor fireplace,Buzzer/wireless intercom,Heating,Family/kid friendly,Washer,Dryer,Fire extinguisher,Essentials,Shampoo",
         "950.0",
         "7",
         "90",
         "True",
         "27",
         "57",
         "87",
         "362",
         "1",
         "2015-08-18",
         "2015-08-18",
         "80.0",
         "80.0",
         "100.0",
         "100.0",
         "100.0",
         "80.0",
         "80.0",
         "FALSO",
         "2.0",
         "spain",
         "girona",
         "2020-04-30"
        ],
        [
         "24",
         "158238",
         "CENTRAL Wi Fi  w/TERRASSE 8 people",
         "Welcome to Barcelona ! Barcelona is a colorfull city with an amazing athmosphere plenty of experiences to enjoy. We want you to feel the Barcelona experience in our JUST RENEWED apartment a few minutes from the city center. Not included : touristic tax. Is 2,25 euros per person and night with a maximum of 7 nights Expenses of water, electricity are included untill 150 euros per month. Internet Included. Late check in after 8 pm : 25 euros Late check in after 10 pm : 35 euros Raquel 4 double rooms. 2 single beds And 3 double beds Metro Line 3 Palza del Centro stop Registro: (PHONE NUMBER HIDDEN)   Expedient (PHONE NUMBER HIDDEN) Registro: (PHONE NUMBER HIDDEN)   Expedient (PHONE NUMBER HIDDEN)",
         "759411",
         "les Corts",
         "Les Corts",
         "Entire home/apt",
         "8",
         "2.0",
         "4.0",
         "5.0",
         "TV,Internet,Wifi,Kitchen,Paid parking off premises,Smoking allowed,Pets allowed,Elevator,Buzzer/wireless intercom,Family/kid friendly,Washer,Essentials,Hair dryer,Iron,translation missing: en.hosting_amenity_50,Hot water,Host greets you",
         "1200.0",
         "3",
         "365",
         "True",
         "24",
         "54",
         "84",
         "359",
         "97",
         "2011-07-22",
         "2018-05-21",
         "89.0",
         "90.0",
         "80.0",
         "100.0",
         "100.0",
         "90.0",
         "90.0",
         "FALSO",
         "116.0",
         "spain",
         "barcelona",
         "2018-06-09"
        ],
        [
         "25",
         "164621",
         "Nice&Cozy ensuite DoubleBedroom",
         "** Please, always check availability before booking ** Thanks! Monthly rate available on request during low season. If this room is booked, I rent another one in the same flat, have a look: https://www.airbnb.es/rooms/164364 About the apartment: 3 Bedrooms 2 Bathrooms (1 en-suite) Fully furnished kitchen Living Room Patio/Terrace The flat is spacious and well distributed. There are 3 bedrooms: 2 for airbnb guests and one is mine. The kitchen is modern, functional and fully equipped. The living room is at the higher floor, it has 2 super comfy sofa, a yoga space and a very good vibe. There is a TV (smaller than the one on the photos). The patio is great for relaxing on the hammock and chilling out in the pleasant summer evenings.  This double room is the best and largest room of the flat: it has en-suite private bathroom and it overlooks the patio. The location is great! The flat is located in Porto Pi, a very convenient area close to...everything! Next door there is Porto Pi shopping c",
         "684289",
         "Palma de Mallorca",
         null,
         "Private room",
         "1",
         "1.0",
         "1.0",
         "0.0",
         "TV,Wifi,Kitchen,Smoking allowed,Free street parking,Buzzer/wireless intercom,Heating,Family/kid friendly,Washer,Essentials,Hangers,Hair dryer,Iron,Private entrance,Hot water,Luggage dropoff allowed,Long term stays allowed,Host greets you",
         "330.0",
         "7",
         "1125",
         "True",
         "10",
         "39",
         "69",
         "344",
         "44",
         "2011-07-26",
         "2017-06-25",
         "95.0",
         "100.0",
         "100.0",
         "100.0",
         "100.0",
         "90.0",
         "90.0",
         "FALSO",
         "45.0",
         "spain",
         "mallorca",
         "2019-08-31"
        ],
        [
         "26",
         "170750",
         "2-bedroom attic & rooftop terrace",
         "JESUS DEL VALLE Apartment Gorgeous, bright two-bedroom attic apartment with a great terrace and all the amenities. Set in a strategic location very close to Gran V�a, the main commercial and entertainment area in Madrid. This flat is perfect for couples, families or a group of friends. FEATURES This bright apartment outfitted with all comforts has an open loft-style living room with two single  beds like sofa,  connecting to a fully-equipped kitchen with all the necessary appliances to make your stay as homey as possible.   The living room also leads out to a large (20 m2) terrace, with outdoor furniture , allowing you to enjoy wonderful views of the sunset over the city rooftops and Madrid sky-line.  The apartment has a master bedroom with a double bed and another smaller bedroom with a double bed, both with built-in wardrobes. Amenities. 4th 1/2  floor with elevator ( last 10 steps on foot), air conditioning, electric heating, bed linens & towels, refrigerator, oven, microwave, kitch",
         "814490",
         "Universidad",
         "Centro",
         "Entire home/apt",
         "4",
         "1.0",
         "2.0",
         "4.0",
         "TV,Cable TV,Wifi,Air conditioning,Kitchen,Smoking allowed,Elevator,Heating,Family/kid friendly,Washer,Essentials,Shampoo,Hangers,Hair dryer,Iron,Bathtub,Hot water,Bed linens,Extra pillows and blankets,Microwave,Coffee maker,Refrigerator,Dishwasher,Dishes and silverware,Cooking basics,Oven,Stove,Patio or balcony,Well-lit path to entrance,Step-free access,Step-free access,Host greets you,Paid parking on premises",
         "900.0",
         "2",
         "30",
         "True",
         "11",
         "11",
         "11",
         "17",
         "189",
         "2011-10-28",
         "2018-11-18",
         "90.0",
         "90.0",
         "90.0",
         "100.0",
         "100.0",
         "100.0",
         "90.0",
         "FALSO",
         "218.0",
         "spain",
         "madrid",
         "2018-12-10"
        ],
        [
         "27",
         "176827",
         "Se alquilan habitaciones en Madrid",
         "Es un piso totalmente reformado. Todas las habitaciones tienen llave y est�n amuebladas. Se puede ir andando a todos los lugares importantes de Madrid. Las personas que se queden por meses tienen derecho a cocina, wii, calefacci�n, lavadora, etc. En el piso tenemos 5 ba�os y 2 duchas. Todas las habitaciones est�n amuebladas, algunas tienen medio ba�o dentro, tienen llave en la puerta. . Las personas que alquilen por meses tienen derecho a cocina, lavadora, wifi, etc. Las personas que alquilen por d�as sueltos, tienen derecho a wifi, microondas, frigorifico, utilizar platos, vasos, cubiertos, ( no los hornillos de la cocina ). La lavadora es un servicio aparte. Lo que sea necesario Esta rodeado de cines, teatros, centros comerciales, restaurantes, museos, etc. Se puede ir andando a todos los sitios importantes. El autob�s que sale del aeropuerto, la parada la tiene en Cibeles y se tarde 10 minutos andando al piso. Esta comunicado con todo tipo de transportes a metro, autobuses, tren etc",
         "845399",
         "Universidad",
         "Centro",
         "Private room",
         "7",
         "5.0",
         "1.0",
         "7.0",
         "TV,Internet,Wireless Internet,Kitchen,Smoking allowed,Heating,Washer,Dryer,Fire extinguisher,Shampoo,Lock on bedroom door,24-hour check-in,Hangers,Hair dryer,Iron,translation missing: en.hosting_amenity_49,translation missing: en.hosting_amenity_50",
         "280.0",
         "1",
         "730",
         "True",
         "13",
         "43",
         "72",
         "347",
         "156",
         "2012-02-06",
         "2017-04-02",
         "83.0",
         "80.0",
         "90.0",
         "90.0",
         "90.0",
         "90.0",
         "90.0",
         "VERDADERO",
         "248.0",
         "spain",
         "madrid",
         "2017-04-08"
        ],
        [
         "28",
         "178456",
         "Apartment 50m from beach in Alcudia Port, MALLORCA",
         "Nice apartment in Port d'Alc�dia, just a minute walk from the beach. Bright place with traditional Majorcan style decor.  Two bedrooms and big living room, with large terraces. Fully equipped. Bed linen and towels (bath, as well as beach) are included. Also beach accessories (like hammocks or umbrellas), as well as toys for children. It has everything you need to spend a few days (full kitchen with all kinds of accessories, oven, microwave, dishwasher, washing machine). Very well located. Fully equiped apartment with 2 complete bedrooms (with double bed) / 1 bathroom recently renovated / 1 large living room with big sofa / complete kitchen with all kind of accessories and appliances / big terraces). Very well located: - 50m. from the best beach in the north of Mallorca: Port d'Alc�dia. - 50m. from the big lake. - Less than 3 km. from s'Albufera (the only protected natural park in the whole island). - Really close of different activities as rental bicycles and different articles for the",
         "804167",
         "Alc�dia",
         null,
         "Entire home/apt",
         "4",
         "1.0",
         "2.0",
         "2.0",
         "TV,Wifi,Kitchen,Smoking allowed,Free street parking,Family/kid friendly,Suitable for events,Washer,Essentials,Shampoo,24-hour check-in,Hangers,Hair dryer,Iron,Laptop friendly workspace,Private entrance,High chair,Children�s books and toys,Crib,Hot water,Bed linens,Extra pillows and blankets,Microwave,Coffee maker,Refrigerator,Dishwasher,Dishes and silverware,Cooking basics,Oven,BBQ grill,Patio or balcony",
         "900.0",
         "4",
         "325",
         "True",
         "30",
         "60",
         "90",
         "365",
         "33",
         "2012-08-23",
         "2019-09-25",
         "88.0",
         "90.0",
         "90.0",
         "90.0",
         "100.0",
         "90.0",
         "90.0",
         "VERDADERO",
         "37.0",
         "spain",
         "mallorca",
         "2019-11-28"
        ],
        [
         "29",
         "183346",
         "ROOM IN CENTRAL REFURBISH FLAT",
         "I RENT a room in my fully big (125 m2) just refurbished big appartment in XIX century modernist building from 5th august to 3rd september.  The appartment is very bright with 5 balconies to a calm and nice street, west orientation. Although it has just been refurbished it has an antiquite and genuine style, with all modern comodities such a fully equiped kitchen, stack system, TV... It is located in a very elegant central area next to the trendiest and sophisticated shops and cafes and restaurant, the French consulate, 2 very nice parcs... and at the same time very central: just 5-10 min walk to Paseo de la Castella, Gran V�a, Plaza de Cibeles... Next to 2 metro stations: Chueca and Alonso Martinez. The flat has a very big living-room, a small living room, a connected fireplace room and a connected dinning room. It has also 3 bedrooms (one with a big bed and 2 big sofa beds; all of them 1,35 m), and 2 complete bathrooms. A big kitchen with washing machine, equipped kitchen with microwa",
         "877571",
         "Justicia",
         "Centro",
         "Private room",
         "2",
         "2.0",
         "1.0",
         "1.0",
         "TV,Cable TV,Internet,Wireless Internet,Kitchen,Smoking allowed,Pets allowed,Indoor fireplace,Buzzer/wireless intercom,Heating,Family/kid friendly,Washer,Dryer,Fire extinguisher,Essentials,Shampoo,24-hour check-in,Hangers,Hair dryer,Iron,Laptop friendly workspace",
         "300.0",
         "1",
         "730",
         "True",
         "0",
         "0",
         "0",
         "137",
         "12",
         "2013-11-16",
         "2016-05-29",
         "83.0",
         "90.0",
         "80.0",
         "90.0",
         "100.0",
         "90.0",
         "80.0",
         "FALSO",
         "24.0",
         "spain",
         "madrid",
         "2018-01-17"
        ],
        [
         "30",
         "186221",
         "La Sagrada Familia: small and simple room.",
         "Place to relax after a long day exploring Barcelona.  La Sagrada Familia? My house is 4 blocks.  People coming for parties are NOT WELCOME. Small room: very quiet, no parties. Reading this description before booking. There is an option, which is to send a message to host. The room is ONLY FOR sightseeing NOT for students, workers , etc. LGBT. Before sending the booking ... I hope a message, ALWAYS.      Only for people who come to barcelona for sightseeing: not room to live or students.      People coming for parties are NOT WELCOME.      Very quiet place, located in neighborhood of Gracia, one of the busiest area of Barcelona, just 4 blocks from the Sagrada Familia, 10 minutes walking to Sant Pau Hospital, and 4 metro stops from the Parc G�ell. You will visit 3 emblematic places of Barcelona, walking: La Sagrada Familia, Parc Guell; Sant Pau Hospital.      This room is for ONE person, simple and very useful. It has a window, but not direct sunlight. The room has fans and heati",
         "494228",
         "el Camp d'en Grassot i Gr�cia Nova",
         "Gr�cia",
         "Private room",
         "1",
         "0.0",
         "1.0",
         "1.0",
         "TV,Wireless Internet,Wheelchair accessible,Kitchen,Doorman,Elevator in building,Buzzer/wireless intercom,Heating,Washer,Dryer,Smoke detector,First aid kit,Safety card,Essentials,Shampoo,Hangers,Hair dryer,Iron,translation missing: en.hosting_amenity_49,translation missing: en.hosting_amenity_50",
         "150.0",
         "2",
         "3",
         "True",
         "5",
         "11",
         "37",
         "234",
         "416",
         "2011-08-22",
         "2017-04-02",
         "89.0",
         "90.0",
         "100.0",
         "100.0",
         "90.0",
         "90.0",
         "90.0",
         "VERDADERO",
         "607.0",
         "spain",
         "barcelona",
         "2017-04-08"
        ],
        [
         "31",
         "193923",
         "Single room in the real Barcelona",
         "Very well connected flat in a safe and peaceful neighbourhood. The metro station is just around the corner, and it is the green Line 3 Valldaura, in just a few minutes you can reach tourist attractions, all museums, the beach and the airport. Relax in a very nice and clean place after visit Barcelona. Very well connected flat in a safe and peaceful neighbourhood.  You have a little room with a single bed, fresh sheets, and towels, a private wardrobe, a night table, lamp, and fan. Guests also have a little space in the fridge and the toilet, and if needed they can use the kitchen. We can provide a hair dryer if needed and all of these services are free. If you don't feel like a tourist, here you can experience the real Barcelona with local people, low prices and peaceful spots to avoid crowding. Just ask me and enjoy your holiday :-) Minimum reserve: 2 nights The metro station is just around the corner, and it is the green Line 3 Valldaura, in just a few minutes you can reach touris",
         "939590",
         "Horta",
         "Horta-Guinard�",
         "Private room",
         "1",
         "1.0",
         "1.0",
         "1.0",
         "TV,Wifi,Kitchen,Elevator,Buzzer/wireless intercom,Washer,Smoke detector,Carbon monoxide detector,First aid kit,Essentials,Shampoo,Hangers,Hair dryer,Iron,Laptop friendly workspace,translation missing: en.hosting_amenity_49,translation missing: en.hosting_amenity_50,Hot water,Bed linens,Microwave,Coffee maker,Refrigerator,Dishes and silverware,Cooking basics,Oven,Stove,Host greets you",
         "200.0",
         "3",
         "60",
         "True",
         "2",
         "17",
         "29",
         "253",
         "125",
         "2011-09-02",
         "2020-02-10",
         "98.0",
         "100.0",
         "100.0",
         "100.0",
         "100.0",
         "90.0",
         "100.0",
         "FALSO",
         "121.0",
         "spain",
         "barcelona",
         "2020-02-16"
        ],
        [
         "32",
         "206846",
         "Duplex studio near Picasso Museum",
         "This bright and ultra-modern apartment in Barcelona is located in the trendy El Born area of the city, within walking distance of many fantastic museums and other must-see attractions. The apartment itself is well-lit and completely renovated, with the exposed ceiling beams and wooden French doors adding an authentic touch to the otherwise modern style. The living room has a TV and comfortable sofa bed, as well as access to the balcony overlooking a typical street in El Born. The kitchen is bright and fully equipped with up-to-date appliances and utensils. It also has a dining table where you can sit down to enjoy your home-cooked meals. Above the kitchen you will find a second storey, accessible by wooden stairs, where there is a double bed, meaning this gorgeous apartment can accommodate up to two people in total. The bathroom is bright with a sizeable walk-in shower.  This fantastic Barcelona apartment is perfect for those looking to stay in a modern home-away-from-home, situated in",
         "612665",
         "Sant Pere, Santa Caterina i la Ribera",
         "Ciutat Vella",
         "Entire home/apt",
         "2",
         "2.0",
         "1.0",
         "1.0",
         "TV,Internet,Wifi,Air conditioning,Kitchen,Paid parking off premises,Heating,Family/kid friendly,Smoke detector,First aid kit,Essentials,Shampoo,Hangers,Hair dryer,Iron,Laptop friendly workspace,Self check-in,Lockbox,Hot water,Bed linens,Extra pillows and blankets,Microwave,Coffee maker,Refrigerator,Dishwasher,Dishes and silverware,Cooking basics,Oven,Stove,Patio or balcony,Long term stays allowed,Cleaning before checkout,Wide entrance,Accessible-height toilet,Paid parking on premises",
         "1280.0",
         "31",
         "150",
         "True",
         "5",
         "7",
         "25",
         "205",
         "77",
         "2012-02-12",
         "2019-10-09",
         "92.0",
         "90.0",
         "90.0",
         "90.0",
         "90.0",
         "100.0",
         "90.0",
         "FALSO",
         "81.0",
         "spain",
         "barcelona",
         "2019-12-10"
        ],
        [
         "33",
         "210156",
         "ALCUDIA BEACH -MALLORCA HOLIDAYS",
         "A quiet house on a private street Chalet-style house, recently refurbished located in a quiet private road on a plot of 400 m2 with 200 m2 built, overlooking the Lago Menor and the mountains. It has garage, three bedrooms, kitchen, two bathrooms, living room and three porches, sun terrace, garden, outdoor shower, satellite TV and air conditioning (hot / cold) throughout the house and BBQ.. Located in a quiet area, but at the same time very close to leisure facilities of the Port of Alcudia: nightclubs, bars, restaurants and shops. It is also within 5 minutes of Pedro Mas i Reus one of the most important streets of the port, which leads to the Alcudia beach with fine white sand and crystalline waters, it is a Blue Flag beach where you can also perform various aquatic activities . In the same area is the Hidropark. In the Lago Menor water activities are carried out also in the surrounding area there are stables and horse riding.  A few kilometers from Puerto de Alcudia, lies the charming",
         "1036132",
         "Alc�dia",
         null,
         "Entire home/apt",
         "6",
         "2.0",
         "3.0",
         "4.0",
         "TV,Cable TV,Internet,Wifi,Air conditioning,Kitchen,Free parking on premises,Smoking allowed,Heating,Family/kid friendly,Washer,First aid kit,Essentials,Hangers,Hair dryer,Iron,Private entrance,High chair,Crib,Hot water,Bed linens,Extra pillows and blankets,Microwave,Coffee maker,Refrigerator,Dishwasher,Dishes and silverware,Cooking basics,Oven,Stove,BBQ grill,Patio or balcony,Garden or backyard,Host greets you",
         "580.0",
         "5",
         "365",
         "True",
         "26",
         "44",
         "49",
         "102",
         "90",
         "2012-08-11",
         "2019-11-02",
         "97.0",
         "100.0",
         "100.0",
         "100.0",
         "100.0",
         "90.0",
         "100.0",
         "VERDADERO",
         "97.0",
         "spain",
         "mallorca",
         "2020-03-22"
        ],
        [
         "34",
         "213296",
         "Big/Centric Room-Palau de la Musica",
         "Hi, I rent a big room in my 150 square meters and neo-modernist style appartment, in the antic center of Barcelona. It is located in the same street than the famous Palau de la Musica, very near Las Ramblas. The room has a doble bed, a table, and an access to the balcony where you will see the backyard. . I provide wifi internet connexion, sheets and towels. The flat is very well located because you can visit the best sites of Barcelona just walking, and if you are a little lazy, the nearest metro station (Urquinaona) will drive you anywhere you want. I have a beaux-arts degree, especialized in old part of town paintings. 2 very peaceful and sympathic cats give me company. You will  enjoy the tranquility of the place.  If you have any doubt, please contact me.",
         "1100014",
         "Sant Pere, Santa Caterina i la Ribera",
         "Ciutat Vella",
         "Private room",
         "2",
         "1.0",
         "1.0",
         "1.0",
         "Wireless Internet,Smoking allowed,Pets live on this property,Cat(s),Buzzer/wireless intercom,Washer,Essentials,Hangers,Iron",
         "250.0",
         "2",
         "12",
         "True",
         "8",
         "14",
         "25",
         "224",
         "168",
         "2012-05-20",
         "2017-01-21",
         "89.0",
         "90.0",
         "80.0",
         "90.0",
         "90.0",
         "100.0",
         "90.0",
         "FALSO",
         "292.0",
         "spain",
         "barcelona",
         "2017-02-09"
        ],
        [
         "35",
         "214970",
         "Cozy Room in central flat Barcelona",
         "Dear potential Guest, if you fancy staying in my place, I would appreciate very much that you carefully read all my information before booking. It is important!  Also be aware that you will need to provide your National Identity Number for my tax purposes. Thank you! <br /><br />My flat is located in Poble Sec, at the end of the street whose last block has a bit of steepness (REAL THIRD floor, my Name is on the Door), no lift. You will live only with me and my cat Odina.<br /><br />GAY friendly!<br /><br /><b>The space</b><br />YOUR ROOM:<br />� 1.40m double bed.  High quality mattress (viscoeslastic).<br />� Storage space in shelves and two free spaces in the closet, hanging drawers. <br />� Glass chamber window to minimize external noise (the area is already quiet). <br />� Central heating in winter and ventilator in summer.<br />� Bed linen, duvet, pillows and two towels per person. <br />� Relaxed and quiet environment in the whole flat.<br />� You can see Sagrada Familia at the di",
         "1110014",
         "el Poble Sec",
         "Sants-Montju�c",
         "Private room",
         "2",
         "1.0",
         "1.0",
         "1.0",
         "Kitchen, Extra pillows and blankets, Coffee maker, Oven, Hot water, Hair dryer, Bed linens, Cooking basics, Dishes and silverware, Stove, Refrigerator, Heating, Host greets you, Essentials]",
         "330.0",
         "30",
         "90",
         "True",
         "1",
         "1",
         "1",
         "1",
         "144",
         "2012-06-13",
         "2020-03-02",
         "93.0",
         "90.0",
         "100.0",
         "90.0",
         "90.0",
         "90.0",
         "90.0",
         "VERDADERO",
         "139.0",
         "spain",
         "barcelona",
         "2020-12-16"
        ],
        [
         "36",
         "222753",
         "House near City Arts+Wi-fi",
         "House with interior garden just few minutes from downtown. The room for three is on the first floor and has a private bathroom (ground floor) , living room and balcony overlooking the street. Also Wi-Fi 100 Mb.<br /><br /><b>The space</b><br />House with interior garden in a special place in Valencia, just minutes -15 min.- from downtown, popular district of Russafa, next to the old Turia riverbed, the biggest garden in Europe (more 7 km of garden) where the Valencian people make athletics, cycling or simply walking and rest. There is the City of Arts and Sciences and its impressive buildings designed by Valencian architect Santiago Calatrava.<br />This is a ground floor with a nice little garden and a beautiful facade belongs to the popular modernism of the city. We take care of our home so that the traveler find it clean, tidy and are comfortable as at home. The room is on the first floor for guests total independence, and also has private bathroom on the ground floor, living room an",
         "709516",
         "EN CORTS",
         "QUATRE CARRERES",
         "Private room",
         "3",
         "1.0",
         "2.0",
         "2.0",
         "Waterfront, Washer, Long term stays allowed, Coffee maker, Bed linens, Free street parking, Stove, Garden or backyard, Heating, Dishes and silverware, Hot water, Essentials, Laptop-friendly workspace, Kitchen, Extra pillows and blankets, Wifi, Shampoo, Oven, Patio or balcony, Host greets you, Hangers, Hair dryer, Iron, BBQ grill]",
         "310.0",
         "2",
         "365",
         "True",
         "30",
         "60",
         "90",
         "365",
         "172",
         "2011-10-22",
         "2020-03-01",
         "86.0",
         "90.0",
         "90.0",
         "100.0",
         "90.0",
         "90.0",
         "90.0",
         "FALSO",
         "156.0",
         "spain",
         "valencia",
         "2020-11-10"
        ],
        [
         "37",
         "255195",
         "Lightly apartment with balcony to Las Ramblas",
         "Amazing location of this lightly and sunny apartment. Shared terrace with spectacular views of Barcelona and sunset. <br />Fully furnished and equipped apartment (A/C, heating, internet WIFI,...). Also with kitchenware, bedlinen and towels,...<br />ONLY for MONTHLY RENTALS (over 32 nights)<br /><br /><b>Guest access</b><br />Great and large shared terrace.<br />Free laundry services.",
         "1310304",
         "el Raval",
         "Ciutat Vella",
         "Entire home/apt",
         "4",
         "1.0",
         "1.0",
         "2.0",
         "Refrigerator, Patio or balcony, Cooking basics, Heating, Dryer, Essentials, Wifi, Coffee maker, Air conditioning, Stove, Elevator, TV, Microwave, Washer, Dishes and silverware]",
         "330.0",
         "32",
         "330",
         "True",
         "30",
         "60",
         "90",
         "330",
         "17",
         "2012-03-02",
         "2020-10-09",
         "85.0",
         "80.0",
         "80.0",
         "90.0",
         "90.0",
         "100.0",
         "80.0",
         "FALSO",
         "16.0",
         "spain",
         "barcelona",
         "2020-11-06"
        ],
        [
         "38",
         "265647",
         "Canig� (Can Llobet)  PG-455",
         "Canig� is an appartment, in Can LLobet, Located in Capmany. Is a XVIII century house that has been completly restored . The ground floor is the common area for all clients with Jacuzzi, Swimming pool and garden. Fully equipped cottage, consisting of kitchen, bathroom, living room and 3 bedrooms. It has garden, terraces and a spa. the situation is excellent, 20 minutes from the beaches of the Costa Brava, 15 minutes south of France near Figueres, Roses, Cadaqu�s, and the natural park Aiguamolls de l'Empord� in the natural setting of Albera (Alt Empord�, Girona). ideal for family,  in the village there are shops, restaurants ... walking areas ... megalithic routes, from the house offer various activities, quad tours, paintball, travel with globe ... The ground floor is the common area for all clients with Jacuzzi, Swimming pool and garden.",
         "1393119",
         "Capmany",
         null,
         "Entire home/apt",
         "6",
         "2.0",
         "3.0",
         "5.0",
         "TV,Cable TV,Internet,Wifi,Air conditioning,Pool,Kitchen,Free parking on premises,Smoking allowed,Pets allowed,Hot tub,Buzzer/wireless intercom,Heating,Family/kid friendly,Washer,Fire extinguisher,Essentials,Hangers,Hair dryer,Iron,Self check-in,Lockbox,High chair,Pack �n Play/travel crib,Hot water",
         "1750.0",
         "7",
         "14",
         "True",
         "17",
         "41",
         "71",
         "333",
         "8",
         "2013-08-19",
         "2017-09-03",
         "95.0",
         "90.0",
         "100.0",
         "100.0",
         "100.0",
         "90.0",
         "90.0",
         "VERDADERO",
         "13.0",
         "spain",
         "girona",
         "2018-08-30"
        ],
        [
         "39",
         "279439",
         "sociable apartment in Raval 3",
         "Welcome to the Piero's home (Italian)!   The house is in Raval, surely one of the most characteristic districts of Barcelona.   The apartment consists of 3 separate rooms that are available with separate beds or double beds, according to needs of guests. There are bathroom (with 2 separate spaces between shower and toilet),  kitchen and living room. Washing machine is for private use only but there's a laundry very close to the house. The owner lives in the same apartment.  While maintaining its original charm, Raval is able to offer any type of entertainment, from the old prestigious restaurant, passing by flamenco shows till late night and a wide choice of pubs, discos and clubs. Only 200 meters from metro station Liceu on the Ramblas (Barcelona's main street), you can easily reach any point of cultural interest, like Gaudi's houses, churches, museums etc... Piero may suggest a culinary trip to food markets, gourmet restaurants and tapas bars. The main market of La Boqueria in Barcel",
         "1457147",
         "el Raval",
         "Ciutat Vella",
         "Private room",
         "7",
         "2.0",
         "3.0",
         "4.0",
         "Internet,Wifi,Kitchen,Smoking allowed,Elevator,Family/kid friendly,First aid kit,Fire extinguisher,Essentials,Lock on bedroom door,Hangers,Hair dryer,Crib,Hot water,Extra pillows and blankets,Pocket wifi,Coffee maker,Refrigerator,Dishes and silverware,Cooking basics,Oven,Stove,Patio or balcony,Luggage dropoff allowed",
         "250.0",
         "2",
         "21",
         "True",
         "1",
         "4",
         "13",
         "13",
         "102",
         "2012-02-20",
         "2018-04-13",
         "91.0",
         "90.0",
         "90.0",
         "100.0",
         "100.0",
         "90.0",
         "90.0",
         "FALSO",
         "134.0",
         "spain",
         "barcelona",
         "2018-05-14"
        ],
        [
         "40",
         "305213",
         "PLATANEROS - BRIGHT CENTRAL APT",
         "Is one of the best locations in town.  Walking  to the historic area takes you 10 minutes,  Las Ramblas, Gothic, Born. Plaza Catalunya and Paseo de Gracia 15 minutes, museums, shops  . From the apartment the are several buses take to the beach in 10 minutes, but also along a nice walk you reach in half and hour. Montjuich is 15 minutes walking or the telepheric in Paral.lel station 5 minutes from the apartment. Plaza de Espa�a 10 minutes walking and easy available from Sants railway station. Situated in one of the best areas in Barcelona, 10 minutes walk to Las Ramblas and also a short walk to the historic centre, museums, restaurants, shops and markets, and night life of Barcelona. Excellent comunications with public transport, only one minutes walk to Parallel metro station, on metro lines 2 and 3, Fira Barcelona  (Pla�a d' Espagna)  only10 minutes walking or ideal for World Mobbile Congres and also great bus connections, including airport bus. The neighbourhood is residential and pl",
         "1570247",
         "Sant Antoni",
         "Eixample",
         "Entire home/apt",
         "2",
         "1.0",
         "1.0",
         "1.0",
         "TV,Internet,Wireless Internet,Kitchen,Elevator,Buzzer/wireless intercom,Heating,Washer,Fire extinguisher,Essentials,Hangers,translation missing: en.hosting_amenity_49,translation missing: en.hosting_amenity_50,Hot water,Microwave,Coffee maker,Refrigerator,Dishes and silverware,Cooking basics,Stove,Patio or balcony,Waterfront",
         "1050.0",
         "3",
         "28",
         "True",
         "14",
         "24",
         "51",
         "141",
         "170",
         "2012-06-21",
         "2017-07-26",
         "95.0",
         "100.0",
         "100.0",
         "100.0",
         "100.0",
         "90.0",
         "100.0",
         "VERDADERO",
         "272.0",
         "spain",
         "barcelona",
         "2017-08-06"
        ],
        [
         "41",
         "314781",
         "PRIVATE SPACE 40M2, BEST AREA,WIFI",
         "Hi, I have a big private space,  2 double beds (one is bed/sofa), sunny balcony and your own living room in my confortable flat, modernist style, wash machine, internet wifi. Near Sagrada Familia,Ciudadella Parc,the beach,Pza Catalu�a, Metro Stations Girona and Tetuan Sunny and huge private space with 2 double beds with balcony and your own living room in a shared modernist flat, located in the best neighborhood in Barcelona, the famous EIXAMPLE, bars, restorants, boutiques, art galleries all near around. Walking distance to all major atractions in the city, like PLA�A CATALUNYA and the worldwide known RAMBLAS,  GOTHIC QUARTER, ARC DE TRIOMF, BARCELONETA, SAGRADA FAMILIA. Very close to metro station (L2 Girona L4 Tetuan) with excellent transport links to everywhere in Barcelona and nearby. The flat is a typical catalan modernist flat, with a total of 200 sq meters, with mosaic  floors, very bright and very spacious. We are easy going, respectful and polite. Wifi internet, also washing",
         "1604485",
         "la Dreta de l'Eixample",
         "Eixample",
         "Private room",
         "2",
         "2.0",
         "1.0",
         "2.0",
         "Wireless Internet,Smoking allowed,Pets allowed,Elevator in building,Buzzer/wireless intercom,Family/kid friendly,Washer",
         "1000.0",
         "2",
         "60",
         "True",
         "30",
         "60",
         "90",
         "365",
         "13",
         "2013-08-14",
         "2016-06-27",
         "93.0",
         "90.0",
         "80.0",
         "100.0",
         "90.0",
         "100.0",
         "100.0",
         "FALSO",
         "31.0",
         "spain",
         "barcelona",
         "2017-02-09"
        ],
        [
         "42",
         "318826",
         "Wonderful apartment. JUST REMODELED",
         "Magnificent apartment. Extremely bright and sunny  NEWLY RENOVATED! AIRBNB NEW! REF: VT-2148. Tourist Companies Registry of the General Directorate of Tourism of the Community of Madrid. The apartment is newly renovated, modern and quite comfortable. Located on the third floor, bright and sunny, has an approximate area of 60 square meters and has 3 bedrooms (suitable for 4 people), kitchen, bathroom and terrace. It is fully equipped with wooden floors, modern furnishings and amenities: dishwasher, microwave, oven, WIFI, flat screen TV available ... even a printer that can print their boarding passes. LOCATION It is located in the area of the Country House, near the historic center. It is perfect for all the attractions of Madrid. Immediately to the apartment there is a shopping street with shops, bars, restaurants ... CLOSE TO DOWNTOWN Perfect for exploring the heart of the city, with a wide range of public transport, efficient and cheap. � Metro: just 5 stops from the historic center",
         "1636378",
         "Aluche",
         "Latina",
         "Entire home/apt",
         "4",
         "1.0",
         "3.0",
         "3.0",
         "TV,Internet,Wifi,Air conditioning,Kitchen,Elevator,Free street parking,Buzzer/wireless intercom,Heating,Family/kid friendly,Washer,First aid kit,Essentials,Shampoo,Hangers,Hair dryer,Iron,Laptop friendly workspace,Room-darkening shades,Hot water,Microwave,Coffee maker,Refrigerator,Dishwasher,Dishes and silverware,Cooking basics,Oven,Long term stays allowed,Host greets you",
         "900.0",
         "6",
         "1125",
         "True",
         "23",
         "53",
         "83",
         "358",
         "11",
         "2012-05-07",
         "2018-12-14",
         "98.0",
         "100.0",
         "100.0",
         "100.0",
         "100.0",
         "90.0",
         "90.0",
         "FALSO",
         "13.0",
         "spain",
         "madrid",
         "2019-02-06"
        ],
        [
         "43",
         "323679",
         "Marina Costa Brava - view on canal",
         "Furnished Apartment in the Empuria brava marina (close to Center and main beach). Furnished 2 bedrooms.  the apartment has a 20 square meter living room, an equipped kitchen and is orientated West. Set on the 1st floor. 15 square feet terrace . The apartment is a five-minute walk from the beach (around 400 meters). Quiet place in a dead-end road. The apartment is located at the front of one canal. Privative car park.  Features : 1 bathroom / Sleeps : 4 Appliances : cooktop/ Microwave/ Oven / Ironing board /laundry machine Electronics : TV(66 cm) Furnishing : Air conditioning / sofa bed/ bedspread/ 2 double bed",
         "1552289",
         "Castell� d'Emp�ries",
         null,
         "Entire home/apt",
         "4",
         "1.0",
         "2.0",
         "3.0",
         "TV,Cable TV,Air conditioning,Kitchen,Free parking on premises,Heating,Washer,Dryer,Essentials,Hangers,Hair dryer,Iron,Hot water,Host greets you",
         "550.0",
         "14",
         "30",
         "True",
         "0",
         "0",
         "26",
         "301",
         "7",
         "2012-08-05",
         "2018-08-18",
         "86.0",
         "90.0",
         "90.0",
         "100.0",
         "100.0",
         "90.0",
         "90.0",
         "FALSO",
         "8.0",
         "spain",
         "girona",
         "2019-06-30"
        ],
        [
         "44",
         "326464",
         "Charm and quiet room",
         "<b>The space</b><br />The room is in the House Laxkanberria seventeenth century in the village of Arraioz, Baztan Valley. A place of dreams, rural, rustic, living nature, near the Natural Park of Bertiz. and less than an hour of Biarritz, San Sebastian, Pamplona. It has a full bathroom, central heating, wifi, TV. And above all, very quiet. You can enjoy in the area of ??the greenway Bidassoa, hiking, civil architecture in their homes and villages amazing wonderful, good food, nature as a whole and of the Basque culture and traditions. <br />Enjoy nature in its pure state, the harmony of their homes and villages. Uncover an ancient culture and languages??, the Basque Country. Ethnographic Museum, megalithic monuments, windmills, towers. In Arraioz same can enjoy the charm of the three palaces of the fifteenth century. And every day you have a mall.",
         "1669001",
         "Can Peguera",
         "Nou Barris",
         "Private room",
         "2",
         "1.0",
         "1.0",
         "1.0",
         "Essentials, Heating, Hair dryer, Hangers, Lock on bedroom door, Bed linens, Long term stays allowed, Wifi, Breakfast, Shower gel, TV]",
         "600.0",
         "1",
         "1125",
         "True",
         "30",
         "60",
         "90",
         "365",
         "33",
         "2014-10-05",
         "2019-12-28",
         "99.0",
         "100.0",
         "100.0",
         "100.0",
         "100.0",
         "100.0",
         "100.0",
         "FALSO",
         "43.0",
         "spain",
         "barcelona",
         "2021-02-09"
        ],
        [
         "45",
         "330723",
         "SUNNY ROOM WITH BALCONY",
         "<b>The space</b><br />You will have the chance to stay in a bright, and spacious Barcelona apartment with a terrace! The apartment has all the amenities you need. Staying here you will be in the heart of Barcelona, located in the  zone Nou de la Rambla and Paral-lel district , just one block away from the Paral-lel Metro and many buses, and a 10 minute walk to the  Las Ramblas 20 minute walk to Plaza Catalunya or to the beach.<br /><br />The apartment<br />The entire apartment is available with a  sunny double bedrooms.   You will also have access to a spacious, sunny lounge with views of the city. There is also TV, DVD player, WiFi, dishwasher, and a washing machine, heating. There is 2 toilets.  The apartment is located on the 6th floor with a lift.<br /><br />The neighbourhood<br />The apartment is in a perfect location, very close to tourist areas like the Ramblas 15 minute walk to Las Ramblas, Plaza Catalunya and the hustle and bustle of the city center.  <br /><br />Useful info",
         "1687383",
         "el Raval",
         "Ciutat Vella",
         "Private room",
         "2",
         "2.0",
         "1.0",
         "1.0",
         "Elevator, Essentials, Hair dryer, Hangers, Long term stays allowed, Dryer, Cable TV, Wifi, Kitchen, Iron, Washer, TV]",
         "300.0",
         "14",
         "1125",
         "True",
         "30",
         "60",
         "90",
         "365",
         "51",
         "2012-06-28",
         "2019-10-25",
         "93.0",
         "100.0",
         "100.0",
         "100.0",
         "90.0",
         "90.0",
         "100.0",
         "FALSO",
         "49.0",
         "spain",
         "barcelona",
         "2021-02-09"
        ],
        [
         "46",
         "336795",
         "Room in Madrid Center whit WIFI",
         "Room in Madrid Center close to Atocha railstation and all the museum zone. The subway station is Anton Martin and is very close of the house. We have internet and all the needs of modern life... The room in not big but the house is big and buitiful whit a lot of light and in madrid life is in the street not in the room. The house is in the middle of tree famous neighborhood: Lavapies, Huertas and La Latina. We are a couple from Chile and Italy who lives in madrid from a lot of years so we known perfectly the madrid nigthlife. Not worry you will have fun...",
         "1713273",
         "Cortes",
         "Centro",
         "Private room",
         "2",
         "1.0",
         "1.0",
         "1.0",
         "TV,Internet,Wifi,Kitchen,Smoking allowed,Pets live on this property,Cat(s),Buzzer/wireless intercom,Heating,Essentials,Shampoo,Hair dryer,Hot water,Host greets you",
         "250.0",
         "2",
         "1125",
         "True",
         "29",
         "52",
         "71",
         "344",
         "156",
         "2012-05-28",
         "2020-03-15",
         "73.0",
         "80.0",
         "70.0",
         "90.0",
         "90.0",
         "100.0",
         "80.0",
         "FALSO",
         "162.0",
         "spain",
         "madrid",
         "2020-04-17"
        ],
        [
         "47",
         "342557",
         "Berlin's Park at your window. Parking included.",
         "Very nice room in an area with excellent communications. We have the Berlin Park just in front. Our house is new, clean and cozy. In it we live my wife, me and our daughters. The area is very safe. Accommodation in a family, ideal for anyone but especially for women traveling alone. Possibility of garage, ask us.<br /><br /><b>The space</b><br />Private room in a relaxing flat, ten minutes walk from Real Madrid Santiago Bernab�u Stadium. Well connected by Metro (3 min walk to Concha Espina Station), buses and the new electrical bikes public hiring service from the Municipality (15 min ciclyng to Puerta del Sol). <br />You'll need 40 min to get to barajas Airport by Metro. <br />We are a married couple with two daughters aged nine and seven.<br />You will have a private room for you and a pretty bathroom shared with the girls. <br />The room is quiet, tidy and with lots of light and direct views to Parque de Berl�n, one of the biggests Parks of Madrid. It has a firm and new bed (190x90",
         "1738288",
         "Ciudad Jard�n",
         "Chamart�n",
         "Private room",
         "1",
         "1.0",
         "1.0",
         "1.0",
         "Shampoo, TV, Luggage dropoff allowed, Elevator, Refrigerator, Coffee maker, Free parking on premises, Heating, Hot water, Breakfast, Patio or balcony, Washer, Host greets you, Stove, Wifi, Essentials, Kitchen, Dishes and silverware, Iron, Dishwasher, Cooking basics, Hangers, Laptop-friendly workspace, Hair dryer, Microwave]",
         "700.0",
         "2",
         "120",
         "True",
         "30",
         "60",
         "90",
         "365",
         "55",
         "2013-10-21",
         "2019-11-03",
         "97.0",
         "100.0",
         "100.0",
         "100.0",
         "100.0",
         "100.0",
         "100.0",
         "FALSO",
         "64.0",
         "spain",
         "madrid",
         "2020-11-06"
        ],
        [
         "48",
         "343864",
         "3 BD APT IN THE HEART OF GRACIA",
         "A spacious and comfortable 3 bedrooms apartment located in a 3rd floor with no lift in the picturesque and bohemian Gracia's neighbourhood, next to the Virreina's square and the famous and emblematic Verdi street, full of bars, restaurants, shops and the VO cinema. Safe area. HUTB-009898 A spacious and comfortable 3 bedrooms apartment located located in a 3rd floor with no lift in the picturesque and bohemian Gracia's neighbourhood, next to the Virreina's square and the famous and emblematic Verdi street, full of bars, restaurants, shops and the VO cinema. Safe and peaceful area. This apartment has one double bed, one single bed and one bunk bed, two fully bathrooms (one with shower and the other with bathtub), a cosy living-room with a comfy double sofa-bed and a small balcony facing the Virreina's square and a fully equipped kitchen. It offer a pleasant and relaxing atmosphere, a perfect choice for a family or a group. If you are a big group you can also book the 'Apartment Virreina",
         "1744516",
         "la Vila de Gr�cia",
         "Gr�cia",
         "Entire home/apt",
         "6",
         "2.0",
         "3.0",
         "5.0",
         "TV,Wifi,Kitchen,Buzzer/wireless intercom,Heating,Family/kid friendly,Washer,Essentials,24-hour check-in,Hangers,Hair dryer,Iron,High chair,Crib,Hot water,Long term stays allowed,Host greets you,Paid parking on premises",
         "1390.0",
         "3",
         "1125",
         "True",
         "0",
         "5",
         "35",
         "307",
         "7",
         "2014-06-17",
         "2018-10-14",
         "94.0",
         "100.0",
         "100.0",
         "100.0",
         "90.0",
         "100.0",
         "90.0",
         "VERDADERO",
         "13.0",
         "spain",
         "barcelona",
         "2018-11-07"
        ],
        [
         "49",
         "352772",
         "Elegant Centric Attic WIFI Car Park",
         "Charming, luminous, quiet and comfortable attic in a centric location, you can go to the best Barcelona highlights on food.<br />Nearby you have big and good supermarkets and some of the best restaurants in Barcelona.<br />Easy from airport and high speed train station<br /><br /><b>The space</b><br />Charming, elegant and luminous apartment on the top of the building. <br />It is very well located between Plaza de Espa�a and Plaza de Catalu�a and perfect to go walking to the main sites, Gaudi's houses, Miro's works or down town. All this places are within half an hour ratio.<br />Also it is close to Barcelona's Fair at Plaza de Espa�a.<br />The high speed train station -Sans Station- is nearby.<br />It's at only 20 minutes taxi from the airport.<br />If you have a car, don't worries we provide a car park for free.<br />There are big supermarkets around -Mercadona is the best in Europe- and high quality restaurants also.<br />I recommend Taberna del Clinico and Tatika Berry, two of the",
         "1786501",
         "la Nova Esquerra de l'Eixample",
         "Eixample",
         "Entire home/apt",
         "5",
         "1.0",
         "2.0",
         "4.0",
         "Host greets you, Laptop-friendly workspace, High chair, Dryer, Shampoo, Stove, Hot water, Microwave, Washer, Carbon monoxide alarm, Room-darkening shades, Cooking basics, Patio or balcony, Kitchen, Air conditioning, Free parking on premises, Elevator, TV, Pack u2019n Play/travel crib, Heating, Coffee maker, Hair dryer, Hangers, Refrigerator, Iron, Essentials, Bathtub, Wifi, Oven, Crib, Babysitter recommendations, Dishes and silverware]",
         "850.0",
         "2",
         "90",
         "True",
         "0",
         "0",
         "0",
         "219",
         "103",
         "2014-02-28",
         "2020-10-18",
         "94.0",
         "100.0",
         "90.0",
         "90.0",
         "90.0",
         "90.0",
         "90.0",
         "VERDADERO",
         "126.0",
         "spain",
         "barcelona",
         "2020-11-06"
        ]
       ],
       "shape": {
        "columns": 35,
        "rows": 9650
       }
      },
      "text/html": [
       "<div>\n",
       "<style scoped>\n",
       "    .dataframe tbody tr th:only-of-type {\n",
       "        vertical-align: middle;\n",
       "    }\n",
       "\n",
       "    .dataframe tbody tr th {\n",
       "        vertical-align: top;\n",
       "    }\n",
       "\n",
       "    .dataframe thead th {\n",
       "        text-align: right;\n",
       "    }\n",
       "</style>\n",
       "<table border=\"1\" class=\"dataframe\">\n",
       "  <thead>\n",
       "    <tr style=\"text-align: right;\">\n",
       "      <th></th>\n",
       "      <th>apartment_id</th>\n",
       "      <th>name</th>\n",
       "      <th>description</th>\n",
       "      <th>host_id</th>\n",
       "      <th>neighbourhood_name</th>\n",
       "      <th>neighbourhood_district</th>\n",
       "      <th>room_type</th>\n",
       "      <th>accommodates</th>\n",
       "      <th>bathrooms</th>\n",
       "      <th>bedrooms</th>\n",
       "      <th>...</th>\n",
       "      <th>review_scores_cleanliness</th>\n",
       "      <th>review_scores_checkin</th>\n",
       "      <th>review_scores_communication</th>\n",
       "      <th>review_scores_location</th>\n",
       "      <th>review_scores_value</th>\n",
       "      <th>is_instant_bookable</th>\n",
       "      <th>reviews_per_month</th>\n",
       "      <th>country</th>\n",
       "      <th>city</th>\n",
       "      <th>insert_date</th>\n",
       "    </tr>\n",
       "  </thead>\n",
       "  <tbody>\n",
       "    <tr>\n",
       "      <th>0</th>\n",
       "      <td>11964</td>\n",
       "      <td>A ROOM WITH A VIEW</td>\n",
       "      <td>Private bedroom in our attic apartment. Right ...</td>\n",
       "      <td>45553</td>\n",
       "      <td>Centro</td>\n",
       "      <td>NaN</td>\n",
       "      <td>Private room</td>\n",
       "      <td>2</td>\n",
       "      <td>2.0</td>\n",
       "      <td>1.0</td>\n",
       "      <td>...</td>\n",
       "      <td>100.0</td>\n",
       "      <td>100.0</td>\n",
       "      <td>100.0</td>\n",
       "      <td>100.0</td>\n",
       "      <td>100.0</td>\n",
       "      <td>FALSO</td>\n",
       "      <td>75.0</td>\n",
       "      <td>spain</td>\n",
       "      <td>malaga</td>\n",
       "      <td>2018-07-31</td>\n",
       "    </tr>\n",
       "    <tr>\n",
       "      <th>1</th>\n",
       "      <td>21853</td>\n",
       "      <td>Bright and airy room</td>\n",
       "      <td>We have a quiet and sunny room with a good vie...</td>\n",
       "      <td>83531</td>\n",
       "      <td>C�rmenes</td>\n",
       "      <td>Latina</td>\n",
       "      <td>Private room</td>\n",
       "      <td>1</td>\n",
       "      <td>1.0</td>\n",
       "      <td>1.0</td>\n",
       "      <td>...</td>\n",
       "      <td>90.0</td>\n",
       "      <td>100.0</td>\n",
       "      <td>100.0</td>\n",
       "      <td>80.0</td>\n",
       "      <td>90.0</td>\n",
       "      <td>FALSO</td>\n",
       "      <td>52.0</td>\n",
       "      <td>spain</td>\n",
       "      <td>madrid</td>\n",
       "      <td>2020-01-10</td>\n",
       "    </tr>\n",
       "    <tr>\n",
       "      <th>2</th>\n",
       "      <td>32347</td>\n",
       "      <td>Explore Cultural Sights from a Family-Friendly...</td>\n",
       "      <td>Open French doors and step onto a plant-filled...</td>\n",
       "      <td>139939</td>\n",
       "      <td>San Vicente</td>\n",
       "      <td>Casco Antiguo</td>\n",
       "      <td>Entire home/apt</td>\n",
       "      <td>4</td>\n",
       "      <td>1.0</td>\n",
       "      <td>2.0</td>\n",
       "      <td>...</td>\n",
       "      <td>100.0</td>\n",
       "      <td>100.0</td>\n",
       "      <td>100.0</td>\n",
       "      <td>100.0</td>\n",
       "      <td>100.0</td>\n",
       "      <td>VERDADERO</td>\n",
       "      <td>142.0</td>\n",
       "      <td>spain</td>\n",
       "      <td>sevilla</td>\n",
       "      <td>2019-07-29</td>\n",
       "    </tr>\n",
       "    <tr>\n",
       "      <th>3</th>\n",
       "      <td>35379</td>\n",
       "      <td>Double 02 CasanovaRooms Barcelona</td>\n",
       "      <td>Room at a my apartment. Kitchen and 2 bathroom...</td>\n",
       "      <td>152232</td>\n",
       "      <td>l'Antiga Esquerra de l'Eixample</td>\n",
       "      <td>Eixample</td>\n",
       "      <td>Private room</td>\n",
       "      <td>2</td>\n",
       "      <td>2.0</td>\n",
       "      <td>1.0</td>\n",
       "      <td>...</td>\n",
       "      <td>90.0</td>\n",
       "      <td>100.0</td>\n",
       "      <td>100.0</td>\n",
       "      <td>100.0</td>\n",
       "      <td>90.0</td>\n",
       "      <td>VERDADERO</td>\n",
       "      <td>306.0</td>\n",
       "      <td>spain</td>\n",
       "      <td>barcelona</td>\n",
       "      <td>2020-01-10</td>\n",
       "    </tr>\n",
       "    <tr>\n",
       "      <th>4</th>\n",
       "      <td>35801</td>\n",
       "      <td>Can Torras Farmhouse Studio Suite</td>\n",
       "      <td>Lay in bed &amp; watch sunlight change the mood of...</td>\n",
       "      <td>153805</td>\n",
       "      <td>Quart</td>\n",
       "      <td>NaN</td>\n",
       "      <td>Private room</td>\n",
       "      <td>5</td>\n",
       "      <td>1.0</td>\n",
       "      <td>2.0</td>\n",
       "      <td>...</td>\n",
       "      <td>100.0</td>\n",
       "      <td>100.0</td>\n",
       "      <td>100.0</td>\n",
       "      <td>100.0</td>\n",
       "      <td>100.0</td>\n",
       "      <td>FALSO</td>\n",
       "      <td>39.0</td>\n",
       "      <td>spain</td>\n",
       "      <td>girona</td>\n",
       "      <td>2019-02-19</td>\n",
       "    </tr>\n",
       "    <tr>\n",
       "      <th>...</th>\n",
       "      <td>...</td>\n",
       "      <td>...</td>\n",
       "      <td>...</td>\n",
       "      <td>...</td>\n",
       "      <td>...</td>\n",
       "      <td>...</td>\n",
       "      <td>...</td>\n",
       "      <td>...</td>\n",
       "      <td>...</td>\n",
       "      <td>...</td>\n",
       "      <td>...</td>\n",
       "      <td>...</td>\n",
       "      <td>...</td>\n",
       "      <td>...</td>\n",
       "      <td>...</td>\n",
       "      <td>...</td>\n",
       "      <td>...</td>\n",
       "      <td>...</td>\n",
       "      <td>...</td>\n",
       "      <td>...</td>\n",
       "      <td>...</td>\n",
       "    </tr>\n",
       "    <tr>\n",
       "      <th>9645</th>\n",
       "      <td>47710189</td>\n",
       "      <td>Beautiful house in the centre in Santa Cristin...</td>\n",
       "      <td>Beautiful house in the center of Santa Cristin...</td>\n",
       "      <td>263841355</td>\n",
       "      <td>Santa Cristina d'Aro</td>\n",
       "      <td>NaN</td>\n",
       "      <td>Entire home/apt</td>\n",
       "      <td>8</td>\n",
       "      <td>2.0</td>\n",
       "      <td>4.0</td>\n",
       "      <td>...</td>\n",
       "      <td>100.0</td>\n",
       "      <td>100.0</td>\n",
       "      <td>100.0</td>\n",
       "      <td>100.0</td>\n",
       "      <td>90.0</td>\n",
       "      <td>VERDADERO</td>\n",
       "      <td>25.0</td>\n",
       "      <td>spain</td>\n",
       "      <td>girona</td>\n",
       "      <td>2021-01-31</td>\n",
       "    </tr>\n",
       "    <tr>\n",
       "      <th>9646</th>\n",
       "      <td>47752964</td>\n",
       "      <td>Costa Brava - Palafrugell - playa y monta�a</td>\n",
       "      <td>Piso con acceso directo a piscina. Lugar muy t...</td>\n",
       "      <td>282214688</td>\n",
       "      <td>Palafrugell</td>\n",
       "      <td>NaN</td>\n",
       "      <td>Entire home/apt</td>\n",
       "      <td>7</td>\n",
       "      <td>2.0</td>\n",
       "      <td>3.0</td>\n",
       "      <td>...</td>\n",
       "      <td>100.0</td>\n",
       "      <td>100.0</td>\n",
       "      <td>100.0</td>\n",
       "      <td>100.0</td>\n",
       "      <td>90.0</td>\n",
       "      <td>FALSO</td>\n",
       "      <td>25.0</td>\n",
       "      <td>spain</td>\n",
       "      <td>girona</td>\n",
       "      <td>2021-02-27</td>\n",
       "    </tr>\n",
       "    <tr>\n",
       "      <th>9647</th>\n",
       "      <td>47792016</td>\n",
       "      <td>MODERN AND BRIGHT NEW FLAT IN THE CENTER OF PA...</td>\n",
       "      <td>Modern and new apartment in the old town of Pa...</td>\n",
       "      <td>263841355</td>\n",
       "      <td>Palam�s</td>\n",
       "      <td>NaN</td>\n",
       "      <td>Entire home/apt</td>\n",
       "      <td>6</td>\n",
       "      <td>1.0</td>\n",
       "      <td>3.0</td>\n",
       "      <td>...</td>\n",
       "      <td>100.0</td>\n",
       "      <td>100.0</td>\n",
       "      <td>100.0</td>\n",
       "      <td>100.0</td>\n",
       "      <td>90.0</td>\n",
       "      <td>VERDADERO</td>\n",
       "      <td>25.0</td>\n",
       "      <td>spain</td>\n",
       "      <td>girona</td>\n",
       "      <td>2021-01-31</td>\n",
       "    </tr>\n",
       "    <tr>\n",
       "      <th>9648</th>\n",
       "      <td>47884481</td>\n",
       "      <td>MIT House Olavide III in Madrid</td>\n",
       "      <td>The apartment is in a characteristic building ...</td>\n",
       "      <td>377605855</td>\n",
       "      <td>Trafalgar</td>\n",
       "      <td>Chamber�</td>\n",
       "      <td>Entire home/apt</td>\n",
       "      <td>4</td>\n",
       "      <td>1.0</td>\n",
       "      <td>1.0</td>\n",
       "      <td>...</td>\n",
       "      <td>100.0</td>\n",
       "      <td>100.0</td>\n",
       "      <td>100.0</td>\n",
       "      <td>100.0</td>\n",
       "      <td>90.0</td>\n",
       "      <td>FALSO</td>\n",
       "      <td>105.0</td>\n",
       "      <td>spain</td>\n",
       "      <td>madrid</td>\n",
       "      <td>2021-02-09</td>\n",
       "    </tr>\n",
       "    <tr>\n",
       "      <th>9649</th>\n",
       "      <td>48061552</td>\n",
       "      <td>Gran v�a Double Room</td>\n",
       "      <td>NaN</td>\n",
       "      <td>387478257</td>\n",
       "      <td>Universidad</td>\n",
       "      <td>Centro</td>\n",
       "      <td>Private room</td>\n",
       "      <td>2</td>\n",
       "      <td>2.0</td>\n",
       "      <td>1.0</td>\n",
       "      <td>...</td>\n",
       "      <td>100.0</td>\n",
       "      <td>100.0</td>\n",
       "      <td>100.0</td>\n",
       "      <td>100.0</td>\n",
       "      <td>100.0</td>\n",
       "      <td>FALSO</td>\n",
       "      <td>65.0</td>\n",
       "      <td>spain</td>\n",
       "      <td>madrid</td>\n",
       "      <td>2021-02-09</td>\n",
       "    </tr>\n",
       "  </tbody>\n",
       "</table>\n",
       "<p>9650 rows × 35 columns</p>\n",
       "</div>"
      ],
      "text/plain": [
       "      apartment_id                                               name  \\\n",
       "0            11964                                 A ROOM WITH A VIEW   \n",
       "1            21853                               Bright and airy room   \n",
       "2            32347  Explore Cultural Sights from a Family-Friendly...   \n",
       "3            35379                  Double 02 CasanovaRooms Barcelona   \n",
       "4            35801                  Can Torras Farmhouse Studio Suite   \n",
       "...            ...                                                ...   \n",
       "9645      47710189  Beautiful house in the centre in Santa Cristin...   \n",
       "9646      47752964        Costa Brava - Palafrugell - playa y monta�a   \n",
       "9647      47792016  MODERN AND BRIGHT NEW FLAT IN THE CENTER OF PA...   \n",
       "9648      47884481                    MIT House Olavide III in Madrid   \n",
       "9649      48061552                               Gran v�a Double Room   \n",
       "\n",
       "                                            description    host_id  \\\n",
       "0     Private bedroom in our attic apartment. Right ...      45553   \n",
       "1     We have a quiet and sunny room with a good vie...      83531   \n",
       "2     Open French doors and step onto a plant-filled...     139939   \n",
       "3     Room at a my apartment. Kitchen and 2 bathroom...     152232   \n",
       "4     Lay in bed & watch sunlight change the mood of...     153805   \n",
       "...                                                 ...        ...   \n",
       "9645  Beautiful house in the center of Santa Cristin...  263841355   \n",
       "9646  Piso con acceso directo a piscina. Lugar muy t...  282214688   \n",
       "9647  Modern and new apartment in the old town of Pa...  263841355   \n",
       "9648  The apartment is in a characteristic building ...  377605855   \n",
       "9649                                                NaN  387478257   \n",
       "\n",
       "                   neighbourhood_name neighbourhood_district        room_type  \\\n",
       "0                              Centro                    NaN     Private room   \n",
       "1                            C�rmenes                 Latina     Private room   \n",
       "2                         San Vicente          Casco Antiguo  Entire home/apt   \n",
       "3     l'Antiga Esquerra de l'Eixample               Eixample     Private room   \n",
       "4                               Quart                    NaN     Private room   \n",
       "...                               ...                    ...              ...   \n",
       "9645             Santa Cristina d'Aro                    NaN  Entire home/apt   \n",
       "9646                      Palafrugell                    NaN  Entire home/apt   \n",
       "9647                          Palam�s                    NaN  Entire home/apt   \n",
       "9648                        Trafalgar               Chamber�  Entire home/apt   \n",
       "9649                      Universidad                 Centro     Private room   \n",
       "\n",
       "      accommodates  bathrooms  bedrooms  ...  review_scores_cleanliness  \\\n",
       "0                2        2.0       1.0  ...                      100.0   \n",
       "1                1        1.0       1.0  ...                       90.0   \n",
       "2                4        1.0       2.0  ...                      100.0   \n",
       "3                2        2.0       1.0  ...                       90.0   \n",
       "4                5        1.0       2.0  ...                      100.0   \n",
       "...            ...        ...       ...  ...                        ...   \n",
       "9645             8        2.0       4.0  ...                      100.0   \n",
       "9646             7        2.0       3.0  ...                      100.0   \n",
       "9647             6        1.0       3.0  ...                      100.0   \n",
       "9648             4        1.0       1.0  ...                      100.0   \n",
       "9649             2        2.0       1.0  ...                      100.0   \n",
       "\n",
       "     review_scores_checkin  review_scores_communication  \\\n",
       "0                    100.0                        100.0   \n",
       "1                    100.0                        100.0   \n",
       "2                    100.0                        100.0   \n",
       "3                    100.0                        100.0   \n",
       "4                    100.0                        100.0   \n",
       "...                    ...                          ...   \n",
       "9645                 100.0                        100.0   \n",
       "9646                 100.0                        100.0   \n",
       "9647                 100.0                        100.0   \n",
       "9648                 100.0                        100.0   \n",
       "9649                 100.0                        100.0   \n",
       "\n",
       "      review_scores_location  review_scores_value  is_instant_bookable  \\\n",
       "0                      100.0                100.0                FALSO   \n",
       "1                       80.0                 90.0                FALSO   \n",
       "2                      100.0                100.0            VERDADERO   \n",
       "3                      100.0                 90.0            VERDADERO   \n",
       "4                      100.0                100.0                FALSO   \n",
       "...                      ...                  ...                  ...   \n",
       "9645                   100.0                 90.0            VERDADERO   \n",
       "9646                   100.0                 90.0                FALSO   \n",
       "9647                   100.0                 90.0            VERDADERO   \n",
       "9648                   100.0                 90.0                FALSO   \n",
       "9649                   100.0                100.0                FALSO   \n",
       "\n",
       "      reviews_per_month  country       city  insert_date  \n",
       "0                  75.0    spain     malaga   2018-07-31  \n",
       "1                  52.0    spain     madrid   2020-01-10  \n",
       "2                 142.0    spain    sevilla   2019-07-29  \n",
       "3                 306.0    spain  barcelona   2020-01-10  \n",
       "4                  39.0    spain     girona   2019-02-19  \n",
       "...                 ...      ...        ...          ...  \n",
       "9645               25.0    spain     girona   2021-01-31  \n",
       "9646               25.0    spain     girona   2021-02-27  \n",
       "9647               25.0    spain     girona   2021-01-31  \n",
       "9648              105.0    spain     madrid   2021-02-09  \n",
       "9649               65.0    spain     madrid   2021-02-09  \n",
       "\n",
       "[9650 rows x 35 columns]"
      ]
     },
     "execution_count": 5,
     "metadata": {},
     "output_type": "execute_result"
    }
   ],
   "source": [
    "import pandas as pd\n",
    "import matplotlib.pyplot as plt\n",
    "import seaborn as sns\n",
    "\n",
    "df_tourist = pd.read_csv(\"df_tourist_python.csv\", sep= ';')\n",
    "\n",
    "df_tourist"
   ]
  },
  {
   "cell_type": "markdown",
   "id": "41524e99",
   "metadata": {},
   "source": [
    "## KPI´s"
   ]
  },
  {
   "cell_type": "markdown",
   "id": "58e2ad3c",
   "metadata": {},
   "source": [
    " ### tasa_ocupacion mensual"
   ]
  },
  {
   "cell_type": "code",
   "execution_count": 6,
   "id": "9ef74726-71f0-40d4-988a-aec16e823637",
   "metadata": {},
   "outputs": [
    {
     "name": "stdout",
     "output_type": "stream",
     "text": [
      "Tasa de ocupación promedio mensual: 56.50%\n"
     ]
    }
   ],
   "source": [
    "\n",
    "#tasa_ocupacion mensual\n",
    "df_tourist['dias_ocupados_30'] = 30 - df_tourist['availability_30']\n",
    "df_tourist['tasa_ocupacion_30'] = (df_tourist['dias_ocupados_30'] / 30) * 100\n",
    "\n",
    "#la tasa media de ocupación de todos los alojamientos\n",
    "tasa_ocupacion_promedio = df_tourist['tasa_ocupacion_30'].mean()\n",
    "\n",
    "print(f\"Tasa de ocupación promedio mensual: {tasa_ocupacion_promedio:.2f}%\")\n"
   ]
  },
  {
   "cell_type": "markdown",
   "id": "e25960c3",
   "metadata": {},
   "source": [
    "### Ciudad con mayor ocupación"
   ]
  },
  {
   "cell_type": "code",
   "execution_count": 7,
   "id": "6f91c92f",
   "metadata": {},
   "outputs": [
    {
     "name": "stdout",
     "output_type": "stream",
     "text": [
      "Ciudad con mayor ocupación: madrid (54.65%)\n"
     ]
    }
   ],
   "source": [
    "df_tourist['dias_ocupados'] = 365 - df_tourist['availability_365']\n",
    "city_occupancy = df_tourist.groupby('city').agg({\n",
    "    'dias_ocupados': 'sum',\n",
    "    'availability_365': 'sum'\n",
    "})\n",
    "city_occupancy['tasa_ocupacion'] = (city_occupancy['dias_ocupados'] / (city_occupancy['dias_ocupados'] + city_occupancy['availability_365'])) * 100\n",
    "\n",
    "# Ciudad con mayor ocupación\n",
    "max_city = city_occupancy['tasa_ocupacion'].idxmax()\n",
    "max_rate = city_occupancy['tasa_ocupacion'].max()\n",
    "print(f\"Ciudad con mayor ocupación: {max_city} ({max_rate:.2f}%)\")\n"
   ]
  },
  {
   "cell_type": "markdown",
   "id": "fcfab52a",
   "metadata": {},
   "source": [
    "### Índice de satisfacción general"
   ]
  },
  {
   "cell_type": "code",
   "execution_count": 8,
   "id": "78bae305",
   "metadata": {},
   "outputs": [
    {
     "name": "stdout",
     "output_type": "stream",
     "text": [
      "Índice de satisfacción general: 92.51\n"
     ]
    }
   ],
   "source": [
    "valid_reviews = df_tourist[df_tourist['review_scores_rating'].notna()]\n",
    "indice_satisfaccion = valid_reviews['review_scores_rating'].sum() / len(valid_reviews)\n",
    "print(f\"Índice de satisfacción general: {indice_satisfaccion:.2f}\")"
   ]
  },
  {
   "cell_type": "markdown",
   "id": "f483bdd1",
   "metadata": {},
   "source": [
    "### Ítem con mayor satisfacción promedio"
   ]
  },
  {
   "cell_type": "code",
   "execution_count": 9,
   "id": "f51c1492",
   "metadata": {},
   "outputs": [
    {
     "name": "stdout",
     "output_type": "stream",
     "text": [
      "Ítem con mayor satisfacción promedio: Check-in (97.25)\n"
     ]
    }
   ],
   "source": [
    "satisfaction_items = {\n",
    "    'Accuracy': df_tourist['review_scores_accuracy'].mean(),\n",
    "    'Cleanliness': df_tourist['review_scores_cleanliness'].mean(),\n",
    "    'Check-in': df_tourist['review_scores_checkin'].mean(),\n",
    "    'Communication': df_tourist['review_scores_communication'].mean(),\n",
    "    'Location': df_tourist['review_scores_location'].mean()\n",
    "}\n",
    "\n",
    "# Encontrar el máximo\n",
    "item_max = max(satisfaction_items, key=satisfaction_items.get)\n",
    "print(f\"Ítem con mayor satisfacción promedio: {item_max} ({satisfaction_items[item_max]:.2f})\")\n"
   ]
  },
  {
   "cell_type": "markdown",
   "id": "5673ab8e",
   "metadata": {},
   "source": [
    "### visualizacion KPI´s"
   ]
  },
  {
   "cell_type": "code",
   "execution_count": 10,
   "id": "6cf170cf",
   "metadata": {},
   "outputs": [
    {
     "data": {
      "application/vnd.plotly.v1+json": {
       "config": {
        "plotlyServerURL": "https://plot.ly"
       },
       "data": [
        {
         "hovertemplate": "Semana=%{x}<br>tasa_ocupacion_mensual=%{y}<extra></extra>",
         "legendgroup": "",
         "line": {
          "color": "#636efa",
          "dash": "solid"
         },
         "marker": {
          "symbol": "circle"
         },
         "mode": "lines+markers",
         "name": "",
         "orientation": "v",
         "showlegend": false,
         "type": "scatter",
         "x": [
          "Semana 1",
          "Semana 2",
          "Semana 3"
         ],
         "xaxis": "x",
         "y": {
          "bdata": "pHA9CteDTUAzMzMzM1NNQAAAAAAAQExA",
          "dtype": "f8"
         },
         "yaxis": "y"
        }
       ],
       "layout": {
        "legend": {
         "tracegroupgap": 0
        },
        "paper_bgcolor": "#D8F3DC",
        "plot_bgcolor": "#D8F3DC",
        "template": {
         "data": {
          "bar": [
           {
            "error_x": {
             "color": "#2a3f5f"
            },
            "error_y": {
             "color": "#2a3f5f"
            },
            "marker": {
             "line": {
              "color": "#E5ECF6",
              "width": 0.5
             },
             "pattern": {
              "fillmode": "overlay",
              "size": 10,
              "solidity": 0.2
             }
            },
            "type": "bar"
           }
          ],
          "barpolar": [
           {
            "marker": {
             "line": {
              "color": "#E5ECF6",
              "width": 0.5
             },
             "pattern": {
              "fillmode": "overlay",
              "size": 10,
              "solidity": 0.2
             }
            },
            "type": "barpolar"
           }
          ],
          "carpet": [
           {
            "aaxis": {
             "endlinecolor": "#2a3f5f",
             "gridcolor": "white",
             "linecolor": "white",
             "minorgridcolor": "white",
             "startlinecolor": "#2a3f5f"
            },
            "baxis": {
             "endlinecolor": "#2a3f5f",
             "gridcolor": "white",
             "linecolor": "white",
             "minorgridcolor": "white",
             "startlinecolor": "#2a3f5f"
            },
            "type": "carpet"
           }
          ],
          "choropleth": [
           {
            "colorbar": {
             "outlinewidth": 0,
             "ticks": ""
            },
            "type": "choropleth"
           }
          ],
          "contour": [
           {
            "colorbar": {
             "outlinewidth": 0,
             "ticks": ""
            },
            "colorscale": [
             [
              0,
              "#0d0887"
             ],
             [
              0.1111111111111111,
              "#46039f"
             ],
             [
              0.2222222222222222,
              "#7201a8"
             ],
             [
              0.3333333333333333,
              "#9c179e"
             ],
             [
              0.4444444444444444,
              "#bd3786"
             ],
             [
              0.5555555555555556,
              "#d8576b"
             ],
             [
              0.6666666666666666,
              "#ed7953"
             ],
             [
              0.7777777777777778,
              "#fb9f3a"
             ],
             [
              0.8888888888888888,
              "#fdca26"
             ],
             [
              1,
              "#f0f921"
             ]
            ],
            "type": "contour"
           }
          ],
          "contourcarpet": [
           {
            "colorbar": {
             "outlinewidth": 0,
             "ticks": ""
            },
            "type": "contourcarpet"
           }
          ],
          "heatmap": [
           {
            "colorbar": {
             "outlinewidth": 0,
             "ticks": ""
            },
            "colorscale": [
             [
              0,
              "#0d0887"
             ],
             [
              0.1111111111111111,
              "#46039f"
             ],
             [
              0.2222222222222222,
              "#7201a8"
             ],
             [
              0.3333333333333333,
              "#9c179e"
             ],
             [
              0.4444444444444444,
              "#bd3786"
             ],
             [
              0.5555555555555556,
              "#d8576b"
             ],
             [
              0.6666666666666666,
              "#ed7953"
             ],
             [
              0.7777777777777778,
              "#fb9f3a"
             ],
             [
              0.8888888888888888,
              "#fdca26"
             ],
             [
              1,
              "#f0f921"
             ]
            ],
            "type": "heatmap"
           }
          ],
          "histogram": [
           {
            "marker": {
             "pattern": {
              "fillmode": "overlay",
              "size": 10,
              "solidity": 0.2
             }
            },
            "type": "histogram"
           }
          ],
          "histogram2d": [
           {
            "colorbar": {
             "outlinewidth": 0,
             "ticks": ""
            },
            "colorscale": [
             [
              0,
              "#0d0887"
             ],
             [
              0.1111111111111111,
              "#46039f"
             ],
             [
              0.2222222222222222,
              "#7201a8"
             ],
             [
              0.3333333333333333,
              "#9c179e"
             ],
             [
              0.4444444444444444,
              "#bd3786"
             ],
             [
              0.5555555555555556,
              "#d8576b"
             ],
             [
              0.6666666666666666,
              "#ed7953"
             ],
             [
              0.7777777777777778,
              "#fb9f3a"
             ],
             [
              0.8888888888888888,
              "#fdca26"
             ],
             [
              1,
              "#f0f921"
             ]
            ],
            "type": "histogram2d"
           }
          ],
          "histogram2dcontour": [
           {
            "colorbar": {
             "outlinewidth": 0,
             "ticks": ""
            },
            "colorscale": [
             [
              0,
              "#0d0887"
             ],
             [
              0.1111111111111111,
              "#46039f"
             ],
             [
              0.2222222222222222,
              "#7201a8"
             ],
             [
              0.3333333333333333,
              "#9c179e"
             ],
             [
              0.4444444444444444,
              "#bd3786"
             ],
             [
              0.5555555555555556,
              "#d8576b"
             ],
             [
              0.6666666666666666,
              "#ed7953"
             ],
             [
              0.7777777777777778,
              "#fb9f3a"
             ],
             [
              0.8888888888888888,
              "#fdca26"
             ],
             [
              1,
              "#f0f921"
             ]
            ],
            "type": "histogram2dcontour"
           }
          ],
          "mesh3d": [
           {
            "colorbar": {
             "outlinewidth": 0,
             "ticks": ""
            },
            "type": "mesh3d"
           }
          ],
          "parcoords": [
           {
            "line": {
             "colorbar": {
              "outlinewidth": 0,
              "ticks": ""
             }
            },
            "type": "parcoords"
           }
          ],
          "pie": [
           {
            "automargin": true,
            "type": "pie"
           }
          ],
          "scatter": [
           {
            "fillpattern": {
             "fillmode": "overlay",
             "size": 10,
             "solidity": 0.2
            },
            "type": "scatter"
           }
          ],
          "scatter3d": [
           {
            "line": {
             "colorbar": {
              "outlinewidth": 0,
              "ticks": ""
             }
            },
            "marker": {
             "colorbar": {
              "outlinewidth": 0,
              "ticks": ""
             }
            },
            "type": "scatter3d"
           }
          ],
          "scattercarpet": [
           {
            "marker": {
             "colorbar": {
              "outlinewidth": 0,
              "ticks": ""
             }
            },
            "type": "scattercarpet"
           }
          ],
          "scattergeo": [
           {
            "marker": {
             "colorbar": {
              "outlinewidth": 0,
              "ticks": ""
             }
            },
            "type": "scattergeo"
           }
          ],
          "scattergl": [
           {
            "marker": {
             "colorbar": {
              "outlinewidth": 0,
              "ticks": ""
             }
            },
            "type": "scattergl"
           }
          ],
          "scattermap": [
           {
            "marker": {
             "colorbar": {
              "outlinewidth": 0,
              "ticks": ""
             }
            },
            "type": "scattermap"
           }
          ],
          "scattermapbox": [
           {
            "marker": {
             "colorbar": {
              "outlinewidth": 0,
              "ticks": ""
             }
            },
            "type": "scattermapbox"
           }
          ],
          "scatterpolar": [
           {
            "marker": {
             "colorbar": {
              "outlinewidth": 0,
              "ticks": ""
             }
            },
            "type": "scatterpolar"
           }
          ],
          "scatterpolargl": [
           {
            "marker": {
             "colorbar": {
              "outlinewidth": 0,
              "ticks": ""
             }
            },
            "type": "scatterpolargl"
           }
          ],
          "scatterternary": [
           {
            "marker": {
             "colorbar": {
              "outlinewidth": 0,
              "ticks": ""
             }
            },
            "type": "scatterternary"
           }
          ],
          "surface": [
           {
            "colorbar": {
             "outlinewidth": 0,
             "ticks": ""
            },
            "colorscale": [
             [
              0,
              "#0d0887"
             ],
             [
              0.1111111111111111,
              "#46039f"
             ],
             [
              0.2222222222222222,
              "#7201a8"
             ],
             [
              0.3333333333333333,
              "#9c179e"
             ],
             [
              0.4444444444444444,
              "#bd3786"
             ],
             [
              0.5555555555555556,
              "#d8576b"
             ],
             [
              0.6666666666666666,
              "#ed7953"
             ],
             [
              0.7777777777777778,
              "#fb9f3a"
             ],
             [
              0.8888888888888888,
              "#fdca26"
             ],
             [
              1,
              "#f0f921"
             ]
            ],
            "type": "surface"
           }
          ],
          "table": [
           {
            "cells": {
             "fill": {
              "color": "#EBF0F8"
             },
             "line": {
              "color": "white"
             }
            },
            "header": {
             "fill": {
              "color": "#C8D4E3"
             },
             "line": {
              "color": "white"
             }
            },
            "type": "table"
           }
          ]
         },
         "layout": {
          "annotationdefaults": {
           "arrowcolor": "#2a3f5f",
           "arrowhead": 0,
           "arrowwidth": 1
          },
          "autotypenumbers": "strict",
          "coloraxis": {
           "colorbar": {
            "outlinewidth": 0,
            "ticks": ""
           }
          },
          "colorscale": {
           "diverging": [
            [
             0,
             "#8e0152"
            ],
            [
             0.1,
             "#c51b7d"
            ],
            [
             0.2,
             "#de77ae"
            ],
            [
             0.3,
             "#f1b6da"
            ],
            [
             0.4,
             "#fde0ef"
            ],
            [
             0.5,
             "#f7f7f7"
            ],
            [
             0.6,
             "#e6f5d0"
            ],
            [
             0.7,
             "#b8e186"
            ],
            [
             0.8,
             "#7fbc41"
            ],
            [
             0.9,
             "#4d9221"
            ],
            [
             1,
             "#276419"
            ]
           ],
           "sequential": [
            [
             0,
             "#0d0887"
            ],
            [
             0.1111111111111111,
             "#46039f"
            ],
            [
             0.2222222222222222,
             "#7201a8"
            ],
            [
             0.3333333333333333,
             "#9c179e"
            ],
            [
             0.4444444444444444,
             "#bd3786"
            ],
            [
             0.5555555555555556,
             "#d8576b"
            ],
            [
             0.6666666666666666,
             "#ed7953"
            ],
            [
             0.7777777777777778,
             "#fb9f3a"
            ],
            [
             0.8888888888888888,
             "#fdca26"
            ],
            [
             1,
             "#f0f921"
            ]
           ],
           "sequentialminus": [
            [
             0,
             "#0d0887"
            ],
            [
             0.1111111111111111,
             "#46039f"
            ],
            [
             0.2222222222222222,
             "#7201a8"
            ],
            [
             0.3333333333333333,
             "#9c179e"
            ],
            [
             0.4444444444444444,
             "#bd3786"
            ],
            [
             0.5555555555555556,
             "#d8576b"
            ],
            [
             0.6666666666666666,
             "#ed7953"
            ],
            [
             0.7777777777777778,
             "#fb9f3a"
            ],
            [
             0.8888888888888888,
             "#fdca26"
            ],
            [
             1,
             "#f0f921"
            ]
           ]
          },
          "colorway": [
           "#636efa",
           "#EF553B",
           "#00cc96",
           "#ab63fa",
           "#FFA15A",
           "#19d3f3",
           "#FF6692",
           "#B6E880",
           "#FF97FF",
           "#FECB52"
          ],
          "font": {
           "color": "#2a3f5f"
          },
          "geo": {
           "bgcolor": "white",
           "lakecolor": "white",
           "landcolor": "#E5ECF6",
           "showlakes": true,
           "showland": true,
           "subunitcolor": "white"
          },
          "hoverlabel": {
           "align": "left"
          },
          "hovermode": "closest",
          "mapbox": {
           "style": "light"
          },
          "paper_bgcolor": "white",
          "plot_bgcolor": "#E5ECF6",
          "polar": {
           "angularaxis": {
            "gridcolor": "white",
            "linecolor": "white",
            "ticks": ""
           },
           "bgcolor": "#E5ECF6",
           "radialaxis": {
            "gridcolor": "white",
            "linecolor": "white",
            "ticks": ""
           }
          },
          "scene": {
           "xaxis": {
            "backgroundcolor": "#E5ECF6",
            "gridcolor": "white",
            "gridwidth": 2,
            "linecolor": "white",
            "showbackground": true,
            "ticks": "",
            "zerolinecolor": "white"
           },
           "yaxis": {
            "backgroundcolor": "#E5ECF6",
            "gridcolor": "white",
            "gridwidth": 2,
            "linecolor": "white",
            "showbackground": true,
            "ticks": "",
            "zerolinecolor": "white"
           },
           "zaxis": {
            "backgroundcolor": "#E5ECF6",
            "gridcolor": "white",
            "gridwidth": 2,
            "linecolor": "white",
            "showbackground": true,
            "ticks": "",
            "zerolinecolor": "white"
           }
          },
          "shapedefaults": {
           "line": {
            "color": "#2a3f5f"
           }
          },
          "ternary": {
           "aaxis": {
            "gridcolor": "white",
            "linecolor": "white",
            "ticks": ""
           },
           "baxis": {
            "gridcolor": "white",
            "linecolor": "white",
            "ticks": ""
           },
           "bgcolor": "#E5ECF6",
           "caxis": {
            "gridcolor": "white",
            "linecolor": "white",
            "ticks": ""
           }
          },
          "title": {
           "x": 0.05
          },
          "xaxis": {
           "automargin": true,
           "gridcolor": "white",
           "linecolor": "white",
           "ticks": "",
           "title": {
            "standoff": 15
           },
           "zerolinecolor": "white",
           "zerolinewidth": 2
          },
          "yaxis": {
           "automargin": true,
           "gridcolor": "white",
           "linecolor": "white",
           "ticks": "",
           "title": {
            "standoff": 15
           },
           "zerolinecolor": "white",
           "zerolinewidth": 2
          }
         }
        },
        "title": {
         "text": "Tasa de ocupación mensual"
        },
        "xaxis": {
         "anchor": "y",
         "domain": [
          0,
          1
         ],
         "title": {
          "text": "Semana"
         }
        },
        "yaxis": {
         "anchor": "x",
         "domain": [
          0,
          1
         ],
         "title": {
          "text": "Porcentaje (%)"
         }
        }
       }
      }
     },
     "metadata": {},
     "output_type": "display_data"
    },
    {
     "data": {
      "application/vnd.plotly.v1+json": {
       "config": {
        "plotlyServerURL": "https://plot.ly"
       },
       "data": [
        {
         "hovertemplate": "Semana=%{x}<br>indice_satisfaccion_general=%{y}<extra></extra>",
         "legendgroup": "",
         "line": {
          "color": "#636efa",
          "dash": "solid"
         },
         "marker": {
          "symbol": "circle"
         },
         "mode": "lines+markers",
         "name": "",
         "orientation": "v",
         "showlegend": false,
         "type": "scatter",
         "x": [
          "Semana 1",
          "Semana 2",
          "Semana 3"
         ],
         "xaxis": "x",
         "y": {
          "bdata": "KVyPwvUYV0B7FK5H4RpXQHE9CtejIFdA",
          "dtype": "f8"
         },
         "yaxis": "y"
        }
       ],
       "layout": {
        "legend": {
         "tracegroupgap": 0
        },
        "paper_bgcolor": "#D8F3DC",
        "plot_bgcolor": "#D8F3DC",
        "template": {
         "data": {
          "bar": [
           {
            "error_x": {
             "color": "#2a3f5f"
            },
            "error_y": {
             "color": "#2a3f5f"
            },
            "marker": {
             "line": {
              "color": "#E5ECF6",
              "width": 0.5
             },
             "pattern": {
              "fillmode": "overlay",
              "size": 10,
              "solidity": 0.2
             }
            },
            "type": "bar"
           }
          ],
          "barpolar": [
           {
            "marker": {
             "line": {
              "color": "#E5ECF6",
              "width": 0.5
             },
             "pattern": {
              "fillmode": "overlay",
              "size": 10,
              "solidity": 0.2
             }
            },
            "type": "barpolar"
           }
          ],
          "carpet": [
           {
            "aaxis": {
             "endlinecolor": "#2a3f5f",
             "gridcolor": "white",
             "linecolor": "white",
             "minorgridcolor": "white",
             "startlinecolor": "#2a3f5f"
            },
            "baxis": {
             "endlinecolor": "#2a3f5f",
             "gridcolor": "white",
             "linecolor": "white",
             "minorgridcolor": "white",
             "startlinecolor": "#2a3f5f"
            },
            "type": "carpet"
           }
          ],
          "choropleth": [
           {
            "colorbar": {
             "outlinewidth": 0,
             "ticks": ""
            },
            "type": "choropleth"
           }
          ],
          "contour": [
           {
            "colorbar": {
             "outlinewidth": 0,
             "ticks": ""
            },
            "colorscale": [
             [
              0,
              "#0d0887"
             ],
             [
              0.1111111111111111,
              "#46039f"
             ],
             [
              0.2222222222222222,
              "#7201a8"
             ],
             [
              0.3333333333333333,
              "#9c179e"
             ],
             [
              0.4444444444444444,
              "#bd3786"
             ],
             [
              0.5555555555555556,
              "#d8576b"
             ],
             [
              0.6666666666666666,
              "#ed7953"
             ],
             [
              0.7777777777777778,
              "#fb9f3a"
             ],
             [
              0.8888888888888888,
              "#fdca26"
             ],
             [
              1,
              "#f0f921"
             ]
            ],
            "type": "contour"
           }
          ],
          "contourcarpet": [
           {
            "colorbar": {
             "outlinewidth": 0,
             "ticks": ""
            },
            "type": "contourcarpet"
           }
          ],
          "heatmap": [
           {
            "colorbar": {
             "outlinewidth": 0,
             "ticks": ""
            },
            "colorscale": [
             [
              0,
              "#0d0887"
             ],
             [
              0.1111111111111111,
              "#46039f"
             ],
             [
              0.2222222222222222,
              "#7201a8"
             ],
             [
              0.3333333333333333,
              "#9c179e"
             ],
             [
              0.4444444444444444,
              "#bd3786"
             ],
             [
              0.5555555555555556,
              "#d8576b"
             ],
             [
              0.6666666666666666,
              "#ed7953"
             ],
             [
              0.7777777777777778,
              "#fb9f3a"
             ],
             [
              0.8888888888888888,
              "#fdca26"
             ],
             [
              1,
              "#f0f921"
             ]
            ],
            "type": "heatmap"
           }
          ],
          "histogram": [
           {
            "marker": {
             "pattern": {
              "fillmode": "overlay",
              "size": 10,
              "solidity": 0.2
             }
            },
            "type": "histogram"
           }
          ],
          "histogram2d": [
           {
            "colorbar": {
             "outlinewidth": 0,
             "ticks": ""
            },
            "colorscale": [
             [
              0,
              "#0d0887"
             ],
             [
              0.1111111111111111,
              "#46039f"
             ],
             [
              0.2222222222222222,
              "#7201a8"
             ],
             [
              0.3333333333333333,
              "#9c179e"
             ],
             [
              0.4444444444444444,
              "#bd3786"
             ],
             [
              0.5555555555555556,
              "#d8576b"
             ],
             [
              0.6666666666666666,
              "#ed7953"
             ],
             [
              0.7777777777777778,
              "#fb9f3a"
             ],
             [
              0.8888888888888888,
              "#fdca26"
             ],
             [
              1,
              "#f0f921"
             ]
            ],
            "type": "histogram2d"
           }
          ],
          "histogram2dcontour": [
           {
            "colorbar": {
             "outlinewidth": 0,
             "ticks": ""
            },
            "colorscale": [
             [
              0,
              "#0d0887"
             ],
             [
              0.1111111111111111,
              "#46039f"
             ],
             [
              0.2222222222222222,
              "#7201a8"
             ],
             [
              0.3333333333333333,
              "#9c179e"
             ],
             [
              0.4444444444444444,
              "#bd3786"
             ],
             [
              0.5555555555555556,
              "#d8576b"
             ],
             [
              0.6666666666666666,
              "#ed7953"
             ],
             [
              0.7777777777777778,
              "#fb9f3a"
             ],
             [
              0.8888888888888888,
              "#fdca26"
             ],
             [
              1,
              "#f0f921"
             ]
            ],
            "type": "histogram2dcontour"
           }
          ],
          "mesh3d": [
           {
            "colorbar": {
             "outlinewidth": 0,
             "ticks": ""
            },
            "type": "mesh3d"
           }
          ],
          "parcoords": [
           {
            "line": {
             "colorbar": {
              "outlinewidth": 0,
              "ticks": ""
             }
            },
            "type": "parcoords"
           }
          ],
          "pie": [
           {
            "automargin": true,
            "type": "pie"
           }
          ],
          "scatter": [
           {
            "fillpattern": {
             "fillmode": "overlay",
             "size": 10,
             "solidity": 0.2
            },
            "type": "scatter"
           }
          ],
          "scatter3d": [
           {
            "line": {
             "colorbar": {
              "outlinewidth": 0,
              "ticks": ""
             }
            },
            "marker": {
             "colorbar": {
              "outlinewidth": 0,
              "ticks": ""
             }
            },
            "type": "scatter3d"
           }
          ],
          "scattercarpet": [
           {
            "marker": {
             "colorbar": {
              "outlinewidth": 0,
              "ticks": ""
             }
            },
            "type": "scattercarpet"
           }
          ],
          "scattergeo": [
           {
            "marker": {
             "colorbar": {
              "outlinewidth": 0,
              "ticks": ""
             }
            },
            "type": "scattergeo"
           }
          ],
          "scattergl": [
           {
            "marker": {
             "colorbar": {
              "outlinewidth": 0,
              "ticks": ""
             }
            },
            "type": "scattergl"
           }
          ],
          "scattermap": [
           {
            "marker": {
             "colorbar": {
              "outlinewidth": 0,
              "ticks": ""
             }
            },
            "type": "scattermap"
           }
          ],
          "scattermapbox": [
           {
            "marker": {
             "colorbar": {
              "outlinewidth": 0,
              "ticks": ""
             }
            },
            "type": "scattermapbox"
           }
          ],
          "scatterpolar": [
           {
            "marker": {
             "colorbar": {
              "outlinewidth": 0,
              "ticks": ""
             }
            },
            "type": "scatterpolar"
           }
          ],
          "scatterpolargl": [
           {
            "marker": {
             "colorbar": {
              "outlinewidth": 0,
              "ticks": ""
             }
            },
            "type": "scatterpolargl"
           }
          ],
          "scatterternary": [
           {
            "marker": {
             "colorbar": {
              "outlinewidth": 0,
              "ticks": ""
             }
            },
            "type": "scatterternary"
           }
          ],
          "surface": [
           {
            "colorbar": {
             "outlinewidth": 0,
             "ticks": ""
            },
            "colorscale": [
             [
              0,
              "#0d0887"
             ],
             [
              0.1111111111111111,
              "#46039f"
             ],
             [
              0.2222222222222222,
              "#7201a8"
             ],
             [
              0.3333333333333333,
              "#9c179e"
             ],
             [
              0.4444444444444444,
              "#bd3786"
             ],
             [
              0.5555555555555556,
              "#d8576b"
             ],
             [
              0.6666666666666666,
              "#ed7953"
             ],
             [
              0.7777777777777778,
              "#fb9f3a"
             ],
             [
              0.8888888888888888,
              "#fdca26"
             ],
             [
              1,
              "#f0f921"
             ]
            ],
            "type": "surface"
           }
          ],
          "table": [
           {
            "cells": {
             "fill": {
              "color": "#EBF0F8"
             },
             "line": {
              "color": "white"
             }
            },
            "header": {
             "fill": {
              "color": "#C8D4E3"
             },
             "line": {
              "color": "white"
             }
            },
            "type": "table"
           }
          ]
         },
         "layout": {
          "annotationdefaults": {
           "arrowcolor": "#2a3f5f",
           "arrowhead": 0,
           "arrowwidth": 1
          },
          "autotypenumbers": "strict",
          "coloraxis": {
           "colorbar": {
            "outlinewidth": 0,
            "ticks": ""
           }
          },
          "colorscale": {
           "diverging": [
            [
             0,
             "#8e0152"
            ],
            [
             0.1,
             "#c51b7d"
            ],
            [
             0.2,
             "#de77ae"
            ],
            [
             0.3,
             "#f1b6da"
            ],
            [
             0.4,
             "#fde0ef"
            ],
            [
             0.5,
             "#f7f7f7"
            ],
            [
             0.6,
             "#e6f5d0"
            ],
            [
             0.7,
             "#b8e186"
            ],
            [
             0.8,
             "#7fbc41"
            ],
            [
             0.9,
             "#4d9221"
            ],
            [
             1,
             "#276419"
            ]
           ],
           "sequential": [
            [
             0,
             "#0d0887"
            ],
            [
             0.1111111111111111,
             "#46039f"
            ],
            [
             0.2222222222222222,
             "#7201a8"
            ],
            [
             0.3333333333333333,
             "#9c179e"
            ],
            [
             0.4444444444444444,
             "#bd3786"
            ],
            [
             0.5555555555555556,
             "#d8576b"
            ],
            [
             0.6666666666666666,
             "#ed7953"
            ],
            [
             0.7777777777777778,
             "#fb9f3a"
            ],
            [
             0.8888888888888888,
             "#fdca26"
            ],
            [
             1,
             "#f0f921"
            ]
           ],
           "sequentialminus": [
            [
             0,
             "#0d0887"
            ],
            [
             0.1111111111111111,
             "#46039f"
            ],
            [
             0.2222222222222222,
             "#7201a8"
            ],
            [
             0.3333333333333333,
             "#9c179e"
            ],
            [
             0.4444444444444444,
             "#bd3786"
            ],
            [
             0.5555555555555556,
             "#d8576b"
            ],
            [
             0.6666666666666666,
             "#ed7953"
            ],
            [
             0.7777777777777778,
             "#fb9f3a"
            ],
            [
             0.8888888888888888,
             "#fdca26"
            ],
            [
             1,
             "#f0f921"
            ]
           ]
          },
          "colorway": [
           "#636efa",
           "#EF553B",
           "#00cc96",
           "#ab63fa",
           "#FFA15A",
           "#19d3f3",
           "#FF6692",
           "#B6E880",
           "#FF97FF",
           "#FECB52"
          ],
          "font": {
           "color": "#2a3f5f"
          },
          "geo": {
           "bgcolor": "white",
           "lakecolor": "white",
           "landcolor": "#E5ECF6",
           "showlakes": true,
           "showland": true,
           "subunitcolor": "white"
          },
          "hoverlabel": {
           "align": "left"
          },
          "hovermode": "closest",
          "mapbox": {
           "style": "light"
          },
          "paper_bgcolor": "white",
          "plot_bgcolor": "#E5ECF6",
          "polar": {
           "angularaxis": {
            "gridcolor": "white",
            "linecolor": "white",
            "ticks": ""
           },
           "bgcolor": "#E5ECF6",
           "radialaxis": {
            "gridcolor": "white",
            "linecolor": "white",
            "ticks": ""
           }
          },
          "scene": {
           "xaxis": {
            "backgroundcolor": "#E5ECF6",
            "gridcolor": "white",
            "gridwidth": 2,
            "linecolor": "white",
            "showbackground": true,
            "ticks": "",
            "zerolinecolor": "white"
           },
           "yaxis": {
            "backgroundcolor": "#E5ECF6",
            "gridcolor": "white",
            "gridwidth": 2,
            "linecolor": "white",
            "showbackground": true,
            "ticks": "",
            "zerolinecolor": "white"
           },
           "zaxis": {
            "backgroundcolor": "#E5ECF6",
            "gridcolor": "white",
            "gridwidth": 2,
            "linecolor": "white",
            "showbackground": true,
            "ticks": "",
            "zerolinecolor": "white"
           }
          },
          "shapedefaults": {
           "line": {
            "color": "#2a3f5f"
           }
          },
          "ternary": {
           "aaxis": {
            "gridcolor": "white",
            "linecolor": "white",
            "ticks": ""
           },
           "baxis": {
            "gridcolor": "white",
            "linecolor": "white",
            "ticks": ""
           },
           "bgcolor": "#E5ECF6",
           "caxis": {
            "gridcolor": "white",
            "linecolor": "white",
            "ticks": ""
           }
          },
          "title": {
           "x": 0.05
          },
          "xaxis": {
           "automargin": true,
           "gridcolor": "white",
           "linecolor": "white",
           "ticks": "",
           "title": {
            "standoff": 15
           },
           "zerolinecolor": "white",
           "zerolinewidth": 2
          },
          "yaxis": {
           "automargin": true,
           "gridcolor": "white",
           "linecolor": "white",
           "ticks": "",
           "title": {
            "standoff": 15
           },
           "zerolinecolor": "white",
           "zerolinewidth": 2
          }
         }
        },
        "title": {
         "text": "Índice de satisfacción general"
        },
        "xaxis": {
         "anchor": "y",
         "domain": [
          0,
          1
         ],
         "title": {
          "text": "Semana"
         }
        },
        "yaxis": {
         "anchor": "x",
         "domain": [
          0,
          1
         ],
         "title": {
          "text": "Porcentaje (%)"
         }
        }
       }
      }
     },
     "metadata": {},
     "output_type": "display_data"
    },
    {
     "data": {
      "application/vnd.plotly.v1+json": {
       "config": {
        "plotlyServerURL": "https://plot.ly"
       },
       "data": [
        {
         "hovertemplate": "Semana=%{x}<br>ocupacion_pct=%{text}<extra></extra>",
         "legendgroup": "",
         "marker": {
          "color": "#636efa",
          "pattern": {
           "shape": ""
          }
         },
         "name": "",
         "orientation": "v",
         "showlegend": false,
         "text": {
          "bdata": "MzMzMzNTUEApXI/C9UhLQDMzMzMzU0tA",
          "dtype": "f8"
         },
         "textposition": "auto",
         "type": "bar",
         "x": [
          "Semana 1",
          "Semana 2",
          "Semana 3"
         ],
         "xaxis": "x",
         "y": {
          "bdata": "MzMzMzNTUEApXI/C9UhLQDMzMzMzU0tA",
          "dtype": "f8"
         },
         "yaxis": "y"
        }
       ],
       "layout": {
        "barmode": "relative",
        "legend": {
         "tracegroupgap": 0
        },
        "paper_bgcolor": "#D8F3DC",
        "plot_bgcolor": "#D8F3DC",
        "template": {
         "data": {
          "bar": [
           {
            "error_x": {
             "color": "#2a3f5f"
            },
            "error_y": {
             "color": "#2a3f5f"
            },
            "marker": {
             "line": {
              "color": "#E5ECF6",
              "width": 0.5
             },
             "pattern": {
              "fillmode": "overlay",
              "size": 10,
              "solidity": 0.2
             }
            },
            "type": "bar"
           }
          ],
          "barpolar": [
           {
            "marker": {
             "line": {
              "color": "#E5ECF6",
              "width": 0.5
             },
             "pattern": {
              "fillmode": "overlay",
              "size": 10,
              "solidity": 0.2
             }
            },
            "type": "barpolar"
           }
          ],
          "carpet": [
           {
            "aaxis": {
             "endlinecolor": "#2a3f5f",
             "gridcolor": "white",
             "linecolor": "white",
             "minorgridcolor": "white",
             "startlinecolor": "#2a3f5f"
            },
            "baxis": {
             "endlinecolor": "#2a3f5f",
             "gridcolor": "white",
             "linecolor": "white",
             "minorgridcolor": "white",
             "startlinecolor": "#2a3f5f"
            },
            "type": "carpet"
           }
          ],
          "choropleth": [
           {
            "colorbar": {
             "outlinewidth": 0,
             "ticks": ""
            },
            "type": "choropleth"
           }
          ],
          "contour": [
           {
            "colorbar": {
             "outlinewidth": 0,
             "ticks": ""
            },
            "colorscale": [
             [
              0,
              "#0d0887"
             ],
             [
              0.1111111111111111,
              "#46039f"
             ],
             [
              0.2222222222222222,
              "#7201a8"
             ],
             [
              0.3333333333333333,
              "#9c179e"
             ],
             [
              0.4444444444444444,
              "#bd3786"
             ],
             [
              0.5555555555555556,
              "#d8576b"
             ],
             [
              0.6666666666666666,
              "#ed7953"
             ],
             [
              0.7777777777777778,
              "#fb9f3a"
             ],
             [
              0.8888888888888888,
              "#fdca26"
             ],
             [
              1,
              "#f0f921"
             ]
            ],
            "type": "contour"
           }
          ],
          "contourcarpet": [
           {
            "colorbar": {
             "outlinewidth": 0,
             "ticks": ""
            },
            "type": "contourcarpet"
           }
          ],
          "heatmap": [
           {
            "colorbar": {
             "outlinewidth": 0,
             "ticks": ""
            },
            "colorscale": [
             [
              0,
              "#0d0887"
             ],
             [
              0.1111111111111111,
              "#46039f"
             ],
             [
              0.2222222222222222,
              "#7201a8"
             ],
             [
              0.3333333333333333,
              "#9c179e"
             ],
             [
              0.4444444444444444,
              "#bd3786"
             ],
             [
              0.5555555555555556,
              "#d8576b"
             ],
             [
              0.6666666666666666,
              "#ed7953"
             ],
             [
              0.7777777777777778,
              "#fb9f3a"
             ],
             [
              0.8888888888888888,
              "#fdca26"
             ],
             [
              1,
              "#f0f921"
             ]
            ],
            "type": "heatmap"
           }
          ],
          "histogram": [
           {
            "marker": {
             "pattern": {
              "fillmode": "overlay",
              "size": 10,
              "solidity": 0.2
             }
            },
            "type": "histogram"
           }
          ],
          "histogram2d": [
           {
            "colorbar": {
             "outlinewidth": 0,
             "ticks": ""
            },
            "colorscale": [
             [
              0,
              "#0d0887"
             ],
             [
              0.1111111111111111,
              "#46039f"
             ],
             [
              0.2222222222222222,
              "#7201a8"
             ],
             [
              0.3333333333333333,
              "#9c179e"
             ],
             [
              0.4444444444444444,
              "#bd3786"
             ],
             [
              0.5555555555555556,
              "#d8576b"
             ],
             [
              0.6666666666666666,
              "#ed7953"
             ],
             [
              0.7777777777777778,
              "#fb9f3a"
             ],
             [
              0.8888888888888888,
              "#fdca26"
             ],
             [
              1,
              "#f0f921"
             ]
            ],
            "type": "histogram2d"
           }
          ],
          "histogram2dcontour": [
           {
            "colorbar": {
             "outlinewidth": 0,
             "ticks": ""
            },
            "colorscale": [
             [
              0,
              "#0d0887"
             ],
             [
              0.1111111111111111,
              "#46039f"
             ],
             [
              0.2222222222222222,
              "#7201a8"
             ],
             [
              0.3333333333333333,
              "#9c179e"
             ],
             [
              0.4444444444444444,
              "#bd3786"
             ],
             [
              0.5555555555555556,
              "#d8576b"
             ],
             [
              0.6666666666666666,
              "#ed7953"
             ],
             [
              0.7777777777777778,
              "#fb9f3a"
             ],
             [
              0.8888888888888888,
              "#fdca26"
             ],
             [
              1,
              "#f0f921"
             ]
            ],
            "type": "histogram2dcontour"
           }
          ],
          "mesh3d": [
           {
            "colorbar": {
             "outlinewidth": 0,
             "ticks": ""
            },
            "type": "mesh3d"
           }
          ],
          "parcoords": [
           {
            "line": {
             "colorbar": {
              "outlinewidth": 0,
              "ticks": ""
             }
            },
            "type": "parcoords"
           }
          ],
          "pie": [
           {
            "automargin": true,
            "type": "pie"
           }
          ],
          "scatter": [
           {
            "fillpattern": {
             "fillmode": "overlay",
             "size": 10,
             "solidity": 0.2
            },
            "type": "scatter"
           }
          ],
          "scatter3d": [
           {
            "line": {
             "colorbar": {
              "outlinewidth": 0,
              "ticks": ""
             }
            },
            "marker": {
             "colorbar": {
              "outlinewidth": 0,
              "ticks": ""
             }
            },
            "type": "scatter3d"
           }
          ],
          "scattercarpet": [
           {
            "marker": {
             "colorbar": {
              "outlinewidth": 0,
              "ticks": ""
             }
            },
            "type": "scattercarpet"
           }
          ],
          "scattergeo": [
           {
            "marker": {
             "colorbar": {
              "outlinewidth": 0,
              "ticks": ""
             }
            },
            "type": "scattergeo"
           }
          ],
          "scattergl": [
           {
            "marker": {
             "colorbar": {
              "outlinewidth": 0,
              "ticks": ""
             }
            },
            "type": "scattergl"
           }
          ],
          "scattermap": [
           {
            "marker": {
             "colorbar": {
              "outlinewidth": 0,
              "ticks": ""
             }
            },
            "type": "scattermap"
           }
          ],
          "scattermapbox": [
           {
            "marker": {
             "colorbar": {
              "outlinewidth": 0,
              "ticks": ""
             }
            },
            "type": "scattermapbox"
           }
          ],
          "scatterpolar": [
           {
            "marker": {
             "colorbar": {
              "outlinewidth": 0,
              "ticks": ""
             }
            },
            "type": "scatterpolar"
           }
          ],
          "scatterpolargl": [
           {
            "marker": {
             "colorbar": {
              "outlinewidth": 0,
              "ticks": ""
             }
            },
            "type": "scatterpolargl"
           }
          ],
          "scatterternary": [
           {
            "marker": {
             "colorbar": {
              "outlinewidth": 0,
              "ticks": ""
             }
            },
            "type": "scatterternary"
           }
          ],
          "surface": [
           {
            "colorbar": {
             "outlinewidth": 0,
             "ticks": ""
            },
            "colorscale": [
             [
              0,
              "#0d0887"
             ],
             [
              0.1111111111111111,
              "#46039f"
             ],
             [
              0.2222222222222222,
              "#7201a8"
             ],
             [
              0.3333333333333333,
              "#9c179e"
             ],
             [
              0.4444444444444444,
              "#bd3786"
             ],
             [
              0.5555555555555556,
              "#d8576b"
             ],
             [
              0.6666666666666666,
              "#ed7953"
             ],
             [
              0.7777777777777778,
              "#fb9f3a"
             ],
             [
              0.8888888888888888,
              "#fdca26"
             ],
             [
              1,
              "#f0f921"
             ]
            ],
            "type": "surface"
           }
          ],
          "table": [
           {
            "cells": {
             "fill": {
              "color": "#EBF0F8"
             },
             "line": {
              "color": "white"
             }
            },
            "header": {
             "fill": {
              "color": "#C8D4E3"
             },
             "line": {
              "color": "white"
             }
            },
            "type": "table"
           }
          ]
         },
         "layout": {
          "annotationdefaults": {
           "arrowcolor": "#2a3f5f",
           "arrowhead": 0,
           "arrowwidth": 1
          },
          "autotypenumbers": "strict",
          "coloraxis": {
           "colorbar": {
            "outlinewidth": 0,
            "ticks": ""
           }
          },
          "colorscale": {
           "diverging": [
            [
             0,
             "#8e0152"
            ],
            [
             0.1,
             "#c51b7d"
            ],
            [
             0.2,
             "#de77ae"
            ],
            [
             0.3,
             "#f1b6da"
            ],
            [
             0.4,
             "#fde0ef"
            ],
            [
             0.5,
             "#f7f7f7"
            ],
            [
             0.6,
             "#e6f5d0"
            ],
            [
             0.7,
             "#b8e186"
            ],
            [
             0.8,
             "#7fbc41"
            ],
            [
             0.9,
             "#4d9221"
            ],
            [
             1,
             "#276419"
            ]
           ],
           "sequential": [
            [
             0,
             "#0d0887"
            ],
            [
             0.1111111111111111,
             "#46039f"
            ],
            [
             0.2222222222222222,
             "#7201a8"
            ],
            [
             0.3333333333333333,
             "#9c179e"
            ],
            [
             0.4444444444444444,
             "#bd3786"
            ],
            [
             0.5555555555555556,
             "#d8576b"
            ],
            [
             0.6666666666666666,
             "#ed7953"
            ],
            [
             0.7777777777777778,
             "#fb9f3a"
            ],
            [
             0.8888888888888888,
             "#fdca26"
            ],
            [
             1,
             "#f0f921"
            ]
           ],
           "sequentialminus": [
            [
             0,
             "#0d0887"
            ],
            [
             0.1111111111111111,
             "#46039f"
            ],
            [
             0.2222222222222222,
             "#7201a8"
            ],
            [
             0.3333333333333333,
             "#9c179e"
            ],
            [
             0.4444444444444444,
             "#bd3786"
            ],
            [
             0.5555555555555556,
             "#d8576b"
            ],
            [
             0.6666666666666666,
             "#ed7953"
            ],
            [
             0.7777777777777778,
             "#fb9f3a"
            ],
            [
             0.8888888888888888,
             "#fdca26"
            ],
            [
             1,
             "#f0f921"
            ]
           ]
          },
          "colorway": [
           "#636efa",
           "#EF553B",
           "#00cc96",
           "#ab63fa",
           "#FFA15A",
           "#19d3f3",
           "#FF6692",
           "#B6E880",
           "#FF97FF",
           "#FECB52"
          ],
          "font": {
           "color": "#2a3f5f"
          },
          "geo": {
           "bgcolor": "white",
           "lakecolor": "white",
           "landcolor": "#E5ECF6",
           "showlakes": true,
           "showland": true,
           "subunitcolor": "white"
          },
          "hoverlabel": {
           "align": "left"
          },
          "hovermode": "closest",
          "mapbox": {
           "style": "light"
          },
          "paper_bgcolor": "white",
          "plot_bgcolor": "#E5ECF6",
          "polar": {
           "angularaxis": {
            "gridcolor": "white",
            "linecolor": "white",
            "ticks": ""
           },
           "bgcolor": "#E5ECF6",
           "radialaxis": {
            "gridcolor": "white",
            "linecolor": "white",
            "ticks": ""
           }
          },
          "scene": {
           "xaxis": {
            "backgroundcolor": "#E5ECF6",
            "gridcolor": "white",
            "gridwidth": 2,
            "linecolor": "white",
            "showbackground": true,
            "ticks": "",
            "zerolinecolor": "white"
           },
           "yaxis": {
            "backgroundcolor": "#E5ECF6",
            "gridcolor": "white",
            "gridwidth": 2,
            "linecolor": "white",
            "showbackground": true,
            "ticks": "",
            "zerolinecolor": "white"
           },
           "zaxis": {
            "backgroundcolor": "#E5ECF6",
            "gridcolor": "white",
            "gridwidth": 2,
            "linecolor": "white",
            "showbackground": true,
            "ticks": "",
            "zerolinecolor": "white"
           }
          },
          "shapedefaults": {
           "line": {
            "color": "#2a3f5f"
           }
          },
          "ternary": {
           "aaxis": {
            "gridcolor": "white",
            "linecolor": "white",
            "ticks": ""
           },
           "baxis": {
            "gridcolor": "white",
            "linecolor": "white",
            "ticks": ""
           },
           "bgcolor": "#E5ECF6",
           "caxis": {
            "gridcolor": "white",
            "linecolor": "white",
            "ticks": ""
           }
          },
          "title": {
           "x": 0.05
          },
          "xaxis": {
           "automargin": true,
           "gridcolor": "white",
           "linecolor": "white",
           "ticks": "",
           "title": {
            "standoff": 15
           },
           "zerolinecolor": "white",
           "zerolinewidth": 2
          },
          "yaxis": {
           "automargin": true,
           "gridcolor": "white",
           "linecolor": "white",
           "ticks": "",
           "title": {
            "standoff": 15
           },
           "zerolinecolor": "white",
           "zerolinewidth": 2
          }
         }
        },
        "title": {
         "text": "Ciudad con mayor ocupación (%)"
        },
        "xaxis": {
         "anchor": "y",
         "domain": [
          0,
          1
         ],
         "title": {
          "text": "Semana"
         }
        },
        "yaxis": {
         "anchor": "x",
         "domain": [
          0,
          1
         ],
         "title": {
          "text": "Porcentaje (%)"
         }
        }
       }
      }
     },
     "metadata": {},
     "output_type": "display_data"
    },
    {
     "data": {
      "application/vnd.plotly.v1+json": {
       "config": {
        "plotlyServerURL": "https://plot.ly"
       },
       "data": [
        {
         "hovertemplate": "Semana=%{x}<br>item_pct=%{text}<extra></extra>",
         "legendgroup": "",
         "marker": {
          "color": "#636efa",
          "pattern": {
           "shape": ""
          }
         },
         "name": "",
         "orientation": "v",
         "showlegend": false,
         "text": {
          "bdata": "16NwPQpHWEDXo3A9CkdYQAAAAAAAUFhA",
          "dtype": "f8"
         },
         "textposition": "auto",
         "type": "bar",
         "x": [
          "Semana 1",
          "Semana 2",
          "Semana 3"
         ],
         "xaxis": "x",
         "y": {
          "bdata": "16NwPQpHWEDXo3A9CkdYQAAAAAAAUFhA",
          "dtype": "f8"
         },
         "yaxis": "y"
        }
       ],
       "layout": {
        "barmode": "relative",
        "legend": {
         "tracegroupgap": 0
        },
        "paper_bgcolor": "#D8F3DC",
        "plot_bgcolor": "#D8F3DC",
        "template": {
         "data": {
          "bar": [
           {
            "error_x": {
             "color": "#2a3f5f"
            },
            "error_y": {
             "color": "#2a3f5f"
            },
            "marker": {
             "line": {
              "color": "#E5ECF6",
              "width": 0.5
             },
             "pattern": {
              "fillmode": "overlay",
              "size": 10,
              "solidity": 0.2
             }
            },
            "type": "bar"
           }
          ],
          "barpolar": [
           {
            "marker": {
             "line": {
              "color": "#E5ECF6",
              "width": 0.5
             },
             "pattern": {
              "fillmode": "overlay",
              "size": 10,
              "solidity": 0.2
             }
            },
            "type": "barpolar"
           }
          ],
          "carpet": [
           {
            "aaxis": {
             "endlinecolor": "#2a3f5f",
             "gridcolor": "white",
             "linecolor": "white",
             "minorgridcolor": "white",
             "startlinecolor": "#2a3f5f"
            },
            "baxis": {
             "endlinecolor": "#2a3f5f",
             "gridcolor": "white",
             "linecolor": "white",
             "minorgridcolor": "white",
             "startlinecolor": "#2a3f5f"
            },
            "type": "carpet"
           }
          ],
          "choropleth": [
           {
            "colorbar": {
             "outlinewidth": 0,
             "ticks": ""
            },
            "type": "choropleth"
           }
          ],
          "contour": [
           {
            "colorbar": {
             "outlinewidth": 0,
             "ticks": ""
            },
            "colorscale": [
             [
              0,
              "#0d0887"
             ],
             [
              0.1111111111111111,
              "#46039f"
             ],
             [
              0.2222222222222222,
              "#7201a8"
             ],
             [
              0.3333333333333333,
              "#9c179e"
             ],
             [
              0.4444444444444444,
              "#bd3786"
             ],
             [
              0.5555555555555556,
              "#d8576b"
             ],
             [
              0.6666666666666666,
              "#ed7953"
             ],
             [
              0.7777777777777778,
              "#fb9f3a"
             ],
             [
              0.8888888888888888,
              "#fdca26"
             ],
             [
              1,
              "#f0f921"
             ]
            ],
            "type": "contour"
           }
          ],
          "contourcarpet": [
           {
            "colorbar": {
             "outlinewidth": 0,
             "ticks": ""
            },
            "type": "contourcarpet"
           }
          ],
          "heatmap": [
           {
            "colorbar": {
             "outlinewidth": 0,
             "ticks": ""
            },
            "colorscale": [
             [
              0,
              "#0d0887"
             ],
             [
              0.1111111111111111,
              "#46039f"
             ],
             [
              0.2222222222222222,
              "#7201a8"
             ],
             [
              0.3333333333333333,
              "#9c179e"
             ],
             [
              0.4444444444444444,
              "#bd3786"
             ],
             [
              0.5555555555555556,
              "#d8576b"
             ],
             [
              0.6666666666666666,
              "#ed7953"
             ],
             [
              0.7777777777777778,
              "#fb9f3a"
             ],
             [
              0.8888888888888888,
              "#fdca26"
             ],
             [
              1,
              "#f0f921"
             ]
            ],
            "type": "heatmap"
           }
          ],
          "histogram": [
           {
            "marker": {
             "pattern": {
              "fillmode": "overlay",
              "size": 10,
              "solidity": 0.2
             }
            },
            "type": "histogram"
           }
          ],
          "histogram2d": [
           {
            "colorbar": {
             "outlinewidth": 0,
             "ticks": ""
            },
            "colorscale": [
             [
              0,
              "#0d0887"
             ],
             [
              0.1111111111111111,
              "#46039f"
             ],
             [
              0.2222222222222222,
              "#7201a8"
             ],
             [
              0.3333333333333333,
              "#9c179e"
             ],
             [
              0.4444444444444444,
              "#bd3786"
             ],
             [
              0.5555555555555556,
              "#d8576b"
             ],
             [
              0.6666666666666666,
              "#ed7953"
             ],
             [
              0.7777777777777778,
              "#fb9f3a"
             ],
             [
              0.8888888888888888,
              "#fdca26"
             ],
             [
              1,
              "#f0f921"
             ]
            ],
            "type": "histogram2d"
           }
          ],
          "histogram2dcontour": [
           {
            "colorbar": {
             "outlinewidth": 0,
             "ticks": ""
            },
            "colorscale": [
             [
              0,
              "#0d0887"
             ],
             [
              0.1111111111111111,
              "#46039f"
             ],
             [
              0.2222222222222222,
              "#7201a8"
             ],
             [
              0.3333333333333333,
              "#9c179e"
             ],
             [
              0.4444444444444444,
              "#bd3786"
             ],
             [
              0.5555555555555556,
              "#d8576b"
             ],
             [
              0.6666666666666666,
              "#ed7953"
             ],
             [
              0.7777777777777778,
              "#fb9f3a"
             ],
             [
              0.8888888888888888,
              "#fdca26"
             ],
             [
              1,
              "#f0f921"
             ]
            ],
            "type": "histogram2dcontour"
           }
          ],
          "mesh3d": [
           {
            "colorbar": {
             "outlinewidth": 0,
             "ticks": ""
            },
            "type": "mesh3d"
           }
          ],
          "parcoords": [
           {
            "line": {
             "colorbar": {
              "outlinewidth": 0,
              "ticks": ""
             }
            },
            "type": "parcoords"
           }
          ],
          "pie": [
           {
            "automargin": true,
            "type": "pie"
           }
          ],
          "scatter": [
           {
            "fillpattern": {
             "fillmode": "overlay",
             "size": 10,
             "solidity": 0.2
            },
            "type": "scatter"
           }
          ],
          "scatter3d": [
           {
            "line": {
             "colorbar": {
              "outlinewidth": 0,
              "ticks": ""
             }
            },
            "marker": {
             "colorbar": {
              "outlinewidth": 0,
              "ticks": ""
             }
            },
            "type": "scatter3d"
           }
          ],
          "scattercarpet": [
           {
            "marker": {
             "colorbar": {
              "outlinewidth": 0,
              "ticks": ""
             }
            },
            "type": "scattercarpet"
           }
          ],
          "scattergeo": [
           {
            "marker": {
             "colorbar": {
              "outlinewidth": 0,
              "ticks": ""
             }
            },
            "type": "scattergeo"
           }
          ],
          "scattergl": [
           {
            "marker": {
             "colorbar": {
              "outlinewidth": 0,
              "ticks": ""
             }
            },
            "type": "scattergl"
           }
          ],
          "scattermap": [
           {
            "marker": {
             "colorbar": {
              "outlinewidth": 0,
              "ticks": ""
             }
            },
            "type": "scattermap"
           }
          ],
          "scattermapbox": [
           {
            "marker": {
             "colorbar": {
              "outlinewidth": 0,
              "ticks": ""
             }
            },
            "type": "scattermapbox"
           }
          ],
          "scatterpolar": [
           {
            "marker": {
             "colorbar": {
              "outlinewidth": 0,
              "ticks": ""
             }
            },
            "type": "scatterpolar"
           }
          ],
          "scatterpolargl": [
           {
            "marker": {
             "colorbar": {
              "outlinewidth": 0,
              "ticks": ""
             }
            },
            "type": "scatterpolargl"
           }
          ],
          "scatterternary": [
           {
            "marker": {
             "colorbar": {
              "outlinewidth": 0,
              "ticks": ""
             }
            },
            "type": "scatterternary"
           }
          ],
          "surface": [
           {
            "colorbar": {
             "outlinewidth": 0,
             "ticks": ""
            },
            "colorscale": [
             [
              0,
              "#0d0887"
             ],
             [
              0.1111111111111111,
              "#46039f"
             ],
             [
              0.2222222222222222,
              "#7201a8"
             ],
             [
              0.3333333333333333,
              "#9c179e"
             ],
             [
              0.4444444444444444,
              "#bd3786"
             ],
             [
              0.5555555555555556,
              "#d8576b"
             ],
             [
              0.6666666666666666,
              "#ed7953"
             ],
             [
              0.7777777777777778,
              "#fb9f3a"
             ],
             [
              0.8888888888888888,
              "#fdca26"
             ],
             [
              1,
              "#f0f921"
             ]
            ],
            "type": "surface"
           }
          ],
          "table": [
           {
            "cells": {
             "fill": {
              "color": "#EBF0F8"
             },
             "line": {
              "color": "white"
             }
            },
            "header": {
             "fill": {
              "color": "#C8D4E3"
             },
             "line": {
              "color": "white"
             }
            },
            "type": "table"
           }
          ]
         },
         "layout": {
          "annotationdefaults": {
           "arrowcolor": "#2a3f5f",
           "arrowhead": 0,
           "arrowwidth": 1
          },
          "autotypenumbers": "strict",
          "coloraxis": {
           "colorbar": {
            "outlinewidth": 0,
            "ticks": ""
           }
          },
          "colorscale": {
           "diverging": [
            [
             0,
             "#8e0152"
            ],
            [
             0.1,
             "#c51b7d"
            ],
            [
             0.2,
             "#de77ae"
            ],
            [
             0.3,
             "#f1b6da"
            ],
            [
             0.4,
             "#fde0ef"
            ],
            [
             0.5,
             "#f7f7f7"
            ],
            [
             0.6,
             "#e6f5d0"
            ],
            [
             0.7,
             "#b8e186"
            ],
            [
             0.8,
             "#7fbc41"
            ],
            [
             0.9,
             "#4d9221"
            ],
            [
             1,
             "#276419"
            ]
           ],
           "sequential": [
            [
             0,
             "#0d0887"
            ],
            [
             0.1111111111111111,
             "#46039f"
            ],
            [
             0.2222222222222222,
             "#7201a8"
            ],
            [
             0.3333333333333333,
             "#9c179e"
            ],
            [
             0.4444444444444444,
             "#bd3786"
            ],
            [
             0.5555555555555556,
             "#d8576b"
            ],
            [
             0.6666666666666666,
             "#ed7953"
            ],
            [
             0.7777777777777778,
             "#fb9f3a"
            ],
            [
             0.8888888888888888,
             "#fdca26"
            ],
            [
             1,
             "#f0f921"
            ]
           ],
           "sequentialminus": [
            [
             0,
             "#0d0887"
            ],
            [
             0.1111111111111111,
             "#46039f"
            ],
            [
             0.2222222222222222,
             "#7201a8"
            ],
            [
             0.3333333333333333,
             "#9c179e"
            ],
            [
             0.4444444444444444,
             "#bd3786"
            ],
            [
             0.5555555555555556,
             "#d8576b"
            ],
            [
             0.6666666666666666,
             "#ed7953"
            ],
            [
             0.7777777777777778,
             "#fb9f3a"
            ],
            [
             0.8888888888888888,
             "#fdca26"
            ],
            [
             1,
             "#f0f921"
            ]
           ]
          },
          "colorway": [
           "#636efa",
           "#EF553B",
           "#00cc96",
           "#ab63fa",
           "#FFA15A",
           "#19d3f3",
           "#FF6692",
           "#B6E880",
           "#FF97FF",
           "#FECB52"
          ],
          "font": {
           "color": "#2a3f5f"
          },
          "geo": {
           "bgcolor": "white",
           "lakecolor": "white",
           "landcolor": "#E5ECF6",
           "showlakes": true,
           "showland": true,
           "subunitcolor": "white"
          },
          "hoverlabel": {
           "align": "left"
          },
          "hovermode": "closest",
          "mapbox": {
           "style": "light"
          },
          "paper_bgcolor": "white",
          "plot_bgcolor": "#E5ECF6",
          "polar": {
           "angularaxis": {
            "gridcolor": "white",
            "linecolor": "white",
            "ticks": ""
           },
           "bgcolor": "#E5ECF6",
           "radialaxis": {
            "gridcolor": "white",
            "linecolor": "white",
            "ticks": ""
           }
          },
          "scene": {
           "xaxis": {
            "backgroundcolor": "#E5ECF6",
            "gridcolor": "white",
            "gridwidth": 2,
            "linecolor": "white",
            "showbackground": true,
            "ticks": "",
            "zerolinecolor": "white"
           },
           "yaxis": {
            "backgroundcolor": "#E5ECF6",
            "gridcolor": "white",
            "gridwidth": 2,
            "linecolor": "white",
            "showbackground": true,
            "ticks": "",
            "zerolinecolor": "white"
           },
           "zaxis": {
            "backgroundcolor": "#E5ECF6",
            "gridcolor": "white",
            "gridwidth": 2,
            "linecolor": "white",
            "showbackground": true,
            "ticks": "",
            "zerolinecolor": "white"
           }
          },
          "shapedefaults": {
           "line": {
            "color": "#2a3f5f"
           }
          },
          "ternary": {
           "aaxis": {
            "gridcolor": "white",
            "linecolor": "white",
            "ticks": ""
           },
           "baxis": {
            "gridcolor": "white",
            "linecolor": "white",
            "ticks": ""
           },
           "bgcolor": "#E5ECF6",
           "caxis": {
            "gridcolor": "white",
            "linecolor": "white",
            "ticks": ""
           }
          },
          "title": {
           "x": 0.05
          },
          "xaxis": {
           "automargin": true,
           "gridcolor": "white",
           "linecolor": "white",
           "ticks": "",
           "title": {
            "standoff": 15
           },
           "zerolinecolor": "white",
           "zerolinewidth": 2
          },
          "yaxis": {
           "automargin": true,
           "gridcolor": "white",
           "linecolor": "white",
           "ticks": "",
           "title": {
            "standoff": 15
           },
           "zerolinecolor": "white",
           "zerolinewidth": 2
          }
         }
        },
        "title": {
         "text": "Ítem con mayor satisfacción (%)"
        },
        "xaxis": {
         "anchor": "y",
         "domain": [
          0,
          1
         ],
         "title": {
          "text": "Semana"
         }
        },
        "yaxis": {
         "anchor": "x",
         "domain": [
          0,
          1
         ],
         "title": {
          "text": "Porcentaje (%)"
         }
        }
       }
      }
     },
     "metadata": {},
     "output_type": "display_data"
    }
   ],
   "source": [
    "import pandas as pd\n",
    "import plotly.express as px\n",
    "\n",
    "# Datos iniciales\n",
    "data = {\n",
    "    'Semana': ['Semana 1', 'Semana 2', 'Semana 3'],\n",
    "    'tasa_ocupacion_mensual': [59.03, 58.65, 56.50],\n",
    "    'indice_satisfaccion_general': [92.39, 92.42, 92.51],\n",
    "    'ciudad_mayor_ocupacion': ['madrid (65.3%)', 'madrid (54.57%)', 'madrid (54.65%)'],\n",
    "    'item_mayor_satisfaccion': ['Communication (97.11)', 'Communication (97.11)', 'Check-in (97.25)']\n",
    "}\n",
    "df = pd.DataFrame(data)\n",
    "\n",
    "# Extraer porcentajes de las cadenas\n",
    "df['ocupacion_pct'] = df['ciudad_mayor_ocupacion'] \\\n",
    "    .str.extract(r'(\\d+\\.?\\d*)').astype(float)\n",
    "df['item_pct'] = df['item_mayor_satisfaccion'] \\\n",
    "    .str.extract(r'(\\d+\\.?\\d*)').astype(float)\n",
    "\n",
    "# 1) Gráfico de línea para tasa de ocupación mensual\n",
    "fig1 = px.line(\n",
    "    df,\n",
    "    x='Semana',\n",
    "    y='tasa_ocupacion_mensual',\n",
    "    title='Tasa de ocupación mensual',\n",
    "    markers=True\n",
    ")\n",
    "fig1.update_layout(yaxis_title='Porcentaje (%)', paper_bgcolor=\"#D8F3DC\", plot_bgcolor=\"#D8F3DC\")\n",
    "fig1.show()\n",
    "\n",
    "# 2) Gráfico de línea para índice de satisfacción general\n",
    "fig2 = px.line(\n",
    "    df,\n",
    "    x='Semana',\n",
    "    y='indice_satisfaccion_general',\n",
    "    title='Índice de satisfacción general',\n",
    "    markers=True\n",
    ")\n",
    "fig2.update_layout(yaxis_title='Porcentaje (%)', paper_bgcolor=\"#D8F3DC\", plot_bgcolor=\"#D8F3DC\")\n",
    "fig2.show()\n",
    "\n",
    "# 3) Gráfico de barras para ciudad con mayor ocupación\n",
    "fig3 = px.bar(\n",
    "    df,\n",
    "    x='Semana',\n",
    "    y='ocupacion_pct',\n",
    "    title='Ciudad con mayor ocupación (%)',\n",
    "    text='ocupacion_pct'\n",
    ")\n",
    "fig3.update_layout(yaxis_title='Porcentaje (%)', paper_bgcolor=\"#D8F3DC\", plot_bgcolor=\"#D8F3DC\")\n",
    "fig3.show()\n",
    "\n",
    "# 4) Gráfico de barras para ítem con mayor satisfacción\n",
    "fig4 = px.bar(\n",
    "    df,\n",
    "    x='Semana',\n",
    "    y='item_pct',\n",
    "    title='Ítem con mayor satisfacción (%)',\n",
    "    text='item_pct'\n",
    ")\n",
    "fig4.update_layout(yaxis_title='Porcentaje (%)', paper_bgcolor=\"#D8F3DC\", plot_bgcolor=\"#D8F3DC\")\n",
    "fig4.show()"
   ]
  },
  {
   "cell_type": "markdown",
   "id": "afb4b655",
   "metadata": {},
   "source": [
    "## Análisis departamento Cliente:"
   ]
  },
  {
   "cell_type": "markdown",
   "id": "60e36f0d",
   "metadata": {},
   "source": [
    "### Analasis de la Experiencia del Cliente"
   ]
  },
  {
   "cell_type": "markdown",
   "id": "bdd12caf",
   "metadata": {},
   "source": [
    "Analista d'experiència del client: Hi ha una relació entre el preu de l'allotjament i la satisfacció general dels clients? Com varia aquesta relació en funció de les diferents ciutats on s'ubiquen els allotjaments"
   ]
  },
  {
   "cell_type": "code",
   "execution_count": 11,
   "id": "f68fc05f",
   "metadata": {},
   "outputs": [
    {
     "name": "stdout",
     "output_type": "stream",
     "text": [
      "Prueba de Lilliefors (Kolmogorov-Smirnov con corrección): p = 0.0009999999999998899\n",
      "La distribución no parece ser normal.\n"
     ]
    }
   ],
   "source": [
    "from statsmodels.stats.diagnostic import lilliefors\n",
    "import pandas as pd # Asegúrate de tener pandas si 'df_tourist' es un DataFrame\n",
    "\n",
    "# Asumiendo que 'df_tourist' es tu DataFrame y 'price' es la columna que quieres evaluar\n",
    "data = df_tourist['price'].dropna() # Elimina los valores NaN para el test\n",
    "\n",
    "stat, p = lilliefors(data)\n",
    "print(\"Prueba de Lilliefors (Kolmogorov-Smirnov con corrección): p =\", p)\n",
    "if p > 0.05:\n",
    "    print(\"La distribución parece ser normal.\")\n",
    "else:\n",
    "    print(\"La distribución no parece ser normal.\")"
   ]
  },
  {
   "cell_type": "code",
   "execution_count": 18,
   "id": "e99a7fea",
   "metadata": {},
   "outputs": [
    {
     "data": {
      "application/vnd.plotly.v1+json": {
       "config": {
        "plotlyServerURL": "https://plot.ly"
       },
       "data": [
        {
         "bingroup": "x",
         "hovertemplate": "price=%{x}<br>count=%{y}<extra></extra>",
         "legendgroup": "",
         "marker": {
          "color": "#636efa",
          "pattern": {
           "shape": ""
          }
         },
         "name": "",
         "orientation": "v",
         "showlegend": false,
         "type": "histogram",
         "x": {
          "bdata": "AAAAAAAAeUAAAAAAAEBlQAAAAAAA8I5AAAAAAAAAeUAAAAAAACCMQAAAAAAAIIxAAAAAAACwjUAAAAAAAHiuQAAAAAAAsIhAAAAAAABwp0AAAAAAAGiQQAAAAAAAMJFAAAAAAADgpUAAAAAAAFCEQAAAAAAAGJBAAAAAAAAgckAAAAAAALCNQAAAAAAAQIpAAAAAAAAwoUAAAAAAAOB/QAAAAAAAwHJAAAAAAACQhUAAAAAAAKB+QAAAAAAAsI1AAAAAAADAkkAAAAAAAKB0QAAAAAAAIIxAAAAAAACAcUAAAAAAACCMQAAAAAAAwHJAAAAAAADAYkAAAAAAAABpQAAAAAAAAJRAAAAAAAAggkAAAAAAAEBvQAAAAAAAoHRAAAAAAABgc0AAAAAAAKB0QAAAAAAAWJtAAAAAAABAb0AAAAAAAGiQQAAAAAAAQI9AAAAAAAAgjEAAAAAAADCBQAAAAAAAwIJAAAAAAADAckAAAAAAAEBvQAAAAAAA4IVAAAAAAAC4lUAAAAAAAJCKQAAAAAAAIHdAAAAAAADghUAAAAAAAACJQAAAAAAAwIJAAAAAAACokUAAAAAAAOCAQAAAAAAAAIlAAAAAAADAfEAAAAAAAABpQAAAAAAAAHlAAAAAAAAgfEAAAAAAADCBQAAAAAAAwIxAAAAAAADghUAAAAAAAPiRQAAAAAAA4HBAAAAAAAAolEAAAAAAAMCCQAAAAAAAQIBAAAAAAAAYr0AAAAAAADCBQAAAAAAAgHZAAAAAAABAb0AAAAAAAMCCQAAAAAAAIHxAAAAAAADwjkAAAAAAAKB+QAAAAAAAcIJAAAAAAADAkkAAAAAAAOB1QAAAAAAAAIlAAAAAAABYm0AAAAAAAECPQAAAAAAAQKBAAAAAAABAn0AAAAAAADCBQAAAAAAAaKBAAAAAAADgdUAAAAAAAIizQAAAAAAA4JVAAAAAAADglUAAAAAAAEiiQAAAAAAAgHFAAAAAAADwnkAAAAAAAIB2QAAAAAAAAG5AAAAAAADAgkAAAAAAAGB4QAAAAAAAGJ9AAAAAAAAgnEAAAAAAAFCJQAAAAAAAEJNAAAAAAAAgjEAAAAAAADCBQAAAAAAAwHxAAAAAAADgdUAAAAAAAMipQAAAAAAAWJtAAAAAAAAgfEAAAAAAALCIQAAAAAAA4HVAAAAAAACgeUAAAAAAAMByQAAAAAAAAIlAAAAAAAAAbkAAAAAAAKB0QAAAAAAAwJJAAAAAAADAkkAAAAAAAKB+QAAAAAAA4JVAAAAAAADAbEAAAAAAAMCCQAAAAAAAwJJAAAAAAACwg0AAAAAAAMCCQAAAAAAAIHdAAAAAAAAggkAAAAAAAECPQAAAAAAAgGZAAAAAAADAckAAAAAAAMB3QAAAAAAAQH9AAAAAAABQhEAAAAAAAACJQAAAAAAAYINAAAAAAABQlEAAAAAAAAB5QAAAAAAAkIpAAAAAAABAb0AAAAAAAEBqQAAAAAAAMIFAAAAAAAAAiUAAAAAAAKCJQAAAAAAAAG5AAAAAAABgk0AAAAAAAABkQAAAAAAAcIdAAAAAAAAYlUAAAAAAAHCHQAAAAAAAoHlAAAAAAAD4kUAAAAAAAOB1QAAAAAAACJZAAAAAAACwjUAAAAAAAFCEQAAAAAAA0IFAAAAAAABAj0AAAAAAAECPQAAAAAAAMKFAAAAAAABQhEAAAAAAAHCHQAAAAAAA6JxAAAAAAABcskAAAAAAAEB/QAAAAAAAUJRAAAAAAAAAfkAAAAAAADCBQAAAAAAAQI9AAAAAAAAwgUAAAAAAALCdQAAAAAAAcIdAAAAAAACQhUAAAAAAABiVQAAAAAAAkIpAAAAAAABwh0AAAAAAAECPQAAAAAAAuJBAAAAAAABgiEAAAAAAAKB+QAAAAAAAcJJAAAAAAAAgjEAAAAAAAABuQAAAAAAAkIpAAAAAAABAf0AAAAAAAFiWQAAAAAAAcIdAAAAAAADAZ0AAAAAAANCWQAAAAAAAUIRAAAAAAACgjkAAAAAAAICBQAAAAAAAkIpAAAAAAADAgkAAAAAAADCRQAAAAAAAwJJAAAAAAABAj0AAAAAAAAB0QAAAAAAAwJJAAAAAAABwl0AAAAAAAJiSQAAAAAAAoIRAAAAAAABwh0AAAAAAAEBvQAAAAAAAIIxAAAAAAAAwkUAAAAAAAHCHQAAAAAAAOJhAAAAAAADQgUAAAAAAALCNQAAAAAAAIHJAAAAAAACIk0AAAAAAAGBzQAAAAAAAmJJAAAAAAADAgkAAAAAAANCLQAAAAAAAQI9AAAAAAAAgjEAAAAAAAKCEQAAAAAAAMIFAAAAAAACokUAAAAAAAECQQAAAAAAA6JxAAAAAAABAj0AAAAAAAHCHQAAAAAAAwIJAAAAAAADAZ0AAAAAAAJCKQAAAAAAAkIVAAAAAAADAgkAAAAAAAICGQAAAAAAAsI1AAAAAAACghEAAAAAAAACJQAAAAAAAwJJAAAAAAADgdUAAAAAAAKCEQAAAAAAAUJRAAAAAAAAgnEAAAAAAAACJQAAAAAAAwJJAAAAAAAAAmUAAAAAAAOicQAAAAAAAcIdAAAAAAABAhUAAAAAAAOCFQAAAAAAAIIxAAAAAAABwh0AAAAAAAOCFQAAAAAAAMIFAAAAAAADgdUAAAAAAAJiXQAAAAAAAIIxAAAAAAACIo0AAAAAAAFCkQAAAAAAA6KJAAAAAAAAAiUAAAAAAAHCCQAAAAAAAUKRAAAAAAABQhEAAAAAAAOCAQAAAAAAA+KFAAAAAAACYkkAAAAAAAOCFQAAAAAAAWJtAAAAAAAAAqUAAAAAAAACJQAAAAAAAQGpAAAAAAADAgkAAAAAAAGB4QAAAAAAAMJFAAAAAAAAgnEAAAAAAAMCCQAAAAAAAgHZAAAAAAABAj0AAAAAAACCMQAAAAAAAoIRAAAAAAAAAdEAAAAAAAJCFQAAAAAAAQJ9AAAAAAABAf0AAAAAAALCIQAAAAAAA0KFAAAAAAAA4mEAAAAAAABCTQAAAAAAAwIJAAAAAAADAgkAAAAAAAABpQAAAAAAAUIRAAAAAAABAf0AAAAAAAJCKQAAAAAAAIHxAAAAAAADAskAAAAAAAOB1QAAAAAAAiJNAAAAAAADAckAAAAAAAIB7QAAAAAAAIIxAAAAAAACgfkAAAAAAAECvQAAAAAAAcIdAAAAAAAAQiEAAAAAAALCNQAAAAAAAUJRAAAAAAAAAiUAAAAAAAHCXQAAAAAAAQH9AAAAAAADAckAAAAAAALCNQAAAAAAAUI5AAAAAAADAkkAAAAAAAECPQAAAAAAAcIJAAAAAAADAgkAAAAAAACCsQAAAAAAAQH9AAAAAAACgiUAAAAAAAJCKQAAAAAAA4HpAAAAAAACgiUAAAAAAAEBlQAAAAAAAAHlAAAAAAACIo0AAAAAAAJCPQAAAAAAAQH9AAAAAAABgfUAAAAAAAKiRQAAAAAAAsIhAAAAAAABgeEAAAAAAAECvQAAAAAAAgHZAAAAAAABQhEAAAAAAALCNQAAAAAAAJKNAAAAAAAAgnEAAAAAAABCTQAAAAAAAqJZAAAAAAABwh0AAAAAAAMCCQAAAAAAAkIpAAAAAAABAj0AAAAAAAOCFQAAAAAAAAJlAAAAAAAC8oUAAAAAAAACJQAAAAAAAQHBAAAAAAAAAfkAAAAAAAJCKQAAAAAAACJFAAAAAAABEq0AAAAAAAECfQAAAAAAAaJpAAAAAAAAwkUAAAAAAAABpQAAAAAAAAHlAAAAAAADAgkAAAAAAAHCHQAAAAAAAAIlAAAAAAABYq0AAAAAAAHCCQAAAAAAAMIFAAAAAAAAgjEAAAAAAANCRQAAAAAAAYI1AAAAAAAAgjEAAAAAAACCMQAAAAAAAcKdAAAAAAAAgfEAAAAAAAFCEQAAAAAAAQG9AAAAAAAAgjEAAAAAAAFCEQAAAAAAA0JZAAAAAAADAgkAAAAAAAOB1QAAAAAAAIIxAAAAAAABAf0AAAAAAACB8QAAAAAAAwHJAAAAAAACIo0AAAAAAADCRQAAAAAAAgItAAAAAAABgiEAAAAAAAJCKQAAAAAAA0ItAAAAAAABAf0AAAAAAAOCVQAAAAAAAAHlAAAAAAABAj0AAAAAAAOCFQAAAAAAAQH9AAAAAAADAckAAAAAAAFCEQAAAAAAAiKNAAAAAAACwg0AAAAAAAMByQAAAAAAAAI5AAAAAAABwl0AAAAAAAOBwQAAAAAAAiLNAAAAAAADAckAAAAAAACCcQAAAAAAAIHxAAAAAAAAYlUAAAAAAAJShQAAAAAAAAHRAAAAAAADAckAAAAAAADCRQAAAAAAAsJ1AAAAAAADAgkAAAAAAAJCFQAAAAAAA0IFAAAAAAAAAqUAAAAAAAECfQAAAAAAAAH5AAAAAAABAf0AAAAAAAEB/QAAAAAAAwIdAAAAAAAAAbkAAAAAAAMCSQAAAAAAAwIJAAAAAAABAb0AAAAAAAFibQAAAAAAA0JZAAAAAAAAolEAAAAAAAIijQAAAAAAA4HVAAAAAAADglUAAAAAAAPSvQAAAAAAAkIVAAAAAAABQlEAAAAAAADCRQAAAAAAAoHlAAAAAAACwnUAAAAAAAMCSQAAAAAAAwHdAAAAAAAAAeUAAAAAAAOCFQAAAAAAAqJFAAAAAAABooEAAAAAAAACZQAAAAAAAoI5AAAAAAABwh0AAAAAAAEBvQAAAAAAAQH9AAAAAAACYkkAAAAAAACB8QAAAAAAAMIZAAAAAAABgfUAAAAAAAMByQAAAAAAAsI1AAAAAAAAgh0AAAAAAAACEQAAAAAAAgHZAAAAAAADQlkAAAAAAAICLQAAAAAAAsIhAAAAAAADwjkAAAAAAABiVQAAAAAAAIIxAAAAAAAAAmUAAAAAAAJCKQAAAAAAAAH5AAAAAAADghUAAAAAAANCLQAAAAAAA0JZAAAAAAAC4lUAAAAAAAFCEQAAAAAAAIIxAAAAAAAAAdEAAAAAAAMCCQAAAAAAAgJFAAAAAAABgeEAAAAAAAJCKQAAAAAAAwHJAAAAAAADAjEAAAAAAADCRQAAAAAAAwIJAAAAAAAAgd0AAAAAAAKCEQAAAAAAA8I5AAAAAAAAAiUAAAAAAADCBQAAAAAAA4KVAAAAAAACQj0AAAAAAADChQAAAAAAAAIlAAAAAAAAAhEAAAAAAAFCkQAAAAAAAcJdAAAAAAAColkAAAAAAAJCKQAAAAAAAaJpAAAAAAADAgkAAAAAAAIB2QAAAAAAAoIlAAAAAAACIk0AAAAAAAICBQAAAAAAAoHlAAAAAAADgcEAAAAAAAGCIQAAAAAAAQI9AAAAAAACkpUAAAAAAABiVQAAAAAAAFKlAAAAAAAColkAAAAAAAOB6QAAAAAAAQI9AAAAAAABwl0AAAAAAAGB4QAAAAAAABKBAAAAAAADAkkAAAAAAAMCcQAAAAAAAgGZAAAAAAADQi0AAAAAAAACZQAAAAAAA8IlAAAAAAABAn0AAAAAAAHCXQAAAAAAAUIRAAAAAAABwl0AAAAAAADCRQAAAAAAAsINAAAAAAAAAeUAAAAAAAIiTQAAAAAAAUIRAAAAAAADgikAAAAAAAPCOQAAAAAAA8I5AAAAAAACQikAAAAAAAMCCQAAAAAAAQI9AAAAAAADAkkAAAAAAABCIQAAAAAAAQH9AAAAAAACAm0AAAAAAAJCAQAAAAAAAQIVAAAAAAABAdUAAAAAAAHCXQAAAAAAAYINAAAAAAAAwgUAAAAAAABifQAAAAAAAUJRAAAAAAADglUAAAAAAAIiTQAAAAAAAAJlAAAAAAACUsUAAAAAAAGiQQAAAAAAAiKNAAAAAAAAAqUAAAAAAAIiTQAAAAAAAmJJAAAAAAAAQiEAAAAAAAGiQQAAAAAAA+JFAAAAAAADAgkAAAAAAAOicQAAAAAAAWJtAAAAAAAAggkAAAAAAACCMQAAAAAAACJFAAAAAAADImUAAAAAAAEBvQAAAAAAAwIJAAAAAAABQlEAAAAAAAHCHQAAAAAAAWKtAAAAAAADkoUAAAAAAALCdQAAAAAAAQLBAAAAAAADAckAAAAAAALCYQAAAAAAAsIhAAAAAAAAYlUAAAAAAAMCHQAAAAAAAoHRAAAAAAADwjkAAAAAAAACOQAAAAAAAAG5AAAAAAADYk0AAAAAAAIijQAAAAAAAuJBAAAAAAABwh0AAAAAAAOB/QAAAAAAAAHlAAAAAAACAa0AAAAAAAFCEQAAAAAAAmJJAAAAAAACIs0AAAAAAAACJQAAAAAAAOJhAAAAAAABgg0AAAAAAAECPQAAAAAAAwIJAAAAAAADAgkAAAAAAAPiRQAAAAAAAcIdAAAAAAACwjUAAAAAAAEB1QAAAAAAAyJlAAAAAAAAolEAAAAAAAGCIQAAAAAAAAIRAAAAAAADgdUAAAAAAAOBwQAAAAAAAQIpAAAAAAACokUAAAAAAAIiTQAAAAAAAiJNAAAAAAADglUAAAAAAAOCVQAAAAAAAgIZAAAAAAAAIkUAAAAAAALCIQAAAAAAA4IVAAAAAAABwh0AAAAAAAMCSQAAAAAAAIIxAAAAAAABQmUAAAAAAAECfQAAAAAAAIIxAAAAAAACQikAAAAAAAOCVQAAAAAAAiKNAAAAAAADglUAAAAAAALifQAAAAAAAoH5AAAAAAAAAhEAAAAAAABiaQAAAAAAAuJBAAAAAAADAbEAAAAAAAMBiQAAAAAAAAHlAAAAAAABQhEAAAAAAAOCKQAAAAAAAqJZAAAAAAABgeEAAAAAAAGCNQAAAAAAAcJdAAAAAAAAQiEAAAAAAAMKwQAAAAAAAMJFAAAAAAABAf0AAAAAAAOB/QAAAAAAAcKdAAAAAAAAks0AAAAAAAFCJQAAAAAAA0ItAAAAAAABwl0AAAAAAAFCUQAAAAAAAAHlAAAAAAABgg0AAAAAAAOCVQAAAAAAAqKZAAAAAAABcp0AAAAAAANCLQAAAAAAAlKZAAAAAAADghUAAAAAAAJCFQAAAAAAAAIlAAAAAAABwkkAAAAAAAOCFQAAAAAAAcJdAAAAAAABMrUAAAAAAAOCVQAAAAAAAiJNAAAAAAABQjkAAAAAAAIBmQAAAAAAAQH9AAAAAAAAgnEAAAAAAAFCEQAAAAAAA4IVAAAAAAACwjUAAAAAAADCBQAAAAAAAaJ9AAAAAAADgekAAAAAAAKB+QAAAAAAAgHtAAAAAAABQhEAAAAAAAJCKQAAAAAAAQGpAAAAAAADghUAAAAAAADCBQAAAAAAA0JZAAAAAAAD4m0AAAAAAAGiQQAAAAAAAsI1AAAAAAAAAiUAAAAAAAOCFQAAAAAAAJKNAAAAAAABQpEAAAAAAAJqwQAAAAAAAgHZAAAAAAABwh0AAAAAAAFCUQAAAAAAAYJNAAAAAAADAgkAAAAAAAFCEQAAAAAAAaJBAAAAAAADArEAAAAAAAOB/QAAAAAAAyJlAAAAAAADonEAAAAAAANiYQAAAAAAAgIZAAAAAAABAcEAAAAAAADCRQAAAAAAAcJdAAAAAAAAAaUAAAAAAAECAQAAAAAAAiJNAAAAAAAAAeUAAAAAAAMCCQAAAAAAAwIJAAAAAAADAl0AAAAAAAOCFQAAAAAAAcIdAAAAAAACYkkAAAAAAAECPQAAAAAAAsJ1AAAAAAADghUAAAAAAAPibQAAAAAAAuJpAAAAAAABwl0AAAAAAACCHQAAAAAAAIIdAAAAAAADghUAAAAAAAMCSQAAAAAAA4HVAAAAAAABwl0AAAAAAAMCSQAAAAAAAgGFAAAAAAAAAiUAAAAAAAMCCQAAAAAAA0IZAAAAAAAAwi0AAAAAAAMByQAAAAAAAEJ1AAAAAAADwlEAAAAAAALCNQAAAAAAAQIVAAAAAAABwp0AAAAAAAOB1QAAAAAAAwGJAAAAAAABAj0AAAAAAAIB7QAAAAAAAgGZAAAAAAACQikAAAAAAALCNQAAAAAAAYHhAAAAAAABAj0AAAAAAAEBvQAAAAAAAkIVAAAAAAABwl0AAAAAAAESmQAAAAAAAiJNAAAAAAAD4kUAAAAAAAEBvQAAAAAAAwHJAAAAAAACAcUAAAAAAAOCFQAAAAAAAMItAAAAAAADgdUAAAAAAAMCCQAAAAAAA+JtAAAAAAABAj0AAAAAAAACJQAAAAAAAwHJAAAAAAABgeEAAAAAAAMiZQAAAAAAAAGlAAAAAAADAh0AAAAAAAMiZQAAAAAAAwIJAAAAAAABcp0AAAAAAADCmQAAAAAAA3K5AAAAAAAAAiUAAAAAAAMBsQAAAAAAAcIJAAAAAAADghUAAAAAAADCBQAAAAAAAIIxAAAAAAACQhUAAAAAAAEBvQAAAAAAAQG9AAAAAAAAgh0AAAAAAAACJQAAAAAAAcIJAAAAAAAAwkUAAAAAAAHCnQAAAAAAA8J5AAAAAAABwh0AAAAAAAACJQAAAAAAAQH9AAAAAAADAZ0AAAAAAALCIQAAAAAAAMIFAAAAAAAAAeUAAAAAAACCMQAAAAAAAIHdAAAAAAABAcEAAAAAAAJCFQAAAAAAAAIlAAAAAAABgeEAAAAAAAEB/QAAAAAAAMJFAAAAAAACwnUAAAAAAAGiVQAAAAAAAaJBAAAAAAABAf0AAAAAAAOCAQAAAAAAAQI9AAAAAAACwjUAAAAAAADCBQAAAAAAACJFAAAAAAABAb0AAAAAAAFCEQAAAAAAAAJlAAAAAAAAgfEAAAAAAAEB1QAAAAAAAwIxAAAAAAAAAaUAAAAAAAAB5QAAAAAAAGJ9AAAAAAACYkkAAAAAAAAB5QAAAAAAAXLJAAAAAAADAckAAAAAAAHCHQAAAAAAAUIRAAAAAAADgdUAAAAAAACB8QAAAAAAA+JFAAAAAAABAj0AAAAAAAJCKQAAAAAAAMJFAAAAAAADAckAAAAAAABCDQAAAAAAAfKVAAAAAAADYk0AAAAAAAMBiQAAAAAAAMJFAAAAAAABokEAAAAAAAEB/QAAAAAAA4IVAAAAAAABAj0AAAAAAAGB4QAAAAAAAUJRAAAAAAAAgckAAAAAAAAB5QAAAAAAABKBAAAAAAAAIkUAAAAAAAEBwQAAAAAAAAGlAAAAAAAAgfEAAAAAAAIijQAAAAAAAcJdAAAAAAAAgckAAAAAAAACZQAAAAAAAMJFAAAAAAACwjUAAAAAAADCRQAAAAAAAQHBAAAAAAABwh0AAAAAAAOCQQAAAAAAAAGlAAAAAAABQhEAAAAAAAAB5QAAAAAAA0ItAAAAAAADAckAAAAAAAHCXQAAAAAAAIJxAAAAAAACIk0AAAAAAAACJQAAAAAAAMIFAAAAAAAAAeUAAAAAAACByQAAAAAAAwJJAAAAAAACgfkAAAAAAAACJQAAAAAAAQG9AAAAAAABAn0AAAAAAAKB+QAAAAAAAEJ1AAAAAAABAf0AAAAAAAKiWQAAAAAAAkIVAAAAAAAA4mEAAAAAAAMB3QAAAAAAAgItAAAAAAADgdUAAAAAAANCRQAAAAAAAoIlAAAAAAAAwgUAAAAAAANCWQAAAAAAAUJRAAAAAAABAj0AAAAAAAMBiQAAAAAAAAIlAAAAAAABQhEAAAAAAALCNQAAAAAAAIIxAAAAAAADAgkAAAAAAACB8QAAAAAAAQH9AAAAAAAAgjEAAAAAAACCcQAAAAAAAoH5AAAAAAABQlEAAAAAAAKB+QAAAAAAAwHJAAAAAAABwh0AAAAAAAMCCQAAAAAAAwJJAAAAAAABgiEAAAAAAAECPQAAAAAAAGJVAAAAAAAAQiEAAAAAAAABpQAAAAAAAwHJAAAAAAACYl0AAAAAAACCMQAAAAAAAkJpAAAAAAABAb0AAAAAAAHCMQAAAAAAAoHRAAAAAAAAgckAAAAAAAOB1QAAAAAAA0JZAAAAAAACQikAAAAAAAEB/QAAAAAAAIHxAAAAAAABAj0AAAAAAALCNQAAAAAAAUIRAAAAAAADwjkAAAAAAAOB6QAAAAAAAsINAAAAAAADonEAAAAAAAFibQAAAAAAAgHFAAAAAAAAgjEAAAAAAAIiTQAAAAAAAUI5AAAAAAABQlEAAAAAAAMCiQAAAAAAAsIhAAAAAAABQiUAAAAAAAEBvQAAAAAAAIIxAAAAAAABwl0AAAAAAAABpQAAAAAAAcJdAAAAAAACAcUAAAAAAAJCKQAAAAAAAIIxAAAAAAABAj0AAAAAAACByQAAAAAAA4HVAAAAAAABAhUAAAAAAACCcQAAAAAAAyJlAAAAAAADAjEAAAAAAADCBQAAAAAAAQHpAAAAAAAC0pEAAAAAAAJCPQAAAAAAAQI9AAAAAAAAAmUAAAAAAAMByQAAAAAAAiLNAAAAAAACgfkAAAAAAAGB4QAAAAAAAwIJAAAAAAABwh0AAAAAAAOCFQAAAAAAAUIRAAAAAAADghUAAAAAAACB8QAAAAAAAEINAAAAAAABAmkAAAAAAAMByQAAAAAAAQH9AAAAAAADghUAAAAAAAOB1QAAAAAAAQJpAAAAAAABAb0AAAAAAAIiTQAAAAAAAEINAAAAAAAAAaUAAAAAAAACJQAAAAAAAQJ9AAAAAAADAckAAAAAAAMByQAAAAAAA0JZAAAAAAABAj0AAAAAAAGB9QAAAAAAAyJlAAAAAAAAgjEAAAAAAAIiTQAAAAAAAMItAAAAAAAAAbkAAAAAAAFiRQAAAAAAAcJdAAAAAAADAkkAAAAAAADCBQAAAAAAAQG9AAAAAAACwnUAAAAAAACB8QAAAAAAAIIxAAAAAAAB4lEAAAAAAACB8QAAAAAAAcKdAAAAAAABAj0AAAAAAAOCFQAAAAAAA6JJAAAAAAAB0o0AAAAAAAACEQAAAAAAAMJFAAAAAAACAYUAAAAAAAEiSQAAAAAAAwJJAAAAAAADQgUAAAAAAAFirQAAAAAAA8I5AAAAAAABAj0AAAAAAAECPQAAAAAAAUIRAAAAAAADAgkAAAAAAAHygQAAAAAAAkJBAAAAAAAD8okAAAAAAAMieQAAAAAAA0IFAAAAAAAAgnEAAAAAAAEB1QAAAAAAAwGxAAAAAAACIo0AAAAAAAAB5QAAAAAAAkIVAAAAAAACQhUAAAAAAAACOQAAAAAAA4HVAAAAAAADAckAAAAAAAOB1QAAAAAAAQG9AAAAAAAAAdEAAAAAAANidQAAAAAAAAHlAAAAAAADAckAAAAAAAHCnQAAAAAAAMJtAAAAAAABwp0AAAAAAAICWQAAAAAAAcIdAAAAAAAAwgUAAAAAAAAB5QAAAAAAAsI1AAAAAAAD4kUAAAAAAAMCCQAAAAAAAiJNAAAAAAAAAiUAAAAAAAIiTQAAAAAAAJKNAAAAAAABwl0AAAAAAANCLQAAAAAAAAF5AAAAAAACAoUAAAAAAAECfQAAAAAAAsI1AAAAAAABAj0AAAAAAAMByQAAAAAAAcIdAAAAAAACwjUAAAAAAAMByQAAAAAAA4IVAAAAAAACQmkAAAAAAABCDQAAAAAAAIJxAAAAAAABAb0AAAAAAALCNQAAAAAAAkIBAAAAAAABgjUAAAAAAAACJQAAAAAAAAHlAAAAAAABgeEAAAAAAAIBxQAAAAAAAcIJAAAAAAADggEAAAAAAANCWQAAAAAAAgHtAAAAAAACgfkAAAAAAAKB5QAAAAAAALKpAAAAAAABAikAAAAAAAEB/QAAAAAAAuLBAAAAAAAAAqUAAAAAAACCMQAAAAAAAlKFAAAAAAADwjkAAAAAAAFCUQAAAAAAACJFAAAAAAABgeEAAAAAAAIB7QAAAAAAAkIBAAAAAAADghUAAAAAAAMCyQAAAAAAAQI9AAAAAAADgdUAAAAAAAAB5QAAAAAAAKJRAAAAAAAAAaUAAAAAAAMCCQAAAAAAA4HpAAAAAAADgdUAAAAAAAHCHQAAAAAAAsI1AAAAAAABAb0AAAAAAAJCQQAAAAAAAgHtAAAAAAADonEAAAAAAAHCXQAAAAAAA+KFAAAAAAACQgEAAAAAAAEBvQAAAAAAA4IVAAAAAAADEo0AAAAAAAMBiQAAAAAAAoIRAAAAAAAAwgUAAAAAAAOicQAAAAAAAkIpAAAAAAADgdUAAAAAAAOB1QAAAAAAAsI1AAAAAAAAwkUAAAAAAAHieQAAAAAAATK1AAAAAAAAAaUAAAAAAACCMQAAAAAAAAIlAAAAAAAAgckAAAAAAACB8QAAAAAAAwJJAAAAAAAAAiUAAAAAAAGCDQAAAAAAAMJFAAAAAAACAhkAAAAAAAIiTQAAAAAAAQG9AAAAAAACgeUAAAAAAALCIQAAAAAAAUIlAAAAAAABAf0AAAAAAAJShQAAAAAAAAIlAAAAAAADAgkAAAAAAACCCQAAAAAAAqJZAAAAAAABAf0AAAAAAAGiQQAAAAAAAwIJAAAAAAABwgkAAAAAAAMCCQAAAAAAAgGtAAAAAAACInUAAAAAAAPCOQAAAAAAAQIBAAAAAAAAAhEAAAAAAAPCEQAAAAAAAgHFAAAAAAAAYlUAAAAAAANCGQAAAAAAAAIlAAAAAAACQhUAAAAAAAEB/QAAAAAAAUIRAAAAAAADAkkAAAAAAAJCKQAAAAAAA4HBAAAAAAACAe0AAAAAAAEB/QAAAAAAAkIVAAAAAAAAAiUAAAAAAAEB/QAAAAAAAIHJAAAAAAADgekAAAAAAAECfQAAAAAAAAHRAAAAAAACIk0AAAAAAAACJQAAAAAAAKJRAAAAAAACAdkAAAAAAAACJQAAAAAAAoJlAAAAAAACAkUAAAAAAALCNQAAAAAAAgGZAAAAAAABAf0AAAAAAANCBQAAAAAAAkIpAAAAAAADQi0AAAAAAAAB5QAAAAAAAIHxAAAAAAADQlkAAAAAAAOB1QAAAAAAAsI1AAAAAAADAkkAAAAAAADCRQAAAAAAAMJFAAAAAAABAj0AAAAAAAMCCQAAAAAAAQIVAAAAAAAAAbkAAAAAAALCNQAAAAAAA4HVAAAAAAAColkAAAAAAANCLQAAAAAAA+JFAAAAAAADghUAAAAAAAJCFQAAAAAAAyJRAAAAAAABAj0AAAAAAAOB1QAAAAAAAAGlAAAAAAADglUAAAAAAAACJQAAAAAAAcIdAAAAAAABAb0AAAAAAAMByQAAAAAAAwHJAAAAAAADQlkAAAAAAACCMQAAAAAAAgGZAAAAAAABAb0AAAAAAAABpQAAAAAAAwHJAAAAAAAAgnEAAAAAAAMCCQAAAAAAAcIdAAAAAAADAd0AAAAAAACCMQAAAAAAA4IVAAAAAAABgfUAAAAAAAJCaQAAAAAAAsI1AAAAAAAA4nUAAAAAAAACJQAAAAAAAAHlAAAAAAAAgl0AAAAAAAFCEQAAAAAAAoH5AAAAAAABAj0AAAAAAAHCMQAAAAAAAwIJAAAAAAACgdEAAAAAAAOCFQAAAAAAAcJdAAAAAAADgekAAAAAAACB8QAAAAAAAQI9AAAAAAABgc0AAAAAAAEBvQAAAAAAAwJJAAAAAAAAAeUAAAAAAAHCHQAAAAAAAMJFAAAAAAAAAdEAAAAAAAMCSQAAAAAAAwJJAAAAAAADAgkAAAAAAAGB4QAAAAAAAkIVAAAAAAADAgkAAAAAAALCNQAAAAAAAwIJAAAAAAADwjkAAAAAAAHCXQAAAAAAAcJdAAAAAAABAgEAAAAAAALiQQAAAAAAAAIlAAAAAAABAf0AAAAAAAGiaQAAAAAAAMIFAAAAAAAAgh0AAAAAAAEB/QAAAAAAAIIxAAAAAAABwp0AAAAAAAMB3QAAAAAAAQJ9AAAAAAADgikAAAAAAAIijQAAAAAAAMJFAAAAAAADAbEAAAAAAALCNQAAAAAAAAH5AAAAAAAAAaUAAAAAAAKCEQAAAAAAAIHxAAAAAAABwp0AAAAAAAECfQAAAAAAAcIJAAAAAAABQhEAAAAAAALCNQAAAAAAAiKNAAAAAAAAgfEAAAAAAAAB0QAAAAAAAwGdAAAAAAABAj0AAAAAAAAB5QAAAAAAAcIdAAAAAAACAZkAAAAAAAHCHQAAAAAAAwIJAAAAAAABYm0AAAAAAAIBxQAAAAAAAAIlAAAAAAABQlEAAAAAAAEytQAAAAAAAYH1AAAAAAAAopEAAAAAAALCNQAAAAAAAoH5AAAAAAAAAiUAAAAAAACCCQAAAAAAAIHxAAAAAAADAgkAAAAAAAGCDQAAAAAAArKJAAAAAAAAAqUAAAAAAAIiTQAAAAAAAUIRAAAAAAABAekAAAAAAAHCXQAAAAAAAQK9AAAAAAADAckAAAAAAAEBlQAAAAAAA4JVAAAAAAAC8q0AAAAAAANCWQAAAAAAAaJBAAAAAAABYq0AAAAAAACCHQAAAAAAAwJdAAAAAAAAAeUAAAAAAAFCEQAAAAAAAoI5AAAAAAABAf0AAAAAAAEBvQAAAAAAA8I5AAAAAAADAkkAAAAAAAOB1QAAAAAAAQGBAAAAAAAAgfEAAAAAAAMByQAAAAAAA4HVAAAAAAAAgfEAAAAAAAIBxQAAAAAAAkIpAAAAAAADAgkAAAAAAAOB1QAAAAAAAQH9AAAAAAADghUAAAAAAADCRQAAAAAAAfKVAAAAAAADAgkAAAAAAAEB6QAAAAAAAAHlAAAAAAADAZ0AAAAAAADCRQAAAAAAAkJBAAAAAAACAcUAAAAAAAACJQAAAAAAAwGJAAAAAAAAopEAAAAAAAPCOQAAAAAAA2KNAAAAAAACgjkAAAAAAAGB4QAAAAAAAQH9AAAAAAADgikAAAAAAAMCSQAAAAAAAIIxAAAAAAADghUAAAAAAADCLQAAAAAAAAGlAAAAAAACAi0AAAAAAAEB/QAAAAAAAAI5AAAAAAAAgnEAAAAAAAOSmQAAAAAAAAGlAAAAAAADAYkAAAAAAAEBvQAAAAAAAcJdAAAAAAABwl0AAAAAAAEBvQAAAAAAAAIlAAAAAAABQpEAAAAAAAGCIQAAAAAAAYHhAAAAAAADgdUAAAAAAAMB3QAAAAAAAsI1AAAAAAABgiEAAAAAAAHCCQAAAAAAAIHJAAAAAAAAgjEAAAAAAAIBrQAAAAAAAwJJAAAAAAABAf0AAAAAAAPCOQAAAAAAA4J9AAAAAAADgdUAAAAAAANCRQAAAAAAAIJxAAAAAAAAggkAAAAAAALCNQAAAAAAAQG9AAAAAAADAbEAAAAAAAAB5QAAAAAAAwIJAAAAAAADAZ0AAAAAAAIBxQAAAAAAAQGpAAAAAAABokEAAAAAAAFCJQAAAAAAAQI9AAAAAAABAkEAAAAAAADCRQAAAAAAA0IFAAAAAAABgeEAAAAAAAAB5QAAAAAAAvKtAAAAAAACgeUAAAAAAABSuQAAAAAAA4JVAAAAAAAAAeUAAAAAAAOB1QAAAAAAAAJlAAAAAAACIk0AAAAAAABifQAAAAAAAIIxAAAAAAABokEAAAAAAACCMQAAAAAAA4IVAAAAAAAAAmUAAAAAAAMByQAAAAAAAwJJAAAAAAABAj0AAAAAAAMBiQAAAAAAAgGtAAAAAAABwh0AAAAAAAAB5QAAAAAAAAHRAAAAAAADAckAAAAAAAOCFQAAAAAAAIIxAAAAAAABQiUAAAAAAAMByQAAAAAAAQIVAAAAAAABwjEAAAAAAAOCKQAAAAAAAMJFAAAAAAADAd0AAAAAAAIizQAAAAAAAIHxAAAAAAABAb0AAAAAAAMByQAAAAAAAAHlAAAAAAABcp0AAAAAAACCMQAAAAAAAIIxAAAAAAABgeEAAAAAAAOCFQAAAAAAAQH9AAAAAAAAwgUAAAAAAABCIQAAAAAAAWKtAAAAAAAAgfEAAAAAAALCNQAAAAAAAkIVAAAAAAACAhkAAAAAAAECfQAAAAAAAwHJAAAAAAAAAfkAAAAAAAECfQAAAAAAAGJVAAAAAAAB4nkAAAAAAAKCOQAAAAAAAQJ9AAAAAAABAb0AAAAAAAHCHQAAAAAAAAIlAAAAAAABAb0AAAAAAAABpQAAAAAAA2JNAAAAAAABwgkAAAAAAAIijQAAAAAAAgHFAAAAAAADAfEAAAAAAAIizQAAAAAAAMIFAAAAAAADghUAAAAAAAJCKQAAAAAAAQH9AAAAAAACIk0AAAAAAACCMQAAAAAAAMIFAAAAAAAAAmUAAAAAAAMByQAAAAAAAMJFAAAAAAAC4kEAAAAAAAAB5QAAAAAAAMJFAAAAAAACgeUAAAAAAAAB5QAAAAAAAwIJAAAAAAAAgfEAAAAAAAFCEQAAAAAAAwIJAAAAAAADAckAAAAAAAOB1QAAAAAAAAJlAAAAAAABMrUAAAAAAAECPQAAAAAAAQI9AAAAAAABAb0AAAAAAAEBvQAAAAAAAcJdAAAAAAABAj0AAAAAAAGCdQAAAAAAAYHhAAAAAAADAckAAAAAAAKB0QAAAAAAAQG9AAAAAAADAYkAAAAAAACCcQAAAAAAA/KJAAAAAAABgeEAAAAAAAAB5QAAAAAAA7K1AAAAAAABAn0AAAAAAAOCAQAAAAAAAiJNAAAAAAABAj0AAAAAAAMByQAAAAAAAIHxAAAAAAAAgjEAAAAAAAIizQAAAAAAAUIRAAAAAAABAn0AAAAAAAMCSQAAAAAAAwIJAAAAAAADAgkAAAAAAAMByQAAAAAAAcJdAAAAAAADgdUAAAAAAAECPQAAAAAAAsIhAAAAAAAB4nkAAAAAAAEB/QAAAAAAAQG9AAAAAAAAgnEAAAAAAACCMQAAAAAAAkIVAAAAAAADAckAAAAAAAKB+QAAAAAAAoH5AAAAAAAAYlUAAAAAAAABuQAAAAAAAIHJAAAAAAABAj0AAAAAAAECPQAAAAAAAYINAAAAAAAAAdEAAAAAAAEB/QAAAAAAAAIlAAAAAAACQikAAAAAAAJCKQAAAAAAAAIlAAAAAAAAggkAAAAAAAECQQAAAAAAAQI9AAAAAAABwl0AAAAAAAACJQAAAAAAAsI1AAAAAAAAgfEAAAAAAAIijQAAAAAAAWKtAAAAAAADQlkAAAAAAAMB3QAAAAAAAQG9AAAAAAADQgUAAAAAAAKB+QAAAAAAAcJdAAAAAAACgdEAAAAAAALCNQAAAAAAAsINAAAAAAADghUAAAAAAAECPQAAAAAAA4KVAAAAAAAAgjEAAAAAAAMByQAAAAAAAuJVAAAAAAACQikAAAAAAANCBQAAAAAAA0IZAAAAAAAAgnEAAAAAAAAB5QAAAAAAAAG5AAAAAAABAr0AAAAAAAMCSQAAAAAAAQI9AAAAAAABAb0AAAAAAAOBwQAAAAAAAkIBAAAAAAABAj0AAAAAAAJShQAAAAAAAYHhAAAAAAAAwkUAAAAAAADCGQAAAAAAAQIBAAAAAAACgfkAAAAAAAKiWQAAAAAAAsI1AAAAAAACwjUAAAAAAAMCSQAAAAAAA8I5AAAAAAABYm0AAAAAAAMBnQAAAAAAAwJJAAAAAAAAAeUAAAAAAALiVQAAAAAAAEJ1AAAAAAAAwgUAAAAAAAECfQAAAAAAA8I5AAAAAAAAAiUAAAAAAAAB5QAAAAAAAcIdAAAAAAACgfkAAAAAAAMByQAAAAAAAAG5AAAAAAAAAWUAAAAAAAPCOQAAAAAAAsJNAAAAAAABAj0AAAAAAAHikQAAAAAAAQH9AAAAAAAAgckAAAAAAAJCFQAAAAAAAMJFAAAAAAABQiUAAAAAAAABpQAAAAAAAAIlAAAAAAACQhUAAAAAAAABeQAAAAAAAMIFAAAAAAACQgEAAAAAAACiUQAAAAAAAIHxAAAAAAABwjEAAAAAAAEB/QAAAAAAAAIlAAAAAAABAf0AAAAAAAOCPQAAAAAAArKJAAAAAAABAcEAAAAAAAOB1QAAAAAAA4HVAAAAAAABAb0AAAAAAAPiRQAAAAAAAIHJAAAAAAACgdEAAAAAAAMB8QAAAAAAAIIxAAAAAAAAgckAAAAAAAFCUQAAAAAAAAHRAAAAAAABwgkAAAAAAALCNQAAAAAAAAGlAAAAAAAAgjEAAAAAAAAB5QAAAAAAA0IZAAAAAAABgg0AAAAAAAABpQAAAAAAAAIlAAAAAAAAAhEAAAAAAAIBmQAAAAAAA4HVAAAAAAABAf0AAAAAAAHCCQAAAAAAAYINAAAAAAAB4nkAAAAAAAOCFQAAAAAAAMIFAAAAAAABMo0AAAAAAAECPQAAAAAAAwJJAAAAAAABAcEAAAAAAAEB6QAAAAAAAsJ1AAAAAAABAb0AAAAAAAABZQAAAAAAAgHtAAAAAAADgdUAAAAAAACCcQAAAAAAAAF5AAAAAAABAj0AAAAAAADCRQAAAAAAAAG5AAAAAAAAgfEAAAAAAAEBlQAAAAAAAIIxAAAAAAABAb0AAAAAAACB8QAAAAAAAAGlAAAAAAACQlUAAAAAAAHCCQAAAAAAAqJZAAAAAAACQhUAAAAAAAECfQAAAAAAAcIdAAAAAAABAgEAAAAAAAECKQAAAAAAAQH9AAAAAAACAa0AAAAAAAOCQQAAAAAAAIHxAAAAAAADonEAAAAAAAJCKQAAAAAAAmJJAAAAAAADwjkAAAAAAAIBmQAAAAAAAAGlAAAAAAACAdkAAAAAAAPCEQAAAAAAAkIVAAAAAAABwh0AAAAAAAPCEQAAAAAAAMIZAAAAAAACwjUAAAAAAAICBQAAAAAAAUKRAAAAAAABYm0AAAAAAAACJQAAAAAAA4HVAAAAAAACgfkAAAAAAACByQAAAAAAAwHJAAAAAAAAwkUAAAAAAALCNQAAAAAAAAIRAAAAAAABwl0AAAAAAAJCFQAAAAAAAAIlAAAAAAAAYlUAAAAAAAPCOQAAAAAAA4IVAAAAAAAAolEAAAAAAAMCCQAAAAAAA4HVAAAAAAABQlEAAAAAAAIB7QAAAAAAAAIlAAAAAAABAb0AAAAAAAGiwQAAAAAAA0JZAAAAAAAAwgUAAAAAAAEyoQAAAAAAAoJlAAAAAAAAgckAAAAAAAAB0QAAAAAAAQJ9AAAAAAACAZkAAAAAAAKibQAAAAAAAgGtAAAAAAABgeEAAAAAAAACJQAAAAAAAcIJAAAAAAAAAeUAAAAAAALCDQAAAAAAAgFtAAAAAAACAdkAAAAAAAMCCQAAAAAAAoJRAAAAAAABAf0AAAAAAACCMQAAAAAAAkIpAAAAAAACQhUAAAAAAAMCSQAAAAAAAAH5AAAAAAAA4mEAAAAAAAECgQAAAAAAAgHZAAAAAAADgcEAAAAAAANiTQAAAAAAA4IVAAAAAAADghUAAAAAAACByQAAAAAAASJJAAAAAAADAYkAAAAAAAFCEQAAAAAAAiJ1AAAAAAADgcEAAAAAAAMCCQAAAAAAA+JZAAAAAAADQpkAAAAAAAHCHQAAAAAAAQH9AAAAAAACAq0AAAAAAAFCEQAAAAAAAoHlAAAAAAAAgckAAAAAAAHCXQAAAAAAAkIpAAAAAAADAckAAAAAAAHCHQAAAAAAAAHlAAAAAAADQgUAAAAAAAECPQAAAAAAAIJxAAAAAAAD8okAAAAAAAACZQAAAAAAAIIxAAAAAAABAb0AAAAAAAECKQAAAAAAA8I5AAAAAAACwnUAAAAAAAOB1QAAAAAAAiKNAAAAAAAAYmkAAAAAAACB8QAAAAAAA8JRAAAAAAAAAaUAAAAAAACiUQAAAAAAAiKNAAAAAAACgjkAAAAAAAMByQAAAAAAA4HVAAAAAAACwjUAAAAAAAMCCQAAAAAAAWKtAAAAAAABgmEAAAAAAAMByQAAAAAAAQH9AAAAAAADAkkAAAAAAACCMQAAAAAAAwIdAAAAAAADAgkAAAAAAAEBvQAAAAAAAQHBAAAAAAABAj0AAAAAAAACZQAAAAAAAwHJAAAAAAADgmkAAAAAAAAB5QAAAAAAAcIdAAAAAAABwl0AAAAAAAMByQAAAAAAAIJJAAAAAAABgeEAAAAAAAHCXQAAAAAAAgHFAAAAAAADgpUAAAAAAAMCCQAAAAAAAMJFAAAAAAABYq0AAAAAAAHCnQAAAAAAAgHtAAAAAAAAgfEAAAAAAAECPQAAAAAAAIIxAAAAAAAAas0AAAAAAACCMQAAAAAAAAIlAAAAAAABAn0AAAAAAAMByQAAAAAAAwIJAAAAAAAD4oUAAAAAAAOBwQAAAAAAAIJJAAAAAAADAgkAAAAAAABiVQAAAAAAAiLNAAAAAAAAAiUAAAAAAAAB0QAAAAAAA4JVAAAAAAABgeEAAAAAAAECvQAAAAAAAAHlAAAAAAAA0l0AAAAAAAEiSQAAAAAAAAGlAAAAAAABQhEAAAAAAAIB2QAAAAAAAsJ1AAAAAAAAwgUAAAAAAADCGQAAAAAAAQH9AAAAAAABwl0AAAAAAAEB/QAAAAAAAQH9AAAAAAAA4mEAAAAAAAKCOQAAAAAAAcIdAAAAAAADgj0AAAAAAAGB4QAAAAAAAQIBAAAAAAADgdUAAAAAAACB3QAAAAAAAcIJAAAAAAAAAeUAAAAAAAKB+QAAAAAAA4IVAAAAAAABwp0AAAAAAAECPQAAAAAAAoH5AAAAAAACwnUAAAAAAAHieQAAAAAAAIIxAAAAAAACIk0AAAAAAAOCFQAAAAAAAwIJAAAAAAAAgd0AAAAAAAOB1QAAAAAAAIIxAAAAAAAAgjEAAAAAAAGCDQAAAAAAAyJlAAAAAAADAkkAAAAAAABiVQAAAAAAA4IVAAAAAAABAZUAAAAAAAECfQAAAAAAA4IVAAAAAAABwl0AAAAAAAICGQAAAAAAAkIpAAAAAAABAf0AAAAAAAIBmQAAAAAAAGJ9AAAAAAABYq0AAAAAAAKCOQAAAAAAAwGdAAAAAAAD4kUAAAAAAAAB5QAAAAAAA4H9AAAAAAADwjkAAAAAAACCMQAAAAAAA4HVAAAAAAADgdUAAAAAAAHCnQAAAAAAASJJAAAAAAAAAaUAAAAAAABSkQAAAAAAAwGJAAAAAAABwl0AAAAAAANCWQAAAAAAAwIJAAAAAAADwjkAAAAAAAMCCQAAAAAAAqKZAAAAAAABAhUAAAAAAAPCOQAAAAAAAYHhAAAAAAADAgkAAAAAAAECPQAAAAAAAwIJAAAAAAABwh0AAAAAAACCMQAAAAAAAKK5AAAAAAACghEAAAAAAANCWQAAAAAAAAHlAAAAAAAAwhkAAAAAAADChQAAAAAAAPKlAAAAAAAAwgUAAAAAAANCWQAAAAAAAmrBAAAAAAAAAeUAAAAAAADCRQAAAAAAAMIFAAAAAAABwgkAAAAAAAIijQAAAAAAAoHlAAAAAAABAf0AAAAAAAAB5QAAAAAAA0ItAAAAAAADAgkAAAAAAAJyoQAAAAAAAMJFAAAAAAACQhUAAAAAAAHCHQAAAAAAA4IVAAAAAAABYq0AAAAAAAMByQAAAAAAAQIBAAAAAAABwl0AAAAAAAMCCQAAAAAAAYHhAAAAAAABYlkAAAAAAAJCFQAAAAAAAGKVAAAAAAAAQnUAAAAAAAIBmQAAAAAAAAIlAAAAAAAAAdEAAAAAAAAB5QAAAAAAAwHJAAAAAAAAAiUAAAAAAAHCSQAAAAAAAwIJAAAAAAABAYEAAAAAAAKB0QAAAAAAAQI9AAAAAAAAAaUAAAAAAALCNQAAAAAAAcIdAAAAAAAAwgUAAAAAAAHCHQAAAAAAAIJJAAAAAAABwh0AAAAAAADCGQAAAAAAA0JFAAAAAAABgjUAAAAAAADCGQAAAAAAAwHJAAAAAAAAwgUAAAAAAANCWQAAAAAAAwIJAAAAAAACIs0AAAAAAACByQAAAAAAAsJ1AAAAAAAAwkUAAAAAAAAB5QAAAAAAAWJtAAAAAAADAgkAAAAAAAAB+QAAAAAAAsJ1AAAAAAADAckAAAAAAAECfQAAAAAAAwGJAAAAAAADAgkAAAAAAAMCCQAAAAAAAwHJAAAAAAABwh0AAAAAAABiVQAAAAAAAMIFAAAAAAAAggkAAAAAAAOB1QAAAAAAAQJ9AAAAAAACAe0AAAAAAAGB4QAAAAAAAcKdAAAAAAAAwgUAAAAAAAMCCQAAAAAAAwIJAAAAAAADAkkAAAAAAAMByQAAAAAAAMKFAAAAAAABAj0AAAAAAAMB3QAAAAAAA0IZAAAAAAADghUAAAAAAAFCUQAAAAAAAoH5AAAAAAAAgjEAAAAAAAKCOQAAAAAAAiKNAAAAAAABAhUAAAAAAADCBQAAAAAAAEI1AAAAAAABAj0AAAAAAAJCaQAAAAAAA4HVAAAAAAABAf0AAAAAAACCMQAAAAAAAsI1AAAAAAABQhEAAAAAAAOB/QAAAAAAA4HVAAAAAAABQpEAAAAAAACCcQAAAAAAAwHJAAAAAAAAAfkAAAAAAACCXQAAAAAAAkIpAAAAAAACQmkAAAAAAAFCEQAAAAAAAQH9AAAAAAAAgjEAAAAAAAOB1QAAAAAAAQG9AAAAAAABAf0AAAAAAAMBnQAAAAAAAwGxAAAAAAAAgd0AAAAAAADCBQAAAAAAAcIdAAAAAAAAAaUAAAAAAAACOQAAAAAAAiLNAAAAAAACgjkAAAAAAAAB0QAAAAAAAwJJAAAAAAAD4oUAAAAAAAMCCQAAAAAAAGKVAAAAAAABAn0AAAAAAAMCSQAAAAAAAwKJAAAAAAADAckAAAAAAAEB/QAAAAAAA4HVAAAAAAAAYn0AAAAAAAMCCQAAAAAAAAHRAAAAAAAAAeUAAAAAAADCRQAAAAAAAyJlAAAAAAABAj0AAAAAAACB3QAAAAAAAwHJAAAAAAADAgkAAAAAAAJCAQAAAAAAAiLNAAAAAAAAwkUAAAAAAADCRQAAAAAAA4IVAAAAAAAAAeUAAAAAAAMCSQAAAAAAAqJZAAAAAAAA4mEAAAAAAACCXQAAAAAAA4IBAAAAAAAC4lUAAAAAAAMCSQAAAAAAAuJVAAAAAAAAAeUAAAAAAAFCEQAAAAAAA4HVAAAAAAADghUAAAAAAAEBvQAAAAAAACJtAAAAAAADAckAAAAAAACCMQAAAAAAA4HVAAAAAAABAakAAAAAAAMCCQAAAAAAA0JFAAAAAAAAYn0AAAAAAAHCXQAAAAAAAAIlAAAAAAABwgkAAAAAAAIijQAAAAAAAyJlAAAAAAABYlkAAAAAAAMiZQAAAAAAA3K5AAAAAAABwh0AAAAAAAEBvQAAAAAAAQGpAAAAAAAAAeUAAAAAAACB8QAAAAAAAsI1AAAAAAABAekAAAAAAALCIQAAAAAAAiLNAAAAAAAAAWUAAAAAAAMCSQAAAAAAAAGlAAAAAAAAAeUAAAAAAAMCCQAAAAAAAUIRAAAAAAAAAeUAAAAAAAOCVQAAAAAAAPK5AAAAAAADghUAAAAAAAACZQAAAAAAAQIVAAAAAAADglUAAAAAAAHCMQAAAAAAAQG9AAAAAAABgeEAAAAAAAGB4QAAAAAAAgGZAAAAAAAAAaUAAAAAAAOCVQAAAAAAAmKdAAAAAAAAAaUAAAAAAACB8QAAAAAAAAHlAAAAAAAAgjEAAAAAAAEB/QAAAAAAA0IZAAAAAAAAAaUAAAAAAAFirQAAAAAAAIIxAAAAAAABAZUAAAAAAALCNQAAAAAAAQH9AAAAAAAAMp0AAAAAAAMCHQAAAAAAA4IVAAAAAAABAf0AAAAAAAOCKQAAAAAAAMIFAAAAAAAAAeUAAAAAAAGB4QAAAAAAAkIVAAAAAAAAAWUAAAAAAAAB0QAAAAAAAeJ5AAAAAAADghUAAAAAAAGBzQAAAAAAAoIRAAAAAAACQhUAAAAAAAACJQAAAAAAAsI1AAAAAAAAAeUAAAAAAABiVQAAAAAAAAHRAAAAAAABQhEAAAAAAACB8QAAAAAAAQHVAAAAAAABAcEAAAAAAAPiRQAAAAAAAQIpAAAAAAABAr0AAAAAAAOCVQAAAAAAAIIxAAAAAAADghUAAAAAAAACJQAAAAAAAQG9AAAAAAABQlEAAAAAAAGCIQAAAAAAAiLNAAAAAAAAAeUAAAAAAAJCAQAAAAAAAgItAAAAAAABAf0AAAAAAACByQAAAAAAAQG9AAAAAAACIk0AAAAAAABiQQAAAAAAAAHlAAAAAAAAgd0AAAAAAAECPQAAAAAAAoHRAAAAAAACAa0AAAAAAAFCEQAAAAAAAMJFAAAAAAADYk0AAAAAAAFirQAAAAAAAoIRAAAAAAADAfEAAAAAAAMCSQAAAAAAA0IFAAAAAAAAAeUAAAAAAAOBwQAAAAAAA0ItAAAAAAACAcUAAAAAAAMByQAAAAAAAoI5AAAAAAACQmkAAAAAAABCTQAAAAAAAwHxAAAAAAAColkAAAAAAAEBqQAAAAAAAAHRAAAAAAABAb0AAAAAAAJCAQAAAAAAAIHdAAAAAAADAbEAAAAAAAMCSQAAAAAAAcJdAAAAAAAAwgUAAAAAAACiUQAAAAAAAPKRAAAAAAABwl0AAAAAAAGCTQAAAAAAA2JNAAAAAAABAf0AAAAAAACCcQAAAAAAAmJJAAAAAAAAAiUAAAAAAAMCCQAAAAAAAt7dAAAAAAABgg0AAAAAAAACJQAAAAAAAsI1AAAAAAAAYlUAAAAAAAIB2QAAAAAAAQI9AAAAAAABgiEAAAAAAAGB4QAAAAAAAiKNAAAAAAABAdUAAAAAAAMCSQAAAAAAAIIdAAAAAAACAi0AAAAAAAMCSQAAAAAAA8IRAAAAAAACAcUAAAAAAAMBnQAAAAAAAgGZAAAAAAABQhEAAAAAAAABpQAAAAAAAAIlAAAAAAABAf0AAAAAAAEB/QAAAAAAAvLFAAAAAAABAb0AAAAAAAEB/QAAAAAAAwJJAAAAAAAAAeUAAAAAAAECFQAAAAAAAIIxAAAAAAAAAeUAAAAAAAPiRQAAAAAAAOJNAAAAAAADAkkAAAAAAAAB0QAAAAAAAkIpAAAAAAAAAZEAAAAAAAEB1QAAAAAAA4H9AAAAAAACAkUAAAAAAACiZQAAAAAAAIIJAAAAAAADwjkAAAAAAABCdQAAAAAAAcIJAAAAAAAAgfEAAAAAAAECPQAAAAAAAeJ5AAAAAAACAdkAAAAAAAICLQAAAAAAAAHlAAAAAAAAwgUAAAAAAACiUQAAAAAAAcJdAAAAAAAAAmUAAAAAAAJCKQAAAAAAA4HVAAAAAAAAgfEAAAAAAAHiZQAAAAAAAaJVAAAAAAAAcoUAAAAAAAMCSQAAAAAAAQH9AAAAAAABAj0AAAAAAAIijQAAAAAAAQJ9AAAAAAAAAeUAAAAAAAGBzQAAAAAAAAHlAAAAAAABAb0AAAAAAAOCKQAAAAAAAQGpAAAAAAACQhUAAAAAAAHCXQAAAAAAAMIFAAAAAAABwp0AAAAAAAJCVQAAAAAAAQJ9AAAAAAAAgfEAAAAAAAOCFQAAAAAAAAHRAAAAAAADgf0AAAAAAAIiTQAAAAAAA8IRAAAAAAAAAbkAAAAAAAMByQAAAAAAAQI9AAAAAAABwl0AAAAAAANCWQAAAAAAAAHRAAAAAAADggEAAAAAAAPiRQAAAAAAAQGVAAAAAAAAgfEAAAAAAAGiVQAAAAAAAwIJAAAAAAADgpUAAAAAAAAB5QAAAAAAAAHlAAAAAAADAZ0AAAAAAAMByQAAAAAAA8I5AAAAAAABAj0AAAAAAAFCEQAAAAAAA4HBAAAAAAAAgfEAAAAAAAEB/QAAAAAAAWKFAAAAAAADAgkAAAAAAAOCFQAAAAAAAwJJAAAAAAACQhUAAAAAAAACZQAAAAAAA4HVAAAAAAABwgkAAAAAAAPiRQAAAAAAA4IVAAAAAAADAgkAAAAAAACB8QAAAAAAAcJdAAAAAAABAb0AAAAAAADCRQAAAAAAA4HVAAAAAAAAgjEAAAAAAAHCMQAAAAAAAeJ5AAAAAAABgfUAAAAAAADCBQAAAAAAAAF5AAAAAAAB8oEAAAAAAANCbQAAAAAAAAGlAAAAAAAAwgUAAAAAAADCBQAAAAAAA0ItAAAAAAADgdUAAAAAAADCGQAAAAAAAIHxAAAAAAACAi0AAAAAAAOB1QAAAAAAAQH9AAAAAAACokUAAAAAAAOCPQAAAAAAA4HBAAAAAAABAgEAAAAAAAIBrQAAAAAAAOKNAAAAAAACQikAAAAAAABiVQAAAAAAAsIhAAAAAAADIqUAAAAAAAOCFQAAAAAAAaJBAAAAAAADAkkAAAAAAADawQAAAAAAAQJ9AAAAAAADAYkAAAAAAAMByQAAAAAAAcJdAAAAAAABAn0AAAAAAADCBQAAAAAAAQI9AAAAAAACghEAAAAAAACB8QAAAAAAAQJBAAAAAAAAAiUAAAAAAAHCXQAAAAAAAQHBAAAAAAADghUAAAAAAAIijQAAAAAAAwHJAAAAAAABAgEAAAAAAAMCCQAAAAAAAOJNAAAAAAAD4kUAAAAAAAIBmQAAAAAAAaKBAAAAAAADImUAAAAAAAKB0QAAAAAAAQH9AAAAAAAAwgUAAAAAAAACJQAAAAAAAgHZAAAAAAADAgkAAAAAAAEB/QAAAAAAAAIlAAAAAAAAAaUAAAAAAALiQQAAAAAAAoHlAAAAAAACIs0AAAAAAAABkQAAAAAAAwJJAAAAAAACwnUAAAAAAAOCFQAAAAAAA4HVAAAAAAACgfkAAAAAAAIijQAAAAAAA8I5AAAAAAAAgnEAAAAAAAECPQAAAAAAAsIhAAAAAAAAAaUAAAAAAAEB1QAAAAAAAAG5AAAAAAAAgckAAAAAAAGiQQAAAAAAAkIBAAAAAAADokkAAAAAAAECAQAAAAAAAgHFAAAAAAADgf0AAAAAAAJCaQAAAAAAAQI9AAAAAAAAAiUAAAAAAAECPQAAAAAAAQIVAAAAAAAAwgUAAAAAAAGiQQAAAAAAAkJpAAAAAAAAAeUAAAAAAALCIQAAAAAAAQI9AAAAAAADAgkAAAAAAAOB1QAAAAAAAwGJAAAAAAABAj0AAAAAAACCMQAAAAAAAsINAAAAAAABAj0AAAAAAAICWQAAAAAAAQI9AAAAAAADAckAAAAAAAGCDQAAAAAAAcIdAAAAAAADgdUAAAAAAAMCCQAAAAAAA4IVAAAAAAAAAeUAAAAAAAOB1QAAAAAAAwIJAAAAAAABAb0AAAAAAADCBQAAAAAAAwIJAAAAAAADAckAAAAAAAEBvQAAAAAAAGJVAAAAAAABAj0AAAAAAAEBlQAAAAAAAQG9AAAAAAABQjkAAAAAAAMiUQAAAAAAA3K5AAAAAAADAh0AAAAAAAECQQAAAAAAAgJtAAAAAAAAAiUAAAAAAAEiSQAAAAAAAuJpAAAAAAAAgnEAAAAAAADSyQAAAAAAAcJdAAAAAAAAEqkAAAAAAAJCaQAAAAAAAUJRAAAAAAAAAfkAAAAAAAAB5QAAAAAAAQHBAAAAAAAAwgUAAAAAAAIBrQAAAAAAA4IVAAAAAAABQhEAAAAAAAKB5QAAAAAAARKZAAAAAAADQlkAAAAAAAJCVQAAAAAAARKFAAAAAAADUokAAAAAAAOCgQAAAAAAAmKdAAAAAAACQhUAAAAAAACCcQAAAAAAAMJFAAAAAAAAgfEAAAAAAAECPQAAAAAAAwHJAAAAAAAAgckAAAAAAAEBvQAAAAAAAwHdAAAAAAABwl0AAAAAAAABpQAAAAAAAfrNAAAAAAADAYkAAAAAAADCLQAAAAAAAwHJAAAAAAAAgjEAAAAAAAOicQAAAAAAAIIdAAAAAAAAAdEAAAAAAAMCCQAAAAAAA0ItAAAAAAACwjUAAAAAAAFynQAAAAAAAwIJAAAAAAACwjUAAAAAAALCNQAAAAAAAAGlAAAAAAABAf0AAAAAAACB3QAAAAAAAMItAAAAAAADgdUAAAAAAAJCKQAAAAAAAcIJAAAAAAABYlkAAAAAAADiYQAAAAAAAiJNAAAAAAACAi0AAAAAAAHiZQAAAAAAAYJhAAAAAAAB4lEAAAAAAAECQQAAAAAAAkJpAAAAAAAD4m0AAAAAAAHCXQAAAAAAARKFAAAAAAACgmUAAAAAAAKCJQAAAAAAAUIlAAAAAAAAAaUAAAAAAAOCFQAAAAAAAIIxAAAAAAACUoUAAAAAAAOCFQAAAAAAAQGBAAAAAAADAckAAAAAAANCRQAAAAAAAUJRAAAAAAADgcEAAAAAAAEBvQAAAAAAA4JVAAAAAAAAgd0AAAAAAALCIQAAAAAAAUJRAAAAAAAAgjEAAAAAAACCMQAAAAAAA4JBAAAAAAABAZUAAAAAAAAB5QAAAAAAA4HpAAAAAAABAj0AAAAAAAHCXQAAAAAAAgGZAAAAAAAAAeUAAAAAAAMCCQAAAAAAAwGxAAAAAAADAbEAAAAAAAAB0QAAAAAAAWKtAAAAAAABwl0AAAAAAACB3QAAAAAAAIIxAAAAAAAAwoUAAAAAAADCRQAAAAAAAQJ9AAAAAAABwgkAAAAAAAIB7QAAAAAAAcKdAAAAAAACQikAAAAAAAMByQAAAAAAAwJJAAAAAAADAgkAAAAAAAKB+QAAAAAAA4IVAAAAAAABwl0AAAAAAAIBrQAAAAAAAwIJAAAAAAAB4nkAAAAAAAPCEQAAAAAAAwHJAAAAAAABQlEAAAAAAAOCFQAAAAAAAAGlAAAAAAADwhEAAAAAAAJCPQAAAAAAAMIFAAAAAAABwgkAAAAAAAGBzQAAAAAAAwHJAAAAAAACIo0AAAAAAACCHQAAAAAAAAH5AAAAAAADAgkAAAAAAABiVQAAAAAAA0ItAAAAAAAAwgUAAAAAAAOCFQAAAAAAANJdAAAAAAADAgkAAAAAAAACJQAAAAAAAMJFAAAAAAAAgjEAAAAAAAOCFQAAAAAAAQJ9AAAAAAABAf0AAAAAAAGiaQAAAAAAAIHJAAAAAAAAAiUAAAAAAACB3QAAAAAAAMIFAAAAAAAAAiUAAAAAAALCIQAAAAAAAQG9AAAAAAADggEAAAAAAAMipQAAAAAAAAGlAAAAAAADImUAAAAAAANiYQAAAAAAAMKFAAAAAAAAwi0AAAAAAABCNQAAAAAAAkJVAAAAAAACgjkAAAAAAAECfQAAAAAAAKJlAAAAAAADgkEAAAAAAAPCOQAAAAAAAwIJAAAAAAABooEAAAAAAALCNQAAAAAAA0JFAAAAAAADgmkAAAAAAALifQAAAAAAAsI1AAAAAAABAb0AAAAAAADChQAAAAAAAQHBAAAAAAADghUAAAAAAAEBvQAAAAAAAoHlAAAAAAABAj0AAAAAAAHieQAAAAAAAWJZAAAAAAABAf0AAAAAAAPSlQAAAAAAAQK9AAAAAAABAn0AAAAAAAECfQAAAAAAAQJ9AAAAAAABooEAAAAAAAIBrQAAAAAAAgGZAAAAAAACQhUAAAAAAAMCCQAAAAAAAcIdAAAAAAABAdUAAAAAAADCGQAAAAAAAAG5AAAAAAADwhEAAAAAAAOCVQAAAAAAANJdAAAAAAADAbEAAAAAAAMCCQAAAAAAAQH9AAAAAAAAAiUAAAAAAAHCHQAAAAAAAkIpAAAAAAADAckAAAAAAAOB1QAAAAAAA4HVAAAAAAABgc0AAAAAAAGiQQAAAAAAAAGlAAAAAAACom0AAAAAAAEBvQAAAAAAAQG9AAAAAAACwg0AAAAAAACB8QAAAAAAAwIJAAAAAAACQikAAAAAAADCBQAAAAAAA/rBAAAAAAAAAdEAAAAAAAEB/QAAAAAAAQH9AAAAAAADAbEAAAAAAAEB/QAAAAAAAiLNAAAAAAAAAeUAAAAAAACB3QAAAAAAAIHxAAAAAAABQhEAAAAAAAAB5QAAAAAAAQH9AAAAAAADAYkAAAAAAAOB1QAAAAAAAWKtAAAAAAADAgkAAAAAAAEB/QAAAAAAAQGpAAAAAAAB4nkAAAAAAAJCKQAAAAAAAMJFAAAAAAAAAiUAAAAAAAACJQAAAAAAAUJRAAAAAAADAckAAAAAAAAB0QAAAAAAA0ItAAAAAAACAe0AAAAAAABiQQAAAAAAAQH9AAAAAAAAAbkAAAAAAAMCSQAAAAAAAsIhAAAAAAADQgUAAAAAAAAynQAAAAAAA4HBAAAAAAACco0AAAAAAACB8QAAAAAAAcIdAAAAAAAAwi0AAAAAAAMCMQAAAAAAA8IRAAAAAAAAAiUAAAAAAAPiRQAAAAAAAQHVAAAAAAABAn0AAAAAAAECPQAAAAAAA2JNAAAAAAACQikAAAAAAAEiXQAAAAAAAuKBAAAAAAACImEAAAAAAAEBvQAAAAAAA4IVAAAAAAADgdUAAAAAAAHCXQAAAAAAADKdAAAAAAACQkEAAAAAAAMByQAAAAAAAkIBAAAAAAADQlkAAAAAAADCGQAAAAAAAEIhAAAAAAADYmEAAAAAAAMCSQAAAAAAAAHlAAAAAAADAbEAAAAAAAAB5QAAAAAAA+KFAAAAAAADgj0AAAAAAAECPQAAAAAAAQH9AAAAAAABAkEAAAAAAAECPQAAAAAAAsIhAAAAAAAAwkUAAAAAAAMByQAAAAAAAAH5AAAAAAAAgjEAAAAAAAOCVQAAAAAAAYH1AAAAAAABYq0AAAAAAACByQAAAAAAAoH5AAAAAAACQhUAAAAAAAIBxQAAAAAAAIHdAAAAAAAAwgUAAAAAAANCWQAAAAAAA0IFAAAAAAACwjUAAAAAAAABpQAAAAAAAQIBAAAAAAADAkkAAAAAAAMCSQAAAAAAA8I5AAAAAAAAgp0AAAAAAAOBwQAAAAAAAAHlAAAAAAAAgh0AAAAAAAGCNQAAAAAAAkIVAAAAAAAAAdEAAAAAAACCMQAAAAAAA4HVAAAAAAADAckAAAAAAAMByQAAAAAAAIHdAAAAAAAA4mEAAAAAAAECFQAAAAAAAcJdAAAAAAAAwkUAAAAAAAEBvQAAAAAAAiLNAAAAAAAAwgUAAAAAAAHCMQAAAAAAAAGlAAAAAAAAAhEAAAAAAAFCEQAAAAAAAUIRAAAAAAABwh0AAAAAAAFCEQAAAAAAAwIJAAAAAAAAwgUAAAAAAAPCEQAAAAAAAKJRAAAAAAADQlkAAAAAAAFCEQAAAAAAAAJlAAAAAAABAj0AAAAAAACB8QAAAAAAAUIRAAAAAAAAAeUAAAAAAAOB1QAAAAAAAQI9AAAAAAAAgfEAAAAAAAECPQAAAAAAA4HVAAAAAAAAwgUAAAAAAAECvQAAAAAAAcIdAAAAAAADAckAAAAAAADChQAAAAAAAoH5AAAAAAABooEAAAAAAANCRQAAAAAAAkJpAAAAAAABwl0AAAAAAAOCFQAAAAAAAUIRAAAAAAABQmUAAAAAAABCYQAAAAAAAuJVAAAAAAACAhkAAAAAAAOCPQAAAAAAAYIhAAAAAAADgj0AAAAAAAECfQAAAAAAANKdAAAAAAAAgjEAAAAAAADioQAAAAAAAoJRAAAAAAACgjkAAAAAAACByQAAAAAAAqJZAAAAAAAAAdEAAAAAAAAB5QAAAAAAAQH9AAAAAAABAf0AAAAAAAAB5QAAAAAAA4JBAAAAAAACwg0AAAAAAAEB/QAAAAAAA0JZAAAAAAABAj0AAAAAAAEiSQAAAAAAAQJ9AAAAAAADImUAAAAAAAOCFQAAAAAAAAHRAAAAAAABAj0AAAAAAACyvQAAAAAAA4HVAAAAAAACQqkAAAAAAAEBvQAAAAAAA8IRAAAAAAABAhUAAAAAAAECFQAAAAAAAcIdAAAAAAABAikAAAAAAAPiRQAAAAAAAAGlAAAAAAAAAiUAAAAAAAIBrQAAAAAAAwJJAAAAAAADgdUAAAAAAAHCHQAAAAAAAnKhAAAAAAAAAdEAAAAAAABifQAAAAAAAQI9AAAAAAADwjkAAAAAAAPihQAAAAAAAAGlAAAAAAAAYkEAAAAAAACB8QAAAAAAACJFAAAAAAADQhkAAAAAAAEShQAAAAAAAKJRAAAAAAACwk0AAAAAAAABpQAAAAAAAQHpAAAAAAACAa0AAAAAAAABuQAAAAAAAIHdAAAAAAAAAaUAAAAAAAGB4QAAAAAAAaJpAAAAAAABEoUAAAAAAAACJQAAAAAAAGJ9AAAAAAABAr0AAAAAAAMCCQAAAAAAAQH9AAAAAAADQgUAAAAAAAECPQAAAAAAAQH9AAAAAAADAd0AAAAAAAMBnQAAAAAAAAIlAAAAAAAAIoUAAAAAAAGBzQAAAAAAAAIlAAAAAAABAf0AAAAAAALCIQAAAAAAAsI1AAAAAAADAgkAAAAAAAOCFQAAAAAAAsIhAAAAAAAD4kUAAAAAAAEBvQAAAAAAAQG9AAAAAAAAAiUAAAAAAAKB+QAAAAAAAkIpAAAAAAACQhUAAAAAAAECAQAAAAAAAIHxAAAAAAAAgokAAAAAAAGCDQAAAAAAAIHdAAAAAAABokEAAAAAAAMByQAAAAAAAGJVAAAAAAAAYr0AAAAAAAFCpQAAAAAAAeJ5AAAAAAABwgkAAAAAAAEBvQAAAAAAAsI1AAAAAAABwl0AAAAAAAMCSQAAAAAAAwGxAAAAAAADgkEAAAAAAAGiVQAAAAAAAwGxAAAAAAAAgckAAAAAAAEB/QAAAAAAAiKNAAAAAAAD4m0AAAAAAAACpQAAAAAAAYH1AAAAAAADAh0AAAAAAAECPQAAAAAAAOJhAAAAAAAAgckAAAAAAALCNQAAAAAAAuLBAAAAAAACwiEAAAAAAAOB1QAAAAAAAwGJAAAAAAADAfEAAAAAAAABpQAAAAAAAgGtAAAAAAADQlkAAAAAAAACEQAAAAAAA4HVAAAAAAAD4lkAAAAAAAOCVQAAAAAAAQI9AAAAAAABwl0AAAAAAANCGQAAAAAAAkJpAAAAAAABYq0AAAAAAAEBvQAAAAAAAMIZAAAAAAABoqkAAAAAAAEB/QAAAAAAAQGVAAAAAAAAAdEAAAAAAAECPQAAAAAAAwHJAAAAAAACgjkAAAAAAAJSmQAAAAAAAcIdAAAAAAABokEAAAAAAAGiFQAAAAAAAwIJAAAAAAABAikAAAAAAAHCHQAAAAAAA4IVAAAAAAABgg0AAAAAAAAB5QAAAAAAAAJRAAAAAAABQhEAAAAAAAECPQAAAAAAAAGlAAAAAAACAe0AAAAAAAOB/QAAAAAAAYHNAAAAAAADAYkAAAAAAAACJQAAAAAAAMIFAAAAAAAAAeUAAAAAAAEB/QAAAAAAA1KdAAAAAAAAAaUAAAAAAAECPQAAAAAAAAJlAAAAAAAAgd0AAAAAAAGiQQAAAAAAAAJlAAAAAAABwh0AAAAAAAABuQAAAAAAAwJJAAAAAAACwjUAAAAAAAH6zQAAAAAAAJrFAAAAAAADAgkAAAAAAAICbQAAAAAAA0JZAAAAAAABQhEAAAAAAAACJQAAAAAAAwHdAAAAAAADAgkAAAAAAACB3QAAAAAAAQHVAAAAAAAAgfEAAAAAAAACZQAAAAAAAAHlAAAAAAADwjkAAAAAAAECPQAAAAAAAYH1AAAAAAACQikAAAAAAALCNQAAAAAAAkIVAAAAAAABAf0AAAAAAAMCXQAAAAAAAUI5AAAAAAACQikAAAAAAADCRQAAAAAAAkJpAAAAAAABEq0AAAAAAACCcQAAAAAAA4IVAAAAAAAAAeUAAAAAAAOCFQAAAAAAAwIJAAAAAAAD4kUAAAAAAANCLQAAAAAAAQH9AAAAAAACAZkAAAAAAAOCFQAAAAAAAAF5AAAAAAABAb0AAAAAAAMCCQAAAAAAAwJJAAAAAAAAAiUAAAAAAAJCKQAAAAAAAkIVAAAAAAADwjkAAAAAAAECKQAAAAAAAWKtAAAAAAACgfkAAAAAAAECFQAAAAAAAUJRAAAAAAADYmEAAAAAAAPCOQAAAAAAAwKJAAAAAAAAAfkAAAAAAAAiRQAAAAAAAAJRAAAAAAABAf0AAAAAAAEBvQAAAAAAAyJRAAAAAAADgdUAAAAAAAPCOQAAAAAAAMJFAAAAAAABQhEAAAAAAAGB4QAAAAAAAoH5AAAAAAAA4mEAAAAAAAGCNQAAAAAAAEJNAAAAAAAAAeUAAAAAAALCIQAAAAAAAIHxAAAAAAABAgEAAAAAAAHCXQAAAAAAAGJVAAAAAAADAckAAAAAAAAB5QAAAAAAAIIxAAAAAAAAwgUAAAAAAAGB4QAAAAAAAwJJAAAAAAAAAeUAAAAAAADCGQAAAAAAAiKNAAAAAAABwnEAAAAAAAEB6QAAAAAAAwIJAAAAAAADgkEAAAAAAAMCCQAAAAAAA6JJAAAAAAABgfUAAAAAAABiVQAAAAAAAgHFAAAAAAAAAiUAAAAAAADCBQAAAAAAAAIlAAAAAAABAj0AAAAAAAGB9QAAAAAAAwIJAAAAAAABAj0AAAAAAACygQAAAAAAASJdAAAAAAADAokAAAAAAAEBgQAAAAAAA4HVAAAAAAAAwgUAAAAAAAMCCQAAAAAAA4HVAAAAAAADAgkAAAAAAAMBiQAAAAAAAQH9AAAAAAADAh0AAAAAAAFCEQAAAAAAAQK9AAAAAAADgdUAAAAAAAFCUQAAAAAAAPK5AAAAAAABQhEAAAAAAAHieQAAAAAAAwHJAAAAAAACIk0AAAAAAAECQQAAAAAAAAHlAAAAAAACAYUAAAAAAAMBsQAAAAAAAYHNAAAAAAAAAZEAAAAAAAGBzQAAAAAAAYKhAAAAAAAAwgUAAAAAAACCMQAAAAAAAiJhAAAAAAAAYoEAAAAAAADCBQAAAAAAAAIlAAAAAAABAj0AAAAAAACCCQAAAAAAAwGxAAAAAAAC0pEAAAAAAAPiRQAAAAAAAwHJAAAAAAADIqUAAAAAAACByQAAAAAAAoH5AAAAAAADAkkAAAAAAAFCEQAAAAAAASJJAAAAAAAAwm0AAAAAAAGCNQAAAAAAA2J1AAAAAAAAcoUAAAAAAAMCiQAAAAAAAYI1AAAAAAACokUAAAAAAAACUQAAAAAAAmKdAAAAAAAAgp0AAAAAAALifQAAAAAAALKBAAAAAAABAhUAAAAAAAGiQQAAAAAAAEINAAAAAAAAwgUAAAAAAAGB9QAAAAAAAyJRAAAAAAACgeUAAAAAAANCGQAAAAAAAIHJAAAAAAADAkkAAAAAAAAB5QAAAAAAAkIVAAAAAAADghUAAAAAAACCcQAAAAAAAAIlAAAAAAADwjkAAAAAAAOCFQAAAAAAAwJJAAAAAAADgdUAAAAAAAFCEQAAAAAAAQI9AAAAAAABAgEAAAAAAAKB+QAAAAAAAcIdAAAAAAAAgh0AAAAAAAAB5QAAAAAAA4IBAAAAAAACwjUAAAAAAAHCXQAAAAAAAcJdAAAAAAADAgkAAAAAAAOCFQAAAAAAAoHRAAAAAAABAikAAAAAAAHCsQAAAAAAA4JpAAAAAAABAcEAAAAAAAFiWQAAAAAAAAHRAAAAAAABwh0AAAAAAAPiRQAAAAAAA0JZAAAAAAABgiEAAAAAAAFCJQAAAAAAAiJNAAAAAAABisUAAAAAAAIBxQAAAAAAAAJlAAAAAAABAgEAAAAAAAOCFQAAAAAAA8I5AAAAAAADghUAAAAAAAMByQAAAAAAAoIRAAAAAAACgfkAAAAAAAJCaQAAAAAAAUIRAAAAAAABAakAAAAAAAJSxQAAAAAAAQGpAAAAAAABAgEAAAAAAAOB1QAAAAAAAMJFAAAAAAAAAiUAAAAAAAISiQAAAAAAA2KhAAAAAAADwhEAAAAAAAKCOQAAAAAAAAI5AAAAAAACAa0AAAAAAALCDQAAAAAAAAIlAAAAAAACAcUAAAAAAAEB/QAAAAAAAEINAAAAAAAAwgUAAAAAAAHCHQAAAAAAA4JVAAAAAAABQhEAAAAAAAFibQAAAAAAAMJtAAAAAAACAYUAAAAAAADyuQAAAAAAAQHpAAAAAAAAAiUAAAAAAAFCEQAAAAAAAQH9AAAAAAADgdUAAAAAAALCYQAAAAAAAWJtAAAAAAACgfkAAAAAAAFCEQAAAAAAAMJtAAAAAAAAwgUAAAAAAAMByQAAAAAAAkIpAAAAAAABgeEAAAAAAALCdQAAAAAAAIIxAAAAAAABwl0AAAAAAAABpQAAAAAAAQI9AAAAAAACUsUAAAAAAAMB3QAAAAAAAIHJAAAAAAADghUAAAAAAAMCSQAAAAAAAwHJAAAAAAABAb0AAAAAAAAiRQAAAAAAAoHRAAAAAAACQikAAAAAAAEB/QAAAAAAAWJtAAAAAAADwjkAAAAAAAIijQAAAAAAAIIdAAAAAAACwmEAAAAAAAOCFQAAAAAAAwGdAAAAAAAAonkAAAAAAAJCKQAAAAAAAwJJAAAAAAACQikAAAAAAAPihQAAAAAAAlLFAAAAAAABAj0AAAAAAAKB+QAAAAAAAQH9AAAAAAABAb0AAAAAAAFirQAAAAAAAAIlAAAAAAAAgd0AAAAAAABCNQAAAAAAAQHVAAAAAAADAkkAAAAAAACByQAAAAAAAUIRAAAAAAAAAiUAAAAAAAFCEQAAAAAAAQHVAAAAAAADgdUAAAAAAANCGQAAAAAAACKFAAAAAAAAMokAAAAAAAFiRQAAAAAAAkJVAAAAAAABgjUAAAAAAAJicQAAAAAAAcJJAAAAAAACAgUAAAAAAAMByQAAAAAAAAIlAAAAAAADgdUAAAAAAAICBQAAAAAAAQJ9AAAAAAADAfEAAAAAAANiYQAAAAAAAIJxAAAAAAABIkkAAAAAAAJCgQAAAAAAAyJlAAAAAAAAAiUAAAAAAAOiXQAAAAAAA7KhAAAAAAAAwgUAAAAAAAHCnQAAAAAAAwJJAAAAAAACwiEAAAAAAAHCXQAAAAAAA4HVAAAAAAAAwkUAAAAAAAAB+QAAAAAAAcIdAAAAAAABwh0AAAAAAADCBQAAAAAAAIHxAAAAAAACAhkAAAAAAAHCHQAAAAAAAAGlAAAAAAACAe0AAAAAAAACZQAAAAAAAUJRAAAAAAACAlkAAAAAAAMByQAAAAAAA4HpAAAAAAABgfUAAAAAAAKCJQAAAAAAAgJtAAAAAAADAYkAAAAAAAACOQAAAAAAAQG9AAAAAAACwjUAAAAAAAKCEQAAAAAAAAI5AAAAAAABwh0AAAAAAAAB5QAAAAAAAsK1AAAAAAAAAZEAAAAAAAMCCQAAAAAAAiKNAAAAAAADgdUAAAAAAAMCSQAAAAAAAQH9AAAAAAAAwgUAAAAAAAABpQAAAAAAAkJpAAAAAAADQlkAAAAAAAMCSQAAAAAAAUIRAAAAAAAAwgUAAAAAAAMCSQAAAAAAA4IVAAAAAAADAckAAAAAAAHCHQAAAAAAAQIpAAAAAAABAb0AAAAAAAEBgQAAAAAAAwJJAAAAAAABAj0AAAAAAAECPQAAAAAAAwIJAAAAAAAAgjEAAAAAAAKimQAAAAAAAWJZAAAAAAABAf0AAAAAAAFCUQAAAAAAAkJpAAAAAAABAakAAAAAAADChQAAAAAAAAHlAAAAAAABwp0AAAAAAADCBQAAAAAAAwHdAAAAAAADQlkAAAAAAAECfQAAAAAAAFK5AAAAAAABgk0AAAAAAACB8QAAAAAAAyKlAAAAAAADQlkAAAAAAAACJQAAAAAAAkIVAAAAAAADAZ0AAAAAAAMiZQAAAAAAAgGZAAAAAAABgjUAAAAAAAECFQAAAAAAAcIJAAAAAAABQmUAAAAAAAMCCQAAAAAAA4HVAAAAAAAAwoUAAAAAAABiVQAAAAAAA6JxAAAAAAABYoUAAAAAAAMCCQAAAAAAA8IRAAAAAAAAAiUAAAAAAAJCKQAAAAAAAQJ9AAAAAAAAAeUAAAAAAAFCEQAAAAAAAoHRAAAAAAADAd0AAAAAAAIijQAAAAAAAwIJAAAAAAABAb0AAAAAAAOCVQAAAAAAAwIJAAAAAAAAwgUAAAAAAAMCSQAAAAAAAaJBAAAAAAAAAiUAAAAAAAMCiQAAAAAAAkIpAAAAAAACQikAAAAAAAHCnQAAAAAAAMIFAAAAAAABAekAAAAAAAMCSQAAAAAAAAHlAAAAAAAB8pUAAAAAAAICGQAAAAAAAUIRAAAAAAAAwgUAAAAAAABCIQAAAAAAAIHxAAAAAAAAQk0AAAAAAADiYQAAAAAAAKJRAAAAAAABgiEAAAAAAAKCJQAAAAAAA0ItAAAAAAAAgjEAAAAAAANCWQAAAAAAAYIhAAAAAAAB8pUAAAAAAACCMQAAAAAAAMJFAAAAAAACgfkAAAAAAADiYQAAAAAAAIHxAAAAAAADAh0AAAAAAAOiSQAAAAAAAMIFAAAAAAACwqEAAAAAAAAB5QAAAAAAA4HVAAAAAAABEoUAAAAAAADCRQAAAAAAAwIJAAAAAAAAwkUAAAAAAAABpQAAAAAAAQI9AAAAAAABAf0AAAAAAAMiuQAAAAAAAUIRAAAAAAADAgkAAAAAAAOB1QAAAAAAAcJdAAAAAAABgnUAAAAAAAMCCQAAAAAAAcIxAAAAAAABQhEAAAAAAAMCSQAAAAAAAIKJAAAAAAADAbEAAAAAAAMByQAAAAAAA0IZAAAAAAAAwkUAAAAAAAEB6QAAAAAAA4J9AAAAAAABgfUAAAAAAAOCFQAAAAAAAUIRAAAAAAADgcEAAAAAAADCBQAAAAAAACKFAAAAAAABYq0AAAAAAAMB3QAAAAAAAGJ9AAAAAAABYq0AAAAAAAMCiQAAAAAAAQK9AAAAAAABwgkAAAAAAACCMQAAAAAAA0ItAAAAAAACgeUAAAAAAAECPQAAAAAAAQIpAAAAAAADgmkAAAAAAAFCEQAAAAAAAQH9AAAAAAAAgd0AAAAAAAMCCQAAAAAAA4IVAAAAAAAAwgUAAAAAAAOB1QAAAAAAAIIxAAAAAAADQi0AAAAAAAEB/QAAAAAAAUIRAAAAAAADQkUAAAAAAAKiWQAAAAAAA0JZAAAAAAADMoEAAAAAAAEB/QAAAAAAAcIJAAAAAAAAQg0AAAAAAAPCEQAAAAAAAwIJAAAAAAABQiUAAAAAAAFCJQAAAAAAA4JBAAAAAAAB8pUAAAAAAAEBwQAAAAAAAIKJAAAAAAABAn0AAAAAAALCNQAAAAAAAIHxAAAAAAABAj0AAAAAAAGCNQAAAAAAAIIJAAAAAAABAdUAAAAAAAIBxQAAAAAAA4JpAAAAAAADwjkAAAAAAAHCHQAAAAAAAQIBAAAAAAADggEAAAAAAAEBvQAAAAAAAMIZAAAAAAADQgUAAAAAAABCNQAAAAAAAKJRAAAAAAABAgEAAAAAAAACJQAAAAAAAUIRAAAAAAAAAiUAAAAAAALCIQAAAAAAAIHxAAAAAAACIk0AAAAAAAJCaQAAAAAAA4HpAAAAAAAAAiUAAAAAAAECFQAAAAAAA4IVAAAAAAAAAeUAAAAAAAAB5QAAAAAAA8I5AAAAAAACwg0AAAAAAAMCSQAAAAAAAQHpAAAAAAABYq0AAAAAAAIB2QAAAAAAA8IRAAAAAAACwiEAAAAAAAMBsQAAAAAAAAIlAAAAAAAAAmUAAAAAAAPCZQAAAAAAA4HVAAAAAAAAolEAAAAAAAECPQAAAAAAAQI9AAAAAAABYm0AAAAAAAMByQAAAAAAAwGxAAAAAAAAgjEAAAAAAAIiTQAAAAAAAuJBAAAAAAAAEoEAAAAAAALCIQAAAAAAAAHRAAAAAAADAd0AAAAAAANCBQAAAAAAARKZAAAAAAABwh0AAAAAAAAB5QAAAAAAAiJNAAAAAAABwgkAAAAAAACCcQAAAAAAAiLNAAAAAAACAZkAAAAAAAHieQAAAAAAATK1AAAAAAABAn0AAAAAAAIizQAAAAAAAuJ9AAAAAAADgdUAAAAAAACB8QAAAAAAAyJlAAAAAAAD4kUAAAAAAAACJQAAAAAAAwHJAAAAAAADQlkAAAAAAAMByQAAAAAAAQIBAAAAAAACwjUAAAAAAACByQAAAAAAAAHlAAAAAAADAgkAAAAAAAEB/QAAAAAAAoHRAAAAAAABgc0AAAAAAANCBQAAAAAAAHKFAAAAAAACQn0AAAAAAAOCVQAAAAAAAUIlAAAAAAACIo0AAAAAAAABOQAAAAAAAiKNAAAAAAACQkEAAAAAAAHCcQAAAAAAAIHxAAAAAAAAAiUAAAAAAAOCAQAAAAAAAIHJAAAAAAADookAAAAAAAMCMQAAAAAAAUIRAAAAAAABAlUAAAAAAAACJQAAAAAAAAHlAAAAAAABYq0AAAAAAAIiTQAAAAAAAwHJAAAAAAABAf0AAAAAAAIBrQAAAAAAAQI9AAAAAAAA2sEAAAAAAAECVQAAAAAAAwHJAAAAAAADAgkAAAAAAAEBvQAAAAAAAgIZAAAAAAABAj0AAAAAAAEBvQAAAAAAA4H9AAAAAAACgeUAAAAAAAACZQAAAAAAAwJJAAAAAAABAf0AAAAAAAOCPQAAAAAAA+JFAAAAAAACwiEAAAAAAADCBQAAAAAAAIIxAAAAAAADAbEAAAAAAAMCCQAAAAAAAoH5AAAAAAABgo0AAAAAAANCLQAAAAAAAkIVAAAAAAADAkkAAAAAAAHCMQAAAAAAAQI9AAAAAAAAgnEAAAAAAAECPQAAAAAAASKxAAAAAAADAkkAAAAAAALCDQAAAAAAAMKFAAAAAAACUoUAAAAAAANCGQAAAAAAAIJJAAAAAAAAAWUAAAAAAAEB/QAAAAAAA8KlAAAAAAAAQqEAAAAAAAGB4QAAAAAAA0ItAAAAAAADgikAAAAAAAOB/QAAAAAAAoJlAAAAAAABwgkAAAAAAAPiRQAAAAAAAwHdAAAAAAACwjUAAAAAAACCMQAAAAAAAcJdAAAAAAAColkAAAAAAABiVQAAAAAAAcIdAAAAAAABAhUAAAAAAAMCCQAAAAAAAUIRAAAAAAADgdUAAAAAAAFibQAAAAAAAiJNAAAAAAABAj0AAAAAAAHCXQAAAAAAAUJRAAAAAAADUrEAAAAAAAKB+QAAAAAAAoJlAAAAAAABwgkAAAAAAAMBiQAAAAAAAwKJAAAAAAAAAiUAAAAAAABiQQAAAAAAAwIJAAAAAAAAgfEAAAAAAAGyhQAAAAAAAiJNAAAAAAACghEAAAAAAACCcQAAAAAAAcIJAAAAAAABAb0AAAAAAACCMQAAAAAAAgIFAAAAAAAAYlUAAAAAAAPCEQAAAAAAAAH5AAAAAAACIo0AAAAAAAMByQAAAAAAA4J9AAAAAAABAf0AAAAAAAHieQAAAAAAA4HVAAAAAAACAZkAAAAAAALCNQAAAAAAAQIBAAAAAAABwp0AAAAAAAHCSQAAAAAAAsI1AAAAAAAA4o0AAAAAAALCDQAAAAAAAwIJAAAAAAADAkkAAAAAAAMCSQAAAAAAAAGRAAAAAAADgdUAAAAAAALCIQAAAAAAAsINAAAAAAABYq0AAAAAAACB8QAAAAAAAIKxAAAAAAABInEAAAAAAAAB5QAAAAAAAQI9AAAAAAADghUAAAAAAAMB8QAAAAAAAYJNAAAAAAAAgd0AAAAAAAEB/QAAAAAAAQGVAAAAAAAAgckAAAAAAAAB5QAAAAAAAMItAAAAAAABwgkAAAAAAAAB+QAAAAAAAGJ9AAAAAAABgiEAAAAAAAFCEQAAAAAAAUJRAAAAAAAAgkkAAAAAAAKiWQAAAAAAAIHxAAAAAAADQgUAAAAAAACCMQAAAAAAAKJRAAAAAAABwl0AAAAAAAOicQAAAAAAAqJZAAAAAAAAQg0AAAAAAAEBqQAAAAAAAgHtAAAAAAACAlkAAAAAAAIBmQAAAAAAA8I5AAAAAAABokEAAAAAAADChQAAAAAAA4IVAAAAAAABwl0AAAAAAAIB2QAAAAAAAgGZAAAAAAABgc0AAAAAAAOB1QAAAAAAA4IVAAAAAAAAolEAAAAAAAIBWQAAAAAAAsI1AAAAAAAAAaUAAAAAAAAB5QAAAAAAAwHJAAAAAAACQgEAAAAAAAEBvQAAAAAAA4HVAAAAAAABQiUAAAAAAAACJQAAAAAAAaLBAAAAAAACIk0AAAAAAAAB+QAAAAAAAGJVAAAAAAABwh0AAAAAAAFCOQAAAAAAAsI1AAAAAAADgdUAAAAAAAHCXQAAAAAAAQG9AAAAAAABwp0AAAAAAAIiTQAAAAAAAQHBAAAAAAAAAVEAAAAAAAOCFQAAAAAAAqKZAAAAAAABAf0AAAAAAACByQAAAAAAAUIRAAAAAAAAAeUAAAAAAAGCNQAAAAAAAQI9AAAAAAAAQiEAAAAAAACCHQAAAAAAA4IVAAAAAAACgeUAAAAAAAMByQAAAAAAAoH5AAAAAAADAgkAAAAAAAHCXQAAAAAAAQG9AAAAAAABAf0AAAAAAAAB+QAAAAAAAQGpAAAAAAABAr0AAAAAAAMBnQAAAAAAAIIdAAAAAAABAr0AAAAAAAOCFQAAAAAAAAIlAAAAAAADAgkAAAAAAAKibQAAAAAAAJLNAAAAAAADQlkAAAAAAAEBvQAAAAAAAQI9AAAAAAABgc0AAAAAAADCRQAAAAAAAwIJAAAAAAABAj0AAAAAAACSjQAAAAAAAQGBAAAAAAACQgEAAAAAAAFiWQAAAAAAAgKFAAAAAAABwgkAAAAAAACCMQAAAAAAAQH9AAAAAAADIqUAAAAAAAHCSQAAAAAAAgIZAAAAAAABwl0AAAAAAADCBQAAAAAAAEJNAAAAAAACQhUAAAAAAACB8QAAAAAAA0JFAAAAAAABwh0AAAAAAAMB8QAAAAAAAMIZAAAAAAADQlkAAAAAAALCNQAAAAAAAAGlAAAAAAABwp0AAAAAAAFCUQAAAAAAAMIFAAAAAAAAIkUAAAAAAAECFQAAAAAAAQHpAAAAAAACgeUAAAAAAAHCHQAAAAAAAsI1AAAAAAACghEAAAAAAADCLQAAAAAAA8JlAAAAAAADgdUAAAAAAAHCCQAAAAAAA4I9AAAAAAAAYkEAAAAAAAPCOQAAAAAAAEI1AAAAAAADgikAAAAAAAECvQAAAAAAAoH5AAAAAAADghUAAAAAAAJinQAAAAAAAwIJAAAAAAACwnUAAAAAAANCBQAAAAAAAwHJAAAAAAADYmEAAAAAAAEiXQAAAAAAAAHlAAAAAAACYl0AAAAAAAOCFQAAAAAAAwIJAAAAAAAAAmUAAAAAAAFCUQAAAAAAAwIJAAAAAAABwh0AAAAAAAOCPQAAAAAAAAH5AAAAAAAAAWUAAAAAAAIB7QAAAAAAAfKVAAAAAAADQlkAAAAAAAECPQAAAAAAAIKxAAAAAAADAd0AAAAAAADCBQAAAAAAAwJJAAAAAAACQikAAAAAAAJCKQAAAAAAAQKBAAAAAAABwh0AAAAAAANCWQAAAAAAA4IVAAAAAAADImUAAAAAAAACJQAAAAAAAIIxAAAAAAABwh0AAAAAAAFibQAAAAAAAwIJAAAAAAAAAiUAAAAAAAICGQAAAAAAAwIJAAAAAAADAh0AAAAAAAMByQAAAAAAAUJRAAAAAAADQlkAAAAAAAACJQAAAAAAAIHxAAAAAAABQhEAAAAAAAECPQAAAAAAAfKVAAAAAAACwiEAAAAAAAICBQAAAAAAAUIRAAAAAAAAgfEAAAAAAALCNQAAAAAAAkIVAAAAAAADQlkAAAAAAAEBvQAAAAAAAiKNAAAAAAABQhEAAAAAAAOBwQAAAAAAAYJ1AAAAAAACQhUAAAAAAADCWQAAAAAAAUIRAAAAAAADAYkAAAAAAABiQQAAAAAAAkIVAAAAAAADQi0AAAAAAADCBQAAAAAAA4HVAAAAAAADQm0AAAAAAAFCEQAAAAAAAoJRAAAAAAABgfUAAAAAAAMCCQAAAAAAAAIlAAAAAAAAAfkAAAAAAANCRQAAAAAAAQH9AAAAAAAAAeUAAAAAAAECQQAAAAAAAsI1AAAAAAABAj0AAAAAAANCBQAAAAAAAEI1AAAAAAABQjkAAAAAAAACJQAAAAAAAQG9AAAAAAAAgfEAAAAAAAMCCQAAAAAAAQG9AAAAAAAAAeUAAAAAAANCGQAAAAAAAcJdAAAAAAABQhEAAAAAAAEB/QAAAAAAAoIRAAAAAAACgfkAAAAAAAECQQAAAAAAAcJdAAAAAAADAgkAAAAAAAAB5QAAAAAAAkIpAAAAAAACIs0AAAAAAAOB/QAAAAAAAcJJAAAAAAAAAeUAAAAAAAAB+QAAAAAAAEIhAAAAAAAB+s0AAAAAAAECfQAAAAAAAcJdAAAAAAACwjUAAAAAAAEB/QAAAAAAAcIdAAAAAAABAj0AAAAAAAHCHQAAAAAAAwHJAAAAAAABAn0AAAAAAAECPQAAAAAAAAIlAAAAAAABAgEAAAAAAAMB3QAAAAAAA4HVAAAAAAACQhUAAAAAAAMCCQAAAAAAAYHhAAAAAAAAAeUAAAAAAAAB5QAAAAAAAMJFAAAAAAABAj0AAAAAAAKB0QAAAAAAAAHlAAAAAAABAYEAAAAAAAMCCQAAAAAAA+JFAAAAAAABAf0AAAAAAAACZQAAAAAAAwIJAAAAAAADAd0AAAAAAAEB/QAAAAAAAAJRAAAAAAABokEAAAAAAAMCCQAAAAAAAfKpAAAAAAADgkEAAAAAAAECvQAAAAAAAIJxAAAAAAABcrEAAAAAAABCTQAAAAAAAAJ5AAAAAAABAb0AAAAAAAICBQAAAAAAAtKRAAAAAAABQlEAAAAAAAACUQAAAAAAAQKpAAAAAAAAwgUAAAAAAAACJQAAAAAAAaJVAAAAAAABQiUAAAAAAAGB9QAAAAAAA4IBAAAAAAABgeEAAAAAAAPCUQAAAAAAAwIJAAAAAAADAgkAAAAAAACCMQAAAAAAAaKBAAAAAAABAj0AAAAAAAAB5QAAAAAAAIIxAAAAAAABAb0AAAAAAACCMQAAAAAAAwHJAAAAAAACQikAAAAAAAAB5QAAAAAAAQI9AAAAAAAAAlEAAAAAAACSzQAAAAAAAgGFAAAAAAAA0rEAAAAAAAOB6QAAAAAAAMJZAAAAAAAAgjEAAAAAAAHCCQAAAAAAAiJNAAAAAAABQhEAAAAAAAACZQAAAAAAAAHlAAAAAAABEsUAAAAAAAFCEQAAAAAAAKJlAAAAAAADAgkAAAAAAACB8QAAAAAAA+JFAAAAAAADwhEAAAAAAANCGQAAAAAAAwIxAAAAAAADQhkAAAAAAAICGQAAAAAAAUI5AAAAAAACwiEAAAAAAAPCJQAAAAAAAAIRAAAAAAADokkAAAAAAAECvQAAAAAAAQJ9AAAAAAACwiEAAAAAAAHCHQAAAAAAAMIZAAAAAAADghUAAAAAAADCBQAAAAAAA4JBAAAAAAABAb0AAAAAAAFCUQAAAAAAAoHlAAAAAAACQmkAAAAAAAGBzQAAAAAAA4JBAAAAAAABwl0AAAAAAAOCFQAAAAAAAkIpAAAAAAABwh0AAAAAAAJCAQAAAAAAAQK9AAAAAAAAwgUAAAAAAAMBiQAAAAAAAAIlAAAAAAAAAiUAAAAAAAMCSQAAAAAAAQG9AAAAAAACwk0AAAAAAAECfQAAAAAAAUJ5AAAAAAADQlkAAAAAAAJisQAAAAAAAsKhAAAAAAAAMokAAAAAAAMCCQAAAAAAAkIpAAAAAAACIk0AAAAAAAABpQAAAAAAAYH1AAAAAAABAn0AAAAAAACiUQAAAAAAAMIFAAAAAAADAgkAAAAAAAMCCQAAAAAAAQK9AAAAAAAD0qkAAAAAAAMiZQAAAAAAA8IlAAAAAAAAAiUAAAAAAAMCCQAAAAAAAYHhAAAAAAABAekAAAAAAALCDQAAAAAAAQJ9AAAAAAADQgUAAAAAAADChQAAAAAAA4JVAAAAAAADAgkAAAAAAAMByQAAAAAAAAHlAAAAAAABwnEAAAAAAAECPQAAAAAAA4IVAAAAAAACQikAAAAAAAFCJQAAAAAAAAJRAAAAAAACwjUAAAAAAAMCHQAAAAAAAQIpAAAAAAAAQiEAAAAAAAMCHQAAAAAAAsINAAAAAAABgg0AAAAAAABCDQAAAAAAAwIJAAAAAAACIs0AAAAAAABiQQAAAAAAAiLNAAAAAAABAj0AAAAAAAMByQAAAAAAAaKBAAAAAAAAQjUAAAAAAACB8QAAAAAAAQG9AAAAAAACzs0AAAAAAAACEQAAAAAAAQI9AAAAAAACQlUAAAAAAAFCEQAAAAAAAMKFAAAAAAABAf0AAAAAAABCNQAAAAAAAQH9AAAAAAADAckAAAAAAAABpQAAAAAAAcJdAAAAAAABAj0AAAAAAADiYQAAAAAAA0IZAAAAAAAAwkUAAAAAAAHygQAAAAAAAQI9AAAAAAABwp0AAAAAAAHCXQAAAAAAAIJJAAAAAAADwjkAAAAAAAHCSQAAAAAAAwJdAAAAAAAAgjEAAAAAAACCMQAAAAAAAcIdAAAAAAABAn0AAAAAAAPCOQAAAAAAAgIFAAAAAAADQi0AAAAAAAJCKQAAAAAAAIJxAAAAAAADQi0AAAAAAAFCOQAAAAAAAcKdAAAAAAABgeEAAAAAAAHCCQAAAAAAAgItAAAAAAACQikAAAAAAAIizQAAAAAAAYJNAAAAAAABUpUAAAAAAAABuQAAAAAAAwIJAAAAAAADAZ0AAAAAAAMByQAAAAAAAMIFAAAAAAAAAdEAAAAAAACCMQAAAAAAAIIxAAAAAAAB4rkAAAAAAAFirQAAAAAAAkJpAAAAAAABQmUAAAAAAAMCCQAAAAAAAiKNAAAAAAABAj0AAAAAAAEB/QAAAAAAA4HVAAAAAAADAkkAAAAAAAMByQAAAAAAAwIJAAAAAAAAgnEAAAAAAAOiSQAAAAAAAUIRAAAAAAADghUAAAAAAAFCUQAAAAAAAQJ9AAAAAAAAwgUAAAAAAAACJQAAAAAAAAIRAAAAAAAAAhEAAAAAAACB8QAAAAAAAIHxAAAAAAABwgkAAAAAAAIiYQAAAAAAASJdAAAAAAADghUAAAAAAADCRQAAAAAAAwIJAAAAAAADAgkAAAAAAABSuQAAAAAAA4JVAAAAAAABAdUAAAAAAAFCEQAAAAAAAwHJAAAAAAABAdUAAAAAAANiTQAAAAAAAoHlAAAAAAACIo0AAAAAAAECPQAAAAAAAIHxAAAAAAACIo0AAAAAAAEB/QAAAAAAAQG9AAAAAAADAckAAAAAAADSXQAAAAAAAwHJAAAAAAACwiEAAAAAAAEB1QAAAAAAAwIJAAAAAAADghUAAAAAAAGiQQAAAAAAAwJJAAAAAAAAwgUAAAAAAAOCAQAAAAAAAMIFAAAAAAAAwkUAAAAAAANCLQAAAAAAAuJVAAAAAAADghUAAAAAAAPCEQAAAAAAAsINAAAAAAAAgfEAAAAAAAIidQAAAAAAAkIVAAAAAAAD4kUAAAAAAADCRQAAAAAAAQI9AAAAAAADQi0AAAAAAAFCEQAAAAAAA+JFAAAAAAAAwgUAAAAAAAHCnQAAAAAAAcIJAAAAAAABAj0AAAAAAALiVQAAAAAAAUJRAAAAAAACAcUAAAAAAAECPQAAAAAAAAHlAAAAAAAAAeUAAAAAAAOCFQAAAAAAA4JVAAAAAAABAr0AAAAAAAEB6QAAAAAAAIHxAAAAAAAAAhEAAAAAAAFiRQAAAAAAAaJ9AAAAAAADghUAAAAAAAECfQAAAAAAAwGJAAAAAAABwl0AAAAAAAOCVQAAAAAAAQI9AAAAAAABAf0AAAAAAAHCCQAAAAAAAwJJAAAAAAAAAaUAAAAAAAOCAQAAAAAAAwHJAAAAAAAAIlkAAAAAAAFCJQAAAAAAAQI9AAAAAAABAj0AAAAAAAECfQAAAAAAAQI9AAAAAAAAYn0AAAAAAAOB1QAAAAAAAQG9AAAAAAABQhEAAAAAAAJCKQAAAAAAA4IVAAAAAAAAAiUAAAAAAAOCFQAAAAAAAkIVAAAAAAAAwgUAAAAAAAACJQAAAAAAA4JVAAAAAAABAn0AAAAAAAHylQAAAAAAAcJdAAAAAAABgg0AAAAAAAMCCQAAAAAAAIJxAAAAAAADQlkAAAAAAAACJQAAAAAAAoHlAAAAAAAAAbkAAAAAAAOCFQAAAAAAAwIJAAAAAAAAgh0AAAAAAAMCiQAAAAAAAUIRAAAAAAADgdUAAAAAAAMCMQAAAAAAAQH9AAAAAAABAj0AAAAAAAEBqQAAAAAAAwIJAAAAAAABgmEAAAAAAAMBsQAAAAAAA4IVAAAAAAADAgkAAAAAAAAB5QAAAAAAAcJdAAAAAAABQhEAAAAAAAMByQAAAAAAAwJJAAAAAAACImEAAAAAAAJCVQAAAAAAAQH9AAAAAAACwnUAAAAAAACB8QAAAAAAAcJdAAAAAAAAwkUAAAAAAAGBzQAAAAAAA0IZAAAAAAAAQiEAAAAAAAEB/QAAAAAAAAIlAAAAAAABAj0AAAAAAAMCCQAAAAAAAoIRAAAAAAADol0AAAAAAAGiQQAAAAAAAYHhAAAAAAAAAdEAAAAAAAHCXQAAAAAAA4JVAAAAAAAAYmkAAAAAAAOB1QAAAAAAA4HVAAAAAAACUoUAAAAAAAOBwQAAAAAAAAGlAAAAAAADgdUAAAAAAAOB1QAAAAAAAMIFAAAAAAADwnkAAAAAAACCMQAAAAAAAQH9AAAAAAABYm0AAAAAAACB8QAAAAAAAiJNAAAAAAADQlkAAAAAAAIBmQAAAAAAAAHRAAAAAAABAakAAAAAAAIizQAAAAAAAoIRAAAAAAABAj0AAAAAAAJCKQAAAAAAA+KFAAAAAAADAckAAAAAAAABpQAAAAAAAwHJAAAAAAAAAeUAAAAAAAHCCQAAAAAAAgHFAAAAAAAAAeUAAAAAAAEBvQAAAAAAAgHtAAAAAAABYq0AAAAAAAPCEQAAAAAAAjrJAAAAAAABAj0AAAAAAACCCQAAAAAAAiLNAAAAAAABgg0AAAAAAAHCnQAAAAAAAQG9AAAAAAAC4oEAAAAAAAMygQAAAAAAAAHlAAAAAAACAa0AAAAAAAMB3QAAAAAAAgHZAAAAAAABAn0AAAAAAAKiWQAAAAAAAXKJAAAAAAABAj0AAAAAAAHCXQAAAAAAAcJJAAAAAAAA4k0AAAAAAAOCFQAAAAAAAwHJAAAAAAADglUAAAAAAAGiQQAAAAAAAQJ9AAAAAAAAAiUAAAAAAAGCIQAAAAAAA4IVAAAAAAABAikAAAAAAAMByQAAAAAAAIHxAAAAAAADQi0AAAAAAAMByQAAAAAAAAKlAAAAAAACwjUAAAAAAADCRQAAAAAAAQG9AAAAAAAAgjEAAAAAAAECPQAAAAAAAcJdAAAAAAADAgkAAAAAAAECvQAAAAAAA0IFAAAAAAADIqUAAAAAAAOB1QAAAAAAAQG9AAAAAAACwjUAAAAAAAPCOQAAAAAAAwHJAAAAAAABwh0AAAAAAAHCXQAAAAAAAQJ9AAAAAAAAwhkAAAAAAAEB/QAAAAAAA4HVAAAAAAACIk0AAAAAAAMCSQAAAAAAAIHxAAAAAAADwjkAAAAAAAABkQAAAAAAAAHlAAAAAAAD4kUAAAAAAAEB/QAAAAAAAcJdAAAAAAAAAiUAAAAAAACCMQAAAAAAAAIlAAAAAAAAAmUAAAAAAAOBwQAAAAAAA4HBAAAAAAACQhUAAAAAAAPCOQAAAAAAA4IVAAAAAAADAYkAAAAAAAEB/QAAAAAAAAGlAAAAAAABAf0AAAAAAAEBvQAAAAAAAIHxAAAAAAABwh0AAAAAAAECPQAAAAAAAhKJAAAAAAAD4kUAAAAAAADCRQAAAAAAAQI9AAAAAAADAskAAAAAAACB8QAAAAAAAAIlAAAAAAADghUAAAAAAAEBvQAAAAAAAwJJAAAAAAABgk0AAAAAAAKB+QAAAAAAAoH5AAAAAAADwjkAAAAAAAACJQAAAAAAAsI1AAAAAAAAAmUAAAAAAAECPQAAAAAAAQI9AAAAAAAAAdEAAAAAAAOShQAAAAAAAAHlAAAAAAACwnUAAAAAAAJCKQAAAAAAAIHxAAAAAAAAAiUAAAAAAADCRQAAAAAAAwHJAAAAAAACAZkAAAAAAAMCCQAAAAAAAQG9AAAAAAADgdUAAAAAAAOB1QAAAAAAAgGtAAAAAAABwgkAAAAAAAMByQAAAAAAAwIJAAAAAAADQkUAAAAAAACB8QAAAAAAAAIlAAAAAAAAko0AAAAAAAMCCQAAAAAAAQH9AAAAAAABInEAAAAAAACB8QAAAAAAAAG5AAAAAAABAf0AAAAAAAEB/QAAAAAAAAGlAAAAAAACwjUAAAAAAACB8QAAAAAAAQK9AAAAAAABAf0AAAAAAACB3QAAAAAAAgHFAAAAAAAAggkAAAAAAADCBQAAAAAAAMJFAAAAAAAAAaUAAAAAAAEBvQAAAAAAAgJFAAAAAAABwp0AAAAAAAAB5QAAAAAAAAGRAAAAAAACQikAAAAAAAICGQAAAAAAAoH5AAAAAAAAgjEAAAAAAAEBlQAAAAAAAAG5AAAAAAAAAiUAAAAAAAOB1QAAAAAAAMIFAAAAAAAAAeUAAAAAAAMBnQAAAAAAAQJ9AAAAAAADAgkAAAAAAAIiTQAAAAAAA4IVAAAAAAABAf0AAAAAAAAiRQAAAAAAAUIRAAAAAAABAb0AAAAAAAABZQAAAAAAA9KBAAAAAAABAekAAAAAAAHieQAAAAAAAgGtAAAAAAAAgjEAAAAAAADCBQAAAAAAAUIRAAAAAAAAwgUAAAAAAAJCqQAAAAAAAIIxAAAAAAABAn0AAAAAAAJCaQAAAAAAAtKRAAAAAAADAgkAAAAAAACCMQAAAAAAA8I5AAAAAAABgiEAAAAAAAGCIQAAAAAAAoI5AAAAAAACIk0AAAAAAAMByQAAAAAAAmJJAAAAAAADAgkAAAAAAACB3QAAAAAAAwHJAAAAAAACgjkAAAAAAAJCaQAAAAAAAwIJAAAAAAACQikAAAAAAAMCCQAAAAAAAwHdAAAAAAACgdEAAAAAAACB8QAAAAAAAwHdAAAAAAADAkkAAAAAAAEB/QAAAAAAAWKtAAAAAAABAf0AAAAAAAMByQAAAAAAAgGtAAAAAAACQmkAAAAAAAMCCQAAAAAAAoHRAAAAAAAAAaUAAAAAAAEBvQAAAAAAAAHlAAAAAAAAgjEAAAAAAAAB0QAAAAAAAQH9AAAAAAABwgkAAAAAAAMCCQAAAAAAAwHdAAAAAAAAwoUAAAAAAAABkQAAAAAAAgKZAAAAAAADUokAAAAAAADidQAAAAAAAsJNAAAAAAAB4qUAAAAAAADCRQAAAAAAAaJVAAAAAAADsrUAAAAAAALiVQAAAAAAAbKFAAAAAAACwnUAAAAAAAECVQAAAAAAA4JBAAAAAAADglUAAAAAAAJCgQAAAAAAAHKZAAAAAAADYmEAAAAAAABifQAAAAAAAAIRAAAAAAAAwlkAAAAAAAOB/QAAAAAAAkIpAAAAAAADAZ0AAAAAAACiUQAAAAAAAwIJAAAAAAABAZUAAAAAAACB8QAAAAAAAYHhAAAAAAABAb0AAAAAAAIBhQAAAAAAAtKRAAAAAAADgf0AAAAAAABCDQAAAAAAAQH9AAAAAAAB4mUAAAAAAAFSgQAAAAAAAQH9AAAAAAACusEAAAAAAAFCEQAAAAAAAcJdAAAAAAADAgkAAAAAAAPCOQAAAAAAAkJVAAAAAAADgekAAAAAAAAB5QAAAAAAAYHhAAAAAAABgk0AAAAAAAFCEQAAAAAAAIJdAAAAAAACAlkAAAAAAAEBvQAAAAAAAXKJAAAAAAABAgEAAAAAAAECvQAAAAAAAIHJAAAAAAADQgUAAAAAAAEBlQAAAAAAAXKJAAAAAAABEq0AAAAAAAMB3QAAAAAAAQI9AAAAAAADAckAAAAAAAGCTQAAAAAAAzKBAAAAAAACwjUAAAAAAAJCAQAAAAAAAoH5AAAAAAABwh0AAAAAAAOB1QAAAAAAAfKVAAAAAAABgeEAAAAAAAACJQAAAAAAAAHlAAAAAAABwl0AAAAAAAOB/QAAAAAAAwHdAAAAAAADAbEAAAAAAAMCCQAAAAAAAAHlAAAAAAACAkUAAAAAAAFCOQAAAAAAAQHpAAAAAAAC0pEAAAAAAAKCJQAAAAAAAoH5AAAAAAADgcEAAAAAAAFCEQAAAAAAAsINAAAAAAABwl0AAAAAAAEBvQAAAAAAAIHxAAAAAAAAwsUAAAAAAAKCJQAAAAAAA8IlAAAAAAABAhUAAAAAAACB8QAAAAAAA4IVAAAAAAACgeUAAAAAAACCMQAAAAAAAAHlAAAAAAACAcUAAAAAAAEBvQAAAAAAAAIlAAAAAAACAa0AAAAAAACCMQAAAAAAAQJ9AAAAAAADonEAAAAAAAEiXQAAAAAAA4I9AAAAAAAAgnEAAAAAAAJCFQAAAAAAA9KVAAAAAAADgkEAAAAAAADCRQAAAAAAAwGxAAAAAAABAekAAAAAAAFiWQAAAAAAAkIVAAAAAAABgeEAAAAAAAECVQAAAAAAA+JtAAAAAAABgk0AAAAAAAACeQAAAAAAAyJRAAAAAAAAQjUAAAAAAAAiRQAAAAAAAUIRAAAAAAABIp0AAAAAAACB8QAAAAAAAwHdAAAAAAAAwgUAAAAAAAFCUQAAAAAAAwHJAAAAAAAB4nkAAAAAAAABUQAAAAAAAAFRAAAAAAAAgjEAAAAAAAECPQAAAAAAAcIJAAAAAAADggEAAAAAAACByQAAAAAAAgHFAAAAAAADwpEAAAAAAAKB+QAAAAAAAIIxAAAAAAAAAiUAAAAAAAFynQAAAAAAAuKBAAAAAAACAa0AAAAAAAHCXQAAAAAAA4JpAAAAAAABAj0AAAAAAACB8QAAAAAAAMIFAAAAAAAAgfEAAAAAAAGigQAAAAAAAQKpAAAAAAADgcEAAAAAAAKB+QAAAAAAA0IFAAAAAAABAf0AAAAAAAMCSQAAAAAAAkIBAAAAAAADgcEAAAAAAAHieQAAAAAAAzKBAAAAAAADAgkAAAAAAACB8QAAAAAAAcIdAAAAAAABAr0AAAAAAAJCAQAAAAAAAAH5AAAAAAADAgkAAAAAAAAB5QAAAAAAA8JlAAAAAAACIk0AAAAAAAABpQAAAAAAAGJBAAAAAAAAAXkAAAAAAAMByQAAAAAAA4IVAAAAAAADAgkAAAAAAABCIQAAAAAAAaKBAAAAAAAAMp0AAAAAAAFCEQAAAAAAAIHxAAAAAAACgnkAAAAAAAJCFQAAAAAAAYJhAAAAAAADwjkAAAAAAAHCHQAAAAAAAwGdAAAAAAABAf0AAAAAAAEB/QAAAAAAAMIFAAAAAAACgeUAAAAAAACB8QAAAAAAAIIxAAAAAAACIk0AAAAAAAAB+QAAAAAAA0ItAAAAAAABAb0AAAAAAAEBvQAAAAAAA4JVAAAAAAABgg0AAAAAAANCGQAAAAAAAkJpAAAAAAADAjEAAAAAAACCMQAAAAAAAkIpAAAAAAABwh0AAAAAAACCMQAAAAAAAIIxAAAAAAACwiEAAAAAAADCBQAAAAAAAYHhAAAAAAABAb0AAAAAAAIBxQAAAAAAAQHBAAAAAAABAikAAAAAAACCSQAAAAAAAiJNAAAAAAADAZ0AAAAAAAEBlQAAAAAAAAHlAAAAAAACwrUAAAAAAAMCiQAAAAAAAgGtAAAAAAAAAaUAAAAAAAFCUQAAAAAAAAG5AAAAAAAAgjEAAAAAAAACJQAAAAAAAwKxAAAAAAABQhEAAAAAAAECPQAAAAAAAAIlAAAAAAAAko0AAAAAAAMCCQAAAAAAAwIJAAAAAAAD4kUAAAAAAAEiXQAAAAAAAQH9AAAAAAADgdUAAAAAAADCGQAAAAAAA4IVAAAAAAABAcEAAAAAAALCdQAAAAAAAaKVAAAAAAABolUAAAAAAACB8QAAAAAAAAIlAAAAAAACYkkAAAAAAAOCQQAAAAAAAIIxAAAAAAAAgh0AAAAAAABCTQAAAAAAAwIJAAAAAAACkpUAAAAAAAICbQAAAAAAAAHlAAAAAAABAf0AAAAAAAMByQAAAAAAAMIFAAAAAAABgiEAAAAAAAKB5QAAAAAAAAHlAAAAAAADgdUAAAAAAANiTQAAAAAAAIJJAAAAAAADgikAAAAAAAMBiQAAAAAAAcJdAAAAAAAAwlkAAAAAAAEB/QAAAAAAAIJJAAAAAAADQhkAAAAAAAEB/QAAAAAAApKVAAAAAAACgfkAAAAAAALiqQAAAAAAAVKBAAAAAAADAckAAAAAAAACUQAAAAAAA4HVAAAAAAABwl0AAAAAAAOB1QAAAAAAAIHxAAAAAAAAAmUAAAAAAAMCCQAAAAAAAcIdAAAAAAABIkkAAAAAAAKSgQAAAAAAAsJhAAAAAAADgcEAAAAAAAMCCQAAAAAAAgIFAAAAAAAAgkkAAAAAAACCXQAAAAAAAMIFAAAAAAABInEAAAAAAADiTQAAAAAAAIHJAAAAAAACQikAAAAAAAEBvQAAAAAAAIHdAAAAAAABwl0AAAAAAAGCYQAAAAAAAQHpAAAAAAABokEAAAAAAAHCXQAAAAAAADKJAAAAAAAAgd0AAAAAAAMB8QAAAAAAAIHxAAAAAAABwh0AAAAAAAHCHQAAAAAAAQJBAAAAAAABgeEAAAAAAAFirQAAAAAAAwHdAAAAAAAAAWUAAAAAAAOCFQAAAAAAAAGlAAAAAAACAZkAAAAAAADCBQAAAAAAA8IlAAAAAAADAgkAAAAAAAICLQAAAAAAA7KhAAAAAAACQhUAAAAAAAPCZQAAAAAAAIIxAAAAAAADAkkAAAAAAAMCCQAAAAAAASKJAAAAAAACYp0AAAAAAACCcQAAAAAAANKxAAAAAAADgf0AAAAAAAGCYQAAAAAAAGJpAAAAAAACQmkAAAAAAAFCEQAAAAAAATKhAAAAAAAAomUAAAAAAAKCZQAAAAAAAIJJAAAAAAADwjkAAAAAAAFCEQAAAAAAAQG9AAAAAAAAYlUAAAAAAAMByQAAAAAAAAIlAAAAAAACIk0AAAAAAAEBwQAAAAAAAUIRAAAAAAADgdUAAAAAAAJCAQAAAAAAA4IVAAAAAAAAgfEAAAAAAAMCSQAAAAAAAQGBAAAAAAAB4lEAAAAAAAMSjQAAAAAAA0JZAAAAAAAAgkkAAAAAAAICLQAAAAAAAyKRAAAAAAADgdUAAAAAAAACUQAAAAAAA+JZAAAAAAACokUAAAAAAAMByQAAAAAAAMIZAAAAAAAAgfEAAAAAAACCHQAAAAAAAAH5AAAAAAAAgnEAAAAAAAIizQAAAAAAAYHNAAAAAAABAcEAAAAAAAECKQAAAAAAAAH5AAAAAAACIo0AAAAAAAOB1QAAAAAAALKBAAAAAAABAn0AAAAAAABCDQAAAAAAAmJJAAAAAAAAgkkAAAAAAAOCFQAAAAAAAwHxAAAAAAACwk0AAAAAAAJiSQAAAAAAAcIdAAAAAAACwnUAAAAAAAJiXQAAAAAAAmJJAAAAAAAAgh0AAAAAAABSkQAAAAAAAwIJAAAAAAABAb0AAAAAAAESmQAAAAAAA4I9AAAAAAACAcUAAAAAAAMBnQAAAAAAAwJJAAAAAAACIs0AAAAAAAACEQAAAAAAAgIZAAAAAAACIk0AAAAAAACCCQAAAAAAAAHRAAAAAAADgekAAAAAAADCRQAAAAAAAQHpAAAAAAACQikAAAAAAAFirQAAAAAAAAGlAAAAAAAAgd0AAAAAAAAB0QAAAAAAAwGJAAAAAAADYmEAAAAAAAPCOQAAAAAAA4I9AAAAAAACwjUAAAAAAAOiSQAAAAAAAIIxAAAAAAACwjUAAAAAAAEB/QAAAAAAAwHxAAAAAAAAgfEAAAAAAAECPQAAAAAAA4H9AAAAAAACwnUAAAAAAAMCCQAAAAAAAiKNAAAAAAABAj0AAAAAAAMiZQAAAAAAAiLNAAAAAAACAe0AAAAAAAHCHQAAAAAAA+JtAAAAAAABsoUAAAAAAAJCQQAAAAAAA0JZAAAAAAACAZkAAAAAAAABpQAAAAAAA0JZAAAAAAADAkkAAAAAAAEBgQAAAAAAAkIVAAAAAAABQhEAAAAAAAECqQAAAAAAAkIpAAAAAAABwh0AAAAAAAMCCQAAAAAAA0JZAAAAAAADQlkAAAAAAAGiVQAAAAAAAvKFAAAAAAADAp0AAAAAAAACJQAAAAAAAcKdAAAAAAAAomUAAAAAAAIiTQAAAAAAAvKFAAAAAAABAf0AAAAAAAECPQAAAAAAAQH9AAAAAAABAj0AAAAAAAACJQAAAAAAAKKRAAAAAAABAhUAAAAAAADCGQAAAAAAAgGFAAAAAAABwl0AAAAAAABCdQAAAAAAAgGZAAAAAAACAYUAAAAAAADCGQAAAAAAAwIJAAAAAAABAf0AAAAAAAJCFQAAAAAAAQGpAAAAAAAAAeUAAAAAAAABuQAAAAAAAgGtAAAAAAAAAWUAAAAAAAFCEQAAAAAAAQG9AAAAAAABAcEAAAAAAAOBwQAAAAAAAcIdAAAAAAAAAeUAAAAAAAEB6QAAAAAAAAIlAAAAAAAAQg0AAAAAAAACJQAAAAAAAQHBAAAAAAAAQiEAAAAAAAABpQAAAAAAA4HBAAAAAAACgfkAAAAAAANCGQAAAAAAALKBAAAAAAABQiUAAAAAAAHCHQAAAAAAAwIJAAAAAAAAgkkAAAAAAADCWQAAAAAAA4IpAAAAAAAAAXkAAAAAAAECKQAAAAAAAQG9AAAAAAABAf0AAAAAAACiZQAAAAAAAnKhAAAAAAACwmEAAAAAAAMBiQAAAAAAAUIRAAAAAAADghUAAAAAAAFCEQAAAAAAAIHdAAAAAAADQlkAAAAAAAPiRQAAAAAAAQG9AAAAAAADAgkAAAAAAAOCfQAAAAAAAOKNAAAAAAAAwkUAAAAAAAEiXQAAAAAAAwGxAAAAAAADgkEAAAAAAAOB1QAAAAAAA+JtAAAAAAAAAbkAAAAAAAECPQAAAAAAAwIJAAAAAAACQhUAAAAAAALCIQAAAAAAAIHxAAAAAAABQlEAAAAAAAOCFQAAAAAAAYINAAAAAAACIk0AAAAAAAICRQAAAAAAA8IlAAAAAAAAgfEAAAAAAACCHQAAAAAAAUJRAAAAAAAAAeUAAAAAAAGBzQAAAAAAA0IZAAAAAAABAYEAAAAAAACyvQAAAAAAAoHRAAAAAAABwl0AAAAAAAAB+QAAAAAAAYIhAAAAAAADAgkAAAAAAACCcQAAAAAAAwHJAAAAAAADAd0AAAAAAAACJQAAAAAAAQI9AAAAAAADAfEAAAAAAALCNQAAAAAAAcIdAAAAAAAAAeUAAAAAAAMCSQAAAAAAAGJVAAAAAAAAgfEAAAAAAAIizQAAAAAAAUI5AAAAAAABAn0AAAAAAAACJQAAAAAAAAIlAAAAAAAAAeUAAAAAAAMByQAAAAAAAQJ9AAAAAAAAwi0AAAAAAAOB/QAAAAAAAwHJAAAAAAABAf0AAAAAAAOB6QAAAAAAAwGJAAAAAAABwp0AAAAAAAMCSQAAAAAAAwGJAAAAAAADQlkAAAAAAAGiVQAAAAAAAIHxAAAAAAADghUAAAAAAAEB/QAAAAAAAAGlAAAAAAAAAiUAAAAAAAMCnQAAAAAAAiJ1AAAAAAABYm0AAAAAAALiaQAAAAAAAcJJAAAAAAAAgfEAAAAAAAEBvQAAAAAAAcIJAAAAAAACwiEAAAAAAADCBQAAAAAAARKZAAAAAAAAwkUAAAAAAACCHQAAAAAAAHKtAAAAAAACIk0AAAAAAABilQAAAAAAAgJtAAAAAAACAZkAAAAAAAPCkQAAAAAAA8I5AAAAAAACgiUAAAAAAADCBQAAAAAAAHKZAAAAAAACwnUAAAAAAABCNQAAAAAAAoIRAAAAAAAAgfEAAAAAAAECPQAAAAAAAwGJAAAAAAACwjUAAAAAAAPiRQAAAAAAAcKdAAAAAAABAhUAAAAAAAABpQAAAAAAAsINAAAAAAADghUAAAAAAAFCeQAAAAAAAWKFAAAAAAADQoUAAAAAAAPCeQAAAAAAAVKBAAAAAAACco0AAAAAAAHCHQAAAAAAAKJRAAAAAAADgmkAAAAAAAICWQAAAAAAAIJdAAAAAAAAwi0AAAAAAADCmQAAAAAAA4IVAAAAAAAAYkEAAAAAAAEB/QAAAAAAAUIRAAAAAAADcpEAAAAAAAOCKQAAAAAAAQIpAAAAAAABAj0AAAAAAAFCEQAAAAAAAwIJAAAAAAABAb0AAAAAAADCRQAAAAAAAAGlAAAAAAAAAeUAAAAAAAJCKQAAAAAAAIJxAAAAAAABQlEAAAAAAAIBrQAAAAAAAlLFAAAAAAADMoEAAAAAAAGiQQAAAAAAAoH5AAAAAAABAf0AAAAAAAAB5QAAAAAAAAIlAAAAAAACwk0AAAAAAAKiWQAAAAAAAIIxAAAAAAABQhEAAAAAAALCNQAAAAAAAwHJAAAAAAAAgfEAAAAAAAHCHQAAAAAAAAHlAAAAAAACgpEAAAAAAANCLQAAAAAAAQI9AAAAAAABAn0AAAAAAAOB1QAAAAAAA8IRAAAAAAADAbEAAAAAAAEBvQAAAAAAAwIJAAAAAAABAf0AAAAAAACCMQAAAAAAAQG9AAAAAAAAwoUAAAAAAAOCKQAAAAAAAwJJAAAAAAACIo0AAAAAAAAB+QAAAAAAAAHlAAAAAAAAgfEAAAAAAACCMQAAAAAAAwJJAAAAAAAAggkAAAAAAAFCEQAAAAAAAGJpAAAAAAACAgUAAAAAAAEB/QAAAAAAA4HVAAAAAAAAAeUAAAAAAADCLQAAAAAAAQK9AAAAAAABgjUAAAAAAAJSxQAAAAAAAQHBAAAAAAADQlkAAAAAAAIijQAAAAAAAGJVAAAAAAABQhEAAAAAAAFCEQAAAAAAAaKBAAAAAAAAwgUAAAAAAAFCEQAAAAAAAoHRAAAAAAACApkAAAAAAALCIQAAAAAAATKhAAAAAAABwh0AAAAAAAMCCQAAAAAAAQH9AAAAAAACwnUAAAAAAADCBQAAAAAAAIIdAAAAAAAAYn0AAAAAAAIBrQAAAAAAA4JVAAAAAAADQi0AAAAAAALCIQAAAAAAAQH9AAAAAAACUoUAAAAAAACB8QAAAAAAAwIxAAAAAAAAAmUAAAAAAAABpQAAAAAAAUIRAAAAAAAAAiUAAAAAAAMCCQAAAAAAAYIhAAAAAAAAgfEAAAAAAAMByQAAAAAAAEIhAAAAAAABQjkAAAAAAAGiQQAAAAAAA4IVAAAAAAABAn0AAAAAAAECFQAAAAAAA4IVAAAAAAABwkkAAAAAAAJCKQAAAAAAAIHdAAAAAAABwl0AAAAAAAJCPQAAAAAAAwHJAAAAAAACghEAAAAAAAJShQAAAAAAAwIJAAAAAAABAj0AAAAAAAJCKQAAAAAAAwIJAAAAAAADQlkAAAAAAAFCEQAAAAAAAGKpAAAAAAABgmEAAAAAAAECfQAAAAAAAwIJAAAAAAACQikAAAAAAAOicQAAAAAAAwIJAAAAAAABYm0AAAAAAAHCnQAAAAAAAQIVAAAAAAADAckAAAAAAACB8QAAAAAAAUIRAAAAAAADAgkAAAAAAANCWQAAAAAAAsIhAAAAAAAAgjEAAAAAAAECPQAAAAAAAUIRAAAAAAAAgl0AAAAAAABilQAAAAAAA0KFAAAAAAABAb0AAAAAAAACJQAAAAAAA4IVAAAAAAABAekAAAAAAAMBnQAAAAAAAcIdAAAAAAADQkUAAAAAAANCWQAAAAAAA7K1AAAAAAADAgkAAAAAAAHCHQAAAAAAA6JJAAAAAAAAwi0AAAAAAALCDQAAAAAAAIIxAAAAAAABAYEAAAAAAAACZQAAAAAAAkJVAAAAAAAAgjEAAAAAAAECPQAAAAAAAwHdAAAAAAADgcEAAAAAAAKCOQAAAAAAAYINAAAAAAAAwgUAAAAAAAKCeQAAAAAAAAIlAAAAAAADghUAAAAAAAOCFQAAAAAAAAI5AAAAAAADAgkAAAAAAAJSxQAAAAAAAaJBAAAAAAAAAaUAAAAAAAAB5QAAAAAAAWKtAAAAAAACgeUAAAAAAACByQAAAAAAAQG9AAAAAAABAekAAAAAAAJCKQAAAAAAAwIJAAAAAAACgfkAAAAAAAMByQAAAAAAAuKBAAAAAAABAZUAAAAAAAEiSQAAAAAAA4IVAAAAAAACQikAAAAAAAABuQAAAAAAAAIlAAAAAAAAYn0AAAAAAAIijQAAAAAAAAGRAAAAAAADghUAAAAAAAKiWQAAAAAAA8IlAAAAAAACAdkAAAAAAAEBgQAAAAAAAwGJAAAAAAADAckAAAAAAAGiQQAAAAAAAQH9AAAAAAACgiUAAAAAAANCWQAAAAAAAeJlAAAAAAADQlkAAAAAAAOyoQAAAAAAAQKBAAAAAAAAApEAAAAAAAHCnQAAAAAAAwIJAAAAAAABAhUAAAAAAABCtQAAAAAAAuJBAAAAAAACQmkAAAAAAANCWQAAAAAAA0JZAAAAAAADwjkAAAAAAANCWQAAAAAAAIIxAAAAAAAAQjUAAAAAAAMBsQAAAAAAAkIVAAAAAAAA0p0AAAAAAAKCpQAAAAAAAOJNAAAAAAABYkUAAAAAAAFiRQAAAAAAA4IVAAAAAAABAgEAAAAAAAMCiQAAAAAAAQG9AAAAAAACAcUAAAAAAAMCCQAAAAAAA+JFAAAAAAAAAiUAAAAAAAMCCQAAAAAAA4HVAAAAAAAAIlkAAAAAAAJCAQAAAAAAAMIFAAAAAAABwl0AAAAAAAGB4QAAAAAAAQI9AAAAAAABAdUAAAAAAAICGQAAAAAAAIHxAAAAAAAAolEAAAAAAAMCCQAAAAAAAAHlAAAAAAAC4sEAAAAAAAMByQAAAAAAAQI9AAAAAAABAf0AAAAAAAEBvQAAAAAAAMKFAAAAAAADgj0AAAAAAAABpQAAAAAAAMIFAAAAAAAAAlEAAAAAAAOB1QAAAAAAAIHxAAAAAAABQhEAAAAAAAHCHQAAAAAAAAHlAAAAAAAAgokAAAAAAALCNQAAAAAAAcIdAAAAAAABQhEAAAAAAAHCnQAAAAAAAkIpAAAAAAABAj0AAAAAAABCYQAAAAAAAIJxAAAAAAADgcEAAAAAAAECfQAAAAAAA8I5AAAAAAACAZkAAAAAAACB8QAAAAAAAcKdAAAAAAABAj0AAAAAAAMB3QAAAAAAAQGpAAAAAAADgdUAAAAAAAHylQAAAAAAAQH9AAAAAAABEpkAAAAAAAEBlQAAAAAAAIJxAAAAAAAAQiEAAAAAAAMCCQAAAAAAAUIRAAAAAAAAgnEAAAAAAAIBrQAAAAAAAsIhAAAAAAADQlkAAAAAAADCRQAAAAAAAwIJAAAAAAAA4mEAAAAAAAECvQAAAAAAAIJxAAAAAAABwkkAAAAAAAEBgQAAAAAAAEJ1AAAAAAAAgfEAAAAAAADCLQAAAAAAAEI1AAAAAAAAAiUAAAAAAAMCCQAAAAAAAWJtAAAAAAAD4oUAAAAAAAHCCQAAAAAAAcKdAAAAAAACwjUAAAAAAAEB/QAAAAAAAsKNAAAAAAABgnUAAAAAAACCHQAAAAAAA4HpAAAAAAAAgfEAAAAAAALCNQAAAAAAAQH9AAAAAAACIk0AAAAAAAMBsQAAAAAAA0KZAAAAAAADgdUAAAAAAABCNQAAAAAAAiKNAAAAAAACAdkAAAAAAAMByQAAAAAAAQH9AAAAAAADAckAAAAAAAMCSQAAAAAAA0JZAAAAAAAAAeUAAAAAAAMCCQAAAAAAA4JVAAAAAAABQhEAAAAAAAFCEQAAAAAAA4IVAAAAAAACwg0AAAAAAAIChQAAAAAAA/KdAAAAAAADgpUAAAAAAAIiTQAAAAAAAIHxAAAAAAACwjUAAAAAAACSjQAAAAAAA4IVAAAAAAACgiUAAAAAAAICGQAAAAAAAqJFAAAAAAADglUAAAAAAAECPQAAAAAAAcJdAAAAAAADAgkAAAAAAAEBwQAAAAAAAAIlAAAAAAABAb0AAAAAAAECQQAAAAAAAIHxAAAAAAABgg0AAAAAAADCRQAAAAAAAsJNAAAAAAADAgkAAAAAAAAB+QAAAAAAAsI1AAAAAAABwl0AAAAAAAHCHQAAAAAAAAIlAAAAAAADAkkAAAAAAAECPQAAAAAAAgHFAAAAAAAAgfEAAAAAAAEB/QAAAAAAAMJFAAAAAAADghUAAAAAAAMCCQAAAAAAAQI9AAAAAAADgdUAAAAAAACCHQAAAAAAA4HVAAAAAAABAkEAAAAAAAECPQAAAAAAAwHJAAAAAAABAj0AAAAAAABCjQAAAAAAA2KNAAAAAAACwjUAAAAAAAMCCQAAAAAAAQH9AAAAAAADAYkAAAAAAAFCEQAAAAAAAAIlAAAAAAAAAeUAAAAAAAECfQAAAAAAAQIVAAAAAAADAkkAAAAAAAFCEQAAAAAAAQI9AAAAAAAAAhEAAAAAAAOCFQAAAAAAAAHlAAAAAAACAe0AAAAAAAECfQAAAAAAAAIlAAAAAAABwl0AAAAAAAOB1QAAAAAAAQHpAAAAAAAColkAAAAAAANCWQAAAAAAA6JJAAAAAAABQiUAAAAAAAEiSQAAAAAAAkJpAAAAAAAB8sEAAAAAAALCdQAAAAAAAIJxAAAAAAADgikAAAAAAAAiRQAAAAAAAsI1AAAAAAABgc0AAAAAAANCLQAAAAAAA0JZAAAAAAADAgkAAAAAAALCNQAAAAAAACJZAAAAAAAAggkAAAAAAAACJQAAAAAAA4IVAAAAAAABQjkAAAAAAAJCKQAAAAAAAsI1AAAAAAABAn0AAAAAAAEiSQAAAAAAAQH9AAAAAAAD4kUAAAAAAAECPQAAAAAAAwKdAAAAAAADgn0AAAAAAAOClQAAAAAAAIIxAAAAAAAAYlUAAAAAAAIBrQAAAAAAAcIdAAAAAAAAAiUAAAAAAAACJQAAAAAAA4JBAAAAAAACAe0AAAAAAAEB/QAAAAAAAWJFAAAAAAADghUAAAAAAAMByQAAAAAAAQJ9AAAAAAADQm0AAAAAAANCRQAAAAAAAAJlAAAAAAADghUAAAAAAABiVQAAAAAAAQG9AAAAAAAAAfkAAAAAAAIiTQAAAAAAAYJhAAAAAAADghUAAAAAAAMByQAAAAAAAoI5AAAAAAAAAiUAAAAAAADCBQAAAAAAAQI9AAAAAAADwjkAAAAAAAIiTQAAAAAAAQI9AAAAAAACAa0AAAAAAADCBQAAAAAAAcJdAAAAAAAAAiUAAAAAAAIBWQAAAAAAA4HVAAAAAAADAkkAAAAAAALCNQAAAAAAA0ItAAAAAAADAgkAAAAAAAHCHQAAAAAAAIIdAAAAAAABAj0AAAAAAAGCNQAAAAAAAkJ9AAAAAAAAAaUAAAAAAAMB8QAAAAAAA4HVAAAAAAABwp0AAAAAAAMCCQAAAAAAAmJJAAAAAAADghUAAAAAAAMiZQAAAAAAAwGxAAAAAAACEokAAAAAAAJCFQAAAAAAAIIxAAAAAAACAYUAAAAAAADCRQAAAAAAAwHdAAAAAAADghUAAAAAAAMB3QAAAAAAAtrJAAAAAAAAwgUAAAAAAAFiWQAAAAAAAIHxAAAAAAACAYUAAAAAAAEBvQAAAAAAAQG9AAAAAAACghEAAAAAAAGiQQAAAAAAAIIxAAAAAAABwh0AAAAAAAHCXQAAAAAAAiJNAAAAAAAAAbkAAAAAAADCBQAAAAAAA4IVAAAAAAABwl0AAAAAAAMB8QAAAAAAAYH1AAAAAAADAkkAAAAAAACB8QAAAAAAAoHRAAAAAAADglUAAAAAAAAB0QAAAAAAAkIVAAAAAAAAAiUAAAAAAAOCVQAAAAAAAUIRAAAAAAABAj0AAAAAAAIBxQAAAAAAAQG9AAAAAAABAj0AAAAAAAHCXQAAAAAAAKKRAAAAAAACgeUAAAAAAAGiwQAAAAAAA8IRAAAAAAABAb0AAAAAAAGCNQAAAAAAAGK9AAAAAAABQhEAAAAAAAOCVQAAAAAAAIIxAAAAAAAAwgUAAAAAAAHCCQAAAAAAA0JZAAAAAAADQlkAAAAAAADCLQAAAAAAAgJFAAAAAAACgfkAAAAAAAFCJQAAAAAAAXKdAAAAAAADAkkAAAAAAAJCKQAAAAAAAQI9AAAAAAAAgckAAAAAAALCTQAAAAAAAAIRAAAAAAACkpUAAAAAAAHieQAAAAAAA4HpAAAAAAAAwgUAAAAAAAPiRQAAAAAAAMIFAAAAAAABQnkAAAAAAAABUQAAAAAAAQH9AAAAAAAAQg0AAAAAAAFCEQAAAAAAAcIdAAAAAAABomkAAAAAAAKB5QAAAAAAAwJJAAAAAAABAn0AAAAAAANitQAAAAAAAUJlAAAAAAAAgckAAAAAAAOBwQAAAAAAAIIdAAAAAAAAgfEAAAAAAAKCUQAAAAAAAEJ1AAAAAAADwjkAAAAAAAACpQAAAAAAAKKlAAAAAAAB8qkAAAAAAAFCEQAAAAAAAUIRAAAAAAADQkUAAAAAAAPiRQAAAAAAAsI1AAAAAAADggEAAAAAAAMCCQAAAAAAA+JFAAAAAAABgc0AAAAAAAEB/QAAAAAAAwHxAAAAAAABAb0AAAAAAAECPQAAAAAAAIHxAAAAAAAAQk0AAAAAAAPCEQAAAAAAAAHlAAAAAAAAwkUAAAAAAAHCiQAAAAAAAiKNAAAAAAABAf0AAAAAAAOB/QAAAAAAAGJVAAAAAAABomkAAAAAAAMylQAAAAAAAgJZAAAAAAABMo0AAAAAAAFiRQAAAAAAAIHxAAAAAAADghUAAAAAAAECPQAAAAAAAUIRAAAAAAAAwgUAAAAAAAMByQAAAAAAAIIxAAAAAAACgjkAAAAAAAMByQAAAAAAAwHdAAAAAAADAckAAAAAAAMCCQAAAAAAAsIhAAAAAAADgj0AAAAAAAAB5QAAAAAAAjKlAAAAAAAAwi0AAAAAAABCIQAAAAAAAkIVAAAAAAADghUAAAAAAAFCEQAAAAAAA+JtAAAAAAACgqUAAAAAAAMByQAAAAAAAOJ1AAAAAAAB4pEAAAAAAAEB/QAAAAAAAcIJAAAAAAABgjUAAAAAAAEBvQAAAAAAAMKFAAAAAAACIk0AAAAAAACCCQAAAAAAAAIlAAAAAAAAAWUAAAAAAAHCHQAAAAAAAcJdAAAAAAACwjUAAAAAAAHCHQAAAAAAAwHxAAAAAAADAfEAAAAAAAJCVQAAAAAAAoIlAAAAAAABAj0AAAAAAAIBxQAAAAAAAIHxAAAAAAADAgkAAAAAAAEBvQAAAAAAAsI1AAAAAAADwiUAAAAAAAECPQAAAAAAAcIJAAAAAAADAYkAAAAAAAHCcQAAAAAAAMJFAAAAAAABwh0AAAAAAAGiVQAAAAAAAIHxAAAAAAACUq0AAAAAAAOB/QAAAAAAA4JBAAAAAAABQhEAAAAAAAMCCQAAAAAAAwIJAAAAAAABAekAAAAAAAMCCQAAAAAAAAGlAAAAAAAAgfEAAAAAAAJCPQAAAAAAAQHpAAAAAAADAgkAAAAAAAABpQAAAAAAAQGVAAAAAAAAgfEAAAAAAAMB8QAAAAAAAwJJAAAAAAABIkkAAAAAAAEB1QAAAAAAA4HpAAAAAAACAdkAAAAAAAEB/QAAAAAAAAGlAAAAAAABAf0AAAAAAAEB/QAAAAAAAIHdAAAAAAABQhEAAAAAAAOCFQAAAAAAAUIRAAAAAAAAAeUAAAAAAAMBsQAAAAAAAsIhAAAAAAABAf0AAAAAAAIiTQAAAAAAAQI9AAAAAAAAgjEAAAAAAAIB2QAAAAAAAWJZAAAAAAAAwm0AAAAAAABSkQAAAAAAAiJNAAAAAAAAQjUAAAAAAAHCXQAAAAAAAQI9AAAAAAACIk0AAAAAAAHiUQAAAAAAAoIRAAAAAAAAwgUAAAAAAAACJQAAAAAAALKBAAAAAAABAf0AAAAAAAOB1QAAAAAAAEI1AAAAAAADAgkAAAAAAAMCCQAAAAAAA8I5AAAAAAABwp0AAAAAAAMCSQAAAAAAAQJBAAAAAAADAgkAAAAAAAMCCQAAAAAAAcIdAAAAAAABQiUAAAAAAAAB0QAAAAAAAoH5AAAAAAACAZkAAAAAAADCBQAAAAAAA0IFAAAAAAADQi0AAAAAAAAB5QAAAAAAA+JFAAAAAAABUoEAAAAAAAPCOQAAAAAAAoH5AAAAAAAB4qUAAAAAAAGCDQAAAAAAAAHlAAAAAAABAf0AAAAAAAMByQAAAAAAAIIJAAAAAAABgeEAAAAAAAECPQAAAAAAAUJRAAAAAAABwp0AAAAAAACB8QAAAAAAAQG9AAAAAAABAf0AAAAAAAMCCQAAAAAAA4HVAAAAAAABQhEAAAAAAAKibQAAAAAAArKdAAAAAAAAgjEAAAAAAAAyyQAAAAAAA4IVAAAAAAABAekAAAAAAADiYQAAAAAAAAHlAAAAAAACgjkAAAAAAADCBQAAAAAAAwGxAAAAAAABAn0AAAAAAAOCFQAAAAAAA4IVAAAAAAABQhEAAAAAAAEB/QAAAAAAAQIpAAAAAAACgeUAAAAAAAFCUQAAAAAAAMIFAAAAAAABwl0AAAAAAAECPQAAAAAAAQJ9AAAAAAADggEAAAAAAAOCFQAAAAAAAiKNAAAAAAAAIpkAAAAAAAIBrQAAAAAAAIIxAAAAAAAAwgUAAAAAAAGCIQAAAAAAAiLNAAAAAAAAAiUAAAAAAAFCEQAAAAAAAwHdAAAAAAABQhEAAAAAAAAB5QAAAAAAAAH5AAAAAAABgc0AAAAAAAOBwQAAAAAAAgGZAAAAAAABgiEAAAAAAADCBQAAAAAAA2JhAAAAAAADghUAAAAAAAABkQAAAAAAAcIJAAAAAAAAAaUAAAAAAAOB6QAAAAAAA4JBAAAAAAAAgfEAAAAAAAIijQAAAAAAAwJJAAAAAAABAf0AAAAAAAHCXQAAAAAAAWJZAAAAAAAAwoUAAAAAAALCNQAAAAAAANKdAAAAAAAAwkUAAAAAAAMCSQAAAAAAAMItAAAAAAADAkkAAAAAAAMB3QAAAAAAAQH9AAAAAAABwgkAAAAAAAEBvQAAAAAAAwHJAAAAAAABAekAAAAAAAEBwQAAAAAAAAHlAAAAAAABAb0AAAAAAAMBiQAAAAAAA4JVAAAAAAADgekAAAAAAAMCSQAAAAAAAQJ9AAAAAAADAgkAAAAAAADCGQAAAAAAA4H9AAAAAAADAckAAAAAAAMB8QAAAAAAAwGdAAAAAAACUpkAAAAAAAAB5QAAAAAAAoHRAAAAAAABgk0AAAAAAAECFQAAAAAAAAHlAAAAAAACwjUAAAAAAAOB1QAAAAAAA8IRAAAAAAABQlEAAAAAAABifQAAAAAAAoI5AAAAAAAAAWUAAAAAAACB3QAAAAAAAAHlAAAAAAABwokAAAAAAAESmQAAAAAAA/KJAAAAAAADAgkAAAAAAAHCHQAAAAAAAyJRAAAAAAACAYUAAAAAAAOCQQAAAAAAAwIJAAAAAAADghUAAAAAAAMBiQAAAAAAAwIJAAAAAAAAgjEAAAAAAAABpQAAAAAAAIIxAAAAAAAC8pkAAAAAAALilQAAAAAAAQGVAAAAAAADAjEAAAAAAAMBnQAAAAAAA8I5AAAAAAACAZkAAAAAAAMByQAAAAAAAwIJAAAAAAAAAaUAAAAAAAAB0QAAAAAAAAGRAAAAAAABAj0AAAAAAAHCCQAAAAAAAgGZAAAAAAAAAeUAAAAAAACB8QAAAAAAAAHlAAAAAAACAZkAAAAAAAOCPQAAAAAAAQJBAAAAAAADAckAAAAAAAHCXQAAAAAAAWKFAAAAAAACQhUAAAAAAAECFQAAAAAAAkIpAAAAAAACAhkAAAAAAAEB/QAAAAAAAIHxAAAAAAABAgEAAAAAAACCCQAAAAAAAXKJAAAAAAABAb0AAAAAAAECAQAAAAAAAQH9AAAAAAADghUAAAAAAAOCAQAAAAAAAIHxAAAAAAAAAiUAAAAAAAAB5QAAAAAAAAG5AAAAAAAAggkAAAAAAAFCOQAAAAAAAIHJAAAAAAAAAeUAAAAAAAACJQAAAAAAAQH9AAAAAAADQlkAAAAAAAHygQAAAAAAAFrJAAAAAAAAQk0AAAAAAAECPQAAAAAAAsIhAAAAAAADAckAAAAAAAECPQAAAAAAAQI9AAAAAAABgeEAAAAAAAACZQAAAAAAAQJ9AAAAAAADQi0AAAAAAAFibQAAAAAAAEJNAAAAAAAAAeUAAAAAAAPCOQAAAAAAAmJJAAAAAAABwgkAAAAAAAECPQAAAAAAA2KhAAAAAAABAYEAAAAAAAEB/QAAAAAAAoIRAAAAAAAAgjEAAAAAAAMCCQAAAAAAAMIFAAAAAAABAf0AAAAAAAECPQAAAAAAAgHFAAAAAAABAj0AAAAAAAIBbQAAAAAAAgGZAAAAAAADAgkAAAAAAAJCaQAAAAAAAwGdAAAAAAAAYoEAAAAAAAACJQAAAAAAAkIpAAAAAAAAwgUAAAAAAAABuQAAAAAAAAHlAAAAAAAAwgUAAAAAAAKSwQAAAAAAAIHJAAAAAAADAfEAAAAAAAJCKQAAAAAAAQJ9AAAAAAAA0skAAAAAAAECPQAAAAAAAQG9AAAAAAAC4qkAAAAAAAECPQAAAAAAAwGJAAAAAAAAwgUAAAAAAAACJQAAAAAAAwIJAAAAAAACAcUAAAAAAAJCaQAAAAAAAgIZAAAAAAADgdUAAAAAAACB8QAAAAAAAIIJAAAAAAABQlEAAAAAAALCNQAAAAAAAAHRAAAAAAADglUAAAAAAAACuQAAAAAAAQI9AAAAAAACUpkAAAAAAAMCCQAAAAAAAkIpAAAAAAADAgkAAAAAAAOB1QAAAAAAAQH9AAAAAAADgcEAAAAAAAOB1QAAAAAAAMIFAAAAAAAAYlUAAAAAAAFCEQAAAAAAAwJJAAAAAAABAf0AAAAAAAJCFQAAAAAAAwIJAAAAAAABgfUAAAAAAAESmQAAAAAAAXKJAAAAAAABAf0AAAAAAAAB5QAAAAAAA4HVAAAAAAAAgfEAAAAAAAHylQAAAAAAAAFlAAAAAAADggEAAAAAAAHCXQAAAAAAAAIlAAAAAAADQgUAAAAAAALCIQAAAAAAAcKdAAAAAAABAf0AAAAAAAHCHQAAAAAAAlLFAAAAAAACgfkAAAAAAACCMQAAAAAAAQI9AAAAAAACwnUAAAAAAADCrQAAAAAAAuJpAAAAAAABQiUAAAAAAAPihQAAAAAAAYHhAAAAAAABAf0AAAAAAAPCEQAAAAAAA2JhAAAAAAADgcEAAAAAAAACJQAAAAAAAoH5AAAAAAACwnUAAAAAAAOCVQAAAAAAAAGlAAAAAAAAwkUAAAAAAAEiSQAAAAAAAkI9AAAAAAADAokAAAAAAADCmQAAAAAAA6JJAAAAAAAAAiUAAAAAAAEiHQAAAAAAAGKBAAAAAAADQgUAAAAAAAAB5QAAAAAAAQI9AAAAAAACQikAAAAAAAMSoQAAAAAAAAHlAAAAAAADAgkAAAAAAAAiRQAAAAAAA0ItAAAAAAABAekAAAAAAABCTQAAAAAAAAJlAAAAAAABQhEAAAAAAAAB5QAAAAAAAiJ1AAAAAAACkpUAAAAAAAHipQAAAAAAAKKlAAAAAAAAIoUAAAAAAAKirQAAAAAAAuJ9AAAAAAAAAeUAAAAAAAEicQAAAAAAA4IVAAAAAAAC4mkAAAAAAAHCHQAAAAAAAsJ1AAAAAAAAgh0AAAAAAAOCFQAAAAAAAwGxAAAAAAADAkkAAAAAAAIB2QAAAAAAAIIxAAAAAAABwh0AAAAAAAEBqQAAAAAAAgHZAAAAAAADAokAAAAAAAKSqQAAAAAAAcIdAAAAAAAAQnUAAAAAAAMCCQAAAAAAAYH1AAAAAAADAkkAAAAAAAICWQAAAAAAAIHJAAAAAAADglUAAAAAAAGCIQAAAAAAAMJFAAAAAAABAj0AAAAAAABCTQAAAAAAArKxAAAAAAADAbEAAAAAAAAB+QAAAAAAAgHFAAAAAAAAAdEAAAAAAAFCEQAAAAAAAQGVAAAAAAACwmEAAAAAAAHCSQAAAAAAAQH9AAAAAAABIl0AAAAAAAOCFQAAAAAAAwIJAAAAAAACIo0AAAAAAAECfQAAAAAAAAGlAAAAAAADAYkAAAAAAAFCEQAAAAAAA0JZAAAAAAAAwgUAAAAAAACB8QAAAAAAAwIJAAAAAAABgc0AAAAAAALiQQAAAAAAAAHlAAAAAAAAAeUAAAAAAAJCKQAAAAAAAMJFAAAAAAADgf0AAAAAAABCDQAAAAAAAQH9AAAAAAABQlEAAAAAAAKB+QAAAAAAAiKNAAAAAAAAAdEAAAAAAAOCVQAAAAAAAQI9AAAAAAAAAiUAAAAAAABCDQAAAAAAAUIRAAAAAAABQlEAAAAAAAFCEQAAAAAAAQHpAAAAAAACwjUAAAAAAAEB1QAAAAAAAAG5AAAAAAACgfkAAAAAAAMCCQAAAAAAAsIhAAAAAAACgiUAAAAAAAABpQAAAAAAAiJhAAAAAAAAggkAAAAAAAECPQAAAAAAAcKxAAAAAAAAAVEAAAAAAACB3QAAAAAAAQG9AAAAAAACAZkAAAAAAAABpQAAAAAAAAGlAAAAAAABAj0AAAAAAADCBQAAAAAAAiKNAAAAAAABAf0AAAAAAADCRQAAAAAAAcIdAAAAAAACIo0AAAAAAAACJQAAAAAAAMJFAAAAAAABAj0AAAAAAALCdQAAAAAAAMJFAAAAAAADAgkAAAAAAAAB5QAAAAAAAoHlAAAAAAACgfkAAAAAAAICbQAAAAAAAYHhAAAAAAABQiUAAAAAAAAB5QAAAAAAAAGlAAAAAAABAb0AAAAAAAIidQAAAAAAAwIJAAAAAAACQgEAAAAAAALCIQAAAAAAAAH5AAAAAAABwh0AAAAAAACB8QAAAAAAA4JVAAAAAAACQpUAAAAAAAACUQAAAAAAAoIRAAAAAAABwl0AAAAAAADCBQAAAAAAAMIFAAAAAAAAgnEAAAAAAABifQAAAAAAA+JFAAAAAAADAgkAAAAAAADiYQAAAAAAAkJpAAAAAAABAakAAAAAAACByQAAAAAAAAHlAAAAAAACwnUAAAAAAAIB2QAAAAAAA4IVAAAAAAABAgEAAAAAAAGCNQAAAAAAAAIlAAAAAAACgfkAAAAAAAAiRQAAAAAAAYIhAAAAAAADAckAAAAAAAKB+QAAAAAAAgIFAAAAAAADgf0AAAAAAADCBQAAAAAAAQHVAAAAAAAAYlUAAAAAAAMB3QAAAAAAAQGVAAAAAAABAf0AAAAAAAFCEQAAAAAAA8I5AAAAAAACgfkAAAAAAACB8QAAAAAAAsINAAAAAAAAgjEAAAAAAAOBwQAAAAAAA0JZAAAAAAABAj0AAAAAAAECQQAAAAAAAAIlAAAAAAACgjkAAAAAAAJCKQAAAAAAAUIRAAAAAAACAhkAAAAAAAEBwQAAAAAAAQI9AAAAAAAAAiUAAAAAAAKB+QAAAAAAAAI5AAAAAAADgdUAAAAAAAFibQAAAAAAAAF5AAAAAAABAj0AAAAAAACCMQAAAAAAA4IVAAAAAAABAf0AAAAAAANCGQAAAAAAAQH9AAAAAAAAwi0AAAAAAADijQAAAAAAAwGdAAAAAAABwh0AAAAAAAECFQAAAAAAAsKNAAAAAAABwh0AAAAAAAOB1QAAAAAAAAGlAAAAAAADAgkAAAAAAAFCEQAAAAAAA4IVAAAAAAADAgkAAAAAAAMiuQAAAAAAAgHZAAAAAAABwl0AAAAAAAHCHQAAAAAAApKBAAAAAAACAgUAAAAAAAHCHQAAAAAAAcJdAAAAAAADQkUAAAAAAAICxQAAAAAAAkJBAAAAAAADggEAAAAAAABiQQAAAAAAAgHtAAAAAAACwjUAAAAAAAHieQAAAAAAAcJdAAAAAAAB0qEAAAAAAAPCOQAAAAAAAgIZAAAAAAACwjUAAAAAAAAB5QAAAAAAAUJRAAAAAAADAkkAAAAAAAOCFQAAAAAAAcJdAAAAAAAAgfEAAAAAAAIiTQAAAAAAAaJBAAAAAAADAckAAAAAAAAB0QAAAAAAAkIVAAAAAAAAgfEAAAAAAACCMQAAAAAAAwHJAAAAAAAAgfEAAAAAAAFCkQAAAAAAAkIVAAAAAAABAj0AAAAAAAIidQAAAAAAA4KVAAAAAAAAAeUAAAAAAAICRQAAAAAAAAIlAAAAAAAAgnEAAAAAAAMCCQAAAAAAAQJpAAAAAAADgdUAAAAAAAOCFQAAAAAAAsI1AAAAAAADAl0AAAAAAAFCUQAAAAAAAIIJAAAAAAABAb0AAAAAAAECAQAAAAAAAaKBAAAAAAAAAeUAAAAAAAOCFQAAAAAAAwHJAAAAAAADAckAAAAAAAEBvQAAAAAAAcIJAAAAAAAAAaUAAAAAAACB8QAAAAAAA8J5AAAAAAAAwgUAAAAAAAOBwQAAAAAAA4IVAAAAAAAAgjEAAAAAAAEBqQAAAAAAAlLFAAAAAAACIs0AAAAAAAACJQAAAAAAAAIlAAAAAAABAj0AAAAAAADiYQAAAAAAAqJZAAAAAAAAgfEAAAAAAAFCEQAAAAAAAMIFAAAAAAAAwgUAAAAAAAACEQAAAAAAAIHxAAAAAAABAf0AAAAAAACCMQAAAAAAAUIRAAAAAAAAgfEAAAAAAAAB5QAAAAAAAwGJAAAAAAADAfEAAAAAAAOB1QAAAAAAAwJJAAAAAAABAf0AAAAAAAIB7QAAAAAAAwGdAAAAAAAC4qkAAAAAAAAB+QAAAAAAAgIZAAAAAAACAi0AAAAAAALCIQAAAAAAAQH9AAAAAAADAZ0AAAAAAACCMQAAAAAAAwHJAAAAAAABgfUAAAAAAAOiXQAAAAAAAAJ5AAAAAAAAAWUAAAAAAAABZQAAAAAAAwIxAAAAAAACAdkAAAAAAAKCUQAAAAAAAQH9AAAAAAAAgjEAAAAAAALCNQAAAAAAAoHlAAAAAAADAbEAAAAAAAMBiQAAAAAAAMJFAAAAAAAAgfEAAAAAAAMB3QAAAAAAAQH9AAAAAAABQhEAAAAAAAEB/QAAAAAAAcIdAAAAAAAAAiUAAAAAAAMByQAAAAAAAcIJAAAAAAADAd0AAAAAAAOB1QAAAAAAAIHJAAAAAAABgg0AAAAAAAMCCQAAAAAAAYJhAAAAAAADwjkAAAAAAAOCAQAAAAAAAwHJAAAAAAACQgEAAAAAAACByQAAAAAAAAHlAAAAAAABAn0AAAAAAAMCCQAAAAAAAIHxAAAAAAADghUAAAAAAAFCEQAAAAAAAAH5AAAAAAABAf0AAAAAAADCRQAAAAAAAcIdAAAAAAADgf0AAAAAAAEB/QAAAAAAAwGJAAAAAAAAgckAAAAAAAIBrQAAAAAAAoH5AAAAAAADAbEAAAAAAAKB0QAAAAAAAcJJAAAAAAADAjEAAAAAAAPihQAAAAAAAQI9AAAAAAAAAeUAAAAAAAHCiQAAAAAAAcIJAAAAAAAAQiEAAAAAAAMCHQAAAAAAAnrFAAAAAAAAolEAAAAAAAMCCQAAAAAAAUIRAAAAAAACQqkAAAAAAAFCUQAAAAAAA4IVAAAAAAAAAaUAAAAAAAMCSQAAAAAAAoHlAAAAAAABQhEAAAAAAAOCFQAAAAAAAAHlAAAAAAAAAfkAAAAAAAOCFQAAAAAAA4HBAAAAAAAAgfEAAAAAAAJCKQAAAAAAAQG9AAAAAAADAkkAAAAAAAEBvQAAAAAAAAIlAAAAAAAAwkUAAAAAAAJyTQAAAAAAAsJ1AAAAAAADAd0AAAAAAAIB7QAAAAAAA4HBAAAAAAADAgkAAAAAAAABpQAAAAAAAQI9AAAAAAACwjUAAAAAAAMCSQAAAAAAAQGpAAAAAAAAAdEAAAAAAACCMQAAAAAAAsIhAAAAAAADAgkAAAAAAAABpQAAAAAAAQI9AAAAAAADAckAAAAAAAAiRQAAAAAAA4IVAAAAAAABAakAAAAAAAHCCQAAAAAAAcIdAAAAAAAAIkUAAAAAAAKiWQAAAAAAASIdAAAAAAAD4kUAAAAAAAACJQAAAAAAA4IVAAAAAAACAcUAAAAAAAMByQAAAAAAAcIdAAAAAAADQm0AAAAAAANChQAAAAAAAiJ1AAAAAAACgdEAAAAAAAEB/QAAAAAAAAIlAAAAAAAAwkUAAAAAAAACJQAAAAAAA4H9AAAAAAABAj0AAAAAAAOCKQAAAAAAAQI9AAAAAAACAW0AAAAAAADCBQAAAAAAAMIFAAAAAAADwhEAAAAAAAFCUQAAAAAAACLFAAAAAAADAckAAAAAAAECPQAAAAAAAwJJAAAAAAACwjUAAAAAAAACJQAAAAAAAAGlAAAAAAABAgEAAAAAAAIBbQAAAAAAAwIxAAAAAAABwh0AAAAAAAAB5QAAAAAAAiLNAAAAAAABIkkAAAAAAAOCAQAAAAAAAAI5AAAAAAAAAaUAAAAAAAHCSQAAAAAAAQI9AAAAAAADwiUAAAAAAAECPQAAAAAAAQI9AAAAAAAAwgUAAAAAAAACJQAAAAAAAIHJAAAAAAABwgkAAAAAAAOB1QAAAAAAAkJpAAAAAAACgeUAAAAAAALCdQAAAAAAAYINAAAAAAADgdUAAAAAAAMiZQAAAAAAAsIhAAAAAAABInEAAAAAAAGCNQAAAAAAAwGJAAAAAAAAAaUAAAAAAACCMQAAAAAAAgGtAAAAAAADgikAAAAAAAOB1QAAAAAAAwGJAAAAAAAAAiUAAAAAAAMBnQAAAAAAAMJFAAAAAAABAj0AAAAAAAIBxQAAAAAAAAG5AAAAAAADgekAAAAAAAGCNQAAAAAAAAIlAAAAAAADAckAAAAAAAACJQAAAAAAAwHJAAAAAAABAf0AAAAAAAJCVQAAAAAAA4JVAAAAAAABsoUAAAAAAAECQQAAAAAAAYH1AAAAAAAAwgUAAAAAAAAB5QAAAAAAAQG9AAAAAAABAj0AAAAAAAEB/QAAAAAAA2KNAAAAAAACAZkAAAAAAAECFQAAAAAAAoJlAAAAAAAAwkUAAAAAAAEB/QAAAAAAAEIhAAAAAAADAckAAAAAAAMByQAAAAAAA8I5AAAAAAABQhEAAAAAAAOBwQAAAAAAAQJ9AAAAAAACAVkAAAAAAAFCJQAAAAAAAQI9AAAAAAADAckAAAAAAAEB/QAAAAAAAcIdAAAAAAADAd0AAAAAAAEB/QAAAAAAA4HVAAAAAAAAAiUAAAAAAACCMQAAAAAAAMJFAAAAAAABgfUAAAAAAAGiwQAAAAAAAaJ9AAAAAAACQn0AAAAAAAGCTQAAAAAAAoH5AAAAAAAAwi0AAAAAAAOB1QAAAAAAAgGZAAAAAAAAAiUAAAAAAABSkQAAAAAAAsIhAAAAAAAAAiUAAAAAAAGiaQAAAAAAAsIhAAAAAAADQkUAAAAAAAIiTQAAAAAAA0ItAAAAAAABwp0AAAAAAAJiSQAAAAAAAMIFAAAAAAAD8okAAAAAAAJCKQAAAAAAA4HVAAAAAAABYq0AAAAAAAABpQAAAAAAAmJJAAAAAAADgekAAAAAAAHCHQAAAAAAAwIJAAAAAAABAb0AAAAAAACB8QAAAAAAAQJpAAAAAAAAAfkAAAAAAABiVQAAAAAAAQH9AAAAAAABAekAAAAAAAHCHQAAAAAAAsIhAAAAAAAAwsUAAAAAAAECKQAAAAAAAsI1AAAAAAACwiEAAAAAAAEBvQAAAAAAAwJJAAAAAAACwjUAAAAAAAMCSQAAAAAAAcIdAAAAAAABwh0AAAAAAAGCDQAAAAAAAcIdAAAAAAABQhEAAAAAAACCMQAAAAAAAVKBAAAAAAADgdUAAAAAAAMCCQAAAAAAAUIRAAAAAAAAQmEAAAAAAACB8QAAAAAAAIHJAAAAAAACgiUAAAAAAAACZQAAAAAAA4IVAAAAAAAA8rkAAAAAAAKB+QAAAAAAAQIBAAAAAAABAn0AAAAAAAAB5QAAAAAAAAGlAAAAAAABwl0AAAAAAACB8QAAAAAAAAHlAAAAAAACQlUAAAAAAAOCFQAAAAAAAEIhAAAAAAACYkkAAAAAAANCWQAAAAAAAQIBAAAAAAADAd0AAAAAAAKB+QAAAAAAAgHZAAAAAAAAAbkAAAAAAAOB1QAAAAAAAAHRAAAAAAADAkkAAAAAAAOCFQAAAAAAA8I5AAAAAAAAAZEAAAAAAAEBvQAAAAAAAYHhAAAAAAACck0AAAAAAABCTQAAAAAAAVKBAAAAAAACUoUAAAAAAAEyjQAAAAAAADKdAAAAAAAAAeUAAAAAAAOB/QAAAAAAAwIJAAAAAAABAkEAAAAAAAPirQAAAAAAAMIFAAAAAAADAckAAAAAAAKimQAAAAAAAwIJAAAAAAABAn0AAAAAAAPiRQAAAAAAAwHxAAAAAAACQj0AAAAAAAOB1QAAAAAAAsKhAAAAAAAAwkUAAAAAAAGCDQAAAAAAA4JVAAAAAAAB4nkAAAAAAAEiXQAAAAAAAMIFAAAAAAACwiEAAAAAAAOCaQAAAAAAAAIlAAAAAAAAwkUAAAAAAACByQAAAAAAAQK9AAAAAAABMs0AAAAAAAOCVQAAAAAAAUIRAAAAAAABAj0AAAAAAAACEQAAAAAAAcIJAAAAAAAAgjEAAAAAAAJCaQAAAAAAAUIlAAAAAAAAYpUAAAAAAAHCnQAAAAAAA6JxAAAAAAAAAaUAAAAAAAMByQAAAAAAAMIFAAAAAAABAb0AAAAAAAHCXQAAAAAAADKJAAAAAAAA0p0AAAAAAABCYQAAAAAAAQIVAAAAAAACwjUAAAAAAAAibQAAAAAAAgHZAAAAAAAAAZEAAAAAAAIiTQAAAAAAAwGxAAAAAAACgiUAAAAAAAABkQAAAAAAAgGZAAAAAAAAwgUAAAAAAAJCVQAAAAAAAoHRAAAAAAAAAeUAAAAAAAMB8QAAAAAAAwIJAAAAAAADghUAAAAAAACCCQAAAAAAAAHlAAAAAAADQi0AAAAAAAEB/QAAAAAAAYJhAAAAAAADQlkAAAAAAAJCFQAAAAAAAIIJAAAAAAABAf0AAAAAAAABpQAAAAAAAcIdAAAAAAAAAaUAAAAAAAAB5QAAAAAAAcIdAAAAAAADAh0AAAAAAAOCFQAAAAAAAwIJAAAAAAADAgkAAAAAAAACZQAAAAAAAmJJAAAAAAACwnUAAAAAAAACZQAAAAAAAcIxAAAAAAAAYmkAAAAAAADCWQAAAAAAAUIRAAAAAAAAwgUAAAAAAAJCPQAAAAAAAcIdAAAAAAAAwgUAAAAAAAECPQAAAAAAAQH9AAAAAAABQhEAAAAAAAGiQQAAAAAAAcKdAAAAAAAAAiUAAAAAAAICLQAAAAAAAAJlAAAAAAABgg0AAAAAAAFynQAAAAAAAwHdAAAAAAABwl0AAAAAAACB8QAAAAAAA4IBAAAAAAAAQg0AAAAAAAOiiQAAAAAAAUJRAAAAAAABAf0AAAAAAAIB2QAAAAAAAAI5AAAAAAADAgkAAAAAAAGiVQAAAAAAAIIJAAAAAAABAj0AAAAAAAECPQAAAAAAAcJdAAAAAAABAj0AAAAAAAFCEQAAAAAAAIIxAAAAAAADAgkAAAAAAAECPQAAAAAAAfKBAAAAAAABgc0AAAAAAADCRQAAAAAAAUIRAAAAAAAB4nkAAAAAAAMBsQAAAAAAA4JVAAAAAAACIo0AAAAAAALCNQAAAAAAAQG9AAAAAAADAckAAAAAAAECPQAAAAAAA0IFAAAAAAAAwgUAAAAAAACCMQAAAAAAAwJJAAAAAAADghUAAAAAAAKCJQAAAAAAA4HVAAAAAAACgfkAAAAAAAKB+QAAAAAAAcIdAAAAAAAAAZEAAAAAAACB3QAAAAAAAYI1AAAAAAABAb0AAAAAAAOCFQAAAAAAAAIlAAAAAAAAggkAAAAAAAECPQAAAAAAAgIZAAAAAAAAgfEAAAAAAAGCIQAAAAAAAwHJAAAAAAACgqUAAAAAAAHCHQAAAAAAAsI1AAAAAAACAi0AAAAAAAMCSQAAAAAAA8I5AAAAAAABQhEAAAAAAACB8QAAAAAAAcIJAAAAAAADgdUAAAAAAAOB1QAAAAAAAiKNAAAAAAADYmEAAAAAAAGilQAAAAAAAQG9AAAAAAABgmEAAAAAAAAB5QAAAAAAAgFZAAAAAAADQlkAAAAAAAAB0QAAAAAAAAG5AAAAAAAAwgUAAAAAAAPCUQAAAAAAAuJVAAAAAAAAAeUAAAAAAAEB1QAAAAAAAoH5AAAAAAADAckAAAAAAAMCMQAAAAAAAwIJAAAAAAACgfkAAAAAAAEB1QAAAAAAAcIdAAAAAAABIl0AAAAAAACiUQAAAAAAAcIdAAAAAAACIo0AAAAAAACieQAAAAAAAwIJAAAAAAABgg0AAAAAAAGiVQAAAAAAAQI9AAAAAAADQi0AAAAAAALiVQAAAAAAAUIRAAAAAAADAckAAAAAAAJSmQAAAAAAAMJFAAAAAAADglUAAAAAAAABpQAAAAAAAsJ1AAAAAAABAj0AAAAAAACCCQAAAAAAAsINAAAAAAAAolEAAAAAAAOB1QAAAAAAAgHZAAAAAAADAd0AAAAAAAMByQAAAAAAA4IVAAAAAAAAwgUAAAAAAAIiTQAAAAAAAYHNAAAAAAAAwgUAAAAAAACB3QAAAAAAAUIRAAAAAAADAgkAAAAAAAABpQAAAAAAAQH9AAAAAAABAf0AAAAAAADChQAAAAAAAMJFAAAAAAAD4kUAAAAAAAJCVQAAAAAAAgItAAAAAAABEq0AAAAAAAFCEQAAAAAAAcIdAAAAAAAB4nkAAAAAAAECVQAAAAAAA0JZAAAAAAACQikAAAAAAANCWQAAAAAAAYKNAAAAAAAAggkAAAAAAAPiRQAAAAAAAcIdAAAAAAACQhUAAAAAAALCIQAAAAAAAoH5AAAAAAAAwgUAAAAAAADCBQAAAAAAAMKFAAAAAAABYkUAAAAAAAIijQAAAAAAA0JZAAAAAAADQlkAAAAAAANCWQAAAAAAA0JZAAAAAAAAgp0AAAAAAAIioQAAAAAAAwGxAAAAAAADQlkAAAAAAAECKQAAAAAAAIHxAAAAAAABIl0AAAAAAAOB6QAAAAAAAMIFAAAAAAABwl0AAAAAAAIijQAAAAAAAYHhAAAAAAAAQg0AAAAAAAGyrQAAAAAAAMIFAAAAAAACQhUAAAAAAACCMQAAAAAAAwJJAAAAAAAAgnEAAAAAAAMCMQAAAAAAAIHxAAAAAAACIo0AAAAAAADCBQAAAAAAA4JVAAAAAAADAckAAAAAAAMCSQAAAAAAAcJdAAAAAAAAAaUAAAAAAAOCaQAAAAAAAwHJAAAAAAADgdUAAAAAAABCNQAAAAAAAgGZAAAAAAAAopEAAAAAAAIijQAAAAAAA4IBAAAAAAACQikAAAAAAAMByQAAAAAAAIIdAAAAAAAAAmUAAAAAAACCMQAAAAAAAqJFAAAAAAACgfkAAAAAAAOB1QAAAAAAAoIRAAAAAAACAZkAAAAAAAEB/QAAAAAAAIIdAAAAAAADAZ0AAAAAAAMCCQAAAAAAAQGpAAAAAAACwjUAAAAAAAOB/QAAAAAAAQIpAAAAAAAAgfEAAAAAAAMiUQAAAAAAAUJRAAAAAAABAf0AAAAAAADCRQAAAAAAAgIZAAAAAAADghUAAAAAAAIBmQAAAAAAA4IVAAAAAAAAAaUAAAAAAAAibQAAAAAAAQHpAAAAAAAAgjEAAAAAAAAB+QAAAAAAAQH9AAAAAAADgdUAAAAAAAACJQAAAAAAAAGlAAAAAAACIk0AAAAAAAMB3QAAAAAAAcKdAAAAAAAAAfkAAAAAAAPiWQAAAAAAAkIBAAAAAAACQgEAAAAAAAECPQAAAAAAAQHVAAAAAAAAAZEAAAAAAAHCHQAAAAAAACJFAAAAAAADggEAAAAAAANiYQAAAAAAA2KhAAAAAAACAm0AAAAAAAOB1QAAAAAAAQG9AAAAAAADglUAAAAAAACB8QAAAAAAAAHlAAAAAAABwgkAAAAAAAMieQAAAAAAA0IFAAAAAAAAAeUAAAAAAAIiTQAAAAAAAwGxAAAAAAACYl0AAAAAAANCLQAAAAAAAwHdAAAAAAABUpUAAAAAAACB8QAAAAAAAYINAAAAAAADgdUAAAAAAAGB9QAAAAAAAgIZAAAAAAADQgUAAAAAAAEytQAAAAAAAwIJAAAAAAAAAmUAAAAAAAMByQAAAAAAAUIRAAAAAAADAgkAAAAAAAMCCQAAAAAAAGJVAAAAAAADgcEAAAAAAAKB+QAAAAAAAEIhAAAAAAADAh0AAAAAAAAB5QAAAAAAA4HVAAAAAAACQikAAAAAAAGiwQAAAAAAAQHpAAAAAAADAckAAAAAAADCBQAAAAAAAXKJAAAAAAADglUAAAAAAACCcQAAAAAAAsI1AAAAAAAAAlEAAAAAAAMCCQAAAAAAAcKdAAAAAAAD4kUAAAAAAAIykQAAAAAAAoH5AAAAAAABwp0AAAAAAACB8QAAAAAAAoH5AAAAAAACAdkAAAAAAAECPQAAAAAAAIIJAAAAAAABgo0AAAAAAAKynQAAAAAAAaJBAAAAAAAAAeUAAAAAAAKyiQAAAAAAAwHJAAAAAAADgf0AAAAAAADChQAAAAAAAMKFAAAAAAAB4nkAAAAAAAMCCQAAAAAAAwJJAAAAAAADAgkAAAAAAAIizQAAAAAAAQI9AAAAAAAAAiUAAAAAAAIBbQAAAAAAA6KdAAAAAAABAf0AAAAAAADSXQAAAAAAAQH9AAAAAAABooEAAAAAAAMCSQAAAAAAA0JZAAAAAAADgkEAAAAAAAGB4QAAAAAAAIIxAAAAAAACAW0AAAAAAAPibQAAAAAAAoIRAAAAAAAC4lUAAAAAAAMCSQAAAAAAAyKlAAAAAAABAekAAAAAAAOCFQAAAAAAAQH9AAAAAAAD4kUAAAAAAAOCVQAAAAAAAuJpAAAAAAABAf0AAAAAAAHCXQAAAAAAA4HVAAAAAAADAkkAAAAAAAMCMQAAAAAAAkIpAAAAAAADAgkAAAAAAAIijQAAAAAAAWJtAAAAAAABAf0AAAAAAAECPQAAAAAAAYH1AAAAAAACwmEAAAAAAAOCFQAAAAAAAcIdAAAAAAADgdUAAAAAAAACOQAAAAAAAQJ9AAAAAAABAgEAAAAAAANCWQAAAAAAA4JVAAAAAAACAhkAAAAAAANCWQAAAAAAA4I9AAAAAAABAj0AAAAAAAGB9QAAAAAAAwHJAAAAAAAA0l0AAAAAAANCWQAAAAAAAkIpAAAAAAACIs0AAAAAAAACJQAAAAAAAQJ9AAAAAAADgdUAAAAAAACCcQAAAAAAAwIJAAAAAAABmskAAAAAAAOCFQAAAAAAAwHJAAAAAAADAckAAAAAAAACOQAAAAAAAQJ9AAAAAAABAf0AAAAAAADCBQAAAAAAAmJJAAAAAAACAZkAAAAAAAAB0QAAAAAAAAKlAAAAAAABwh0AAAAAAAASgQAAAAAAA8I5AAAAAAADAkkAAAAAAAEB/QAAAAAAAMItAAAAAAABAekAAAAAAAPCJQAAAAAAAwJJAAAAAAACQhUAAAAAAACCSQAAAAAAAQI9AAAAAAABwl0AAAAAAAMCiQAAAAAAAQI9AAAAAAAAcoUAAAAAAAAB5QAAAAAAAiJ1AAAAAAABwgkAAAAAAAOClQAAAAAAAoIRAAAAAAAAAdEAAAAAAAAB5QAAAAAAA8I5AAAAAAADghUAAAAAAAHCCQAAAAAAA4I9AAAAAAABAj0AAAAAAAJiXQAAAAAAAwGJAAAAAAACIo0AAAAAAAOCFQAAAAAAA0ItAAAAAAADAckAAAAAAAEB/QAAAAAAAsIhAAAAAAABAf0AAAAAAACByQAAAAAAAQI9AAAAAAAAAdEAAAAAAAGCNQAAAAAAAAHlAAAAAAACgfkAAAAAAAOCFQAAAAAAAQG9AAAAAAADQlkAAAAAAAOB1QAAAAAAAAGlAAAAAAABAf0AAAAAAAICWQAAAAAAAJLNAAAAAAABAakAAAAAAAMCHQAAAAAAAoJRAAAAAAADAgkAAAAAAAECfQAAAAAAAUIRAAAAAAABwh0AAAAAAAEBgQAAAAAAAIJxAAAAAAAAgjEAAAAAAAFCUQAAAAAAAcKdAAAAAAABUoEAAAAAAABCNQAAAAAAAAI5AAAAAAABAf0AAAAAAAEB/QAAAAAAAwIJAAAAAAADAckAAAAAAAFCEQAAAAAAAwHxAAAAAAAAgfEAAAAAAAOicQAAAAAAA4JVAAAAAAAA0l0AAAAAAAGSpQAAAAAAAwIJAAAAAAADImUAAAAAAACB8QAAAAAAAUIRAAAAAAAA0okAAAAAAAIB2QAAAAAAAMIFAAAAAAABAcEAAAAAAAECPQAAAAAAAIIxAAAAAAADglUAAAAAAACCcQAAAAAAAeJ5AAAAAAADglUAAAAAAANCLQAAAAAAAAJlAAAAAAADghUAAAAAAAEBlQAAAAAAAUIRAAAAAAABAikAAAAAAAABpQAAAAAAAiKNAAAAAAABwp0AAAAAAAOCqQAAAAAAAwIJAAAAAAAC4sEAAAAAAAMByQAAAAAAAoH5AAAAAAABAb0AAAAAAAGCIQAAAAAAAWJZAAAAAAABwp0AAAAAAAKB+QAAAAAAAsIhAAAAAAABQlEAAAAAAAACJQAAAAAAAqJZAAAAAAAAAaUAAAAAAAHCHQAAAAAAAQI9AAAAAAADAgkAAAAAAAJCAQAAAAAAAAH5AAAAAAAAAeUAAAAAAAOCFQAAAAAAAqKZAAAAAAACghEAAAAAAADCRQAAAAAAAkIpAAAAAAADglUAAAAAAAHCCQAAAAAAAQGpAAAAAAADgikAAAAAAAICGQAAAAAAAoIlAAAAAAABwjEAAAAAAAKCJQAAAAAAA0IZAAAAAAADQhkAAAAAAAHCMQAAAAAAA4IpAAAAAAADImUAAAAAAAOCFQAAAAAAAcIdAAAAAAABAb0AAAAAAAIizQAAAAAAAMKFAAAAAAACkoEAAAAAAABCIQAAAAAAAAIlAAAAAAADghUAAAAAAAGiQQAAAAAAAwIJAAAAAAADAfEAAAAAAADCRQAAAAAAAAG5AAAAAAADAZ0AAAAAAAGCDQAAAAAAAAHlAAAAAAABAj0AAAAAAAABpQAAAAAAAoIRAAAAAAAAwi0AAAAAAAECPQAAAAAAA5KtAAAAAAABQiUAAAAAAAEBvQAAAAAAA4IBAAAAAAACgfkAAAAAAAAB5QAAAAAAAQJpAAAAAAABAakAAAAAAACByQAAAAAAAQH9AAAAAAADAgkAAAAAAAEicQAAAAAAA4IpAAAAAAABIkkAAAAAAADCGQAAAAAAAwJJAAAAAAADgdUAAAAAAAAB5QAAAAAAAQHpAAAAAAACAcUAAAAAAAHygQAAAAAAAcJdAAAAAAABwl0AAAAAAAECVQAAAAAAAWJtAAAAAAACck0AAAAAAAPCZQAAAAAAA6JJAAAAAAAAwgUAAAAAAAAB0QAAAAAAAQIVAAAAAAADQlkAAAAAAANCWQAAAAAAA4IVAAAAAAABokEAAAAAAAKiWQAAAAAAAkIpAAAAAAABAj0AAAAAAAEB/QAAAAAAAEJNAAAAAAACInUAAAAAAALCNQAAAAAAAwHJAAAAAAAAYlUAAAAAAAGBzQAAAAAAA4IpAAAAAAADokkAAAAAAAECPQAAAAAAA4IVAAAAAAAA4nUAAAAAAAACJQAAAAAAAQHVAAAAAAACQhUAAAAAAAPiRQAAAAAAAQJBAAAAAAAAIq0AAAAAAAI6yQAAAAAAAQJBAAAAAAADAjEAAAAAAAIijQAAAAAAAbKFAAAAAAAAkrUAAAAAAAJqwQAAAAAAA4I9AAAAAAABwh0AAAAAAAPiRQAAAAAAAwHJAAAAAAADAbEAAAAAAAOB6QAAAAAAAIJxAAAAAAAAQiEAAAAAAABCIQAAAAAAAAG5AAAAAAABwh0AAAAAAACCMQAAAAAAAgItAAAAAAADgpUAAAAAAAOCFQAAAAAAAkIVAAAAAAABAcEAAAAAAAOCVQAAAAAAAgHtAAAAAAABYkUAAAAAAABifQAAAAAAACKFAAAAAAABAj0AAAAAAAFCUQAAAAAAAIIJAAAAAAACQgEAAAAAAAECPQAAAAAAAaJBAAAAAAAAwhkAAAAAAAJiiQAAAAAAAsI1AAAAAAADYnUAAAAAAACCMQAAAAAAAcIdAAAAAAABwl0AAAAAAAECfQAAAAAAAIHxAAAAAAAAAeUAAAAAAAHCHQAAAAAAAAH5AAAAAAAAAhEAAAAAAAMCCQAAAAAAAUJRAAAAAAAAQg0AAAAAAACByQAAAAAAAcIdAAAAAAAAAeUAAAAAAAECfQAAAAAAAgHFAAAAAAABIl0AAAAAAAOyjQAAAAAAAQHVAAAAAAAAgd0AAAAAAAMCCQAAAAAAAIHxAAAAAAABYkUAAAAAAAAB+QAAAAAAAoJ5AAAAAAADgf0AAAAAAAOBwQAAAAAAAMJFAAAAAAAAAiUAAAAAAAHCHQAAAAAAAUI5AAAAAAABAf0AAAAAAAGiQQAAAAAAAYH1AAAAAAACAe0AAAAAAAMBiQAAAAAAA8IlAAAAAAAD4oUAAAAAAAGigQAAAAAAAwKJAAAAAAADQi0AAAAAAACCCQAAAAAAAAHRAAAAAAABYlkAAAAAAAHCXQAAAAAAAcJdAAAAAAACwmEAAAAAAAMByQAAAAAAAAGlAAAAAAABAf0AAAAAAAMCCQAAAAAAAAGRAAAAAAABAdUAAAAAAAEB/QAAAAAAAAGlAAAAAAADQgUAAAAAAAIizQAAAAAAAgHZAAAAAAABQjkAAAAAAANCbQAAAAAAAwGJAAAAAAAAAeUAAAAAAALCNQAAAAAAAcKdAAAAAAADAYkAAAAAAAFCJQAAAAAAAkIpAAAAAAAAYlUAAAAAAAIBhQAAAAAAAQH9AAAAAAACAZkAAAAAAAEBlQAAAAAAAoIRAAAAAAAAAiUAAAAAAAJSmQAAAAAAAuJBAAAAAAABAj0AAAAAAACB8QAAAAAAADKxAAAAAAACQhUAAAAAAAABkQAAAAAAAcJdAAAAAAADso0AAAAAAACCMQAAAAAAAQH9AAAAAAADAkkAAAAAAAKimQAAAAAAAwJJAAAAAAABAf0AAAAAAAHCCQAAAAAAAQK9AAAAAAABAf0AAAAAAAECvQAAAAAAAQK9AAAAAAABwl0AAAAAAAABpQAAAAAAAwJJAAAAAAACwjUAAAAAAAMByQAAAAAAAAHlAAAAAAADAgkAAAAAAADCBQAAAAAAAMItAAAAAAAA4nUAAAAAAAFCEQAAAAAAAgGtAAAAAAAD4kUAAAAAAAKB+QAAAAAAAoH5AAAAAAABAf0AAAAAAACCMQAAAAAAAwGJAAAAAAABAj0AAAAAAAIiYQAAAAAAAsIhAAAAAAABAb0AAAAAAAAiRQAAAAAAAIIxAAAAAAADghUAAAAAAAJCKQAAAAAAAAHlAAAAAAADAkkAAAAAAAJCFQAAAAAAAIIxAAAAAAACAhkAAAAAAAIB2QAAAAAAAsIhAAAAAAACAe0AAAAAAAECPQAAAAAAAYIhAAAAAAABYkUAAAAAAACB8QAAAAAAAwHJAAAAAAABAj0AAAAAAAJCaQAAAAAAAQI9AAAAAAADAckAAAAAAACCHQAAAAAAAIJxAAAAAAABAj0AAAAAAALCYQAAAAAAATKNAAAAAAAAgfEAAAAAAABiVQAAAAAAAIIxAAAAAAAAwgUAAAAAAAOB1QAAAAAAAAI5AAAAAAADgdUAAAAAAAMBsQAAAAAAAwIxAAAAAAACQhUAAAAAAAHCXQAAAAAAAcJdAAAAAAADwiUAAAAAAAIBxQAAAAAAAsINAAAAAAADAckAAAAAAAECfQAAAAAAAcJxAAAAAAAAQnUAAAAAAAGCNQAAAAAAAMIZAAAAAAAAAeUAAAAAAAHCCQAAAAAAAkJpAAAAAAADQlkAAAAAAACCCQAAAAAAA4JVAAAAAAABQhEAAAAAAAGB9QAAAAAAAoHlAAAAAAABAj0AAAAAAAICLQAAAAAAAQG9AAAAAAAAAWUAAAAAAAEBvQAAAAAAAIIxAAAAAAAAAeUAAAAAAAFCEQAAAAAAAIIxAAAAAAABQjkAAAAAAADCGQAAAAAAAYHNAAAAAAAAAhEAAAAAAAACEQAAAAAAAqJtAAAAAAADghUAAAAAAAEiXQAAAAAAAUIRAAAAAAADwjkAAAAAAALiVQAAAAAAAyJlAAAAAAABwp0AAAAAAAHCHQAAAAAAAAIlAAAAAAAAAfkAAAAAAAEBqQAAAAAAAQIBAAAAAAAAAeUAAAAAAAABpQAAAAAAAcKdAAAAAAABQhEAAAAAAAEB/QAAAAAAAiLNAAAAAAADgcEAAAAAAAGB4QAAAAAAAQI9AAAAAAADgmkAAAAAAAIB2QAAAAAAAWKtAAAAAAAAAmUAAAAAAAKibQAAAAAAAAHlAAAAAAAAYlUAAAAAAANCWQAAAAAAAcJdAAAAAAAAwm0AAAAAAAMCCQAAAAAAAQH9AAAAAAADghUAAAAAAAMCSQAAAAAAAcKdAAAAAAAAgfEAAAAAAAAB5QAAAAAAAYH1AAAAAAACghEAAAAAAAGiQQAAAAAAAAGlAAAAAAADAbEAAAAAAAOCFQAAAAAAAIHdAAAAAAABAekAAAAAAAEBvQAAAAAAAwIdAAAAAAABQhEAAAAAAAAB5QAAAAAAA4JBAAAAAAABAn0AAAAAAAEBvQAAAAAAAwIdAAAAAAAAwoUAAAAAAAFirQAAAAAAA0ItAAAAAAABAf0AAAAAAAICLQAAAAAAAQG9AAAAAAACghEAAAAAAAESmQAAAAAAA4JVAAAAAAADAckAAAAAAAEBvQAAAAAAAzLBAAAAAAADgdUAAAAAAALCDQAAAAAAAcKdAAAAAAADAckAAAAAAAKB0QAAAAAAAiKNAAAAAAABIokAAAAAAAGBzQAAAAAAAUIRAAAAAAAAgckAAAAAAAMByQAAAAAAAIHxAAAAAAAD4kUAAAAAAAMByQAAAAAAA4HVAAAAAAADAckAAAAAAAEB/QAAAAAAAiLNAAAAAAABQlEAAAAAAAFCEQAAAAAAAcIJAAAAAAADAckAAAAAAAACJQAAAAAAAIIxAAAAAAABwl0AAAAAAAACJQAAAAAAAwHJAAAAAAADAckAAAAAAAASgQAAAAAAAwHJAAAAAAACgdEAAAAAAADioQAAAAAAA4HpAAAAAAABAj0AAAAAAAFCUQAAAAAAA4IVAAAAAAACIs0AAAAAAAEB/QAAAAAAAiLNAAAAAAAAwkUAAAAAAAMByQAAAAAAAcIdAAAAAAACwjUAAAAAAACCXQAAAAAAAsI1AAAAAAABAr0AAAAAAAIizQAAAAAAAEIhAAAAAAACgfkAAAAAAAMCSQAAAAAAAAIlAAAAAAAAgjEAAAAAAAIijQAAAAAAAQI9AAAAAAABQlEAAAAAAAMCSQAAAAAAAAGlAAAAAAABAj0AAAAAAAACJQAAAAAAAQI9AAAAAAAAgjEAAAAAAANCWQAAAAAAAIHxAAAAAAADghUAAAAAAAJCAQAAAAAAAQHBAAAAAAAAAiUAAAAAAAACJQAAAAAAAQGpAAAAAAABAf0AAAAAAAABuQAAAAAAAMKFAAAAAAACIo0AAAAAAAGiaQAAAAAAA4HpAAAAAAABAr0AAAAAAAECAQAAAAAAAMJFAAAAAAAAMp0AAAAAAAACJQAAAAAAAYJNAAAAAAADQlkAAAAAAAMByQAAAAAAAAIlAAAAAAAAQiEAAAAAAAHCXQAAAAAAAQI9AAAAAAAAggkAAAAAAAECKQAAAAAAAMJFAAAAAAAD4kUAAAAAAAIB2QAAAAAAAQH9AAAAAAADgdUAAAAAAACB8QAAAAAAAcJdAAAAAAADghUAAAAAAAEB/QAAAAAAAwHJAAAAAAACIo0AAAAAAAACJQAAAAAAAoH5AAAAAAABwl0AAAAAAAAB5QAAAAAAAAIlAAAAAAADAgkAAAAAAAECfQAAAAAAAIIdAAAAAAADQlkAAAAAAAHCXQAAAAAAAAIlAAAAAAADghUAAAAAAACCMQAAAAAAAwIJAAAAAAACwjUAAAAAAAJCVQAAAAAAAMIFAAAAAAACQikAAAAAAAEB/QAAAAAAAQK9AAAAAAABAr0AAAAAAAJShQAAAAAAAwHJAAAAAAADgpUAAAAAAACB8QAAAAAAAwIJAAAAAAADYmEAAAAAAAICBQAAAAAAAiKNAAAAAAACQj0AAAAAAAJCFQAAAAAAAQH9AAAAAAACQikAAAAAAAFazQAAAAAAAAIlAAAAAAADAh0AAAAAAAEB/QAAAAAAAQI9AAAAAAADgdUAAAAAAAKB5QAAAAAAAwHdAAAAAAAAgnEAAAAAAAOCFQAAAAAAAAIlAAAAAAACAa0AAAAAAACB8QAAAAAAAiKNAAAAAAACAi0AAAAAAAECfQAAAAAAA4HVAAAAAAABgfUAAAAAAAECPQAAAAAAAwIJAAAAAAADAkkAAAAAAAEB/QAAAAAAAYHNAAAAAAAAwkUAAAAAAAACJQAAAAAAARKZAAAAAAACwjUAAAAAAAJSxQAAAAAAAAIlAAAAAAADAfEAAAAAAAECPQAAAAAAAQI9AAAAAAABAj0AAAAAAAMByQAAAAAAAWJtAAAAAAABwl0AAAAAAAHCXQAAAAAAA0IFAAAAAAABwl0AAAAAAAEB/QAAAAAAAcIJAAAAAAACAYUAAAAAAAFirQAAAAAAAiLNAAAAAAAAAaUAAAAAAAOCFQAAAAAAAwIJAAAAAAABQhEAAAAAAAPCEQAAAAAAA4IBAAAAAAAAgfEAAAAAAAOqwQAAAAAAAWJtAAAAAAACAdkAAAAAAAACJQAAAAAAAwGxAAAAAAAAAeUAAAAAAAHCnQAAAAAAAQJ9AAAAAAAAgnEAAAAAAAAB5QAAAAAAAwJJAAAAAAABwl0AAAAAAAICGQAAAAAAAAH5AAAAAAAAgfEAAAAAAAHCnQAAAAAAAcKdAAAAAAABAr0AAAAAAAAB5QAAAAAAAcKdAAAAAAABYm0AAAAAAAACJQAAAAAAAAJlAAAAAAADAkkAAAAAAAECPQAAAAAAAOKNAAAAAAACAcUAAAAAAAMByQAAAAAAAwHJAAAAAAACwiEAAAAAAAABkQAAAAAAAQG9AAAAAAAAwgUAAAAAAAGCNQAAAAAAAAGlAAAAAAABAr0AAAAAAAEBvQAAAAAAA4HVAAAAAAACQmkAAAAAAAECfQAAAAAAA4IpAAAAAAAD4kUAAAAAAACB8QAAAAAAAYIhAAAAAAABAhUAAAAAAAMCXQAAAAAAAQI9AAAAAAACQgEAAAAAAAACJQAAAAAAAoHlAAAAAAADgekAAAAAAAAB5QAAAAAAAQIpAAAAAAADQoUAAAAAAAKCEQAAAAAAAUIRAAAAAAADAgkAAAAAAAGB4QAAAAAAA4HVAAAAAAABAn0AAAAAAAACJQAAAAAAAsI1AAAAAAACQhUAAAAAAAEB/QAAAAAAAQJ9AAAAAAADAjEAAAAAAADiYQAAAAAAA0JtAAAAAAADAgkAAAAAAAOB1QAAAAAAAAG5AAAAAAADAckAAAAAAADCRQAAAAAAAQH9AAAAAAADAfEAAAAAAAJCKQAAAAAAAsINAAAAAAABAf0AAAAAAAACJQAAAAAAAUJRAAAAAAAA4mEAAAAAAABiVQAAAAAAAkIVAAAAAAABAb0AAAAAAAFirQAAAAAAAwIdAAAAAAADAgkAAAAAAAOB6QAAAAAAAkJpAAAAAAABYq0AAAAAAAMBsQAAAAAAAwJJAAAAAAADAkkAAAAAAACSjQAAAAAAAUJ5AAAAAAACIs0AAAAAAAHieQAAAAAAAcIdAAAAAAAAAiUAAAAAAAOB1QAAAAAAAgHFAAAAAAAAwgUAAAAAAAECfQAAAAAAA0ItAAAAAAABAhUAAAAAAAOCKQAAAAAAAcIdAAAAAAADgdUAAAAAAAEB6QAAAAAAASJdAAAAAAAAwi0AAAAAAAAB0QAAAAAAAiJNAAAAAAAAgd0AAAAAAAACJQAAAAAAAMJFAAAAAAACQkEAAAAAAAMByQAAAAAAAkIBAAAAAAABwl0AAAAAAAECQQAAAAAAAgGtAAAAAAAC4lUAAAAAAALCNQAAAAAAAwHJAAAAAAABgk0AAAAAAAAB5QAAAAAAAcKdAAAAAAAAAaUAAAAAAAMByQAAAAAAAcJdAAAAAAABwh0AAAAAAANCWQAAAAAAA0JZAAAAAAACAi0AAAAAAAEBlQAAAAAAAiJ1AAAAAAACgfkAAAAAAAACJQAAAAAAAAHlAAAAAAADghUAAAAAAAMByQAAAAAAAwHJAAAAAAADAd0AAAAAAAOCFQAAAAAAAMIZAAAAAAAAAeUAAAAAAANCGQAAAAAAAwJJAAAAAAABAZUAAAAAAABCYQAAAAAAAmJJAAAAAAAAgfEAAAAAAAHCnQAAAAAAAQGpAAAAAAAC4kEAAAAAAAECAQAAAAAAAwJJAAAAAAADAgkAAAAAAAECPQAAAAAAA4IVAAAAAAACAi0AAAAAAAECfQAAAAAAAAHlAAAAAAACAe0AAAAAAALCNQAAAAAAAQI9AAAAAAADAckAAAAAAAOB1QAAAAAAAIHxAAAAAAAAIkUAAAAAAAEBqQAAAAAAAcJdAAAAAAAAgjEAAAAAAAECPQAAAAAAASIdAAAAAAADgcEAAAAAAABiVQAAAAAAA8JRAAAAAAACAi0AAAAAAAFCJQAAAAAAASJdAAAAAAAAgjEAAAAAAAOCFQAAAAAAAcIdAAAAAAABAf0AAAAAAAECFQAAAAAAAsIhAAAAAAADAckAAAAAAAEB6QAAAAAAAYHhAAAAAAADAZ0AAAAAAACB8QAAAAAAAAHlAAAAAAAAopEAAAAAAAJCVQAAAAAAAQIBAAAAAAAAgfEAAAAAAAFCUQAAAAAAAQG9AAAAAAABwh0AAAAAAAHCnQAAAAAAAiLNAAAAAAACAYUAAAAAAAOB1QAAAAAAAcKdAAAAAAAAAfkAAAAAAAKB+QAAAAAAAoHRAAAAAAAB8pUAAAAAAAHieQAAAAAAA4HVAAAAAAADgdUAAAAAAAKB0QAAAAAAA0ItAAAAAAADgdUAAAAAAAEBwQAAAAAAAUI5AAAAAAABgc0AAAAAAAAB+QAAAAAAAQH9AAAAAAADAckAAAAAAAHCCQAAAAAAAAIlAAAAAAABMrUAAAAAAAAB5QAAAAAAAAHRAAAAAAADQkUAAAAAAAACJQAAAAAAA4HBAAAAAAADgdUAAAAAAAESmQAAAAAAAQHVAAAAAAAAgjEAAAAAAAMCCQAAAAAAA8I5AAAAAAAC0pEAAAAAAAOB/QAAAAAAAwGxAAAAAAAAAdEAAAAAAANCLQAAAAAAAQH9AAAAAAAAAeUAAAAAAAEB6QAAAAAAAQGpAAAAAAADQi0AAAAAAAMBsQAAAAAAA4HVAAAAAAACwjUAAAAAAAIB2QAAAAAAAwIJAAAAAAADglUAAAAAAAMByQAAAAAAAUIRAAAAAAACYokAAAAAAAGCDQAAAAAAAUIRAAAAAAABYlkAAAAAAACB8QAAAAAAAgIZAAAAAAAAgfEAAAAAAAMBnQAAAAAAAwIdAAAAAAABAj0AAAAAAAEB/QAAAAAAAMIFAAAAAAABwl0AAAAAAAAB5QAAAAAAAwGxAAAAAAABwh0AAAAAAAAB5QAAAAAAAAGlAAAAAAABAb0AAAAAAAMCCQAAAAAAA0IFAAAAAAACAZkAAAAAAAOB/QAAAAAAAiLNAAAAAAADwjkAAAAAAABCTQAAAAAAAYHhAAAAAAABQlEAAAAAAAOCFQAAAAAAAlLFAAAAAAABQjkAAAAAAAKibQAAAAAAAwIJAAAAAAAAYqkAAAAAAANCWQAAAAAAAQrNAAAAAAABolUAAAAAAACCCQAAAAAAAcJdAAAAAAADAckAAAAAAAMB3QAAAAAAAAG5AAAAAAABwl0AAAAAAAECFQAAAAAAAcIdAAAAAAADAbEAAAAAAAGB4QAAAAAAAQH9AAAAAAABYq0AAAAAAAIBxQAAAAAAAoH5AAAAAAABAb0AAAAAAACCMQAAAAAAAAHlAAAAAAAAAaUAAAAAAAMBiQAAAAAAA4IVAAAAAAAAAeUAAAAAAAPCkQAAAAAAAuKBAAAAAAAAMokAAAAAAAEB/QAAAAAAA0KtAAAAAAAAApEAAAAAAACiZQAAAAAAA4HpAAAAAAADAokAAAAAAAJicQAAAAAAAMKFAAAAAAAAQjUAAAAAAAMBsQAAAAAAAnKhAAAAAAACgqUAAAAAAAMCCQAAAAAAAQH9AAAAAAADorEAAAAAAAEB/QAAAAAAA0IZAAAAAAADgikAAAAAAABCIQAAAAAAAIIxAAAAAAACwiEAAAAAAAFyiQAAAAAAAsI1AAAAAAEBA2UAAAAAAAFirQAAAAAAAYJ1AAAAAAADAckAAAAAAAAB0QAAAAAAAsI1AAAAAAAAgfEAAAAAAAOBwQAAAAAAA4IVAAAAAAADAckAAAAAAAABkQAAAAAAAYHhAAAAAAABQhEAAAAAAAOCFQAAAAAAACJFAAAAAAADgdUAAAAAAAIBmQAAAAAAAwIJAAAAAAADghUAAAAAAAACEQAAAAAAA4IVAAAAAAABIl0AAAAAAACB3QAAAAAAAMJFAAAAAAADAkkAAAAAAAEBvQAAAAAAAAFlAAAAAAACIk0AAAAAAAEBlQAAAAAAAoHRAAAAAAAAAaUAAAAAAADCRQAAAAAAAIIxAAAAAAADghUAAAAAAAEBqQAAAAAAAwIJAAAAAAADAkkAAAAAAAKB+QAAAAAAAAHlAAAAAAAAAWUAAAAAAAAB+QAAAAAAAWKtAAAAAAAAAeUAAAAAAAFibQAAAAAAA4HVAAAAAAACwnUAAAAAAAACEQAAAAAAAwHdAAAAAAABAj0AAAAAAAEBvQAAAAAAA4IVAAAAAAABAdUAAAAAAAOB6QAAAAAAAwGJAAAAAAACIk0AAAAAAAEB/QAAAAAAANJdAAAAAAACAa0AAAAAAAFibQAAAAAAAiKNAAAAAAACQmkAAAAAAACCMQAAAAAAAiLNAAAAAAABAf0AAAAAAAIBhQAAAAAAAiKNAAAAAAABwl0AAAAAAAECAQAAAAAAA4IVAAAAAAABAb0AAAAAAAMByQAAAAAAAAHRAAAAAAADol0AAAAAAAIijQAAAAAAAQK9AAAAAAACwjUAAAAAAADCLQAAAAAAAAGlAAAAAAADQlkAAAAAAAMCSQAAAAAAAQH9AAAAAAABAb0AAAAAAALCIQAAAAAAAcJdAAAAAAACck0AAAAAAAGB4QAAAAAAAUIRAAAAAAABApUAAAAAAAECfQAAAAAAAIJxAAAAAAACAdkAAAAAAAOB1QAAAAAAAQG9AAAAAAACAcUAAAAAAAPCeQAAAAAAAUIRAAAAAAADAkkAAAAAAAMByQAAAAAAAAGlAAAAAAADAckAAAAAAAEiHQAAAAAAAMIFAAAAAAABokEAAAAAAAMByQAAAAAAAYINAAAAAAABAf0AAAAAAAOCVQAAAAAAA4I9AAAAAAABQhEAAAAAAAIiYQAAAAAAAIJdAAAAAAACgfkAAAAAAAEB1QAAAAAAAUIRAAAAAAABwh0AAAAAAAABpQAAAAAAAIHxAAAAAAAAgfEAAAAAAAMCCQAAAAAAAwKJAAAAAAAAAiUAAAAAAAACJQAAAAAAAwIdAAAAAAACcrUAAAAAAAMByQAAAAAAAwIJAAAAAAAAgjEAAAAAAALCIQAAAAAAAoHRAAAAAAADAYkAAAAAAAAB5QAAAAAAAAH5AAAAAAABwl0AAAAAAAMCCQAAAAAAAQI9AAAAAAABQhEAAAAAAAFCkQAAAAAAA4HBAAAAAAACwiEAAAAAAAMBiQAAAAAAAUIRAAAAAAACAoUAAAAAAAJCKQAAAAAAAgKtAAAAAAADAckAAAAAAAGCIQAAAAAAA0IZAAAAAAABAf0AAAAAAAAB0QAAAAAAAcIdAAAAAAABgeEAAAAAAAGigQAAAAAAAQH9AAAAAAADAgkAAAAAAAAB5QAAAAAAAwHJAAAAAAAAgckAAAAAAAFibQAAAAAAAcJdAAAAAAABwp0AAAAAAALCNQAAAAAAAcIdAAAAAAAAAiUAAAAAAAOCPQAAAAAAAMIFAAAAAAAAwkUAAAAAAAKB5QAAAAAAAiLNAAAAAAADAkkAAAAAAANCWQAAAAAAAsI1AAAAAAAAggkAAAAAAAECPQAAAAAAAcIdAAAAAAABAn0AAAAAAAGB4QAAAAAAAAHRAAAAAAADghUAAAAAAAEBvQAAAAAAAoI5AAAAAAABAcEAAAAAAAIBrQAAAAAAAMIFAAAAAAADAgkAAAAAAAHCHQAAAAAAAsIhAAAAAAADAgkAAAAAAAMCMQAAAAAAAMJFAAAAAAABgfUAAAAAAAOCFQAAAAAAA6JJAAAAAAACAZkAAAAAAALCNQAAAAAAAcIdAAAAAAADghUAAAAAAAACJQAAAAAAAAIlAAAAAAACwk0AAAAAAAACJQAAAAAAAgIFAAAAAAAAwkUAAAAAAAOBwQAAAAAAAIHxAAAAAAADglUAAAAAAAPCOQAAAAAAAwIJAAAAAAABQlEAAAAAAAOB1QAAAAAAAQJ9AAAAAAACAa0AAAAAAAEB6QAAAAAAAAJRAAAAAAABAf0AAAAAAAHCXQAAAAAAAQI9AAAAAAADAfEAAAAAAAMCCQAAAAAAAMKFAAAAAAADwjkAAAAAAAIioQAAAAAAAwIJAAAAAAABAf0AAAAAAAKB5QAAAAAAAgHFAAAAAAAAAeUAAAAAAAKB+QAAAAAAAAGlAAAAAAADAgkAAAAAAALCNQAAAAAAAIHdAAAAAAAAgfEAAAAAAANCBQAAAAAAAkJ9AAAAAAADAgkAAAAAAAEB/QAAAAAAAyJlAAAAAAAAAeUAAAAAAAIBxQAAAAAAAQH9AAAAAAABAj0AAAAAAAMBnQAAAAAAA5KFAAAAAAADAh0AAAAAAAGCTQAAAAAAA4HVAAAAAAAAAeUAAAAAAAMCXQAAAAAAA4IVAAAAAAADQlkAAAAAAACCMQAAAAAAAIHxAAAAAAABAdUAAAAAAAECfQAAAAAAAcIdAAAAAAAAYlUAAAAAAANiYQAAAAAAA4HBAAAAAAABwp0AAAAAAAEBvQAAAAAAAwJJAAAAAAABwgkAAAAAAAMygQAAAAAAAQI9AAAAAAABAikAAAAAAAMB3QAAAAAAAEINAAAAAAACgfkAAAAAAAACJQAAAAAAAzKVAAAAAAADnu0AAAAAAACygQAAAAAAAqJZAAAAAAABwl0AAAAAAACCcQAAAAAAAsINAAAAAAAAAXkAAAAAAAOB1QAAAAAAAQH9AAAAAAADAYkAAAAAAAMCSQAAAAAAAQHpAAAAAAABgjUAAAAAAAEBlQAAAAAAAIIxAAAAAAAD4kUAAAAAAAIB7QAAAAAAAAGRAAAAAAADAYkAAAAAAAAB5QAAAAAAAwJJAAAAAAABAn0AAAAAAAHieQAAAAAAAKKRAAAAAAAAUpEAAAAAAAJCAQAAAAAAA4IVAAAAAAACQikAAAAAAAGiQQAAAAAAAAFlAAAAAAAAAZEAAAAAAAOB1QAAAAAAAAHlAAAAAAABwh0AAAAAAAACZQAAAAAAAeJRAAAAAAAAgnEAAAAAAAOCFQAAAAAAAqJZAAAAAAADgdUAAAAAAAECPQAAAAAAAwHJAAAAAAABwjEAAAAAAAGSkQAAAAAAAwIJAAAAAAADgcEAAAAAAANCWQAAAAAAAgItAAAAAAABwh0AAAAAAABiQQAAAAAAAAIlAAAAAAABAekAAAAAAACSjQAAAAAAAcIdAAAAAAABYq0AAAAAAAEB/QAAAAAAAIIxAAAAAAAA8pEAAAAAAAMCHQAAAAAAAqKZAAAAAAADAfEAAAAAAAEBvQAAAAAAATK1AAAAAAABwh0AAAAAAAEB/QAAAAAAAgHFAAAAAAAAwgUAAAAAAAMByQAAAAAAAQJpAAAAAAAAYn0AAAAAAAOB6QAAAAAAASJJAAAAAAAC4lUAAAAAAANCWQAAAAAAAoK5AAAAAAADwlEAAAAAAAABeQAAAAAAAWJFAAAAAAABAgEAAAAAAAACEQAAAAAAA0JZAAAAAAAAgfEAAAAAAANCGQAAAAAAAMKFAAAAAAABQhEAAAAAAAMCCQAAAAAAAIIxAAAAAAACIo0AAAAAAAACJQAAAAAAAWJtAAAAAAABYm0AAAAAAAHCHQAAAAAAAQH9AAAAAAAAAaUAAAAAAALCDQAAAAAAAIIxAAAAAAAAwgUAAAAAAAGyhQAAAAAAAwIJAAAAAAACAe0AAAAAAAMB3QAAAAAAArKxAAAAAAAAAeUAAAAAAAKiWQAAAAAAAUJlAAAAAAADAZ0AAAAAAAMCCQAAAAAAAgItAAAAAAABAj0AAAAAAAOB1QAAAAAAAgGFAAAAAAAAwkUAAAAAAAACJQAAAAAAAoJRAAAAAAACgfkAAAAAAAOiSQAAAAAAAwGdAAAAAAABwgkAAAAAAAFCUQAAAAAAAAFlAAAAAAABwgkAAAAAAAJCKQAAAAAAAQI9AAAAAAADgdUAAAAAAACCMQAAAAAAAwHJAAAAAAADwiUAAAAAAAECPQAAAAAAAwJJAAAAAAACQikAAAAAAAEBvQAAAAAAAQH9AAAAAAABwh0AAAAAAAECfQAAAAAAAQI9AAAAAAABAj0AAAAAAAFCJQAAAAAAAwIdAAAAAAABAf0AAAAAAAMB8QAAAAAAAwIJAAAAAAAAAeUAAAAAAAEB/QAAAAAAAsI1AAAAAAABAf0AAAAAAAMCCQAAAAAAAAF5AAAAAAACIk0AAAAAAAPCJQAAAAAAAIIxAAAAAAABAf0AAAAAAAAiRQAAAAAAAeJRAAAAAAADglUAAAAAAACCMQAAAAAAAAGlAAAAAAABwjEAAAAAAAACJQAAAAAAAQG9AAAAAAADAkkAAAAAAAJCaQAAAAAAAYHhAAAAAAABwl0AAAAAAALiaQAAAAAAAIIxAAAAAAAAAiUAAAAAAAECPQAAAAAAAwGdAAAAAAABgeEAAAAAAAMByQAAAAAAAcIJAAAAAAABokEAAAAAAAMCXQAAAAAAAiJNAAAAAAAAAaUAAAAAAAFCEQAAAAAAAQIpAAAAAAADsrUAAAAAAADCmQAAAAAAAQGVAAAAAAAAggkAAAAAAAHCnQAAAAAAAUIRAAAAAAABAb0AAAAAAAABpQAAAAAAAMIZAAAAAAABAb0AAAAAAAKB+QAAAAAAAkIpAAAAAAAAwpkAAAAAAAACJQAAAAAAAIIJAAAAAAAC8pkAAAAAAAKCJQAAAAAAA1KdAAAAAAABolUAAAAAAAMCCQAAAAAAAkIpAAAAAAABMrUAAAAAAAAiRQAAAAAAAPKlAAAAAAAColkAAAAAAAIBrQAAAAAAAEI1AAAAAAADgn0AAAAAAAKCEQAAAAAAAQHVAAAAAAABwokAAAAAAADCRQAAAAAAAwGJAAAAAAADAkkAAAAAAAIBWQAAAAAAA0JZAAAAAAABAf0AAAAAAAFCJQAAAAAAAQH9AAAAAAABAj0AAAAAAAMCCQAAAAAAAfKBAAAAAAABAj0AAAAAAALigQAAAAAAAAF5AAAAAAAAAiUAAAAAAANCRQAAAAAAAAIlAAAAAAAAgckAAAAAAACKwQAAAAAAAUIRAAAAAAADAgkAAAAAAAECPQAAAAAAAIHdAAAAAAACYrEAAAAAAAEBgQAAAAAAAsIhAAAAAAACghEAAAAAAAECPQAAAAAAAwHJAAAAAAABwjEAAAAAAAMBnQAAAAAAAgHZAAAAAAADAgkAAAAAAAEBvQAAAAAAA4JVAAAAAAABAj0AAAAAAAJCFQAAAAAAAYINAAAAAAAAAZEAAAAAAAMByQAAAAAAAIIxAAAAAAABAekAAAAAAADSXQAAAAAAAQI9AAAAAAACwg0AAAAAAACB3QAAAAAAAsINAAAAAAABAf0AAAAAAAMBiQAAAAAAAAIlAAAAAAADAkkAAAAAAAACJQAAAAAAAQHpAAAAAAABAb0AAAAAAANCWQAAAAAAAKJRAAAAAAMDm20AAAAAAANCWQAAAAAAAiLNAAAAAAAAonkAAAAAAAHieQAAAAAAAkKBAAAAAAADAZ0AAAAAAAOBwQAAAAAAAOJhAAAAAAABwh0AAAAAAAIizQAAAAAAA8I5AAAAAAACAZkAAAAAAACByQAAAAAAAgFtAAAAAAABgfUAAAAAAAHCHQAAAAAAAYHNAAAAAAAAAiUAAAAAAAHCCQAAAAAAAAGRAAAAAAADghUAAAAAAAPCJQAAAAAAAMIFAAAAAAABwp0AAAAAAAABpQAAAAAAA8IlAAAAAAADAgkAAAAAAAJCPQAAAAAAAsJNAAAAAAABAakAAAAAAAECFQAAAAAAAcKdAAAAAAABAf0AAAAAAAMCSQAAAAAAAIIxAAAAAAACAhkAAAAAAALiaQAAAAAAAEI1AAAAAAABgnUAAAAAAAEiXQAAAAAAAcIxAAAAAAADwhEAAAAAAACByQAAAAAAAQJpAAAAAAABAr0AAAAAAAFCEQAAAAAAA6JxAAAAAAAB0o0AAAAAAAOCFQAAAAAAAwIJAAAAAAACgdEAAAAAAAEBvQAAAAAAAoHlAAAAAAABAb0AAAAAAACB8QAAAAAAAKJRAAAAAAAAAiUAAAAAAAGiQQAAAAAAAgFtAAAAAAADgdUAAAAAAACCcQAAAAAAA+JFAAAAAAABgeEAAAAAAADCRQAAAAAAAQIBAAAAAAADAh0AAAAAAAKCOQAAAAAAAAHlAAAAAAAAgnEAAAAAAACiUQAAAAAAAQH9AAAAAAAAAeUAAAAAAAACJQAAAAAAAsJNAAAAAAABgiEAAAAAAADCBQAAAAAAA0JZAAAAAAABAf0AAAAAAAEBvQAAAAAAAsIhAAAAAAACQgEAAAAAAADChQAAAAAAAwJJAAAAAAAAgjEAAAAAAAEBvQAAAAAAA4JVAAAAAAAAAeUAAAAAAAAB5QAAAAAAAgHFAAAAAAAAgckAAAAAAAOCFQAAAAAAAPKlAAAAAAABAf0AAAAAAAGSpQAAAAAAAAHlAAAAAAADAfEAAAAAAAAB0QAAAAAAAgItAAAAAAAAAdEAAAAAAALCNQAAAAAAAgGtAAAAAAABwh0AAAAAAALCdQAAAAAAAAGlAAAAAAABAn0AAAAAAAPCOQAAAAAAACJZAAAAAAABAj0AAAAAAAABpQAAAAACAsdhAAAAAAAAAiUAAAAAAAEBwQAAAAAAAAGlAAAAAAABAj0AAAAAAAMByQAAAAAAAwHJAAAAAAAAAeUAAAAAAAIizQAAAAAAAAHlAAAAAAAAAlEAAAAAAAMB8QAAAAAAAmJJAAAAAAABAf0AAAAAAAAB0QAAAAAAAGKpAAAAAAAAAeUAAAAAAAEB/QAAAAAAAAGlAAAAAAABkqUAAAAAAAMBsQAAAAAAA6JxAAAAAAADAl0AAAAAAAEB/QAAAAAAAwGxAAAAAAADgdUAAAAAAADijQAAAAAAAsJ1AAAAAAABAmkAAAAAAAJCPQAAAAAAAQGpAAAAAAAColkAAAAAAAEB/QAAAAAAA2JNAAAAAAABwl0AAAAAAAIizQAAAAAAAcJdAAAAAAABAj0AAAAAAALCDQAAAAAAAoI5AAAAAAADghUAAAAAAANCLQAAAAAAAQHpAAAAAAADgdUAAAAAAAMByQAAAAAAAQG9AAAAAAABAekAAAAAAAAB0QAAAAAAAAHRAAAAAAABAdUAAAAAAAECPQAAAAAAAQG9AAAAAAADgdUAAAAAAAHCXQAAAAAAAAHlAAAAAAADghUAAAAAAADSXQAAAAAAAwHJAAAAAAAAYqkAAAAAAAFCUQAAAAAAAkIVAAAAAAAAwkUAAAAAAAGB4QAAAAAAAwHJAAAAAAADAgkAAAAAAAKKhQAAAAAAAaJpAAAAAAABgg0AAAAAAACCcQAAAAAAAsIhAAAAAAADggEAAAAAAAACJQAAAAAAAQI9AAAAAAADgdUAAAAAAAHCHQAAAAAAAcIxAAAAAAADQm0AAAAAAALCNQAAAAAAAoH5AAAAAAAAAeUAAAAAAAGigQAAAAAAAEI1AAAAAAACIs0AAAAAAAJCQQAAAAAAAaJpAAAAAAAAwkUAAAAAAAABpQAAAAAAA4HVAAAAAAABAf0AAAAAAAMiZQAAAAAAA4JVAAAAAAACAYUAAAAAAAMCSQAAAAAAAQH9AAAAAAABYq0AAAAAAAGB4QAAAAAAAAJlAAAAAAADAbEAAAAAAAOB1QAAAAAAAAIlAAAAAAAAAeUAAAAAAAOB6QAAAAAAAcIJAAAAAAABgeEAAAAAAACCHQAAAAAAAQI9AAAAAAAAAiUAAAAAAAECPQAAAAAAAXKdAAAAAAACAdkAAAAAAAAB5QAAAAAAAOJhAAAAAAAC4n0AAAAAAAECPQAAAAAAAIIxAAAAAAAAQnUAAAAAAAECPQAAAAAAAQHBAAAAAAADghUAAAAAAAACJQAAAAAAAuJBAAAAAAAAIoUAAAAAAAMB8QAAAAAAARKZAAAAAAACgmUAAAAAAADChQAAAAAAA8JRAAAAAAAAAiUAAAAAAAECPQAAAAAAAIHJAAAAAAABAakAAAAAAAGCIQAAAAAAAcJdAAAAAAADghUAAAAAAAOB1QAAAAAAAgIZAAAAAAAAAhEAAAAAAADCBQAAAAAAA4JBAAAAAAAAisEAAAAAAAMB3QAAAAAAAAIlAAAAAAADgf0AAAAAAADCRQAAAAAAAcJdAAAAAAAAggkAAAAAAACB3QAAAAAAAIIJAAAAAAAAAaUAAAAAAAGBzQAAAAAAAiJhAAAAAAACgeUAAAAAAALCIQAAAAAAA4IVAAAAAAACwnUAAAAAAAKB0QAAAAAAAUJRAAAAAAADAbEAAAAAAAMBiQAAAAAAAwHxAAAAAAACQgEAAAAAAAEBqQAAAAAAAQG9AAAAAAABwjEAAAAAAAABZQAAAAAAAQGVAAAAAAACAZkAAAAAAAEBvQAAAAAAAMIZAAAAAAACAZkAAAAAAAEyjQAAAAAAAYJNAAAAAAAAsr0AAAAAAACCcQAAAAAAAAH5AAAAAAABAf0AAAAAAAECPQAAAAAAAQH9AAAAAAACwg0AAAAAAAISsQAAAAAAAQGBAAAAAAADAckAAAAAAAMCiQAAAAAAAQG9AAAAAAAAggkAAAAAAAMByQAAAAAAAoH5AAAAAAADwhEAAAAAAAJCaQAAAAAAAUJRAAAAAAADQlkAAAAAAAOB6QAAAAAAA+JFAAAAAAACQmkAAAAAAAJCqQAAAAAAAAIlAAAAAAADAbEAAAAAAADCBQAAAAAAA4HpAAAAAAABMqEAAAAAAAABkQAAAAAAAcJxAAAAAAAAgjEAAAAAAAOCFQAAAAAAAwHxAAAAAAADAfEAAAAAAAKCJQAAAAAAAoHlAAAAAAACooUAAAAAAAGB9QAAAAAAAQG9AAAAAAACgiUAAAAAAANCGQAAAAAAAcIdAAAAAAADAckAAAAAAAICLQAAAAAAA+JZAAAAAAAB4mUAAAAAAAPibQAAAAAAA2J1AAAAAAABAikAAAAAAAABuQAAAAAAAAJlAAAAAAACAa0AAAAAAAABkQAAAAAAA4HpAAAAAAAAAWUAAAAAAALCNQAAAAAAAcJdAAAAAAACAe0AAAAAAAMywQAAAAAAAQI9AAAAAAACQkEAAAAAAAABpQAAAAAAAqKZAAAAAAACgdEAAAAAAAMByQAAAAAAAgGFAAAAAAAAAXkAAAAAAAMCiQAAAAAAAwIJAAAAAAABIkkAAAAAAACCHQAAAAAAAQJ9AAAAAAADAkkAAAAAAAEB/QAAAAAAAAGlAAAAAAAAAeUAAAAAAAMBnQAAAAAAAQHBAAAAAAAAgkkAAAAAAAKimQAAAAAAAiLNAAAAAAACQhUAAAAAAAMCSQAAAAAAAYHhAAAAAAAD4oUAAAAAAAEBlQAAAAAAAaJBAAAAAAABwl0AAAAAAAICWQAAAAAAAIHdAAAAAAADAckAAAAAAAHCHQAAAAAAAAFlAAAAAAAAgckAAAAAAAICRQAAAAAAAMItAAAAAAABwh0AAAAAAAEiSQAAAAAAAUI5AAAAAAAAwgUAAAAAAAOB1QAAAAAAAAIlAAAAAAADAgkAAAAAAAMByQAAAAAAAjrJAAAAAAABAb0AAAAAAANCWQAAAAAAAUJRAAAAAAACAZkAAAAAAAAB5QAAAAAAAAHlAAAAAAABwgkAAAAAAAABpQAAAAAAAAGlAAAAAAACgfkAAAAAAAOCFQAAAAAAAsI1AAAAAAAAEsEAAAAAAAHCnQAAAAAAA4JVAAAAAAACAW0AAAAAAAEBvQAAAAAAA4IVAAAAAAADAYkAAAAAAAJCKQAAAAAAAUIRAAAAAAABMo0AAAAAAAHCMQAAAAAAAoI5AAAAAAABAakAAAAAAAMCCQAAAAAAAQIVAAAAAAADYo0AAAAAAAMBsQAAAAAAA8JlAAAAAAADgekAAAAAAAECfQAAAAAAAYINAAAAAAACImEAAAAAAANiTQAAAAAAAsJNAAAAAAADAskAAAAAAAGSuQAAAAAAAZrJAAAAAAACIo0AAAAAAADCBQAAAAAAASJJAAAAAAACAi0AAAAAAAHCXQAAAAAAAmJxAAAAAAADwhEAAAAAAALCDQAAAAAAAIJxAAAAAAACAW0AAAAAAANCGQAAAAAAAcJJAAAAAAACAa0AAAAAAAMCSQAAAAAAAwHJAAAAAAAB4mUAAAAAAAEBqQAAAAAAAuJBAAAAAAACwmEAAAAAAAEBlQAAAAAAAwIxAAAAAAABAcEAAAAAAAIB7QAAAAAAA+KFAAAAAAABwl0AAAAAAAEB/QAAAAAAAAGlAAAAAAABgnUAAAAAAAKiRQAAAAAAA+JFAAAAAAADwhEAAAAAAAIBmQA==",
          "dtype": "f8"
         },
         "xaxis": "x",
         "yaxis": "y"
        }
       ],
       "layout": {
        "barmode": "relative",
        "legend": {
         "tracegroupgap": 0
        },
        "paper_bgcolor": "#D8F3DC",
        "plot_bgcolor": "#D8F3DC",
        "template": {
         "data": {
          "bar": [
           {
            "error_x": {
             "color": "#2a3f5f"
            },
            "error_y": {
             "color": "#2a3f5f"
            },
            "marker": {
             "line": {
              "color": "#E5ECF6",
              "width": 0.5
             },
             "pattern": {
              "fillmode": "overlay",
              "size": 10,
              "solidity": 0.2
             }
            },
            "type": "bar"
           }
          ],
          "barpolar": [
           {
            "marker": {
             "line": {
              "color": "#E5ECF6",
              "width": 0.5
             },
             "pattern": {
              "fillmode": "overlay",
              "size": 10,
              "solidity": 0.2
             }
            },
            "type": "barpolar"
           }
          ],
          "carpet": [
           {
            "aaxis": {
             "endlinecolor": "#2a3f5f",
             "gridcolor": "white",
             "linecolor": "white",
             "minorgridcolor": "white",
             "startlinecolor": "#2a3f5f"
            },
            "baxis": {
             "endlinecolor": "#2a3f5f",
             "gridcolor": "white",
             "linecolor": "white",
             "minorgridcolor": "white",
             "startlinecolor": "#2a3f5f"
            },
            "type": "carpet"
           }
          ],
          "choropleth": [
           {
            "colorbar": {
             "outlinewidth": 0,
             "ticks": ""
            },
            "type": "choropleth"
           }
          ],
          "contour": [
           {
            "colorbar": {
             "outlinewidth": 0,
             "ticks": ""
            },
            "colorscale": [
             [
              0,
              "#0d0887"
             ],
             [
              0.1111111111111111,
              "#46039f"
             ],
             [
              0.2222222222222222,
              "#7201a8"
             ],
             [
              0.3333333333333333,
              "#9c179e"
             ],
             [
              0.4444444444444444,
              "#bd3786"
             ],
             [
              0.5555555555555556,
              "#d8576b"
             ],
             [
              0.6666666666666666,
              "#ed7953"
             ],
             [
              0.7777777777777778,
              "#fb9f3a"
             ],
             [
              0.8888888888888888,
              "#fdca26"
             ],
             [
              1,
              "#f0f921"
             ]
            ],
            "type": "contour"
           }
          ],
          "contourcarpet": [
           {
            "colorbar": {
             "outlinewidth": 0,
             "ticks": ""
            },
            "type": "contourcarpet"
           }
          ],
          "heatmap": [
           {
            "colorbar": {
             "outlinewidth": 0,
             "ticks": ""
            },
            "colorscale": [
             [
              0,
              "#0d0887"
             ],
             [
              0.1111111111111111,
              "#46039f"
             ],
             [
              0.2222222222222222,
              "#7201a8"
             ],
             [
              0.3333333333333333,
              "#9c179e"
             ],
             [
              0.4444444444444444,
              "#bd3786"
             ],
             [
              0.5555555555555556,
              "#d8576b"
             ],
             [
              0.6666666666666666,
              "#ed7953"
             ],
             [
              0.7777777777777778,
              "#fb9f3a"
             ],
             [
              0.8888888888888888,
              "#fdca26"
             ],
             [
              1,
              "#f0f921"
             ]
            ],
            "type": "heatmap"
           }
          ],
          "histogram": [
           {
            "marker": {
             "pattern": {
              "fillmode": "overlay",
              "size": 10,
              "solidity": 0.2
             }
            },
            "type": "histogram"
           }
          ],
          "histogram2d": [
           {
            "colorbar": {
             "outlinewidth": 0,
             "ticks": ""
            },
            "colorscale": [
             [
              0,
              "#0d0887"
             ],
             [
              0.1111111111111111,
              "#46039f"
             ],
             [
              0.2222222222222222,
              "#7201a8"
             ],
             [
              0.3333333333333333,
              "#9c179e"
             ],
             [
              0.4444444444444444,
              "#bd3786"
             ],
             [
              0.5555555555555556,
              "#d8576b"
             ],
             [
              0.6666666666666666,
              "#ed7953"
             ],
             [
              0.7777777777777778,
              "#fb9f3a"
             ],
             [
              0.8888888888888888,
              "#fdca26"
             ],
             [
              1,
              "#f0f921"
             ]
            ],
            "type": "histogram2d"
           }
          ],
          "histogram2dcontour": [
           {
            "colorbar": {
             "outlinewidth": 0,
             "ticks": ""
            },
            "colorscale": [
             [
              0,
              "#0d0887"
             ],
             [
              0.1111111111111111,
              "#46039f"
             ],
             [
              0.2222222222222222,
              "#7201a8"
             ],
             [
              0.3333333333333333,
              "#9c179e"
             ],
             [
              0.4444444444444444,
              "#bd3786"
             ],
             [
              0.5555555555555556,
              "#d8576b"
             ],
             [
              0.6666666666666666,
              "#ed7953"
             ],
             [
              0.7777777777777778,
              "#fb9f3a"
             ],
             [
              0.8888888888888888,
              "#fdca26"
             ],
             [
              1,
              "#f0f921"
             ]
            ],
            "type": "histogram2dcontour"
           }
          ],
          "mesh3d": [
           {
            "colorbar": {
             "outlinewidth": 0,
             "ticks": ""
            },
            "type": "mesh3d"
           }
          ],
          "parcoords": [
           {
            "line": {
             "colorbar": {
              "outlinewidth": 0,
              "ticks": ""
             }
            },
            "type": "parcoords"
           }
          ],
          "pie": [
           {
            "automargin": true,
            "type": "pie"
           }
          ],
          "scatter": [
           {
            "fillpattern": {
             "fillmode": "overlay",
             "size": 10,
             "solidity": 0.2
            },
            "type": "scatter"
           }
          ],
          "scatter3d": [
           {
            "line": {
             "colorbar": {
              "outlinewidth": 0,
              "ticks": ""
             }
            },
            "marker": {
             "colorbar": {
              "outlinewidth": 0,
              "ticks": ""
             }
            },
            "type": "scatter3d"
           }
          ],
          "scattercarpet": [
           {
            "marker": {
             "colorbar": {
              "outlinewidth": 0,
              "ticks": ""
             }
            },
            "type": "scattercarpet"
           }
          ],
          "scattergeo": [
           {
            "marker": {
             "colorbar": {
              "outlinewidth": 0,
              "ticks": ""
             }
            },
            "type": "scattergeo"
           }
          ],
          "scattergl": [
           {
            "marker": {
             "colorbar": {
              "outlinewidth": 0,
              "ticks": ""
             }
            },
            "type": "scattergl"
           }
          ],
          "scattermap": [
           {
            "marker": {
             "colorbar": {
              "outlinewidth": 0,
              "ticks": ""
             }
            },
            "type": "scattermap"
           }
          ],
          "scattermapbox": [
           {
            "marker": {
             "colorbar": {
              "outlinewidth": 0,
              "ticks": ""
             }
            },
            "type": "scattermapbox"
           }
          ],
          "scatterpolar": [
           {
            "marker": {
             "colorbar": {
              "outlinewidth": 0,
              "ticks": ""
             }
            },
            "type": "scatterpolar"
           }
          ],
          "scatterpolargl": [
           {
            "marker": {
             "colorbar": {
              "outlinewidth": 0,
              "ticks": ""
             }
            },
            "type": "scatterpolargl"
           }
          ],
          "scatterternary": [
           {
            "marker": {
             "colorbar": {
              "outlinewidth": 0,
              "ticks": ""
             }
            },
            "type": "scatterternary"
           }
          ],
          "surface": [
           {
            "colorbar": {
             "outlinewidth": 0,
             "ticks": ""
            },
            "colorscale": [
             [
              0,
              "#0d0887"
             ],
             [
              0.1111111111111111,
              "#46039f"
             ],
             [
              0.2222222222222222,
              "#7201a8"
             ],
             [
              0.3333333333333333,
              "#9c179e"
             ],
             [
              0.4444444444444444,
              "#bd3786"
             ],
             [
              0.5555555555555556,
              "#d8576b"
             ],
             [
              0.6666666666666666,
              "#ed7953"
             ],
             [
              0.7777777777777778,
              "#fb9f3a"
             ],
             [
              0.8888888888888888,
              "#fdca26"
             ],
             [
              1,
              "#f0f921"
             ]
            ],
            "type": "surface"
           }
          ],
          "table": [
           {
            "cells": {
             "fill": {
              "color": "#EBF0F8"
             },
             "line": {
              "color": "white"
             }
            },
            "header": {
             "fill": {
              "color": "#C8D4E3"
             },
             "line": {
              "color": "white"
             }
            },
            "type": "table"
           }
          ]
         },
         "layout": {
          "annotationdefaults": {
           "arrowcolor": "#2a3f5f",
           "arrowhead": 0,
           "arrowwidth": 1
          },
          "autotypenumbers": "strict",
          "coloraxis": {
           "colorbar": {
            "outlinewidth": 0,
            "ticks": ""
           }
          },
          "colorscale": {
           "diverging": [
            [
             0,
             "#8e0152"
            ],
            [
             0.1,
             "#c51b7d"
            ],
            [
             0.2,
             "#de77ae"
            ],
            [
             0.3,
             "#f1b6da"
            ],
            [
             0.4,
             "#fde0ef"
            ],
            [
             0.5,
             "#f7f7f7"
            ],
            [
             0.6,
             "#e6f5d0"
            ],
            [
             0.7,
             "#b8e186"
            ],
            [
             0.8,
             "#7fbc41"
            ],
            [
             0.9,
             "#4d9221"
            ],
            [
             1,
             "#276419"
            ]
           ],
           "sequential": [
            [
             0,
             "#0d0887"
            ],
            [
             0.1111111111111111,
             "#46039f"
            ],
            [
             0.2222222222222222,
             "#7201a8"
            ],
            [
             0.3333333333333333,
             "#9c179e"
            ],
            [
             0.4444444444444444,
             "#bd3786"
            ],
            [
             0.5555555555555556,
             "#d8576b"
            ],
            [
             0.6666666666666666,
             "#ed7953"
            ],
            [
             0.7777777777777778,
             "#fb9f3a"
            ],
            [
             0.8888888888888888,
             "#fdca26"
            ],
            [
             1,
             "#f0f921"
            ]
           ],
           "sequentialminus": [
            [
             0,
             "#0d0887"
            ],
            [
             0.1111111111111111,
             "#46039f"
            ],
            [
             0.2222222222222222,
             "#7201a8"
            ],
            [
             0.3333333333333333,
             "#9c179e"
            ],
            [
             0.4444444444444444,
             "#bd3786"
            ],
            [
             0.5555555555555556,
             "#d8576b"
            ],
            [
             0.6666666666666666,
             "#ed7953"
            ],
            [
             0.7777777777777778,
             "#fb9f3a"
            ],
            [
             0.8888888888888888,
             "#fdca26"
            ],
            [
             1,
             "#f0f921"
            ]
           ]
          },
          "colorway": [
           "#636efa",
           "#EF553B",
           "#00cc96",
           "#ab63fa",
           "#FFA15A",
           "#19d3f3",
           "#FF6692",
           "#B6E880",
           "#FF97FF",
           "#FECB52"
          ],
          "font": {
           "color": "#2a3f5f"
          },
          "geo": {
           "bgcolor": "white",
           "lakecolor": "white",
           "landcolor": "#E5ECF6",
           "showlakes": true,
           "showland": true,
           "subunitcolor": "white"
          },
          "hoverlabel": {
           "align": "left"
          },
          "hovermode": "closest",
          "mapbox": {
           "style": "light"
          },
          "paper_bgcolor": "white",
          "plot_bgcolor": "#E5ECF6",
          "polar": {
           "angularaxis": {
            "gridcolor": "white",
            "linecolor": "white",
            "ticks": ""
           },
           "bgcolor": "#E5ECF6",
           "radialaxis": {
            "gridcolor": "white",
            "linecolor": "white",
            "ticks": ""
           }
          },
          "scene": {
           "xaxis": {
            "backgroundcolor": "#E5ECF6",
            "gridcolor": "white",
            "gridwidth": 2,
            "linecolor": "white",
            "showbackground": true,
            "ticks": "",
            "zerolinecolor": "white"
           },
           "yaxis": {
            "backgroundcolor": "#E5ECF6",
            "gridcolor": "white",
            "gridwidth": 2,
            "linecolor": "white",
            "showbackground": true,
            "ticks": "",
            "zerolinecolor": "white"
           },
           "zaxis": {
            "backgroundcolor": "#E5ECF6",
            "gridcolor": "white",
            "gridwidth": 2,
            "linecolor": "white",
            "showbackground": true,
            "ticks": "",
            "zerolinecolor": "white"
           }
          },
          "shapedefaults": {
           "line": {
            "color": "#2a3f5f"
           }
          },
          "ternary": {
           "aaxis": {
            "gridcolor": "white",
            "linecolor": "white",
            "ticks": ""
           },
           "baxis": {
            "gridcolor": "white",
            "linecolor": "white",
            "ticks": ""
           },
           "bgcolor": "#E5ECF6",
           "caxis": {
            "gridcolor": "white",
            "linecolor": "white",
            "ticks": ""
           }
          },
          "title": {
           "x": 0.05
          },
          "xaxis": {
           "automargin": true,
           "gridcolor": "white",
           "linecolor": "white",
           "ticks": "",
           "title": {
            "standoff": 15
           },
           "zerolinecolor": "white",
           "zerolinewidth": 2
          },
          "yaxis": {
           "automargin": true,
           "gridcolor": "white",
           "linecolor": "white",
           "ticks": "",
           "title": {
            "standoff": 15
           },
           "zerolinecolor": "white",
           "zerolinewidth": 2
          }
         }
        },
        "title": {
         "text": "Histograma de Precios"
        },
        "xaxis": {
         "anchor": "y",
         "domain": [
          0,
          1
         ],
         "title": {
          "text": "price"
         }
        },
        "yaxis": {
         "anchor": "x",
         "domain": [
          0,
          1
         ],
         "title": {
          "text": "count"
         }
        }
       }
      }
     },
     "metadata": {},
     "output_type": "display_data"
    },
    {
     "data": {
      "application/vnd.plotly.v1+json": {
       "config": {
        "plotlyServerURL": "https://plot.ly"
       },
       "data": [
        {
         "hovertemplate": "Cuantiles Teóricos (Normal)=%{x}<br>Cuantiles de la Muestra=%{y}<extra></extra>",
         "legendgroup": "",
         "marker": {
          "color": "#636efa",
          "symbol": "circle"
         },
         "mode": "markers",
         "name": "",
         "showlegend": false,
         "type": "scattergl",
         "x": {
          "bdata": "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",
          "dtype": "f8"
         },
         "xaxis": "x",
         "y": {
          "bdata": "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",
          "dtype": "f8"
         },
         "yaxis": "y"
        },
        {
         "hovertemplate": "x=%{x}<br>y=%{y}<extra></extra>",
         "legendgroup": "",
         "line": {
          "color": "#636efa",
          "dash": "solid"
         },
         "marker": {
          "symbol": "circle"
         },
         "mode": "lines",
         "name": "",
         "orientation": "v",
         "showlegend": false,
         "type": "scatter",
         "x": {
          "bdata": "Dv8wRlycAsAAAAAAwObbQA==",
          "dtype": "f8"
         },
         "xaxis": "x",
         "y": {
          "bdata": "Dv8wRlycAsAAAAAAwObbQA==",
          "dtype": "f8"
         },
         "yaxis": "y"
        }
       ],
       "layout": {
        "legend": {
         "tracegroupgap": 0
        },
        "paper_bgcolor": "#D8F3DC",
        "plot_bgcolor": "#D8F3DC",
        "template": {
         "data": {
          "bar": [
           {
            "error_x": {
             "color": "#2a3f5f"
            },
            "error_y": {
             "color": "#2a3f5f"
            },
            "marker": {
             "line": {
              "color": "#E5ECF6",
              "width": 0.5
             },
             "pattern": {
              "fillmode": "overlay",
              "size": 10,
              "solidity": 0.2
             }
            },
            "type": "bar"
           }
          ],
          "barpolar": [
           {
            "marker": {
             "line": {
              "color": "#E5ECF6",
              "width": 0.5
             },
             "pattern": {
              "fillmode": "overlay",
              "size": 10,
              "solidity": 0.2
             }
            },
            "type": "barpolar"
           }
          ],
          "carpet": [
           {
            "aaxis": {
             "endlinecolor": "#2a3f5f",
             "gridcolor": "white",
             "linecolor": "white",
             "minorgridcolor": "white",
             "startlinecolor": "#2a3f5f"
            },
            "baxis": {
             "endlinecolor": "#2a3f5f",
             "gridcolor": "white",
             "linecolor": "white",
             "minorgridcolor": "white",
             "startlinecolor": "#2a3f5f"
            },
            "type": "carpet"
           }
          ],
          "choropleth": [
           {
            "colorbar": {
             "outlinewidth": 0,
             "ticks": ""
            },
            "type": "choropleth"
           }
          ],
          "contour": [
           {
            "colorbar": {
             "outlinewidth": 0,
             "ticks": ""
            },
            "colorscale": [
             [
              0,
              "#0d0887"
             ],
             [
              0.1111111111111111,
              "#46039f"
             ],
             [
              0.2222222222222222,
              "#7201a8"
             ],
             [
              0.3333333333333333,
              "#9c179e"
             ],
             [
              0.4444444444444444,
              "#bd3786"
             ],
             [
              0.5555555555555556,
              "#d8576b"
             ],
             [
              0.6666666666666666,
              "#ed7953"
             ],
             [
              0.7777777777777778,
              "#fb9f3a"
             ],
             [
              0.8888888888888888,
              "#fdca26"
             ],
             [
              1,
              "#f0f921"
             ]
            ],
            "type": "contour"
           }
          ],
          "contourcarpet": [
           {
            "colorbar": {
             "outlinewidth": 0,
             "ticks": ""
            },
            "type": "contourcarpet"
           }
          ],
          "heatmap": [
           {
            "colorbar": {
             "outlinewidth": 0,
             "ticks": ""
            },
            "colorscale": [
             [
              0,
              "#0d0887"
             ],
             [
              0.1111111111111111,
              "#46039f"
             ],
             [
              0.2222222222222222,
              "#7201a8"
             ],
             [
              0.3333333333333333,
              "#9c179e"
             ],
             [
              0.4444444444444444,
              "#bd3786"
             ],
             [
              0.5555555555555556,
              "#d8576b"
             ],
             [
              0.6666666666666666,
              "#ed7953"
             ],
             [
              0.7777777777777778,
              "#fb9f3a"
             ],
             [
              0.8888888888888888,
              "#fdca26"
             ],
             [
              1,
              "#f0f921"
             ]
            ],
            "type": "heatmap"
           }
          ],
          "histogram": [
           {
            "marker": {
             "pattern": {
              "fillmode": "overlay",
              "size": 10,
              "solidity": 0.2
             }
            },
            "type": "histogram"
           }
          ],
          "histogram2d": [
           {
            "colorbar": {
             "outlinewidth": 0,
             "ticks": ""
            },
            "colorscale": [
             [
              0,
              "#0d0887"
             ],
             [
              0.1111111111111111,
              "#46039f"
             ],
             [
              0.2222222222222222,
              "#7201a8"
             ],
             [
              0.3333333333333333,
              "#9c179e"
             ],
             [
              0.4444444444444444,
              "#bd3786"
             ],
             [
              0.5555555555555556,
              "#d8576b"
             ],
             [
              0.6666666666666666,
              "#ed7953"
             ],
             [
              0.7777777777777778,
              "#fb9f3a"
             ],
             [
              0.8888888888888888,
              "#fdca26"
             ],
             [
              1,
              "#f0f921"
             ]
            ],
            "type": "histogram2d"
           }
          ],
          "histogram2dcontour": [
           {
            "colorbar": {
             "outlinewidth": 0,
             "ticks": ""
            },
            "colorscale": [
             [
              0,
              "#0d0887"
             ],
             [
              0.1111111111111111,
              "#46039f"
             ],
             [
              0.2222222222222222,
              "#7201a8"
             ],
             [
              0.3333333333333333,
              "#9c179e"
             ],
             [
              0.4444444444444444,
              "#bd3786"
             ],
             [
              0.5555555555555556,
              "#d8576b"
             ],
             [
              0.6666666666666666,
              "#ed7953"
             ],
             [
              0.7777777777777778,
              "#fb9f3a"
             ],
             [
              0.8888888888888888,
              "#fdca26"
             ],
             [
              1,
              "#f0f921"
             ]
            ],
            "type": "histogram2dcontour"
           }
          ],
          "mesh3d": [
           {
            "colorbar": {
             "outlinewidth": 0,
             "ticks": ""
            },
            "type": "mesh3d"
           }
          ],
          "parcoords": [
           {
            "line": {
             "colorbar": {
              "outlinewidth": 0,
              "ticks": ""
             }
            },
            "type": "parcoords"
           }
          ],
          "pie": [
           {
            "automargin": true,
            "type": "pie"
           }
          ],
          "scatter": [
           {
            "fillpattern": {
             "fillmode": "overlay",
             "size": 10,
             "solidity": 0.2
            },
            "type": "scatter"
           }
          ],
          "scatter3d": [
           {
            "line": {
             "colorbar": {
              "outlinewidth": 0,
              "ticks": ""
             }
            },
            "marker": {
             "colorbar": {
              "outlinewidth": 0,
              "ticks": ""
             }
            },
            "type": "scatter3d"
           }
          ],
          "scattercarpet": [
           {
            "marker": {
             "colorbar": {
              "outlinewidth": 0,
              "ticks": ""
             }
            },
            "type": "scattercarpet"
           }
          ],
          "scattergeo": [
           {
            "marker": {
             "colorbar": {
              "outlinewidth": 0,
              "ticks": ""
             }
            },
            "type": "scattergeo"
           }
          ],
          "scattergl": [
           {
            "marker": {
             "colorbar": {
              "outlinewidth": 0,
              "ticks": ""
             }
            },
            "type": "scattergl"
           }
          ],
          "scattermap": [
           {
            "marker": {
             "colorbar": {
              "outlinewidth": 0,
              "ticks": ""
             }
            },
            "type": "scattermap"
           }
          ],
          "scattermapbox": [
           {
            "marker": {
             "colorbar": {
              "outlinewidth": 0,
              "ticks": ""
             }
            },
            "type": "scattermapbox"
           }
          ],
          "scatterpolar": [
           {
            "marker": {
             "colorbar": {
              "outlinewidth": 0,
              "ticks": ""
             }
            },
            "type": "scatterpolar"
           }
          ],
          "scatterpolargl": [
           {
            "marker": {
             "colorbar": {
              "outlinewidth": 0,
              "ticks": ""
             }
            },
            "type": "scatterpolargl"
           }
          ],
          "scatterternary": [
           {
            "marker": {
             "colorbar": {
              "outlinewidth": 0,
              "ticks": ""
             }
            },
            "type": "scatterternary"
           }
          ],
          "surface": [
           {
            "colorbar": {
             "outlinewidth": 0,
             "ticks": ""
            },
            "colorscale": [
             [
              0,
              "#0d0887"
             ],
             [
              0.1111111111111111,
              "#46039f"
             ],
             [
              0.2222222222222222,
              "#7201a8"
             ],
             [
              0.3333333333333333,
              "#9c179e"
             ],
             [
              0.4444444444444444,
              "#bd3786"
             ],
             [
              0.5555555555555556,
              "#d8576b"
             ],
             [
              0.6666666666666666,
              "#ed7953"
             ],
             [
              0.7777777777777778,
              "#fb9f3a"
             ],
             [
              0.8888888888888888,
              "#fdca26"
             ],
             [
              1,
              "#f0f921"
             ]
            ],
            "type": "surface"
           }
          ],
          "table": [
           {
            "cells": {
             "fill": {
              "color": "#EBF0F8"
             },
             "line": {
              "color": "white"
             }
            },
            "header": {
             "fill": {
              "color": "#C8D4E3"
             },
             "line": {
              "color": "white"
             }
            },
            "type": "table"
           }
          ]
         },
         "layout": {
          "annotationdefaults": {
           "arrowcolor": "#2a3f5f",
           "arrowhead": 0,
           "arrowwidth": 1
          },
          "autotypenumbers": "strict",
          "coloraxis": {
           "colorbar": {
            "outlinewidth": 0,
            "ticks": ""
           }
          },
          "colorscale": {
           "diverging": [
            [
             0,
             "#8e0152"
            ],
            [
             0.1,
             "#c51b7d"
            ],
            [
             0.2,
             "#de77ae"
            ],
            [
             0.3,
             "#f1b6da"
            ],
            [
             0.4,
             "#fde0ef"
            ],
            [
             0.5,
             "#f7f7f7"
            ],
            [
             0.6,
             "#e6f5d0"
            ],
            [
             0.7,
             "#b8e186"
            ],
            [
             0.8,
             "#7fbc41"
            ],
            [
             0.9,
             "#4d9221"
            ],
            [
             1,
             "#276419"
            ]
           ],
           "sequential": [
            [
             0,
             "#0d0887"
            ],
            [
             0.1111111111111111,
             "#46039f"
            ],
            [
             0.2222222222222222,
             "#7201a8"
            ],
            [
             0.3333333333333333,
             "#9c179e"
            ],
            [
             0.4444444444444444,
             "#bd3786"
            ],
            [
             0.5555555555555556,
             "#d8576b"
            ],
            [
             0.6666666666666666,
             "#ed7953"
            ],
            [
             0.7777777777777778,
             "#fb9f3a"
            ],
            [
             0.8888888888888888,
             "#fdca26"
            ],
            [
             1,
             "#f0f921"
            ]
           ],
           "sequentialminus": [
            [
             0,
             "#0d0887"
            ],
            [
             0.1111111111111111,
             "#46039f"
            ],
            [
             0.2222222222222222,
             "#7201a8"
            ],
            [
             0.3333333333333333,
             "#9c179e"
            ],
            [
             0.4444444444444444,
             "#bd3786"
            ],
            [
             0.5555555555555556,
             "#d8576b"
            ],
            [
             0.6666666666666666,
             "#ed7953"
            ],
            [
             0.7777777777777778,
             "#fb9f3a"
            ],
            [
             0.8888888888888888,
             "#fdca26"
            ],
            [
             1,
             "#f0f921"
            ]
           ]
          },
          "colorway": [
           "#636efa",
           "#EF553B",
           "#00cc96",
           "#ab63fa",
           "#FFA15A",
           "#19d3f3",
           "#FF6692",
           "#B6E880",
           "#FF97FF",
           "#FECB52"
          ],
          "font": {
           "color": "#2a3f5f"
          },
          "geo": {
           "bgcolor": "white",
           "lakecolor": "white",
           "landcolor": "#E5ECF6",
           "showlakes": true,
           "showland": true,
           "subunitcolor": "white"
          },
          "hoverlabel": {
           "align": "left"
          },
          "hovermode": "closest",
          "mapbox": {
           "style": "light"
          },
          "paper_bgcolor": "white",
          "plot_bgcolor": "#E5ECF6",
          "polar": {
           "angularaxis": {
            "gridcolor": "white",
            "linecolor": "white",
            "ticks": ""
           },
           "bgcolor": "#E5ECF6",
           "radialaxis": {
            "gridcolor": "white",
            "linecolor": "white",
            "ticks": ""
           }
          },
          "scene": {
           "xaxis": {
            "backgroundcolor": "#E5ECF6",
            "gridcolor": "white",
            "gridwidth": 2,
            "linecolor": "white",
            "showbackground": true,
            "ticks": "",
            "zerolinecolor": "white"
           },
           "yaxis": {
            "backgroundcolor": "#E5ECF6",
            "gridcolor": "white",
            "gridwidth": 2,
            "linecolor": "white",
            "showbackground": true,
            "ticks": "",
            "zerolinecolor": "white"
           },
           "zaxis": {
            "backgroundcolor": "#E5ECF6",
            "gridcolor": "white",
            "gridwidth": 2,
            "linecolor": "white",
            "showbackground": true,
            "ticks": "",
            "zerolinecolor": "white"
           }
          },
          "shapedefaults": {
           "line": {
            "color": "#2a3f5f"
           }
          },
          "ternary": {
           "aaxis": {
            "gridcolor": "white",
            "linecolor": "white",
            "ticks": ""
           },
           "baxis": {
            "gridcolor": "white",
            "linecolor": "white",
            "ticks": ""
           },
           "bgcolor": "#E5ECF6",
           "caxis": {
            "gridcolor": "white",
            "linecolor": "white",
            "ticks": ""
           }
          },
          "title": {
           "x": 0.05
          },
          "xaxis": {
           "automargin": true,
           "gridcolor": "white",
           "linecolor": "white",
           "ticks": "",
           "title": {
            "standoff": 15
           },
           "zerolinecolor": "white",
           "zerolinewidth": 2
          },
          "yaxis": {
           "automargin": true,
           "gridcolor": "white",
           "linecolor": "white",
           "ticks": "",
           "title": {
            "standoff": 15
           },
           "zerolinecolor": "white",
           "zerolinewidth": 2
          }
         }
        },
        "title": {
         "text": "Gráfico Q-Q"
        },
        "xaxis": {
         "anchor": "y",
         "domain": [
          0,
          1
         ],
         "title": {
          "text": "Cuantiles Teóricos (Normal)"
         }
        },
        "yaxis": {
         "anchor": "x",
         "domain": [
          0,
          1
         ],
         "title": {
          "text": "Cuantiles de la Muestra"
         }
        }
       }
      }
     },
     "metadata": {},
     "output_type": "display_data"
    }
   ],
   "source": [
    "import plotly.express as px\n",
    "import numpy as np\n",
    "import pandas as pd\n",
    "from scipy import stats\n",
    "\n",
    "# Asumiendo que 'df_tourist' es tu DataFrame y 'price' es la columna que quieres evaluar\n",
    "data = df_tourist['price'].dropna()\n",
    "\n",
    "# Histograma\n",
    "fig_hist = px.histogram(df_tourist, x='price', title='Histograma de Precios')\n",
    "fig_hist.update_layout(paper_bgcolor=\"#D8F3DC\", plot_bgcolor=\"#D8F3DC\")\n",
    "fig_hist.show()\n",
    "\n",
    "# Gráfico Q-Q\n",
    "# Necesitamos calcular los cuantiles teóricos de una distribución normal\n",
    "n = len(data)\n",
    "theoretical_quantiles = stats.norm.ppf(np.linspace(0.01, 0.99, n))\n",
    "sample_quantiles = sorted(data)\n",
    "\n",
    "fig_qq = px.scatter(x=theoretical_quantiles, y=sample_quantiles,\n",
    "                    labels={'x': 'Cuantiles Teóricos (Normal)', 'y': 'Cuantiles de la Muestra'},\n",
    "                    title='Gráfico Q-Q')\n",
    "# Añadimos una línea de referencia para ayudar a la comparación\n",
    "max_val = max(max(theoretical_quantiles), max(sample_quantiles))\n",
    "min_val = min(min(theoretical_quantiles), min(sample_quantiles))\n",
    "fig_qq.add_trace(px.line(x=[min_val, max_val], y=[min_val, max_val]).data[0])\n",
    "fig_qq.update_layout(paper_bgcolor=\"#D8F3DC\", plot_bgcolor=\"#D8F3DC\")\n",
    "fig_qq.show()"
   ]
  },
  {
   "cell_type": "markdown",
   "id": "92695fba",
   "metadata": {},
   "source": [
    "### Valor de correlación \n"
   ]
  },
  {
   "cell_type": "markdown",
   "id": "cfa6a532",
   "metadata": {},
   "source": [
    "Valor correlación (Spearman ρ = 0.110)\n",
    "Este valor indica una relación positiva muy débil entre el precio y la satisfacción general de los clientes.\n",
    "\n",
    "Es decir, en promedio, cuando el precio aumenta, la satisfacción del cliente también sube ligeramente, pero la intensidad de esta relación es casi insignificante.\n",
    "\n",
    "> Valor p (p-value) = 0.0000\n",
    "Como p < 0.05, esta relación es estadísticamente significativa.\n",
    "Esto significa que la probabilidad de que esta correlación sea producto del azar es prácticamente nula.\n",
    "\n",
    "> Análisis profesional:\n",
    "Aunque existe una correlación positiva entre el precio y la puntuación general de los clientes, su magnitud es muy baja. Esto implica que el precio por sí solo no puede predecir bien la satisfacción del cliente.\n",
    "Otros factores —como limpieza, exactitud de la descripción, ubicación, equipamiento e interacción con el anfitrión— tienen un papel mucho más influyente.\n",
    "\n",
    "> Resumen de resultados\n",
    "La prueba de correlación de Spearman entre precio y satisfacción mostró una relación débil pero significativa (ρ = 0.11, p < 0.001).\n",
    "Aunque es detectable en el mercado global, su fuerza es tan baja que confirma que el precio no es un determinante único de la satisfacción. Para mejorar la experiencia del cliente y optimizar la estrategia de precios, es imprescindible considerar también otros factores relevantes.\n",
    "A continuación, se profundizará en el análisis de esta relación a nivel de ciudades para diseñar políticas más específicas."
   ]
  },
  {
   "cell_type": "code",
   "execution_count": 12,
   "id": "56c8da55",
   "metadata": {},
   "outputs": [
    {
     "name": "stdout",
     "output_type": "stream",
     "text": [
      "Spearman Correlation: 0.115, p-value: 0.0000\n"
     ]
    }
   ],
   "source": [
    "#spearman\n",
    "from scipy.stats import spearmanr\n",
    "\n",
    "corr, p_value = spearmanr(df_tourist['price'], df_tourist['review_scores_rating'])\n",
    "print(f\"Spearman Correlation: {corr:.3f}, p-value: {p_value:.4f}\")\n"
   ]
  },
  {
   "cell_type": "markdown",
   "id": "34eb6d1d",
   "metadata": {},
   "source": [
    "### Análisis a nivel de ciudades"
   ]
  },
  {
   "cell_type": "markdown",
   "id": "2fcda69a",
   "metadata": {},
   "source": [
    "Para garantizar la fiabilidad de los resultados, solo se incluyeron en el análisis aquellas ciudades que contaban con al menos 30 alojamientos registrados. Este umbral de 30 se elige porque, en estadística, disponer de un mínimo de 30 muestras suele considerarse necesario para realizar análisis fiables. De esta forma, los resultados de correlación son más estables, precisos y menos sensibles a valores atípicos o dispersos. Las ciudades con menos de 30 datos fueron excluidas para evitar interpretaciones erróneas."
   ]
  },
  {
   "cell_type": "code",
   "execution_count": 13,
   "id": "89755c1f",
   "metadata": {},
   "outputs": [
    {
     "data": {
      "application/vnd.microsoft.datawrangler.viewer.v0+json": {
       "columns": [
        {
         "name": "index",
         "rawType": "int64",
         "type": "integer"
        },
        {
         "name": "city",
         "rawType": "object",
         "type": "string"
        },
        {
         "name": "spearman_corr",
         "rawType": "float64",
         "type": "float"
        },
        {
         "name": "p_value",
         "rawType": "float64",
         "type": "float"
        }
       ],
       "ref": "6889f03d-d8b0-4128-a3a0-f954dd34cbd3",
       "rows": [
        [
         "6",
         "mallorca",
         "0.16424850882093045",
         "4.8823667041221734e-11"
        ],
        [
         "0",
         "malaga",
         "0.15896716298691635",
         "0.0003399958696971381"
        ],
        [
         "4",
         "girona",
         "0.13272760127592717",
         "2.849030702699574e-07"
        ],
        [
         "2",
         "sevilla",
         "0.07661423698680436",
         "0.08893856546105394"
        ],
        [
         "5",
         "valencia",
         "0.07221634239291747",
         "0.10229916589088085"
        ],
        [
         "1",
         "madrid",
         "0.06475291072027561",
         "0.0027655360986262806"
        ],
        [
         "7",
         "menorca",
         "0.032595608557758726",
         "0.6322027728167854"
        ],
        [
         "3",
         "barcelona",
         "-0.0786452762611998",
         "4.036931654812694e-05"
        ]
       ],
       "shape": {
        "columns": 3,
        "rows": 8
       }
      },
      "text/html": [
       "<div>\n",
       "<style scoped>\n",
       "    .dataframe tbody tr th:only-of-type {\n",
       "        vertical-align: middle;\n",
       "    }\n",
       "\n",
       "    .dataframe tbody tr th {\n",
       "        vertical-align: top;\n",
       "    }\n",
       "\n",
       "    .dataframe thead th {\n",
       "        text-align: right;\n",
       "    }\n",
       "</style>\n",
       "<table border=\"1\" class=\"dataframe\">\n",
       "  <thead>\n",
       "    <tr style=\"text-align: right;\">\n",
       "      <th></th>\n",
       "      <th>city</th>\n",
       "      <th>spearman_corr</th>\n",
       "      <th>p_value</th>\n",
       "    </tr>\n",
       "  </thead>\n",
       "  <tbody>\n",
       "    <tr>\n",
       "      <th>6</th>\n",
       "      <td>mallorca</td>\n",
       "      <td>0.164249</td>\n",
       "      <td>4.882367e-11</td>\n",
       "    </tr>\n",
       "    <tr>\n",
       "      <th>0</th>\n",
       "      <td>malaga</td>\n",
       "      <td>0.158967</td>\n",
       "      <td>3.399959e-04</td>\n",
       "    </tr>\n",
       "    <tr>\n",
       "      <th>4</th>\n",
       "      <td>girona</td>\n",
       "      <td>0.132728</td>\n",
       "      <td>2.849031e-07</td>\n",
       "    </tr>\n",
       "    <tr>\n",
       "      <th>2</th>\n",
       "      <td>sevilla</td>\n",
       "      <td>0.076614</td>\n",
       "      <td>8.893857e-02</td>\n",
       "    </tr>\n",
       "    <tr>\n",
       "      <th>5</th>\n",
       "      <td>valencia</td>\n",
       "      <td>0.072216</td>\n",
       "      <td>1.022992e-01</td>\n",
       "    </tr>\n",
       "    <tr>\n",
       "      <th>1</th>\n",
       "      <td>madrid</td>\n",
       "      <td>0.064753</td>\n",
       "      <td>2.765536e-03</td>\n",
       "    </tr>\n",
       "    <tr>\n",
       "      <th>7</th>\n",
       "      <td>menorca</td>\n",
       "      <td>0.032596</td>\n",
       "      <td>6.322028e-01</td>\n",
       "    </tr>\n",
       "    <tr>\n",
       "      <th>3</th>\n",
       "      <td>barcelona</td>\n",
       "      <td>-0.078645</td>\n",
       "      <td>4.036932e-05</td>\n",
       "    </tr>\n",
       "  </tbody>\n",
       "</table>\n",
       "</div>"
      ],
      "text/plain": [
       "        city  spearman_corr       p_value\n",
       "6   mallorca       0.164249  4.882367e-11\n",
       "0     malaga       0.158967  3.399959e-04\n",
       "4     girona       0.132728  2.849031e-07\n",
       "2    sevilla       0.076614  8.893857e-02\n",
       "5   valencia       0.072216  1.022992e-01\n",
       "1     madrid       0.064753  2.765536e-03\n",
       "7    menorca       0.032596  6.322028e-01\n",
       "3  barcelona      -0.078645  4.036932e-05"
      ]
     },
     "execution_count": 13,
     "metadata": {},
     "output_type": "execute_result"
    }
   ],
   "source": [
    "from scipy.stats import spearmanr\n",
    "\n",
    "def correlacion_spearman_por_ciudad(df_tourist):\n",
    "    resultados = []\n",
    "    for ciudad in df_tourist['city'].unique():\n",
    "        datos = df_tourist[df_tourist['city'] == ciudad]\n",
    "        if len(datos) >= 30:  # Filtro para asegurar suficiente cantidad de datos\n",
    "            corr, p = spearmanr(datos['price'], datos['review_scores_rating'])\n",
    "            resultados.append({'city': ciudad, 'spearman_corr': corr, 'p_value': p})\n",
    "    return pd.DataFrame(resultados)\n",
    "\n",
    "city_corrs = correlacion_spearman_por_ciudad(df_tourist)\n",
    "city_corrs.sort_values('spearman_corr', ascending=False)"
   ]
  },
  {
   "cell_type": "code",
   "execution_count": 14,
   "id": "e967e648",
   "metadata": {},
   "outputs": [
    {
     "data": {
      "application/vnd.plotly.v1+json": {
       "config": {
        "plotlyServerURL": "https://plot.ly"
       },
       "data": [
        {
         "hovertemplate": "spearman_corr=%{marker.color}<br>city=%{y}<extra></extra>",
         "legendgroup": "",
         "marker": {
          "color": {
           "bdata": "sL3mWhgGxT+rVhU3CVnEP2vZYNE3/cA/cC1Emv2csz80d9AsxXyyP8RI3ZGlk7A/mGF/IV+woD9S2IbJGCK0vw==",
           "dtype": "f8"
          },
          "coloraxis": "coloraxis",
          "line": {
           "color": "black",
           "width": 1
          },
          "pattern": {
           "shape": ""
          }
         },
         "name": "",
         "orientation": "h",
         "showlegend": false,
         "text": {
          "bdata": "sL3mWhgGxT+rVhU3CVnEP2vZYNE3/cA/cC1Emv2csz80d9AsxXyyP8RI3ZGlk7A/mGF/IV+woD9S2IbJGCK0vw==",
          "dtype": "f8"
         },
         "textposition": "auto",
         "texttemplate": "%{text:.2f}",
         "type": "bar",
         "x": {
          "bdata": "sL3mWhgGxT+rVhU3CVnEP2vZYNE3/cA/cC1Emv2csz80d9AsxXyyP8RI3ZGlk7A/mGF/IV+woD9S2IbJGCK0vw==",
          "dtype": "f8"
         },
         "xaxis": "x",
         "y": [
          "mallorca",
          "malaga",
          "girona",
          "sevilla",
          "valencia",
          "madrid",
          "menorca",
          "barcelona"
         ],
         "yaxis": "y"
        }
       ],
       "layout": {
        "barmode": "relative",
        "coloraxis": {
         "colorbar": {
          "title": {
           "text": "spearman_corr"
          }
         },
         "colorscale": [
          [
           0,
           "#2D6A4F"
          ],
          [
           0.5,
           "#8BAE3F"
          ],
          [
           1,
           "#D8F3DC"
          ]
         ]
        },
        "font": {
         "color": "black",
         "size": 14
        },
        "legend": {
         "tracegroupgap": 0
        },
        "paper_bgcolor": "#D8F3DC",
        "plot_bgcolor": "#D8F3DC",
        "shapes": [
         {
          "line": {
           "color": "gray",
           "dash": "dash"
          },
          "type": "line",
          "x0": 0,
          "x1": 0,
          "xref": "x",
          "y0": 0,
          "y1": 1,
          "yref": "y domain"
         }
        ],
        "template": {
         "data": {
          "bar": [
           {
            "error_x": {
             "color": "#2a3f5f"
            },
            "error_y": {
             "color": "#2a3f5f"
            },
            "marker": {
             "line": {
              "color": "#E5ECF6",
              "width": 0.5
             },
             "pattern": {
              "fillmode": "overlay",
              "size": 10,
              "solidity": 0.2
             }
            },
            "type": "bar"
           }
          ],
          "barpolar": [
           {
            "marker": {
             "line": {
              "color": "#E5ECF6",
              "width": 0.5
             },
             "pattern": {
              "fillmode": "overlay",
              "size": 10,
              "solidity": 0.2
             }
            },
            "type": "barpolar"
           }
          ],
          "carpet": [
           {
            "aaxis": {
             "endlinecolor": "#2a3f5f",
             "gridcolor": "white",
             "linecolor": "white",
             "minorgridcolor": "white",
             "startlinecolor": "#2a3f5f"
            },
            "baxis": {
             "endlinecolor": "#2a3f5f",
             "gridcolor": "white",
             "linecolor": "white",
             "minorgridcolor": "white",
             "startlinecolor": "#2a3f5f"
            },
            "type": "carpet"
           }
          ],
          "choropleth": [
           {
            "colorbar": {
             "outlinewidth": 0,
             "ticks": ""
            },
            "type": "choropleth"
           }
          ],
          "contour": [
           {
            "colorbar": {
             "outlinewidth": 0,
             "ticks": ""
            },
            "colorscale": [
             [
              0,
              "#0d0887"
             ],
             [
              0.1111111111111111,
              "#46039f"
             ],
             [
              0.2222222222222222,
              "#7201a8"
             ],
             [
              0.3333333333333333,
              "#9c179e"
             ],
             [
              0.4444444444444444,
              "#bd3786"
             ],
             [
              0.5555555555555556,
              "#d8576b"
             ],
             [
              0.6666666666666666,
              "#ed7953"
             ],
             [
              0.7777777777777778,
              "#fb9f3a"
             ],
             [
              0.8888888888888888,
              "#fdca26"
             ],
             [
              1,
              "#f0f921"
             ]
            ],
            "type": "contour"
           }
          ],
          "contourcarpet": [
           {
            "colorbar": {
             "outlinewidth": 0,
             "ticks": ""
            },
            "type": "contourcarpet"
           }
          ],
          "heatmap": [
           {
            "colorbar": {
             "outlinewidth": 0,
             "ticks": ""
            },
            "colorscale": [
             [
              0,
              "#0d0887"
             ],
             [
              0.1111111111111111,
              "#46039f"
             ],
             [
              0.2222222222222222,
              "#7201a8"
             ],
             [
              0.3333333333333333,
              "#9c179e"
             ],
             [
              0.4444444444444444,
              "#bd3786"
             ],
             [
              0.5555555555555556,
              "#d8576b"
             ],
             [
              0.6666666666666666,
              "#ed7953"
             ],
             [
              0.7777777777777778,
              "#fb9f3a"
             ],
             [
              0.8888888888888888,
              "#fdca26"
             ],
             [
              1,
              "#f0f921"
             ]
            ],
            "type": "heatmap"
           }
          ],
          "histogram": [
           {
            "marker": {
             "pattern": {
              "fillmode": "overlay",
              "size": 10,
              "solidity": 0.2
             }
            },
            "type": "histogram"
           }
          ],
          "histogram2d": [
           {
            "colorbar": {
             "outlinewidth": 0,
             "ticks": ""
            },
            "colorscale": [
             [
              0,
              "#0d0887"
             ],
             [
              0.1111111111111111,
              "#46039f"
             ],
             [
              0.2222222222222222,
              "#7201a8"
             ],
             [
              0.3333333333333333,
              "#9c179e"
             ],
             [
              0.4444444444444444,
              "#bd3786"
             ],
             [
              0.5555555555555556,
              "#d8576b"
             ],
             [
              0.6666666666666666,
              "#ed7953"
             ],
             [
              0.7777777777777778,
              "#fb9f3a"
             ],
             [
              0.8888888888888888,
              "#fdca26"
             ],
             [
              1,
              "#f0f921"
             ]
            ],
            "type": "histogram2d"
           }
          ],
          "histogram2dcontour": [
           {
            "colorbar": {
             "outlinewidth": 0,
             "ticks": ""
            },
            "colorscale": [
             [
              0,
              "#0d0887"
             ],
             [
              0.1111111111111111,
              "#46039f"
             ],
             [
              0.2222222222222222,
              "#7201a8"
             ],
             [
              0.3333333333333333,
              "#9c179e"
             ],
             [
              0.4444444444444444,
              "#bd3786"
             ],
             [
              0.5555555555555556,
              "#d8576b"
             ],
             [
              0.6666666666666666,
              "#ed7953"
             ],
             [
              0.7777777777777778,
              "#fb9f3a"
             ],
             [
              0.8888888888888888,
              "#fdca26"
             ],
             [
              1,
              "#f0f921"
             ]
            ],
            "type": "histogram2dcontour"
           }
          ],
          "mesh3d": [
           {
            "colorbar": {
             "outlinewidth": 0,
             "ticks": ""
            },
            "type": "mesh3d"
           }
          ],
          "parcoords": [
           {
            "line": {
             "colorbar": {
              "outlinewidth": 0,
              "ticks": ""
             }
            },
            "type": "parcoords"
           }
          ],
          "pie": [
           {
            "automargin": true,
            "type": "pie"
           }
          ],
          "scatter": [
           {
            "fillpattern": {
             "fillmode": "overlay",
             "size": 10,
             "solidity": 0.2
            },
            "type": "scatter"
           }
          ],
          "scatter3d": [
           {
            "line": {
             "colorbar": {
              "outlinewidth": 0,
              "ticks": ""
             }
            },
            "marker": {
             "colorbar": {
              "outlinewidth": 0,
              "ticks": ""
             }
            },
            "type": "scatter3d"
           }
          ],
          "scattercarpet": [
           {
            "marker": {
             "colorbar": {
              "outlinewidth": 0,
              "ticks": ""
             }
            },
            "type": "scattercarpet"
           }
          ],
          "scattergeo": [
           {
            "marker": {
             "colorbar": {
              "outlinewidth": 0,
              "ticks": ""
             }
            },
            "type": "scattergeo"
           }
          ],
          "scattergl": [
           {
            "marker": {
             "colorbar": {
              "outlinewidth": 0,
              "ticks": ""
             }
            },
            "type": "scattergl"
           }
          ],
          "scattermap": [
           {
            "marker": {
             "colorbar": {
              "outlinewidth": 0,
              "ticks": ""
             }
            },
            "type": "scattermap"
           }
          ],
          "scattermapbox": [
           {
            "marker": {
             "colorbar": {
              "outlinewidth": 0,
              "ticks": ""
             }
            },
            "type": "scattermapbox"
           }
          ],
          "scatterpolar": [
           {
            "marker": {
             "colorbar": {
              "outlinewidth": 0,
              "ticks": ""
             }
            },
            "type": "scatterpolar"
           }
          ],
          "scatterpolargl": [
           {
            "marker": {
             "colorbar": {
              "outlinewidth": 0,
              "ticks": ""
             }
            },
            "type": "scatterpolargl"
           }
          ],
          "scatterternary": [
           {
            "marker": {
             "colorbar": {
              "outlinewidth": 0,
              "ticks": ""
             }
            },
            "type": "scatterternary"
           }
          ],
          "surface": [
           {
            "colorbar": {
             "outlinewidth": 0,
             "ticks": ""
            },
            "colorscale": [
             [
              0,
              "#0d0887"
             ],
             [
              0.1111111111111111,
              "#46039f"
             ],
             [
              0.2222222222222222,
              "#7201a8"
             ],
             [
              0.3333333333333333,
              "#9c179e"
             ],
             [
              0.4444444444444444,
              "#bd3786"
             ],
             [
              0.5555555555555556,
              "#d8576b"
             ],
             [
              0.6666666666666666,
              "#ed7953"
             ],
             [
              0.7777777777777778,
              "#fb9f3a"
             ],
             [
              0.8888888888888888,
              "#fdca26"
             ],
             [
              1,
              "#f0f921"
             ]
            ],
            "type": "surface"
           }
          ],
          "table": [
           {
            "cells": {
             "fill": {
              "color": "#EBF0F8"
             },
             "line": {
              "color": "white"
             }
            },
            "header": {
             "fill": {
              "color": "#C8D4E3"
             },
             "line": {
              "color": "white"
             }
            },
            "type": "table"
           }
          ]
         },
         "layout": {
          "annotationdefaults": {
           "arrowcolor": "#2a3f5f",
           "arrowhead": 0,
           "arrowwidth": 1
          },
          "autotypenumbers": "strict",
          "coloraxis": {
           "colorbar": {
            "outlinewidth": 0,
            "ticks": ""
           }
          },
          "colorscale": {
           "diverging": [
            [
             0,
             "#8e0152"
            ],
            [
             0.1,
             "#c51b7d"
            ],
            [
             0.2,
             "#de77ae"
            ],
            [
             0.3,
             "#f1b6da"
            ],
            [
             0.4,
             "#fde0ef"
            ],
            [
             0.5,
             "#f7f7f7"
            ],
            [
             0.6,
             "#e6f5d0"
            ],
            [
             0.7,
             "#b8e186"
            ],
            [
             0.8,
             "#7fbc41"
            ],
            [
             0.9,
             "#4d9221"
            ],
            [
             1,
             "#276419"
            ]
           ],
           "sequential": [
            [
             0,
             "#0d0887"
            ],
            [
             0.1111111111111111,
             "#46039f"
            ],
            [
             0.2222222222222222,
             "#7201a8"
            ],
            [
             0.3333333333333333,
             "#9c179e"
            ],
            [
             0.4444444444444444,
             "#bd3786"
            ],
            [
             0.5555555555555556,
             "#d8576b"
            ],
            [
             0.6666666666666666,
             "#ed7953"
            ],
            [
             0.7777777777777778,
             "#fb9f3a"
            ],
            [
             0.8888888888888888,
             "#fdca26"
            ],
            [
             1,
             "#f0f921"
            ]
           ],
           "sequentialminus": [
            [
             0,
             "#0d0887"
            ],
            [
             0.1111111111111111,
             "#46039f"
            ],
            [
             0.2222222222222222,
             "#7201a8"
            ],
            [
             0.3333333333333333,
             "#9c179e"
            ],
            [
             0.4444444444444444,
             "#bd3786"
            ],
            [
             0.5555555555555556,
             "#d8576b"
            ],
            [
             0.6666666666666666,
             "#ed7953"
            ],
            [
             0.7777777777777778,
             "#fb9f3a"
            ],
            [
             0.8888888888888888,
             "#fdca26"
            ],
            [
             1,
             "#f0f921"
            ]
           ]
          },
          "colorway": [
           "#636efa",
           "#EF553B",
           "#00cc96",
           "#ab63fa",
           "#FFA15A",
           "#19d3f3",
           "#FF6692",
           "#B6E880",
           "#FF97FF",
           "#FECB52"
          ],
          "font": {
           "color": "#2a3f5f"
          },
          "geo": {
           "bgcolor": "white",
           "lakecolor": "white",
           "landcolor": "#E5ECF6",
           "showlakes": true,
           "showland": true,
           "subunitcolor": "white"
          },
          "hoverlabel": {
           "align": "left"
          },
          "hovermode": "closest",
          "mapbox": {
           "style": "light"
          },
          "paper_bgcolor": "white",
          "plot_bgcolor": "#E5ECF6",
          "polar": {
           "angularaxis": {
            "gridcolor": "white",
            "linecolor": "white",
            "ticks": ""
           },
           "bgcolor": "#E5ECF6",
           "radialaxis": {
            "gridcolor": "white",
            "linecolor": "white",
            "ticks": ""
           }
          },
          "scene": {
           "xaxis": {
            "backgroundcolor": "#E5ECF6",
            "gridcolor": "white",
            "gridwidth": 2,
            "linecolor": "white",
            "showbackground": true,
            "ticks": "",
            "zerolinecolor": "white"
           },
           "yaxis": {
            "backgroundcolor": "#E5ECF6",
            "gridcolor": "white",
            "gridwidth": 2,
            "linecolor": "white",
            "showbackground": true,
            "ticks": "",
            "zerolinecolor": "white"
           },
           "zaxis": {
            "backgroundcolor": "#E5ECF6",
            "gridcolor": "white",
            "gridwidth": 2,
            "linecolor": "white",
            "showbackground": true,
            "ticks": "",
            "zerolinecolor": "white"
           }
          },
          "shapedefaults": {
           "line": {
            "color": "#2a3f5f"
           }
          },
          "ternary": {
           "aaxis": {
            "gridcolor": "white",
            "linecolor": "white",
            "ticks": ""
           },
           "baxis": {
            "gridcolor": "white",
            "linecolor": "white",
            "ticks": ""
           },
           "bgcolor": "#E5ECF6",
           "caxis": {
            "gridcolor": "white",
            "linecolor": "white",
            "ticks": ""
           }
          },
          "title": {
           "x": 0.05
          },
          "xaxis": {
           "automargin": true,
           "gridcolor": "white",
           "linecolor": "white",
           "ticks": "",
           "title": {
            "standoff": 15
           },
           "zerolinecolor": "white",
           "zerolinewidth": 2
          },
          "yaxis": {
           "automargin": true,
           "gridcolor": "white",
           "linecolor": "white",
           "ticks": "",
           "title": {
            "standoff": 15
           },
           "zerolinecolor": "white",
           "zerolinewidth": 2
          }
         }
        },
        "title": {
         "font": {
          "size": 20
         },
         "text": "Comparación de la correlación entre precio y satisfacción del cliente entre ciudades"
        },
        "xaxis": {
         "anchor": "y",
         "domain": [
          0,
          1
         ],
         "gridcolor": "lightgray",
         "showgrid": true,
         "title": {
          "text": "Coeficiente de correlación de Spearman entre precio y satisfacción"
         }
        },
        "yaxis": {
         "anchor": "x",
         "domain": [
          0,
          1
         ],
         "showgrid": false,
         "title": {
          "text": "Ciudad"
         }
        }
       }
      }
     },
     "metadata": {},
     "output_type": "display_data"
    }
   ],
   "source": [
    "import plotly.express as px\n",
    "\n",
    "# Ordenar los datos por la correlación de Spearman\n",
    "city_corrs_sorted = city_corrs.sort_values('spearman_corr', ascending=False)\n",
    "\n",
    "# Crear gráfico de barras horizontal con colores personalizados\n",
    "fig = px.bar(city_corrs_sorted,\n",
    "             x='spearman_corr',\n",
    "             y='city',\n",
    "             orientation='h',\n",
    "             text='spearman_corr',\n",
    "             color='spearman_corr',\n",
    "             color_continuous_scale=[[0, '#2D6A4F'], [0.5, '#8BAE3F'], [1, '#D8F3DC']],\n",
    "             title='Comparación de la correlación entre precio y satisfacción del cliente entre ciudades')\n",
    "\n",
    "# Personalizar apariencia\n",
    "fig.update_traces(marker_line_color='black', marker_line_width=1, texttemplate='%{text:.2f}')\n",
    "fig.update_layout(\n",
    "    plot_bgcolor='#D8F3DC',\n",
    "    paper_bgcolor='#D8F3DC',\n",
    "    xaxis_title='Coeficiente de correlación de Spearman entre precio y satisfacción',\n",
    "    yaxis_title='Ciudad',\n",
    "    title_font_size=20,\n",
    "    font=dict(color='black', size=14),\n",
    "    xaxis=dict(showgrid=True, gridcolor='lightgray'),\n",
    "    yaxis=dict(showgrid=False)\n",
    ")\n",
    "\n",
    "fig.add_vline(x=0, line_dash=\"dash\", line_color=\"gray\")  # Línea vertical en x=0\n",
    "\n",
    "fig.show()"
   ]
  },
  {
   "cell_type": "code",
   "execution_count": 60,
   "id": "84808abe",
   "metadata": {},
   "outputs": [
    {
     "data": {
      "application/vnd.plotly.v1+json": {
       "config": {
        "plotlyServerURL": "https://plot.ly"
       },
       "data": [
        {
         "coloraxis": "coloraxis",
         "hovertemplate": "Coeficiente de Spearman: %{x}<br>Ciudad: %{y}<br>Correlación: %{z}<extra></extra>",
         "name": "0",
         "type": "heatmap",
         "x": [
          "spearman_corr"
         ],
         "xaxis": "x",
         "y": [
          "barcelona",
          "girona",
          "madrid",
          "malaga",
          "mallorca",
          "menorca",
          "sevilla",
          "valencia"
         ],
         "yaxis": "y",
         "z": {
          "bdata": "001iEFg5tL+gGi/dJAbBP6RwPQrXo7A/JzEIrBxaxD/LoUW28/3EP0w3iUFg5aA/g8DKoUW2sz8730+Nl26yPw==",
          "dtype": "f8",
          "shape": "8, 1"
         }
        }
       ],
       "layout": {
        "annotations": [
         {
          "font": {
           "color": "black"
          },
          "showarrow": false,
          "text": "-0.079",
          "x": "spearman_corr",
          "y": "barcelona"
         },
         {
          "font": {
           "color": "black"
          },
          "showarrow": false,
          "text": "0.133",
          "x": "spearman_corr",
          "y": "girona"
         },
         {
          "font": {
           "color": "black"
          },
          "showarrow": false,
          "text": "0.065",
          "x": "spearman_corr",
          "y": "madrid"
         },
         {
          "font": {
           "color": "black"
          },
          "showarrow": false,
          "text": "0.159",
          "x": "spearman_corr",
          "y": "malaga"
         },
         {
          "font": {
           "color": "black"
          },
          "showarrow": false,
          "text": "0.164",
          "x": "spearman_corr",
          "y": "mallorca"
         },
         {
          "font": {
           "color": "black"
          },
          "showarrow": false,
          "text": "0.033",
          "x": "spearman_corr",
          "y": "menorca"
         },
         {
          "font": {
           "color": "black"
          },
          "showarrow": false,
          "text": "0.077",
          "x": "spearman_corr",
          "y": "sevilla"
         },
         {
          "font": {
           "color": "black"
          },
          "showarrow": false,
          "text": "0.072",
          "x": "spearman_corr",
          "y": "valencia"
         }
        ],
        "coloraxis": {
         "cmax": 1,
         "cmin": -1,
         "colorbar": {
          "title": {
           "text": "Correlación"
          }
         },
         "colorscale": [
          [
           0,
           "rgb(103,0,31)"
          ],
          [
           0.1,
           "rgb(178,24,43)"
          ],
          [
           0.2,
           "rgb(214,96,77)"
          ],
          [
           0.3,
           "rgb(244,165,130)"
          ],
          [
           0.4,
           "rgb(253,219,199)"
          ],
          [
           0.5,
           "rgb(247,247,247)"
          ],
          [
           0.6,
           "rgb(209,229,240)"
          ],
          [
           0.7,
           "rgb(146,197,222)"
          ],
          [
           0.8,
           "rgb(67,147,195)"
          ],
          [
           0.9,
           "rgb(33,102,172)"
          ],
          [
           1,
           "rgb(5,48,97)"
          ]
         ]
        },
        "height": 440,
        "paper_bgcolor": "#D8F3DC",
        "plot_bgcolor": "#D8F3DC",
        "template": {
         "data": {
          "bar": [
           {
            "error_x": {
             "color": "#2a3f5f"
            },
            "error_y": {
             "color": "#2a3f5f"
            },
            "marker": {
             "line": {
              "color": "#E5ECF6",
              "width": 0.5
             },
             "pattern": {
              "fillmode": "overlay",
              "size": 10,
              "solidity": 0.2
             }
            },
            "type": "bar"
           }
          ],
          "barpolar": [
           {
            "marker": {
             "line": {
              "color": "#E5ECF6",
              "width": 0.5
             },
             "pattern": {
              "fillmode": "overlay",
              "size": 10,
              "solidity": 0.2
             }
            },
            "type": "barpolar"
           }
          ],
          "carpet": [
           {
            "aaxis": {
             "endlinecolor": "#2a3f5f",
             "gridcolor": "white",
             "linecolor": "white",
             "minorgridcolor": "white",
             "startlinecolor": "#2a3f5f"
            },
            "baxis": {
             "endlinecolor": "#2a3f5f",
             "gridcolor": "white",
             "linecolor": "white",
             "minorgridcolor": "white",
             "startlinecolor": "#2a3f5f"
            },
            "type": "carpet"
           }
          ],
          "choropleth": [
           {
            "colorbar": {
             "outlinewidth": 0,
             "ticks": ""
            },
            "type": "choropleth"
           }
          ],
          "contour": [
           {
            "colorbar": {
             "outlinewidth": 0,
             "ticks": ""
            },
            "colorscale": [
             [
              0,
              "#0d0887"
             ],
             [
              0.1111111111111111,
              "#46039f"
             ],
             [
              0.2222222222222222,
              "#7201a8"
             ],
             [
              0.3333333333333333,
              "#9c179e"
             ],
             [
              0.4444444444444444,
              "#bd3786"
             ],
             [
              0.5555555555555556,
              "#d8576b"
             ],
             [
              0.6666666666666666,
              "#ed7953"
             ],
             [
              0.7777777777777778,
              "#fb9f3a"
             ],
             [
              0.8888888888888888,
              "#fdca26"
             ],
             [
              1,
              "#f0f921"
             ]
            ],
            "type": "contour"
           }
          ],
          "contourcarpet": [
           {
            "colorbar": {
             "outlinewidth": 0,
             "ticks": ""
            },
            "type": "contourcarpet"
           }
          ],
          "heatmap": [
           {
            "colorbar": {
             "outlinewidth": 0,
             "ticks": ""
            },
            "colorscale": [
             [
              0,
              "#0d0887"
             ],
             [
              0.1111111111111111,
              "#46039f"
             ],
             [
              0.2222222222222222,
              "#7201a8"
             ],
             [
              0.3333333333333333,
              "#9c179e"
             ],
             [
              0.4444444444444444,
              "#bd3786"
             ],
             [
              0.5555555555555556,
              "#d8576b"
             ],
             [
              0.6666666666666666,
              "#ed7953"
             ],
             [
              0.7777777777777778,
              "#fb9f3a"
             ],
             [
              0.8888888888888888,
              "#fdca26"
             ],
             [
              1,
              "#f0f921"
             ]
            ],
            "type": "heatmap"
           }
          ],
          "histogram": [
           {
            "marker": {
             "pattern": {
              "fillmode": "overlay",
              "size": 10,
              "solidity": 0.2
             }
            },
            "type": "histogram"
           }
          ],
          "histogram2d": [
           {
            "colorbar": {
             "outlinewidth": 0,
             "ticks": ""
            },
            "colorscale": [
             [
              0,
              "#0d0887"
             ],
             [
              0.1111111111111111,
              "#46039f"
             ],
             [
              0.2222222222222222,
              "#7201a8"
             ],
             [
              0.3333333333333333,
              "#9c179e"
             ],
             [
              0.4444444444444444,
              "#bd3786"
             ],
             [
              0.5555555555555556,
              "#d8576b"
             ],
             [
              0.6666666666666666,
              "#ed7953"
             ],
             [
              0.7777777777777778,
              "#fb9f3a"
             ],
             [
              0.8888888888888888,
              "#fdca26"
             ],
             [
              1,
              "#f0f921"
             ]
            ],
            "type": "histogram2d"
           }
          ],
          "histogram2dcontour": [
           {
            "colorbar": {
             "outlinewidth": 0,
             "ticks": ""
            },
            "colorscale": [
             [
              0,
              "#0d0887"
             ],
             [
              0.1111111111111111,
              "#46039f"
             ],
             [
              0.2222222222222222,
              "#7201a8"
             ],
             [
              0.3333333333333333,
              "#9c179e"
             ],
             [
              0.4444444444444444,
              "#bd3786"
             ],
             [
              0.5555555555555556,
              "#d8576b"
             ],
             [
              0.6666666666666666,
              "#ed7953"
             ],
             [
              0.7777777777777778,
              "#fb9f3a"
             ],
             [
              0.8888888888888888,
              "#fdca26"
             ],
             [
              1,
              "#f0f921"
             ]
            ],
            "type": "histogram2dcontour"
           }
          ],
          "mesh3d": [
           {
            "colorbar": {
             "outlinewidth": 0,
             "ticks": ""
            },
            "type": "mesh3d"
           }
          ],
          "parcoords": [
           {
            "line": {
             "colorbar": {
              "outlinewidth": 0,
              "ticks": ""
             }
            },
            "type": "parcoords"
           }
          ],
          "pie": [
           {
            "automargin": true,
            "type": "pie"
           }
          ],
          "scatter": [
           {
            "fillpattern": {
             "fillmode": "overlay",
             "size": 10,
             "solidity": 0.2
            },
            "type": "scatter"
           }
          ],
          "scatter3d": [
           {
            "line": {
             "colorbar": {
              "outlinewidth": 0,
              "ticks": ""
             }
            },
            "marker": {
             "colorbar": {
              "outlinewidth": 0,
              "ticks": ""
             }
            },
            "type": "scatter3d"
           }
          ],
          "scattercarpet": [
           {
            "marker": {
             "colorbar": {
              "outlinewidth": 0,
              "ticks": ""
             }
            },
            "type": "scattercarpet"
           }
          ],
          "scattergeo": [
           {
            "marker": {
             "colorbar": {
              "outlinewidth": 0,
              "ticks": ""
             }
            },
            "type": "scattergeo"
           }
          ],
          "scattergl": [
           {
            "marker": {
             "colorbar": {
              "outlinewidth": 0,
              "ticks": ""
             }
            },
            "type": "scattergl"
           }
          ],
          "scattermap": [
           {
            "marker": {
             "colorbar": {
              "outlinewidth": 0,
              "ticks": ""
             }
            },
            "type": "scattermap"
           }
          ],
          "scattermapbox": [
           {
            "marker": {
             "colorbar": {
              "outlinewidth": 0,
              "ticks": ""
             }
            },
            "type": "scattermapbox"
           }
          ],
          "scatterpolar": [
           {
            "marker": {
             "colorbar": {
              "outlinewidth": 0,
              "ticks": ""
             }
            },
            "type": "scatterpolar"
           }
          ],
          "scatterpolargl": [
           {
            "marker": {
             "colorbar": {
              "outlinewidth": 0,
              "ticks": ""
             }
            },
            "type": "scatterpolargl"
           }
          ],
          "scatterternary": [
           {
            "marker": {
             "colorbar": {
              "outlinewidth": 0,
              "ticks": ""
             }
            },
            "type": "scatterternary"
           }
          ],
          "surface": [
           {
            "colorbar": {
             "outlinewidth": 0,
             "ticks": ""
            },
            "colorscale": [
             [
              0,
              "#0d0887"
             ],
             [
              0.1111111111111111,
              "#46039f"
             ],
             [
              0.2222222222222222,
              "#7201a8"
             ],
             [
              0.3333333333333333,
              "#9c179e"
             ],
             [
              0.4444444444444444,
              "#bd3786"
             ],
             [
              0.5555555555555556,
              "#d8576b"
             ],
             [
              0.6666666666666666,
              "#ed7953"
             ],
             [
              0.7777777777777778,
              "#fb9f3a"
             ],
             [
              0.8888888888888888,
              "#fdca26"
             ],
             [
              1,
              "#f0f921"
             ]
            ],
            "type": "surface"
           }
          ],
          "table": [
           {
            "cells": {
             "fill": {
              "color": "#EBF0F8"
             },
             "line": {
              "color": "white"
             }
            },
            "header": {
             "fill": {
              "color": "#C8D4E3"
             },
             "line": {
              "color": "white"
             }
            },
            "type": "table"
           }
          ]
         },
         "layout": {
          "annotationdefaults": {
           "arrowcolor": "#2a3f5f",
           "arrowhead": 0,
           "arrowwidth": 1
          },
          "autotypenumbers": "strict",
          "coloraxis": {
           "colorbar": {
            "outlinewidth": 0,
            "ticks": ""
           }
          },
          "colorscale": {
           "diverging": [
            [
             0,
             "#8e0152"
            ],
            [
             0.1,
             "#c51b7d"
            ],
            [
             0.2,
             "#de77ae"
            ],
            [
             0.3,
             "#f1b6da"
            ],
            [
             0.4,
             "#fde0ef"
            ],
            [
             0.5,
             "#f7f7f7"
            ],
            [
             0.6,
             "#e6f5d0"
            ],
            [
             0.7,
             "#b8e186"
            ],
            [
             0.8,
             "#7fbc41"
            ],
            [
             0.9,
             "#4d9221"
            ],
            [
             1,
             "#276419"
            ]
           ],
           "sequential": [
            [
             0,
             "#0d0887"
            ],
            [
             0.1111111111111111,
             "#46039f"
            ],
            [
             0.2222222222222222,
             "#7201a8"
            ],
            [
             0.3333333333333333,
             "#9c179e"
            ],
            [
             0.4444444444444444,
             "#bd3786"
            ],
            [
             0.5555555555555556,
             "#d8576b"
            ],
            [
             0.6666666666666666,
             "#ed7953"
            ],
            [
             0.7777777777777778,
             "#fb9f3a"
            ],
            [
             0.8888888888888888,
             "#fdca26"
            ],
            [
             1,
             "#f0f921"
            ]
           ],
           "sequentialminus": [
            [
             0,
             "#0d0887"
            ],
            [
             0.1111111111111111,
             "#46039f"
            ],
            [
             0.2222222222222222,
             "#7201a8"
            ],
            [
             0.3333333333333333,
             "#9c179e"
            ],
            [
             0.4444444444444444,
             "#bd3786"
            ],
            [
             0.5555555555555556,
             "#d8576b"
            ],
            [
             0.6666666666666666,
             "#ed7953"
            ],
            [
             0.7777777777777778,
             "#fb9f3a"
            ],
            [
             0.8888888888888888,
             "#fdca26"
            ],
            [
             1,
             "#f0f921"
            ]
           ]
          },
          "colorway": [
           "#636efa",
           "#EF553B",
           "#00cc96",
           "#ab63fa",
           "#FFA15A",
           "#19d3f3",
           "#FF6692",
           "#B6E880",
           "#FF97FF",
           "#FECB52"
          ],
          "font": {
           "color": "#2a3f5f"
          },
          "geo": {
           "bgcolor": "white",
           "lakecolor": "white",
           "landcolor": "#E5ECF6",
           "showlakes": true,
           "showland": true,
           "subunitcolor": "white"
          },
          "hoverlabel": {
           "align": "left"
          },
          "hovermode": "closest",
          "mapbox": {
           "style": "light"
          },
          "paper_bgcolor": "white",
          "plot_bgcolor": "#E5ECF6",
          "polar": {
           "angularaxis": {
            "gridcolor": "white",
            "linecolor": "white",
            "ticks": ""
           },
           "bgcolor": "#E5ECF6",
           "radialaxis": {
            "gridcolor": "white",
            "linecolor": "white",
            "ticks": ""
           }
          },
          "scene": {
           "xaxis": {
            "backgroundcolor": "#E5ECF6",
            "gridcolor": "white",
            "gridwidth": 2,
            "linecolor": "white",
            "showbackground": true,
            "ticks": "",
            "zerolinecolor": "white"
           },
           "yaxis": {
            "backgroundcolor": "#E5ECF6",
            "gridcolor": "white",
            "gridwidth": 2,
            "linecolor": "white",
            "showbackground": true,
            "ticks": "",
            "zerolinecolor": "white"
           },
           "zaxis": {
            "backgroundcolor": "#E5ECF6",
            "gridcolor": "white",
            "gridwidth": 2,
            "linecolor": "white",
            "showbackground": true,
            "ticks": "",
            "zerolinecolor": "white"
           }
          },
          "shapedefaults": {
           "line": {
            "color": "#2a3f5f"
           }
          },
          "ternary": {
           "aaxis": {
            "gridcolor": "white",
            "linecolor": "white",
            "ticks": ""
           },
           "baxis": {
            "gridcolor": "white",
            "linecolor": "white",
            "ticks": ""
           },
           "bgcolor": "#E5ECF6",
           "caxis": {
            "gridcolor": "white",
            "linecolor": "white",
            "ticks": ""
           }
          },
          "title": {
           "x": 0.05
          },
          "xaxis": {
           "automargin": true,
           "gridcolor": "white",
           "linecolor": "white",
           "ticks": "",
           "title": {
            "standoff": 15
           },
           "zerolinecolor": "white",
           "zerolinewidth": 2
          },
          "yaxis": {
           "automargin": true,
           "gridcolor": "white",
           "linecolor": "white",
           "ticks": "",
           "title": {
            "standoff": 15
           },
           "zerolinecolor": "white",
           "zerolinewidth": 2
          }
         }
        },
        "title": {
         "text": "Mapa de calor: correlación entre precio y satisfacción por ciudades"
        },
        "width": 800,
        "xaxis": {
         "anchor": "y",
         "domain": [
          0,
          1
         ],
         "side": "bottom",
         "title": {
          "text": "Coeficiente de Spearman"
         }
        },
        "yaxis": {
         "anchor": "x",
         "autorange": "reversed",
         "domain": [
          0,
          1
         ],
         "title": {
          "text": "Ciudad"
         }
        }
       }
      }
     },
     "metadata": {},
     "output_type": "display_data"
    }
   ],
   "source": [
    "import plotly.express as px\n",
    "import pandas as pd\n",
    "\n",
    "heat_df = city_corrs.pivot_table(index='city', values='spearman_corr').round(3) # Redondeamos para mostrar valores más limpios\n",
    "\n",
    "fig = px.imshow(heat_df,\n",
    "                labels=dict(x=\"Coeficiente de Spearman\", y=\"Ciudad\", color=\"Correlación\"),\n",
    "                color_continuous_scale='RdBu',\n",
    "                zmin=-1, zmax=1,\n",
    "                title=\"Mapa de calor: correlación entre precio y satisfacción por ciudades\",\n",
    "                aspect=\"auto\")\n",
    "\n",
    "# Añadir las anotaciones manualmente\n",
    "for i in range(heat_df.shape[0]):\n",
    "    for j in range(heat_df.shape[1]):\n",
    "        fig.add_annotation(dict(font=dict(color='black'),\n",
    "                               x=heat_df.columns[j],\n",
    "                               y=heat_df.index[i],\n",
    "                               text=str(heat_df.iloc[i, j]),\n",
    "                               showarrow=False))\n",
    "\n",
    "fig.update_layout(yaxis_autorange='reversed',\n",
    "                  width=800,\n",
    "                  height=len(heat_df) * 30 + 200,\n",
    "                  plot_bgcolor='#D8F3DC',\n",
    "                  paper_bgcolor='#D8F3DC')\n",
    "\n",
    "fig.update_xaxes(side=\"bottom\")\n",
    "\n",
    "fig.show()"
   ]
  }
 ],
 "metadata": {
  "kernelspec": {
   "display_name": "Python 3",
   "language": "python",
   "name": "python3"
  },
  "language_info": {
   "codemirror_mode": {
    "name": "ipython",
    "version": 3
   },
   "file_extension": ".py",
   "mimetype": "text/x-python",
   "name": "python",
   "nbconvert_exporter": "python",
   "pygments_lexer": "ipython3",
   "version": "3.13.2"
  }
 },
 "nbformat": 4,
 "nbformat_minor": 5
}
