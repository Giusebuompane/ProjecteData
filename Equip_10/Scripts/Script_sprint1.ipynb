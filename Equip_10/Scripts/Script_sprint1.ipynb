{
 "cells": [
  {
   "cell_type": "markdown",
   "id": "7d0c122e",
   "metadata": {},
   "source": [
    "# Lectura de csv Per treballar amb dades netes"
   ]
  },
  {
   "cell_type": "code",
   "execution_count": 2,
   "id": "630576d3",
   "metadata": {},
   "outputs": [],
   "source": [
    "import pandas as pd"
   ]
  },
  {
   "cell_type": "code",
   "execution_count": 3,
   "id": "bfa5fdca",
   "metadata": {},
   "outputs": [],
   "source": [
    "# Llegim el CSV amb totes les dades correctes, llestes per treballar.\n",
    "df = pd.read_csv(\"df_tourist_python.csv\", sep= \";\")"
   ]
  },
  {
   "cell_type": "code",
   "execution_count": null,
   "id": "a99e5b48",
   "metadata": {},
   "outputs": [
    {
     "name": "stdout",
     "output_type": "stream",
     "text": [
      "<class 'pandas.core.frame.DataFrame'>\n",
      "RangeIndex: 6733 entries, 0 to 6732\n",
      "Data columns (total 35 columns):\n",
      " #   Column                       Non-Null Count  Dtype  \n",
      "---  ------                       --------------  -----  \n",
      " 0   apartment_id                 6733 non-null   int64  \n",
      " 1   name                         6730 non-null   object \n",
      " 2   description                  6706 non-null   object \n",
      " 3   host_id                      6733 non-null   int64  \n",
      " 4   neighbourhood_name           6733 non-null   object \n",
      " 5   neighbourhood_district       4075 non-null   object \n",
      " 6   room_type                    6733 non-null   object \n",
      " 7   accommodates                 6733 non-null   int64  \n",
      " 8   bathrooms                    6733 non-null   float64\n",
      " 9   bedrooms                     6733 non-null   float64\n",
      " 10  beds                         6733 non-null   float64\n",
      " 11  amenities_list               6717 non-null   object \n",
      " 12  price                        6733 non-null   float64\n",
      " 13  minimum_nights               6733 non-null   int64  \n",
      " 14  maximum_nights               6733 non-null   int64  \n",
      " 15  has_availability             6733 non-null   bool   \n",
      " 16  availability_30              6733 non-null   int64  \n",
      " 17  availability_60              6733 non-null   int64  \n",
      " 18  availability_90              6733 non-null   int64  \n",
      " 19  availability_365             6733 non-null   int64  \n",
      " 20  number_of_reviews            6733 non-null   int64  \n",
      " 21  first_review_date            5530 non-null   object \n",
      " 22  last_review_date             5529 non-null   object \n",
      " 23  review_scores_rating         6733 non-null   float64\n",
      " 24  review_scores_accuracy       6733 non-null   float64\n",
      " 25  review_scores_cleanliness    6733 non-null   float64\n",
      " 26  review_scores_checkin        6733 non-null   float64\n",
      " 27  review_scores_communication  6733 non-null   float64\n",
      " 28  review_scores_location       6733 non-null   float64\n",
      " 29  review_scores_value          6733 non-null   float64\n",
      " 30  is_instant_bookable          6733 non-null   object \n",
      " 31  reviews_per_month            6733 non-null   float64\n",
      " 32  country                      6733 non-null   object \n",
      " 33  city                         6733 non-null   object \n",
      " 34  insert_date                  6733 non-null   object \n",
      "dtypes: bool(1), float64(12), int64(10), object(12)\n",
      "memory usage: 1.8+ MB\n"
     ]
    }
   ],
   "source": [
    "# Verifiquem que les dades tenen el format que ens permetra fer tots els analisis.\n",
    "df.info()"
   ]
  },
  {
   "cell_type": "markdown",
   "id": "bf4b586a",
   "metadata": {},
   "source": [
    "# Sprint 1:"
   ]
  },
  {
   "cell_type": "markdown",
   "id": "294545b3",
   "metadata": {},
   "source": [
    "## KPI"
   ]
  },
  {
   "cell_type": "code",
   "execution_count": 5,
   "id": "573fe8ce",
   "metadata": {},
   "outputs": [
    {
     "name": "stdout",
     "output_type": "stream",
     "text": [
      "Tasa de Ocupación: 59.03%\n"
     ]
    }
   ],
   "source": [
    "import pandas as pd\n",
    "\n",
    "#TASA OCUPACIÓN\n",
    "\n",
    "total_disponibilidad = df['availability_30'].sum() #Sumamos la disponibilidad total\n",
    "total_filas = len(df) #Número total de filas\n",
    "dias_totales = 30 * total_filas #Días totales disponibles\n",
    "\n",
    "tasa_ocupacion = (dias_totales - total_disponibilidad) / dias_totales\n",
    "\n",
    "print(f\"Tasa de Ocupación: {tasa_ocupacion:.2%}\") #Resultado con 2 decimales y en porcentaje"
   ]
  },
  {
   "cell_type": "code",
   "execution_count": 12,
   "id": "08d15be5-c3fb-4472-88ba-f34342b7503d",
   "metadata": {},
   "outputs": [
    {
     "name": "stdout",
     "output_type": "stream",
     "text": [
      "madrid - 65.3%\n"
     ]
    }
   ],
   "source": [
    "#CIUDAD CON MAYOR OCUPACIÓN\n",
    "\n",
    "import pandas as pd\n",
    "\n",
    "#Agrupación por ciudad\n",
    "tasa_por_ciudad = df.groupby(\"city\").agg(\n",
    "    total_disponibilidad=(\"availability_30\", \"sum\"),\n",
    "    total_filas=(\"availability_30\", \"count\")\n",
    ")\n",
    "\n",
    "# Calcular la disponibilidad y la ocupación\n",
    "tasa_por_ciudad[\"dias_totales\"] = 30 * tasa_por_ciudad[\"total_filas\"]\n",
    "tasa_por_ciudad[\"tasa_ocupacion\"] = (\n",
    "    (tasa_por_ciudad[\"dias_totales\"] - tasa_por_ciudad[\"total_disponibilidad\"]) /\n",
    "    tasa_por_ciudad[\"dias_totales\"]\n",
    ") * 100\n",
    "\n",
    "# Quedarnos con la ciudad con mayor ocupación\n",
    "top_city_row = tasa_por_ciudad[\"tasa_ocupacion\"].idxmax()\n",
    "tasa_max = tasa_por_ciudad.loc[top_city_row, \"tasa_ocupacion\"]\n",
    "\n",
    "ciudad_porcen = f\"{top_city_row} - {tasa_max:.1f}%\"\n",
    "\n",
    "print(ciudad_porcen)"
   ]
  },
  {
   "cell_type": "code",
   "execution_count": 7,
   "id": "6f9f313f-c480-438c-934e-518496ce2c13",
   "metadata": {},
   "outputs": [
    {
     "name": "stdout",
     "output_type": "stream",
     "text": [
      "Índice de Satisfacción: 92.4\n"
     ]
    }
   ],
   "source": [
    "#ÍNDICE OCUPACIÓN\n",
    "\n",
    "#Media de review scores rating\n",
    "indice_satisfaccion = round(df['review_scores_rating'].mean(), 2)\n",
    "\n",
    "print(f\"Índice de Satisfacción: {indice_satisfaccion}\")"
   ]
  },
  {
   "cell_type": "code",
   "execution_count": 13,
   "id": "c2903de8-2c2d-4dc1-a20c-8a3aebe56891",
   "metadata": {},
   "outputs": [
    {
     "name": "stdout",
     "output_type": "stream",
     "text": [
      "A ROOM WITH A VIEW - 100.0\n"
     ]
    }
   ],
   "source": [
    "#ALOJAMIENTO CON MAYOR PUNTUACIÓN\n",
    "\n",
    "# Se crea una columan con la media de las 5 diferentes puntuaciones de cada apartamento\n",
    "df[\"satisfaccion\"] = df[[\n",
    "    \"review_scores_accuracy\",\n",
    "    \"review_scores_cleanliness\",\n",
    "    \"review_scores_communication\",\n",
    "    \"review_scores_location\",\n",
    "    \"review_scores_checkin\"\n",
    "]].mean(axis=1)\n",
    "\n",
    "# Nos quedamos con el valor más alto\n",
    "top_row = df.loc[df[\"satisfaccion\"].idxmax()]\n",
    "\n",
    "nombre_score = f\"{top_row['name']} - {top_row['satisfaccion']:.1f}\"\n",
    "\n",
    "print(nombre_score)"
   ]
  },
  {
   "cell_type": "markdown",
   "id": "d4738146",
   "metadata": {},
   "source": [
    "## Análisis orientado (Marketing)"
   ]
  },
  {
   "cell_type": "code",
   "execution_count": 5,
   "id": "00b8827f",
   "metadata": {},
   "outputs": [
    {
     "data": {
      "text/plain": [
       "city       room_type      \n",
       "barcelona  Entire home/apt    1293.36\n",
       "           Hotel room         1444.29\n",
       "           Private room        454.53\n",
       "           Shared room         369.44\n",
       "girona     Entire home/apt    1222.18\n",
       "           Hotel room          625.00\n",
       "           Private room        602.12\n",
       "madrid     Entire home/apt     938.10\n",
       "           Hotel room          857.00\n",
       "           Private room        372.88\n",
       "           Shared room         313.33\n",
       "malaga     Entire home/apt     815.00\n",
       "           Hotel room          703.33\n",
       "           Private room        356.73\n",
       "           Shared room         143.33\n",
       "mallorca   Entire home/apt    1693.77\n",
       "           Hotel room         1410.00\n",
       "           Private room        697.75\n",
       "           Shared room         493.33\n",
       "menorca    Entire home/apt    1649.61\n",
       "           Private room        610.00\n",
       "sevilla    Entire home/apt    1032.67\n",
       "           Hotel room          918.57\n",
       "           Private room        602.39\n",
       "           Shared room         120.00\n",
       "valencia   Entire home/apt     793.60\n",
       "           Hotel room          955.00\n",
       "           Private room        339.39\n",
       "           Shared room         203.33\n",
       "Name: price, dtype: float64"
      ]
     },
     "execution_count": 5,
     "metadata": {},
     "output_type": "execute_result"
    }
   ],
   "source": [
    "# Responen a la pregunta\n",
    "# Quin es el preu mitja per tipus d'allotjament a cada ciutat?\n",
    "# Escollom les columnes amb informacio, per graficar amb Power BI\n",
    "\n",
    "df.groupby([\"city\",\"room_type\"])[\"price\"].mean().round(2)"
   ]
  },
  {
   "cell_type": "markdown",
   "id": "580f4a85",
   "metadata": {},
   "source": [
    "## Análisis orientado a experiencia usuario (Usuario)"
   ]
  },
  {
   "cell_type": "code",
   "execution_count": null,
   "id": "d2bf9449",
   "metadata": {},
   "outputs": [],
   "source": []
  },
  {
   "cell_type": "markdown",
   "id": "c74b117d",
   "metadata": {},
   "source": [
    "## Análisis orientado a negocio (Operaciones)"
   ]
  },
  {
   "cell_type": "code",
   "execution_count": null,
   "id": "b8635f08",
   "metadata": {},
   "outputs": [],
   "source": []
  }
 ],
 "metadata": {
  "kernelspec": {
   "display_name": "Python 3 (ipykernel)",
   "language": "python",
   "name": "python3"
  },
  "language_info": {
   "codemirror_mode": {
    "name": "ipython",
    "version": 3
   },
   "file_extension": ".py",
   "mimetype": "text/x-python",
   "name": "python",
   "nbconvert_exporter": "python",
   "pygments_lexer": "ipython3",
   "version": "3.12.7"
  }
 },
 "nbformat": 4,
 "nbformat_minor": 5
}
