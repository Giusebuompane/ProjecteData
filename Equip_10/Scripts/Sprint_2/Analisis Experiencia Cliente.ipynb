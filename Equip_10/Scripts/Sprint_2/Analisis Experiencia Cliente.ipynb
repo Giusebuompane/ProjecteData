{
 "cells": [
  {
   "cell_type": "markdown",
   "id": "0b32ff24",
   "metadata": {},
   "source": [
    "# Análisis departamento de Experiencia del Cliente"
   ]
  },
  {
   "cell_type": "markdown",
   "id": "38b19629",
   "metadata": {},
   "source": [
    "## Pregunta de negocio:"
   ]
  },
  {
   "cell_type": "markdown",
   "id": "ad7c6de8",
   "metadata": {},
   "source": [
    "¿Que aspectos presentan diferencias más grandes entre los alojamientos mejor y peor valorados en la puntuación general?\n",
    "- Precisión de detalles\n",
    "- Higiene\n",
    "- Check-in "
   ]
  },
  {
   "cell_type": "markdown",
   "id": "3cf6c219",
   "metadata": {},
   "source": [
    "## Cargar dataset df_tourist_python_sprint2.csv"
   ]
  },
  {
   "cell_type": "code",
   "execution_count": 2,
   "id": "b6496bbe",
   "metadata": {},
   "outputs": [],
   "source": [
    "import pandas as pd   \n",
    "\n",
    "nombre_documento = r'df_tourist_python_sprint2.csv'\n",
    "df_tourist = pd.read_csv(nombre_documento, sep=';', decimal='.')"
   ]
  },
  {
   "cell_type": "markdown",
   "id": "2223fc62",
   "metadata": {},
   "source": [
    "## Transformación dataset df_tourist_python_sprint2 para crear df_cl y responder la pregunta de negocio"
   ]
  },
  {
   "cell_type": "code",
   "execution_count": 3,
   "id": "9ebf5bfe",
   "metadata": {},
   "outputs": [
    {
     "data": {
      "application/vnd.microsoft.datawrangler.viewer.v0+json": {
       "columns": [
        {
         "name": "index",
         "rawType": "int64",
         "type": "integer"
        },
        {
         "name": "apartment_id",
         "rawType": "int64",
         "type": "integer"
        },
        {
         "name": "room_type",
         "rawType": "object",
         "type": "string"
        },
        {
         "name": "accommodates",
         "rawType": "int64",
         "type": "integer"
        },
        {
         "name": "bathrooms",
         "rawType": "float64",
         "type": "float"
        },
        {
         "name": "bedrooms",
         "rawType": "float64",
         "type": "float"
        },
        {
         "name": "beds",
         "rawType": "float64",
         "type": "float"
        },
        {
         "name": "price",
         "rawType": "float64",
         "type": "float"
        },
        {
         "name": "number_of_reviews",
         "rawType": "int64",
         "type": "integer"
        },
        {
         "name": "review_scores_rating",
         "rawType": "float64",
         "type": "float"
        },
        {
         "name": "review_scores_accuracy",
         "rawType": "float64",
         "type": "float"
        },
        {
         "name": "review_scores_cleanliness",
         "rawType": "float64",
         "type": "float"
        },
        {
         "name": "review_scores_checkin",
         "rawType": "float64",
         "type": "float"
        },
        {
         "name": "review_scores_communication",
         "rawType": "float64",
         "type": "float"
        },
        {
         "name": "review_scores_location",
         "rawType": "float64",
         "type": "float"
        },
        {
         "name": "reviews_per_month",
         "rawType": "float64",
         "type": "float"
        },
        {
         "name": "city",
         "rawType": "object",
         "type": "string"
        }
       ],
       "conversionMethod": "pd.DataFrame",
       "ref": "0d9afa71-8da8-4408-a2e7-c4cefcfea2d7",
       "rows": [
        [
         "0",
         "11964",
         "Private room",
         "2",
         "2.0",
         "1.0",
         "1.0",
         "400.0",
         "78",
         "97.0",
         "100.0",
         "100.0",
         "100.0",
         "100.0",
         "100.0",
         "75.0",
         "malaga"
        ],
        [
         "1",
         "21853",
         "Private room",
         "1",
         "1.0",
         "1.0",
         "1.0",
         "170.0",
         "33",
         "92.0",
         "90.0",
         "90.0",
         "100.0",
         "100.0",
         "80.0",
         "52.0",
         "madrid"
        ],
        [
         "2",
         "32347",
         "Entire home/apt",
         "4",
         "1.0",
         "2.0",
         "2.0",
         "990.0",
         "148",
         "98.0",
         "100.0",
         "100.0",
         "100.0",
         "100.0",
         "100.0",
         "142.0",
         "sevilla"
        ],
        [
         "3",
         "35379",
         "Private room",
         "2",
         "2.0",
         "1.0",
         "1.0",
         "400.0",
         "292",
         "94.0",
         "100.0",
         "90.0",
         "100.0",
         "100.0",
         "100.0",
         "306.0",
         "barcelona"
        ],
        [
         "4",
         "35801",
         "Private room",
         "5",
         "1.0",
         "2.0",
         "5.0",
         "900.0",
         "36",
         "97.0",
         "100.0",
         "100.0",
         "100.0",
         "100.0",
         "100.0",
         "39.0",
         "girona"
        ],
        [
         "5",
         "48764",
         "Entire home/apt",
         "8",
         "2.0",
         "4.0",
         "5.0",
         "900.0",
         "25",
         "96.0",
         "100.0",
         "100.0",
         "100.0",
         "100.0",
         "90.0",
         "27.0",
         "girona"
        ],
        [
         "6",
         "58512",
         "Entire home/apt",
         "6",
         "2.0",
         "3.0",
         "4.0",
         "950.0",
         "382",
         "89.0",
         "90.0",
         "90.0",
         "90.0",
         "90.0",
         "90.0",
         "329.0",
         "barcelona"
        ],
        [
         "7",
         "71603",
         "Entire home/apt",
         "3",
         "2.0",
         "1.0",
         "4.0",
         "3900.0",
         "33",
         "94.0",
         "100.0",
         "100.0",
         "100.0",
         "90.0",
         "100.0",
         "42.0",
         "barcelona"
        ],
        [
         "8",
         "72150",
         "Entire home/apt",
         "5",
         "2.0",
         "3.0",
         "6.0",
         "790.0",
         "108",
         "91.0",
         "90.0",
         "90.0",
         "100.0",
         "100.0",
         "100.0",
         "91.0",
         "madrid"
        ],
        [
         "9",
         "73683",
         "Entire home/apt",
         "12",
         "2.0",
         "4.0",
         "14.0",
         "3000.0",
         "120",
         "92.0",
         "90.0",
         "90.0",
         "100.0",
         "100.0",
         "90.0",
         "14.0",
         "barcelona"
        ],
        [
         "10",
         "73692",
         "Entire home/apt",
         "5",
         "1.0",
         "2.0",
         "3.0",
         "1050.0",
         "29",
         "84.0",
         "90.0",
         "80.0",
         "100.0",
         "90.0",
         "100.0",
         "46.0",
         "barcelona"
        ],
        [
         "11",
         "79755",
         "Entire home/apt",
         "5",
         "2.0",
         "3.0",
         "4.0",
         "1100.0",
         "189",
         "98.0",
         "100.0",
         "100.0",
         "100.0",
         "100.0",
         "100.0",
         "234.0",
         "barcelona"
        ],
        [
         "12",
         "89756",
         "Entire home/apt",
         "9",
         "1.0",
         "3.0",
         "8.0",
         "2800.0",
         "9",
         "89.0",
         "90.0",
         "90.0",
         "100.0",
         "100.0",
         "90.0",
         "17.0",
         "barcelona"
        ],
        [
         "13",
         "89776",
         "Entire home/apt",
         "4",
         "1.0",
         "1.0",
         "2.0",
         "650.0",
         "322",
         "96.0",
         "100.0",
         "100.0",
         "100.0",
         "100.0",
         "100.0",
         "327.0",
         "barcelona"
        ],
        [
         "14",
         "89954",
         "Entire home/apt",
         "6",
         "1.0",
         "2.0",
         "3.0",
         "1030.0",
         "181",
         "97.0",
         "100.0",
         "100.0",
         "100.0",
         "100.0",
         "100.0",
         "202.0",
         "madrid"
        ],
        [
         "15",
         "96807",
         "Private room",
         "2",
         "1.0",
         "1.0",
         "2.0",
         "290.0",
         "77",
         "91.0",
         "90.0",
         "90.0",
         "90.0",
         "90.0",
         "80.0",
         "74.0",
         "madrid"
        ],
        [
         "16",
         "101580",
         "Entire home/apt",
         "16",
         "4.0",
         "4.0",
         "12.0",
         "950.0",
         "14",
         "99.0",
         "100.0",
         "100.0",
         "100.0",
         "100.0",
         "90.0",
         "73.0",
         "girona"
        ],
        [
         "17",
         "103386",
         "Entire home/apt",
         "5",
         "1.0",
         "2.0",
         "3.0",
         "840.0",
         "13",
         "93.0",
         "100.0",
         "100.0",
         "100.0",
         "90.0",
         "90.0",
         "13.0",
         "valencia"
        ],
        [
         "18",
         "107437",
         "Entire home/apt",
         "8",
         "2.0",
         "5.0",
         "6.0",
         "2200.0",
         "34",
         "93.0",
         "100.0",
         "100.0",
         "100.0",
         "100.0",
         "100.0",
         "38.0",
         "barcelona"
        ],
        [
         "19",
         "121210",
         "Private room",
         "2",
         "0.0",
         "1.0",
         "1.0",
         "510.0",
         "154",
         "89.0",
         "90.0",
         "90.0",
         "90.0",
         "90.0",
         "90.0",
         "184.0",
         "barcelona"
        ],
        [
         "20",
         "128463",
         "Private room",
         "2",
         "2.0",
         "1.0",
         "1.0",
         "300.0",
         "184",
         "97.0",
         "100.0",
         "100.0",
         "100.0",
         "100.0",
         "90.0",
         "235.0",
         "barcelona"
        ],
        [
         "21",
         "131987",
         "Entire home/apt",
         "4",
         "1.0",
         "1.0",
         "2.0",
         "690.0",
         "235",
         "98.0",
         "100.0",
         "100.0",
         "100.0",
         "100.0",
         "100.0",
         "235.0",
         "sevilla"
        ],
        [
         "22",
         "144471",
         "Private room",
         "2",
         "1.0",
         "1.0",
         "1.0",
         "490.0",
         "34",
         "88.0",
         "80.0",
         "90.0",
         "90.0",
         "90.0",
         "90.0",
         "38.0",
         "barcelona"
        ],
        [
         "23",
         "157327",
         "Entire home/apt",
         "8",
         "5.0",
         "4.0",
         "8.0",
         "950.0",
         "1",
         "80.0",
         "80.0",
         "100.0",
         "100.0",
         "100.0",
         "80.0",
         "2.0",
         "girona"
        ],
        [
         "24",
         "158238",
         "Entire home/apt",
         "8",
         "2.0",
         "4.0",
         "5.0",
         "1200.0",
         "97",
         "89.0",
         "90.0",
         "80.0",
         "100.0",
         "100.0",
         "90.0",
         "116.0",
         "barcelona"
        ],
        [
         "25",
         "164621",
         "Private room",
         "1",
         "1.0",
         "1.0",
         "0.0",
         "330.0",
         "44",
         "95.0",
         "100.0",
         "100.0",
         "100.0",
         "100.0",
         "90.0",
         "45.0",
         "mallorca"
        ],
        [
         "26",
         "170750",
         "Entire home/apt",
         "4",
         "1.0",
         "2.0",
         "4.0",
         "900.0",
         "189",
         "90.0",
         "90.0",
         "90.0",
         "100.0",
         "100.0",
         "100.0",
         "218.0",
         "madrid"
        ],
        [
         "27",
         "176827",
         "Private room",
         "7",
         "5.0",
         "1.0",
         "7.0",
         "280.0",
         "156",
         "83.0",
         "80.0",
         "90.0",
         "90.0",
         "90.0",
         "90.0",
         "248.0",
         "madrid"
        ],
        [
         "28",
         "178456",
         "Entire home/apt",
         "4",
         "1.0",
         "2.0",
         "2.0",
         "900.0",
         "33",
         "88.0",
         "90.0",
         "90.0",
         "90.0",
         "100.0",
         "90.0",
         "37.0",
         "mallorca"
        ],
        [
         "29",
         "183346",
         "Private room",
         "2",
         "2.0",
         "1.0",
         "1.0",
         "300.0",
         "12",
         "83.0",
         "90.0",
         "80.0",
         "90.0",
         "100.0",
         "90.0",
         "24.0",
         "madrid"
        ],
        [
         "30",
         "186221",
         "Private room",
         "1",
         "0.0",
         "1.0",
         "1.0",
         "150.0",
         "416",
         "89.0",
         "90.0",
         "100.0",
         "100.0",
         "90.0",
         "90.0",
         "607.0",
         "barcelona"
        ],
        [
         "31",
         "193923",
         "Private room",
         "1",
         "1.0",
         "1.0",
         "1.0",
         "200.0",
         "125",
         "98.0",
         "100.0",
         "100.0",
         "100.0",
         "100.0",
         "90.0",
         "121.0",
         "barcelona"
        ],
        [
         "32",
         "206846",
         "Entire home/apt",
         "2",
         "2.0",
         "1.0",
         "1.0",
         "1280.0",
         "77",
         "92.0",
         "90.0",
         "90.0",
         "90.0",
         "90.0",
         "100.0",
         "81.0",
         "barcelona"
        ],
        [
         "33",
         "210156",
         "Entire home/apt",
         "6",
         "2.0",
         "3.0",
         "4.0",
         "580.0",
         "90",
         "97.0",
         "100.0",
         "100.0",
         "100.0",
         "100.0",
         "90.0",
         "97.0",
         "mallorca"
        ],
        [
         "34",
         "213296",
         "Private room",
         "2",
         "1.0",
         "1.0",
         "1.0",
         "250.0",
         "168",
         "89.0",
         "90.0",
         "80.0",
         "90.0",
         "90.0",
         "100.0",
         "292.0",
         "barcelona"
        ],
        [
         "35",
         "214970",
         "Private room",
         "2",
         "1.0",
         "1.0",
         "1.0",
         "330.0",
         "144",
         "93.0",
         "90.0",
         "100.0",
         "90.0",
         "90.0",
         "90.0",
         "139.0",
         "barcelona"
        ],
        [
         "36",
         "222753",
         "Private room",
         "3",
         "1.0",
         "2.0",
         "2.0",
         "310.0",
         "172",
         "86.0",
         "90.0",
         "90.0",
         "100.0",
         "90.0",
         "90.0",
         "156.0",
         "valencia"
        ],
        [
         "37",
         "255195",
         "Entire home/apt",
         "4",
         "1.0",
         "1.0",
         "2.0",
         "330.0",
         "17",
         "85.0",
         "80.0",
         "80.0",
         "90.0",
         "90.0",
         "100.0",
         "16.0",
         "barcelona"
        ],
        [
         "38",
         "265647",
         "Entire home/apt",
         "6",
         "2.0",
         "3.0",
         "5.0",
         "1750.0",
         "8",
         "95.0",
         "90.0",
         "100.0",
         "100.0",
         "100.0",
         "90.0",
         "13.0",
         "girona"
        ],
        [
         "39",
         "279439",
         "Private room",
         "7",
         "2.0",
         "3.0",
         "4.0",
         "250.0",
         "102",
         "91.0",
         "90.0",
         "90.0",
         "100.0",
         "100.0",
         "90.0",
         "134.0",
         "barcelona"
        ],
        [
         "40",
         "305213",
         "Entire home/apt",
         "2",
         "1.0",
         "1.0",
         "1.0",
         "1050.0",
         "170",
         "95.0",
         "100.0",
         "100.0",
         "100.0",
         "100.0",
         "90.0",
         "272.0",
         "barcelona"
        ],
        [
         "41",
         "314781",
         "Private room",
         "2",
         "2.0",
         "1.0",
         "2.0",
         "1000.0",
         "13",
         "93.0",
         "90.0",
         "80.0",
         "100.0",
         "90.0",
         "100.0",
         "31.0",
         "barcelona"
        ],
        [
         "42",
         "318826",
         "Entire home/apt",
         "4",
         "1.0",
         "3.0",
         "3.0",
         "900.0",
         "11",
         "98.0",
         "100.0",
         "100.0",
         "100.0",
         "100.0",
         "90.0",
         "13.0",
         "madrid"
        ],
        [
         "43",
         "323679",
         "Entire home/apt",
         "4",
         "1.0",
         "2.0",
         "3.0",
         "550.0",
         "7",
         "86.0",
         "90.0",
         "90.0",
         "100.0",
         "100.0",
         "90.0",
         "8.0",
         "girona"
        ],
        [
         "44",
         "326464",
         "Private room",
         "2",
         "1.0",
         "1.0",
         "1.0",
         "600.0",
         "33",
         "99.0",
         "100.0",
         "100.0",
         "100.0",
         "100.0",
         "100.0",
         "43.0",
         "barcelona"
        ],
        [
         "45",
         "330723",
         "Private room",
         "2",
         "2.0",
         "1.0",
         "1.0",
         "300.0",
         "51",
         "93.0",
         "100.0",
         "100.0",
         "100.0",
         "90.0",
         "90.0",
         "49.0",
         "barcelona"
        ],
        [
         "46",
         "336795",
         "Private room",
         "2",
         "1.0",
         "1.0",
         "1.0",
         "250.0",
         "156",
         "73.0",
         "80.0",
         "70.0",
         "90.0",
         "90.0",
         "100.0",
         "162.0",
         "madrid"
        ],
        [
         "47",
         "342557",
         "Private room",
         "1",
         "1.0",
         "1.0",
         "1.0",
         "700.0",
         "55",
         "97.0",
         "100.0",
         "100.0",
         "100.0",
         "100.0",
         "100.0",
         "64.0",
         "madrid"
        ],
        [
         "48",
         "343864",
         "Entire home/apt",
         "6",
         "2.0",
         "3.0",
         "5.0",
         "1390.0",
         "7",
         "94.0",
         "100.0",
         "100.0",
         "100.0",
         "90.0",
         "100.0",
         "13.0",
         "barcelona"
        ],
        [
         "49",
         "352772",
         "Entire home/apt",
         "5",
         "1.0",
         "2.0",
         "4.0",
         "850.0",
         "103",
         "94.0",
         "100.0",
         "90.0",
         "90.0",
         "90.0",
         "90.0",
         "126.0",
         "barcelona"
        ]
       ],
       "shape": {
        "columns": 16,
        "rows": 7693
       }
      },
      "text/html": [
       "<div>\n",
       "<style scoped>\n",
       "    .dataframe tbody tr th:only-of-type {\n",
       "        vertical-align: middle;\n",
       "    }\n",
       "\n",
       "    .dataframe tbody tr th {\n",
       "        vertical-align: top;\n",
       "    }\n",
       "\n",
       "    .dataframe thead th {\n",
       "        text-align: right;\n",
       "    }\n",
       "</style>\n",
       "<table border=\"1\" class=\"dataframe\">\n",
       "  <thead>\n",
       "    <tr style=\"text-align: right;\">\n",
       "      <th></th>\n",
       "      <th>apartment_id</th>\n",
       "      <th>room_type</th>\n",
       "      <th>accommodates</th>\n",
       "      <th>bathrooms</th>\n",
       "      <th>bedrooms</th>\n",
       "      <th>beds</th>\n",
       "      <th>price</th>\n",
       "      <th>number_of_reviews</th>\n",
       "      <th>review_scores_rating</th>\n",
       "      <th>review_scores_accuracy</th>\n",
       "      <th>review_scores_cleanliness</th>\n",
       "      <th>review_scores_checkin</th>\n",
       "      <th>review_scores_communication</th>\n",
       "      <th>review_scores_location</th>\n",
       "      <th>reviews_per_month</th>\n",
       "      <th>city</th>\n",
       "    </tr>\n",
       "  </thead>\n",
       "  <tbody>\n",
       "    <tr>\n",
       "      <th>0</th>\n",
       "      <td>11964</td>\n",
       "      <td>Private room</td>\n",
       "      <td>2</td>\n",
       "      <td>2.0</td>\n",
       "      <td>1.0</td>\n",
       "      <td>1.0</td>\n",
       "      <td>400.0</td>\n",
       "      <td>78</td>\n",
       "      <td>97.0</td>\n",
       "      <td>100.0</td>\n",
       "      <td>100.0</td>\n",
       "      <td>100.0</td>\n",
       "      <td>100.0</td>\n",
       "      <td>100.0</td>\n",
       "      <td>75.0</td>\n",
       "      <td>malaga</td>\n",
       "    </tr>\n",
       "    <tr>\n",
       "      <th>1</th>\n",
       "      <td>21853</td>\n",
       "      <td>Private room</td>\n",
       "      <td>1</td>\n",
       "      <td>1.0</td>\n",
       "      <td>1.0</td>\n",
       "      <td>1.0</td>\n",
       "      <td>170.0</td>\n",
       "      <td>33</td>\n",
       "      <td>92.0</td>\n",
       "      <td>90.0</td>\n",
       "      <td>90.0</td>\n",
       "      <td>100.0</td>\n",
       "      <td>100.0</td>\n",
       "      <td>80.0</td>\n",
       "      <td>52.0</td>\n",
       "      <td>madrid</td>\n",
       "    </tr>\n",
       "    <tr>\n",
       "      <th>2</th>\n",
       "      <td>32347</td>\n",
       "      <td>Entire home/apt</td>\n",
       "      <td>4</td>\n",
       "      <td>1.0</td>\n",
       "      <td>2.0</td>\n",
       "      <td>2.0</td>\n",
       "      <td>990.0</td>\n",
       "      <td>148</td>\n",
       "      <td>98.0</td>\n",
       "      <td>100.0</td>\n",
       "      <td>100.0</td>\n",
       "      <td>100.0</td>\n",
       "      <td>100.0</td>\n",
       "      <td>100.0</td>\n",
       "      <td>142.0</td>\n",
       "      <td>sevilla</td>\n",
       "    </tr>\n",
       "    <tr>\n",
       "      <th>3</th>\n",
       "      <td>35379</td>\n",
       "      <td>Private room</td>\n",
       "      <td>2</td>\n",
       "      <td>2.0</td>\n",
       "      <td>1.0</td>\n",
       "      <td>1.0</td>\n",
       "      <td>400.0</td>\n",
       "      <td>292</td>\n",
       "      <td>94.0</td>\n",
       "      <td>100.0</td>\n",
       "      <td>90.0</td>\n",
       "      <td>100.0</td>\n",
       "      <td>100.0</td>\n",
       "      <td>100.0</td>\n",
       "      <td>306.0</td>\n",
       "      <td>barcelona</td>\n",
       "    </tr>\n",
       "    <tr>\n",
       "      <th>4</th>\n",
       "      <td>35801</td>\n",
       "      <td>Private room</td>\n",
       "      <td>5</td>\n",
       "      <td>1.0</td>\n",
       "      <td>2.0</td>\n",
       "      <td>5.0</td>\n",
       "      <td>900.0</td>\n",
       "      <td>36</td>\n",
       "      <td>97.0</td>\n",
       "      <td>100.0</td>\n",
       "      <td>100.0</td>\n",
       "      <td>100.0</td>\n",
       "      <td>100.0</td>\n",
       "      <td>100.0</td>\n",
       "      <td>39.0</td>\n",
       "      <td>girona</td>\n",
       "    </tr>\n",
       "    <tr>\n",
       "      <th>...</th>\n",
       "      <td>...</td>\n",
       "      <td>...</td>\n",
       "      <td>...</td>\n",
       "      <td>...</td>\n",
       "      <td>...</td>\n",
       "      <td>...</td>\n",
       "      <td>...</td>\n",
       "      <td>...</td>\n",
       "      <td>...</td>\n",
       "      <td>...</td>\n",
       "      <td>...</td>\n",
       "      <td>...</td>\n",
       "      <td>...</td>\n",
       "      <td>...</td>\n",
       "      <td>...</td>\n",
       "      <td>...</td>\n",
       "    </tr>\n",
       "    <tr>\n",
       "      <th>7688</th>\n",
       "      <td>32392193</td>\n",
       "      <td>Private room</td>\n",
       "      <td>1</td>\n",
       "      <td>1.0</td>\n",
       "      <td>1.0</td>\n",
       "      <td>1.0</td>\n",
       "      <td>3000.0</td>\n",
       "      <td>0</td>\n",
       "      <td>94.0</td>\n",
       "      <td>100.0</td>\n",
       "      <td>90.0</td>\n",
       "      <td>100.0</td>\n",
       "      <td>100.0</td>\n",
       "      <td>100.0</td>\n",
       "      <td>88.0</td>\n",
       "      <td>barcelona</td>\n",
       "    </tr>\n",
       "    <tr>\n",
       "      <th>7689</th>\n",
       "      <td>32392774</td>\n",
       "      <td>Entire home/apt</td>\n",
       "      <td>6</td>\n",
       "      <td>2.0</td>\n",
       "      <td>3.0</td>\n",
       "      <td>4.0</td>\n",
       "      <td>2090.0</td>\n",
       "      <td>36</td>\n",
       "      <td>100.0</td>\n",
       "      <td>100.0</td>\n",
       "      <td>100.0</td>\n",
       "      <td>100.0</td>\n",
       "      <td>100.0</td>\n",
       "      <td>100.0</td>\n",
       "      <td>157.0</td>\n",
       "      <td>sevilla</td>\n",
       "    </tr>\n",
       "    <tr>\n",
       "      <th>7690</th>\n",
       "      <td>32395123</td>\n",
       "      <td>Entire home/apt</td>\n",
       "      <td>2</td>\n",
       "      <td>1.0</td>\n",
       "      <td>1.0</td>\n",
       "      <td>2.0</td>\n",
       "      <td>930.0</td>\n",
       "      <td>0</td>\n",
       "      <td>96.0</td>\n",
       "      <td>100.0</td>\n",
       "      <td>100.0</td>\n",
       "      <td>100.0</td>\n",
       "      <td>100.0</td>\n",
       "      <td>100.0</td>\n",
       "      <td>25.0</td>\n",
       "      <td>mallorca</td>\n",
       "    </tr>\n",
       "    <tr>\n",
       "      <th>7691</th>\n",
       "      <td>32407332</td>\n",
       "      <td>Private room</td>\n",
       "      <td>3</td>\n",
       "      <td>2.0</td>\n",
       "      <td>2.0</td>\n",
       "      <td>2.0</td>\n",
       "      <td>960.0</td>\n",
       "      <td>21</td>\n",
       "      <td>98.0</td>\n",
       "      <td>100.0</td>\n",
       "      <td>100.0</td>\n",
       "      <td>100.0</td>\n",
       "      <td>100.0</td>\n",
       "      <td>100.0</td>\n",
       "      <td>389.0</td>\n",
       "      <td>barcelona</td>\n",
       "    </tr>\n",
       "    <tr>\n",
       "      <th>7692</th>\n",
       "      <td>32423292</td>\n",
       "      <td>Entire home/apt</td>\n",
       "      <td>4</td>\n",
       "      <td>2.0</td>\n",
       "      <td>1.0</td>\n",
       "      <td>2.0</td>\n",
       "      <td>500.0</td>\n",
       "      <td>3</td>\n",
       "      <td>93.0</td>\n",
       "      <td>90.0</td>\n",
       "      <td>90.0</td>\n",
       "      <td>90.0</td>\n",
       "      <td>90.0</td>\n",
       "      <td>90.0</td>\n",
       "      <td>68.0</td>\n",
       "      <td>girona</td>\n",
       "    </tr>\n",
       "  </tbody>\n",
       "</table>\n",
       "<p>7693 rows × 16 columns</p>\n",
       "</div>"
      ],
      "text/plain": [
       "      apartment_id        room_type  accommodates  bathrooms  bedrooms  beds  \\\n",
       "0            11964     Private room             2        2.0       1.0   1.0   \n",
       "1            21853     Private room             1        1.0       1.0   1.0   \n",
       "2            32347  Entire home/apt             4        1.0       2.0   2.0   \n",
       "3            35379     Private room             2        2.0       1.0   1.0   \n",
       "4            35801     Private room             5        1.0       2.0   5.0   \n",
       "...            ...              ...           ...        ...       ...   ...   \n",
       "7688      32392193     Private room             1        1.0       1.0   1.0   \n",
       "7689      32392774  Entire home/apt             6        2.0       3.0   4.0   \n",
       "7690      32395123  Entire home/apt             2        1.0       1.0   2.0   \n",
       "7691      32407332     Private room             3        2.0       2.0   2.0   \n",
       "7692      32423292  Entire home/apt             4        2.0       1.0   2.0   \n",
       "\n",
       "       price  number_of_reviews  review_scores_rating  review_scores_accuracy  \\\n",
       "0      400.0                 78                  97.0                   100.0   \n",
       "1      170.0                 33                  92.0                    90.0   \n",
       "2      990.0                148                  98.0                   100.0   \n",
       "3      400.0                292                  94.0                   100.0   \n",
       "4      900.0                 36                  97.0                   100.0   \n",
       "...      ...                ...                   ...                     ...   \n",
       "7688  3000.0                  0                  94.0                   100.0   \n",
       "7689  2090.0                 36                 100.0                   100.0   \n",
       "7690   930.0                  0                  96.0                   100.0   \n",
       "7691   960.0                 21                  98.0                   100.0   \n",
       "7692   500.0                  3                  93.0                    90.0   \n",
       "\n",
       "      review_scores_cleanliness  review_scores_checkin  \\\n",
       "0                         100.0                  100.0   \n",
       "1                          90.0                  100.0   \n",
       "2                         100.0                  100.0   \n",
       "3                          90.0                  100.0   \n",
       "4                         100.0                  100.0   \n",
       "...                         ...                    ...   \n",
       "7688                       90.0                  100.0   \n",
       "7689                      100.0                  100.0   \n",
       "7690                      100.0                  100.0   \n",
       "7691                      100.0                  100.0   \n",
       "7692                       90.0                   90.0   \n",
       "\n",
       "      review_scores_communication  review_scores_location  reviews_per_month  \\\n",
       "0                           100.0                   100.0               75.0   \n",
       "1                           100.0                    80.0               52.0   \n",
       "2                           100.0                   100.0              142.0   \n",
       "3                           100.0                   100.0              306.0   \n",
       "4                           100.0                   100.0               39.0   \n",
       "...                           ...                     ...                ...   \n",
       "7688                        100.0                   100.0               88.0   \n",
       "7689                        100.0                   100.0              157.0   \n",
       "7690                        100.0                   100.0               25.0   \n",
       "7691                        100.0                   100.0              389.0   \n",
       "7692                         90.0                    90.0               68.0   \n",
       "\n",
       "           city  \n",
       "0        malaga  \n",
       "1        madrid  \n",
       "2       sevilla  \n",
       "3     barcelona  \n",
       "4        girona  \n",
       "...         ...  \n",
       "7688  barcelona  \n",
       "7689    sevilla  \n",
       "7690   mallorca  \n",
       "7691  barcelona  \n",
       "7692     girona  \n",
       "\n",
       "[7693 rows x 16 columns]"
      ]
     },
     "execution_count": 3,
     "metadata": {},
     "output_type": "execute_result"
    }
   ],
   "source": [
    "# Creación dataset:\n",
    "df_cl = df_tourist[['apartment_id','room_type','accommodates','bathrooms','bedrooms','beds','price',\n",
    "                    'number_of_reviews','review_scores_rating','review_scores_accuracy','review_scores_cleanliness',\n",
    "                    'review_scores_checkin','review_scores_communication','review_scores_location','reviews_per_month','city']]\n",
    "\n",
    "# Visualiza el dataset:\n",
    "df_cl"
   ]
  },
  {
   "cell_type": "code",
   "execution_count": 4,
   "id": "d4b16ea3",
   "metadata": {},
   "outputs": [
    {
     "name": "stdout",
     "output_type": "stream",
     "text": [
      "<class 'pandas.core.frame.DataFrame'>\n",
      "RangeIndex: 7693 entries, 0 to 7692\n",
      "Data columns (total 16 columns):\n",
      " #   Column                       Non-Null Count  Dtype  \n",
      "---  ------                       --------------  -----  \n",
      " 0   apartment_id                 7693 non-null   int64  \n",
      " 1   room_type                    7693 non-null   object \n",
      " 2   accommodates                 7693 non-null   int64  \n",
      " 3   bathrooms                    7693 non-null   float64\n",
      " 4   bedrooms                     7693 non-null   float64\n",
      " 5   beds                         7693 non-null   float64\n",
      " 6   price                        7693 non-null   float64\n",
      " 7   number_of_reviews            7693 non-null   int64  \n",
      " 8   review_scores_rating         7693 non-null   float64\n",
      " 9   review_scores_accuracy       7693 non-null   float64\n",
      " 10  review_scores_cleanliness    7693 non-null   float64\n",
      " 11  review_scores_checkin        7693 non-null   float64\n",
      " 12  review_scores_communication  7693 non-null   float64\n",
      " 13  review_scores_location       7693 non-null   float64\n",
      " 14  reviews_per_month            7693 non-null   float64\n",
      " 15  city                         7693 non-null   object \n",
      "dtypes: float64(11), int64(3), object(2)\n",
      "memory usage: 961.8+ KB\n"
     ]
    }
   ],
   "source": [
    "df_cl.info()"
   ]
  },
  {
   "cell_type": "markdown",
   "id": "43f4ad14",
   "metadata": {},
   "source": [
    "## Analasis de la Experiencia del Cliente:"
   ]
  },
  {
   "cell_type": "markdown",
   "id": "f902a074",
   "metadata": {},
   "source": [
    "Analista de experiencia del cliente:\n",
    "¿Qué aspectos (precisión de los detalles, limpieza, check-in o comunicación) presentan mayores diferencias entre los alojamientos mejor y peor valorados en la puntuación general?\n"
   ]
  },
  {
   "cell_type": "code",
   "execution_count": null,
   "id": "a13072d6",
   "metadata": {},
   "outputs": [
    {
     "data": {
      "application/vnd.plotly.v1+json": {
       "config": {
        "plotlyServerURL": "https://plot.ly"
       },
       "data": [
        {
         "marker": {
          "color": "#8BAE3F"
         },
         "name": "Alta puntuación",
         "type": "bar",
         "x": [
          "Accuracy",
          "Cleanliness",
          "Checkin",
          "Communication"
         ],
         "y": {
          "bdata": "W0DYY1GkWEAOypm3rG9YQN997qgXplhA46Ccecu6WEA=",
          "dtype": "f8"
         }
        },
        {
         "marker": {
          "color": "#2D6A4F"
         },
         "name": "Baja puntuación",
         "type": "bar",
         "x": [
          "Accuracy",
          "Cleanliness",
          "Checkin",
          "Communication"
         ],
         "y": {
          "bdata": "pSuVgwZGVEDNXfBXcQJUQBZu3yFsylVARNgU4GinVUA=",
          "dtype": "f8"
         }
        }
       ],
       "layout": {
        "barmode": "group",
        "font": {
         "size": 14
        },
        "template": {
         "data": {
          "bar": [
           {
            "error_x": {
             "color": "#2a3f5f"
            },
            "error_y": {
             "color": "#2a3f5f"
            },
            "marker": {
             "line": {
              "color": "white",
              "width": 0.5
             },
             "pattern": {
              "fillmode": "overlay",
              "size": 10,
              "solidity": 0.2
             }
            },
            "type": "bar"
           }
          ],
          "barpolar": [
           {
            "marker": {
             "line": {
              "color": "white",
              "width": 0.5
             },
             "pattern": {
              "fillmode": "overlay",
              "size": 10,
              "solidity": 0.2
             }
            },
            "type": "barpolar"
           }
          ],
          "carpet": [
           {
            "aaxis": {
             "endlinecolor": "#2a3f5f",
             "gridcolor": "#C8D4E3",
             "linecolor": "#C8D4E3",
             "minorgridcolor": "#C8D4E3",
             "startlinecolor": "#2a3f5f"
            },
            "baxis": {
             "endlinecolor": "#2a3f5f",
             "gridcolor": "#C8D4E3",
             "linecolor": "#C8D4E3",
             "minorgridcolor": "#C8D4E3",
             "startlinecolor": "#2a3f5f"
            },
            "type": "carpet"
           }
          ],
          "choropleth": [
           {
            "colorbar": {
             "outlinewidth": 0,
             "ticks": ""
            },
            "type": "choropleth"
           }
          ],
          "contour": [
           {
            "colorbar": {
             "outlinewidth": 0,
             "ticks": ""
            },
            "colorscale": [
             [
              0,
              "#0d0887"
             ],
             [
              0.1111111111111111,
              "#46039f"
             ],
             [
              0.2222222222222222,
              "#7201a8"
             ],
             [
              0.3333333333333333,
              "#9c179e"
             ],
             [
              0.4444444444444444,
              "#bd3786"
             ],
             [
              0.5555555555555556,
              "#d8576b"
             ],
             [
              0.6666666666666666,
              "#ed7953"
             ],
             [
              0.7777777777777778,
              "#fb9f3a"
             ],
             [
              0.8888888888888888,
              "#fdca26"
             ],
             [
              1,
              "#f0f921"
             ]
            ],
            "type": "contour"
           }
          ],
          "contourcarpet": [
           {
            "colorbar": {
             "outlinewidth": 0,
             "ticks": ""
            },
            "type": "contourcarpet"
           }
          ],
          "heatmap": [
           {
            "colorbar": {
             "outlinewidth": 0,
             "ticks": ""
            },
            "colorscale": [
             [
              0,
              "#0d0887"
             ],
             [
              0.1111111111111111,
              "#46039f"
             ],
             [
              0.2222222222222222,
              "#7201a8"
             ],
             [
              0.3333333333333333,
              "#9c179e"
             ],
             [
              0.4444444444444444,
              "#bd3786"
             ],
             [
              0.5555555555555556,
              "#d8576b"
             ],
             [
              0.6666666666666666,
              "#ed7953"
             ],
             [
              0.7777777777777778,
              "#fb9f3a"
             ],
             [
              0.8888888888888888,
              "#fdca26"
             ],
             [
              1,
              "#f0f921"
             ]
            ],
            "type": "heatmap"
           }
          ],
          "histogram": [
           {
            "marker": {
             "pattern": {
              "fillmode": "overlay",
              "size": 10,
              "solidity": 0.2
             }
            },
            "type": "histogram"
           }
          ],
          "histogram2d": [
           {
            "colorbar": {
             "outlinewidth": 0,
             "ticks": ""
            },
            "colorscale": [
             [
              0,
              "#0d0887"
             ],
             [
              0.1111111111111111,
              "#46039f"
             ],
             [
              0.2222222222222222,
              "#7201a8"
             ],
             [
              0.3333333333333333,
              "#9c179e"
             ],
             [
              0.4444444444444444,
              "#bd3786"
             ],
             [
              0.5555555555555556,
              "#d8576b"
             ],
             [
              0.6666666666666666,
              "#ed7953"
             ],
             [
              0.7777777777777778,
              "#fb9f3a"
             ],
             [
              0.8888888888888888,
              "#fdca26"
             ],
             [
              1,
              "#f0f921"
             ]
            ],
            "type": "histogram2d"
           }
          ],
          "histogram2dcontour": [
           {
            "colorbar": {
             "outlinewidth": 0,
             "ticks": ""
            },
            "colorscale": [
             [
              0,
              "#0d0887"
             ],
             [
              0.1111111111111111,
              "#46039f"
             ],
             [
              0.2222222222222222,
              "#7201a8"
             ],
             [
              0.3333333333333333,
              "#9c179e"
             ],
             [
              0.4444444444444444,
              "#bd3786"
             ],
             [
              0.5555555555555556,
              "#d8576b"
             ],
             [
              0.6666666666666666,
              "#ed7953"
             ],
             [
              0.7777777777777778,
              "#fb9f3a"
             ],
             [
              0.8888888888888888,
              "#fdca26"
             ],
             [
              1,
              "#f0f921"
             ]
            ],
            "type": "histogram2dcontour"
           }
          ],
          "mesh3d": [
           {
            "colorbar": {
             "outlinewidth": 0,
             "ticks": ""
            },
            "type": "mesh3d"
           }
          ],
          "parcoords": [
           {
            "line": {
             "colorbar": {
              "outlinewidth": 0,
              "ticks": ""
             }
            },
            "type": "parcoords"
           }
          ],
          "pie": [
           {
            "automargin": true,
            "type": "pie"
           }
          ],
          "scatter": [
           {
            "fillpattern": {
             "fillmode": "overlay",
             "size": 10,
             "solidity": 0.2
            },
            "type": "scatter"
           }
          ],
          "scatter3d": [
           {
            "line": {
             "colorbar": {
              "outlinewidth": 0,
              "ticks": ""
             }
            },
            "marker": {
             "colorbar": {
              "outlinewidth": 0,
              "ticks": ""
             }
            },
            "type": "scatter3d"
           }
          ],
          "scattercarpet": [
           {
            "marker": {
             "colorbar": {
              "outlinewidth": 0,
              "ticks": ""
             }
            },
            "type": "scattercarpet"
           }
          ],
          "scattergeo": [
           {
            "marker": {
             "colorbar": {
              "outlinewidth": 0,
              "ticks": ""
             }
            },
            "type": "scattergeo"
           }
          ],
          "scattergl": [
           {
            "marker": {
             "colorbar": {
              "outlinewidth": 0,
              "ticks": ""
             }
            },
            "type": "scattergl"
           }
          ],
          "scattermap": [
           {
            "marker": {
             "colorbar": {
              "outlinewidth": 0,
              "ticks": ""
             }
            },
            "type": "scattermap"
           }
          ],
          "scattermapbox": [
           {
            "marker": {
             "colorbar": {
              "outlinewidth": 0,
              "ticks": ""
             }
            },
            "type": "scattermapbox"
           }
          ],
          "scatterpolar": [
           {
            "marker": {
             "colorbar": {
              "outlinewidth": 0,
              "ticks": ""
             }
            },
            "type": "scatterpolar"
           }
          ],
          "scatterpolargl": [
           {
            "marker": {
             "colorbar": {
              "outlinewidth": 0,
              "ticks": ""
             }
            },
            "type": "scatterpolargl"
           }
          ],
          "scatterternary": [
           {
            "marker": {
             "colorbar": {
              "outlinewidth": 0,
              "ticks": ""
             }
            },
            "type": "scatterternary"
           }
          ],
          "surface": [
           {
            "colorbar": {
             "outlinewidth": 0,
             "ticks": ""
            },
            "colorscale": [
             [
              0,
              "#0d0887"
             ],
             [
              0.1111111111111111,
              "#46039f"
             ],
             [
              0.2222222222222222,
              "#7201a8"
             ],
             [
              0.3333333333333333,
              "#9c179e"
             ],
             [
              0.4444444444444444,
              "#bd3786"
             ],
             [
              0.5555555555555556,
              "#d8576b"
             ],
             [
              0.6666666666666666,
              "#ed7953"
             ],
             [
              0.7777777777777778,
              "#fb9f3a"
             ],
             [
              0.8888888888888888,
              "#fdca26"
             ],
             [
              1,
              "#f0f921"
             ]
            ],
            "type": "surface"
           }
          ],
          "table": [
           {
            "cells": {
             "fill": {
              "color": "#EBF0F8"
             },
             "line": {
              "color": "white"
             }
            },
            "header": {
             "fill": {
              "color": "#C8D4E3"
             },
             "line": {
              "color": "white"
             }
            },
            "type": "table"
           }
          ]
         },
         "layout": {
          "annotationdefaults": {
           "arrowcolor": "#2a3f5f",
           "arrowhead": 0,
           "arrowwidth": 1
          },
          "autotypenumbers": "strict",
          "coloraxis": {
           "colorbar": {
            "outlinewidth": 0,
            "ticks": ""
           }
          },
          "colorscale": {
           "diverging": [
            [
             0,
             "#8e0152"
            ],
            [
             0.1,
             "#c51b7d"
            ],
            [
             0.2,
             "#de77ae"
            ],
            [
             0.3,
             "#f1b6da"
            ],
            [
             0.4,
             "#fde0ef"
            ],
            [
             0.5,
             "#f7f7f7"
            ],
            [
             0.6,
             "#e6f5d0"
            ],
            [
             0.7,
             "#b8e186"
            ],
            [
             0.8,
             "#7fbc41"
            ],
            [
             0.9,
             "#4d9221"
            ],
            [
             1,
             "#276419"
            ]
           ],
           "sequential": [
            [
             0,
             "#0d0887"
            ],
            [
             0.1111111111111111,
             "#46039f"
            ],
            [
             0.2222222222222222,
             "#7201a8"
            ],
            [
             0.3333333333333333,
             "#9c179e"
            ],
            [
             0.4444444444444444,
             "#bd3786"
            ],
            [
             0.5555555555555556,
             "#d8576b"
            ],
            [
             0.6666666666666666,
             "#ed7953"
            ],
            [
             0.7777777777777778,
             "#fb9f3a"
            ],
            [
             0.8888888888888888,
             "#fdca26"
            ],
            [
             1,
             "#f0f921"
            ]
           ],
           "sequentialminus": [
            [
             0,
             "#0d0887"
            ],
            [
             0.1111111111111111,
             "#46039f"
            ],
            [
             0.2222222222222222,
             "#7201a8"
            ],
            [
             0.3333333333333333,
             "#9c179e"
            ],
            [
             0.4444444444444444,
             "#bd3786"
            ],
            [
             0.5555555555555556,
             "#d8576b"
            ],
            [
             0.6666666666666666,
             "#ed7953"
            ],
            [
             0.7777777777777778,
             "#fb9f3a"
            ],
            [
             0.8888888888888888,
             "#fdca26"
            ],
            [
             1,
             "#f0f921"
            ]
           ]
          },
          "colorway": [
           "#636efa",
           "#EF553B",
           "#00cc96",
           "#ab63fa",
           "#FFA15A",
           "#19d3f3",
           "#FF6692",
           "#B6E880",
           "#FF97FF",
           "#FECB52"
          ],
          "font": {
           "color": "#2a3f5f"
          },
          "geo": {
           "bgcolor": "white",
           "lakecolor": "white",
           "landcolor": "white",
           "showlakes": true,
           "showland": true,
           "subunitcolor": "#C8D4E3"
          },
          "hoverlabel": {
           "align": "left"
          },
          "hovermode": "closest",
          "mapbox": {
           "style": "light"
          },
          "paper_bgcolor": "white",
          "plot_bgcolor": "white",
          "polar": {
           "angularaxis": {
            "gridcolor": "#EBF0F8",
            "linecolor": "#EBF0F8",
            "ticks": ""
           },
           "bgcolor": "white",
           "radialaxis": {
            "gridcolor": "#EBF0F8",
            "linecolor": "#EBF0F8",
            "ticks": ""
           }
          },
          "scene": {
           "xaxis": {
            "backgroundcolor": "white",
            "gridcolor": "#DFE8F3",
            "gridwidth": 2,
            "linecolor": "#EBF0F8",
            "showbackground": true,
            "ticks": "",
            "zerolinecolor": "#EBF0F8"
           },
           "yaxis": {
            "backgroundcolor": "white",
            "gridcolor": "#DFE8F3",
            "gridwidth": 2,
            "linecolor": "#EBF0F8",
            "showbackground": true,
            "ticks": "",
            "zerolinecolor": "#EBF0F8"
           },
           "zaxis": {
            "backgroundcolor": "white",
            "gridcolor": "#DFE8F3",
            "gridwidth": 2,
            "linecolor": "#EBF0F8",
            "showbackground": true,
            "ticks": "",
            "zerolinecolor": "#EBF0F8"
           }
          },
          "shapedefaults": {
           "line": {
            "color": "#2a3f5f"
           }
          },
          "ternary": {
           "aaxis": {
            "gridcolor": "#DFE8F3",
            "linecolor": "#A2B1C6",
            "ticks": ""
           },
           "baxis": {
            "gridcolor": "#DFE8F3",
            "linecolor": "#A2B1C6",
            "ticks": ""
           },
           "bgcolor": "white",
           "caxis": {
            "gridcolor": "#DFE8F3",
            "linecolor": "#A2B1C6",
            "ticks": ""
           }
          },
          "title": {
           "x": 0.05
          },
          "xaxis": {
           "automargin": true,
           "gridcolor": "#EBF0F8",
           "linecolor": "#EBF0F8",
           "ticks": "",
           "title": {
            "standoff": 15
           },
           "zerolinecolor": "#EBF0F8",
           "zerolinewidth": 2
          },
          "yaxis": {
           "automargin": true,
           "gridcolor": "#EBF0F8",
           "linecolor": "#EBF0F8",
           "ticks": "",
           "title": {
            "standoff": 15
           },
           "zerolinecolor": "#EBF0F8",
           "zerolinewidth": 2
          }
         }
        },
        "title": {
         "text": "Comparación de aspectos entre alojamientos mejor y peor valorados"
        },
        "xaxis": {
         "title": {
          "text": "Aspecto de la experiencia del cliente"
         }
        },
        "yaxis": {
         "title": {
          "text": "Puntuación promedio"
         }
        }
       }
      }
     },
     "metadata": {},
     "output_type": "display_data"
    }
   ],
   "source": [
    "\n",
    "# Entre el 10 % de alojamientos con mejor y peor valoración general\n",
    "\n",
    "import plotly.graph_objects as go\n",
    "\n",
    "# Eliminar valores faltantes en las columnas relevantes\n",
    "cols = [\n",
    "    'review_scores_rating',\n",
    "    'review_scores_accuracy',\n",
    "    'review_scores_cleanliness',\n",
    "    'review_scores_checkin',\n",
    "    'review_scores_communication'\n",
    "]\n",
    "df = df_cl[cols].dropna()\n",
    "\n",
    "# Definir percentiles para dividir los grupos\n",
    "q90 = df['review_scores_rating'].quantile(0.90)\n",
    "q10 = df['review_scores_rating'].quantile(0.10)\n",
    "\n",
    "# Agrupar datos\n",
    "high = df[df['review_scores_rating'] >= q90]\n",
    "low = df[df['review_scores_rating'] <= q10]\n",
    "\n",
    "# Calcular promedios\n",
    "mean_high = high.iloc[:, 1:].mean()\n",
    "mean_low = low.iloc[:, 1:].mean()\n",
    "\n",
    "# Crear etiquetas más legibles para el eje X\n",
    "aspects = mean_high.index.str.replace('review_scores_', '').str.capitalize()\n",
    "\n",
    "# Crear gráfico de barras doble\n",
    "fig = go.Figure(data=[\n",
    "    go.Bar(\n",
    "        name='Alta puntuación',\n",
    "        x=aspects,\n",
    "        y=mean_high.values,\n",
    "        marker_color='#8BAE3F'  # Verde lima\n",
    "    ),\n",
    "    go.Bar(\n",
    "        name='Baja puntuación',\n",
    "        x=aspects,\n",
    "        y=mean_low.values,\n",
    "        marker_color='#2D6A4F'  # Verde bosque oscuro\n",
    "    )\n",
    "])\n",
    "\n",
    "# Configuración del diseño del gráfico\n",
    "fig.update_layout(\n",
    "    title='Comparación de aspectos entre alojamientos mejor y peor valorados',\n",
    "    xaxis_title='Aspecto de la experiencia del cliente',\n",
    "    yaxis_title='Puntuación promedio',\n",
    "    barmode='group',\n",
    "    template='plotly_white',\n",
    "    font=dict(size=14)\n",
    ")\n",
    "\n",
    "fig.show()\n"
   ]
  },
  {
   "cell_type": "markdown",
   "id": "a58a5520",
   "metadata": {},
   "source": [
    "Mostrar en qué aspectos de la experiencia del cliente los alojamientos con una puntuación superior a 80 funcionan mejor que aquellos con puntuaciones más bajas, y cuánto es la diferencia en cada aspecto.\n"
   ]
  },
  {
   "cell_type": "code",
   "execution_count": null,
   "id": "d28f308c",
   "metadata": {},
   "outputs": [
    {
     "data": {
      "application/vnd.plotly.v1+json": {
       "config": {
        "plotlyServerURL": "https://plot.ly"
       },
       "data": [
        {
         "marker": {
          "color": [
           "#8BAE3F",
           "#8BAE3F",
           "#8BAE3F",
           "#8BAE3F"
          ]
         },
         "text": [
          "22.62",
          "22.11",
          "16.37",
          "17.29"
         ],
         "textposition": "outside",
         "type": "bar",
         "x": [
          "Precisión",
          "Limpieza",
          "Check-in",
          "Comunicación"
         ],
         "y": {
          "bdata": "sBmmzuueNkA4LaNbUR02QDjZRAqqXTBAFJfECfhIMUA=",
          "dtype": "f8"
         }
        }
       ],
       "layout": {
        "template": {
         "data": {
          "bar": [
           {
            "error_x": {
             "color": "#2a3f5f"
            },
            "error_y": {
             "color": "#2a3f5f"
            },
            "marker": {
             "line": {
              "color": "white",
              "width": 0.5
             },
             "pattern": {
              "fillmode": "overlay",
              "size": 10,
              "solidity": 0.2
             }
            },
            "type": "bar"
           }
          ],
          "barpolar": [
           {
            "marker": {
             "line": {
              "color": "white",
              "width": 0.5
             },
             "pattern": {
              "fillmode": "overlay",
              "size": 10,
              "solidity": 0.2
             }
            },
            "type": "barpolar"
           }
          ],
          "carpet": [
           {
            "aaxis": {
             "endlinecolor": "#2a3f5f",
             "gridcolor": "#C8D4E3",
             "linecolor": "#C8D4E3",
             "minorgridcolor": "#C8D4E3",
             "startlinecolor": "#2a3f5f"
            },
            "baxis": {
             "endlinecolor": "#2a3f5f",
             "gridcolor": "#C8D4E3",
             "linecolor": "#C8D4E3",
             "minorgridcolor": "#C8D4E3",
             "startlinecolor": "#2a3f5f"
            },
            "type": "carpet"
           }
          ],
          "choropleth": [
           {
            "colorbar": {
             "outlinewidth": 0,
             "ticks": ""
            },
            "type": "choropleth"
           }
          ],
          "contour": [
           {
            "colorbar": {
             "outlinewidth": 0,
             "ticks": ""
            },
            "colorscale": [
             [
              0,
              "#0d0887"
             ],
             [
              0.1111111111111111,
              "#46039f"
             ],
             [
              0.2222222222222222,
              "#7201a8"
             ],
             [
              0.3333333333333333,
              "#9c179e"
             ],
             [
              0.4444444444444444,
              "#bd3786"
             ],
             [
              0.5555555555555556,
              "#d8576b"
             ],
             [
              0.6666666666666666,
              "#ed7953"
             ],
             [
              0.7777777777777778,
              "#fb9f3a"
             ],
             [
              0.8888888888888888,
              "#fdca26"
             ],
             [
              1,
              "#f0f921"
             ]
            ],
            "type": "contour"
           }
          ],
          "contourcarpet": [
           {
            "colorbar": {
             "outlinewidth": 0,
             "ticks": ""
            },
            "type": "contourcarpet"
           }
          ],
          "heatmap": [
           {
            "colorbar": {
             "outlinewidth": 0,
             "ticks": ""
            },
            "colorscale": [
             [
              0,
              "#0d0887"
             ],
             [
              0.1111111111111111,
              "#46039f"
             ],
             [
              0.2222222222222222,
              "#7201a8"
             ],
             [
              0.3333333333333333,
              "#9c179e"
             ],
             [
              0.4444444444444444,
              "#bd3786"
             ],
             [
              0.5555555555555556,
              "#d8576b"
             ],
             [
              0.6666666666666666,
              "#ed7953"
             ],
             [
              0.7777777777777778,
              "#fb9f3a"
             ],
             [
              0.8888888888888888,
              "#fdca26"
             ],
             [
              1,
              "#f0f921"
             ]
            ],
            "type": "heatmap"
           }
          ],
          "histogram": [
           {
            "marker": {
             "pattern": {
              "fillmode": "overlay",
              "size": 10,
              "solidity": 0.2
             }
            },
            "type": "histogram"
           }
          ],
          "histogram2d": [
           {
            "colorbar": {
             "outlinewidth": 0,
             "ticks": ""
            },
            "colorscale": [
             [
              0,
              "#0d0887"
             ],
             [
              0.1111111111111111,
              "#46039f"
             ],
             [
              0.2222222222222222,
              "#7201a8"
             ],
             [
              0.3333333333333333,
              "#9c179e"
             ],
             [
              0.4444444444444444,
              "#bd3786"
             ],
             [
              0.5555555555555556,
              "#d8576b"
             ],
             [
              0.6666666666666666,
              "#ed7953"
             ],
             [
              0.7777777777777778,
              "#fb9f3a"
             ],
             [
              0.8888888888888888,
              "#fdca26"
             ],
             [
              1,
              "#f0f921"
             ]
            ],
            "type": "histogram2d"
           }
          ],
          "histogram2dcontour": [
           {
            "colorbar": {
             "outlinewidth": 0,
             "ticks": ""
            },
            "colorscale": [
             [
              0,
              "#0d0887"
             ],
             [
              0.1111111111111111,
              "#46039f"
             ],
             [
              0.2222222222222222,
              "#7201a8"
             ],
             [
              0.3333333333333333,
              "#9c179e"
             ],
             [
              0.4444444444444444,
              "#bd3786"
             ],
             [
              0.5555555555555556,
              "#d8576b"
             ],
             [
              0.6666666666666666,
              "#ed7953"
             ],
             [
              0.7777777777777778,
              "#fb9f3a"
             ],
             [
              0.8888888888888888,
              "#fdca26"
             ],
             [
              1,
              "#f0f921"
             ]
            ],
            "type": "histogram2dcontour"
           }
          ],
          "mesh3d": [
           {
            "colorbar": {
             "outlinewidth": 0,
             "ticks": ""
            },
            "type": "mesh3d"
           }
          ],
          "parcoords": [
           {
            "line": {
             "colorbar": {
              "outlinewidth": 0,
              "ticks": ""
             }
            },
            "type": "parcoords"
           }
          ],
          "pie": [
           {
            "automargin": true,
            "type": "pie"
           }
          ],
          "scatter": [
           {
            "fillpattern": {
             "fillmode": "overlay",
             "size": 10,
             "solidity": 0.2
            },
            "type": "scatter"
           }
          ],
          "scatter3d": [
           {
            "line": {
             "colorbar": {
              "outlinewidth": 0,
              "ticks": ""
             }
            },
            "marker": {
             "colorbar": {
              "outlinewidth": 0,
              "ticks": ""
             }
            },
            "type": "scatter3d"
           }
          ],
          "scattercarpet": [
           {
            "marker": {
             "colorbar": {
              "outlinewidth": 0,
              "ticks": ""
             }
            },
            "type": "scattercarpet"
           }
          ],
          "scattergeo": [
           {
            "marker": {
             "colorbar": {
              "outlinewidth": 0,
              "ticks": ""
             }
            },
            "type": "scattergeo"
           }
          ],
          "scattergl": [
           {
            "marker": {
             "colorbar": {
              "outlinewidth": 0,
              "ticks": ""
             }
            },
            "type": "scattergl"
           }
          ],
          "scattermap": [
           {
            "marker": {
             "colorbar": {
              "outlinewidth": 0,
              "ticks": ""
             }
            },
            "type": "scattermap"
           }
          ],
          "scattermapbox": [
           {
            "marker": {
             "colorbar": {
              "outlinewidth": 0,
              "ticks": ""
             }
            },
            "type": "scattermapbox"
           }
          ],
          "scatterpolar": [
           {
            "marker": {
             "colorbar": {
              "outlinewidth": 0,
              "ticks": ""
             }
            },
            "type": "scatterpolar"
           }
          ],
          "scatterpolargl": [
           {
            "marker": {
             "colorbar": {
              "outlinewidth": 0,
              "ticks": ""
             }
            },
            "type": "scatterpolargl"
           }
          ],
          "scatterternary": [
           {
            "marker": {
             "colorbar": {
              "outlinewidth": 0,
              "ticks": ""
             }
            },
            "type": "scatterternary"
           }
          ],
          "surface": [
           {
            "colorbar": {
             "outlinewidth": 0,
             "ticks": ""
            },
            "colorscale": [
             [
              0,
              "#0d0887"
             ],
             [
              0.1111111111111111,
              "#46039f"
             ],
             [
              0.2222222222222222,
              "#7201a8"
             ],
             [
              0.3333333333333333,
              "#9c179e"
             ],
             [
              0.4444444444444444,
              "#bd3786"
             ],
             [
              0.5555555555555556,
              "#d8576b"
             ],
             [
              0.6666666666666666,
              "#ed7953"
             ],
             [
              0.7777777777777778,
              "#fb9f3a"
             ],
             [
              0.8888888888888888,
              "#fdca26"
             ],
             [
              1,
              "#f0f921"
             ]
            ],
            "type": "surface"
           }
          ],
          "table": [
           {
            "cells": {
             "fill": {
              "color": "#EBF0F8"
             },
             "line": {
              "color": "white"
             }
            },
            "header": {
             "fill": {
              "color": "#C8D4E3"
             },
             "line": {
              "color": "white"
             }
            },
            "type": "table"
           }
          ]
         },
         "layout": {
          "annotationdefaults": {
           "arrowcolor": "#2a3f5f",
           "arrowhead": 0,
           "arrowwidth": 1
          },
          "autotypenumbers": "strict",
          "coloraxis": {
           "colorbar": {
            "outlinewidth": 0,
            "ticks": ""
           }
          },
          "colorscale": {
           "diverging": [
            [
             0,
             "#8e0152"
            ],
            [
             0.1,
             "#c51b7d"
            ],
            [
             0.2,
             "#de77ae"
            ],
            [
             0.3,
             "#f1b6da"
            ],
            [
             0.4,
             "#fde0ef"
            ],
            [
             0.5,
             "#f7f7f7"
            ],
            [
             0.6,
             "#e6f5d0"
            ],
            [
             0.7,
             "#b8e186"
            ],
            [
             0.8,
             "#7fbc41"
            ],
            [
             0.9,
             "#4d9221"
            ],
            [
             1,
             "#276419"
            ]
           ],
           "sequential": [
            [
             0,
             "#0d0887"
            ],
            [
             0.1111111111111111,
             "#46039f"
            ],
            [
             0.2222222222222222,
             "#7201a8"
            ],
            [
             0.3333333333333333,
             "#9c179e"
            ],
            [
             0.4444444444444444,
             "#bd3786"
            ],
            [
             0.5555555555555556,
             "#d8576b"
            ],
            [
             0.6666666666666666,
             "#ed7953"
            ],
            [
             0.7777777777777778,
             "#fb9f3a"
            ],
            [
             0.8888888888888888,
             "#fdca26"
            ],
            [
             1,
             "#f0f921"
            ]
           ],
           "sequentialminus": [
            [
             0,
             "#0d0887"
            ],
            [
             0.1111111111111111,
             "#46039f"
            ],
            [
             0.2222222222222222,
             "#7201a8"
            ],
            [
             0.3333333333333333,
             "#9c179e"
            ],
            [
             0.4444444444444444,
             "#bd3786"
            ],
            [
             0.5555555555555556,
             "#d8576b"
            ],
            [
             0.6666666666666666,
             "#ed7953"
            ],
            [
             0.7777777777777778,
             "#fb9f3a"
            ],
            [
             0.8888888888888888,
             "#fdca26"
            ],
            [
             1,
             "#f0f921"
            ]
           ]
          },
          "colorway": [
           "#636efa",
           "#EF553B",
           "#00cc96",
           "#ab63fa",
           "#FFA15A",
           "#19d3f3",
           "#FF6692",
           "#B6E880",
           "#FF97FF",
           "#FECB52"
          ],
          "font": {
           "color": "#2a3f5f"
          },
          "geo": {
           "bgcolor": "white",
           "lakecolor": "white",
           "landcolor": "white",
           "showlakes": true,
           "showland": true,
           "subunitcolor": "#C8D4E3"
          },
          "hoverlabel": {
           "align": "left"
          },
          "hovermode": "closest",
          "mapbox": {
           "style": "light"
          },
          "paper_bgcolor": "white",
          "plot_bgcolor": "white",
          "polar": {
           "angularaxis": {
            "gridcolor": "#EBF0F8",
            "linecolor": "#EBF0F8",
            "ticks": ""
           },
           "bgcolor": "white",
           "radialaxis": {
            "gridcolor": "#EBF0F8",
            "linecolor": "#EBF0F8",
            "ticks": ""
           }
          },
          "scene": {
           "xaxis": {
            "backgroundcolor": "white",
            "gridcolor": "#DFE8F3",
            "gridwidth": 2,
            "linecolor": "#EBF0F8",
            "showbackground": true,
            "ticks": "",
            "zerolinecolor": "#EBF0F8"
           },
           "yaxis": {
            "backgroundcolor": "white",
            "gridcolor": "#DFE8F3",
            "gridwidth": 2,
            "linecolor": "#EBF0F8",
            "showbackground": true,
            "ticks": "",
            "zerolinecolor": "#EBF0F8"
           },
           "zaxis": {
            "backgroundcolor": "white",
            "gridcolor": "#DFE8F3",
            "gridwidth": 2,
            "linecolor": "#EBF0F8",
            "showbackground": true,
            "ticks": "",
            "zerolinecolor": "#EBF0F8"
           }
          },
          "shapedefaults": {
           "line": {
            "color": "#2a3f5f"
           }
          },
          "ternary": {
           "aaxis": {
            "gridcolor": "#DFE8F3",
            "linecolor": "#A2B1C6",
            "ticks": ""
           },
           "baxis": {
            "gridcolor": "#DFE8F3",
            "linecolor": "#A2B1C6",
            "ticks": ""
           },
           "bgcolor": "white",
           "caxis": {
            "gridcolor": "#DFE8F3",
            "linecolor": "#A2B1C6",
            "ticks": ""
           }
          },
          "title": {
           "x": 0.05
          },
          "xaxis": {
           "automargin": true,
           "gridcolor": "#EBF0F8",
           "linecolor": "#EBF0F8",
           "ticks": "",
           "title": {
            "standoff": 15
           },
           "zerolinecolor": "#EBF0F8",
           "zerolinewidth": 2
          },
          "yaxis": {
           "automargin": true,
           "gridcolor": "#EBF0F8",
           "linecolor": "#EBF0F8",
           "ticks": "",
           "title": {
            "standoff": 15
           },
           "zerolinecolor": "#EBF0F8",
           "zerolinewidth": 2
          }
         }
        },
        "title": {
         "text": "Diferencia promedio de puntuaciones entre grupos"
        },
        "xaxis": {
         "title": {
          "text": "Aspectos"
         }
        },
        "yaxis": {
         "title": {
          "text": "Diferencia (bien - mal)"
         },
         "zeroline": true,
         "zerolinecolor": "black"
        }
       }
      }
     },
     "metadata": {},
     "output_type": "display_data"
    }
   ],
   "source": [
    "\n",
    "import plotly.graph_objects as go\n",
    "\n",
    "# Definir umbral\n",
    "umbral = 80\n",
    "\n",
    "# Limpiar datos con valores nulos en columnas clave\n",
    "df_limpio = df.dropna(subset=['review_scores_rating', 'review_scores_accuracy', 'review_scores_cleanliness', 'review_scores_checkin', 'review_scores_communication'])\n",
    "\n",
    "# Separar en dos grupos según la puntuación general\n",
    "bien = df_limpio[df_limpio['review_scores_rating'] >= umbral]\n",
    "mal = df_limpio[df_limpio['review_scores_rating'] < umbral]\n",
    "\n",
    "# Columnas a comparar\n",
    "cols = ['review_scores_accuracy', 'review_scores_cleanliness', 'review_scores_checkin', 'review_scores_communication']\n",
    "\n",
    "# Promedio de cada grupo\n",
    "prom_bien = bien[cols].mean()\n",
    "prom_mal = mal[cols].mean()\n",
    "\n",
    "# Diferencia de promedios\n",
    "diff = prom_bien - prom_mal\n",
    "\n",
    "# Colores para barras (verde claro si positivo, verde oscuro si negativo)\n",
    "colores = ['#8BAE3F' if v > 0 else '#2D6A4F' for v in diff]\n",
    "\n",
    "# Crear gráfico\n",
    "fig = go.Figure(go.Bar(\n",
    "    x=['Precisión', 'Limpieza', 'Check-in', 'Comunicación'],\n",
    "    y=diff.values,\n",
    "    marker_color=colores,\n",
    "    text=[f'{v:.2f}' for v in diff.values],\n",
    "    textposition='outside'\n",
    "))\n",
    "\n",
    "fig.update_layout(\n",
    "    title='Diferencia promedio de puntuaciones entre grupos',\n",
    "    yaxis_title='Diferencia (bien - mal)',\n",
    "    xaxis_title='Aspectos',\n",
    "    yaxis=dict(zeroline=True, zerolinecolor='black'),\n",
    "    template='plotly_white'\n",
    ")\n",
    "\n",
    "fig.show()"
   ]
  },
  {
   "cell_type": "markdown",
   "id": "b7bbea27",
   "metadata": {},
   "source": [
    "#Análisis comparativo de diferencias en aspectos clave de la experiencia del cliente entre alojamientos mejor y peor valorados según percentiles 90 y 10\n"
   ]
  },
  {
   "cell_type": "code",
   "execution_count": null,
   "id": "3f5f5395",
   "metadata": {},
   "outputs": [
    {
     "data": {
      "application/vnd.plotly.v1+json": {
       "config": {
        "plotlyServerURL": "https://plot.ly"
       },
       "data": [
        {
         "marker": {
          "color": "#8BAE3F"
         },
         "orientation": "h",
         "type": "bar",
         "x": {
          "bdata": "SH54OFzdJkD4RD7MFJsoQNhSDIEreTFABLGlfu20MUA=",
          "dtype": "f8"
         },
         "y": [
          "review_scores_checkin",
          "review_scores_communication",
          "review_scores_accuracy",
          "review_scores_cleanliness"
         ]
        }
       ],
       "layout": {
        "font": {
         "size": 14
        },
        "height": 400,
        "plot_bgcolor": "white",
        "template": {
         "data": {
          "bar": [
           {
            "error_x": {
             "color": "#2a3f5f"
            },
            "error_y": {
             "color": "#2a3f5f"
            },
            "marker": {
             "line": {
              "color": "#E5ECF6",
              "width": 0.5
             },
             "pattern": {
              "fillmode": "overlay",
              "size": 10,
              "solidity": 0.2
             }
            },
            "type": "bar"
           }
          ],
          "barpolar": [
           {
            "marker": {
             "line": {
              "color": "#E5ECF6",
              "width": 0.5
             },
             "pattern": {
              "fillmode": "overlay",
              "size": 10,
              "solidity": 0.2
             }
            },
            "type": "barpolar"
           }
          ],
          "carpet": [
           {
            "aaxis": {
             "endlinecolor": "#2a3f5f",
             "gridcolor": "white",
             "linecolor": "white",
             "minorgridcolor": "white",
             "startlinecolor": "#2a3f5f"
            },
            "baxis": {
             "endlinecolor": "#2a3f5f",
             "gridcolor": "white",
             "linecolor": "white",
             "minorgridcolor": "white",
             "startlinecolor": "#2a3f5f"
            },
            "type": "carpet"
           }
          ],
          "choropleth": [
           {
            "colorbar": {
             "outlinewidth": 0,
             "ticks": ""
            },
            "type": "choropleth"
           }
          ],
          "contour": [
           {
            "colorbar": {
             "outlinewidth": 0,
             "ticks": ""
            },
            "colorscale": [
             [
              0,
              "#0d0887"
             ],
             [
              0.1111111111111111,
              "#46039f"
             ],
             [
              0.2222222222222222,
              "#7201a8"
             ],
             [
              0.3333333333333333,
              "#9c179e"
             ],
             [
              0.4444444444444444,
              "#bd3786"
             ],
             [
              0.5555555555555556,
              "#d8576b"
             ],
             [
              0.6666666666666666,
              "#ed7953"
             ],
             [
              0.7777777777777778,
              "#fb9f3a"
             ],
             [
              0.8888888888888888,
              "#fdca26"
             ],
             [
              1,
              "#f0f921"
             ]
            ],
            "type": "contour"
           }
          ],
          "contourcarpet": [
           {
            "colorbar": {
             "outlinewidth": 0,
             "ticks": ""
            },
            "type": "contourcarpet"
           }
          ],
          "heatmap": [
           {
            "colorbar": {
             "outlinewidth": 0,
             "ticks": ""
            },
            "colorscale": [
             [
              0,
              "#0d0887"
             ],
             [
              0.1111111111111111,
              "#46039f"
             ],
             [
              0.2222222222222222,
              "#7201a8"
             ],
             [
              0.3333333333333333,
              "#9c179e"
             ],
             [
              0.4444444444444444,
              "#bd3786"
             ],
             [
              0.5555555555555556,
              "#d8576b"
             ],
             [
              0.6666666666666666,
              "#ed7953"
             ],
             [
              0.7777777777777778,
              "#fb9f3a"
             ],
             [
              0.8888888888888888,
              "#fdca26"
             ],
             [
              1,
              "#f0f921"
             ]
            ],
            "type": "heatmap"
           }
          ],
          "histogram": [
           {
            "marker": {
             "pattern": {
              "fillmode": "overlay",
              "size": 10,
              "solidity": 0.2
             }
            },
            "type": "histogram"
           }
          ],
          "histogram2d": [
           {
            "colorbar": {
             "outlinewidth": 0,
             "ticks": ""
            },
            "colorscale": [
             [
              0,
              "#0d0887"
             ],
             [
              0.1111111111111111,
              "#46039f"
             ],
             [
              0.2222222222222222,
              "#7201a8"
             ],
             [
              0.3333333333333333,
              "#9c179e"
             ],
             [
              0.4444444444444444,
              "#bd3786"
             ],
             [
              0.5555555555555556,
              "#d8576b"
             ],
             [
              0.6666666666666666,
              "#ed7953"
             ],
             [
              0.7777777777777778,
              "#fb9f3a"
             ],
             [
              0.8888888888888888,
              "#fdca26"
             ],
             [
              1,
              "#f0f921"
             ]
            ],
            "type": "histogram2d"
           }
          ],
          "histogram2dcontour": [
           {
            "colorbar": {
             "outlinewidth": 0,
             "ticks": ""
            },
            "colorscale": [
             [
              0,
              "#0d0887"
             ],
             [
              0.1111111111111111,
              "#46039f"
             ],
             [
              0.2222222222222222,
              "#7201a8"
             ],
             [
              0.3333333333333333,
              "#9c179e"
             ],
             [
              0.4444444444444444,
              "#bd3786"
             ],
             [
              0.5555555555555556,
              "#d8576b"
             ],
             [
              0.6666666666666666,
              "#ed7953"
             ],
             [
              0.7777777777777778,
              "#fb9f3a"
             ],
             [
              0.8888888888888888,
              "#fdca26"
             ],
             [
              1,
              "#f0f921"
             ]
            ],
            "type": "histogram2dcontour"
           }
          ],
          "mesh3d": [
           {
            "colorbar": {
             "outlinewidth": 0,
             "ticks": ""
            },
            "type": "mesh3d"
           }
          ],
          "parcoords": [
           {
            "line": {
             "colorbar": {
              "outlinewidth": 0,
              "ticks": ""
             }
            },
            "type": "parcoords"
           }
          ],
          "pie": [
           {
            "automargin": true,
            "type": "pie"
           }
          ],
          "scatter": [
           {
            "fillpattern": {
             "fillmode": "overlay",
             "size": 10,
             "solidity": 0.2
            },
            "type": "scatter"
           }
          ],
          "scatter3d": [
           {
            "line": {
             "colorbar": {
              "outlinewidth": 0,
              "ticks": ""
             }
            },
            "marker": {
             "colorbar": {
              "outlinewidth": 0,
              "ticks": ""
             }
            },
            "type": "scatter3d"
           }
          ],
          "scattercarpet": [
           {
            "marker": {
             "colorbar": {
              "outlinewidth": 0,
              "ticks": ""
             }
            },
            "type": "scattercarpet"
           }
          ],
          "scattergeo": [
           {
            "marker": {
             "colorbar": {
              "outlinewidth": 0,
              "ticks": ""
             }
            },
            "type": "scattergeo"
           }
          ],
          "scattergl": [
           {
            "marker": {
             "colorbar": {
              "outlinewidth": 0,
              "ticks": ""
             }
            },
            "type": "scattergl"
           }
          ],
          "scattermap": [
           {
            "marker": {
             "colorbar": {
              "outlinewidth": 0,
              "ticks": ""
             }
            },
            "type": "scattermap"
           }
          ],
          "scattermapbox": [
           {
            "marker": {
             "colorbar": {
              "outlinewidth": 0,
              "ticks": ""
             }
            },
            "type": "scattermapbox"
           }
          ],
          "scatterpolar": [
           {
            "marker": {
             "colorbar": {
              "outlinewidth": 0,
              "ticks": ""
             }
            },
            "type": "scatterpolar"
           }
          ],
          "scatterpolargl": [
           {
            "marker": {
             "colorbar": {
              "outlinewidth": 0,
              "ticks": ""
             }
            },
            "type": "scatterpolargl"
           }
          ],
          "scatterternary": [
           {
            "marker": {
             "colorbar": {
              "outlinewidth": 0,
              "ticks": ""
             }
            },
            "type": "scatterternary"
           }
          ],
          "surface": [
           {
            "colorbar": {
             "outlinewidth": 0,
             "ticks": ""
            },
            "colorscale": [
             [
              0,
              "#0d0887"
             ],
             [
              0.1111111111111111,
              "#46039f"
             ],
             [
              0.2222222222222222,
              "#7201a8"
             ],
             [
              0.3333333333333333,
              "#9c179e"
             ],
             [
              0.4444444444444444,
              "#bd3786"
             ],
             [
              0.5555555555555556,
              "#d8576b"
             ],
             [
              0.6666666666666666,
              "#ed7953"
             ],
             [
              0.7777777777777778,
              "#fb9f3a"
             ],
             [
              0.8888888888888888,
              "#fdca26"
             ],
             [
              1,
              "#f0f921"
             ]
            ],
            "type": "surface"
           }
          ],
          "table": [
           {
            "cells": {
             "fill": {
              "color": "#EBF0F8"
             },
             "line": {
              "color": "white"
             }
            },
            "header": {
             "fill": {
              "color": "#C8D4E3"
             },
             "line": {
              "color": "white"
             }
            },
            "type": "table"
           }
          ]
         },
         "layout": {
          "annotationdefaults": {
           "arrowcolor": "#2a3f5f",
           "arrowhead": 0,
           "arrowwidth": 1
          },
          "autotypenumbers": "strict",
          "coloraxis": {
           "colorbar": {
            "outlinewidth": 0,
            "ticks": ""
           }
          },
          "colorscale": {
           "diverging": [
            [
             0,
             "#8e0152"
            ],
            [
             0.1,
             "#c51b7d"
            ],
            [
             0.2,
             "#de77ae"
            ],
            [
             0.3,
             "#f1b6da"
            ],
            [
             0.4,
             "#fde0ef"
            ],
            [
             0.5,
             "#f7f7f7"
            ],
            [
             0.6,
             "#e6f5d0"
            ],
            [
             0.7,
             "#b8e186"
            ],
            [
             0.8,
             "#7fbc41"
            ],
            [
             0.9,
             "#4d9221"
            ],
            [
             1,
             "#276419"
            ]
           ],
           "sequential": [
            [
             0,
             "#0d0887"
            ],
            [
             0.1111111111111111,
             "#46039f"
            ],
            [
             0.2222222222222222,
             "#7201a8"
            ],
            [
             0.3333333333333333,
             "#9c179e"
            ],
            [
             0.4444444444444444,
             "#bd3786"
            ],
            [
             0.5555555555555556,
             "#d8576b"
            ],
            [
             0.6666666666666666,
             "#ed7953"
            ],
            [
             0.7777777777777778,
             "#fb9f3a"
            ],
            [
             0.8888888888888888,
             "#fdca26"
            ],
            [
             1,
             "#f0f921"
            ]
           ],
           "sequentialminus": [
            [
             0,
             "#0d0887"
            ],
            [
             0.1111111111111111,
             "#46039f"
            ],
            [
             0.2222222222222222,
             "#7201a8"
            ],
            [
             0.3333333333333333,
             "#9c179e"
            ],
            [
             0.4444444444444444,
             "#bd3786"
            ],
            [
             0.5555555555555556,
             "#d8576b"
            ],
            [
             0.6666666666666666,
             "#ed7953"
            ],
            [
             0.7777777777777778,
             "#fb9f3a"
            ],
            [
             0.8888888888888888,
             "#fdca26"
            ],
            [
             1,
             "#f0f921"
            ]
           ]
          },
          "colorway": [
           "#636efa",
           "#EF553B",
           "#00cc96",
           "#ab63fa",
           "#FFA15A",
           "#19d3f3",
           "#FF6692",
           "#B6E880",
           "#FF97FF",
           "#FECB52"
          ],
          "font": {
           "color": "#2a3f5f"
          },
          "geo": {
           "bgcolor": "white",
           "lakecolor": "white",
           "landcolor": "#E5ECF6",
           "showlakes": true,
           "showland": true,
           "subunitcolor": "white"
          },
          "hoverlabel": {
           "align": "left"
          },
          "hovermode": "closest",
          "mapbox": {
           "style": "light"
          },
          "paper_bgcolor": "white",
          "plot_bgcolor": "#E5ECF6",
          "polar": {
           "angularaxis": {
            "gridcolor": "white",
            "linecolor": "white",
            "ticks": ""
           },
           "bgcolor": "#E5ECF6",
           "radialaxis": {
            "gridcolor": "white",
            "linecolor": "white",
            "ticks": ""
           }
          },
          "scene": {
           "xaxis": {
            "backgroundcolor": "#E5ECF6",
            "gridcolor": "white",
            "gridwidth": 2,
            "linecolor": "white",
            "showbackground": true,
            "ticks": "",
            "zerolinecolor": "white"
           },
           "yaxis": {
            "backgroundcolor": "#E5ECF6",
            "gridcolor": "white",
            "gridwidth": 2,
            "linecolor": "white",
            "showbackground": true,
            "ticks": "",
            "zerolinecolor": "white"
           },
           "zaxis": {
            "backgroundcolor": "#E5ECF6",
            "gridcolor": "white",
            "gridwidth": 2,
            "linecolor": "white",
            "showbackground": true,
            "ticks": "",
            "zerolinecolor": "white"
           }
          },
          "shapedefaults": {
           "line": {
            "color": "#2a3f5f"
           }
          },
          "ternary": {
           "aaxis": {
            "gridcolor": "white",
            "linecolor": "white",
            "ticks": ""
           },
           "baxis": {
            "gridcolor": "white",
            "linecolor": "white",
            "ticks": ""
           },
           "bgcolor": "#E5ECF6",
           "caxis": {
            "gridcolor": "white",
            "linecolor": "white",
            "ticks": ""
           }
          },
          "title": {
           "x": 0.05
          },
          "xaxis": {
           "automargin": true,
           "gridcolor": "white",
           "linecolor": "white",
           "ticks": "",
           "title": {
            "standoff": 15
           },
           "zerolinecolor": "white",
           "zerolinewidth": 2
          },
          "yaxis": {
           "automargin": true,
           "gridcolor": "white",
           "linecolor": "white",
           "ticks": "",
           "title": {
            "standoff": 15
           },
           "zerolinecolor": "white",
           "zerolinewidth": 2
          }
         }
        },
        "title": {
         "text": "Diferencias en aspectos de la experiencia del cliente\nentre los alojamientos mejor y peor valorados"
        },
        "xaxis": {
         "gridcolor": "#2D6A4F",
         "showgrid": true,
         "title": {
          "text": "Diferencia en la puntuación media (Mejor - Peor)"
         }
        },
        "yaxis": {
         "showgrid": false,
         "title": {
          "text": "Aspectos"
         }
        }
       }
      }
     },
     "metadata": {},
     "output_type": "display_data"
    }
   ],
   "source": [
    "\n",
    "import plotly.graph_objects as go\n",
    "\n",
    "# Seleccionamos solo las columnas que nos interesan\n",
    "cols = [\n",
    "    'review_scores_rating',\n",
    "    'review_scores_accuracy',\n",
    "    'review_scores_cleanliness',\n",
    "    'review_scores_checkin',\n",
    "    'review_scores_communication'\n",
    "]\n",
    "df = df_cl[cols].dropna()\n",
    "\n",
    "# Definimos los umbrales alto y bajo para la puntuación general\n",
    "high_threshold = df['review_scores_rating'].quantile(0.9)  # Percentil 90\n",
    "low_threshold = df['review_scores_rating'].quantile(0.1)   # Percentil 10\n",
    "\n",
    "# Dividimos el DataFrame en dos grupos: los mejores y los peores según la puntuación general\n",
    "top = df[df['review_scores_rating'] >= high_threshold]\n",
    "bottom = df[df['review_scores_rating'] <= low_threshold]\n",
    "\n",
    "# Calculamos la media de las puntuaciones de diferentes aspectos de la experiencia para cada grupo\n",
    "aspects = ['review_scores_accuracy', 'review_scores_cleanliness', 'review_scores_checkin', 'review_scores_communication']\n",
    "top_means = top[aspects].mean()\n",
    "bottom_means = bottom[aspects].mean()\n",
    "\n",
    "# Calculamos las diferencias de puntuación media entre el grupo superior e inferior\n",
    "differences = (top_means - bottom_means).sort_values()\n",
    "\n",
    "# Creamos un gráfico de barras horizontal con Plotly para mostrar las diferencias\n",
    "fig = go.Figure(go.Bar(\n",
    "    x=differences.values,\n",
    "    y=differences.index,\n",
    "    orientation='h',\n",
    "    marker=dict(\n",
    "        color='#8BAE3F'  # Color verde lima\n",
    "    )\n",
    "))\n",
    "\n",
    "# Configuramos el diseño del gráfico\n",
    "fig.update_layout(\n",
    "    title='Diferencias en aspectos de la experiencia del cliente\\nentre los alojamientos mejor y peor valorados',\n",
    "    xaxis_title='Diferencia en la puntuación media (Mejor - Peor)',\n",
    "    yaxis_title='Aspectos',\n",
    "    plot_bgcolor='white',\n",
    "    font=dict(size=14),\n",
    "    xaxis=dict(showgrid=True, gridcolor='#2D6A4F'),  # Verde oscuro para la grilla\n",
    "    yaxis=dict(showgrid=False),\n",
    "    height=400\n",
    ")\n",
    "\n",
    "# Mostramos el gráfico\n",
    "fig.show()\n"
   ]
  }
 ],
 "metadata": {
  "kernelspec": {
   "display_name": "Python 3",
   "language": "python",
   "name": "python3"
  },
  "language_info": {
   "codemirror_mode": {
    "name": "ipython",
    "version": 3
   },
   "file_extension": ".py",
   "mimetype": "text/x-python",
   "name": "python",
   "nbconvert_exporter": "python",
   "pygments_lexer": "ipython3",
   "version": "3.11.9"
  }
 },
 "nbformat": 4,
 "nbformat_minor": 5
}
