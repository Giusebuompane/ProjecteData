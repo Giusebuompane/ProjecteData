{
 "cells": [
  {
   "cell_type": "code",
   "execution_count": 1,
   "id": "9ae2da38-650e-423b-a1c9-8c72b7926229",
   "metadata": {},
   "outputs": [
    {
     "data": {
      "text/html": [
       "<div>\n",
       "<style scoped>\n",
       "    .dataframe tbody tr th:only-of-type {\n",
       "        vertical-align: middle;\n",
       "    }\n",
       "\n",
       "    .dataframe tbody tr th {\n",
       "        vertical-align: top;\n",
       "    }\n",
       "\n",
       "    .dataframe thead th {\n",
       "        text-align: right;\n",
       "    }\n",
       "</style>\n",
       "<table border=\"1\" class=\"dataframe\">\n",
       "  <thead>\n",
       "    <tr style=\"text-align: right;\">\n",
       "      <th></th>\n",
       "      <th>apartment_id</th>\n",
       "      <th>name</th>\n",
       "      <th>description</th>\n",
       "      <th>host_id</th>\n",
       "      <th>neighbourhood_name</th>\n",
       "      <th>neighbourhood_district</th>\n",
       "      <th>room_type</th>\n",
       "      <th>accommodates</th>\n",
       "      <th>bathrooms</th>\n",
       "      <th>bedrooms</th>\n",
       "      <th>...</th>\n",
       "      <th>review_scores_cleanliness</th>\n",
       "      <th>review_scores_checkin</th>\n",
       "      <th>review_scores_communication</th>\n",
       "      <th>review_scores_location</th>\n",
       "      <th>review_scores_value</th>\n",
       "      <th>is_instant_bookable</th>\n",
       "      <th>reviews_per_month</th>\n",
       "      <th>country</th>\n",
       "      <th>city</th>\n",
       "      <th>insert_date</th>\n",
       "    </tr>\n",
       "  </thead>\n",
       "  <tbody>\n",
       "    <tr>\n",
       "      <th>0</th>\n",
       "      <td>11964</td>\n",
       "      <td>A ROOM WITH A VIEW</td>\n",
       "      <td>Private bedroom in our attic apartment. Right ...</td>\n",
       "      <td>45553</td>\n",
       "      <td>Centro</td>\n",
       "      <td>NaN</td>\n",
       "      <td>Private room</td>\n",
       "      <td>2</td>\n",
       "      <td>2.0</td>\n",
       "      <td>1.0</td>\n",
       "      <td>...</td>\n",
       "      <td>100.0</td>\n",
       "      <td>100.0</td>\n",
       "      <td>100.0</td>\n",
       "      <td>100.0</td>\n",
       "      <td>100.0</td>\n",
       "      <td>FALSO</td>\n",
       "      <td>75.0</td>\n",
       "      <td>spain</td>\n",
       "      <td>malaga</td>\n",
       "      <td>2018-07-31</td>\n",
       "    </tr>\n",
       "    <tr>\n",
       "      <th>1</th>\n",
       "      <td>21853</td>\n",
       "      <td>Bright and airy room</td>\n",
       "      <td>We have a quiet and sunny room with a good vie...</td>\n",
       "      <td>83531</td>\n",
       "      <td>C�rmenes</td>\n",
       "      <td>Latina</td>\n",
       "      <td>Private room</td>\n",
       "      <td>1</td>\n",
       "      <td>1.0</td>\n",
       "      <td>1.0</td>\n",
       "      <td>...</td>\n",
       "      <td>90.0</td>\n",
       "      <td>100.0</td>\n",
       "      <td>100.0</td>\n",
       "      <td>80.0</td>\n",
       "      <td>90.0</td>\n",
       "      <td>FALSO</td>\n",
       "      <td>52.0</td>\n",
       "      <td>spain</td>\n",
       "      <td>madrid</td>\n",
       "      <td>2020-01-10</td>\n",
       "    </tr>\n",
       "    <tr>\n",
       "      <th>2</th>\n",
       "      <td>32347</td>\n",
       "      <td>Explore Cultural Sights from a Family-Friendly...</td>\n",
       "      <td>Open French doors and step onto a plant-filled...</td>\n",
       "      <td>139939</td>\n",
       "      <td>San Vicente</td>\n",
       "      <td>Casco Antiguo</td>\n",
       "      <td>Entire home/apt</td>\n",
       "      <td>4</td>\n",
       "      <td>1.0</td>\n",
       "      <td>2.0</td>\n",
       "      <td>...</td>\n",
       "      <td>100.0</td>\n",
       "      <td>100.0</td>\n",
       "      <td>100.0</td>\n",
       "      <td>100.0</td>\n",
       "      <td>100.0</td>\n",
       "      <td>VERDADERO</td>\n",
       "      <td>142.0</td>\n",
       "      <td>spain</td>\n",
       "      <td>sevilla</td>\n",
       "      <td>2019-07-29</td>\n",
       "    </tr>\n",
       "    <tr>\n",
       "      <th>3</th>\n",
       "      <td>35379</td>\n",
       "      <td>Double 02 CasanovaRooms Barcelona</td>\n",
       "      <td>Room at a my apartment. Kitchen and 2 bathroom...</td>\n",
       "      <td>152232</td>\n",
       "      <td>l'Antiga Esquerra de l'Eixample</td>\n",
       "      <td>Eixample</td>\n",
       "      <td>Private room</td>\n",
       "      <td>2</td>\n",
       "      <td>2.0</td>\n",
       "      <td>1.0</td>\n",
       "      <td>...</td>\n",
       "      <td>90.0</td>\n",
       "      <td>100.0</td>\n",
       "      <td>100.0</td>\n",
       "      <td>100.0</td>\n",
       "      <td>90.0</td>\n",
       "      <td>VERDADERO</td>\n",
       "      <td>306.0</td>\n",
       "      <td>spain</td>\n",
       "      <td>barcelona</td>\n",
       "      <td>2020-01-10</td>\n",
       "    </tr>\n",
       "    <tr>\n",
       "      <th>4</th>\n",
       "      <td>35801</td>\n",
       "      <td>Can Torras Farmhouse Studio Suite</td>\n",
       "      <td>Lay in bed &amp; watch sunlight change the mood of...</td>\n",
       "      <td>153805</td>\n",
       "      <td>Quart</td>\n",
       "      <td>NaN</td>\n",
       "      <td>Private room</td>\n",
       "      <td>5</td>\n",
       "      <td>1.0</td>\n",
       "      <td>2.0</td>\n",
       "      <td>...</td>\n",
       "      <td>100.0</td>\n",
       "      <td>100.0</td>\n",
       "      <td>100.0</td>\n",
       "      <td>100.0</td>\n",
       "      <td>100.0</td>\n",
       "      <td>FALSO</td>\n",
       "      <td>39.0</td>\n",
       "      <td>spain</td>\n",
       "      <td>girona</td>\n",
       "      <td>2019-02-19</td>\n",
       "    </tr>\n",
       "    <tr>\n",
       "      <th>...</th>\n",
       "      <td>...</td>\n",
       "      <td>...</td>\n",
       "      <td>...</td>\n",
       "      <td>...</td>\n",
       "      <td>...</td>\n",
       "      <td>...</td>\n",
       "      <td>...</td>\n",
       "      <td>...</td>\n",
       "      <td>...</td>\n",
       "      <td>...</td>\n",
       "      <td>...</td>\n",
       "      <td>...</td>\n",
       "      <td>...</td>\n",
       "      <td>...</td>\n",
       "      <td>...</td>\n",
       "      <td>...</td>\n",
       "      <td>...</td>\n",
       "      <td>...</td>\n",
       "      <td>...</td>\n",
       "      <td>...</td>\n",
       "      <td>...</td>\n",
       "    </tr>\n",
       "    <tr>\n",
       "      <th>7688</th>\n",
       "      <td>32392193</td>\n",
       "      <td>Espectacular habitaci�n</td>\n",
       "      <td>NaN</td>\n",
       "      <td>238089984</td>\n",
       "      <td>Sant Antoni</td>\n",
       "      <td>Eixample</td>\n",
       "      <td>Private room</td>\n",
       "      <td>1</td>\n",
       "      <td>1.0</td>\n",
       "      <td>1.0</td>\n",
       "      <td>...</td>\n",
       "      <td>90.0</td>\n",
       "      <td>100.0</td>\n",
       "      <td>100.0</td>\n",
       "      <td>100.0</td>\n",
       "      <td>90.0</td>\n",
       "      <td>VERDADERO</td>\n",
       "      <td>88.0</td>\n",
       "      <td>spain</td>\n",
       "      <td>barcelona</td>\n",
       "      <td>2019-10-16</td>\n",
       "    </tr>\n",
       "    <tr>\n",
       "      <th>7689</th>\n",
       "      <td>32392774</td>\n",
       "      <td>? Tu Hogar de Lujo ????? en el Centro de Sevilla</td>\n",
       "      <td>Exclusivo, amplio y luminoso alojamiento situa...</td>\n",
       "      <td>243246681</td>\n",
       "      <td>Arenal</td>\n",
       "      <td>Casco Antiguo</td>\n",
       "      <td>Entire home/apt</td>\n",
       "      <td>6</td>\n",
       "      <td>2.0</td>\n",
       "      <td>3.0</td>\n",
       "      <td>...</td>\n",
       "      <td>100.0</td>\n",
       "      <td>100.0</td>\n",
       "      <td>100.0</td>\n",
       "      <td>100.0</td>\n",
       "      <td>100.0</td>\n",
       "      <td>FALSO</td>\n",
       "      <td>157.0</td>\n",
       "      <td>spain</td>\n",
       "      <td>sevilla</td>\n",
       "      <td>2021-01-31</td>\n",
       "    </tr>\n",
       "    <tr>\n",
       "      <th>7690</th>\n",
       "      <td>32395123</td>\n",
       "      <td>Rooms by G Bella Mar�a 3</td>\n",
       "      <td>The 2-star Bella Maria has 24-hourreception an...</td>\n",
       "      <td>159933359</td>\n",
       "      <td>Felanitx</td>\n",
       "      <td>NaN</td>\n",
       "      <td>Entire home/apt</td>\n",
       "      <td>2</td>\n",
       "      <td>1.0</td>\n",
       "      <td>1.0</td>\n",
       "      <td>...</td>\n",
       "      <td>100.0</td>\n",
       "      <td>100.0</td>\n",
       "      <td>100.0</td>\n",
       "      <td>100.0</td>\n",
       "      <td>90.0</td>\n",
       "      <td>VERDADERO</td>\n",
       "      <td>25.0</td>\n",
       "      <td>spain</td>\n",
       "      <td>mallorca</td>\n",
       "      <td>2019-04-24</td>\n",
       "    </tr>\n",
       "    <tr>\n",
       "      <th>7691</th>\n",
       "      <td>32407332</td>\n",
       "      <td>LUMINOSO Y ENCANTADOR PISO CERCA DE TODO</td>\n",
       "      <td>PISO MUY ILUMINADO CON UNA TERRAZA ESTUPENDA C...</td>\n",
       "      <td>187631805</td>\n",
       "      <td>Proven�als del Poblenou</td>\n",
       "      <td>Sant Mart�</td>\n",
       "      <td>Private room</td>\n",
       "      <td>3</td>\n",
       "      <td>2.0</td>\n",
       "      <td>2.0</td>\n",
       "      <td>...</td>\n",
       "      <td>100.0</td>\n",
       "      <td>100.0</td>\n",
       "      <td>100.0</td>\n",
       "      <td>100.0</td>\n",
       "      <td>100.0</td>\n",
       "      <td>VERDADERO</td>\n",
       "      <td>389.0</td>\n",
       "      <td>spain</td>\n",
       "      <td>barcelona</td>\n",
       "      <td>2019-08-12</td>\n",
       "    </tr>\n",
       "    <tr>\n",
       "      <th>7692</th>\n",
       "      <td>32423292</td>\n",
       "      <td>Apartament amb terrassa a 5 minuts de la platja.</td>\n",
       "      <td>Apartament situat a Santa Margarita de Roses d...</td>\n",
       "      <td>158381471</td>\n",
       "      <td>Roses</td>\n",
       "      <td>NaN</td>\n",
       "      <td>Entire home/apt</td>\n",
       "      <td>4</td>\n",
       "      <td>2.0</td>\n",
       "      <td>1.0</td>\n",
       "      <td>...</td>\n",
       "      <td>90.0</td>\n",
       "      <td>90.0</td>\n",
       "      <td>90.0</td>\n",
       "      <td>90.0</td>\n",
       "      <td>90.0</td>\n",
       "      <td>FALSO</td>\n",
       "      <td>68.0</td>\n",
       "      <td>spain</td>\n",
       "      <td>girona</td>\n",
       "      <td>2019-08-31</td>\n",
       "    </tr>\n",
       "  </tbody>\n",
       "</table>\n",
       "<p>7693 rows × 35 columns</p>\n",
       "</div>"
      ],
      "text/plain": [
       "      apartment_id                                               name  \\\n",
       "0            11964                                 A ROOM WITH A VIEW   \n",
       "1            21853                               Bright and airy room   \n",
       "2            32347  Explore Cultural Sights from a Family-Friendly...   \n",
       "3            35379                  Double 02 CasanovaRooms Barcelona   \n",
       "4            35801                  Can Torras Farmhouse Studio Suite   \n",
       "...            ...                                                ...   \n",
       "7688      32392193                            Espectacular habitaci�n   \n",
       "7689      32392774   ? Tu Hogar de Lujo ????? en el Centro de Sevilla   \n",
       "7690      32395123                           Rooms by G Bella Mar�a 3   \n",
       "7691      32407332           LUMINOSO Y ENCANTADOR PISO CERCA DE TODO   \n",
       "7692      32423292   Apartament amb terrassa a 5 minuts de la platja.   \n",
       "\n",
       "                                            description    host_id  \\\n",
       "0     Private bedroom in our attic apartment. Right ...      45553   \n",
       "1     We have a quiet and sunny room with a good vie...      83531   \n",
       "2     Open French doors and step onto a plant-filled...     139939   \n",
       "3     Room at a my apartment. Kitchen and 2 bathroom...     152232   \n",
       "4     Lay in bed & watch sunlight change the mood of...     153805   \n",
       "...                                                 ...        ...   \n",
       "7688                                                NaN  238089984   \n",
       "7689  Exclusivo, amplio y luminoso alojamiento situa...  243246681   \n",
       "7690  The 2-star Bella Maria has 24-hourreception an...  159933359   \n",
       "7691  PISO MUY ILUMINADO CON UNA TERRAZA ESTUPENDA C...  187631805   \n",
       "7692  Apartament situat a Santa Margarita de Roses d...  158381471   \n",
       "\n",
       "                   neighbourhood_name neighbourhood_district        room_type  \\\n",
       "0                              Centro                    NaN     Private room   \n",
       "1                            C�rmenes                 Latina     Private room   \n",
       "2                         San Vicente          Casco Antiguo  Entire home/apt   \n",
       "3     l'Antiga Esquerra de l'Eixample               Eixample     Private room   \n",
       "4                               Quart                    NaN     Private room   \n",
       "...                               ...                    ...              ...   \n",
       "7688                      Sant Antoni               Eixample     Private room   \n",
       "7689                           Arenal          Casco Antiguo  Entire home/apt   \n",
       "7690                         Felanitx                    NaN  Entire home/apt   \n",
       "7691          Proven�als del Poblenou             Sant Mart�     Private room   \n",
       "7692                            Roses                    NaN  Entire home/apt   \n",
       "\n",
       "      accommodates  bathrooms  bedrooms  ...  review_scores_cleanliness  \\\n",
       "0                2        2.0       1.0  ...                      100.0   \n",
       "1                1        1.0       1.0  ...                       90.0   \n",
       "2                4        1.0       2.0  ...                      100.0   \n",
       "3                2        2.0       1.0  ...                       90.0   \n",
       "4                5        1.0       2.0  ...                      100.0   \n",
       "...            ...        ...       ...  ...                        ...   \n",
       "7688             1        1.0       1.0  ...                       90.0   \n",
       "7689             6        2.0       3.0  ...                      100.0   \n",
       "7690             2        1.0       1.0  ...                      100.0   \n",
       "7691             3        2.0       2.0  ...                      100.0   \n",
       "7692             4        2.0       1.0  ...                       90.0   \n",
       "\n",
       "     review_scores_checkin  review_scores_communication  \\\n",
       "0                    100.0                        100.0   \n",
       "1                    100.0                        100.0   \n",
       "2                    100.0                        100.0   \n",
       "3                    100.0                        100.0   \n",
       "4                    100.0                        100.0   \n",
       "...                    ...                          ...   \n",
       "7688                 100.0                        100.0   \n",
       "7689                 100.0                        100.0   \n",
       "7690                 100.0                        100.0   \n",
       "7691                 100.0                        100.0   \n",
       "7692                  90.0                         90.0   \n",
       "\n",
       "      review_scores_location  review_scores_value  is_instant_bookable  \\\n",
       "0                      100.0                100.0                FALSO   \n",
       "1                       80.0                 90.0                FALSO   \n",
       "2                      100.0                100.0            VERDADERO   \n",
       "3                      100.0                 90.0            VERDADERO   \n",
       "4                      100.0                100.0                FALSO   \n",
       "...                      ...                  ...                  ...   \n",
       "7688                   100.0                 90.0            VERDADERO   \n",
       "7689                   100.0                100.0                FALSO   \n",
       "7690                   100.0                 90.0            VERDADERO   \n",
       "7691                   100.0                100.0            VERDADERO   \n",
       "7692                    90.0                 90.0                FALSO   \n",
       "\n",
       "      reviews_per_month  country       city  insert_date  \n",
       "0                  75.0    spain     malaga   2018-07-31  \n",
       "1                  52.0    spain     madrid   2020-01-10  \n",
       "2                 142.0    spain    sevilla   2019-07-29  \n",
       "3                 306.0    spain  barcelona   2020-01-10  \n",
       "4                  39.0    spain     girona   2019-02-19  \n",
       "...                 ...      ...        ...          ...  \n",
       "7688               88.0    spain  barcelona   2019-10-16  \n",
       "7689              157.0    spain    sevilla   2021-01-31  \n",
       "7690               25.0    spain   mallorca   2019-04-24  \n",
       "7691              389.0    spain  barcelona   2019-08-12  \n",
       "7692               68.0    spain     girona   2019-08-31  \n",
       "\n",
       "[7693 rows x 35 columns]"
      ]
     },
     "execution_count": 1,
     "metadata": {},
     "output_type": "execute_result"
    }
   ],
   "source": [
    "import pandas as pd\n",
    "import seaborn as sns\n",
    "import matplotlib.pyplot as plt\n",
    "from sklearn.linear_model import LinearRegression\n",
    "from sklearn.model_selection import train_test_split\n",
    "from sklearn.metrics import r2_score, mean_squared_error\n",
    "import plotly.express as px\n",
    "\n",
    "df = pd.read_csv(\"df_tourist_python_sprint2.csv\", sep= ';')\n",
    "\n",
    "df"
   ]
  },
  {
   "cell_type": "code",
   "execution_count": 8,
   "id": "00559559-57ec-4c3f-bb31-ab5cd9b43e0c",
   "metadata": {},
   "outputs": [
    {
     "data": {
      "text/html": [
       "<div>\n",
       "<style scoped>\n",
       "    .dataframe tbody tr th:only-of-type {\n",
       "        vertical-align: middle;\n",
       "    }\n",
       "\n",
       "    .dataframe tbody tr th {\n",
       "        vertical-align: top;\n",
       "    }\n",
       "\n",
       "    .dataframe thead th {\n",
       "        text-align: right;\n",
       "    }\n",
       "</style>\n",
       "<table border=\"1\" class=\"dataframe\">\n",
       "  <thead>\n",
       "    <tr style=\"text-align: right;\">\n",
       "      <th></th>\n",
       "      <th>city</th>\n",
       "      <th>neighbourhood_name</th>\n",
       "      <th>accommodates</th>\n",
       "      <th>price</th>\n",
       "      <th>comoditats</th>\n",
       "      <th>review_scores_rating</th>\n",
       "    </tr>\n",
       "  </thead>\n",
       "  <tbody>\n",
       "    <tr>\n",
       "      <th>0</th>\n",
       "      <td>malaga</td>\n",
       "      <td>Centro</td>\n",
       "      <td>2</td>\n",
       "      <td>400.0</td>\n",
       "      <td>19</td>\n",
       "      <td>97.0</td>\n",
       "    </tr>\n",
       "    <tr>\n",
       "      <th>1</th>\n",
       "      <td>madrid</td>\n",
       "      <td>C�rmenes</td>\n",
       "      <td>1</td>\n",
       "      <td>170.0</td>\n",
       "      <td>31</td>\n",
       "      <td>92.0</td>\n",
       "    </tr>\n",
       "    <tr>\n",
       "      <th>2</th>\n",
       "      <td>sevilla</td>\n",
       "      <td>San Vicente</td>\n",
       "      <td>4</td>\n",
       "      <td>990.0</td>\n",
       "      <td>34</td>\n",
       "      <td>98.0</td>\n",
       "    </tr>\n",
       "    <tr>\n",
       "      <th>3</th>\n",
       "      <td>barcelona</td>\n",
       "      <td>l'Antiga Esquerra de l'Eixample</td>\n",
       "      <td>2</td>\n",
       "      <td>400.0</td>\n",
       "      <td>27</td>\n",
       "      <td>94.0</td>\n",
       "    </tr>\n",
       "    <tr>\n",
       "      <th>4</th>\n",
       "      <td>girona</td>\n",
       "      <td>Quart</td>\n",
       "      <td>5</td>\n",
       "      <td>900.0</td>\n",
       "      <td>43</td>\n",
       "      <td>97.0</td>\n",
       "    </tr>\n",
       "    <tr>\n",
       "      <th>...</th>\n",
       "      <td>...</td>\n",
       "      <td>...</td>\n",
       "      <td>...</td>\n",
       "      <td>...</td>\n",
       "      <td>...</td>\n",
       "      <td>...</td>\n",
       "    </tr>\n",
       "    <tr>\n",
       "      <th>7688</th>\n",
       "      <td>barcelona</td>\n",
       "      <td>Sant Antoni</td>\n",
       "      <td>1</td>\n",
       "      <td>3000.0</td>\n",
       "      <td>12</td>\n",
       "      <td>94.0</td>\n",
       "    </tr>\n",
       "    <tr>\n",
       "      <th>7689</th>\n",
       "      <td>sevilla</td>\n",
       "      <td>Arenal</td>\n",
       "      <td>6</td>\n",
       "      <td>2090.0</td>\n",
       "      <td>27</td>\n",
       "      <td>100.0</td>\n",
       "    </tr>\n",
       "    <tr>\n",
       "      <th>7690</th>\n",
       "      <td>mallorca</td>\n",
       "      <td>Felanitx</td>\n",
       "      <td>2</td>\n",
       "      <td>930.0</td>\n",
       "      <td>9</td>\n",
       "      <td>96.0</td>\n",
       "    </tr>\n",
       "    <tr>\n",
       "      <th>7691</th>\n",
       "      <td>barcelona</td>\n",
       "      <td>Proven�als del Poblenou</td>\n",
       "      <td>3</td>\n",
       "      <td>960.0</td>\n",
       "      <td>30</td>\n",
       "      <td>98.0</td>\n",
       "    </tr>\n",
       "    <tr>\n",
       "      <th>7692</th>\n",
       "      <td>girona</td>\n",
       "      <td>Roses</td>\n",
       "      <td>4</td>\n",
       "      <td>500.0</td>\n",
       "      <td>7</td>\n",
       "      <td>93.0</td>\n",
       "    </tr>\n",
       "  </tbody>\n",
       "</table>\n",
       "<p>7693 rows × 6 columns</p>\n",
       "</div>"
      ],
      "text/plain": [
       "           city               neighbourhood_name  accommodates   price  \\\n",
       "0        malaga                           Centro             2   400.0   \n",
       "1        madrid                         C�rmenes             1   170.0   \n",
       "2       sevilla                      San Vicente             4   990.0   \n",
       "3     barcelona  l'Antiga Esquerra de l'Eixample             2   400.0   \n",
       "4        girona                            Quart             5   900.0   \n",
       "...         ...                              ...           ...     ...   \n",
       "7688  barcelona                      Sant Antoni             1  3000.0   \n",
       "7689    sevilla                           Arenal             6  2090.0   \n",
       "7690   mallorca                         Felanitx             2   930.0   \n",
       "7691  barcelona          Proven�als del Poblenou             3   960.0   \n",
       "7692     girona                            Roses             4   500.0   \n",
       "\n",
       "      comoditats  review_scores_rating  \n",
       "0             19                  97.0  \n",
       "1             31                  92.0  \n",
       "2             34                  98.0  \n",
       "3             27                  94.0  \n",
       "4             43                  97.0  \n",
       "...          ...                   ...  \n",
       "7688          12                  94.0  \n",
       "7689          27                 100.0  \n",
       "7690           9                  96.0  \n",
       "7691          30                  98.0  \n",
       "7692           7                  93.0  \n",
       "\n",
       "[7693 rows x 6 columns]"
      ]
     },
     "execution_count": 8,
     "metadata": {},
     "output_type": "execute_result"
    }
   ],
   "source": [
    "df[\"amstr\"] =  df['amenities_list'].astype(str)\n",
    "separador = df[\"amstr\"].str.count(\",\") + 1\n",
    "separador.name = \"comoditats\"\n",
    "df_amenities = pd.concat([df, separador], axis=1)\n",
    "df_amenities[[\"city\",\"neighbourhood_name\",\"accommodates\",\"price\",\"comoditats\", \"review_scores_rating\"]]"
   ]
  },
  {
   "cell_type": "code",
   "execution_count": 9,
   "id": "70d0a6fc-d8bd-4f90-b97b-4e36fa77648c",
   "metadata": {},
   "outputs": [
    {
     "data": {
      "image/png": "[encoded data removed]",
      "text/plain": [
       "<Figure size 640x480 with 2 Axes>"
      ]
     },
     "metadata": {},
     "output_type": "display_data"
    }
   ],
   "source": [
    "tcorr = df_amenities[['comoditats', 'accommodates', 'review_scores_rating', 'price']]\n",
    "corre = tcorr.corr()\n",
    "sns.heatmap(corre, annot=True, cmap=\"coolwarm\", fmt=\".2f\")\n",
    "plt.show()\n"
   ]
  },
  {
   "cell_type": "code",
   "execution_count": 10,
   "id": "69fe2a46-2f2b-45d2-aaad-ebc6ff6f5376",
   "metadata": {},
   "outputs": [
    {
     "name": "stdout",
     "output_type": "stream",
     "text": [
      "               variable  coeficient\n",
      "0            comoditats    1.143329\n",
      "1          accommodates  175.329917\n",
      "2  review_scores_rating    3.768400\n",
      "3           city_girona  -80.680353\n",
      "4           city_madrid -105.092174\n",
      "5           city_malaga -240.060610\n",
      "6         city_mallorca  245.759925\n",
      "7          city_menorca  236.545008\n",
      "8          city_sevilla   -8.692269\n",
      "9         city_valencia -259.624710\n"
     ]
    }
   ],
   "source": [
    "# Seleccionem les variables d'interès\n",
    "variables = [\"comoditats\", \"accommodates\", \"review_scores_rating\"]\n",
    "\n",
    "# Codifiquem la ciutat com a variable dummy (si vols incloure la ciutat al model)\n",
    "df_model = pd.get_dummies(df_amenities, columns=[\"city\"], drop_first=True)\n",
    "\n",
    "# Variables independents (X) i dependent (y)\n",
    "X = df_model[variables + [col for col in df_model.columns if col.startswith(\"city_\")]]\n",
    "y = df_model[\"price\"]\n",
    "\n",
    "# Dividim en entrenament i test\n",
    "X_train, X_test, y_train, y_test = train_test_split(X, y, test_size=0.3, random_state=42)\n",
    "\n",
    "# Entrenem el model\n",
    "model = LinearRegression()\n",
    "model.fit(X_train, y_train)\n",
    "\n",
    "# Coeficients del model\n",
    "coeficients = pd.DataFrame({\n",
    "    'variable': X.columns,\n",
    "    'coeficient': model.coef_\n",
    "})\n",
    "print(coeficients)\n"
   ]
  },
  {
   "cell_type": "code",
   "execution_count": 11,
   "id": "ee6a82a2-1a8d-4781-9adf-e0f6dd315f60",
   "metadata": {},
   "outputs": [
    {
     "name": "stdout",
     "output_type": "stream",
     "text": [
      "               variable  coeficient\n",
      "6         city_mallorca  245.759925\n",
      "7          city_menorca  236.545008\n",
      "1          accommodates  175.329917\n",
      "2  review_scores_rating    3.768400\n",
      "0            comoditats    1.143329\n",
      "8          city_sevilla   -8.692269\n",
      "3           city_girona  -80.680353\n",
      "4           city_madrid -105.092174\n",
      "5           city_malaga -240.060610\n",
      "9         city_valencia -259.624710\n"
     ]
    }
   ],
   "source": [
    "# Mostrem els coeficients de manera ordenada\n",
    "print(coeficients.sort_values(by=\"coeficient\", ascending=False))\n"
   ]
  },
  {
   "cell_type": "code",
   "execution_count": 12,
   "id": "5bbd4370-0537-47da-b27f-733b299827f0",
   "metadata": {},
   "outputs": [
    {
     "name": "stdout",
     "output_type": "stream",
     "text": [
      "           comoditats  accommodates  review_scores_rating        price\n",
      "city                                                                  \n",
      "barcelona   19.093322      3.344096             91.038700   845.294118\n",
      "girona      20.693656      5.665275             91.960768  1184.198664\n",
      "madrid      21.502128      3.369605             93.079635   744.443769\n",
      "malaga      25.423858      4.002538             92.454315   729.771574\n",
      "mallorca    24.674308      6.120949             93.992885  1604.177866\n",
      "menorca     21.994012      6.095808             93.688623  1563.353293\n",
      "sevilla     26.037221      3.925558             93.709677   940.397022\n",
      "valencia    24.630556      3.961111             92.100000   669.066667\n"
     ]
    }
   ],
   "source": [
    "# Mitjana de cada variable per ciutat\n",
    "print(df_amenities.groupby(\"city\")[[\"comoditats\", \"accommodates\", \"review_scores_rating\", \"price\"]].mean())\n"
   ]
  },
  {
   "cell_type": "code",
   "execution_count": 13,
   "id": "512f23d5-bebb-466c-a4d1-672c8e219541",
   "metadata": {},
   "outputs": [
    {
     "name": "stdout",
     "output_type": "stream",
     "text": [
      "R²: 0.40\n",
      "MSE: 401685.45\n"
     ]
    }
   ],
   "source": [
    "# Prediccions sobre el test\n",
    "y_pred = model.predict(X_test)\n",
    "\n",
    "# Mètriques d'avaluació\n",
    "print(f\"R²: {r2_score(y_test, y_pred):.2f}\")\n",
    "print(f\"MSE: {mean_squared_error(y_test, y_pred):.2f}\")\n"
   ]
  },
  {
   "cell_type": "code",
   "execution_count": 19,
   "id": "8a66db91-2c92-438b-8a22-c16eeebc6dc8",
   "metadata": {},
   "outputs": [
    {
     "name": "stdout",
     "output_type": "stream",
     "text": [
      "        city  comoditats  accommodates  review_scores_rating\n",
      "0     malaga   -1.939746    119.896710              9.495328\n",
      "1     madrid    0.174631    158.945914              4.696413\n",
      "2    sevilla  -10.590584    161.142812              2.819347\n",
      "3  barcelona    4.206476    198.740101              1.728008\n",
      "4     girona   -1.305960    181.173952              6.110821\n",
      "5   valencia   -5.203859    134.966354              8.262263\n",
      "6   mallorca    0.431811    161.181196              7.115337\n",
      "7    menorca   -1.689679    238.252356              4.634617\n"
     ]
    }
   ],
   "source": [
    "# Variables d'interès\n",
    "variables = [\"comoditats\", \"accommodates\", \"review_scores_rating\"]\n",
    "\n",
    "# Diccionari per guardar els coeficients per ciutat\n",
    "coef_dict = {}\n",
    "\n",
    "for city in df_amenities[\"city\"].unique():\n",
    "    df_city = df_amenities[df_amenities[\"city\"] == city]\n",
    "    X = df_city[variables]\n",
    "    y = df_city[\"price\"]\n",
    "    model = LinearRegression()\n",
    "    model.fit(X, y)\n",
    "    coef_dict[city] = model.coef_\n",
    "\n",
    "# Convertim a DataFrame per visualitzar millor\n",
    "coef_df = pd.DataFrame(coef_dict, index=variables).T\n",
    "coef_df.index.name = \"city\"\n",
    "coef_df.reset_index(inplace=True)\n",
    "print(coef_df)"
   ]
  },
  {
   "cell_type": "code",
   "execution_count": 18,
   "id": "50df0454-ee99-4cbb-a9ce-328546abfdac",
   "metadata": {
    "collapsed": true,
    "jupyter": {
     "outputs_hidden": true,
     "source_hidden": true
    }
   },
   "outputs": [
    {
     "data": {
      "image/png": "[encoded data removed]",
      "text/plain": [
       "<Figure size 1000x600 with 1 Axes>"
      ]
     },
     "metadata": {},
     "output_type": "display_data"
    }
   ],
   "source": [
    "import matplotlib.pyplot as plt\n",
    "\n",
    "# Fem el DataFrame long per a seaborn\n",
    "coef_long = coef_df.melt(id_vars=\"city\", var_name=\"Variable\", value_name=\"Impacte\")\n",
    "\n",
    "plt.figure(figsize=(10,6))\n",
    "import seaborn as sns\n",
    "sns.barplot(data=coef_long, x=\"city\", y=\"Impacte\", hue=\"Variable\")\n",
    "\n",
    "plt.title(\"Impacte de cada variable en el preu per ciutat\")\n",
    "plt.ylabel(\"Impacte en el preu (coeficient)\")\n",
    "plt.xlabel(\"Ciutat\")\n",
    "plt.axhline(0, color='grey', linestyle='--')\n",
    "plt.legend(title=\"Variable\")\n",
    "plt.tight_layout()\n",
    "plt.show()"
   ]
  },
  {
   "cell_type": "code",
   "execution_count": 44,
   "id": "19999f45-47de-4048-9125-b6212003574e",
   "metadata": {},
   "outputs": [
    {
     "data": {
      "application/vnd.plotly.v1+json": {
       "config": {
        "plotlyServerURL": "https://plot.ly"
       },
       "data": [
        {
         "alignmentgroup": "True",
         "hovertemplate": "Variable=comoditats<br>city=%{x}<br>Impacte=%{y}<extra></extra>",
         "legendgroup": "comoditats",
         "marker": {
          "color": "#2D6A4F",
          "pattern": {
           "shape": ""
          }
         },
         "name": "comoditats",
         "offsetgroup": "comoditats",
         "orientation": "v",
         "showlegend": true,
         "textposition": "auto",
         "type": "bar",
         "x": [
          "malaga",
          "madrid",
          "sevilla",
          "barcelona",
          "girona",
          "valencia",
          "mallorca",
          "menorca"
         ],
         "xaxis": "x",
         "y": [
          -1.93974579742976,
          0.17463103187305848,
          -10.590584306383196,
          4.206475627979648,
          -1.3059595231818144,
          -5.203858887653428,
          0.4318109242456078,
          -1.6896791389809565
         ],
         "yaxis": "y"
        },
        {
         "alignmentgroup": "True",
         "hovertemplate": "Variable=accommodates<br>city=%{x}<br>Impacte=%{y}<extra></extra>",
         "legendgroup": "accommodates",
         "marker": {
          "color": "#8BAE3F",
          "pattern": {
           "shape": ""
          }
         },
         "name": "accommodates",
         "offsetgroup": "accommodates",
         "orientation": "v",
         "showlegend": true,
         "textposition": "auto",
         "type": "bar",
         "x": [
          "malaga",
          "madrid",
          "sevilla",
          "barcelona",
          "girona",
          "valencia",
          "mallorca",
          "menorca"
         ],
         "xaxis": "x",
         "y": [
          119.89670972891146,
          158.94591365049254,
          161.14281151528996,
          198.7401008764902,
          181.17395166710588,
          134.96635413916775,
          161.18119637199592,
          238.25235611049376
         ],
         "yaxis": "y"
        },
        {
         "alignmentgroup": "True",
         "hovertemplate": "Variable=review_scores_rating<br>city=%{x}<br>Impacte=%{y}<extra></extra>",
         "legendgroup": "review_scores_rating",
         "marker": {
          "color": "#4C9A2A",
          "pattern": {
           "shape": ""
          }
         },
         "name": "review_scores_rating",
         "offsetgroup": "review_scores_rating",
         "orientation": "v",
         "showlegend": true,
         "textposition": "auto",
         "type": "bar",
         "x": [
          "malaga",
          "madrid",
          "sevilla",
          "barcelona",
          "girona",
          "valencia",
          "mallorca",
          "menorca"
         ],
         "xaxis": "x",
         "y": [
          9.495327980356224,
          4.696412691633252,
          2.8193468141252143,
          1.7280078099724026,
          6.1108208231597025,
          8.26226320675604,
          7.115337131890277,
          4.634616777580401
         ],
         "yaxis": "y"
        }
       ],
       "layout": {
        "autosize": true,
        "barmode": "group",
        "legend": {
         "title": {
          "text": "Variable"
         },
         "tracegroupgap": 0
        },
        "margin": {
         "t": 60
        },
        "paper_bgcolor": "#D8F3DC",
        "plot_bgcolor": "#D8F3DC",
        "shapes": [
         {
          "line": {
           "color": "grey",
           "dash": "dash"
          },
          "type": "line",
          "x0": -0.5,
          "x1": 2.5,
          "y0": 0,
          "y1": 0
         }
        ],
        "template": {
         "data": {
          "bar": [
           {
            "error_x": {
             "color": "#2a3f5f"
            },
            "error_y": {
             "color": "#2a3f5f"
            },
            "marker": {
             "line": {
              "color": "#E5ECF6",
              "width": 0.5
             },
             "pattern": {
              "fillmode": "overlay",
              "size": 10,
              "solidity": 0.2
             }
            },
            "type": "bar"
           }
          ],
          "barpolar": [
           {
            "marker": {
             "line": {
              "color": "#E5ECF6",
              "width": 0.5
             },
             "pattern": {
              "fillmode": "overlay",
              "size": 10,
              "solidity": 0.2
             }
            },
            "type": "barpolar"
           }
          ],
          "carpet": [
           {
            "aaxis": {
             "endlinecolor": "#2a3f5f",
             "gridcolor": "white",
             "linecolor": "white",
             "minorgridcolor": "white",
             "startlinecolor": "#2a3f5f"
            },
            "baxis": {
             "endlinecolor": "#2a3f5f",
             "gridcolor": "white",
             "linecolor": "white",
             "minorgridcolor": "white",
             "startlinecolor": "#2a3f5f"
            },
            "type": "carpet"
           }
          ],
          "choropleth": [
           {
            "colorbar": {
             "outlinewidth": 0,
             "ticks": ""
            },
            "type": "choropleth"
           }
          ],
          "contour": [
           {
            "colorbar": {
             "outlinewidth": 0,
             "ticks": ""
            },
            "colorscale": [
             [
              0,
              "#0d0887"
             ],
             [
              0.1111111111111111,
              "#46039f"
             ],
             [
              0.2222222222222222,
              "#7201a8"
             ],
             [
              0.3333333333333333,
              "#9c179e"
             ],
             [
              0.4444444444444444,
              "#bd3786"
             ],
             [
              0.5555555555555556,
              "#d8576b"
             ],
             [
              0.6666666666666666,
              "#ed7953"
             ],
             [
              0.7777777777777778,
              "#fb9f3a"
             ],
             [
              0.8888888888888888,
              "#fdca26"
             ],
             [
              1,
              "#f0f921"
             ]
            ],
            "type": "contour"
           }
          ],
          "contourcarpet": [
           {
            "colorbar": {
             "outlinewidth": 0,
             "ticks": ""
            },
            "type": "contourcarpet"
           }
          ],
          "heatmap": [
           {
            "colorbar": {
             "outlinewidth": 0,
             "ticks": ""
            },
            "colorscale": [
             [
              0,
              "#0d0887"
             ],
             [
              0.1111111111111111,
              "#46039f"
             ],
             [
              0.2222222222222222,
              "#7201a8"
             ],
             [
              0.3333333333333333,
              "#9c179e"
             ],
             [
              0.4444444444444444,
              "#bd3786"
             ],
             [
              0.5555555555555556,
              "#d8576b"
             ],
             [
              0.6666666666666666,
              "#ed7953"
             ],
             [
              0.7777777777777778,
              "#fb9f3a"
             ],
             [
              0.8888888888888888,
              "#fdca26"
             ],
             [
              1,
              "#f0f921"
             ]
            ],
            "type": "heatmap"
           }
          ],
          "heatmapgl": [
           {
            "colorbar": {
             "outlinewidth": 0,
             "ticks": ""
            },
            "colorscale": [
             [
              0,
              "#0d0887"
             ],
             [
              0.1111111111111111,
              "#46039f"
             ],
             [
              0.2222222222222222,
              "#7201a8"
             ],
             [
              0.3333333333333333,
              "#9c179e"
             ],
             [
              0.4444444444444444,
              "#bd3786"
             ],
             [
              0.5555555555555556,
              "#d8576b"
             ],
             [
              0.6666666666666666,
              "#ed7953"
             ],
             [
              0.7777777777777778,
              "#fb9f3a"
             ],
             [
              0.8888888888888888,
              "#fdca26"
             ],
             [
              1,
              "#f0f921"
             ]
            ],
            "type": "heatmapgl"
           }
          ],
          "histogram": [
           {
            "marker": {
             "pattern": {
              "fillmode": "overlay",
              "size": 10,
              "solidity": 0.2
             }
            },
            "type": "histogram"
           }
          ],
          "histogram2d": [
           {
            "colorbar": {
             "outlinewidth": 0,
             "ticks": ""
            },
            "colorscale": [
             [
              0,
              "#0d0887"
             ],
             [
              0.1111111111111111,
              "#46039f"
             ],
             [
              0.2222222222222222,
              "#7201a8"
             ],
             [
              0.3333333333333333,
              "#9c179e"
             ],
             [
              0.4444444444444444,
              "#bd3786"
             ],
             [
              0.5555555555555556,
              "#d8576b"
             ],
             [
              0.6666666666666666,
              "#ed7953"
             ],
             [
              0.7777777777777778,
              "#fb9f3a"
             ],
             [
              0.8888888888888888,
              "#fdca26"
             ],
             [
              1,
              "#f0f921"
             ]
            ],
            "type": "histogram2d"
           }
          ],
          "histogram2dcontour": [
           {
            "colorbar": {
             "outlinewidth": 0,
             "ticks": ""
            },
            "colorscale": [
             [
              0,
              "#0d0887"
             ],
             [
              0.1111111111111111,
              "#46039f"
             ],
             [
              0.2222222222222222,
              "#7201a8"
             ],
             [
              0.3333333333333333,
              "#9c179e"
             ],
             [
              0.4444444444444444,
              "#bd3786"
             ],
             [
              0.5555555555555556,
              "#d8576b"
             ],
             [
              0.6666666666666666,
              "#ed7953"
             ],
             [
              0.7777777777777778,
              "#fb9f3a"
             ],
             [
              0.8888888888888888,
              "#fdca26"
             ],
             [
              1,
              "#f0f921"
             ]
            ],
            "type": "histogram2dcontour"
           }
          ],
          "mesh3d": [
           {
            "colorbar": {
             "outlinewidth": 0,
             "ticks": ""
            },
            "type": "mesh3d"
           }
          ],
          "parcoords": [
           {
            "line": {
             "colorbar": {
              "outlinewidth": 0,
              "ticks": ""
             }
            },
            "type": "parcoords"
           }
          ],
          "pie": [
           {
            "automargin": true,
            "type": "pie"
           }
          ],
          "scatter": [
           {
            "fillpattern": {
             "fillmode": "overlay",
             "size": 10,
             "solidity": 0.2
            },
            "type": "scatter"
           }
          ],
          "scatter3d": [
           {
            "line": {
             "colorbar": {
              "outlinewidth": 0,
              "ticks": ""
             }
            },
            "marker": {
             "colorbar": {
              "outlinewidth": 0,
              "ticks": ""
             }
            },
            "type": "scatter3d"
           }
          ],
          "scattercarpet": [
           {
            "marker": {
             "colorbar": {
              "outlinewidth": 0,
              "ticks": ""
             }
            },
            "type": "scattercarpet"
           }
          ],
          "scattergeo": [
           {
            "marker": {
             "colorbar": {
              "outlinewidth": 0,
              "ticks": ""
             }
            },
            "type": "scattergeo"
           }
          ],
          "scattergl": [
           {
            "marker": {
             "colorbar": {
              "outlinewidth": 0,
              "ticks": ""
             }
            },
            "type": "scattergl"
           }
          ],
          "scattermapbox": [
           {
            "marker": {
             "colorbar": {
              "outlinewidth": 0,
              "ticks": ""
             }
            },
            "type": "scattermapbox"
           }
          ],
          "scatterpolar": [
           {
            "marker": {
             "colorbar": {
              "outlinewidth": 0,
              "ticks": ""
             }
            },
            "type": "scatterpolar"
           }
          ],
          "scatterpolargl": [
           {
            "marker": {
             "colorbar": {
              "outlinewidth": 0,
              "ticks": ""
             }
            },
            "type": "scatterpolargl"
           }
          ],
          "scatterternary": [
           {
            "marker": {
             "colorbar": {
              "outlinewidth": 0,
              "ticks": ""
             }
            },
            "type": "scatterternary"
           }
          ],
          "surface": [
           {
            "colorbar": {
             "outlinewidth": 0,
             "ticks": ""
            },
            "colorscale": [
             [
              0,
              "#0d0887"
             ],
             [
              0.1111111111111111,
              "#46039f"
             ],
             [
              0.2222222222222222,
              "#7201a8"
             ],
             [
              0.3333333333333333,
              "#9c179e"
             ],
             [
              0.4444444444444444,
              "#bd3786"
             ],
             [
              0.5555555555555556,
              "#d8576b"
             ],
             [
              0.6666666666666666,
              "#ed7953"
             ],
             [
              0.7777777777777778,
              "#fb9f3a"
             ],
             [
              0.8888888888888888,
              "#fdca26"
             ],
             [
              1,
              "#f0f921"
             ]
            ],
            "type": "surface"
           }
          ],
          "table": [
           {
            "cells": {
             "fill": {
              "color": "#EBF0F8"
             },
             "line": {
              "color": "white"
             }
            },
            "header": {
             "fill": {
              "color": "#C8D4E3"
             },
             "line": {
              "color": "white"
             }
            },
            "type": "table"
           }
          ]
         },
         "layout": {
          "annotationdefaults": {
           "arrowcolor": "#2a3f5f",
           "arrowhead": 0,
           "arrowwidth": 1
          },
          "autotypenumbers": "strict",
          "coloraxis": {
           "colorbar": {
            "outlinewidth": 0,
            "ticks": ""
           }
          },
          "colorscale": {
           "diverging": [
            [
             0,
             "#8e0152"
            ],
            [
             0.1,
             "#c51b7d"
            ],
            [
             0.2,
             "#de77ae"
            ],
            [
             0.3,
             "#f1b6da"
            ],
            [
             0.4,
             "#fde0ef"
            ],
            [
             0.5,
             "#f7f7f7"
            ],
            [
             0.6,
             "#e6f5d0"
            ],
            [
             0.7,
             "#b8e186"
            ],
            [
             0.8,
             "#7fbc41"
            ],
            [
             0.9,
             "#4d9221"
            ],
            [
             1,
             "#276419"
            ]
           ],
           "sequential": [
            [
             0,
             "#0d0887"
            ],
            [
             0.1111111111111111,
             "#46039f"
            ],
            [
             0.2222222222222222,
             "#7201a8"
            ],
            [
             0.3333333333333333,
             "#9c179e"
            ],
            [
             0.4444444444444444,
             "#bd3786"
            ],
            [
             0.5555555555555556,
             "#d8576b"
            ],
            [
             0.6666666666666666,
             "#ed7953"
            ],
            [
             0.7777777777777778,
             "#fb9f3a"
            ],
            [
             0.8888888888888888,
             "#fdca26"
            ],
            [
             1,
             "#f0f921"
            ]
           ],
           "sequentialminus": [
            [
             0,
             "#0d0887"
            ],
            [
             0.1111111111111111,
             "#46039f"
            ],
            [
             0.2222222222222222,
             "#7201a8"
            ],
            [
             0.3333333333333333,
             "#9c179e"
            ],
            [
             0.4444444444444444,
             "#bd3786"
            ],
            [
             0.5555555555555556,
             "#d8576b"
            ],
            [
             0.6666666666666666,
             "#ed7953"
            ],
            [
             0.7777777777777778,
             "#fb9f3a"
            ],
            [
             0.8888888888888888,
             "#fdca26"
            ],
            [
             1,
             "#f0f921"
            ]
           ]
          },
          "colorway": [
           "#636efa",
           "#EF553B",
           "#00cc96",
           "#ab63fa",
           "#FFA15A",
           "#19d3f3",
           "#FF6692",
           "#B6E880",
           "#FF97FF",
           "#FECB52"
          ],
          "font": {
           "color": "#2a3f5f"
          },
          "geo": {
           "bgcolor": "white",
           "lakecolor": "white",
           "landcolor": "#E5ECF6",
           "showlakes": true,
           "showland": true,
           "subunitcolor": "white"
          },
          "hoverlabel": {
           "align": "left"
          },
          "hovermode": "closest",
          "mapbox": {
           "style": "light"
          },
          "paper_bgcolor": "white",
          "plot_bgcolor": "#E5ECF6",
          "polar": {
           "angularaxis": {
            "gridcolor": "white",
            "linecolor": "white",
            "ticks": ""
           },
           "bgcolor": "#E5ECF6",
           "radialaxis": {
            "gridcolor": "white",
            "linecolor": "white",
            "ticks": ""
           }
          },
          "scene": {
           "xaxis": {
            "backgroundcolor": "#E5ECF6",
            "gridcolor": "white",
            "gridwidth": 2,
            "linecolor": "white",
            "showbackground": true,
            "ticks": "",
            "zerolinecolor": "white"
           },
           "yaxis": {
            "backgroundcolor": "#E5ECF6",
            "gridcolor": "white",
            "gridwidth": 2,
            "linecolor": "white",
            "showbackground": true,
            "ticks": "",
            "zerolinecolor": "white"
           },
           "zaxis": {
            "backgroundcolor": "#E5ECF6",
            "gridcolor": "white",
            "gridwidth": 2,
            "linecolor": "white",
            "showbackground": true,
            "ticks": "",
            "zerolinecolor": "white"
           }
          },
          "shapedefaults": {
           "line": {
            "color": "#2a3f5f"
           }
          },
          "ternary": {
           "aaxis": {
            "gridcolor": "white",
            "linecolor": "white",
            "ticks": ""
           },
           "baxis": {
            "gridcolor": "white",
            "linecolor": "white",
            "ticks": ""
           },
           "bgcolor": "#E5ECF6",
           "caxis": {
            "gridcolor": "white",
            "linecolor": "white",
            "ticks": ""
           }
          },
          "title": {
           "x": 0.05
          },
          "xaxis": {
           "automargin": true,
           "gridcolor": "white",
           "linecolor": "white",
           "ticks": "",
           "title": {
            "standoff": 15
           },
           "zerolinecolor": "white",
           "zerolinewidth": 2
          },
          "yaxis": {
           "automargin": true,
           "gridcolor": "white",
           "linecolor": "white",
           "ticks": "",
           "title": {
            "standoff": 15
           },
           "zerolinecolor": "white",
           "zerolinewidth": 2
          }
         }
        },
        "xaxis": {
         "anchor": "y",
         "autorange": true,
         "domain": [
          0,
          1
         ],
         "range": [
          -0.5098039215686274,
          7.5
         ],
         "title": {
          "text": "Ciudad"
         },
         "type": "category"
        },
        "yaxis": {
         "anchor": "x",
         "autorange": true,
         "domain": [
          0,
          1
         ],
         "range": [
          -24.415192107320806,
          252.07696391143136
         ],
         "title": {
          "text": "Impacto en el precio (coeficiente, €)"
         },
         "type": "linear"
        }
       }
      },
      "image/png": "[encoded data removed]",
      "text/html": [
       "<div>                            <div id=\"f835e614-2a28-4cba-bc49-09f6fe2075e9\" class=\"plotly-graph-div\" style=\"height:525px; width:100%;\"></div>            <script type=\"text/javascript\">                require([\"plotly\"], function(Plotly) {                    window.PLOTLYENV=window.PLOTLYENV || {};                                    if (document.getElementById(\"f835e614-2a28-4cba-bc49-09f6fe2075e9\")) {                    Plotly.newPlot(                        \"f835e614-2a28-4cba-bc49-09f6fe2075e9\",                        [{\"alignmentgroup\":\"True\",\"hovertemplate\":\"Variable=comoditats\\u003cbr\\u003ecity=%{x}\\u003cbr\\u003eImpacte=%{y}\\u003cextra\\u003e\\u003c\\u002fextra\\u003e\",\"legendgroup\":\"comoditats\",\"marker\":{\"color\":\"#2D6A4F\",\"pattern\":{\"shape\":\"\"}},\"name\":\"comoditats\",\"offsetgroup\":\"comoditats\",\"orientation\":\"v\",\"showlegend\":true,\"textposition\":\"auto\",\"x\":[\"malaga\",\"madrid\",\"sevilla\",\"barcelona\",\"girona\",\"valencia\",\"mallorca\",\"menorca\"],\"xaxis\":\"x\",\"y\":[-1.93974579742976,0.17463103187305848,-10.590584306383196,4.206475627979648,-1.3059595231818144,-5.203858887653428,0.4318109242456078,-1.6896791389809565],\"yaxis\":\"y\",\"type\":\"bar\"},{\"alignmentgroup\":\"True\",\"hovertemplate\":\"Variable=accommodates\\u003cbr\\u003ecity=%{x}\\u003cbr\\u003eImpacte=%{y}\\u003cextra\\u003e\\u003c\\u002fextra\\u003e\",\"legendgroup\":\"accommodates\",\"marker\":{\"color\":\"#8BAE3F\",\"pattern\":{\"shape\":\"\"}},\"name\":\"accommodates\",\"offsetgroup\":\"accommodates\",\"orientation\":\"v\",\"showlegend\":true,\"textposition\":\"auto\",\"x\":[\"malaga\",\"madrid\",\"sevilla\",\"barcelona\",\"girona\",\"valencia\",\"mallorca\",\"menorca\"],\"xaxis\":\"x\",\"y\":[119.89670972891146,158.94591365049254,161.14281151528996,198.7401008764902,181.17395166710588,134.96635413916775,161.18119637199592,238.25235611049376],\"yaxis\":\"y\",\"type\":\"bar\"},{\"alignmentgroup\":\"True\",\"hovertemplate\":\"Variable=review_scores_rating\\u003cbr\\u003ecity=%{x}\\u003cbr\\u003eImpacte=%{y}\\u003cextra\\u003e\\u003c\\u002fextra\\u003e\",\"legendgroup\":\"review_scores_rating\",\"marker\":{\"color\":\"#4C9A2A\",\"pattern\":{\"shape\":\"\"}},\"name\":\"review_scores_rating\",\"offsetgroup\":\"review_scores_rating\",\"orientation\":\"v\",\"showlegend\":true,\"textposition\":\"auto\",\"x\":[\"malaga\",\"madrid\",\"sevilla\",\"barcelona\",\"girona\",\"valencia\",\"mallorca\",\"menorca\"],\"xaxis\":\"x\",\"y\":[9.495327980356224,4.696412691633252,2.8193468141252143,1.7280078099724026,6.1108208231597025,8.26226320675604,7.115337131890277,4.634616777580401],\"yaxis\":\"y\",\"type\":\"bar\"}],                        {\"template\":{\"data\":{\"histogram2dcontour\":[{\"type\":\"histogram2dcontour\",\"colorbar\":{\"outlinewidth\":0,\"ticks\":\"\"},\"colorscale\":[[0.0,\"#0d0887\"],[0.1111111111111111,\"#46039f\"],[0.2222222222222222,\"#7201a8\"],[0.3333333333333333,\"#9c179e\"],[0.4444444444444444,\"#bd3786\"],[0.5555555555555556,\"#d8576b\"],[0.6666666666666666,\"#ed7953\"],[0.7777777777777778,\"#fb9f3a\"],[0.8888888888888888,\"#fdca26\"],[1.0,\"#f0f921\"]]}],\"choropleth\":[{\"type\":\"choropleth\",\"colorbar\":{\"outlinewidth\":0,\"ticks\":\"\"}}],\"histogram2d\":[{\"type\":\"histogram2d\",\"colorbar\":{\"outlinewidth\":0,\"ticks\":\"\"},\"colorscale\":[[0.0,\"#0d0887\"],[0.1111111111111111,\"#46039f\"],[0.2222222222222222,\"#7201a8\"],[0.3333333333333333,\"#9c179e\"],[0.4444444444444444,\"#bd3786\"],[0.5555555555555556,\"#d8576b\"],[0.6666666666666666,\"#ed7953\"],[0.7777777777777778,\"#fb9f3a\"],[0.8888888888888888,\"#fdca26\"],[1.0,\"#f0f921\"]]}],\"heatmap\":[{\"type\":\"heatmap\",\"colorbar\":{\"outlinewidth\":0,\"ticks\":\"\"},\"colorscale\":[[0.0,\"#0d0887\"],[0.1111111111111111,\"#46039f\"],[0.2222222222222222,\"#7201a8\"],[0.3333333333333333,\"#9c179e\"],[0.4444444444444444,\"#bd3786\"],[0.5555555555555556,\"#d8576b\"],[0.6666666666666666,\"#ed7953\"],[0.7777777777777778,\"#fb9f3a\"],[0.8888888888888888,\"#fdca26\"],[1.0,\"#f0f921\"]]}],\"heatmapgl\":[{\"type\":\"heatmapgl\",\"colorbar\":{\"outlinewidth\":0,\"ticks\":\"\"},\"colorscale\":[[0.0,\"#0d0887\"],[0.1111111111111111,\"#46039f\"],[0.2222222222222222,\"#7201a8\"],[0.3333333333333333,\"#9c179e\"],[0.4444444444444444,\"#bd3786\"],[0.5555555555555556,\"#d8576b\"],[0.6666666666666666,\"#ed7953\"],[0.7777777777777778,\"#fb9f3a\"],[0.8888888888888888,\"#fdca26\"],[1.0,\"#f0f921\"]]}],\"contourcarpet\":[{\"type\":\"contourcarpet\",\"colorbar\":{\"outlinewidth\":0,\"ticks\":\"\"}}],\"contour\":[{\"type\":\"contour\",\"colorbar\":{\"outlinewidth\":0,\"ticks\":\"\"},\"colorscale\":[[0.0,\"#0d0887\"],[0.1111111111111111,\"#46039f\"],[0.2222222222222222,\"#7201a8\"],[0.3333333333333333,\"#9c179e\"],[0.4444444444444444,\"#bd3786\"],[0.5555555555555556,\"#d8576b\"],[0.6666666666666666,\"#ed7953\"],[0.7777777777777778,\"#fb9f3a\"],[0.8888888888888888,\"#fdca26\"],[1.0,\"#f0f921\"]]}],\"surface\":[{\"type\":\"surface\",\"colorbar\":{\"outlinewidth\":0,\"ticks\":\"\"},\"colorscale\":[[0.0,\"#0d0887\"],[0.1111111111111111,\"#46039f\"],[0.2222222222222222,\"#7201a8\"],[0.3333333333333333,\"#9c179e\"],[0.4444444444444444,\"#bd3786\"],[0.5555555555555556,\"#d8576b\"],[0.6666666666666666,\"#ed7953\"],[0.7777777777777778,\"#fb9f3a\"],[0.8888888888888888,\"#fdca26\"],[1.0,\"#f0f921\"]]}],\"mesh3d\":[{\"type\":\"mesh3d\",\"colorbar\":{\"outlinewidth\":0,\"ticks\":\"\"}}],\"scatter\":[{\"fillpattern\":{\"fillmode\":\"overlay\",\"size\":10,\"solidity\":0.2},\"type\":\"scatter\"}],\"parcoords\":[{\"type\":\"parcoords\",\"line\":{\"colorbar\":{\"outlinewidth\":0,\"ticks\":\"\"}}}],\"scatterpolargl\":[{\"type\":\"scatterpolargl\",\"marker\":{\"colorbar\":{\"outlinewidth\":0,\"ticks\":\"\"}}}],\"bar\":[{\"error_x\":{\"color\":\"#2a3f5f\"},\"error_y\":{\"color\":\"#2a3f5f\"},\"marker\":{\"line\":{\"color\":\"#E5ECF6\",\"width\":0.5},\"pattern\":{\"fillmode\":\"overlay\",\"size\":10,\"solidity\":0.2}},\"type\":\"bar\"}],\"scattergeo\":[{\"type\":\"scattergeo\",\"marker\":{\"colorbar\":{\"outlinewidth\":0,\"ticks\":\"\"}}}],\"scatterpolar\":[{\"type\":\"scatterpolar\",\"marker\":{\"colorbar\":{\"outlinewidth\":0,\"ticks\":\"\"}}}],\"histogram\":[{\"marker\":{\"pattern\":{\"fillmode\":\"overlay\",\"size\":10,\"solidity\":0.2}},\"type\":\"histogram\"}],\"scattergl\":[{\"type\":\"scattergl\",\"marker\":{\"colorbar\":{\"outlinewidth\":0,\"ticks\":\"\"}}}],\"scatter3d\":[{\"type\":\"scatter3d\",\"line\":{\"colorbar\":{\"outlinewidth\":0,\"ticks\":\"\"}},\"marker\":{\"colorbar\":{\"outlinewidth\":0,\"ticks\":\"\"}}}],\"scattermapbox\":[{\"type\":\"scattermapbox\",\"marker\":{\"colorbar\":{\"outlinewidth\":0,\"ticks\":\"\"}}}],\"scatterternary\":[{\"type\":\"scatterternary\",\"marker\":{\"colorbar\":{\"outlinewidth\":0,\"ticks\":\"\"}}}],\"scattercarpet\":[{\"type\":\"scattercarpet\",\"marker\":{\"colorbar\":{\"outlinewidth\":0,\"ticks\":\"\"}}}],\"carpet\":[{\"aaxis\":{\"endlinecolor\":\"#2a3f5f\",\"gridcolor\":\"white\",\"linecolor\":\"white\",\"minorgridcolor\":\"white\",\"startlinecolor\":\"#2a3f5f\"},\"baxis\":{\"endlinecolor\":\"#2a3f5f\",\"gridcolor\":\"white\",\"linecolor\":\"white\",\"minorgridcolor\":\"white\",\"startlinecolor\":\"#2a3f5f\"},\"type\":\"carpet\"}],\"table\":[{\"cells\":{\"fill\":{\"color\":\"#EBF0F8\"},\"line\":{\"color\":\"white\"}},\"header\":{\"fill\":{\"color\":\"#C8D4E3\"},\"line\":{\"color\":\"white\"}},\"type\":\"table\"}],\"barpolar\":[{\"marker\":{\"line\":{\"color\":\"#E5ECF6\",\"width\":0.5},\"pattern\":{\"fillmode\":\"overlay\",\"size\":10,\"solidity\":0.2}},\"type\":\"barpolar\"}],\"pie\":[{\"automargin\":true,\"type\":\"pie\"}]},\"layout\":{\"autotypenumbers\":\"strict\",\"colorway\":[\"#636efa\",\"#EF553B\",\"#00cc96\",\"#ab63fa\",\"#FFA15A\",\"#19d3f3\",\"#FF6692\",\"#B6E880\",\"#FF97FF\",\"#FECB52\"],\"font\":{\"color\":\"#2a3f5f\"},\"hovermode\":\"closest\",\"hoverlabel\":{\"align\":\"left\"},\"paper_bgcolor\":\"white\",\"plot_bgcolor\":\"#E5ECF6\",\"polar\":{\"bgcolor\":\"#E5ECF6\",\"angularaxis\":{\"gridcolor\":\"white\",\"linecolor\":\"white\",\"ticks\":\"\"},\"radialaxis\":{\"gridcolor\":\"white\",\"linecolor\":\"white\",\"ticks\":\"\"}},\"ternary\":{\"bgcolor\":\"#E5ECF6\",\"aaxis\":{\"gridcolor\":\"white\",\"linecolor\":\"white\",\"ticks\":\"\"},\"baxis\":{\"gridcolor\":\"white\",\"linecolor\":\"white\",\"ticks\":\"\"},\"caxis\":{\"gridcolor\":\"white\",\"linecolor\":\"white\",\"ticks\":\"\"}},\"coloraxis\":{\"colorbar\":{\"outlinewidth\":0,\"ticks\":\"\"}},\"colorscale\":{\"sequential\":[[0.0,\"#0d0887\"],[0.1111111111111111,\"#46039f\"],[0.2222222222222222,\"#7201a8\"],[0.3333333333333333,\"#9c179e\"],[0.4444444444444444,\"#bd3786\"],[0.5555555555555556,\"#d8576b\"],[0.6666666666666666,\"#ed7953\"],[0.7777777777777778,\"#fb9f3a\"],[0.8888888888888888,\"#fdca26\"],[1.0,\"#f0f921\"]],\"sequentialminus\":[[0.0,\"#0d0887\"],[0.1111111111111111,\"#46039f\"],[0.2222222222222222,\"#7201a8\"],[0.3333333333333333,\"#9c179e\"],[0.4444444444444444,\"#bd3786\"],[0.5555555555555556,\"#d8576b\"],[0.6666666666666666,\"#ed7953\"],[0.7777777777777778,\"#fb9f3a\"],[0.8888888888888888,\"#fdca26\"],[1.0,\"#f0f921\"]],\"diverging\":[[0,\"#8e0152\"],[0.1,\"#c51b7d\"],[0.2,\"#de77ae\"],[0.3,\"#f1b6da\"],[0.4,\"#fde0ef\"],[0.5,\"#f7f7f7\"],[0.6,\"#e6f5d0\"],[0.7,\"#b8e186\"],[0.8,\"#7fbc41\"],[0.9,\"#4d9221\"],[1,\"#276419\"]]},\"xaxis\":{\"gridcolor\":\"white\",\"linecolor\":\"white\",\"ticks\":\"\",\"title\":{\"standoff\":15},\"zerolinecolor\":\"white\",\"automargin\":true,\"zerolinewidth\":2},\"yaxis\":{\"gridcolor\":\"white\",\"linecolor\":\"white\",\"ticks\":\"\",\"title\":{\"standoff\":15},\"zerolinecolor\":\"white\",\"automargin\":true,\"zerolinewidth\":2},\"scene\":{\"xaxis\":{\"backgroundcolor\":\"#E5ECF6\",\"gridcolor\":\"white\",\"linecolor\":\"white\",\"showbackground\":true,\"ticks\":\"\",\"zerolinecolor\":\"white\",\"gridwidth\":2},\"yaxis\":{\"backgroundcolor\":\"#E5ECF6\",\"gridcolor\":\"white\",\"linecolor\":\"white\",\"showbackground\":true,\"ticks\":\"\",\"zerolinecolor\":\"white\",\"gridwidth\":2},\"zaxis\":{\"backgroundcolor\":\"#E5ECF6\",\"gridcolor\":\"white\",\"linecolor\":\"white\",\"showbackground\":true,\"ticks\":\"\",\"zerolinecolor\":\"white\",\"gridwidth\":2}},\"shapedefaults\":{\"line\":{\"color\":\"#2a3f5f\"}},\"annotationdefaults\":{\"arrowcolor\":\"#2a3f5f\",\"arrowhead\":0,\"arrowwidth\":1},\"geo\":{\"bgcolor\":\"white\",\"landcolor\":\"#E5ECF6\",\"subunitcolor\":\"white\",\"showland\":true,\"showlakes\":true,\"lakecolor\":\"white\"},\"title\":{\"x\":0.05},\"mapbox\":{\"style\":\"light\"}}},\"xaxis\":{\"anchor\":\"y\",\"domain\":[0.0,1.0],\"title\":{\"text\":\"Ciudad\"}},\"yaxis\":{\"anchor\":\"x\",\"domain\":[0.0,1.0],\"title\":{\"text\":\"Impacto en el precio (coeficiente, \\u20ac)\"}},\"legend\":{\"title\":{\"text\":\"Variable\"},\"tracegroupgap\":0},\"margin\":{\"t\":60},\"barmode\":\"group\",\"plot_bgcolor\":\"#D8F3DC\",\"paper_bgcolor\":\"#D8F3DC\",\"shapes\":[{\"line\":{\"color\":\"grey\",\"dash\":\"dash\"},\"type\":\"line\",\"x0\":-0.5,\"x1\":2.5,\"y0\":0,\"y1\":0}]},                        {\"responsive\": true}                    ).then(function(){\n",
       "                            \n",
       "var gd = document.getElementById('f835e614-2a28-4cba-bc49-09f6fe2075e9');\n",
       "var x = new MutationObserver(function (mutations, observer) {{\n",
       "        var display = window.getComputedStyle(gd).display;\n",
       "        if (!display || display === 'none') {{\n",
       "            console.log([gd, 'removed!']);\n",
       "            Plotly.purge(gd);\n",
       "            observer.disconnect();\n",
       "        }}\n",
       "}});\n",
       "\n",
       "// Listen for the removal of the full notebook cells\n",
       "var notebookContainer = gd.closest('#notebook-container');\n",
       "if (notebookContainer) {{\n",
       "    x.observe(notebookContainer, {childList: true});\n",
       "}}\n",
       "\n",
       "// Listen for the clearing of the current output cell\n",
       "var outputEl = gd.closest('.output');\n",
       "if (outputEl) {{\n",
       "    x.observe(outputEl, {childList: true});\n",
       "}}\n",
       "\n",
       "                        })                };                });            </script>        </div>"
      ]
     },
     "metadata": {},
     "output_type": "display_data"
    }
   ],
   "source": [
    "# Formato por Plotly\n",
    "coef_long = coef_df.melt(id_vars='city', var_name='Variable', value_name='Impacte')\n",
    "\n",
    "colors = {\n",
    "    'comoditats': '#2D6A4F', 'accommodates': '#8BAE3F', 'review_scores_rating': '#4C9A2A'}\n",
    "\n",
    "# Grafico de barras agrupadas\n",
    "fig = px.bar(coef_long, x='city', y='Impacte', color='Variable', color_discrete_map=colors, barmode='group')\n",
    "\n",
    "# Colores del fondo\n",
    "fig.update_layout(\n",
    "    plot_bgcolor='#D8F3DC',\n",
    "    paper_bgcolor='#D8F3DC',\n",
    "    yaxis_title='Impacto en el precio (coeficiente, €)',\n",
    "    xaxis_title='Ciudad',\n",
    "    legend_title_text='Variable'\n",
    ")\n",
    "\n",
    "# Linea horitzontal a y=0\n",
    "fig.add_shape(\n",
    "    type='line',\n",
    "    x0=-0.5, x1=2.5, y0=0, y1=0,\n",
    "    line=dict(color='grey', dash='dash'))\n",
    "\n",
    "fig.show()"
   ]
  },
  {
   "cell_type": "code",
   "execution_count": null,
   "id": "069e2c89-2b61-47b9-9fce-c3fc39524154",
   "metadata": {},
   "outputs": [],
   "source": []
  },
  {
   "cell_type": "code",
   "execution_count": null,
   "id": "475c6959-e6d3-4455-bc95-decadc737cbc",
   "metadata": {},
   "outputs": [],
   "source": []
  },
  {
   "cell_type": "code",
   "execution_count": null,
   "id": "824cf289-7bd2-4c0e-b581-3a58d020a3fc",
   "metadata": {},
   "outputs": [],
   "source": []
  }
 ],
 "metadata": {
  "kernelspec": {
   "display_name": "Python 3 (ipykernel)",
   "language": "python",
   "name": "python3"
  },
  "language_info": {
   "codemirror_mode": {
    "name": "ipython",
    "version": 3
   },
   "file_extension": ".py",
   "mimetype": "text/x-python",
   "name": "python",
   "nbconvert_exporter": "python",
   "pygments_lexer": "ipython3",
   "version": "3.12.7"
  }
 },
 "nbformat": 4,
 "nbformat_minor": 5
}
