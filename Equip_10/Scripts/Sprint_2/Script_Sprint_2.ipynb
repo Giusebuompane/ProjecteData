{
 "cells": [
  {
   "cell_type": "markdown",
   "id": "8a8e54a2",
   "metadata": {},
   "source": [
    "Importamos CSV"
   ]
  },
  {
   "cell_type": "code",
   "execution_count": 15,
   "id": "7c0d33ea",
   "metadata": {},
   "outputs": [
    {
     "data": {
      "application/vnd.microsoft.datawrangler.viewer.v0+json": {
       "columns": [
        {
         "name": "index",
         "rawType": "int64",
         "type": "integer"
        },
        {
         "name": "apartment_id",
         "rawType": "int64",
         "type": "integer"
        },
        {
         "name": "name",
         "rawType": "object",
         "type": "unknown"
        },
        {
         "name": "description",
         "rawType": "object",
         "type": "unknown"
        },
        {
         "name": "host_id",
         "rawType": "int64",
         "type": "integer"
        },
        {
         "name": "neighbourhood_name",
         "rawType": "object",
         "type": "string"
        },
        {
         "name": "neighbourhood_district",
         "rawType": "object",
         "type": "unknown"
        },
        {
         "name": "room_type",
         "rawType": "object",
         "type": "string"
        },
        {
         "name": "accommodates",
         "rawType": "int64",
         "type": "integer"
        },
        {
         "name": "bathrooms",
         "rawType": "float64",
         "type": "float"
        },
        {
         "name": "bedrooms",
         "rawType": "float64",
         "type": "float"
        },
        {
         "name": "beds",
         "rawType": "float64",
         "type": "float"
        },
        {
         "name": "amenities_list",
         "rawType": "object",
         "type": "unknown"
        },
        {
         "name": "price",
         "rawType": "float64",
         "type": "float"
        },
        {
         "name": "minimum_nights",
         "rawType": "int64",
         "type": "integer"
        },
        {
         "name": "maximum_nights",
         "rawType": "int64",
         "type": "integer"
        },
        {
         "name": "has_availability",
         "rawType": "bool",
         "type": "boolean"
        },
        {
         "name": "availability_30",
         "rawType": "int64",
         "type": "integer"
        },
        {
         "name": "availability_60",
         "rawType": "int64",
         "type": "integer"
        },
        {
         "name": "availability_90",
         "rawType": "int64",
         "type": "integer"
        },
        {
         "name": "availability_365",
         "rawType": "int64",
         "type": "integer"
        },
        {
         "name": "number_of_reviews",
         "rawType": "int64",
         "type": "integer"
        },
        {
         "name": "first_review_date",
         "rawType": "object",
         "type": "unknown"
        },
        {
         "name": "last_review_date",
         "rawType": "object",
         "type": "unknown"
        },
        {
         "name": "review_scores_rating",
         "rawType": "float64",
         "type": "float"
        },
        {
         "name": "review_scores_accuracy",
         "rawType": "float64",
         "type": "float"
        },
        {
         "name": "review_scores_cleanliness",
         "rawType": "float64",
         "type": "float"
        },
        {
         "name": "review_scores_checkin",
         "rawType": "float64",
         "type": "float"
        },
        {
         "name": "review_scores_communication",
         "rawType": "float64",
         "type": "float"
        },
        {
         "name": "review_scores_location",
         "rawType": "float64",
         "type": "float"
        },
        {
         "name": "review_scores_value",
         "rawType": "float64",
         "type": "float"
        },
        {
         "name": "is_instant_bookable",
         "rawType": "object",
         "type": "string"
        },
        {
         "name": "reviews_per_month",
         "rawType": "float64",
         "type": "float"
        },
        {
         "name": "country",
         "rawType": "object",
         "type": "string"
        },
        {
         "name": "city",
         "rawType": "object",
         "type": "string"
        },
        {
         "name": "insert_date",
         "rawType": "object",
         "type": "string"
        }
       ],
       "conversionMethod": "pd.DataFrame",
<<<<<<< HEAD
       "ref": "211b0a35-308d-4801-a628-88fbadc7f218",
=======
       "ref": "228c5a1b-7c59-40fc-a007-dce89bc4440a",
>>>>>>> e1fd16416781c6ee8327d19129a5f90bc9ef28a0
       "rows": [
        [
         "0",
         "11964",
         "A ROOM WITH A VIEW",
         "Private bedroom in our attic apartment. Right in the heart of the pedestrian downtown area. Outstanding views from our large terrace and modern, fully renovated interior. Double bed in a fully renovated downtown attic. We live in a 1881 building in the heart of town. One minute away from the Picasso museum, Calle Larios and the cathedral. It is a 100 square meter apartment and a 45 square meter terrace with outstanding views of the cathedral and the whole downtown area and churches, plus an outdoor barbecue. The apartment underwent an 8 month renovation and is in pristine condition, with Italian appliances and light fixtures, Murano glass tiles and marble floors.  The building has an elevator up to the 4ht floor and we live on the 5th. All of downtown M�laga is pedestrian, so you will be guaranteed no traffic noise and pleasant walks. There are hundreds of restaurants and shops in the neighborhood as well; impossible to run out of things to do. Common areas As often as our guests want ",
         "45553",
         "Centro",
         null,
         "Private room",
         "2",
         "2.0",
         "1.0",
         "1.0",
         "TV,Internet,Wifi,Air conditioning,Elevator,Buzzer/wireless intercom,Heating,Washer,Smoke detector,Carbon monoxide detector,Essentials,Shampoo,24-hour check-in,Hangers,Hair dryer,Iron,Laptop friendly workspace,translation missing: en.hosting_amenity_49,translation missing: en.hosting_amenity_50",
         "400.0",
         "3",
         "365",
         "True",
         "7",
         "20",
         "40",
         "130",
         "78",
         "2010-01-02",
         "2017-09-05",
         "97.0",
         "100.0",
         "100.0",
         "100.0",
         "100.0",
         "100.0",
         "100.0",
         "FALSO",
         "75.0",
         "spain",
         "malaga",
         "2018-07-31"
        ],
        [
         "1",
         "21853",
         "Bright and airy room",
         "We have a quiet and sunny room with a good view in our 3 bedroom flat. In a welcoming atmosphere, our clean and respectful flatshare is located in a leafy neighbourhood with all facilities: shops, library, caf�s and bars, a swimming pools, gyms, and fantastic parks. Well connected by metro and bus with the centre: 15 minutes. For walks, we are also a 20 min stroll away from the riverside. I am living in a nice flat near the centre of Madrid (15 minutes by bus). We are relaxed, clean, and independent. The flat is located in a leafy neighbourhood with plenty of facilities: little shops, supermarkets, public library, swimming pools (covered and summer ones), tennis courts and free parking outside the flat. It is well connected by public transport (various bus and metro lines). The room is sunny and well presented. There are two bathrooms, one of which you would share with a guest. It has triple glazing and we provide fresh bedlinen and towels, so that packing is lighter for our guests. We",
         "83531",
         "C�rmenes",
         "Latina",
         "Private room",
         "1",
         "1.0",
         "1.0",
         "1.0",
         "TV,Internet,Wifi,Air conditioning,Kitchen,Free parking on premises,Doorman,Elevator,Heating,Washer,First aid kit,Fire extinguisher,Essentials,Shampoo,Lock on bedroom door,Hangers,Hair dryer,Iron,Laptop friendly workspace,translation missing: en.hosting_amenity_49,translation missing: en.hosting_amenity_50,Hot water,Bed linens,Extra pillows and blankets,Pocket wifi,Microwave,Coffee maker,Refrigerator,Dishes and silverware,Cooking basics,Oven",
         "170.0",
         "4",
         "40",
         "True",
         "0",
         "0",
         "0",
         "162",
         "33",
         "2014-10-10",
         "2018-07-15",
         "92.0",
         "90.0",
         "90.0",
         "100.0",
         "100.0",
         "80.0",
         "90.0",
         "FALSO",
         "52.0",
         "spain",
         "madrid",
         "2020-01-10"
        ],
        [
         "2",
         "32347",
         "Explore Cultural Sights from a Family-Friendly Apartment",
         "Open French doors and step onto a plant-filled terrace that feels like an oasis of calm in the center of the city. White-on-white decor, an ultramodern kitchen, and splashes of color create a fun and relaxing atmosphere for adults and kids alike.",
         "139939",
         "San Vicente",
         "Casco Antiguo",
         "Entire home/apt",
         "4",
         "1.0",
         "2.0",
         "2.0",
         "TV,Internet,Wifi,Air conditioning,Wheelchair accessible,Kitchen,Elevator,Buzzer/wireless intercom,Heating,Washer,Dryer,Smoke detector,Carbon monoxide detector,First aid kit,Fire extinguisher,Essentials,Shampoo,24-hour check-in,Hangers,Hair dryer,Iron,Laptop friendly workspace,Crib,Pack �n Play/travel crib,Body soap,Bath towel,Toilet paper,Bed linens,Extra pillows and blankets,Coffee maker,Host greets you,Full kitchen,Bedroom comforts,Bathroom essentials",
         "990.0",
         "2",
         "120",
         "True",
         "26",
         "31",
         "31",
         "270",
         "148",
         "2011-01-05",
         "2019-07-22",
         "98.0",
         "100.0",
         "100.0",
         "100.0",
         "100.0",
         "100.0",
         "100.0",
         "VERDADERO",
         "142.0",
         "spain",
         "sevilla",
         "2019-07-29"
        ],
        [
         "3",
         "35379",
         "Double 02 CasanovaRooms Barcelona",
         "Room at a my apartment. Kitchen and 2 bathrooms to share. Free self service breakfast. Free wifi,  TV, towels, bed linen, Ceiling fan, desk and balcony to the back of the building. I also have at guests disposal vanity kits and hairdryers. Washing machine, iron and printer on request. My apartment is located in the Eixample quarter close to the commercial area and the centre of town. I provide private rooms: one single room and two double rooms with self-service breakfast. You can also use the kitchen to cook quick meals. I also provide free wifi connection.  All rooms are equipped with a tv set, clean bed linen, fresh towels, heating and a ceiling fan.  I am on to the blue line (L5) and the underground station is �Hospital Cl�nic�. Make sure you take the exit marked as �Sortida Villarroel/Cl�nic�. From there on, you only need to walk 1 minute to �Carrer Casanova�. Though located centrally, we're on a residential and not touristic neighborhood. Metro stop Hospital Clinic line 5 (blue",
         "152232",
         "l'Antiga Esquerra de l'Eixample",
         "Eixample",
         "Private room",
         "2",
         "2.0",
         "1.0",
         "1.0",
         "TV,Internet,Wifi,Kitchen,Breakfast,Elevator,Buzzer/wireless intercom,Heating,Washer,Essentials,Lock on bedroom door,Hangers,Hair dryer,Iron,translation missing: en.hosting_amenity_49,translation missing: en.hosting_amenity_50,Hot water,Microwave,Coffee maker,Refrigerator,Dishes and silverware,Cooking basics,Stove,Patio or balcony,Host greets you,Paid parking on premises,Shower gel",
         "400.0",
         "2",
         "730",
         "True",
         "9",
         "23",
         "49",
         "300",
         "292",
         "2012-03-13",
         "2020-01-04",
         "94.0",
         "100.0",
         "90.0",
         "100.0",
         "100.0",
         "100.0",
         "90.0",
         "VERDADERO",
         "306.0",
         "spain",
         "barcelona",
         "2020-01-10"
        ],
        [
         "4",
         "35801",
         "Can Torras Farmhouse Studio Suite",
         "Lay in bed & watch sunlight change the mood of distant valley hills! This suite of rooms includes a double bedroom, twin bed room (& space for a third), private bathroom & entrance, living & dining area plus a delicious, home-made breakfast. There's a jacuzzi, plunge pool, pergola & organic gardens to explore. The ancient city of Girona is only 20 mins away. Great for romantic breaks & families with older children. English spoken. Proud to be fully registered with the Catalan Tourist Board. Can Torras is a recently renovated, ecolodge in the national park of Gavarres, on a hill top behind the ancient city of Girona. This suite has all the charm of an old farmhouse, but the services & environmental improvements of modern living.  A fantastic breakfast is included in your stay, plus the freedom to wander in our organic garden, relax in a hammock under the pergola, plunge in the pool or bask in our hot spa, as you enjoy magnificent views down the valley.   The Studio Suite includes a doub",
         "153805",
         "Quart",
         null,
         "Private room",
         "5",
         "1.0",
         "2.0",
         "5.0",
         "Wifi,Pool,Free parking on premises,Breakfast,Pets live on this property,Dog(s),Cat(s),Other pet(s),Hot tub,Indoor fireplace,Heating,Family/kid friendly,Washer,Dryer,Smoke detector,Carbon monoxide detector,Essentials,Shampoo,24-hour check-in,Hangers,Hair dryer,Iron,Laptop friendly workspace,translation missing: en.hosting_amenity_50,Bathtub,Baby bath,High chair,Children�s books and toys,Crib,Children�s dinnerware,Hot water,Bed linens,Extra pillows and blankets,Coffee maker,Refrigerator,Dishes and silverware,Garden or backyard,Luggage dropoff allowed,Long term stays allowed,Wide hallway clearance,Wide doorway,Well-lit path to entrance,Host greets you",
         "900.0",
         "1",
         "180",
         "True",
         "0",
         "19",
         "49",
         "312",
         "36",
         "2011-07-08",
         "2018-08-08",
         "97.0",
         "100.0",
         "100.0",
         "100.0",
         "100.0",
         "100.0",
         "100.0",
         "FALSO",
         "39.0",
         "spain",
         "girona",
         "2019-02-19"
        ],
        [
         "5",
         "48764",
         "18th C Stone House near Costa Brava",
         "Casa Fluvia is a charming stone village house in a Catalan village on the Costa Brava just 5 km from the sea. A perfect base for enjoying culture, cuisine, history, nature, and sports as well as the sea. Spacious house suitable for up to 8 people.  If your stay is less than one week, please request a price for the period you are interested in.  It is very difficult to cover all eventualities and different lengths of stay using the automatic system. Tourist Registration Ref: HUTG  000207 CASA FLUVI� IS A 18TH CENTURY STONE VILLAGE HOUSE WITH 3 DOUBLE BEDROOMS AND 1 TWIN BEDROOM.  - rooftop terrace and solarium  - first floor living area 30s Catalan style - ground floor living area typical of 18th century stone farmhouse The house is within 5 km of some of the best Costa Brava beaches, set in a quiet Mediterranean village in the Empord� with views of the Pyrenees, surrounding fields and neighbours working and paying their daily social visits.  This fully renovated house features vaulted",
         "220145",
         "Torroella de Fluvi�",
         null,
         "Entire home/apt",
         "8",
         "2.0",
         "4.0",
         "5.0",
         "TV,Internet,Wifi,Kitchen,Free street parking,Heating,Family/kid friendly,Washer,Smoke detector,First aid kit,Safety card,Fire extinguisher,Essentials,Shampoo,Hangers,Hair dryer,Iron,Laptop friendly workspace,Private entrance,Crib,Hot water,Host greets you",
         "900.0",
         "5",
         "95",
         "True",
         "0",
         "0",
         "0",
         "235",
         "25",
         "2011-06-04",
         "2018-08-25",
         "96.0",
         "100.0",
         "100.0",
         "100.0",
         "100.0",
         "90.0",
         "100.0",
         "FALSO",
         "27.0",
         "spain",
         "girona",
         "2019-02-19"
        ],
        [
         "6",
         "58512",
         "Stylish & cozy 3BR near Sagrada Familia",
         "Welcome to my home!<br /><br />My lovely 3 bedroom apartment is located in a traditional Catalan neighborhood close to Hospital Sant Pau (10 min walk) and the iconic Sagrada Familia (20 min walk). Enjoy exploring Barcelona with ease - two nearest metro stations:  Camp de l�Arpa (4 min by walk) and Clot (6 min by walk). Very safe area, quiet at night and family-friendly.<br />Gorgeous wooden floors, open ceilings, a modern and stylish decor and a beautifully integrated American kitchen add to the flat�s charm.<br /><br /><b>The space</b><br />My 3 bedroom apartment is spacious, with beautifully quirky decor and a relaxed feel. It�s the ideal place to come back to after a day of exploring. Great transport links and at a walking distance from Sagrada Familia mean you�ll be right in the hub of the city but able to escape the hustle and bustle! <br /><br />The living area is very cozy with a large, comfy sofa-bed and a flat-screen TV with HBO included, so please sit back and make yourself a",
         "280070",
         "el Camp de l'Arpa del Clot",
         "Sant Mart�",
         "Entire home/apt",
         "6",
         "2.0",
         "3.0",
         "4.0",
         "Shampoo, Washer, Wifi, Oven, Cooking basics, Hair dryer, TV, Heating, Extra pillows and blankets, First aid kit, Smoke alarm, Hangers, Essentials, Air conditioning, Bed linens, Stove, Carbon monoxide alarm, Microwave, Paid parking off premises, Host greets you, Hot water, Bathtub, Kitchen, Iron, Long term stays allowed, Refrigerator, Fire extinguisher, Coffee maker, Laptop-friendly workspace, Dishes and silverware]",
         "950.0",
         "5",
         "90",
         "True",
         "30",
         "60",
         "90",
         "331",
         "382",
         "2011-04-08",
         "2020-03-02",
         "89.0",
         "90.0",
         "90.0",
         "90.0",
         "90.0",
         "90.0",
         "90.0",
         "VERDADERO",
         "329.0",
         "spain",
         "barcelona",
         "2020-10-12"
        ],
        [
         "7",
         "71603",
         "PENTHOUSE1 BEST PRICE 15/21.07 PROMO LAST MINUTE!",
         "The apartment you are about to book has everything you need for a top quality stay.  We have more than 6 years providing people around the world the perfect home away from home, so relax and enjoy, you are on the perfect hands now...  HUTB-003878 Old world style meets modern convenience in a newly renovated penthouse for rent in the heart of Barcelona�s city center. Whether searching for a romantic get-away or family holidays, our Ausias Marc apartment guarantees a comfortable and luxury stay.The apartment has been completely renovated and modernized to achieve the quality and high standard necessary to make this a luxury apartment for our visitor to Barcelona.You can see this from the moment you step into the tastefully, styled fireplace, as well as the perfectly preserved facade of the 18th Century Palace where this apartment is located. The apartment is located in a building catalogued as an historical an esthetical emblem of Barcelona. The location cannot be better, the neighborhoo",
         "366654",
         "la Dreta de l'Eixample",
         "Eixample",
         "Entire home/apt",
         "3",
         "2.0",
         "1.0",
         "4.0",
         "TV,Cable TV,Internet,Wireless Internet,Air conditioning,Kitchen,Smoking allowed,Pets allowed,Doorman,Gym,Elevator,Hot tub,Indoor fireplace,Heating,Family/kid friendly,Suitable for events,Washer,Dryer",
         "3900.0",
         "3",
         "5",
         "True",
         "28",
         "55",
         "85",
         "360",
         "33",
         "2011-02-16",
         "2017-06-05",
         "94.0",
         "100.0",
         "100.0",
         "100.0",
         "90.0",
         "100.0",
         "90.0",
         "FALSO",
         "42.0",
         "spain",
         "barcelona",
         "2017-07-06"
        ],
        [
         "8",
         "72150",
         "Sunny attic duplex flat with terrace next to Sol",
         "The apartment is a quiet, secluded idyll in the heart of Madrid. It was renovated and redecorated in 2014. With 3 bedrooms distributed over 2 floors, it can host up to 9 people (1 double bed and 1 single bed per bedroom). You will enjoy the intimacy and quiet  of the rooftop terrace.<br /><br /><b>The space</b><br />The apartment is a quiet, secluded idyll in the heart of Madrid. It offers a breathtaking view of the city and the surrounding landscape from an intimate rooftop terrace. <br />The apartment is on the fourth floor of a historic building from the late 19th century. It has been completely renovated and redecorated in 2014.   <br />The main living space is a spacious, living / dining area, which is directly connected to a large terrace, through a large sliding glass door.<br />The total living area is 90 square meters, including upstairs, downstairs and a 20 square meters terrace. The first floor contains a living room, American-style open-plan kitchen, a bathroom, and a bedro",
         "364585",
         "Embajadores",
         "Centro",
         "Entire home/apt",
         "5",
         "2.0",
         "3.0",
         "6.0",
         "Shampoo, Luggage dropoff allowed, Paid parking on premises, Refrigerator, Coffee maker, Long term stays allowed, Dryer, Heating, Hot water, Patio or balcony, Washer, Oven, Stove, Air conditioning, Wifi, Essentials, Kitchen, Dishes and silverware, Smoke alarm, Iron, Cooking basics, Hangers, Carbon monoxide alarm, Laptop-friendly workspace, Hot tub, Hair dryer, Microwave, Building staff]",
         "790.0",
         "2",
         "1125",
         "True",
         "29",
         "59",
         "89",
         "179",
         "108",
         "2011-02-13",
         "2020-07-31",
         "91.0",
         "90.0",
         "90.0",
         "100.0",
         "100.0",
         "100.0",
         "90.0",
         "FALSO",
         "91.0",
         "spain",
         "madrid",
         "2020-11-06"
        ],
        [
         "9",
         "73683",
         "Sagrada Familia area for 12 people",
         "An ideal location for a big group, two apartments in the same building, one directly above the other.  Huge choice of stunning experiences can be included: Jet skis, Flyboard, Parasailing, Jet boat, Hoverboard, Sailing trips, Kayaks, Segways ... NOTE: Local city tax is NOT included in the price paid to Airbnb and must be paid upon arrival. Currently the city tax is �2.48 per person per night up to a maximum of 7 nights for guests over 16 years old. NOTE: If you want to see all my properties and boats please have a look at: https://www.airbnb.com/s?host_id=135703. The apartments are situated on the second and third floors, at the front, in a traditional 1930�s apartment block, which has recently been fully restored to a high standard. You can also add different stunning activities:  - Jet Ski rides, �100 for 30 minutes, or 180� for 60 minutes (no license required - up to 2 people). - Flyboard experience: �85 / 15 minutes (1 person), �160 / 30 minutes (up to 2 people), �300 / 60 min. (up",
         "135703",
         "el Camp d'en Grassot i Gr�cia Nova",
         "Gr�cia",
         "Entire home/apt",
         "12",
         "2.0",
         "4.0",
         "14.0",
         "TV,Cable TV,Internet,Wifi,Air conditioning,Kitchen,Paid parking off premises,Elevator,Buzzer/wireless intercom,Heating,Family/kid friendly,Washer,Smoke detector,Carbon monoxide detector,Fire extinguisher,Essentials,Shampoo,24-hour check-in,Hangers,Hair dryer,Iron,Laptop friendly workspace,Self check-in,Smart lock,High chair,Pack �n Play/travel crib,Hot water,Luggage dropoff allowed",
         "3000.0",
         "2",
         "60",
         "True",
         "8",
         "12",
         "23",
         "296",
         "120",
         "2011-06-04",
         "2018-05-20",
         "92.0",
         "90.0",
         "90.0",
         "100.0",
         "100.0",
         "90.0",
         "90.0",
         "VERDADERO",
         "14.0",
         "spain",
         "barcelona",
         "2018-06-09"
        ],
        [
         "10",
         "73692",
         "Rustic apartment : Rambla Catalunya (HUTB-005863)",
         "Located in the centre of Barcelona (near Plaza Catalunya and Passeig de Gracia), this wonderful 2 bedroom apartment is on the 4th floor of a charming building, on the famous road called Ramba de Catalunya. Ideal for groups of up to 5 people Located in the centre of Barcelona , this wonderful centrally heated apartment is on the 4th floor of a charming building (with elevator), removing it from the bustle of the street below. This beautifully decorated 2 bedroom apartment is a hit for groups of up to 5 people, and boasts a bright twin bedroom with large cupboard for storage, and a small interior single bedroom, with smaller storage space. Both bedrooms lead to the air-conditioned lounge, containing the comfortable double sofa bed, and the dining and TV areas. The main bedroom and lounge also have balconies, from which you can view the world below. The bathroom contains a shower cubicle, while the kitchen is fully equipped with all the conveniences you�d expect such as electric cooker, f",
         "297545",
         "la Dreta de l'Eixample",
         "Eixample",
         "Entire home/apt",
         "5",
         "1.0",
         "2.0",
         "3.0",
         "TV,Wireless Internet,Air conditioning,Kitchen,Elevator,Buzzer/wireless intercom,Heating,Family/kid friendly,Washer,Fire extinguisher,Essentials,Hangers,Hair dryer,Iron",
         "1050.0",
         "2",
         "90",
         "True",
         "9",
         "39",
         "63",
         "307",
         "29",
         "2012-08-01",
         "2017-08-03",
         "84.0",
         "90.0",
         "80.0",
         "100.0",
         "90.0",
         "100.0",
         "90.0",
         "VERDADERO",
         "46.0",
         "spain",
         "barcelona",
         "2017-10-07"
        ],
        [
         "11",
         "79755",
         "3Br-2bath-AC Full 5 stars reviews!",
         "90 m2 apartment, 2 baths, 3 bedrooms. Fully equipped kitchen, dishwasher, washing machine, etc. There is WiFi internet, TV, DVD, HiFi, air conditioning and programable heating. Lots of public transport within 1 minute distance and great location. Come visit Barcelona and stay where locals live. Enjoy my quiet, sunny and beautifully located apartment! I am right now living on it, with my wife and baby, but we will be out during the dates you have chosen (and will leave it perfectly ready for you). This means it is even better equipped, including baby stuff, but it has changed a bit from the pictures. Contact me previously if you have any questions. My place is a 90 m2 apartment (around 1000 sq. feet) with air conditioning, 2 double bedrooms (one with a king size bed and one with 2 individual beds) and an additional single bedroom, plus 2 full bathrooms. The living-room is large and bright. The kitchen is fully equipped, with everything necessary to cook, laundry machine and dishwasher.",
         "429939",
         "l'Antiga Esquerra de l'Eixample",
         "Eixample",
         "Entire home/apt",
         "5",
         "2.0",
         "3.0",
         "4.0",
         "TV,Internet,Wireless Internet,Air conditioning,Wheelchair accessible,Kitchen,Doorman,Elevator,Heating,Family/kid friendly,Washer,Smoke detector,Carbon monoxide detector,Fire extinguisher,Essentials,Shampoo,24-hour check-in,Hangers,Hair dryer,Iron,Laptop friendly workspace,Outlet covers,Bathtub,Baby bath,Changing table,High chair,Children�s books and toys,Crib,Pack �n Play/travel crib,Room-darkening shades,Children�s dinnerware,Game console,Hot water,Bed linens,Extra pillows and blankets,Ethernet connection,Microwave,Coffee maker,Refrigerator,Dishwasher,Dishes and silverware,Cooking basics,Oven,Stove",
         "1100.0",
         "3",
         "365",
         "True",
         "9",
         "10",
         "10",
         "10",
         "189",
         "2011-04-24",
         "2016-10-01",
         "98.0",
         "100.0",
         "100.0",
         "100.0",
         "100.0",
         "100.0",
         "100.0",
         "VERDADERO",
         "234.0",
         "spain",
         "barcelona",
         "2017-12-09"
        ],
        [
         "12",
         "89756",
         "Old town 1, 6minutesfrom Ramblas",
         "ONLY FOR FAMILIES or people over 25 years old! Old town Ramblas  1 apartment with 3 BEDROOM  Right in the city centre only 6/7 minutes from Las Ramblas, so walking distance to all the major attractions, Gothic quarter, beach, montjuic. 8 beds including sof� beds (2 double + 2 single + 4 sofabeds) it is forbidden to add more people than 9 we could ask you to leave the apartment if you break this rule. Thanks. ith tourist licence:  N�HUTB 003874 ONLY FOR FAMILIES ro people over 25 years old!    The Old Town 1 apartment Apartment with a total capacity up to  9 guests/groups of families. 3 BEDROOMS   Right in the city centre only 6/7 minutes from Las Ramblas, so walking distance to all the major attractions, Gothic quarter and the Port but in a nice quiet street so you can sleep at night. It has 3 double bedrooms;   with 8 beds including the sofa beds  :      1 bedroom   with 1 king size bed + 1 single sofa bed   (for 3 people) 1 bedroom with 2 single  beds for 2 people  (this bed can be j",
         "488117",
         "el Raval",
         "Ciutat Vella",
         "Entire home/apt",
         "9",
         "1.0",
         "3.0",
         "8.0",
         "TV,Wireless Internet,Air conditioning,Wheelchair accessible,Kitchen,Elevator in building,Buzzer/wireless intercom,Heating,Family/kid friendly,Washer,Smoke detector,Carbon monoxide detector,Fire extinguisher,Essentials,Hangers,Hair dryer,Iron",
         "2800.0",
         "6",
         "60",
         "True",
         "7",
         "23",
         "53",
         "328",
         "9",
         "2012-11-02",
         "2016-11-29",
         "89.0",
         "90.0",
         "90.0",
         "100.0",
         "100.0",
         "90.0",
         "80.0",
         "VERDADERO",
         "17.0",
         "spain",
         "barcelona",
         "2017-04-08"
        ],
        [
         "13",
         "89776",
         "Modernist flat Downtown Casa Estap� | Barcelona",
         "Unique and rare ! Stay in the Casa Estap�, jewel of catalan modernism.  In the city center of Barcelona, perfectly situated for metro and North Station, the 40m2 apartment is a protected monument, fully equipped, double bedroom and view to Passeig de Sant Joan. = > It can only be rented through Airbnb. Apartment of 40 m in beautiful modernist building called Casa Estap�, first house of the Modernist road.  It consists of a living room, overlooking the Passeig de Sant Joan and the Arc de Triomph, with an American kitchen and a sofa bed, a large bedroom with a 160x190 cm bed and a complete bathroom with an Italian shower.  Located in the city center, on Passeig de Sant Joan adjacent to the Arc de Triomphe, 5 minutes from the Parque de la Ciutadella and the Born and 10 minutes walk from Plaza Catalunya and the historic town (Ciutat Vella neighborhood and Gothic).  Perfectly connected by metro (stop on the same block) and bus, and 200 meters from the North Station (bus to Girona airport).",
         "488151",
         "el Fort Pienc",
         "Eixample",
         "Entire home/apt",
         "4",
         "1.0",
         "1.0",
         "2.0",
         "TV,Internet,Wifi,Air conditioning,Kitchen,Elevator,Buzzer/wireless intercom,Heating,Family/kid friendly,Essentials,Shampoo,Hangers,Hair dryer,Iron,Laptop friendly workspace",
         "650.0",
         "3",
         "365",
         "True",
         "7",
         "18",
         "41",
         "224",
         "322",
         "2011-11-10",
         "2019-12-01",
         "96.0",
         "100.0",
         "100.0",
         "100.0",
         "100.0",
         "100.0",
         "100.0",
         "VERDADERO",
         "327.0",
         "spain",
         "barcelona",
         "2019-12-10"
        ],
        [
         "14",
         "89954",
         "Amazing apt in the historic center",
         "Beautiful, new, central and cosy apartment perfect for a family or friends trip with everything you need to feel as at your own home. We try to offer the best accommodation for our guests Newly refurbished apartment. Beautiful, charming and comfortable. Duplex apartment: First floor with spacious living room, kitchen and bathroom. Second floor with two double bedrooms including wardrobes. Lumber room. High quality construction materials. La Latina-Austrias area. Most ancient and beautiful Downtown neighbourhood in the city but feeling like living in a small town. Street with restricted traffic. 10 minutes walking distance to Plaza Mayor and 5 minutes to Palacio Real. Next to everything (few minutes walking distance): Palacio Real, Museo del Prado, Thyssen and Reina Sof�a, traditional markets, shopping, located in one of the best �tapas� areas in Madrid. High speed Internet access WI-FI, printer, i pod player, dvd and cd player, LCD TV, juicer, toaster, hairdryer, kettle, coffee maker,",
         "487095",
         "Palacio",
         "Centro",
         "Entire home/apt",
         "6",
         "1.0",
         "2.0",
         "3.0",
         "TV,Cable TV,Wifi,Air conditioning,Kitchen,Elevator,Heating,Family/kid friendly,Washer,Smoke detector,First aid kit,Fire extinguisher,Essentials,Shampoo,Hangers,Hair dryer,Iron,Laptop friendly workspace,translation missing: en.hosting_amenity_50,High chair,Children�s books and toys,Crib,Hot water,Luggage dropoff allowed,Long term stays allowed,Host greets you,Paid parking on premises",
         "1030.0",
         "2",
         "20",
         "True",
         "27",
         "48",
         "49",
         "61",
         "181",
         "2011-07-01",
         "2018-11-01",
         "97.0",
         "100.0",
         "100.0",
         "100.0",
         "100.0",
         "100.0",
         "100.0",
         "FALSO",
         "202.0",
         "spain",
         "madrid",
         "2018-11-07"
        ],
        [
         "15",
         "96807",
         "double room, bathroom",
         "Double room Private bathroom with shower ROOM 1: With double bed or two single beds  Special offers for groups or families: Can be 6 guests in 3 bedrooms  .- Extra person �. 15 ROOM 2: 1 SINGLE BED ROOM 3: 1 DOUBLE BED AND 1 SINGLE BED FACILITIES: Excellent location train Cercanias Renfe (urban & fastest)  5 blocks to the station,   7 minutes to Atocha, 15 minutes to Puerta del Sol, downtown, tourism, theaters, cinemas retaurantes Casino Madrid museums, the Prado, Reina Sofia, Tissen, Plaza de Cibeles, Retiro Park. The bus 136  at the corner of the houuse. And metro close 8 corners of the house. wi-fi cable tv washer and dryer The room over loks a pedestrian street a garden area, is very quiet, where  no car traffic,  and  is very  sunny all year. There are  all kinds of good supermarkets and 2 shopping malls in our area. The house is our family, my grandson Angel  26 years old and I, we speak several languages, Spanish, English, Bulgarian, German, you  are welcome to stay with",
         "513331",
         "Palomeras Bajas",
         "Puente de Vallecas",
         "Private room",
         "2",
         "1.0",
         "1.0",
         "2.0",
         "TV,Internet,Wifi,Wheelchair accessible,Kitchen,Free parking on premises,Elevator,Buzzer/wireless intercom,Heating,Washer,Dryer,Essentials,Lock on bedroom door,Hangers,Hair dryer,Iron,translation missing: en.hosting_amenity_49,translation missing: en.hosting_amenity_50,Bed linens,Extra pillows and blankets,Ethernet connection,Pocket wifi",
         "290.0",
         "4",
         "365",
         "True",
         "30",
         "60",
         "90",
         "365",
         "77",
         "2011-06-08",
         "2019-07-07",
         "91.0",
         "90.0",
         "90.0",
         "90.0",
         "90.0",
         "80.0",
         "90.0",
         "FALSO",
         "74.0",
         "spain",
         "madrid",
         "2019-12-10"
        ],
        [
         "16",
         "101580",
         "Big house in PARADISE",
         "Luxury and quiet villa in Cala Canyelles (2km from Lloret de Mar, and 6km from Tossa de Mar) 67km to Barcelona. This villa is divided in 4 completely independent apartments. Both on main floor are joined in a very big space but can be separated by a double door.  The other 2 are completely independent. 1000m2 plot with gardens, big swimming-pool 13x6,5m, gimnastic, sauna and jacuzzi. house. It is situated in, Cala Canyelles a private urbanization between Lloret de Mar and Tossa de Mar. The house is 700m to the Canyelles beach, 2km to Lloret de Mar and 6km from Tossa de Mar. There are 4 apartments (completely independent) sharing the swimming pool, and spa. (also the washing machine and dry-machine). Every Apartment has a double master bedroom and a saloon where there is a double single beds that are the sofa-beds. The bed sheet and towels are included. Apartments upstairs (4 and 5) can be joined together as a common big space (on ap 4 you can have lunch together up to 16 people)....t",
         "532063",
         "Lloret de Mar",
         null,
         "Entire home/apt",
         "16",
         "4.0",
         "4.0",
         "12.0",
         "TV,Cable TV,Internet,Wifi,Air conditioning,Pool,Kitchen,Free parking on premises,Gym,Hot tub,Indoor fireplace,Heating,Suitable for events,Washer,Dryer,Smoke detector,Carbon monoxide detector,Essentials,Shampoo,Hangers,Hair dryer,Iron,Laptop friendly workspace,translation missing: en.hosting_amenity_49,translation missing: en.hosting_amenity_50,Crib,Hot water,Long term stays allowed,Host greets you",
         "950.0",
         "2",
         "30",
         "True",
         "22",
         "52",
         "82",
         "237",
         "14",
         "2017-05-28",
         "2018-10-14",
         "99.0",
         "100.0",
         "100.0",
         "100.0",
         "100.0",
         "90.0",
         "100.0",
         "VERDADERO",
         "73.0",
         "spain",
         "girona",
         "2018-12-22"
        ],
        [
         "17",
         "103386",
         "Central 2 Bedrooms, 3/5 pers. Wi-Fi",
         "This is Edificio Palomar Apartments, I will try to make you feel like home and you will discover Valencia in a great location, just right in the Historical Center. Because every journey is an experience we want to be part of yours. Located right in the Historical Centre you can find this new apartment in a restored 19th-century building, 2 bedrooms + sunny living-room + kitchen + 1 bathroom. Sleep max 5 persons , beds distribution: 1 double and 2 single beds + sofa bed. Lift access and fully equipped: -Towels and hairdryer included. - Microwave. - Oven. - Fridge & Freezer. - Dishwasher. - Toaster. - Hand blender. - Coffee Machine + Kettle. - Orange Juice Squeezer. - Cutlery, Table ware. - Coffee set. - Crockery. - TV in lounge and Master room. - DVD player. - Bed linen. - Air conditioning cool / heat. - Free Internet Wi-Fi.  - Baby set: Cot + baby chair + baby bath (for free). - Free luggage room service. You can rent a bike or moto Vespa to visit the City, also Segway tours. Recepti",
         "508042",
         "EL PILAR",
         "CIUTAT VELLA",
         "Entire home/apt",
         "5",
         "1.0",
         "2.0",
         "3.0",
         "TV,Wifi,Air conditioning,Kitchen,Paid parking off premises,Elevator,Buzzer/wireless intercom,Heating,Family/kid friendly,Washer,Dryer,First aid kit,Safety card,Fire extinguisher,Essentials,Shampoo,24-hour check-in,Hangers,Hair dryer,Iron,Laptop friendly workspace,Baby bath,High chair,Children�s books and toys,Crib,Pack �n Play/travel crib,Hot water,Bed linens,Microwave,Coffee maker,Refrigerator,Dishwasher,Dishes and silverware,Cooking basics,Oven,Stove,Patio or balcony,Luggage dropoff allowed,Host greets you",
         "840.0",
         "1",
         "14",
         "True",
         "17",
         "38",
         "64",
         "229",
         "13",
         "2011-11-01",
         "2019-04-19",
         "93.0",
         "100.0",
         "100.0",
         "100.0",
         "90.0",
         "90.0",
         "100.0",
         "FALSO",
         "13.0",
         "spain",
         "valencia",
         "2019-10-31"
        ],
        [
         "18",
         "107437",
         "A beautiful  villa in Barcelona",
         "A conserved, period villa situated in the midst of the lung of Barcelona.Unbeatably situated within the metropolitan area of Barcelona and in the midst of the Collserola Nature Reserve. A beautiful, 1930s house Tourist L :HUTB-009025 The house is at  3 minutes walking to the metro station  A conserved, period villa situated in the midst of the lung of Barcelona.Unbeatably situated within the metropolitan area of Barcelona and in the midst of the Collserola Nature Reserve. A beautiful, 1930s house, pleasantly situated in typically Mediterranean woodland with terraces. Recently restored maintaining its original, officially catalogued style. , at an unbelievable 5, 10 or 15 minutes by metro  to the center  and at only 3 minutes walk from the nearest station, Les Planes. Surounded by nature, wildlife and silence, yet maintaining the advantages of a great city, the house is ideal for combining work and holidaying, creativity and culture activities or simply enjoying moments of tranq",
         "556626",
         "Vallvidrera, el Tibidabo i les Planes",
         "Sarri�-Sant Gervasi",
         "Entire home/apt",
         "8",
         "2.0",
         "5.0",
         "6.0",
         "TV,Wifi,Kitchen,Free parking on premises,Smoking allowed,Pets allowed,Doorman,Free street parking,Buzzer/wireless intercom,Heating,Family/kid friendly,Washer,Dryer,Smoke detector,Carbon monoxide detector,First aid kit,Fire extinguisher,Essentials,Shampoo,24-hour check-in,Hangers,Hair dryer,Iron,Laptop friendly workspace,Crib,Hot water,Host greets you",
         "2200.0",
         "3",
         "120",
         "True",
         "12",
         "41",
         "59",
         "250",
         "34",
         "2011-07-08",
         "2018-07-28",
         "93.0",
         "100.0",
         "100.0",
         "100.0",
         "100.0",
         "100.0",
         "90.0",
         "VERDADERO",
         "38.0",
         "spain",
         "barcelona",
         "2018-10-10"
        ],
        [
         "19",
         "121210",
         "BIG ROOM IN CITY CENTER,NEAR BEACH!",
         "The best room in Barcelona!  Nice room, in a central and quiet part of Barcelona. Very near of the beach. With fast WIFI of course. In my opini�n, the best option for rest after one jorney discovering this amazing city. HELLO!  My name is Carmen, and I've got a newly renovated apartment in central Barcelona for your holiday in this cosmopolitan city! For rent is a bedroom for two people. The room is spacious, bright and quiet, and the apartment is very nice, spacious, bright and well kept... with a huge balcony!  WHAT DOES THE PRICE INCLUDE? Night in a double bed, sheets, towels, wardrobe, and access to the entire apartment (also the kitchen, which is fully equipped). And WIFI WHAT IS NOT INCLUDED? Noise. The windows and balcony overlook a quiet pedestrian street, so that you can rest well. (this is important, in city center usually there are so noise) In the flat there are 3 rooms, you are booking for one, and there are other for other guests, and other for me. You can use all apartme",
         "594334",
         "el Fort Pienc",
         "Eixample",
         "Private room",
         "2",
         "0.0",
         "1.0",
         "1.0",
         "TV,Internet,Wifi,Kitchen,Elevator,Washer,Essentials,translation missing: en.hosting_amenity_49,translation missing: en.hosting_amenity_50",
         "510.0",
         "5",
         "365",
         "True",
         "13",
         "38",
         "68",
         "68",
         "154",
         "2011-05-31",
         "2017-12-09",
         "89.0",
         "90.0",
         "90.0",
         "90.0",
         "90.0",
         "90.0",
         "90.0",
         "FALSO",
         "184.0",
         "spain",
         "barcelona",
         "2018-04-12"
        ],
        [
         "20",
         "128463",
         "Private Suite in residential area!!",
         "My House is located in the quiet district of Sants, catalan typical neighborhood. It is very close to the metro and bus, and just 10 minutes to the Centre. It is a quiet neighborhood, and cheaper than the Center. There are many restaurants and bars.. Welcome to Barcelona!!! Private suite whith  Double Bed and private bathroom, tv, cupboards. Suitable for either a couple or individual user.  I provide linens and towels. Convenient location:  7 minutes by metro from Centre of Barcelona. 7 minutes walking to Sants Central Train Station. 15 minutes walking to the Football Club Barcelona 10 minutes walking to Montjuic Fair and L'Hospitalet  ((MOBILE WORLD CONGRESS), congress and exhibition area) 3 minutes walking to all transportation (bus or metro) Restaurants, bars, groceries, pharmacy, general shopping- 3 minutes Bus #46 - direct to airport- 3 minutes walk.  Located in the District of Sants, very quiet and safe. Sants is a neighborhood in the southern part of Barcelona. Formerly an indus",
         "635253",
         "Sants",
         "Sants-Montju�c",
         "Private room",
         "2",
         "2.0",
         "1.0",
         "1.0",
         "TV,Wireless Internet,Air conditioning,Kitchen,Heating,Family/kid friendly,Smoke detector,Carbon monoxide detector,Essentials,Shampoo,Hangers,Hair dryer,Iron,Laptop friendly workspace,Bed linens,Extra pillows and blankets,Microwave,Coffee maker,Refrigerator,Dishes and silverware,Oven,Stove,Garden or backyard,Long term stays allowed",
         "300.0",
         "3",
         "1125",
         "True",
         "3",
         "16",
         "28",
         "264",
         "184",
         "2011-09-03",
         "2018-01-23",
         "97.0",
         "100.0",
         "100.0",
         "100.0",
         "100.0",
         "90.0",
         "100.0",
         "VERDADERO",
         "235.0",
         "spain",
         "barcelona",
         "2018-02-07"
        ],
        [
         "21",
         "131987",
         "SEVILLA CENTER 4 PAX.GREAT REVIEWS 1 BR+WIFI+AC",
         "OFFER SPRING & SUMMER : -5 or 6 nights=5% disccount off -7 nights ( or more )= 15 % disccount off -Max. capacity=4 guests -Located in hystoric quarter of Sevilla -Walking distance to all sights -Air conditioning/heating -WiFi -Lots of natural light -Bus to Airport ( EA line )+Plaza de Armas Bus Station+Public Parking in Plaza de Armas (5 min walking) -93% 5 stars reviews N� de Registro vivienda de Uso Turistico : VFT/SE/504 *VERY IMPORTANT ADVICE : Since mid-June (Phone number hidden by Airbnb) , in the cleaning process after each check-out, the use of an OZONE generating machine will be implemented to disinfect all rooms. This will lengthen the time required in the total cleaning process between each check-out and check-in, and therefore guests are asked to understand if the check-in time at the property should be delayed a bit . *OFFERS : *SPECIAL LONG STAY OFFERS ( from 2 weeks ) FOR APRIL , MAY , JUNE, JULY & SEPTEMBER *OFFERS SPRING & SUMMER : -5 or 6 nights=5% disccount off -7 n",
         "1535528",
         "San Vicente",
         "Casco Antiguo",
         "Entire home/apt",
         "4",
         "1.0",
         "1.0",
         "2.0",
         "TV,Wifi,Air conditioning,Kitchen,Paid parking off premises,Heating,Family/kid friendly,Washer,First aid kit,Fire extinguisher,Essentials,Shampoo,Hangers,Hair dryer,Iron,Bathtub,Hot water,Bed linens,Extra pillows and blankets,Ethernet connection,Microwave,Coffee maker,Refrigerator,Dishes and silverware,Cooking basics,Oven,Stove,Patio or balcony,Long term stays allowed,Host greets you",
         "690.0",
         "4",
         "365",
         "True",
         "30",
         "60",
         "90",
         "163",
         "235",
         "2012-03-12",
         "2020-03-12",
         "98.0",
         "100.0",
         "100.0",
         "100.0",
         "100.0",
         "100.0",
         "100.0",
         "VERDADERO",
         "235.0",
         "spain",
         "sevilla",
         "2020-05-30"
        ],
        [
         "22",
         "144471",
         "BEST ZONEPL.CATALU�A ROOM X 2BATHROOM +WIFI",
         "HELLO PEOPLE :=)  are you on vacation? or business? Perhaps a student? or just passing through ..! is just what you need ..! =) I' renting a room per days, weeks or monthly Rent a quiet and comfortable rooms in a beautifully renovated apartment. ROOMS DESCRIPTIONS: ROOM #1 It is a double room with a double bed and closet ideal for relaxing after a long day! In summer could has different price, depend of the season or week events in BCN. The most important thing!!! the flat is my home, I'm opening the doors of my home for you, please take care of it as yours, keep everything clean and respect the place.   Only one rule we have, DRUNK PEOPLE ARE NOT ALLOWED IN MY HOME, PLEASE!! THANKS!! if you are the person who like drink and drink without any control until get sick, this is not your place!! sorry!! ;D EXTRA SERVICES:  Kitchen not available for cooking * refrigerator use and microwave are free. FREE SERVICES FROM THE HOST:- WiFi, Fresh water bottle. - Cookies for breakfast. - Calls fixe",
         "700165",
         "Sant Antoni",
         "Eixample",
         "Private room",
         "2",
         "1.0",
         "1.0",
         "1.0",
         "Wifi,Wheelchair accessible,Elevator,Heating,Family/kid friendly,Washer,Smoke detector,Fire extinguisher,Essentials,Hangers,Iron,Laptop friendly workspace,Crib,Hot water,Host greets you,Paid parking on premises",
         "490.0",
         "2",
         "365",
         "True",
         "19",
         "49",
         "79",
         "354",
         "34",
         "2011-07-04",
         "2018-08-15",
         "88.0",
         "80.0",
         "90.0",
         "90.0",
         "90.0",
         "90.0",
         "80.0",
         "FALSO",
         "38.0",
         "spain",
         "barcelona",
         "2018-10-10"
        ],
        [
         "23",
         "157327",
         "House in Llofriu (Costa Brava)",
         "New rebuilt and furnished house pool bbq If you and your family/friends want to get relaxed in a quiet atmosphere with splendid views over Emporda area this is the place to stay! 8 km from Pals beach and 5 km from Palafrugell and La Bisbal downtowns House in the middle of countryside with an amazing view over the Emporda area. All new, from walls to furniture, decorated with very good taste. 230 square meters and 8,000 square meters of garden-terrain. 4 bedrooms with ensuite bathroom: 1 doble bed room  2 rooms with twin beds  and  1 room with 1 single bed and another one underneath that can be taken out. Fully equipped kitchen. Very large and comfortable dinning and sitting room.  Comfortable in/out swimming pool Terrace with places for dinning and sitting. BBQ by the pool.  WC for visits. Located in a quiet paradise that creates an immense relaxed atmosphere, unbelievable dawns and sunsets.   8 km away from Pals beach and 5 km from Palafrugell and La Bisbal downtowns. Ideal for famili",
         "755634",
         "Forallac",
         null,
         "Entire home/apt",
         "8",
         "5.0",
         "4.0",
         "8.0",
         "TV,Air conditioning,Pool,Kitchen,Free parking on premises,Indoor fireplace,Buzzer/wireless intercom,Heating,Family/kid friendly,Washer,Dryer,Fire extinguisher,Essentials,Shampoo",
         "950.0",
         "7",
         "90",
         "True",
         "27",
         "57",
         "87",
         "362",
         "1",
         "2015-08-18",
         "2015-08-18",
         "80.0",
         "80.0",
         "100.0",
         "100.0",
         "100.0",
         "80.0",
         "80.0",
         "FALSO",
         "2.0",
         "spain",
         "girona",
         "2020-04-30"
        ],
        [
         "24",
         "158238",
         "CENTRAL Wi Fi  w/TERRASSE 8 people",
         "Welcome to Barcelona ! Barcelona is a colorfull city with an amazing athmosphere plenty of experiences to enjoy. We want you to feel the Barcelona experience in our JUST RENEWED apartment a few minutes from the city center. Not included : touristic tax. Is 2,25 euros per person and night with a maximum of 7 nights Expenses of water, electricity are included untill 150 euros per month. Internet Included. Late check in after 8 pm : 25 euros Late check in after 10 pm : 35 euros Raquel 4 double rooms. 2 single beds And 3 double beds Metro Line 3 Palza del Centro stop Registro: (PHONE NUMBER HIDDEN)   Expedient (PHONE NUMBER HIDDEN) Registro: (PHONE NUMBER HIDDEN)   Expedient (PHONE NUMBER HIDDEN)",
         "759411",
         "les Corts",
         "Les Corts",
         "Entire home/apt",
         "8",
         "2.0",
         "4.0",
         "5.0",
         "TV,Internet,Wifi,Kitchen,Paid parking off premises,Smoking allowed,Pets allowed,Elevator,Buzzer/wireless intercom,Family/kid friendly,Washer,Essentials,Hair dryer,Iron,translation missing: en.hosting_amenity_50,Hot water,Host greets you",
         "1200.0",
         "3",
         "365",
         "True",
         "24",
         "54",
         "84",
         "359",
         "97",
         "2011-07-22",
         "2018-05-21",
         "89.0",
         "90.0",
         "80.0",
         "100.0",
         "100.0",
         "90.0",
         "90.0",
         "FALSO",
         "116.0",
         "spain",
         "barcelona",
         "2018-06-09"
        ],
        [
         "25",
         "164621",
         "Nice&Cozy ensuite DoubleBedroom",
         "** Please, always check availability before booking ** Thanks! Monthly rate available on request during low season. If this room is booked, I rent another one in the same flat, have a look: https://www.airbnb.es/rooms/164364 About the apartment: 3 Bedrooms 2 Bathrooms (1 en-suite) Fully furnished kitchen Living Room Patio/Terrace The flat is spacious and well distributed. There are 3 bedrooms: 2 for airbnb guests and one is mine. The kitchen is modern, functional and fully equipped. The living room is at the higher floor, it has 2 super comfy sofa, a yoga space and a very good vibe. There is a TV (smaller than the one on the photos). The patio is great for relaxing on the hammock and chilling out in the pleasant summer evenings.  This double room is the best and largest room of the flat: it has en-suite private bathroom and it overlooks the patio. The location is great! The flat is located in Porto Pi, a very convenient area close to...everything! Next door there is Porto Pi shopping c",
         "684289",
         "Palma de Mallorca",
         null,
         "Private room",
         "1",
         "1.0",
         "1.0",
         "0.0",
         "TV,Wifi,Kitchen,Smoking allowed,Free street parking,Buzzer/wireless intercom,Heating,Family/kid friendly,Washer,Essentials,Hangers,Hair dryer,Iron,Private entrance,Hot water,Luggage dropoff allowed,Long term stays allowed,Host greets you",
         "330.0",
         "7",
         "1125",
         "True",
         "10",
         "39",
         "69",
         "344",
         "44",
         "2011-07-26",
         "2017-06-25",
         "95.0",
         "100.0",
         "100.0",
         "100.0",
         "100.0",
         "90.0",
         "90.0",
         "FALSO",
         "45.0",
         "spain",
         "mallorca",
         "2019-08-31"
        ],
        [
         "26",
         "170750",
         "2-bedroom attic & rooftop terrace",
         "JESUS DEL VALLE Apartment Gorgeous, bright two-bedroom attic apartment with a great terrace and all the amenities. Set in a strategic location very close to Gran V�a, the main commercial and entertainment area in Madrid. This flat is perfect for couples, families or a group of friends. FEATURES This bright apartment outfitted with all comforts has an open loft-style living room with two single  beds like sofa,  connecting to a fully-equipped kitchen with all the necessary appliances to make your stay as homey as possible.   The living room also leads out to a large (20 m2) terrace, with outdoor furniture , allowing you to enjoy wonderful views of the sunset over the city rooftops and Madrid sky-line.  The apartment has a master bedroom with a double bed and another smaller bedroom with a double bed, both with built-in wardrobes. Amenities. 4th 1/2  floor with elevator ( last 10 steps on foot), air conditioning, electric heating, bed linens & towels, refrigerator, oven, microwave, kitch",
         "814490",
         "Universidad",
         "Centro",
         "Entire home/apt",
         "4",
         "1.0",
         "2.0",
         "4.0",
         "TV,Cable TV,Wifi,Air conditioning,Kitchen,Smoking allowed,Elevator,Heating,Family/kid friendly,Washer,Essentials,Shampoo,Hangers,Hair dryer,Iron,Bathtub,Hot water,Bed linens,Extra pillows and blankets,Microwave,Coffee maker,Refrigerator,Dishwasher,Dishes and silverware,Cooking basics,Oven,Stove,Patio or balcony,Well-lit path to entrance,Step-free access,Step-free access,Host greets you,Paid parking on premises",
         "900.0",
         "2",
         "30",
         "True",
         "11",
         "11",
         "11",
         "17",
         "189",
         "2011-10-28",
         "2018-11-18",
         "90.0",
         "90.0",
         "90.0",
         "100.0",
         "100.0",
         "100.0",
         "90.0",
         "FALSO",
         "218.0",
         "spain",
         "madrid",
         "2018-12-10"
        ],
        [
         "27",
         "176827",
         "Se alquilan habitaciones en Madrid",
         "Es un piso totalmente reformado. Todas las habitaciones tienen llave y est�n amuebladas. Se puede ir andando a todos los lugares importantes de Madrid. Las personas que se queden por meses tienen derecho a cocina, wii, calefacci�n, lavadora, etc. En el piso tenemos 5 ba�os y 2 duchas. Todas las habitaciones est�n amuebladas, algunas tienen medio ba�o dentro, tienen llave en la puerta. . Las personas que alquilen por meses tienen derecho a cocina, lavadora, wifi, etc. Las personas que alquilen por d�as sueltos, tienen derecho a wifi, microondas, frigorifico, utilizar platos, vasos, cubiertos, ( no los hornillos de la cocina ). La lavadora es un servicio aparte. Lo que sea necesario Esta rodeado de cines, teatros, centros comerciales, restaurantes, museos, etc. Se puede ir andando a todos los sitios importantes. El autob�s que sale del aeropuerto, la parada la tiene en Cibeles y se tarde 10 minutos andando al piso. Esta comunicado con todo tipo de transportes a metro, autobuses, tren etc",
         "845399",
         "Universidad",
         "Centro",
         "Private room",
         "7",
         "5.0",
         "1.0",
         "7.0",
         "TV,Internet,Wireless Internet,Kitchen,Smoking allowed,Heating,Washer,Dryer,Fire extinguisher,Shampoo,Lock on bedroom door,24-hour check-in,Hangers,Hair dryer,Iron,translation missing: en.hosting_amenity_49,translation missing: en.hosting_amenity_50",
         "280.0",
         "1",
         "730",
         "True",
         "13",
         "43",
         "72",
         "347",
         "156",
         "2012-02-06",
         "2017-04-02",
         "83.0",
         "80.0",
         "90.0",
         "90.0",
         "90.0",
         "90.0",
         "90.0",
         "VERDADERO",
         "248.0",
         "spain",
         "madrid",
         "2017-04-08"
        ],
        [
         "28",
         "178456",
         "Apartment 50m from beach in Alcudia Port, MALLORCA",
         "Nice apartment in Port d'Alc�dia, just a minute walk from the beach. Bright place with traditional Majorcan style decor.  Two bedrooms and big living room, with large terraces. Fully equipped. Bed linen and towels (bath, as well as beach) are included. Also beach accessories (like hammocks or umbrellas), as well as toys for children. It has everything you need to spend a few days (full kitchen with all kinds of accessories, oven, microwave, dishwasher, washing machine). Very well located. Fully equiped apartment with 2 complete bedrooms (with double bed) / 1 bathroom recently renovated / 1 large living room with big sofa / complete kitchen with all kind of accessories and appliances / big terraces). Very well located: - 50m. from the best beach in the north of Mallorca: Port d'Alc�dia. - 50m. from the big lake. - Less than 3 km. from s'Albufera (the only protected natural park in the whole island). - Really close of different activities as rental bicycles and different articles for the",
         "804167",
         "Alc�dia",
         null,
         "Entire home/apt",
         "4",
         "1.0",
         "2.0",
         "2.0",
         "TV,Wifi,Kitchen,Smoking allowed,Free street parking,Family/kid friendly,Suitable for events,Washer,Essentials,Shampoo,24-hour check-in,Hangers,Hair dryer,Iron,Laptop friendly workspace,Private entrance,High chair,Children�s books and toys,Crib,Hot water,Bed linens,Extra pillows and blankets,Microwave,Coffee maker,Refrigerator,Dishwasher,Dishes and silverware,Cooking basics,Oven,BBQ grill,Patio or balcony",
         "900.0",
         "4",
         "325",
         "True",
         "30",
         "60",
         "90",
         "365",
         "33",
         "2012-08-23",
         "2019-09-25",
         "88.0",
         "90.0",
         "90.0",
         "90.0",
         "100.0",
         "90.0",
         "90.0",
         "VERDADERO",
         "37.0",
         "spain",
         "mallorca",
         "2019-11-28"
        ],
        [
         "29",
         "183346",
         "ROOM IN CENTRAL REFURBISH FLAT",
         "I RENT a room in my fully big (125 m2) just refurbished big appartment in XIX century modernist building from 5th august to 3rd september.  The appartment is very bright with 5 balconies to a calm and nice street, west orientation. Although it has just been refurbished it has an antiquite and genuine style, with all modern comodities such a fully equiped kitchen, stack system, TV... It is located in a very elegant central area next to the trendiest and sophisticated shops and cafes and restaurant, the French consulate, 2 very nice parcs... and at the same time very central: just 5-10 min walk to Paseo de la Castella, Gran V�a, Plaza de Cibeles... Next to 2 metro stations: Chueca and Alonso Martinez. The flat has a very big living-room, a small living room, a connected fireplace room and a connected dinning room. It has also 3 bedrooms (one with a big bed and 2 big sofa beds; all of them 1,35 m), and 2 complete bathrooms. A big kitchen with washing machine, equipped kitchen with microwa",
         "877571",
         "Justicia",
         "Centro",
         "Private room",
         "2",
         "2.0",
         "1.0",
         "1.0",
         "TV,Cable TV,Internet,Wireless Internet,Kitchen,Smoking allowed,Pets allowed,Indoor fireplace,Buzzer/wireless intercom,Heating,Family/kid friendly,Washer,Dryer,Fire extinguisher,Essentials,Shampoo,24-hour check-in,Hangers,Hair dryer,Iron,Laptop friendly workspace",
         "300.0",
         "1",
         "730",
         "True",
         "0",
         "0",
         "0",
         "137",
         "12",
         "2013-11-16",
         "2016-05-29",
         "83.0",
         "90.0",
         "80.0",
         "90.0",
         "100.0",
         "90.0",
         "80.0",
         "FALSO",
         "24.0",
         "spain",
         "madrid",
         "2018-01-17"
        ],
        [
         "30",
         "186221",
         "La Sagrada Familia: small and simple room.",
         "Place to relax after a long day exploring Barcelona.  La Sagrada Familia? My house is 4 blocks.  People coming for parties are NOT WELCOME. Small room: very quiet, no parties. Reading this description before booking. There is an option, which is to send a message to host. The room is ONLY FOR sightseeing NOT for students, workers , etc. LGBT. Before sending the booking ... I hope a message, ALWAYS.      Only for people who come to barcelona for sightseeing: not room to live or students.      People coming for parties are NOT WELCOME.      Very quiet place, located in neighborhood of Gracia, one of the busiest area of Barcelona, just 4 blocks from the Sagrada Familia, 10 minutes walking to Sant Pau Hospital, and 4 metro stops from the Parc G�ell. You will visit 3 emblematic places of Barcelona, walking: La Sagrada Familia, Parc Guell; Sant Pau Hospital.      This room is for ONE person, simple and very useful. It has a window, but not direct sunlight. The room has fans and heati",
         "494228",
         "el Camp d'en Grassot i Gr�cia Nova",
         "Gr�cia",
         "Private room",
         "1",
         "0.0",
         "1.0",
         "1.0",
         "TV,Wireless Internet,Wheelchair accessible,Kitchen,Doorman,Elevator in building,Buzzer/wireless intercom,Heating,Washer,Dryer,Smoke detector,First aid kit,Safety card,Essentials,Shampoo,Hangers,Hair dryer,Iron,translation missing: en.hosting_amenity_49,translation missing: en.hosting_amenity_50",
         "150.0",
         "2",
         "3",
         "True",
         "5",
         "11",
         "37",
         "234",
         "416",
         "2011-08-22",
         "2017-04-02",
         "89.0",
         "90.0",
         "100.0",
         "100.0",
         "90.0",
         "90.0",
         "90.0",
         "VERDADERO",
         "607.0",
         "spain",
         "barcelona",
         "2017-04-08"
        ],
        [
         "31",
         "193923",
         "Single room in the real Barcelona",
         "Very well connected flat in a safe and peaceful neighbourhood. The metro station is just around the corner, and it is the green Line 3 Valldaura, in just a few minutes you can reach tourist attractions, all museums, the beach and the airport. Relax in a very nice and clean place after visit Barcelona. Very well connected flat in a safe and peaceful neighbourhood.  You have a little room with a single bed, fresh sheets, and towels, a private wardrobe, a night table, lamp, and fan. Guests also have a little space in the fridge and the toilet, and if needed they can use the kitchen. We can provide a hair dryer if needed and all of these services are free. If you don't feel like a tourist, here you can experience the real Barcelona with local people, low prices and peaceful spots to avoid crowding. Just ask me and enjoy your holiday :-) Minimum reserve: 2 nights The metro station is just around the corner, and it is the green Line 3 Valldaura, in just a few minutes you can reach touris",
         "939590",
         "Horta",
         "Horta-Guinard�",
         "Private room",
         "1",
         "1.0",
         "1.0",
         "1.0",
         "TV,Wifi,Kitchen,Elevator,Buzzer/wireless intercom,Washer,Smoke detector,Carbon monoxide detector,First aid kit,Essentials,Shampoo,Hangers,Hair dryer,Iron,Laptop friendly workspace,translation missing: en.hosting_amenity_49,translation missing: en.hosting_amenity_50,Hot water,Bed linens,Microwave,Coffee maker,Refrigerator,Dishes and silverware,Cooking basics,Oven,Stove,Host greets you",
         "200.0",
         "3",
         "60",
         "True",
         "2",
         "17",
         "29",
         "253",
         "125",
         "2011-09-02",
         "2020-02-10",
         "98.0",
         "100.0",
         "100.0",
         "100.0",
         "100.0",
         "90.0",
         "100.0",
         "FALSO",
         "121.0",
         "spain",
         "barcelona",
         "2020-02-16"
        ],
        [
         "32",
         "206846",
         "Duplex studio near Picasso Museum",
         "This bright and ultra-modern apartment in Barcelona is located in the trendy El Born area of the city, within walking distance of many fantastic museums and other must-see attractions. The apartment itself is well-lit and completely renovated, with the exposed ceiling beams and wooden French doors adding an authentic touch to the otherwise modern style. The living room has a TV and comfortable sofa bed, as well as access to the balcony overlooking a typical street in El Born. The kitchen is bright and fully equipped with up-to-date appliances and utensils. It also has a dining table where you can sit down to enjoy your home-cooked meals. Above the kitchen you will find a second storey, accessible by wooden stairs, where there is a double bed, meaning this gorgeous apartment can accommodate up to two people in total. The bathroom is bright with a sizeable walk-in shower.  This fantastic Barcelona apartment is perfect for those looking to stay in a modern home-away-from-home, situated in",
         "612665",
         "Sant Pere, Santa Caterina i la Ribera",
         "Ciutat Vella",
         "Entire home/apt",
         "2",
         "2.0",
         "1.0",
         "1.0",
         "TV,Internet,Wifi,Air conditioning,Kitchen,Paid parking off premises,Heating,Family/kid friendly,Smoke detector,First aid kit,Essentials,Shampoo,Hangers,Hair dryer,Iron,Laptop friendly workspace,Self check-in,Lockbox,Hot water,Bed linens,Extra pillows and blankets,Microwave,Coffee maker,Refrigerator,Dishwasher,Dishes and silverware,Cooking basics,Oven,Stove,Patio or balcony,Long term stays allowed,Cleaning before checkout,Wide entrance,Accessible-height toilet,Paid parking on premises",
         "1280.0",
         "31",
         "150",
         "True",
         "5",
         "7",
         "25",
         "205",
         "77",
         "2012-02-12",
         "2019-10-09",
         "92.0",
         "90.0",
         "90.0",
         "90.0",
         "90.0",
         "100.0",
         "90.0",
         "FALSO",
         "81.0",
         "spain",
         "barcelona",
         "2019-12-10"
        ],
        [
         "33",
         "210156",
         "ALCUDIA BEACH -MALLORCA HOLIDAYS",
         "A quiet house on a private street Chalet-style house, recently refurbished located in a quiet private road on a plot of 400 m2 with 200 m2 built, overlooking the Lago Menor and the mountains. It has garage, three bedrooms, kitchen, two bathrooms, living room and three porches, sun terrace, garden, outdoor shower, satellite TV and air conditioning (hot / cold) throughout the house and BBQ.. Located in a quiet area, but at the same time very close to leisure facilities of the Port of Alcudia: nightclubs, bars, restaurants and shops. It is also within 5 minutes of Pedro Mas i Reus one of the most important streets of the port, which leads to the Alcudia beach with fine white sand and crystalline waters, it is a Blue Flag beach where you can also perform various aquatic activities . In the same area is the Hidropark. In the Lago Menor water activities are carried out also in the surrounding area there are stables and horse riding.  A few kilometers from Puerto de Alcudia, lies the charming",
         "1036132",
         "Alc�dia",
         null,
         "Entire home/apt",
         "6",
         "2.0",
         "3.0",
         "4.0",
         "TV,Cable TV,Internet,Wifi,Air conditioning,Kitchen,Free parking on premises,Smoking allowed,Heating,Family/kid friendly,Washer,First aid kit,Essentials,Hangers,Hair dryer,Iron,Private entrance,High chair,Crib,Hot water,Bed linens,Extra pillows and blankets,Microwave,Coffee maker,Refrigerator,Dishwasher,Dishes and silverware,Cooking basics,Oven,Stove,BBQ grill,Patio or balcony,Garden or backyard,Host greets you",
         "580.0",
         "5",
         "365",
         "True",
         "26",
         "44",
         "49",
         "102",
         "90",
         "2012-08-11",
         "2019-11-02",
         "97.0",
         "100.0",
         "100.0",
         "100.0",
         "100.0",
         "90.0",
         "100.0",
         "VERDADERO",
         "97.0",
         "spain",
         "mallorca",
         "2020-03-22"
        ],
        [
         "34",
         "213296",
         "Big/Centric Room-Palau de la Musica",
         "Hi, I rent a big room in my 150 square meters and neo-modernist style appartment, in the antic center of Barcelona. It is located in the same street than the famous Palau de la Musica, very near Las Ramblas. The room has a doble bed, a table, and an access to the balcony where you will see the backyard. . I provide wifi internet connexion, sheets and towels. The flat is very well located because you can visit the best sites of Barcelona just walking, and if you are a little lazy, the nearest metro station (Urquinaona) will drive you anywhere you want. I have a beaux-arts degree, especialized in old part of town paintings. 2 very peaceful and sympathic cats give me company. You will  enjoy the tranquility of the place.  If you have any doubt, please contact me.",
         "1100014",
         "Sant Pere, Santa Caterina i la Ribera",
         "Ciutat Vella",
         "Private room",
         "2",
         "1.0",
         "1.0",
         "1.0",
         "Wireless Internet,Smoking allowed,Pets live on this property,Cat(s),Buzzer/wireless intercom,Washer,Essentials,Hangers,Iron",
         "250.0",
         "2",
         "12",
         "True",
         "8",
         "14",
         "25",
         "224",
         "168",
         "2012-05-20",
         "2017-01-21",
         "89.0",
         "90.0",
         "80.0",
         "90.0",
         "90.0",
         "100.0",
         "90.0",
         "FALSO",
         "292.0",
         "spain",
         "barcelona",
         "2017-02-09"
        ],
        [
         "35",
         "214970",
         "Cozy Room in central flat Barcelona",
         "Dear potential Guest, if you fancy staying in my place, I would appreciate very much that you carefully read all my information before booking. It is important!  Also be aware that you will need to provide your National Identity Number for my tax purposes. Thank you! <br /><br />My flat is located in Poble Sec, at the end of the street whose last block has a bit of steepness (REAL THIRD floor, my Name is on the Door), no lift. You will live only with me and my cat Odina.<br /><br />GAY friendly!<br /><br /><b>The space</b><br />YOUR ROOM:<br />� 1.40m double bed.  High quality mattress (viscoeslastic).<br />� Storage space in shelves and two free spaces in the closet, hanging drawers. <br />� Glass chamber window to minimize external noise (the area is already quiet). <br />� Central heating in winter and ventilator in summer.<br />� Bed linen, duvet, pillows and two towels per person. <br />� Relaxed and quiet environment in the whole flat.<br />� You can see Sagrada Familia at the di",
         "1110014",
         "el Poble Sec",
         "Sants-Montju�c",
         "Private room",
         "2",
         "1.0",
         "1.0",
         "1.0",
         "Kitchen, Extra pillows and blankets, Coffee maker, Oven, Hot water, Hair dryer, Bed linens, Cooking basics, Dishes and silverware, Stove, Refrigerator, Heating, Host greets you, Essentials]",
         "330.0",
         "30",
         "90",
         "True",
         "1",
         "1",
         "1",
         "1",
         "144",
         "2012-06-13",
         "2020-03-02",
         "93.0",
         "90.0",
         "100.0",
         "90.0",
         "90.0",
         "90.0",
         "90.0",
         "VERDADERO",
         "139.0",
         "spain",
         "barcelona",
         "2020-12-16"
        ],
        [
         "36",
         "222753",
         "House near City Arts+Wi-fi",
         "House with interior garden just few minutes from downtown. The room for three is on the first floor and has a private bathroom (ground floor) , living room and balcony overlooking the street. Also Wi-Fi 100 Mb.<br /><br /><b>The space</b><br />House with interior garden in a special place in Valencia, just minutes -15 min.- from downtown, popular district of Russafa, next to the old Turia riverbed, the biggest garden in Europe (more 7 km of garden) where the Valencian people make athletics, cycling or simply walking and rest. There is the City of Arts and Sciences and its impressive buildings designed by Valencian architect Santiago Calatrava.<br />This is a ground floor with a nice little garden and a beautiful facade belongs to the popular modernism of the city. We take care of our home so that the traveler find it clean, tidy and are comfortable as at home. The room is on the first floor for guests total independence, and also has private bathroom on the ground floor, living room an",
         "709516",
         "EN CORTS",
         "QUATRE CARRERES",
         "Private room",
         "3",
         "1.0",
         "2.0",
         "2.0",
         "Waterfront, Washer, Long term stays allowed, Coffee maker, Bed linens, Free street parking, Stove, Garden or backyard, Heating, Dishes and silverware, Hot water, Essentials, Laptop-friendly workspace, Kitchen, Extra pillows and blankets, Wifi, Shampoo, Oven, Patio or balcony, Host greets you, Hangers, Hair dryer, Iron, BBQ grill]",
         "310.0",
         "2",
         "365",
         "True",
         "30",
         "60",
         "90",
         "365",
         "172",
         "2011-10-22",
         "2020-03-01",
         "86.0",
         "90.0",
         "90.0",
         "100.0",
         "90.0",
         "90.0",
         "90.0",
         "FALSO",
         "156.0",
         "spain",
         "valencia",
         "2020-11-10"
        ],
        [
         "37",
         "255195",
         "Lightly apartment with balcony to Las Ramblas",
         "Amazing location of this lightly and sunny apartment. Shared terrace with spectacular views of Barcelona and sunset. <br />Fully furnished and equipped apartment (A/C, heating, internet WIFI,...). Also with kitchenware, bedlinen and towels,...<br />ONLY for MONTHLY RENTALS (over 32 nights)<br /><br /><b>Guest access</b><br />Great and large shared terrace.<br />Free laundry services.",
         "1310304",
         "el Raval",
         "Ciutat Vella",
         "Entire home/apt",
         "4",
         "1.0",
         "1.0",
         "2.0",
         "Refrigerator, Patio or balcony, Cooking basics, Heating, Dryer, Essentials, Wifi, Coffee maker, Air conditioning, Stove, Elevator, TV, Microwave, Washer, Dishes and silverware]",
         "330.0",
         "32",
         "330",
         "True",
         "30",
         "60",
         "90",
         "330",
         "17",
         "2012-03-02",
         "2020-10-09",
         "85.0",
         "80.0",
         "80.0",
         "90.0",
         "90.0",
         "100.0",
         "80.0",
         "FALSO",
         "16.0",
         "spain",
         "barcelona",
         "2020-11-06"
        ],
        [
         "38",
         "265647",
         "Canig� (Can Llobet)  PG-455",
         "Canig� is an appartment, in Can LLobet, Located in Capmany. Is a XVIII century house that has been completly restored . The ground floor is the common area for all clients with Jacuzzi, Swimming pool and garden. Fully equipped cottage, consisting of kitchen, bathroom, living room and 3 bedrooms. It has garden, terraces and a spa. the situation is excellent, 20 minutes from the beaches of the Costa Brava, 15 minutes south of France near Figueres, Roses, Cadaqu�s, and the natural park Aiguamolls de l'Empord� in the natural setting of Albera (Alt Empord�, Girona). ideal for family,  in the village there are shops, restaurants ... walking areas ... megalithic routes, from the house offer various activities, quad tours, paintball, travel with globe ... The ground floor is the common area for all clients with Jacuzzi, Swimming pool and garden.",
         "1393119",
         "Capmany",
         null,
         "Entire home/apt",
         "6",
         "2.0",
         "3.0",
         "5.0",
         "TV,Cable TV,Internet,Wifi,Air conditioning,Pool,Kitchen,Free parking on premises,Smoking allowed,Pets allowed,Hot tub,Buzzer/wireless intercom,Heating,Family/kid friendly,Washer,Fire extinguisher,Essentials,Hangers,Hair dryer,Iron,Self check-in,Lockbox,High chair,Pack �n Play/travel crib,Hot water",
         "1750.0",
         "7",
         "14",
         "True",
         "17",
         "41",
         "71",
         "333",
         "8",
         "2013-08-19",
         "2017-09-03",
         "95.0",
         "90.0",
         "100.0",
         "100.0",
         "100.0",
         "90.0",
         "90.0",
         "VERDADERO",
         "13.0",
         "spain",
         "girona",
         "2018-08-30"
        ],
        [
         "39",
         "279439",
         "sociable apartment in Raval 3",
         "Welcome to the Piero's home (Italian)!   The house is in Raval, surely one of the most characteristic districts of Barcelona.   The apartment consists of 3 separate rooms that are available with separate beds or double beds, according to needs of guests. There are bathroom (with 2 separate spaces between shower and toilet),  kitchen and living room. Washing machine is for private use only but there's a laundry very close to the house. The owner lives in the same apartment.  While maintaining its original charm, Raval is able to offer any type of entertainment, from the old prestigious restaurant, passing by flamenco shows till late night and a wide choice of pubs, discos and clubs. Only 200 meters from metro station Liceu on the Ramblas (Barcelona's main street), you can easily reach any point of cultural interest, like Gaudi's houses, churches, museums etc... Piero may suggest a culinary trip to food markets, gourmet restaurants and tapas bars. The main market of La Boqueria in Barcel",
         "1457147",
         "el Raval",
         "Ciutat Vella",
         "Private room",
         "7",
         "2.0",
         "3.0",
         "4.0",
         "Internet,Wifi,Kitchen,Smoking allowed,Elevator,Family/kid friendly,First aid kit,Fire extinguisher,Essentials,Lock on bedroom door,Hangers,Hair dryer,Crib,Hot water,Extra pillows and blankets,Pocket wifi,Coffee maker,Refrigerator,Dishes and silverware,Cooking basics,Oven,Stove,Patio or balcony,Luggage dropoff allowed",
         "250.0",
         "2",
         "21",
         "True",
         "1",
         "4",
         "13",
         "13",
         "102",
         "2012-02-20",
         "2018-04-13",
         "91.0",
         "90.0",
         "90.0",
         "100.0",
         "100.0",
         "90.0",
         "90.0",
         "FALSO",
         "134.0",
         "spain",
         "barcelona",
         "2018-05-14"
        ],
        [
         "40",
         "305213",
         "PLATANEROS - BRIGHT CENTRAL APT",
         "Is one of the best locations in town.  Walking  to the historic area takes you 10 minutes,  Las Ramblas, Gothic, Born. Plaza Catalunya and Paseo de Gracia 15 minutes, museums, shops  . From the apartment the are several buses take to the beach in 10 minutes, but also along a nice walk you reach in half and hour. Montjuich is 15 minutes walking or the telepheric in Paral.lel station 5 minutes from the apartment. Plaza de Espa�a 10 minutes walking and easy available from Sants railway station. Situated in one of the best areas in Barcelona, 10 minutes walk to Las Ramblas and also a short walk to the historic centre, museums, restaurants, shops and markets, and night life of Barcelona. Excellent comunications with public transport, only one minutes walk to Parallel metro station, on metro lines 2 and 3, Fira Barcelona  (Pla�a d' Espagna)  only10 minutes walking or ideal for World Mobbile Congres and also great bus connections, including airport bus. The neighbourhood is residential and pl",
         "1570247",
         "Sant Antoni",
         "Eixample",
         "Entire home/apt",
         "2",
         "1.0",
         "1.0",
         "1.0",
         "TV,Internet,Wireless Internet,Kitchen,Elevator,Buzzer/wireless intercom,Heating,Washer,Fire extinguisher,Essentials,Hangers,translation missing: en.hosting_amenity_49,translation missing: en.hosting_amenity_50,Hot water,Microwave,Coffee maker,Refrigerator,Dishes and silverware,Cooking basics,Stove,Patio or balcony,Waterfront",
         "1050.0",
         "3",
         "28",
         "True",
         "14",
         "24",
         "51",
         "141",
         "170",
         "2012-06-21",
         "2017-07-26",
         "95.0",
         "100.0",
         "100.0",
         "100.0",
         "100.0",
         "90.0",
         "100.0",
         "VERDADERO",
         "272.0",
         "spain",
         "barcelona",
         "2017-08-06"
        ],
        [
         "41",
         "314781",
         "PRIVATE SPACE 40M2, BEST AREA,WIFI",
         "Hi, I have a big private space,  2 double beds (one is bed/sofa), sunny balcony and your own living room in my confortable flat, modernist style, wash machine, internet wifi. Near Sagrada Familia,Ciudadella Parc,the beach,Pza Catalu�a, Metro Stations Girona and Tetuan Sunny and huge private space with 2 double beds with balcony and your own living room in a shared modernist flat, located in the best neighborhood in Barcelona, the famous EIXAMPLE, bars, restorants, boutiques, art galleries all near around. Walking distance to all major atractions in the city, like PLA�A CATALUNYA and the worldwide known RAMBLAS,  GOTHIC QUARTER, ARC DE TRIOMF, BARCELONETA, SAGRADA FAMILIA. Very close to metro station (L2 Girona L4 Tetuan) with excellent transport links to everywhere in Barcelona and nearby. The flat is a typical catalan modernist flat, with a total of 200 sq meters, with mosaic  floors, very bright and very spacious. We are easy going, respectful and polite. Wifi internet, also washing",
         "1604485",
         "la Dreta de l'Eixample",
         "Eixample",
         "Private room",
         "2",
         "2.0",
         "1.0",
         "2.0",
         "Wireless Internet,Smoking allowed,Pets allowed,Elevator in building,Buzzer/wireless intercom,Family/kid friendly,Washer",
         "1000.0",
         "2",
         "60",
         "True",
         "30",
         "60",
         "90",
         "365",
         "13",
         "2013-08-14",
         "2016-06-27",
         "93.0",
         "90.0",
         "80.0",
         "100.0",
         "90.0",
         "100.0",
         "100.0",
         "FALSO",
         "31.0",
         "spain",
         "barcelona",
         "2017-02-09"
        ],
        [
         "42",
         "318826",
         "Wonderful apartment. JUST REMODELED",
         "Magnificent apartment. Extremely bright and sunny  NEWLY RENOVATED! AIRBNB NEW! REF: VT-2148. Tourist Companies Registry of the General Directorate of Tourism of the Community of Madrid. The apartment is newly renovated, modern and quite comfortable. Located on the third floor, bright and sunny, has an approximate area of 60 square meters and has 3 bedrooms (suitable for 4 people), kitchen, bathroom and terrace. It is fully equipped with wooden floors, modern furnishings and amenities: dishwasher, microwave, oven, WIFI, flat screen TV available ... even a printer that can print their boarding passes. LOCATION It is located in the area of the Country House, near the historic center. It is perfect for all the attractions of Madrid. Immediately to the apartment there is a shopping street with shops, bars, restaurants ... CLOSE TO DOWNTOWN Perfect for exploring the heart of the city, with a wide range of public transport, efficient and cheap. � Metro: just 5 stops from the historic center",
         "1636378",
         "Aluche",
         "Latina",
         "Entire home/apt",
         "4",
         "1.0",
         "3.0",
         "3.0",
         "TV,Internet,Wifi,Air conditioning,Kitchen,Elevator,Free street parking,Buzzer/wireless intercom,Heating,Family/kid friendly,Washer,First aid kit,Essentials,Shampoo,Hangers,Hair dryer,Iron,Laptop friendly workspace,Room-darkening shades,Hot water,Microwave,Coffee maker,Refrigerator,Dishwasher,Dishes and silverware,Cooking basics,Oven,Long term stays allowed,Host greets you",
         "900.0",
         "6",
         "1125",
         "True",
         "23",
         "53",
         "83",
         "358",
         "11",
         "2012-05-07",
         "2018-12-14",
         "98.0",
         "100.0",
         "100.0",
         "100.0",
         "100.0",
         "90.0",
         "90.0",
         "FALSO",
         "13.0",
         "spain",
         "madrid",
         "2019-02-06"
        ],
        [
         "43",
         "323679",
         "Marina Costa Brava - view on canal",
         "Furnished Apartment in the Empuria brava marina (close to Center and main beach). Furnished 2 bedrooms.  the apartment has a 20 square meter living room, an equipped kitchen and is orientated West. Set on the 1st floor. 15 square feet terrace . The apartment is a five-minute walk from the beach (around 400 meters). Quiet place in a dead-end road. The apartment is located at the front of one canal. Privative car park.  Features : 1 bathroom / Sleeps : 4 Appliances : cooktop/ Microwave/ Oven / Ironing board /laundry machine Electronics : TV(66 cm) Furnishing : Air conditioning / sofa bed/ bedspread/ 2 double bed",
         "1552289",
         "Castell� d'Emp�ries",
         null,
         "Entire home/apt",
         "4",
         "1.0",
         "2.0",
         "3.0",
         "TV,Cable TV,Air conditioning,Kitchen,Free parking on premises,Heating,Washer,Dryer,Essentials,Hangers,Hair dryer,Iron,Hot water,Host greets you",
         "550.0",
         "14",
         "30",
         "True",
         "0",
         "0",
         "26",
         "301",
         "7",
         "2012-08-05",
         "2018-08-18",
         "86.0",
         "90.0",
         "90.0",
         "100.0",
         "100.0",
         "90.0",
         "90.0",
         "FALSO",
         "8.0",
         "spain",
         "girona",
         "2019-06-30"
        ],
        [
         "44",
         "326464",
         "Charm and quiet room",
         "<b>The space</b><br />The room is in the House Laxkanberria seventeenth century in the village of Arraioz, Baztan Valley. A place of dreams, rural, rustic, living nature, near the Natural Park of Bertiz. and less than an hour of Biarritz, San Sebastian, Pamplona. It has a full bathroom, central heating, wifi, TV. And above all, very quiet. You can enjoy in the area of ??the greenway Bidassoa, hiking, civil architecture in their homes and villages amazing wonderful, good food, nature as a whole and of the Basque culture and traditions. <br />Enjoy nature in its pure state, the harmony of their homes and villages. Uncover an ancient culture and languages??, the Basque Country. Ethnographic Museum, megalithic monuments, windmills, towers. In Arraioz same can enjoy the charm of the three palaces of the fifteenth century. And every day you have a mall.",
         "1669001",
         "Can Peguera",
         "Nou Barris",
         "Private room",
         "2",
         "1.0",
         "1.0",
         "1.0",
         "Essentials, Heating, Hair dryer, Hangers, Lock on bedroom door, Bed linens, Long term stays allowed, Wifi, Breakfast, Shower gel, TV]",
         "600.0",
         "1",
         "1125",
         "True",
         "30",
         "60",
         "90",
         "365",
         "33",
         "2014-10-05",
         "2019-12-28",
         "99.0",
         "100.0",
         "100.0",
         "100.0",
         "100.0",
         "100.0",
         "100.0",
         "FALSO",
         "43.0",
         "spain",
         "barcelona",
         "2021-02-09"
        ],
        [
         "45",
         "330723",
         "SUNNY ROOM WITH BALCONY",
         "<b>The space</b><br />You will have the chance to stay in a bright, and spacious Barcelona apartment with a terrace! The apartment has all the amenities you need. Staying here you will be in the heart of Barcelona, located in the  zone Nou de la Rambla and Paral-lel district , just one block away from the Paral-lel Metro and many buses, and a 10 minute walk to the  Las Ramblas 20 minute walk to Plaza Catalunya or to the beach.<br /><br />The apartment<br />The entire apartment is available with a  sunny double bedrooms.   You will also have access to a spacious, sunny lounge with views of the city. There is also TV, DVD player, WiFi, dishwasher, and a washing machine, heating. There is 2 toilets.  The apartment is located on the 6th floor with a lift.<br /><br />The neighbourhood<br />The apartment is in a perfect location, very close to tourist areas like the Ramblas 15 minute walk to Las Ramblas, Plaza Catalunya and the hustle and bustle of the city center.  <br /><br />Useful info",
         "1687383",
         "el Raval",
         "Ciutat Vella",
         "Private room",
         "2",
         "2.0",
         "1.0",
         "1.0",
         "Elevator, Essentials, Hair dryer, Hangers, Long term stays allowed, Dryer, Cable TV, Wifi, Kitchen, Iron, Washer, TV]",
         "300.0",
         "14",
         "1125",
         "True",
         "30",
         "60",
         "90",
         "365",
         "51",
         "2012-06-28",
         "2019-10-25",
         "93.0",
         "100.0",
         "100.0",
         "100.0",
         "90.0",
         "90.0",
         "100.0",
         "FALSO",
         "49.0",
         "spain",
         "barcelona",
         "2021-02-09"
        ],
        [
         "46",
         "336795",
         "Room in Madrid Center whit WIFI",
         "Room in Madrid Center close to Atocha railstation and all the museum zone. The subway station is Anton Martin and is very close of the house. We have internet and all the needs of modern life... The room in not big but the house is big and buitiful whit a lot of light and in madrid life is in the street not in the room. The house is in the middle of tree famous neighborhood: Lavapies, Huertas and La Latina. We are a couple from Chile and Italy who lives in madrid from a lot of years so we known perfectly the madrid nigthlife. Not worry you will have fun...",
         "1713273",
         "Cortes",
         "Centro",
         "Private room",
         "2",
         "1.0",
         "1.0",
         "1.0",
         "TV,Internet,Wifi,Kitchen,Smoking allowed,Pets live on this property,Cat(s),Buzzer/wireless intercom,Heating,Essentials,Shampoo,Hair dryer,Hot water,Host greets you",
         "250.0",
         "2",
         "1125",
         "True",
         "29",
         "52",
         "71",
         "344",
         "156",
         "2012-05-28",
         "2020-03-15",
         "73.0",
         "80.0",
         "70.0",
         "90.0",
         "90.0",
         "100.0",
         "80.0",
         "FALSO",
         "162.0",
         "spain",
         "madrid",
         "2020-04-17"
        ],
        [
         "47",
         "342557",
         "Berlin's Park at your window. Parking included.",
         "Very nice room in an area with excellent communications. We have the Berlin Park just in front. Our house is new, clean and cozy. In it we live my wife, me and our daughters. The area is very safe. Accommodation in a family, ideal for anyone but especially for women traveling alone. Possibility of garage, ask us.<br /><br /><b>The space</b><br />Private room in a relaxing flat, ten minutes walk from Real Madrid Santiago Bernab�u Stadium. Well connected by Metro (3 min walk to Concha Espina Station), buses and the new electrical bikes public hiring service from the Municipality (15 min ciclyng to Puerta del Sol). <br />You'll need 40 min to get to barajas Airport by Metro. <br />We are a married couple with two daughters aged nine and seven.<br />You will have a private room for you and a pretty bathroom shared with the girls. <br />The room is quiet, tidy and with lots of light and direct views to Parque de Berl�n, one of the biggests Parks of Madrid. It has a firm and new bed (190x90",
         "1738288",
         "Ciudad Jard�n",
         "Chamart�n",
         "Private room",
         "1",
         "1.0",
         "1.0",
         "1.0",
         "Shampoo, TV, Luggage dropoff allowed, Elevator, Refrigerator, Coffee maker, Free parking on premises, Heating, Hot water, Breakfast, Patio or balcony, Washer, Host greets you, Stove, Wifi, Essentials, Kitchen, Dishes and silverware, Iron, Dishwasher, Cooking basics, Hangers, Laptop-friendly workspace, Hair dryer, Microwave]",
         "700.0",
         "2",
         "120",
         "True",
         "30",
         "60",
         "90",
         "365",
         "55",
         "2013-10-21",
         "2019-11-03",
         "97.0",
         "100.0",
         "100.0",
         "100.0",
         "100.0",
         "100.0",
         "100.0",
         "FALSO",
         "64.0",
         "spain",
         "madrid",
         "2020-11-06"
        ],
        [
         "48",
         "343864",
         "3 BD APT IN THE HEART OF GRACIA",
         "A spacious and comfortable 3 bedrooms apartment located in a 3rd floor with no lift in the picturesque and bohemian Gracia's neighbourhood, next to the Virreina's square and the famous and emblematic Verdi street, full of bars, restaurants, shops and the VO cinema. Safe area. HUTB-009898 A spacious and comfortable 3 bedrooms apartment located located in a 3rd floor with no lift in the picturesque and bohemian Gracia's neighbourhood, next to the Virreina's square and the famous and emblematic Verdi street, full of bars, restaurants, shops and the VO cinema. Safe and peaceful area. This apartment has one double bed, one single bed and one bunk bed, two fully bathrooms (one with shower and the other with bathtub), a cosy living-room with a comfy double sofa-bed and a small balcony facing the Virreina's square and a fully equipped kitchen. It offer a pleasant and relaxing atmosphere, a perfect choice for a family or a group. If you are a big group you can also book the 'Apartment Virreina",
         "1744516",
         "la Vila de Gr�cia",
         "Gr�cia",
         "Entire home/apt",
         "6",
         "2.0",
         "3.0",
         "5.0",
         "TV,Wifi,Kitchen,Buzzer/wireless intercom,Heating,Family/kid friendly,Washer,Essentials,24-hour check-in,Hangers,Hair dryer,Iron,High chair,Crib,Hot water,Long term stays allowed,Host greets you,Paid parking on premises",
         "1390.0",
         "3",
         "1125",
         "True",
         "0",
         "5",
         "35",
         "307",
         "7",
         "2014-06-17",
         "2018-10-14",
         "94.0",
         "100.0",
         "100.0",
         "100.0",
         "90.0",
         "100.0",
         "90.0",
         "VERDADERO",
         "13.0",
         "spain",
         "barcelona",
         "2018-11-07"
        ],
        [
         "49",
         "352772",
         "Elegant Centric Attic WIFI Car Park",
         "Charming, luminous, quiet and comfortable attic in a centric location, you can go to the best Barcelona highlights on food.<br />Nearby you have big and good supermarkets and some of the best restaurants in Barcelona.<br />Easy from airport and high speed train station<br /><br /><b>The space</b><br />Charming, elegant and luminous apartment on the top of the building. <br />It is very well located between Plaza de Espa�a and Plaza de Catalu�a and perfect to go walking to the main sites, Gaudi's houses, Miro's works or down town. All this places are within half an hour ratio.<br />Also it is close to Barcelona's Fair at Plaza de Espa�a.<br />The high speed train station -Sans Station- is nearby.<br />It's at only 20 minutes taxi from the airport.<br />If you have a car, don't worries we provide a car park for free.<br />There are big supermarkets around -Mercadona is the best in Europe- and high quality restaurants also.<br />I recommend Taberna del Clinico and Tatika Berry, two of the",
         "1786501",
         "la Nova Esquerra de l'Eixample",
         "Eixample",
         "Entire home/apt",
         "5",
         "1.0",
         "2.0",
         "4.0",
         "Host greets you, Laptop-friendly workspace, High chair, Dryer, Shampoo, Stove, Hot water, Microwave, Washer, Carbon monoxide alarm, Room-darkening shades, Cooking basics, Patio or balcony, Kitchen, Air conditioning, Free parking on premises, Elevator, TV, Pack u2019n Play/travel crib, Heating, Coffee maker, Hair dryer, Hangers, Refrigerator, Iron, Essentials, Bathtub, Wifi, Oven, Crib, Babysitter recommendations, Dishes and silverware]",
         "850.0",
         "2",
         "90",
         "True",
         "0",
         "0",
         "0",
         "219",
         "103",
         "2014-02-28",
         "2020-10-18",
         "94.0",
         "100.0",
         "90.0",
         "90.0",
         "90.0",
         "90.0",
         "90.0",
         "VERDADERO",
         "126.0",
         "spain",
         "barcelona",
         "2020-11-06"
        ]
       ],
       "shape": {
        "columns": 35,
        "rows": 7693
       }
      },
      "text/html": [
       "<div>\n",
       "<style scoped>\n",
       "    .dataframe tbody tr th:only-of-type {\n",
       "        vertical-align: middle;\n",
       "    }\n",
       "\n",
       "    .dataframe tbody tr th {\n",
       "        vertical-align: top;\n",
       "    }\n",
       "\n",
       "    .dataframe thead th {\n",
       "        text-align: right;\n",
       "    }\n",
       "</style>\n",
       "<table border=\"1\" class=\"dataframe\">\n",
       "  <thead>\n",
       "    <tr style=\"text-align: right;\">\n",
       "      <th></th>\n",
       "      <th>apartment_id</th>\n",
       "      <th>name</th>\n",
       "      <th>description</th>\n",
       "      <th>host_id</th>\n",
       "      <th>neighbourhood_name</th>\n",
       "      <th>neighbourhood_district</th>\n",
       "      <th>room_type</th>\n",
       "      <th>accommodates</th>\n",
       "      <th>bathrooms</th>\n",
       "      <th>bedrooms</th>\n",
       "      <th>...</th>\n",
       "      <th>review_scores_cleanliness</th>\n",
       "      <th>review_scores_checkin</th>\n",
       "      <th>review_scores_communication</th>\n",
       "      <th>review_scores_location</th>\n",
       "      <th>review_scores_value</th>\n",
       "      <th>is_instant_bookable</th>\n",
       "      <th>reviews_per_month</th>\n",
       "      <th>country</th>\n",
       "      <th>city</th>\n",
       "      <th>insert_date</th>\n",
       "    </tr>\n",
       "  </thead>\n",
       "  <tbody>\n",
       "    <tr>\n",
       "      <th>0</th>\n",
       "      <td>11964</td>\n",
       "      <td>A ROOM WITH A VIEW</td>\n",
       "      <td>Private bedroom in our attic apartment. Right ...</td>\n",
       "      <td>45553</td>\n",
       "      <td>Centro</td>\n",
       "      <td>NaN</td>\n",
       "      <td>Private room</td>\n",
       "      <td>2</td>\n",
       "      <td>2.0</td>\n",
       "      <td>1.0</td>\n",
       "      <td>...</td>\n",
       "      <td>100.0</td>\n",
       "      <td>100.0</td>\n",
       "      <td>100.0</td>\n",
       "      <td>100.0</td>\n",
       "      <td>100.0</td>\n",
       "      <td>FALSO</td>\n",
       "      <td>75.0</td>\n",
       "      <td>spain</td>\n",
       "      <td>malaga</td>\n",
       "      <td>2018-07-31</td>\n",
       "    </tr>\n",
       "    <tr>\n",
       "      <th>1</th>\n",
       "      <td>21853</td>\n",
       "      <td>Bright and airy room</td>\n",
       "      <td>We have a quiet and sunny room with a good vie...</td>\n",
       "      <td>83531</td>\n",
       "      <td>C�rmenes</td>\n",
       "      <td>Latina</td>\n",
       "      <td>Private room</td>\n",
       "      <td>1</td>\n",
       "      <td>1.0</td>\n",
       "      <td>1.0</td>\n",
       "      <td>...</td>\n",
       "      <td>90.0</td>\n",
       "      <td>100.0</td>\n",
       "      <td>100.0</td>\n",
       "      <td>80.0</td>\n",
       "      <td>90.0</td>\n",
       "      <td>FALSO</td>\n",
       "      <td>52.0</td>\n",
       "      <td>spain</td>\n",
       "      <td>madrid</td>\n",
       "      <td>2020-01-10</td>\n",
       "    </tr>\n",
       "    <tr>\n",
       "      <th>2</th>\n",
       "      <td>32347</td>\n",
       "      <td>Explore Cultural Sights from a Family-Friendly...</td>\n",
       "      <td>Open French doors and step onto a plant-filled...</td>\n",
       "      <td>139939</td>\n",
       "      <td>San Vicente</td>\n",
       "      <td>Casco Antiguo</td>\n",
       "      <td>Entire home/apt</td>\n",
       "      <td>4</td>\n",
       "      <td>1.0</td>\n",
       "      <td>2.0</td>\n",
       "      <td>...</td>\n",
       "      <td>100.0</td>\n",
       "      <td>100.0</td>\n",
       "      <td>100.0</td>\n",
       "      <td>100.0</td>\n",
       "      <td>100.0</td>\n",
       "      <td>VERDADERO</td>\n",
       "      <td>142.0</td>\n",
       "      <td>spain</td>\n",
       "      <td>sevilla</td>\n",
       "      <td>2019-07-29</td>\n",
       "    </tr>\n",
       "    <tr>\n",
       "      <th>3</th>\n",
       "      <td>35379</td>\n",
       "      <td>Double 02 CasanovaRooms Barcelona</td>\n",
       "      <td>Room at a my apartment. Kitchen and 2 bathroom...</td>\n",
       "      <td>152232</td>\n",
       "      <td>l'Antiga Esquerra de l'Eixample</td>\n",
       "      <td>Eixample</td>\n",
       "      <td>Private room</td>\n",
       "      <td>2</td>\n",
       "      <td>2.0</td>\n",
       "      <td>1.0</td>\n",
       "      <td>...</td>\n",
       "      <td>90.0</td>\n",
       "      <td>100.0</td>\n",
       "      <td>100.0</td>\n",
       "      <td>100.0</td>\n",
       "      <td>90.0</td>\n",
       "      <td>VERDADERO</td>\n",
       "      <td>306.0</td>\n",
       "      <td>spain</td>\n",
       "      <td>barcelona</td>\n",
       "      <td>2020-01-10</td>\n",
       "    </tr>\n",
       "    <tr>\n",
       "      <th>4</th>\n",
       "      <td>35801</td>\n",
       "      <td>Can Torras Farmhouse Studio Suite</td>\n",
       "      <td>Lay in bed &amp; watch sunlight change the mood of...</td>\n",
       "      <td>153805</td>\n",
       "      <td>Quart</td>\n",
       "      <td>NaN</td>\n",
       "      <td>Private room</td>\n",
       "      <td>5</td>\n",
       "      <td>1.0</td>\n",
       "      <td>2.0</td>\n",
       "      <td>...</td>\n",
       "      <td>100.0</td>\n",
       "      <td>100.0</td>\n",
       "      <td>100.0</td>\n",
       "      <td>100.0</td>\n",
       "      <td>100.0</td>\n",
       "      <td>FALSO</td>\n",
       "      <td>39.0</td>\n",
       "      <td>spain</td>\n",
       "      <td>girona</td>\n",
       "      <td>2019-02-19</td>\n",
       "    </tr>\n",
       "    <tr>\n",
       "      <th>...</th>\n",
       "      <td>...</td>\n",
       "      <td>...</td>\n",
       "      <td>...</td>\n",
       "      <td>...</td>\n",
       "      <td>...</td>\n",
       "      <td>...</td>\n",
       "      <td>...</td>\n",
       "      <td>...</td>\n",
       "      <td>...</td>\n",
       "      <td>...</td>\n",
       "      <td>...</td>\n",
       "      <td>...</td>\n",
       "      <td>...</td>\n",
       "      <td>...</td>\n",
       "      <td>...</td>\n",
       "      <td>...</td>\n",
       "      <td>...</td>\n",
       "      <td>...</td>\n",
       "      <td>...</td>\n",
       "      <td>...</td>\n",
       "      <td>...</td>\n",
       "    </tr>\n",
       "    <tr>\n",
       "      <th>7688</th>\n",
       "      <td>32392193</td>\n",
       "      <td>Espectacular habitaci�n</td>\n",
       "      <td>NaN</td>\n",
       "      <td>238089984</td>\n",
       "      <td>Sant Antoni</td>\n",
       "      <td>Eixample</td>\n",
       "      <td>Private room</td>\n",
       "      <td>1</td>\n",
       "      <td>1.0</td>\n",
       "      <td>1.0</td>\n",
       "      <td>...</td>\n",
       "      <td>90.0</td>\n",
       "      <td>100.0</td>\n",
       "      <td>100.0</td>\n",
       "      <td>100.0</td>\n",
       "      <td>90.0</td>\n",
       "      <td>VERDADERO</td>\n",
       "      <td>88.0</td>\n",
       "      <td>spain</td>\n",
       "      <td>barcelona</td>\n",
       "      <td>2019-10-16</td>\n",
       "    </tr>\n",
       "    <tr>\n",
       "      <th>7689</th>\n",
       "      <td>32392774</td>\n",
       "      <td>? Tu Hogar de Lujo ????? en el Centro de Sevilla</td>\n",
       "      <td>Exclusivo, amplio y luminoso alojamiento situa...</td>\n",
       "      <td>243246681</td>\n",
       "      <td>Arenal</td>\n",
       "      <td>Casco Antiguo</td>\n",
       "      <td>Entire home/apt</td>\n",
       "      <td>6</td>\n",
       "      <td>2.0</td>\n",
       "      <td>3.0</td>\n",
       "      <td>...</td>\n",
       "      <td>100.0</td>\n",
       "      <td>100.0</td>\n",
       "      <td>100.0</td>\n",
       "      <td>100.0</td>\n",
       "      <td>100.0</td>\n",
       "      <td>FALSO</td>\n",
       "      <td>157.0</td>\n",
       "      <td>spain</td>\n",
       "      <td>sevilla</td>\n",
       "      <td>2021-01-31</td>\n",
       "    </tr>\n",
       "    <tr>\n",
       "      <th>7690</th>\n",
       "      <td>32395123</td>\n",
       "      <td>Rooms by G Bella Mar�a 3</td>\n",
       "      <td>The 2-star Bella Maria has 24-hourreception an...</td>\n",
       "      <td>159933359</td>\n",
       "      <td>Felanitx</td>\n",
       "      <td>NaN</td>\n",
       "      <td>Entire home/apt</td>\n",
       "      <td>2</td>\n",
       "      <td>1.0</td>\n",
       "      <td>1.0</td>\n",
       "      <td>...</td>\n",
       "      <td>100.0</td>\n",
       "      <td>100.0</td>\n",
       "      <td>100.0</td>\n",
       "      <td>100.0</td>\n",
       "      <td>90.0</td>\n",
       "      <td>VERDADERO</td>\n",
       "      <td>25.0</td>\n",
       "      <td>spain</td>\n",
       "      <td>mallorca</td>\n",
       "      <td>2019-04-24</td>\n",
       "    </tr>\n",
       "    <tr>\n",
       "      <th>7691</th>\n",
       "      <td>32407332</td>\n",
       "      <td>LUMINOSO Y ENCANTADOR PISO CERCA DE TODO</td>\n",
       "      <td>PISO MUY ILUMINADO CON UNA TERRAZA ESTUPENDA C...</td>\n",
       "      <td>187631805</td>\n",
       "      <td>Proven�als del Poblenou</td>\n",
       "      <td>Sant Mart�</td>\n",
       "      <td>Private room</td>\n",
       "      <td>3</td>\n",
       "      <td>2.0</td>\n",
       "      <td>2.0</td>\n",
       "      <td>...</td>\n",
       "      <td>100.0</td>\n",
       "      <td>100.0</td>\n",
       "      <td>100.0</td>\n",
       "      <td>100.0</td>\n",
       "      <td>100.0</td>\n",
       "      <td>VERDADERO</td>\n",
       "      <td>389.0</td>\n",
       "      <td>spain</td>\n",
       "      <td>barcelona</td>\n",
       "      <td>2019-08-12</td>\n",
       "    </tr>\n",
       "    <tr>\n",
       "      <th>7692</th>\n",
       "      <td>32423292</td>\n",
       "      <td>Apartament amb terrassa a 5 minuts de la platja.</td>\n",
       "      <td>Apartament situat a Santa Margarita de Roses d...</td>\n",
       "      <td>158381471</td>\n",
       "      <td>Roses</td>\n",
       "      <td>NaN</td>\n",
       "      <td>Entire home/apt</td>\n",
       "      <td>4</td>\n",
       "      <td>2.0</td>\n",
       "      <td>1.0</td>\n",
       "      <td>...</td>\n",
       "      <td>90.0</td>\n",
       "      <td>90.0</td>\n",
       "      <td>90.0</td>\n",
       "      <td>90.0</td>\n",
       "      <td>90.0</td>\n",
       "      <td>FALSO</td>\n",
       "      <td>68.0</td>\n",
       "      <td>spain</td>\n",
       "      <td>girona</td>\n",
       "      <td>2019-08-31</td>\n",
       "    </tr>\n",
       "  </tbody>\n",
       "</table>\n",
       "<p>7693 rows × 35 columns</p>\n",
       "</div>"
      ],
      "text/plain": [
       "      apartment_id                                               name  \\\n",
       "0            11964                                 A ROOM WITH A VIEW   \n",
       "1            21853                               Bright and airy room   \n",
       "2            32347  Explore Cultural Sights from a Family-Friendly...   \n",
       "3            35379                  Double 02 CasanovaRooms Barcelona   \n",
       "4            35801                  Can Torras Farmhouse Studio Suite   \n",
       "...            ...                                                ...   \n",
       "7688      32392193                            Espectacular habitaci�n   \n",
       "7689      32392774   ? Tu Hogar de Lujo ????? en el Centro de Sevilla   \n",
       "7690      32395123                           Rooms by G Bella Mar�a 3   \n",
       "7691      32407332           LUMINOSO Y ENCANTADOR PISO CERCA DE TODO   \n",
       "7692      32423292   Apartament amb terrassa a 5 minuts de la platja.   \n",
       "\n",
       "                                            description    host_id  \\\n",
       "0     Private bedroom in our attic apartment. Right ...      45553   \n",
       "1     We have a quiet and sunny room with a good vie...      83531   \n",
       "2     Open French doors and step onto a plant-filled...     139939   \n",
       "3     Room at a my apartment. Kitchen and 2 bathroom...     152232   \n",
       "4     Lay in bed & watch sunlight change the mood of...     153805   \n",
       "...                                                 ...        ...   \n",
       "7688                                                NaN  238089984   \n",
       "7689  Exclusivo, amplio y luminoso alojamiento situa...  243246681   \n",
       "7690  The 2-star Bella Maria has 24-hourreception an...  159933359   \n",
       "7691  PISO MUY ILUMINADO CON UNA TERRAZA ESTUPENDA C...  187631805   \n",
       "7692  Apartament situat a Santa Margarita de Roses d...  158381471   \n",
       "\n",
       "                   neighbourhood_name neighbourhood_district        room_type  \\\n",
       "0                              Centro                    NaN     Private room   \n",
       "1                            C�rmenes                 Latina     Private room   \n",
       "2                         San Vicente          Casco Antiguo  Entire home/apt   \n",
       "3     l'Antiga Esquerra de l'Eixample               Eixample     Private room   \n",
       "4                               Quart                    NaN     Private room   \n",
       "...                               ...                    ...              ...   \n",
       "7688                      Sant Antoni               Eixample     Private room   \n",
       "7689                           Arenal          Casco Antiguo  Entire home/apt   \n",
       "7690                         Felanitx                    NaN  Entire home/apt   \n",
       "7691          Proven�als del Poblenou             Sant Mart�     Private room   \n",
       "7692                            Roses                    NaN  Entire home/apt   \n",
       "\n",
       "      accommodates  bathrooms  bedrooms  ...  review_scores_cleanliness  \\\n",
       "0                2        2.0       1.0  ...                      100.0   \n",
       "1                1        1.0       1.0  ...                       90.0   \n",
       "2                4        1.0       2.0  ...                      100.0   \n",
       "3                2        2.0       1.0  ...                       90.0   \n",
       "4                5        1.0       2.0  ...                      100.0   \n",
       "...            ...        ...       ...  ...                        ...   \n",
       "7688             1        1.0       1.0  ...                       90.0   \n",
       "7689             6        2.0       3.0  ...                      100.0   \n",
       "7690             2        1.0       1.0  ...                      100.0   \n",
       "7691             3        2.0       2.0  ...                      100.0   \n",
       "7692             4        2.0       1.0  ...                       90.0   \n",
       "\n",
       "     review_scores_checkin  review_scores_communication  \\\n",
       "0                    100.0                        100.0   \n",
       "1                    100.0                        100.0   \n",
       "2                    100.0                        100.0   \n",
       "3                    100.0                        100.0   \n",
       "4                    100.0                        100.0   \n",
       "...                    ...                          ...   \n",
       "7688                 100.0                        100.0   \n",
       "7689                 100.0                        100.0   \n",
       "7690                 100.0                        100.0   \n",
       "7691                 100.0                        100.0   \n",
       "7692                  90.0                         90.0   \n",
       "\n",
       "      review_scores_location  review_scores_value  is_instant_bookable  \\\n",
       "0                      100.0                100.0                FALSO   \n",
       "1                       80.0                 90.0                FALSO   \n",
       "2                      100.0                100.0            VERDADERO   \n",
       "3                      100.0                 90.0            VERDADERO   \n",
       "4                      100.0                100.0                FALSO   \n",
       "...                      ...                  ...                  ...   \n",
       "7688                   100.0                 90.0            VERDADERO   \n",
       "7689                   100.0                100.0                FALSO   \n",
       "7690                   100.0                 90.0            VERDADERO   \n",
       "7691                   100.0                100.0            VERDADERO   \n",
       "7692                    90.0                 90.0                FALSO   \n",
       "\n",
       "      reviews_per_month  country       city  insert_date  \n",
       "0                  75.0    spain     malaga   2018-07-31  \n",
       "1                  52.0    spain     madrid   2020-01-10  \n",
       "2                 142.0    spain    sevilla   2019-07-29  \n",
       "3                 306.0    spain  barcelona   2020-01-10  \n",
       "4                  39.0    spain     girona   2019-02-19  \n",
       "...                 ...      ...        ...          ...  \n",
       "7688               88.0    spain  barcelona   2019-10-16  \n",
       "7689              157.0    spain    sevilla   2021-01-31  \n",
       "7690               25.0    spain   mallorca   2019-04-24  \n",
       "7691              389.0    spain  barcelona   2019-08-12  \n",
       "7692               68.0    spain     girona   2019-08-31  \n",
       "\n",
       "[7693 rows x 35 columns]"
      ]
     },
     "execution_count": 15,
     "metadata": {},
     "output_type": "execute_result"
    }
   ],
   "source": [
    "import pandas as pd\n",
    "\n",
    "df = pd.read_csv(\"df_tourist_python_sprint2.csv\", sep= ';')\n",
    "\n",
    "df"
   ]
  },
  {
   "cell_type": "markdown",
   "id": "fdec72c3",
   "metadata": {},
   "source": [
    "Verificamos tipo de datos importados "
   ]
  },
  {
   "cell_type": "code",
   "execution_count": 16,
   "id": "cba974ee",
   "metadata": {},
   "outputs": [
    {
     "name": "stdout",
     "output_type": "stream",
     "text": [
      "<class 'pandas.core.frame.DataFrame'>\n",
      "RangeIndex: 7693 entries, 0 to 7692\n",
      "Data columns (total 35 columns):\n",
      " #   Column                       Non-Null Count  Dtype  \n",
      "---  ------                       --------------  -----  \n",
      " 0   apartment_id                 7693 non-null   int64  \n",
      " 1   name                         7690 non-null   object \n",
      " 2   description                  7643 non-null   object \n",
      " 3   host_id                      7693 non-null   int64  \n",
      " 4   neighbourhood_name           7693 non-null   object \n",
      " 5   neighbourhood_district       4669 non-null   object \n",
      " 6   room_type                    7693 non-null   object \n",
      " 7   accommodates                 7693 non-null   int64  \n",
      " 8   bathrooms                    7693 non-null   float64\n",
      " 9   bedrooms                     7693 non-null   float64\n",
      " 10  beds                         7693 non-null   float64\n",
      " 11  amenities_list               7677 non-null   object \n",
      " 12  price                        7693 non-null   float64\n",
      " 13  minimum_nights               7693 non-null   int64  \n",
      " 14  maximum_nights               7693 non-null   int64  \n",
      " 15  has_availability             7693 non-null   bool   \n",
      " 16  availability_30              7693 non-null   int64  \n",
      " 17  availability_60              7693 non-null   int64  \n",
      " 18  availability_90              7693 non-null   int64  \n",
      " 19  availability_365             7693 non-null   int64  \n",
      " 20  number_of_reviews            7693 non-null   int64  \n",
      " 21  first_review_date            6139 non-null   object \n",
      " 22  last_review_date             6138 non-null   object \n",
      " 23  review_scores_rating         7693 non-null   float64\n",
      " 24  review_scores_accuracy       7693 non-null   float64\n",
      " 25  review_scores_cleanliness    7693 non-null   float64\n",
      " 26  review_scores_checkin        7693 non-null   float64\n",
      " 27  review_scores_communication  7693 non-null   float64\n",
      " 28  review_scores_location       7693 non-null   float64\n",
      " 29  review_scores_value          7693 non-null   float64\n",
      " 30  is_instant_bookable          7693 non-null   object \n",
      " 31  reviews_per_month            7693 non-null   float64\n",
      " 32  country                      7693 non-null   object \n",
      " 33  city                         7693 non-null   object \n",
      " 34  insert_date                  7693 non-null   object \n",
      "dtypes: bool(1), float64(12), int64(10), object(12)\n",
      "memory usage: 2.0+ MB\n"
     ]
    }
   ],
   "source": [
    "df.info()"
   ]
  },
  {
   "cell_type": "markdown",
   "id": "725a5ad0",
   "metadata": {},
   "source": [
    "# Sprint 2:"
   ]
  },
  {
   "cell_type": "markdown",
   "id": "2ec34ab3",
   "metadata": {},
   "source": [
    "## KPI"
   ]
  },
  {
   "cell_type": "markdown",
   "id": "711fadcb",
   "metadata": {},
   "source": [
    "Tasa de Ocupación Mensual"
   ]
  },
  {
   "cell_type": "code",
<<<<<<< HEAD
   "execution_count": 4,
=======
   "execution_count": 17,
>>>>>>> e1fd16416781c6ee8327d19129a5f90bc9ef28a0
   "id": "7d9ee62a",
   "metadata": {},
   "outputs": [
    {
     "name": "stdout",
     "output_type": "stream",
     "text": [
      "Tasa de Ocupación Mensual: 58.65%\n"
     ]
    }
   ],
   "source": [
    "\n",
    "total_disponibilidad = df['availability_30'].sum() #Sumamos la disponibilidad total\n",
    "total_filas = len(df) #Número total de filas\n",
    "dias_totales = 30 * total_filas #Días totales disponibles\n",
    "\n",
    "tasa_ocupacion = (dias_totales - total_disponibilidad) / dias_totales\n",
    "\n",
    "print(f\"Tasa de Ocupación Mensual: {tasa_ocupacion:.2%}\") #Resultado con 2 decimales y en porcentaje"
   ]
  },
  {
   "cell_type": "code",
   "execution_count": 6,
   "id": "a34caa68",
   "metadata": {},
   "outputs": [
    {
     "data": {
      "application/vnd.plotly.v1+json": {
       "config": {
        "plotlyServerURL": "https://plot.ly"
       },
       "data": [
        {
         "marker": {
          "color": "#2D6A4F"
         },
         "text": [
          "58.65%"
         ],
         "textposition": "outside",
         "type": "bar",
         "x": [
          "Tasa de Ocupación Mensual Global"
         ],
         "y": [
          58.65158802374453
         ]
        }
       ],
       "layout": {
        "font": {
         "size": 16
        },
        "height": 400,
        "paper_bgcolor": "#D8F3DC",
        "plot_bgcolor": "#D8F3DC",
        "template": {
         "data": {
          "bar": [
           {
            "error_x": {
             "color": "#2a3f5f"
            },
            "error_y": {
             "color": "#2a3f5f"
            },
            "marker": {
             "line": {
              "color": "#E5ECF6",
              "width": 0.5
             },
             "pattern": {
              "fillmode": "overlay",
              "size": 10,
              "solidity": 0.2
             }
            },
            "type": "bar"
           }
          ],
          "barpolar": [
           {
            "marker": {
             "line": {
              "color": "#E5ECF6",
              "width": 0.5
             },
             "pattern": {
              "fillmode": "overlay",
              "size": 10,
              "solidity": 0.2
             }
            },
            "type": "barpolar"
           }
          ],
          "carpet": [
           {
            "aaxis": {
             "endlinecolor": "#2a3f5f",
             "gridcolor": "white",
             "linecolor": "white",
             "minorgridcolor": "white",
             "startlinecolor": "#2a3f5f"
            },
            "baxis": {
             "endlinecolor": "#2a3f5f",
             "gridcolor": "white",
             "linecolor": "white",
             "minorgridcolor": "white",
             "startlinecolor": "#2a3f5f"
            },
            "type": "carpet"
           }
          ],
          "choropleth": [
           {
            "colorbar": {
             "outlinewidth": 0,
             "ticks": ""
            },
            "type": "choropleth"
           }
          ],
          "contour": [
           {
            "colorbar": {
             "outlinewidth": 0,
             "ticks": ""
            },
            "colorscale": [
             [
              0,
              "#0d0887"
             ],
             [
              0.1111111111111111,
              "#46039f"
             ],
             [
              0.2222222222222222,
              "#7201a8"
             ],
             [
              0.3333333333333333,
              "#9c179e"
             ],
             [
              0.4444444444444444,
              "#bd3786"
             ],
             [
              0.5555555555555556,
              "#d8576b"
             ],
             [
              0.6666666666666666,
              "#ed7953"
             ],
             [
              0.7777777777777778,
              "#fb9f3a"
             ],
             [
              0.8888888888888888,
              "#fdca26"
             ],
             [
              1,
              "#f0f921"
             ]
            ],
            "type": "contour"
           }
          ],
          "contourcarpet": [
           {
            "colorbar": {
             "outlinewidth": 0,
             "ticks": ""
            },
            "type": "contourcarpet"
           }
          ],
          "heatmap": [
           {
            "colorbar": {
             "outlinewidth": 0,
             "ticks": ""
            },
            "colorscale": [
             [
              0,
              "#0d0887"
             ],
             [
              0.1111111111111111,
              "#46039f"
             ],
             [
              0.2222222222222222,
              "#7201a8"
             ],
             [
              0.3333333333333333,
              "#9c179e"
             ],
             [
              0.4444444444444444,
              "#bd3786"
             ],
             [
              0.5555555555555556,
              "#d8576b"
             ],
             [
              0.6666666666666666,
              "#ed7953"
             ],
             [
              0.7777777777777778,
              "#fb9f3a"
             ],
             [
              0.8888888888888888,
              "#fdca26"
             ],
             [
              1,
              "#f0f921"
             ]
            ],
            "type": "heatmap"
           }
          ],
          "histogram": [
           {
            "marker": {
             "pattern": {
              "fillmode": "overlay",
              "size": 10,
              "solidity": 0.2
             }
            },
            "type": "histogram"
           }
          ],
          "histogram2d": [
           {
            "colorbar": {
             "outlinewidth": 0,
             "ticks": ""
            },
            "colorscale": [
             [
              0,
              "#0d0887"
             ],
             [
              0.1111111111111111,
              "#46039f"
             ],
             [
              0.2222222222222222,
              "#7201a8"
             ],
             [
              0.3333333333333333,
              "#9c179e"
             ],
             [
              0.4444444444444444,
              "#bd3786"
             ],
             [
              0.5555555555555556,
              "#d8576b"
             ],
             [
              0.6666666666666666,
              "#ed7953"
             ],
             [
              0.7777777777777778,
              "#fb9f3a"
             ],
             [
              0.8888888888888888,
              "#fdca26"
             ],
             [
              1,
              "#f0f921"
             ]
            ],
            "type": "histogram2d"
           }
          ],
          "histogram2dcontour": [
           {
            "colorbar": {
             "outlinewidth": 0,
             "ticks": ""
            },
            "colorscale": [
             [
              0,
              "#0d0887"
             ],
             [
              0.1111111111111111,
              "#46039f"
             ],
             [
              0.2222222222222222,
              "#7201a8"
             ],
             [
              0.3333333333333333,
              "#9c179e"
             ],
             [
              0.4444444444444444,
              "#bd3786"
             ],
             [
              0.5555555555555556,
              "#d8576b"
             ],
             [
              0.6666666666666666,
              "#ed7953"
             ],
             [
              0.7777777777777778,
              "#fb9f3a"
             ],
             [
              0.8888888888888888,
              "#fdca26"
             ],
             [
              1,
              "#f0f921"
             ]
            ],
            "type": "histogram2dcontour"
           }
          ],
          "mesh3d": [
           {
            "colorbar": {
             "outlinewidth": 0,
             "ticks": ""
            },
            "type": "mesh3d"
           }
          ],
          "parcoords": [
           {
            "line": {
             "colorbar": {
              "outlinewidth": 0,
              "ticks": ""
             }
            },
            "type": "parcoords"
           }
          ],
          "pie": [
           {
            "automargin": true,
            "type": "pie"
           }
          ],
          "scatter": [
           {
            "fillpattern": {
             "fillmode": "overlay",
             "size": 10,
             "solidity": 0.2
            },
            "type": "scatter"
           }
          ],
          "scatter3d": [
           {
            "line": {
             "colorbar": {
              "outlinewidth": 0,
              "ticks": ""
             }
            },
            "marker": {
             "colorbar": {
              "outlinewidth": 0,
              "ticks": ""
             }
            },
            "type": "scatter3d"
           }
          ],
          "scattercarpet": [
           {
            "marker": {
             "colorbar": {
              "outlinewidth": 0,
              "ticks": ""
             }
            },
            "type": "scattercarpet"
           }
          ],
          "scattergeo": [
           {
            "marker": {
             "colorbar": {
              "outlinewidth": 0,
              "ticks": ""
             }
            },
            "type": "scattergeo"
           }
          ],
          "scattergl": [
           {
            "marker": {
             "colorbar": {
              "outlinewidth": 0,
              "ticks": ""
             }
            },
            "type": "scattergl"
           }
          ],
          "scattermap": [
           {
            "marker": {
             "colorbar": {
              "outlinewidth": 0,
              "ticks": ""
             }
            },
            "type": "scattermap"
           }
          ],
          "scattermapbox": [
           {
            "marker": {
             "colorbar": {
              "outlinewidth": 0,
              "ticks": ""
             }
            },
            "type": "scattermapbox"
           }
          ],
          "scatterpolar": [
           {
            "marker": {
             "colorbar": {
              "outlinewidth": 0,
              "ticks": ""
             }
            },
            "type": "scatterpolar"
           }
          ],
          "scatterpolargl": [
           {
            "marker": {
             "colorbar": {
              "outlinewidth": 0,
              "ticks": ""
             }
            },
            "type": "scatterpolargl"
           }
          ],
          "scatterternary": [
           {
            "marker": {
             "colorbar": {
              "outlinewidth": 0,
              "ticks": ""
             }
            },
            "type": "scatterternary"
           }
          ],
          "surface": [
           {
            "colorbar": {
             "outlinewidth": 0,
             "ticks": ""
            },
            "colorscale": [
             [
              0,
              "#0d0887"
             ],
             [
              0.1111111111111111,
              "#46039f"
             ],
             [
              0.2222222222222222,
              "#7201a8"
             ],
             [
              0.3333333333333333,
              "#9c179e"
             ],
             [
              0.4444444444444444,
              "#bd3786"
             ],
             [
              0.5555555555555556,
              "#d8576b"
             ],
             [
              0.6666666666666666,
              "#ed7953"
             ],
             [
              0.7777777777777778,
              "#fb9f3a"
             ],
             [
              0.8888888888888888,
              "#fdca26"
             ],
             [
              1,
              "#f0f921"
             ]
            ],
            "type": "surface"
           }
          ],
          "table": [
           {
            "cells": {
             "fill": {
              "color": "#EBF0F8"
             },
             "line": {
              "color": "white"
             }
            },
            "header": {
             "fill": {
              "color": "#C8D4E3"
             },
             "line": {
              "color": "white"
             }
            },
            "type": "table"
           }
          ]
         },
         "layout": {
          "annotationdefaults": {
           "arrowcolor": "#2a3f5f",
           "arrowhead": 0,
           "arrowwidth": 1
          },
          "autotypenumbers": "strict",
          "coloraxis": {
           "colorbar": {
            "outlinewidth": 0,
            "ticks": ""
           }
          },
          "colorscale": {
           "diverging": [
            [
             0,
             "#8e0152"
            ],
            [
             0.1,
             "#c51b7d"
            ],
            [
             0.2,
             "#de77ae"
            ],
            [
             0.3,
             "#f1b6da"
            ],
            [
             0.4,
             "#fde0ef"
            ],
            [
             0.5,
             "#f7f7f7"
            ],
            [
             0.6,
             "#e6f5d0"
            ],
            [
             0.7,
             "#b8e186"
            ],
            [
             0.8,
             "#7fbc41"
            ],
            [
             0.9,
             "#4d9221"
            ],
            [
             1,
             "#276419"
            ]
           ],
           "sequential": [
            [
             0,
             "#0d0887"
            ],
            [
             0.1111111111111111,
             "#46039f"
            ],
            [
             0.2222222222222222,
             "#7201a8"
            ],
            [
             0.3333333333333333,
             "#9c179e"
            ],
            [
             0.4444444444444444,
             "#bd3786"
            ],
            [
             0.5555555555555556,
             "#d8576b"
            ],
            [
             0.6666666666666666,
             "#ed7953"
            ],
            [
             0.7777777777777778,
             "#fb9f3a"
            ],
            [
             0.8888888888888888,
             "#fdca26"
            ],
            [
             1,
             "#f0f921"
            ]
           ],
           "sequentialminus": [
            [
             0,
             "#0d0887"
            ],
            [
             0.1111111111111111,
             "#46039f"
            ],
            [
             0.2222222222222222,
             "#7201a8"
            ],
            [
             0.3333333333333333,
             "#9c179e"
            ],
            [
             0.4444444444444444,
             "#bd3786"
            ],
            [
             0.5555555555555556,
             "#d8576b"
            ],
            [
             0.6666666666666666,
             "#ed7953"
            ],
            [
             0.7777777777777778,
             "#fb9f3a"
            ],
            [
             0.8888888888888888,
             "#fdca26"
            ],
            [
             1,
             "#f0f921"
            ]
           ]
          },
          "colorway": [
           "#636efa",
           "#EF553B",
           "#00cc96",
           "#ab63fa",
           "#FFA15A",
           "#19d3f3",
           "#FF6692",
           "#B6E880",
           "#FF97FF",
           "#FECB52"
          ],
          "font": {
           "color": "#2a3f5f"
          },
          "geo": {
           "bgcolor": "white",
           "lakecolor": "white",
           "landcolor": "#E5ECF6",
           "showlakes": true,
           "showland": true,
           "subunitcolor": "white"
          },
          "hoverlabel": {
           "align": "left"
          },
          "hovermode": "closest",
          "mapbox": {
           "style": "light"
          },
          "paper_bgcolor": "white",
          "plot_bgcolor": "#E5ECF6",
          "polar": {
           "angularaxis": {
            "gridcolor": "white",
            "linecolor": "white",
            "ticks": ""
           },
           "bgcolor": "#E5ECF6",
           "radialaxis": {
            "gridcolor": "white",
            "linecolor": "white",
            "ticks": ""
           }
          },
          "scene": {
           "xaxis": {
            "backgroundcolor": "#E5ECF6",
            "gridcolor": "white",
            "gridwidth": 2,
            "linecolor": "white",
            "showbackground": true,
            "ticks": "",
            "zerolinecolor": "white"
           },
           "yaxis": {
            "backgroundcolor": "#E5ECF6",
            "gridcolor": "white",
            "gridwidth": 2,
            "linecolor": "white",
            "showbackground": true,
            "ticks": "",
            "zerolinecolor": "white"
           },
           "zaxis": {
            "backgroundcolor": "#E5ECF6",
            "gridcolor": "white",
            "gridwidth": 2,
            "linecolor": "white",
            "showbackground": true,
            "ticks": "",
            "zerolinecolor": "white"
           }
          },
          "shapedefaults": {
           "line": {
            "color": "#2a3f5f"
           }
          },
          "ternary": {
           "aaxis": {
            "gridcolor": "white",
            "linecolor": "white",
            "ticks": ""
           },
           "baxis": {
            "gridcolor": "white",
            "linecolor": "white",
            "ticks": ""
           },
           "bgcolor": "#E5ECF6",
           "caxis": {
            "gridcolor": "white",
            "linecolor": "white",
            "ticks": ""
           }
          },
          "title": {
           "x": 0.05
          },
          "xaxis": {
           "automargin": true,
           "gridcolor": "white",
           "linecolor": "white",
           "ticks": "",
           "title": {
            "standoff": 15
           },
           "zerolinecolor": "white",
           "zerolinewidth": 2
          },
          "yaxis": {
           "automargin": true,
           "gridcolor": "white",
           "linecolor": "white",
           "ticks": "",
           "title": {
            "standoff": 15
           },
           "zerolinecolor": "white",
           "zerolinewidth": 2
          }
         }
        },
        "title": {
         "text": "Tasa de Ocupación Mensual Global",
         "x": 0.5
        },
        "width": 600,
        "xaxis": {
         "title": {
          "text": ""
         }
        },
        "yaxis": {
         "range": [
          0,
          100
         ],
         "ticksuffix": "%",
         "title": {
          "text": "Porcentaje (%)"
         }
        }
       }
      }
     },
     "metadata": {},
     "output_type": "display_data"
    }
   ],
   "source": [
    "import plotly.graph_objects as go\n",
    "\n",
    "# Cálculo de la tasa de ocupación mensual global\n",
    "total_disponibilidad = df['availability_30'].sum()\n",
    "total_filas = len(df)\n",
    "dias_totales = 30 * total_filas\n",
    "\n",
    "tasa_ocupacion = (dias_totales - total_disponibilidad) / dias_totales * 100  # en %\n",
    "\n",
    "# Crear figura con Plotly\n",
    "fig = go.Figure(go.Bar(\n",
    "    x=['Tasa de Ocupación Mensual Global'],  # texto alargado para buena visibilidad\n",
    "    y=[tasa_ocupacion],\n",
    "    marker_color='#2D6A4F',  # verde oscuro\n",
    "    text=[f\"{tasa_ocupacion:.2f}%\"],\n",
    "    textposition='outside'\n",
    "))\n",
    "\n",
    "# Layout\n",
    "fig.update_layout(\n",
    "    title='Tasa de Ocupación Mensual Global',\n",
    "    title_x=0.5,\n",
    "    plot_bgcolor='#D8F3DC',\n",
    "    paper_bgcolor='#D8F3DC',\n",
    "    yaxis=dict(\n",
    "        title='Porcentaje (%)',\n",
    "        range=[0, 100],\n",
    "        ticksuffix='%'\n",
    "    ),\n",
    "    xaxis=dict(title=''),\n",
    "    font=dict(size=16),\n",
    "    height=400,\n",
    "    width=600,\n",
    ")\n",
    "\n",
    "fig.show()\n",
    "\n"
   ]
  },
  {
   "cell_type": "markdown",
   "id": "e3e28c72",
   "metadata": {},
   "source": [
    "Crear columnas ocupación 30/60/90/365"
   ]
  },
  {
   "cell_type": "code",
   "execution_count": 18,
   "id": "48e1b315",
   "metadata": {},
   "outputs": [
    {
     "data": {
      "application/vnd.microsoft.datawrangler.viewer.v0+json": {
       "columns": [
        {
         "name": "index",
         "rawType": "int64",
         "type": "integer"
        },
        {
         "name": "apartment_id",
         "rawType": "int64",
         "type": "integer"
        },
        {
         "name": "name",
         "rawType": "object",
         "type": "unknown"
        },
        {
         "name": "description",
         "rawType": "object",
         "type": "unknown"
        },
        {
         "name": "host_id",
         "rawType": "int64",
         "type": "integer"
        },
        {
         "name": "neighbourhood_name",
         "rawType": "object",
         "type": "string"
        },
        {
         "name": "neighbourhood_district",
         "rawType": "object",
         "type": "unknown"
        },
        {
         "name": "room_type",
         "rawType": "object",
         "type": "string"
        },
        {
         "name": "accommodates",
         "rawType": "int64",
         "type": "integer"
        },
        {
         "name": "bathrooms",
         "rawType": "float64",
         "type": "float"
        },
        {
         "name": "bedrooms",
         "rawType": "float64",
         "type": "float"
        },
        {
         "name": "beds",
         "rawType": "float64",
         "type": "float"
        },
        {
         "name": "amenities_list",
         "rawType": "object",
         "type": "unknown"
        },
        {
         "name": "price",
         "rawType": "float64",
         "type": "float"
        },
        {
         "name": "minimum_nights",
         "rawType": "int64",
         "type": "integer"
        },
        {
         "name": "maximum_nights",
         "rawType": "int64",
         "type": "integer"
        },
        {
         "name": "has_availability",
         "rawType": "bool",
         "type": "boolean"
        },
        {
         "name": "availability_30",
         "rawType": "int64",
         "type": "integer"
        },
        {
         "name": "availability_60",
         "rawType": "int64",
         "type": "integer"
        },
        {
         "name": "availability_90",
         "rawType": "int64",
         "type": "integer"
        },
        {
         "name": "availability_365",
         "rawType": "int64",
         "type": "integer"
        },
        {
         "name": "number_of_reviews",
         "rawType": "int64",
         "type": "integer"
        },
        {
         "name": "first_review_date",
         "rawType": "object",
         "type": "unknown"
        },
        {
         "name": "last_review_date",
         "rawType": "object",
         "type": "unknown"
        },
        {
         "name": "review_scores_rating",
         "rawType": "float64",
         "type": "float"
        },
        {
         "name": "review_scores_accuracy",
         "rawType": "float64",
         "type": "float"
        },
        {
         "name": "review_scores_cleanliness",
         "rawType": "float64",
         "type": "float"
        },
        {
         "name": "review_scores_checkin",
         "rawType": "float64",
         "type": "float"
        },
        {
         "name": "review_scores_communication",
         "rawType": "float64",
         "type": "float"
        },
        {
         "name": "review_scores_location",
         "rawType": "float64",
         "type": "float"
        },
        {
         "name": "review_scores_value",
         "rawType": "float64",
         "type": "float"
        },
        {
         "name": "is_instant_bookable",
         "rawType": "object",
         "type": "string"
        },
        {
         "name": "reviews_per_month",
         "rawType": "float64",
         "type": "float"
        },
        {
         "name": "country",
         "rawType": "object",
         "type": "string"
        },
        {
         "name": "city",
         "rawType": "object",
         "type": "string"
        },
        {
         "name": "insert_date",
         "rawType": "object",
         "type": "string"
        },
        {
         "name": "occupied_days_30",
         "rawType": "int64",
         "type": "integer"
        },
        {
         "name": "occupied_days_60",
         "rawType": "int64",
         "type": "integer"
        },
        {
         "name": "occupied_days_90",
         "rawType": "int64",
         "type": "integer"
        },
        {
         "name": "occupied_days_365",
         "rawType": "int64",
         "type": "integer"
        }
       ],
       "conversionMethod": "pd.DataFrame",
       "ref": "dc1a7ef6-0ea3-4af0-a934-1e37167b7797",
       "rows": [
        [
         "0",
         "11964",
         "A ROOM WITH A VIEW",
         "Private bedroom in our attic apartment. Right in the heart of the pedestrian downtown area. Outstanding views from our large terrace and modern, fully renovated interior. Double bed in a fully renovated downtown attic. We live in a 1881 building in the heart of town. One minute away from the Picasso museum, Calle Larios and the cathedral. It is a 100 square meter apartment and a 45 square meter terrace with outstanding views of the cathedral and the whole downtown area and churches, plus an outdoor barbecue. The apartment underwent an 8 month renovation and is in pristine condition, with Italian appliances and light fixtures, Murano glass tiles and marble floors.  The building has an elevator up to the 4ht floor and we live on the 5th. All of downtown M�laga is pedestrian, so you will be guaranteed no traffic noise and pleasant walks. There are hundreds of restaurants and shops in the neighborhood as well; impossible to run out of things to do. Common areas As often as our guests want ",
         "45553",
         "Centro",
         null,
         "Private room",
         "2",
         "2.0",
         "1.0",
         "1.0",
         "TV,Internet,Wifi,Air conditioning,Elevator,Buzzer/wireless intercom,Heating,Washer,Smoke detector,Carbon monoxide detector,Essentials,Shampoo,24-hour check-in,Hangers,Hair dryer,Iron,Laptop friendly workspace,translation missing: en.hosting_amenity_49,translation missing: en.hosting_amenity_50",
         "400.0",
         "3",
         "365",
         "True",
         "7",
         "20",
         "40",
         "130",
         "78",
         "2010-01-02",
         "2017-09-05",
         "97.0",
         "100.0",
         "100.0",
         "100.0",
         "100.0",
         "100.0",
         "100.0",
         "FALSO",
         "75.0",
         "spain",
         "malaga",
         "2018-07-31",
         "23",
         "40",
         "50",
         "235"
        ],
        [
         "1",
         "21853",
         "Bright and airy room",
         "We have a quiet and sunny room with a good view in our 3 bedroom flat. In a welcoming atmosphere, our clean and respectful flatshare is located in a leafy neighbourhood with all facilities: shops, library, caf�s and bars, a swimming pools, gyms, and fantastic parks. Well connected by metro and bus with the centre: 15 minutes. For walks, we are also a 20 min stroll away from the riverside. I am living in a nice flat near the centre of Madrid (15 minutes by bus). We are relaxed, clean, and independent. The flat is located in a leafy neighbourhood with plenty of facilities: little shops, supermarkets, public library, swimming pools (covered and summer ones), tennis courts and free parking outside the flat. It is well connected by public transport (various bus and metro lines). The room is sunny and well presented. There are two bathrooms, one of which you would share with a guest. It has triple glazing and we provide fresh bedlinen and towels, so that packing is lighter for our guests. We",
         "83531",
         "C�rmenes",
         "Latina",
         "Private room",
         "1",
         "1.0",
         "1.0",
         "1.0",
         "TV,Internet,Wifi,Air conditioning,Kitchen,Free parking on premises,Doorman,Elevator,Heating,Washer,First aid kit,Fire extinguisher,Essentials,Shampoo,Lock on bedroom door,Hangers,Hair dryer,Iron,Laptop friendly workspace,translation missing: en.hosting_amenity_49,translation missing: en.hosting_amenity_50,Hot water,Bed linens,Extra pillows and blankets,Pocket wifi,Microwave,Coffee maker,Refrigerator,Dishes and silverware,Cooking basics,Oven",
         "170.0",
         "4",
         "40",
         "True",
         "0",
         "0",
         "0",
         "162",
         "33",
         "2014-10-10",
         "2018-07-15",
         "92.0",
         "90.0",
         "90.0",
         "100.0",
         "100.0",
         "80.0",
         "90.0",
         "FALSO",
         "52.0",
         "spain",
         "madrid",
         "2020-01-10",
         "30",
         "60",
         "90",
         "203"
        ],
        [
         "2",
         "32347",
         "Explore Cultural Sights from a Family-Friendly Apartment",
         "Open French doors and step onto a plant-filled terrace that feels like an oasis of calm in the center of the city. White-on-white decor, an ultramodern kitchen, and splashes of color create a fun and relaxing atmosphere for adults and kids alike.",
         "139939",
         "San Vicente",
         "Casco Antiguo",
         "Entire home/apt",
         "4",
         "1.0",
         "2.0",
         "2.0",
         "TV,Internet,Wifi,Air conditioning,Wheelchair accessible,Kitchen,Elevator,Buzzer/wireless intercom,Heating,Washer,Dryer,Smoke detector,Carbon monoxide detector,First aid kit,Fire extinguisher,Essentials,Shampoo,24-hour check-in,Hangers,Hair dryer,Iron,Laptop friendly workspace,Crib,Pack �n Play/travel crib,Body soap,Bath towel,Toilet paper,Bed linens,Extra pillows and blankets,Coffee maker,Host greets you,Full kitchen,Bedroom comforts,Bathroom essentials",
         "990.0",
         "2",
         "120",
         "True",
         "26",
         "31",
         "31",
         "270",
         "148",
         "2011-01-05",
         "2019-07-22",
         "98.0",
         "100.0",
         "100.0",
         "100.0",
         "100.0",
         "100.0",
         "100.0",
         "VERDADERO",
         "142.0",
         "spain",
         "sevilla",
         "2019-07-29",
         "4",
         "29",
         "59",
         "95"
        ],
        [
         "3",
         "35379",
         "Double 02 CasanovaRooms Barcelona",
         "Room at a my apartment. Kitchen and 2 bathrooms to share. Free self service breakfast. Free wifi,  TV, towels, bed linen, Ceiling fan, desk and balcony to the back of the building. I also have at guests disposal vanity kits and hairdryers. Washing machine, iron and printer on request. My apartment is located in the Eixample quarter close to the commercial area and the centre of town. I provide private rooms: one single room and two double rooms with self-service breakfast. You can also use the kitchen to cook quick meals. I also provide free wifi connection.  All rooms are equipped with a tv set, clean bed linen, fresh towels, heating and a ceiling fan.  I am on to the blue line (L5) and the underground station is �Hospital Cl�nic�. Make sure you take the exit marked as �Sortida Villarroel/Cl�nic�. From there on, you only need to walk 1 minute to �Carrer Casanova�. Though located centrally, we're on a residential and not touristic neighborhood. Metro stop Hospital Clinic line 5 (blue",
         "152232",
         "l'Antiga Esquerra de l'Eixample",
         "Eixample",
         "Private room",
         "2",
         "2.0",
         "1.0",
         "1.0",
         "TV,Internet,Wifi,Kitchen,Breakfast,Elevator,Buzzer/wireless intercom,Heating,Washer,Essentials,Lock on bedroom door,Hangers,Hair dryer,Iron,translation missing: en.hosting_amenity_49,translation missing: en.hosting_amenity_50,Hot water,Microwave,Coffee maker,Refrigerator,Dishes and silverware,Cooking basics,Stove,Patio or balcony,Host greets you,Paid parking on premises,Shower gel",
         "400.0",
         "2",
         "730",
         "True",
         "9",
         "23",
         "49",
         "300",
         "292",
         "2012-03-13",
         "2020-01-04",
         "94.0",
         "100.0",
         "90.0",
         "100.0",
         "100.0",
         "100.0",
         "90.0",
         "VERDADERO",
         "306.0",
         "spain",
         "barcelona",
         "2020-01-10",
         "21",
         "37",
         "41",
         "65"
        ],
        [
         "4",
         "35801",
         "Can Torras Farmhouse Studio Suite",
         "Lay in bed & watch sunlight change the mood of distant valley hills! This suite of rooms includes a double bedroom, twin bed room (& space for a third), private bathroom & entrance, living & dining area plus a delicious, home-made breakfast. There's a jacuzzi, plunge pool, pergola & organic gardens to explore. The ancient city of Girona is only 20 mins away. Great for romantic breaks & families with older children. English spoken. Proud to be fully registered with the Catalan Tourist Board. Can Torras is a recently renovated, ecolodge in the national park of Gavarres, on a hill top behind the ancient city of Girona. This suite has all the charm of an old farmhouse, but the services & environmental improvements of modern living.  A fantastic breakfast is included in your stay, plus the freedom to wander in our organic garden, relax in a hammock under the pergola, plunge in the pool or bask in our hot spa, as you enjoy magnificent views down the valley.   The Studio Suite includes a doub",
         "153805",
         "Quart",
         null,
         "Private room",
         "5",
         "1.0",
         "2.0",
         "5.0",
         "Wifi,Pool,Free parking on premises,Breakfast,Pets live on this property,Dog(s),Cat(s),Other pet(s),Hot tub,Indoor fireplace,Heating,Family/kid friendly,Washer,Dryer,Smoke detector,Carbon monoxide detector,Essentials,Shampoo,24-hour check-in,Hangers,Hair dryer,Iron,Laptop friendly workspace,translation missing: en.hosting_amenity_50,Bathtub,Baby bath,High chair,Children�s books and toys,Crib,Children�s dinnerware,Hot water,Bed linens,Extra pillows and blankets,Coffee maker,Refrigerator,Dishes and silverware,Garden or backyard,Luggage dropoff allowed,Long term stays allowed,Wide hallway clearance,Wide doorway,Well-lit path to entrance,Host greets you",
         "900.0",
         "1",
         "180",
         "True",
         "0",
         "19",
         "49",
         "312",
         "36",
         "2011-07-08",
         "2018-08-08",
         "97.0",
         "100.0",
         "100.0",
         "100.0",
         "100.0",
         "100.0",
         "100.0",
         "FALSO",
         "39.0",
         "spain",
         "girona",
         "2019-02-19",
         "30",
         "41",
         "41",
         "53"
        ],
        [
         "5",
         "48764",
         "18th C Stone House near Costa Brava",
         "Casa Fluvia is a charming stone village house in a Catalan village on the Costa Brava just 5 km from the sea. A perfect base for enjoying culture, cuisine, history, nature, and sports as well as the sea. Spacious house suitable for up to 8 people.  If your stay is less than one week, please request a price for the period you are interested in.  It is very difficult to cover all eventualities and different lengths of stay using the automatic system. Tourist Registration Ref: HUTG  000207 CASA FLUVI� IS A 18TH CENTURY STONE VILLAGE HOUSE WITH 3 DOUBLE BEDROOMS AND 1 TWIN BEDROOM.  - rooftop terrace and solarium  - first floor living area 30s Catalan style - ground floor living area typical of 18th century stone farmhouse The house is within 5 km of some of the best Costa Brava beaches, set in a quiet Mediterranean village in the Empord� with views of the Pyrenees, surrounding fields and neighbours working and paying their daily social visits.  This fully renovated house features vaulted",
         "220145",
         "Torroella de Fluvi�",
         null,
         "Entire home/apt",
         "8",
         "2.0",
         "4.0",
         "5.0",
         "TV,Internet,Wifi,Kitchen,Free street parking,Heating,Family/kid friendly,Washer,Smoke detector,First aid kit,Safety card,Fire extinguisher,Essentials,Shampoo,Hangers,Hair dryer,Iron,Laptop friendly workspace,Private entrance,Crib,Hot water,Host greets you",
         "900.0",
         "5",
         "95",
         "True",
         "0",
         "0",
         "0",
         "235",
         "25",
         "2011-06-04",
         "2018-08-25",
         "96.0",
         "100.0",
         "100.0",
         "100.0",
         "100.0",
         "90.0",
         "100.0",
         "FALSO",
         "27.0",
         "spain",
         "girona",
         "2019-02-19",
         "30",
         "60",
         "90",
         "130"
        ],
        [
         "6",
         "58512",
         "Stylish & cozy 3BR near Sagrada Familia",
         "Welcome to my home!<br /><br />My lovely 3 bedroom apartment is located in a traditional Catalan neighborhood close to Hospital Sant Pau (10 min walk) and the iconic Sagrada Familia (20 min walk). Enjoy exploring Barcelona with ease - two nearest metro stations:  Camp de l�Arpa (4 min by walk) and Clot (6 min by walk). Very safe area, quiet at night and family-friendly.<br />Gorgeous wooden floors, open ceilings, a modern and stylish decor and a beautifully integrated American kitchen add to the flat�s charm.<br /><br /><b>The space</b><br />My 3 bedroom apartment is spacious, with beautifully quirky decor and a relaxed feel. It�s the ideal place to come back to after a day of exploring. Great transport links and at a walking distance from Sagrada Familia mean you�ll be right in the hub of the city but able to escape the hustle and bustle! <br /><br />The living area is very cozy with a large, comfy sofa-bed and a flat-screen TV with HBO included, so please sit back and make yourself a",
         "280070",
         "el Camp de l'Arpa del Clot",
         "Sant Mart�",
         "Entire home/apt",
         "6",
         "2.0",
         "3.0",
         "4.0",
         "Shampoo, Washer, Wifi, Oven, Cooking basics, Hair dryer, TV, Heating, Extra pillows and blankets, First aid kit, Smoke alarm, Hangers, Essentials, Air conditioning, Bed linens, Stove, Carbon monoxide alarm, Microwave, Paid parking off premises, Host greets you, Hot water, Bathtub, Kitchen, Iron, Long term stays allowed, Refrigerator, Fire extinguisher, Coffee maker, Laptop-friendly workspace, Dishes and silverware]",
         "950.0",
         "5",
         "90",
         "True",
         "30",
         "60",
         "90",
         "331",
         "382",
         "2011-04-08",
         "2020-03-02",
         "89.0",
         "90.0",
         "90.0",
         "90.0",
         "90.0",
         "90.0",
         "90.0",
         "VERDADERO",
         "329.0",
         "spain",
         "barcelona",
         "2020-10-12",
         "0",
         "0",
         "0",
         "34"
        ],
        [
         "7",
         "71603",
         "PENTHOUSE1 BEST PRICE 15/21.07 PROMO LAST MINUTE!",
         "The apartment you are about to book has everything you need for a top quality stay.  We have more than 6 years providing people around the world the perfect home away from home, so relax and enjoy, you are on the perfect hands now...  HUTB-003878 Old world style meets modern convenience in a newly renovated penthouse for rent in the heart of Barcelona�s city center. Whether searching for a romantic get-away or family holidays, our Ausias Marc apartment guarantees a comfortable and luxury stay.The apartment has been completely renovated and modernized to achieve the quality and high standard necessary to make this a luxury apartment for our visitor to Barcelona.You can see this from the moment you step into the tastefully, styled fireplace, as well as the perfectly preserved facade of the 18th Century Palace where this apartment is located. The apartment is located in a building catalogued as an historical an esthetical emblem of Barcelona. The location cannot be better, the neighborhoo",
         "366654",
         "la Dreta de l'Eixample",
         "Eixample",
         "Entire home/apt",
         "3",
         "2.0",
         "1.0",
         "4.0",
         "TV,Cable TV,Internet,Wireless Internet,Air conditioning,Kitchen,Smoking allowed,Pets allowed,Doorman,Gym,Elevator,Hot tub,Indoor fireplace,Heating,Family/kid friendly,Suitable for events,Washer,Dryer",
         "3900.0",
         "3",
         "5",
         "True",
         "28",
         "55",
         "85",
         "360",
         "33",
         "2011-02-16",
         "2017-06-05",
         "94.0",
         "100.0",
         "100.0",
         "100.0",
         "90.0",
         "100.0",
         "90.0",
         "FALSO",
         "42.0",
         "spain",
         "barcelona",
         "2017-07-06",
         "2",
         "5",
         "5",
         "5"
        ],
        [
         "8",
         "72150",
         "Sunny attic duplex flat with terrace next to Sol",
         "The apartment is a quiet, secluded idyll in the heart of Madrid. It was renovated and redecorated in 2014. With 3 bedrooms distributed over 2 floors, it can host up to 9 people (1 double bed and 1 single bed per bedroom). You will enjoy the intimacy and quiet  of the rooftop terrace.<br /><br /><b>The space</b><br />The apartment is a quiet, secluded idyll in the heart of Madrid. It offers a breathtaking view of the city and the surrounding landscape from an intimate rooftop terrace. <br />The apartment is on the fourth floor of a historic building from the late 19th century. It has been completely renovated and redecorated in 2014.   <br />The main living space is a spacious, living / dining area, which is directly connected to a large terrace, through a large sliding glass door.<br />The total living area is 90 square meters, including upstairs, downstairs and a 20 square meters terrace. The first floor contains a living room, American-style open-plan kitchen, a bathroom, and a bedro",
         "364585",
         "Embajadores",
         "Centro",
         "Entire home/apt",
         "5",
         "2.0",
         "3.0",
         "6.0",
         "Shampoo, Luggage dropoff allowed, Paid parking on premises, Refrigerator, Coffee maker, Long term stays allowed, Dryer, Heating, Hot water, Patio or balcony, Washer, Oven, Stove, Air conditioning, Wifi, Essentials, Kitchen, Dishes and silverware, Smoke alarm, Iron, Cooking basics, Hangers, Carbon monoxide alarm, Laptop-friendly workspace, Hot tub, Hair dryer, Microwave, Building staff]",
         "790.0",
         "2",
         "1125",
         "True",
         "29",
         "59",
         "89",
         "179",
         "108",
         "2011-02-13",
         "2020-07-31",
         "91.0",
         "90.0",
         "90.0",
         "100.0",
         "100.0",
         "100.0",
         "90.0",
         "FALSO",
         "91.0",
         "spain",
         "madrid",
         "2020-11-06",
         "1",
         "1",
         "1",
         "186"
        ],
        [
         "9",
         "73683",
         "Sagrada Familia area for 12 people",
         "An ideal location for a big group, two apartments in the same building, one directly above the other.  Huge choice of stunning experiences can be included: Jet skis, Flyboard, Parasailing, Jet boat, Hoverboard, Sailing trips, Kayaks, Segways ... NOTE: Local city tax is NOT included in the price paid to Airbnb and must be paid upon arrival. Currently the city tax is �2.48 per person per night up to a maximum of 7 nights for guests over 16 years old. NOTE: If you want to see all my properties and boats please have a look at: https://www.airbnb.com/s?host_id=135703. The apartments are situated on the second and third floors, at the front, in a traditional 1930�s apartment block, which has recently been fully restored to a high standard. You can also add different stunning activities:  - Jet Ski rides, �100 for 30 minutes, or 180� for 60 minutes (no license required - up to 2 people). - Flyboard experience: �85 / 15 minutes (1 person), �160 / 30 minutes (up to 2 people), �300 / 60 min. (up",
         "135703",
         "el Camp d'en Grassot i Gr�cia Nova",
         "Gr�cia",
         "Entire home/apt",
         "12",
         "2.0",
         "4.0",
         "14.0",
         "TV,Cable TV,Internet,Wifi,Air conditioning,Kitchen,Paid parking off premises,Elevator,Buzzer/wireless intercom,Heating,Family/kid friendly,Washer,Smoke detector,Carbon monoxide detector,Fire extinguisher,Essentials,Shampoo,24-hour check-in,Hangers,Hair dryer,Iron,Laptop friendly workspace,Self check-in,Smart lock,High chair,Pack �n Play/travel crib,Hot water,Luggage dropoff allowed",
         "3000.0",
         "2",
         "60",
         "True",
         "8",
         "12",
         "23",
         "296",
         "120",
         "2011-06-04",
         "2018-05-20",
         "92.0",
         "90.0",
         "90.0",
         "100.0",
         "100.0",
         "90.0",
         "90.0",
         "VERDADERO",
         "14.0",
         "spain",
         "barcelona",
         "2018-06-09",
         "22",
         "48",
         "67",
         "69"
        ],
        [
         "10",
         "73692",
         "Rustic apartment : Rambla Catalunya (HUTB-005863)",
         "Located in the centre of Barcelona (near Plaza Catalunya and Passeig de Gracia), this wonderful 2 bedroom apartment is on the 4th floor of a charming building, on the famous road called Ramba de Catalunya. Ideal for groups of up to 5 people Located in the centre of Barcelona , this wonderful centrally heated apartment is on the 4th floor of a charming building (with elevator), removing it from the bustle of the street below. This beautifully decorated 2 bedroom apartment is a hit for groups of up to 5 people, and boasts a bright twin bedroom with large cupboard for storage, and a small interior single bedroom, with smaller storage space. Both bedrooms lead to the air-conditioned lounge, containing the comfortable double sofa bed, and the dining and TV areas. The main bedroom and lounge also have balconies, from which you can view the world below. The bathroom contains a shower cubicle, while the kitchen is fully equipped with all the conveniences you�d expect such as electric cooker, f",
         "297545",
         "la Dreta de l'Eixample",
         "Eixample",
         "Entire home/apt",
         "5",
         "1.0",
         "2.0",
         "3.0",
         "TV,Wireless Internet,Air conditioning,Kitchen,Elevator,Buzzer/wireless intercom,Heating,Family/kid friendly,Washer,Fire extinguisher,Essentials,Hangers,Hair dryer,Iron",
         "1050.0",
         "2",
         "90",
         "True",
         "9",
         "39",
         "63",
         "307",
         "29",
         "2012-08-01",
         "2017-08-03",
         "84.0",
         "90.0",
         "80.0",
         "100.0",
         "90.0",
         "100.0",
         "90.0",
         "VERDADERO",
         "46.0",
         "spain",
         "barcelona",
         "2017-10-07",
         "21",
         "21",
         "27",
         "58"
        ],
        [
         "11",
         "79755",
         "3Br-2bath-AC Full 5 stars reviews!",
         "90 m2 apartment, 2 baths, 3 bedrooms. Fully equipped kitchen, dishwasher, washing machine, etc. There is WiFi internet, TV, DVD, HiFi, air conditioning and programable heating. Lots of public transport within 1 minute distance and great location. Come visit Barcelona and stay where locals live. Enjoy my quiet, sunny and beautifully located apartment! I am right now living on it, with my wife and baby, but we will be out during the dates you have chosen (and will leave it perfectly ready for you). This means it is even better equipped, including baby stuff, but it has changed a bit from the pictures. Contact me previously if you have any questions. My place is a 90 m2 apartment (around 1000 sq. feet) with air conditioning, 2 double bedrooms (one with a king size bed and one with 2 individual beds) and an additional single bedroom, plus 2 full bathrooms. The living-room is large and bright. The kitchen is fully equipped, with everything necessary to cook, laundry machine and dishwasher.",
         "429939",
         "l'Antiga Esquerra de l'Eixample",
         "Eixample",
         "Entire home/apt",
         "5",
         "2.0",
         "3.0",
         "4.0",
         "TV,Internet,Wireless Internet,Air conditioning,Wheelchair accessible,Kitchen,Doorman,Elevator,Heating,Family/kid friendly,Washer,Smoke detector,Carbon monoxide detector,Fire extinguisher,Essentials,Shampoo,24-hour check-in,Hangers,Hair dryer,Iron,Laptop friendly workspace,Outlet covers,Bathtub,Baby bath,Changing table,High chair,Children�s books and toys,Crib,Pack �n Play/travel crib,Room-darkening shades,Children�s dinnerware,Game console,Hot water,Bed linens,Extra pillows and blankets,Ethernet connection,Microwave,Coffee maker,Refrigerator,Dishwasher,Dishes and silverware,Cooking basics,Oven,Stove",
         "1100.0",
         "3",
         "365",
         "True",
         "9",
         "10",
         "10",
         "10",
         "189",
         "2011-04-24",
         "2016-10-01",
         "98.0",
         "100.0",
         "100.0",
         "100.0",
         "100.0",
         "100.0",
         "100.0",
         "VERDADERO",
         "234.0",
         "spain",
         "barcelona",
         "2017-12-09",
         "21",
         "50",
         "80",
         "355"
        ],
        [
         "12",
         "89756",
         "Old town 1, 6minutesfrom Ramblas",
         "ONLY FOR FAMILIES or people over 25 years old! Old town Ramblas  1 apartment with 3 BEDROOM  Right in the city centre only 6/7 minutes from Las Ramblas, so walking distance to all the major attractions, Gothic quarter, beach, montjuic. 8 beds including sof� beds (2 double + 2 single + 4 sofabeds) it is forbidden to add more people than 9 we could ask you to leave the apartment if you break this rule. Thanks. ith tourist licence:  N�HUTB 003874 ONLY FOR FAMILIES ro people over 25 years old!    The Old Town 1 apartment Apartment with a total capacity up to  9 guests/groups of families. 3 BEDROOMS   Right in the city centre only 6/7 minutes from Las Ramblas, so walking distance to all the major attractions, Gothic quarter and the Port but in a nice quiet street so you can sleep at night. It has 3 double bedrooms;   with 8 beds including the sofa beds  :      1 bedroom   with 1 king size bed + 1 single sofa bed   (for 3 people) 1 bedroom with 2 single  beds for 2 people  (this bed can be j",
         "488117",
         "el Raval",
         "Ciutat Vella",
         "Entire home/apt",
         "9",
         "1.0",
         "3.0",
         "8.0",
         "TV,Wireless Internet,Air conditioning,Wheelchair accessible,Kitchen,Elevator in building,Buzzer/wireless intercom,Heating,Family/kid friendly,Washer,Smoke detector,Carbon monoxide detector,Fire extinguisher,Essentials,Hangers,Hair dryer,Iron",
         "2800.0",
         "6",
         "60",
         "True",
         "7",
         "23",
         "53",
         "328",
         "9",
         "2012-11-02",
         "2016-11-29",
         "89.0",
         "90.0",
         "90.0",
         "100.0",
         "100.0",
         "90.0",
         "80.0",
         "VERDADERO",
         "17.0",
         "spain",
         "barcelona",
         "2017-04-08",
         "23",
         "37",
         "37",
         "37"
        ],
        [
         "13",
         "89776",
         "Modernist flat Downtown Casa Estap� | Barcelona",
         "Unique and rare ! Stay in the Casa Estap�, jewel of catalan modernism.  In the city center of Barcelona, perfectly situated for metro and North Station, the 40m2 apartment is a protected monument, fully equipped, double bedroom and view to Passeig de Sant Joan. = > It can only be rented through Airbnb. Apartment of 40 m in beautiful modernist building called Casa Estap�, first house of the Modernist road.  It consists of a living room, overlooking the Passeig de Sant Joan and the Arc de Triomph, with an American kitchen and a sofa bed, a large bedroom with a 160x190 cm bed and a complete bathroom with an Italian shower.  Located in the city center, on Passeig de Sant Joan adjacent to the Arc de Triomphe, 5 minutes from the Parque de la Ciutadella and the Born and 10 minutes walk from Plaza Catalunya and the historic town (Ciutat Vella neighborhood and Gothic).  Perfectly connected by metro (stop on the same block) and bus, and 200 meters from the North Station (bus to Girona airport).",
         "488151",
         "el Fort Pienc",
         "Eixample",
         "Entire home/apt",
         "4",
         "1.0",
         "1.0",
         "2.0",
         "TV,Internet,Wifi,Air conditioning,Kitchen,Elevator,Buzzer/wireless intercom,Heating,Family/kid friendly,Essentials,Shampoo,Hangers,Hair dryer,Iron,Laptop friendly workspace",
         "650.0",
         "3",
         "365",
         "True",
         "7",
         "18",
         "41",
         "224",
         "322",
         "2011-11-10",
         "2019-12-01",
         "96.0",
         "100.0",
         "100.0",
         "100.0",
         "100.0",
         "100.0",
         "100.0",
         "VERDADERO",
         "327.0",
         "spain",
         "barcelona",
         "2019-12-10",
         "23",
         "42",
         "49",
         "141"
        ],
        [
         "14",
         "89954",
         "Amazing apt in the historic center",
         "Beautiful, new, central and cosy apartment perfect for a family or friends trip with everything you need to feel as at your own home. We try to offer the best accommodation for our guests Newly refurbished apartment. Beautiful, charming and comfortable. Duplex apartment: First floor with spacious living room, kitchen and bathroom. Second floor with two double bedrooms including wardrobes. Lumber room. High quality construction materials. La Latina-Austrias area. Most ancient and beautiful Downtown neighbourhood in the city but feeling like living in a small town. Street with restricted traffic. 10 minutes walking distance to Plaza Mayor and 5 minutes to Palacio Real. Next to everything (few minutes walking distance): Palacio Real, Museo del Prado, Thyssen and Reina Sof�a, traditional markets, shopping, located in one of the best �tapas� areas in Madrid. High speed Internet access WI-FI, printer, i pod player, dvd and cd player, LCD TV, juicer, toaster, hairdryer, kettle, coffee maker,",
         "487095",
         "Palacio",
         "Centro",
         "Entire home/apt",
         "6",
         "1.0",
         "2.0",
         "3.0",
         "TV,Cable TV,Wifi,Air conditioning,Kitchen,Elevator,Heating,Family/kid friendly,Washer,Smoke detector,First aid kit,Fire extinguisher,Essentials,Shampoo,Hangers,Hair dryer,Iron,Laptop friendly workspace,translation missing: en.hosting_amenity_50,High chair,Children�s books and toys,Crib,Hot water,Luggage dropoff allowed,Long term stays allowed,Host greets you,Paid parking on premises",
         "1030.0",
         "2",
         "20",
         "True",
         "27",
         "48",
         "49",
         "61",
         "181",
         "2011-07-01",
         "2018-11-01",
         "97.0",
         "100.0",
         "100.0",
         "100.0",
         "100.0",
         "100.0",
         "100.0",
         "FALSO",
         "202.0",
         "spain",
         "madrid",
         "2018-11-07",
         "3",
         "12",
         "41",
         "304"
        ],
        [
         "15",
         "96807",
         "double room, bathroom",
         "Double room Private bathroom with shower ROOM 1: With double bed or two single beds  Special offers for groups or families: Can be 6 guests in 3 bedrooms  .- Extra person �. 15 ROOM 2: 1 SINGLE BED ROOM 3: 1 DOUBLE BED AND 1 SINGLE BED FACILITIES: Excellent location train Cercanias Renfe (urban & fastest)  5 blocks to the station,   7 minutes to Atocha, 15 minutes to Puerta del Sol, downtown, tourism, theaters, cinemas retaurantes Casino Madrid museums, the Prado, Reina Sofia, Tissen, Plaza de Cibeles, Retiro Park. The bus 136  at the corner of the houuse. And metro close 8 corners of the house. wi-fi cable tv washer and dryer The room over loks a pedestrian street a garden area, is very quiet, where  no car traffic,  and  is very  sunny all year. There are  all kinds of good supermarkets and 2 shopping malls in our area. The house is our family, my grandson Angel  26 years old and I, we speak several languages, Spanish, English, Bulgarian, German, you  are welcome to stay with",
         "513331",
         "Palomeras Bajas",
         "Puente de Vallecas",
         "Private room",
         "2",
         "1.0",
         "1.0",
         "2.0",
         "TV,Internet,Wifi,Wheelchair accessible,Kitchen,Free parking on premises,Elevator,Buzzer/wireless intercom,Heating,Washer,Dryer,Essentials,Lock on bedroom door,Hangers,Hair dryer,Iron,translation missing: en.hosting_amenity_49,translation missing: en.hosting_amenity_50,Bed linens,Extra pillows and blankets,Ethernet connection,Pocket wifi",
         "290.0",
         "4",
         "365",
         "True",
         "30",
         "60",
         "90",
         "365",
         "77",
         "2011-06-08",
         "2019-07-07",
         "91.0",
         "90.0",
         "90.0",
         "90.0",
         "90.0",
         "80.0",
         "90.0",
         "FALSO",
         "74.0",
         "spain",
         "madrid",
         "2019-12-10",
         "0",
         "0",
         "0",
         "0"
        ],
        [
         "16",
         "101580",
         "Big house in PARADISE",
         "Luxury and quiet villa in Cala Canyelles (2km from Lloret de Mar, and 6km from Tossa de Mar) 67km to Barcelona. This villa is divided in 4 completely independent apartments. Both on main floor are joined in a very big space but can be separated by a double door.  The other 2 are completely independent. 1000m2 plot with gardens, big swimming-pool 13x6,5m, gimnastic, sauna and jacuzzi. house. It is situated in, Cala Canyelles a private urbanization between Lloret de Mar and Tossa de Mar. The house is 700m to the Canyelles beach, 2km to Lloret de Mar and 6km from Tossa de Mar. There are 4 apartments (completely independent) sharing the swimming pool, and spa. (also the washing machine and dry-machine). Every Apartment has a double master bedroom and a saloon where there is a double single beds that are the sofa-beds. The bed sheet and towels are included. Apartments upstairs (4 and 5) can be joined together as a common big space (on ap 4 you can have lunch together up to 16 people)....t",
         "532063",
         "Lloret de Mar",
         null,
         "Entire home/apt",
         "16",
         "4.0",
         "4.0",
         "12.0",
         "TV,Cable TV,Internet,Wifi,Air conditioning,Pool,Kitchen,Free parking on premises,Gym,Hot tub,Indoor fireplace,Heating,Suitable for events,Washer,Dryer,Smoke detector,Carbon monoxide detector,Essentials,Shampoo,Hangers,Hair dryer,Iron,Laptop friendly workspace,translation missing: en.hosting_amenity_49,translation missing: en.hosting_amenity_50,Crib,Hot water,Long term stays allowed,Host greets you",
         "950.0",
         "2",
         "30",
         "True",
         "22",
         "52",
         "82",
         "237",
         "14",
         "2017-05-28",
         "2018-10-14",
         "99.0",
         "100.0",
         "100.0",
         "100.0",
         "100.0",
         "90.0",
         "100.0",
         "VERDADERO",
         "73.0",
         "spain",
         "girona",
         "2018-12-22",
         "8",
         "8",
         "8",
         "128"
        ],
        [
         "17",
         "103386",
         "Central 2 Bedrooms, 3/5 pers. Wi-Fi",
         "This is Edificio Palomar Apartments, I will try to make you feel like home and you will discover Valencia in a great location, just right in the Historical Center. Because every journey is an experience we want to be part of yours. Located right in the Historical Centre you can find this new apartment in a restored 19th-century building, 2 bedrooms + sunny living-room + kitchen + 1 bathroom. Sleep max 5 persons , beds distribution: 1 double and 2 single beds + sofa bed. Lift access and fully equipped: -Towels and hairdryer included. - Microwave. - Oven. - Fridge & Freezer. - Dishwasher. - Toaster. - Hand blender. - Coffee Machine + Kettle. - Orange Juice Squeezer. - Cutlery, Table ware. - Coffee set. - Crockery. - TV in lounge and Master room. - DVD player. - Bed linen. - Air conditioning cool / heat. - Free Internet Wi-Fi.  - Baby set: Cot + baby chair + baby bath (for free). - Free luggage room service. You can rent a bike or moto Vespa to visit the City, also Segway tours. Recepti",
         "508042",
         "EL PILAR",
         "CIUTAT VELLA",
         "Entire home/apt",
         "5",
         "1.0",
         "2.0",
         "3.0",
         "TV,Wifi,Air conditioning,Kitchen,Paid parking off premises,Elevator,Buzzer/wireless intercom,Heating,Family/kid friendly,Washer,Dryer,First aid kit,Safety card,Fire extinguisher,Essentials,Shampoo,24-hour check-in,Hangers,Hair dryer,Iron,Laptop friendly workspace,Baby bath,High chair,Children�s books and toys,Crib,Pack �n Play/travel crib,Hot water,Bed linens,Microwave,Coffee maker,Refrigerator,Dishwasher,Dishes and silverware,Cooking basics,Oven,Stove,Patio or balcony,Luggage dropoff allowed,Host greets you",
         "840.0",
         "1",
         "14",
         "True",
         "17",
         "38",
         "64",
         "229",
         "13",
         "2011-11-01",
         "2019-04-19",
         "93.0",
         "100.0",
         "100.0",
         "100.0",
         "90.0",
         "90.0",
         "100.0",
         "FALSO",
         "13.0",
         "spain",
         "valencia",
         "2019-10-31",
         "13",
         "22",
         "26",
         "136"
        ],
        [
         "18",
         "107437",
         "A beautiful  villa in Barcelona",
         "A conserved, period villa situated in the midst of the lung of Barcelona.Unbeatably situated within the metropolitan area of Barcelona and in the midst of the Collserola Nature Reserve. A beautiful, 1930s house Tourist L :HUTB-009025 The house is at  3 minutes walking to the metro station  A conserved, period villa situated in the midst of the lung of Barcelona.Unbeatably situated within the metropolitan area of Barcelona and in the midst of the Collserola Nature Reserve. A beautiful, 1930s house, pleasantly situated in typically Mediterranean woodland with terraces. Recently restored maintaining its original, officially catalogued style. , at an unbelievable 5, 10 or 15 minutes by metro  to the center  and at only 3 minutes walk from the nearest station, Les Planes. Surounded by nature, wildlife and silence, yet maintaining the advantages of a great city, the house is ideal for combining work and holidaying, creativity and culture activities or simply enjoying moments of tranq",
         "556626",
         "Vallvidrera, el Tibidabo i les Planes",
         "Sarri�-Sant Gervasi",
         "Entire home/apt",
         "8",
         "2.0",
         "5.0",
         "6.0",
         "TV,Wifi,Kitchen,Free parking on premises,Smoking allowed,Pets allowed,Doorman,Free street parking,Buzzer/wireless intercom,Heating,Family/kid friendly,Washer,Dryer,Smoke detector,Carbon monoxide detector,First aid kit,Fire extinguisher,Essentials,Shampoo,24-hour check-in,Hangers,Hair dryer,Iron,Laptop friendly workspace,Crib,Hot water,Host greets you",
         "2200.0",
         "3",
         "120",
         "True",
         "12",
         "41",
         "59",
         "250",
         "34",
         "2011-07-08",
         "2018-07-28",
         "93.0",
         "100.0",
         "100.0",
         "100.0",
         "100.0",
         "100.0",
         "90.0",
         "VERDADERO",
         "38.0",
         "spain",
         "barcelona",
         "2018-10-10",
         "18",
         "19",
         "31",
         "115"
        ],
        [
         "19",
         "121210",
         "BIG ROOM IN CITY CENTER,NEAR BEACH!",
         "The best room in Barcelona!  Nice room, in a central and quiet part of Barcelona. Very near of the beach. With fast WIFI of course. In my opini�n, the best option for rest after one jorney discovering this amazing city. HELLO!  My name is Carmen, and I've got a newly renovated apartment in central Barcelona for your holiday in this cosmopolitan city! For rent is a bedroom for two people. The room is spacious, bright and quiet, and the apartment is very nice, spacious, bright and well kept... with a huge balcony!  WHAT DOES THE PRICE INCLUDE? Night in a double bed, sheets, towels, wardrobe, and access to the entire apartment (also the kitchen, which is fully equipped). And WIFI WHAT IS NOT INCLUDED? Noise. The windows and balcony overlook a quiet pedestrian street, so that you can rest well. (this is important, in city center usually there are so noise) In the flat there are 3 rooms, you are booking for one, and there are other for other guests, and other for me. You can use all apartme",
         "594334",
         "el Fort Pienc",
         "Eixample",
         "Private room",
         "2",
         "0.0",
         "1.0",
         "1.0",
         "TV,Internet,Wifi,Kitchen,Elevator,Washer,Essentials,translation missing: en.hosting_amenity_49,translation missing: en.hosting_amenity_50",
         "510.0",
         "5",
         "365",
         "True",
         "13",
         "38",
         "68",
         "68",
         "154",
         "2011-05-31",
         "2017-12-09",
         "89.0",
         "90.0",
         "90.0",
         "90.0",
         "90.0",
         "90.0",
         "90.0",
         "FALSO",
         "184.0",
         "spain",
         "barcelona",
         "2018-04-12",
         "17",
         "22",
         "22",
         "297"
        ],
        [
         "20",
         "128463",
         "Private Suite in residential area!!",
         "My House is located in the quiet district of Sants, catalan typical neighborhood. It is very close to the metro and bus, and just 10 minutes to the Centre. It is a quiet neighborhood, and cheaper than the Center. There are many restaurants and bars.. Welcome to Barcelona!!! Private suite whith  Double Bed and private bathroom, tv, cupboards. Suitable for either a couple or individual user.  I provide linens and towels. Convenient location:  7 minutes by metro from Centre of Barcelona. 7 minutes walking to Sants Central Train Station. 15 minutes walking to the Football Club Barcelona 10 minutes walking to Montjuic Fair and L'Hospitalet  ((MOBILE WORLD CONGRESS), congress and exhibition area) 3 minutes walking to all transportation (bus or metro) Restaurants, bars, groceries, pharmacy, general shopping- 3 minutes Bus #46 - direct to airport- 3 minutes walk.  Located in the District of Sants, very quiet and safe. Sants is a neighborhood in the southern part of Barcelona. Formerly an indus",
         "635253",
         "Sants",
         "Sants-Montju�c",
         "Private room",
         "2",
         "2.0",
         "1.0",
         "1.0",
         "TV,Wireless Internet,Air conditioning,Kitchen,Heating,Family/kid friendly,Smoke detector,Carbon monoxide detector,Essentials,Shampoo,Hangers,Hair dryer,Iron,Laptop friendly workspace,Bed linens,Extra pillows and blankets,Microwave,Coffee maker,Refrigerator,Dishes and silverware,Oven,Stove,Garden or backyard,Long term stays allowed",
         "300.0",
         "3",
         "1125",
         "True",
         "3",
         "16",
         "28",
         "264",
         "184",
         "2011-09-03",
         "2018-01-23",
         "97.0",
         "100.0",
         "100.0",
         "100.0",
         "100.0",
         "90.0",
         "100.0",
         "VERDADERO",
         "235.0",
         "spain",
         "barcelona",
         "2018-02-07",
         "27",
         "44",
         "62",
         "101"
        ],
        [
         "21",
         "131987",
         "SEVILLA CENTER 4 PAX.GREAT REVIEWS 1 BR+WIFI+AC",
         "OFFER SPRING & SUMMER : -5 or 6 nights=5% disccount off -7 nights ( or more )= 15 % disccount off -Max. capacity=4 guests -Located in hystoric quarter of Sevilla -Walking distance to all sights -Air conditioning/heating -WiFi -Lots of natural light -Bus to Airport ( EA line )+Plaza de Armas Bus Station+Public Parking in Plaza de Armas (5 min walking) -93% 5 stars reviews N� de Registro vivienda de Uso Turistico : VFT/SE/504 *VERY IMPORTANT ADVICE : Since mid-June (Phone number hidden by Airbnb) , in the cleaning process after each check-out, the use of an OZONE generating machine will be implemented to disinfect all rooms. This will lengthen the time required in the total cleaning process between each check-out and check-in, and therefore guests are asked to understand if the check-in time at the property should be delayed a bit . *OFFERS : *SPECIAL LONG STAY OFFERS ( from 2 weeks ) FOR APRIL , MAY , JUNE, JULY & SEPTEMBER *OFFERS SPRING & SUMMER : -5 or 6 nights=5% disccount off -7 n",
         "1535528",
         "San Vicente",
         "Casco Antiguo",
         "Entire home/apt",
         "4",
         "1.0",
         "1.0",
         "2.0",
         "TV,Wifi,Air conditioning,Kitchen,Paid parking off premises,Heating,Family/kid friendly,Washer,First aid kit,Fire extinguisher,Essentials,Shampoo,Hangers,Hair dryer,Iron,Bathtub,Hot water,Bed linens,Extra pillows and blankets,Ethernet connection,Microwave,Coffee maker,Refrigerator,Dishes and silverware,Cooking basics,Oven,Stove,Patio or balcony,Long term stays allowed,Host greets you",
         "690.0",
         "4",
         "365",
         "True",
         "30",
         "60",
         "90",
         "163",
         "235",
         "2012-03-12",
         "2020-03-12",
         "98.0",
         "100.0",
         "100.0",
         "100.0",
         "100.0",
         "100.0",
         "100.0",
         "VERDADERO",
         "235.0",
         "spain",
         "sevilla",
         "2020-05-30",
         "0",
         "0",
         "0",
         "202"
        ],
        [
         "22",
         "144471",
         "BEST ZONEPL.CATALU�A ROOM X 2BATHROOM +WIFI",
         "HELLO PEOPLE :=)  are you on vacation? or business? Perhaps a student? or just passing through ..! is just what you need ..! =) I' renting a room per days, weeks or monthly Rent a quiet and comfortable rooms in a beautifully renovated apartment. ROOMS DESCRIPTIONS: ROOM #1 It is a double room with a double bed and closet ideal for relaxing after a long day! In summer could has different price, depend of the season or week events in BCN. The most important thing!!! the flat is my home, I'm opening the doors of my home for you, please take care of it as yours, keep everything clean and respect the place.   Only one rule we have, DRUNK PEOPLE ARE NOT ALLOWED IN MY HOME, PLEASE!! THANKS!! if you are the person who like drink and drink without any control until get sick, this is not your place!! sorry!! ;D EXTRA SERVICES:  Kitchen not available for cooking * refrigerator use and microwave are free. FREE SERVICES FROM THE HOST:- WiFi, Fresh water bottle. - Cookies for breakfast. - Calls fixe",
         "700165",
         "Sant Antoni",
         "Eixample",
         "Private room",
         "2",
         "1.0",
         "1.0",
         "1.0",
         "Wifi,Wheelchair accessible,Elevator,Heating,Family/kid friendly,Washer,Smoke detector,Fire extinguisher,Essentials,Hangers,Iron,Laptop friendly workspace,Crib,Hot water,Host greets you,Paid parking on premises",
         "490.0",
         "2",
         "365",
         "True",
         "19",
         "49",
         "79",
         "354",
         "34",
         "2011-07-04",
         "2018-08-15",
         "88.0",
         "80.0",
         "90.0",
         "90.0",
         "90.0",
         "90.0",
         "80.0",
         "FALSO",
         "38.0",
         "spain",
         "barcelona",
         "2018-10-10",
         "11",
         "11",
         "11",
         "11"
        ],
        [
         "23",
         "157327",
         "House in Llofriu (Costa Brava)",
         "New rebuilt and furnished house pool bbq If you and your family/friends want to get relaxed in a quiet atmosphere with splendid views over Emporda area this is the place to stay! 8 km from Pals beach and 5 km from Palafrugell and La Bisbal downtowns House in the middle of countryside with an amazing view over the Emporda area. All new, from walls to furniture, decorated with very good taste. 230 square meters and 8,000 square meters of garden-terrain. 4 bedrooms with ensuite bathroom: 1 doble bed room  2 rooms with twin beds  and  1 room with 1 single bed and another one underneath that can be taken out. Fully equipped kitchen. Very large and comfortable dinning and sitting room.  Comfortable in/out swimming pool Terrace with places for dinning and sitting. BBQ by the pool.  WC for visits. Located in a quiet paradise that creates an immense relaxed atmosphere, unbelievable dawns and sunsets.   8 km away from Pals beach and 5 km from Palafrugell and La Bisbal downtowns. Ideal for famili",
         "755634",
         "Forallac",
         null,
         "Entire home/apt",
         "8",
         "5.0",
         "4.0",
         "8.0",
         "TV,Air conditioning,Pool,Kitchen,Free parking on premises,Indoor fireplace,Buzzer/wireless intercom,Heating,Family/kid friendly,Washer,Dryer,Fire extinguisher,Essentials,Shampoo",
         "950.0",
         "7",
         "90",
         "True",
         "27",
         "57",
         "87",
         "362",
         "1",
         "2015-08-18",
         "2015-08-18",
         "80.0",
         "80.0",
         "100.0",
         "100.0",
         "100.0",
         "80.0",
         "80.0",
         "FALSO",
         "2.0",
         "spain",
         "girona",
         "2020-04-30",
         "3",
         "3",
         "3",
         "3"
        ],
        [
         "24",
         "158238",
         "CENTRAL Wi Fi  w/TERRASSE 8 people",
         "Welcome to Barcelona ! Barcelona is a colorfull city with an amazing athmosphere plenty of experiences to enjoy. We want you to feel the Barcelona experience in our JUST RENEWED apartment a few minutes from the city center. Not included : touristic tax. Is 2,25 euros per person and night with a maximum of 7 nights Expenses of water, electricity are included untill 150 euros per month. Internet Included. Late check in after 8 pm : 25 euros Late check in after 10 pm : 35 euros Raquel 4 double rooms. 2 single beds And 3 double beds Metro Line 3 Palza del Centro stop Registro: (PHONE NUMBER HIDDEN)   Expedient (PHONE NUMBER HIDDEN) Registro: (PHONE NUMBER HIDDEN)   Expedient (PHONE NUMBER HIDDEN)",
         "759411",
         "les Corts",
         "Les Corts",
         "Entire home/apt",
         "8",
         "2.0",
         "4.0",
         "5.0",
         "TV,Internet,Wifi,Kitchen,Paid parking off premises,Smoking allowed,Pets allowed,Elevator,Buzzer/wireless intercom,Family/kid friendly,Washer,Essentials,Hair dryer,Iron,translation missing: en.hosting_amenity_50,Hot water,Host greets you",
         "1200.0",
         "3",
         "365",
         "True",
         "24",
         "54",
         "84",
         "359",
         "97",
         "2011-07-22",
         "2018-05-21",
         "89.0",
         "90.0",
         "80.0",
         "100.0",
         "100.0",
         "90.0",
         "90.0",
         "FALSO",
         "116.0",
         "spain",
         "barcelona",
         "2018-06-09",
         "6",
         "6",
         "6",
         "6"
        ],
        [
         "25",
         "164621",
         "Nice&Cozy ensuite DoubleBedroom",
         "** Please, always check availability before booking ** Thanks! Monthly rate available on request during low season. If this room is booked, I rent another one in the same flat, have a look: https://www.airbnb.es/rooms/164364 About the apartment: 3 Bedrooms 2 Bathrooms (1 en-suite) Fully furnished kitchen Living Room Patio/Terrace The flat is spacious and well distributed. There are 3 bedrooms: 2 for airbnb guests and one is mine. The kitchen is modern, functional and fully equipped. The living room is at the higher floor, it has 2 super comfy sofa, a yoga space and a very good vibe. There is a TV (smaller than the one on the photos). The patio is great for relaxing on the hammock and chilling out in the pleasant summer evenings.  This double room is the best and largest room of the flat: it has en-suite private bathroom and it overlooks the patio. The location is great! The flat is located in Porto Pi, a very convenient area close to...everything! Next door there is Porto Pi shopping c",
         "684289",
         "Palma de Mallorca",
         null,
         "Private room",
         "1",
         "1.0",
         "1.0",
         "0.0",
         "TV,Wifi,Kitchen,Smoking allowed,Free street parking,Buzzer/wireless intercom,Heating,Family/kid friendly,Washer,Essentials,Hangers,Hair dryer,Iron,Private entrance,Hot water,Luggage dropoff allowed,Long term stays allowed,Host greets you",
         "330.0",
         "7",
         "1125",
         "True",
         "10",
         "39",
         "69",
         "344",
         "44",
         "2011-07-26",
         "2017-06-25",
         "95.0",
         "100.0",
         "100.0",
         "100.0",
         "100.0",
         "90.0",
         "90.0",
         "FALSO",
         "45.0",
         "spain",
         "mallorca",
         "2019-08-31",
         "20",
         "21",
         "21",
         "21"
        ],
        [
         "26",
         "170750",
         "2-bedroom attic & rooftop terrace",
         "JESUS DEL VALLE Apartment Gorgeous, bright two-bedroom attic apartment with a great terrace and all the amenities. Set in a strategic location very close to Gran V�a, the main commercial and entertainment area in Madrid. This flat is perfect for couples, families or a group of friends. FEATURES This bright apartment outfitted with all comforts has an open loft-style living room with two single  beds like sofa,  connecting to a fully-equipped kitchen with all the necessary appliances to make your stay as homey as possible.   The living room also leads out to a large (20 m2) terrace, with outdoor furniture , allowing you to enjoy wonderful views of the sunset over the city rooftops and Madrid sky-line.  The apartment has a master bedroom with a double bed and another smaller bedroom with a double bed, both with built-in wardrobes. Amenities. 4th 1/2  floor with elevator ( last 10 steps on foot), air conditioning, electric heating, bed linens & towels, refrigerator, oven, microwave, kitch",
         "814490",
         "Universidad",
         "Centro",
         "Entire home/apt",
         "4",
         "1.0",
         "2.0",
         "4.0",
         "TV,Cable TV,Wifi,Air conditioning,Kitchen,Smoking allowed,Elevator,Heating,Family/kid friendly,Washer,Essentials,Shampoo,Hangers,Hair dryer,Iron,Bathtub,Hot water,Bed linens,Extra pillows and blankets,Microwave,Coffee maker,Refrigerator,Dishwasher,Dishes and silverware,Cooking basics,Oven,Stove,Patio or balcony,Well-lit path to entrance,Step-free access,Step-free access,Host greets you,Paid parking on premises",
         "900.0",
         "2",
         "30",
         "True",
         "11",
         "11",
         "11",
         "17",
         "189",
         "2011-10-28",
         "2018-11-18",
         "90.0",
         "90.0",
         "90.0",
         "100.0",
         "100.0",
         "100.0",
         "90.0",
         "FALSO",
         "218.0",
         "spain",
         "madrid",
         "2018-12-10",
         "19",
         "49",
         "79",
         "348"
        ],
        [
         "27",
         "176827",
         "Se alquilan habitaciones en Madrid",
         "Es un piso totalmente reformado. Todas las habitaciones tienen llave y est�n amuebladas. Se puede ir andando a todos los lugares importantes de Madrid. Las personas que se queden por meses tienen derecho a cocina, wii, calefacci�n, lavadora, etc. En el piso tenemos 5 ba�os y 2 duchas. Todas las habitaciones est�n amuebladas, algunas tienen medio ba�o dentro, tienen llave en la puerta. . Las personas que alquilen por meses tienen derecho a cocina, lavadora, wifi, etc. Las personas que alquilen por d�as sueltos, tienen derecho a wifi, microondas, frigorifico, utilizar platos, vasos, cubiertos, ( no los hornillos de la cocina ). La lavadora es un servicio aparte. Lo que sea necesario Esta rodeado de cines, teatros, centros comerciales, restaurantes, museos, etc. Se puede ir andando a todos los sitios importantes. El autob�s que sale del aeropuerto, la parada la tiene en Cibeles y se tarde 10 minutos andando al piso. Esta comunicado con todo tipo de transportes a metro, autobuses, tren etc",
         "845399",
         "Universidad",
         "Centro",
         "Private room",
         "7",
         "5.0",
         "1.0",
         "7.0",
         "TV,Internet,Wireless Internet,Kitchen,Smoking allowed,Heating,Washer,Dryer,Fire extinguisher,Shampoo,Lock on bedroom door,24-hour check-in,Hangers,Hair dryer,Iron,translation missing: en.hosting_amenity_49,translation missing: en.hosting_amenity_50",
         "280.0",
         "1",
         "730",
         "True",
         "13",
         "43",
         "72",
         "347",
         "156",
         "2012-02-06",
         "2017-04-02",
         "83.0",
         "80.0",
         "90.0",
         "90.0",
         "90.0",
         "90.0",
         "90.0",
         "VERDADERO",
         "248.0",
         "spain",
         "madrid",
         "2017-04-08",
         "17",
         "17",
         "18",
         "18"
        ],
        [
         "28",
         "178456",
         "Apartment 50m from beach in Alcudia Port, MALLORCA",
         "Nice apartment in Port d'Alc�dia, just a minute walk from the beach. Bright place with traditional Majorcan style decor.  Two bedrooms and big living room, with large terraces. Fully equipped. Bed linen and towels (bath, as well as beach) are included. Also beach accessories (like hammocks or umbrellas), as well as toys for children. It has everything you need to spend a few days (full kitchen with all kinds of accessories, oven, microwave, dishwasher, washing machine). Very well located. Fully equiped apartment with 2 complete bedrooms (with double bed) / 1 bathroom recently renovated / 1 large living room with big sofa / complete kitchen with all kind of accessories and appliances / big terraces). Very well located: - 50m. from the best beach in the north of Mallorca: Port d'Alc�dia. - 50m. from the big lake. - Less than 3 km. from s'Albufera (the only protected natural park in the whole island). - Really close of different activities as rental bicycles and different articles for the",
         "804167",
         "Alc�dia",
         null,
         "Entire home/apt",
         "4",
         "1.0",
         "2.0",
         "2.0",
         "TV,Wifi,Kitchen,Smoking allowed,Free street parking,Family/kid friendly,Suitable for events,Washer,Essentials,Shampoo,24-hour check-in,Hangers,Hair dryer,Iron,Laptop friendly workspace,Private entrance,High chair,Children�s books and toys,Crib,Hot water,Bed linens,Extra pillows and blankets,Microwave,Coffee maker,Refrigerator,Dishwasher,Dishes and silverware,Cooking basics,Oven,BBQ grill,Patio or balcony",
         "900.0",
         "4",
         "325",
         "True",
         "30",
         "60",
         "90",
         "365",
         "33",
         "2012-08-23",
         "2019-09-25",
         "88.0",
         "90.0",
         "90.0",
         "90.0",
         "100.0",
         "90.0",
         "90.0",
         "VERDADERO",
         "37.0",
         "spain",
         "mallorca",
         "2019-11-28",
         "0",
         "0",
         "0",
         "0"
        ],
        [
         "29",
         "183346",
         "ROOM IN CENTRAL REFURBISH FLAT",
         "I RENT a room in my fully big (125 m2) just refurbished big appartment in XIX century modernist building from 5th august to 3rd september.  The appartment is very bright with 5 balconies to a calm and nice street, west orientation. Although it has just been refurbished it has an antiquite and genuine style, with all modern comodities such a fully equiped kitchen, stack system, TV... It is located in a very elegant central area next to the trendiest and sophisticated shops and cafes and restaurant, the French consulate, 2 very nice parcs... and at the same time very central: just 5-10 min walk to Paseo de la Castella, Gran V�a, Plaza de Cibeles... Next to 2 metro stations: Chueca and Alonso Martinez. The flat has a very big living-room, a small living room, a connected fireplace room and a connected dinning room. It has also 3 bedrooms (one with a big bed and 2 big sofa beds; all of them 1,35 m), and 2 complete bathrooms. A big kitchen with washing machine, equipped kitchen with microwa",
         "877571",
         "Justicia",
         "Centro",
         "Private room",
         "2",
         "2.0",
         "1.0",
         "1.0",
         "TV,Cable TV,Internet,Wireless Internet,Kitchen,Smoking allowed,Pets allowed,Indoor fireplace,Buzzer/wireless intercom,Heating,Family/kid friendly,Washer,Dryer,Fire extinguisher,Essentials,Shampoo,24-hour check-in,Hangers,Hair dryer,Iron,Laptop friendly workspace",
         "300.0",
         "1",
         "730",
         "True",
         "0",
         "0",
         "0",
         "137",
         "12",
         "2013-11-16",
         "2016-05-29",
         "83.0",
         "90.0",
         "80.0",
         "90.0",
         "100.0",
         "90.0",
         "80.0",
         "FALSO",
         "24.0",
         "spain",
         "madrid",
         "2018-01-17",
         "30",
         "60",
         "90",
         "228"
        ],
        [
         "30",
         "186221",
         "La Sagrada Familia: small and simple room.",
         "Place to relax after a long day exploring Barcelona.  La Sagrada Familia? My house is 4 blocks.  People coming for parties are NOT WELCOME. Small room: very quiet, no parties. Reading this description before booking. There is an option, which is to send a message to host. The room is ONLY FOR sightseeing NOT for students, workers , etc. LGBT. Before sending the booking ... I hope a message, ALWAYS.      Only for people who come to barcelona for sightseeing: not room to live or students.      People coming for parties are NOT WELCOME.      Very quiet place, located in neighborhood of Gracia, one of the busiest area of Barcelona, just 4 blocks from the Sagrada Familia, 10 minutes walking to Sant Pau Hospital, and 4 metro stops from the Parc G�ell. You will visit 3 emblematic places of Barcelona, walking: La Sagrada Familia, Parc Guell; Sant Pau Hospital.      This room is for ONE person, simple and very useful. It has a window, but not direct sunlight. The room has fans and heati",
         "494228",
         "el Camp d'en Grassot i Gr�cia Nova",
         "Gr�cia",
         "Private room",
         "1",
         "0.0",
         "1.0",
         "1.0",
         "TV,Wireless Internet,Wheelchair accessible,Kitchen,Doorman,Elevator in building,Buzzer/wireless intercom,Heating,Washer,Dryer,Smoke detector,First aid kit,Safety card,Essentials,Shampoo,Hangers,Hair dryer,Iron,translation missing: en.hosting_amenity_49,translation missing: en.hosting_amenity_50",
         "150.0",
         "2",
         "3",
         "True",
         "5",
         "11",
         "37",
         "234",
         "416",
         "2011-08-22",
         "2017-04-02",
         "89.0",
         "90.0",
         "100.0",
         "100.0",
         "90.0",
         "90.0",
         "90.0",
         "VERDADERO",
         "607.0",
         "spain",
         "barcelona",
         "2017-04-08",
         "25",
         "49",
         "53",
         "131"
        ],
        [
         "31",
         "193923",
         "Single room in the real Barcelona",
         "Very well connected flat in a safe and peaceful neighbourhood. The metro station is just around the corner, and it is the green Line 3 Valldaura, in just a few minutes you can reach tourist attractions, all museums, the beach and the airport. Relax in a very nice and clean place after visit Barcelona. Very well connected flat in a safe and peaceful neighbourhood.  You have a little room with a single bed, fresh sheets, and towels, a private wardrobe, a night table, lamp, and fan. Guests also have a little space in the fridge and the toilet, and if needed they can use the kitchen. We can provide a hair dryer if needed and all of these services are free. If you don't feel like a tourist, here you can experience the real Barcelona with local people, low prices and peaceful spots to avoid crowding. Just ask me and enjoy your holiday :-) Minimum reserve: 2 nights The metro station is just around the corner, and it is the green Line 3 Valldaura, in just a few minutes you can reach touris",
         "939590",
         "Horta",
         "Horta-Guinard�",
         "Private room",
         "1",
         "1.0",
         "1.0",
         "1.0",
         "TV,Wifi,Kitchen,Elevator,Buzzer/wireless intercom,Washer,Smoke detector,Carbon monoxide detector,First aid kit,Essentials,Shampoo,Hangers,Hair dryer,Iron,Laptop friendly workspace,translation missing: en.hosting_amenity_49,translation missing: en.hosting_amenity_50,Hot water,Bed linens,Microwave,Coffee maker,Refrigerator,Dishes and silverware,Cooking basics,Oven,Stove,Host greets you",
         "200.0",
         "3",
         "60",
         "True",
         "2",
         "17",
         "29",
         "253",
         "125",
         "2011-09-02",
         "2020-02-10",
         "98.0",
         "100.0",
         "100.0",
         "100.0",
         "100.0",
         "90.0",
         "100.0",
         "FALSO",
         "121.0",
         "spain",
         "barcelona",
         "2020-02-16",
         "28",
         "43",
         "61",
         "112"
        ],
        [
         "32",
         "206846",
         "Duplex studio near Picasso Museum",
         "This bright and ultra-modern apartment in Barcelona is located in the trendy El Born area of the city, within walking distance of many fantastic museums and other must-see attractions. The apartment itself is well-lit and completely renovated, with the exposed ceiling beams and wooden French doors adding an authentic touch to the otherwise modern style. The living room has a TV and comfortable sofa bed, as well as access to the balcony overlooking a typical street in El Born. The kitchen is bright and fully equipped with up-to-date appliances and utensils. It also has a dining table where you can sit down to enjoy your home-cooked meals. Above the kitchen you will find a second storey, accessible by wooden stairs, where there is a double bed, meaning this gorgeous apartment can accommodate up to two people in total. The bathroom is bright with a sizeable walk-in shower.  This fantastic Barcelona apartment is perfect for those looking to stay in a modern home-away-from-home, situated in",
         "612665",
         "Sant Pere, Santa Caterina i la Ribera",
         "Ciutat Vella",
         "Entire home/apt",
         "2",
         "2.0",
         "1.0",
         "1.0",
         "TV,Internet,Wifi,Air conditioning,Kitchen,Paid parking off premises,Heating,Family/kid friendly,Smoke detector,First aid kit,Essentials,Shampoo,Hangers,Hair dryer,Iron,Laptop friendly workspace,Self check-in,Lockbox,Hot water,Bed linens,Extra pillows and blankets,Microwave,Coffee maker,Refrigerator,Dishwasher,Dishes and silverware,Cooking basics,Oven,Stove,Patio or balcony,Long term stays allowed,Cleaning before checkout,Wide entrance,Accessible-height toilet,Paid parking on premises",
         "1280.0",
         "31",
         "150",
         "True",
         "5",
         "7",
         "25",
         "205",
         "77",
         "2012-02-12",
         "2019-10-09",
         "92.0",
         "90.0",
         "90.0",
         "90.0",
         "90.0",
         "100.0",
         "90.0",
         "FALSO",
         "81.0",
         "spain",
         "barcelona",
         "2019-12-10",
         "25",
         "53",
         "65",
         "160"
        ],
        [
         "33",
         "210156",
         "ALCUDIA BEACH -MALLORCA HOLIDAYS",
         "A quiet house on a private street Chalet-style house, recently refurbished located in a quiet private road on a plot of 400 m2 with 200 m2 built, overlooking the Lago Menor and the mountains. It has garage, three bedrooms, kitchen, two bathrooms, living room and three porches, sun terrace, garden, outdoor shower, satellite TV and air conditioning (hot / cold) throughout the house and BBQ.. Located in a quiet area, but at the same time very close to leisure facilities of the Port of Alcudia: nightclubs, bars, restaurants and shops. It is also within 5 minutes of Pedro Mas i Reus one of the most important streets of the port, which leads to the Alcudia beach with fine white sand and crystalline waters, it is a Blue Flag beach where you can also perform various aquatic activities . In the same area is the Hidropark. In the Lago Menor water activities are carried out also in the surrounding area there are stables and horse riding.  A few kilometers from Puerto de Alcudia, lies the charming",
         "1036132",
         "Alc�dia",
         null,
         "Entire home/apt",
         "6",
         "2.0",
         "3.0",
         "4.0",
         "TV,Cable TV,Internet,Wifi,Air conditioning,Kitchen,Free parking on premises,Smoking allowed,Heating,Family/kid friendly,Washer,First aid kit,Essentials,Hangers,Hair dryer,Iron,Private entrance,High chair,Crib,Hot water,Bed linens,Extra pillows and blankets,Microwave,Coffee maker,Refrigerator,Dishwasher,Dishes and silverware,Cooking basics,Oven,Stove,BBQ grill,Patio or balcony,Garden or backyard,Host greets you",
         "580.0",
         "5",
         "365",
         "True",
         "26",
         "44",
         "49",
         "102",
         "90",
         "2012-08-11",
         "2019-11-02",
         "97.0",
         "100.0",
         "100.0",
         "100.0",
         "100.0",
         "90.0",
         "100.0",
         "VERDADERO",
         "97.0",
         "spain",
         "mallorca",
         "2020-03-22",
         "4",
         "16",
         "41",
         "263"
        ],
        [
         "34",
         "213296",
         "Big/Centric Room-Palau de la Musica",
         "Hi, I rent a big room in my 150 square meters and neo-modernist style appartment, in the antic center of Barcelona. It is located in the same street than the famous Palau de la Musica, very near Las Ramblas. The room has a doble bed, a table, and an access to the balcony where you will see the backyard. . I provide wifi internet connexion, sheets and towels. The flat is very well located because you can visit the best sites of Barcelona just walking, and if you are a little lazy, the nearest metro station (Urquinaona) will drive you anywhere you want. I have a beaux-arts degree, especialized in old part of town paintings. 2 very peaceful and sympathic cats give me company. You will  enjoy the tranquility of the place.  If you have any doubt, please contact me.",
         "1100014",
         "Sant Pere, Santa Caterina i la Ribera",
         "Ciutat Vella",
         "Private room",
         "2",
         "1.0",
         "1.0",
         "1.0",
         "Wireless Internet,Smoking allowed,Pets live on this property,Cat(s),Buzzer/wireless intercom,Washer,Essentials,Hangers,Iron",
         "250.0",
         "2",
         "12",
         "True",
         "8",
         "14",
         "25",
         "224",
         "168",
         "2012-05-20",
         "2017-01-21",
         "89.0",
         "90.0",
         "80.0",
         "90.0",
         "90.0",
         "100.0",
         "90.0",
         "FALSO",
         "292.0",
         "spain",
         "barcelona",
         "2017-02-09",
         "22",
         "46",
         "65",
         "141"
        ],
        [
         "35",
         "214970",
         "Cozy Room in central flat Barcelona",
         "Dear potential Guest, if you fancy staying in my place, I would appreciate very much that you carefully read all my information before booking. It is important!  Also be aware that you will need to provide your National Identity Number for my tax purposes. Thank you! <br /><br />My flat is located in Poble Sec, at the end of the street whose last block has a bit of steepness (REAL THIRD floor, my Name is on the Door), no lift. You will live only with me and my cat Odina.<br /><br />GAY friendly!<br /><br /><b>The space</b><br />YOUR ROOM:<br />� 1.40m double bed.  High quality mattress (viscoeslastic).<br />� Storage space in shelves and two free spaces in the closet, hanging drawers. <br />� Glass chamber window to minimize external noise (the area is already quiet). <br />� Central heating in winter and ventilator in summer.<br />� Bed linen, duvet, pillows and two towels per person. <br />� Relaxed and quiet environment in the whole flat.<br />� You can see Sagrada Familia at the di",
         "1110014",
         "el Poble Sec",
         "Sants-Montju�c",
         "Private room",
         "2",
         "1.0",
         "1.0",
         "1.0",
         "Kitchen, Extra pillows and blankets, Coffee maker, Oven, Hot water, Hair dryer, Bed linens, Cooking basics, Dishes and silverware, Stove, Refrigerator, Heating, Host greets you, Essentials]",
         "330.0",
         "30",
         "90",
         "True",
         "1",
         "1",
         "1",
         "1",
         "144",
         "2012-06-13",
         "2020-03-02",
         "93.0",
         "90.0",
         "100.0",
         "90.0",
         "90.0",
         "90.0",
         "90.0",
         "VERDADERO",
         "139.0",
         "spain",
         "barcelona",
         "2020-12-16",
         "29",
         "59",
         "89",
         "364"
        ],
        [
         "36",
         "222753",
         "House near City Arts+Wi-fi",
         "House with interior garden just few minutes from downtown. The room for three is on the first floor and has a private bathroom (ground floor) , living room and balcony overlooking the street. Also Wi-Fi 100 Mb.<br /><br /><b>The space</b><br />House with interior garden in a special place in Valencia, just minutes -15 min.- from downtown, popular district of Russafa, next to the old Turia riverbed, the biggest garden in Europe (more 7 km of garden) where the Valencian people make athletics, cycling or simply walking and rest. There is the City of Arts and Sciences and its impressive buildings designed by Valencian architect Santiago Calatrava.<br />This is a ground floor with a nice little garden and a beautiful facade belongs to the popular modernism of the city. We take care of our home so that the traveler find it clean, tidy and are comfortable as at home. The room is on the first floor for guests total independence, and also has private bathroom on the ground floor, living room an",
         "709516",
         "EN CORTS",
         "QUATRE CARRERES",
         "Private room",
         "3",
         "1.0",
         "2.0",
         "2.0",
         "Waterfront, Washer, Long term stays allowed, Coffee maker, Bed linens, Free street parking, Stove, Garden or backyard, Heating, Dishes and silverware, Hot water, Essentials, Laptop-friendly workspace, Kitchen, Extra pillows and blankets, Wifi, Shampoo, Oven, Patio or balcony, Host greets you, Hangers, Hair dryer, Iron, BBQ grill]",
         "310.0",
         "2",
         "365",
         "True",
         "30",
         "60",
         "90",
         "365",
         "172",
         "2011-10-22",
         "2020-03-01",
         "86.0",
         "90.0",
         "90.0",
         "100.0",
         "90.0",
         "90.0",
         "90.0",
         "FALSO",
         "156.0",
         "spain",
         "valencia",
         "2020-11-10",
         "0",
         "0",
         "0",
         "0"
        ],
        [
         "37",
         "255195",
         "Lightly apartment with balcony to Las Ramblas",
         "Amazing location of this lightly and sunny apartment. Shared terrace with spectacular views of Barcelona and sunset. <br />Fully furnished and equipped apartment (A/C, heating, internet WIFI,...). Also with kitchenware, bedlinen and towels,...<br />ONLY for MONTHLY RENTALS (over 32 nights)<br /><br /><b>Guest access</b><br />Great and large shared terrace.<br />Free laundry services.",
         "1310304",
         "el Raval",
         "Ciutat Vella",
         "Entire home/apt",
         "4",
         "1.0",
         "1.0",
         "2.0",
         "Refrigerator, Patio or balcony, Cooking basics, Heating, Dryer, Essentials, Wifi, Coffee maker, Air conditioning, Stove, Elevator, TV, Microwave, Washer, Dishes and silverware]",
         "330.0",
         "32",
         "330",
         "True",
         "30",
         "60",
         "90",
         "330",
         "17",
         "2012-03-02",
         "2020-10-09",
         "85.0",
         "80.0",
         "80.0",
         "90.0",
         "90.0",
         "100.0",
         "80.0",
         "FALSO",
         "16.0",
         "spain",
         "barcelona",
         "2020-11-06",
         "0",
         "0",
         "0",
         "35"
        ],
        [
         "38",
         "265647",
         "Canig� (Can Llobet)  PG-455",
         "Canig� is an appartment, in Can LLobet, Located in Capmany. Is a XVIII century house that has been completly restored . The ground floor is the common area for all clients with Jacuzzi, Swimming pool and garden. Fully equipped cottage, consisting of kitchen, bathroom, living room and 3 bedrooms. It has garden, terraces and a spa. the situation is excellent, 20 minutes from the beaches of the Costa Brava, 15 minutes south of France near Figueres, Roses, Cadaqu�s, and the natural park Aiguamolls de l'Empord� in the natural setting of Albera (Alt Empord�, Girona). ideal for family,  in the village there are shops, restaurants ... walking areas ... megalithic routes, from the house offer various activities, quad tours, paintball, travel with globe ... The ground floor is the common area for all clients with Jacuzzi, Swimming pool and garden.",
         "1393119",
         "Capmany",
         null,
         "Entire home/apt",
         "6",
         "2.0",
         "3.0",
         "5.0",
         "TV,Cable TV,Internet,Wifi,Air conditioning,Pool,Kitchen,Free parking on premises,Smoking allowed,Pets allowed,Hot tub,Buzzer/wireless intercom,Heating,Family/kid friendly,Washer,Fire extinguisher,Essentials,Hangers,Hair dryer,Iron,Self check-in,Lockbox,High chair,Pack �n Play/travel crib,Hot water",
         "1750.0",
         "7",
         "14",
         "True",
         "17",
         "41",
         "71",
         "333",
         "8",
         "2013-08-19",
         "2017-09-03",
         "95.0",
         "90.0",
         "100.0",
         "100.0",
         "100.0",
         "90.0",
         "90.0",
         "VERDADERO",
         "13.0",
         "spain",
         "girona",
         "2018-08-30",
         "13",
         "19",
         "19",
         "32"
        ],
        [
         "39",
         "279439",
         "sociable apartment in Raval 3",
         "Welcome to the Piero's home (Italian)!   The house is in Raval, surely one of the most characteristic districts of Barcelona.   The apartment consists of 3 separate rooms that are available with separate beds or double beds, according to needs of guests. There are bathroom (with 2 separate spaces between shower and toilet),  kitchen and living room. Washing machine is for private use only but there's a laundry very close to the house. The owner lives in the same apartment.  While maintaining its original charm, Raval is able to offer any type of entertainment, from the old prestigious restaurant, passing by flamenco shows till late night and a wide choice of pubs, discos and clubs. Only 200 meters from metro station Liceu on the Ramblas (Barcelona's main street), you can easily reach any point of cultural interest, like Gaudi's houses, churches, museums etc... Piero may suggest a culinary trip to food markets, gourmet restaurants and tapas bars. The main market of La Boqueria in Barcel",
         "1457147",
         "el Raval",
         "Ciutat Vella",
         "Private room",
         "7",
         "2.0",
         "3.0",
         "4.0",
         "Internet,Wifi,Kitchen,Smoking allowed,Elevator,Family/kid friendly,First aid kit,Fire extinguisher,Essentials,Lock on bedroom door,Hangers,Hair dryer,Crib,Hot water,Extra pillows and blankets,Pocket wifi,Coffee maker,Refrigerator,Dishes and silverware,Cooking basics,Oven,Stove,Patio or balcony,Luggage dropoff allowed",
         "250.0",
         "2",
         "21",
         "True",
         "1",
         "4",
         "13",
         "13",
         "102",
         "2012-02-20",
         "2018-04-13",
         "91.0",
         "90.0",
         "90.0",
         "100.0",
         "100.0",
         "90.0",
         "90.0",
         "FALSO",
         "134.0",
         "spain",
         "barcelona",
         "2018-05-14",
         "29",
         "56",
         "77",
         "352"
        ],
        [
         "40",
         "305213",
         "PLATANEROS - BRIGHT CENTRAL APT",
         "Is one of the best locations in town.  Walking  to the historic area takes you 10 minutes,  Las Ramblas, Gothic, Born. Plaza Catalunya and Paseo de Gracia 15 minutes, museums, shops  . From the apartment the are several buses take to the beach in 10 minutes, but also along a nice walk you reach in half and hour. Montjuich is 15 minutes walking or the telepheric in Paral.lel station 5 minutes from the apartment. Plaza de Espa�a 10 minutes walking and easy available from Sants railway station. Situated in one of the best areas in Barcelona, 10 minutes walk to Las Ramblas and also a short walk to the historic centre, museums, restaurants, shops and markets, and night life of Barcelona. Excellent comunications with public transport, only one minutes walk to Parallel metro station, on metro lines 2 and 3, Fira Barcelona  (Pla�a d' Espagna)  only10 minutes walking or ideal for World Mobbile Congres and also great bus connections, including airport bus. The neighbourhood is residential and pl",
         "1570247",
         "Sant Antoni",
         "Eixample",
         "Entire home/apt",
         "2",
         "1.0",
         "1.0",
         "1.0",
         "TV,Internet,Wireless Internet,Kitchen,Elevator,Buzzer/wireless intercom,Heating,Washer,Fire extinguisher,Essentials,Hangers,translation missing: en.hosting_amenity_49,translation missing: en.hosting_amenity_50,Hot water,Microwave,Coffee maker,Refrigerator,Dishes and silverware,Cooking basics,Stove,Patio or balcony,Waterfront",
         "1050.0",
         "3",
         "28",
         "True",
         "14",
         "24",
         "51",
         "141",
         "170",
         "2012-06-21",
         "2017-07-26",
         "95.0",
         "100.0",
         "100.0",
         "100.0",
         "100.0",
         "90.0",
         "100.0",
         "VERDADERO",
         "272.0",
         "spain",
         "barcelona",
         "2017-08-06",
         "16",
         "36",
         "39",
         "224"
        ],
        [
         "41",
         "314781",
         "PRIVATE SPACE 40M2, BEST AREA,WIFI",
         "Hi, I have a big private space,  2 double beds (one is bed/sofa), sunny balcony and your own living room in my confortable flat, modernist style, wash machine, internet wifi. Near Sagrada Familia,Ciudadella Parc,the beach,Pza Catalu�a, Metro Stations Girona and Tetuan Sunny and huge private space with 2 double beds with balcony and your own living room in a shared modernist flat, located in the best neighborhood in Barcelona, the famous EIXAMPLE, bars, restorants, boutiques, art galleries all near around. Walking distance to all major atractions in the city, like PLA�A CATALUNYA and the worldwide known RAMBLAS,  GOTHIC QUARTER, ARC DE TRIOMF, BARCELONETA, SAGRADA FAMILIA. Very close to metro station (L2 Girona L4 Tetuan) with excellent transport links to everywhere in Barcelona and nearby. The flat is a typical catalan modernist flat, with a total of 200 sq meters, with mosaic  floors, very bright and very spacious. We are easy going, respectful and polite. Wifi internet, also washing",
         "1604485",
         "la Dreta de l'Eixample",
         "Eixample",
         "Private room",
         "2",
         "2.0",
         "1.0",
         "2.0",
         "Wireless Internet,Smoking allowed,Pets allowed,Elevator in building,Buzzer/wireless intercom,Family/kid friendly,Washer",
         "1000.0",
         "2",
         "60",
         "True",
         "30",
         "60",
         "90",
         "365",
         "13",
         "2013-08-14",
         "2016-06-27",
         "93.0",
         "90.0",
         "80.0",
         "100.0",
         "90.0",
         "100.0",
         "100.0",
         "FALSO",
         "31.0",
         "spain",
         "barcelona",
         "2017-02-09",
         "0",
         "0",
         "0",
         "0"
        ],
        [
         "42",
         "318826",
         "Wonderful apartment. JUST REMODELED",
         "Magnificent apartment. Extremely bright and sunny  NEWLY RENOVATED! AIRBNB NEW! REF: VT-2148. Tourist Companies Registry of the General Directorate of Tourism of the Community of Madrid. The apartment is newly renovated, modern and quite comfortable. Located on the third floor, bright and sunny, has an approximate area of 60 square meters and has 3 bedrooms (suitable for 4 people), kitchen, bathroom and terrace. It is fully equipped with wooden floors, modern furnishings and amenities: dishwasher, microwave, oven, WIFI, flat screen TV available ... even a printer that can print their boarding passes. LOCATION It is located in the area of the Country House, near the historic center. It is perfect for all the attractions of Madrid. Immediately to the apartment there is a shopping street with shops, bars, restaurants ... CLOSE TO DOWNTOWN Perfect for exploring the heart of the city, with a wide range of public transport, efficient and cheap. � Metro: just 5 stops from the historic center",
         "1636378",
         "Aluche",
         "Latina",
         "Entire home/apt",
         "4",
         "1.0",
         "3.0",
         "3.0",
         "TV,Internet,Wifi,Air conditioning,Kitchen,Elevator,Free street parking,Buzzer/wireless intercom,Heating,Family/kid friendly,Washer,First aid kit,Essentials,Shampoo,Hangers,Hair dryer,Iron,Laptop friendly workspace,Room-darkening shades,Hot water,Microwave,Coffee maker,Refrigerator,Dishwasher,Dishes and silverware,Cooking basics,Oven,Long term stays allowed,Host greets you",
         "900.0",
         "6",
         "1125",
         "True",
         "23",
         "53",
         "83",
         "358",
         "11",
         "2012-05-07",
         "2018-12-14",
         "98.0",
         "100.0",
         "100.0",
         "100.0",
         "100.0",
         "90.0",
         "90.0",
         "FALSO",
         "13.0",
         "spain",
         "madrid",
         "2019-02-06",
         "7",
         "7",
         "7",
         "7"
        ],
        [
         "43",
         "323679",
         "Marina Costa Brava - view on canal",
         "Furnished Apartment in the Empuria brava marina (close to Center and main beach). Furnished 2 bedrooms.  the apartment has a 20 square meter living room, an equipped kitchen and is orientated West. Set on the 1st floor. 15 square feet terrace . The apartment is a five-minute walk from the beach (around 400 meters). Quiet place in a dead-end road. The apartment is located at the front of one canal. Privative car park.  Features : 1 bathroom / Sleeps : 4 Appliances : cooktop/ Microwave/ Oven / Ironing board /laundry machine Electronics : TV(66 cm) Furnishing : Air conditioning / sofa bed/ bedspread/ 2 double bed",
         "1552289",
         "Castell� d'Emp�ries",
         null,
         "Entire home/apt",
         "4",
         "1.0",
         "2.0",
         "3.0",
         "TV,Cable TV,Air conditioning,Kitchen,Free parking on premises,Heating,Washer,Dryer,Essentials,Hangers,Hair dryer,Iron,Hot water,Host greets you",
         "550.0",
         "14",
         "30",
         "True",
         "0",
         "0",
         "26",
         "301",
         "7",
         "2012-08-05",
         "2018-08-18",
         "86.0",
         "90.0",
         "90.0",
         "100.0",
         "100.0",
         "90.0",
         "90.0",
         "FALSO",
         "8.0",
         "spain",
         "girona",
         "2019-06-30",
         "30",
         "60",
         "64",
         "64"
        ],
        [
         "44",
         "326464",
         "Charm and quiet room",
         "<b>The space</b><br />The room is in the House Laxkanberria seventeenth century in the village of Arraioz, Baztan Valley. A place of dreams, rural, rustic, living nature, near the Natural Park of Bertiz. and less than an hour of Biarritz, San Sebastian, Pamplona. It has a full bathroom, central heating, wifi, TV. And above all, very quiet. You can enjoy in the area of ??the greenway Bidassoa, hiking, civil architecture in their homes and villages amazing wonderful, good food, nature as a whole and of the Basque culture and traditions. <br />Enjoy nature in its pure state, the harmony of their homes and villages. Uncover an ancient culture and languages??, the Basque Country. Ethnographic Museum, megalithic monuments, windmills, towers. In Arraioz same can enjoy the charm of the three palaces of the fifteenth century. And every day you have a mall.",
         "1669001",
         "Can Peguera",
         "Nou Barris",
         "Private room",
         "2",
         "1.0",
         "1.0",
         "1.0",
         "Essentials, Heating, Hair dryer, Hangers, Lock on bedroom door, Bed linens, Long term stays allowed, Wifi, Breakfast, Shower gel, TV]",
         "600.0",
         "1",
         "1125",
         "True",
         "30",
         "60",
         "90",
         "365",
         "33",
         "2014-10-05",
         "2019-12-28",
         "99.0",
         "100.0",
         "100.0",
         "100.0",
         "100.0",
         "100.0",
         "100.0",
         "FALSO",
         "43.0",
         "spain",
         "barcelona",
         "2021-02-09",
         "0",
         "0",
         "0",
         "0"
        ],
        [
         "45",
         "330723",
         "SUNNY ROOM WITH BALCONY",
         "<b>The space</b><br />You will have the chance to stay in a bright, and spacious Barcelona apartment with a terrace! The apartment has all the amenities you need. Staying here you will be in the heart of Barcelona, located in the  zone Nou de la Rambla and Paral-lel district , just one block away from the Paral-lel Metro and many buses, and a 10 minute walk to the  Las Ramblas 20 minute walk to Plaza Catalunya or to the beach.<br /><br />The apartment<br />The entire apartment is available with a  sunny double bedrooms.   You will also have access to a spacious, sunny lounge with views of the city. There is also TV, DVD player, WiFi, dishwasher, and a washing machine, heating. There is 2 toilets.  The apartment is located on the 6th floor with a lift.<br /><br />The neighbourhood<br />The apartment is in a perfect location, very close to tourist areas like the Ramblas 15 minute walk to Las Ramblas, Plaza Catalunya and the hustle and bustle of the city center.  <br /><br />Useful info",
         "1687383",
         "el Raval",
         "Ciutat Vella",
         "Private room",
         "2",
         "2.0",
         "1.0",
         "1.0",
         "Elevator, Essentials, Hair dryer, Hangers, Long term stays allowed, Dryer, Cable TV, Wifi, Kitchen, Iron, Washer, TV]",
         "300.0",
         "14",
         "1125",
         "True",
         "30",
         "60",
         "90",
         "365",
         "51",
         "2012-06-28",
         "2019-10-25",
         "93.0",
         "100.0",
         "100.0",
         "100.0",
         "90.0",
         "90.0",
         "100.0",
         "FALSO",
         "49.0",
         "spain",
         "barcelona",
         "2021-02-09",
         "0",
         "0",
         "0",
         "0"
        ],
        [
         "46",
         "336795",
         "Room in Madrid Center whit WIFI",
         "Room in Madrid Center close to Atocha railstation and all the museum zone. The subway station is Anton Martin and is very close of the house. We have internet and all the needs of modern life... The room in not big but the house is big and buitiful whit a lot of light and in madrid life is in the street not in the room. The house is in the middle of tree famous neighborhood: Lavapies, Huertas and La Latina. We are a couple from Chile and Italy who lives in madrid from a lot of years so we known perfectly the madrid nigthlife. Not worry you will have fun...",
         "1713273",
         "Cortes",
         "Centro",
         "Private room",
         "2",
         "1.0",
         "1.0",
         "1.0",
         "TV,Internet,Wifi,Kitchen,Smoking allowed,Pets live on this property,Cat(s),Buzzer/wireless intercom,Heating,Essentials,Shampoo,Hair dryer,Hot water,Host greets you",
         "250.0",
         "2",
         "1125",
         "True",
         "29",
         "52",
         "71",
         "344",
         "156",
         "2012-05-28",
         "2020-03-15",
         "73.0",
         "80.0",
         "70.0",
         "90.0",
         "90.0",
         "100.0",
         "80.0",
         "FALSO",
         "162.0",
         "spain",
         "madrid",
         "2020-04-17",
         "1",
         "8",
         "19",
         "21"
        ],
        [
         "47",
         "342557",
         "Berlin's Park at your window. Parking included.",
         "Very nice room in an area with excellent communications. We have the Berlin Park just in front. Our house is new, clean and cozy. In it we live my wife, me and our daughters. The area is very safe. Accommodation in a family, ideal for anyone but especially for women traveling alone. Possibility of garage, ask us.<br /><br /><b>The space</b><br />Private room in a relaxing flat, ten minutes walk from Real Madrid Santiago Bernab�u Stadium. Well connected by Metro (3 min walk to Concha Espina Station), buses and the new electrical bikes public hiring service from the Municipality (15 min ciclyng to Puerta del Sol). <br />You'll need 40 min to get to barajas Airport by Metro. <br />We are a married couple with two daughters aged nine and seven.<br />You will have a private room for you and a pretty bathroom shared with the girls. <br />The room is quiet, tidy and with lots of light and direct views to Parque de Berl�n, one of the biggests Parks of Madrid. It has a firm and new bed (190x90",
         "1738288",
         "Ciudad Jard�n",
         "Chamart�n",
         "Private room",
         "1",
         "1.0",
         "1.0",
         "1.0",
         "Shampoo, TV, Luggage dropoff allowed, Elevator, Refrigerator, Coffee maker, Free parking on premises, Heating, Hot water, Breakfast, Patio or balcony, Washer, Host greets you, Stove, Wifi, Essentials, Kitchen, Dishes and silverware, Iron, Dishwasher, Cooking basics, Hangers, Laptop-friendly workspace, Hair dryer, Microwave]",
         "700.0",
         "2",
         "120",
         "True",
         "30",
         "60",
         "90",
         "365",
         "55",
         "2013-10-21",
         "2019-11-03",
         "97.0",
         "100.0",
         "100.0",
         "100.0",
         "100.0",
         "100.0",
         "100.0",
         "FALSO",
         "64.0",
         "spain",
         "madrid",
         "2020-11-06",
         "0",
         "0",
         "0",
         "0"
        ],
        [
         "48",
         "343864",
         "3 BD APT IN THE HEART OF GRACIA",
         "A spacious and comfortable 3 bedrooms apartment located in a 3rd floor with no lift in the picturesque and bohemian Gracia's neighbourhood, next to the Virreina's square and the famous and emblematic Verdi street, full of bars, restaurants, shops and the VO cinema. Safe area. HUTB-009898 A spacious and comfortable 3 bedrooms apartment located located in a 3rd floor with no lift in the picturesque and bohemian Gracia's neighbourhood, next to the Virreina's square and the famous and emblematic Verdi street, full of bars, restaurants, shops and the VO cinema. Safe and peaceful area. This apartment has one double bed, one single bed and one bunk bed, two fully bathrooms (one with shower and the other with bathtub), a cosy living-room with a comfy double sofa-bed and a small balcony facing the Virreina's square and a fully equipped kitchen. It offer a pleasant and relaxing atmosphere, a perfect choice for a family or a group. If you are a big group you can also book the 'Apartment Virreina",
         "1744516",
         "la Vila de Gr�cia",
         "Gr�cia",
         "Entire home/apt",
         "6",
         "2.0",
         "3.0",
         "5.0",
         "TV,Wifi,Kitchen,Buzzer/wireless intercom,Heating,Family/kid friendly,Washer,Essentials,24-hour check-in,Hangers,Hair dryer,Iron,High chair,Crib,Hot water,Long term stays allowed,Host greets you,Paid parking on premises",
         "1390.0",
         "3",
         "1125",
         "True",
         "0",
         "5",
         "35",
         "307",
         "7",
         "2014-06-17",
         "2018-10-14",
         "94.0",
         "100.0",
         "100.0",
         "100.0",
         "90.0",
         "100.0",
         "90.0",
         "VERDADERO",
         "13.0",
         "spain",
         "barcelona",
         "2018-11-07",
         "30",
         "55",
         "55",
         "58"
        ],
        [
         "49",
         "352772",
         "Elegant Centric Attic WIFI Car Park",
         "Charming, luminous, quiet and comfortable attic in a centric location, you can go to the best Barcelona highlights on food.<br />Nearby you have big and good supermarkets and some of the best restaurants in Barcelona.<br />Easy from airport and high speed train station<br /><br /><b>The space</b><br />Charming, elegant and luminous apartment on the top of the building. <br />It is very well located between Plaza de Espa�a and Plaza de Catalu�a and perfect to go walking to the main sites, Gaudi's houses, Miro's works or down town. All this places are within half an hour ratio.<br />Also it is close to Barcelona's Fair at Plaza de Espa�a.<br />The high speed train station -Sans Station- is nearby.<br />It's at only 20 minutes taxi from the airport.<br />If you have a car, don't worries we provide a car park for free.<br />There are big supermarkets around -Mercadona is the best in Europe- and high quality restaurants also.<br />I recommend Taberna del Clinico and Tatika Berry, two of the",
         "1786501",
         "la Nova Esquerra de l'Eixample",
         "Eixample",
         "Entire home/apt",
         "5",
         "1.0",
         "2.0",
         "4.0",
         "Host greets you, Laptop-friendly workspace, High chair, Dryer, Shampoo, Stove, Hot water, Microwave, Washer, Carbon monoxide alarm, Room-darkening shades, Cooking basics, Patio or balcony, Kitchen, Air conditioning, Free parking on premises, Elevator, TV, Pack u2019n Play/travel crib, Heating, Coffee maker, Hair dryer, Hangers, Refrigerator, Iron, Essentials, Bathtub, Wifi, Oven, Crib, Babysitter recommendations, Dishes and silverware]",
         "850.0",
         "2",
         "90",
         "True",
         "0",
         "0",
         "0",
         "219",
         "103",
         "2014-02-28",
         "2020-10-18",
         "94.0",
         "100.0",
         "90.0",
         "90.0",
         "90.0",
         "90.0",
         "90.0",
         "VERDADERO",
         "126.0",
         "spain",
         "barcelona",
         "2020-11-06",
         "30",
         "60",
         "90",
         "146"
        ]
       ],
       "shape": {
        "columns": 39,
        "rows": 7693
       }
      },
      "text/html": [
       "<div>\n",
       "<style scoped>\n",
       "    .dataframe tbody tr th:only-of-type {\n",
       "        vertical-align: middle;\n",
       "    }\n",
       "\n",
       "    .dataframe tbody tr th {\n",
       "        vertical-align: top;\n",
       "    }\n",
       "\n",
       "    .dataframe thead th {\n",
       "        text-align: right;\n",
       "    }\n",
       "</style>\n",
       "<table border=\"1\" class=\"dataframe\">\n",
       "  <thead>\n",
       "    <tr style=\"text-align: right;\">\n",
       "      <th></th>\n",
       "      <th>apartment_id</th>\n",
       "      <th>name</th>\n",
       "      <th>description</th>\n",
       "      <th>host_id</th>\n",
       "      <th>neighbourhood_name</th>\n",
       "      <th>neighbourhood_district</th>\n",
       "      <th>room_type</th>\n",
       "      <th>accommodates</th>\n",
       "      <th>bathrooms</th>\n",
       "      <th>bedrooms</th>\n",
       "      <th>...</th>\n",
       "      <th>review_scores_value</th>\n",
       "      <th>is_instant_bookable</th>\n",
       "      <th>reviews_per_month</th>\n",
       "      <th>country</th>\n",
       "      <th>city</th>\n",
       "      <th>insert_date</th>\n",
       "      <th>occupied_days_30</th>\n",
       "      <th>occupied_days_60</th>\n",
       "      <th>occupied_days_90</th>\n",
       "      <th>occupied_days_365</th>\n",
       "    </tr>\n",
       "  </thead>\n",
       "  <tbody>\n",
       "    <tr>\n",
       "      <th>0</th>\n",
       "      <td>11964</td>\n",
       "      <td>A ROOM WITH A VIEW</td>\n",
       "      <td>Private bedroom in our attic apartment. Right ...</td>\n",
       "      <td>45553</td>\n",
       "      <td>Centro</td>\n",
       "      <td>NaN</td>\n",
       "      <td>Private room</td>\n",
       "      <td>2</td>\n",
       "      <td>2.0</td>\n",
       "      <td>1.0</td>\n",
       "      <td>...</td>\n",
       "      <td>100.0</td>\n",
       "      <td>FALSO</td>\n",
       "      <td>75.0</td>\n",
       "      <td>spain</td>\n",
       "      <td>malaga</td>\n",
       "      <td>2018-07-31</td>\n",
       "      <td>23</td>\n",
       "      <td>40</td>\n",
       "      <td>50</td>\n",
       "      <td>235</td>\n",
       "    </tr>\n",
       "    <tr>\n",
       "      <th>1</th>\n",
       "      <td>21853</td>\n",
       "      <td>Bright and airy room</td>\n",
       "      <td>We have a quiet and sunny room with a good vie...</td>\n",
       "      <td>83531</td>\n",
       "      <td>C�rmenes</td>\n",
       "      <td>Latina</td>\n",
       "      <td>Private room</td>\n",
       "      <td>1</td>\n",
       "      <td>1.0</td>\n",
       "      <td>1.0</td>\n",
       "      <td>...</td>\n",
       "      <td>90.0</td>\n",
       "      <td>FALSO</td>\n",
       "      <td>52.0</td>\n",
       "      <td>spain</td>\n",
       "      <td>madrid</td>\n",
       "      <td>2020-01-10</td>\n",
       "      <td>30</td>\n",
       "      <td>60</td>\n",
       "      <td>90</td>\n",
       "      <td>203</td>\n",
       "    </tr>\n",
       "    <tr>\n",
       "      <th>2</th>\n",
       "      <td>32347</td>\n",
       "      <td>Explore Cultural Sights from a Family-Friendly...</td>\n",
       "      <td>Open French doors and step onto a plant-filled...</td>\n",
       "      <td>139939</td>\n",
       "      <td>San Vicente</td>\n",
       "      <td>Casco Antiguo</td>\n",
       "      <td>Entire home/apt</td>\n",
       "      <td>4</td>\n",
       "      <td>1.0</td>\n",
       "      <td>2.0</td>\n",
       "      <td>...</td>\n",
       "      <td>100.0</td>\n",
       "      <td>VERDADERO</td>\n",
       "      <td>142.0</td>\n",
       "      <td>spain</td>\n",
       "      <td>sevilla</td>\n",
       "      <td>2019-07-29</td>\n",
       "      <td>4</td>\n",
       "      <td>29</td>\n",
       "      <td>59</td>\n",
       "      <td>95</td>\n",
       "    </tr>\n",
       "    <tr>\n",
       "      <th>3</th>\n",
       "      <td>35379</td>\n",
       "      <td>Double 02 CasanovaRooms Barcelona</td>\n",
       "      <td>Room at a my apartment. Kitchen and 2 bathroom...</td>\n",
       "      <td>152232</td>\n",
       "      <td>l'Antiga Esquerra de l'Eixample</td>\n",
       "      <td>Eixample</td>\n",
       "      <td>Private room</td>\n",
       "      <td>2</td>\n",
       "      <td>2.0</td>\n",
       "      <td>1.0</td>\n",
       "      <td>...</td>\n",
       "      <td>90.0</td>\n",
       "      <td>VERDADERO</td>\n",
       "      <td>306.0</td>\n",
       "      <td>spain</td>\n",
       "      <td>barcelona</td>\n",
       "      <td>2020-01-10</td>\n",
       "      <td>21</td>\n",
       "      <td>37</td>\n",
       "      <td>41</td>\n",
       "      <td>65</td>\n",
       "    </tr>\n",
       "    <tr>\n",
       "      <th>4</th>\n",
       "      <td>35801</td>\n",
       "      <td>Can Torras Farmhouse Studio Suite</td>\n",
       "      <td>Lay in bed &amp; watch sunlight change the mood of...</td>\n",
       "      <td>153805</td>\n",
       "      <td>Quart</td>\n",
       "      <td>NaN</td>\n",
       "      <td>Private room</td>\n",
       "      <td>5</td>\n",
       "      <td>1.0</td>\n",
       "      <td>2.0</td>\n",
       "      <td>...</td>\n",
       "      <td>100.0</td>\n",
       "      <td>FALSO</td>\n",
       "      <td>39.0</td>\n",
       "      <td>spain</td>\n",
       "      <td>girona</td>\n",
       "      <td>2019-02-19</td>\n",
       "      <td>30</td>\n",
       "      <td>41</td>\n",
       "      <td>41</td>\n",
       "      <td>53</td>\n",
       "    </tr>\n",
       "    <tr>\n",
       "      <th>...</th>\n",
       "      <td>...</td>\n",
       "      <td>...</td>\n",
       "      <td>...</td>\n",
       "      <td>...</td>\n",
       "      <td>...</td>\n",
       "      <td>...</td>\n",
       "      <td>...</td>\n",
       "      <td>...</td>\n",
       "      <td>...</td>\n",
       "      <td>...</td>\n",
       "      <td>...</td>\n",
       "      <td>...</td>\n",
       "      <td>...</td>\n",
       "      <td>...</td>\n",
       "      <td>...</td>\n",
       "      <td>...</td>\n",
       "      <td>...</td>\n",
       "      <td>...</td>\n",
       "      <td>...</td>\n",
       "      <td>...</td>\n",
       "      <td>...</td>\n",
       "    </tr>\n",
       "    <tr>\n",
       "      <th>7688</th>\n",
       "      <td>32392193</td>\n",
       "      <td>Espectacular habitaci�n</td>\n",
       "      <td>NaN</td>\n",
       "      <td>238089984</td>\n",
       "      <td>Sant Antoni</td>\n",
       "      <td>Eixample</td>\n",
       "      <td>Private room</td>\n",
       "      <td>1</td>\n",
       "      <td>1.0</td>\n",
       "      <td>1.0</td>\n",
       "      <td>...</td>\n",
       "      <td>90.0</td>\n",
       "      <td>VERDADERO</td>\n",
       "      <td>88.0</td>\n",
       "      <td>spain</td>\n",
       "      <td>barcelona</td>\n",
       "      <td>2019-10-16</td>\n",
       "      <td>2</td>\n",
       "      <td>2</td>\n",
       "      <td>2</td>\n",
       "      <td>2</td>\n",
       "    </tr>\n",
       "    <tr>\n",
       "      <th>7689</th>\n",
       "      <td>32392774</td>\n",
       "      <td>? Tu Hogar de Lujo ????? en el Centro de Sevilla</td>\n",
       "      <td>Exclusivo, amplio y luminoso alojamiento situa...</td>\n",
       "      <td>243246681</td>\n",
       "      <td>Arenal</td>\n",
       "      <td>Casco Antiguo</td>\n",
       "      <td>Entire home/apt</td>\n",
       "      <td>6</td>\n",
       "      <td>2.0</td>\n",
       "      <td>3.0</td>\n",
       "      <td>...</td>\n",
       "      <td>100.0</td>\n",
       "      <td>FALSO</td>\n",
       "      <td>157.0</td>\n",
       "      <td>spain</td>\n",
       "      <td>sevilla</td>\n",
       "      <td>2021-01-31</td>\n",
       "      <td>30</td>\n",
       "      <td>49</td>\n",
       "      <td>49</td>\n",
       "      <td>324</td>\n",
       "    </tr>\n",
       "    <tr>\n",
       "      <th>7690</th>\n",
       "      <td>32395123</td>\n",
       "      <td>Rooms by G Bella Mar�a 3</td>\n",
       "      <td>The 2-star Bella Maria has 24-hourreception an...</td>\n",
       "      <td>159933359</td>\n",
       "      <td>Felanitx</td>\n",
       "      <td>NaN</td>\n",
       "      <td>Entire home/apt</td>\n",
       "      <td>2</td>\n",
       "      <td>1.0</td>\n",
       "      <td>1.0</td>\n",
       "      <td>...</td>\n",
       "      <td>90.0</td>\n",
       "      <td>VERDADERO</td>\n",
       "      <td>25.0</td>\n",
       "      <td>spain</td>\n",
       "      <td>mallorca</td>\n",
       "      <td>2019-04-24</td>\n",
       "      <td>7</td>\n",
       "      <td>7</td>\n",
       "      <td>7</td>\n",
       "      <td>181</td>\n",
       "    </tr>\n",
       "    <tr>\n",
       "      <th>7691</th>\n",
       "      <td>32407332</td>\n",
       "      <td>LUMINOSO Y ENCANTADOR PISO CERCA DE TODO</td>\n",
       "      <td>PISO MUY ILUMINADO CON UNA TERRAZA ESTUPENDA C...</td>\n",
       "      <td>187631805</td>\n",
       "      <td>Proven�als del Poblenou</td>\n",
       "      <td>Sant Mart�</td>\n",
       "      <td>Private room</td>\n",
       "      <td>3</td>\n",
       "      <td>2.0</td>\n",
       "      <td>2.0</td>\n",
       "      <td>...</td>\n",
       "      <td>100.0</td>\n",
       "      <td>VERDADERO</td>\n",
       "      <td>389.0</td>\n",
       "      <td>spain</td>\n",
       "      <td>barcelona</td>\n",
       "      <td>2019-08-12</td>\n",
       "      <td>29</td>\n",
       "      <td>43</td>\n",
       "      <td>50</td>\n",
       "      <td>50</td>\n",
       "    </tr>\n",
       "    <tr>\n",
       "      <th>7692</th>\n",
       "      <td>32423292</td>\n",
       "      <td>Apartament amb terrassa a 5 minuts de la platja.</td>\n",
       "      <td>Apartament situat a Santa Margarita de Roses d...</td>\n",
       "      <td>158381471</td>\n",
       "      <td>Roses</td>\n",
       "      <td>NaN</td>\n",
       "      <td>Entire home/apt</td>\n",
       "      <td>4</td>\n",
       "      <td>2.0</td>\n",
       "      <td>1.0</td>\n",
       "      <td>...</td>\n",
       "      <td>90.0</td>\n",
       "      <td>FALSO</td>\n",
       "      <td>68.0</td>\n",
       "      <td>spain</td>\n",
       "      <td>girona</td>\n",
       "      <td>2019-08-31</td>\n",
       "      <td>28</td>\n",
       "      <td>33</td>\n",
       "      <td>33</td>\n",
       "      <td>90</td>\n",
       "    </tr>\n",
       "  </tbody>\n",
       "</table>\n",
       "<p>7693 rows × 39 columns</p>\n",
       "</div>"
      ],
      "text/plain": [
       "      apartment_id                                               name  \\\n",
       "0            11964                                 A ROOM WITH A VIEW   \n",
       "1            21853                               Bright and airy room   \n",
       "2            32347  Explore Cultural Sights from a Family-Friendly...   \n",
       "3            35379                  Double 02 CasanovaRooms Barcelona   \n",
       "4            35801                  Can Torras Farmhouse Studio Suite   \n",
       "...            ...                                                ...   \n",
       "7688      32392193                            Espectacular habitaci�n   \n",
       "7689      32392774   ? Tu Hogar de Lujo ????? en el Centro de Sevilla   \n",
       "7690      32395123                           Rooms by G Bella Mar�a 3   \n",
       "7691      32407332           LUMINOSO Y ENCANTADOR PISO CERCA DE TODO   \n",
       "7692      32423292   Apartament amb terrassa a 5 minuts de la platja.   \n",
       "\n",
       "                                            description    host_id  \\\n",
       "0     Private bedroom in our attic apartment. Right ...      45553   \n",
       "1     We have a quiet and sunny room with a good vie...      83531   \n",
       "2     Open French doors and step onto a plant-filled...     139939   \n",
       "3     Room at a my apartment. Kitchen and 2 bathroom...     152232   \n",
       "4     Lay in bed & watch sunlight change the mood of...     153805   \n",
       "...                                                 ...        ...   \n",
       "7688                                                NaN  238089984   \n",
       "7689  Exclusivo, amplio y luminoso alojamiento situa...  243246681   \n",
       "7690  The 2-star Bella Maria has 24-hourreception an...  159933359   \n",
       "7691  PISO MUY ILUMINADO CON UNA TERRAZA ESTUPENDA C...  187631805   \n",
       "7692  Apartament situat a Santa Margarita de Roses d...  158381471   \n",
       "\n",
       "                   neighbourhood_name neighbourhood_district        room_type  \\\n",
       "0                              Centro                    NaN     Private room   \n",
       "1                            C�rmenes                 Latina     Private room   \n",
       "2                         San Vicente          Casco Antiguo  Entire home/apt   \n",
       "3     l'Antiga Esquerra de l'Eixample               Eixample     Private room   \n",
       "4                               Quart                    NaN     Private room   \n",
       "...                               ...                    ...              ...   \n",
       "7688                      Sant Antoni               Eixample     Private room   \n",
       "7689                           Arenal          Casco Antiguo  Entire home/apt   \n",
       "7690                         Felanitx                    NaN  Entire home/apt   \n",
       "7691          Proven�als del Poblenou             Sant Mart�     Private room   \n",
       "7692                            Roses                    NaN  Entire home/apt   \n",
       "\n",
       "      accommodates  bathrooms  bedrooms  ...  review_scores_value  \\\n",
       "0                2        2.0       1.0  ...                100.0   \n",
       "1                1        1.0       1.0  ...                 90.0   \n",
       "2                4        1.0       2.0  ...                100.0   \n",
       "3                2        2.0       1.0  ...                 90.0   \n",
       "4                5        1.0       2.0  ...                100.0   \n",
       "...            ...        ...       ...  ...                  ...   \n",
       "7688             1        1.0       1.0  ...                 90.0   \n",
       "7689             6        2.0       3.0  ...                100.0   \n",
       "7690             2        1.0       1.0  ...                 90.0   \n",
       "7691             3        2.0       2.0  ...                100.0   \n",
       "7692             4        2.0       1.0  ...                 90.0   \n",
       "\n",
       "     is_instant_bookable  reviews_per_month  country       city  insert_date  \\\n",
       "0                  FALSO               75.0    spain     malaga   2018-07-31   \n",
       "1                  FALSO               52.0    spain     madrid   2020-01-10   \n",
       "2              VERDADERO              142.0    spain    sevilla   2019-07-29   \n",
       "3              VERDADERO              306.0    spain  barcelona   2020-01-10   \n",
       "4                  FALSO               39.0    spain     girona   2019-02-19   \n",
       "...                  ...                ...      ...        ...          ...   \n",
       "7688           VERDADERO               88.0    spain  barcelona   2019-10-16   \n",
       "7689               FALSO              157.0    spain    sevilla   2021-01-31   \n",
       "7690           VERDADERO               25.0    spain   mallorca   2019-04-24   \n",
       "7691           VERDADERO              389.0    spain  barcelona   2019-08-12   \n",
       "7692               FALSO               68.0    spain     girona   2019-08-31   \n",
       "\n",
       "      occupied_days_30  occupied_days_60  occupied_days_90  occupied_days_365  \n",
       "0                   23                40                50                235  \n",
       "1                   30                60                90                203  \n",
       "2                    4                29                59                 95  \n",
       "3                   21                37                41                 65  \n",
       "4                   30                41                41                 53  \n",
       "...                ...               ...               ...                ...  \n",
       "7688                 2                 2                 2                  2  \n",
       "7689                30                49                49                324  \n",
       "7690                 7                 7                 7                181  \n",
       "7691                29                43                50                 50  \n",
       "7692                28                33                33                 90  \n",
       "\n",
       "[7693 rows x 39 columns]"
      ]
     },
     "execution_count": 18,
     "metadata": {},
     "output_type": "execute_result"
    }
   ],
   "source": [
    "for period in [30, 60, 90, 365]:\n",
    "    column_name = f'occupied_days_{period}'\n",
    "    availability_col = f'availability_{period}'\n",
    "    \n",
    "    if availability_col in df.columns:\n",
    "        df[column_name] = period - df[availability_col]\n",
    "\n",
    "df"
   ]
  },
  {
   "cell_type": "markdown",
   "id": "f3467a08",
   "metadata": {},
   "source": [
    "Crear columna tasa de ocupación "
   ]
  },
  {
   "cell_type": "code",
   "execution_count": 19,
   "id": "3a3e1ad3",
   "metadata": {},
   "outputs": [
    {
     "data": {
      "application/vnd.microsoft.datawrangler.viewer.v0+json": {
       "columns": [
        {
         "name": "index",
         "rawType": "int64",
         "type": "integer"
        },
        {
         "name": "apartment_id",
         "rawType": "int64",
         "type": "integer"
        },
        {
         "name": "name",
         "rawType": "object",
         "type": "unknown"
        },
        {
         "name": "description",
         "rawType": "object",
         "type": "unknown"
        },
        {
         "name": "host_id",
         "rawType": "int64",
         "type": "integer"
        },
        {
         "name": "neighbourhood_name",
         "rawType": "object",
         "type": "string"
        },
        {
         "name": "neighbourhood_district",
         "rawType": "object",
         "type": "unknown"
        },
        {
         "name": "room_type",
         "rawType": "object",
         "type": "string"
        },
        {
         "name": "accommodates",
         "rawType": "int64",
         "type": "integer"
        },
        {
         "name": "bathrooms",
         "rawType": "float64",
         "type": "float"
        },
        {
         "name": "bedrooms",
         "rawType": "float64",
         "type": "float"
        },
        {
         "name": "beds",
         "rawType": "float64",
         "type": "float"
        },
        {
         "name": "amenities_list",
         "rawType": "object",
         "type": "unknown"
        },
        {
         "name": "price",
         "rawType": "float64",
         "type": "float"
        },
        {
         "name": "minimum_nights",
         "rawType": "int64",
         "type": "integer"
        },
        {
         "name": "maximum_nights",
         "rawType": "int64",
         "type": "integer"
        },
        {
         "name": "has_availability",
         "rawType": "bool",
         "type": "boolean"
        },
        {
         "name": "availability_30",
         "rawType": "int64",
         "type": "integer"
        },
        {
         "name": "availability_60",
         "rawType": "int64",
         "type": "integer"
        },
        {
         "name": "availability_90",
         "rawType": "int64",
         "type": "integer"
        },
        {
         "name": "availability_365",
         "rawType": "int64",
         "type": "integer"
        },
        {
         "name": "number_of_reviews",
         "rawType": "int64",
         "type": "integer"
        },
        {
         "name": "first_review_date",
         "rawType": "object",
         "type": "unknown"
        },
        {
         "name": "last_review_date",
         "rawType": "object",
         "type": "unknown"
        },
        {
         "name": "review_scores_rating",
         "rawType": "float64",
         "type": "float"
        },
        {
         "name": "review_scores_accuracy",
         "rawType": "float64",
         "type": "float"
        },
        {
         "name": "review_scores_cleanliness",
         "rawType": "float64",
         "type": "float"
        },
        {
         "name": "review_scores_checkin",
         "rawType": "float64",
         "type": "float"
        },
        {
         "name": "review_scores_communication",
         "rawType": "float64",
         "type": "float"
        },
        {
         "name": "review_scores_location",
         "rawType": "float64",
         "type": "float"
        },
        {
         "name": "review_scores_value",
         "rawType": "float64",
         "type": "float"
        },
        {
         "name": "is_instant_bookable",
         "rawType": "object",
         "type": "string"
        },
        {
         "name": "reviews_per_month",
         "rawType": "float64",
         "type": "float"
        },
        {
         "name": "country",
         "rawType": "object",
         "type": "string"
        },
        {
         "name": "city",
         "rawType": "object",
         "type": "string"
        },
        {
         "name": "insert_date",
         "rawType": "object",
         "type": "string"
        },
        {
         "name": "occupied_days_30",
         "rawType": "int64",
         "type": "integer"
        },
        {
         "name": "occupied_days_60",
         "rawType": "int64",
         "type": "integer"
        },
        {
         "name": "occupied_days_90",
         "rawType": "int64",
         "type": "integer"
        },
        {
         "name": "occupied_days_365",
         "rawType": "int64",
         "type": "integer"
        },
        {
         "name": "occupancy_rate_%_30",
         "rawType": "float64",
         "type": "float"
        },
        {
         "name": "occupancy_rate_%_60",
         "rawType": "float64",
         "type": "float"
        },
        {
         "name": "occupancy_rate_%_90",
         "rawType": "float64",
         "type": "float"
        },
        {
         "name": "occupancy_rate_%_365",
         "rawType": "float64",
         "type": "float"
        }
       ],
       "conversionMethod": "pd.DataFrame",
       "ref": "c07ddf95-23fe-4ed0-a0a4-7f37155ed484",
       "rows": [
        [
         "0",
         "11964",
         "A ROOM WITH A VIEW",
         "Private bedroom in our attic apartment. Right in the heart of the pedestrian downtown area. Outstanding views from our large terrace and modern, fully renovated interior. Double bed in a fully renovated downtown attic. We live in a 1881 building in the heart of town. One minute away from the Picasso museum, Calle Larios and the cathedral. It is a 100 square meter apartment and a 45 square meter terrace with outstanding views of the cathedral and the whole downtown area and churches, plus an outdoor barbecue. The apartment underwent an 8 month renovation and is in pristine condition, with Italian appliances and light fixtures, Murano glass tiles and marble floors.  The building has an elevator up to the 4ht floor and we live on the 5th. All of downtown M�laga is pedestrian, so you will be guaranteed no traffic noise and pleasant walks. There are hundreds of restaurants and shops in the neighborhood as well; impossible to run out of things to do. Common areas As often as our guests want ",
         "45553",
         "Centro",
         null,
         "Private room",
         "2",
         "2.0",
         "1.0",
         "1.0",
         "TV,Internet,Wifi,Air conditioning,Elevator,Buzzer/wireless intercom,Heating,Washer,Smoke detector,Carbon monoxide detector,Essentials,Shampoo,24-hour check-in,Hangers,Hair dryer,Iron,Laptop friendly workspace,translation missing: en.hosting_amenity_49,translation missing: en.hosting_amenity_50",
         "400.0",
         "3",
         "365",
         "True",
         "7",
         "20",
         "40",
         "130",
         "78",
         "2010-01-02",
         "2017-09-05",
         "97.0",
         "100.0",
         "100.0",
         "100.0",
         "100.0",
         "100.0",
         "100.0",
         "FALSO",
         "75.0",
         "spain",
         "malaga",
         "2018-07-31",
         "23",
         "40",
         "50",
         "235",
         "76.67",
         "66.67",
         "55.56",
         "64.38"
        ],
        [
         "1",
         "21853",
         "Bright and airy room",
         "We have a quiet and sunny room with a good view in our 3 bedroom flat. In a welcoming atmosphere, our clean and respectful flatshare is located in a leafy neighbourhood with all facilities: shops, library, caf�s and bars, a swimming pools, gyms, and fantastic parks. Well connected by metro and bus with the centre: 15 minutes. For walks, we are also a 20 min stroll away from the riverside. I am living in a nice flat near the centre of Madrid (15 minutes by bus). We are relaxed, clean, and independent. The flat is located in a leafy neighbourhood with plenty of facilities: little shops, supermarkets, public library, swimming pools (covered and summer ones), tennis courts and free parking outside the flat. It is well connected by public transport (various bus and metro lines). The room is sunny and well presented. There are two bathrooms, one of which you would share with a guest. It has triple glazing and we provide fresh bedlinen and towels, so that packing is lighter for our guests. We",
         "83531",
         "C�rmenes",
         "Latina",
         "Private room",
         "1",
         "1.0",
         "1.0",
         "1.0",
         "TV,Internet,Wifi,Air conditioning,Kitchen,Free parking on premises,Doorman,Elevator,Heating,Washer,First aid kit,Fire extinguisher,Essentials,Shampoo,Lock on bedroom door,Hangers,Hair dryer,Iron,Laptop friendly workspace,translation missing: en.hosting_amenity_49,translation missing: en.hosting_amenity_50,Hot water,Bed linens,Extra pillows and blankets,Pocket wifi,Microwave,Coffee maker,Refrigerator,Dishes and silverware,Cooking basics,Oven",
         "170.0",
         "4",
         "40",
         "True",
         "0",
         "0",
         "0",
         "162",
         "33",
         "2014-10-10",
         "2018-07-15",
         "92.0",
         "90.0",
         "90.0",
         "100.0",
         "100.0",
         "80.0",
         "90.0",
         "FALSO",
         "52.0",
         "spain",
         "madrid",
         "2020-01-10",
         "30",
         "60",
         "90",
         "203",
         "100.0",
         "100.0",
         "100.0",
         "55.62"
        ],
        [
         "2",
         "32347",
         "Explore Cultural Sights from a Family-Friendly Apartment",
         "Open French doors and step onto a plant-filled terrace that feels like an oasis of calm in the center of the city. White-on-white decor, an ultramodern kitchen, and splashes of color create a fun and relaxing atmosphere for adults and kids alike.",
         "139939",
         "San Vicente",
         "Casco Antiguo",
         "Entire home/apt",
         "4",
         "1.0",
         "2.0",
         "2.0",
         "TV,Internet,Wifi,Air conditioning,Wheelchair accessible,Kitchen,Elevator,Buzzer/wireless intercom,Heating,Washer,Dryer,Smoke detector,Carbon monoxide detector,First aid kit,Fire extinguisher,Essentials,Shampoo,24-hour check-in,Hangers,Hair dryer,Iron,Laptop friendly workspace,Crib,Pack �n Play/travel crib,Body soap,Bath towel,Toilet paper,Bed linens,Extra pillows and blankets,Coffee maker,Host greets you,Full kitchen,Bedroom comforts,Bathroom essentials",
         "990.0",
         "2",
         "120",
         "True",
         "26",
         "31",
         "31",
         "270",
         "148",
         "2011-01-05",
         "2019-07-22",
         "98.0",
         "100.0",
         "100.0",
         "100.0",
         "100.0",
         "100.0",
         "100.0",
         "VERDADERO",
         "142.0",
         "spain",
         "sevilla",
         "2019-07-29",
         "4",
         "29",
         "59",
         "95",
         "13.33",
         "48.33",
         "65.56",
         "26.03"
        ],
        [
         "3",
         "35379",
         "Double 02 CasanovaRooms Barcelona",
         "Room at a my apartment. Kitchen and 2 bathrooms to share. Free self service breakfast. Free wifi,  TV, towels, bed linen, Ceiling fan, desk and balcony to the back of the building. I also have at guests disposal vanity kits and hairdryers. Washing machine, iron and printer on request. My apartment is located in the Eixample quarter close to the commercial area and the centre of town. I provide private rooms: one single room and two double rooms with self-service breakfast. You can also use the kitchen to cook quick meals. I also provide free wifi connection.  All rooms are equipped with a tv set, clean bed linen, fresh towels, heating and a ceiling fan.  I am on to the blue line (L5) and the underground station is �Hospital Cl�nic�. Make sure you take the exit marked as �Sortida Villarroel/Cl�nic�. From there on, you only need to walk 1 minute to �Carrer Casanova�. Though located centrally, we're on a residential and not touristic neighborhood. Metro stop Hospital Clinic line 5 (blue",
         "152232",
         "l'Antiga Esquerra de l'Eixample",
         "Eixample",
         "Private room",
         "2",
         "2.0",
         "1.0",
         "1.0",
         "TV,Internet,Wifi,Kitchen,Breakfast,Elevator,Buzzer/wireless intercom,Heating,Washer,Essentials,Lock on bedroom door,Hangers,Hair dryer,Iron,translation missing: en.hosting_amenity_49,translation missing: en.hosting_amenity_50,Hot water,Microwave,Coffee maker,Refrigerator,Dishes and silverware,Cooking basics,Stove,Patio or balcony,Host greets you,Paid parking on premises,Shower gel",
         "400.0",
         "2",
         "730",
         "True",
         "9",
         "23",
         "49",
         "300",
         "292",
         "2012-03-13",
         "2020-01-04",
         "94.0",
         "100.0",
         "90.0",
         "100.0",
         "100.0",
         "100.0",
         "90.0",
         "VERDADERO",
         "306.0",
         "spain",
         "barcelona",
         "2020-01-10",
         "21",
         "37",
         "41",
         "65",
         "70.0",
         "61.67",
         "45.56",
         "17.81"
        ],
        [
         "4",
         "35801",
         "Can Torras Farmhouse Studio Suite",
         "Lay in bed & watch sunlight change the mood of distant valley hills! This suite of rooms includes a double bedroom, twin bed room (& space for a third), private bathroom & entrance, living & dining area plus a delicious, home-made breakfast. There's a jacuzzi, plunge pool, pergola & organic gardens to explore. The ancient city of Girona is only 20 mins away. Great for romantic breaks & families with older children. English spoken. Proud to be fully registered with the Catalan Tourist Board. Can Torras is a recently renovated, ecolodge in the national park of Gavarres, on a hill top behind the ancient city of Girona. This suite has all the charm of an old farmhouse, but the services & environmental improvements of modern living.  A fantastic breakfast is included in your stay, plus the freedom to wander in our organic garden, relax in a hammock under the pergola, plunge in the pool or bask in our hot spa, as you enjoy magnificent views down the valley.   The Studio Suite includes a doub",
         "153805",
         "Quart",
         null,
         "Private room",
         "5",
         "1.0",
         "2.0",
         "5.0",
         "Wifi,Pool,Free parking on premises,Breakfast,Pets live on this property,Dog(s),Cat(s),Other pet(s),Hot tub,Indoor fireplace,Heating,Family/kid friendly,Washer,Dryer,Smoke detector,Carbon monoxide detector,Essentials,Shampoo,24-hour check-in,Hangers,Hair dryer,Iron,Laptop friendly workspace,translation missing: en.hosting_amenity_50,Bathtub,Baby bath,High chair,Children�s books and toys,Crib,Children�s dinnerware,Hot water,Bed linens,Extra pillows and blankets,Coffee maker,Refrigerator,Dishes and silverware,Garden or backyard,Luggage dropoff allowed,Long term stays allowed,Wide hallway clearance,Wide doorway,Well-lit path to entrance,Host greets you",
         "900.0",
         "1",
         "180",
         "True",
         "0",
         "19",
         "49",
         "312",
         "36",
         "2011-07-08",
         "2018-08-08",
         "97.0",
         "100.0",
         "100.0",
         "100.0",
         "100.0",
         "100.0",
         "100.0",
         "FALSO",
         "39.0",
         "spain",
         "girona",
         "2019-02-19",
         "30",
         "41",
         "41",
         "53",
         "100.0",
         "68.33",
         "45.56",
         "14.52"
        ],
        [
         "5",
         "48764",
         "18th C Stone House near Costa Brava",
         "Casa Fluvia is a charming stone village house in a Catalan village on the Costa Brava just 5 km from the sea. A perfect base for enjoying culture, cuisine, history, nature, and sports as well as the sea. Spacious house suitable for up to 8 people.  If your stay is less than one week, please request a price for the period you are interested in.  It is very difficult to cover all eventualities and different lengths of stay using the automatic system. Tourist Registration Ref: HUTG  000207 CASA FLUVI� IS A 18TH CENTURY STONE VILLAGE HOUSE WITH 3 DOUBLE BEDROOMS AND 1 TWIN BEDROOM.  - rooftop terrace and solarium  - first floor living area 30s Catalan style - ground floor living area typical of 18th century stone farmhouse The house is within 5 km of some of the best Costa Brava beaches, set in a quiet Mediterranean village in the Empord� with views of the Pyrenees, surrounding fields and neighbours working and paying their daily social visits.  This fully renovated house features vaulted",
         "220145",
         "Torroella de Fluvi�",
         null,
         "Entire home/apt",
         "8",
         "2.0",
         "4.0",
         "5.0",
         "TV,Internet,Wifi,Kitchen,Free street parking,Heating,Family/kid friendly,Washer,Smoke detector,First aid kit,Safety card,Fire extinguisher,Essentials,Shampoo,Hangers,Hair dryer,Iron,Laptop friendly workspace,Private entrance,Crib,Hot water,Host greets you",
         "900.0",
         "5",
         "95",
         "True",
         "0",
         "0",
         "0",
         "235",
         "25",
         "2011-06-04",
         "2018-08-25",
         "96.0",
         "100.0",
         "100.0",
         "100.0",
         "100.0",
         "90.0",
         "100.0",
         "FALSO",
         "27.0",
         "spain",
         "girona",
         "2019-02-19",
         "30",
         "60",
         "90",
         "130",
         "100.0",
         "100.0",
         "100.0",
         "35.62"
        ],
        [
         "6",
         "58512",
         "Stylish & cozy 3BR near Sagrada Familia",
         "Welcome to my home!<br /><br />My lovely 3 bedroom apartment is located in a traditional Catalan neighborhood close to Hospital Sant Pau (10 min walk) and the iconic Sagrada Familia (20 min walk). Enjoy exploring Barcelona with ease - two nearest metro stations:  Camp de l�Arpa (4 min by walk) and Clot (6 min by walk). Very safe area, quiet at night and family-friendly.<br />Gorgeous wooden floors, open ceilings, a modern and stylish decor and a beautifully integrated American kitchen add to the flat�s charm.<br /><br /><b>The space</b><br />My 3 bedroom apartment is spacious, with beautifully quirky decor and a relaxed feel. It�s the ideal place to come back to after a day of exploring. Great transport links and at a walking distance from Sagrada Familia mean you�ll be right in the hub of the city but able to escape the hustle and bustle! <br /><br />The living area is very cozy with a large, comfy sofa-bed and a flat-screen TV with HBO included, so please sit back and make yourself a",
         "280070",
         "el Camp de l'Arpa del Clot",
         "Sant Mart�",
         "Entire home/apt",
         "6",
         "2.0",
         "3.0",
         "4.0",
         "Shampoo, Washer, Wifi, Oven, Cooking basics, Hair dryer, TV, Heating, Extra pillows and blankets, First aid kit, Smoke alarm, Hangers, Essentials, Air conditioning, Bed linens, Stove, Carbon monoxide alarm, Microwave, Paid parking off premises, Host greets you, Hot water, Bathtub, Kitchen, Iron, Long term stays allowed, Refrigerator, Fire extinguisher, Coffee maker, Laptop-friendly workspace, Dishes and silverware]",
         "950.0",
         "5",
         "90",
         "True",
         "30",
         "60",
         "90",
         "331",
         "382",
         "2011-04-08",
         "2020-03-02",
         "89.0",
         "90.0",
         "90.0",
         "90.0",
         "90.0",
         "90.0",
         "90.0",
         "VERDADERO",
         "329.0",
         "spain",
         "barcelona",
         "2020-10-12",
         "0",
         "0",
         "0",
         "34",
         "0.0",
         "0.0",
         "0.0",
         "9.32"
        ],
        [
         "7",
         "71603",
         "PENTHOUSE1 BEST PRICE 15/21.07 PROMO LAST MINUTE!",
         "The apartment you are about to book has everything you need for a top quality stay.  We have more than 6 years providing people around the world the perfect home away from home, so relax and enjoy, you are on the perfect hands now...  HUTB-003878 Old world style meets modern convenience in a newly renovated penthouse for rent in the heart of Barcelona�s city center. Whether searching for a romantic get-away or family holidays, our Ausias Marc apartment guarantees a comfortable and luxury stay.The apartment has been completely renovated and modernized to achieve the quality and high standard necessary to make this a luxury apartment for our visitor to Barcelona.You can see this from the moment you step into the tastefully, styled fireplace, as well as the perfectly preserved facade of the 18th Century Palace where this apartment is located. The apartment is located in a building catalogued as an historical an esthetical emblem of Barcelona. The location cannot be better, the neighborhoo",
         "366654",
         "la Dreta de l'Eixample",
         "Eixample",
         "Entire home/apt",
         "3",
         "2.0",
         "1.0",
         "4.0",
         "TV,Cable TV,Internet,Wireless Internet,Air conditioning,Kitchen,Smoking allowed,Pets allowed,Doorman,Gym,Elevator,Hot tub,Indoor fireplace,Heating,Family/kid friendly,Suitable for events,Washer,Dryer",
         "3900.0",
         "3",
         "5",
         "True",
         "28",
         "55",
         "85",
         "360",
         "33",
         "2011-02-16",
         "2017-06-05",
         "94.0",
         "100.0",
         "100.0",
         "100.0",
         "90.0",
         "100.0",
         "90.0",
         "FALSO",
         "42.0",
         "spain",
         "barcelona",
         "2017-07-06",
         "2",
         "5",
         "5",
         "5",
         "6.67",
         "8.33",
         "5.56",
         "1.37"
        ],
        [
         "8",
         "72150",
         "Sunny attic duplex flat with terrace next to Sol",
         "The apartment is a quiet, secluded idyll in the heart of Madrid. It was renovated and redecorated in 2014. With 3 bedrooms distributed over 2 floors, it can host up to 9 people (1 double bed and 1 single bed per bedroom). You will enjoy the intimacy and quiet  of the rooftop terrace.<br /><br /><b>The space</b><br />The apartment is a quiet, secluded idyll in the heart of Madrid. It offers a breathtaking view of the city and the surrounding landscape from an intimate rooftop terrace. <br />The apartment is on the fourth floor of a historic building from the late 19th century. It has been completely renovated and redecorated in 2014.   <br />The main living space is a spacious, living / dining area, which is directly connected to a large terrace, through a large sliding glass door.<br />The total living area is 90 square meters, including upstairs, downstairs and a 20 square meters terrace. The first floor contains a living room, American-style open-plan kitchen, a bathroom, and a bedro",
         "364585",
         "Embajadores",
         "Centro",
         "Entire home/apt",
         "5",
         "2.0",
         "3.0",
         "6.0",
         "Shampoo, Luggage dropoff allowed, Paid parking on premises, Refrigerator, Coffee maker, Long term stays allowed, Dryer, Heating, Hot water, Patio or balcony, Washer, Oven, Stove, Air conditioning, Wifi, Essentials, Kitchen, Dishes and silverware, Smoke alarm, Iron, Cooking basics, Hangers, Carbon monoxide alarm, Laptop-friendly workspace, Hot tub, Hair dryer, Microwave, Building staff]",
         "790.0",
         "2",
         "1125",
         "True",
         "29",
         "59",
         "89",
         "179",
         "108",
         "2011-02-13",
         "2020-07-31",
         "91.0",
         "90.0",
         "90.0",
         "100.0",
         "100.0",
         "100.0",
         "90.0",
         "FALSO",
         "91.0",
         "spain",
         "madrid",
         "2020-11-06",
         "1",
         "1",
         "1",
         "186",
         "3.33",
         "1.67",
         "1.11",
         "50.96"
        ],
        [
         "9",
         "73683",
         "Sagrada Familia area for 12 people",
         "An ideal location for a big group, two apartments in the same building, one directly above the other.  Huge choice of stunning experiences can be included: Jet skis, Flyboard, Parasailing, Jet boat, Hoverboard, Sailing trips, Kayaks, Segways ... NOTE: Local city tax is NOT included in the price paid to Airbnb and must be paid upon arrival. Currently the city tax is �2.48 per person per night up to a maximum of 7 nights for guests over 16 years old. NOTE: If you want to see all my properties and boats please have a look at: https://www.airbnb.com/s?host_id=135703. The apartments are situated on the second and third floors, at the front, in a traditional 1930�s apartment block, which has recently been fully restored to a high standard. You can also add different stunning activities:  - Jet Ski rides, �100 for 30 minutes, or 180� for 60 minutes (no license required - up to 2 people). - Flyboard experience: �85 / 15 minutes (1 person), �160 / 30 minutes (up to 2 people), �300 / 60 min. (up",
         "135703",
         "el Camp d'en Grassot i Gr�cia Nova",
         "Gr�cia",
         "Entire home/apt",
         "12",
         "2.0",
         "4.0",
         "14.0",
         "TV,Cable TV,Internet,Wifi,Air conditioning,Kitchen,Paid parking off premises,Elevator,Buzzer/wireless intercom,Heating,Family/kid friendly,Washer,Smoke detector,Carbon monoxide detector,Fire extinguisher,Essentials,Shampoo,24-hour check-in,Hangers,Hair dryer,Iron,Laptop friendly workspace,Self check-in,Smart lock,High chair,Pack �n Play/travel crib,Hot water,Luggage dropoff allowed",
         "3000.0",
         "2",
         "60",
         "True",
         "8",
         "12",
         "23",
         "296",
         "120",
         "2011-06-04",
         "2018-05-20",
         "92.0",
         "90.0",
         "90.0",
         "100.0",
         "100.0",
         "90.0",
         "90.0",
         "VERDADERO",
         "14.0",
         "spain",
         "barcelona",
         "2018-06-09",
         "22",
         "48",
         "67",
         "69",
         "73.33",
         "80.0",
         "74.44",
         "18.9"
        ],
        [
         "10",
         "73692",
         "Rustic apartment : Rambla Catalunya (HUTB-005863)",
         "Located in the centre of Barcelona (near Plaza Catalunya and Passeig de Gracia), this wonderful 2 bedroom apartment is on the 4th floor of a charming building, on the famous road called Ramba de Catalunya. Ideal for groups of up to 5 people Located in the centre of Barcelona , this wonderful centrally heated apartment is on the 4th floor of a charming building (with elevator), removing it from the bustle of the street below. This beautifully decorated 2 bedroom apartment is a hit for groups of up to 5 people, and boasts a bright twin bedroom with large cupboard for storage, and a small interior single bedroom, with smaller storage space. Both bedrooms lead to the air-conditioned lounge, containing the comfortable double sofa bed, and the dining and TV areas. The main bedroom and lounge also have balconies, from which you can view the world below. The bathroom contains a shower cubicle, while the kitchen is fully equipped with all the conveniences you�d expect such as electric cooker, f",
         "297545",
         "la Dreta de l'Eixample",
         "Eixample",
         "Entire home/apt",
         "5",
         "1.0",
         "2.0",
         "3.0",
         "TV,Wireless Internet,Air conditioning,Kitchen,Elevator,Buzzer/wireless intercom,Heating,Family/kid friendly,Washer,Fire extinguisher,Essentials,Hangers,Hair dryer,Iron",
         "1050.0",
         "2",
         "90",
         "True",
         "9",
         "39",
         "63",
         "307",
         "29",
         "2012-08-01",
         "2017-08-03",
         "84.0",
         "90.0",
         "80.0",
         "100.0",
         "90.0",
         "100.0",
         "90.0",
         "VERDADERO",
         "46.0",
         "spain",
         "barcelona",
         "2017-10-07",
         "21",
         "21",
         "27",
         "58",
         "70.0",
         "35.0",
         "30.0",
         "15.89"
        ],
        [
         "11",
         "79755",
         "3Br-2bath-AC Full 5 stars reviews!",
         "90 m2 apartment, 2 baths, 3 bedrooms. Fully equipped kitchen, dishwasher, washing machine, etc. There is WiFi internet, TV, DVD, HiFi, air conditioning and programable heating. Lots of public transport within 1 minute distance and great location. Come visit Barcelona and stay where locals live. Enjoy my quiet, sunny and beautifully located apartment! I am right now living on it, with my wife and baby, but we will be out during the dates you have chosen (and will leave it perfectly ready for you). This means it is even better equipped, including baby stuff, but it has changed a bit from the pictures. Contact me previously if you have any questions. My place is a 90 m2 apartment (around 1000 sq. feet) with air conditioning, 2 double bedrooms (one with a king size bed and one with 2 individual beds) and an additional single bedroom, plus 2 full bathrooms. The living-room is large and bright. The kitchen is fully equipped, with everything necessary to cook, laundry machine and dishwasher.",
         "429939",
         "l'Antiga Esquerra de l'Eixample",
         "Eixample",
         "Entire home/apt",
         "5",
         "2.0",
         "3.0",
         "4.0",
         "TV,Internet,Wireless Internet,Air conditioning,Wheelchair accessible,Kitchen,Doorman,Elevator,Heating,Family/kid friendly,Washer,Smoke detector,Carbon monoxide detector,Fire extinguisher,Essentials,Shampoo,24-hour check-in,Hangers,Hair dryer,Iron,Laptop friendly workspace,Outlet covers,Bathtub,Baby bath,Changing table,High chair,Children�s books and toys,Crib,Pack �n Play/travel crib,Room-darkening shades,Children�s dinnerware,Game console,Hot water,Bed linens,Extra pillows and blankets,Ethernet connection,Microwave,Coffee maker,Refrigerator,Dishwasher,Dishes and silverware,Cooking basics,Oven,Stove",
         "1100.0",
         "3",
         "365",
         "True",
         "9",
         "10",
         "10",
         "10",
         "189",
         "2011-04-24",
         "2016-10-01",
         "98.0",
         "100.0",
         "100.0",
         "100.0",
         "100.0",
         "100.0",
         "100.0",
         "VERDADERO",
         "234.0",
         "spain",
         "barcelona",
         "2017-12-09",
         "21",
         "50",
         "80",
         "355",
         "70.0",
         "83.33",
         "88.89",
         "97.26"
        ],
        [
         "12",
         "89756",
         "Old town 1, 6minutesfrom Ramblas",
         "ONLY FOR FAMILIES or people over 25 years old! Old town Ramblas  1 apartment with 3 BEDROOM  Right in the city centre only 6/7 minutes from Las Ramblas, so walking distance to all the major attractions, Gothic quarter, beach, montjuic. 8 beds including sof� beds (2 double + 2 single + 4 sofabeds) it is forbidden to add more people than 9 we could ask you to leave the apartment if you break this rule. Thanks. ith tourist licence:  N�HUTB 003874 ONLY FOR FAMILIES ro people over 25 years old!    The Old Town 1 apartment Apartment with a total capacity up to  9 guests/groups of families. 3 BEDROOMS   Right in the city centre only 6/7 minutes from Las Ramblas, so walking distance to all the major attractions, Gothic quarter and the Port but in a nice quiet street so you can sleep at night. It has 3 double bedrooms;   with 8 beds including the sofa beds  :      1 bedroom   with 1 king size bed + 1 single sofa bed   (for 3 people) 1 bedroom with 2 single  beds for 2 people  (this bed can be j",
         "488117",
         "el Raval",
         "Ciutat Vella",
         "Entire home/apt",
         "9",
         "1.0",
         "3.0",
         "8.0",
         "TV,Wireless Internet,Air conditioning,Wheelchair accessible,Kitchen,Elevator in building,Buzzer/wireless intercom,Heating,Family/kid friendly,Washer,Smoke detector,Carbon monoxide detector,Fire extinguisher,Essentials,Hangers,Hair dryer,Iron",
         "2800.0",
         "6",
         "60",
         "True",
         "7",
         "23",
         "53",
         "328",
         "9",
         "2012-11-02",
         "2016-11-29",
         "89.0",
         "90.0",
         "90.0",
         "100.0",
         "100.0",
         "90.0",
         "80.0",
         "VERDADERO",
         "17.0",
         "spain",
         "barcelona",
         "2017-04-08",
         "23",
         "37",
         "37",
         "37",
         "76.67",
         "61.67",
         "41.11",
         "10.14"
        ],
        [
         "13",
         "89776",
         "Modernist flat Downtown Casa Estap� | Barcelona",
         "Unique and rare ! Stay in the Casa Estap�, jewel of catalan modernism.  In the city center of Barcelona, perfectly situated for metro and North Station, the 40m2 apartment is a protected monument, fully equipped, double bedroom and view to Passeig de Sant Joan. = > It can only be rented through Airbnb. Apartment of 40 m in beautiful modernist building called Casa Estap�, first house of the Modernist road.  It consists of a living room, overlooking the Passeig de Sant Joan and the Arc de Triomph, with an American kitchen and a sofa bed, a large bedroom with a 160x190 cm bed and a complete bathroom with an Italian shower.  Located in the city center, on Passeig de Sant Joan adjacent to the Arc de Triomphe, 5 minutes from the Parque de la Ciutadella and the Born and 10 minutes walk from Plaza Catalunya and the historic town (Ciutat Vella neighborhood and Gothic).  Perfectly connected by metro (stop on the same block) and bus, and 200 meters from the North Station (bus to Girona airport).",
         "488151",
         "el Fort Pienc",
         "Eixample",
         "Entire home/apt",
         "4",
         "1.0",
         "1.0",
         "2.0",
         "TV,Internet,Wifi,Air conditioning,Kitchen,Elevator,Buzzer/wireless intercom,Heating,Family/kid friendly,Essentials,Shampoo,Hangers,Hair dryer,Iron,Laptop friendly workspace",
         "650.0",
         "3",
         "365",
         "True",
         "7",
         "18",
         "41",
         "224",
         "322",
         "2011-11-10",
         "2019-12-01",
         "96.0",
         "100.0",
         "100.0",
         "100.0",
         "100.0",
         "100.0",
         "100.0",
         "VERDADERO",
         "327.0",
         "spain",
         "barcelona",
         "2019-12-10",
         "23",
         "42",
         "49",
         "141",
         "76.67",
         "70.0",
         "54.44",
         "38.63"
        ],
        [
         "14",
         "89954",
         "Amazing apt in the historic center",
         "Beautiful, new, central and cosy apartment perfect for a family or friends trip with everything you need to feel as at your own home. We try to offer the best accommodation for our guests Newly refurbished apartment. Beautiful, charming and comfortable. Duplex apartment: First floor with spacious living room, kitchen and bathroom. Second floor with two double bedrooms including wardrobes. Lumber room. High quality construction materials. La Latina-Austrias area. Most ancient and beautiful Downtown neighbourhood in the city but feeling like living in a small town. Street with restricted traffic. 10 minutes walking distance to Plaza Mayor and 5 minutes to Palacio Real. Next to everything (few minutes walking distance): Palacio Real, Museo del Prado, Thyssen and Reina Sof�a, traditional markets, shopping, located in one of the best �tapas� areas in Madrid. High speed Internet access WI-FI, printer, i pod player, dvd and cd player, LCD TV, juicer, toaster, hairdryer, kettle, coffee maker,",
         "487095",
         "Palacio",
         "Centro",
         "Entire home/apt",
         "6",
         "1.0",
         "2.0",
         "3.0",
         "TV,Cable TV,Wifi,Air conditioning,Kitchen,Elevator,Heating,Family/kid friendly,Washer,Smoke detector,First aid kit,Fire extinguisher,Essentials,Shampoo,Hangers,Hair dryer,Iron,Laptop friendly workspace,translation missing: en.hosting_amenity_50,High chair,Children�s books and toys,Crib,Hot water,Luggage dropoff allowed,Long term stays allowed,Host greets you,Paid parking on premises",
         "1030.0",
         "2",
         "20",
         "True",
         "27",
         "48",
         "49",
         "61",
         "181",
         "2011-07-01",
         "2018-11-01",
         "97.0",
         "100.0",
         "100.0",
         "100.0",
         "100.0",
         "100.0",
         "100.0",
         "FALSO",
         "202.0",
         "spain",
         "madrid",
         "2018-11-07",
         "3",
         "12",
         "41",
         "304",
         "10.0",
         "20.0",
         "45.56",
         "83.29"
        ],
        [
         "15",
         "96807",
         "double room, bathroom",
         "Double room Private bathroom with shower ROOM 1: With double bed or two single beds  Special offers for groups or families: Can be 6 guests in 3 bedrooms  .- Extra person �. 15 ROOM 2: 1 SINGLE BED ROOM 3: 1 DOUBLE BED AND 1 SINGLE BED FACILITIES: Excellent location train Cercanias Renfe (urban & fastest)  5 blocks to the station,   7 minutes to Atocha, 15 minutes to Puerta del Sol, downtown, tourism, theaters, cinemas retaurantes Casino Madrid museums, the Prado, Reina Sofia, Tissen, Plaza de Cibeles, Retiro Park. The bus 136  at the corner of the houuse. And metro close 8 corners of the house. wi-fi cable tv washer and dryer The room over loks a pedestrian street a garden area, is very quiet, where  no car traffic,  and  is very  sunny all year. There are  all kinds of good supermarkets and 2 shopping malls in our area. The house is our family, my grandson Angel  26 years old and I, we speak several languages, Spanish, English, Bulgarian, German, you  are welcome to stay with",
         "513331",
         "Palomeras Bajas",
         "Puente de Vallecas",
         "Private room",
         "2",
         "1.0",
         "1.0",
         "2.0",
         "TV,Internet,Wifi,Wheelchair accessible,Kitchen,Free parking on premises,Elevator,Buzzer/wireless intercom,Heating,Washer,Dryer,Essentials,Lock on bedroom door,Hangers,Hair dryer,Iron,translation missing: en.hosting_amenity_49,translation missing: en.hosting_amenity_50,Bed linens,Extra pillows and blankets,Ethernet connection,Pocket wifi",
         "290.0",
         "4",
         "365",
         "True",
         "30",
         "60",
         "90",
         "365",
         "77",
         "2011-06-08",
         "2019-07-07",
         "91.0",
         "90.0",
         "90.0",
         "90.0",
         "90.0",
         "80.0",
         "90.0",
         "FALSO",
         "74.0",
         "spain",
         "madrid",
         "2019-12-10",
         "0",
         "0",
         "0",
         "0",
         "0.0",
         "0.0",
         "0.0",
         "0.0"
        ],
        [
         "16",
         "101580",
         "Big house in PARADISE",
         "Luxury and quiet villa in Cala Canyelles (2km from Lloret de Mar, and 6km from Tossa de Mar) 67km to Barcelona. This villa is divided in 4 completely independent apartments. Both on main floor are joined in a very big space but can be separated by a double door.  The other 2 are completely independent. 1000m2 plot with gardens, big swimming-pool 13x6,5m, gimnastic, sauna and jacuzzi. house. It is situated in, Cala Canyelles a private urbanization between Lloret de Mar and Tossa de Mar. The house is 700m to the Canyelles beach, 2km to Lloret de Mar and 6km from Tossa de Mar. There are 4 apartments (completely independent) sharing the swimming pool, and spa. (also the washing machine and dry-machine). Every Apartment has a double master bedroom and a saloon where there is a double single beds that are the sofa-beds. The bed sheet and towels are included. Apartments upstairs (4 and 5) can be joined together as a common big space (on ap 4 you can have lunch together up to 16 people)....t",
         "532063",
         "Lloret de Mar",
         null,
         "Entire home/apt",
         "16",
         "4.0",
         "4.0",
         "12.0",
         "TV,Cable TV,Internet,Wifi,Air conditioning,Pool,Kitchen,Free parking on premises,Gym,Hot tub,Indoor fireplace,Heating,Suitable for events,Washer,Dryer,Smoke detector,Carbon monoxide detector,Essentials,Shampoo,Hangers,Hair dryer,Iron,Laptop friendly workspace,translation missing: en.hosting_amenity_49,translation missing: en.hosting_amenity_50,Crib,Hot water,Long term stays allowed,Host greets you",
         "950.0",
         "2",
         "30",
         "True",
         "22",
         "52",
         "82",
         "237",
         "14",
         "2017-05-28",
         "2018-10-14",
         "99.0",
         "100.0",
         "100.0",
         "100.0",
         "100.0",
         "90.0",
         "100.0",
         "VERDADERO",
         "73.0",
         "spain",
         "girona",
         "2018-12-22",
         "8",
         "8",
         "8",
         "128",
         "26.67",
         "13.33",
         "8.89",
         "35.07"
        ],
        [
         "17",
         "103386",
         "Central 2 Bedrooms, 3/5 pers. Wi-Fi",
         "This is Edificio Palomar Apartments, I will try to make you feel like home and you will discover Valencia in a great location, just right in the Historical Center. Because every journey is an experience we want to be part of yours. Located right in the Historical Centre you can find this new apartment in a restored 19th-century building, 2 bedrooms + sunny living-room + kitchen + 1 bathroom. Sleep max 5 persons , beds distribution: 1 double and 2 single beds + sofa bed. Lift access and fully equipped: -Towels and hairdryer included. - Microwave. - Oven. - Fridge & Freezer. - Dishwasher. - Toaster. - Hand blender. - Coffee Machine + Kettle. - Orange Juice Squeezer. - Cutlery, Table ware. - Coffee set. - Crockery. - TV in lounge and Master room. - DVD player. - Bed linen. - Air conditioning cool / heat. - Free Internet Wi-Fi.  - Baby set: Cot + baby chair + baby bath (for free). - Free luggage room service. You can rent a bike or moto Vespa to visit the City, also Segway tours. Recepti",
         "508042",
         "EL PILAR",
         "CIUTAT VELLA",
         "Entire home/apt",
         "5",
         "1.0",
         "2.0",
         "3.0",
         "TV,Wifi,Air conditioning,Kitchen,Paid parking off premises,Elevator,Buzzer/wireless intercom,Heating,Family/kid friendly,Washer,Dryer,First aid kit,Safety card,Fire extinguisher,Essentials,Shampoo,24-hour check-in,Hangers,Hair dryer,Iron,Laptop friendly workspace,Baby bath,High chair,Children�s books and toys,Crib,Pack �n Play/travel crib,Hot water,Bed linens,Microwave,Coffee maker,Refrigerator,Dishwasher,Dishes and silverware,Cooking basics,Oven,Stove,Patio or balcony,Luggage dropoff allowed,Host greets you",
         "840.0",
         "1",
         "14",
         "True",
         "17",
         "38",
         "64",
         "229",
         "13",
         "2011-11-01",
         "2019-04-19",
         "93.0",
         "100.0",
         "100.0",
         "100.0",
         "90.0",
         "90.0",
         "100.0",
         "FALSO",
         "13.0",
         "spain",
         "valencia",
         "2019-10-31",
         "13",
         "22",
         "26",
         "136",
         "43.33",
         "36.67",
         "28.89",
         "37.26"
        ],
        [
         "18",
         "107437",
         "A beautiful  villa in Barcelona",
         "A conserved, period villa situated in the midst of the lung of Barcelona.Unbeatably situated within the metropolitan area of Barcelona and in the midst of the Collserola Nature Reserve. A beautiful, 1930s house Tourist L :HUTB-009025 The house is at  3 minutes walking to the metro station  A conserved, period villa situated in the midst of the lung of Barcelona.Unbeatably situated within the metropolitan area of Barcelona and in the midst of the Collserola Nature Reserve. A beautiful, 1930s house, pleasantly situated in typically Mediterranean woodland with terraces. Recently restored maintaining its original, officially catalogued style. , at an unbelievable 5, 10 or 15 minutes by metro  to the center  and at only 3 minutes walk from the nearest station, Les Planes. Surounded by nature, wildlife and silence, yet maintaining the advantages of a great city, the house is ideal for combining work and holidaying, creativity and culture activities or simply enjoying moments of tranq",
         "556626",
         "Vallvidrera, el Tibidabo i les Planes",
         "Sarri�-Sant Gervasi",
         "Entire home/apt",
         "8",
         "2.0",
         "5.0",
         "6.0",
         "TV,Wifi,Kitchen,Free parking on premises,Smoking allowed,Pets allowed,Doorman,Free street parking,Buzzer/wireless intercom,Heating,Family/kid friendly,Washer,Dryer,Smoke detector,Carbon monoxide detector,First aid kit,Fire extinguisher,Essentials,Shampoo,24-hour check-in,Hangers,Hair dryer,Iron,Laptop friendly workspace,Crib,Hot water,Host greets you",
         "2200.0",
         "3",
         "120",
         "True",
         "12",
         "41",
         "59",
         "250",
         "34",
         "2011-07-08",
         "2018-07-28",
         "93.0",
         "100.0",
         "100.0",
         "100.0",
         "100.0",
         "100.0",
         "90.0",
         "VERDADERO",
         "38.0",
         "spain",
         "barcelona",
         "2018-10-10",
         "18",
         "19",
         "31",
         "115",
         "60.0",
         "31.67",
         "34.44",
         "31.51"
        ],
        [
         "19",
         "121210",
         "BIG ROOM IN CITY CENTER,NEAR BEACH!",
         "The best room in Barcelona!  Nice room, in a central and quiet part of Barcelona. Very near of the beach. With fast WIFI of course. In my opini�n, the best option for rest after one jorney discovering this amazing city. HELLO!  My name is Carmen, and I've got a newly renovated apartment in central Barcelona for your holiday in this cosmopolitan city! For rent is a bedroom for two people. The room is spacious, bright and quiet, and the apartment is very nice, spacious, bright and well kept... with a huge balcony!  WHAT DOES THE PRICE INCLUDE? Night in a double bed, sheets, towels, wardrobe, and access to the entire apartment (also the kitchen, which is fully equipped). And WIFI WHAT IS NOT INCLUDED? Noise. The windows and balcony overlook a quiet pedestrian street, so that you can rest well. (this is important, in city center usually there are so noise) In the flat there are 3 rooms, you are booking for one, and there are other for other guests, and other for me. You can use all apartme",
         "594334",
         "el Fort Pienc",
         "Eixample",
         "Private room",
         "2",
         "0.0",
         "1.0",
         "1.0",
         "TV,Internet,Wifi,Kitchen,Elevator,Washer,Essentials,translation missing: en.hosting_amenity_49,translation missing: en.hosting_amenity_50",
         "510.0",
         "5",
         "365",
         "True",
         "13",
         "38",
         "68",
         "68",
         "154",
         "2011-05-31",
         "2017-12-09",
         "89.0",
         "90.0",
         "90.0",
         "90.0",
         "90.0",
         "90.0",
         "90.0",
         "FALSO",
         "184.0",
         "spain",
         "barcelona",
         "2018-04-12",
         "17",
         "22",
         "22",
         "297",
         "56.67",
         "36.67",
         "24.44",
         "81.37"
        ],
        [
         "20",
         "128463",
         "Private Suite in residential area!!",
         "My House is located in the quiet district of Sants, catalan typical neighborhood. It is very close to the metro and bus, and just 10 minutes to the Centre. It is a quiet neighborhood, and cheaper than the Center. There are many restaurants and bars.. Welcome to Barcelona!!! Private suite whith  Double Bed and private bathroom, tv, cupboards. Suitable for either a couple or individual user.  I provide linens and towels. Convenient location:  7 minutes by metro from Centre of Barcelona. 7 minutes walking to Sants Central Train Station. 15 minutes walking to the Football Club Barcelona 10 minutes walking to Montjuic Fair and L'Hospitalet  ((MOBILE WORLD CONGRESS), congress and exhibition area) 3 minutes walking to all transportation (bus or metro) Restaurants, bars, groceries, pharmacy, general shopping- 3 minutes Bus #46 - direct to airport- 3 minutes walk.  Located in the District of Sants, very quiet and safe. Sants is a neighborhood in the southern part of Barcelona. Formerly an indus",
         "635253",
         "Sants",
         "Sants-Montju�c",
         "Private room",
         "2",
         "2.0",
         "1.0",
         "1.0",
         "TV,Wireless Internet,Air conditioning,Kitchen,Heating,Family/kid friendly,Smoke detector,Carbon monoxide detector,Essentials,Shampoo,Hangers,Hair dryer,Iron,Laptop friendly workspace,Bed linens,Extra pillows and blankets,Microwave,Coffee maker,Refrigerator,Dishes and silverware,Oven,Stove,Garden or backyard,Long term stays allowed",
         "300.0",
         "3",
         "1125",
         "True",
         "3",
         "16",
         "28",
         "264",
         "184",
         "2011-09-03",
         "2018-01-23",
         "97.0",
         "100.0",
         "100.0",
         "100.0",
         "100.0",
         "90.0",
         "100.0",
         "VERDADERO",
         "235.0",
         "spain",
         "barcelona",
         "2018-02-07",
         "27",
         "44",
         "62",
         "101",
         "90.0",
         "73.33",
         "68.89",
         "27.67"
        ],
        [
         "21",
         "131987",
         "SEVILLA CENTER 4 PAX.GREAT REVIEWS 1 BR+WIFI+AC",
         "OFFER SPRING & SUMMER : -5 or 6 nights=5% disccount off -7 nights ( or more )= 15 % disccount off -Max. capacity=4 guests -Located in hystoric quarter of Sevilla -Walking distance to all sights -Air conditioning/heating -WiFi -Lots of natural light -Bus to Airport ( EA line )+Plaza de Armas Bus Station+Public Parking in Plaza de Armas (5 min walking) -93% 5 stars reviews N� de Registro vivienda de Uso Turistico : VFT/SE/504 *VERY IMPORTANT ADVICE : Since mid-June (Phone number hidden by Airbnb) , in the cleaning process after each check-out, the use of an OZONE generating machine will be implemented to disinfect all rooms. This will lengthen the time required in the total cleaning process between each check-out and check-in, and therefore guests are asked to understand if the check-in time at the property should be delayed a bit . *OFFERS : *SPECIAL LONG STAY OFFERS ( from 2 weeks ) FOR APRIL , MAY , JUNE, JULY & SEPTEMBER *OFFERS SPRING & SUMMER : -5 or 6 nights=5% disccount off -7 n",
         "1535528",
         "San Vicente",
         "Casco Antiguo",
         "Entire home/apt",
         "4",
         "1.0",
         "1.0",
         "2.0",
         "TV,Wifi,Air conditioning,Kitchen,Paid parking off premises,Heating,Family/kid friendly,Washer,First aid kit,Fire extinguisher,Essentials,Shampoo,Hangers,Hair dryer,Iron,Bathtub,Hot water,Bed linens,Extra pillows and blankets,Ethernet connection,Microwave,Coffee maker,Refrigerator,Dishes and silverware,Cooking basics,Oven,Stove,Patio or balcony,Long term stays allowed,Host greets you",
         "690.0",
         "4",
         "365",
         "True",
         "30",
         "60",
         "90",
         "163",
         "235",
         "2012-03-12",
         "2020-03-12",
         "98.0",
         "100.0",
         "100.0",
         "100.0",
         "100.0",
         "100.0",
         "100.0",
         "VERDADERO",
         "235.0",
         "spain",
         "sevilla",
         "2020-05-30",
         "0",
         "0",
         "0",
         "202",
         "0.0",
         "0.0",
         "0.0",
         "55.34"
        ],
        [
         "22",
         "144471",
         "BEST ZONEPL.CATALU�A ROOM X 2BATHROOM +WIFI",
         "HELLO PEOPLE :=)  are you on vacation? or business? Perhaps a student? or just passing through ..! is just what you need ..! =) I' renting a room per days, weeks or monthly Rent a quiet and comfortable rooms in a beautifully renovated apartment. ROOMS DESCRIPTIONS: ROOM #1 It is a double room with a double bed and closet ideal for relaxing after a long day! In summer could has different price, depend of the season or week events in BCN. The most important thing!!! the flat is my home, I'm opening the doors of my home for you, please take care of it as yours, keep everything clean and respect the place.   Only one rule we have, DRUNK PEOPLE ARE NOT ALLOWED IN MY HOME, PLEASE!! THANKS!! if you are the person who like drink and drink without any control until get sick, this is not your place!! sorry!! ;D EXTRA SERVICES:  Kitchen not available for cooking * refrigerator use and microwave are free. FREE SERVICES FROM THE HOST:- WiFi, Fresh water bottle. - Cookies for breakfast. - Calls fixe",
         "700165",
         "Sant Antoni",
         "Eixample",
         "Private room",
         "2",
         "1.0",
         "1.0",
         "1.0",
         "Wifi,Wheelchair accessible,Elevator,Heating,Family/kid friendly,Washer,Smoke detector,Fire extinguisher,Essentials,Hangers,Iron,Laptop friendly workspace,Crib,Hot water,Host greets you,Paid parking on premises",
         "490.0",
         "2",
         "365",
         "True",
         "19",
         "49",
         "79",
         "354",
         "34",
         "2011-07-04",
         "2018-08-15",
         "88.0",
         "80.0",
         "90.0",
         "90.0",
         "90.0",
         "90.0",
         "80.0",
         "FALSO",
         "38.0",
         "spain",
         "barcelona",
         "2018-10-10",
         "11",
         "11",
         "11",
         "11",
         "36.67",
         "18.33",
         "12.22",
         "3.01"
        ],
        [
         "23",
         "157327",
         "House in Llofriu (Costa Brava)",
         "New rebuilt and furnished house pool bbq If you and your family/friends want to get relaxed in a quiet atmosphere with splendid views over Emporda area this is the place to stay! 8 km from Pals beach and 5 km from Palafrugell and La Bisbal downtowns House in the middle of countryside with an amazing view over the Emporda area. All new, from walls to furniture, decorated with very good taste. 230 square meters and 8,000 square meters of garden-terrain. 4 bedrooms with ensuite bathroom: 1 doble bed room  2 rooms with twin beds  and  1 room with 1 single bed and another one underneath that can be taken out. Fully equipped kitchen. Very large and comfortable dinning and sitting room.  Comfortable in/out swimming pool Terrace with places for dinning and sitting. BBQ by the pool.  WC for visits. Located in a quiet paradise that creates an immense relaxed atmosphere, unbelievable dawns and sunsets.   8 km away from Pals beach and 5 km from Palafrugell and La Bisbal downtowns. Ideal for famili",
         "755634",
         "Forallac",
         null,
         "Entire home/apt",
         "8",
         "5.0",
         "4.0",
         "8.0",
         "TV,Air conditioning,Pool,Kitchen,Free parking on premises,Indoor fireplace,Buzzer/wireless intercom,Heating,Family/kid friendly,Washer,Dryer,Fire extinguisher,Essentials,Shampoo",
         "950.0",
         "7",
         "90",
         "True",
         "27",
         "57",
         "87",
         "362",
         "1",
         "2015-08-18",
         "2015-08-18",
         "80.0",
         "80.0",
         "100.0",
         "100.0",
         "100.0",
         "80.0",
         "80.0",
         "FALSO",
         "2.0",
         "spain",
         "girona",
         "2020-04-30",
         "3",
         "3",
         "3",
         "3",
         "10.0",
         "5.0",
         "3.33",
         "0.82"
        ],
        [
         "24",
         "158238",
         "CENTRAL Wi Fi  w/TERRASSE 8 people",
         "Welcome to Barcelona ! Barcelona is a colorfull city with an amazing athmosphere plenty of experiences to enjoy. We want you to feel the Barcelona experience in our JUST RENEWED apartment a few minutes from the city center. Not included : touristic tax. Is 2,25 euros per person and night with a maximum of 7 nights Expenses of water, electricity are included untill 150 euros per month. Internet Included. Late check in after 8 pm : 25 euros Late check in after 10 pm : 35 euros Raquel 4 double rooms. 2 single beds And 3 double beds Metro Line 3 Palza del Centro stop Registro: (PHONE NUMBER HIDDEN)   Expedient (PHONE NUMBER HIDDEN) Registro: (PHONE NUMBER HIDDEN)   Expedient (PHONE NUMBER HIDDEN)",
         "759411",
         "les Corts",
         "Les Corts",
         "Entire home/apt",
         "8",
         "2.0",
         "4.0",
         "5.0",
         "TV,Internet,Wifi,Kitchen,Paid parking off premises,Smoking allowed,Pets allowed,Elevator,Buzzer/wireless intercom,Family/kid friendly,Washer,Essentials,Hair dryer,Iron,translation missing: en.hosting_amenity_50,Hot water,Host greets you",
         "1200.0",
         "3",
         "365",
         "True",
         "24",
         "54",
         "84",
         "359",
         "97",
         "2011-07-22",
         "2018-05-21",
         "89.0",
         "90.0",
         "80.0",
         "100.0",
         "100.0",
         "90.0",
         "90.0",
         "FALSO",
         "116.0",
         "spain",
         "barcelona",
         "2018-06-09",
         "6",
         "6",
         "6",
         "6",
         "20.0",
         "10.0",
         "6.67",
         "1.64"
        ],
        [
         "25",
         "164621",
         "Nice&Cozy ensuite DoubleBedroom",
         "** Please, always check availability before booking ** Thanks! Monthly rate available on request during low season. If this room is booked, I rent another one in the same flat, have a look: https://www.airbnb.es/rooms/164364 About the apartment: 3 Bedrooms 2 Bathrooms (1 en-suite) Fully furnished kitchen Living Room Patio/Terrace The flat is spacious and well distributed. There are 3 bedrooms: 2 for airbnb guests and one is mine. The kitchen is modern, functional and fully equipped. The living room is at the higher floor, it has 2 super comfy sofa, a yoga space and a very good vibe. There is a TV (smaller than the one on the photos). The patio is great for relaxing on the hammock and chilling out in the pleasant summer evenings.  This double room is the best and largest room of the flat: it has en-suite private bathroom and it overlooks the patio. The location is great! The flat is located in Porto Pi, a very convenient area close to...everything! Next door there is Porto Pi shopping c",
         "684289",
         "Palma de Mallorca",
         null,
         "Private room",
         "1",
         "1.0",
         "1.0",
         "0.0",
         "TV,Wifi,Kitchen,Smoking allowed,Free street parking,Buzzer/wireless intercom,Heating,Family/kid friendly,Washer,Essentials,Hangers,Hair dryer,Iron,Private entrance,Hot water,Luggage dropoff allowed,Long term stays allowed,Host greets you",
         "330.0",
         "7",
         "1125",
         "True",
         "10",
         "39",
         "69",
         "344",
         "44",
         "2011-07-26",
         "2017-06-25",
         "95.0",
         "100.0",
         "100.0",
         "100.0",
         "100.0",
         "90.0",
         "90.0",
         "FALSO",
         "45.0",
         "spain",
         "mallorca",
         "2019-08-31",
         "20",
         "21",
         "21",
         "21",
         "66.67",
         "35.0",
         "23.33",
         "5.75"
        ],
        [
         "26",
         "170750",
         "2-bedroom attic & rooftop terrace",
         "JESUS DEL VALLE Apartment Gorgeous, bright two-bedroom attic apartment with a great terrace and all the amenities. Set in a strategic location very close to Gran V�a, the main commercial and entertainment area in Madrid. This flat is perfect for couples, families or a group of friends. FEATURES This bright apartment outfitted with all comforts has an open loft-style living room with two single  beds like sofa,  connecting to a fully-equipped kitchen with all the necessary appliances to make your stay as homey as possible.   The living room also leads out to a large (20 m2) terrace, with outdoor furniture , allowing you to enjoy wonderful views of the sunset over the city rooftops and Madrid sky-line.  The apartment has a master bedroom with a double bed and another smaller bedroom with a double bed, both with built-in wardrobes. Amenities. 4th 1/2  floor with elevator ( last 10 steps on foot), air conditioning, electric heating, bed linens & towels, refrigerator, oven, microwave, kitch",
         "814490",
         "Universidad",
         "Centro",
         "Entire home/apt",
         "4",
         "1.0",
         "2.0",
         "4.0",
         "TV,Cable TV,Wifi,Air conditioning,Kitchen,Smoking allowed,Elevator,Heating,Family/kid friendly,Washer,Essentials,Shampoo,Hangers,Hair dryer,Iron,Bathtub,Hot water,Bed linens,Extra pillows and blankets,Microwave,Coffee maker,Refrigerator,Dishwasher,Dishes and silverware,Cooking basics,Oven,Stove,Patio or balcony,Well-lit path to entrance,Step-free access,Step-free access,Host greets you,Paid parking on premises",
         "900.0",
         "2",
         "30",
         "True",
         "11",
         "11",
         "11",
         "17",
         "189",
         "2011-10-28",
         "2018-11-18",
         "90.0",
         "90.0",
         "90.0",
         "100.0",
         "100.0",
         "100.0",
         "90.0",
         "FALSO",
         "218.0",
         "spain",
         "madrid",
         "2018-12-10",
         "19",
         "49",
         "79",
         "348",
         "63.33",
         "81.67",
         "87.78",
         "95.34"
        ],
        [
         "27",
         "176827",
         "Se alquilan habitaciones en Madrid",
         "Es un piso totalmente reformado. Todas las habitaciones tienen llave y est�n amuebladas. Se puede ir andando a todos los lugares importantes de Madrid. Las personas que se queden por meses tienen derecho a cocina, wii, calefacci�n, lavadora, etc. En el piso tenemos 5 ba�os y 2 duchas. Todas las habitaciones est�n amuebladas, algunas tienen medio ba�o dentro, tienen llave en la puerta. . Las personas que alquilen por meses tienen derecho a cocina, lavadora, wifi, etc. Las personas que alquilen por d�as sueltos, tienen derecho a wifi, microondas, frigorifico, utilizar platos, vasos, cubiertos, ( no los hornillos de la cocina ). La lavadora es un servicio aparte. Lo que sea necesario Esta rodeado de cines, teatros, centros comerciales, restaurantes, museos, etc. Se puede ir andando a todos los sitios importantes. El autob�s que sale del aeropuerto, la parada la tiene en Cibeles y se tarde 10 minutos andando al piso. Esta comunicado con todo tipo de transportes a metro, autobuses, tren etc",
         "845399",
         "Universidad",
         "Centro",
         "Private room",
         "7",
         "5.0",
         "1.0",
         "7.0",
         "TV,Internet,Wireless Internet,Kitchen,Smoking allowed,Heating,Washer,Dryer,Fire extinguisher,Shampoo,Lock on bedroom door,24-hour check-in,Hangers,Hair dryer,Iron,translation missing: en.hosting_amenity_49,translation missing: en.hosting_amenity_50",
         "280.0",
         "1",
         "730",
         "True",
         "13",
         "43",
         "72",
         "347",
         "156",
         "2012-02-06",
         "2017-04-02",
         "83.0",
         "80.0",
         "90.0",
         "90.0",
         "90.0",
         "90.0",
         "90.0",
         "VERDADERO",
         "248.0",
         "spain",
         "madrid",
         "2017-04-08",
         "17",
         "17",
         "18",
         "18",
         "56.67",
         "28.33",
         "20.0",
         "4.93"
        ],
        [
         "28",
         "178456",
         "Apartment 50m from beach in Alcudia Port, MALLORCA",
         "Nice apartment in Port d'Alc�dia, just a minute walk from the beach. Bright place with traditional Majorcan style decor.  Two bedrooms and big living room, with large terraces. Fully equipped. Bed linen and towels (bath, as well as beach) are included. Also beach accessories (like hammocks or umbrellas), as well as toys for children. It has everything you need to spend a few days (full kitchen with all kinds of accessories, oven, microwave, dishwasher, washing machine). Very well located. Fully equiped apartment with 2 complete bedrooms (with double bed) / 1 bathroom recently renovated / 1 large living room with big sofa / complete kitchen with all kind of accessories and appliances / big terraces). Very well located: - 50m. from the best beach in the north of Mallorca: Port d'Alc�dia. - 50m. from the big lake. - Less than 3 km. from s'Albufera (the only protected natural park in the whole island). - Really close of different activities as rental bicycles and different articles for the",
         "804167",
         "Alc�dia",
         null,
         "Entire home/apt",
         "4",
         "1.0",
         "2.0",
         "2.0",
         "TV,Wifi,Kitchen,Smoking allowed,Free street parking,Family/kid friendly,Suitable for events,Washer,Essentials,Shampoo,24-hour check-in,Hangers,Hair dryer,Iron,Laptop friendly workspace,Private entrance,High chair,Children�s books and toys,Crib,Hot water,Bed linens,Extra pillows and blankets,Microwave,Coffee maker,Refrigerator,Dishwasher,Dishes and silverware,Cooking basics,Oven,BBQ grill,Patio or balcony",
         "900.0",
         "4",
         "325",
         "True",
         "30",
         "60",
         "90",
         "365",
         "33",
         "2012-08-23",
         "2019-09-25",
         "88.0",
         "90.0",
         "90.0",
         "90.0",
         "100.0",
         "90.0",
         "90.0",
         "VERDADERO",
         "37.0",
         "spain",
         "mallorca",
         "2019-11-28",
         "0",
         "0",
         "0",
         "0",
         "0.0",
         "0.0",
         "0.0",
         "0.0"
        ],
        [
         "29",
         "183346",
         "ROOM IN CENTRAL REFURBISH FLAT",
         "I RENT a room in my fully big (125 m2) just refurbished big appartment in XIX century modernist building from 5th august to 3rd september.  The appartment is very bright with 5 balconies to a calm and nice street, west orientation. Although it has just been refurbished it has an antiquite and genuine style, with all modern comodities such a fully equiped kitchen, stack system, TV... It is located in a very elegant central area next to the trendiest and sophisticated shops and cafes and restaurant, the French consulate, 2 very nice parcs... and at the same time very central: just 5-10 min walk to Paseo de la Castella, Gran V�a, Plaza de Cibeles... Next to 2 metro stations: Chueca and Alonso Martinez. The flat has a very big living-room, a small living room, a connected fireplace room and a connected dinning room. It has also 3 bedrooms (one with a big bed and 2 big sofa beds; all of them 1,35 m), and 2 complete bathrooms. A big kitchen with washing machine, equipped kitchen with microwa",
         "877571",
         "Justicia",
         "Centro",
         "Private room",
         "2",
         "2.0",
         "1.0",
         "1.0",
         "TV,Cable TV,Internet,Wireless Internet,Kitchen,Smoking allowed,Pets allowed,Indoor fireplace,Buzzer/wireless intercom,Heating,Family/kid friendly,Washer,Dryer,Fire extinguisher,Essentials,Shampoo,24-hour check-in,Hangers,Hair dryer,Iron,Laptop friendly workspace",
         "300.0",
         "1",
         "730",
         "True",
         "0",
         "0",
         "0",
         "137",
         "12",
         "2013-11-16",
         "2016-05-29",
         "83.0",
         "90.0",
         "80.0",
         "90.0",
         "100.0",
         "90.0",
         "80.0",
         "FALSO",
         "24.0",
         "spain",
         "madrid",
         "2018-01-17",
         "30",
         "60",
         "90",
         "228",
         "100.0",
         "100.0",
         "100.0",
         "62.47"
        ],
        [
         "30",
         "186221",
         "La Sagrada Familia: small and simple room.",
         "Place to relax after a long day exploring Barcelona.  La Sagrada Familia? My house is 4 blocks.  People coming for parties are NOT WELCOME. Small room: very quiet, no parties. Reading this description before booking. There is an option, which is to send a message to host. The room is ONLY FOR sightseeing NOT for students, workers , etc. LGBT. Before sending the booking ... I hope a message, ALWAYS.      Only for people who come to barcelona for sightseeing: not room to live or students.      People coming for parties are NOT WELCOME.      Very quiet place, located in neighborhood of Gracia, one of the busiest area of Barcelona, just 4 blocks from the Sagrada Familia, 10 minutes walking to Sant Pau Hospital, and 4 metro stops from the Parc G�ell. You will visit 3 emblematic places of Barcelona, walking: La Sagrada Familia, Parc Guell; Sant Pau Hospital.      This room is for ONE person, simple and very useful. It has a window, but not direct sunlight. The room has fans and heati",
         "494228",
         "el Camp d'en Grassot i Gr�cia Nova",
         "Gr�cia",
         "Private room",
         "1",
         "0.0",
         "1.0",
         "1.0",
         "TV,Wireless Internet,Wheelchair accessible,Kitchen,Doorman,Elevator in building,Buzzer/wireless intercom,Heating,Washer,Dryer,Smoke detector,First aid kit,Safety card,Essentials,Shampoo,Hangers,Hair dryer,Iron,translation missing: en.hosting_amenity_49,translation missing: en.hosting_amenity_50",
         "150.0",
         "2",
         "3",
         "True",
         "5",
         "11",
         "37",
         "234",
         "416",
         "2011-08-22",
         "2017-04-02",
         "89.0",
         "90.0",
         "100.0",
         "100.0",
         "90.0",
         "90.0",
         "90.0",
         "VERDADERO",
         "607.0",
         "spain",
         "barcelona",
         "2017-04-08",
         "25",
         "49",
         "53",
         "131",
         "83.33",
         "81.67",
         "58.89",
         "35.89"
        ],
        [
         "31",
         "193923",
         "Single room in the real Barcelona",
         "Very well connected flat in a safe and peaceful neighbourhood. The metro station is just around the corner, and it is the green Line 3 Valldaura, in just a few minutes you can reach tourist attractions, all museums, the beach and the airport. Relax in a very nice and clean place after visit Barcelona. Very well connected flat in a safe and peaceful neighbourhood.  You have a little room with a single bed, fresh sheets, and towels, a private wardrobe, a night table, lamp, and fan. Guests also have a little space in the fridge and the toilet, and if needed they can use the kitchen. We can provide a hair dryer if needed and all of these services are free. If you don't feel like a tourist, here you can experience the real Barcelona with local people, low prices and peaceful spots to avoid crowding. Just ask me and enjoy your holiday :-) Minimum reserve: 2 nights The metro station is just around the corner, and it is the green Line 3 Valldaura, in just a few minutes you can reach touris",
         "939590",
         "Horta",
         "Horta-Guinard�",
         "Private room",
         "1",
         "1.0",
         "1.0",
         "1.0",
         "TV,Wifi,Kitchen,Elevator,Buzzer/wireless intercom,Washer,Smoke detector,Carbon monoxide detector,First aid kit,Essentials,Shampoo,Hangers,Hair dryer,Iron,Laptop friendly workspace,translation missing: en.hosting_amenity_49,translation missing: en.hosting_amenity_50,Hot water,Bed linens,Microwave,Coffee maker,Refrigerator,Dishes and silverware,Cooking basics,Oven,Stove,Host greets you",
         "200.0",
         "3",
         "60",
         "True",
         "2",
         "17",
         "29",
         "253",
         "125",
         "2011-09-02",
         "2020-02-10",
         "98.0",
         "100.0",
         "100.0",
         "100.0",
         "100.0",
         "90.0",
         "100.0",
         "FALSO",
         "121.0",
         "spain",
         "barcelona",
         "2020-02-16",
         "28",
         "43",
         "61",
         "112",
         "93.33",
         "71.67",
         "67.78",
         "30.68"
        ],
        [
         "32",
         "206846",
         "Duplex studio near Picasso Museum",
         "This bright and ultra-modern apartment in Barcelona is located in the trendy El Born area of the city, within walking distance of many fantastic museums and other must-see attractions. The apartment itself is well-lit and completely renovated, with the exposed ceiling beams and wooden French doors adding an authentic touch to the otherwise modern style. The living room has a TV and comfortable sofa bed, as well as access to the balcony overlooking a typical street in El Born. The kitchen is bright and fully equipped with up-to-date appliances and utensils. It also has a dining table where you can sit down to enjoy your home-cooked meals. Above the kitchen you will find a second storey, accessible by wooden stairs, where there is a double bed, meaning this gorgeous apartment can accommodate up to two people in total. The bathroom is bright with a sizeable walk-in shower.  This fantastic Barcelona apartment is perfect for those looking to stay in a modern home-away-from-home, situated in",
         "612665",
         "Sant Pere, Santa Caterina i la Ribera",
         "Ciutat Vella",
         "Entire home/apt",
         "2",
         "2.0",
         "1.0",
         "1.0",
         "TV,Internet,Wifi,Air conditioning,Kitchen,Paid parking off premises,Heating,Family/kid friendly,Smoke detector,First aid kit,Essentials,Shampoo,Hangers,Hair dryer,Iron,Laptop friendly workspace,Self check-in,Lockbox,Hot water,Bed linens,Extra pillows and blankets,Microwave,Coffee maker,Refrigerator,Dishwasher,Dishes and silverware,Cooking basics,Oven,Stove,Patio or balcony,Long term stays allowed,Cleaning before checkout,Wide entrance,Accessible-height toilet,Paid parking on premises",
         "1280.0",
         "31",
         "150",
         "True",
         "5",
         "7",
         "25",
         "205",
         "77",
         "2012-02-12",
         "2019-10-09",
         "92.0",
         "90.0",
         "90.0",
         "90.0",
         "90.0",
         "100.0",
         "90.0",
         "FALSO",
         "81.0",
         "spain",
         "barcelona",
         "2019-12-10",
         "25",
         "53",
         "65",
         "160",
         "83.33",
         "88.33",
         "72.22",
         "43.84"
        ],
        [
         "33",
         "210156",
         "ALCUDIA BEACH -MALLORCA HOLIDAYS",
         "A quiet house on a private street Chalet-style house, recently refurbished located in a quiet private road on a plot of 400 m2 with 200 m2 built, overlooking the Lago Menor and the mountains. It has garage, three bedrooms, kitchen, two bathrooms, living room and three porches, sun terrace, garden, outdoor shower, satellite TV and air conditioning (hot / cold) throughout the house and BBQ.. Located in a quiet area, but at the same time very close to leisure facilities of the Port of Alcudia: nightclubs, bars, restaurants and shops. It is also within 5 minutes of Pedro Mas i Reus one of the most important streets of the port, which leads to the Alcudia beach with fine white sand and crystalline waters, it is a Blue Flag beach where you can also perform various aquatic activities . In the same area is the Hidropark. In the Lago Menor water activities are carried out also in the surrounding area there are stables and horse riding.  A few kilometers from Puerto de Alcudia, lies the charming",
         "1036132",
         "Alc�dia",
         null,
         "Entire home/apt",
         "6",
         "2.0",
         "3.0",
         "4.0",
         "TV,Cable TV,Internet,Wifi,Air conditioning,Kitchen,Free parking on premises,Smoking allowed,Heating,Family/kid friendly,Washer,First aid kit,Essentials,Hangers,Hair dryer,Iron,Private entrance,High chair,Crib,Hot water,Bed linens,Extra pillows and blankets,Microwave,Coffee maker,Refrigerator,Dishwasher,Dishes and silverware,Cooking basics,Oven,Stove,BBQ grill,Patio or balcony,Garden or backyard,Host greets you",
         "580.0",
         "5",
         "365",
         "True",
         "26",
         "44",
         "49",
         "102",
         "90",
         "2012-08-11",
         "2019-11-02",
         "97.0",
         "100.0",
         "100.0",
         "100.0",
         "100.0",
         "90.0",
         "100.0",
         "VERDADERO",
         "97.0",
         "spain",
         "mallorca",
         "2020-03-22",
         "4",
         "16",
         "41",
         "263",
         "13.33",
         "26.67",
         "45.56",
         "72.05"
        ],
        [
         "34",
         "213296",
         "Big/Centric Room-Palau de la Musica",
         "Hi, I rent a big room in my 150 square meters and neo-modernist style appartment, in the antic center of Barcelona. It is located in the same street than the famous Palau de la Musica, very near Las Ramblas. The room has a doble bed, a table, and an access to the balcony where you will see the backyard. . I provide wifi internet connexion, sheets and towels. The flat is very well located because you can visit the best sites of Barcelona just walking, and if you are a little lazy, the nearest metro station (Urquinaona) will drive you anywhere you want. I have a beaux-arts degree, especialized in old part of town paintings. 2 very peaceful and sympathic cats give me company. You will  enjoy the tranquility of the place.  If you have any doubt, please contact me.",
         "1100014",
         "Sant Pere, Santa Caterina i la Ribera",
         "Ciutat Vella",
         "Private room",
         "2",
         "1.0",
         "1.0",
         "1.0",
         "Wireless Internet,Smoking allowed,Pets live on this property,Cat(s),Buzzer/wireless intercom,Washer,Essentials,Hangers,Iron",
         "250.0",
         "2",
         "12",
         "True",
         "8",
         "14",
         "25",
         "224",
         "168",
         "2012-05-20",
         "2017-01-21",
         "89.0",
         "90.0",
         "80.0",
         "90.0",
         "90.0",
         "100.0",
         "90.0",
         "FALSO",
         "292.0",
         "spain",
         "barcelona",
         "2017-02-09",
         "22",
         "46",
         "65",
         "141",
         "73.33",
         "76.67",
         "72.22",
         "38.63"
        ],
        [
         "35",
         "214970",
         "Cozy Room in central flat Barcelona",
         "Dear potential Guest, if you fancy staying in my place, I would appreciate very much that you carefully read all my information before booking. It is important!  Also be aware that you will need to provide your National Identity Number for my tax purposes. Thank you! <br /><br />My flat is located in Poble Sec, at the end of the street whose last block has a bit of steepness (REAL THIRD floor, my Name is on the Door), no lift. You will live only with me and my cat Odina.<br /><br />GAY friendly!<br /><br /><b>The space</b><br />YOUR ROOM:<br />� 1.40m double bed.  High quality mattress (viscoeslastic).<br />� Storage space in shelves and two free spaces in the closet, hanging drawers. <br />� Glass chamber window to minimize external noise (the area is already quiet). <br />� Central heating in winter and ventilator in summer.<br />� Bed linen, duvet, pillows and two towels per person. <br />� Relaxed and quiet environment in the whole flat.<br />� You can see Sagrada Familia at the di",
         "1110014",
         "el Poble Sec",
         "Sants-Montju�c",
         "Private room",
         "2",
         "1.0",
         "1.0",
         "1.0",
         "Kitchen, Extra pillows and blankets, Coffee maker, Oven, Hot water, Hair dryer, Bed linens, Cooking basics, Dishes and silverware, Stove, Refrigerator, Heating, Host greets you, Essentials]",
         "330.0",
         "30",
         "90",
         "True",
         "1",
         "1",
         "1",
         "1",
         "144",
         "2012-06-13",
         "2020-03-02",
         "93.0",
         "90.0",
         "100.0",
         "90.0",
         "90.0",
         "90.0",
         "90.0",
         "VERDADERO",
         "139.0",
         "spain",
         "barcelona",
         "2020-12-16",
         "29",
         "59",
         "89",
         "364",
         "96.67",
         "98.33",
         "98.89",
         "99.73"
        ],
        [
         "36",
         "222753",
         "House near City Arts+Wi-fi",
         "House with interior garden just few minutes from downtown. The room for three is on the first floor and has a private bathroom (ground floor) , living room and balcony overlooking the street. Also Wi-Fi 100 Mb.<br /><br /><b>The space</b><br />House with interior garden in a special place in Valencia, just minutes -15 min.- from downtown, popular district of Russafa, next to the old Turia riverbed, the biggest garden in Europe (more 7 km of garden) where the Valencian people make athletics, cycling or simply walking and rest. There is the City of Arts and Sciences and its impressive buildings designed by Valencian architect Santiago Calatrava.<br />This is a ground floor with a nice little garden and a beautiful facade belongs to the popular modernism of the city. We take care of our home so that the traveler find it clean, tidy and are comfortable as at home. The room is on the first floor for guests total independence, and also has private bathroom on the ground floor, living room an",
         "709516",
         "EN CORTS",
         "QUATRE CARRERES",
         "Private room",
         "3",
         "1.0",
         "2.0",
         "2.0",
         "Waterfront, Washer, Long term stays allowed, Coffee maker, Bed linens, Free street parking, Stove, Garden or backyard, Heating, Dishes and silverware, Hot water, Essentials, Laptop-friendly workspace, Kitchen, Extra pillows and blankets, Wifi, Shampoo, Oven, Patio or balcony, Host greets you, Hangers, Hair dryer, Iron, BBQ grill]",
         "310.0",
         "2",
         "365",
         "True",
         "30",
         "60",
         "90",
         "365",
         "172",
         "2011-10-22",
         "2020-03-01",
         "86.0",
         "90.0",
         "90.0",
         "100.0",
         "90.0",
         "90.0",
         "90.0",
         "FALSO",
         "156.0",
         "spain",
         "valencia",
         "2020-11-10",
         "0",
         "0",
         "0",
         "0",
         "0.0",
         "0.0",
         "0.0",
         "0.0"
        ],
        [
         "37",
         "255195",
         "Lightly apartment with balcony to Las Ramblas",
         "Amazing location of this lightly and sunny apartment. Shared terrace with spectacular views of Barcelona and sunset. <br />Fully furnished and equipped apartment (A/C, heating, internet WIFI,...). Also with kitchenware, bedlinen and towels,...<br />ONLY for MONTHLY RENTALS (over 32 nights)<br /><br /><b>Guest access</b><br />Great and large shared terrace.<br />Free laundry services.",
         "1310304",
         "el Raval",
         "Ciutat Vella",
         "Entire home/apt",
         "4",
         "1.0",
         "1.0",
         "2.0",
         "Refrigerator, Patio or balcony, Cooking basics, Heating, Dryer, Essentials, Wifi, Coffee maker, Air conditioning, Stove, Elevator, TV, Microwave, Washer, Dishes and silverware]",
         "330.0",
         "32",
         "330",
         "True",
         "30",
         "60",
         "90",
         "330",
         "17",
         "2012-03-02",
         "2020-10-09",
         "85.0",
         "80.0",
         "80.0",
         "90.0",
         "90.0",
         "100.0",
         "80.0",
         "FALSO",
         "16.0",
         "spain",
         "barcelona",
         "2020-11-06",
         "0",
         "0",
         "0",
         "35",
         "0.0",
         "0.0",
         "0.0",
         "9.59"
        ],
        [
         "38",
         "265647",
         "Canig� (Can Llobet)  PG-455",
         "Canig� is an appartment, in Can LLobet, Located in Capmany. Is a XVIII century house that has been completly restored . The ground floor is the common area for all clients with Jacuzzi, Swimming pool and garden. Fully equipped cottage, consisting of kitchen, bathroom, living room and 3 bedrooms. It has garden, terraces and a spa. the situation is excellent, 20 minutes from the beaches of the Costa Brava, 15 minutes south of France near Figueres, Roses, Cadaqu�s, and the natural park Aiguamolls de l'Empord� in the natural setting of Albera (Alt Empord�, Girona). ideal for family,  in the village there are shops, restaurants ... walking areas ... megalithic routes, from the house offer various activities, quad tours, paintball, travel with globe ... The ground floor is the common area for all clients with Jacuzzi, Swimming pool and garden.",
         "1393119",
         "Capmany",
         null,
         "Entire home/apt",
         "6",
         "2.0",
         "3.0",
         "5.0",
         "TV,Cable TV,Internet,Wifi,Air conditioning,Pool,Kitchen,Free parking on premises,Smoking allowed,Pets allowed,Hot tub,Buzzer/wireless intercom,Heating,Family/kid friendly,Washer,Fire extinguisher,Essentials,Hangers,Hair dryer,Iron,Self check-in,Lockbox,High chair,Pack �n Play/travel crib,Hot water",
         "1750.0",
         "7",
         "14",
         "True",
         "17",
         "41",
         "71",
         "333",
         "8",
         "2013-08-19",
         "2017-09-03",
         "95.0",
         "90.0",
         "100.0",
         "100.0",
         "100.0",
         "90.0",
         "90.0",
         "VERDADERO",
         "13.0",
         "spain",
         "girona",
         "2018-08-30",
         "13",
         "19",
         "19",
         "32",
         "43.33",
         "31.67",
         "21.11",
         "8.77"
        ],
        [
         "39",
         "279439",
         "sociable apartment in Raval 3",
         "Welcome to the Piero's home (Italian)!   The house is in Raval, surely one of the most characteristic districts of Barcelona.   The apartment consists of 3 separate rooms that are available with separate beds or double beds, according to needs of guests. There are bathroom (with 2 separate spaces between shower and toilet),  kitchen and living room. Washing machine is for private use only but there's a laundry very close to the house. The owner lives in the same apartment.  While maintaining its original charm, Raval is able to offer any type of entertainment, from the old prestigious restaurant, passing by flamenco shows till late night and a wide choice of pubs, discos and clubs. Only 200 meters from metro station Liceu on the Ramblas (Barcelona's main street), you can easily reach any point of cultural interest, like Gaudi's houses, churches, museums etc... Piero may suggest a culinary trip to food markets, gourmet restaurants and tapas bars. The main market of La Boqueria in Barcel",
         "1457147",
         "el Raval",
         "Ciutat Vella",
         "Private room",
         "7",
         "2.0",
         "3.0",
         "4.0",
         "Internet,Wifi,Kitchen,Smoking allowed,Elevator,Family/kid friendly,First aid kit,Fire extinguisher,Essentials,Lock on bedroom door,Hangers,Hair dryer,Crib,Hot water,Extra pillows and blankets,Pocket wifi,Coffee maker,Refrigerator,Dishes and silverware,Cooking basics,Oven,Stove,Patio or balcony,Luggage dropoff allowed",
         "250.0",
         "2",
         "21",
         "True",
         "1",
         "4",
         "13",
         "13",
         "102",
         "2012-02-20",
         "2018-04-13",
         "91.0",
         "90.0",
         "90.0",
         "100.0",
         "100.0",
         "90.0",
         "90.0",
         "FALSO",
         "134.0",
         "spain",
         "barcelona",
         "2018-05-14",
         "29",
         "56",
         "77",
         "352",
         "96.67",
         "93.33",
         "85.56",
         "96.44"
        ],
        [
         "40",
         "305213",
         "PLATANEROS - BRIGHT CENTRAL APT",
         "Is one of the best locations in town.  Walking  to the historic area takes you 10 minutes,  Las Ramblas, Gothic, Born. Plaza Catalunya and Paseo de Gracia 15 minutes, museums, shops  . From the apartment the are several buses take to the beach in 10 minutes, but also along a nice walk you reach in half and hour. Montjuich is 15 minutes walking or the telepheric in Paral.lel station 5 minutes from the apartment. Plaza de Espa�a 10 minutes walking and easy available from Sants railway station. Situated in one of the best areas in Barcelona, 10 minutes walk to Las Ramblas and also a short walk to the historic centre, museums, restaurants, shops and markets, and night life of Barcelona. Excellent comunications with public transport, only one minutes walk to Parallel metro station, on metro lines 2 and 3, Fira Barcelona  (Pla�a d' Espagna)  only10 minutes walking or ideal for World Mobbile Congres and also great bus connections, including airport bus. The neighbourhood is residential and pl",
         "1570247",
         "Sant Antoni",
         "Eixample",
         "Entire home/apt",
         "2",
         "1.0",
         "1.0",
         "1.0",
         "TV,Internet,Wireless Internet,Kitchen,Elevator,Buzzer/wireless intercom,Heating,Washer,Fire extinguisher,Essentials,Hangers,translation missing: en.hosting_amenity_49,translation missing: en.hosting_amenity_50,Hot water,Microwave,Coffee maker,Refrigerator,Dishes and silverware,Cooking basics,Stove,Patio or balcony,Waterfront",
         "1050.0",
         "3",
         "28",
         "True",
         "14",
         "24",
         "51",
         "141",
         "170",
         "2012-06-21",
         "2017-07-26",
         "95.0",
         "100.0",
         "100.0",
         "100.0",
         "100.0",
         "90.0",
         "100.0",
         "VERDADERO",
         "272.0",
         "spain",
         "barcelona",
         "2017-08-06",
         "16",
         "36",
         "39",
         "224",
         "53.33",
         "60.0",
         "43.33",
         "61.37"
        ],
        [
         "41",
         "314781",
         "PRIVATE SPACE 40M2, BEST AREA,WIFI",
         "Hi, I have a big private space,  2 double beds (one is bed/sofa), sunny balcony and your own living room in my confortable flat, modernist style, wash machine, internet wifi. Near Sagrada Familia,Ciudadella Parc,the beach,Pza Catalu�a, Metro Stations Girona and Tetuan Sunny and huge private space with 2 double beds with balcony and your own living room in a shared modernist flat, located in the best neighborhood in Barcelona, the famous EIXAMPLE, bars, restorants, boutiques, art galleries all near around. Walking distance to all major atractions in the city, like PLA�A CATALUNYA and the worldwide known RAMBLAS,  GOTHIC QUARTER, ARC DE TRIOMF, BARCELONETA, SAGRADA FAMILIA. Very close to metro station (L2 Girona L4 Tetuan) with excellent transport links to everywhere in Barcelona and nearby. The flat is a typical catalan modernist flat, with a total of 200 sq meters, with mosaic  floors, very bright and very spacious. We are easy going, respectful and polite. Wifi internet, also washing",
         "1604485",
         "la Dreta de l'Eixample",
         "Eixample",
         "Private room",
         "2",
         "2.0",
         "1.0",
         "2.0",
         "Wireless Internet,Smoking allowed,Pets allowed,Elevator in building,Buzzer/wireless intercom,Family/kid friendly,Washer",
         "1000.0",
         "2",
         "60",
         "True",
         "30",
         "60",
         "90",
         "365",
         "13",
         "2013-08-14",
         "2016-06-27",
         "93.0",
         "90.0",
         "80.0",
         "100.0",
         "90.0",
         "100.0",
         "100.0",
         "FALSO",
         "31.0",
         "spain",
         "barcelona",
         "2017-02-09",
         "0",
         "0",
         "0",
         "0",
         "0.0",
         "0.0",
         "0.0",
         "0.0"
        ],
        [
         "42",
         "318826",
         "Wonderful apartment. JUST REMODELED",
         "Magnificent apartment. Extremely bright and sunny  NEWLY RENOVATED! AIRBNB NEW! REF: VT-2148. Tourist Companies Registry of the General Directorate of Tourism of the Community of Madrid. The apartment is newly renovated, modern and quite comfortable. Located on the third floor, bright and sunny, has an approximate area of 60 square meters and has 3 bedrooms (suitable for 4 people), kitchen, bathroom and terrace. It is fully equipped with wooden floors, modern furnishings and amenities: dishwasher, microwave, oven, WIFI, flat screen TV available ... even a printer that can print their boarding passes. LOCATION It is located in the area of the Country House, near the historic center. It is perfect for all the attractions of Madrid. Immediately to the apartment there is a shopping street with shops, bars, restaurants ... CLOSE TO DOWNTOWN Perfect for exploring the heart of the city, with a wide range of public transport, efficient and cheap. � Metro: just 5 stops from the historic center",
         "1636378",
         "Aluche",
         "Latina",
         "Entire home/apt",
         "4",
         "1.0",
         "3.0",
         "3.0",
         "TV,Internet,Wifi,Air conditioning,Kitchen,Elevator,Free street parking,Buzzer/wireless intercom,Heating,Family/kid friendly,Washer,First aid kit,Essentials,Shampoo,Hangers,Hair dryer,Iron,Laptop friendly workspace,Room-darkening shades,Hot water,Microwave,Coffee maker,Refrigerator,Dishwasher,Dishes and silverware,Cooking basics,Oven,Long term stays allowed,Host greets you",
         "900.0",
         "6",
         "1125",
         "True",
         "23",
         "53",
         "83",
         "358",
         "11",
         "2012-05-07",
         "2018-12-14",
         "98.0",
         "100.0",
         "100.0",
         "100.0",
         "100.0",
         "90.0",
         "90.0",
         "FALSO",
         "13.0",
         "spain",
         "madrid",
         "2019-02-06",
         "7",
         "7",
         "7",
         "7",
         "23.33",
         "11.67",
         "7.78",
         "1.92"
        ],
        [
         "43",
         "323679",
         "Marina Costa Brava - view on canal",
         "Furnished Apartment in the Empuria brava marina (close to Center and main beach). Furnished 2 bedrooms.  the apartment has a 20 square meter living room, an equipped kitchen and is orientated West. Set on the 1st floor. 15 square feet terrace . The apartment is a five-minute walk from the beach (around 400 meters). Quiet place in a dead-end road. The apartment is located at the front of one canal. Privative car park.  Features : 1 bathroom / Sleeps : 4 Appliances : cooktop/ Microwave/ Oven / Ironing board /laundry machine Electronics : TV(66 cm) Furnishing : Air conditioning / sofa bed/ bedspread/ 2 double bed",
         "1552289",
         "Castell� d'Emp�ries",
         null,
         "Entire home/apt",
         "4",
         "1.0",
         "2.0",
         "3.0",
         "TV,Cable TV,Air conditioning,Kitchen,Free parking on premises,Heating,Washer,Dryer,Essentials,Hangers,Hair dryer,Iron,Hot water,Host greets you",
         "550.0",
         "14",
         "30",
         "True",
         "0",
         "0",
         "26",
         "301",
         "7",
         "2012-08-05",
         "2018-08-18",
         "86.0",
         "90.0",
         "90.0",
         "100.0",
         "100.0",
         "90.0",
         "90.0",
         "FALSO",
         "8.0",
         "spain",
         "girona",
         "2019-06-30",
         "30",
         "60",
         "64",
         "64",
         "100.0",
         "100.0",
         "71.11",
         "17.53"
        ],
        [
         "44",
         "326464",
         "Charm and quiet room",
         "<b>The space</b><br />The room is in the House Laxkanberria seventeenth century in the village of Arraioz, Baztan Valley. A place of dreams, rural, rustic, living nature, near the Natural Park of Bertiz. and less than an hour of Biarritz, San Sebastian, Pamplona. It has a full bathroom, central heating, wifi, TV. And above all, very quiet. You can enjoy in the area of ??the greenway Bidassoa, hiking, civil architecture in their homes and villages amazing wonderful, good food, nature as a whole and of the Basque culture and traditions. <br />Enjoy nature in its pure state, the harmony of their homes and villages. Uncover an ancient culture and languages??, the Basque Country. Ethnographic Museum, megalithic monuments, windmills, towers. In Arraioz same can enjoy the charm of the three palaces of the fifteenth century. And every day you have a mall.",
         "1669001",
         "Can Peguera",
         "Nou Barris",
         "Private room",
         "2",
         "1.0",
         "1.0",
         "1.0",
         "Essentials, Heating, Hair dryer, Hangers, Lock on bedroom door, Bed linens, Long term stays allowed, Wifi, Breakfast, Shower gel, TV]",
         "600.0",
         "1",
         "1125",
         "True",
         "30",
         "60",
         "90",
         "365",
         "33",
         "2014-10-05",
         "2019-12-28",
         "99.0",
         "100.0",
         "100.0",
         "100.0",
         "100.0",
         "100.0",
         "100.0",
         "FALSO",
         "43.0",
         "spain",
         "barcelona",
         "2021-02-09",
         "0",
         "0",
         "0",
         "0",
         "0.0",
         "0.0",
         "0.0",
         "0.0"
        ],
        [
         "45",
         "330723",
         "SUNNY ROOM WITH BALCONY",
         "<b>The space</b><br />You will have the chance to stay in a bright, and spacious Barcelona apartment with a terrace! The apartment has all the amenities you need. Staying here you will be in the heart of Barcelona, located in the  zone Nou de la Rambla and Paral-lel district , just one block away from the Paral-lel Metro and many buses, and a 10 minute walk to the  Las Ramblas 20 minute walk to Plaza Catalunya or to the beach.<br /><br />The apartment<br />The entire apartment is available with a  sunny double bedrooms.   You will also have access to a spacious, sunny lounge with views of the city. There is also TV, DVD player, WiFi, dishwasher, and a washing machine, heating. There is 2 toilets.  The apartment is located on the 6th floor with a lift.<br /><br />The neighbourhood<br />The apartment is in a perfect location, very close to tourist areas like the Ramblas 15 minute walk to Las Ramblas, Plaza Catalunya and the hustle and bustle of the city center.  <br /><br />Useful info",
         "1687383",
         "el Raval",
         "Ciutat Vella",
         "Private room",
         "2",
         "2.0",
         "1.0",
         "1.0",
         "Elevator, Essentials, Hair dryer, Hangers, Long term stays allowed, Dryer, Cable TV, Wifi, Kitchen, Iron, Washer, TV]",
         "300.0",
         "14",
         "1125",
         "True",
         "30",
         "60",
         "90",
         "365",
         "51",
         "2012-06-28",
         "2019-10-25",
         "93.0",
         "100.0",
         "100.0",
         "100.0",
         "90.0",
         "90.0",
         "100.0",
         "FALSO",
         "49.0",
         "spain",
         "barcelona",
         "2021-02-09",
         "0",
         "0",
         "0",
         "0",
         "0.0",
         "0.0",
         "0.0",
         "0.0"
        ],
        [
         "46",
         "336795",
         "Room in Madrid Center whit WIFI",
         "Room in Madrid Center close to Atocha railstation and all the museum zone. The subway station is Anton Martin and is very close of the house. We have internet and all the needs of modern life... The room in not big but the house is big and buitiful whit a lot of light and in madrid life is in the street not in the room. The house is in the middle of tree famous neighborhood: Lavapies, Huertas and La Latina. We are a couple from Chile and Italy who lives in madrid from a lot of years so we known perfectly the madrid nigthlife. Not worry you will have fun...",
         "1713273",
         "Cortes",
         "Centro",
         "Private room",
         "2",
         "1.0",
         "1.0",
         "1.0",
         "TV,Internet,Wifi,Kitchen,Smoking allowed,Pets live on this property,Cat(s),Buzzer/wireless intercom,Heating,Essentials,Shampoo,Hair dryer,Hot water,Host greets you",
         "250.0",
         "2",
         "1125",
         "True",
         "29",
         "52",
         "71",
         "344",
         "156",
         "2012-05-28",
         "2020-03-15",
         "73.0",
         "80.0",
         "70.0",
         "90.0",
         "90.0",
         "100.0",
         "80.0",
         "FALSO",
         "162.0",
         "spain",
         "madrid",
         "2020-04-17",
         "1",
         "8",
         "19",
         "21",
         "3.33",
         "13.33",
         "21.11",
         "5.75"
        ],
        [
         "47",
         "342557",
         "Berlin's Park at your window. Parking included.",
         "Very nice room in an area with excellent communications. We have the Berlin Park just in front. Our house is new, clean and cozy. In it we live my wife, me and our daughters. The area is very safe. Accommodation in a family, ideal for anyone but especially for women traveling alone. Possibility of garage, ask us.<br /><br /><b>The space</b><br />Private room in a relaxing flat, ten minutes walk from Real Madrid Santiago Bernab�u Stadium. Well connected by Metro (3 min walk to Concha Espina Station), buses and the new electrical bikes public hiring service from the Municipality (15 min ciclyng to Puerta del Sol). <br />You'll need 40 min to get to barajas Airport by Metro. <br />We are a married couple with two daughters aged nine and seven.<br />You will have a private room for you and a pretty bathroom shared with the girls. <br />The room is quiet, tidy and with lots of light and direct views to Parque de Berl�n, one of the biggests Parks of Madrid. It has a firm and new bed (190x90",
         "1738288",
         "Ciudad Jard�n",
         "Chamart�n",
         "Private room",
         "1",
         "1.0",
         "1.0",
         "1.0",
         "Shampoo, TV, Luggage dropoff allowed, Elevator, Refrigerator, Coffee maker, Free parking on premises, Heating, Hot water, Breakfast, Patio or balcony, Washer, Host greets you, Stove, Wifi, Essentials, Kitchen, Dishes and silverware, Iron, Dishwasher, Cooking basics, Hangers, Laptop-friendly workspace, Hair dryer, Microwave]",
         "700.0",
         "2",
         "120",
         "True",
         "30",
         "60",
         "90",
         "365",
         "55",
         "2013-10-21",
         "2019-11-03",
         "97.0",
         "100.0",
         "100.0",
         "100.0",
         "100.0",
         "100.0",
         "100.0",
         "FALSO",
         "64.0",
         "spain",
         "madrid",
         "2020-11-06",
         "0",
         "0",
         "0",
         "0",
         "0.0",
         "0.0",
         "0.0",
         "0.0"
        ],
        [
         "48",
         "343864",
         "3 BD APT IN THE HEART OF GRACIA",
         "A spacious and comfortable 3 bedrooms apartment located in a 3rd floor with no lift in the picturesque and bohemian Gracia's neighbourhood, next to the Virreina's square and the famous and emblematic Verdi street, full of bars, restaurants, shops and the VO cinema. Safe area. HUTB-009898 A spacious and comfortable 3 bedrooms apartment located located in a 3rd floor with no lift in the picturesque and bohemian Gracia's neighbourhood, next to the Virreina's square and the famous and emblematic Verdi street, full of bars, restaurants, shops and the VO cinema. Safe and peaceful area. This apartment has one double bed, one single bed and one bunk bed, two fully bathrooms (one with shower and the other with bathtub), a cosy living-room with a comfy double sofa-bed and a small balcony facing the Virreina's square and a fully equipped kitchen. It offer a pleasant and relaxing atmosphere, a perfect choice for a family or a group. If you are a big group you can also book the 'Apartment Virreina",
         "1744516",
         "la Vila de Gr�cia",
         "Gr�cia",
         "Entire home/apt",
         "6",
         "2.0",
         "3.0",
         "5.0",
         "TV,Wifi,Kitchen,Buzzer/wireless intercom,Heating,Family/kid friendly,Washer,Essentials,24-hour check-in,Hangers,Hair dryer,Iron,High chair,Crib,Hot water,Long term stays allowed,Host greets you,Paid parking on premises",
         "1390.0",
         "3",
         "1125",
         "True",
         "0",
         "5",
         "35",
         "307",
         "7",
         "2014-06-17",
         "2018-10-14",
         "94.0",
         "100.0",
         "100.0",
         "100.0",
         "90.0",
         "100.0",
         "90.0",
         "VERDADERO",
         "13.0",
         "spain",
         "barcelona",
         "2018-11-07",
         "30",
         "55",
         "55",
         "58",
         "100.0",
         "91.67",
         "61.11",
         "15.89"
        ],
        [
         "49",
         "352772",
         "Elegant Centric Attic WIFI Car Park",
         "Charming, luminous, quiet and comfortable attic in a centric location, you can go to the best Barcelona highlights on food.<br />Nearby you have big and good supermarkets and some of the best restaurants in Barcelona.<br />Easy from airport and high speed train station<br /><br /><b>The space</b><br />Charming, elegant and luminous apartment on the top of the building. <br />It is very well located between Plaza de Espa�a and Plaza de Catalu�a and perfect to go walking to the main sites, Gaudi's houses, Miro's works or down town. All this places are within half an hour ratio.<br />Also it is close to Barcelona's Fair at Plaza de Espa�a.<br />The high speed train station -Sans Station- is nearby.<br />It's at only 20 minutes taxi from the airport.<br />If you have a car, don't worries we provide a car park for free.<br />There are big supermarkets around -Mercadona is the best in Europe- and high quality restaurants also.<br />I recommend Taberna del Clinico and Tatika Berry, two of the",
         "1786501",
         "la Nova Esquerra de l'Eixample",
         "Eixample",
         "Entire home/apt",
         "5",
         "1.0",
         "2.0",
         "4.0",
         "Host greets you, Laptop-friendly workspace, High chair, Dryer, Shampoo, Stove, Hot water, Microwave, Washer, Carbon monoxide alarm, Room-darkening shades, Cooking basics, Patio or balcony, Kitchen, Air conditioning, Free parking on premises, Elevator, TV, Pack u2019n Play/travel crib, Heating, Coffee maker, Hair dryer, Hangers, Refrigerator, Iron, Essentials, Bathtub, Wifi, Oven, Crib, Babysitter recommendations, Dishes and silverware]",
         "850.0",
         "2",
         "90",
         "True",
         "0",
         "0",
         "0",
         "219",
         "103",
         "2014-02-28",
         "2020-10-18",
         "94.0",
         "100.0",
         "90.0",
         "90.0",
         "90.0",
         "90.0",
         "90.0",
         "VERDADERO",
         "126.0",
         "spain",
         "barcelona",
         "2020-11-06",
         "30",
         "60",
         "90",
         "146",
         "100.0",
         "100.0",
         "100.0",
         "40.0"
        ]
       ],
       "shape": {
        "columns": 43,
        "rows": 7693
       }
      },
      "text/html": [
       "<div>\n",
       "<style scoped>\n",
       "    .dataframe tbody tr th:only-of-type {\n",
       "        vertical-align: middle;\n",
       "    }\n",
       "\n",
       "    .dataframe tbody tr th {\n",
       "        vertical-align: top;\n",
       "    }\n",
       "\n",
       "    .dataframe thead th {\n",
       "        text-align: right;\n",
       "    }\n",
       "</style>\n",
       "<table border=\"1\" class=\"dataframe\">\n",
       "  <thead>\n",
       "    <tr style=\"text-align: right;\">\n",
       "      <th></th>\n",
       "      <th>apartment_id</th>\n",
       "      <th>name</th>\n",
       "      <th>description</th>\n",
       "      <th>host_id</th>\n",
       "      <th>neighbourhood_name</th>\n",
       "      <th>neighbourhood_district</th>\n",
       "      <th>room_type</th>\n",
       "      <th>accommodates</th>\n",
       "      <th>bathrooms</th>\n",
       "      <th>bedrooms</th>\n",
       "      <th>...</th>\n",
       "      <th>city</th>\n",
       "      <th>insert_date</th>\n",
       "      <th>occupied_days_30</th>\n",
       "      <th>occupied_days_60</th>\n",
       "      <th>occupied_days_90</th>\n",
       "      <th>occupied_days_365</th>\n",
       "      <th>occupancy_rate_%_30</th>\n",
       "      <th>occupancy_rate_%_60</th>\n",
       "      <th>occupancy_rate_%_90</th>\n",
       "      <th>occupancy_rate_%_365</th>\n",
       "    </tr>\n",
       "  </thead>\n",
       "  <tbody>\n",
       "    <tr>\n",
       "      <th>0</th>\n",
       "      <td>11964</td>\n",
       "      <td>A ROOM WITH A VIEW</td>\n",
       "      <td>Private bedroom in our attic apartment. Right ...</td>\n",
       "      <td>45553</td>\n",
       "      <td>Centro</td>\n",
       "      <td>NaN</td>\n",
       "      <td>Private room</td>\n",
       "      <td>2</td>\n",
       "      <td>2.0</td>\n",
       "      <td>1.0</td>\n",
       "      <td>...</td>\n",
       "      <td>malaga</td>\n",
       "      <td>2018-07-31</td>\n",
       "      <td>23</td>\n",
       "      <td>40</td>\n",
       "      <td>50</td>\n",
       "      <td>235</td>\n",
       "      <td>76.67</td>\n",
       "      <td>66.67</td>\n",
       "      <td>55.56</td>\n",
       "      <td>64.38</td>\n",
       "    </tr>\n",
       "    <tr>\n",
       "      <th>1</th>\n",
       "      <td>21853</td>\n",
       "      <td>Bright and airy room</td>\n",
       "      <td>We have a quiet and sunny room with a good vie...</td>\n",
       "      <td>83531</td>\n",
       "      <td>C�rmenes</td>\n",
       "      <td>Latina</td>\n",
       "      <td>Private room</td>\n",
       "      <td>1</td>\n",
       "      <td>1.0</td>\n",
       "      <td>1.0</td>\n",
       "      <td>...</td>\n",
       "      <td>madrid</td>\n",
       "      <td>2020-01-10</td>\n",
       "      <td>30</td>\n",
       "      <td>60</td>\n",
       "      <td>90</td>\n",
       "      <td>203</td>\n",
       "      <td>100.00</td>\n",
       "      <td>100.00</td>\n",
       "      <td>100.00</td>\n",
       "      <td>55.62</td>\n",
       "    </tr>\n",
       "    <tr>\n",
       "      <th>2</th>\n",
       "      <td>32347</td>\n",
       "      <td>Explore Cultural Sights from a Family-Friendly...</td>\n",
       "      <td>Open French doors and step onto a plant-filled...</td>\n",
       "      <td>139939</td>\n",
       "      <td>San Vicente</td>\n",
       "      <td>Casco Antiguo</td>\n",
       "      <td>Entire home/apt</td>\n",
       "      <td>4</td>\n",
       "      <td>1.0</td>\n",
       "      <td>2.0</td>\n",
       "      <td>...</td>\n",
       "      <td>sevilla</td>\n",
       "      <td>2019-07-29</td>\n",
       "      <td>4</td>\n",
       "      <td>29</td>\n",
       "      <td>59</td>\n",
       "      <td>95</td>\n",
       "      <td>13.33</td>\n",
       "      <td>48.33</td>\n",
       "      <td>65.56</td>\n",
       "      <td>26.03</td>\n",
       "    </tr>\n",
       "    <tr>\n",
       "      <th>3</th>\n",
       "      <td>35379</td>\n",
       "      <td>Double 02 CasanovaRooms Barcelona</td>\n",
       "      <td>Room at a my apartment. Kitchen and 2 bathroom...</td>\n",
       "      <td>152232</td>\n",
       "      <td>l'Antiga Esquerra de l'Eixample</td>\n",
       "      <td>Eixample</td>\n",
       "      <td>Private room</td>\n",
       "      <td>2</td>\n",
       "      <td>2.0</td>\n",
       "      <td>1.0</td>\n",
       "      <td>...</td>\n",
       "      <td>barcelona</td>\n",
       "      <td>2020-01-10</td>\n",
       "      <td>21</td>\n",
       "      <td>37</td>\n",
       "      <td>41</td>\n",
       "      <td>65</td>\n",
       "      <td>70.00</td>\n",
       "      <td>61.67</td>\n",
       "      <td>45.56</td>\n",
       "      <td>17.81</td>\n",
       "    </tr>\n",
       "    <tr>\n",
       "      <th>4</th>\n",
       "      <td>35801</td>\n",
       "      <td>Can Torras Farmhouse Studio Suite</td>\n",
       "      <td>Lay in bed &amp; watch sunlight change the mood of...</td>\n",
       "      <td>153805</td>\n",
       "      <td>Quart</td>\n",
       "      <td>NaN</td>\n",
       "      <td>Private room</td>\n",
       "      <td>5</td>\n",
       "      <td>1.0</td>\n",
       "      <td>2.0</td>\n",
       "      <td>...</td>\n",
       "      <td>girona</td>\n",
       "      <td>2019-02-19</td>\n",
       "      <td>30</td>\n",
       "      <td>41</td>\n",
       "      <td>41</td>\n",
       "      <td>53</td>\n",
       "      <td>100.00</td>\n",
       "      <td>68.33</td>\n",
       "      <td>45.56</td>\n",
       "      <td>14.52</td>\n",
       "    </tr>\n",
       "    <tr>\n",
       "      <th>...</th>\n",
       "      <td>...</td>\n",
       "      <td>...</td>\n",
       "      <td>...</td>\n",
       "      <td>...</td>\n",
       "      <td>...</td>\n",
       "      <td>...</td>\n",
       "      <td>...</td>\n",
       "      <td>...</td>\n",
       "      <td>...</td>\n",
       "      <td>...</td>\n",
       "      <td>...</td>\n",
       "      <td>...</td>\n",
       "      <td>...</td>\n",
       "      <td>...</td>\n",
       "      <td>...</td>\n",
       "      <td>...</td>\n",
       "      <td>...</td>\n",
       "      <td>...</td>\n",
       "      <td>...</td>\n",
       "      <td>...</td>\n",
       "      <td>...</td>\n",
       "    </tr>\n",
       "    <tr>\n",
       "      <th>7688</th>\n",
       "      <td>32392193</td>\n",
       "      <td>Espectacular habitaci�n</td>\n",
       "      <td>NaN</td>\n",
       "      <td>238089984</td>\n",
       "      <td>Sant Antoni</td>\n",
       "      <td>Eixample</td>\n",
       "      <td>Private room</td>\n",
       "      <td>1</td>\n",
       "      <td>1.0</td>\n",
       "      <td>1.0</td>\n",
       "      <td>...</td>\n",
       "      <td>barcelona</td>\n",
       "      <td>2019-10-16</td>\n",
       "      <td>2</td>\n",
       "      <td>2</td>\n",
       "      <td>2</td>\n",
       "      <td>2</td>\n",
       "      <td>6.67</td>\n",
       "      <td>3.33</td>\n",
       "      <td>2.22</td>\n",
       "      <td>0.55</td>\n",
       "    </tr>\n",
       "    <tr>\n",
       "      <th>7689</th>\n",
       "      <td>32392774</td>\n",
       "      <td>? Tu Hogar de Lujo ????? en el Centro de Sevilla</td>\n",
       "      <td>Exclusivo, amplio y luminoso alojamiento situa...</td>\n",
       "      <td>243246681</td>\n",
       "      <td>Arenal</td>\n",
       "      <td>Casco Antiguo</td>\n",
       "      <td>Entire home/apt</td>\n",
       "      <td>6</td>\n",
       "      <td>2.0</td>\n",
       "      <td>3.0</td>\n",
       "      <td>...</td>\n",
       "      <td>sevilla</td>\n",
       "      <td>2021-01-31</td>\n",
       "      <td>30</td>\n",
       "      <td>49</td>\n",
       "      <td>49</td>\n",
       "      <td>324</td>\n",
       "      <td>100.00</td>\n",
       "      <td>81.67</td>\n",
       "      <td>54.44</td>\n",
       "      <td>88.77</td>\n",
       "    </tr>\n",
       "    <tr>\n",
       "      <th>7690</th>\n",
       "      <td>32395123</td>\n",
       "      <td>Rooms by G Bella Mar�a 3</td>\n",
       "      <td>The 2-star Bella Maria has 24-hourreception an...</td>\n",
       "      <td>159933359</td>\n",
       "      <td>Felanitx</td>\n",
       "      <td>NaN</td>\n",
       "      <td>Entire home/apt</td>\n",
       "      <td>2</td>\n",
       "      <td>1.0</td>\n",
       "      <td>1.0</td>\n",
       "      <td>...</td>\n",
       "      <td>mallorca</td>\n",
       "      <td>2019-04-24</td>\n",
       "      <td>7</td>\n",
       "      <td>7</td>\n",
       "      <td>7</td>\n",
       "      <td>181</td>\n",
       "      <td>23.33</td>\n",
       "      <td>11.67</td>\n",
       "      <td>7.78</td>\n",
       "      <td>49.59</td>\n",
       "    </tr>\n",
       "    <tr>\n",
       "      <th>7691</th>\n",
       "      <td>32407332</td>\n",
       "      <td>LUMINOSO Y ENCANTADOR PISO CERCA DE TODO</td>\n",
       "      <td>PISO MUY ILUMINADO CON UNA TERRAZA ESTUPENDA C...</td>\n",
       "      <td>187631805</td>\n",
       "      <td>Proven�als del Poblenou</td>\n",
       "      <td>Sant Mart�</td>\n",
       "      <td>Private room</td>\n",
       "      <td>3</td>\n",
       "      <td>2.0</td>\n",
       "      <td>2.0</td>\n",
       "      <td>...</td>\n",
       "      <td>barcelona</td>\n",
       "      <td>2019-08-12</td>\n",
       "      <td>29</td>\n",
       "      <td>43</td>\n",
       "      <td>50</td>\n",
       "      <td>50</td>\n",
       "      <td>96.67</td>\n",
       "      <td>71.67</td>\n",
       "      <td>55.56</td>\n",
       "      <td>13.70</td>\n",
       "    </tr>\n",
       "    <tr>\n",
       "      <th>7692</th>\n",
       "      <td>32423292</td>\n",
       "      <td>Apartament amb terrassa a 5 minuts de la platja.</td>\n",
       "      <td>Apartament situat a Santa Margarita de Roses d...</td>\n",
       "      <td>158381471</td>\n",
       "      <td>Roses</td>\n",
       "      <td>NaN</td>\n",
       "      <td>Entire home/apt</td>\n",
       "      <td>4</td>\n",
       "      <td>2.0</td>\n",
       "      <td>1.0</td>\n",
       "      <td>...</td>\n",
       "      <td>girona</td>\n",
       "      <td>2019-08-31</td>\n",
       "      <td>28</td>\n",
       "      <td>33</td>\n",
       "      <td>33</td>\n",
       "      <td>90</td>\n",
       "      <td>93.33</td>\n",
       "      <td>55.00</td>\n",
       "      <td>36.67</td>\n",
       "      <td>24.66</td>\n",
       "    </tr>\n",
       "  </tbody>\n",
       "</table>\n",
       "<p>7693 rows × 43 columns</p>\n",
       "</div>"
      ],
      "text/plain": [
       "      apartment_id                                               name  \\\n",
       "0            11964                                 A ROOM WITH A VIEW   \n",
       "1            21853                               Bright and airy room   \n",
       "2            32347  Explore Cultural Sights from a Family-Friendly...   \n",
       "3            35379                  Double 02 CasanovaRooms Barcelona   \n",
       "4            35801                  Can Torras Farmhouse Studio Suite   \n",
       "...            ...                                                ...   \n",
       "7688      32392193                            Espectacular habitaci�n   \n",
       "7689      32392774   ? Tu Hogar de Lujo ????? en el Centro de Sevilla   \n",
       "7690      32395123                           Rooms by G Bella Mar�a 3   \n",
       "7691      32407332           LUMINOSO Y ENCANTADOR PISO CERCA DE TODO   \n",
       "7692      32423292   Apartament amb terrassa a 5 minuts de la platja.   \n",
       "\n",
       "                                            description    host_id  \\\n",
       "0     Private bedroom in our attic apartment. Right ...      45553   \n",
       "1     We have a quiet and sunny room with a good vie...      83531   \n",
       "2     Open French doors and step onto a plant-filled...     139939   \n",
       "3     Room at a my apartment. Kitchen and 2 bathroom...     152232   \n",
       "4     Lay in bed & watch sunlight change the mood of...     153805   \n",
       "...                                                 ...        ...   \n",
       "7688                                                NaN  238089984   \n",
       "7689  Exclusivo, amplio y luminoso alojamiento situa...  243246681   \n",
       "7690  The 2-star Bella Maria has 24-hourreception an...  159933359   \n",
       "7691  PISO MUY ILUMINADO CON UNA TERRAZA ESTUPENDA C...  187631805   \n",
       "7692  Apartament situat a Santa Margarita de Roses d...  158381471   \n",
       "\n",
       "                   neighbourhood_name neighbourhood_district        room_type  \\\n",
       "0                              Centro                    NaN     Private room   \n",
       "1                            C�rmenes                 Latina     Private room   \n",
       "2                         San Vicente          Casco Antiguo  Entire home/apt   \n",
       "3     l'Antiga Esquerra de l'Eixample               Eixample     Private room   \n",
       "4                               Quart                    NaN     Private room   \n",
       "...                               ...                    ...              ...   \n",
       "7688                      Sant Antoni               Eixample     Private room   \n",
       "7689                           Arenal          Casco Antiguo  Entire home/apt   \n",
       "7690                         Felanitx                    NaN  Entire home/apt   \n",
       "7691          Proven�als del Poblenou             Sant Mart�     Private room   \n",
       "7692                            Roses                    NaN  Entire home/apt   \n",
       "\n",
       "      accommodates  bathrooms  bedrooms  ...       city insert_date  \\\n",
       "0                2        2.0       1.0  ...     malaga  2018-07-31   \n",
       "1                1        1.0       1.0  ...     madrid  2020-01-10   \n",
       "2                4        1.0       2.0  ...    sevilla  2019-07-29   \n",
       "3                2        2.0       1.0  ...  barcelona  2020-01-10   \n",
       "4                5        1.0       2.0  ...     girona  2019-02-19   \n",
       "...            ...        ...       ...  ...        ...         ...   \n",
       "7688             1        1.0       1.0  ...  barcelona  2019-10-16   \n",
       "7689             6        2.0       3.0  ...    sevilla  2021-01-31   \n",
       "7690             2        1.0       1.0  ...   mallorca  2019-04-24   \n",
       "7691             3        2.0       2.0  ...  barcelona  2019-08-12   \n",
       "7692             4        2.0       1.0  ...     girona  2019-08-31   \n",
       "\n",
       "      occupied_days_30  occupied_days_60  occupied_days_90  occupied_days_365  \\\n",
       "0                   23                40                50                235   \n",
       "1                   30                60                90                203   \n",
       "2                    4                29                59                 95   \n",
       "3                   21                37                41                 65   \n",
       "4                   30                41                41                 53   \n",
       "...                ...               ...               ...                ...   \n",
       "7688                 2                 2                 2                  2   \n",
       "7689                30                49                49                324   \n",
       "7690                 7                 7                 7                181   \n",
       "7691                29                43                50                 50   \n",
       "7692                28                33                33                 90   \n",
       "\n",
       "      occupancy_rate_%_30  occupancy_rate_%_60  occupancy_rate_%_90  \\\n",
       "0                   76.67                66.67                55.56   \n",
       "1                  100.00               100.00               100.00   \n",
       "2                   13.33                48.33                65.56   \n",
       "3                   70.00                61.67                45.56   \n",
       "4                  100.00                68.33                45.56   \n",
       "...                   ...                  ...                  ...   \n",
       "7688                 6.67                 3.33                 2.22   \n",
       "7689               100.00                81.67                54.44   \n",
       "7690                23.33                11.67                 7.78   \n",
       "7691                96.67                71.67                55.56   \n",
       "7692                93.33                55.00                36.67   \n",
       "\n",
       "      occupancy_rate_%_365  \n",
       "0                    64.38  \n",
       "1                    55.62  \n",
       "2                    26.03  \n",
       "3                    17.81  \n",
       "4                    14.52  \n",
       "...                    ...  \n",
       "7688                  0.55  \n",
       "7689                 88.77  \n",
       "7690                 49.59  \n",
       "7691                 13.70  \n",
       "7692                 24.66  \n",
       "\n",
       "[7693 rows x 43 columns]"
      ]
     },
     "execution_count": 19,
     "metadata": {},
     "output_type": "execute_result"
    }
   ],
   "source": [
    "# Crear columnas de tasa de ocupación para 30, 60, 90, 365 días\n",
    "for period in [30, 60, 90, 365]:\n",
    "    availability_col = f'availability_{period}'\n",
    "    occupied_col = f'occupied_days_{period}'\n",
    "    occupancy_rate_col = f'occupancy_rate_%_{period}'\n",
    "    \n",
    "    if availability_col in df.columns:\n",
    "        # Calcular la tasa de ocupación en porcentaje\n",
    "        df[occupancy_rate_col] = ((df[occupied_col] / period) * 100).round(2)\n",
    "\n",
    "df"
   ]
  },
  {
   "cell_type": "markdown",
   "id": "ad87a0b3",
   "metadata": {},
   "source": [
    "Ciudad con Mayor Ocupación Mensual"
   ]
  },
  {
   "cell_type": "code",
   "execution_count": 20,
   "id": "c3b1e0ac",
   "metadata": {},
   "outputs": [
    {
     "data": {
      "application/vnd.microsoft.datawrangler.viewer.v0+json": {
       "columns": [
        {
         "name": "index",
         "rawType": "int64",
         "type": "integer"
        },
        {
         "name": "city",
         "rawType": "object",
         "type": "string"
        },
        {
         "name": "occupancy_rate_%_30",
         "rawType": "float64",
         "type": "float"
        }
       ],
       "conversionMethod": "pd.DataFrame",
       "ref": "cc4311a2-f439-412e-b695-63d431b741db",
       "rows": [
        [
         "0",
         "madrid",
         "64.13"
        ]
       ],
       "shape": {
        "columns": 2,
        "rows": 1
       }
      },
      "text/html": [
       "<div>\n",
       "<style scoped>\n",
       "    .dataframe tbody tr th:only-of-type {\n",
       "        vertical-align: middle;\n",
       "    }\n",
       "\n",
       "    .dataframe tbody tr th {\n",
       "        vertical-align: top;\n",
       "    }\n",
       "\n",
       "    .dataframe thead th {\n",
       "        text-align: right;\n",
       "    }\n",
       "</style>\n",
       "<table border=\"1\" class=\"dataframe\">\n",
       "  <thead>\n",
       "    <tr style=\"text-align: right;\">\n",
       "      <th></th>\n",
       "      <th>city</th>\n",
       "      <th>occupancy_rate_%_30</th>\n",
       "    </tr>\n",
       "  </thead>\n",
       "  <tbody>\n",
       "    <tr>\n",
       "      <th>0</th>\n",
       "      <td>madrid</td>\n",
       "      <td>64.13</td>\n",
       "    </tr>\n",
       "  </tbody>\n",
       "</table>\n",
       "</div>"
      ],
      "text/plain": [
       "     city  occupancy_rate_%_30\n",
       "0  madrid                64.13"
      ]
     },
     "execution_count": 20,
     "metadata": {},
     "output_type": "execute_result"
    }
   ],
   "source": [
    "df.groupby('city')['occupancy_rate_%_30'].mean().round(2).nlargest(1).reset_index()"
   ]
  },
  {
   "cell_type": "code",
   "execution_count": 21,
   "id": "d05da47d",
   "metadata": {},
   "outputs": [
    {
     "data": {
      "application/vnd.plotly.v1+json": {
       "config": {
        "plotlyServerURL": "https://plot.ly"
       },
       "data": [
        {
         "marker": {
          "color": "#2D6A4F"
         },
         "text": [
          "64.13%"
         ],
         "textposition": "outside",
         "type": "bar",
         "x": [
          "madrid"
         ],
         "y": [
          64.13
         ]
        }
       ],
       "layout": {
        "font": {
         "size": 16
        },
        "height": 400,
        "paper_bgcolor": "#D8F3DC",
        "plot_bgcolor": "#D8F3DC",
        "template": {
         "data": {
          "bar": [
           {
            "error_x": {
             "color": "#2a3f5f"
            },
            "error_y": {
             "color": "#2a3f5f"
            },
            "marker": {
             "line": {
              "color": "#E5ECF6",
              "width": 0.5
             },
             "pattern": {
              "fillmode": "overlay",
              "size": 10,
              "solidity": 0.2
             }
            },
            "type": "bar"
           }
          ],
          "barpolar": [
           {
            "marker": {
             "line": {
              "color": "#E5ECF6",
              "width": 0.5
             },
             "pattern": {
              "fillmode": "overlay",
              "size": 10,
              "solidity": 0.2
             }
            },
            "type": "barpolar"
           }
          ],
          "carpet": [
           {
            "aaxis": {
             "endlinecolor": "#2a3f5f",
             "gridcolor": "white",
             "linecolor": "white",
             "minorgridcolor": "white",
             "startlinecolor": "#2a3f5f"
            },
            "baxis": {
             "endlinecolor": "#2a3f5f",
             "gridcolor": "white",
             "linecolor": "white",
             "minorgridcolor": "white",
             "startlinecolor": "#2a3f5f"
            },
            "type": "carpet"
           }
          ],
          "choropleth": [
           {
            "colorbar": {
             "outlinewidth": 0,
             "ticks": ""
            },
            "type": "choropleth"
           }
          ],
          "contour": [
           {
            "colorbar": {
             "outlinewidth": 0,
             "ticks": ""
            },
            "colorscale": [
             [
              0,
              "#0d0887"
             ],
             [
              0.1111111111111111,
              "#46039f"
             ],
             [
              0.2222222222222222,
              "#7201a8"
             ],
             [
              0.3333333333333333,
              "#9c179e"
             ],
             [
              0.4444444444444444,
              "#bd3786"
             ],
             [
              0.5555555555555556,
              "#d8576b"
             ],
             [
              0.6666666666666666,
              "#ed7953"
             ],
             [
              0.7777777777777778,
              "#fb9f3a"
             ],
             [
              0.8888888888888888,
              "#fdca26"
             ],
             [
              1,
              "#f0f921"
             ]
            ],
            "type": "contour"
           }
          ],
          "contourcarpet": [
           {
            "colorbar": {
             "outlinewidth": 0,
             "ticks": ""
            },
            "type": "contourcarpet"
           }
          ],
          "heatmap": [
           {
            "colorbar": {
             "outlinewidth": 0,
             "ticks": ""
            },
            "colorscale": [
             [
              0,
              "#0d0887"
             ],
             [
              0.1111111111111111,
              "#46039f"
             ],
             [
              0.2222222222222222,
              "#7201a8"
             ],
             [
              0.3333333333333333,
              "#9c179e"
             ],
             [
              0.4444444444444444,
              "#bd3786"
             ],
             [
              0.5555555555555556,
              "#d8576b"
             ],
             [
              0.6666666666666666,
              "#ed7953"
             ],
             [
              0.7777777777777778,
              "#fb9f3a"
             ],
             [
              0.8888888888888888,
              "#fdca26"
             ],
             [
              1,
              "#f0f921"
             ]
            ],
            "type": "heatmap"
           }
          ],
          "histogram": [
           {
            "marker": {
             "pattern": {
              "fillmode": "overlay",
              "size": 10,
              "solidity": 0.2
             }
            },
            "type": "histogram"
           }
          ],
          "histogram2d": [
           {
            "colorbar": {
             "outlinewidth": 0,
             "ticks": ""
            },
            "colorscale": [
             [
              0,
              "#0d0887"
             ],
             [
              0.1111111111111111,
              "#46039f"
             ],
             [
              0.2222222222222222,
              "#7201a8"
             ],
             [
              0.3333333333333333,
              "#9c179e"
             ],
             [
              0.4444444444444444,
              "#bd3786"
             ],
             [
              0.5555555555555556,
              "#d8576b"
             ],
             [
              0.6666666666666666,
              "#ed7953"
             ],
             [
              0.7777777777777778,
              "#fb9f3a"
             ],
             [
              0.8888888888888888,
              "#fdca26"
             ],
             [
              1,
              "#f0f921"
             ]
            ],
            "type": "histogram2d"
           }
          ],
          "histogram2dcontour": [
           {
            "colorbar": {
             "outlinewidth": 0,
             "ticks": ""
            },
            "colorscale": [
             [
              0,
              "#0d0887"
             ],
             [
              0.1111111111111111,
              "#46039f"
             ],
             [
              0.2222222222222222,
              "#7201a8"
             ],
             [
              0.3333333333333333,
              "#9c179e"
             ],
             [
              0.4444444444444444,
              "#bd3786"
             ],
             [
              0.5555555555555556,
              "#d8576b"
             ],
             [
              0.6666666666666666,
              "#ed7953"
             ],
             [
              0.7777777777777778,
              "#fb9f3a"
             ],
             [
              0.8888888888888888,
              "#fdca26"
             ],
             [
              1,
              "#f0f921"
             ]
            ],
            "type": "histogram2dcontour"
           }
          ],
          "mesh3d": [
           {
            "colorbar": {
             "outlinewidth": 0,
             "ticks": ""
            },
            "type": "mesh3d"
           }
          ],
          "parcoords": [
           {
            "line": {
             "colorbar": {
              "outlinewidth": 0,
              "ticks": ""
             }
            },
            "type": "parcoords"
           }
          ],
          "pie": [
           {
            "automargin": true,
            "type": "pie"
           }
          ],
          "scatter": [
           {
            "fillpattern": {
             "fillmode": "overlay",
             "size": 10,
             "solidity": 0.2
            },
            "type": "scatter"
           }
          ],
          "scatter3d": [
           {
            "line": {
             "colorbar": {
              "outlinewidth": 0,
              "ticks": ""
             }
            },
            "marker": {
             "colorbar": {
              "outlinewidth": 0,
              "ticks": ""
             }
            },
            "type": "scatter3d"
           }
          ],
          "scattercarpet": [
           {
            "marker": {
             "colorbar": {
              "outlinewidth": 0,
              "ticks": ""
             }
            },
            "type": "scattercarpet"
           }
          ],
          "scattergeo": [
           {
            "marker": {
             "colorbar": {
              "outlinewidth": 0,
              "ticks": ""
             }
            },
            "type": "scattergeo"
           }
          ],
          "scattergl": [
           {
            "marker": {
             "colorbar": {
              "outlinewidth": 0,
              "ticks": ""
             }
            },
            "type": "scattergl"
           }
          ],
          "scattermap": [
           {
            "marker": {
             "colorbar": {
              "outlinewidth": 0,
              "ticks": ""
             }
            },
            "type": "scattermap"
           }
          ],
          "scattermapbox": [
           {
            "marker": {
             "colorbar": {
              "outlinewidth": 0,
              "ticks": ""
             }
            },
            "type": "scattermapbox"
           }
          ],
          "scatterpolar": [
           {
            "marker": {
             "colorbar": {
              "outlinewidth": 0,
              "ticks": ""
             }
            },
            "type": "scatterpolar"
           }
          ],
          "scatterpolargl": [
           {
            "marker": {
             "colorbar": {
              "outlinewidth": 0,
              "ticks": ""
             }
            },
            "type": "scatterpolargl"
           }
          ],
          "scatterternary": [
           {
            "marker": {
             "colorbar": {
              "outlinewidth": 0,
              "ticks": ""
             }
            },
            "type": "scatterternary"
           }
          ],
          "surface": [
           {
            "colorbar": {
             "outlinewidth": 0,
             "ticks": ""
            },
            "colorscale": [
             [
              0,
              "#0d0887"
             ],
             [
              0.1111111111111111,
              "#46039f"
             ],
             [
              0.2222222222222222,
              "#7201a8"
             ],
             [
              0.3333333333333333,
              "#9c179e"
             ],
             [
              0.4444444444444444,
              "#bd3786"
             ],
             [
              0.5555555555555556,
              "#d8576b"
             ],
             [
              0.6666666666666666,
              "#ed7953"
             ],
             [
              0.7777777777777778,
              "#fb9f3a"
             ],
             [
              0.8888888888888888,
              "#fdca26"
             ],
             [
              1,
              "#f0f921"
             ]
            ],
            "type": "surface"
           }
          ],
          "table": [
           {
            "cells": {
             "fill": {
              "color": "#EBF0F8"
             },
             "line": {
              "color": "white"
             }
            },
            "header": {
             "fill": {
              "color": "#C8D4E3"
             },
             "line": {
              "color": "white"
             }
            },
            "type": "table"
           }
          ]
         },
         "layout": {
          "annotationdefaults": {
           "arrowcolor": "#2a3f5f",
           "arrowhead": 0,
           "arrowwidth": 1
          },
          "autotypenumbers": "strict",
          "coloraxis": {
           "colorbar": {
            "outlinewidth": 0,
            "ticks": ""
           }
          },
          "colorscale": {
           "diverging": [
            [
             0,
             "#8e0152"
            ],
            [
             0.1,
             "#c51b7d"
            ],
            [
             0.2,
             "#de77ae"
            ],
            [
             0.3,
             "#f1b6da"
            ],
            [
             0.4,
             "#fde0ef"
            ],
            [
             0.5,
             "#f7f7f7"
            ],
            [
             0.6,
             "#e6f5d0"
            ],
            [
             0.7,
             "#b8e186"
            ],
            [
             0.8,
             "#7fbc41"
            ],
            [
             0.9,
             "#4d9221"
            ],
            [
             1,
             "#276419"
            ]
           ],
           "sequential": [
            [
             0,
             "#0d0887"
            ],
            [
             0.1111111111111111,
             "#46039f"
            ],
            [
             0.2222222222222222,
             "#7201a8"
            ],
            [
             0.3333333333333333,
             "#9c179e"
            ],
            [
             0.4444444444444444,
             "#bd3786"
            ],
            [
             0.5555555555555556,
             "#d8576b"
            ],
            [
             0.6666666666666666,
             "#ed7953"
            ],
            [
             0.7777777777777778,
             "#fb9f3a"
            ],
            [
             0.8888888888888888,
             "#fdca26"
            ],
            [
             1,
             "#f0f921"
            ]
           ],
           "sequentialminus": [
            [
             0,
             "#0d0887"
            ],
            [
             0.1111111111111111,
             "#46039f"
            ],
            [
             0.2222222222222222,
             "#7201a8"
            ],
            [
             0.3333333333333333,
             "#9c179e"
            ],
            [
             0.4444444444444444,
             "#bd3786"
            ],
            [
             0.5555555555555556,
             "#d8576b"
            ],
            [
             0.6666666666666666,
             "#ed7953"
            ],
            [
             0.7777777777777778,
             "#fb9f3a"
            ],
            [
             0.8888888888888888,
             "#fdca26"
            ],
            [
             1,
             "#f0f921"
            ]
           ]
          },
          "colorway": [
           "#636efa",
           "#EF553B",
           "#00cc96",
           "#ab63fa",
           "#FFA15A",
           "#19d3f3",
           "#FF6692",
           "#B6E880",
           "#FF97FF",
           "#FECB52"
          ],
          "font": {
           "color": "#2a3f5f"
          },
          "geo": {
           "bgcolor": "white",
           "lakecolor": "white",
           "landcolor": "#E5ECF6",
           "showlakes": true,
           "showland": true,
           "subunitcolor": "white"
          },
          "hoverlabel": {
           "align": "left"
          },
          "hovermode": "closest",
          "mapbox": {
           "style": "light"
          },
          "paper_bgcolor": "white",
          "plot_bgcolor": "#E5ECF6",
          "polar": {
           "angularaxis": {
            "gridcolor": "white",
            "linecolor": "white",
            "ticks": ""
           },
           "bgcolor": "#E5ECF6",
           "radialaxis": {
            "gridcolor": "white",
            "linecolor": "white",
            "ticks": ""
           }
          },
          "scene": {
           "xaxis": {
            "backgroundcolor": "#E5ECF6",
            "gridcolor": "white",
            "gridwidth": 2,
            "linecolor": "white",
            "showbackground": true,
            "ticks": "",
            "zerolinecolor": "white"
           },
           "yaxis": {
            "backgroundcolor": "#E5ECF6",
            "gridcolor": "white",
            "gridwidth": 2,
            "linecolor": "white",
            "showbackground": true,
            "ticks": "",
            "zerolinecolor": "white"
           },
           "zaxis": {
            "backgroundcolor": "#E5ECF6",
            "gridcolor": "white",
            "gridwidth": 2,
            "linecolor": "white",
            "showbackground": true,
            "ticks": "",
            "zerolinecolor": "white"
           }
          },
          "shapedefaults": {
           "line": {
            "color": "#2a3f5f"
           }
          },
          "ternary": {
           "aaxis": {
            "gridcolor": "white",
            "linecolor": "white",
            "ticks": ""
           },
           "baxis": {
            "gridcolor": "white",
            "linecolor": "white",
            "ticks": ""
           },
           "bgcolor": "#E5ECF6",
           "caxis": {
            "gridcolor": "white",
            "linecolor": "white",
            "ticks": ""
           }
          },
          "title": {
           "x": 0.05
          },
          "xaxis": {
           "automargin": true,
           "gridcolor": "white",
           "linecolor": "white",
           "ticks": "",
           "title": {
            "standoff": 15
           },
           "zerolinecolor": "white",
           "zerolinewidth": 2
          },
          "yaxis": {
           "automargin": true,
           "gridcolor": "white",
           "linecolor": "white",
           "ticks": "",
           "title": {
            "standoff": 15
           },
           "zerolinecolor": "white",
           "zerolinewidth": 2
          }
         }
        },
        "title": {
         "text": "Ciudad con Mayor Ocupación Mensual",
         "x": 0.5
        },
        "width": 600,
        "xaxis": {
         "title": {
          "text": ""
         }
        },
        "yaxis": {
         "range": [
          0,
          100
         ],
         "ticksuffix": "%",
         "title": {
          "text": "Porcentaje (%)"
         }
        }
       }
      }
     },
     "metadata": {},
     "output_type": "display_data"
    }
   ],
   "source": [
    "import plotly.graph_objects as go\n",
    "\n",
    "# Cálculo de la ciudad con mayor ocupación mensual\n",
    "top_ciudad = df.groupby('city')['occupancy_rate_%_30'].mean().round(2).nlargest(1).reset_index()\n",
    "nombre_ciudad = top_ciudad.loc[0, 'city']\n",
    "ocupacion = top_ciudad.loc[0, 'occupancy_rate_%_30']\n",
    "\n",
    "# Crear figura con nombre largo para evitar que la barra parezca pequeña\n",
    "fig = go.Figure(go.Bar(\n",
    "    x=[ nombre_ciudad],  # alargar el texto para mejor visibilidad\n",
    "    y=[ocupacion],\n",
    "    marker_color='#2D6A4F',  # verde oscuro\n",
    "    text=[f\"{ocupacion:.2f}%\"],\n",
    "    textposition='outside'\n",
    "))\n",
    "\n",
    "# Layout\n",
    "fig.update_layout(\n",
    "    title='Ciudad con Mayor Ocupación Mensual',\n",
    "    title_x=0.5,\n",
    "    plot_bgcolor='#D8F3DC',\n",
    "    paper_bgcolor='#D8F3DC',\n",
    "    yaxis=dict(\n",
    "        title='Porcentaje (%)',\n",
    "        range=[0, 100],\n",
    "        ticksuffix='%'\n",
    "    ),\n",
    "    xaxis=dict(title=''),\n",
    "    font=dict(size=16),\n",
    "    height=400,\n",
    "    width=600,\n",
    ")\n",
    "\n",
    "fig.show()\n"
   ]
  },
  {
   "cell_type": "markdown",
   "id": "23cae1b5",
   "metadata": {},
   "source": [
    "Indice de satisfacción general"
   ]
  },
  {
   "cell_type": "code",
   "execution_count": 22,
   "id": "89d08c3b",
   "metadata": {},
   "outputs": [
    {
     "name": "stdout",
     "output_type": "stream",
     "text": [
      "Índice de Satisfacción: 92.42\n"
     ]
    }
   ],
   "source": [
    "#Media de review scores rating\n",
    "indice_satisfaccion = round(df['review_scores_rating'].mean(), 2)\n",
    "\n",
    "print(f\"Índice de Satisfacción: {indice_satisfaccion}\")"
   ]
  },
  {
   "cell_type": "code",
   "execution_count": 23,
   "id": "b20321c4",
   "metadata": {},
   "outputs": [
    {
     "data": {
      "application/vnd.plotly.v1+json": {
       "config": {
        "plotlyServerURL": "https://plot.ly"
       },
       "data": [
        {
         "marker": {
          "color": "#2D6A4F"
         },
         "text": [
          "92.42"
         ],
         "textposition": "outside",
         "type": "bar",
         "x": [
          "Índice de Satisfacción"
         ],
         "y": [
          92.42
         ]
        }
       ],
       "layout": {
        "font": {
         "size": 16
        },
        "height": 500,
        "paper_bgcolor": "#D8F3DC",
        "plot_bgcolor": "#D8F3DC",
        "template": {
         "data": {
          "bar": [
           {
            "error_x": {
             "color": "#2a3f5f"
            },
            "error_y": {
             "color": "#2a3f5f"
            },
            "marker": {
             "line": {
              "color": "#E5ECF6",
              "width": 0.5
             },
             "pattern": {
              "fillmode": "overlay",
              "size": 10,
              "solidity": 0.2
             }
            },
            "type": "bar"
           }
          ],
          "barpolar": [
           {
            "marker": {
             "line": {
              "color": "#E5ECF6",
              "width": 0.5
             },
             "pattern": {
              "fillmode": "overlay",
              "size": 10,
              "solidity": 0.2
             }
            },
            "type": "barpolar"
           }
          ],
          "carpet": [
           {
            "aaxis": {
             "endlinecolor": "#2a3f5f",
             "gridcolor": "white",
             "linecolor": "white",
             "minorgridcolor": "white",
             "startlinecolor": "#2a3f5f"
            },
            "baxis": {
             "endlinecolor": "#2a3f5f",
             "gridcolor": "white",
             "linecolor": "white",
             "minorgridcolor": "white",
             "startlinecolor": "#2a3f5f"
            },
            "type": "carpet"
           }
          ],
          "choropleth": [
           {
            "colorbar": {
             "outlinewidth": 0,
             "ticks": ""
            },
            "type": "choropleth"
           }
          ],
          "contour": [
           {
            "colorbar": {
             "outlinewidth": 0,
             "ticks": ""
            },
            "colorscale": [
             [
              0,
              "#0d0887"
             ],
             [
              0.1111111111111111,
              "#46039f"
             ],
             [
              0.2222222222222222,
              "#7201a8"
             ],
             [
              0.3333333333333333,
              "#9c179e"
             ],
             [
              0.4444444444444444,
              "#bd3786"
             ],
             [
              0.5555555555555556,
              "#d8576b"
             ],
             [
              0.6666666666666666,
              "#ed7953"
             ],
             [
              0.7777777777777778,
              "#fb9f3a"
             ],
             [
              0.8888888888888888,
              "#fdca26"
             ],
             [
              1,
              "#f0f921"
             ]
            ],
            "type": "contour"
           }
          ],
          "contourcarpet": [
           {
            "colorbar": {
             "outlinewidth": 0,
             "ticks": ""
            },
            "type": "contourcarpet"
           }
          ],
          "heatmap": [
           {
            "colorbar": {
             "outlinewidth": 0,
             "ticks": ""
            },
            "colorscale": [
             [
              0,
              "#0d0887"
             ],
             [
              0.1111111111111111,
              "#46039f"
             ],
             [
              0.2222222222222222,
              "#7201a8"
             ],
             [
              0.3333333333333333,
              "#9c179e"
             ],
             [
              0.4444444444444444,
              "#bd3786"
             ],
             [
              0.5555555555555556,
              "#d8576b"
             ],
             [
              0.6666666666666666,
              "#ed7953"
             ],
             [
              0.7777777777777778,
              "#fb9f3a"
             ],
             [
              0.8888888888888888,
              "#fdca26"
             ],
             [
              1,
              "#f0f921"
             ]
            ],
            "type": "heatmap"
           }
          ],
          "histogram": [
           {
            "marker": {
             "pattern": {
              "fillmode": "overlay",
              "size": 10,
              "solidity": 0.2
             }
            },
            "type": "histogram"
           }
          ],
          "histogram2d": [
           {
            "colorbar": {
             "outlinewidth": 0,
             "ticks": ""
            },
            "colorscale": [
             [
              0,
              "#0d0887"
             ],
             [
              0.1111111111111111,
              "#46039f"
             ],
             [
              0.2222222222222222,
              "#7201a8"
             ],
             [
              0.3333333333333333,
              "#9c179e"
             ],
             [
              0.4444444444444444,
              "#bd3786"
             ],
             [
              0.5555555555555556,
              "#d8576b"
             ],
             [
              0.6666666666666666,
              "#ed7953"
             ],
             [
              0.7777777777777778,
              "#fb9f3a"
             ],
             [
              0.8888888888888888,
              "#fdca26"
             ],
             [
              1,
              "#f0f921"
             ]
            ],
            "type": "histogram2d"
           }
          ],
          "histogram2dcontour": [
           {
            "colorbar": {
             "outlinewidth": 0,
             "ticks": ""
            },
            "colorscale": [
             [
              0,
              "#0d0887"
             ],
             [
              0.1111111111111111,
              "#46039f"
             ],
             [
              0.2222222222222222,
              "#7201a8"
             ],
             [
              0.3333333333333333,
              "#9c179e"
             ],
             [
              0.4444444444444444,
              "#bd3786"
             ],
             [
              0.5555555555555556,
              "#d8576b"
             ],
             [
              0.6666666666666666,
              "#ed7953"
             ],
             [
              0.7777777777777778,
              "#fb9f3a"
             ],
             [
              0.8888888888888888,
              "#fdca26"
             ],
             [
              1,
              "#f0f921"
             ]
            ],
            "type": "histogram2dcontour"
           }
          ],
          "mesh3d": [
           {
            "colorbar": {
             "outlinewidth": 0,
             "ticks": ""
            },
            "type": "mesh3d"
           }
          ],
          "parcoords": [
           {
            "line": {
             "colorbar": {
              "outlinewidth": 0,
              "ticks": ""
             }
            },
            "type": "parcoords"
           }
          ],
          "pie": [
           {
            "automargin": true,
            "type": "pie"
           }
          ],
          "scatter": [
           {
            "fillpattern": {
             "fillmode": "overlay",
             "size": 10,
             "solidity": 0.2
            },
            "type": "scatter"
           }
          ],
          "scatter3d": [
           {
            "line": {
             "colorbar": {
              "outlinewidth": 0,
              "ticks": ""
             }
            },
            "marker": {
             "colorbar": {
              "outlinewidth": 0,
              "ticks": ""
             }
            },
            "type": "scatter3d"
           }
          ],
          "scattercarpet": [
           {
            "marker": {
             "colorbar": {
              "outlinewidth": 0,
              "ticks": ""
             }
            },
            "type": "scattercarpet"
           }
          ],
          "scattergeo": [
           {
            "marker": {
             "colorbar": {
              "outlinewidth": 0,
              "ticks": ""
             }
            },
            "type": "scattergeo"
           }
          ],
          "scattergl": [
           {
            "marker": {
             "colorbar": {
              "outlinewidth": 0,
              "ticks": ""
             }
            },
            "type": "scattergl"
           }
          ],
          "scattermap": [
           {
            "marker": {
             "colorbar": {
              "outlinewidth": 0,
              "ticks": ""
             }
            },
            "type": "scattermap"
           }
          ],
          "scattermapbox": [
           {
            "marker": {
             "colorbar": {
              "outlinewidth": 0,
              "ticks": ""
             }
            },
            "type": "scattermapbox"
           }
          ],
          "scatterpolar": [
           {
            "marker": {
             "colorbar": {
              "outlinewidth": 0,
              "ticks": ""
             }
            },
            "type": "scatterpolar"
           }
          ],
          "scatterpolargl": [
           {
            "marker": {
             "colorbar": {
              "outlinewidth": 0,
              "ticks": ""
             }
            },
            "type": "scatterpolargl"
           }
          ],
          "scatterternary": [
           {
            "marker": {
             "colorbar": {
              "outlinewidth": 0,
              "ticks": ""
             }
            },
            "type": "scatterternary"
           }
          ],
          "surface": [
           {
            "colorbar": {
             "outlinewidth": 0,
             "ticks": ""
            },
            "colorscale": [
             [
              0,
              "#0d0887"
             ],
             [
              0.1111111111111111,
              "#46039f"
             ],
             [
              0.2222222222222222,
              "#7201a8"
             ],
             [
              0.3333333333333333,
              "#9c179e"
             ],
             [
              0.4444444444444444,
              "#bd3786"
             ],
             [
              0.5555555555555556,
              "#d8576b"
             ],
             [
              0.6666666666666666,
              "#ed7953"
             ],
             [
              0.7777777777777778,
              "#fb9f3a"
             ],
             [
              0.8888888888888888,
              "#fdca26"
             ],
             [
              1,
              "#f0f921"
             ]
            ],
            "type": "surface"
           }
          ],
          "table": [
           {
            "cells": {
             "fill": {
              "color": "#EBF0F8"
             },
             "line": {
              "color": "white"
             }
            },
            "header": {
             "fill": {
              "color": "#C8D4E3"
             },
             "line": {
              "color": "white"
             }
            },
            "type": "table"
           }
          ]
         },
         "layout": {
          "annotationdefaults": {
           "arrowcolor": "#2a3f5f",
           "arrowhead": 0,
           "arrowwidth": 1
          },
          "autotypenumbers": "strict",
          "coloraxis": {
           "colorbar": {
            "outlinewidth": 0,
            "ticks": ""
           }
          },
          "colorscale": {
           "diverging": [
            [
             0,
             "#8e0152"
            ],
            [
             0.1,
             "#c51b7d"
            ],
            [
             0.2,
             "#de77ae"
            ],
            [
             0.3,
             "#f1b6da"
            ],
            [
             0.4,
             "#fde0ef"
            ],
            [
             0.5,
             "#f7f7f7"
            ],
            [
             0.6,
             "#e6f5d0"
            ],
            [
             0.7,
             "#b8e186"
            ],
            [
             0.8,
             "#7fbc41"
            ],
            [
             0.9,
             "#4d9221"
            ],
            [
             1,
             "#276419"
            ]
           ],
           "sequential": [
            [
             0,
             "#0d0887"
            ],
            [
             0.1111111111111111,
             "#46039f"
            ],
            [
             0.2222222222222222,
             "#7201a8"
            ],
            [
             0.3333333333333333,
             "#9c179e"
            ],
            [
             0.4444444444444444,
             "#bd3786"
            ],
            [
             0.5555555555555556,
             "#d8576b"
            ],
            [
             0.6666666666666666,
             "#ed7953"
            ],
            [
             0.7777777777777778,
             "#fb9f3a"
            ],
            [
             0.8888888888888888,
             "#fdca26"
            ],
            [
             1,
             "#f0f921"
            ]
           ],
           "sequentialminus": [
            [
             0,
             "#0d0887"
            ],
            [
             0.1111111111111111,
             "#46039f"
            ],
            [
             0.2222222222222222,
             "#7201a8"
            ],
            [
             0.3333333333333333,
             "#9c179e"
            ],
            [
             0.4444444444444444,
             "#bd3786"
            ],
            [
             0.5555555555555556,
             "#d8576b"
            ],
            [
             0.6666666666666666,
             "#ed7953"
            ],
            [
             0.7777777777777778,
             "#fb9f3a"
            ],
            [
             0.8888888888888888,
             "#fdca26"
            ],
            [
             1,
             "#f0f921"
            ]
           ]
          },
          "colorway": [
           "#636efa",
           "#EF553B",
           "#00cc96",
           "#ab63fa",
           "#FFA15A",
           "#19d3f3",
           "#FF6692",
           "#B6E880",
           "#FF97FF",
           "#FECB52"
          ],
          "font": {
           "color": "#2a3f5f"
          },
          "geo": {
           "bgcolor": "white",
           "lakecolor": "white",
           "landcolor": "#E5ECF6",
           "showlakes": true,
           "showland": true,
           "subunitcolor": "white"
          },
          "hoverlabel": {
           "align": "left"
          },
          "hovermode": "closest",
          "mapbox": {
           "style": "light"
          },
          "paper_bgcolor": "white",
          "plot_bgcolor": "#E5ECF6",
          "polar": {
           "angularaxis": {
            "gridcolor": "white",
            "linecolor": "white",
            "ticks": ""
           },
           "bgcolor": "#E5ECF6",
           "radialaxis": {
            "gridcolor": "white",
            "linecolor": "white",
            "ticks": ""
           }
          },
          "scene": {
           "xaxis": {
            "backgroundcolor": "#E5ECF6",
            "gridcolor": "white",
            "gridwidth": 2,
            "linecolor": "white",
            "showbackground": true,
            "ticks": "",
            "zerolinecolor": "white"
           },
           "yaxis": {
            "backgroundcolor": "#E5ECF6",
            "gridcolor": "white",
            "gridwidth": 2,
            "linecolor": "white",
            "showbackground": true,
            "ticks": "",
            "zerolinecolor": "white"
           },
           "zaxis": {
            "backgroundcolor": "#E5ECF6",
            "gridcolor": "white",
            "gridwidth": 2,
            "linecolor": "white",
            "showbackground": true,
            "ticks": "",
            "zerolinecolor": "white"
           }
          },
          "shapedefaults": {
           "line": {
            "color": "#2a3f5f"
           }
          },
          "ternary": {
           "aaxis": {
            "gridcolor": "white",
            "linecolor": "white",
            "ticks": ""
           },
           "baxis": {
            "gridcolor": "white",
            "linecolor": "white",
            "ticks": ""
           },
           "bgcolor": "#E5ECF6",
           "caxis": {
            "gridcolor": "white",
            "linecolor": "white",
            "ticks": ""
           }
          },
          "title": {
           "x": 0.05
          },
          "xaxis": {
           "automargin": true,
           "gridcolor": "white",
           "linecolor": "white",
           "ticks": "",
           "title": {
            "standoff": 15
           },
           "zerolinecolor": "white",
           "zerolinewidth": 2
          },
          "yaxis": {
           "automargin": true,
           "gridcolor": "white",
           "linecolor": "white",
           "ticks": "",
           "title": {
            "standoff": 15
           },
           "zerolinecolor": "white",
           "zerolinewidth": 2
          }
         }
        },
        "title": {
         "text": "Índice de Satisfacción General (sobre 100)",
         "x": 0.5
        },
        "width": 600,
        "xaxis": {
         "title": {
          "text": ""
         }
        },
        "yaxis": {
         "range": [
          0,
          110
         ],
         "title": {
          "text": "Puntuación"
         }
        }
       }
      }
     },
     "metadata": {},
     "output_type": "display_data"
    }
   ],
   "source": [
    "import plotly.graph_objects as go\n",
    "\n",
    "# Cálculo del índice de satisfacción\n",
    "indice_satisfaccion = round(df['review_scores_rating'].mean(), 2)\n",
    "\n",
    "# Crear gráfico\n",
    "fig = go.Figure(go.Bar(\n",
    "    x=[\"Índice de Satisfacción\"],\n",
    "    y=[indice_satisfaccion],\n",
    "    marker_color='#2D6A4F',\n",
    "    text=[indice_satisfaccion],\n",
    "    textposition='outside'\n",
    "))\n",
    "\n",
    "# Personalizar diseño\n",
    "fig.update_layout(\n",
    "    title=\"Índice de Satisfacción General (sobre 100)\",\n",
    "    title_x=0.5,\n",
    "    plot_bgcolor='#D8F3DC',\n",
    "    paper_bgcolor='#D8F3DC',\n",
    "    yaxis=dict(\n",
    "        title='Puntuación',\n",
    "        range=[0, 110]  # Aumentamos para que no se corte\n",
    "    ),\n",
    "    xaxis=dict(title=''),\n",
    "    font=dict(size=16),\n",
    "    height=500,  # Más alto\n",
    "    width=600\n",
    ")\n",
    "\n",
    "fig.show()\n"
   ]
  },
  {
   "cell_type": "markdown",
   "id": "be51f4a8",
   "metadata": {},
   "source": [
    "Item con mayor satisfacción promedio"
   ]
  },
  {
   "cell_type": "code",
   "execution_count": 24,
   "id": "2abb185f",
   "metadata": {},
   "outputs": [
    {
     "name": "stdout",
     "output_type": "stream",
     "text": [
      "A ROOM WITH A VIEW - 100.0\n"
     ]
    }
   ],
   "source": [
    "#Se crea una columna con la media de las 5 diferentes puntuaciones de cada apartamento,\n",
    "df[\"satisfaccion\"] = df[[\n",
    "    \"review_scores_accuracy\",\n",
    "    \"review_scores_cleanliness\",\n",
    "    \"review_scores_communication\",\n",
    "    \"review_scores_location\",\n",
    "    \"review_scores_checkin\"\n",
    "]].mean(axis=1)\n",
    "\n",
    "# Nos quedamos con el valor más alto,\n",
    "top_row = df.loc[df[\"satisfaccion\"].idxmax()]\n",
    "\n",
    "formatted_output = f\"{top_row['name']} - {top_row['satisfaccion']:.1f}\"\n",
    "\n",
    "print(formatted_output)\n"
   ]
  },
  {
   "cell_type": "code",
   "execution_count": 25,
   "id": "bd8fb4ce",
   "metadata": {},
   "outputs": [
    {
     "data": {
      "application/vnd.plotly.v1+json": {
       "config": {
        "plotlyServerURL": "https://plot.ly"
       },
       "data": [
        {
         "marker": {
          "color": "#2D6A4F"
         },
         "text": [
          "100.0"
         ],
         "textfont": {
          "color": "black",
          "size": 20
         },
         "textposition": "outside",
         "type": "bar",
         "x": [
          "A ROOM WITH A VIEW"
         ],
         "y": [
          100
         ]
        }
       ],
       "layout": {
        "font": {
         "size": 16
        },
        "height": 500,
        "paper_bgcolor": "#D8F3DC",
        "plot_bgcolor": "#D8F3DC",
        "template": {
         "data": {
          "bar": [
           {
            "error_x": {
             "color": "#2a3f5f"
            },
            "error_y": {
             "color": "#2a3f5f"
            },
            "marker": {
             "line": {
              "color": "#E5ECF6",
              "width": 0.5
             },
             "pattern": {
              "fillmode": "overlay",
              "size": 10,
              "solidity": 0.2
             }
            },
            "type": "bar"
           }
          ],
          "barpolar": [
           {
            "marker": {
             "line": {
              "color": "#E5ECF6",
              "width": 0.5
             },
             "pattern": {
              "fillmode": "overlay",
              "size": 10,
              "solidity": 0.2
             }
            },
            "type": "barpolar"
           }
          ],
          "carpet": [
           {
            "aaxis": {
             "endlinecolor": "#2a3f5f",
             "gridcolor": "white",
             "linecolor": "white",
             "minorgridcolor": "white",
             "startlinecolor": "#2a3f5f"
            },
            "baxis": {
             "endlinecolor": "#2a3f5f",
             "gridcolor": "white",
             "linecolor": "white",
             "minorgridcolor": "white",
             "startlinecolor": "#2a3f5f"
            },
            "type": "carpet"
           }
          ],
          "choropleth": [
           {
            "colorbar": {
             "outlinewidth": 0,
             "ticks": ""
            },
            "type": "choropleth"
           }
          ],
          "contour": [
           {
            "colorbar": {
             "outlinewidth": 0,
             "ticks": ""
            },
            "colorscale": [
             [
              0,
              "#0d0887"
             ],
             [
              0.1111111111111111,
              "#46039f"
             ],
             [
              0.2222222222222222,
              "#7201a8"
             ],
             [
              0.3333333333333333,
              "#9c179e"
             ],
             [
              0.4444444444444444,
              "#bd3786"
             ],
             [
              0.5555555555555556,
              "#d8576b"
             ],
             [
              0.6666666666666666,
              "#ed7953"
             ],
             [
              0.7777777777777778,
              "#fb9f3a"
             ],
             [
              0.8888888888888888,
              "#fdca26"
             ],
             [
              1,
              "#f0f921"
             ]
            ],
            "type": "contour"
           }
          ],
          "contourcarpet": [
           {
            "colorbar": {
             "outlinewidth": 0,
             "ticks": ""
            },
            "type": "contourcarpet"
           }
          ],
          "heatmap": [
           {
            "colorbar": {
             "outlinewidth": 0,
             "ticks": ""
            },
            "colorscale": [
             [
              0,
              "#0d0887"
             ],
             [
              0.1111111111111111,
              "#46039f"
             ],
             [
              0.2222222222222222,
              "#7201a8"
             ],
             [
              0.3333333333333333,
              "#9c179e"
             ],
             [
              0.4444444444444444,
              "#bd3786"
             ],
             [
              0.5555555555555556,
              "#d8576b"
             ],
             [
              0.6666666666666666,
              "#ed7953"
             ],
             [
              0.7777777777777778,
              "#fb9f3a"
             ],
             [
              0.8888888888888888,
              "#fdca26"
             ],
             [
              1,
              "#f0f921"
             ]
            ],
            "type": "heatmap"
           }
          ],
          "histogram": [
           {
            "marker": {
             "pattern": {
              "fillmode": "overlay",
              "size": 10,
              "solidity": 0.2
             }
            },
            "type": "histogram"
           }
          ],
          "histogram2d": [
           {
            "colorbar": {
             "outlinewidth": 0,
             "ticks": ""
            },
            "colorscale": [
             [
              0,
              "#0d0887"
             ],
             [
              0.1111111111111111,
              "#46039f"
             ],
             [
              0.2222222222222222,
              "#7201a8"
             ],
             [
              0.3333333333333333,
              "#9c179e"
             ],
             [
              0.4444444444444444,
              "#bd3786"
             ],
             [
              0.5555555555555556,
              "#d8576b"
             ],
             [
              0.6666666666666666,
              "#ed7953"
             ],
             [
              0.7777777777777778,
              "#fb9f3a"
             ],
             [
              0.8888888888888888,
              "#fdca26"
             ],
             [
              1,
              "#f0f921"
             ]
            ],
            "type": "histogram2d"
           }
          ],
          "histogram2dcontour": [
           {
            "colorbar": {
             "outlinewidth": 0,
             "ticks": ""
            },
            "colorscale": [
             [
              0,
              "#0d0887"
             ],
             [
              0.1111111111111111,
              "#46039f"
             ],
             [
              0.2222222222222222,
              "#7201a8"
             ],
             [
              0.3333333333333333,
              "#9c179e"
             ],
             [
              0.4444444444444444,
              "#bd3786"
             ],
             [
              0.5555555555555556,
              "#d8576b"
             ],
             [
              0.6666666666666666,
              "#ed7953"
             ],
             [
              0.7777777777777778,
              "#fb9f3a"
             ],
             [
              0.8888888888888888,
              "#fdca26"
             ],
             [
              1,
              "#f0f921"
             ]
            ],
            "type": "histogram2dcontour"
           }
          ],
          "mesh3d": [
           {
            "colorbar": {
             "outlinewidth": 0,
             "ticks": ""
            },
            "type": "mesh3d"
           }
          ],
          "parcoords": [
           {
            "line": {
             "colorbar": {
              "outlinewidth": 0,
              "ticks": ""
             }
            },
            "type": "parcoords"
           }
          ],
          "pie": [
           {
            "automargin": true,
            "type": "pie"
           }
          ],
          "scatter": [
           {
            "fillpattern": {
             "fillmode": "overlay",
             "size": 10,
             "solidity": 0.2
            },
            "type": "scatter"
           }
          ],
          "scatter3d": [
           {
            "line": {
             "colorbar": {
              "outlinewidth": 0,
              "ticks": ""
             }
            },
            "marker": {
             "colorbar": {
              "outlinewidth": 0,
              "ticks": ""
             }
            },
            "type": "scatter3d"
           }
          ],
          "scattercarpet": [
           {
            "marker": {
             "colorbar": {
              "outlinewidth": 0,
              "ticks": ""
             }
            },
            "type": "scattercarpet"
           }
          ],
          "scattergeo": [
           {
            "marker": {
             "colorbar": {
              "outlinewidth": 0,
              "ticks": ""
             }
            },
            "type": "scattergeo"
           }
          ],
          "scattergl": [
           {
            "marker": {
             "colorbar": {
              "outlinewidth": 0,
              "ticks": ""
             }
            },
            "type": "scattergl"
           }
          ],
          "scattermap": [
           {
            "marker": {
             "colorbar": {
              "outlinewidth": 0,
              "ticks": ""
             }
            },
            "type": "scattermap"
           }
          ],
          "scattermapbox": [
           {
            "marker": {
             "colorbar": {
              "outlinewidth": 0,
              "ticks": ""
             }
            },
            "type": "scattermapbox"
           }
          ],
          "scatterpolar": [
           {
            "marker": {
             "colorbar": {
              "outlinewidth": 0,
              "ticks": ""
             }
            },
            "type": "scatterpolar"
           }
          ],
          "scatterpolargl": [
           {
            "marker": {
             "colorbar": {
              "outlinewidth": 0,
              "ticks": ""
             }
            },
            "type": "scatterpolargl"
           }
          ],
          "scatterternary": [
           {
            "marker": {
             "colorbar": {
              "outlinewidth": 0,
              "ticks": ""
             }
            },
            "type": "scatterternary"
           }
          ],
          "surface": [
           {
            "colorbar": {
             "outlinewidth": 0,
             "ticks": ""
            },
            "colorscale": [
             [
              0,
              "#0d0887"
             ],
             [
              0.1111111111111111,
              "#46039f"
             ],
             [
              0.2222222222222222,
              "#7201a8"
             ],
             [
              0.3333333333333333,
              "#9c179e"
             ],
             [
              0.4444444444444444,
              "#bd3786"
             ],
             [
              0.5555555555555556,
              "#d8576b"
             ],
             [
              0.6666666666666666,
              "#ed7953"
             ],
             [
              0.7777777777777778,
              "#fb9f3a"
             ],
             [
              0.8888888888888888,
              "#fdca26"
             ],
             [
              1,
              "#f0f921"
             ]
            ],
            "type": "surface"
           }
          ],
          "table": [
           {
            "cells": {
             "fill": {
              "color": "#EBF0F8"
             },
             "line": {
              "color": "white"
             }
            },
            "header": {
             "fill": {
              "color": "#C8D4E3"
             },
             "line": {
              "color": "white"
             }
            },
            "type": "table"
           }
          ]
         },
         "layout": {
          "annotationdefaults": {
           "arrowcolor": "#2a3f5f",
           "arrowhead": 0,
           "arrowwidth": 1
          },
          "autotypenumbers": "strict",
          "coloraxis": {
           "colorbar": {
            "outlinewidth": 0,
            "ticks": ""
           }
          },
          "colorscale": {
           "diverging": [
            [
             0,
             "#8e0152"
            ],
            [
             0.1,
             "#c51b7d"
            ],
            [
             0.2,
             "#de77ae"
            ],
            [
             0.3,
             "#f1b6da"
            ],
            [
             0.4,
             "#fde0ef"
            ],
            [
             0.5,
             "#f7f7f7"
            ],
            [
             0.6,
             "#e6f5d0"
            ],
            [
             0.7,
             "#b8e186"
            ],
            [
             0.8,
             "#7fbc41"
            ],
            [
             0.9,
             "#4d9221"
            ],
            [
             1,
             "#276419"
            ]
           ],
           "sequential": [
            [
             0,
             "#0d0887"
            ],
            [
             0.1111111111111111,
             "#46039f"
            ],
            [
             0.2222222222222222,
             "#7201a8"
            ],
            [
             0.3333333333333333,
             "#9c179e"
            ],
            [
             0.4444444444444444,
             "#bd3786"
            ],
            [
             0.5555555555555556,
             "#d8576b"
            ],
            [
             0.6666666666666666,
             "#ed7953"
            ],
            [
             0.7777777777777778,
             "#fb9f3a"
            ],
            [
             0.8888888888888888,
             "#fdca26"
            ],
            [
             1,
             "#f0f921"
            ]
           ],
           "sequentialminus": [
            [
             0,
             "#0d0887"
            ],
            [
             0.1111111111111111,
             "#46039f"
            ],
            [
             0.2222222222222222,
             "#7201a8"
            ],
            [
             0.3333333333333333,
             "#9c179e"
            ],
            [
             0.4444444444444444,
             "#bd3786"
            ],
            [
             0.5555555555555556,
             "#d8576b"
            ],
            [
             0.6666666666666666,
             "#ed7953"
            ],
            [
             0.7777777777777778,
             "#fb9f3a"
            ],
            [
             0.8888888888888888,
             "#fdca26"
            ],
            [
             1,
             "#f0f921"
            ]
           ]
          },
          "colorway": [
           "#636efa",
           "#EF553B",
           "#00cc96",
           "#ab63fa",
           "#FFA15A",
           "#19d3f3",
           "#FF6692",
           "#B6E880",
           "#FF97FF",
           "#FECB52"
          ],
          "font": {
           "color": "#2a3f5f"
          },
          "geo": {
           "bgcolor": "white",
           "lakecolor": "white",
           "landcolor": "#E5ECF6",
           "showlakes": true,
           "showland": true,
           "subunitcolor": "white"
          },
          "hoverlabel": {
           "align": "left"
          },
          "hovermode": "closest",
          "mapbox": {
           "style": "light"
          },
          "paper_bgcolor": "white",
          "plot_bgcolor": "#E5ECF6",
          "polar": {
           "angularaxis": {
            "gridcolor": "white",
            "linecolor": "white",
            "ticks": ""
           },
           "bgcolor": "#E5ECF6",
           "radialaxis": {
            "gridcolor": "white",
            "linecolor": "white",
            "ticks": ""
           }
          },
          "scene": {
           "xaxis": {
            "backgroundcolor": "#E5ECF6",
            "gridcolor": "white",
            "gridwidth": 2,
            "linecolor": "white",
            "showbackground": true,
            "ticks": "",
            "zerolinecolor": "white"
           },
           "yaxis": {
            "backgroundcolor": "#E5ECF6",
            "gridcolor": "white",
            "gridwidth": 2,
            "linecolor": "white",
            "showbackground": true,
            "ticks": "",
            "zerolinecolor": "white"
           },
           "zaxis": {
            "backgroundcolor": "#E5ECF6",
            "gridcolor": "white",
            "gridwidth": 2,
            "linecolor": "white",
            "showbackground": true,
            "ticks": "",
            "zerolinecolor": "white"
           }
          },
          "shapedefaults": {
           "line": {
            "color": "#2a3f5f"
           }
          },
          "ternary": {
           "aaxis": {
            "gridcolor": "white",
            "linecolor": "white",
            "ticks": ""
           },
           "baxis": {
            "gridcolor": "white",
            "linecolor": "white",
            "ticks": ""
           },
           "bgcolor": "#E5ECF6",
           "caxis": {
            "gridcolor": "white",
            "linecolor": "white",
            "ticks": ""
           }
          },
          "title": {
           "x": 0.05
          },
          "xaxis": {
           "automargin": true,
           "gridcolor": "white",
           "linecolor": "white",
           "ticks": "",
           "title": {
            "standoff": 15
           },
           "zerolinecolor": "white",
           "zerolinewidth": 2
          },
          "yaxis": {
           "automargin": true,
           "gridcolor": "white",
           "linecolor": "white",
           "ticks": "",
           "title": {
            "standoff": 15
           },
           "zerolinecolor": "white",
           "zerolinewidth": 2
          }
         }
        },
        "title": {
         "text": "Item con Mayor Satisfacción Promedio",
         "x": 0.5
        },
        "width": 900,
        "xaxis": {
         "tickfont": {
          "size": 18
         },
         "title": {
          "text": ""
         }
        },
        "yaxis": {
         "range": [
          0,
          100
         ],
         "title": {
          "text": "Puntuación"
         }
        }
       }
      }
     },
     "metadata": {},
     "output_type": "display_data"
    }
   ],
   "source": [
    "import plotly.graph_objects as go\n",
    "\n",
    "# Calcular satisfacción media por ítem\n",
    "df[\"satisfaccion\"] = df[[\n",
    "    \"review_scores_accuracy\",\n",
    "    \"review_scores_cleanliness\",\n",
    "    \"review_scores_communication\",\n",
    "    \"review_scores_location\",\n",
    "    \"review_scores_checkin\"\n",
    "]].mean(axis=1)\n",
    "\n",
    "# Obtener fila con mayor satisfacción\n",
    "top_row = df.loc[df[\"satisfaccion\"].idxmax()]\n",
    "item_name = top_row['name']\n",
    "satisfaccion_score = round(top_row['satisfaccion'], 1)\n",
    "\n",
    "# Gráfico\n",
    "fig = go.Figure(go.Bar(\n",
    "    x=[item_name],\n",
    "    y=[satisfaccion_score],\n",
    "    marker_color='#2D6A4F',\n",
    "    text=[f\"{satisfaccion_score}\"],\n",
    "    textposition='outside',\n",
    "    textfont=dict(size=20, color='black')  # Tamaño del número\n",
    "))\n",
    "\n",
    "# Layout\n",
    "fig.update_layout(\n",
    "    title=\"Item con Mayor Satisfacción Promedio\",\n",
    "    title_x=0.5,\n",
    "    plot_bgcolor='#D8F3DC',\n",
    "    paper_bgcolor='#D8F3DC',\n",
    "    yaxis=dict(\n",
    "        title='Puntuación',\n",
    "        range=[0, 100]\n",
    "    ),\n",
    "    xaxis=dict(\n",
    "        title='',\n",
    "        tickfont=dict(size=18),  # Tamaño del nombre del ítem\n",
    "    ),\n",
    "    font=dict(size=16),\n",
    "    height=500,\n",
    "    width=900\n",
    ")\n",
    "\n",
    "fig.show()\n"
   ]
  },
  {
   "cell_type": "markdown",
   "id": "35f54dd1",
   "metadata": {},
   "source": [
    "## Análisis orientado (Marketing)"
   ]
  },
  {
   "cell_type": "code",
   "execution_count": null,
   "id": "03108a60",
   "metadata": {},
   "outputs": [],
   "source": []
  },
  {
   "cell_type": "markdown",
   "id": "8255a32b",
   "metadata": {},
   "source": [
    "## Análisis orientado a experiencia usuario (Usuario)"
   ]
  },
  {
   "cell_type": "markdown",
   "id": "41fd73fd",
   "metadata": {},
   "source": [
    "## Transformación dataset df_tourist_python_sprint2 para crear df_cl y responder la pregunta de negocio"
   ]
  },
  {
   "cell_type": "code",
   "execution_count": 27,
   "id": "c3534b22",
   "metadata": {},
   "outputs": [
    {
     "data": {
      "application/vnd.microsoft.datawrangler.viewer.v0+json": {
       "columns": [
        {
         "name": "index",
         "rawType": "int64",
         "type": "integer"
        },
        {
         "name": "apartment_id",
         "rawType": "int64",
         "type": "integer"
        },
        {
         "name": "room_type",
         "rawType": "object",
         "type": "string"
        },
        {
         "name": "accommodates",
         "rawType": "int64",
         "type": "integer"
        },
        {
         "name": "bathrooms",
         "rawType": "float64",
         "type": "float"
        },
        {
         "name": "bedrooms",
         "rawType": "float64",
         "type": "float"
        },
        {
         "name": "beds",
         "rawType": "float64",
         "type": "float"
        },
        {
         "name": "price",
         "rawType": "float64",
         "type": "float"
        },
        {
         "name": "number_of_reviews",
         "rawType": "int64",
         "type": "integer"
        },
        {
         "name": "review_scores_rating",
         "rawType": "float64",
         "type": "float"
        },
        {
         "name": "review_scores_accuracy",
         "rawType": "float64",
         "type": "float"
        },
        {
         "name": "review_scores_cleanliness",
         "rawType": "float64",
         "type": "float"
        },
        {
         "name": "review_scores_checkin",
         "rawType": "float64",
         "type": "float"
        },
        {
         "name": "review_scores_communication",
         "rawType": "float64",
         "type": "float"
        },
        {
         "name": "review_scores_location",
         "rawType": "float64",
         "type": "float"
        },
        {
         "name": "reviews_per_month",
         "rawType": "float64",
         "type": "float"
        },
        {
         "name": "city",
         "rawType": "object",
         "type": "string"
        }
       ],
       "conversionMethod": "pd.DataFrame",
       "ref": "31c2d356-49e6-4fa7-b070-98d15310a457",
       "rows": [
        [
         "0",
         "11964",
         "Private room",
         "2",
         "2.0",
         "1.0",
         "1.0",
         "400.0",
         "78",
         "97.0",
         "100.0",
         "100.0",
         "100.0",
         "100.0",
         "100.0",
         "75.0",
         "malaga"
        ],
        [
         "1",
         "21853",
         "Private room",
         "1",
         "1.0",
         "1.0",
         "1.0",
         "170.0",
         "33",
         "92.0",
         "90.0",
         "90.0",
         "100.0",
         "100.0",
         "80.0",
         "52.0",
         "madrid"
        ],
        [
         "2",
         "32347",
         "Entire home/apt",
         "4",
         "1.0",
         "2.0",
         "2.0",
         "990.0",
         "148",
         "98.0",
         "100.0",
         "100.0",
         "100.0",
         "100.0",
         "100.0",
         "142.0",
         "sevilla"
        ],
        [
         "3",
         "35379",
         "Private room",
         "2",
         "2.0",
         "1.0",
         "1.0",
         "400.0",
         "292",
         "94.0",
         "100.0",
         "90.0",
         "100.0",
         "100.0",
         "100.0",
         "306.0",
         "barcelona"
        ],
        [
         "4",
         "35801",
         "Private room",
         "5",
         "1.0",
         "2.0",
         "5.0",
         "900.0",
         "36",
         "97.0",
         "100.0",
         "100.0",
         "100.0",
         "100.0",
         "100.0",
         "39.0",
         "girona"
        ],
        [
         "5",
         "48764",
         "Entire home/apt",
         "8",
         "2.0",
         "4.0",
         "5.0",
         "900.0",
         "25",
         "96.0",
         "100.0",
         "100.0",
         "100.0",
         "100.0",
         "90.0",
         "27.0",
         "girona"
        ],
        [
         "6",
         "58512",
         "Entire home/apt",
         "6",
         "2.0",
         "3.0",
         "4.0",
         "950.0",
         "382",
         "89.0",
         "90.0",
         "90.0",
         "90.0",
         "90.0",
         "90.0",
         "329.0",
         "barcelona"
        ],
        [
         "7",
         "71603",
         "Entire home/apt",
         "3",
         "2.0",
         "1.0",
         "4.0",
         "3900.0",
         "33",
         "94.0",
         "100.0",
         "100.0",
         "100.0",
         "90.0",
         "100.0",
         "42.0",
         "barcelona"
        ],
        [
         "8",
         "72150",
         "Entire home/apt",
         "5",
         "2.0",
         "3.0",
         "6.0",
         "790.0",
         "108",
         "91.0",
         "90.0",
         "90.0",
         "100.0",
         "100.0",
         "100.0",
         "91.0",
         "madrid"
        ],
        [
         "9",
         "73683",
         "Entire home/apt",
         "12",
         "2.0",
         "4.0",
         "14.0",
         "3000.0",
         "120",
         "92.0",
         "90.0",
         "90.0",
         "100.0",
         "100.0",
         "90.0",
         "14.0",
         "barcelona"
        ],
        [
         "10",
         "73692",
         "Entire home/apt",
         "5",
         "1.0",
         "2.0",
         "3.0",
         "1050.0",
         "29",
         "84.0",
         "90.0",
         "80.0",
         "100.0",
         "90.0",
         "100.0",
         "46.0",
         "barcelona"
        ],
        [
         "11",
         "79755",
         "Entire home/apt",
         "5",
         "2.0",
         "3.0",
         "4.0",
         "1100.0",
         "189",
         "98.0",
         "100.0",
         "100.0",
         "100.0",
         "100.0",
         "100.0",
         "234.0",
         "barcelona"
        ],
        [
         "12",
         "89756",
         "Entire home/apt",
         "9",
         "1.0",
         "3.0",
         "8.0",
         "2800.0",
         "9",
         "89.0",
         "90.0",
         "90.0",
         "100.0",
         "100.0",
         "90.0",
         "17.0",
         "barcelona"
        ],
        [
         "13",
         "89776",
         "Entire home/apt",
         "4",
         "1.0",
         "1.0",
         "2.0",
         "650.0",
         "322",
         "96.0",
         "100.0",
         "100.0",
         "100.0",
         "100.0",
         "100.0",
         "327.0",
         "barcelona"
        ],
        [
         "14",
         "89954",
         "Entire home/apt",
         "6",
         "1.0",
         "2.0",
         "3.0",
         "1030.0",
         "181",
         "97.0",
         "100.0",
         "100.0",
         "100.0",
         "100.0",
         "100.0",
         "202.0",
         "madrid"
        ],
        [
         "15",
         "96807",
         "Private room",
         "2",
         "1.0",
         "1.0",
         "2.0",
         "290.0",
         "77",
         "91.0",
         "90.0",
         "90.0",
         "90.0",
         "90.0",
         "80.0",
         "74.0",
         "madrid"
        ],
        [
         "16",
         "101580",
         "Entire home/apt",
         "16",
         "4.0",
         "4.0",
         "12.0",
         "950.0",
         "14",
         "99.0",
         "100.0",
         "100.0",
         "100.0",
         "100.0",
         "90.0",
         "73.0",
         "girona"
        ],
        [
         "17",
         "103386",
         "Entire home/apt",
         "5",
         "1.0",
         "2.0",
         "3.0",
         "840.0",
         "13",
         "93.0",
         "100.0",
         "100.0",
         "100.0",
         "90.0",
         "90.0",
         "13.0",
         "valencia"
        ],
        [
         "18",
         "107437",
         "Entire home/apt",
         "8",
         "2.0",
         "5.0",
         "6.0",
         "2200.0",
         "34",
         "93.0",
         "100.0",
         "100.0",
         "100.0",
         "100.0",
         "100.0",
         "38.0",
         "barcelona"
        ],
        [
         "19",
         "121210",
         "Private room",
         "2",
         "0.0",
         "1.0",
         "1.0",
         "510.0",
         "154",
         "89.0",
         "90.0",
         "90.0",
         "90.0",
         "90.0",
         "90.0",
         "184.0",
         "barcelona"
        ],
        [
         "20",
         "128463",
         "Private room",
         "2",
         "2.0",
         "1.0",
         "1.0",
         "300.0",
         "184",
         "97.0",
         "100.0",
         "100.0",
         "100.0",
         "100.0",
         "90.0",
         "235.0",
         "barcelona"
        ],
        [
         "21",
         "131987",
         "Entire home/apt",
         "4",
         "1.0",
         "1.0",
         "2.0",
         "690.0",
         "235",
         "98.0",
         "100.0",
         "100.0",
         "100.0",
         "100.0",
         "100.0",
         "235.0",
         "sevilla"
        ],
        [
         "22",
         "144471",
         "Private room",
         "2",
         "1.0",
         "1.0",
         "1.0",
         "490.0",
         "34",
         "88.0",
         "80.0",
         "90.0",
         "90.0",
         "90.0",
         "90.0",
         "38.0",
         "barcelona"
        ],
        [
         "23",
         "157327",
         "Entire home/apt",
         "8",
         "5.0",
         "4.0",
         "8.0",
         "950.0",
         "1",
         "80.0",
         "80.0",
         "100.0",
         "100.0",
         "100.0",
         "80.0",
         "2.0",
         "girona"
        ],
        [
         "24",
         "158238",
         "Entire home/apt",
         "8",
         "2.0",
         "4.0",
         "5.0",
         "1200.0",
         "97",
         "89.0",
         "90.0",
         "80.0",
         "100.0",
         "100.0",
         "90.0",
         "116.0",
         "barcelona"
        ],
        [
         "25",
         "164621",
         "Private room",
         "1",
         "1.0",
         "1.0",
         "0.0",
         "330.0",
         "44",
         "95.0",
         "100.0",
         "100.0",
         "100.0",
         "100.0",
         "90.0",
         "45.0",
         "mallorca"
        ],
        [
         "26",
         "170750",
         "Entire home/apt",
         "4",
         "1.0",
         "2.0",
         "4.0",
         "900.0",
         "189",
         "90.0",
         "90.0",
         "90.0",
         "100.0",
         "100.0",
         "100.0",
         "218.0",
         "madrid"
        ],
        [
         "27",
         "176827",
         "Private room",
         "7",
         "5.0",
         "1.0",
         "7.0",
         "280.0",
         "156",
         "83.0",
         "80.0",
         "90.0",
         "90.0",
         "90.0",
         "90.0",
         "248.0",
         "madrid"
        ],
        [
         "28",
         "178456",
         "Entire home/apt",
         "4",
         "1.0",
         "2.0",
         "2.0",
         "900.0",
         "33",
         "88.0",
         "90.0",
         "90.0",
         "90.0",
         "100.0",
         "90.0",
         "37.0",
         "mallorca"
        ],
        [
         "29",
         "183346",
         "Private room",
         "2",
         "2.0",
         "1.0",
         "1.0",
         "300.0",
         "12",
         "83.0",
         "90.0",
         "80.0",
         "90.0",
         "100.0",
         "90.0",
         "24.0",
         "madrid"
        ],
        [
         "30",
         "186221",
         "Private room",
         "1",
         "0.0",
         "1.0",
         "1.0",
         "150.0",
         "416",
         "89.0",
         "90.0",
         "100.0",
         "100.0",
         "90.0",
         "90.0",
         "607.0",
         "barcelona"
        ],
        [
         "31",
         "193923",
         "Private room",
         "1",
         "1.0",
         "1.0",
         "1.0",
         "200.0",
         "125",
         "98.0",
         "100.0",
         "100.0",
         "100.0",
         "100.0",
         "90.0",
         "121.0",
         "barcelona"
        ],
        [
         "32",
         "206846",
         "Entire home/apt",
         "2",
         "2.0",
         "1.0",
         "1.0",
         "1280.0",
         "77",
         "92.0",
         "90.0",
         "90.0",
         "90.0",
         "90.0",
         "100.0",
         "81.0",
         "barcelona"
        ],
        [
         "33",
         "210156",
         "Entire home/apt",
         "6",
         "2.0",
         "3.0",
         "4.0",
         "580.0",
         "90",
         "97.0",
         "100.0",
         "100.0",
         "100.0",
         "100.0",
         "90.0",
         "97.0",
         "mallorca"
        ],
        [
         "34",
         "213296",
         "Private room",
         "2",
         "1.0",
         "1.0",
         "1.0",
         "250.0",
         "168",
         "89.0",
         "90.0",
         "80.0",
         "90.0",
         "90.0",
         "100.0",
         "292.0",
         "barcelona"
        ],
        [
         "35",
         "214970",
         "Private room",
         "2",
         "1.0",
         "1.0",
         "1.0",
         "330.0",
         "144",
         "93.0",
         "90.0",
         "100.0",
         "90.0",
         "90.0",
         "90.0",
         "139.0",
         "barcelona"
        ],
        [
         "36",
         "222753",
         "Private room",
         "3",
         "1.0",
         "2.0",
         "2.0",
         "310.0",
         "172",
         "86.0",
         "90.0",
         "90.0",
         "100.0",
         "90.0",
         "90.0",
         "156.0",
         "valencia"
        ],
        [
         "37",
         "255195",
         "Entire home/apt",
         "4",
         "1.0",
         "1.0",
         "2.0",
         "330.0",
         "17",
         "85.0",
         "80.0",
         "80.0",
         "90.0",
         "90.0",
         "100.0",
         "16.0",
         "barcelona"
        ],
        [
         "38",
         "265647",
         "Entire home/apt",
         "6",
         "2.0",
         "3.0",
         "5.0",
         "1750.0",
         "8",
         "95.0",
         "90.0",
         "100.0",
         "100.0",
         "100.0",
         "90.0",
         "13.0",
         "girona"
        ],
        [
         "39",
         "279439",
         "Private room",
         "7",
         "2.0",
         "3.0",
         "4.0",
         "250.0",
         "102",
         "91.0",
         "90.0",
         "90.0",
         "100.0",
         "100.0",
         "90.0",
         "134.0",
         "barcelona"
        ],
        [
         "40",
         "305213",
         "Entire home/apt",
         "2",
         "1.0",
         "1.0",
         "1.0",
         "1050.0",
         "170",
         "95.0",
         "100.0",
         "100.0",
         "100.0",
         "100.0",
         "90.0",
         "272.0",
         "barcelona"
        ],
        [
         "41",
         "314781",
         "Private room",
         "2",
         "2.0",
         "1.0",
         "2.0",
         "1000.0",
         "13",
         "93.0",
         "90.0",
         "80.0",
         "100.0",
         "90.0",
         "100.0",
         "31.0",
         "barcelona"
        ],
        [
         "42",
         "318826",
         "Entire home/apt",
         "4",
         "1.0",
         "3.0",
         "3.0",
         "900.0",
         "11",
         "98.0",
         "100.0",
         "100.0",
         "100.0",
         "100.0",
         "90.0",
         "13.0",
         "madrid"
        ],
        [
         "43",
         "323679",
         "Entire home/apt",
         "4",
         "1.0",
         "2.0",
         "3.0",
         "550.0",
         "7",
         "86.0",
         "90.0",
         "90.0",
         "100.0",
         "100.0",
         "90.0",
         "8.0",
         "girona"
        ],
        [
         "44",
         "326464",
         "Private room",
         "2",
         "1.0",
         "1.0",
         "1.0",
         "600.0",
         "33",
         "99.0",
         "100.0",
         "100.0",
         "100.0",
         "100.0",
         "100.0",
         "43.0",
         "barcelona"
        ],
        [
         "45",
         "330723",
         "Private room",
         "2",
         "2.0",
         "1.0",
         "1.0",
         "300.0",
         "51",
         "93.0",
         "100.0",
         "100.0",
         "100.0",
         "90.0",
         "90.0",
         "49.0",
         "barcelona"
        ],
        [
         "46",
         "336795",
         "Private room",
         "2",
         "1.0",
         "1.0",
         "1.0",
         "250.0",
         "156",
         "73.0",
         "80.0",
         "70.0",
         "90.0",
         "90.0",
         "100.0",
         "162.0",
         "madrid"
        ],
        [
         "47",
         "342557",
         "Private room",
         "1",
         "1.0",
         "1.0",
         "1.0",
         "700.0",
         "55",
         "97.0",
         "100.0",
         "100.0",
         "100.0",
         "100.0",
         "100.0",
         "64.0",
         "madrid"
        ],
        [
         "48",
         "343864",
         "Entire home/apt",
         "6",
         "2.0",
         "3.0",
         "5.0",
         "1390.0",
         "7",
         "94.0",
         "100.0",
         "100.0",
         "100.0",
         "90.0",
         "100.0",
         "13.0",
         "barcelona"
        ],
        [
         "49",
         "352772",
         "Entire home/apt",
         "5",
         "1.0",
         "2.0",
         "4.0",
         "850.0",
         "103",
         "94.0",
         "100.0",
         "90.0",
         "90.0",
         "90.0",
         "90.0",
         "126.0",
         "barcelona"
        ]
       ],
       "shape": {
        "columns": 16,
        "rows": 7693
       }
      },
      "text/html": [
       "<div>\n",
       "<style scoped>\n",
       "    .dataframe tbody tr th:only-of-type {\n",
       "        vertical-align: middle;\n",
       "    }\n",
       "\n",
       "    .dataframe tbody tr th {\n",
       "        vertical-align: top;\n",
       "    }\n",
       "\n",
       "    .dataframe thead th {\n",
       "        text-align: right;\n",
       "    }\n",
       "</style>\n",
       "<table border=\"1\" class=\"dataframe\">\n",
       "  <thead>\n",
       "    <tr style=\"text-align: right;\">\n",
       "      <th></th>\n",
       "      <th>apartment_id</th>\n",
       "      <th>room_type</th>\n",
       "      <th>accommodates</th>\n",
       "      <th>bathrooms</th>\n",
       "      <th>bedrooms</th>\n",
       "      <th>beds</th>\n",
       "      <th>price</th>\n",
       "      <th>number_of_reviews</th>\n",
       "      <th>review_scores_rating</th>\n",
       "      <th>review_scores_accuracy</th>\n",
       "      <th>review_scores_cleanliness</th>\n",
       "      <th>review_scores_checkin</th>\n",
       "      <th>review_scores_communication</th>\n",
       "      <th>review_scores_location</th>\n",
       "      <th>reviews_per_month</th>\n",
       "      <th>city</th>\n",
       "    </tr>\n",
       "  </thead>\n",
       "  <tbody>\n",
       "    <tr>\n",
       "      <th>0</th>\n",
       "      <td>11964</td>\n",
       "      <td>Private room</td>\n",
       "      <td>2</td>\n",
       "      <td>2.0</td>\n",
       "      <td>1.0</td>\n",
       "      <td>1.0</td>\n",
       "      <td>400.0</td>\n",
       "      <td>78</td>\n",
       "      <td>97.0</td>\n",
       "      <td>100.0</td>\n",
       "      <td>100.0</td>\n",
       "      <td>100.0</td>\n",
       "      <td>100.0</td>\n",
       "      <td>100.0</td>\n",
       "      <td>75.0</td>\n",
       "      <td>malaga</td>\n",
       "    </tr>\n",
       "    <tr>\n",
       "      <th>1</th>\n",
       "      <td>21853</td>\n",
       "      <td>Private room</td>\n",
       "      <td>1</td>\n",
       "      <td>1.0</td>\n",
       "      <td>1.0</td>\n",
       "      <td>1.0</td>\n",
       "      <td>170.0</td>\n",
       "      <td>33</td>\n",
       "      <td>92.0</td>\n",
       "      <td>90.0</td>\n",
       "      <td>90.0</td>\n",
       "      <td>100.0</td>\n",
       "      <td>100.0</td>\n",
       "      <td>80.0</td>\n",
       "      <td>52.0</td>\n",
       "      <td>madrid</td>\n",
       "    </tr>\n",
       "    <tr>\n",
       "      <th>2</th>\n",
       "      <td>32347</td>\n",
       "      <td>Entire home/apt</td>\n",
       "      <td>4</td>\n",
       "      <td>1.0</td>\n",
       "      <td>2.0</td>\n",
       "      <td>2.0</td>\n",
       "      <td>990.0</td>\n",
       "      <td>148</td>\n",
       "      <td>98.0</td>\n",
       "      <td>100.0</td>\n",
       "      <td>100.0</td>\n",
       "      <td>100.0</td>\n",
       "      <td>100.0</td>\n",
       "      <td>100.0</td>\n",
       "      <td>142.0</td>\n",
       "      <td>sevilla</td>\n",
       "    </tr>\n",
       "    <tr>\n",
       "      <th>3</th>\n",
       "      <td>35379</td>\n",
       "      <td>Private room</td>\n",
       "      <td>2</td>\n",
       "      <td>2.0</td>\n",
       "      <td>1.0</td>\n",
       "      <td>1.0</td>\n",
       "      <td>400.0</td>\n",
       "      <td>292</td>\n",
       "      <td>94.0</td>\n",
       "      <td>100.0</td>\n",
       "      <td>90.0</td>\n",
       "      <td>100.0</td>\n",
       "      <td>100.0</td>\n",
       "      <td>100.0</td>\n",
       "      <td>306.0</td>\n",
       "      <td>barcelona</td>\n",
       "    </tr>\n",
       "    <tr>\n",
       "      <th>4</th>\n",
       "      <td>35801</td>\n",
       "      <td>Private room</td>\n",
       "      <td>5</td>\n",
       "      <td>1.0</td>\n",
       "      <td>2.0</td>\n",
       "      <td>5.0</td>\n",
       "      <td>900.0</td>\n",
       "      <td>36</td>\n",
       "      <td>97.0</td>\n",
       "      <td>100.0</td>\n",
       "      <td>100.0</td>\n",
       "      <td>100.0</td>\n",
       "      <td>100.0</td>\n",
       "      <td>100.0</td>\n",
       "      <td>39.0</td>\n",
       "      <td>girona</td>\n",
       "    </tr>\n",
       "    <tr>\n",
       "      <th>...</th>\n",
       "      <td>...</td>\n",
       "      <td>...</td>\n",
       "      <td>...</td>\n",
       "      <td>...</td>\n",
       "      <td>...</td>\n",
       "      <td>...</td>\n",
       "      <td>...</td>\n",
       "      <td>...</td>\n",
       "      <td>...</td>\n",
       "      <td>...</td>\n",
       "      <td>...</td>\n",
       "      <td>...</td>\n",
       "      <td>...</td>\n",
       "      <td>...</td>\n",
       "      <td>...</td>\n",
       "      <td>...</td>\n",
       "    </tr>\n",
       "    <tr>\n",
       "      <th>7688</th>\n",
       "      <td>32392193</td>\n",
       "      <td>Private room</td>\n",
       "      <td>1</td>\n",
       "      <td>1.0</td>\n",
       "      <td>1.0</td>\n",
       "      <td>1.0</td>\n",
       "      <td>3000.0</td>\n",
       "      <td>0</td>\n",
       "      <td>94.0</td>\n",
       "      <td>100.0</td>\n",
       "      <td>90.0</td>\n",
       "      <td>100.0</td>\n",
       "      <td>100.0</td>\n",
       "      <td>100.0</td>\n",
       "      <td>88.0</td>\n",
       "      <td>barcelona</td>\n",
       "    </tr>\n",
       "    <tr>\n",
       "      <th>7689</th>\n",
       "      <td>32392774</td>\n",
       "      <td>Entire home/apt</td>\n",
       "      <td>6</td>\n",
       "      <td>2.0</td>\n",
       "      <td>3.0</td>\n",
       "      <td>4.0</td>\n",
       "      <td>2090.0</td>\n",
       "      <td>36</td>\n",
       "      <td>100.0</td>\n",
       "      <td>100.0</td>\n",
       "      <td>100.0</td>\n",
       "      <td>100.0</td>\n",
       "      <td>100.0</td>\n",
       "      <td>100.0</td>\n",
       "      <td>157.0</td>\n",
       "      <td>sevilla</td>\n",
       "    </tr>\n",
       "    <tr>\n",
       "      <th>7690</th>\n",
       "      <td>32395123</td>\n",
       "      <td>Entire home/apt</td>\n",
       "      <td>2</td>\n",
       "      <td>1.0</td>\n",
       "      <td>1.0</td>\n",
       "      <td>2.0</td>\n",
       "      <td>930.0</td>\n",
       "      <td>0</td>\n",
       "      <td>96.0</td>\n",
       "      <td>100.0</td>\n",
       "      <td>100.0</td>\n",
       "      <td>100.0</td>\n",
       "      <td>100.0</td>\n",
       "      <td>100.0</td>\n",
       "      <td>25.0</td>\n",
       "      <td>mallorca</td>\n",
       "    </tr>\n",
       "    <tr>\n",
       "      <th>7691</th>\n",
       "      <td>32407332</td>\n",
       "      <td>Private room</td>\n",
       "      <td>3</td>\n",
       "      <td>2.0</td>\n",
       "      <td>2.0</td>\n",
       "      <td>2.0</td>\n",
       "      <td>960.0</td>\n",
       "      <td>21</td>\n",
       "      <td>98.0</td>\n",
       "      <td>100.0</td>\n",
       "      <td>100.0</td>\n",
       "      <td>100.0</td>\n",
       "      <td>100.0</td>\n",
       "      <td>100.0</td>\n",
       "      <td>389.0</td>\n",
       "      <td>barcelona</td>\n",
       "    </tr>\n",
       "    <tr>\n",
       "      <th>7692</th>\n",
       "      <td>32423292</td>\n",
       "      <td>Entire home/apt</td>\n",
       "      <td>4</td>\n",
       "      <td>2.0</td>\n",
       "      <td>1.0</td>\n",
       "      <td>2.0</td>\n",
       "      <td>500.0</td>\n",
       "      <td>3</td>\n",
       "      <td>93.0</td>\n",
       "      <td>90.0</td>\n",
       "      <td>90.0</td>\n",
       "      <td>90.0</td>\n",
       "      <td>90.0</td>\n",
       "      <td>90.0</td>\n",
       "      <td>68.0</td>\n",
       "      <td>girona</td>\n",
       "    </tr>\n",
       "  </tbody>\n",
       "</table>\n",
       "<p>7693 rows × 16 columns</p>\n",
       "</div>"
      ],
      "text/plain": [
       "      apartment_id        room_type  accommodates  bathrooms  bedrooms  beds  \\\n",
       "0            11964     Private room             2        2.0       1.0   1.0   \n",
       "1            21853     Private room             1        1.0       1.0   1.0   \n",
       "2            32347  Entire home/apt             4        1.0       2.0   2.0   \n",
       "3            35379     Private room             2        2.0       1.0   1.0   \n",
       "4            35801     Private room             5        1.0       2.0   5.0   \n",
       "...            ...              ...           ...        ...       ...   ...   \n",
       "7688      32392193     Private room             1        1.0       1.0   1.0   \n",
       "7689      32392774  Entire home/apt             6        2.0       3.0   4.0   \n",
       "7690      32395123  Entire home/apt             2        1.0       1.0   2.0   \n",
       "7691      32407332     Private room             3        2.0       2.0   2.0   \n",
       "7692      32423292  Entire home/apt             4        2.0       1.0   2.0   \n",
       "\n",
       "       price  number_of_reviews  review_scores_rating  review_scores_accuracy  \\\n",
       "0      400.0                 78                  97.0                   100.0   \n",
       "1      170.0                 33                  92.0                    90.0   \n",
       "2      990.0                148                  98.0                   100.0   \n",
       "3      400.0                292                  94.0                   100.0   \n",
       "4      900.0                 36                  97.0                   100.0   \n",
       "...      ...                ...                   ...                     ...   \n",
       "7688  3000.0                  0                  94.0                   100.0   \n",
       "7689  2090.0                 36                 100.0                   100.0   \n",
       "7690   930.0                  0                  96.0                   100.0   \n",
       "7691   960.0                 21                  98.0                   100.0   \n",
       "7692   500.0                  3                  93.0                    90.0   \n",
       "\n",
       "      review_scores_cleanliness  review_scores_checkin  \\\n",
       "0                         100.0                  100.0   \n",
       "1                          90.0                  100.0   \n",
       "2                         100.0                  100.0   \n",
       "3                          90.0                  100.0   \n",
       "4                         100.0                  100.0   \n",
       "...                         ...                    ...   \n",
       "7688                       90.0                  100.0   \n",
       "7689                      100.0                  100.0   \n",
       "7690                      100.0                  100.0   \n",
       "7691                      100.0                  100.0   \n",
       "7692                       90.0                   90.0   \n",
       "\n",
       "      review_scores_communication  review_scores_location  reviews_per_month  \\\n",
       "0                           100.0                   100.0               75.0   \n",
       "1                           100.0                    80.0               52.0   \n",
       "2                           100.0                   100.0              142.0   \n",
       "3                           100.0                   100.0              306.0   \n",
       "4                           100.0                   100.0               39.0   \n",
       "...                           ...                     ...                ...   \n",
       "7688                        100.0                   100.0               88.0   \n",
       "7689                        100.0                   100.0              157.0   \n",
       "7690                        100.0                   100.0               25.0   \n",
       "7691                        100.0                   100.0              389.0   \n",
       "7692                         90.0                    90.0               68.0   \n",
       "\n",
       "           city  \n",
       "0        malaga  \n",
       "1        madrid  \n",
       "2       sevilla  \n",
       "3     barcelona  \n",
       "4        girona  \n",
       "...         ...  \n",
       "7688  barcelona  \n",
       "7689    sevilla  \n",
       "7690   mallorca  \n",
       "7691  barcelona  \n",
       "7692     girona  \n",
       "\n",
       "[7693 rows x 16 columns]"
      ]
     },
     "execution_count": 27,
     "metadata": {},
     "output_type": "execute_result"
    }
   ],
   "source": [
    "# Creación dataset:\n",
    "df_cl = df[['apartment_id','room_type','accommodates','bathrooms','bedrooms','beds','price',\n",
    "                    'number_of_reviews','review_scores_rating','review_scores_accuracy','review_scores_cleanliness',\n",
    "                    'review_scores_checkin','review_scores_communication','review_scores_location','reviews_per_month','city']]\n",
    "\n",
    "# Visualiza el dataset:\n",
    "df_cl"
   ]
  },
  {
   "cell_type": "markdown",
   "id": "0ab69ee3",
   "metadata": {},
   "source": [
    "Analista de experiencia del cliente:\n",
    "¿Qué aspectos (precisión de los detalles, limpieza, check-in o comunicación) presentan mayores diferencias entre los alojamientos mejor y peor valorados en la puntuación general?"
   ]
  },
  {
   "cell_type": "code",
   "execution_count": 28,
   "id": "77ffff7a",
   "metadata": {},
   "outputs": [
    {
     "data": {
      "application/vnd.plotly.v1+json": {
       "config": {
        "plotlyServerURL": "https://plot.ly"
       },
       "data": [
        {
         "marker": {
          "color": "#8BAE3F"
         },
         "name": "Alta puntuación",
         "type": "bar",
         "x": [
          "Accuracy",
          "Cleanliness",
          "Checkin",
          "Communication"
         ],
         "y": {
          "bdata": "W0DYY1GkWEAOypm3rG9YQN997qgXplhA46Ccecu6WEA=",
          "dtype": "f8"
         }
        },
        {
         "marker": {
          "color": "#2D6A4F"
         },
         "name": "Baja puntuación",
         "type": "bar",
         "x": [
          "Accuracy",
          "Cleanliness",
          "Checkin",
          "Communication"
         ],
         "y": {
          "bdata": "pSuVgwZGVEDNXfBXcQJUQBZu3yFsylVARNgU4GinVUA=",
          "dtype": "f8"
         }
        }
       ],
       "layout": {
        "barmode": "group",
        "font": {
         "size": 14
        },
        "template": {
         "data": {
          "bar": [
           {
            "error_x": {
             "color": "#2a3f5f"
            },
            "error_y": {
             "color": "#2a3f5f"
            },
            "marker": {
             "line": {
              "color": "white",
              "width": 0.5
             },
             "pattern": {
              "fillmode": "overlay",
              "size": 10,
              "solidity": 0.2
             }
            },
            "type": "bar"
           }
          ],
          "barpolar": [
           {
            "marker": {
             "line": {
              "color": "white",
              "width": 0.5
             },
             "pattern": {
              "fillmode": "overlay",
              "size": 10,
              "solidity": 0.2
             }
            },
            "type": "barpolar"
           }
          ],
          "carpet": [
           {
            "aaxis": {
             "endlinecolor": "#2a3f5f",
             "gridcolor": "#C8D4E3",
             "linecolor": "#C8D4E3",
             "minorgridcolor": "#C8D4E3",
             "startlinecolor": "#2a3f5f"
            },
            "baxis": {
             "endlinecolor": "#2a3f5f",
             "gridcolor": "#C8D4E3",
             "linecolor": "#C8D4E3",
             "minorgridcolor": "#C8D4E3",
             "startlinecolor": "#2a3f5f"
            },
            "type": "carpet"
           }
          ],
          "choropleth": [
           {
            "colorbar": {
             "outlinewidth": 0,
             "ticks": ""
            },
            "type": "choropleth"
           }
          ],
          "contour": [
           {
            "colorbar": {
             "outlinewidth": 0,
             "ticks": ""
            },
            "colorscale": [
             [
              0,
              "#0d0887"
             ],
             [
              0.1111111111111111,
              "#46039f"
             ],
             [
              0.2222222222222222,
              "#7201a8"
             ],
             [
              0.3333333333333333,
              "#9c179e"
             ],
             [
              0.4444444444444444,
              "#bd3786"
             ],
             [
              0.5555555555555556,
              "#d8576b"
             ],
             [
              0.6666666666666666,
              "#ed7953"
             ],
             [
              0.7777777777777778,
              "#fb9f3a"
             ],
             [
              0.8888888888888888,
              "#fdca26"
             ],
             [
              1,
              "#f0f921"
             ]
            ],
            "type": "contour"
           }
          ],
          "contourcarpet": [
           {
            "colorbar": {
             "outlinewidth": 0,
             "ticks": ""
            },
            "type": "contourcarpet"
           }
          ],
          "heatmap": [
           {
            "colorbar": {
             "outlinewidth": 0,
             "ticks": ""
            },
            "colorscale": [
             [
              0,
              "#0d0887"
             ],
             [
              0.1111111111111111,
              "#46039f"
             ],
             [
              0.2222222222222222,
              "#7201a8"
             ],
             [
              0.3333333333333333,
              "#9c179e"
             ],
             [
              0.4444444444444444,
              "#bd3786"
             ],
             [
              0.5555555555555556,
              "#d8576b"
             ],
             [
              0.6666666666666666,
              "#ed7953"
             ],
             [
              0.7777777777777778,
              "#fb9f3a"
             ],
             [
              0.8888888888888888,
              "#fdca26"
             ],
             [
              1,
              "#f0f921"
             ]
            ],
            "type": "heatmap"
           }
          ],
          "histogram": [
           {
            "marker": {
             "pattern": {
              "fillmode": "overlay",
              "size": 10,
              "solidity": 0.2
             }
            },
            "type": "histogram"
           }
          ],
          "histogram2d": [
           {
            "colorbar": {
             "outlinewidth": 0,
             "ticks": ""
            },
            "colorscale": [
             [
              0,
              "#0d0887"
             ],
             [
              0.1111111111111111,
              "#46039f"
             ],
             [
              0.2222222222222222,
              "#7201a8"
             ],
             [
              0.3333333333333333,
              "#9c179e"
             ],
             [
              0.4444444444444444,
              "#bd3786"
             ],
             [
              0.5555555555555556,
              "#d8576b"
             ],
             [
              0.6666666666666666,
              "#ed7953"
             ],
             [
              0.7777777777777778,
              "#fb9f3a"
             ],
             [
              0.8888888888888888,
              "#fdca26"
             ],
             [
              1,
              "#f0f921"
             ]
            ],
            "type": "histogram2d"
           }
          ],
          "histogram2dcontour": [
           {
            "colorbar": {
             "outlinewidth": 0,
             "ticks": ""
            },
            "colorscale": [
             [
              0,
              "#0d0887"
             ],
             [
              0.1111111111111111,
              "#46039f"
             ],
             [
              0.2222222222222222,
              "#7201a8"
             ],
             [
              0.3333333333333333,
              "#9c179e"
             ],
             [
              0.4444444444444444,
              "#bd3786"
             ],
             [
              0.5555555555555556,
              "#d8576b"
             ],
             [
              0.6666666666666666,
              "#ed7953"
             ],
             [
              0.7777777777777778,
              "#fb9f3a"
             ],
             [
              0.8888888888888888,
              "#fdca26"
             ],
             [
              1,
              "#f0f921"
             ]
            ],
            "type": "histogram2dcontour"
           }
          ],
          "mesh3d": [
           {
            "colorbar": {
             "outlinewidth": 0,
             "ticks": ""
            },
            "type": "mesh3d"
           }
          ],
          "parcoords": [
           {
            "line": {
             "colorbar": {
              "outlinewidth": 0,
              "ticks": ""
             }
            },
            "type": "parcoords"
           }
          ],
          "pie": [
           {
            "automargin": true,
            "type": "pie"
           }
          ],
          "scatter": [
           {
            "fillpattern": {
             "fillmode": "overlay",
             "size": 10,
             "solidity": 0.2
            },
            "type": "scatter"
           }
          ],
          "scatter3d": [
           {
            "line": {
             "colorbar": {
              "outlinewidth": 0,
              "ticks": ""
             }
            },
            "marker": {
             "colorbar": {
              "outlinewidth": 0,
              "ticks": ""
             }
            },
            "type": "scatter3d"
           }
          ],
          "scattercarpet": [
           {
            "marker": {
             "colorbar": {
              "outlinewidth": 0,
              "ticks": ""
             }
            },
            "type": "scattercarpet"
           }
          ],
          "scattergeo": [
           {
            "marker": {
             "colorbar": {
              "outlinewidth": 0,
              "ticks": ""
             }
            },
            "type": "scattergeo"
           }
          ],
          "scattergl": [
           {
            "marker": {
             "colorbar": {
              "outlinewidth": 0,
              "ticks": ""
             }
            },
            "type": "scattergl"
           }
          ],
          "scattermap": [
           {
            "marker": {
             "colorbar": {
              "outlinewidth": 0,
              "ticks": ""
             }
            },
            "type": "scattermap"
           }
          ],
          "scattermapbox": [
           {
            "marker": {
             "colorbar": {
              "outlinewidth": 0,
              "ticks": ""
             }
            },
            "type": "scattermapbox"
           }
          ],
          "scatterpolar": [
           {
            "marker": {
             "colorbar": {
              "outlinewidth": 0,
              "ticks": ""
             }
            },
            "type": "scatterpolar"
           }
          ],
          "scatterpolargl": [
           {
            "marker": {
             "colorbar": {
              "outlinewidth": 0,
              "ticks": ""
             }
            },
            "type": "scatterpolargl"
           }
          ],
          "scatterternary": [
           {
            "marker": {
             "colorbar": {
              "outlinewidth": 0,
              "ticks": ""
             }
            },
            "type": "scatterternary"
           }
          ],
          "surface": [
           {
            "colorbar": {
             "outlinewidth": 0,
             "ticks": ""
            },
            "colorscale": [
             [
              0,
              "#0d0887"
             ],
             [
              0.1111111111111111,
              "#46039f"
             ],
             [
              0.2222222222222222,
              "#7201a8"
             ],
             [
              0.3333333333333333,
              "#9c179e"
             ],
             [
              0.4444444444444444,
              "#bd3786"
             ],
             [
              0.5555555555555556,
              "#d8576b"
             ],
             [
              0.6666666666666666,
              "#ed7953"
             ],
             [
              0.7777777777777778,
              "#fb9f3a"
             ],
             [
              0.8888888888888888,
              "#fdca26"
             ],
             [
              1,
              "#f0f921"
             ]
            ],
            "type": "surface"
           }
          ],
          "table": [
           {
            "cells": {
             "fill": {
              "color": "#EBF0F8"
             },
             "line": {
              "color": "white"
             }
            },
            "header": {
             "fill": {
              "color": "#C8D4E3"
             },
             "line": {
              "color": "white"
             }
            },
            "type": "table"
           }
          ]
         },
         "layout": {
          "annotationdefaults": {
           "arrowcolor": "#2a3f5f",
           "arrowhead": 0,
           "arrowwidth": 1
          },
          "autotypenumbers": "strict",
          "coloraxis": {
           "colorbar": {
            "outlinewidth": 0,
            "ticks": ""
           }
          },
          "colorscale": {
           "diverging": [
            [
             0,
             "#8e0152"
            ],
            [
             0.1,
             "#c51b7d"
            ],
            [
             0.2,
             "#de77ae"
            ],
            [
             0.3,
             "#f1b6da"
            ],
            [
             0.4,
             "#fde0ef"
            ],
            [
             0.5,
             "#f7f7f7"
            ],
            [
             0.6,
             "#e6f5d0"
            ],
            [
             0.7,
             "#b8e186"
            ],
            [
             0.8,
             "#7fbc41"
            ],
            [
             0.9,
             "#4d9221"
            ],
            [
             1,
             "#276419"
            ]
           ],
           "sequential": [
            [
             0,
             "#0d0887"
            ],
            [
             0.1111111111111111,
             "#46039f"
            ],
            [
             0.2222222222222222,
             "#7201a8"
            ],
            [
             0.3333333333333333,
             "#9c179e"
            ],
            [
             0.4444444444444444,
             "#bd3786"
            ],
            [
             0.5555555555555556,
             "#d8576b"
            ],
            [
             0.6666666666666666,
             "#ed7953"
            ],
            [
             0.7777777777777778,
             "#fb9f3a"
            ],
            [
             0.8888888888888888,
             "#fdca26"
            ],
            [
             1,
             "#f0f921"
            ]
           ],
           "sequentialminus": [
            [
             0,
             "#0d0887"
            ],
            [
             0.1111111111111111,
             "#46039f"
            ],
            [
             0.2222222222222222,
             "#7201a8"
            ],
            [
             0.3333333333333333,
             "#9c179e"
            ],
            [
             0.4444444444444444,
             "#bd3786"
            ],
            [
             0.5555555555555556,
             "#d8576b"
            ],
            [
             0.6666666666666666,
             "#ed7953"
            ],
            [
             0.7777777777777778,
             "#fb9f3a"
            ],
            [
             0.8888888888888888,
             "#fdca26"
            ],
            [
             1,
             "#f0f921"
            ]
           ]
          },
          "colorway": [
           "#636efa",
           "#EF553B",
           "#00cc96",
           "#ab63fa",
           "#FFA15A",
           "#19d3f3",
           "#FF6692",
           "#B6E880",
           "#FF97FF",
           "#FECB52"
          ],
          "font": {
           "color": "#2a3f5f"
          },
          "geo": {
           "bgcolor": "white",
           "lakecolor": "white",
           "landcolor": "white",
           "showlakes": true,
           "showland": true,
           "subunitcolor": "#C8D4E3"
          },
          "hoverlabel": {
           "align": "left"
          },
          "hovermode": "closest",
          "mapbox": {
           "style": "light"
          },
          "paper_bgcolor": "white",
          "plot_bgcolor": "white",
          "polar": {
           "angularaxis": {
            "gridcolor": "#EBF0F8",
            "linecolor": "#EBF0F8",
            "ticks": ""
           },
           "bgcolor": "white",
           "radialaxis": {
            "gridcolor": "#EBF0F8",
            "linecolor": "#EBF0F8",
            "ticks": ""
           }
          },
          "scene": {
           "xaxis": {
            "backgroundcolor": "white",
            "gridcolor": "#DFE8F3",
            "gridwidth": 2,
            "linecolor": "#EBF0F8",
            "showbackground": true,
            "ticks": "",
            "zerolinecolor": "#EBF0F8"
           },
           "yaxis": {
            "backgroundcolor": "white",
            "gridcolor": "#DFE8F3",
            "gridwidth": 2,
            "linecolor": "#EBF0F8",
            "showbackground": true,
            "ticks": "",
            "zerolinecolor": "#EBF0F8"
           },
           "zaxis": {
            "backgroundcolor": "white",
            "gridcolor": "#DFE8F3",
            "gridwidth": 2,
            "linecolor": "#EBF0F8",
            "showbackground": true,
            "ticks": "",
            "zerolinecolor": "#EBF0F8"
           }
          },
          "shapedefaults": {
           "line": {
            "color": "#2a3f5f"
           }
          },
          "ternary": {
           "aaxis": {
            "gridcolor": "#DFE8F3",
            "linecolor": "#A2B1C6",
            "ticks": ""
           },
           "baxis": {
            "gridcolor": "#DFE8F3",
            "linecolor": "#A2B1C6",
            "ticks": ""
           },
           "bgcolor": "white",
           "caxis": {
            "gridcolor": "#DFE8F3",
            "linecolor": "#A2B1C6",
            "ticks": ""
           }
          },
          "title": {
           "x": 0.05
          },
          "xaxis": {
           "automargin": true,
           "gridcolor": "#EBF0F8",
           "linecolor": "#EBF0F8",
           "ticks": "",
           "title": {
            "standoff": 15
           },
           "zerolinecolor": "#EBF0F8",
           "zerolinewidth": 2
          },
          "yaxis": {
           "automargin": true,
           "gridcolor": "#EBF0F8",
           "linecolor": "#EBF0F8",
           "ticks": "",
           "title": {
            "standoff": 15
           },
           "zerolinecolor": "#EBF0F8",
           "zerolinewidth": 2
          }
         }
        },
        "title": {
         "text": "Comparación de aspectos entre alojamientos mejor y peor valorados"
        },
        "xaxis": {
         "title": {
          "text": "Aspecto de la experiencia del cliente"
         }
        },
        "yaxis": {
         "title": {
          "text": "Puntuación promedio"
         }
        }
       }
      }
     },
     "metadata": {},
     "output_type": "display_data"
    }
   ],
   "source": [
    "\n",
    "# Entre el 10 % de alojamientos con mejor y peor valoración general\n",
    "\n",
    "import plotly.graph_objects as go\n",
    "\n",
    "# Eliminar valores faltantes en las columnas relevantes\n",
    "cols = [\n",
    "    'review_scores_rating',\n",
    "    'review_scores_accuracy',\n",
    "    'review_scores_cleanliness',\n",
    "    'review_scores_checkin',\n",
    "    'review_scores_communication'\n",
    "]\n",
    "df = df_cl[cols].dropna()\n",
    "\n",
    "# Definir percentiles para dividir los grupos\n",
    "q90 = df['review_scores_rating'].quantile(0.90)\n",
    "q10 = df['review_scores_rating'].quantile(0.10)\n",
    "\n",
    "# Agrupar datos\n",
    "high = df[df['review_scores_rating'] >= q90]\n",
    "low = df[df['review_scores_rating'] <= q10]\n",
    "\n",
    "# Calcular promedios\n",
    "mean_high = high.iloc[:, 1:].mean()\n",
    "mean_low = low.iloc[:, 1:].mean()\n",
    "\n",
    "# Crear etiquetas más legibles para el eje X\n",
    "aspects = mean_high.index.str.replace('review_scores_', '').str.capitalize()\n",
    "\n",
    "# Crear gráfico de barras doble\n",
    "fig = go.Figure(data=[\n",
    "    go.Bar(\n",
    "        name='Alta puntuación',\n",
    "        x=aspects,\n",
    "        y=mean_high.values,\n",
    "        marker_color='#8BAE3F'  # Verde lima\n",
    "    ),\n",
    "    go.Bar(\n",
    "        name='Baja puntuación',\n",
    "        x=aspects,\n",
    "        y=mean_low.values,\n",
    "        marker_color='#2D6A4F'  # Verde bosque oscuro\n",
    "    )\n",
    "])\n",
    "\n",
    "# Configuración del diseño del gráfico\n",
    "fig.update_layout(\n",
    "    title='Comparación de aspectos entre alojamientos mejor y peor valorados',\n",
    "    xaxis_title='Aspecto de la experiencia del cliente',\n",
    "    yaxis_title='Puntuación promedio',\n",
    "    barmode='group',\n",
    "    template='plotly_white',\n",
    "    font=dict(size=14)\n",
    ")\n",
    "\n",
    "fig.show()\n"
   ]
  },
  {
   "cell_type": "code",
   "execution_count": 29,
   "id": "1a5e4c30",
   "metadata": {},
   "outputs": [
    {
     "data": {
      "application/vnd.plotly.v1+json": {
       "config": {
        "plotlyServerURL": "https://plot.ly"
       },
       "data": [
        {
         "marker": {
          "color": [
           "#8BAE3F",
           "#8BAE3F",
           "#8BAE3F",
           "#8BAE3F"
          ]
         },
         "text": [
          "22.62",
          "22.11",
          "16.37",
          "17.29"
         ],
         "textposition": "outside",
         "type": "bar",
         "x": [
          "Precisión",
          "Limpieza",
          "Check-in",
          "Comunicación"
         ],
         "y": {
          "bdata": "sBmmzuueNkA4LaNbUR02QDjZRAqqXTBAFJfECfhIMUA=",
          "dtype": "f8"
         }
        }
       ],
       "layout": {
        "template": {
         "data": {
          "bar": [
           {
            "error_x": {
             "color": "#2a3f5f"
            },
            "error_y": {
             "color": "#2a3f5f"
            },
            "marker": {
             "line": {
              "color": "white",
              "width": 0.5
             },
             "pattern": {
              "fillmode": "overlay",
              "size": 10,
              "solidity": 0.2
             }
            },
            "type": "bar"
           }
          ],
          "barpolar": [
           {
            "marker": {
             "line": {
              "color": "white",
              "width": 0.5
             },
             "pattern": {
              "fillmode": "overlay",
              "size": 10,
              "solidity": 0.2
             }
            },
            "type": "barpolar"
           }
          ],
          "carpet": [
           {
            "aaxis": {
             "endlinecolor": "#2a3f5f",
             "gridcolor": "#C8D4E3",
             "linecolor": "#C8D4E3",
             "minorgridcolor": "#C8D4E3",
             "startlinecolor": "#2a3f5f"
            },
            "baxis": {
             "endlinecolor": "#2a3f5f",
             "gridcolor": "#C8D4E3",
             "linecolor": "#C8D4E3",
             "minorgridcolor": "#C8D4E3",
             "startlinecolor": "#2a3f5f"
            },
            "type": "carpet"
           }
          ],
          "choropleth": [
           {
            "colorbar": {
             "outlinewidth": 0,
             "ticks": ""
            },
            "type": "choropleth"
           }
          ],
          "contour": [
           {
            "colorbar": {
             "outlinewidth": 0,
             "ticks": ""
            },
            "colorscale": [
             [
              0,
              "#0d0887"
             ],
             [
              0.1111111111111111,
              "#46039f"
             ],
             [
              0.2222222222222222,
              "#7201a8"
             ],
             [
              0.3333333333333333,
              "#9c179e"
             ],
             [
              0.4444444444444444,
              "#bd3786"
             ],
             [
              0.5555555555555556,
              "#d8576b"
             ],
             [
              0.6666666666666666,
              "#ed7953"
             ],
             [
              0.7777777777777778,
              "#fb9f3a"
             ],
             [
              0.8888888888888888,
              "#fdca26"
             ],
             [
              1,
              "#f0f921"
             ]
            ],
            "type": "contour"
           }
          ],
          "contourcarpet": [
           {
            "colorbar": {
             "outlinewidth": 0,
             "ticks": ""
            },
            "type": "contourcarpet"
           }
          ],
          "heatmap": [
           {
            "colorbar": {
             "outlinewidth": 0,
             "ticks": ""
            },
            "colorscale": [
             [
              0,
              "#0d0887"
             ],
             [
              0.1111111111111111,
              "#46039f"
             ],
             [
              0.2222222222222222,
              "#7201a8"
             ],
             [
              0.3333333333333333,
              "#9c179e"
             ],
             [
              0.4444444444444444,
              "#bd3786"
             ],
             [
              0.5555555555555556,
              "#d8576b"
             ],
             [
              0.6666666666666666,
              "#ed7953"
             ],
             [
              0.7777777777777778,
              "#fb9f3a"
             ],
             [
              0.8888888888888888,
              "#fdca26"
             ],
             [
              1,
              "#f0f921"
             ]
            ],
            "type": "heatmap"
           }
          ],
          "histogram": [
           {
            "marker": {
             "pattern": {
              "fillmode": "overlay",
              "size": 10,
              "solidity": 0.2
             }
            },
            "type": "histogram"
           }
          ],
          "histogram2d": [
           {
            "colorbar": {
             "outlinewidth": 0,
             "ticks": ""
            },
            "colorscale": [
             [
              0,
              "#0d0887"
             ],
             [
              0.1111111111111111,
              "#46039f"
             ],
             [
              0.2222222222222222,
              "#7201a8"
             ],
             [
              0.3333333333333333,
              "#9c179e"
             ],
             [
              0.4444444444444444,
              "#bd3786"
             ],
             [
              0.5555555555555556,
              "#d8576b"
             ],
             [
              0.6666666666666666,
              "#ed7953"
             ],
             [
              0.7777777777777778,
              "#fb9f3a"
             ],
             [
              0.8888888888888888,
              "#fdca26"
             ],
             [
              1,
              "#f0f921"
             ]
            ],
            "type": "histogram2d"
           }
          ],
          "histogram2dcontour": [
           {
            "colorbar": {
             "outlinewidth": 0,
             "ticks": ""
            },
            "colorscale": [
             [
              0,
              "#0d0887"
             ],
             [
              0.1111111111111111,
              "#46039f"
             ],
             [
              0.2222222222222222,
              "#7201a8"
             ],
             [
              0.3333333333333333,
              "#9c179e"
             ],
             [
              0.4444444444444444,
              "#bd3786"
             ],
             [
              0.5555555555555556,
              "#d8576b"
             ],
             [
              0.6666666666666666,
              "#ed7953"
             ],
             [
              0.7777777777777778,
              "#fb9f3a"
             ],
             [
              0.8888888888888888,
              "#fdca26"
             ],
             [
              1,
              "#f0f921"
             ]
            ],
            "type": "histogram2dcontour"
           }
          ],
          "mesh3d": [
           {
            "colorbar": {
             "outlinewidth": 0,
             "ticks": ""
            },
            "type": "mesh3d"
           }
          ],
          "parcoords": [
           {
            "line": {
             "colorbar": {
              "outlinewidth": 0,
              "ticks": ""
             }
            },
            "type": "parcoords"
           }
          ],
          "pie": [
           {
            "automargin": true,
            "type": "pie"
           }
          ],
          "scatter": [
           {
            "fillpattern": {
             "fillmode": "overlay",
             "size": 10,
             "solidity": 0.2
            },
            "type": "scatter"
           }
          ],
          "scatter3d": [
           {
            "line": {
             "colorbar": {
              "outlinewidth": 0,
              "ticks": ""
             }
            },
            "marker": {
             "colorbar": {
              "outlinewidth": 0,
              "ticks": ""
             }
            },
            "type": "scatter3d"
           }
          ],
          "scattercarpet": [
           {
            "marker": {
             "colorbar": {
              "outlinewidth": 0,
              "ticks": ""
             }
            },
            "type": "scattercarpet"
           }
          ],
          "scattergeo": [
           {
            "marker": {
             "colorbar": {
              "outlinewidth": 0,
              "ticks": ""
             }
            },
            "type": "scattergeo"
           }
          ],
          "scattergl": [
           {
            "marker": {
             "colorbar": {
              "outlinewidth": 0,
              "ticks": ""
             }
            },
            "type": "scattergl"
           }
          ],
          "scattermap": [
           {
            "marker": {
             "colorbar": {
              "outlinewidth": 0,
              "ticks": ""
             }
            },
            "type": "scattermap"
           }
          ],
          "scattermapbox": [
           {
            "marker": {
             "colorbar": {
              "outlinewidth": 0,
              "ticks": ""
             }
            },
            "type": "scattermapbox"
           }
          ],
          "scatterpolar": [
           {
            "marker": {
             "colorbar": {
              "outlinewidth": 0,
              "ticks": ""
             }
            },
            "type": "scatterpolar"
           }
          ],
          "scatterpolargl": [
           {
            "marker": {
             "colorbar": {
              "outlinewidth": 0,
              "ticks": ""
             }
            },
            "type": "scatterpolargl"
           }
          ],
          "scatterternary": [
           {
            "marker": {
             "colorbar": {
              "outlinewidth": 0,
              "ticks": ""
             }
            },
            "type": "scatterternary"
           }
          ],
          "surface": [
           {
            "colorbar": {
             "outlinewidth": 0,
             "ticks": ""
            },
            "colorscale": [
             [
              0,
              "#0d0887"
             ],
             [
              0.1111111111111111,
              "#46039f"
             ],
             [
              0.2222222222222222,
              "#7201a8"
             ],
             [
              0.3333333333333333,
              "#9c179e"
             ],
             [
              0.4444444444444444,
              "#bd3786"
             ],
             [
              0.5555555555555556,
              "#d8576b"
             ],
             [
              0.6666666666666666,
              "#ed7953"
             ],
             [
              0.7777777777777778,
              "#fb9f3a"
             ],
             [
              0.8888888888888888,
              "#fdca26"
             ],
             [
              1,
              "#f0f921"
             ]
            ],
            "type": "surface"
           }
          ],
          "table": [
           {
            "cells": {
             "fill": {
              "color": "#EBF0F8"
             },
             "line": {
              "color": "white"
             }
            },
            "header": {
             "fill": {
              "color": "#C8D4E3"
             },
             "line": {
              "color": "white"
             }
            },
            "type": "table"
           }
          ]
         },
         "layout": {
          "annotationdefaults": {
           "arrowcolor": "#2a3f5f",
           "arrowhead": 0,
           "arrowwidth": 1
          },
          "autotypenumbers": "strict",
          "coloraxis": {
           "colorbar": {
            "outlinewidth": 0,
            "ticks": ""
           }
          },
          "colorscale": {
           "diverging": [
            [
             0,
             "#8e0152"
            ],
            [
             0.1,
             "#c51b7d"
            ],
            [
             0.2,
             "#de77ae"
            ],
            [
             0.3,
             "#f1b6da"
            ],
            [
             0.4,
             "#fde0ef"
            ],
            [
             0.5,
             "#f7f7f7"
            ],
            [
             0.6,
             "#e6f5d0"
            ],
            [
             0.7,
             "#b8e186"
            ],
            [
             0.8,
             "#7fbc41"
            ],
            [
             0.9,
             "#4d9221"
            ],
            [
             1,
             "#276419"
            ]
           ],
           "sequential": [
            [
             0,
             "#0d0887"
            ],
            [
             0.1111111111111111,
             "#46039f"
            ],
            [
             0.2222222222222222,
             "#7201a8"
            ],
            [
             0.3333333333333333,
             "#9c179e"
            ],
            [
             0.4444444444444444,
             "#bd3786"
            ],
            [
             0.5555555555555556,
             "#d8576b"
            ],
            [
             0.6666666666666666,
             "#ed7953"
            ],
            [
             0.7777777777777778,
             "#fb9f3a"
            ],
            [
             0.8888888888888888,
             "#fdca26"
            ],
            [
             1,
             "#f0f921"
            ]
           ],
           "sequentialminus": [
            [
             0,
             "#0d0887"
            ],
            [
             0.1111111111111111,
             "#46039f"
            ],
            [
             0.2222222222222222,
             "#7201a8"
            ],
            [
             0.3333333333333333,
             "#9c179e"
            ],
            [
             0.4444444444444444,
             "#bd3786"
            ],
            [
             0.5555555555555556,
             "#d8576b"
            ],
            [
             0.6666666666666666,
             "#ed7953"
            ],
            [
             0.7777777777777778,
             "#fb9f3a"
            ],
            [
             0.8888888888888888,
             "#fdca26"
            ],
            [
             1,
             "#f0f921"
            ]
           ]
          },
          "colorway": [
           "#636efa",
           "#EF553B",
           "#00cc96",
           "#ab63fa",
           "#FFA15A",
           "#19d3f3",
           "#FF6692",
           "#B6E880",
           "#FF97FF",
           "#FECB52"
          ],
          "font": {
           "color": "#2a3f5f"
          },
          "geo": {
           "bgcolor": "white",
           "lakecolor": "white",
           "landcolor": "white",
           "showlakes": true,
           "showland": true,
           "subunitcolor": "#C8D4E3"
          },
          "hoverlabel": {
           "align": "left"
          },
          "hovermode": "closest",
          "mapbox": {
           "style": "light"
          },
          "paper_bgcolor": "white",
          "plot_bgcolor": "white",
          "polar": {
           "angularaxis": {
            "gridcolor": "#EBF0F8",
            "linecolor": "#EBF0F8",
            "ticks": ""
           },
           "bgcolor": "white",
           "radialaxis": {
            "gridcolor": "#EBF0F8",
            "linecolor": "#EBF0F8",
            "ticks": ""
           }
          },
          "scene": {
           "xaxis": {
            "backgroundcolor": "white",
            "gridcolor": "#DFE8F3",
            "gridwidth": 2,
            "linecolor": "#EBF0F8",
            "showbackground": true,
            "ticks": "",
            "zerolinecolor": "#EBF0F8"
           },
           "yaxis": {
            "backgroundcolor": "white",
            "gridcolor": "#DFE8F3",
            "gridwidth": 2,
            "linecolor": "#EBF0F8",
            "showbackground": true,
            "ticks": "",
            "zerolinecolor": "#EBF0F8"
           },
           "zaxis": {
            "backgroundcolor": "white",
            "gridcolor": "#DFE8F3",
            "gridwidth": 2,
            "linecolor": "#EBF0F8",
            "showbackground": true,
            "ticks": "",
            "zerolinecolor": "#EBF0F8"
           }
          },
          "shapedefaults": {
           "line": {
            "color": "#2a3f5f"
           }
          },
          "ternary": {
           "aaxis": {
            "gridcolor": "#DFE8F3",
            "linecolor": "#A2B1C6",
            "ticks": ""
           },
           "baxis": {
            "gridcolor": "#DFE8F3",
            "linecolor": "#A2B1C6",
            "ticks": ""
           },
           "bgcolor": "white",
           "caxis": {
            "gridcolor": "#DFE8F3",
            "linecolor": "#A2B1C6",
            "ticks": ""
           }
          },
          "title": {
           "x": 0.05
          },
          "xaxis": {
           "automargin": true,
           "gridcolor": "#EBF0F8",
           "linecolor": "#EBF0F8",
           "ticks": "",
           "title": {
            "standoff": 15
           },
           "zerolinecolor": "#EBF0F8",
           "zerolinewidth": 2
          },
          "yaxis": {
           "automargin": true,
           "gridcolor": "#EBF0F8",
           "linecolor": "#EBF0F8",
           "ticks": "",
           "title": {
            "standoff": 15
           },
           "zerolinecolor": "#EBF0F8",
           "zerolinewidth": 2
          }
         }
        },
        "title": {
         "text": "Diferencia promedio de puntuaciones entre grupos"
        },
        "xaxis": {
         "title": {
          "text": "Aspectos"
         }
        },
        "yaxis": {
         "title": {
          "text": "Diferencia (bien - mal)"
         },
         "zeroline": true,
         "zerolinecolor": "black"
        }
       }
      }
     },
     "metadata": {},
     "output_type": "display_data"
    }
   ],
   "source": [
    "#Mostrar en qué aspectos de la experiencia del cliente los alojamientos con una puntuación superior a 80 funcionan mejor que aquellos con puntuaciones más bajas, y cuánto es la diferencia en cada aspecto.\n",
    "\n",
    "import plotly.graph_objects as go\n",
    "\n",
    "# Definir umbral\n",
    "umbral = 80\n",
    "\n",
    "# Limpiar datos con valores nulos en columnas clave\n",
    "df_limpio = df.dropna(subset=['review_scores_rating', 'review_scores_accuracy', 'review_scores_cleanliness', 'review_scores_checkin', 'review_scores_communication'])\n",
    "\n",
    "# Separar en dos grupos según la puntuación general\n",
    "bien = df_limpio[df_limpio['review_scores_rating'] >= umbral]\n",
    "mal = df_limpio[df_limpio['review_scores_rating'] < umbral]\n",
    "\n",
    "# Columnas a comparar\n",
    "cols = ['review_scores_accuracy', 'review_scores_cleanliness', 'review_scores_checkin', 'review_scores_communication']\n",
    "\n",
    "# Promedio de cada grupo\n",
    "prom_bien = bien[cols].mean()\n",
    "prom_mal = mal[cols].mean()\n",
    "\n",
    "# Diferencia de promedios\n",
    "diff = prom_bien - prom_mal\n",
    "\n",
    "# Colores para barras (verde claro si positivo, verde oscuro si negativo)\n",
    "colores = ['#8BAE3F' if v > 0 else '#2D6A4F' for v in diff]\n",
    "\n",
    "# Crear gráfico\n",
    "fig = go.Figure(go.Bar(\n",
    "    x=['Precisión', 'Limpieza', 'Check-in', 'Comunicación'],\n",
    "    y=diff.values,\n",
    "    marker_color=colores,\n",
    "    text=[f'{v:.2f}' for v in diff.values],\n",
    "    textposition='outside'\n",
    "))\n",
    "\n",
    "fig.update_layout(\n",
    "    title='Diferencia promedio de puntuaciones entre grupos',\n",
    "    yaxis_title='Diferencia (bien - mal)',\n",
    "    xaxis_title='Aspectos',\n",
    "    yaxis=dict(zeroline=True, zerolinecolor='black'),\n",
    "    template='plotly_white'\n",
    ")\n",
    "\n",
    "fig.show()"
   ]
  },
  {
   "cell_type": "code",
   "execution_count": 31,
   "id": "9ac7500e",
   "metadata": {},
   "outputs": [
    {
     "data": {
      "application/vnd.plotly.v1+json": {
       "config": {
        "plotlyServerURL": "https://plot.ly"
       },
       "data": [
        {
         "marker": {
          "color": "#8BAE3F"
         },
         "orientation": "h",
         "type": "bar",
         "x": {
          "bdata": "SH54OFzdJkD4RD7MFJsoQNhSDIEreTFABLGlfu20MUA=",
          "dtype": "f8"
         },
         "y": [
          "review_scores_checkin",
          "review_scores_communication",
          "review_scores_accuracy",
          "review_scores_cleanliness"
         ]
        }
       ],
       "layout": {
        "font": {
         "size": 14
        },
        "height": 400,
        "plot_bgcolor": "white",
        "template": {
         "data": {
          "bar": [
           {
            "error_x": {
             "color": "#2a3f5f"
            },
            "error_y": {
             "color": "#2a3f5f"
            },
            "marker": {
             "line": {
              "color": "#E5ECF6",
              "width": 0.5
             },
             "pattern": {
              "fillmode": "overlay",
              "size": 10,
              "solidity": 0.2
             }
            },
            "type": "bar"
           }
          ],
          "barpolar": [
           {
            "marker": {
             "line": {
              "color": "#E5ECF6",
              "width": 0.5
             },
             "pattern": {
              "fillmode": "overlay",
              "size": 10,
              "solidity": 0.2
             }
            },
            "type": "barpolar"
           }
          ],
          "carpet": [
           {
            "aaxis": {
             "endlinecolor": "#2a3f5f",
             "gridcolor": "white",
             "linecolor": "white",
             "minorgridcolor": "white",
             "startlinecolor": "#2a3f5f"
            },
            "baxis": {
             "endlinecolor": "#2a3f5f",
             "gridcolor": "white",
             "linecolor": "white",
             "minorgridcolor": "white",
             "startlinecolor": "#2a3f5f"
            },
            "type": "carpet"
           }
          ],
          "choropleth": [
           {
            "colorbar": {
             "outlinewidth": 0,
             "ticks": ""
            },
            "type": "choropleth"
           }
          ],
          "contour": [
           {
            "colorbar": {
             "outlinewidth": 0,
             "ticks": ""
            },
            "colorscale": [
             [
              0,
              "#0d0887"
             ],
             [
              0.1111111111111111,
              "#46039f"
             ],
             [
              0.2222222222222222,
              "#7201a8"
             ],
             [
              0.3333333333333333,
              "#9c179e"
             ],
             [
              0.4444444444444444,
              "#bd3786"
             ],
             [
              0.5555555555555556,
              "#d8576b"
             ],
             [
              0.6666666666666666,
              "#ed7953"
             ],
             [
              0.7777777777777778,
              "#fb9f3a"
             ],
             [
              0.8888888888888888,
              "#fdca26"
             ],
             [
              1,
              "#f0f921"
             ]
            ],
            "type": "contour"
           }
          ],
          "contourcarpet": [
           {
            "colorbar": {
             "outlinewidth": 0,
             "ticks": ""
            },
            "type": "contourcarpet"
           }
          ],
          "heatmap": [
           {
            "colorbar": {
             "outlinewidth": 0,
             "ticks": ""
            },
            "colorscale": [
             [
              0,
              "#0d0887"
             ],
             [
              0.1111111111111111,
              "#46039f"
             ],
             [
              0.2222222222222222,
              "#7201a8"
             ],
             [
              0.3333333333333333,
              "#9c179e"
             ],
             [
              0.4444444444444444,
              "#bd3786"
             ],
             [
              0.5555555555555556,
              "#d8576b"
             ],
             [
              0.6666666666666666,
              "#ed7953"
             ],
             [
              0.7777777777777778,
              "#fb9f3a"
             ],
             [
              0.8888888888888888,
              "#fdca26"
             ],
             [
              1,
              "#f0f921"
             ]
            ],
            "type": "heatmap"
           }
          ],
          "histogram": [
           {
            "marker": {
             "pattern": {
              "fillmode": "overlay",
              "size": 10,
              "solidity": 0.2
             }
            },
            "type": "histogram"
           }
          ],
          "histogram2d": [
           {
            "colorbar": {
             "outlinewidth": 0,
             "ticks": ""
            },
            "colorscale": [
             [
              0,
              "#0d0887"
             ],
             [
              0.1111111111111111,
              "#46039f"
             ],
             [
              0.2222222222222222,
              "#7201a8"
             ],
             [
              0.3333333333333333,
              "#9c179e"
             ],
             [
              0.4444444444444444,
              "#bd3786"
             ],
             [
              0.5555555555555556,
              "#d8576b"
             ],
             [
              0.6666666666666666,
              "#ed7953"
             ],
             [
              0.7777777777777778,
              "#fb9f3a"
             ],
             [
              0.8888888888888888,
              "#fdca26"
             ],
             [
              1,
              "#f0f921"
             ]
            ],
            "type": "histogram2d"
           }
          ],
          "histogram2dcontour": [
           {
            "colorbar": {
             "outlinewidth": 0,
             "ticks": ""
            },
            "colorscale": [
             [
              0,
              "#0d0887"
             ],
             [
              0.1111111111111111,
              "#46039f"
             ],
             [
              0.2222222222222222,
              "#7201a8"
             ],
             [
              0.3333333333333333,
              "#9c179e"
             ],
             [
              0.4444444444444444,
              "#bd3786"
             ],
             [
              0.5555555555555556,
              "#d8576b"
             ],
             [
              0.6666666666666666,
              "#ed7953"
             ],
             [
              0.7777777777777778,
              "#fb9f3a"
             ],
             [
              0.8888888888888888,
              "#fdca26"
             ],
             [
              1,
              "#f0f921"
             ]
            ],
            "type": "histogram2dcontour"
           }
          ],
          "mesh3d": [
           {
            "colorbar": {
             "outlinewidth": 0,
             "ticks": ""
            },
            "type": "mesh3d"
           }
          ],
          "parcoords": [
           {
            "line": {
             "colorbar": {
              "outlinewidth": 0,
              "ticks": ""
             }
            },
            "type": "parcoords"
           }
          ],
          "pie": [
           {
            "automargin": true,
            "type": "pie"
           }
          ],
          "scatter": [
           {
            "fillpattern": {
             "fillmode": "overlay",
             "size": 10,
             "solidity": 0.2
            },
            "type": "scatter"
           }
          ],
          "scatter3d": [
           {
            "line": {
             "colorbar": {
              "outlinewidth": 0,
              "ticks": ""
             }
            },
            "marker": {
             "colorbar": {
              "outlinewidth": 0,
              "ticks": ""
             }
            },
            "type": "scatter3d"
           }
          ],
          "scattercarpet": [
           {
            "marker": {
             "colorbar": {
              "outlinewidth": 0,
              "ticks": ""
             }
            },
            "type": "scattercarpet"
           }
          ],
          "scattergeo": [
           {
            "marker": {
             "colorbar": {
              "outlinewidth": 0,
              "ticks": ""
             }
            },
            "type": "scattergeo"
           }
          ],
          "scattergl": [
           {
            "marker": {
             "colorbar": {
              "outlinewidth": 0,
              "ticks": ""
             }
            },
            "type": "scattergl"
           }
          ],
          "scattermap": [
           {
            "marker": {
             "colorbar": {
              "outlinewidth": 0,
              "ticks": ""
             }
            },
            "type": "scattermap"
           }
          ],
          "scattermapbox": [
           {
            "marker": {
             "colorbar": {
              "outlinewidth": 0,
              "ticks": ""
             }
            },
            "type": "scattermapbox"
           }
          ],
          "scatterpolar": [
           {
            "marker": {
             "colorbar": {
              "outlinewidth": 0,
              "ticks": ""
             }
            },
            "type": "scatterpolar"
           }
          ],
          "scatterpolargl": [
           {
            "marker": {
             "colorbar": {
              "outlinewidth": 0,
              "ticks": ""
             }
            },
            "type": "scatterpolargl"
           }
          ],
          "scatterternary": [
           {
            "marker": {
             "colorbar": {
              "outlinewidth": 0,
              "ticks": ""
             }
            },
            "type": "scatterternary"
           }
          ],
          "surface": [
           {
            "colorbar": {
             "outlinewidth": 0,
             "ticks": ""
            },
            "colorscale": [
             [
              0,
              "#0d0887"
             ],
             [
              0.1111111111111111,
              "#46039f"
             ],
             [
              0.2222222222222222,
              "#7201a8"
             ],
             [
              0.3333333333333333,
              "#9c179e"
             ],
             [
              0.4444444444444444,
              "#bd3786"
             ],
             [
              0.5555555555555556,
              "#d8576b"
             ],
             [
              0.6666666666666666,
              "#ed7953"
             ],
             [
              0.7777777777777778,
              "#fb9f3a"
             ],
             [
              0.8888888888888888,
              "#fdca26"
             ],
             [
              1,
              "#f0f921"
             ]
            ],
            "type": "surface"
           }
          ],
          "table": [
           {
            "cells": {
             "fill": {
              "color": "#EBF0F8"
             },
             "line": {
              "color": "white"
             }
            },
            "header": {
             "fill": {
              "color": "#C8D4E3"
             },
             "line": {
              "color": "white"
             }
            },
            "type": "table"
           }
          ]
         },
         "layout": {
          "annotationdefaults": {
           "arrowcolor": "#2a3f5f",
           "arrowhead": 0,
           "arrowwidth": 1
          },
          "autotypenumbers": "strict",
          "coloraxis": {
           "colorbar": {
            "outlinewidth": 0,
            "ticks": ""
           }
          },
          "colorscale": {
           "diverging": [
            [
             0,
             "#8e0152"
            ],
            [
             0.1,
             "#c51b7d"
            ],
            [
             0.2,
             "#de77ae"
            ],
            [
             0.3,
             "#f1b6da"
            ],
            [
             0.4,
             "#fde0ef"
            ],
            [
             0.5,
             "#f7f7f7"
            ],
            [
             0.6,
             "#e6f5d0"
            ],
            [
             0.7,
             "#b8e186"
            ],
            [
             0.8,
             "#7fbc41"
            ],
            [
             0.9,
             "#4d9221"
            ],
            [
             1,
             "#276419"
            ]
           ],
           "sequential": [
            [
             0,
             "#0d0887"
            ],
            [
             0.1111111111111111,
             "#46039f"
            ],
            [
             0.2222222222222222,
             "#7201a8"
            ],
            [
             0.3333333333333333,
             "#9c179e"
            ],
            [
             0.4444444444444444,
             "#bd3786"
            ],
            [
             0.5555555555555556,
             "#d8576b"
            ],
            [
             0.6666666666666666,
             "#ed7953"
            ],
            [
             0.7777777777777778,
             "#fb9f3a"
            ],
            [
             0.8888888888888888,
             "#fdca26"
            ],
            [
             1,
             "#f0f921"
            ]
           ],
           "sequentialminus": [
            [
             0,
             "#0d0887"
            ],
            [
             0.1111111111111111,
             "#46039f"
            ],
            [
             0.2222222222222222,
             "#7201a8"
            ],
            [
             0.3333333333333333,
             "#9c179e"
            ],
            [
             0.4444444444444444,
             "#bd3786"
            ],
            [
             0.5555555555555556,
             "#d8576b"
            ],
            [
             0.6666666666666666,
             "#ed7953"
            ],
            [
             0.7777777777777778,
             "#fb9f3a"
            ],
            [
             0.8888888888888888,
             "#fdca26"
            ],
            [
             1,
             "#f0f921"
            ]
           ]
          },
          "colorway": [
           "#636efa",
           "#EF553B",
           "#00cc96",
           "#ab63fa",
           "#FFA15A",
           "#19d3f3",
           "#FF6692",
           "#B6E880",
           "#FF97FF",
           "#FECB52"
          ],
          "font": {
           "color": "#2a3f5f"
          },
          "geo": {
           "bgcolor": "white",
           "lakecolor": "white",
           "landcolor": "#E5ECF6",
           "showlakes": true,
           "showland": true,
           "subunitcolor": "white"
          },
          "hoverlabel": {
           "align": "left"
          },
          "hovermode": "closest",
          "mapbox": {
           "style": "light"
          },
          "paper_bgcolor": "white",
          "plot_bgcolor": "#E5ECF6",
          "polar": {
           "angularaxis": {
            "gridcolor": "white",
            "linecolor": "white",
            "ticks": ""
           },
           "bgcolor": "#E5ECF6",
           "radialaxis": {
            "gridcolor": "white",
            "linecolor": "white",
            "ticks": ""
           }
          },
          "scene": {
           "xaxis": {
            "backgroundcolor": "#E5ECF6",
            "gridcolor": "white",
            "gridwidth": 2,
            "linecolor": "white",
            "showbackground": true,
            "ticks": "",
            "zerolinecolor": "white"
           },
           "yaxis": {
            "backgroundcolor": "#E5ECF6",
            "gridcolor": "white",
            "gridwidth": 2,
            "linecolor": "white",
            "showbackground": true,
            "ticks": "",
            "zerolinecolor": "white"
           },
           "zaxis": {
            "backgroundcolor": "#E5ECF6",
            "gridcolor": "white",
            "gridwidth": 2,
            "linecolor": "white",
            "showbackground": true,
            "ticks": "",
            "zerolinecolor": "white"
           }
          },
          "shapedefaults": {
           "line": {
            "color": "#2a3f5f"
           }
          },
          "ternary": {
           "aaxis": {
            "gridcolor": "white",
            "linecolor": "white",
            "ticks": ""
           },
           "baxis": {
            "gridcolor": "white",
            "linecolor": "white",
            "ticks": ""
           },
           "bgcolor": "#E5ECF6",
           "caxis": {
            "gridcolor": "white",
            "linecolor": "white",
            "ticks": ""
           }
          },
          "title": {
           "x": 0.05
          },
          "xaxis": {
           "automargin": true,
           "gridcolor": "white",
           "linecolor": "white",
           "ticks": "",
           "title": {
            "standoff": 15
           },
           "zerolinecolor": "white",
           "zerolinewidth": 2
          },
          "yaxis": {
           "automargin": true,
           "gridcolor": "white",
           "linecolor": "white",
           "ticks": "",
           "title": {
            "standoff": 15
           },
           "zerolinecolor": "white",
           "zerolinewidth": 2
          }
         }
        },
        "title": {
         "text": "Diferencias en aspectos de la experiencia del cliente\nentre los alojamientos mejor y peor valorados"
        },
        "xaxis": {
         "gridcolor": "#2D6A4F",
         "showgrid": true,
         "title": {
          "text": "Diferencia en la puntuación media (Mejor - Peor)"
         }
        },
        "yaxis": {
         "showgrid": false,
         "title": {
          "text": "Aspectos"
         }
        }
       }
      }
     },
     "metadata": {},
     "output_type": "display_data"
    }
   ],
   "source": [
    "##Análisis comparativo de diferencias en aspectos clave de la experiencia del cliente entre alojamientos mejor y peor valorados según percentiles 90 y 10\n",
    "\n",
    "import plotly.graph_objects as go\n",
    "\n",
    "# Seleccionamos solo las columnas que nos interesan\n",
    "cols = [\n",
    "    'review_scores_rating',\n",
    "    'review_scores_accuracy',\n",
    "    'review_scores_cleanliness',\n",
    "    'review_scores_checkin',\n",
    "    'review_scores_communication'\n",
    "]\n",
    "df = df_cl[cols].dropna()\n",
    "\n",
    "# Definimos los umbrales alto y bajo para la puntuación general\n",
    "high_threshold = df['review_scores_rating'].quantile(0.9)  # Percentil 90\n",
    "low_threshold = df['review_scores_rating'].quantile(0.1)   # Percentil 10\n",
    "\n",
    "# Dividimos el DataFrame en dos grupos: los mejores y los peores según la puntuación general\n",
    "top = df[df['review_scores_rating'] >= high_threshold]\n",
    "bottom = df[df['review_scores_rating'] <= low_threshold]\n",
    "\n",
    "# Calculamos la media de las puntuaciones de diferentes aspectos de la experiencia para cada grupo\n",
    "aspects = ['review_scores_accuracy', 'review_scores_cleanliness', 'review_scores_checkin', 'review_scores_communication']\n",
    "top_means = top[aspects].mean()\n",
    "bottom_means = bottom[aspects].mean()\n",
    "\n",
    "# Calculamos las diferencias de puntuación media entre el grupo superior e inferior\n",
    "differences = (top_means - bottom_means).sort_values()\n",
    "\n",
    "# Creamos un gráfico de barras horizontal con Plotly para mostrar las diferencias\n",
    "fig = go.Figure(go.Bar(\n",
    "    x=differences.values,\n",
    "    y=differences.index,\n",
    "    orientation='h',\n",
    "    marker=dict(\n",
    "        color='#8BAE3F'  # Color verde lima\n",
    "    )\n",
    "))\n",
    "\n",
    "# Configuramos el diseño del gráfico\n",
    "fig.update_layout(\n",
    "    title='Diferencias en aspectos de la experiencia del cliente\\nentre los alojamientos mejor y peor valorados',\n",
    "    xaxis_title='Diferencia en la puntuación media (Mejor - Peor)',\n",
    "    yaxis_title='Aspectos',\n",
    "    plot_bgcolor='white',\n",
    "    font=dict(size=14),\n",
    "    xaxis=dict(showgrid=True, gridcolor='#2D6A4F'),  # Verde oscuro para la grilla\n",
    "    yaxis=dict(showgrid=False),\n",
    "    height=400\n",
    ")\n",
    "\n",
    "# Mostramos el gráfico\n",
    "fig.show()\n"
   ]
  },
  {
   "cell_type": "markdown",
   "id": "4d774824",
   "metadata": {},
   "source": [
    "## Análisis orientado a negocio (Operaciones)"
   ]
  },
  {
   "cell_type": "markdown",
   "id": "9430df26",
   "metadata": {},
   "source": [
    "# Quin impacte té l'opció de reservar automàticament \n",
    "# (sense revisió del propietari) a la disponibilitat mitjana a cada ciutat? "
   ]
  },
  {
   "cell_type": "markdown",
   "id": "b5d7c575",
   "metadata": {},
   "source": [
    "calcular impacto sobre la disponibilidad mensual de la variable is_instant_bookable\n",
    "\n"
   ]
  },
  {
   "cell_type": "markdown",
   "id": "2a444d51",
   "metadata": {},
   "source": [
    " Disponibilidad Media (30 días) por Ciudad y Reserva Automática con impacto correspondiente"
   ]
  },
  {
   "cell_type": "code",
   "execution_count": null,
   "id": "8e8b6a22",
   "metadata": {},
   "outputs": [
    {
     "data": {
      "application/vnd.plotly.v1+json": {
       "config": {
        "plotlyServerURL": "https://plot.ly"
       },
       "data": [
        {
         "cells": {
          "align": "center",
          "fill": {
           "color": "#D8F3DC"
          },
          "font": {
           "color": "black",
           "size": 12
          },
          "format": [
           "",
           ".2f",
           ".2f",
           ".2f",
           ".2f"
          ],
          "height": 25,
          "values": [
           [
            "barcelona",
            "girona",
            "madrid",
            "malaga",
            "mallorca",
            "menorca",
            "sevilla",
            "valencia"
           ],
           [
            11.42,
            16.62,
            10.57,
            12.47,
            13.3,
            15.87,
            13.32,
            13.58
           ],
           [
            11.05,
            13.22,
            10.91,
            12.48,
            13.58,
            13.34,
            14.83,
            12.24
           ],
           [
            -0.36,
            -3.4,
            0.33,
            0.02,
            0.28,
            -2.53,
            1.51,
            -1.34
           ],
           [
            -3.2,
            -20.46,
            3.16,
            0.12,
            2.08,
            -15.97,
            11.34,
            -9.85
           ]
          ]
         },
         "header": {
          "align": "center",
          "fill": {
           "color": "#2D6A4F"
          },
          "font": {
           "color": "white",
           "size": 14
          },
          "height": 30,
          "values": [
           "<b>Ciudad</b>",
           "<b>FALSO</b>",
           "<b>VERDADERO</b>",
           "<b>Impacto (días)</b>",
           "<b>Impacto (%)</b>"
          ]
         },
         "type": "table"
        }
       ],
       "layout": {
        "margin": {
         "b": 10,
         "l": 10,
         "r": 10,
         "t": 60
        },
        "paper_bgcolor": "#D8F3DC",
        "template": {
         "data": {
          "bar": [
           {
            "error_x": {
             "color": "#2a3f5f"
            },
            "error_y": {
             "color": "#2a3f5f"
            },
            "marker": {
             "line": {
              "color": "#E5ECF6",
              "width": 0.5
             },
             "pattern": {
              "fillmode": "overlay",
              "size": 10,
              "solidity": 0.2
             }
            },
            "type": "bar"
           }
          ],
          "barpolar": [
           {
            "marker": {
             "line": {
              "color": "#E5ECF6",
              "width": 0.5
             },
             "pattern": {
              "fillmode": "overlay",
              "size": 10,
              "solidity": 0.2
             }
            },
            "type": "barpolar"
           }
          ],
          "carpet": [
           {
            "aaxis": {
             "endlinecolor": "#2a3f5f",
             "gridcolor": "white",
             "linecolor": "white",
             "minorgridcolor": "white",
             "startlinecolor": "#2a3f5f"
            },
            "baxis": {
             "endlinecolor": "#2a3f5f",
             "gridcolor": "white",
             "linecolor": "white",
             "minorgridcolor": "white",
             "startlinecolor": "#2a3f5f"
            },
            "type": "carpet"
           }
          ],
          "choropleth": [
           {
            "colorbar": {
             "outlinewidth": 0,
             "ticks": ""
            },
            "type": "choropleth"
           }
          ],
          "contour": [
           {
            "colorbar": {
             "outlinewidth": 0,
             "ticks": ""
            },
            "colorscale": [
             [
              0,
              "#0d0887"
             ],
             [
              0.1111111111111111,
              "#46039f"
             ],
             [
              0.2222222222222222,
              "#7201a8"
             ],
             [
              0.3333333333333333,
              "#9c179e"
             ],
             [
              0.4444444444444444,
              "#bd3786"
             ],
             [
              0.5555555555555556,
              "#d8576b"
             ],
             [
              0.6666666666666666,
              "#ed7953"
             ],
             [
              0.7777777777777778,
              "#fb9f3a"
             ],
             [
              0.8888888888888888,
              "#fdca26"
             ],
             [
              1,
              "#f0f921"
             ]
            ],
            "type": "contour"
           }
          ],
          "contourcarpet": [
           {
            "colorbar": {
             "outlinewidth": 0,
             "ticks": ""
            },
            "type": "contourcarpet"
           }
          ],
          "heatmap": [
           {
            "colorbar": {
             "outlinewidth": 0,
             "ticks": ""
            },
            "colorscale": [
             [
              0,
              "#0d0887"
             ],
             [
              0.1111111111111111,
              "#46039f"
             ],
             [
              0.2222222222222222,
              "#7201a8"
             ],
             [
              0.3333333333333333,
              "#9c179e"
             ],
             [
              0.4444444444444444,
              "#bd3786"
             ],
             [
              0.5555555555555556,
              "#d8576b"
             ],
             [
              0.6666666666666666,
              "#ed7953"
             ],
             [
              0.7777777777777778,
              "#fb9f3a"
             ],
             [
              0.8888888888888888,
              "#fdca26"
             ],
             [
              1,
              "#f0f921"
             ]
            ],
            "type": "heatmap"
           }
          ],
          "histogram": [
           {
            "marker": {
             "pattern": {
              "fillmode": "overlay",
              "size": 10,
              "solidity": 0.2
             }
            },
            "type": "histogram"
           }
          ],
          "histogram2d": [
           {
            "colorbar": {
             "outlinewidth": 0,
             "ticks": ""
            },
            "colorscale": [
             [
              0,
              "#0d0887"
             ],
             [
              0.1111111111111111,
              "#46039f"
             ],
             [
              0.2222222222222222,
              "#7201a8"
             ],
             [
              0.3333333333333333,
              "#9c179e"
             ],
             [
              0.4444444444444444,
              "#bd3786"
             ],
             [
              0.5555555555555556,
              "#d8576b"
             ],
             [
              0.6666666666666666,
              "#ed7953"
             ],
             [
              0.7777777777777778,
              "#fb9f3a"
             ],
             [
              0.8888888888888888,
              "#fdca26"
             ],
             [
              1,
              "#f0f921"
             ]
            ],
            "type": "histogram2d"
           }
          ],
          "histogram2dcontour": [
           {
            "colorbar": {
             "outlinewidth": 0,
             "ticks": ""
            },
            "colorscale": [
             [
              0,
              "#0d0887"
             ],
             [
              0.1111111111111111,
              "#46039f"
             ],
             [
              0.2222222222222222,
              "#7201a8"
             ],
             [
              0.3333333333333333,
              "#9c179e"
             ],
             [
              0.4444444444444444,
              "#bd3786"
             ],
             [
              0.5555555555555556,
              "#d8576b"
             ],
             [
              0.6666666666666666,
              "#ed7953"
             ],
             [
              0.7777777777777778,
              "#fb9f3a"
             ],
             [
              0.8888888888888888,
              "#fdca26"
             ],
             [
              1,
              "#f0f921"
             ]
            ],
            "type": "histogram2dcontour"
           }
          ],
          "mesh3d": [
           {
            "colorbar": {
             "outlinewidth": 0,
             "ticks": ""
            },
            "type": "mesh3d"
           }
          ],
          "parcoords": [
           {
            "line": {
             "colorbar": {
              "outlinewidth": 0,
              "ticks": ""
             }
            },
            "type": "parcoords"
           }
          ],
          "pie": [
           {
            "automargin": true,
            "type": "pie"
           }
          ],
          "scatter": [
           {
            "fillpattern": {
             "fillmode": "overlay",
             "size": 10,
             "solidity": 0.2
            },
            "type": "scatter"
           }
          ],
          "scatter3d": [
           {
            "line": {
             "colorbar": {
              "outlinewidth": 0,
              "ticks": ""
             }
            },
            "marker": {
             "colorbar": {
              "outlinewidth": 0,
              "ticks": ""
             }
            },
            "type": "scatter3d"
           }
          ],
          "scattercarpet": [
           {
            "marker": {
             "colorbar": {
              "outlinewidth": 0,
              "ticks": ""
             }
            },
            "type": "scattercarpet"
           }
          ],
          "scattergeo": [
           {
            "marker": {
             "colorbar": {
              "outlinewidth": 0,
              "ticks": ""
             }
            },
            "type": "scattergeo"
           }
          ],
          "scattergl": [
           {
            "marker": {
             "colorbar": {
              "outlinewidth": 0,
              "ticks": ""
             }
            },
            "type": "scattergl"
           }
          ],
          "scattermap": [
           {
            "marker": {
             "colorbar": {
              "outlinewidth": 0,
              "ticks": ""
             }
            },
            "type": "scattermap"
           }
          ],
          "scattermapbox": [
           {
            "marker": {
             "colorbar": {
              "outlinewidth": 0,
              "ticks": ""
             }
            },
            "type": "scattermapbox"
           }
          ],
          "scatterpolar": [
           {
            "marker": {
             "colorbar": {
              "outlinewidth": 0,
              "ticks": ""
             }
            },
            "type": "scatterpolar"
           }
          ],
          "scatterpolargl": [
           {
            "marker": {
             "colorbar": {
              "outlinewidth": 0,
              "ticks": ""
             }
            },
            "type": "scatterpolargl"
           }
          ],
          "scatterternary": [
           {
            "marker": {
             "colorbar": {
              "outlinewidth": 0,
              "ticks": ""
             }
            },
            "type": "scatterternary"
           }
          ],
          "surface": [
           {
            "colorbar": {
             "outlinewidth": 0,
             "ticks": ""
            },
            "colorscale": [
             [
              0,
              "#0d0887"
             ],
             [
              0.1111111111111111,
              "#46039f"
             ],
             [
              0.2222222222222222,
              "#7201a8"
             ],
             [
              0.3333333333333333,
              "#9c179e"
             ],
             [
              0.4444444444444444,
              "#bd3786"
             ],
             [
              0.5555555555555556,
              "#d8576b"
             ],
             [
              0.6666666666666666,
              "#ed7953"
             ],
             [
              0.7777777777777778,
              "#fb9f3a"
             ],
             [
              0.8888888888888888,
              "#fdca26"
             ],
             [
              1,
              "#f0f921"
             ]
            ],
            "type": "surface"
           }
          ],
          "table": [
           {
            "cells": {
             "fill": {
              "color": "#EBF0F8"
             },
             "line": {
              "color": "white"
             }
            },
            "header": {
             "fill": {
              "color": "#C8D4E3"
             },
             "line": {
              "color": "white"
             }
            },
            "type": "table"
           }
          ]
         },
         "layout": {
          "annotationdefaults": {
           "arrowcolor": "#2a3f5f",
           "arrowhead": 0,
           "arrowwidth": 1
          },
          "autotypenumbers": "strict",
          "coloraxis": {
           "colorbar": {
            "outlinewidth": 0,
            "ticks": ""
           }
          },
          "colorscale": {
           "diverging": [
            [
             0,
             "#8e0152"
            ],
            [
             0.1,
             "#c51b7d"
            ],
            [
             0.2,
             "#de77ae"
            ],
            [
             0.3,
             "#f1b6da"
            ],
            [
             0.4,
             "#fde0ef"
            ],
            [
             0.5,
             "#f7f7f7"
            ],
            [
             0.6,
             "#e6f5d0"
            ],
            [
             0.7,
             "#b8e186"
            ],
            [
             0.8,
             "#7fbc41"
            ],
            [
             0.9,
             "#4d9221"
            ],
            [
             1,
             "#276419"
            ]
           ],
           "sequential": [
            [
             0,
             "#0d0887"
            ],
            [
             0.1111111111111111,
             "#46039f"
            ],
            [
             0.2222222222222222,
             "#7201a8"
            ],
            [
             0.3333333333333333,
             "#9c179e"
            ],
            [
             0.4444444444444444,
             "#bd3786"
            ],
            [
             0.5555555555555556,
             "#d8576b"
            ],
            [
             0.6666666666666666,
             "#ed7953"
            ],
            [
             0.7777777777777778,
             "#fb9f3a"
            ],
            [
             0.8888888888888888,
             "#fdca26"
            ],
            [
             1,
             "#f0f921"
            ]
           ],
           "sequentialminus": [
            [
             0,
             "#0d0887"
            ],
            [
             0.1111111111111111,
             "#46039f"
            ],
            [
             0.2222222222222222,
             "#7201a8"
            ],
            [
             0.3333333333333333,
             "#9c179e"
            ],
            [
             0.4444444444444444,
             "#bd3786"
            ],
            [
             0.5555555555555556,
             "#d8576b"
            ],
            [
             0.6666666666666666,
             "#ed7953"
            ],
            [
             0.7777777777777778,
             "#fb9f3a"
            ],
            [
             0.8888888888888888,
             "#fdca26"
            ],
            [
             1,
             "#f0f921"
            ]
           ]
          },
          "colorway": [
           "#636efa",
           "#EF553B",
           "#00cc96",
           "#ab63fa",
           "#FFA15A",
           "#19d3f3",
           "#FF6692",
           "#B6E880",
           "#FF97FF",
           "#FECB52"
          ],
          "font": {
           "color": "#2a3f5f"
          },
          "geo": {
           "bgcolor": "white",
           "lakecolor": "white",
           "landcolor": "#E5ECF6",
           "showlakes": true,
           "showland": true,
           "subunitcolor": "white"
          },
          "hoverlabel": {
           "align": "left"
          },
          "hovermode": "closest",
          "mapbox": {
           "style": "light"
          },
          "paper_bgcolor": "white",
          "plot_bgcolor": "#E5ECF6",
          "polar": {
           "angularaxis": {
            "gridcolor": "white",
            "linecolor": "white",
            "ticks": ""
           },
           "bgcolor": "#E5ECF6",
           "radialaxis": {
            "gridcolor": "white",
            "linecolor": "white",
            "ticks": ""
           }
          },
          "scene": {
           "xaxis": {
            "backgroundcolor": "#E5ECF6",
            "gridcolor": "white",
            "gridwidth": 2,
            "linecolor": "white",
            "showbackground": true,
            "ticks": "",
            "zerolinecolor": "white"
           },
           "yaxis": {
            "backgroundcolor": "#E5ECF6",
            "gridcolor": "white",
            "gridwidth": 2,
            "linecolor": "white",
            "showbackground": true,
            "ticks": "",
            "zerolinecolor": "white"
           },
           "zaxis": {
            "backgroundcolor": "#E5ECF6",
            "gridcolor": "white",
            "gridwidth": 2,
            "linecolor": "white",
            "showbackground": true,
            "ticks": "",
            "zerolinecolor": "white"
           }
          },
          "shapedefaults": {
           "line": {
            "color": "#2a3f5f"
           }
          },
          "ternary": {
           "aaxis": {
            "gridcolor": "white",
            "linecolor": "white",
            "ticks": ""
           },
           "baxis": {
            "gridcolor": "white",
            "linecolor": "white",
            "ticks": ""
           },
           "bgcolor": "#E5ECF6",
           "caxis": {
            "gridcolor": "white",
            "linecolor": "white",
            "ticks": ""
           }
          },
          "title": {
           "x": 0.05
          },
          "xaxis": {
           "automargin": true,
           "gridcolor": "white",
           "linecolor": "white",
           "ticks": "",
           "title": {
            "standoff": 15
           },
           "zerolinecolor": "white",
           "zerolinewidth": 2
          },
          "yaxis": {
           "automargin": true,
           "gridcolor": "white",
           "linecolor": "white",
           "ticks": "",
           "title": {
            "standoff": 15
           },
           "zerolinecolor": "white",
           "zerolinewidth": 2
          }
         }
        },
        "title": {
         "text": "Tabla de Disponibilidad Media (30 días) por Ciudad y Reserva Automática",
         "x": 0.5
        }
       }
      }
     },
     "metadata": {},
     "output_type": "display_data"
    },
    {
     "data": {
      "application/vnd.plotly.v1+json": {
       "config": {
        "plotlyServerURL": "https://plot.ly"
       },
       "data": [
        {
         "alignmentgroup": "True",
         "hovertemplate": "Reserva Automática=FALSO<br>city=%{x}<br>Disponibilidad Media (días)=%{y}<extra></extra>",
         "legendgroup": "FALSO",
         "marker": {
          "color": "#8BAE3F",
          "pattern": {
           "shape": ""
          }
         },
         "name": "FALSO",
         "offsetgroup": "FALSO",
         "orientation": "v",
         "showlegend": true,
         "textposition": "auto",
         "type": "bar",
         "x": [
          "barcelona",
          "girona",
          "madrid",
          "malaga",
          "mallorca",
          "menorca",
          "sevilla",
          "valencia"
         ],
         "xaxis": "x",
         "y": {
          "bdata": "16NwPQrXJkAfhetRuJ4wQKRwPQrXIyVAcT0K16PwKECamZmZmZkqQD0K16NwvS9ApHA9CtejKkApXI/C9SgrQA==",
          "dtype": "f8"
         },
         "yaxis": "y"
        },
        {
         "alignmentgroup": "True",
         "hovertemplate": "Reserva Automática=VERDADERO<br>city=%{x}<br>Disponibilidad Media (días)=%{y}<extra></extra>",
         "legendgroup": "VERDADERO",
         "marker": {
          "color": "#2D6A4F",
          "pattern": {
           "shape": ""
          }
         },
         "name": "VERDADERO",
         "offsetgroup": "VERDADERO",
         "orientation": "v",
         "showlegend": true,
         "textposition": "auto",
         "type": "bar",
         "x": [
          "barcelona",
          "girona",
          "madrid",
          "malaga",
          "mallorca",
          "menorca",
          "sevilla",
          "valencia"
         ],
         "xaxis": "x",
         "y": {
          "bdata": "mpmZmZkZJkBxPQrXo3AqQFK4HoXr0SVA9ihcj8L1KEApXI/C9SgrQK5H4XoUripAKVyPwvWoLUB7FK5H4XooQA==",
          "dtype": "f8"
         },
         "yaxis": "y"
        }
       ],
       "layout": {
        "barmode": "group",
        "legend": {
         "title": {
          "text": "Reserva Automática"
         },
         "tracegroupgap": 0
        },
        "paper_bgcolor": "#D8F3DC",
        "plot_bgcolor": "#D8F3DC",
        "template": {
         "data": {
          "bar": [
           {
            "error_x": {
             "color": "#2a3f5f"
            },
            "error_y": {
             "color": "#2a3f5f"
            },
            "marker": {
             "line": {
              "color": "#E5ECF6",
              "width": 0.5
             },
             "pattern": {
              "fillmode": "overlay",
              "size": 10,
              "solidity": 0.2
             }
            },
            "type": "bar"
           }
          ],
          "barpolar": [
           {
            "marker": {
             "line": {
              "color": "#E5ECF6",
              "width": 0.5
             },
             "pattern": {
              "fillmode": "overlay",
              "size": 10,
              "solidity": 0.2
             }
            },
            "type": "barpolar"
           }
          ],
          "carpet": [
           {
            "aaxis": {
             "endlinecolor": "#2a3f5f",
             "gridcolor": "white",
             "linecolor": "white",
             "minorgridcolor": "white",
             "startlinecolor": "#2a3f5f"
            },
            "baxis": {
             "endlinecolor": "#2a3f5f",
             "gridcolor": "white",
             "linecolor": "white",
             "minorgridcolor": "white",
             "startlinecolor": "#2a3f5f"
            },
            "type": "carpet"
           }
          ],
          "choropleth": [
           {
            "colorbar": {
             "outlinewidth": 0,
             "ticks": ""
            },
            "type": "choropleth"
           }
          ],
          "contour": [
           {
            "colorbar": {
             "outlinewidth": 0,
             "ticks": ""
            },
            "colorscale": [
             [
              0,
              "#0d0887"
             ],
             [
              0.1111111111111111,
              "#46039f"
             ],
             [
              0.2222222222222222,
              "#7201a8"
             ],
             [
              0.3333333333333333,
              "#9c179e"
             ],
             [
              0.4444444444444444,
              "#bd3786"
             ],
             [
              0.5555555555555556,
              "#d8576b"
             ],
             [
              0.6666666666666666,
              "#ed7953"
             ],
             [
              0.7777777777777778,
              "#fb9f3a"
             ],
             [
              0.8888888888888888,
              "#fdca26"
             ],
             [
              1,
              "#f0f921"
             ]
            ],
            "type": "contour"
           }
          ],
          "contourcarpet": [
           {
            "colorbar": {
             "outlinewidth": 0,
             "ticks": ""
            },
            "type": "contourcarpet"
           }
          ],
          "heatmap": [
           {
            "colorbar": {
             "outlinewidth": 0,
             "ticks": ""
            },
            "colorscale": [
             [
              0,
              "#0d0887"
             ],
             [
              0.1111111111111111,
              "#46039f"
             ],
             [
              0.2222222222222222,
              "#7201a8"
             ],
             [
              0.3333333333333333,
              "#9c179e"
             ],
             [
              0.4444444444444444,
              "#bd3786"
             ],
             [
              0.5555555555555556,
              "#d8576b"
             ],
             [
              0.6666666666666666,
              "#ed7953"
             ],
             [
              0.7777777777777778,
              "#fb9f3a"
             ],
             [
              0.8888888888888888,
              "#fdca26"
             ],
             [
              1,
              "#f0f921"
             ]
            ],
            "type": "heatmap"
           }
          ],
          "histogram": [
           {
            "marker": {
             "pattern": {
              "fillmode": "overlay",
              "size": 10,
              "solidity": 0.2
             }
            },
            "type": "histogram"
           }
          ],
          "histogram2d": [
           {
            "colorbar": {
             "outlinewidth": 0,
             "ticks": ""
            },
            "colorscale": [
             [
              0,
              "#0d0887"
             ],
             [
              0.1111111111111111,
              "#46039f"
             ],
             [
              0.2222222222222222,
              "#7201a8"
             ],
             [
              0.3333333333333333,
              "#9c179e"
             ],
             [
              0.4444444444444444,
              "#bd3786"
             ],
             [
              0.5555555555555556,
              "#d8576b"
             ],
             [
              0.6666666666666666,
              "#ed7953"
             ],
             [
              0.7777777777777778,
              "#fb9f3a"
             ],
             [
              0.8888888888888888,
              "#fdca26"
             ],
             [
              1,
              "#f0f921"
             ]
            ],
            "type": "histogram2d"
           }
          ],
          "histogram2dcontour": [
           {
            "colorbar": {
             "outlinewidth": 0,
             "ticks": ""
            },
            "colorscale": [
             [
              0,
              "#0d0887"
             ],
             [
              0.1111111111111111,
              "#46039f"
             ],
             [
              0.2222222222222222,
              "#7201a8"
             ],
             [
              0.3333333333333333,
              "#9c179e"
             ],
             [
              0.4444444444444444,
              "#bd3786"
             ],
             [
              0.5555555555555556,
              "#d8576b"
             ],
             [
              0.6666666666666666,
              "#ed7953"
             ],
             [
              0.7777777777777778,
              "#fb9f3a"
             ],
             [
              0.8888888888888888,
              "#fdca26"
             ],
             [
              1,
              "#f0f921"
             ]
            ],
            "type": "histogram2dcontour"
           }
          ],
          "mesh3d": [
           {
            "colorbar": {
             "outlinewidth": 0,
             "ticks": ""
            },
            "type": "mesh3d"
           }
          ],
          "parcoords": [
           {
            "line": {
             "colorbar": {
              "outlinewidth": 0,
              "ticks": ""
             }
            },
            "type": "parcoords"
           }
          ],
          "pie": [
           {
            "automargin": true,
            "type": "pie"
           }
          ],
          "scatter": [
           {
            "fillpattern": {
             "fillmode": "overlay",
             "size": 10,
             "solidity": 0.2
            },
            "type": "scatter"
           }
          ],
          "scatter3d": [
           {
            "line": {
             "colorbar": {
              "outlinewidth": 0,
              "ticks": ""
             }
            },
            "marker": {
             "colorbar": {
              "outlinewidth": 0,
              "ticks": ""
             }
            },
            "type": "scatter3d"
           }
          ],
          "scattercarpet": [
           {
            "marker": {
             "colorbar": {
              "outlinewidth": 0,
              "ticks": ""
             }
            },
            "type": "scattercarpet"
           }
          ],
          "scattergeo": [
           {
            "marker": {
             "colorbar": {
              "outlinewidth": 0,
              "ticks": ""
             }
            },
            "type": "scattergeo"
           }
          ],
          "scattergl": [
           {
            "marker": {
             "colorbar": {
              "outlinewidth": 0,
              "ticks": ""
             }
            },
            "type": "scattergl"
           }
          ],
          "scattermap": [
           {
            "marker": {
             "colorbar": {
              "outlinewidth": 0,
              "ticks": ""
             }
            },
            "type": "scattermap"
           }
          ],
          "scattermapbox": [
           {
            "marker": {
             "colorbar": {
              "outlinewidth": 0,
              "ticks": ""
             }
            },
            "type": "scattermapbox"
           }
          ],
          "scatterpolar": [
           {
            "marker": {
             "colorbar": {
              "outlinewidth": 0,
              "ticks": ""
             }
            },
            "type": "scatterpolar"
           }
          ],
          "scatterpolargl": [
           {
            "marker": {
             "colorbar": {
              "outlinewidth": 0,
              "ticks": ""
             }
            },
            "type": "scatterpolargl"
           }
          ],
          "scatterternary": [
           {
            "marker": {
             "colorbar": {
              "outlinewidth": 0,
              "ticks": ""
             }
            },
            "type": "scatterternary"
           }
          ],
          "surface": [
           {
            "colorbar": {
             "outlinewidth": 0,
             "ticks": ""
            },
            "colorscale": [
             [
              0,
              "#0d0887"
             ],
             [
              0.1111111111111111,
              "#46039f"
             ],
             [
              0.2222222222222222,
              "#7201a8"
             ],
             [
              0.3333333333333333,
              "#9c179e"
             ],
             [
              0.4444444444444444,
              "#bd3786"
             ],
             [
              0.5555555555555556,
              "#d8576b"
             ],
             [
              0.6666666666666666,
              "#ed7953"
             ],
             [
              0.7777777777777778,
              "#fb9f3a"
             ],
             [
              0.8888888888888888,
              "#fdca26"
             ],
             [
              1,
              "#f0f921"
             ]
            ],
            "type": "surface"
           }
          ],
          "table": [
           {
            "cells": {
             "fill": {
              "color": "#EBF0F8"
             },
             "line": {
              "color": "white"
             }
            },
            "header": {
             "fill": {
              "color": "#C8D4E3"
             },
             "line": {
              "color": "white"
             }
            },
            "type": "table"
           }
          ]
         },
         "layout": {
          "annotationdefaults": {
           "arrowcolor": "#2a3f5f",
           "arrowhead": 0,
           "arrowwidth": 1
          },
          "autotypenumbers": "strict",
          "coloraxis": {
           "colorbar": {
            "outlinewidth": 0,
            "ticks": ""
           }
          },
          "colorscale": {
           "diverging": [
            [
             0,
             "#8e0152"
            ],
            [
             0.1,
             "#c51b7d"
            ],
            [
             0.2,
             "#de77ae"
            ],
            [
             0.3,
             "#f1b6da"
            ],
            [
             0.4,
             "#fde0ef"
            ],
            [
             0.5,
             "#f7f7f7"
            ],
            [
             0.6,
             "#e6f5d0"
            ],
            [
             0.7,
             "#b8e186"
            ],
            [
             0.8,
             "#7fbc41"
            ],
            [
             0.9,
             "#4d9221"
            ],
            [
             1,
             "#276419"
            ]
           ],
           "sequential": [
            [
             0,
             "#0d0887"
            ],
            [
             0.1111111111111111,
             "#46039f"
            ],
            [
             0.2222222222222222,
             "#7201a8"
            ],
            [
             0.3333333333333333,
             "#9c179e"
            ],
            [
             0.4444444444444444,
             "#bd3786"
            ],
            [
             0.5555555555555556,
             "#d8576b"
            ],
            [
             0.6666666666666666,
             "#ed7953"
            ],
            [
             0.7777777777777778,
             "#fb9f3a"
            ],
            [
             0.8888888888888888,
             "#fdca26"
            ],
            [
             1,
             "#f0f921"
            ]
           ],
           "sequentialminus": [
            [
             0,
             "#0d0887"
            ],
            [
             0.1111111111111111,
             "#46039f"
            ],
            [
             0.2222222222222222,
             "#7201a8"
            ],
            [
             0.3333333333333333,
             "#9c179e"
            ],
            [
             0.4444444444444444,
             "#bd3786"
            ],
            [
             0.5555555555555556,
             "#d8576b"
            ],
            [
             0.6666666666666666,
             "#ed7953"
            ],
            [
             0.7777777777777778,
             "#fb9f3a"
            ],
            [
             0.8888888888888888,
             "#fdca26"
            ],
            [
             1,
             "#f0f921"
            ]
           ]
          },
          "colorway": [
           "#636efa",
           "#EF553B",
           "#00cc96",
           "#ab63fa",
           "#FFA15A",
           "#19d3f3",
           "#FF6692",
           "#B6E880",
           "#FF97FF",
           "#FECB52"
          ],
          "font": {
           "color": "#2a3f5f"
          },
          "geo": {
           "bgcolor": "white",
           "lakecolor": "white",
           "landcolor": "#E5ECF6",
           "showlakes": true,
           "showland": true,
           "subunitcolor": "white"
          },
          "hoverlabel": {
           "align": "left"
          },
          "hovermode": "closest",
          "mapbox": {
           "style": "light"
          },
          "paper_bgcolor": "white",
          "plot_bgcolor": "#E5ECF6",
          "polar": {
           "angularaxis": {
            "gridcolor": "white",
            "linecolor": "white",
            "ticks": ""
           },
           "bgcolor": "#E5ECF6",
           "radialaxis": {
            "gridcolor": "white",
            "linecolor": "white",
            "ticks": ""
           }
          },
          "scene": {
           "xaxis": {
            "backgroundcolor": "#E5ECF6",
            "gridcolor": "white",
            "gridwidth": 2,
            "linecolor": "white",
            "showbackground": true,
            "ticks": "",
            "zerolinecolor": "white"
           },
           "yaxis": {
            "backgroundcolor": "#E5ECF6",
            "gridcolor": "white",
            "gridwidth": 2,
            "linecolor": "white",
            "showbackground": true,
            "ticks": "",
            "zerolinecolor": "white"
           },
           "zaxis": {
            "backgroundcolor": "#E5ECF6",
            "gridcolor": "white",
            "gridwidth": 2,
            "linecolor": "white",
            "showbackground": true,
            "ticks": "",
            "zerolinecolor": "white"
           }
          },
          "shapedefaults": {
           "line": {
            "color": "#2a3f5f"
           }
          },
          "ternary": {
           "aaxis": {
            "gridcolor": "white",
            "linecolor": "white",
            "ticks": ""
           },
           "baxis": {
            "gridcolor": "white",
            "linecolor": "white",
            "ticks": ""
           },
           "bgcolor": "#E5ECF6",
           "caxis": {
            "gridcolor": "white",
            "linecolor": "white",
            "ticks": ""
           }
          },
          "title": {
           "x": 0.05
          },
          "xaxis": {
           "automargin": true,
           "gridcolor": "white",
           "linecolor": "white",
           "ticks": "",
           "title": {
            "standoff": 15
           },
           "zerolinecolor": "white",
           "zerolinewidth": 2
          },
          "yaxis": {
           "automargin": true,
           "gridcolor": "white",
           "linecolor": "white",
           "ticks": "",
           "title": {
            "standoff": 15
           },
           "zerolinecolor": "white",
           "zerolinewidth": 2
          }
         }
        },
        "title": {
         "text": "Disponibilidad Media (30 días) por Ciudad y Reserva Automática",
         "x": 0.5
        },
        "xaxis": {
         "anchor": "y",
         "domain": [
          0,
          1
         ],
         "title": {
          "text": "Ciudad"
         }
        },
        "yaxis": {
         "anchor": "x",
         "domain": [
          0,
          1
         ],
         "tickformat": ".2f",
         "title": {
          "text": "Disponibilidad Media (días)"
         }
        }
       }
      }
     },
     "metadata": {},
     "output_type": "display_data"
    }
   ],
   "source": [
    "import pandas as pd\n",
    "import plotly.express as px\n",
    "import plotly.graph_objects as go\n",
    "\n",
    "# 1. Agrupar por ciudad y reserva automática\n",
    "disponibilidad_media_mensual = df.groupby(['city', 'is_instant_bookable'])['availability_30'].mean().reset_index()\n",
    "\n",
    "# 2. Renombrar para mayor claridad\n",
    "disponibilidad_media_mensual.rename(columns={'availability_30': 'mean_availability_30'}, inplace=True)\n",
    "\n",
    "# 3. Pivot para comparación entre FALSO y VERDADERO\n",
    "pivot_disponibilidad_mensual = disponibilidad_media_mensual.pivot(\n",
    "    index='city', columns='is_instant_bookable', values='mean_availability_30'\n",
    ")\n",
    "\n",
    "# 4. Calcular impacto absoluto y relativo\n",
    "pivot_disponibilidad_mensual['impact'] = pivot_disponibilidad_mensual['VERDADERO'] - pivot_disponibilidad_mensual['FALSO']\n",
    "pivot_disponibilidad_mensual['impact_%'] = (pivot_disponibilidad_mensual['impact'] / pivot_disponibilidad_mensual['FALSO']) * 100\n",
    "\n",
    "# 5. Redondear\n",
    "pivot_disponibilidad_mensual = pivot_disponibilidad_mensual.round(2).reset_index()\n",
    "\n",
    "# 6. Preparar datos en formato largo para gráfico\n",
    "df_melted_disp = pivot_disponibilidad_mensual.melt(\n",
    "    id_vars='city',\n",
    "    value_vars=['FALSO', 'VERDADERO'],\n",
    "    var_name='Reserva Automática',\n",
    "    value_name='Disponibilidad Media'\n",
    ")\n",
    "\n",
    "# 7. Asignar colores personalizados\n",
    "colores_personalizados = {\n",
    "    'FALSO': '#8BAE3F',     # verde claro\n",
    "    'VERDADERO': '#2D6A4F'  # verde oscuro\n",
    "}\n",
    "\n",
    "# 8. Gráfico de barras agrupadas\n",
    "fig_barras = px.bar(\n",
    "    df_melted_disp,\n",
    "    x='city',\n",
    "    y='Disponibilidad Media',\n",
    "    color='Reserva Automática',\n",
    "    barmode='group',\n",
    "    title='Disponibilidad Media (30 días) por Ciudad y Reserva Automática',\n",
    "    labels={'Disponibilidad Media': 'Disponibilidad Media (días)', 'Reserva Automática': 'Reserva Automática'},\n",
    "    color_discrete_map=colores_personalizados\n",
    ")\n",
    "\n",
    "fig_barras.update_layout(\n",
    "    yaxis_tickformat=\".2f\",\n",
    "    xaxis_title='Ciudad',\n",
    "    yaxis_title='Disponibilidad Media (días)',\n",
    "    paper_bgcolor=\"#D8F3DC\",\n",
    "    plot_bgcolor=\"#D8F3DC\",\n",
    "    title_x=0.5\n",
    ")\n",
    "\n",
    "# 9. Tabla en formato Plotly con fondo personalizado\n",
    "fig_tabla = go.Figure(\n",
    "    data=[\n",
    "        go.Table(\n",
    "            header=dict(\n",
    "                values=[\"<b>Ciudad</b>\", \"<b>FALSO</b>\", \"<b>VERDADERO</b>\", \"<b>Impacto (días)</b>\", \"<b>Impacto (%)</b>\"],\n",
    "                fill_color=\"#2D6A4F\",  # verde oscuro\n",
    "                font=dict(color=\"white\", size=14),\n",
    "                align=\"center\",\n",
    "                height=30\n",
    "            ),\n",
    "            cells=dict(\n",
    "                values=[\n",
    "                    pivot_disponibilidad_mensual['city'],\n",
    "                    pivot_disponibilidad_mensual['FALSO'],\n",
    "                    pivot_disponibilidad_mensual['VERDADERO'],\n",
    "                    pivot_disponibilidad_mensual['impact'],\n",
    "                    pivot_disponibilidad_mensual['impact_%']\n",
    "                ],\n",
    "                fill_color=\"#D8F3DC\",  # fondo verde claro\n",
    "                align=\"center\",\n",
    "                height=25,\n",
    "                font=dict(color=\"black\", size=12),\n",
    "                format=[\"\", \".2f\", \".2f\", \".2f\", \".2f\"]\n",
    "            )\n",
    "        )\n",
    "    ]\n",
    ")\n",
    "\n",
    "fig_tabla.update_layout(\n",
    "    title=\"Tabla de Disponibilidad Media (30 días) por Ciudad y Reserva Automática\",\n",
    "    title_x=0.5,\n",
    "    margin=dict(l=10, r=10, t=60, b=10),\n",
    "    paper_bgcolor=\"#D8F3DC\"\n",
    ")\n",
    "\n",
    "# 10. Mostrar resultados\n",
    "fig_tabla.show()\n",
    "fig_barras.show()\n"
   ]
  },
  {
   "cell_type": "markdown",
   "id": "28ee4089",
   "metadata": {},
   "source": [
    "interpretación:\n",
    "\n",
    "En Barcelona, los alojamientos sin reserva automática (FALSO) presentan una disponibilidad media de 11,42 días en los próximos 30 días.\n",
    "En cambio, aquellos con reserva automática (VERDADERO) tienen una disponibilidad ligeramente menor: 11,05 días.\n",
    "\n",
    "Esto representa un impacto negativo de -0,36 días, es decir, una disminución del 3,20% en la disponibilidad cuando se activa la opción de reserva instantánea.\n",
    "\n",
    "📌 Esto podría indicar que los alojamientos con reserva automática tienen una mayor demanda, lo que reduce su disponibilidad."
   ]
  },
  {
   "cell_type": "markdown",
   "id": "4e3cd2ff",
   "metadata": {},
   "source": [
    "# Disponibilidad Media (availability_30) por Ciudad, Tipo de Alojamiento y Reserva Automática con impacto correspondiente"
   ]
  },
  {
   "cell_type": "code",
   "execution_count": null,
   "id": "31a88e98",
   "metadata": {},
   "outputs": [
    {
     "data": {
      "application/vnd.plotly.v1+json": {
       "config": {
        "plotlyServerURL": "https://plot.ly"
       },
       "data": [
        {
         "cells": {
          "align": "center",
          "fill": {
           "color": "#D8F3DC"
          },
          "font": {
           "color": "black",
           "size": 12
          },
          "format": [
           "",
           "",
           ".2f",
           ".2f",
           ".2f",
           ".2f"
          ],
          "height": 25,
          "values": [
           [
            "barcelona",
            "barcelona",
            "barcelona",
            "barcelona",
            "girona",
            "girona",
            "girona",
            "madrid",
            "madrid",
            "madrid",
            "madrid",
            "malaga",
            "malaga",
            "malaga",
            "malaga",
            "mallorca",
            "mallorca",
            "mallorca",
            "mallorca",
            "menorca",
            "menorca",
            "sevilla",
            "sevilla",
            "sevilla",
            "sevilla",
            "valencia",
            "valencia",
            "valencia",
            "valencia"
           ],
           [
            "Entire home/apt",
            "Hotel room",
            "Private room",
            "Shared room",
            "Entire home/apt",
            "Hotel room",
            "Private room",
            "Entire home/apt",
            "Hotel room",
            "Private room",
            "Shared room",
            "Entire home/apt",
            "Hotel room",
            "Private room",
            "Shared room",
            "Entire home/apt",
            "Hotel room",
            "Private room",
            "Shared room",
            "Entire home/apt",
            "Private room",
            "Entire home/apt",
            "Hotel room",
            "Private room",
            "Shared room",
            "Entire home/apt",
            "Hotel room",
            "Private room",
            "Shared room"
           ],
           [
            10.68,
            6,
            11.9,
            15.09,
            16.47,
            null,
            19,
            10.63,
            null,
            10.29,
            16.73,
            11.93,
            null,
            14,
            null,
            13.09,
            null,
            15.88,
            0,
            16.2,
            7.67,
            14.39,
            null,
            11.3,
            0,
            13.09,
            null,
            14.9,
            null
           ],
           [
            11.23,
            11.83,
            10.59,
            23.11,
            13.3,
            4,
            13.31,
            11.22,
            16,
            9.7,
            16.14,
            12.71,
            20,
            10.64,
            7,
            13.47,
            11,
            15.18,
            17,
            13.28,
            13.88,
            15.13,
            18.78,
            12.5,
            null,
            11.97,
            16.5,
            13.22,
            10
           ],
           [
            0.55,
            5.83,
            -1.31,
            8.02,
            -3.17,
            null,
            -5.69,
            0.59,
            null,
            -0.59,
            -0.58,
            0.78,
            null,
            -3.36,
            null,
            0.37,
            null,
            -0.71,
            17,
            -2.92,
            6.21,
            0.74,
            null,
            1.2,
            null,
            -1.12,
            null,
            -1.67,
            null
           ],
           [
            5.19,
            97.22,
            -10.99,
            53.15,
            -19.26,
            null,
            -29.92,
            5.56,
            null,
            -5.76,
            -3.49,
            6.56,
            null,
            -24.03,
            null,
            2.86,
            null,
            -4.44,
            null,
            -18,
            80.98,
            5.18,
            null,
            10.62,
            null,
            -8.56,
            null,
            -11.24,
            null
           ]
          ]
         },
         "header": {
          "align": "center",
          "fill": {
           "color": "#2D6A4F"
          },
          "font": {
           "color": "white",
           "size": 13
          },
          "height": 30,
          "values": [
           "<b>Ciudad</b>",
           "<b>Tipo de Alojamiento</b>",
           "<b>FALSO</b>",
           "<b>VERDADERO</b>",
           "<b>Impacto (días)</b>",
           "<b>Impacto (%)</b>"
          ]
         },
         "type": "table"
        }
       ],
       "layout": {
        "margin": {
         "b": 10,
         "l": 10,
         "r": 10,
         "t": 60
        },
        "paper_bgcolor": "#D8F3DC",
        "template": {
         "data": {
          "bar": [
           {
            "error_x": {
             "color": "#2a3f5f"
            },
            "error_y": {
             "color": "#2a3f5f"
            },
            "marker": {
             "line": {
              "color": "#E5ECF6",
              "width": 0.5
             },
             "pattern": {
              "fillmode": "overlay",
              "size": 10,
              "solidity": 0.2
             }
            },
            "type": "bar"
           }
          ],
          "barpolar": [
           {
            "marker": {
             "line": {
              "color": "#E5ECF6",
              "width": 0.5
             },
             "pattern": {
              "fillmode": "overlay",
              "size": 10,
              "solidity": 0.2
             }
            },
            "type": "barpolar"
           }
          ],
          "carpet": [
           {
            "aaxis": {
             "endlinecolor": "#2a3f5f",
             "gridcolor": "white",
             "linecolor": "white",
             "minorgridcolor": "white",
             "startlinecolor": "#2a3f5f"
            },
            "baxis": {
             "endlinecolor": "#2a3f5f",
             "gridcolor": "white",
             "linecolor": "white",
             "minorgridcolor": "white",
             "startlinecolor": "#2a3f5f"
            },
            "type": "carpet"
           }
          ],
          "choropleth": [
           {
            "colorbar": {
             "outlinewidth": 0,
             "ticks": ""
            },
            "type": "choropleth"
           }
          ],
          "contour": [
           {
            "colorbar": {
             "outlinewidth": 0,
             "ticks": ""
            },
            "colorscale": [
             [
              0,
              "#0d0887"
             ],
             [
              0.1111111111111111,
              "#46039f"
             ],
             [
              0.2222222222222222,
              "#7201a8"
             ],
             [
              0.3333333333333333,
              "#9c179e"
             ],
             [
              0.4444444444444444,
              "#bd3786"
             ],
             [
              0.5555555555555556,
              "#d8576b"
             ],
             [
              0.6666666666666666,
              "#ed7953"
             ],
             [
              0.7777777777777778,
              "#fb9f3a"
             ],
             [
              0.8888888888888888,
              "#fdca26"
             ],
             [
              1,
              "#f0f921"
             ]
            ],
            "type": "contour"
           }
          ],
          "contourcarpet": [
           {
            "colorbar": {
             "outlinewidth": 0,
             "ticks": ""
            },
            "type": "contourcarpet"
           }
          ],
          "heatmap": [
           {
            "colorbar": {
             "outlinewidth": 0,
             "ticks": ""
            },
            "colorscale": [
             [
              0,
              "#0d0887"
             ],
             [
              0.1111111111111111,
              "#46039f"
             ],
             [
              0.2222222222222222,
              "#7201a8"
             ],
             [
              0.3333333333333333,
              "#9c179e"
             ],
             [
              0.4444444444444444,
              "#bd3786"
             ],
             [
              0.5555555555555556,
              "#d8576b"
             ],
             [
              0.6666666666666666,
              "#ed7953"
             ],
             [
              0.7777777777777778,
              "#fb9f3a"
             ],
             [
              0.8888888888888888,
              "#fdca26"
             ],
             [
              1,
              "#f0f921"
             ]
            ],
            "type": "heatmap"
           }
          ],
          "histogram": [
           {
            "marker": {
             "pattern": {
              "fillmode": "overlay",
              "size": 10,
              "solidity": 0.2
             }
            },
            "type": "histogram"
           }
          ],
          "histogram2d": [
           {
            "colorbar": {
             "outlinewidth": 0,
             "ticks": ""
            },
            "colorscale": [
             [
              0,
              "#0d0887"
             ],
             [
              0.1111111111111111,
              "#46039f"
             ],
             [
              0.2222222222222222,
              "#7201a8"
             ],
             [
              0.3333333333333333,
              "#9c179e"
             ],
             [
              0.4444444444444444,
              "#bd3786"
             ],
             [
              0.5555555555555556,
              "#d8576b"
             ],
             [
              0.6666666666666666,
              "#ed7953"
             ],
             [
              0.7777777777777778,
              "#fb9f3a"
             ],
             [
              0.8888888888888888,
              "#fdca26"
             ],
             [
              1,
              "#f0f921"
             ]
            ],
            "type": "histogram2d"
           }
          ],
          "histogram2dcontour": [
           {
            "colorbar": {
             "outlinewidth": 0,
             "ticks": ""
            },
            "colorscale": [
             [
              0,
              "#0d0887"
             ],
             [
              0.1111111111111111,
              "#46039f"
             ],
             [
              0.2222222222222222,
              "#7201a8"
             ],
             [
              0.3333333333333333,
              "#9c179e"
             ],
             [
              0.4444444444444444,
              "#bd3786"
             ],
             [
              0.5555555555555556,
              "#d8576b"
             ],
             [
              0.6666666666666666,
              "#ed7953"
             ],
             [
              0.7777777777777778,
              "#fb9f3a"
             ],
             [
              0.8888888888888888,
              "#fdca26"
             ],
             [
              1,
              "#f0f921"
             ]
            ],
            "type": "histogram2dcontour"
           }
          ],
          "mesh3d": [
           {
            "colorbar": {
             "outlinewidth": 0,
             "ticks": ""
            },
            "type": "mesh3d"
           }
          ],
          "parcoords": [
           {
            "line": {
             "colorbar": {
              "outlinewidth": 0,
              "ticks": ""
             }
            },
            "type": "parcoords"
           }
          ],
          "pie": [
           {
            "automargin": true,
            "type": "pie"
           }
          ],
          "scatter": [
           {
            "fillpattern": {
             "fillmode": "overlay",
             "size": 10,
             "solidity": 0.2
            },
            "type": "scatter"
           }
          ],
          "scatter3d": [
           {
            "line": {
             "colorbar": {
              "outlinewidth": 0,
              "ticks": ""
             }
            },
            "marker": {
             "colorbar": {
              "outlinewidth": 0,
              "ticks": ""
             }
            },
            "type": "scatter3d"
           }
          ],
          "scattercarpet": [
           {
            "marker": {
             "colorbar": {
              "outlinewidth": 0,
              "ticks": ""
             }
            },
            "type": "scattercarpet"
           }
          ],
          "scattergeo": [
           {
            "marker": {
             "colorbar": {
              "outlinewidth": 0,
              "ticks": ""
             }
            },
            "type": "scattergeo"
           }
          ],
          "scattergl": [
           {
            "marker": {
             "colorbar": {
              "outlinewidth": 0,
              "ticks": ""
             }
            },
            "type": "scattergl"
           }
          ],
          "scattermap": [
           {
            "marker": {
             "colorbar": {
              "outlinewidth": 0,
              "ticks": ""
             }
            },
            "type": "scattermap"
           }
          ],
          "scattermapbox": [
           {
            "marker": {
             "colorbar": {
              "outlinewidth": 0,
              "ticks": ""
             }
            },
            "type": "scattermapbox"
           }
          ],
          "scatterpolar": [
           {
            "marker": {
             "colorbar": {
              "outlinewidth": 0,
              "ticks": ""
             }
            },
            "type": "scatterpolar"
           }
          ],
          "scatterpolargl": [
           {
            "marker": {
             "colorbar": {
              "outlinewidth": 0,
              "ticks": ""
             }
            },
            "type": "scatterpolargl"
           }
          ],
          "scatterternary": [
           {
            "marker": {
             "colorbar": {
              "outlinewidth": 0,
              "ticks": ""
             }
            },
            "type": "scatterternary"
           }
          ],
          "surface": [
           {
            "colorbar": {
             "outlinewidth": 0,
             "ticks": ""
            },
            "colorscale": [
             [
              0,
              "#0d0887"
             ],
             [
              0.1111111111111111,
              "#46039f"
             ],
             [
              0.2222222222222222,
              "#7201a8"
             ],
             [
              0.3333333333333333,
              "#9c179e"
             ],
             [
              0.4444444444444444,
              "#bd3786"
             ],
             [
              0.5555555555555556,
              "#d8576b"
             ],
             [
              0.6666666666666666,
              "#ed7953"
             ],
             [
              0.7777777777777778,
              "#fb9f3a"
             ],
             [
              0.8888888888888888,
              "#fdca26"
             ],
             [
              1,
              "#f0f921"
             ]
            ],
            "type": "surface"
           }
          ],
          "table": [
           {
            "cells": {
             "fill": {
              "color": "#EBF0F8"
             },
             "line": {
              "color": "white"
             }
            },
            "header": {
             "fill": {
              "color": "#C8D4E3"
             },
             "line": {
              "color": "white"
             }
            },
            "type": "table"
           }
          ]
         },
         "layout": {
          "annotationdefaults": {
           "arrowcolor": "#2a3f5f",
           "arrowhead": 0,
           "arrowwidth": 1
          },
          "autotypenumbers": "strict",
          "coloraxis": {
           "colorbar": {
            "outlinewidth": 0,
            "ticks": ""
           }
          },
          "colorscale": {
           "diverging": [
            [
             0,
             "#8e0152"
            ],
            [
             0.1,
             "#c51b7d"
            ],
            [
             0.2,
             "#de77ae"
            ],
            [
             0.3,
             "#f1b6da"
            ],
            [
             0.4,
             "#fde0ef"
            ],
            [
             0.5,
             "#f7f7f7"
            ],
            [
             0.6,
             "#e6f5d0"
            ],
            [
             0.7,
             "#b8e186"
            ],
            [
             0.8,
             "#7fbc41"
            ],
            [
             0.9,
             "#4d9221"
            ],
            [
             1,
             "#276419"
            ]
           ],
           "sequential": [
            [
             0,
             "#0d0887"
            ],
            [
             0.1111111111111111,
             "#46039f"
            ],
            [
             0.2222222222222222,
             "#7201a8"
            ],
            [
             0.3333333333333333,
             "#9c179e"
            ],
            [
             0.4444444444444444,
             "#bd3786"
            ],
            [
             0.5555555555555556,
             "#d8576b"
            ],
            [
             0.6666666666666666,
             "#ed7953"
            ],
            [
             0.7777777777777778,
             "#fb9f3a"
            ],
            [
             0.8888888888888888,
             "#fdca26"
            ],
            [
             1,
             "#f0f921"
            ]
           ],
           "sequentialminus": [
            [
             0,
             "#0d0887"
            ],
            [
             0.1111111111111111,
             "#46039f"
            ],
            [
             0.2222222222222222,
             "#7201a8"
            ],
            [
             0.3333333333333333,
             "#9c179e"
            ],
            [
             0.4444444444444444,
             "#bd3786"
            ],
            [
             0.5555555555555556,
             "#d8576b"
            ],
            [
             0.6666666666666666,
             "#ed7953"
            ],
            [
             0.7777777777777778,
             "#fb9f3a"
            ],
            [
             0.8888888888888888,
             "#fdca26"
            ],
            [
             1,
             "#f0f921"
            ]
           ]
          },
          "colorway": [
           "#636efa",
           "#EF553B",
           "#00cc96",
           "#ab63fa",
           "#FFA15A",
           "#19d3f3",
           "#FF6692",
           "#B6E880",
           "#FF97FF",
           "#FECB52"
          ],
          "font": {
           "color": "#2a3f5f"
          },
          "geo": {
           "bgcolor": "white",
           "lakecolor": "white",
           "landcolor": "#E5ECF6",
           "showlakes": true,
           "showland": true,
           "subunitcolor": "white"
          },
          "hoverlabel": {
           "align": "left"
          },
          "hovermode": "closest",
          "mapbox": {
           "style": "light"
          },
          "paper_bgcolor": "white",
          "plot_bgcolor": "#E5ECF6",
          "polar": {
           "angularaxis": {
            "gridcolor": "white",
            "linecolor": "white",
            "ticks": ""
           },
           "bgcolor": "#E5ECF6",
           "radialaxis": {
            "gridcolor": "white",
            "linecolor": "white",
            "ticks": ""
           }
          },
          "scene": {
           "xaxis": {
            "backgroundcolor": "#E5ECF6",
            "gridcolor": "white",
            "gridwidth": 2,
            "linecolor": "white",
            "showbackground": true,
            "ticks": "",
            "zerolinecolor": "white"
           },
           "yaxis": {
            "backgroundcolor": "#E5ECF6",
            "gridcolor": "white",
            "gridwidth": 2,
            "linecolor": "white",
            "showbackground": true,
            "ticks": "",
            "zerolinecolor": "white"
           },
           "zaxis": {
            "backgroundcolor": "#E5ECF6",
            "gridcolor": "white",
            "gridwidth": 2,
            "linecolor": "white",
            "showbackground": true,
            "ticks": "",
            "zerolinecolor": "white"
           }
          },
          "shapedefaults": {
           "line": {
            "color": "#2a3f5f"
           }
          },
          "ternary": {
           "aaxis": {
            "gridcolor": "white",
            "linecolor": "white",
            "ticks": ""
           },
           "baxis": {
            "gridcolor": "white",
            "linecolor": "white",
            "ticks": ""
           },
           "bgcolor": "#E5ECF6",
           "caxis": {
            "gridcolor": "white",
            "linecolor": "white",
            "ticks": ""
           }
          },
          "title": {
           "x": 0.05
          },
          "xaxis": {
           "automargin": true,
           "gridcolor": "white",
           "linecolor": "white",
           "ticks": "",
           "title": {
            "standoff": 15
           },
           "zerolinecolor": "white",
           "zerolinewidth": 2
          },
          "yaxis": {
           "automargin": true,
           "gridcolor": "white",
           "linecolor": "white",
           "ticks": "",
           "title": {
            "standoff": 15
           },
           "zerolinecolor": "white",
           "zerolinewidth": 2
          }
         }
        },
        "title": {
         "text": "Disponibilidad Media (availability_30) por Ciudad, Tipo de Alojamiento y Reserva Automática",
         "x": 0.5
        }
       }
      }
     },
     "metadata": {},
     "output_type": "display_data"
    },
    {
     "data": {
      "application/vnd.plotly.v1+json": {
       "config": {
        "plotlyServerURL": "https://plot.ly"
       },
       "data": [
        {
         "alignmentgroup": "True",
         "hovertemplate": "Reserva Automática=FALSO<br>room_type=Entire home/apt<br>Ciudad=%{x}<br>Disponibilidad Media (días)=%{y}<extra></extra>",
         "legendgroup": "FALSO",
         "marker": {
          "color": "#8BAE3F",
          "pattern": {
           "shape": ""
          }
         },
         "name": "FALSO",
         "offsetgroup": "FALSO",
         "orientation": "v",
         "showlegend": true,
         "textposition": "auto",
         "type": "bar",
         "x": [
          "barcelona",
          "girona",
          "madrid",
          "malaga",
          "mallorca",
          "menorca",
          "sevilla",
          "valencia"
         ],
         "xaxis": "x",
         "y": {
          "bdata": "04s4UXlaJUAbyEnmSnkwQCUFJPzkQiVAvu51r3vdJ0Au7OPCPi4qQDMzMzMzMzBARhdddNHFLEBkb22Y5i4qQA==",
          "dtype": "f8"
         },
         "yaxis": "y"
        },
        {
         "alignmentgroup": "True",
         "hovertemplate": "Reserva Automática=FALSO<br>room_type=Hotel room<br>Ciudad=%{x}<br>Disponibilidad Media (días)=%{y}<extra></extra>",
         "legendgroup": "FALSO",
         "marker": {
          "color": "#8BAE3F",
          "pattern": {
           "shape": ""
          }
         },
         "name": "FALSO",
         "offsetgroup": "FALSO",
         "orientation": "v",
         "showlegend": false,
         "textposition": "auto",
         "type": "bar",
         "x": [
          "barcelona"
         ],
         "xaxis": "x2",
         "y": {
          "bdata": "AAAAAAAAGEA=",
          "dtype": "f8"
         },
         "yaxis": "y2"
        },
        {
         "alignmentgroup": "True",
         "hovertemplate": "Reserva Automática=FALSO<br>room_type=Private room<br>Ciudad=%{x}<br>Disponibilidad Media (días)=%{y}<extra></extra>",
         "legendgroup": "FALSO",
         "marker": {
          "color": "#8BAE3F",
          "pattern": {
           "shape": ""
          }
         },
         "name": "FALSO",
         "offsetgroup": "FALSO",
         "orientation": "v",
         "showlegend": false,
         "textposition": "auto",
         "type": "bar",
         "x": [
          "barcelona",
          "girona",
          "madrid",
          "malaga",
          "mallorca",
          "menorca",
          "sevilla",
          "valencia"
         ],
         "xaxis": "x3",
         "y": {
          "bdata": "sAPhnZ7LJ0AAAAAAAAAzQHIOkjZElSRAAAAAAAAALEBxR9wRd8QvQKuqqqqqqh5AmpmZmZmZJkCrqqqqqsotQA==",
          "dtype": "f8"
         },
         "yaxis": "y3"
        },
        {
         "alignmentgroup": "True",
         "hovertemplate": "Reserva Automática=FALSO<br>room_type=Shared room<br>Ciudad=%{x}<br>Disponibilidad Media (días)=%{y}<extra></extra>",
         "legendgroup": "FALSO",
         "marker": {
          "color": "#8BAE3F",
          "pattern": {
           "shape": ""
          }
         },
         "name": "FALSO",
         "offsetgroup": "FALSO",
         "orientation": "v",
         "showlegend": false,
         "textposition": "auto",
         "type": "bar",
         "x": [
          "barcelona",
          "madrid",
          "mallorca",
          "sevilla"
         ],
         "xaxis": "x4",
         "y": {
          "bdata": "L7rooosuLkC66KKLLrowQAAAAAAAAAAAAAAAAAAAAAA=",
          "dtype": "f8"
         },
         "yaxis": "y4"
        },
        {
         "alignmentgroup": "True",
         "hovertemplate": "Reserva Automática=VERDADERO<br>room_type=Entire home/apt<br>Ciudad=%{x}<br>Disponibilidad Media (días)=%{y}<extra></extra>",
         "legendgroup": "VERDADERO",
         "marker": {
          "color": "#2D6A4F",
          "pattern": {
           "shape": ""
          }
         },
         "name": "VERDADERO",
         "offsetgroup": "VERDADERO",
         "orientation": "v",
         "showlegend": true,
         "textposition": "auto",
         "type": "bar",
         "x": [
          "barcelona",
          "girona",
          "madrid",
          "malaga",
          "mallorca",
          "menorca",
          "sevilla",
          "valencia"
         ],
         "xaxis": "x",
         "y": {
          "bdata": "E9IGSzl2JkCef9c6XZoqQOrS/s6wcSZAeXNCiQZuKUA84o64I+4qQMHTrflhkSpAfi9Dfi9DLkAWX/EVX/EnQA==",
          "dtype": "f8"
         },
         "yaxis": "y"
        },
        {
         "alignmentgroup": "True",
         "hovertemplate": "Reserva Automática=VERDADERO<br>room_type=Hotel room<br>Ciudad=%{x}<br>Disponibilidad Media (días)=%{y}<extra></extra>",
         "legendgroup": "VERDADERO",
         "marker": {
          "color": "#2D6A4F",
          "pattern": {
           "shape": ""
          }
         },
         "name": "VERDADERO",
         "offsetgroup": "VERDADERO",
         "orientation": "v",
         "showlegend": false,
         "textposition": "auto",
         "type": "bar",
         "x": [
          "barcelona",
          "girona",
          "madrid",
          "malaga",
          "mallorca",
          "sevilla",
          "valencia"
         ],
         "xaxis": "x2",
         "y": {
          "bdata": "q6qqqqqqJ0AAAAAAAAAQQAAAAAAAADBAAAAAAAAANEAAAAAAAAAmQHIcx3EcxzJAAAAAAACAMEA=",
          "dtype": "f8"
         },
         "yaxis": "y2"
        },
        {
         "alignmentgroup": "True",
         "hovertemplate": "Reserva Automática=VERDADERO<br>room_type=Private room<br>Ciudad=%{x}<br>Disponibilidad Media (días)=%{y}<extra></extra>",
         "legendgroup": "VERDADERO",
         "marker": {
          "color": "#2D6A4F",
          "pattern": {
           "shape": ""
          }
         },
         "name": "VERDADERO",
         "offsetgroup": "VERDADERO",
         "orientation": "v",
         "showlegend": false,
         "textposition": "auto",
         "type": "bar",
         "x": [
          "barcelona",
          "girona",
          "madrid",
          "malaga",
          "mallorca",
          "menorca",
          "sevilla",
          "valencia"
         ],
         "xaxis": "x3",
         "y": {
          "bdata": "QJobFQEuJUAP6qAO6qAqQGa9X9b7ZSNARhdddNFFJUC3bdu2bVsuQAAAAAAAwCtAAAAAAAAAKUAcx3Ecx3EqQA==",
          "dtype": "f8"
         },
         "yaxis": "y3"
        },
        {
         "alignmentgroup": "True",
         "hovertemplate": "Reserva Automática=VERDADERO<br>room_type=Shared room<br>Ciudad=%{x}<br>Disponibilidad Media (días)=%{y}<extra></extra>",
         "legendgroup": "VERDADERO",
         "marker": {
          "color": "#2D6A4F",
          "pattern": {
           "shape": ""
          }
         },
         "name": "VERDADERO",
         "offsetgroup": "VERDADERO",
         "orientation": "v",
         "showlegend": false,
         "textposition": "auto",
         "type": "bar",
         "x": [
          "barcelona",
          "madrid",
          "malaga",
          "mallorca",
          "valencia"
         ],
         "xaxis": "x4",
         "y": {
          "bdata": "x3Ecx3EcN0BJkiRJkiQwQAAAAAAAABxAAAAAAAAAMUAAAAAAAAAkQA==",
          "dtype": "f8"
         },
         "yaxis": "y4"
        }
       ],
       "layout": {
        "annotations": [
         {
          "font": {},
          "showarrow": false,
          "text": "room_type=Entire home/apt",
          "x": 0.1175,
          "xanchor": "center",
          "xref": "paper",
          "y": 1,
          "yanchor": "bottom",
          "yref": "paper"
         },
         {
          "font": {},
          "showarrow": false,
          "text": "room_type=Hotel room",
          "x": 0.3725,
          "xanchor": "center",
          "xref": "paper",
          "y": 1,
          "yanchor": "bottom",
          "yref": "paper"
         },
         {
          "font": {},
          "showarrow": false,
          "text": "room_type=Private room",
          "x": 0.6275,
          "xanchor": "center",
          "xref": "paper",
          "y": 1,
          "yanchor": "bottom",
          "yref": "paper"
         },
         {
          "font": {},
          "showarrow": false,
          "text": "room_type=Shared room",
          "x": 0.8824999999999998,
          "xanchor": "center",
          "xref": "paper",
          "y": 1,
          "yanchor": "bottom",
          "yref": "paper"
         }
        ],
        "barmode": "group",
        "height": 500,
        "legend": {
         "title": {
          "text": "Reserva Automática"
         },
         "tracegroupgap": 0
        },
        "paper_bgcolor": "#D8F3DC",
        "plot_bgcolor": "#D8F3DC",
        "template": {
         "data": {
          "bar": [
           {
            "error_x": {
             "color": "#2a3f5f"
            },
            "error_y": {
             "color": "#2a3f5f"
            },
            "marker": {
             "line": {
              "color": "#E5ECF6",
              "width": 0.5
             },
             "pattern": {
              "fillmode": "overlay",
              "size": 10,
              "solidity": 0.2
             }
            },
            "type": "bar"
           }
          ],
          "barpolar": [
           {
            "marker": {
             "line": {
              "color": "#E5ECF6",
              "width": 0.5
             },
             "pattern": {
              "fillmode": "overlay",
              "size": 10,
              "solidity": 0.2
             }
            },
            "type": "barpolar"
           }
          ],
          "carpet": [
           {
            "aaxis": {
             "endlinecolor": "#2a3f5f",
             "gridcolor": "white",
             "linecolor": "white",
             "minorgridcolor": "white",
             "startlinecolor": "#2a3f5f"
            },
            "baxis": {
             "endlinecolor": "#2a3f5f",
             "gridcolor": "white",
             "linecolor": "white",
             "minorgridcolor": "white",
             "startlinecolor": "#2a3f5f"
            },
            "type": "carpet"
           }
          ],
          "choropleth": [
           {
            "colorbar": {
             "outlinewidth": 0,
             "ticks": ""
            },
            "type": "choropleth"
           }
          ],
          "contour": [
           {
            "colorbar": {
             "outlinewidth": 0,
             "ticks": ""
            },
            "colorscale": [
             [
              0,
              "#0d0887"
             ],
             [
              0.1111111111111111,
              "#46039f"
             ],
             [
              0.2222222222222222,
              "#7201a8"
             ],
             [
              0.3333333333333333,
              "#9c179e"
             ],
             [
              0.4444444444444444,
              "#bd3786"
             ],
             [
              0.5555555555555556,
              "#d8576b"
             ],
             [
              0.6666666666666666,
              "#ed7953"
             ],
             [
              0.7777777777777778,
              "#fb9f3a"
             ],
             [
              0.8888888888888888,
              "#fdca26"
             ],
             [
              1,
              "#f0f921"
             ]
            ],
            "type": "contour"
           }
          ],
          "contourcarpet": [
           {
            "colorbar": {
             "outlinewidth": 0,
             "ticks": ""
            },
            "type": "contourcarpet"
           }
          ],
          "heatmap": [
           {
            "colorbar": {
             "outlinewidth": 0,
             "ticks": ""
            },
            "colorscale": [
             [
              0,
              "#0d0887"
             ],
             [
              0.1111111111111111,
              "#46039f"
             ],
             [
              0.2222222222222222,
              "#7201a8"
             ],
             [
              0.3333333333333333,
              "#9c179e"
             ],
             [
              0.4444444444444444,
              "#bd3786"
             ],
             [
              0.5555555555555556,
              "#d8576b"
             ],
             [
              0.6666666666666666,
              "#ed7953"
             ],
             [
              0.7777777777777778,
              "#fb9f3a"
             ],
             [
              0.8888888888888888,
              "#fdca26"
             ],
             [
              1,
              "#f0f921"
             ]
            ],
            "type": "heatmap"
           }
          ],
          "histogram": [
           {
            "marker": {
             "pattern": {
              "fillmode": "overlay",
              "size": 10,
              "solidity": 0.2
             }
            },
            "type": "histogram"
           }
          ],
          "histogram2d": [
           {
            "colorbar": {
             "outlinewidth": 0,
             "ticks": ""
            },
            "colorscale": [
             [
              0,
              "#0d0887"
             ],
             [
              0.1111111111111111,
              "#46039f"
             ],
             [
              0.2222222222222222,
              "#7201a8"
             ],
             [
              0.3333333333333333,
              "#9c179e"
             ],
             [
              0.4444444444444444,
              "#bd3786"
             ],
             [
              0.5555555555555556,
              "#d8576b"
             ],
             [
              0.6666666666666666,
              "#ed7953"
             ],
             [
              0.7777777777777778,
              "#fb9f3a"
             ],
             [
              0.8888888888888888,
              "#fdca26"
             ],
             [
              1,
              "#f0f921"
             ]
            ],
            "type": "histogram2d"
           }
          ],
          "histogram2dcontour": [
           {
            "colorbar": {
             "outlinewidth": 0,
             "ticks": ""
            },
            "colorscale": [
             [
              0,
              "#0d0887"
             ],
             [
              0.1111111111111111,
              "#46039f"
             ],
             [
              0.2222222222222222,
              "#7201a8"
             ],
             [
              0.3333333333333333,
              "#9c179e"
             ],
             [
              0.4444444444444444,
              "#bd3786"
             ],
             [
              0.5555555555555556,
              "#d8576b"
             ],
             [
              0.6666666666666666,
              "#ed7953"
             ],
             [
              0.7777777777777778,
              "#fb9f3a"
             ],
             [
              0.8888888888888888,
              "#fdca26"
             ],
             [
              1,
              "#f0f921"
             ]
            ],
            "type": "histogram2dcontour"
           }
          ],
          "mesh3d": [
           {
            "colorbar": {
             "outlinewidth": 0,
             "ticks": ""
            },
            "type": "mesh3d"
           }
          ],
          "parcoords": [
           {
            "line": {
             "colorbar": {
              "outlinewidth": 0,
              "ticks": ""
             }
            },
            "type": "parcoords"
           }
          ],
          "pie": [
           {
            "automargin": true,
            "type": "pie"
           }
          ],
          "scatter": [
           {
            "fillpattern": {
             "fillmode": "overlay",
             "size": 10,
             "solidity": 0.2
            },
            "type": "scatter"
           }
          ],
          "scatter3d": [
           {
            "line": {
             "colorbar": {
              "outlinewidth": 0,
              "ticks": ""
             }
            },
            "marker": {
             "colorbar": {
              "outlinewidth": 0,
              "ticks": ""
             }
            },
            "type": "scatter3d"
           }
          ],
          "scattercarpet": [
           {
            "marker": {
             "colorbar": {
              "outlinewidth": 0,
              "ticks": ""
             }
            },
            "type": "scattercarpet"
           }
          ],
          "scattergeo": [
           {
            "marker": {
             "colorbar": {
              "outlinewidth": 0,
              "ticks": ""
             }
            },
            "type": "scattergeo"
           }
          ],
          "scattergl": [
           {
            "marker": {
             "colorbar": {
              "outlinewidth": 0,
              "ticks": ""
             }
            },
            "type": "scattergl"
           }
          ],
          "scattermap": [
           {
            "marker": {
             "colorbar": {
              "outlinewidth": 0,
              "ticks": ""
             }
            },
            "type": "scattermap"
           }
          ],
          "scattermapbox": [
           {
            "marker": {
             "colorbar": {
              "outlinewidth": 0,
              "ticks": ""
             }
            },
            "type": "scattermapbox"
           }
          ],
          "scatterpolar": [
           {
            "marker": {
             "colorbar": {
              "outlinewidth": 0,
              "ticks": ""
             }
            },
            "type": "scatterpolar"
           }
          ],
          "scatterpolargl": [
           {
            "marker": {
             "colorbar": {
              "outlinewidth": 0,
              "ticks": ""
             }
            },
            "type": "scatterpolargl"
           }
          ],
          "scatterternary": [
           {
            "marker": {
             "colorbar": {
              "outlinewidth": 0,
              "ticks": ""
             }
            },
            "type": "scatterternary"
           }
          ],
          "surface": [
           {
            "colorbar": {
             "outlinewidth": 0,
             "ticks": ""
            },
            "colorscale": [
             [
              0,
              "#0d0887"
             ],
             [
              0.1111111111111111,
              "#46039f"
             ],
             [
              0.2222222222222222,
              "#7201a8"
             ],
             [
              0.3333333333333333,
              "#9c179e"
             ],
             [
              0.4444444444444444,
              "#bd3786"
             ],
             [
              0.5555555555555556,
              "#d8576b"
             ],
             [
              0.6666666666666666,
              "#ed7953"
             ],
             [
              0.7777777777777778,
              "#fb9f3a"
             ],
             [
              0.8888888888888888,
              "#fdca26"
             ],
             [
              1,
              "#f0f921"
             ]
            ],
            "type": "surface"
           }
          ],
          "table": [
           {
            "cells": {
             "fill": {
              "color": "#EBF0F8"
             },
             "line": {
              "color": "white"
             }
            },
            "header": {
             "fill": {
              "color": "#C8D4E3"
             },
             "line": {
              "color": "white"
             }
            },
            "type": "table"
           }
          ]
         },
         "layout": {
          "annotationdefaults": {
           "arrowcolor": "#2a3f5f",
           "arrowhead": 0,
           "arrowwidth": 1
          },
          "autotypenumbers": "strict",
          "coloraxis": {
           "colorbar": {
            "outlinewidth": 0,
            "ticks": ""
           }
          },
          "colorscale": {
           "diverging": [
            [
             0,
             "#8e0152"
            ],
            [
             0.1,
             "#c51b7d"
            ],
            [
             0.2,
             "#de77ae"
            ],
            [
             0.3,
             "#f1b6da"
            ],
            [
             0.4,
             "#fde0ef"
            ],
            [
             0.5,
             "#f7f7f7"
            ],
            [
             0.6,
             "#e6f5d0"
            ],
            [
             0.7,
             "#b8e186"
            ],
            [
             0.8,
             "#7fbc41"
            ],
            [
             0.9,
             "#4d9221"
            ],
            [
             1,
             "#276419"
            ]
           ],
           "sequential": [
            [
             0,
             "#0d0887"
            ],
            [
             0.1111111111111111,
             "#46039f"
            ],
            [
             0.2222222222222222,
             "#7201a8"
            ],
            [
             0.3333333333333333,
             "#9c179e"
            ],
            [
             0.4444444444444444,
             "#bd3786"
            ],
            [
             0.5555555555555556,
             "#d8576b"
            ],
            [
             0.6666666666666666,
             "#ed7953"
            ],
            [
             0.7777777777777778,
             "#fb9f3a"
            ],
            [
             0.8888888888888888,
             "#fdca26"
            ],
            [
             1,
             "#f0f921"
            ]
           ],
           "sequentialminus": [
            [
             0,
             "#0d0887"
            ],
            [
             0.1111111111111111,
             "#46039f"
            ],
            [
             0.2222222222222222,
             "#7201a8"
            ],
            [
             0.3333333333333333,
             "#9c179e"
            ],
            [
             0.4444444444444444,
             "#bd3786"
            ],
            [
             0.5555555555555556,
             "#d8576b"
            ],
            [
             0.6666666666666666,
             "#ed7953"
            ],
            [
             0.7777777777777778,
             "#fb9f3a"
            ],
            [
             0.8888888888888888,
             "#fdca26"
            ],
            [
             1,
             "#f0f921"
            ]
           ]
          },
          "colorway": [
           "#636efa",
           "#EF553B",
           "#00cc96",
           "#ab63fa",
           "#FFA15A",
           "#19d3f3",
           "#FF6692",
           "#B6E880",
           "#FF97FF",
           "#FECB52"
          ],
          "font": {
           "color": "#2a3f5f"
          },
          "geo": {
           "bgcolor": "white",
           "lakecolor": "white",
           "landcolor": "#E5ECF6",
           "showlakes": true,
           "showland": true,
           "subunitcolor": "white"
          },
          "hoverlabel": {
           "align": "left"
          },
          "hovermode": "closest",
          "mapbox": {
           "style": "light"
          },
          "paper_bgcolor": "white",
          "plot_bgcolor": "#E5ECF6",
          "polar": {
           "angularaxis": {
            "gridcolor": "white",
            "linecolor": "white",
            "ticks": ""
           },
           "bgcolor": "#E5ECF6",
           "radialaxis": {
            "gridcolor": "white",
            "linecolor": "white",
            "ticks": ""
           }
          },
          "scene": {
           "xaxis": {
            "backgroundcolor": "#E5ECF6",
            "gridcolor": "white",
            "gridwidth": 2,
            "linecolor": "white",
            "showbackground": true,
            "ticks": "",
            "zerolinecolor": "white"
           },
           "yaxis": {
            "backgroundcolor": "#E5ECF6",
            "gridcolor": "white",
            "gridwidth": 2,
            "linecolor": "white",
            "showbackground": true,
            "ticks": "",
            "zerolinecolor": "white"
           },
           "zaxis": {
            "backgroundcolor": "#E5ECF6",
            "gridcolor": "white",
            "gridwidth": 2,
            "linecolor": "white",
            "showbackground": true,
            "ticks": "",
            "zerolinecolor": "white"
           }
          },
          "shapedefaults": {
           "line": {
            "color": "#2a3f5f"
           }
          },
          "ternary": {
           "aaxis": {
            "gridcolor": "white",
            "linecolor": "white",
            "ticks": ""
           },
           "baxis": {
            "gridcolor": "white",
            "linecolor": "white",
            "ticks": ""
           },
           "bgcolor": "#E5ECF6",
           "caxis": {
            "gridcolor": "white",
            "linecolor": "white",
            "ticks": ""
           }
          },
          "title": {
           "x": 0.05
          },
          "xaxis": {
           "automargin": true,
           "gridcolor": "white",
           "linecolor": "white",
           "ticks": "",
           "title": {
            "standoff": 15
           },
           "zerolinecolor": "white",
           "zerolinewidth": 2
          },
          "yaxis": {
           "automargin": true,
           "gridcolor": "white",
           "linecolor": "white",
           "ticks": "",
           "title": {
            "standoff": 15
           },
           "zerolinecolor": "white",
           "zerolinewidth": 2
          }
         }
        },
        "title": {
         "text": "Disponibilidad Media (availability_30) por Ciudad, Tipo de Alojamiento y Reserva Automática",
         "x": 0.5
        },
        "xaxis": {
         "anchor": "y",
         "domain": [
          0,
          0.235
         ],
         "title": {
          "text": "Ciudad"
         }
        },
        "xaxis2": {
         "anchor": "y2",
         "domain": [
          0.255,
          0.49
         ],
         "matches": "x",
         "title": {
          "text": "Ciudad"
         }
        },
        "xaxis3": {
         "anchor": "y3",
         "domain": [
          0.51,
          0.745
         ],
         "matches": "x",
         "title": {
          "text": "Ciudad"
         }
        },
        "xaxis4": {
         "anchor": "y4",
         "domain": [
          0.7649999999999999,
          0.9999999999999999
         ],
         "matches": "x",
         "title": {
          "text": "Ciudad"
         }
        },
        "yaxis": {
         "anchor": "x",
         "domain": [
          0,
          1
         ],
         "tickformat": ".2f",
         "title": {
          "text": "Disponibilidad Media (días)"
         }
        },
        "yaxis2": {
         "anchor": "x2",
         "domain": [
          0,
          1
         ],
         "matches": "y",
         "showticklabels": false
        },
        "yaxis3": {
         "anchor": "x3",
         "domain": [
          0,
          1
         ],
         "matches": "y",
         "showticklabels": false
        },
        "yaxis4": {
         "anchor": "x4",
         "domain": [
          0,
          1
         ],
         "matches": "y",
         "showticklabels": false
        }
       }
      }
     },
     "metadata": {},
     "output_type": "display_data"
    }
   ],
   "source": [
    "import pandas as pd\n",
    "import plotly.graph_objects as go\n",
    "import plotly.express as px\n",
    "\n",
    "# 1. Agrupar por ciudad, tipo de alojamiento y reserva automática\n",
    "disp_por_tipo = df.groupby(['city', 'room_type', 'is_instant_bookable'])['availability_30'].mean().reset_index()\n",
    "\n",
    "# 2. Pivot para comparación FALSO / VERDADERO\n",
    "pivot_disp_tipo = disp_por_tipo.pivot(\n",
    "    index=['city', 'room_type'],\n",
    "    columns='is_instant_bookable',\n",
    "    values='availability_30'\n",
    ").reset_index()\n",
    "\n",
    "# 3. Calcular impacto\n",
    "pivot_disp_tipo['impact'] = pivot_disp_tipo['VERDADERO'] - pivot_disp_tipo['FALSO']\n",
    "pivot_disp_tipo['impact_%'] = (pivot_disp_tipo['impact'] / pivot_disp_tipo['FALSO']) * 100\n",
    "pivot_disp_tipo = pivot_disp_tipo.round(2)\n",
    "\n",
    "# 4. Crear la tabla en Plotly\n",
    "fig_table = go.Figure(\n",
    "    data=[\n",
    "        go.Table(\n",
    "            header=dict(\n",
    "                values=[\"<b>Ciudad</b>\", \"<b>Tipo de Alojamiento</b>\", \"<b>FALSO</b>\", \"<b>VERDADERO</b>\", \"<b>Impacto (días)</b>\", \"<b>Impacto (%)</b>\"],\n",
    "                fill_color=\"#2D6A4F\",  # verde oscuro\n",
    "                font=dict(color=\"white\", size=13),\n",
    "                align=\"center\",\n",
    "                height=30\n",
    "            ),\n",
    "            cells=dict(\n",
    "                values=[\n",
    "                    pivot_disp_tipo['city'],\n",
    "                    pivot_disp_tipo['room_type'],\n",
    "                    pivot_disp_tipo['FALSO'],\n",
    "                    pivot_disp_tipo['VERDADERO'],\n",
    "                    pivot_disp_tipo['impact'],\n",
    "                    pivot_disp_tipo['impact_%']\n",
    "                ],\n",
    "                fill_color=\"#D8F3DC\",  # fondo tabla verde claro\n",
    "                align=\"center\",\n",
    "                height=25,\n",
    "                font=dict(color=\"black\", size=12),\n",
    "                format=[\"\", \"\", \".2f\", \".2f\", \".2f\", \".2f\"]\n",
    "            )\n",
    "        )\n",
    "    ]\n",
    ")\n",
    "\n",
    "fig_table.update_layout(\n",
    "    title=\"Disponibilidad Media (availability_30) por Ciudad, Tipo de Alojamiento y Reserva Automática\",\n",
    "    title_x=0.5,\n",
    "    margin=dict(l=10, r=10, t=60, b=10),\n",
    "    paper_bgcolor=\"#D8F3DC\"\n",
    ")\n",
    "\n",
    "# 5. Gráfico de barras agrupadas con colores personalizados\n",
    "# Reconvertir a formato largo\n",
    "df_melted = disp_por_tipo.copy()\n",
    "df_melted.rename(columns={\n",
    "    'availability_30': 'Disponibilidad Media',\n",
    "    'is_instant_bookable': 'Reserva Automática'\n",
    "}, inplace=True)\n",
    "\n",
    "# Asignar colores personalizados\n",
    "colores_personalizados = {\n",
    "    'FALSO': '#8BAE3F',     # verde claro\n",
    "    'VERDADERO': '#2D6A4F'  # verde oscuro\n",
    "}\n",
    "\n",
    "fig_bar = px.bar(\n",
    "    df_melted,\n",
    "    x='city',\n",
    "    y='Disponibilidad Media',\n",
    "    color='Reserva Automática',\n",
    "    barmode='group',\n",
    "    facet_col='room_type',\n",
    "    title='Disponibilidad Media (availability_30) por Ciudad, Tipo de Alojamiento y Reserva Automática',\n",
    "    labels={'city': 'Ciudad', 'Disponibilidad Media': 'Disponibilidad Media (días)'},\n",
    "    height=500,\n",
    "    color_discrete_map=colores_personalizados\n",
    ")\n",
    "\n",
    "fig_bar.update_layout(\n",
    "    yaxis_tickformat=\".2f\",\n",
    "    xaxis_title='Ciudad',\n",
    "    yaxis_title='Disponibilidad Media (días)',\n",
    "    title_x=0.5,\n",
    "    paper_bgcolor=\"#D8F3DC\",\n",
    "    plot_bgcolor=\"#D8F3DC\"\n",
    ")\n",
    "\n",
    "# Mostrar ambos\n",
    "fig_table.show()\n",
    "fig_bar.show()\n"
   ]
  },
  {
   "cell_type": "markdown",
   "id": "c783f53a",
   "metadata": {},
   "source": [
    "Numero de alojamientos por ciudad, room type y reserva automatica."
   ]
  },
  {
   "cell_type": "code",
   "execution_count": null,
   "id": "1c259c07",
   "metadata": {},
   "outputs": [
    {
     "data": {
      "application/vnd.microsoft.datawrangler.viewer.v0+json": {
       "columns": [
        {
         "name": "index",
         "rawType": "int64",
         "type": "integer"
        },
        {
         "name": "city",
         "rawType": "object",
         "type": "string"
        },
        {
         "name": "is_instant_bookable",
         "rawType": "object",
         "type": "string"
        },
        {
         "name": "room_type",
         "rawType": "object",
         "type": "string"
        },
        {
         "name": "Num_accommod",
         "rawType": "int64",
         "type": "integer"
        }
       ],
       "conversionMethod": "pd.DataFrame",
       "ref": "91021f6f-0d22-41a4-b0fe-3eec530ae21d",
       "rows": [
        [
         "0",
         "barcelona",
         "FALSO",
         "Entire home/apt",
         "498"
        ],
        [
         "1",
         "barcelona",
         "FALSO",
         "Hotel room",
         "1"
        ],
        [
         "2",
         "barcelona",
         "FALSO",
         "Private room",
         "694"
        ],
        [
         "3",
         "barcelona",
         "FALSO",
         "Shared room",
         "11"
        ],
        [
         "4",
         "barcelona",
         "VERDADERO",
         "Entire home/apt",
         "563"
        ],
        [
         "5",
         "barcelona",
         "VERDADERO",
         "Hotel room",
         "12"
        ],
        [
         "6",
         "barcelona",
         "VERDADERO",
         "Private room",
         "473"
        ],
        [
         "7",
         "barcelona",
         "VERDADERO",
         "Shared room",
         "9"
        ],
        [
         "8",
         "girona",
         "FALSO",
         "Entire home/apt",
         "458"
        ],
        [
         "9",
         "girona",
         "FALSO",
         "Private room",
         "29"
        ],
        [
         "10",
         "girona",
         "VERDADERO",
         "Entire home/apt",
         "670"
        ],
        [
         "11",
         "girona",
         "VERDADERO",
         "Hotel room",
         "6"
        ],
        [
         "12",
         "girona",
         "VERDADERO",
         "Private room",
         "35"
        ],
        [
         "13",
         "madrid",
         "FALSO",
         "Entire home/apt",
         "398"
        ],
        [
         "14",
         "madrid",
         "FALSO",
         "Private room",
         "319"
        ],
        [
         "15",
         "madrid",
         "FALSO",
         "Shared room",
         "11"
        ],
        [
         "16",
         "madrid",
         "VERDADERO",
         "Entire home/apt",
         "653"
        ],
        [
         "17",
         "madrid",
         "VERDADERO",
         "Hotel room",
         "11"
        ],
        [
         "18",
         "madrid",
         "VERDADERO",
         "Private room",
         "246"
        ],
        [
         "19",
         "madrid",
         "VERDADERO",
         "Shared room",
         "7"
        ],
        [
         "20",
         "malaga",
         "FALSO",
         "Entire home/apt",
         "89"
        ],
        [
         "21",
         "malaga",
         "FALSO",
         "Private room",
         "31"
        ],
        [
         "22",
         "malaga",
         "VERDADERO",
         "Entire home/apt",
         "235"
        ],
        [
         "23",
         "malaga",
         "VERDADERO",
         "Hotel room",
         "3"
        ],
        [
         "24",
         "malaga",
         "VERDADERO",
         "Private room",
         "33"
        ],
        [
         "25",
         "malaga",
         "VERDADERO",
         "Shared room",
         "3"
        ],
        [
         "26",
         "mallorca",
         "FALSO",
         "Entire home/apt",
         "465"
        ],
        [
         "27",
         "mallorca",
         "FALSO",
         "Private room",
         "43"
        ],
        [
         "28",
         "mallorca",
         "FALSO",
         "Shared room",
         "1"
        ],
        [
         "29",
         "mallorca",
         "VERDADERO",
         "Entire home/apt",
         "688"
        ],
        [
         "30",
         "mallorca",
         "VERDADERO",
         "Hotel room",
         "9"
        ],
        [
         "31",
         "mallorca",
         "VERDADERO",
         "Private room",
         "56"
        ],
        [
         "32",
         "mallorca",
         "VERDADERO",
         "Shared room",
         "3"
        ],
        [
         "33",
         "menorca",
         "FALSO",
         "Entire home/apt",
         "75"
        ],
        [
         "34",
         "menorca",
         "FALSO",
         "Private room",
         "3"
        ],
        [
         "35",
         "menorca",
         "VERDADERO",
         "Entire home/apt",
         "81"
        ],
        [
         "36",
         "menorca",
         "VERDADERO",
         "Private room",
         "8"
        ],
        [
         "37",
         "sevilla",
         "FALSO",
         "Entire home/apt",
         "88"
        ],
        [
         "38",
         "sevilla",
         "FALSO",
         "Private room",
         "40"
        ],
        [
         "39",
         "sevilla",
         "FALSO",
         "Shared room",
         "1"
        ],
        [
         "40",
         "sevilla",
         "VERDADERO",
         "Entire home/apt",
         "221"
        ],
        [
         "41",
         "sevilla",
         "VERDADERO",
         "Hotel room",
         "9"
        ],
        [
         "42",
         "sevilla",
         "VERDADERO",
         "Private room",
         "44"
        ],
        [
         "43",
         "valencia",
         "FALSO",
         "Entire home/apt",
         "131"
        ],
        [
         "44",
         "valencia",
         "FALSO",
         "Private room",
         "48"
        ],
        [
         "45",
         "valencia",
         "VERDADERO",
         "Entire home/apt",
         "140"
        ],
        [
         "46",
         "valencia",
         "VERDADERO",
         "Hotel room",
         "2"
        ],
        [
         "47",
         "valencia",
         "VERDADERO",
         "Private room",
         "36"
        ],
        [
         "48",
         "valencia",
         "VERDADERO",
         "Shared room",
         "3"
        ]
       ],
       "shape": {
        "columns": 4,
        "rows": 49
       }
      },
      "text/html": [
       "<div>\n",
       "<style scoped>\n",
       "    .dataframe tbody tr th:only-of-type {\n",
       "        vertical-align: middle;\n",
       "    }\n",
       "\n",
       "    .dataframe tbody tr th {\n",
       "        vertical-align: top;\n",
       "    }\n",
       "\n",
       "    .dataframe thead th {\n",
       "        text-align: right;\n",
       "    }\n",
       "</style>\n",
       "<table border=\"1\" class=\"dataframe\">\n",
       "  <thead>\n",
       "    <tr style=\"text-align: right;\">\n",
       "      <th></th>\n",
       "      <th>city</th>\n",
       "      <th>is_instant_bookable</th>\n",
       "      <th>room_type</th>\n",
       "      <th>Num_accommod</th>\n",
       "    </tr>\n",
       "  </thead>\n",
       "  <tbody>\n",
       "    <tr>\n",
       "      <th>0</th>\n",
       "      <td>barcelona</td>\n",
       "      <td>FALSO</td>\n",
       "      <td>Entire home/apt</td>\n",
       "      <td>498</td>\n",
       "    </tr>\n",
       "    <tr>\n",
       "      <th>1</th>\n",
       "      <td>barcelona</td>\n",
       "      <td>FALSO</td>\n",
       "      <td>Hotel room</td>\n",
       "      <td>1</td>\n",
       "    </tr>\n",
       "    <tr>\n",
       "      <th>2</th>\n",
       "      <td>barcelona</td>\n",
       "      <td>FALSO</td>\n",
       "      <td>Private room</td>\n",
       "      <td>694</td>\n",
       "    </tr>\n",
       "    <tr>\n",
       "      <th>3</th>\n",
       "      <td>barcelona</td>\n",
       "      <td>FALSO</td>\n",
       "      <td>Shared room</td>\n",
       "      <td>11</td>\n",
       "    </tr>\n",
       "    <tr>\n",
       "      <th>4</th>\n",
       "      <td>barcelona</td>\n",
       "      <td>VERDADERO</td>\n",
       "      <td>Entire home/apt</td>\n",
       "      <td>563</td>\n",
       "    </tr>\n",
       "    <tr>\n",
       "      <th>5</th>\n",
       "      <td>barcelona</td>\n",
       "      <td>VERDADERO</td>\n",
       "      <td>Hotel room</td>\n",
       "      <td>12</td>\n",
       "    </tr>\n",
       "    <tr>\n",
       "      <th>6</th>\n",
       "      <td>barcelona</td>\n",
       "      <td>VERDADERO</td>\n",
       "      <td>Private room</td>\n",
       "      <td>473</td>\n",
       "    </tr>\n",
       "    <tr>\n",
       "      <th>7</th>\n",
       "      <td>barcelona</td>\n",
       "      <td>VERDADERO</td>\n",
       "      <td>Shared room</td>\n",
       "      <td>9</td>\n",
       "    </tr>\n",
       "    <tr>\n",
       "      <th>8</th>\n",
       "      <td>girona</td>\n",
       "      <td>FALSO</td>\n",
       "      <td>Entire home/apt</td>\n",
       "      <td>458</td>\n",
       "    </tr>\n",
       "    <tr>\n",
       "      <th>9</th>\n",
       "      <td>girona</td>\n",
       "      <td>FALSO</td>\n",
       "      <td>Private room</td>\n",
       "      <td>29</td>\n",
       "    </tr>\n",
       "    <tr>\n",
       "      <th>10</th>\n",
       "      <td>girona</td>\n",
       "      <td>VERDADERO</td>\n",
       "      <td>Entire home/apt</td>\n",
       "      <td>670</td>\n",
       "    </tr>\n",
       "    <tr>\n",
       "      <th>11</th>\n",
       "      <td>girona</td>\n",
       "      <td>VERDADERO</td>\n",
       "      <td>Hotel room</td>\n",
       "      <td>6</td>\n",
       "    </tr>\n",
       "    <tr>\n",
       "      <th>12</th>\n",
       "      <td>girona</td>\n",
       "      <td>VERDADERO</td>\n",
       "      <td>Private room</td>\n",
       "      <td>35</td>\n",
       "    </tr>\n",
       "    <tr>\n",
       "      <th>13</th>\n",
       "      <td>madrid</td>\n",
       "      <td>FALSO</td>\n",
       "      <td>Entire home/apt</td>\n",
       "      <td>398</td>\n",
       "    </tr>\n",
       "    <tr>\n",
       "      <th>14</th>\n",
       "      <td>madrid</td>\n",
       "      <td>FALSO</td>\n",
       "      <td>Private room</td>\n",
       "      <td>319</td>\n",
       "    </tr>\n",
       "    <tr>\n",
       "      <th>15</th>\n",
       "      <td>madrid</td>\n",
       "      <td>FALSO</td>\n",
       "      <td>Shared room</td>\n",
       "      <td>11</td>\n",
       "    </tr>\n",
       "    <tr>\n",
       "      <th>16</th>\n",
       "      <td>madrid</td>\n",
       "      <td>VERDADERO</td>\n",
       "      <td>Entire home/apt</td>\n",
       "      <td>653</td>\n",
       "    </tr>\n",
       "    <tr>\n",
       "      <th>17</th>\n",
       "      <td>madrid</td>\n",
       "      <td>VERDADERO</td>\n",
       "      <td>Hotel room</td>\n",
       "      <td>11</td>\n",
       "    </tr>\n",
       "    <tr>\n",
       "      <th>18</th>\n",
       "      <td>madrid</td>\n",
       "      <td>VERDADERO</td>\n",
       "      <td>Private room</td>\n",
       "      <td>246</td>\n",
       "    </tr>\n",
       "    <tr>\n",
       "      <th>19</th>\n",
       "      <td>madrid</td>\n",
       "      <td>VERDADERO</td>\n",
       "      <td>Shared room</td>\n",
       "      <td>7</td>\n",
       "    </tr>\n",
       "    <tr>\n",
       "      <th>20</th>\n",
       "      <td>malaga</td>\n",
       "      <td>FALSO</td>\n",
       "      <td>Entire home/apt</td>\n",
       "      <td>89</td>\n",
       "    </tr>\n",
       "    <tr>\n",
       "      <th>21</th>\n",
       "      <td>malaga</td>\n",
       "      <td>FALSO</td>\n",
       "      <td>Private room</td>\n",
       "      <td>31</td>\n",
       "    </tr>\n",
       "    <tr>\n",
       "      <th>22</th>\n",
       "      <td>malaga</td>\n",
       "      <td>VERDADERO</td>\n",
       "      <td>Entire home/apt</td>\n",
       "      <td>235</td>\n",
       "    </tr>\n",
       "    <tr>\n",
       "      <th>23</th>\n",
       "      <td>malaga</td>\n",
       "      <td>VERDADERO</td>\n",
       "      <td>Hotel room</td>\n",
       "      <td>3</td>\n",
       "    </tr>\n",
       "    <tr>\n",
       "      <th>24</th>\n",
       "      <td>malaga</td>\n",
       "      <td>VERDADERO</td>\n",
       "      <td>Private room</td>\n",
       "      <td>33</td>\n",
       "    </tr>\n",
       "    <tr>\n",
       "      <th>25</th>\n",
       "      <td>malaga</td>\n",
       "      <td>VERDADERO</td>\n",
       "      <td>Shared room</td>\n",
       "      <td>3</td>\n",
       "    </tr>\n",
       "    <tr>\n",
       "      <th>26</th>\n",
       "      <td>mallorca</td>\n",
       "      <td>FALSO</td>\n",
       "      <td>Entire home/apt</td>\n",
       "      <td>465</td>\n",
       "    </tr>\n",
       "    <tr>\n",
       "      <th>27</th>\n",
       "      <td>mallorca</td>\n",
       "      <td>FALSO</td>\n",
       "      <td>Private room</td>\n",
       "      <td>43</td>\n",
       "    </tr>\n",
       "    <tr>\n",
       "      <th>28</th>\n",
       "      <td>mallorca</td>\n",
       "      <td>FALSO</td>\n",
       "      <td>Shared room</td>\n",
       "      <td>1</td>\n",
       "    </tr>\n",
       "    <tr>\n",
       "      <th>29</th>\n",
       "      <td>mallorca</td>\n",
       "      <td>VERDADERO</td>\n",
       "      <td>Entire home/apt</td>\n",
       "      <td>688</td>\n",
       "    </tr>\n",
       "    <tr>\n",
       "      <th>30</th>\n",
       "      <td>mallorca</td>\n",
       "      <td>VERDADERO</td>\n",
       "      <td>Hotel room</td>\n",
       "      <td>9</td>\n",
       "    </tr>\n",
       "    <tr>\n",
       "      <th>31</th>\n",
       "      <td>mallorca</td>\n",
       "      <td>VERDADERO</td>\n",
       "      <td>Private room</td>\n",
       "      <td>56</td>\n",
       "    </tr>\n",
       "    <tr>\n",
       "      <th>32</th>\n",
       "      <td>mallorca</td>\n",
       "      <td>VERDADERO</td>\n",
       "      <td>Shared room</td>\n",
       "      <td>3</td>\n",
       "    </tr>\n",
       "    <tr>\n",
       "      <th>33</th>\n",
       "      <td>menorca</td>\n",
       "      <td>FALSO</td>\n",
       "      <td>Entire home/apt</td>\n",
       "      <td>75</td>\n",
       "    </tr>\n",
       "    <tr>\n",
       "      <th>34</th>\n",
       "      <td>menorca</td>\n",
       "      <td>FALSO</td>\n",
       "      <td>Private room</td>\n",
       "      <td>3</td>\n",
       "    </tr>\n",
       "    <tr>\n",
       "      <th>35</th>\n",
       "      <td>menorca</td>\n",
       "      <td>VERDADERO</td>\n",
       "      <td>Entire home/apt</td>\n",
       "      <td>81</td>\n",
       "    </tr>\n",
       "    <tr>\n",
       "      <th>36</th>\n",
       "      <td>menorca</td>\n",
       "      <td>VERDADERO</td>\n",
       "      <td>Private room</td>\n",
       "      <td>8</td>\n",
       "    </tr>\n",
       "    <tr>\n",
       "      <th>37</th>\n",
       "      <td>sevilla</td>\n",
       "      <td>FALSO</td>\n",
       "      <td>Entire home/apt</td>\n",
       "      <td>88</td>\n",
       "    </tr>\n",
       "    <tr>\n",
       "      <th>38</th>\n",
       "      <td>sevilla</td>\n",
       "      <td>FALSO</td>\n",
       "      <td>Private room</td>\n",
       "      <td>40</td>\n",
       "    </tr>\n",
       "    <tr>\n",
       "      <th>39</th>\n",
       "      <td>sevilla</td>\n",
       "      <td>FALSO</td>\n",
       "      <td>Shared room</td>\n",
       "      <td>1</td>\n",
       "    </tr>\n",
       "    <tr>\n",
       "      <th>40</th>\n",
       "      <td>sevilla</td>\n",
       "      <td>VERDADERO</td>\n",
       "      <td>Entire home/apt</td>\n",
       "      <td>221</td>\n",
       "    </tr>\n",
       "    <tr>\n",
       "      <th>41</th>\n",
       "      <td>sevilla</td>\n",
       "      <td>VERDADERO</td>\n",
       "      <td>Hotel room</td>\n",
       "      <td>9</td>\n",
       "    </tr>\n",
       "    <tr>\n",
       "      <th>42</th>\n",
       "      <td>sevilla</td>\n",
       "      <td>VERDADERO</td>\n",
       "      <td>Private room</td>\n",
       "      <td>44</td>\n",
       "    </tr>\n",
       "    <tr>\n",
       "      <th>43</th>\n",
       "      <td>valencia</td>\n",
       "      <td>FALSO</td>\n",
       "      <td>Entire home/apt</td>\n",
       "      <td>131</td>\n",
       "    </tr>\n",
       "    <tr>\n",
       "      <th>44</th>\n",
       "      <td>valencia</td>\n",
       "      <td>FALSO</td>\n",
       "      <td>Private room</td>\n",
       "      <td>48</td>\n",
       "    </tr>\n",
       "    <tr>\n",
       "      <th>45</th>\n",
       "      <td>valencia</td>\n",
       "      <td>VERDADERO</td>\n",
       "      <td>Entire home/apt</td>\n",
       "      <td>140</td>\n",
       "    </tr>\n",
       "    <tr>\n",
       "      <th>46</th>\n",
       "      <td>valencia</td>\n",
       "      <td>VERDADERO</td>\n",
       "      <td>Hotel room</td>\n",
       "      <td>2</td>\n",
       "    </tr>\n",
       "    <tr>\n",
       "      <th>47</th>\n",
       "      <td>valencia</td>\n",
       "      <td>VERDADERO</td>\n",
       "      <td>Private room</td>\n",
       "      <td>36</td>\n",
       "    </tr>\n",
       "    <tr>\n",
       "      <th>48</th>\n",
       "      <td>valencia</td>\n",
       "      <td>VERDADERO</td>\n",
       "      <td>Shared room</td>\n",
       "      <td>3</td>\n",
       "    </tr>\n",
       "  </tbody>\n",
       "</table>\n",
       "</div>"
      ],
      "text/plain": [
       "         city is_instant_bookable        room_type  Num_accommod\n",
       "0   barcelona               FALSO  Entire home/apt           498\n",
       "1   barcelona               FALSO       Hotel room             1\n",
       "2   barcelona               FALSO     Private room           694\n",
       "3   barcelona               FALSO      Shared room            11\n",
       "4   barcelona           VERDADERO  Entire home/apt           563\n",
       "5   barcelona           VERDADERO       Hotel room            12\n",
       "6   barcelona           VERDADERO     Private room           473\n",
       "7   barcelona           VERDADERO      Shared room             9\n",
       "8      girona               FALSO  Entire home/apt           458\n",
       "9      girona               FALSO     Private room            29\n",
       "10     girona           VERDADERO  Entire home/apt           670\n",
       "11     girona           VERDADERO       Hotel room             6\n",
       "12     girona           VERDADERO     Private room            35\n",
       "13     madrid               FALSO  Entire home/apt           398\n",
       "14     madrid               FALSO     Private room           319\n",
       "15     madrid               FALSO      Shared room            11\n",
       "16     madrid           VERDADERO  Entire home/apt           653\n",
       "17     madrid           VERDADERO       Hotel room            11\n",
       "18     madrid           VERDADERO     Private room           246\n",
       "19     madrid           VERDADERO      Shared room             7\n",
       "20     malaga               FALSO  Entire home/apt            89\n",
       "21     malaga               FALSO     Private room            31\n",
       "22     malaga           VERDADERO  Entire home/apt           235\n",
       "23     malaga           VERDADERO       Hotel room             3\n",
       "24     malaga           VERDADERO     Private room            33\n",
       "25     malaga           VERDADERO      Shared room             3\n",
       "26   mallorca               FALSO  Entire home/apt           465\n",
       "27   mallorca               FALSO     Private room            43\n",
       "28   mallorca               FALSO      Shared room             1\n",
       "29   mallorca           VERDADERO  Entire home/apt           688\n",
       "30   mallorca           VERDADERO       Hotel room             9\n",
       "31   mallorca           VERDADERO     Private room            56\n",
       "32   mallorca           VERDADERO      Shared room             3\n",
       "33    menorca               FALSO  Entire home/apt            75\n",
       "34    menorca               FALSO     Private room             3\n",
       "35    menorca           VERDADERO  Entire home/apt            81\n",
       "36    menorca           VERDADERO     Private room             8\n",
       "37    sevilla               FALSO  Entire home/apt            88\n",
       "38    sevilla               FALSO     Private room            40\n",
       "39    sevilla               FALSO      Shared room             1\n",
       "40    sevilla           VERDADERO  Entire home/apt           221\n",
       "41    sevilla           VERDADERO       Hotel room             9\n",
       "42    sevilla           VERDADERO     Private room            44\n",
       "43   valencia               FALSO  Entire home/apt           131\n",
       "44   valencia               FALSO     Private room            48\n",
       "45   valencia           VERDADERO  Entire home/apt           140\n",
       "46   valencia           VERDADERO       Hotel room             2\n",
       "47   valencia           VERDADERO     Private room            36\n",
       "48   valencia           VERDADERO      Shared room             3"
      ]
     },
     "execution_count": 17,
     "metadata": {},
     "output_type": "execute_result"
    }
   ],
   "source": [
    "df.groupby(['city', 'is_instant_bookable','room_type']).size().reset_index(name= 'Num_accommod')"
   ]
  },
  {
   "cell_type": "code",
   "execution_count": null,
   "id": "0ce28171",
   "metadata": {},
   "outputs": [
    {
     "data": {
      "application/vnd.plotly.v1+json": {
       "config": {
        "plotlyServerURL": "https://plot.ly"
       },
       "data": [
        {
         "alignmentgroup": "True",
         "hovertemplate": "Reserva Automática=FALSO<br>Tipo de Alojamiento=Entire home/apt<br>Ciudad=%{x}<br>Número de Alojamientos=%{y}<extra></extra>",
         "legendgroup": "FALSO",
         "marker": {
          "color": "#8BAE3F",
          "pattern": {
           "shape": ""
          }
         },
         "name": "FALSO",
         "offsetgroup": "FALSO",
         "orientation": "v",
         "showlegend": true,
         "textposition": "auto",
         "type": "bar",
         "x": [
          "barcelona",
          "girona",
          "madrid",
          "malaga",
          "mallorca",
          "menorca",
          "sevilla",
          "valencia"
         ],
         "xaxis": "x",
         "y": {
          "bdata": "8gHKAY4BWQDRAUsAWACDAA==",
          "dtype": "i2"
         },
         "yaxis": "y"
        },
        {
         "alignmentgroup": "True",
         "hovertemplate": "Reserva Automática=FALSO<br>Tipo de Alojamiento=Hotel room<br>Ciudad=%{x}<br>Número de Alojamientos=%{y}<extra></extra>",
         "legendgroup": "FALSO",
         "marker": {
          "color": "#8BAE3F",
          "pattern": {
           "shape": ""
          }
         },
         "name": "FALSO",
         "offsetgroup": "FALSO",
         "orientation": "v",
         "showlegend": false,
         "textposition": "auto",
         "type": "bar",
         "x": [
          "barcelona"
         ],
         "xaxis": "x2",
         "y": {
          "bdata": "AQ==",
          "dtype": "i1"
         },
         "yaxis": "y2"
        },
        {
         "alignmentgroup": "True",
         "hovertemplate": "Reserva Automática=FALSO<br>Tipo de Alojamiento=Private room<br>Ciudad=%{x}<br>Número de Alojamientos=%{y}<extra></extra>",
         "legendgroup": "FALSO",
         "marker": {
          "color": "#8BAE3F",
          "pattern": {
           "shape": ""
          }
         },
         "name": "FALSO",
         "offsetgroup": "FALSO",
         "orientation": "v",
         "showlegend": false,
         "textposition": "auto",
         "type": "bar",
         "x": [
          "barcelona",
          "girona",
          "madrid",
          "malaga",
          "mallorca",
          "menorca",
          "sevilla",
          "valencia"
         ],
         "xaxis": "x3",
         "y": {
          "bdata": "tgIdAD8BHwArAAMAKAAwAA==",
          "dtype": "i2"
         },
         "yaxis": "y3"
        },
        {
         "alignmentgroup": "True",
         "hovertemplate": "Reserva Automática=FALSO<br>Tipo de Alojamiento=Shared room<br>Ciudad=%{x}<br>Número de Alojamientos=%{y}<extra></extra>",
         "legendgroup": "FALSO",
         "marker": {
          "color": "#8BAE3F",
          "pattern": {
           "shape": ""
          }
         },
         "name": "FALSO",
         "offsetgroup": "FALSO",
         "orientation": "v",
         "showlegend": false,
         "textposition": "auto",
         "type": "bar",
         "x": [
          "barcelona",
          "madrid",
          "mallorca",
          "sevilla"
         ],
         "xaxis": "x4",
         "y": {
          "bdata": "CwsBAQ==",
          "dtype": "i1"
         },
         "yaxis": "y4"
        },
        {
         "alignmentgroup": "True",
         "hovertemplate": "Reserva Automática=VERDADERO<br>Tipo de Alojamiento=Entire home/apt<br>Ciudad=%{x}<br>Número de Alojamientos=%{y}<extra></extra>",
         "legendgroup": "VERDADERO",
         "marker": {
          "color": "#2D6A4F",
          "pattern": {
           "shape": ""
          }
         },
         "name": "VERDADERO",
         "offsetgroup": "VERDADERO",
         "orientation": "v",
         "showlegend": true,
         "textposition": "auto",
         "type": "bar",
         "x": [
          "barcelona",
          "girona",
          "madrid",
          "malaga",
          "mallorca",
          "menorca",
          "sevilla",
          "valencia"
         ],
         "xaxis": "x",
         "y": {
          "bdata": "MwKeAo0C6wCwAlEA3QCMAA==",
          "dtype": "i2"
         },
         "yaxis": "y"
        },
        {
         "alignmentgroup": "True",
         "hovertemplate": "Reserva Automática=VERDADERO<br>Tipo de Alojamiento=Hotel room<br>Ciudad=%{x}<br>Número de Alojamientos=%{y}<extra></extra>",
         "legendgroup": "VERDADERO",
         "marker": {
          "color": "#2D6A4F",
          "pattern": {
           "shape": ""
          }
         },
         "name": "VERDADERO",
         "offsetgroup": "VERDADERO",
         "orientation": "v",
         "showlegend": false,
         "textposition": "auto",
         "type": "bar",
         "x": [
          "barcelona",
          "girona",
          "madrid",
          "malaga",
          "mallorca",
          "sevilla",
          "valencia"
         ],
         "xaxis": "x2",
         "y": {
          "bdata": "DAYLAwkJAg==",
          "dtype": "i1"
         },
         "yaxis": "y2"
        },
        {
         "alignmentgroup": "True",
         "hovertemplate": "Reserva Automática=VERDADERO<br>Tipo de Alojamiento=Private room<br>Ciudad=%{x}<br>Número de Alojamientos=%{y}<extra></extra>",
         "legendgroup": "VERDADERO",
         "marker": {
          "color": "#2D6A4F",
          "pattern": {
           "shape": ""
          }
         },
         "name": "VERDADERO",
         "offsetgroup": "VERDADERO",
         "orientation": "v",
         "showlegend": false,
         "textposition": "auto",
         "type": "bar",
         "x": [
          "barcelona",
          "girona",
          "madrid",
          "malaga",
          "mallorca",
          "menorca",
          "sevilla",
          "valencia"
         ],
         "xaxis": "x3",
         "y": {
          "bdata": "2QEjAPYAIQA4AAgALAAkAA==",
          "dtype": "i2"
         },
         "yaxis": "y3"
        },
        {
         "alignmentgroup": "True",
         "hovertemplate": "Reserva Automática=VERDADERO<br>Tipo de Alojamiento=Shared room<br>Ciudad=%{x}<br>Número de Alojamientos=%{y}<extra></extra>",
         "legendgroup": "VERDADERO",
         "marker": {
          "color": "#2D6A4F",
          "pattern": {
           "shape": ""
          }
         },
         "name": "VERDADERO",
         "offsetgroup": "VERDADERO",
         "orientation": "v",
         "showlegend": false,
         "textposition": "auto",
         "type": "bar",
         "x": [
          "barcelona",
          "madrid",
          "malaga",
          "mallorca",
          "valencia"
         ],
         "xaxis": "x4",
         "y": {
          "bdata": "CQcDAwM=",
          "dtype": "i1"
         },
         "yaxis": "y4"
        }
       ],
       "layout": {
        "annotations": [
         {
          "font": {},
          "showarrow": false,
          "text": "Tipo de Alojamiento=Entire home/apt",
          "x": 0.1175,
          "xanchor": "center",
          "xref": "paper",
          "y": 1,
          "yanchor": "bottom",
          "yref": "paper"
         },
         {
          "font": {},
          "showarrow": false,
          "text": "Tipo de Alojamiento=Hotel room",
          "x": 0.3725,
          "xanchor": "center",
          "xref": "paper",
          "y": 1,
          "yanchor": "bottom",
          "yref": "paper"
         },
         {
          "font": {},
          "showarrow": false,
          "text": "Tipo de Alojamiento=Private room",
          "x": 0.6275,
          "xanchor": "center",
          "xref": "paper",
          "y": 1,
          "yanchor": "bottom",
          "yref": "paper"
         },
         {
          "font": {},
          "showarrow": false,
          "text": "Tipo de Alojamiento=Shared room",
          "x": 0.8824999999999998,
          "xanchor": "center",
          "xref": "paper",
          "y": 1,
          "yanchor": "bottom",
          "yref": "paper"
         }
        ],
        "barmode": "group",
        "legend": {
         "title": {
          "text": "Reserva Automática"
         },
         "tracegroupgap": 0
        },
        "paper_bgcolor": "#D8F3DC",
        "plot_bgcolor": "#D8F3DC",
        "template": {
         "data": {
          "bar": [
           {
            "error_x": {
             "color": "#2a3f5f"
            },
            "error_y": {
             "color": "#2a3f5f"
            },
            "marker": {
             "line": {
              "color": "#E5ECF6",
              "width": 0.5
             },
             "pattern": {
              "fillmode": "overlay",
              "size": 10,
              "solidity": 0.2
             }
            },
            "type": "bar"
           }
          ],
          "barpolar": [
           {
            "marker": {
             "line": {
              "color": "#E5ECF6",
              "width": 0.5
             },
             "pattern": {
              "fillmode": "overlay",
              "size": 10,
              "solidity": 0.2
             }
            },
            "type": "barpolar"
           }
          ],
          "carpet": [
           {
            "aaxis": {
             "endlinecolor": "#2a3f5f",
             "gridcolor": "white",
             "linecolor": "white",
             "minorgridcolor": "white",
             "startlinecolor": "#2a3f5f"
            },
            "baxis": {
             "endlinecolor": "#2a3f5f",
             "gridcolor": "white",
             "linecolor": "white",
             "minorgridcolor": "white",
             "startlinecolor": "#2a3f5f"
            },
            "type": "carpet"
           }
          ],
          "choropleth": [
           {
            "colorbar": {
             "outlinewidth": 0,
             "ticks": ""
            },
            "type": "choropleth"
           }
          ],
          "contour": [
           {
            "colorbar": {
             "outlinewidth": 0,
             "ticks": ""
            },
            "colorscale": [
             [
              0,
              "#0d0887"
             ],
             [
              0.1111111111111111,
              "#46039f"
             ],
             [
              0.2222222222222222,
              "#7201a8"
             ],
             [
              0.3333333333333333,
              "#9c179e"
             ],
             [
              0.4444444444444444,
              "#bd3786"
             ],
             [
              0.5555555555555556,
              "#d8576b"
             ],
             [
              0.6666666666666666,
              "#ed7953"
             ],
             [
              0.7777777777777778,
              "#fb9f3a"
             ],
             [
              0.8888888888888888,
              "#fdca26"
             ],
             [
              1,
              "#f0f921"
             ]
            ],
            "type": "contour"
           }
          ],
          "contourcarpet": [
           {
            "colorbar": {
             "outlinewidth": 0,
             "ticks": ""
            },
            "type": "contourcarpet"
           }
          ],
          "heatmap": [
           {
            "colorbar": {
             "outlinewidth": 0,
             "ticks": ""
            },
            "colorscale": [
             [
              0,
              "#0d0887"
             ],
             [
              0.1111111111111111,
              "#46039f"
             ],
             [
              0.2222222222222222,
              "#7201a8"
             ],
             [
              0.3333333333333333,
              "#9c179e"
             ],
             [
              0.4444444444444444,
              "#bd3786"
             ],
             [
              0.5555555555555556,
              "#d8576b"
             ],
             [
              0.6666666666666666,
              "#ed7953"
             ],
             [
              0.7777777777777778,
              "#fb9f3a"
             ],
             [
              0.8888888888888888,
              "#fdca26"
             ],
             [
              1,
              "#f0f921"
             ]
            ],
            "type": "heatmap"
           }
          ],
          "histogram": [
           {
            "marker": {
             "pattern": {
              "fillmode": "overlay",
              "size": 10,
              "solidity": 0.2
             }
            },
            "type": "histogram"
           }
          ],
          "histogram2d": [
           {
            "colorbar": {
             "outlinewidth": 0,
             "ticks": ""
            },
            "colorscale": [
             [
              0,
              "#0d0887"
             ],
             [
              0.1111111111111111,
              "#46039f"
             ],
             [
              0.2222222222222222,
              "#7201a8"
             ],
             [
              0.3333333333333333,
              "#9c179e"
             ],
             [
              0.4444444444444444,
              "#bd3786"
             ],
             [
              0.5555555555555556,
              "#d8576b"
             ],
             [
              0.6666666666666666,
              "#ed7953"
             ],
             [
              0.7777777777777778,
              "#fb9f3a"
             ],
             [
              0.8888888888888888,
              "#fdca26"
             ],
             [
              1,
              "#f0f921"
             ]
            ],
            "type": "histogram2d"
           }
          ],
          "histogram2dcontour": [
           {
            "colorbar": {
             "outlinewidth": 0,
             "ticks": ""
            },
            "colorscale": [
             [
              0,
              "#0d0887"
             ],
             [
              0.1111111111111111,
              "#46039f"
             ],
             [
              0.2222222222222222,
              "#7201a8"
             ],
             [
              0.3333333333333333,
              "#9c179e"
             ],
             [
              0.4444444444444444,
              "#bd3786"
             ],
             [
              0.5555555555555556,
              "#d8576b"
             ],
             [
              0.6666666666666666,
              "#ed7953"
             ],
             [
              0.7777777777777778,
              "#fb9f3a"
             ],
             [
              0.8888888888888888,
              "#fdca26"
             ],
             [
              1,
              "#f0f921"
             ]
            ],
            "type": "histogram2dcontour"
           }
          ],
          "mesh3d": [
           {
            "colorbar": {
             "outlinewidth": 0,
             "ticks": ""
            },
            "type": "mesh3d"
           }
          ],
          "parcoords": [
           {
            "line": {
             "colorbar": {
              "outlinewidth": 0,
              "ticks": ""
             }
            },
            "type": "parcoords"
           }
          ],
          "pie": [
           {
            "automargin": true,
            "type": "pie"
           }
          ],
          "scatter": [
           {
            "fillpattern": {
             "fillmode": "overlay",
             "size": 10,
             "solidity": 0.2
            },
            "type": "scatter"
           }
          ],
          "scatter3d": [
           {
            "line": {
             "colorbar": {
              "outlinewidth": 0,
              "ticks": ""
             }
            },
            "marker": {
             "colorbar": {
              "outlinewidth": 0,
              "ticks": ""
             }
            },
            "type": "scatter3d"
           }
          ],
          "scattercarpet": [
           {
            "marker": {
             "colorbar": {
              "outlinewidth": 0,
              "ticks": ""
             }
            },
            "type": "scattercarpet"
           }
          ],
          "scattergeo": [
           {
            "marker": {
             "colorbar": {
              "outlinewidth": 0,
              "ticks": ""
             }
            },
            "type": "scattergeo"
           }
          ],
          "scattergl": [
           {
            "marker": {
             "colorbar": {
              "outlinewidth": 0,
              "ticks": ""
             }
            },
            "type": "scattergl"
           }
          ],
          "scattermap": [
           {
            "marker": {
             "colorbar": {
              "outlinewidth": 0,
              "ticks": ""
             }
            },
            "type": "scattermap"
           }
          ],
          "scattermapbox": [
           {
            "marker": {
             "colorbar": {
              "outlinewidth": 0,
              "ticks": ""
             }
            },
            "type": "scattermapbox"
           }
          ],
          "scatterpolar": [
           {
            "marker": {
             "colorbar": {
              "outlinewidth": 0,
              "ticks": ""
             }
            },
            "type": "scatterpolar"
           }
          ],
          "scatterpolargl": [
           {
            "marker": {
             "colorbar": {
              "outlinewidth": 0,
              "ticks": ""
             }
            },
            "type": "scatterpolargl"
           }
          ],
          "scatterternary": [
           {
            "marker": {
             "colorbar": {
              "outlinewidth": 0,
              "ticks": ""
             }
            },
            "type": "scatterternary"
           }
          ],
          "surface": [
           {
            "colorbar": {
             "outlinewidth": 0,
             "ticks": ""
            },
            "colorscale": [
             [
              0,
              "#0d0887"
             ],
             [
              0.1111111111111111,
              "#46039f"
             ],
             [
              0.2222222222222222,
              "#7201a8"
             ],
             [
              0.3333333333333333,
              "#9c179e"
             ],
             [
              0.4444444444444444,
              "#bd3786"
             ],
             [
              0.5555555555555556,
              "#d8576b"
             ],
             [
              0.6666666666666666,
              "#ed7953"
             ],
             [
              0.7777777777777778,
              "#fb9f3a"
             ],
             [
              0.8888888888888888,
              "#fdca26"
             ],
             [
              1,
              "#f0f921"
             ]
            ],
            "type": "surface"
           }
          ],
          "table": [
           {
            "cells": {
             "fill": {
              "color": "#EBF0F8"
             },
             "line": {
              "color": "white"
             }
            },
            "header": {
             "fill": {
              "color": "#C8D4E3"
             },
             "line": {
              "color": "white"
             }
            },
            "type": "table"
           }
          ]
         },
         "layout": {
          "annotationdefaults": {
           "arrowcolor": "#2a3f5f",
           "arrowhead": 0,
           "arrowwidth": 1
          },
          "autotypenumbers": "strict",
          "coloraxis": {
           "colorbar": {
            "outlinewidth": 0,
            "ticks": ""
           }
          },
          "colorscale": {
           "diverging": [
            [
             0,
             "#8e0152"
            ],
            [
             0.1,
             "#c51b7d"
            ],
            [
             0.2,
             "#de77ae"
            ],
            [
             0.3,
             "#f1b6da"
            ],
            [
             0.4,
             "#fde0ef"
            ],
            [
             0.5,
             "#f7f7f7"
            ],
            [
             0.6,
             "#e6f5d0"
            ],
            [
             0.7,
             "#b8e186"
            ],
            [
             0.8,
             "#7fbc41"
            ],
            [
             0.9,
             "#4d9221"
            ],
            [
             1,
             "#276419"
            ]
           ],
           "sequential": [
            [
             0,
             "#0d0887"
            ],
            [
             0.1111111111111111,
             "#46039f"
            ],
            [
             0.2222222222222222,
             "#7201a8"
            ],
            [
             0.3333333333333333,
             "#9c179e"
            ],
            [
             0.4444444444444444,
             "#bd3786"
            ],
            [
             0.5555555555555556,
             "#d8576b"
            ],
            [
             0.6666666666666666,
             "#ed7953"
            ],
            [
             0.7777777777777778,
             "#fb9f3a"
            ],
            [
             0.8888888888888888,
             "#fdca26"
            ],
            [
             1,
             "#f0f921"
            ]
           ],
           "sequentialminus": [
            [
             0,
             "#0d0887"
            ],
            [
             0.1111111111111111,
             "#46039f"
            ],
            [
             0.2222222222222222,
             "#7201a8"
            ],
            [
             0.3333333333333333,
             "#9c179e"
            ],
            [
             0.4444444444444444,
             "#bd3786"
            ],
            [
             0.5555555555555556,
             "#d8576b"
            ],
            [
             0.6666666666666666,
             "#ed7953"
            ],
            [
             0.7777777777777778,
             "#fb9f3a"
            ],
            [
             0.8888888888888888,
             "#fdca26"
            ],
            [
             1,
             "#f0f921"
            ]
           ]
          },
          "colorway": [
           "#636efa",
           "#EF553B",
           "#00cc96",
           "#ab63fa",
           "#FFA15A",
           "#19d3f3",
           "#FF6692",
           "#B6E880",
           "#FF97FF",
           "#FECB52"
          ],
          "font": {
           "color": "#2a3f5f"
          },
          "geo": {
           "bgcolor": "white",
           "lakecolor": "white",
           "landcolor": "#E5ECF6",
           "showlakes": true,
           "showland": true,
           "subunitcolor": "white"
          },
          "hoverlabel": {
           "align": "left"
          },
          "hovermode": "closest",
          "mapbox": {
           "style": "light"
          },
          "paper_bgcolor": "white",
          "plot_bgcolor": "#E5ECF6",
          "polar": {
           "angularaxis": {
            "gridcolor": "white",
            "linecolor": "white",
            "ticks": ""
           },
           "bgcolor": "#E5ECF6",
           "radialaxis": {
            "gridcolor": "white",
            "linecolor": "white",
            "ticks": ""
           }
          },
          "scene": {
           "xaxis": {
            "backgroundcolor": "#E5ECF6",
            "gridcolor": "white",
            "gridwidth": 2,
            "linecolor": "white",
            "showbackground": true,
            "ticks": "",
            "zerolinecolor": "white"
           },
           "yaxis": {
            "backgroundcolor": "#E5ECF6",
            "gridcolor": "white",
            "gridwidth": 2,
            "linecolor": "white",
            "showbackground": true,
            "ticks": "",
            "zerolinecolor": "white"
           },
           "zaxis": {
            "backgroundcolor": "#E5ECF6",
            "gridcolor": "white",
            "gridwidth": 2,
            "linecolor": "white",
            "showbackground": true,
            "ticks": "",
            "zerolinecolor": "white"
           }
          },
          "shapedefaults": {
           "line": {
            "color": "#2a3f5f"
           }
          },
          "ternary": {
           "aaxis": {
            "gridcolor": "white",
            "linecolor": "white",
            "ticks": ""
           },
           "baxis": {
            "gridcolor": "white",
            "linecolor": "white",
            "ticks": ""
           },
           "bgcolor": "#E5ECF6",
           "caxis": {
            "gridcolor": "white",
            "linecolor": "white",
            "ticks": ""
           }
          },
          "title": {
           "x": 0.05
          },
          "xaxis": {
           "automargin": true,
           "gridcolor": "white",
           "linecolor": "white",
           "ticks": "",
           "title": {
            "standoff": 15
           },
           "zerolinecolor": "white",
           "zerolinewidth": 2
          },
          "yaxis": {
           "automargin": true,
           "gridcolor": "white",
           "linecolor": "white",
           "ticks": "",
           "title": {
            "standoff": 15
           },
           "zerolinecolor": "white",
           "zerolinewidth": 2
          }
         }
        },
        "title": {
         "text": "Número de Alojamientos por Ciudad, Reserva Automática y Tipo de Alojamiento",
         "x": 0.5
        },
        "xaxis": {
         "anchor": "y",
         "domain": [
          0,
          0.235
         ],
         "title": {
          "text": "Ciudad"
         }
        },
        "xaxis2": {
         "anchor": "y2",
         "domain": [
          0.255,
          0.49
         ],
         "matches": "x",
         "title": {
          "text": "Ciudad"
         }
        },
        "xaxis3": {
         "anchor": "y3",
         "domain": [
          0.51,
          0.745
         ],
         "matches": "x",
         "title": {
          "text": "Ciudad"
         }
        },
        "xaxis4": {
         "anchor": "y4",
         "domain": [
          0.7649999999999999,
          0.9999999999999999
         ],
         "matches": "x",
         "title": {
          "text": "Ciudad"
         }
        },
        "yaxis": {
         "anchor": "x",
         "domain": [
          0,
          1
         ],
         "title": {
          "text": "Número de Alojamientos"
         }
        },
        "yaxis2": {
         "anchor": "x2",
         "domain": [
          0,
          1
         ],
         "matches": "y",
         "showticklabels": false
        },
        "yaxis3": {
         "anchor": "x3",
         "domain": [
          0,
          1
         ],
         "matches": "y",
         "showticklabels": false
        },
        "yaxis4": {
         "anchor": "x4",
         "domain": [
          0,
          1
         ],
         "matches": "y",
         "showticklabels": false
        }
       }
      }
     },
     "metadata": {},
     "output_type": "display_data"
    }
   ],
   "source": [
    "import pandas as pd\n",
    "import plotly.express as px\n",
    "\n",
    "# Agrupar y contar número de alojamientos\n",
    "df_conteo = df.groupby(['city', 'is_instant_bookable', 'room_type']).size().reset_index(name='Num_accommod')\n",
    "\n",
    "# Mapear colores personalizados para Reserva Automática\n",
    "colores_personalizados = {\n",
    "    'FALSO': '#8BAE3F',     # verde claro\n",
    "    'VERDADERO': '#2D6A4F'  # verde oscuro\n",
    "}\n",
    "\n",
    "# Renombrar columna para claridad en el gráfico\n",
    "df_conteo.rename(columns={'is_instant_bookable': 'Reserva Automática', 'room_type': 'Tipo de Alojamiento'}, inplace=True)\n",
    "\n",
    "# Gráfico de barras facetado por tipo de alojamiento\n",
    "fig = px.bar(\n",
    "    df_conteo,\n",
    "    x='city',\n",
    "    y='Num_accommod',\n",
    "    color='Reserva Automática',\n",
    "    barmode='group',\n",
    "    facet_col='Tipo de Alojamiento',\n",
    "    category_orders={\"Reserva Automática\": ['FALSO', 'VERDADERO']},\n",
    "    color_discrete_map=colores_personalizados,\n",
    "    title='Número de Alojamientos por Ciudad, Reserva Automática y Tipo de Alojamiento',\n",
    "    labels={'city': 'Ciudad', 'Num_accommod': 'Número de Alojamientos'}\n",
    ")\n",
    "\n",
    "# Ajustes de estilo y fondo\n",
    "fig.update_layout(\n",
    "    paper_bgcolor=\"#D8F3DC\",\n",
    "    plot_bgcolor=\"#D8F3DC\",\n",
    "    title_x=0.5,\n",
    "    yaxis_title='Número de Alojamientos'\n",
    ")\n",
    "\n",
    "# Mostrar gráfico\n",
    "fig.show()\n"
   ]
  }
 ],
 "metadata": {
  "kernelspec": {
   "display_name": "Python 3",
   "language": "python",
   "name": "python3"
  },
  "language_info": {
   "codemirror_mode": {
    "name": "ipython",
    "version": 3
   },
   "file_extension": ".py",
   "mimetype": "text/x-python",
   "name": "python",
   "nbconvert_exporter": "python",
   "pygments_lexer": "ipython3",
   "version": "3.11.9"
  }
 },
 "nbformat": 4,
 "nbformat_minor": 5
}
