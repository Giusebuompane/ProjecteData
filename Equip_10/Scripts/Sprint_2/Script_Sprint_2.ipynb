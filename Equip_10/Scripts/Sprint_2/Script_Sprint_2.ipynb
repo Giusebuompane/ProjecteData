{
 "cells": [
  {
   "cell_type": "markdown",
   "id": "8a8e54a2",
   "metadata": {},
   "source": [
    "Importamos CSV"
   ]
  },
  {
   "cell_type": "code",
   "execution_count": null,
   "id": "7c0d33ea",
   "metadata": {},
   "outputs": [
    {
     "name": "stdout",
     "output_type": "stream",
     "text": [
      "Conectado al servidor MySQL usando SQLAlchemy\n",
      "Tabla 'Tourist_Accommodation' cargada en el DataFrame: df_tourist.\n",
      "Conexión cerrada\n"
     ]
    }
   ],
   "source": []
  },
  {
   "cell_type": "markdown",
   "id": "725a5ad0",
   "metadata": {},
   "source": [
    "# Sprint 2:"
   ]
  },
  {
   "cell_type": "markdown",
   "id": "2ec34ab3",
   "metadata": {},
   "source": [
    "## KPI"
   ]
  },
  {
   "cell_type": "code",
   "execution_count": null,
   "id": "7d9ee62a",
   "metadata": {},
   "outputs": [],
   "source": []
  },
  {
   "cell_type": "markdown",
   "id": "35f54dd1",
   "metadata": {},
   "source": [
    "## Análisis orientado (Marketing)"
   ]
  },
  {
   "cell_type": "code",
   "execution_count": null,
   "id": "03108a60",
   "metadata": {},
   "outputs": [],
   "source": []
  },
  {
   "cell_type": "markdown",
   "id": "8255a32b",
   "metadata": {},
   "source": [
    "## Análisis orientado a experiencia usuario (Usuario)"
   ]
  },
  {
   "cell_type": "code",
   "execution_count": null,
   "id": "8aa38ea6",
   "metadata": {},
   "outputs": [],
   "source": []
  },
  {
   "cell_type": "markdown",
   "id": "4d774824",
   "metadata": {},
   "source": [
    "## Análisis orientado a negocio (Operaciones)"
   ]
  },
  {
   "cell_type": "code",
   "execution_count": null,
   "id": "a055f889",
   "metadata": {},
   "outputs": [],
   "source": []
  }
 ],
 "metadata": {
  "kernelspec": {
   "display_name": "myenv",
   "language": "python",
   "name": "python3"
  },
  "language_info": {
   "codemirror_mode": {
    "name": "ipython",
    "version": 3
   },
   "file_extension": ".py",
   "mimetype": "text/x-python",
   "name": "python",
   "nbconvert_exporter": "python",
   "pygments_lexer": "ipython3",
   "version": "3.10.13"
  }
 },
 "nbformat": 4,
 "nbformat_minor": 5
}
